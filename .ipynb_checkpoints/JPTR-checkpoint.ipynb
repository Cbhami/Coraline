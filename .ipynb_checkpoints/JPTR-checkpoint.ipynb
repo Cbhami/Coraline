{
 "cells": [
  {
   "cell_type": "code",
   "execution_count": 1,
   "metadata": {},
   "outputs": [
    {
     "name": "stdout",
     "output_type": "stream",
     "text": [
      "Collecting ipy\n",
      "  Using cached IPy-1.01.tar.gz (33 kB)\n",
      "  Preparing metadata (setup.py) ... \u001b[?25ldone\n",
      "\u001b[31mERROR: Could not find a version that satisfies the requirement kernel (from versions: none)\u001b[0m\u001b[31m\n",
      "\u001b[0m\u001b[31mERROR: No matching distribution found for kernel\u001b[0m\u001b[31m\n",
      "\u001b[0m\u001b[33mWARNING: There was an error checking the latest version of pip.\u001b[0m\u001b[33m\n",
      "\u001b[0m\u001b[?25hNote: you may need to restart the kernel to use updated packages.\n"
     ]
    }
   ],
   "source": [
    "%pip install ipy kernel"
   ]
  },
  {
   "cell_type": "code",
   "execution_count": 2,
   "metadata": {},
   "outputs": [
    {
     "name": "stdout",
     "output_type": "stream",
     "text": [
      "Requirement already satisfied: ibm_db in /Users/colehamilton/opt/anaconda3/lib/python3.9/site-packages (3.1.1)\n",
      "\u001b[33mWARNING: There was an error checking the latest version of pip.\u001b[0m\u001b[33m\n",
      "\u001b[0mNote: you may need to restart the kernel to use updated packages.\n",
      "Requirement already satisfied: sqlalchemy==1.3.9 in /Users/colehamilton/opt/anaconda3/lib/python3.9/site-packages (1.3.9)\n",
      "\u001b[33mWARNING: There was an error checking the latest version of pip.\u001b[0m\u001b[33m\n",
      "\u001b[0mRequirement already satisfied: ibm_db_sa in /Users/colehamilton/opt/anaconda3/lib/python3.9/site-packages (0.3.8)\n",
      "Requirement already satisfied: ibm-db>=2.0.0 in /Users/colehamilton/opt/anaconda3/lib/python3.9/site-packages (from ibm_db_sa) (3.1.1)\n",
      "Requirement already satisfied: sqlalchemy>=0.7.3 in /Users/colehamilton/opt/anaconda3/lib/python3.9/site-packages (from ibm_db_sa) (1.3.9)\n",
      "\u001b[33mWARNING: There was an error checking the latest version of pip.\u001b[0m\u001b[33m\n",
      "\u001b[0mRequirement already satisfied: ipython-sql in /Users/colehamilton/opt/anaconda3/lib/python3.9/site-packages (0.4.0)\n",
      "Requirement already satisfied: ipython-genutils>=0.1.0 in /Users/colehamilton/opt/anaconda3/lib/python3.9/site-packages (from ipython-sql) (0.2.0)\n",
      "Requirement already satisfied: ipython>=1.0 in /Users/colehamilton/opt/anaconda3/lib/python3.9/site-packages (from ipython-sql) (7.29.0)\n",
      "Requirement already satisfied: sqlalchemy>=0.6.7 in /Users/colehamilton/opt/anaconda3/lib/python3.9/site-packages (from ipython-sql) (1.3.9)\n",
      "Requirement already satisfied: six in /Users/colehamilton/opt/anaconda3/lib/python3.9/site-packages (from ipython-sql) (1.16.0)\n",
      "Requirement already satisfied: sqlparse in /Users/colehamilton/opt/anaconda3/lib/python3.9/site-packages (from ipython-sql) (0.4.2)\n",
      "Requirement already satisfied: prettytable<1 in /Users/colehamilton/opt/anaconda3/lib/python3.9/site-packages (from ipython-sql) (0.7.2)\n",
      "Requirement already satisfied: pickleshare in /Users/colehamilton/opt/anaconda3/lib/python3.9/site-packages (from ipython>=1.0->ipython-sql) (0.7.5)\n",
      "Requirement already satisfied: setuptools>=18.5 in /Users/colehamilton/opt/anaconda3/lib/python3.9/site-packages (from ipython>=1.0->ipython-sql) (58.0.4)\n",
      "Requirement already satisfied: prompt-toolkit!=3.0.0,!=3.0.1,<3.1.0,>=2.0.0 in /Users/colehamilton/opt/anaconda3/lib/python3.9/site-packages (from ipython>=1.0->ipython-sql) (3.0.20)\n",
      "Requirement already satisfied: pexpect>4.3 in /Users/colehamilton/opt/anaconda3/lib/python3.9/site-packages (from ipython>=1.0->ipython-sql) (4.8.0)\n",
      "Requirement already satisfied: decorator in /Users/colehamilton/opt/anaconda3/lib/python3.9/site-packages (from ipython>=1.0->ipython-sql) (5.1.0)\n",
      "Requirement already satisfied: traitlets>=4.2 in /Users/colehamilton/opt/anaconda3/lib/python3.9/site-packages (from ipython>=1.0->ipython-sql) (5.1.0)\n",
      "Requirement already satisfied: pygments in /Users/colehamilton/opt/anaconda3/lib/python3.9/site-packages (from ipython>=1.0->ipython-sql) (2.10.0)\n",
      "Requirement already satisfied: appnope in /Users/colehamilton/opt/anaconda3/lib/python3.9/site-packages (from ipython>=1.0->ipython-sql) (0.1.2)\n",
      "Requirement already satisfied: backcall in /Users/colehamilton/opt/anaconda3/lib/python3.9/site-packages (from ipython>=1.0->ipython-sql) (0.2.0)\n",
      "Requirement already satisfied: matplotlib-inline in /Users/colehamilton/opt/anaconda3/lib/python3.9/site-packages (from ipython>=1.0->ipython-sql) (0.1.2)\n",
      "Requirement already satisfied: jedi>=0.16 in /Users/colehamilton/opt/anaconda3/lib/python3.9/site-packages (from ipython>=1.0->ipython-sql) (0.18.1)\n",
      "Requirement already satisfied: parso<0.9.0,>=0.8.0 in /Users/colehamilton/opt/anaconda3/lib/python3.9/site-packages (from jedi>=0.16->ipython>=1.0->ipython-sql) (0.8.3)\n",
      "Requirement already satisfied: ptyprocess>=0.5 in /Users/colehamilton/opt/anaconda3/lib/python3.9/site-packages (from pexpect>4.3->ipython>=1.0->ipython-sql) (0.7.0)\n",
      "Requirement already satisfied: wcwidth in /Users/colehamilton/opt/anaconda3/lib/python3.9/site-packages (from prompt-toolkit!=3.0.0,!=3.0.1,<3.1.0,>=2.0.0->ipython>=1.0->ipython-sql) (0.2.5)\n",
      "\u001b[33mWARNING: There was an error checking the latest version of pip.\u001b[0m\u001b[33m\n",
      "\u001b[0m"
     ]
    }
   ],
   "source": [
    "%pip install ibm_db\n",
    "!pip install sqlalchemy==1.3.9\n",
    "!pip install ibm_db_sa\n",
    "!pip install ipython-sql"
   ]
  },
  {
   "cell_type": "code",
   "execution_count": 3,
   "metadata": {},
   "outputs": [],
   "source": [
    "import ibm_db\n",
    "import ibm_db_sa\n",
    "import sqlalchemy\n",
    "%load_ext sql"
   ]
  },
  {
   "cell_type": "code",
   "execution_count": 4,
   "metadata": {},
   "outputs": [
    {
     "name": "stdout",
     "output_type": "stream",
     "text": [
      "The sql extension is already loaded. To reload it, use:\n",
      "  %reload_ext sql\n"
     ]
    }
   ],
   "source": [
    "%load_ext sql\n",
    "sp = 'RUNDATA'"
   ]
  },
  {
   "cell_type": "code",
   "execution_count": null,
   "metadata": {},
   "outputs": [],
   "source": [
    "%sql ibm_db_sa://rcz17807:95pLE2cRR18g9dfa@2f3279a5-73d1-4859-88f0-a6c3e6b4b907.c3n41cmd0nqnrk39u98g.databases.appdomain.cloud:30756/bludb?security=SSL"
   ]
  },
  {
   "cell_type": "code",
   "execution_count": null,
   "metadata": {},
   "outputs": [],
   "source": [
    "%sql SELECT WORKOUT_DATE, ACTIVITY_TYPE, Calories_Burned, DISTANCE__MI_, WORKOUT_TIME__SECONDS_, ROUND(AVG_PACE, 0), AVG_HEART_RATE, STEPS FROM RunData WHERE DISTANCE__MI_ > 3 and WORKOUT_TIME__SECONDS_ < 40000"
   ]
  }
 ],
 "metadata": {
  "kernelspec": {
   "display_name": "Python 3 (ipykernel)",
   "language": "python",
   "name": "python3"
  },
  "language_info": {
   "codemirror_mode": {
    "name": "ipython",
    "version": 3
   },
   "file_extension": ".py",
   "mimetype": "text/x-python",
   "name": "python",
   "nbconvert_exporter": "python",
   "pygments_lexer": "ipython3",
   "version": "3.9.7"
  },
  "vscode": {
   "interpreter": {
    "hash": "14a36532d68eab8e5f13903230c8429a72bebed6cbdd44e08427b987eab2ad72"
   }
  }
 },
 "nbformat": 4,
 "nbformat_minor": 4
}
