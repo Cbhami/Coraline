{
 "cells": [
  {
   "cell_type": "markdown",
   "metadata": {},
   "source": [
    "# Basics of logistic regression"
   ]
  },
  {
   "cell_type": "markdown",
   "metadata": {},
   "source": [
    "## Import the relevant libraries"
   ]
  },
  {
   "cell_type": "code",
   "execution_count": 1,
   "metadata": {},
   "outputs": [],
   "source": [
    "import numpy as np\n",
    "import pandas as pd\n",
    "import statsmodels.api as sm\n",
    "import matplotlib.pyplot as plt\n",
    "import seaborn as sns\n",
    "sns.set()"
   ]
  },
  {
   "cell_type": "markdown",
   "metadata": {},
   "source": [
    "## Load the data"
   ]
  },
  {
   "cell_type": "code",
   "execution_count": 92,
   "metadata": {
    "scrolled": true
   },
   "outputs": [],
   "source": [
    "raw_data = pd.read_csv(r'https://raw.githubusercontent.com/Cbhami/Coraline/master/Resources/csv%20data/user94403143_workout_history.csv')\n",
    "raw_data.head(1)\n",
    "raw_data.columns = raw_data.columns.str.strip()\n",
    "raw_data['Distance (mi)'] = pd.to_numeric(raw_data['Distance (mi)'], errors='coerce')\n",
    "raw_data['Workout Time (seconds)'] = pd.to_numeric(raw_data['Workout Time (seconds)'], errors='coerce')"
   ]
  },
  {
   "cell_type": "code",
   "execution_count": 67,
   "metadata": {},
   "outputs": [],
   "source": [
    "# raw_data['Distance (mi)'] = raw_data['Distance (mi)'].astype(float)"
   ]
  },
  {
   "cell_type": "code",
   "execution_count": 132,
   "metadata": {},
   "outputs": [],
   "source": [
    "#create my bins\n",
    "bins = [0, 6.19, 15]\n",
    "labels = ['No', 'Yes']\n",
    "raw_data['10k'] = pd.cut(raw_data['Distance (mi)'], bins=bins, labels=labels)"
   ]
  },
  {
   "cell_type": "code",
   "execution_count": 133,
   "metadata": {
    "scrolled": true
   },
   "outputs": [
    {
     "data": {
      "text/html": [
       "<div>\n",
       "<style scoped>\n",
       "    .dataframe tbody tr th:only-of-type {\n",
       "        vertical-align: middle;\n",
       "    }\n",
       "\n",
       "    .dataframe tbody tr th {\n",
       "        vertical-align: top;\n",
       "    }\n",
       "\n",
       "    .dataframe thead th {\n",
       "        text-align: right;\n",
       "    }\n",
       "</style>\n",
       "<table border=\"1\" class=\"dataframe\">\n",
       "  <thead>\n",
       "    <tr style=\"text-align: right;\">\n",
       "      <th></th>\n",
       "      <th>Date Submitted</th>\n",
       "      <th>Workout Date</th>\n",
       "      <th>Activity Type</th>\n",
       "      <th>Calories Burned (kCal)</th>\n",
       "      <th>Distance (mi)</th>\n",
       "      <th>Workout Time (seconds)</th>\n",
       "      <th>Avg Pace (min/mi)</th>\n",
       "      <th>Max Pace (min/mi)</th>\n",
       "      <th>Avg Speed (mi/h)</th>\n",
       "      <th>Max Speed (mi/h)</th>\n",
       "      <th>Avg Heart Rate</th>\n",
       "      <th>Steps</th>\n",
       "      <th>Notes</th>\n",
       "      <th>Source</th>\n",
       "      <th>Link</th>\n",
       "      <th>5k</th>\n",
       "      <th>10k</th>\n",
       "      <th>10k2</th>\n",
       "    </tr>\n",
       "  </thead>\n",
       "  <tbody>\n",
       "    <tr>\n",
       "      <th>0</th>\n",
       "      <td>June 4, 2022</td>\n",
       "      <td>June 4, 2022</td>\n",
       "      <td>Run</td>\n",
       "      <td>856</td>\n",
       "      <td>6.24228</td>\n",
       "      <td>3946</td>\n",
       "      <td>10.53330</td>\n",
       "      <td>1.068360</td>\n",
       "      <td>5.69620</td>\n",
       "      <td>56.16070</td>\n",
       "      <td>156.0</td>\n",
       "      <td>10427.0</td>\n",
       "      <td>b''</td>\n",
       "      <td>Map My Fitness MapMyRun iPhone</td>\n",
       "      <td>http://www.mapmyfitness.com/workout/6623599279</td>\n",
       "      <td>Yes</td>\n",
       "      <td>Yes</td>\n",
       "      <td>1</td>\n",
       "    </tr>\n",
       "    <tr>\n",
       "      <th>1</th>\n",
       "      <td>June 3, 2022</td>\n",
       "      <td>June 3, 2022</td>\n",
       "      <td>Run</td>\n",
       "      <td>397</td>\n",
       "      <td>3.10851</td>\n",
       "      <td>1864</td>\n",
       "      <td>9.98908</td>\n",
       "      <td>0.951188</td>\n",
       "      <td>6.00656</td>\n",
       "      <td>63.07900</td>\n",
       "      <td>152.0</td>\n",
       "      <td>4863.0</td>\n",
       "      <td>b''</td>\n",
       "      <td>Map My Fitness MapMyRun iPhone</td>\n",
       "      <td>http://www.mapmyfitness.com/workout/6621191320</td>\n",
       "      <td>Yes</td>\n",
       "      <td>No</td>\n",
       "      <td>0</td>\n",
       "    </tr>\n",
       "    <tr>\n",
       "      <th>2</th>\n",
       "      <td>June 1, 2022</td>\n",
       "      <td>June 1, 2022</td>\n",
       "      <td>Run</td>\n",
       "      <td>416</td>\n",
       "      <td>3.10000</td>\n",
       "      <td>1817</td>\n",
       "      <td>9.76882</td>\n",
       "      <td>0.000000</td>\n",
       "      <td>6.14199</td>\n",
       "      <td>0.00000</td>\n",
       "      <td>NaN</td>\n",
       "      <td>4822.0</td>\n",
       "      <td>b''</td>\n",
       "      <td>Map My Fitness MapMyRun iPhone</td>\n",
       "      <td>http://www.mapmyfitness.com/workout/6615977731</td>\n",
       "      <td>Yes</td>\n",
       "      <td>No</td>\n",
       "      <td>0</td>\n",
       "    </tr>\n",
       "    <tr>\n",
       "      <th>3</th>\n",
       "      <td>May 31, 2022</td>\n",
       "      <td>May 31, 2022</td>\n",
       "      <td>Run</td>\n",
       "      <td>546</td>\n",
       "      <td>4.08000</td>\n",
       "      <td>2377</td>\n",
       "      <td>9.70997</td>\n",
       "      <td>1.282750</td>\n",
       "      <td>6.17922</td>\n",
       "      <td>46.77460</td>\n",
       "      <td>145.0</td>\n",
       "      <td>4048.0</td>\n",
       "      <td>b''</td>\n",
       "      <td>Map My Fitness MapMyRun iPhone</td>\n",
       "      <td>http://www.mapmyfitness.com/workout/6615791770</td>\n",
       "      <td>Yes</td>\n",
       "      <td>No</td>\n",
       "      <td>0</td>\n",
       "    </tr>\n",
       "    <tr>\n",
       "      <th>4</th>\n",
       "      <td>May 30, 2022</td>\n",
       "      <td>May 30, 2022</td>\n",
       "      <td>Run</td>\n",
       "      <td>418</td>\n",
       "      <td>3.10044</td>\n",
       "      <td>1873</td>\n",
       "      <td>10.05970</td>\n",
       "      <td>0.453169</td>\n",
       "      <td>5.96441</td>\n",
       "      <td>132.40100</td>\n",
       "      <td>159.0</td>\n",
       "      <td>4873.0</td>\n",
       "      <td>b''</td>\n",
       "      <td>Map My Fitness MapMyRun iPhone</td>\n",
       "      <td>http://www.mapmyfitness.com/workout/6612772204</td>\n",
       "      <td>Yes</td>\n",
       "      <td>No</td>\n",
       "      <td>0</td>\n",
       "    </tr>\n",
       "    <tr>\n",
       "      <th>...</th>\n",
       "      <td>...</td>\n",
       "      <td>...</td>\n",
       "      <td>...</td>\n",
       "      <td>...</td>\n",
       "      <td>...</td>\n",
       "      <td>...</td>\n",
       "      <td>...</td>\n",
       "      <td>...</td>\n",
       "      <td>...</td>\n",
       "      <td>...</td>\n",
       "      <td>...</td>\n",
       "      <td>...</td>\n",
       "      <td>...</td>\n",
       "      <td>...</td>\n",
       "      <td>...</td>\n",
       "      <td>...</td>\n",
       "      <td>...</td>\n",
       "      <td>...</td>\n",
       "    </tr>\n",
       "    <tr>\n",
       "      <th>675</th>\n",
       "      <td>May 13, 2019</td>\n",
       "      <td>May 13, 2019</td>\n",
       "      <td>Indoor Run / Jog</td>\n",
       "      <td>191</td>\n",
       "      <td>1.42000</td>\n",
       "      <td>927</td>\n",
       "      <td>10.88030</td>\n",
       "      <td>17.088100</td>\n",
       "      <td>5.51456</td>\n",
       "      <td>3.51122</td>\n",
       "      <td>158.0</td>\n",
       "      <td>67.0</td>\n",
       "      <td>b''</td>\n",
       "      <td>Map My Fitness MapMyRun iPhone</td>\n",
       "      <td>http://www.mapmyfitness.com/workout/3540369238</td>\n",
       "      <td>No</td>\n",
       "      <td>No</td>\n",
       "      <td>0</td>\n",
       "    </tr>\n",
       "    <tr>\n",
       "      <th>676</th>\n",
       "      <td>Oct. 19, 2016</td>\n",
       "      <td>Oct. 19, 2016</td>\n",
       "      <td>Class Workout</td>\n",
       "      <td>186</td>\n",
       "      <td>0.00000</td>\n",
       "      <td>3600</td>\n",
       "      <td>0.00000</td>\n",
       "      <td>0.000000</td>\n",
       "      <td>0.00000</td>\n",
       "      <td>0.00000</td>\n",
       "      <td>NaN</td>\n",
       "      <td>NaN</td>\n",
       "      <td>b''</td>\n",
       "      <td>MyFitnessPal</td>\n",
       "      <td>http://www.mapmyfitness.com/workout/1819452119</td>\n",
       "      <td>NaN</td>\n",
       "      <td>NaN</td>\n",
       "      <td>NaN</td>\n",
       "    </tr>\n",
       "    <tr>\n",
       "      <th>677</th>\n",
       "      <td>Oct. 12, 2016</td>\n",
       "      <td>Oct. 12, 2016</td>\n",
       "      <td>Class Workout</td>\n",
       "      <td>183</td>\n",
       "      <td>0.00000</td>\n",
       "      <td>3600</td>\n",
       "      <td>0.00000</td>\n",
       "      <td>0.000000</td>\n",
       "      <td>0.00000</td>\n",
       "      <td>0.00000</td>\n",
       "      <td>NaN</td>\n",
       "      <td>NaN</td>\n",
       "      <td>b''</td>\n",
       "      <td>MyFitnessPal</td>\n",
       "      <td>http://www.mapmyfitness.com/workout/1805719352</td>\n",
       "      <td>NaN</td>\n",
       "      <td>NaN</td>\n",
       "      <td>NaN</td>\n",
       "    </tr>\n",
       "    <tr>\n",
       "      <th>678</th>\n",
       "      <td>Sept. 26, 2016</td>\n",
       "      <td>Sept. 26, 2016</td>\n",
       "      <td>Class Workout</td>\n",
       "      <td>186</td>\n",
       "      <td>0.00000</td>\n",
       "      <td>3600</td>\n",
       "      <td>0.00000</td>\n",
       "      <td>0.000000</td>\n",
       "      <td>0.00000</td>\n",
       "      <td>0.00000</td>\n",
       "      <td>NaN</td>\n",
       "      <td>NaN</td>\n",
       "      <td>b''</td>\n",
       "      <td>MyFitnessPal</td>\n",
       "      <td>http://www.mapmyfitness.com/workout/1773264605</td>\n",
       "      <td>NaN</td>\n",
       "      <td>NaN</td>\n",
       "      <td>NaN</td>\n",
       "    </tr>\n",
       "    <tr>\n",
       "      <th>679</th>\n",
       "      <td>Aug. 12, 2016</td>\n",
       "      <td>Aug. 12, 2016</td>\n",
       "      <td>Class Workout</td>\n",
       "      <td>189</td>\n",
       "      <td>0.00000</td>\n",
       "      <td>3600</td>\n",
       "      <td>0.00000</td>\n",
       "      <td>0.000000</td>\n",
       "      <td>0.00000</td>\n",
       "      <td>0.00000</td>\n",
       "      <td>NaN</td>\n",
       "      <td>NaN</td>\n",
       "      <td>b''</td>\n",
       "      <td>MyFitnessPal</td>\n",
       "      <td>http://www.mapmyfitness.com/workout/1672575152</td>\n",
       "      <td>NaN</td>\n",
       "      <td>NaN</td>\n",
       "      <td>NaN</td>\n",
       "    </tr>\n",
       "  </tbody>\n",
       "</table>\n",
       "<p>680 rows × 18 columns</p>\n",
       "</div>"
      ],
      "text/plain": [
       "     Date Submitted    Workout Date     Activity Type  Calories Burned (kCal)  \\\n",
       "0      June 4, 2022    June 4, 2022               Run                     856   \n",
       "1      June 3, 2022    June 3, 2022               Run                     397   \n",
       "2      June 1, 2022    June 1, 2022               Run                     416   \n",
       "3      May 31, 2022    May 31, 2022               Run                     546   \n",
       "4      May 30, 2022    May 30, 2022               Run                     418   \n",
       "..              ...             ...               ...                     ...   \n",
       "675    May 13, 2019    May 13, 2019  Indoor Run / Jog                     191   \n",
       "676   Oct. 19, 2016   Oct. 19, 2016     Class Workout                     186   \n",
       "677   Oct. 12, 2016   Oct. 12, 2016     Class Workout                     183   \n",
       "678  Sept. 26, 2016  Sept. 26, 2016     Class Workout                     186   \n",
       "679   Aug. 12, 2016   Aug. 12, 2016     Class Workout                     189   \n",
       "\n",
       "     Distance (mi)  Workout Time (seconds)  Avg Pace (min/mi)  \\\n",
       "0          6.24228                    3946           10.53330   \n",
       "1          3.10851                    1864            9.98908   \n",
       "2          3.10000                    1817            9.76882   \n",
       "3          4.08000                    2377            9.70997   \n",
       "4          3.10044                    1873           10.05970   \n",
       "..             ...                     ...                ...   \n",
       "675        1.42000                     927           10.88030   \n",
       "676        0.00000                    3600            0.00000   \n",
       "677        0.00000                    3600            0.00000   \n",
       "678        0.00000                    3600            0.00000   \n",
       "679        0.00000                    3600            0.00000   \n",
       "\n",
       "     Max Pace (min/mi)  Avg Speed (mi/h)  Max Speed (mi/h)  Avg Heart Rate  \\\n",
       "0             1.068360           5.69620          56.16070           156.0   \n",
       "1             0.951188           6.00656          63.07900           152.0   \n",
       "2             0.000000           6.14199           0.00000             NaN   \n",
       "3             1.282750           6.17922          46.77460           145.0   \n",
       "4             0.453169           5.96441         132.40100           159.0   \n",
       "..                 ...               ...               ...             ...   \n",
       "675          17.088100           5.51456           3.51122           158.0   \n",
       "676           0.000000           0.00000           0.00000             NaN   \n",
       "677           0.000000           0.00000           0.00000             NaN   \n",
       "678           0.000000           0.00000           0.00000             NaN   \n",
       "679           0.000000           0.00000           0.00000             NaN   \n",
       "\n",
       "       Steps Notes                          Source  \\\n",
       "0    10427.0   b''  Map My Fitness MapMyRun iPhone   \n",
       "1     4863.0   b''  Map My Fitness MapMyRun iPhone   \n",
       "2     4822.0   b''  Map My Fitness MapMyRun iPhone   \n",
       "3     4048.0   b''  Map My Fitness MapMyRun iPhone   \n",
       "4     4873.0   b''  Map My Fitness MapMyRun iPhone   \n",
       "..       ...   ...                             ...   \n",
       "675     67.0   b''  Map My Fitness MapMyRun iPhone   \n",
       "676      NaN   b''                    MyFitnessPal   \n",
       "677      NaN   b''                    MyFitnessPal   \n",
       "678      NaN   b''                    MyFitnessPal   \n",
       "679      NaN   b''                    MyFitnessPal   \n",
       "\n",
       "                                               Link   5k  10k 10k2  \n",
       "0    http://www.mapmyfitness.com/workout/6623599279  Yes  Yes    1  \n",
       "1    http://www.mapmyfitness.com/workout/6621191320  Yes   No    0  \n",
       "2    http://www.mapmyfitness.com/workout/6615977731  Yes   No    0  \n",
       "3    http://www.mapmyfitness.com/workout/6615791770  Yes   No    0  \n",
       "4    http://www.mapmyfitness.com/workout/6612772204  Yes   No    0  \n",
       "..                                              ...  ...  ...  ...  \n",
       "675  http://www.mapmyfitness.com/workout/3540369238   No   No    0  \n",
       "676  http://www.mapmyfitness.com/workout/1819452119  NaN  NaN  NaN  \n",
       "677  http://www.mapmyfitness.com/workout/1805719352  NaN  NaN  NaN  \n",
       "678  http://www.mapmyfitness.com/workout/1773264605  NaN  NaN  NaN  \n",
       "679  http://www.mapmyfitness.com/workout/1672575152  NaN  NaN  NaN  \n",
       "\n",
       "[680 rows x 18 columns]"
      ]
     },
     "execution_count": 133,
     "metadata": {},
     "output_type": "execute_result"
    }
   ],
   "source": [
    "# Replace all No entries with 0, and all Yes entries with 1\n",
    "data = raw_data.copy()\n",
    "data['10k2'] = data['10k'].map({'Yes': 1, 'No': 0})\n",
    "data"
   ]
  },
  {
   "cell_type": "code",
   "execution_count": 134,
   "metadata": {},
   "outputs": [
    {
     "name": "stdout",
     "output_type": "stream",
     "text": [
      "<class 'pandas.core.frame.DataFrame'>\n",
      "RangeIndex: 680 entries, 0 to 679\n",
      "Data columns (total 19 columns):\n",
      " #   Column                  Non-Null Count  Dtype         \n",
      "---  ------                  --------------  -----         \n",
      " 0   Date Submitted          680 non-null    datetime64[ns]\n",
      " 1   Workout Date            680 non-null    datetime64[ns]\n",
      " 2   Activity Type           680 non-null    object        \n",
      " 3   Calories Burned (kCal)  680 non-null    int64         \n",
      " 4   Distance (mi)           680 non-null    float64       \n",
      " 5   Workout Time (seconds)  680 non-null    int64         \n",
      " 6   Avg Pace (min/mi)       680 non-null    float64       \n",
      " 7   Max Pace (min/mi)       680 non-null    float64       \n",
      " 8   Avg Speed (mi/h)        680 non-null    float64       \n",
      " 9   Max Speed (mi/h)        680 non-null    float64       \n",
      " 10  Avg Heart Rate          448 non-null    float64       \n",
      " 11  Steps                   656 non-null    float64       \n",
      " 12  Notes                   680 non-null    object        \n",
      " 13  Source                  680 non-null    object        \n",
      " 14  Link                    680 non-null    object        \n",
      " 15  5k                      657 non-null    category      \n",
      " 16  10k                     657 non-null    category      \n",
      " 17  10k2                    657 non-null    category      \n",
      " 18  day_of_week             680 non-null    object        \n",
      "dtypes: category(3), datetime64[ns](2), float64(7), int64(2), object(5)\n",
      "memory usage: 87.5+ KB\n"
     ]
    }
   ],
   "source": [
    "data['Workout Date'] = pd.to_datetime(data['Workout Date'])\n",
    "data['Date Submitted'] = pd.to_datetime(data['Date Submitted'])\n",
    "mean_speed = data['Avg Heart Rate'].mean()\n",
    "#temp['Avg_Heart_Rate'].fillna(value = mean_value, inplace = True)\n",
    "\n",
    "#step_value = temp['Steps'].mean()\n",
    "#temp['Steps'].fillna(value = step_value, inplace = True)\n",
    "data['day_of_week']=data['Workout Date'].dt.day_name()\n",
    "data.info()\n"
   ]
  },
  {
   "cell_type": "code",
   "execution_count": 135,
   "metadata": {},
   "outputs": [],
   "source": [
    "data = data[data['Avg Pace (min/mi)'].between(6, 13)]"
   ]
  },
  {
   "cell_type": "code",
   "execution_count": 136,
   "metadata": {},
   "outputs": [
    {
     "data": {
      "text/plain": [
       "(516, 19)"
      ]
     },
     "execution_count": 136,
     "metadata": {},
     "output_type": "execute_result"
    }
   ],
   "source": [
    "data.shape"
   ]
  },
  {
   "cell_type": "code",
   "execution_count": 137,
   "metadata": {},
   "outputs": [
    {
     "name": "stderr",
     "output_type": "stream",
     "text": [
      "C:\\Users\\coleb\\AppData\\Local\\Temp\\ipykernel_28616\\2042630370.py:2: SettingWithCopyWarning: \n",
      "A value is trying to be set on a copy of a slice from a DataFrame\n",
      "\n",
      "See the caveats in the documentation: https://pandas.pydata.org/pandas-docs/stable/user_guide/indexing.html#returning-a-view-versus-a-copy\n",
      "  data['Avg Heart Rate'].fillna(value = meanahr, inplace = True)\n"
     ]
    }
   ],
   "source": [
    "meanahr = data['Avg Heart Rate'].mean()\n",
    "data['Avg Heart Rate'].fillna(value = meanahr, inplace = True)\n",
    "#data.fillna(meanahr, inplace = True)"
   ]
  },
  {
   "cell_type": "code",
   "execution_count": 138,
   "metadata": {},
   "outputs": [],
   "source": [
    "data2 = data.dropna()\n",
    "data2 = data2.drop_duplicates()"
   ]
  },
  {
   "cell_type": "code",
   "execution_count": 139,
   "metadata": {},
   "outputs": [
    {
     "data": {
      "text/plain": [
       "(516, 19)"
      ]
     },
     "execution_count": 139,
     "metadata": {},
     "output_type": "execute_result"
    }
   ],
   "source": [
    "data2.shape"
   ]
  },
  {
   "cell_type": "code",
   "execution_count": 140,
   "metadata": {},
   "outputs": [
    {
     "data": {
      "text/html": [
       "<div>\n",
       "<style scoped>\n",
       "    .dataframe tbody tr th:only-of-type {\n",
       "        vertical-align: middle;\n",
       "    }\n",
       "\n",
       "    .dataframe tbody tr th {\n",
       "        vertical-align: top;\n",
       "    }\n",
       "\n",
       "    .dataframe thead th {\n",
       "        text-align: right;\n",
       "    }\n",
       "</style>\n",
       "<table border=\"1\" class=\"dataframe\">\n",
       "  <thead>\n",
       "    <tr style=\"text-align: right;\">\n",
       "      <th></th>\n",
       "      <th>Calories Burned (kCal)</th>\n",
       "      <th>Distance (mi)</th>\n",
       "      <th>Workout Time (seconds)</th>\n",
       "      <th>Avg Pace (min/mi)</th>\n",
       "      <th>Max Pace (min/mi)</th>\n",
       "      <th>Avg Speed (mi/h)</th>\n",
       "      <th>Max Speed (mi/h)</th>\n",
       "      <th>Avg Heart Rate</th>\n",
       "      <th>Steps</th>\n",
       "    </tr>\n",
       "  </thead>\n",
       "  <tbody>\n",
       "    <tr>\n",
       "      <th>Calories Burned (kCal)</th>\n",
       "      <td>1.000000</td>\n",
       "      <td>0.974388</td>\n",
       "      <td>0.970305</td>\n",
       "      <td>0.251218</td>\n",
       "      <td>-0.143428</td>\n",
       "      <td>-0.249423</td>\n",
       "      <td>0.054412</td>\n",
       "      <td>0.192392</td>\n",
       "      <td>0.961397</td>\n",
       "    </tr>\n",
       "    <tr>\n",
       "      <th>Distance (mi)</th>\n",
       "      <td>0.974388</td>\n",
       "      <td>1.000000</td>\n",
       "      <td>0.982169</td>\n",
       "      <td>0.213681</td>\n",
       "      <td>-0.137806</td>\n",
       "      <td>-0.213932</td>\n",
       "      <td>0.068843</td>\n",
       "      <td>0.232198</td>\n",
       "      <td>0.982305</td>\n",
       "    </tr>\n",
       "    <tr>\n",
       "      <th>Workout Time (seconds)</th>\n",
       "      <td>0.970305</td>\n",
       "      <td>0.982169</td>\n",
       "      <td>1.000000</td>\n",
       "      <td>0.362987</td>\n",
       "      <td>-0.113678</td>\n",
       "      <td>-0.357566</td>\n",
       "      <td>0.084988</td>\n",
       "      <td>0.226202</td>\n",
       "      <td>0.986624</td>\n",
       "    </tr>\n",
       "    <tr>\n",
       "      <th>Avg Pace (min/mi)</th>\n",
       "      <td>0.251218</td>\n",
       "      <td>0.213681</td>\n",
       "      <td>0.362987</td>\n",
       "      <td>1.000000</td>\n",
       "      <td>0.068318</td>\n",
       "      <td>-0.989153</td>\n",
       "      <td>0.053250</td>\n",
       "      <td>0.138135</td>\n",
       "      <td>0.313577</td>\n",
       "    </tr>\n",
       "    <tr>\n",
       "      <th>Max Pace (min/mi)</th>\n",
       "      <td>-0.143428</td>\n",
       "      <td>-0.137806</td>\n",
       "      <td>-0.113678</td>\n",
       "      <td>0.068318</td>\n",
       "      <td>1.000000</td>\n",
       "      <td>-0.080909</td>\n",
       "      <td>-0.081252</td>\n",
       "      <td>0.023084</td>\n",
       "      <td>-0.150903</td>\n",
       "    </tr>\n",
       "    <tr>\n",
       "      <th>Avg Speed (mi/h)</th>\n",
       "      <td>-0.249423</td>\n",
       "      <td>-0.213932</td>\n",
       "      <td>-0.357566</td>\n",
       "      <td>-0.989153</td>\n",
       "      <td>-0.080909</td>\n",
       "      <td>1.000000</td>\n",
       "      <td>-0.052070</td>\n",
       "      <td>-0.150471</td>\n",
       "      <td>-0.314939</td>\n",
       "    </tr>\n",
       "    <tr>\n",
       "      <th>Max Speed (mi/h)</th>\n",
       "      <td>0.054412</td>\n",
       "      <td>0.068843</td>\n",
       "      <td>0.084988</td>\n",
       "      <td>0.053250</td>\n",
       "      <td>-0.081252</td>\n",
       "      <td>-0.052070</td>\n",
       "      <td>1.000000</td>\n",
       "      <td>0.038805</td>\n",
       "      <td>0.082758</td>\n",
       "    </tr>\n",
       "    <tr>\n",
       "      <th>Avg Heart Rate</th>\n",
       "      <td>0.192392</td>\n",
       "      <td>0.232198</td>\n",
       "      <td>0.226202</td>\n",
       "      <td>0.138135</td>\n",
       "      <td>0.023084</td>\n",
       "      <td>-0.150471</td>\n",
       "      <td>0.038805</td>\n",
       "      <td>1.000000</td>\n",
       "      <td>0.225847</td>\n",
       "    </tr>\n",
       "    <tr>\n",
       "      <th>Steps</th>\n",
       "      <td>0.961397</td>\n",
       "      <td>0.982305</td>\n",
       "      <td>0.986624</td>\n",
       "      <td>0.313577</td>\n",
       "      <td>-0.150903</td>\n",
       "      <td>-0.314939</td>\n",
       "      <td>0.082758</td>\n",
       "      <td>0.225847</td>\n",
       "      <td>1.000000</td>\n",
       "    </tr>\n",
       "  </tbody>\n",
       "</table>\n",
       "</div>"
      ],
      "text/plain": [
       "                        Calories Burned (kCal)  Distance (mi)  \\\n",
       "Calories Burned (kCal)                1.000000       0.974388   \n",
       "Distance (mi)                         0.974388       1.000000   \n",
       "Workout Time (seconds)                0.970305       0.982169   \n",
       "Avg Pace (min/mi)                     0.251218       0.213681   \n",
       "Max Pace (min/mi)                    -0.143428      -0.137806   \n",
       "Avg Speed (mi/h)                     -0.249423      -0.213932   \n",
       "Max Speed (mi/h)                      0.054412       0.068843   \n",
       "Avg Heart Rate                        0.192392       0.232198   \n",
       "Steps                                 0.961397       0.982305   \n",
       "\n",
       "                        Workout Time (seconds)  Avg Pace (min/mi)  \\\n",
       "Calories Burned (kCal)                0.970305           0.251218   \n",
       "Distance (mi)                         0.982169           0.213681   \n",
       "Workout Time (seconds)                1.000000           0.362987   \n",
       "Avg Pace (min/mi)                     0.362987           1.000000   \n",
       "Max Pace (min/mi)                    -0.113678           0.068318   \n",
       "Avg Speed (mi/h)                     -0.357566          -0.989153   \n",
       "Max Speed (mi/h)                      0.084988           0.053250   \n",
       "Avg Heart Rate                        0.226202           0.138135   \n",
       "Steps                                 0.986624           0.313577   \n",
       "\n",
       "                        Max Pace (min/mi)  Avg Speed (mi/h)  Max Speed (mi/h)  \\\n",
       "Calories Burned (kCal)          -0.143428         -0.249423          0.054412   \n",
       "Distance (mi)                   -0.137806         -0.213932          0.068843   \n",
       "Workout Time (seconds)          -0.113678         -0.357566          0.084988   \n",
       "Avg Pace (min/mi)                0.068318         -0.989153          0.053250   \n",
       "Max Pace (min/mi)                1.000000         -0.080909         -0.081252   \n",
       "Avg Speed (mi/h)                -0.080909          1.000000         -0.052070   \n",
       "Max Speed (mi/h)                -0.081252         -0.052070          1.000000   \n",
       "Avg Heart Rate                   0.023084         -0.150471          0.038805   \n",
       "Steps                           -0.150903         -0.314939          0.082758   \n",
       "\n",
       "                        Avg Heart Rate     Steps  \n",
       "Calories Burned (kCal)        0.192392  0.961397  \n",
       "Distance (mi)                 0.232198  0.982305  \n",
       "Workout Time (seconds)        0.226202  0.986624  \n",
       "Avg Pace (min/mi)             0.138135  0.313577  \n",
       "Max Pace (min/mi)             0.023084 -0.150903  \n",
       "Avg Speed (mi/h)             -0.150471 -0.314939  \n",
       "Max Speed (mi/h)              0.038805  0.082758  \n",
       "Avg Heart Rate                1.000000  0.225847  \n",
       "Steps                         0.225847  1.000000  "
      ]
     },
     "execution_count": 140,
     "metadata": {},
     "output_type": "execute_result"
    }
   ],
   "source": [
    "data.corr()"
   ]
  },
  {
   "cell_type": "markdown",
   "metadata": {},
   "source": [
    "## Variables"
   ]
  },
  {
   "cell_type": "code",
   "execution_count": 141,
   "metadata": {},
   "outputs": [],
   "source": [
    "# Create the dependent and independent variables\n",
    "y = data2['10k2']\n",
    "x1 = data2['Calories Burned (kCal)']"
   ]
  },
  {
   "cell_type": "code",
   "execution_count": 142,
   "metadata": {},
   "outputs": [
    {
     "data": {
      "text/plain": [
       "(516,)"
      ]
     },
     "execution_count": 142,
     "metadata": {},
     "output_type": "execute_result"
    }
   ],
   "source": [
    "y.shape"
   ]
  },
  {
   "cell_type": "code",
   "execution_count": 143,
   "metadata": {},
   "outputs": [
    {
     "data": {
      "text/plain": [
       "(516,)"
      ]
     },
     "execution_count": 143,
     "metadata": {},
     "output_type": "execute_result"
    }
   ],
   "source": [
    "x1.shape"
   ]
  },
  {
   "cell_type": "code",
   "execution_count": 144,
   "metadata": {},
   "outputs": [
    {
     "name": "stdout",
     "output_type": "stream",
     "text": [
      "Optimization terminated successfully.\n",
      "         Current function value: 0.048371\n",
      "         Iterations 11\n"
     ]
    },
    {
     "data": {
      "text/html": [
       "<table class=\"simpletable\">\n",
       "<caption>Logit Regression Results</caption>\n",
       "<tr>\n",
       "  <th>Dep. Variable:</th>         <td>10k2</td>       <th>  No. Observations:  </th>  <td>   516</td>  \n",
       "</tr>\n",
       "<tr>\n",
       "  <th>Model:</th>                 <td>Logit</td>      <th>  Df Residuals:      </th>  <td>   514</td>  \n",
       "</tr>\n",
       "<tr>\n",
       "  <th>Method:</th>                 <td>MLE</td>       <th>  Df Model:          </th>  <td>     1</td>  \n",
       "</tr>\n",
       "<tr>\n",
       "  <th>Date:</th>            <td>Sun, 05 Jun 2022</td> <th>  Pseudo R-squ.:     </th>  <td>0.8624</td>  \n",
       "</tr>\n",
       "<tr>\n",
       "  <th>Time:</th>                <td>13:15:30</td>     <th>  Log-Likelihood:    </th> <td> -24.959</td> \n",
       "</tr>\n",
       "<tr>\n",
       "  <th>converged:</th>             <td>True</td>       <th>  LL-Null:           </th> <td> -181.38</td> \n",
       "</tr>\n",
       "<tr>\n",
       "  <th>Covariance Type:</th>     <td>nonrobust</td>    <th>  LLR p-value:       </th> <td>5.255e-70</td>\n",
       "</tr>\n",
       "</table>\n",
       "<table class=\"simpletable\">\n",
       "<tr>\n",
       "             <td></td>               <th>coef</th>     <th>std err</th>      <th>z</th>      <th>P>|z|</th>  <th>[0.025</th>    <th>0.975]</th>  \n",
       "</tr>\n",
       "<tr>\n",
       "  <th>const</th>                  <td>  -16.8849</td> <td>    2.685</td> <td>   -6.288</td> <td> 0.000</td> <td>  -22.148</td> <td>  -11.622</td>\n",
       "</tr>\n",
       "<tr>\n",
       "  <th>Calories Burned (kCal)</th> <td>    0.0229</td> <td>    0.004</td> <td>    6.361</td> <td> 0.000</td> <td>    0.016</td> <td>    0.030</td>\n",
       "</tr>\n",
       "</table><br/><br/>Possibly complete quasi-separation: A fraction 0.27 of observations can be<br/>perfectly predicted. This might indicate that there is complete<br/>quasi-separation. In this case some parameters will not be identified."
      ],
      "text/plain": [
       "<class 'statsmodels.iolib.summary.Summary'>\n",
       "\"\"\"\n",
       "                           Logit Regression Results                           \n",
       "==============================================================================\n",
       "Dep. Variable:                   10k2   No. Observations:                  516\n",
       "Model:                          Logit   Df Residuals:                      514\n",
       "Method:                           MLE   Df Model:                            1\n",
       "Date:                Sun, 05 Jun 2022   Pseudo R-squ.:                  0.8624\n",
       "Time:                        13:15:30   Log-Likelihood:                -24.959\n",
       "converged:                       True   LL-Null:                       -181.38\n",
       "Covariance Type:            nonrobust   LLR p-value:                 5.255e-70\n",
       "==========================================================================================\n",
       "                             coef    std err          z      P>|z|      [0.025      0.975]\n",
       "------------------------------------------------------------------------------------------\n",
       "const                    -16.8849      2.685     -6.288      0.000     -22.148     -11.622\n",
       "Calories Burned (kCal)     0.0229      0.004      6.361      0.000       0.016       0.030\n",
       "==========================================================================================\n",
       "\n",
       "Possibly complete quasi-separation: A fraction 0.27 of observations can be\n",
       "perfectly predicted. This might indicate that there is complete\n",
       "quasi-separation. In this case some parameters will not be identified.\n",
       "\"\"\""
      ]
     },
     "execution_count": 144,
     "metadata": {},
     "output_type": "execute_result"
    }
   ],
   "source": [
    "x = sm.add_constant(x1)\n",
    "reg_log = sm.Logit(y,x)\n",
    "results_log = reg_log.fit()\n",
    "results_log.summary()"
   ]
  },
  {
   "cell_type": "markdown",
   "metadata": {},
   "source": [
    "## Let's plot the data"
   ]
  },
  {
   "cell_type": "markdown",
   "metadata": {},
   "source": [
    "### Scatter plot"
   ]
  },
  {
   "cell_type": "code",
   "execution_count": 145,
   "metadata": {},
   "outputs": [
    {
     "data": {
      "image/png": "[encoded data removed]",
      "text/plain": [
       "<Figure size 432x288 with 1 Axes>"
      ]
     },
     "metadata": {},
     "output_type": "display_data"
    }
   ],
   "source": [
    "# Create a scatter plot of x1 (SAT, no constant) and y (Admitted)\n",
    "plt.scatter(x1,y, color='C0')\n",
    "# Don't forget to label your axes!\n",
    "plt.xlabel('Distance', fontsize = 20)\n",
    "plt.ylabel('5k2', fontsize = 20)\n",
    "plt.show()"
   ]
  },
  {
   "cell_type": "markdown",
   "metadata": {},
   "source": [
    "### Plot with a regression line"
   ]
  },
  {
   "cell_type": "code",
   "execution_count": 146,
   "metadata": {},
   "outputs": [
    {
     "data": {
      "image/png": "[encoded data removed]",
      "text/plain": [
       "<Figure size 432x288 with 1 Axes>"
      ]
     },
     "metadata": {},
     "output_type": "display_data"
    }
   ],
   "source": [
    "# Create a linear regression on the data in order to estimate the coefficients and be able to plot a regression line\n",
    "# The data is not linear, so the linear regression doesn't make much sense\n",
    "x = sm.add_constant(x1)\n",
    "# I'll call it reg_lin, instead of reg, as we will be dealing with logistic regressions later on\n",
    "reg_lin = sm.OLS(y,x)\n",
    "# I'll segment it into regression and fitted regression (results) as I can use the results as an object for some operations\n",
    "results_lin = reg_lin.fit()\n",
    "\n",
    "# Create a scatter plot\n",
    "plt.scatter(x1,y,color = 'C0')\n",
    "# Plot the regression line. The coefficients are coming from results_lin.params\n",
    "y_hat = x1*results_lin.params[1]+results_lin.params[0]\n",
    "plt.plot(x1,y_hat,lw=2.5,color='C8')\n",
    "plt.xlabel('Distance (mi)', fontsize = 20)\n",
    "plt.ylabel('10k', fontsize = 20)\n",
    "plt.show()"
   ]
  },
  {
   "cell_type": "markdown",
   "metadata": {},
   "source": [
    "### Plot a logistic regression curve"
   ]
  },
  {
   "cell_type": "code",
   "execution_count": 147,
   "metadata": {},
   "outputs": [
    {
     "name": "stdout",
     "output_type": "stream",
     "text": [
      "Optimization terminated successfully.\n",
      "         Current function value: 0.048371\n",
      "         Iterations 11\n"
     ]
    },
    {
     "data": {
      "image/png": "[encoded data removed]",
      "text/plain": [
       "<Figure size 432x288 with 1 Axes>"
      ]
     },
     "metadata": {},
     "output_type": "display_data"
    }
   ],
   "source": [
    "reg_log = sm.Logit(y,x)\n",
    "results_log = reg_log.fit()\n",
    "\n",
    "def f(x,b0,b1):\n",
    "    return np.array(np.exp(b0+x*b1) / (1 + np.exp(b0+x*b1)))\n",
    "\n",
    "f_sorted = np.sort(f(x1,results_log.params[0],results_log.params[1]))\n",
    "x_sorted = np.sort(np.array(x1))\n",
    "\n",
    "plt.scatter(x1,y,color='C0')\n",
    "plt.xlabel('Distance (mi)', fontsize = 20)\n",
    "plt.ylabel('5k', fontsize = 20)\n",
    "plt.plot(x_sorted,f_sorted,color='C8')\n",
    "plt.show()"
   ]
  },
  {
   "cell_type": "code",
   "execution_count": 148,
   "metadata": {},
   "outputs": [
    {
     "name": "stdout",
     "output_type": "stream",
     "text": [
      "Optimization terminated successfully.\n",
      "         Current function value: 0.048371\n",
      "         Iterations 11\n"
     ]
    },
    {
     "data": {
      "image/png": "[encoded data removed]",
      "text/plain": [
       "<Figure size 432x288 with 1 Axes>"
      ]
     },
     "metadata": {},
     "output_type": "display_data"
    }
   ],
   "source": [
    "# Creating a logit regression (we will discuss this in another notebook)\n",
    "reg_log = sm.Logit(y,x)\n",
    "# Fitting the regression\n",
    "results_log = reg_log.fit()\n",
    "\n",
    "# Creating a logit function, depending on the input and coefficients\n",
    "def f(x,b0,b1):\n",
    "    return np.array(np.exp(b0+x*b1) / (1 + np.exp(b0+x*b1)))\n",
    "\n",
    "# Sorting the y and x, so we can plot the curve\n",
    "f_sorted = np.sort(f(x1,results_log.params[0],results_log.params[1]))\n",
    "x_sorted = np.sort(np.array(x1))\n",
    "plt.scatter(x1,y,color='C0')\n",
    "plt.xlabel('SAT', fontsize = 20)\n",
    "plt.ylabel('Admitted', fontsize = 20)\n",
    "# Plotting the curve\n",
    "plt.plot(x_sorted,f_sorted,color='C8')\n",
    "plt.show()"
   ]
  },
  {
   "cell_type": "markdown",
   "metadata": {},
   "source": [
    "## Cluster Analysis"
   ]
  },
  {
   "cell_type": "code",
   "execution_count": 149,
   "metadata": {},
   "outputs": [
    {
     "data": {
      "text/html": [
       "<div>\n",
       "<style scoped>\n",
       "    .dataframe tbody tr th:only-of-type {\n",
       "        vertical-align: middle;\n",
       "    }\n",
       "\n",
       "    .dataframe tbody tr th {\n",
       "        vertical-align: top;\n",
       "    }\n",
       "\n",
       "    .dataframe thead th {\n",
       "        text-align: right;\n",
       "    }\n",
       "</style>\n",
       "<table border=\"1\" class=\"dataframe\">\n",
       "  <thead>\n",
       "    <tr style=\"text-align: right;\">\n",
       "      <th></th>\n",
       "      <th>Date Submitted</th>\n",
       "      <th>Workout Date</th>\n",
       "      <th>Activity Type</th>\n",
       "      <th>Calories Burned (kCal)</th>\n",
       "      <th>Distance (mi)</th>\n",
       "      <th>Workout Time (seconds)</th>\n",
       "      <th>Avg Pace (min/mi)</th>\n",
       "      <th>Max Pace (min/mi)</th>\n",
       "      <th>Avg Speed (mi/h)</th>\n",
       "      <th>Max Speed (mi/h)</th>\n",
       "      <th>Avg Heart Rate</th>\n",
       "      <th>Steps</th>\n",
       "      <th>Notes</th>\n",
       "      <th>Source</th>\n",
       "      <th>Link</th>\n",
       "      <th>5k</th>\n",
       "      <th>10k</th>\n",
       "      <th>10k2</th>\n",
       "      <th>day_of_week</th>\n",
       "    </tr>\n",
       "  </thead>\n",
       "  <tbody>\n",
       "    <tr>\n",
       "      <th>0</th>\n",
       "      <td>2022-06-04</td>\n",
       "      <td>2022-06-04</td>\n",
       "      <td>Run</td>\n",
       "      <td>856</td>\n",
       "      <td>6.24228</td>\n",
       "      <td>3946</td>\n",
       "      <td>10.5333</td>\n",
       "      <td>1.06836</td>\n",
       "      <td>5.6962</td>\n",
       "      <td>56.1607</td>\n",
       "      <td>156.0</td>\n",
       "      <td>10427.0</td>\n",
       "      <td>b''</td>\n",
       "      <td>Map My Fitness MapMyRun iPhone</td>\n",
       "      <td>http://www.mapmyfitness.com/workout/6623599279</td>\n",
       "      <td>Yes</td>\n",
       "      <td>Yes</td>\n",
       "      <td>1</td>\n",
       "      <td>Saturday</td>\n",
       "    </tr>\n",
       "  </tbody>\n",
       "</table>\n",
       "</div>"
      ],
      "text/plain": [
       "  Date Submitted Workout Date Activity Type  Calories Burned (kCal)  \\\n",
       "0     2022-06-04   2022-06-04           Run                     856   \n",
       "\n",
       "   Distance (mi)  Workout Time (seconds)  Avg Pace (min/mi)  \\\n",
       "0        6.24228                    3946            10.5333   \n",
       "\n",
       "   Max Pace (min/mi)  Avg Speed (mi/h)  Max Speed (mi/h)  Avg Heart Rate  \\\n",
       "0            1.06836            5.6962           56.1607           156.0   \n",
       "\n",
       "     Steps Notes                          Source  \\\n",
       "0  10427.0   b''  Map My Fitness MapMyRun iPhone   \n",
       "\n",
       "                                             Link   5k  10k 10k2 day_of_week  \n",
       "0  http://www.mapmyfitness.com/workout/6623599279  Yes  Yes    1    Saturday  "
      ]
     },
     "execution_count": 149,
     "metadata": {},
     "output_type": "execute_result"
    }
   ],
   "source": [
    "data.head(1)"
   ]
  },
  {
   "cell_type": "code",
   "execution_count": 150,
   "metadata": {},
   "outputs": [],
   "source": [
    "def warn(*args, **kwargs):\n",
    "    pass\n",
    "import warnings\n",
    "warnings.warn = warn\n",
    "\n",
    "import pandas as pd, numpy as np, matplotlib.pyplot as plt, os, sys, seaborn as sns"
   ]
  },
  {
   "cell_type": "code",
   "execution_count": 151,
   "metadata": {},
   "outputs": [
    {
     "data": {
      "text/html": [
       "<div>\n",
       "<style scoped>\n",
       "    .dataframe tbody tr th:only-of-type {\n",
       "        vertical-align: middle;\n",
       "    }\n",
       "\n",
       "    .dataframe tbody tr th {\n",
       "        vertical-align: top;\n",
       "    }\n",
       "\n",
       "    .dataframe thead th {\n",
       "        text-align: right;\n",
       "    }\n",
       "</style>\n",
       "<table border=\"1\" class=\"dataframe\">\n",
       "  <thead>\n",
       "    <tr style=\"text-align: right;\">\n",
       "      <th></th>\n",
       "      <th>Calories Burned (kCal)</th>\n",
       "      <th>Distance (mi)</th>\n",
       "      <th>Workout Time (seconds)</th>\n",
       "      <th>Avg Pace (min/mi)</th>\n",
       "      <th>Max Pace (min/mi)</th>\n",
       "      <th>Avg Speed (mi/h)</th>\n",
       "      <th>Max Speed (mi/h)</th>\n",
       "      <th>Avg Heart Rate</th>\n",
       "      <th>Steps</th>\n",
       "    </tr>\n",
       "  </thead>\n",
       "  <tbody>\n",
       "    <tr>\n",
       "      <th>count</th>\n",
       "      <td>516.00</td>\n",
       "      <td>516.00</td>\n",
       "      <td>516.00</td>\n",
       "      <td>516.00</td>\n",
       "      <td>516.00</td>\n",
       "      <td>516.00</td>\n",
       "      <td>516.00</td>\n",
       "      <td>516.00</td>\n",
       "      <td>516.00</td>\n",
       "    </tr>\n",
       "    <tr>\n",
       "      <th>mean</th>\n",
       "      <td>447.48</td>\n",
       "      <td>3.54</td>\n",
       "      <td>2054.67</td>\n",
       "      <td>9.56</td>\n",
       "      <td>1.35</td>\n",
       "      <td>6.33</td>\n",
       "      <td>47.03</td>\n",
       "      <td>123.23</td>\n",
       "      <td>5444.41</td>\n",
       "    </tr>\n",
       "    <tr>\n",
       "      <th>std</th>\n",
       "      <td>251.58</td>\n",
       "      <td>1.91</td>\n",
       "      <td>1229.00</td>\n",
       "      <td>0.91</td>\n",
       "      <td>2.59</td>\n",
       "      <td>0.57</td>\n",
       "      <td>126.48</td>\n",
       "      <td>45.54</td>\n",
       "      <td>3196.37</td>\n",
       "    </tr>\n",
       "    <tr>\n",
       "      <th>min</th>\n",
       "      <td>2.00</td>\n",
       "      <td>0.02</td>\n",
       "      <td>10.00</td>\n",
       "      <td>7.77</td>\n",
       "      <td>0.00</td>\n",
       "      <td>4.63</td>\n",
       "      <td>0.00</td>\n",
       "      <td>0.00</td>\n",
       "      <td>8.00</td>\n",
       "    </tr>\n",
       "    <tr>\n",
       "      <th>25%</th>\n",
       "      <td>340.50</td>\n",
       "      <td>2.90</td>\n",
       "      <td>1552.50</td>\n",
       "      <td>8.95</td>\n",
       "      <td>0.00</td>\n",
       "      <td>6.03</td>\n",
       "      <td>0.00</td>\n",
       "      <td>123.23</td>\n",
       "      <td>4127.50</td>\n",
       "    </tr>\n",
       "    <tr>\n",
       "      <th>50%</th>\n",
       "      <td>407.50</td>\n",
       "      <td>3.10</td>\n",
       "      <td>1800.00</td>\n",
       "      <td>9.50</td>\n",
       "      <td>0.79</td>\n",
       "      <td>6.32</td>\n",
       "      <td>16.44</td>\n",
       "      <td>123.23</td>\n",
       "      <td>4789.00</td>\n",
       "    </tr>\n",
       "    <tr>\n",
       "      <th>75%</th>\n",
       "      <td>468.00</td>\n",
       "      <td>3.86</td>\n",
       "      <td>2187.00</td>\n",
       "      <td>9.96</td>\n",
       "      <td>1.15</td>\n",
       "      <td>6.70</td>\n",
       "      <td>61.91</td>\n",
       "      <td>152.00</td>\n",
       "      <td>5895.75</td>\n",
       "    </tr>\n",
       "    <tr>\n",
       "      <th>max</th>\n",
       "      <td>1928.00</td>\n",
       "      <td>13.48</td>\n",
       "      <td>10191.00</td>\n",
       "      <td>12.95</td>\n",
       "      <td>31.95</td>\n",
       "      <td>7.72</td>\n",
       "      <td>1814.43</td>\n",
       "      <td>169.00</td>\n",
       "      <td>23604.00</td>\n",
       "    </tr>\n",
       "  </tbody>\n",
       "</table>\n",
       "</div>"
      ],
      "text/plain": [
       "       Calories Burned (kCal)  Distance (mi)  Workout Time (seconds)  \\\n",
       "count                  516.00         516.00                  516.00   \n",
       "mean                   447.48           3.54                 2054.67   \n",
       "std                    251.58           1.91                 1229.00   \n",
       "min                      2.00           0.02                   10.00   \n",
       "25%                    340.50           2.90                 1552.50   \n",
       "50%                    407.50           3.10                 1800.00   \n",
       "75%                    468.00           3.86                 2187.00   \n",
       "max                   1928.00          13.48                10191.00   \n",
       "\n",
       "       Avg Pace (min/mi)  Max Pace (min/mi)  Avg Speed (mi/h)  \\\n",
       "count             516.00             516.00            516.00   \n",
       "mean                9.56               1.35              6.33   \n",
       "std                 0.91               2.59              0.57   \n",
       "min                 7.77               0.00              4.63   \n",
       "25%                 8.95               0.00              6.03   \n",
       "50%                 9.50               0.79              6.32   \n",
       "75%                 9.96               1.15              6.70   \n",
       "max                12.95              31.95              7.72   \n",
       "\n",
       "       Max Speed (mi/h)  Avg Heart Rate     Steps  \n",
       "count            516.00          516.00    516.00  \n",
       "mean              47.03          123.23   5444.41  \n",
       "std              126.48           45.54   3196.37  \n",
       "min                0.00            0.00      8.00  \n",
       "25%                0.00          123.23   4127.50  \n",
       "50%               16.44          123.23   4789.00  \n",
       "75%               61.91          152.00   5895.75  \n",
       "max             1814.43          169.00  23604.00  "
      ]
     },
     "execution_count": 151,
     "metadata": {},
     "output_type": "execute_result"
    }
   ],
   "source": [
    "round(data.describe(),2)"
   ]
  },
  {
   "cell_type": "code",
   "execution_count": 153,
   "metadata": {},
   "outputs": [
    {
     "data": {
      "text/html": [
       "<div>\n",
       "<style scoped>\n",
       "    .dataframe tbody tr th:only-of-type {\n",
       "        vertical-align: middle;\n",
       "    }\n",
       "\n",
       "    .dataframe tbody tr th {\n",
       "        vertical-align: top;\n",
       "    }\n",
       "\n",
       "    .dataframe thead th {\n",
       "        text-align: right;\n",
       "    }\n",
       "</style>\n",
       "<table border=\"1\" class=\"dataframe\">\n",
       "  <thead>\n",
       "    <tr style=\"text-align: right;\">\n",
       "      <th></th>\n",
       "      <th>Unique Values</th>\n",
       "    </tr>\n",
       "    <tr>\n",
       "      <th>Variable</th>\n",
       "      <th></th>\n",
       "    </tr>\n",
       "  </thead>\n",
       "  <tbody>\n",
       "    <tr>\n",
       "      <th>Date Submitted</th>\n",
       "      <td>444</td>\n",
       "    </tr>\n",
       "    <tr>\n",
       "      <th>Workout Date</th>\n",
       "      <td>470</td>\n",
       "    </tr>\n",
       "    <tr>\n",
       "      <th>Activity Type</th>\n",
       "      <td>4</td>\n",
       "    </tr>\n",
       "    <tr>\n",
       "      <th>Calories Burned (kCal)</th>\n",
       "      <td>292</td>\n",
       "    </tr>\n",
       "    <tr>\n",
       "      <th>Distance (mi)</th>\n",
       "      <td>392</td>\n",
       "    </tr>\n",
       "    <tr>\n",
       "      <th>Workout Time (seconds)</th>\n",
       "      <td>424</td>\n",
       "    </tr>\n",
       "    <tr>\n",
       "      <th>Avg Pace (min/mi)</th>\n",
       "      <td>499</td>\n",
       "    </tr>\n",
       "    <tr>\n",
       "      <th>Max Pace (min/mi)</th>\n",
       "      <td>319</td>\n",
       "    </tr>\n",
       "    <tr>\n",
       "      <th>Avg Speed (mi/h)</th>\n",
       "      <td>501</td>\n",
       "    </tr>\n",
       "    <tr>\n",
       "      <th>Max Speed (mi/h)</th>\n",
       "      <td>319</td>\n",
       "    </tr>\n",
       "    <tr>\n",
       "      <th>Avg Heart Rate</th>\n",
       "      <td>49</td>\n",
       "    </tr>\n",
       "    <tr>\n",
       "      <th>Steps</th>\n",
       "      <td>476</td>\n",
       "    </tr>\n",
       "    <tr>\n",
       "      <th>Notes</th>\n",
       "      <td>7</td>\n",
       "    </tr>\n",
       "    <tr>\n",
       "      <th>Source</th>\n",
       "      <td>1</td>\n",
       "    </tr>\n",
       "    <tr>\n",
       "      <th>Link</th>\n",
       "      <td>516</td>\n",
       "    </tr>\n",
       "    <tr>\n",
       "      <th>5k</th>\n",
       "      <td>2</td>\n",
       "    </tr>\n",
       "    <tr>\n",
       "      <th>10k</th>\n",
       "      <td>2</td>\n",
       "    </tr>\n",
       "    <tr>\n",
       "      <th>10k2</th>\n",
       "      <td>2</td>\n",
       "    </tr>\n",
       "    <tr>\n",
       "      <th>day_of_week</th>\n",
       "      <td>7</td>\n",
       "    </tr>\n",
       "  </tbody>\n",
       "</table>\n",
       "</div>"
      ],
      "text/plain": [
       "                        Unique Values\n",
       "Variable                             \n",
       "Date Submitted                    444\n",
       "Workout Date                      470\n",
       "Activity Type                       4\n",
       "Calories Burned (kCal)            292\n",
       "Distance (mi)                     392\n",
       "Workout Time (seconds)            424\n",
       "Avg Pace (min/mi)                 499\n",
       "Max Pace (min/mi)                 319\n",
       "Avg Speed (mi/h)                  501\n",
       "Max Speed (mi/h)                  319\n",
       "Avg Heart Rate                     49\n",
       "Steps                             476\n",
       "Notes                               7\n",
       "Source                              1\n",
       "Link                              516\n",
       "5k                                  2\n",
       "10k                                 2\n",
       "10k2                                2\n",
       "day_of_week                         7"
      ]
     },
     "execution_count": 153,
     "metadata": {},
     "output_type": "execute_result"
    }
   ],
   "source": [
    "\n",
    "df_uniques = pd.DataFrame([[i, len(data[i].unique())] for i in data.columns], columns=['Variable', 'Unique Values']).set_index('Variable')\n",
    "df_uniques"
   ]
  },
  {
   "cell_type": "code",
   "execution_count": 154,
   "metadata": {},
   "outputs": [
    {
     "data": {
      "text/plain": [
       "['5k', '10k', '10k2']"
      ]
     },
     "execution_count": 154,
     "metadata": {},
     "output_type": "execute_result"
    }
   ],
   "source": [
    "binary_variables = list(df_uniques[df_uniques['Unique Values'] == 2].index)\n",
    "binary_variables"
   ]
  },
  {
   "cell_type": "code",
   "execution_count": 155,
   "metadata": {},
   "outputs": [
    {
     "data": {
      "text/plain": [
       "['Activity Type']"
      ]
     },
     "execution_count": 155,
     "metadata": {},
     "output_type": "execute_result"
    }
   ],
   "source": [
    "categorical_variables = list(df_uniques[(6 >= df_uniques['Unique Values']) & (df_uniques['Unique Values'] > 2)].index)\n",
    "categorical_variables"
   ]
  },
  {
   "cell_type": "code",
   "execution_count": 156,
   "metadata": {},
   "outputs": [
    {
     "data": {
      "text/plain": [
       "[['Activity Type', ['Run', 'Indoor Run / Jog', 'Machine Workout', 'Walk']]]"
      ]
     },
     "execution_count": 156,
     "metadata": {},
     "output_type": "execute_result"
    }
   ],
   "source": [
    "[[i, list(data[i].unique())] for i in categorical_variables]"
   ]
  },
  {
   "cell_type": "code",
   "execution_count": 157,
   "metadata": {},
   "outputs": [],
   "source": [
    "ordinal_variables = ['Run', 'Walk']"
   ]
  },
  {
   "cell_type": "code",
   "execution_count": 158,
   "metadata": {},
   "outputs": [
    {
     "data": {
      "text/plain": [
       "array(['Saturday', 'Friday', 'Wednesday', 'Tuesday', 'Monday', 'Sunday',\n",
       "       'Thursday'], dtype=object)"
      ]
     },
     "execution_count": 158,
     "metadata": {},
     "output_type": "execute_result"
    }
   ],
   "source": [
    "data['day_of_week'].unique()"
   ]
  },
  {
   "cell_type": "code",
   "execution_count": 159,
   "metadata": {},
   "outputs": [],
   "source": [
    "ordinal_variables.append('day_of_week')"
   ]
  },
  {
   "cell_type": "code",
   "execution_count": 161,
   "metadata": {},
   "outputs": [],
   "source": [
    "numeric_variables = list(set(data.columns) - set(ordinal_variables) - set(categorical_variables) - set(binary_variables))"
   ]
  },
  {
   "cell_type": "code",
   "execution_count": 162,
   "metadata": {},
   "outputs": [
    {
     "data": {
      "text/plain": [
       "array([[<AxesSubplot:title={'center':'Steps'}>,\n",
       "        <AxesSubplot:title={'center':'Max Speed (mi/h)'}>,\n",
       "        <AxesSubplot:title={'center':'Avg Speed (mi/h)'}>],\n",
       "       [<AxesSubplot:title={'center':'Distance (mi)'}>,\n",
       "        <AxesSubplot:title={'center':'Avg Pace (min/mi)'}>,\n",
       "        <AxesSubplot:title={'center':'Workout Date'}>],\n",
       "       [<AxesSubplot:title={'center':'Workout Time (seconds)'}>,\n",
       "        <AxesSubplot:title={'center':'Avg Heart Rate'}>,\n",
       "        <AxesSubplot:title={'center':'Max Pace (min/mi)'}>],\n",
       "       [<AxesSubplot:title={'center':'Date Submitted'}>,\n",
       "        <AxesSubplot:title={'center':'Calories Burned (kCal)'}>,\n",
       "        <AxesSubplot:>]], dtype=object)"
      ]
     },
     "execution_count": 162,
     "metadata": {},
     "output_type": "execute_result"
    },
    {
     "data": {
      "image/png": "[encoded data removed]",
      "text/plain": [
       "<Figure size 864x432 with 12 Axes>"
      ]
     },
     "metadata": {},
     "output_type": "display_data"
    }
   ],
   "source": [
    "data[numeric_variables].hist(figsize=(12, 6))"
   ]
  },
  {
   "cell_type": "code",
   "execution_count": 164,
   "metadata": {},
   "outputs": [],
   "source": [
    "# data['day_of_week'] = pd.cut(data['day_of_week'], bins=5)"
   ]
  },
  {
   "cell_type": "markdown",
   "metadata": {},
   "source": [
    "Having set up the variables, remember that the K-nearest neighbors algorithm uses distance and hence requires scaled data.\n",
    "Scale the data using one of the scaling methods discussed in the course.\n",
    "Save the processed dataframe as a comma-separated file: "
   ]
  },
  {
   "cell_type": "code",
   "execution_count": 165,
   "metadata": {},
   "outputs": [],
   "source": [
    "from sklearn.preprocessing import LabelBinarizer, LabelEncoder, OrdinalEncoder"
   ]
  },
  {
   "cell_type": "code",
   "execution_count": 166,
   "metadata": {},
   "outputs": [],
   "source": [
    "lb, le = LabelBinarizer(), LabelEncoder()"
   ]
  },
  {
   "cell_type": "code",
   "execution_count": 169,
   "metadata": {},
   "outputs": [],
   "source": [
    "# for column in ordinal_variables:\n",
    "#     data[column] = le.fit_transform(data[column])"
   ]
  },
  {
   "cell_type": "code",
   "execution_count": 170,
   "metadata": {},
   "outputs": [],
   "source": [
    "from sklearn.preprocessing import MinMaxScaler\n",
    "mm = MinMaxScaler()"
   ]
  },
  {
   "cell_type": "code",
   "execution_count": 173,
   "metadata": {},
   "outputs": [],
   "source": [
    "# for column in [ordinal_variables + numeric_variables]:\n",
    "#     data[column] = mm.fit_transform(data[column])"
   ]
  },
  {
   "cell_type": "code",
   "execution_count": 175,
   "metadata": {},
   "outputs": [],
   "source": [
    "### BEGIN SOLUTION\n",
    "from sklearn.model_selection import train_test_split\n",
    "from sklearn.neighbors import KNeighborsClassifier\n",
    "from sklearn.metrics import confusion_matrix, accuracy_score, classification_report, f1_score"
   ]
  },
  {
   "cell_type": "code",
   "execution_count": 217,
   "metadata": {},
   "outputs": [],
   "source": [
    "df = data"
   ]
  },
  {
   "cell_type": "code",
   "execution_count": 218,
   "metadata": {},
   "outputs": [
    {
     "name": "stdout",
     "output_type": "stream",
     "text": [
      "<class 'pandas.core.frame.DataFrame'>\n",
      "Int64Index: 516 entries, 0 to 675\n",
      "Data columns (total 19 columns):\n",
      " #   Column                  Non-Null Count  Dtype         \n",
      "---  ------                  --------------  -----         \n",
      " 0   Date Submitted          516 non-null    datetime64[ns]\n",
      " 1   Workout Date            516 non-null    datetime64[ns]\n",
      " 2   Activity Type           516 non-null    object        \n",
      " 3   Calories Burned (kCal)  516 non-null    int64         \n",
      " 4   Distance (mi)           516 non-null    float64       \n",
      " 5   Workout Time (seconds)  516 non-null    int64         \n",
      " 6   Avg Pace (min/mi)       516 non-null    float64       \n",
      " 7   Max Pace (min/mi)       516 non-null    float64       \n",
      " 8   Avg Speed (mi/h)        516 non-null    float64       \n",
      " 9   Max Speed (mi/h)        516 non-null    float64       \n",
      " 10  Avg Heart Rate          516 non-null    float64       \n",
      " 11  Steps                   516 non-null    float64       \n",
      " 12  Notes                   516 non-null    object        \n",
      " 13  Source                  516 non-null    object        \n",
      " 14  Link                    516 non-null    object        \n",
      " 15  5k                      516 non-null    category      \n",
      " 16  10k                     516 non-null    category      \n",
      " 17  10k2                    516 non-null    category      \n",
      " 18  day_of_week             516 non-null    object        \n",
      "dtypes: category(3), datetime64[ns](2), float64(7), int64(2), object(5)\n",
      "memory usage: 70.4+ KB\n"
     ]
    },
    {
     "data": {
      "text/plain": [
       "Index(['Date Submitted', 'Workout Date', 'Activity Type',\n",
       "       'Calories Burned (kCal)', 'Distance (mi)', 'Workout Time (seconds)',\n",
       "       'Avg Pace (min/mi)', 'Max Pace (min/mi)', 'Avg Speed (mi/h)',\n",
       "       'Max Speed (mi/h)', 'Avg Heart Rate', 'Steps', 'Notes', 'Source',\n",
       "       'Link', '5k', '10k', '10k2', 'day_of_week'],\n",
       "      dtype='object')"
      ]
     },
     "execution_count": 218,
     "metadata": {},
     "output_type": "execute_result"
    }
   ],
   "source": [
    "df.info()\n",
    "df.columns"
   ]
  },
  {
   "cell_type": "code",
   "execution_count": 219,
   "metadata": {},
   "outputs": [],
   "source": [
    "df = df[['Calories Burned (kCal)', 'Distance (mi)', 'Workout Time (seconds)',\n",
    "       'Avg Pace (min/mi)', 'Max Pace (min/mi)', 'Avg Speed (mi/h)',\n",
    "       'Max Speed (mi/h)', 'Steps', '10k2']].round(0)"
   ]
  },
  {
   "cell_type": "code",
   "execution_count": 229,
   "metadata": {},
   "outputs": [],
   "source": [
    "# Set up X and y variables\n",
    "y, X = df['10k2'], df.drop(columns='10k2')\n",
    "# Split the data into training and test samples\n",
    "X_train, X_test, y_train, y_test = train_test_split(X, y, test_size=0.4, random_state=42)"
   ]
  },
  {
   "cell_type": "code",
   "execution_count": 230,
   "metadata": {},
   "outputs": [
    {
     "name": "stdout",
     "output_type": "stream",
     "text": [
      "              precision    recall  f1-score   support\n",
      "\n",
      "           0       0.99      1.00      1.00       181\n",
      "           1       1.00      0.96      0.98        26\n",
      "\n",
      "    accuracy                           1.00       207\n",
      "   macro avg       1.00      0.98      0.99       207\n",
      "weighted avg       1.00      1.00      1.00       207\n",
      "\n",
      "Accuracy score:  1.0\n",
      "F1 Score:  0.98\n"
     ]
    }
   ],
   "source": [
    "# Estimate KNN model and report outcomes\n",
    "knn = KNeighborsClassifier(n_neighbors=3)\n",
    "knn = knn.fit(X_train, y_train)\n",
    "y_pred = knn.predict(X_test)\n",
    "# Preciision, recall, f-score from the multi-class support function\n",
    "print(classification_report(y_test, y_pred))\n",
    "print('Accuracy score: ', round(accuracy_score(y_test, y_pred), 2))\n",
    "print('F1 Score: ', round(f1_score(y_test, y_pred), 2))"
   ]
  },
  {
   "cell_type": "code",
   "execution_count": 231,
   "metadata": {},
   "outputs": [
    {
     "data": {
      "text/plain": [
       "Text(0.5, 84.5, 'Ground Truth')"
      ]
     },
     "execution_count": 231,
     "metadata": {},
     "output_type": "execute_result"
    },
    {
     "data": {
      "image/png": "[encoded data removed]",
      "text/plain": [
       "<Figure size 864x864 with 2 Axes>"
      ]
     },
     "metadata": {},
     "output_type": "display_data"
    }
   ],
   "source": [
    "# Plot confusion matrix\n",
    "sns.set_palette(sns.color_palette())\n",
    "_, ax = plt.subplots(figsize=(12,12))\n",
    "ax = sns.heatmap(confusion_matrix(y_test, y_pred), annot=True, fmt='d', annot_kws={\"size\": 40, \"weight\": \"bold\"})  \n",
    "labels = ['False', 'True']\n",
    "ax.set_xticklabels(labels, fontsize=25);\n",
    "ax.set_yticklabels(labels[::-1], fontsize=25);\n",
    "ax.set_ylabel('Prediction', fontsize=30);\n",
    "ax.set_xlabel('Ground Truth', fontsize=30)\n",
    "### END SOLUTION"
   ]
  },
  {
   "cell_type": "markdown",
   "metadata": {},
   "source": [
    "Using the same split of training and test samples, estimate another K-Nearest Neighbors model.\n",
    "This time, use K=5 and weight the results by distance.\n",
    "Again, examine the Precision, Recall, F-1 Score, and Accuracy of the classification, and visualize the Confusion Matrix."
   ]
  },
  {
   "cell_type": "code",
   "execution_count": 232,
   "metadata": {},
   "outputs": [
    {
     "name": "stdout",
     "output_type": "stream",
     "text": [
      "              precision    recall  f1-score   support\n",
      "\n",
      "           0       0.99      1.00      1.00       181\n",
      "           1       1.00      0.96      0.98        26\n",
      "\n",
      "    accuracy                           1.00       207\n",
      "   macro avg       1.00      0.98      0.99       207\n",
      "weighted avg       1.00      1.00      1.00       207\n",
      "\n",
      "Accuracy score:  1.0\n",
      "F1 Score:  0.98\n"
     ]
    }
   ],
   "source": [
    "knn = KNeighborsClassifier(n_neighbors=5, weights='distance')\n",
    "knn = knn.fit(X_train, y_train)\n",
    "y_pred = knn.predict(X_test)\n",
    "# Preciision, recall, f-score from the multi-class support function\n",
    "print(classification_report(y_test, y_pred))\n",
    "print('Accuracy score: ', round(accuracy_score(y_test, y_pred), 2))\n",
    "print('F1 Score: ', round(f1_score(y_test, y_pred), 2))"
   ]
  },
  {
   "cell_type": "code",
   "execution_count": 233,
   "metadata": {},
   "outputs": [
    {
     "data": {
      "text/plain": [
       "Text(0.5, 84.5, 'Ground Truth')"
      ]
     },
     "execution_count": 233,
     "metadata": {},
     "output_type": "execute_result"
    },
    {
     "data": {
      "image/png": "[encoded data removed]",
      "text/plain": [
       "<Figure size 864x864 with 2 Axes>"
      ]
     },
     "metadata": {},
     "output_type": "display_data"
    }
   ],
   "source": [
    "# Plot confusion matrix\n",
    "_, ax = plt.subplots(figsize=(12,12))\n",
    "ax = sns.heatmap(confusion_matrix(y_test, y_pred), annot=True, fmt='d', annot_kws={\"size\": 40, \"weight\": \"bold\"})  \n",
    "labels = ['False', 'True']\n",
    "ax.set_xticklabels(labels, fontsize=25);\n",
    "ax.set_yticklabels(labels[::-1], fontsize=25);\n",
    "ax.set_ylabel('Prediction', fontsize=30);\n",
    "ax.set_xlabel('Ground Truth', fontsize=30)\n",
    "### END SOLUTION"
   ]
  },
  {
   "cell_type": "code",
   "execution_count": 234,
   "metadata": {},
   "outputs": [],
   "source": [
    "### BEGIN SOLUTION\n",
    "max_k = 40\n",
    "f1_scores = list()\n",
    "error_rates = list() # 1-accuracy\n",
    "\n",
    "for k in range(1, max_k):\n",
    "    \n",
    "    knn = KNeighborsClassifier(n_neighbors=k, weights='distance')\n",
    "    knn = knn.fit(X_train, y_train)\n",
    "    \n",
    "    y_pred = knn.predict(X_test)\n",
    "    f1 = f1_score(y_pred, y_test)\n",
    "    f1_scores.append((k, round(f1_score(y_test, y_pred), 4)))\n",
    "    error = 1-round(accuracy_score(y_test, y_pred), 4)\n",
    "    error_rates.append((k, error))\n",
    "    \n",
    "f1_results = pd.DataFrame(f1_scores, columns=['K', 'F1 Score'])\n",
    "error_results = pd.DataFrame(error_rates, columns=['K', 'Error Rate'])"
   ]
  },
  {
   "cell_type": "code",
   "execution_count": 235,
   "metadata": {},
   "outputs": [
    {
     "data": {
      "text/plain": [
       "<Figure size 1800x1200 with 0 Axes>"
      ]
     },
     "metadata": {},
     "output_type": "display_data"
    },
    {
     "data": {
      "image/png": "[encoded data removed]",
      "text/plain": [
       "<Figure size 864x864 with 1 Axes>"
      ]
     },
     "metadata": {},
     "output_type": "display_data"
    }
   ],
   "source": [
    "# Plot F1 results\n",
    "sns.set_context('talk')\n",
    "sns.set_style('ticks')\n",
    "\n",
    "plt.figure(dpi=300)\n",
    "ax = f1_results.set_index('K').plot(figsize=(12, 12), linewidth=6)\n",
    "ax.set(xlabel='K', ylabel='F1 Score')\n",
    "ax.set_xticks(range(1, max_k, 2));\n",
    "plt.title('KNN F1 Score')\n",
    "plt.savefig('knn_f1.png')"
   ]
  },
  {
   "cell_type": "code",
   "execution_count": 236,
   "metadata": {},
   "outputs": [
    {
     "data": {
      "text/plain": [
       "<Figure size 1800x1200 with 0 Axes>"
      ]
     },
     "metadata": {},
     "output_type": "display_data"
    },
    {
     "data": {
      "image/png": "[encoded data removed]",
      "text/plain": [
       "<Figure size 864x864 with 1 Axes>"
      ]
     },
     "metadata": {},
     "output_type": "display_data"
    }
   ],
   "source": [
    "# Plot Accuracy (Error Rate) results\n",
    "sns.set_context('talk')\n",
    "sns.set_style('ticks')\n",
    "\n",
    "plt.figure(dpi=300)\n",
    "ax = error_results.set_index('K').plot(figsize=(12, 12), linewidth=6)\n",
    "ax.set(xlabel='K', ylabel='Error Rate')\n",
    "ax.set_xticks(range(1, max_k, 2))\n",
    "plt.title('KNN Elbow Curve')\n",
    "plt.savefig('knn_elbow.png')\n",
    "### END SOLUTION"
   ]
  },
  {
   "cell_type": "markdown",
   "metadata": {},
   "source": [
    "## KNN"
   ]
  },
  {
   "cell_type": "code",
   "execution_count": 305,
   "metadata": {},
   "outputs": [],
   "source": [
    "data2 = data[['Calories Burned (kCal)', 'Workout Time (seconds)', 'Avg Pace (min/mi)', 'Max Pace (min/mi)', 'Avg Speed (mi/h)', 'Max Speed (mi/h)', 'Steps', 'Distance (mi)', '10k2']]"
   ]
  },
  {
   "cell_type": "code",
   "execution_count": 306,
   "metadata": {},
   "outputs": [],
   "source": [
    "X = data2.iloc[:, :-1]\n",
    "y = data2.iloc[:, -1:]"
   ]
  },
  {
   "cell_type": "code",
   "execution_count": 307,
   "metadata": {},
   "outputs": [
    {
     "data": {
      "text/html": [
       "<div>\n",
       "<style scoped>\n",
       "    .dataframe tbody tr th:only-of-type {\n",
       "        vertical-align: middle;\n",
       "    }\n",
       "\n",
       "    .dataframe tbody tr th {\n",
       "        vertical-align: top;\n",
       "    }\n",
       "\n",
       "    .dataframe thead th {\n",
       "        text-align: right;\n",
       "    }\n",
       "</style>\n",
       "<table border=\"1\" class=\"dataframe\">\n",
       "  <thead>\n",
       "    <tr style=\"text-align: right;\">\n",
       "      <th></th>\n",
       "      <th>Calories Burned (kCal)</th>\n",
       "      <th>Workout Time (seconds)</th>\n",
       "      <th>Avg Pace (min/mi)</th>\n",
       "      <th>Max Pace (min/mi)</th>\n",
       "      <th>Avg Speed (mi/h)</th>\n",
       "      <th>Max Speed (mi/h)</th>\n",
       "      <th>Steps</th>\n",
       "      <th>Distance (mi)</th>\n",
       "    </tr>\n",
       "  </thead>\n",
       "  <tbody>\n",
       "    <tr>\n",
       "      <th>count</th>\n",
       "      <td>516.000000</td>\n",
       "      <td>516.000000</td>\n",
       "      <td>516.000000</td>\n",
       "      <td>516.000000</td>\n",
       "      <td>516.000000</td>\n",
       "      <td>516.000000</td>\n",
       "      <td>516.000000</td>\n",
       "      <td>516.000000</td>\n",
       "    </tr>\n",
       "    <tr>\n",
       "      <th>mean</th>\n",
       "      <td>447.484496</td>\n",
       "      <td>2054.668605</td>\n",
       "      <td>9.562409</td>\n",
       "      <td>1.351160</td>\n",
       "      <td>6.327553</td>\n",
       "      <td>47.030610</td>\n",
       "      <td>5444.414729</td>\n",
       "      <td>3.541362</td>\n",
       "    </tr>\n",
       "    <tr>\n",
       "      <th>std</th>\n",
       "      <td>251.582181</td>\n",
       "      <td>1228.997066</td>\n",
       "      <td>0.906790</td>\n",
       "      <td>2.590481</td>\n",
       "      <td>0.565956</td>\n",
       "      <td>126.475776</td>\n",
       "      <td>3196.365506</td>\n",
       "      <td>1.912918</td>\n",
       "    </tr>\n",
       "    <tr>\n",
       "      <th>min</th>\n",
       "      <td>2.000000</td>\n",
       "      <td>10.000000</td>\n",
       "      <td>7.774190</td>\n",
       "      <td>0.000000</td>\n",
       "      <td>4.633750</td>\n",
       "      <td>0.000000</td>\n",
       "      <td>8.000000</td>\n",
       "      <td>0.015731</td>\n",
       "    </tr>\n",
       "    <tr>\n",
       "      <th>25%</th>\n",
       "      <td>340.500000</td>\n",
       "      <td>1552.500000</td>\n",
       "      <td>8.949298</td>\n",
       "      <td>0.000000</td>\n",
       "      <td>6.025730</td>\n",
       "      <td>0.000000</td>\n",
       "      <td>4127.500000</td>\n",
       "      <td>2.897500</td>\n",
       "    </tr>\n",
       "    <tr>\n",
       "      <th>50%</th>\n",
       "      <td>407.500000</td>\n",
       "      <td>1800.000000</td>\n",
       "      <td>9.499410</td>\n",
       "      <td>0.792641</td>\n",
       "      <td>6.316180</td>\n",
       "      <td>16.439650</td>\n",
       "      <td>4789.000000</td>\n",
       "      <td>3.100000</td>\n",
       "    </tr>\n",
       "    <tr>\n",
       "      <th>75%</th>\n",
       "      <td>468.000000</td>\n",
       "      <td>2187.000000</td>\n",
       "      <td>9.957292</td>\n",
       "      <td>1.148737</td>\n",
       "      <td>6.704437</td>\n",
       "      <td>61.907650</td>\n",
       "      <td>5895.750000</td>\n",
       "      <td>3.860532</td>\n",
       "    </tr>\n",
       "    <tr>\n",
       "      <th>max</th>\n",
       "      <td>1928.000000</td>\n",
       "      <td>10191.000000</td>\n",
       "      <td>12.948500</td>\n",
       "      <td>31.954800</td>\n",
       "      <td>7.717840</td>\n",
       "      <td>1814.430000</td>\n",
       "      <td>23604.000000</td>\n",
       "      <td>13.481600</td>\n",
       "    </tr>\n",
       "  </tbody>\n",
       "</table>\n",
       "</div>"
      ],
      "text/plain": [
       "       Calories Burned (kCal)  Workout Time (seconds)  Avg Pace (min/mi)  \\\n",
       "count              516.000000              516.000000         516.000000   \n",
       "mean               447.484496             2054.668605           9.562409   \n",
       "std                251.582181             1228.997066           0.906790   \n",
       "min                  2.000000               10.000000           7.774190   \n",
       "25%                340.500000             1552.500000           8.949298   \n",
       "50%                407.500000             1800.000000           9.499410   \n",
       "75%                468.000000             2187.000000           9.957292   \n",
       "max               1928.000000            10191.000000          12.948500   \n",
       "\n",
       "       Max Pace (min/mi)  Avg Speed (mi/h)  Max Speed (mi/h)         Steps  \\\n",
       "count         516.000000        516.000000        516.000000    516.000000   \n",
       "mean            1.351160          6.327553         47.030610   5444.414729   \n",
       "std             2.590481          0.565956        126.475776   3196.365506   \n",
       "min             0.000000          4.633750          0.000000      8.000000   \n",
       "25%             0.000000          6.025730          0.000000   4127.500000   \n",
       "50%             0.792641          6.316180         16.439650   4789.000000   \n",
       "75%             1.148737          6.704437         61.907650   5895.750000   \n",
       "max            31.954800          7.717840       1814.430000  23604.000000   \n",
       "\n",
       "       Distance (mi)  \n",
       "count     516.000000  \n",
       "mean        3.541362  \n",
       "std         1.912918  \n",
       "min         0.015731  \n",
       "25%         2.897500  \n",
       "50%         3.100000  \n",
       "75%         3.860532  \n",
       "max        13.481600  "
      ]
     },
     "execution_count": 307,
     "metadata": {},
     "output_type": "execute_result"
    }
   ],
   "source": [
    "X.describe()"
   ]
  },
  {
   "cell_type": "code",
   "execution_count": 308,
   "metadata": {},
   "outputs": [
    {
     "data": {
      "text/plain": [
       "10k2\n",
       "0       0.887597\n",
       "1       0.112403\n",
       "dtype: float64"
      ]
     },
     "execution_count": 308,
     "metadata": {},
     "output_type": "execute_result"
    }
   ],
   "source": [
    "y.value_counts(normalize=True)"
   ]
  },
  {
   "cell_type": "code",
   "execution_count": 309,
   "metadata": {},
   "outputs": [
    {
     "data": {
      "text/plain": [
       "<AxesSubplot:xlabel='10k2'>"
      ]
     },
     "execution_count": 309,
     "metadata": {},
     "output_type": "execute_result"
    },
    {
     "data": {
      "image/png": "[encoded data removed]",
      "text/plain": [
       "<Figure size 432x288 with 1 Axes>"
      ]
     },
     "metadata": {
      "needs_background": "light"
     },
     "output_type": "display_data"
    }
   ],
   "source": [
    "y.value_counts().plot.bar(color=['green', 'red'])"
   ]
  },
  {
   "cell_type": "code",
   "execution_count": 310,
   "metadata": {},
   "outputs": [],
   "source": [
    "# Split 80% as training dataset\n",
    "# and 20% as testing dataset\n",
    "rs=123\n",
    "X_train, X_test, y_train, y_test = train_test_split(X, y, test_size=0.2, stratify=y, random_state = rs)"
   ]
  },
  {
   "cell_type": "markdown",
   "metadata": {},
   "source": [
    "Training a KNN classifier is very similar to training other classifiers in `sklearn`, we first need to define a `KNeighborsClassifier` object. Here we use `n_neighbors=2` argument to specify how many neighbors will be used for prediction, and we keep other arguments to be their default values.\n"
   ]
  },
  {
   "cell_type": "code",
   "execution_count": 311,
   "metadata": {},
   "outputs": [],
   "source": [
    "# Define a KNN classifier with `n_neighbors=2`\n",
    "knn_model = KNeighborsClassifier(n_neighbors=2)"
   ]
  },
  {
   "cell_type": "code",
   "execution_count": 312,
   "metadata": {},
   "outputs": [
    {
     "data": {
      "text/plain": [
       "KNeighborsClassifier(n_neighbors=2)"
      ]
     },
     "execution_count": 312,
     "metadata": {},
     "output_type": "execute_result"
    }
   ],
   "source": [
    "knn_model.fit(X_train, y_train.values.ravel())"
   ]
  },
  {
   "cell_type": "code",
   "execution_count": 313,
   "metadata": {},
   "outputs": [],
   "source": [
    "preds = knn_model.predict(X_test)"
   ]
  },
  {
   "cell_type": "code",
   "execution_count": 314,
   "metadata": {},
   "outputs": [],
   "source": [
    "import pandas as pd\n",
    "import numpy as np\n",
    "from sklearn.neighbors import KNeighborsClassifier\n",
    "from sklearn.model_selection import train_test_split\n",
    "from sklearn import metrics\n",
    "# Evaluation metrics related methods\n",
    "from sklearn.metrics import classification_report, accuracy_score, f1_score, confusion_matrix, precision_recall_fscore_support, precision_score, recall_score\n",
    "import matplotlib.pyplot as plt\n",
    "import seaborn as sns\n",
    "%matplotlib inline"
   ]
  },
  {
   "cell_type": "code",
   "execution_count": 315,
   "metadata": {},
   "outputs": [],
   "source": [
    "def evaluate_metrics(yt, yp):\n",
    "    results_pos = {}\n",
    "    results_pos['accuracy'] = accuracy_score(yt, yp)\n",
    "    precision, recall, f_beta, _ = precision_recall_fscore_support(yt, yp, average='micro')\n",
    "    results_pos['recall'] = recall\n",
    "    results_pos['precision'] = precision\n",
    "    results_pos['f1score'] = f_beta\n",
    "    return results_pos"
   ]
  },
  {
   "cell_type": "code",
   "execution_count": 316,
   "metadata": {},
   "outputs": [
    {
     "data": {
      "text/plain": [
       "{'accuracy': 0.9807692307692307,\n",
       " 'recall': 0.9807692307692307,\n",
       " 'precision': 0.9807692307692307,\n",
       " 'f1score': 0.9807692307692307}"
      ]
     },
     "execution_count": 316,
     "metadata": {},
     "output_type": "execute_result"
    }
   ],
   "source": [
    "evaluate_metrics(y_test, preds)"
   ]
  },
  {
   "cell_type": "code",
   "execution_count": 317,
   "metadata": {},
   "outputs": [
    {
     "data": {
      "text/plain": [
       "{'accuracy': 1.0, 'recall': 1.0, 'precision': 1.0, 'f1score': 1.0}"
      ]
     },
     "execution_count": 317,
     "metadata": {},
     "output_type": "execute_result"
    }
   ],
   "source": [
    "model = KNeighborsClassifier(n_neighbors=5)\n",
    "model.fit(X_train, y_train.values.ravel())\n",
    "preds = model.predict(X_test)\n",
    "evaluate_metrics(y_test, preds)"
   ]
  },
  {
   "cell_type": "code",
   "execution_count": 318,
   "metadata": {},
   "outputs": [],
   "source": [
    "# Try K from 1 to 50\n",
    "max_k = 50\n",
    "# Create an empty list to store f1score for each k\n",
    "f1_scores = []"
   ]
  },
  {
   "cell_type": "code",
   "execution_count": 319,
   "metadata": {},
   "outputs": [
    {
     "data": {
      "text/html": [
       "<div>\n",
       "<style scoped>\n",
       "    .dataframe tbody tr th:only-of-type {\n",
       "        vertical-align: middle;\n",
       "    }\n",
       "\n",
       "    .dataframe tbody tr th {\n",
       "        vertical-align: top;\n",
       "    }\n",
       "\n",
       "    .dataframe thead th {\n",
       "        text-align: right;\n",
       "    }\n",
       "</style>\n",
       "<table border=\"1\" class=\"dataframe\">\n",
       "  <thead>\n",
       "    <tr style=\"text-align: right;\">\n",
       "      <th></th>\n",
       "      <th>F1 Score</th>\n",
       "    </tr>\n",
       "    <tr>\n",
       "      <th>K</th>\n",
       "      <th></th>\n",
       "    </tr>\n",
       "  </thead>\n",
       "  <tbody>\n",
       "    <tr>\n",
       "      <th>1</th>\n",
       "      <td>0.9600</td>\n",
       "    </tr>\n",
       "    <tr>\n",
       "      <th>2</th>\n",
       "      <td>0.9091</td>\n",
       "    </tr>\n",
       "    <tr>\n",
       "      <th>3</th>\n",
       "      <td>0.9600</td>\n",
       "    </tr>\n",
       "    <tr>\n",
       "      <th>4</th>\n",
       "      <td>0.9565</td>\n",
       "    </tr>\n",
       "    <tr>\n",
       "      <th>5</th>\n",
       "      <td>1.0000</td>\n",
       "    </tr>\n",
       "    <tr>\n",
       "      <th>6</th>\n",
       "      <td>1.0000</td>\n",
       "    </tr>\n",
       "    <tr>\n",
       "      <th>7</th>\n",
       "      <td>0.9600</td>\n",
       "    </tr>\n",
       "    <tr>\n",
       "      <th>8</th>\n",
       "      <td>1.0000</td>\n",
       "    </tr>\n",
       "    <tr>\n",
       "      <th>9</th>\n",
       "      <td>0.9600</td>\n",
       "    </tr>\n",
       "    <tr>\n",
       "      <th>10</th>\n",
       "      <td>0.9600</td>\n",
       "    </tr>\n",
       "    <tr>\n",
       "      <th>11</th>\n",
       "      <td>0.9600</td>\n",
       "    </tr>\n",
       "    <tr>\n",
       "      <th>12</th>\n",
       "      <td>0.9600</td>\n",
       "    </tr>\n",
       "    <tr>\n",
       "      <th>13</th>\n",
       "      <td>0.9600</td>\n",
       "    </tr>\n",
       "    <tr>\n",
       "      <th>14</th>\n",
       "      <td>0.9600</td>\n",
       "    </tr>\n",
       "    <tr>\n",
       "      <th>15</th>\n",
       "      <td>0.9600</td>\n",
       "    </tr>\n",
       "    <tr>\n",
       "      <th>16</th>\n",
       "      <td>0.9600</td>\n",
       "    </tr>\n",
       "    <tr>\n",
       "      <th>17</th>\n",
       "      <td>0.9600</td>\n",
       "    </tr>\n",
       "    <tr>\n",
       "      <th>18</th>\n",
       "      <td>0.9600</td>\n",
       "    </tr>\n",
       "    <tr>\n",
       "      <th>19</th>\n",
       "      <td>0.9600</td>\n",
       "    </tr>\n",
       "    <tr>\n",
       "      <th>20</th>\n",
       "      <td>0.9600</td>\n",
       "    </tr>\n",
       "    <tr>\n",
       "      <th>21</th>\n",
       "      <td>0.9600</td>\n",
       "    </tr>\n",
       "    <tr>\n",
       "      <th>22</th>\n",
       "      <td>0.9600</td>\n",
       "    </tr>\n",
       "    <tr>\n",
       "      <th>23</th>\n",
       "      <td>0.9600</td>\n",
       "    </tr>\n",
       "    <tr>\n",
       "      <th>24</th>\n",
       "      <td>0.9600</td>\n",
       "    </tr>\n",
       "    <tr>\n",
       "      <th>25</th>\n",
       "      <td>0.9600</td>\n",
       "    </tr>\n",
       "    <tr>\n",
       "      <th>26</th>\n",
       "      <td>0.9600</td>\n",
       "    </tr>\n",
       "    <tr>\n",
       "      <th>27</th>\n",
       "      <td>0.9600</td>\n",
       "    </tr>\n",
       "    <tr>\n",
       "      <th>28</th>\n",
       "      <td>0.9600</td>\n",
       "    </tr>\n",
       "    <tr>\n",
       "      <th>29</th>\n",
       "      <td>0.9600</td>\n",
       "    </tr>\n",
       "    <tr>\n",
       "      <th>30</th>\n",
       "      <td>0.9600</td>\n",
       "    </tr>\n",
       "    <tr>\n",
       "      <th>31</th>\n",
       "      <td>0.9600</td>\n",
       "    </tr>\n",
       "    <tr>\n",
       "      <th>32</th>\n",
       "      <td>0.9600</td>\n",
       "    </tr>\n",
       "    <tr>\n",
       "      <th>33</th>\n",
       "      <td>0.9600</td>\n",
       "    </tr>\n",
       "    <tr>\n",
       "      <th>34</th>\n",
       "      <td>0.9600</td>\n",
       "    </tr>\n",
       "    <tr>\n",
       "      <th>35</th>\n",
       "      <td>0.9600</td>\n",
       "    </tr>\n",
       "    <tr>\n",
       "      <th>36</th>\n",
       "      <td>0.9600</td>\n",
       "    </tr>\n",
       "    <tr>\n",
       "      <th>37</th>\n",
       "      <td>0.9600</td>\n",
       "    </tr>\n",
       "    <tr>\n",
       "      <th>38</th>\n",
       "      <td>0.9600</td>\n",
       "    </tr>\n",
       "    <tr>\n",
       "      <th>39</th>\n",
       "      <td>0.9600</td>\n",
       "    </tr>\n",
       "    <tr>\n",
       "      <th>40</th>\n",
       "      <td>0.9600</td>\n",
       "    </tr>\n",
       "    <tr>\n",
       "      <th>41</th>\n",
       "      <td>0.9600</td>\n",
       "    </tr>\n",
       "    <tr>\n",
       "      <th>42</th>\n",
       "      <td>0.9600</td>\n",
       "    </tr>\n",
       "    <tr>\n",
       "      <th>43</th>\n",
       "      <td>0.9600</td>\n",
       "    </tr>\n",
       "    <tr>\n",
       "      <th>44</th>\n",
       "      <td>0.9600</td>\n",
       "    </tr>\n",
       "    <tr>\n",
       "      <th>45</th>\n",
       "      <td>0.9600</td>\n",
       "    </tr>\n",
       "    <tr>\n",
       "      <th>46</th>\n",
       "      <td>0.9600</td>\n",
       "    </tr>\n",
       "    <tr>\n",
       "      <th>47</th>\n",
       "      <td>0.9600</td>\n",
       "    </tr>\n",
       "    <tr>\n",
       "      <th>48</th>\n",
       "      <td>0.9600</td>\n",
       "    </tr>\n",
       "    <tr>\n",
       "      <th>49</th>\n",
       "      <td>0.9600</td>\n",
       "    </tr>\n",
       "    <tr>\n",
       "      <th>50</th>\n",
       "      <td>0.9600</td>\n",
       "    </tr>\n",
       "  </tbody>\n",
       "</table>\n",
       "</div>"
      ],
      "text/plain": [
       "    F1 Score\n",
       "K           \n",
       "1     0.9600\n",
       "2     0.9091\n",
       "3     0.9600\n",
       "4     0.9565\n",
       "5     1.0000\n",
       "6     1.0000\n",
       "7     0.9600\n",
       "8     1.0000\n",
       "9     0.9600\n",
       "10    0.9600\n",
       "11    0.9600\n",
       "12    0.9600\n",
       "13    0.9600\n",
       "14    0.9600\n",
       "15    0.9600\n",
       "16    0.9600\n",
       "17    0.9600\n",
       "18    0.9600\n",
       "19    0.9600\n",
       "20    0.9600\n",
       "21    0.9600\n",
       "22    0.9600\n",
       "23    0.9600\n",
       "24    0.9600\n",
       "25    0.9600\n",
       "26    0.9600\n",
       "27    0.9600\n",
       "28    0.9600\n",
       "29    0.9600\n",
       "30    0.9600\n",
       "31    0.9600\n",
       "32    0.9600\n",
       "33    0.9600\n",
       "34    0.9600\n",
       "35    0.9600\n",
       "36    0.9600\n",
       "37    0.9600\n",
       "38    0.9600\n",
       "39    0.9600\n",
       "40    0.9600\n",
       "41    0.9600\n",
       "42    0.9600\n",
       "43    0.9600\n",
       "44    0.9600\n",
       "45    0.9600\n",
       "46    0.9600\n",
       "47    0.9600\n",
       "48    0.9600\n",
       "49    0.9600\n",
       "50    0.9600"
      ]
     },
     "execution_count": 319,
     "metadata": {},
     "output_type": "execute_result"
    }
   ],
   "source": [
    "for k in range(1, max_k + 1):\n",
    "    # Create a KNN classifier\n",
    "    knn = KNeighborsClassifier(n_neighbors=k)\n",
    "    # Train the classifier\n",
    "    knn = knn.fit(X_train, y_train.values.ravel())\n",
    "    preds = knn.predict(X_test)\n",
    "    # Evaluate the classifier with f1score\n",
    "    f1 = f1_score(preds, y_test)\n",
    "    f1_scores.append((k, round(f1_score(y_test, preds), 4)))\n",
    "# Convert the f1score list to a dataframe\n",
    "f1_results = pd.DataFrame(f1_scores, columns=['K', 'F1 Score'])\n",
    "f1_results.set_index('K')"
   ]
  },
  {
   "cell_type": "code",
   "execution_count": 320,
   "metadata": {},
   "outputs": [
    {
     "data": {
      "text/plain": [
       "Text(0.5, 1.0, 'KNN F1 Score')"
      ]
     },
     "execution_count": 320,
     "metadata": {},
     "output_type": "execute_result"
    },
    {
     "data": {
      "image/png": "[encoded data removed]",
      "text/plain": [
       "<Figure size 864x864 with 1 Axes>"
      ]
     },
     "metadata": {
      "needs_background": "light"
     },
     "output_type": "display_data"
    }
   ],
   "source": [
    "# Plot F1 results\n",
    "ax = f1_results.plot(figsize=(12, 12))\n",
    "ax.set(xlabel='Num of Neighbors', ylabel='F1 Score')\n",
    "ax.set_xticks(range(1, max_k, 2));\n",
    "plt.ylim((0.85, 1))\n",
    "plt.title('KNN F1 Score')"
   ]
  }
 ],
 "metadata": {
  "interpreter": {
   "hash": "9f357b62676163e453d3996bd7a23625b1faadc1b4915e4cbea894e22b2eb803"
  },
  "kernelspec": {
   "display_name": "Python 3.9.10",
   "language": "python",
   "name": "python3"
  },
  "language_info": {
   "codemirror_mode": {
    "name": "ipython",
    "version": 3
   },
   "file_extension": ".py",
   "mimetype": "text/x-python",
   "name": "python",
   "nbconvert_exporter": "python",
   "pygments_lexer": "ipython3",
   "version": "3.9.10"
  }
 },
 "nbformat": 4,
 "nbformat_minor": 2
}
