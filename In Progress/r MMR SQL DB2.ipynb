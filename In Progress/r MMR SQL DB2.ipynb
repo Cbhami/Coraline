{
 "cells": [
  {
   "cell_type": "code",
   "execution_count": 2,
   "metadata": {
    "vscode": {
     "languageId": "r"
    }
   },
   "outputs": [
    {
     "name": "stdout",
     "output_type": "stream",
     "text": [
      "\n",
      "The downloaded binary packages are in\n",
      "\t/var/folders/jc/lsnkvztn1bjg9r2y8xc5q2580000gn/T//Rtmp9ZTA6g/downloaded_packages\n"
     ]
    },
    {
     "name": "stderr",
     "output_type": "stream",
     "text": [
      "Warning message:\n",
      "“package ‘RODBC’ was built under R version 4.1.2”\n"
     ]
    }
   ],
   "source": [
    "#install.packages(\"RODBC\")\n",
    "library(RODBC)"
   ]
  },
  {
   "cell_type": "code",
   "execution_count": 5,
   "metadata": {
    "vscode": {
     "languageId": "r"
    }
   },
   "outputs": [],
   "source": [
    "# Establish database connection\n",
    "#UN <- readLines(\"C:/Users/coleb/OneDrive/Cosmo/Db2.txt\")[1]\n",
    "#PW <- readLines(\"C:/Users/coleb/OneDrive/Cosmo/Db2.txt\")[2]\n",
    "#SVR <- readLines(\"C:/Users/coleb/OneDrive/Cosmo/Db2.txt\")[3]\n",
    "UN <- readLines(\"/Users/colehamilton/Library/CloudStorage/OneDrive-Personal/Cosmo/Db2.txt\")[1]\n",
    "PW <- readLines(\"/Users/colehamilton/Library/CloudStorage/OneDrive-Personal/Cosmo/Db2.txt\")[2]\n",
    "SVR <- readLines(\"/Users/colehamilton/Library/CloudStorage/OneDrive-Personal/Cosmo/Db2.txt\")[3]\n",
    "conn <- odbcConnect(SVR, uid = UN, pwd = PW)"
   ]
  },
  {
   "cell_type": "code",
   "execution_count": 145,
   "metadata": {
    "vscode": {
     "languageId": "r"
    }
   },
   "outputs": [],
   "source": [
    "df <- read.csv(\"https://raw.githubusercontent.com/Cbhami/Coraline/master/Resources/csv%20data/user94403143_workout_history.csv\", header = TRUE)"
   ]
  },
  {
   "cell_type": "code",
   "execution_count": 146,
   "metadata": {
    "vscode": {
     "languageId": "r"
    }
   },
   "outputs": [
    {
     "data": {
      "text/html": [
       "<table class=\"dataframe\">\n",
       "<caption>A data.frame: 6 × 15</caption>\n",
       "<thead>\n",
       "\t<tr><th></th><th scope=col>Date.Submitted</th><th scope=col>Workout.Date</th><th scope=col>Activity.Type</th><th scope=col>Calories.Burned..kCal.</th><th scope=col>Distance..mi.</th><th scope=col>Workout.Time..seconds.</th><th scope=col>Avg.Pace..min.mi.</th><th scope=col>Max.Pace..min.mi.</th><th scope=col>Avg.Speed..mi.h.</th><th scope=col>Max.Speed..mi.h.</th><th scope=col>Avg.Heart.Rate</th><th scope=col>Steps</th><th scope=col>Notes</th><th scope=col>Source</th><th scope=col>Link</th></tr>\n",
       "\t<tr><th></th><th scope=col>&lt;chr&gt;</th><th scope=col>&lt;chr&gt;</th><th scope=col>&lt;chr&gt;</th><th scope=col>&lt;int&gt;</th><th scope=col>&lt;dbl&gt;</th><th scope=col>&lt;int&gt;</th><th scope=col>&lt;dbl&gt;</th><th scope=col>&lt;dbl&gt;</th><th scope=col>&lt;dbl&gt;</th><th scope=col>&lt;dbl&gt;</th><th scope=col>&lt;int&gt;</th><th scope=col>&lt;int&gt;</th><th scope=col>&lt;chr&gt;</th><th scope=col>&lt;chr&gt;</th><th scope=col>&lt;chr&gt;</th></tr>\n",
       "</thead>\n",
       "<tbody>\n",
       "\t<tr><th scope=row>1</th><td>July 25, 2022</td><td>July 25, 2022</td><td>Run </td><td> 430</td><td>4.25520</td><td>6268</td><td>24.48190</td><td>0.831993</td><td>2.45079</td><td> 72.1160</td><td> 87</td><td> 8227</td><td>b''</td><td>Map My Fitness MapMyRun iPhone</td><td>http://www.mapmyfitness.com/workout/6735014767</td></tr>\n",
       "\t<tr><th scope=row>2</th><td>July 24, 2022</td><td>July 24, 2022</td><td>Run </td><td> 415</td><td>3.10000</td><td>1805</td><td> 9.70430</td><td>0.000000</td><td>6.18283</td><td>  0.0000</td><td> NA</td><td> 4793</td><td>b''</td><td>Map My Fitness MapMyRun iPhone</td><td>http://www.mapmyfitness.com/workout/6733355986</td></tr>\n",
       "\t<tr><th scope=row>3</th><td>July 21, 2022</td><td>July 21, 2022</td><td>Walk</td><td> 227</td><td>1.60334</td><td>1657</td><td>17.21160</td><td>1.700270</td><td>3.48602</td><td> 35.2886</td><td>131</td><td> 3001</td><td>b''</td><td>Map My Fitness MapMyRun iPhone</td><td>http://www.mapmyfitness.com/workout/6727309057</td></tr>\n",
       "\t<tr><th scope=row>4</th><td>July 21, 2022</td><td>July 21, 2022</td><td>Run </td><td> 422</td><td>3.10069</td><td>1857</td><td> 9.97780</td><td>1.210670</td><td>6.01335</td><td> 49.5592</td><td>158</td><td> 4849</td><td>b''</td><td>Map My Fitness MapMyRun iPhone</td><td>http://www.mapmyfitness.com/workout/6727253488</td></tr>\n",
       "\t<tr><th scope=row>5</th><td>July 20, 2022</td><td>July 20, 2022</td><td>Run </td><td> 836</td><td>6.20000</td><td>3689</td><td> 9.91667</td><td>0.000000</td><td>6.05042</td><td>  0.0000</td><td> NA</td><td> 9775</td><td>b''</td><td>Map My Fitness MapMyRun iPhone</td><td>http://www.mapmyfitness.com/workout/6725708821</td></tr>\n",
       "\t<tr><th scope=row>6</th><td>July 18, 2022</td><td>July 18, 2022</td><td>Run </td><td>1175</td><td>9.00279</td><td>5709</td><td>10.56770</td><td>0.460460</td><td>5.67767</td><td>130.3040</td><td>143</td><td>14918</td><td>b''</td><td>Map My Fitness MapMyRun iPhone</td><td>http://www.mapmyfitness.com/workout/6720217687</td></tr>\n",
       "</tbody>\n",
       "</table>\n"
      ],
      "text/latex": [
       "A data.frame: 6 × 15\n",
       "\\begin{tabular}{r|lllllllllllllll}\n",
       "  & Date.Submitted & Workout.Date & Activity.Type & Calories.Burned..kCal. & Distance..mi. & Workout.Time..seconds. & Avg.Pace..min.mi. & Max.Pace..min.mi. & Avg.Speed..mi.h. & Max.Speed..mi.h. & Avg.Heart.Rate & Steps & Notes & Source & Link\\\\\n",
       "  & <chr> & <chr> & <chr> & <int> & <dbl> & <int> & <dbl> & <dbl> & <dbl> & <dbl> & <int> & <int> & <chr> & <chr> & <chr>\\\\\n",
       "\\hline\n",
       "\t1 & July 25, 2022 & July 25, 2022 & Run  &  430 & 4.25520 & 6268 & 24.48190 & 0.831993 & 2.45079 &  72.1160 &  87 &  8227 & b'' & Map My Fitness MapMyRun iPhone & http://www.mapmyfitness.com/workout/6735014767\\\\\n",
       "\t2 & July 24, 2022 & July 24, 2022 & Run  &  415 & 3.10000 & 1805 &  9.70430 & 0.000000 & 6.18283 &   0.0000 &  NA &  4793 & b'' & Map My Fitness MapMyRun iPhone & http://www.mapmyfitness.com/workout/6733355986\\\\\n",
       "\t3 & July 21, 2022 & July 21, 2022 & Walk &  227 & 1.60334 & 1657 & 17.21160 & 1.700270 & 3.48602 &  35.2886 & 131 &  3001 & b'' & Map My Fitness MapMyRun iPhone & http://www.mapmyfitness.com/workout/6727309057\\\\\n",
       "\t4 & July 21, 2022 & July 21, 2022 & Run  &  422 & 3.10069 & 1857 &  9.97780 & 1.210670 & 6.01335 &  49.5592 & 158 &  4849 & b'' & Map My Fitness MapMyRun iPhone & http://www.mapmyfitness.com/workout/6727253488\\\\\n",
       "\t5 & July 20, 2022 & July 20, 2022 & Run  &  836 & 6.20000 & 3689 &  9.91667 & 0.000000 & 6.05042 &   0.0000 &  NA &  9775 & b'' & Map My Fitness MapMyRun iPhone & http://www.mapmyfitness.com/workout/6725708821\\\\\n",
       "\t6 & July 18, 2022 & July 18, 2022 & Run  & 1175 & 9.00279 & 5709 & 10.56770 & 0.460460 & 5.67767 & 130.3040 & 143 & 14918 & b'' & Map My Fitness MapMyRun iPhone & http://www.mapmyfitness.com/workout/6720217687\\\\\n",
       "\\end{tabular}\n"
      ],
      "text/markdown": [
       "\n",
       "A data.frame: 6 × 15\n",
       "\n",
       "| <!--/--> | Date.Submitted &lt;chr&gt; | Workout.Date &lt;chr&gt; | Activity.Type &lt;chr&gt; | Calories.Burned..kCal. &lt;int&gt; | Distance..mi. &lt;dbl&gt; | Workout.Time..seconds. &lt;int&gt; | Avg.Pace..min.mi. &lt;dbl&gt; | Max.Pace..min.mi. &lt;dbl&gt; | Avg.Speed..mi.h. &lt;dbl&gt; | Max.Speed..mi.h. &lt;dbl&gt; | Avg.Heart.Rate &lt;int&gt; | Steps &lt;int&gt; | Notes &lt;chr&gt; | Source &lt;chr&gt; | Link &lt;chr&gt; |\n",
       "|---|---|---|---|---|---|---|---|---|---|---|---|---|---|---|---|\n",
       "| 1 | July 25, 2022 | July 25, 2022 | Run  |  430 | 4.25520 | 6268 | 24.48190 | 0.831993 | 2.45079 |  72.1160 |  87 |  8227 | b'' | Map My Fitness MapMyRun iPhone | http://www.mapmyfitness.com/workout/6735014767 |\n",
       "| 2 | July 24, 2022 | July 24, 2022 | Run  |  415 | 3.10000 | 1805 |  9.70430 | 0.000000 | 6.18283 |   0.0000 |  NA |  4793 | b'' | Map My Fitness MapMyRun iPhone | http://www.mapmyfitness.com/workout/6733355986 |\n",
       "| 3 | July 21, 2022 | July 21, 2022 | Walk |  227 | 1.60334 | 1657 | 17.21160 | 1.700270 | 3.48602 |  35.2886 | 131 |  3001 | b'' | Map My Fitness MapMyRun iPhone | http://www.mapmyfitness.com/workout/6727309057 |\n",
       "| 4 | July 21, 2022 | July 21, 2022 | Run  |  422 | 3.10069 | 1857 |  9.97780 | 1.210670 | 6.01335 |  49.5592 | 158 |  4849 | b'' | Map My Fitness MapMyRun iPhone | http://www.mapmyfitness.com/workout/6727253488 |\n",
       "| 5 | July 20, 2022 | July 20, 2022 | Run  |  836 | 6.20000 | 3689 |  9.91667 | 0.000000 | 6.05042 |   0.0000 |  NA |  9775 | b'' | Map My Fitness MapMyRun iPhone | http://www.mapmyfitness.com/workout/6725708821 |\n",
       "| 6 | July 18, 2022 | July 18, 2022 | Run  | 1175 | 9.00279 | 5709 | 10.56770 | 0.460460 | 5.67767 | 130.3040 | 143 | 14918 | b'' | Map My Fitness MapMyRun iPhone | http://www.mapmyfitness.com/workout/6720217687 |\n",
       "\n"
      ],
      "text/plain": [
       "  Date.Submitted Workout.Date  Activity.Type Calories.Burned..kCal.\n",
       "1 July 25, 2022  July 25, 2022 Run            430                  \n",
       "2 July 24, 2022  July 24, 2022 Run            415                  \n",
       "3 July 21, 2022  July 21, 2022 Walk           227                  \n",
       "4 July 21, 2022  July 21, 2022 Run            422                  \n",
       "5 July 20, 2022  July 20, 2022 Run            836                  \n",
       "6 July 18, 2022  July 18, 2022 Run           1175                  \n",
       "  Distance..mi. Workout.Time..seconds. Avg.Pace..min.mi. Max.Pace..min.mi.\n",
       "1 4.25520       6268                   24.48190          0.831993         \n",
       "2 3.10000       1805                    9.70430          0.000000         \n",
       "3 1.60334       1657                   17.21160          1.700270         \n",
       "4 3.10069       1857                    9.97780          1.210670         \n",
       "5 6.20000       3689                    9.91667          0.000000         \n",
       "6 9.00279       5709                   10.56770          0.460460         \n",
       "  Avg.Speed..mi.h. Max.Speed..mi.h. Avg.Heart.Rate Steps Notes\n",
       "1 2.45079           72.1160          87             8227 b''  \n",
       "2 6.18283            0.0000          NA             4793 b''  \n",
       "3 3.48602           35.2886         131             3001 b''  \n",
       "4 6.01335           49.5592         158             4849 b''  \n",
       "5 6.05042            0.0000          NA             9775 b''  \n",
       "6 5.67767          130.3040         143            14918 b''  \n",
       "  Source                         Link                                          \n",
       "1 Map My Fitness MapMyRun iPhone http://www.mapmyfitness.com/workout/6735014767\n",
       "2 Map My Fitness MapMyRun iPhone http://www.mapmyfitness.com/workout/6733355986\n",
       "3 Map My Fitness MapMyRun iPhone http://www.mapmyfitness.com/workout/6727309057\n",
       "4 Map My Fitness MapMyRun iPhone http://www.mapmyfitness.com/workout/6727253488\n",
       "5 Map My Fitness MapMyRun iPhone http://www.mapmyfitness.com/workout/6725708821\n",
       "6 Map My Fitness MapMyRun iPhone http://www.mapmyfitness.com/workout/6720217687"
      ]
     },
     "metadata": {},
     "output_type": "display_data"
    }
   ],
   "source": [
    "head(df)"
   ]
  },
  {
   "cell_type": "code",
   "execution_count": 147,
   "metadata": {
    "vscode": {
     "languageId": "r"
    }
   },
   "outputs": [
    {
     "data": {
      "text/html": [
       "<table class=\"dataframe\">\n",
       "<caption>A data.frame: 708 × 12</caption>\n",
       "<thead>\n",
       "\t<tr><th scope=col>Date.Submitted</th><th scope=col>Workout.Date</th><th scope=col>Activity.Type</th><th scope=col>Calories.Burned..kCal.</th><th scope=col>Distance..mi.</th><th scope=col>Workout.Time..seconds.</th><th scope=col>Avg.Pace..min.mi.</th><th scope=col>Max.Pace..min.mi.</th><th scope=col>Avg.Speed..mi.h.</th><th scope=col>Max.Speed..mi.h.</th><th scope=col>Avg.Heart.Rate</th><th scope=col>Steps</th></tr>\n",
       "\t<tr><th scope=col>&lt;chr&gt;</th><th scope=col>&lt;chr&gt;</th><th scope=col>&lt;chr&gt;</th><th scope=col>&lt;dbl&gt;</th><th scope=col>&lt;dbl&gt;</th><th scope=col>&lt;dbl&gt;</th><th scope=col>&lt;dbl&gt;</th><th scope=col>&lt;dbl&gt;</th><th scope=col>&lt;dbl&gt;</th><th scope=col>&lt;dbl&gt;</th><th scope=col>&lt;dbl&gt;</th><th scope=col>&lt;dbl&gt;</th></tr>\n",
       "</thead>\n",
       "<tbody>\n",
       "\t<tr><td>July 25, 2022</td><td>July 25, 2022</td><td>Run </td><td> 430</td><td>4.26</td><td>6268</td><td>24.48</td><td>0.83</td><td>2.45</td><td> 72.12</td><td> 87</td><td> 8227</td></tr>\n",
       "\t<tr><td>July 24, 2022</td><td>July 24, 2022</td><td>Run </td><td> 415</td><td>3.10</td><td>1805</td><td> 9.70</td><td>0.00</td><td>6.18</td><td>  0.00</td><td> NA</td><td> 4793</td></tr>\n",
       "\t<tr><td>July 21, 2022</td><td>July 21, 2022</td><td>Walk</td><td> 227</td><td>1.60</td><td>1657</td><td>17.21</td><td>1.70</td><td>3.49</td><td> 35.29</td><td>131</td><td> 3001</td></tr>\n",
       "\t<tr><td>July 21, 2022</td><td>July 21, 2022</td><td>Run </td><td> 422</td><td>3.10</td><td>1857</td><td> 9.98</td><td>1.21</td><td>6.01</td><td> 49.56</td><td>158</td><td> 4849</td></tr>\n",
       "\t<tr><td>July 20, 2022</td><td>July 20, 2022</td><td>Run </td><td> 836</td><td>6.20</td><td>3689</td><td> 9.92</td><td>0.00</td><td>6.05</td><td>  0.00</td><td> NA</td><td> 9775</td></tr>\n",
       "\t<tr><td>July 18, 2022</td><td>July 18, 2022</td><td>Run </td><td>1175</td><td>9.00</td><td>5709</td><td>10.57</td><td>0.46</td><td>5.68</td><td>130.30</td><td>143</td><td>14918</td></tr>\n",
       "\t<tr><td>July 17, 2022</td><td>July 17, 2022</td><td>Run </td><td> 404</td><td>3.10</td><td>1593</td><td> 8.56</td><td>0.00</td><td>7.01</td><td>  0.00</td><td> NA</td><td> 4286</td></tr>\n",
       "\t<tr><td>July 17, 2022</td><td>July 16, 2022</td><td>Run </td><td> 405</td><td>3.10</td><td>1698</td><td> 9.13</td><td>0.00</td><td>6.57</td><td>  0.00</td><td> NA</td><td> 4537</td></tr>\n",
       "\t<tr><td>July 14, 2022</td><td>July 14, 2022</td><td>Run </td><td> 452</td><td>3.76</td><td>2157</td><td> 9.56</td><td>1.00</td><td>6.27</td><td> 59.92</td><td>148</td><td> 5684</td></tr>\n",
       "\t<tr><td>July 13, 2022</td><td>July 13, 2022</td><td>Run </td><td> 398</td><td>3.11</td><td>1912</td><td>10.25</td><td>1.09</td><td>5.85</td><td> 54.80</td><td>150</td><td> 4991</td></tr>\n",
       "\t<tr><td>July 12, 2022</td><td>July 12, 2022</td><td>Run </td><td> 421</td><td>3.11</td><td>1968</td><td>10.55</td><td>1.07</td><td>5.69</td><td> 56.08</td><td>155</td><td> 5134</td></tr>\n",
       "\t<tr><td>July 12, 2022</td><td>July 11, 2022</td><td>Run </td><td> 197</td><td>2.00</td><td>1409</td><td>11.74</td><td>1.91</td><td>5.11</td><td> 31.34</td><td>145</td><td> 3302</td></tr>\n",
       "\t<tr><td>July 10, 2022</td><td>July 10, 2022</td><td>Run </td><td> 429</td><td>3.10</td><td>2301</td><td>12.37</td><td>0.99</td><td>4.85</td><td> 60.41</td><td>149</td><td> 5125</td></tr>\n",
       "\t<tr><td>July 9, 2022 </td><td>July 9, 2022 </td><td>Run </td><td> 430</td><td>3.10</td><td>2005</td><td>10.77</td><td>1.17</td><td>5.57</td><td> 51.45</td><td>157</td><td> 5261</td></tr>\n",
       "\t<tr><td>July 8, 2022 </td><td>July 8, 2022 </td><td>Run </td><td> 454</td><td>3.11</td><td>1988</td><td>10.65</td><td>3.88</td><td>5.63</td><td> 15.47</td><td>165</td><td> 5202</td></tr>\n",
       "\t<tr><td>June 24, 2022</td><td>June 24, 2022</td><td>Run </td><td> 400</td><td>3.10</td><td>1554</td><td> 8.35</td><td>0.00</td><td>7.18</td><td>  0.00</td><td> NA</td><td> 4192</td></tr>\n",
       "\t<tr><td>June 23, 2022</td><td>June 23, 2022</td><td>Run </td><td> 410</td><td>3.10</td><td>1748</td><td> 9.40</td><td>0.00</td><td>6.38</td><td>  0.00</td><td> NA</td><td> 4656</td></tr>\n",
       "\t<tr><td>June 21, 2022</td><td>June 22, 2022</td><td>Run </td><td> 403</td><td>3.10</td><td>1665</td><td> 8.95</td><td>0.00</td><td>6.70</td><td>  0.00</td><td> NA</td><td> 4458</td></tr>\n",
       "\t<tr><td>June 19, 2022</td><td>June 19, 2022</td><td>Run </td><td> 378</td><td>2.66</td><td>1800</td><td>11.28</td><td>0.00</td><td>5.32</td><td>  0.00</td><td> NA</td><td> 4713</td></tr>\n",
       "\t<tr><td>June 18, 2022</td><td>June 18, 2022</td><td>Run </td><td> 370</td><td>2.58</td><td>1698</td><td>10.97</td><td>1.11</td><td>5.47</td><td> 53.94</td><td>159</td><td> 4431</td></tr>\n",
       "\t<tr><td>June 16, 2022</td><td>June 17, 2022</td><td>Run </td><td> 315</td><td>2.33</td><td>1391</td><td> 9.95</td><td>0.00</td><td>6.03</td><td>  0.00</td><td> NA</td><td> 3684</td></tr>\n",
       "\t<tr><td>June 15, 2022</td><td>June 15, 2022</td><td>Run </td><td> 405</td><td>3.10</td><td>1691</td><td> 9.09</td><td>0.00</td><td>6.60</td><td>  0.00</td><td> NA</td><td> 4520</td></tr>\n",
       "\t<tr><td>June 12, 2022</td><td>June 12, 2022</td><td>Run </td><td> 428</td><td>3.10</td><td>1955</td><td>10.52</td><td>3.01</td><td>5.71</td><td> 19.95</td><td>  0</td><td> 5052</td></tr>\n",
       "\t<tr><td>June 10, 2022</td><td>June 10, 2022</td><td>Run </td><td> 881</td><td>6.20</td><td>4182</td><td>11.23</td><td>0.60</td><td>5.34</td><td>100.05</td><td>153</td><td>10479</td></tr>\n",
       "\t<tr><td>June 9, 2022 </td><td>June 8, 2022 </td><td>Run </td><td> 407</td><td>3.11</td><td>1702</td><td> 9.12</td><td>0.00</td><td>6.58</td><td>  0.00</td><td>153</td><td> 4548</td></tr>\n",
       "\t<tr><td>June 6, 2022 </td><td>June 6, 2022 </td><td>Run </td><td> 590</td><td>4.50</td><td>2924</td><td>10.82</td><td>1.15</td><td>5.54</td><td> 52.33</td><td>145</td><td> 7739</td></tr>\n",
       "\t<tr><td>June 5, 2022 </td><td>June 5, 2022 </td><td>Walk</td><td> 253</td><td>1.88</td><td>2402</td><td>21.28</td><td>1.79</td><td>2.82</td><td> 33.49</td><td>109</td><td> 3994</td></tr>\n",
       "\t<tr><td>June 5, 2022 </td><td>June 5, 2022 </td><td>Run </td><td> 302</td><td>2.44</td><td>1487</td><td>10.17</td><td>0.45</td><td>5.90</td><td>132.28</td><td>148</td><td> 3889</td></tr>\n",
       "\t<tr><td>June 4, 2022 </td><td>June 4, 2022 </td><td>Run </td><td> 856</td><td>6.24</td><td>3946</td><td>10.53</td><td>1.07</td><td>5.70</td><td> 56.16</td><td>156</td><td>10427</td></tr>\n",
       "\t<tr><td>June 3, 2022 </td><td>June 3, 2022 </td><td>Run </td><td> 397</td><td>3.11</td><td>1864</td><td> 9.99</td><td>0.95</td><td>6.01</td><td> 63.08</td><td>152</td><td> 4863</td></tr>\n",
       "\t<tr><td>⋮</td><td>⋮</td><td>⋮</td><td>⋮</td><td>⋮</td><td>⋮</td><td>⋮</td><td>⋮</td><td>⋮</td><td>⋮</td><td>⋮</td><td>⋮</td></tr>\n",
       "\t<tr><td>June 14, 2019 </td><td>June 14, 2019 </td><td>Weight Workout  </td><td>215</td><td>0.00</td><td>1560</td><td> 0.00</td><td>  0.00</td><td>0.00</td><td> 0.00</td><td>  0</td><td>  NA</td></tr>\n",
       "\t<tr><td>June 14, 2019 </td><td>June 14, 2019 </td><td>Walk            </td><td>323</td><td>3.15</td><td>3080</td><td>16.30</td><td>  0.00</td><td>3.68</td><td> 0.00</td><td> NA</td><td>6202</td></tr>\n",
       "\t<tr><td>June 12, 2019 </td><td>June 12, 2019 </td><td>Run             </td><td>215</td><td>2.09</td><td>1962</td><td>15.65</td><td>  3.21</td><td>3.83</td><td>18.70</td><td>111</td><td>3819</td></tr>\n",
       "\t<tr><td>June 11, 2019 </td><td>June 11, 2019 </td><td>Walk            </td><td>106</td><td>1.04</td><td>1045</td><td>16.75</td><td> 13.55</td><td>3.58</td><td> 4.43</td><td> NA</td><td>1831</td></tr>\n",
       "\t<tr><td>June 11, 2019 </td><td>June 11, 2019 </td><td>Weight Workout  </td><td>211</td><td>0.00</td><td>1526</td><td> 0.00</td><td> 57.79</td><td>0.00</td><td> 1.04</td><td> NA</td><td>  NA</td></tr>\n",
       "\t<tr><td>June 10, 2019 </td><td>June 10, 2019 </td><td>Walk            </td><td>299</td><td>2.78</td><td>2458</td><td>14.74</td><td>  5.71</td><td>4.07</td><td>10.51</td><td>  0</td><td>4676</td></tr>\n",
       "\t<tr><td>June 9, 2019  </td><td>June 9, 2019  </td><td>Walk            </td><td>293</td><td>2.88</td><td>2986</td><td>17.28</td><td>  0.00</td><td>3.47</td><td> 0.00</td><td> 73</td><td>5876</td></tr>\n",
       "\t<tr><td>June 8, 2019  </td><td>June 8, 2019  </td><td>Run             </td><td>190</td><td>1.57</td><td>1307</td><td>13.84</td><td>  1.25</td><td>4.33</td><td>47.97</td><td>116</td><td>2729</td></tr>\n",
       "\t<tr><td>June 6, 2019  </td><td>June 7, 2019  </td><td>Weight Workout  </td><td> 96</td><td>0.00</td><td> 692</td><td> 0.00</td><td>  0.00</td><td>0.00</td><td> 0.00</td><td> NA</td><td>  NA</td></tr>\n",
       "\t<tr><td>June 6, 2019  </td><td>June 6, 2019  </td><td>Walk            </td><td>321</td><td>3.13</td><td>3064</td><td>16.32</td><td> 14.81</td><td>3.68</td><td> 4.05</td><td> NA</td><td>  55</td></tr>\n",
       "\t<tr><td>June 6, 2019  </td><td>June 6, 2019  </td><td>Walk            </td><td>  2</td><td>0.02</td><td>  10</td><td> 9.74</td><td> 13.60</td><td>6.16</td><td> 4.41</td><td>106</td><td>  11</td></tr>\n",
       "\t<tr><td>June 5, 2019  </td><td>June 5, 2019  </td><td>Weight Workout  </td><td> 83</td><td>0.00</td><td> 600</td><td> 0.00</td><td>  0.00</td><td>0.00</td><td> 0.00</td><td> NA</td><td>  NA</td></tr>\n",
       "\t<tr><td>June 5, 2019  </td><td>June 5, 2019  </td><td>Walk            </td><td>  0</td><td>0.00</td><td>   3</td><td> 0.00</td><td>  0.00</td><td>0.00</td><td> 0.00</td><td>  0</td><td>  NA</td></tr>\n",
       "\t<tr><td>June 5, 2019  </td><td>June 5, 2019  </td><td>Walk            </td><td>249</td><td>2.22</td><td>1921</td><td>14.43</td><td> 13.25</td><td>4.16</td><td> 4.53</td><td>110</td><td>3887</td></tr>\n",
       "\t<tr><td>June 3, 2019  </td><td>June 3, 2019  </td><td>Walk            </td><td>309</td><td>2.99</td><td>2764</td><td>15.41</td><td>  0.00</td><td>3.89</td><td> 0.00</td><td> NA</td><td>5745</td></tr>\n",
       "\t<tr><td>June 2, 2019  </td><td>June 2, 2019  </td><td>Walk            </td><td>316</td><td>3.10</td><td>3180</td><td>17.10</td><td>  0.00</td><td>3.51</td><td> 0.00</td><td> NA</td><td>6289</td></tr>\n",
       "\t<tr><td>June 2, 2019  </td><td>June 2, 2019  </td><td>Weight Workout  </td><td> 79</td><td>0.00</td><td> 600</td><td> 0.00</td><td>  0.00</td><td>0.00</td><td> 0.00</td><td> NA</td><td>  NA</td></tr>\n",
       "\t<tr><td>June 2, 2019  </td><td>June 2, 2019  </td><td>Weight Workout  </td><td> 79</td><td>0.00</td><td> 600</td><td> 0.00</td><td>  0.00</td><td>0.00</td><td> 0.00</td><td> NA</td><td>  NA</td></tr>\n",
       "\t<tr><td>May 30, 2019  </td><td>May 30, 2019  </td><td>Walk            </td><td>307</td><td>3.10</td><td>2866</td><td>15.41</td><td>182.40</td><td>3.89</td><td> 0.33</td><td> NA</td><td>6104</td></tr>\n",
       "\t<tr><td>May 28, 2019  </td><td>May 28, 2019  </td><td>Walk            </td><td>248</td><td>2.22</td><td>1886</td><td>14.16</td><td>  1.40</td><td>4.24</td><td>42.80</td><td>102</td><td>3708</td></tr>\n",
       "\t<tr><td>May 27, 2019  </td><td>May 27, 2019  </td><td>Walk            </td><td>322</td><td>2.22</td><td>3541</td><td>26.36</td><td>  4.21</td><td>2.28</td><td>14.25</td><td> 93</td><td>6149</td></tr>\n",
       "\t<tr><td>May 27, 2019  </td><td>May 23, 2019  </td><td>Walk            </td><td>266</td><td>2.62</td><td>1946</td><td>12.36</td><td>  4.68</td><td>4.85</td><td>12.83</td><td>136</td><td>4074</td></tr>\n",
       "\t<tr><td>May 19, 2019  </td><td>May 19, 2019  </td><td>Run             </td><td>419</td><td>3.11</td><td>2197</td><td>11.69</td><td>  2.06</td><td>5.13</td><td>29.17</td><td>139</td><td>5295</td></tr>\n",
       "\t<tr><td>May 15, 2019  </td><td>May 15, 2019  </td><td>Indoor Run / Jog</td><td>403</td><td>3.13</td><td>2344</td><td>12.48</td><td>  0.00</td><td>4.81</td><td> 0.00</td><td> NA</td><td>6926</td></tr>\n",
       "\t<tr><td>May 13, 2019  </td><td>May 13, 2019  </td><td>Run             </td><td>258</td><td>1.96</td><td>1214</td><td>10.32</td><td>  2.67</td><td>5.82</td><td>22.45</td><td>  0</td><td>3209</td></tr>\n",
       "\t<tr><td>May 13, 2019  </td><td>May 13, 2019  </td><td>Indoor Run / Jog</td><td>191</td><td>1.42</td><td> 927</td><td>10.88</td><td> 17.09</td><td>5.51</td><td> 3.51</td><td>158</td><td>  67</td></tr>\n",
       "\t<tr><td>Oct. 19, 2016 </td><td>Oct. 19, 2016 </td><td>Class Workout   </td><td>186</td><td>0.00</td><td>3600</td><td> 0.00</td><td>  0.00</td><td>0.00</td><td> 0.00</td><td> NA</td><td>  NA</td></tr>\n",
       "\t<tr><td>Oct. 12, 2016 </td><td>Oct. 12, 2016 </td><td>Class Workout   </td><td>183</td><td>0.00</td><td>3600</td><td> 0.00</td><td>  0.00</td><td>0.00</td><td> 0.00</td><td> NA</td><td>  NA</td></tr>\n",
       "\t<tr><td>Sept. 26, 2016</td><td>Sept. 26, 2016</td><td>Class Workout   </td><td>186</td><td>0.00</td><td>3600</td><td> 0.00</td><td>  0.00</td><td>0.00</td><td> 0.00</td><td> NA</td><td>  NA</td></tr>\n",
       "\t<tr><td>Aug. 12, 2016 </td><td>Aug. 12, 2016 </td><td>Class Workout   </td><td>189</td><td>0.00</td><td>3600</td><td> 0.00</td><td>  0.00</td><td>0.00</td><td> 0.00</td><td> NA</td><td>  NA</td></tr>\n",
       "</tbody>\n",
       "</table>\n"
      ],
      "text/latex": [
       "A data.frame: 708 × 12\n",
       "\\begin{tabular}{llllllllllll}\n",
       " Date.Submitted & Workout.Date & Activity.Type & Calories.Burned..kCal. & Distance..mi. & Workout.Time..seconds. & Avg.Pace..min.mi. & Max.Pace..min.mi. & Avg.Speed..mi.h. & Max.Speed..mi.h. & Avg.Heart.Rate & Steps\\\\\n",
       " <chr> & <chr> & <chr> & <dbl> & <dbl> & <dbl> & <dbl> & <dbl> & <dbl> & <dbl> & <dbl> & <dbl>\\\\\n",
       "\\hline\n",
       "\t July 25, 2022 & July 25, 2022 & Run  &  430 & 4.26 & 6268 & 24.48 & 0.83 & 2.45 &  72.12 &  87 &  8227\\\\\n",
       "\t July 24, 2022 & July 24, 2022 & Run  &  415 & 3.10 & 1805 &  9.70 & 0.00 & 6.18 &   0.00 &  NA &  4793\\\\\n",
       "\t July 21, 2022 & July 21, 2022 & Walk &  227 & 1.60 & 1657 & 17.21 & 1.70 & 3.49 &  35.29 & 131 &  3001\\\\\n",
       "\t July 21, 2022 & July 21, 2022 & Run  &  422 & 3.10 & 1857 &  9.98 & 1.21 & 6.01 &  49.56 & 158 &  4849\\\\\n",
       "\t July 20, 2022 & July 20, 2022 & Run  &  836 & 6.20 & 3689 &  9.92 & 0.00 & 6.05 &   0.00 &  NA &  9775\\\\\n",
       "\t July 18, 2022 & July 18, 2022 & Run  & 1175 & 9.00 & 5709 & 10.57 & 0.46 & 5.68 & 130.30 & 143 & 14918\\\\\n",
       "\t July 17, 2022 & July 17, 2022 & Run  &  404 & 3.10 & 1593 &  8.56 & 0.00 & 7.01 &   0.00 &  NA &  4286\\\\\n",
       "\t July 17, 2022 & July 16, 2022 & Run  &  405 & 3.10 & 1698 &  9.13 & 0.00 & 6.57 &   0.00 &  NA &  4537\\\\\n",
       "\t July 14, 2022 & July 14, 2022 & Run  &  452 & 3.76 & 2157 &  9.56 & 1.00 & 6.27 &  59.92 & 148 &  5684\\\\\n",
       "\t July 13, 2022 & July 13, 2022 & Run  &  398 & 3.11 & 1912 & 10.25 & 1.09 & 5.85 &  54.80 & 150 &  4991\\\\\n",
       "\t July 12, 2022 & July 12, 2022 & Run  &  421 & 3.11 & 1968 & 10.55 & 1.07 & 5.69 &  56.08 & 155 &  5134\\\\\n",
       "\t July 12, 2022 & July 11, 2022 & Run  &  197 & 2.00 & 1409 & 11.74 & 1.91 & 5.11 &  31.34 & 145 &  3302\\\\\n",
       "\t July 10, 2022 & July 10, 2022 & Run  &  429 & 3.10 & 2301 & 12.37 & 0.99 & 4.85 &  60.41 & 149 &  5125\\\\\n",
       "\t July 9, 2022  & July 9, 2022  & Run  &  430 & 3.10 & 2005 & 10.77 & 1.17 & 5.57 &  51.45 & 157 &  5261\\\\\n",
       "\t July 8, 2022  & July 8, 2022  & Run  &  454 & 3.11 & 1988 & 10.65 & 3.88 & 5.63 &  15.47 & 165 &  5202\\\\\n",
       "\t June 24, 2022 & June 24, 2022 & Run  &  400 & 3.10 & 1554 &  8.35 & 0.00 & 7.18 &   0.00 &  NA &  4192\\\\\n",
       "\t June 23, 2022 & June 23, 2022 & Run  &  410 & 3.10 & 1748 &  9.40 & 0.00 & 6.38 &   0.00 &  NA &  4656\\\\\n",
       "\t June 21, 2022 & June 22, 2022 & Run  &  403 & 3.10 & 1665 &  8.95 & 0.00 & 6.70 &   0.00 &  NA &  4458\\\\\n",
       "\t June 19, 2022 & June 19, 2022 & Run  &  378 & 2.66 & 1800 & 11.28 & 0.00 & 5.32 &   0.00 &  NA &  4713\\\\\n",
       "\t June 18, 2022 & June 18, 2022 & Run  &  370 & 2.58 & 1698 & 10.97 & 1.11 & 5.47 &  53.94 & 159 &  4431\\\\\n",
       "\t June 16, 2022 & June 17, 2022 & Run  &  315 & 2.33 & 1391 &  9.95 & 0.00 & 6.03 &   0.00 &  NA &  3684\\\\\n",
       "\t June 15, 2022 & June 15, 2022 & Run  &  405 & 3.10 & 1691 &  9.09 & 0.00 & 6.60 &   0.00 &  NA &  4520\\\\\n",
       "\t June 12, 2022 & June 12, 2022 & Run  &  428 & 3.10 & 1955 & 10.52 & 3.01 & 5.71 &  19.95 &   0 &  5052\\\\\n",
       "\t June 10, 2022 & June 10, 2022 & Run  &  881 & 6.20 & 4182 & 11.23 & 0.60 & 5.34 & 100.05 & 153 & 10479\\\\\n",
       "\t June 9, 2022  & June 8, 2022  & Run  &  407 & 3.11 & 1702 &  9.12 & 0.00 & 6.58 &   0.00 & 153 &  4548\\\\\n",
       "\t June 6, 2022  & June 6, 2022  & Run  &  590 & 4.50 & 2924 & 10.82 & 1.15 & 5.54 &  52.33 & 145 &  7739\\\\\n",
       "\t June 5, 2022  & June 5, 2022  & Walk &  253 & 1.88 & 2402 & 21.28 & 1.79 & 2.82 &  33.49 & 109 &  3994\\\\\n",
       "\t June 5, 2022  & June 5, 2022  & Run  &  302 & 2.44 & 1487 & 10.17 & 0.45 & 5.90 & 132.28 & 148 &  3889\\\\\n",
       "\t June 4, 2022  & June 4, 2022  & Run  &  856 & 6.24 & 3946 & 10.53 & 1.07 & 5.70 &  56.16 & 156 & 10427\\\\\n",
       "\t June 3, 2022  & June 3, 2022  & Run  &  397 & 3.11 & 1864 &  9.99 & 0.95 & 6.01 &  63.08 & 152 &  4863\\\\\n",
       "\t ⋮ & ⋮ & ⋮ & ⋮ & ⋮ & ⋮ & ⋮ & ⋮ & ⋮ & ⋮ & ⋮ & ⋮\\\\\n",
       "\t June 14, 2019  & June 14, 2019  & Weight Workout   & 215 & 0.00 & 1560 &  0.00 &   0.00 & 0.00 &  0.00 &   0 &   NA\\\\\n",
       "\t June 14, 2019  & June 14, 2019  & Walk             & 323 & 3.15 & 3080 & 16.30 &   0.00 & 3.68 &  0.00 &  NA & 6202\\\\\n",
       "\t June 12, 2019  & June 12, 2019  & Run              & 215 & 2.09 & 1962 & 15.65 &   3.21 & 3.83 & 18.70 & 111 & 3819\\\\\n",
       "\t June 11, 2019  & June 11, 2019  & Walk             & 106 & 1.04 & 1045 & 16.75 &  13.55 & 3.58 &  4.43 &  NA & 1831\\\\\n",
       "\t June 11, 2019  & June 11, 2019  & Weight Workout   & 211 & 0.00 & 1526 &  0.00 &  57.79 & 0.00 &  1.04 &  NA &   NA\\\\\n",
       "\t June 10, 2019  & June 10, 2019  & Walk             & 299 & 2.78 & 2458 & 14.74 &   5.71 & 4.07 & 10.51 &   0 & 4676\\\\\n",
       "\t June 9, 2019   & June 9, 2019   & Walk             & 293 & 2.88 & 2986 & 17.28 &   0.00 & 3.47 &  0.00 &  73 & 5876\\\\\n",
       "\t June 8, 2019   & June 8, 2019   & Run              & 190 & 1.57 & 1307 & 13.84 &   1.25 & 4.33 & 47.97 & 116 & 2729\\\\\n",
       "\t June 6, 2019   & June 7, 2019   & Weight Workout   &  96 & 0.00 &  692 &  0.00 &   0.00 & 0.00 &  0.00 &  NA &   NA\\\\\n",
       "\t June 6, 2019   & June 6, 2019   & Walk             & 321 & 3.13 & 3064 & 16.32 &  14.81 & 3.68 &  4.05 &  NA &   55\\\\\n",
       "\t June 6, 2019   & June 6, 2019   & Walk             &   2 & 0.02 &   10 &  9.74 &  13.60 & 6.16 &  4.41 & 106 &   11\\\\\n",
       "\t June 5, 2019   & June 5, 2019   & Weight Workout   &  83 & 0.00 &  600 &  0.00 &   0.00 & 0.00 &  0.00 &  NA &   NA\\\\\n",
       "\t June 5, 2019   & June 5, 2019   & Walk             &   0 & 0.00 &    3 &  0.00 &   0.00 & 0.00 &  0.00 &   0 &   NA\\\\\n",
       "\t June 5, 2019   & June 5, 2019   & Walk             & 249 & 2.22 & 1921 & 14.43 &  13.25 & 4.16 &  4.53 & 110 & 3887\\\\\n",
       "\t June 3, 2019   & June 3, 2019   & Walk             & 309 & 2.99 & 2764 & 15.41 &   0.00 & 3.89 &  0.00 &  NA & 5745\\\\\n",
       "\t June 2, 2019   & June 2, 2019   & Walk             & 316 & 3.10 & 3180 & 17.10 &   0.00 & 3.51 &  0.00 &  NA & 6289\\\\\n",
       "\t June 2, 2019   & June 2, 2019   & Weight Workout   &  79 & 0.00 &  600 &  0.00 &   0.00 & 0.00 &  0.00 &  NA &   NA\\\\\n",
       "\t June 2, 2019   & June 2, 2019   & Weight Workout   &  79 & 0.00 &  600 &  0.00 &   0.00 & 0.00 &  0.00 &  NA &   NA\\\\\n",
       "\t May 30, 2019   & May 30, 2019   & Walk             & 307 & 3.10 & 2866 & 15.41 & 182.40 & 3.89 &  0.33 &  NA & 6104\\\\\n",
       "\t May 28, 2019   & May 28, 2019   & Walk             & 248 & 2.22 & 1886 & 14.16 &   1.40 & 4.24 & 42.80 & 102 & 3708\\\\\n",
       "\t May 27, 2019   & May 27, 2019   & Walk             & 322 & 2.22 & 3541 & 26.36 &   4.21 & 2.28 & 14.25 &  93 & 6149\\\\\n",
       "\t May 27, 2019   & May 23, 2019   & Walk             & 266 & 2.62 & 1946 & 12.36 &   4.68 & 4.85 & 12.83 & 136 & 4074\\\\\n",
       "\t May 19, 2019   & May 19, 2019   & Run              & 419 & 3.11 & 2197 & 11.69 &   2.06 & 5.13 & 29.17 & 139 & 5295\\\\\n",
       "\t May 15, 2019   & May 15, 2019   & Indoor Run / Jog & 403 & 3.13 & 2344 & 12.48 &   0.00 & 4.81 &  0.00 &  NA & 6926\\\\\n",
       "\t May 13, 2019   & May 13, 2019   & Run              & 258 & 1.96 & 1214 & 10.32 &   2.67 & 5.82 & 22.45 &   0 & 3209\\\\\n",
       "\t May 13, 2019   & May 13, 2019   & Indoor Run / Jog & 191 & 1.42 &  927 & 10.88 &  17.09 & 5.51 &  3.51 & 158 &   67\\\\\n",
       "\t Oct. 19, 2016  & Oct. 19, 2016  & Class Workout    & 186 & 0.00 & 3600 &  0.00 &   0.00 & 0.00 &  0.00 &  NA &   NA\\\\\n",
       "\t Oct. 12, 2016  & Oct. 12, 2016  & Class Workout    & 183 & 0.00 & 3600 &  0.00 &   0.00 & 0.00 &  0.00 &  NA &   NA\\\\\n",
       "\t Sept. 26, 2016 & Sept. 26, 2016 & Class Workout    & 186 & 0.00 & 3600 &  0.00 &   0.00 & 0.00 &  0.00 &  NA &   NA\\\\\n",
       "\t Aug. 12, 2016  & Aug. 12, 2016  & Class Workout    & 189 & 0.00 & 3600 &  0.00 &   0.00 & 0.00 &  0.00 &  NA &   NA\\\\\n",
       "\\end{tabular}\n"
      ],
      "text/markdown": [
       "\n",
       "A data.frame: 708 × 12\n",
       "\n",
       "| Date.Submitted &lt;chr&gt; | Workout.Date &lt;chr&gt; | Activity.Type &lt;chr&gt; | Calories.Burned..kCal. &lt;dbl&gt; | Distance..mi. &lt;dbl&gt; | Workout.Time..seconds. &lt;dbl&gt; | Avg.Pace..min.mi. &lt;dbl&gt; | Max.Pace..min.mi. &lt;dbl&gt; | Avg.Speed..mi.h. &lt;dbl&gt; | Max.Speed..mi.h. &lt;dbl&gt; | Avg.Heart.Rate &lt;dbl&gt; | Steps &lt;dbl&gt; |\n",
       "|---|---|---|---|---|---|---|---|---|---|---|---|\n",
       "| July 25, 2022 | July 25, 2022 | Run  |  430 | 4.26 | 6268 | 24.48 | 0.83 | 2.45 |  72.12 |  87 |  8227 |\n",
       "| July 24, 2022 | July 24, 2022 | Run  |  415 | 3.10 | 1805 |  9.70 | 0.00 | 6.18 |   0.00 |  NA |  4793 |\n",
       "| July 21, 2022 | July 21, 2022 | Walk |  227 | 1.60 | 1657 | 17.21 | 1.70 | 3.49 |  35.29 | 131 |  3001 |\n",
       "| July 21, 2022 | July 21, 2022 | Run  |  422 | 3.10 | 1857 |  9.98 | 1.21 | 6.01 |  49.56 | 158 |  4849 |\n",
       "| July 20, 2022 | July 20, 2022 | Run  |  836 | 6.20 | 3689 |  9.92 | 0.00 | 6.05 |   0.00 |  NA |  9775 |\n",
       "| July 18, 2022 | July 18, 2022 | Run  | 1175 | 9.00 | 5709 | 10.57 | 0.46 | 5.68 | 130.30 | 143 | 14918 |\n",
       "| July 17, 2022 | July 17, 2022 | Run  |  404 | 3.10 | 1593 |  8.56 | 0.00 | 7.01 |   0.00 |  NA |  4286 |\n",
       "| July 17, 2022 | July 16, 2022 | Run  |  405 | 3.10 | 1698 |  9.13 | 0.00 | 6.57 |   0.00 |  NA |  4537 |\n",
       "| July 14, 2022 | July 14, 2022 | Run  |  452 | 3.76 | 2157 |  9.56 | 1.00 | 6.27 |  59.92 | 148 |  5684 |\n",
       "| July 13, 2022 | July 13, 2022 | Run  |  398 | 3.11 | 1912 | 10.25 | 1.09 | 5.85 |  54.80 | 150 |  4991 |\n",
       "| July 12, 2022 | July 12, 2022 | Run  |  421 | 3.11 | 1968 | 10.55 | 1.07 | 5.69 |  56.08 | 155 |  5134 |\n",
       "| July 12, 2022 | July 11, 2022 | Run  |  197 | 2.00 | 1409 | 11.74 | 1.91 | 5.11 |  31.34 | 145 |  3302 |\n",
       "| July 10, 2022 | July 10, 2022 | Run  |  429 | 3.10 | 2301 | 12.37 | 0.99 | 4.85 |  60.41 | 149 |  5125 |\n",
       "| July 9, 2022  | July 9, 2022  | Run  |  430 | 3.10 | 2005 | 10.77 | 1.17 | 5.57 |  51.45 | 157 |  5261 |\n",
       "| July 8, 2022  | July 8, 2022  | Run  |  454 | 3.11 | 1988 | 10.65 | 3.88 | 5.63 |  15.47 | 165 |  5202 |\n",
       "| June 24, 2022 | June 24, 2022 | Run  |  400 | 3.10 | 1554 |  8.35 | 0.00 | 7.18 |   0.00 |  NA |  4192 |\n",
       "| June 23, 2022 | June 23, 2022 | Run  |  410 | 3.10 | 1748 |  9.40 | 0.00 | 6.38 |   0.00 |  NA |  4656 |\n",
       "| June 21, 2022 | June 22, 2022 | Run  |  403 | 3.10 | 1665 |  8.95 | 0.00 | 6.70 |   0.00 |  NA |  4458 |\n",
       "| June 19, 2022 | June 19, 2022 | Run  |  378 | 2.66 | 1800 | 11.28 | 0.00 | 5.32 |   0.00 |  NA |  4713 |\n",
       "| June 18, 2022 | June 18, 2022 | Run  |  370 | 2.58 | 1698 | 10.97 | 1.11 | 5.47 |  53.94 | 159 |  4431 |\n",
       "| June 16, 2022 | June 17, 2022 | Run  |  315 | 2.33 | 1391 |  9.95 | 0.00 | 6.03 |   0.00 |  NA |  3684 |\n",
       "| June 15, 2022 | June 15, 2022 | Run  |  405 | 3.10 | 1691 |  9.09 | 0.00 | 6.60 |   0.00 |  NA |  4520 |\n",
       "| June 12, 2022 | June 12, 2022 | Run  |  428 | 3.10 | 1955 | 10.52 | 3.01 | 5.71 |  19.95 |   0 |  5052 |\n",
       "| June 10, 2022 | June 10, 2022 | Run  |  881 | 6.20 | 4182 | 11.23 | 0.60 | 5.34 | 100.05 | 153 | 10479 |\n",
       "| June 9, 2022  | June 8, 2022  | Run  |  407 | 3.11 | 1702 |  9.12 | 0.00 | 6.58 |   0.00 | 153 |  4548 |\n",
       "| June 6, 2022  | June 6, 2022  | Run  |  590 | 4.50 | 2924 | 10.82 | 1.15 | 5.54 |  52.33 | 145 |  7739 |\n",
       "| June 5, 2022  | June 5, 2022  | Walk |  253 | 1.88 | 2402 | 21.28 | 1.79 | 2.82 |  33.49 | 109 |  3994 |\n",
       "| June 5, 2022  | June 5, 2022  | Run  |  302 | 2.44 | 1487 | 10.17 | 0.45 | 5.90 | 132.28 | 148 |  3889 |\n",
       "| June 4, 2022  | June 4, 2022  | Run  |  856 | 6.24 | 3946 | 10.53 | 1.07 | 5.70 |  56.16 | 156 | 10427 |\n",
       "| June 3, 2022  | June 3, 2022  | Run  |  397 | 3.11 | 1864 |  9.99 | 0.95 | 6.01 |  63.08 | 152 |  4863 |\n",
       "| ⋮ | ⋮ | ⋮ | ⋮ | ⋮ | ⋮ | ⋮ | ⋮ | ⋮ | ⋮ | ⋮ | ⋮ |\n",
       "| June 14, 2019  | June 14, 2019  | Weight Workout   | 215 | 0.00 | 1560 |  0.00 |   0.00 | 0.00 |  0.00 |   0 |   NA |\n",
       "| June 14, 2019  | June 14, 2019  | Walk             | 323 | 3.15 | 3080 | 16.30 |   0.00 | 3.68 |  0.00 |  NA | 6202 |\n",
       "| June 12, 2019  | June 12, 2019  | Run              | 215 | 2.09 | 1962 | 15.65 |   3.21 | 3.83 | 18.70 | 111 | 3819 |\n",
       "| June 11, 2019  | June 11, 2019  | Walk             | 106 | 1.04 | 1045 | 16.75 |  13.55 | 3.58 |  4.43 |  NA | 1831 |\n",
       "| June 11, 2019  | June 11, 2019  | Weight Workout   | 211 | 0.00 | 1526 |  0.00 |  57.79 | 0.00 |  1.04 |  NA |   NA |\n",
       "| June 10, 2019  | June 10, 2019  | Walk             | 299 | 2.78 | 2458 | 14.74 |   5.71 | 4.07 | 10.51 |   0 | 4676 |\n",
       "| June 9, 2019   | June 9, 2019   | Walk             | 293 | 2.88 | 2986 | 17.28 |   0.00 | 3.47 |  0.00 |  73 | 5876 |\n",
       "| June 8, 2019   | June 8, 2019   | Run              | 190 | 1.57 | 1307 | 13.84 |   1.25 | 4.33 | 47.97 | 116 | 2729 |\n",
       "| June 6, 2019   | June 7, 2019   | Weight Workout   |  96 | 0.00 |  692 |  0.00 |   0.00 | 0.00 |  0.00 |  NA |   NA |\n",
       "| June 6, 2019   | June 6, 2019   | Walk             | 321 | 3.13 | 3064 | 16.32 |  14.81 | 3.68 |  4.05 |  NA |   55 |\n",
       "| June 6, 2019   | June 6, 2019   | Walk             |   2 | 0.02 |   10 |  9.74 |  13.60 | 6.16 |  4.41 | 106 |   11 |\n",
       "| June 5, 2019   | June 5, 2019   | Weight Workout   |  83 | 0.00 |  600 |  0.00 |   0.00 | 0.00 |  0.00 |  NA |   NA |\n",
       "| June 5, 2019   | June 5, 2019   | Walk             |   0 | 0.00 |    3 |  0.00 |   0.00 | 0.00 |  0.00 |   0 |   NA |\n",
       "| June 5, 2019   | June 5, 2019   | Walk             | 249 | 2.22 | 1921 | 14.43 |  13.25 | 4.16 |  4.53 | 110 | 3887 |\n",
       "| June 3, 2019   | June 3, 2019   | Walk             | 309 | 2.99 | 2764 | 15.41 |   0.00 | 3.89 |  0.00 |  NA | 5745 |\n",
       "| June 2, 2019   | June 2, 2019   | Walk             | 316 | 3.10 | 3180 | 17.10 |   0.00 | 3.51 |  0.00 |  NA | 6289 |\n",
       "| June 2, 2019   | June 2, 2019   | Weight Workout   |  79 | 0.00 |  600 |  0.00 |   0.00 | 0.00 |  0.00 |  NA |   NA |\n",
       "| June 2, 2019   | June 2, 2019   | Weight Workout   |  79 | 0.00 |  600 |  0.00 |   0.00 | 0.00 |  0.00 |  NA |   NA |\n",
       "| May 30, 2019   | May 30, 2019   | Walk             | 307 | 3.10 | 2866 | 15.41 | 182.40 | 3.89 |  0.33 |  NA | 6104 |\n",
       "| May 28, 2019   | May 28, 2019   | Walk             | 248 | 2.22 | 1886 | 14.16 |   1.40 | 4.24 | 42.80 | 102 | 3708 |\n",
       "| May 27, 2019   | May 27, 2019   | Walk             | 322 | 2.22 | 3541 | 26.36 |   4.21 | 2.28 | 14.25 |  93 | 6149 |\n",
       "| May 27, 2019   | May 23, 2019   | Walk             | 266 | 2.62 | 1946 | 12.36 |   4.68 | 4.85 | 12.83 | 136 | 4074 |\n",
       "| May 19, 2019   | May 19, 2019   | Run              | 419 | 3.11 | 2197 | 11.69 |   2.06 | 5.13 | 29.17 | 139 | 5295 |\n",
       "| May 15, 2019   | May 15, 2019   | Indoor Run / Jog | 403 | 3.13 | 2344 | 12.48 |   0.00 | 4.81 |  0.00 |  NA | 6926 |\n",
       "| May 13, 2019   | May 13, 2019   | Run              | 258 | 1.96 | 1214 | 10.32 |   2.67 | 5.82 | 22.45 |   0 | 3209 |\n",
       "| May 13, 2019   | May 13, 2019   | Indoor Run / Jog | 191 | 1.42 |  927 | 10.88 |  17.09 | 5.51 |  3.51 | 158 |   67 |\n",
       "| Oct. 19, 2016  | Oct. 19, 2016  | Class Workout    | 186 | 0.00 | 3600 |  0.00 |   0.00 | 0.00 |  0.00 |  NA |   NA |\n",
       "| Oct. 12, 2016  | Oct. 12, 2016  | Class Workout    | 183 | 0.00 | 3600 |  0.00 |   0.00 | 0.00 |  0.00 |  NA |   NA |\n",
       "| Sept. 26, 2016 | Sept. 26, 2016 | Class Workout    | 186 | 0.00 | 3600 |  0.00 |   0.00 | 0.00 |  0.00 |  NA |   NA |\n",
       "| Aug. 12, 2016  | Aug. 12, 2016  | Class Workout    | 189 | 0.00 | 3600 |  0.00 |   0.00 | 0.00 |  0.00 |  NA |   NA |\n",
       "\n"
      ],
      "text/plain": [
       "    Date.Submitted Workout.Date   Activity.Type    Calories.Burned..kCal.\n",
       "1   July 25, 2022  July 25, 2022  Run               430                  \n",
       "2   July 24, 2022  July 24, 2022  Run               415                  \n",
       "3   July 21, 2022  July 21, 2022  Walk              227                  \n",
       "4   July 21, 2022  July 21, 2022  Run               422                  \n",
       "5   July 20, 2022  July 20, 2022  Run               836                  \n",
       "6   July 18, 2022  July 18, 2022  Run              1175                  \n",
       "7   July 17, 2022  July 17, 2022  Run               404                  \n",
       "8   July 17, 2022  July 16, 2022  Run               405                  \n",
       "9   July 14, 2022  July 14, 2022  Run               452                  \n",
       "10  July 13, 2022  July 13, 2022  Run               398                  \n",
       "11  July 12, 2022  July 12, 2022  Run               421                  \n",
       "12  July 12, 2022  July 11, 2022  Run               197                  \n",
       "13  July 10, 2022  July 10, 2022  Run               429                  \n",
       "14  July 9, 2022   July 9, 2022   Run               430                  \n",
       "15  July 8, 2022   July 8, 2022   Run               454                  \n",
       "16  June 24, 2022  June 24, 2022  Run               400                  \n",
       "17  June 23, 2022  June 23, 2022  Run               410                  \n",
       "18  June 21, 2022  June 22, 2022  Run               403                  \n",
       "19  June 19, 2022  June 19, 2022  Run               378                  \n",
       "20  June 18, 2022  June 18, 2022  Run               370                  \n",
       "21  June 16, 2022  June 17, 2022  Run               315                  \n",
       "22  June 15, 2022  June 15, 2022  Run               405                  \n",
       "23  June 12, 2022  June 12, 2022  Run               428                  \n",
       "24  June 10, 2022  June 10, 2022  Run               881                  \n",
       "25  June 9, 2022   June 8, 2022   Run               407                  \n",
       "26  June 6, 2022   June 6, 2022   Run               590                  \n",
       "27  June 5, 2022   June 5, 2022   Walk              253                  \n",
       "28  June 5, 2022   June 5, 2022   Run               302                  \n",
       "29  June 4, 2022   June 4, 2022   Run               856                  \n",
       "30  June 3, 2022   June 3, 2022   Run               397                  \n",
       "<U+22EE>   <U+22EE>       <U+22EE>       <U+22EE>         <U+22EE>              \n",
       "679 June 14, 2019  June 14, 2019  Weight Workout   215                   \n",
       "680 June 14, 2019  June 14, 2019  Walk             323                   \n",
       "681 June 12, 2019  June 12, 2019  Run              215                   \n",
       "682 June 11, 2019  June 11, 2019  Walk             106                   \n",
       "683 June 11, 2019  June 11, 2019  Weight Workout   211                   \n",
       "684 June 10, 2019  June 10, 2019  Walk             299                   \n",
       "685 June 9, 2019   June 9, 2019   Walk             293                   \n",
       "686 June 8, 2019   June 8, 2019   Run              190                   \n",
       "687 June 6, 2019   June 7, 2019   Weight Workout    96                   \n",
       "688 June 6, 2019   June 6, 2019   Walk             321                   \n",
       "689 June 6, 2019   June 6, 2019   Walk               2                   \n",
       "690 June 5, 2019   June 5, 2019   Weight Workout    83                   \n",
       "691 June 5, 2019   June 5, 2019   Walk               0                   \n",
       "692 June 5, 2019   June 5, 2019   Walk             249                   \n",
       "693 June 3, 2019   June 3, 2019   Walk             309                   \n",
       "694 June 2, 2019   June 2, 2019   Walk             316                   \n",
       "695 June 2, 2019   June 2, 2019   Weight Workout    79                   \n",
       "696 June 2, 2019   June 2, 2019   Weight Workout    79                   \n",
       "697 May 30, 2019   May 30, 2019   Walk             307                   \n",
       "698 May 28, 2019   May 28, 2019   Walk             248                   \n",
       "699 May 27, 2019   May 27, 2019   Walk             322                   \n",
       "700 May 27, 2019   May 23, 2019   Walk             266                   \n",
       "701 May 19, 2019   May 19, 2019   Run              419                   \n",
       "702 May 15, 2019   May 15, 2019   Indoor Run / Jog 403                   \n",
       "703 May 13, 2019   May 13, 2019   Run              258                   \n",
       "704 May 13, 2019   May 13, 2019   Indoor Run / Jog 191                   \n",
       "705 Oct. 19, 2016  Oct. 19, 2016  Class Workout    186                   \n",
       "706 Oct. 12, 2016  Oct. 12, 2016  Class Workout    183                   \n",
       "707 Sept. 26, 2016 Sept. 26, 2016 Class Workout    186                   \n",
       "708 Aug. 12, 2016  Aug. 12, 2016  Class Workout    189                   \n",
       "    Distance..mi. Workout.Time..seconds. Avg.Pace..min.mi. Max.Pace..min.mi.\n",
       "1   4.26          6268                   24.48             0.83             \n",
       "2   3.10          1805                    9.70             0.00             \n",
       "3   1.60          1657                   17.21             1.70             \n",
       "4   3.10          1857                    9.98             1.21             \n",
       "5   6.20          3689                    9.92             0.00             \n",
       "6   9.00          5709                   10.57             0.46             \n",
       "7   3.10          1593                    8.56             0.00             \n",
       "8   3.10          1698                    9.13             0.00             \n",
       "9   3.76          2157                    9.56             1.00             \n",
       "10  3.11          1912                   10.25             1.09             \n",
       "11  3.11          1968                   10.55             1.07             \n",
       "12  2.00          1409                   11.74             1.91             \n",
       "13  3.10          2301                   12.37             0.99             \n",
       "14  3.10          2005                   10.77             1.17             \n",
       "15  3.11          1988                   10.65             3.88             \n",
       "16  3.10          1554                    8.35             0.00             \n",
       "17  3.10          1748                    9.40             0.00             \n",
       "18  3.10          1665                    8.95             0.00             \n",
       "19  2.66          1800                   11.28             0.00             \n",
       "20  2.58          1698                   10.97             1.11             \n",
       "21  2.33          1391                    9.95             0.00             \n",
       "22  3.10          1691                    9.09             0.00             \n",
       "23  3.10          1955                   10.52             3.01             \n",
       "24  6.20          4182                   11.23             0.60             \n",
       "25  3.11          1702                    9.12             0.00             \n",
       "26  4.50          2924                   10.82             1.15             \n",
       "27  1.88          2402                   21.28             1.79             \n",
       "28  2.44          1487                   10.17             0.45             \n",
       "29  6.24          3946                   10.53             1.07             \n",
       "30  3.11          1864                    9.99             0.95             \n",
       "<U+22EE>   <U+22EE>      <U+22EE>               <U+22EE>          <U+22EE>         \n",
       "679 0.00          1560                    0.00               0.00           \n",
       "680 3.15          3080                   16.30               0.00           \n",
       "681 2.09          1962                   15.65               3.21           \n",
       "682 1.04          1045                   16.75              13.55           \n",
       "683 0.00          1526                    0.00              57.79           \n",
       "684 2.78          2458                   14.74               5.71           \n",
       "685 2.88          2986                   17.28               0.00           \n",
       "686 1.57          1307                   13.84               1.25           \n",
       "687 0.00           692                    0.00               0.00           \n",
       "688 3.13          3064                   16.32              14.81           \n",
       "689 0.02            10                    9.74              13.60           \n",
       "690 0.00           600                    0.00               0.00           \n",
       "691 0.00             3                    0.00               0.00           \n",
       "692 2.22          1921                   14.43              13.25           \n",
       "693 2.99          2764                   15.41               0.00           \n",
       "694 3.10          3180                   17.10               0.00           \n",
       "695 0.00           600                    0.00               0.00           \n",
       "696 0.00           600                    0.00               0.00           \n",
       "697 3.10          2866                   15.41             182.40           \n",
       "698 2.22          1886                   14.16               1.40           \n",
       "699 2.22          3541                   26.36               4.21           \n",
       "700 2.62          1946                   12.36               4.68           \n",
       "701 3.11          2197                   11.69               2.06           \n",
       "702 3.13          2344                   12.48               0.00           \n",
       "703 1.96          1214                   10.32               2.67           \n",
       "704 1.42           927                   10.88              17.09           \n",
       "705 0.00          3600                    0.00               0.00           \n",
       "706 0.00          3600                    0.00               0.00           \n",
       "707 0.00          3600                    0.00               0.00           \n",
       "708 0.00          3600                    0.00               0.00           \n",
       "    Avg.Speed..mi.h. Max.Speed..mi.h. Avg.Heart.Rate Steps\n",
       "1   2.45              72.12            87             8227\n",
       "2   6.18               0.00            NA             4793\n",
       "3   3.49              35.29           131             3001\n",
       "4   6.01              49.56           158             4849\n",
       "5   6.05               0.00            NA             9775\n",
       "6   5.68             130.30           143            14918\n",
       "7   7.01               0.00            NA             4286\n",
       "8   6.57               0.00            NA             4537\n",
       "9   6.27              59.92           148             5684\n",
       "10  5.85              54.80           150             4991\n",
       "11  5.69              56.08           155             5134\n",
       "12  5.11              31.34           145             3302\n",
       "13  4.85              60.41           149             5125\n",
       "14  5.57              51.45           157             5261\n",
       "15  5.63              15.47           165             5202\n",
       "16  7.18               0.00            NA             4192\n",
       "17  6.38               0.00            NA             4656\n",
       "18  6.70               0.00            NA             4458\n",
       "19  5.32               0.00            NA             4713\n",
       "20  5.47              53.94           159             4431\n",
       "21  6.03               0.00            NA             3684\n",
       "22  6.60               0.00            NA             4520\n",
       "23  5.71              19.95             0             5052\n",
       "24  5.34             100.05           153            10479\n",
       "25  6.58               0.00           153             4548\n",
       "26  5.54              52.33           145             7739\n",
       "27  2.82              33.49           109             3994\n",
       "28  5.90             132.28           148             3889\n",
       "29  5.70              56.16           156            10427\n",
       "30  6.01              63.08           152             4863\n",
       "<U+22EE>   <U+22EE>         <U+22EE>         <U+22EE>       <U+22EE>\n",
       "679 0.00              0.00              0              NA \n",
       "680 3.68              0.00             NA            6202 \n",
       "681 3.83             18.70            111            3819 \n",
       "682 3.58              4.43             NA            1831 \n",
       "683 0.00              1.04             NA              NA \n",
       "684 4.07             10.51              0            4676 \n",
       "685 3.47              0.00             73            5876 \n",
       "686 4.33             47.97            116            2729 \n",
       "687 0.00              0.00             NA              NA \n",
       "688 3.68              4.05             NA              55 \n",
       "689 6.16              4.41            106              11 \n",
       "690 0.00              0.00             NA              NA \n",
       "691 0.00              0.00              0              NA \n",
       "692 4.16              4.53            110            3887 \n",
       "693 3.89              0.00             NA            5745 \n",
       "694 3.51              0.00             NA            6289 \n",
       "695 0.00              0.00             NA              NA \n",
       "696 0.00              0.00             NA              NA \n",
       "697 3.89              0.33             NA            6104 \n",
       "698 4.24             42.80            102            3708 \n",
       "699 2.28             14.25             93            6149 \n",
       "700 4.85             12.83            136            4074 \n",
       "701 5.13             29.17            139            5295 \n",
       "702 4.81              0.00             NA            6926 \n",
       "703 5.82             22.45              0            3209 \n",
       "704 5.51              3.51            158              67 \n",
       "705 0.00              0.00             NA              NA \n",
       "706 0.00              0.00             NA              NA \n",
       "707 0.00              0.00             NA              NA \n",
       "708 0.00              0.00             NA              NA "
      ]
     },
     "metadata": {},
     "output_type": "display_data"
    }
   ],
   "source": [
    "df <- within(df, rm('Link', 'Notes', 'Source'))\n",
    "library(dplyr); df %>% mutate_if(is.numeric, round, digits=2)"
   ]
  },
  {
   "cell_type": "code",
   "execution_count": 148,
   "metadata": {
    "vscode": {
     "languageId": "r"
    }
   },
   "outputs": [],
   "source": [
    "# library(lubridate)\n",
    "# library(tidyverse)\n",
    "\n",
    "# df <- df %>% mutate(Date.Submitted=mdy(Date.Submitted))\n",
    "# df <- df %>% mutate(Workout.Date=mdy(Workout.Date))"
   ]
  },
  {
   "cell_type": "code",
   "execution_count": 149,
   "metadata": {
    "vscode": {
     "languageId": "r"
    }
   },
   "outputs": [
    {
     "data": {
      "text/html": [
       "<table class=\"dataframe\">\n",
       "<caption>A data.frame: 6 × 12</caption>\n",
       "<thead>\n",
       "\t<tr><th></th><th scope=col>Date.Submitted</th><th scope=col>Workout.Date</th><th scope=col>Activity.Type</th><th scope=col>Calories.Burned..kCal.</th><th scope=col>Distance..mi.</th><th scope=col>Workout.Time..seconds.</th><th scope=col>Avg.Pace..min.mi.</th><th scope=col>Max.Pace..min.mi.</th><th scope=col>Avg.Speed..mi.h.</th><th scope=col>Max.Speed..mi.h.</th><th scope=col>Avg.Heart.Rate</th><th scope=col>Steps</th></tr>\n",
       "\t<tr><th></th><th scope=col>&lt;chr&gt;</th><th scope=col>&lt;chr&gt;</th><th scope=col>&lt;chr&gt;</th><th scope=col>&lt;int&gt;</th><th scope=col>&lt;dbl&gt;</th><th scope=col>&lt;int&gt;</th><th scope=col>&lt;dbl&gt;</th><th scope=col>&lt;dbl&gt;</th><th scope=col>&lt;dbl&gt;</th><th scope=col>&lt;dbl&gt;</th><th scope=col>&lt;int&gt;</th><th scope=col>&lt;int&gt;</th></tr>\n",
       "</thead>\n",
       "<tbody>\n",
       "\t<tr><th scope=row>1</th><td>July 25, 2022</td><td>July 25, 2022</td><td>Run </td><td> 430</td><td>4.25520</td><td>6268</td><td>24.48190</td><td>0.831993</td><td>2.45079</td><td> 72.1160</td><td> 87</td><td> 8227</td></tr>\n",
       "\t<tr><th scope=row>2</th><td>July 24, 2022</td><td>July 24, 2022</td><td>Run </td><td> 415</td><td>3.10000</td><td>1805</td><td> 9.70430</td><td>0.000000</td><td>6.18283</td><td>  0.0000</td><td> NA</td><td> 4793</td></tr>\n",
       "\t<tr><th scope=row>3</th><td>July 21, 2022</td><td>July 21, 2022</td><td>Walk</td><td> 227</td><td>1.60334</td><td>1657</td><td>17.21160</td><td>1.700270</td><td>3.48602</td><td> 35.2886</td><td>131</td><td> 3001</td></tr>\n",
       "\t<tr><th scope=row>4</th><td>July 21, 2022</td><td>July 21, 2022</td><td>Run </td><td> 422</td><td>3.10069</td><td>1857</td><td> 9.97780</td><td>1.210670</td><td>6.01335</td><td> 49.5592</td><td>158</td><td> 4849</td></tr>\n",
       "\t<tr><th scope=row>5</th><td>July 20, 2022</td><td>July 20, 2022</td><td>Run </td><td> 836</td><td>6.20000</td><td>3689</td><td> 9.91667</td><td>0.000000</td><td>6.05042</td><td>  0.0000</td><td> NA</td><td> 9775</td></tr>\n",
       "\t<tr><th scope=row>6</th><td>July 18, 2022</td><td>July 18, 2022</td><td>Run </td><td>1175</td><td>9.00279</td><td>5709</td><td>10.56770</td><td>0.460460</td><td>5.67767</td><td>130.3040</td><td>143</td><td>14918</td></tr>\n",
       "</tbody>\n",
       "</table>\n"
      ],
      "text/latex": [
       "A data.frame: 6 × 12\n",
       "\\begin{tabular}{r|llllllllllll}\n",
       "  & Date.Submitted & Workout.Date & Activity.Type & Calories.Burned..kCal. & Distance..mi. & Workout.Time..seconds. & Avg.Pace..min.mi. & Max.Pace..min.mi. & Avg.Speed..mi.h. & Max.Speed..mi.h. & Avg.Heart.Rate & Steps\\\\\n",
       "  & <chr> & <chr> & <chr> & <int> & <dbl> & <int> & <dbl> & <dbl> & <dbl> & <dbl> & <int> & <int>\\\\\n",
       "\\hline\n",
       "\t1 & July 25, 2022 & July 25, 2022 & Run  &  430 & 4.25520 & 6268 & 24.48190 & 0.831993 & 2.45079 &  72.1160 &  87 &  8227\\\\\n",
       "\t2 & July 24, 2022 & July 24, 2022 & Run  &  415 & 3.10000 & 1805 &  9.70430 & 0.000000 & 6.18283 &   0.0000 &  NA &  4793\\\\\n",
       "\t3 & July 21, 2022 & July 21, 2022 & Walk &  227 & 1.60334 & 1657 & 17.21160 & 1.700270 & 3.48602 &  35.2886 & 131 &  3001\\\\\n",
       "\t4 & July 21, 2022 & July 21, 2022 & Run  &  422 & 3.10069 & 1857 &  9.97780 & 1.210670 & 6.01335 &  49.5592 & 158 &  4849\\\\\n",
       "\t5 & July 20, 2022 & July 20, 2022 & Run  &  836 & 6.20000 & 3689 &  9.91667 & 0.000000 & 6.05042 &   0.0000 &  NA &  9775\\\\\n",
       "\t6 & July 18, 2022 & July 18, 2022 & Run  & 1175 & 9.00279 & 5709 & 10.56770 & 0.460460 & 5.67767 & 130.3040 & 143 & 14918\\\\\n",
       "\\end{tabular}\n"
      ],
      "text/markdown": [
       "\n",
       "A data.frame: 6 × 12\n",
       "\n",
       "| <!--/--> | Date.Submitted &lt;chr&gt; | Workout.Date &lt;chr&gt; | Activity.Type &lt;chr&gt; | Calories.Burned..kCal. &lt;int&gt; | Distance..mi. &lt;dbl&gt; | Workout.Time..seconds. &lt;int&gt; | Avg.Pace..min.mi. &lt;dbl&gt; | Max.Pace..min.mi. &lt;dbl&gt; | Avg.Speed..mi.h. &lt;dbl&gt; | Max.Speed..mi.h. &lt;dbl&gt; | Avg.Heart.Rate &lt;int&gt; | Steps &lt;int&gt; |\n",
       "|---|---|---|---|---|---|---|---|---|---|---|---|---|\n",
       "| 1 | July 25, 2022 | July 25, 2022 | Run  |  430 | 4.25520 | 6268 | 24.48190 | 0.831993 | 2.45079 |  72.1160 |  87 |  8227 |\n",
       "| 2 | July 24, 2022 | July 24, 2022 | Run  |  415 | 3.10000 | 1805 |  9.70430 | 0.000000 | 6.18283 |   0.0000 |  NA |  4793 |\n",
       "| 3 | July 21, 2022 | July 21, 2022 | Walk |  227 | 1.60334 | 1657 | 17.21160 | 1.700270 | 3.48602 |  35.2886 | 131 |  3001 |\n",
       "| 4 | July 21, 2022 | July 21, 2022 | Run  |  422 | 3.10069 | 1857 |  9.97780 | 1.210670 | 6.01335 |  49.5592 | 158 |  4849 |\n",
       "| 5 | July 20, 2022 | July 20, 2022 | Run  |  836 | 6.20000 | 3689 |  9.91667 | 0.000000 | 6.05042 |   0.0000 |  NA |  9775 |\n",
       "| 6 | July 18, 2022 | July 18, 2022 | Run  | 1175 | 9.00279 | 5709 | 10.56770 | 0.460460 | 5.67767 | 130.3040 | 143 | 14918 |\n",
       "\n"
      ],
      "text/plain": [
       "  Date.Submitted Workout.Date  Activity.Type Calories.Burned..kCal.\n",
       "1 July 25, 2022  July 25, 2022 Run            430                  \n",
       "2 July 24, 2022  July 24, 2022 Run            415                  \n",
       "3 July 21, 2022  July 21, 2022 Walk           227                  \n",
       "4 July 21, 2022  July 21, 2022 Run            422                  \n",
       "5 July 20, 2022  July 20, 2022 Run            836                  \n",
       "6 July 18, 2022  July 18, 2022 Run           1175                  \n",
       "  Distance..mi. Workout.Time..seconds. Avg.Pace..min.mi. Max.Pace..min.mi.\n",
       "1 4.25520       6268                   24.48190          0.831993         \n",
       "2 3.10000       1805                    9.70430          0.000000         \n",
       "3 1.60334       1657                   17.21160          1.700270         \n",
       "4 3.10069       1857                    9.97780          1.210670         \n",
       "5 6.20000       3689                    9.91667          0.000000         \n",
       "6 9.00279       5709                   10.56770          0.460460         \n",
       "  Avg.Speed..mi.h. Max.Speed..mi.h. Avg.Heart.Rate Steps\n",
       "1 2.45079           72.1160          87             8227\n",
       "2 6.18283            0.0000          NA             4793\n",
       "3 3.48602           35.2886         131             3001\n",
       "4 6.01335           49.5592         158             4849\n",
       "5 6.05042            0.0000          NA             9775\n",
       "6 5.67767          130.3040         143            14918"
      ]
     },
     "metadata": {},
     "output_type": "display_data"
    }
   ],
   "source": [
    "head(df)"
   ]
  },
  {
   "cell_type": "code",
   "execution_count": 150,
   "metadata": {
    "vscode": {
     "languageId": "r"
    }
   },
   "outputs": [
    {
     "data": {
      "text/html": [
       "<table class=\"dataframe\">\n",
       "<caption>A data.frame: 2 × 12</caption>\n",
       "<thead>\n",
       "\t<tr><th></th><th scope=col>Date.Sub</th><th scope=col>Date</th><th scope=col>Activity</th><th scope=col>Cal.Burned</th><th scope=col>Distance</th><th scope=col>Duration</th><th scope=col>Avg.Pace</th><th scope=col>Max.Pace</th><th scope=col>Avg.Spd</th><th scope=col>Max.Spd</th><th scope=col>Avg.HR</th><th scope=col>Steps</th></tr>\n",
       "\t<tr><th></th><th scope=col>&lt;chr&gt;</th><th scope=col>&lt;chr&gt;</th><th scope=col>&lt;chr&gt;</th><th scope=col>&lt;int&gt;</th><th scope=col>&lt;dbl&gt;</th><th scope=col>&lt;int&gt;</th><th scope=col>&lt;dbl&gt;</th><th scope=col>&lt;dbl&gt;</th><th scope=col>&lt;dbl&gt;</th><th scope=col>&lt;dbl&gt;</th><th scope=col>&lt;int&gt;</th><th scope=col>&lt;int&gt;</th></tr>\n",
       "</thead>\n",
       "<tbody>\n",
       "\t<tr><th scope=row>1</th><td>July 25, 2022</td><td>July 25, 2022</td><td>Run</td><td>430</td><td>4.2552</td><td>6268</td><td>24.4819</td><td>0.831993</td><td>2.45079</td><td>72.116</td><td>87</td><td>8227</td></tr>\n",
       "\t<tr><th scope=row>2</th><td>July 24, 2022</td><td>July 24, 2022</td><td>Run</td><td>415</td><td>3.1000</td><td>1805</td><td> 9.7043</td><td>0.000000</td><td>6.18283</td><td> 0.000</td><td>NA</td><td>4793</td></tr>\n",
       "</tbody>\n",
       "</table>\n"
      ],
      "text/latex": [
       "A data.frame: 2 × 12\n",
       "\\begin{tabular}{r|llllllllllll}\n",
       "  & Date.Sub & Date & Activity & Cal.Burned & Distance & Duration & Avg.Pace & Max.Pace & Avg.Spd & Max.Spd & Avg.HR & Steps\\\\\n",
       "  & <chr> & <chr> & <chr> & <int> & <dbl> & <int> & <dbl> & <dbl> & <dbl> & <dbl> & <int> & <int>\\\\\n",
       "\\hline\n",
       "\t1 & July 25, 2022 & July 25, 2022 & Run & 430 & 4.2552 & 6268 & 24.4819 & 0.831993 & 2.45079 & 72.116 & 87 & 8227\\\\\n",
       "\t2 & July 24, 2022 & July 24, 2022 & Run & 415 & 3.1000 & 1805 &  9.7043 & 0.000000 & 6.18283 &  0.000 & NA & 4793\\\\\n",
       "\\end{tabular}\n"
      ],
      "text/markdown": [
       "\n",
       "A data.frame: 2 × 12\n",
       "\n",
       "| <!--/--> | Date.Sub &lt;chr&gt; | Date &lt;chr&gt; | Activity &lt;chr&gt; | Cal.Burned &lt;int&gt; | Distance &lt;dbl&gt; | Duration &lt;int&gt; | Avg.Pace &lt;dbl&gt; | Max.Pace &lt;dbl&gt; | Avg.Spd &lt;dbl&gt; | Max.Spd &lt;dbl&gt; | Avg.HR &lt;int&gt; | Steps &lt;int&gt; |\n",
       "|---|---|---|---|---|---|---|---|---|---|---|---|---|\n",
       "| 1 | July 25, 2022 | July 25, 2022 | Run | 430 | 4.2552 | 6268 | 24.4819 | 0.831993 | 2.45079 | 72.116 | 87 | 8227 |\n",
       "| 2 | July 24, 2022 | July 24, 2022 | Run | 415 | 3.1000 | 1805 |  9.7043 | 0.000000 | 6.18283 |  0.000 | NA | 4793 |\n",
       "\n"
      ],
      "text/plain": [
       "  Date.Sub      Date          Activity Cal.Burned Distance Duration Avg.Pace\n",
       "1 July 25, 2022 July 25, 2022 Run      430        4.2552   6268     24.4819 \n",
       "2 July 24, 2022 July 24, 2022 Run      415        3.1000   1805      9.7043 \n",
       "  Max.Pace Avg.Spd Max.Spd Avg.HR Steps\n",
       "1 0.831993 2.45079 72.116  87     8227 \n",
       "2 0.000000 6.18283  0.000  NA     4793 "
      ]
     },
     "metadata": {},
     "output_type": "display_data"
    }
   ],
   "source": [
    "names(df)[names(df) == \"Workout.Date\"] <- \"Date\"\n",
    "names(df)[names(df) == \"Date.Submitted\"] <- \"Date.Sub\"\n",
    "names(df)[names(df) == \"Workout.Time..seconds.\"] <- \"Duration\"\n",
    "names(df)[names(df) == \"Distance..mi.\"] <- \"Distance\"\n",
    "names(df)[names(df) == \"minutes\"] <- \"minutes\"\n",
    "names(df)[names(df) == \"Activity.Type\"] <- \"Activity\"\n",
    "names(df)[names(df) == \"Avg.Pace..min.mi.\"] <- \"Avg.Pace\"\n",
    "names(df)[names(df) == \"Max.Pace..min.mi.\"] <- \"Max.Pace\"\n",
    "names(df)[names(df) == \"Avg.Speed..mi.h.\"] <- \"Avg.Spd\"\n",
    "names(df)[names(df) == \"Avg.Heart.Rate\"] <- \"Avg.HR\"\n",
    "names(df)[names(df) == \"Max.Speed..mi.h.\"] <- \"Max.Spd\"\n",
    "names(df)[names(df) == \"Calories.Burned..kCal.\"] <- \"Cal.Burned\"\n",
    "head(df, 2)"
   ]
  },
  {
   "cell_type": "code",
   "execution_count": 151,
   "metadata": {
    "vscode": {
     "languageId": "r"
    }
   },
   "outputs": [],
   "source": [
    "names(df)[names(df) == \"Date\"] <- \"Workout.Date\"\n",
    "names(df)[names(df) == \"Date.Sub\"] <- \"Sub.Date\""
   ]
  },
  {
   "cell_type": "code",
   "execution_count": 152,
   "metadata": {
    "vscode": {
     "languageId": "r"
    }
   },
   "outputs": [],
   "source": [
    "MMRTBL <- 'CREATE TABLE \"RCZ17807\".MMRTBL (\"Sub.Date\" CHAR(25), \"Workout.Date\" CHAR(25), Activity CHAR(25), \"Cal.Burned\" DOUBLE, Distance DOUBLE, Duration DOUBLE, \"Avg.Pace\" DOUBLE, \"Max.Pace\" DOUBLE, \"Avg.Spd\" DOUBLE, \"Max.Spd\" DOUBLE, \"Avg.HR\" DOUBLE, Steps DOUBLE)'\n"
   ]
  },
  {
   "cell_type": "code",
   "execution_count": 153,
   "metadata": {
    "vscode": {
     "languageId": "r"
    }
   },
   "outputs": [],
   "source": [
    "# delete <- 'DELETE FROM \"RCZ17807\".MMRTBL4 WHERE \"Distance\" = 4.2552'"
   ]
  },
  {
   "cell_type": "code",
   "execution_count": 154,
   "metadata": {
    "vscode": {
     "languageId": "r"
    }
   },
   "outputs": [],
   "source": [
    "# sqlQuery(conn, MMRTBL2)"
   ]
  },
  {
   "cell_type": "code",
   "execution_count": 155,
   "metadata": {
    "vscode": {
     "languageId": "r"
    }
   },
   "outputs": [],
   "source": [
    "sqlSave(conn, df, \"MMRTBL\", rownames = FALSE)"
   ]
  },
  {
   "cell_type": "code",
   "execution_count": 156,
   "metadata": {
    "vscode": {
     "languageId": "r"
    }
   },
   "outputs": [],
   "source": [
    "sqlUpdate(conn, df, \"MMRTBL\", \"WorkoutDate\")"
   ]
  },
  {
   "cell_type": "code",
   "execution_count": 159,
   "metadata": {
    "vscode": {
     "languageId": "r"
    }
   },
   "outputs": [
    {
     "data": {
      "text/html": [
       "<table class=\"dataframe\">\n",
       "<caption>A data.frame: 2 × 12</caption>\n",
       "<thead>\n",
       "\t<tr><th></th><th scope=col>SubDate</th><th scope=col>WorkoutDate</th><th scope=col>Activity</th><th scope=col>CalBurned</th><th scope=col>Distance</th><th scope=col>Duration</th><th scope=col>AvgPace</th><th scope=col>MaxPace</th><th scope=col>AvgSpd</th><th scope=col>MaxSpd</th><th scope=col>AvgHR</th><th scope=col>Steps</th></tr>\n",
       "\t<tr><th></th><th scope=col>&lt;chr&gt;</th><th scope=col>&lt;chr&gt;</th><th scope=col>&lt;chr&gt;</th><th scope=col>&lt;int&gt;</th><th scope=col>&lt;dbl&gt;</th><th scope=col>&lt;int&gt;</th><th scope=col>&lt;dbl&gt;</th><th scope=col>&lt;dbl&gt;</th><th scope=col>&lt;dbl&gt;</th><th scope=col>&lt;dbl&gt;</th><th scope=col>&lt;int&gt;</th><th scope=col>&lt;int&gt;</th></tr>\n",
       "</thead>\n",
       "<tbody>\n",
       "\t<tr><th scope=row>1</th><td>July 25, 2022</td><td>July 25, 2022</td><td>Run</td><td>430</td><td>4.2552</td><td>6268</td><td>24.4819</td><td>0.831993</td><td>2.45079</td><td>72.116</td><td>87</td><td>8227</td></tr>\n",
       "\t<tr><th scope=row>2</th><td>July 24, 2022</td><td>July 24, 2022</td><td>Run</td><td>415</td><td>3.1000</td><td>1805</td><td> 9.7043</td><td>0.000000</td><td>6.18283</td><td> 0.000</td><td>NA</td><td>4793</td></tr>\n",
       "</tbody>\n",
       "</table>\n"
      ],
      "text/latex": [
       "A data.frame: 2 × 12\n",
       "\\begin{tabular}{r|llllllllllll}\n",
       "  & SubDate & WorkoutDate & Activity & CalBurned & Distance & Duration & AvgPace & MaxPace & AvgSpd & MaxSpd & AvgHR & Steps\\\\\n",
       "  & <chr> & <chr> & <chr> & <int> & <dbl> & <int> & <dbl> & <dbl> & <dbl> & <dbl> & <int> & <int>\\\\\n",
       "\\hline\n",
       "\t1 & July 25, 2022 & July 25, 2022 & Run & 430 & 4.2552 & 6268 & 24.4819 & 0.831993 & 2.45079 & 72.116 & 87 & 8227\\\\\n",
       "\t2 & July 24, 2022 & July 24, 2022 & Run & 415 & 3.1000 & 1805 &  9.7043 & 0.000000 & 6.18283 &  0.000 & NA & 4793\\\\\n",
       "\\end{tabular}\n"
      ],
      "text/markdown": [
       "\n",
       "A data.frame: 2 × 12\n",
       "\n",
       "| <!--/--> | SubDate &lt;chr&gt; | WorkoutDate &lt;chr&gt; | Activity &lt;chr&gt; | CalBurned &lt;int&gt; | Distance &lt;dbl&gt; | Duration &lt;int&gt; | AvgPace &lt;dbl&gt; | MaxPace &lt;dbl&gt; | AvgSpd &lt;dbl&gt; | MaxSpd &lt;dbl&gt; | AvgHR &lt;int&gt; | Steps &lt;int&gt; |\n",
       "|---|---|---|---|---|---|---|---|---|---|---|---|---|\n",
       "| 1 | July 25, 2022 | July 25, 2022 | Run | 430 | 4.2552 | 6268 | 24.4819 | 0.831993 | 2.45079 | 72.116 | 87 | 8227 |\n",
       "| 2 | July 24, 2022 | July 24, 2022 | Run | 415 | 3.1000 | 1805 |  9.7043 | 0.000000 | 6.18283 |  0.000 | NA | 4793 |\n",
       "\n"
      ],
      "text/plain": [
       "  SubDate       WorkoutDate   Activity CalBurned Distance Duration AvgPace\n",
       "1 July 25, 2022 July 25, 2022 Run      430       4.2552   6268     24.4819\n",
       "2 July 24, 2022 July 24, 2022 Run      415       3.1000   1805      9.7043\n",
       "  MaxPace  AvgSpd  MaxSpd AvgHR Steps\n",
       "1 0.831993 2.45079 72.116 87    8227 \n",
       "2 0.000000 6.18283  0.000 NA    4793 "
      ]
     },
     "metadata": {},
     "output_type": "display_data"
    }
   ],
   "source": [
    "sqlQuery(conn, \"SELECT * FROM MMRTBL LIMIT 2\")"
   ]
  },
  {
   "cell_type": "code",
   "execution_count": 158,
   "metadata": {
    "vscode": {
     "languageId": "r"
    }
   },
   "outputs": [],
   "source": [
    "# sqlQuery(conn, 'DELETE FROM \"RCZ17807\".MMRTBL4 WHERE \"SubDate\" = \"July 24, 2022\"')"
   ]
  },
  {
   "cell_type": "code",
   "execution_count": 142,
   "metadata": {
    "vscode": {
     "languageId": "r"
    }
   },
   "outputs": [],
   "source": [
    "# sqlDrop(conn, \"MMRTBL\")"
   ]
  },
  {
   "cell_type": "code",
   "execution_count": null,
   "metadata": {
    "vscode": {
     "languageId": "r"
    }
   },
   "outputs": [],
   "source": []
  }
 ],
 "metadata": {
  "kernelspec": {
   "display_name": "R",
   "language": "R",
   "name": "ir"
  },
  "language_info": {
   "codemirror_mode": "r",
   "file_extension": ".r",
   "mimetype": "text/x-r-source",
   "name": "R",
   "pygments_lexer": "r",
   "version": "4.1.1"
  },
  "orig_nbformat": 4,
  "vscode": {
   "interpreter": {
    "hash": "25a19fbe0a9132dfb9279d48d161753c6352f8f9478c2e74383d340069b907c3"
   }
  }
 },
 "nbformat": 4,
 "nbformat_minor": 2
}
