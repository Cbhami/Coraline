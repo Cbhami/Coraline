{
 "cells": [
  {
   "cell_type": "code",
   "execution_count": null,
   "metadata": {},
   "outputs": [
    {
     "ename": "",
     "evalue": "",
     "output_type": "error",
     "traceback": [
      "\u001b[1;31mFailed to start the Kernel. \n",
      "Traceback (most recent call last):\n",
      "  File \"/Library/Frameworks/Python.framework/Versions/3.10/lib/python3.10/site-packages/traitlets/config/application.py\", line 110, in inner\n",
      "    return method(app, *args, **kwargs)\n",
      "  File \"/Library/Frameworks/Python.framework/Versions/3.10/lib/python3.10/site-packages/traitlets/config/application.py\", line 820, in parse_command_line\n",
      "    self.update_config(self.cli_config)\n",
      "  File \"/Library/Frameworks/Python.framework/Versions/3.10/lib/python3.10/site-packages/traitlets/config/configurable.py\", line 230, in update_config\n",
      "    self._load_config(config)\n",
      "  File \"/Library/Frameworks/Python.framework/Versions/3.10/lib/python3.10/site-packages/traitlets/config/configurable.py\", line 167, in _load_config\n",
      "    with self.hold_trait_notifications():\n",
      "  File \"/Library/Frameworks/Python.framework/Versions/3.10/lib/python3.10/contextlib.py\", line 142, in __exit__\n",
      "    next(self.gen)\n",
      "  File \"/Library/Frameworks/Python.framework/Versions/3.10/lib/python3.10/site-packages/traitlets/traitlets.py\", line 1362, in hold_trait_notifications\n",
      "    raise e\n",
      "  File \"/Library/Frameworks/Python.framework/Versions/3.10/lib/python3.10/site-packages/traitlets/traitlets.py\", line 1348, in hold_trait_notifications\n",
      "    value = trait._cross_validate(self, getattr(self, name))\n",
      "  File \"/Library/Frameworks/Python.framework/Versions/3.10/lib/python3.10/site-packages/traitlets/traitlets.py\", line 729, in _cross_validate\n",
      "    value = obj._trait_validators[self.name](obj, proposal)\n",
      "  File \"/Library/Frameworks/Python.framework/Versions/3.10/lib/python3.10/site-packages/traitlets/traitlets.py\", line 1132, in __call__\n",
      "    return self.func(*args, **kwargs)\n",
      "  File \"/Library/Frameworks/Python.framework/Versions/3.10/lib/python3.10/site-packages/notebook/notebookapp.py\", line 1522, in _notebook_dir_validate\n",
      "    raise TraitError(trans.gettext(\"No such notebook dir: '%r'\") % value)\n",
      "traitlets.traitlets.TraitError: No such notebook dir: ''/Cbhami/Coraline''\n",
      "\n",
      "During handling of the above exception, another exception occurred:\n",
      "\n",
      "Traceback (most recent call last):\n",
      "  File \"/Users/colehamilton/.vscode/extensions/ms-toolsai.jupyter-2022.5.1001601848/pythonFiles/vscode_datascience_helpers/daemon/daemon_python.py\", line 54, in _decorator\n",
      "    return func(self, *args, **kwargs)\n",
      "  File \"/Users/colehamilton/.vscode/extensions/ms-toolsai.jupyter-2022.5.1001601848/pythonFiles/vscode_datascience_helpers/jupyter_daemon.py\", line 111, in m_exec_module_observable\n",
      "    self._start_notebook(args, cwd, env)\n",
      "  File \"/Users/colehamilton/.vscode/extensions/ms-toolsai.jupyter-2022.5.1001601848/pythonFiles/vscode_datascience_helpers/jupyter_daemon.py\", line 168, in _start_notebook\n",
      "    app.launch_new_instance()\n",
      "  File \"/Library/Frameworks/Python.framework/Versions/3.10/lib/python3.10/site-packages/jupyter_core/application.py\", line 269, in launch_instance\n",
      "    return super().launch_instance(argv=argv, **kwargs)\n",
      "  File \"/Library/Frameworks/Python.framework/Versions/3.10/lib/python3.10/site-packages/traitlets/config/application.py\", line 975, in launch_instance\n",
      "    app.initialize(argv)\n",
      "  File \"/Library/Frameworks/Python.framework/Versions/3.10/lib/python3.10/site-packages/traitlets/config/application.py\", line 110, in inner\n",
      "    return method(app, *args, **kwargs)\n",
      "  File \"/Library/Frameworks/Python.framework/Versions/3.10/lib/python3.10/site-packages/notebook/notebookapp.py\", line 2141, in initialize\n",
      "    super().initialize(argv)\n",
      "  File \"/Library/Frameworks/Python.framework/Versions/3.10/lib/python3.10/site-packages/traitlets/config/application.py\", line 110, in inner\n",
      "    return method(app, *args, **kwargs)\n",
      "  File \"/Library/Frameworks/Python.framework/Versions/3.10/lib/python3.10/site-packages/jupyter_core/application.py\", line 240, in initialize\n",
      "    self.parse_command_line(argv)\n",
      "  File \"/Library/Frameworks/Python.framework/Versions/3.10/lib/python3.10/site-packages/notebook/notebookapp.py\", line 1611, in parse_command_line\n",
      "    super().parse_command_line(argv)\n",
      "  File \"/Library/Frameworks/Python.framework/Versions/3.10/lib/python3.10/site-packages/traitlets/config/application.py\", line 114, in inner\n",
      "    app.exit(1)\n",
      "  File \"/Library/Frameworks/Python.framework/Versions/3.10/lib/python3.10/site-packages/traitlets/config/application.py\", line 963, in exit\n",
      "    sys.exit(exit_status)\n",
      "SystemExit: 1\n",
      "\n",
      "[C 04:00:34.245 NotebookApp] Bad config encountered during initialization: No such notebook dir: ''/Cbhami/Coraline''\n",
      "\n",
      "Failed to run jupyter as observable with args notebook --no-browser --notebook-dir=\"/Cbhami/Coraline\" --config=/var/folders/jc/lsnkvztn1bjg9r2y8xc5q2580000gn/T/b3554c06-c3bc-4fd1-81d6-0b22694c545e/jupyter_notebook_config.py --NotebookApp.iopub_data_rate_limit=10000000000.0. \n",
      "View Jupyter <a href='command:jupyter.viewOutput'>log</a> for further details."
     ]
    }
   ],
   "source": [
    "%pip install ibm_db"
   ]
  },
  {
   "cell_type": "code",
   "execution_count": null,
   "metadata": {},
   "outputs": [
    {
     "ename": "",
     "evalue": "",
     "output_type": "error",
     "traceback": [
      "\u001b[1;31mFailed to start the Kernel. \n",
      "Traceback (most recent call last):\n",
      "  File \"/Library/Frameworks/Python.framework/Versions/3.10/lib/python3.10/site-packages/traitlets/config/application.py\", line 110, in inner\n",
      "    return method(app, *args, **kwargs)\n",
      "  File \"/Library/Frameworks/Python.framework/Versions/3.10/lib/python3.10/site-packages/traitlets/config/application.py\", line 820, in parse_command_line\n",
      "    self.update_config(self.cli_config)\n",
      "  File \"/Library/Frameworks/Python.framework/Versions/3.10/lib/python3.10/site-packages/traitlets/config/configurable.py\", line 230, in update_config\n",
      "    self._load_config(config)\n",
      "  File \"/Library/Frameworks/Python.framework/Versions/3.10/lib/python3.10/site-packages/traitlets/config/configurable.py\", line 167, in _load_config\n",
      "    with self.hold_trait_notifications():\n",
      "  File \"/Library/Frameworks/Python.framework/Versions/3.10/lib/python3.10/contextlib.py\", line 142, in __exit__\n",
      "    next(self.gen)\n",
      "  File \"/Library/Frameworks/Python.framework/Versions/3.10/lib/python3.10/site-packages/traitlets/traitlets.py\", line 1362, in hold_trait_notifications\n",
      "    raise e\n",
      "  File \"/Library/Frameworks/Python.framework/Versions/3.10/lib/python3.10/site-packages/traitlets/traitlets.py\", line 1348, in hold_trait_notifications\n",
      "    value = trait._cross_validate(self, getattr(self, name))\n",
      "  File \"/Library/Frameworks/Python.framework/Versions/3.10/lib/python3.10/site-packages/traitlets/traitlets.py\", line 729, in _cross_validate\n",
      "    value = obj._trait_validators[self.name](obj, proposal)\n",
      "  File \"/Library/Frameworks/Python.framework/Versions/3.10/lib/python3.10/site-packages/traitlets/traitlets.py\", line 1132, in __call__\n",
      "    return self.func(*args, **kwargs)\n",
      "  File \"/Library/Frameworks/Python.framework/Versions/3.10/lib/python3.10/site-packages/notebook/notebookapp.py\", line 1522, in _notebook_dir_validate\n",
      "    raise TraitError(trans.gettext(\"No such notebook dir: '%r'\") % value)\n",
      "traitlets.traitlets.TraitError: No such notebook dir: ''/Cbhami/Coraline''\n",
      "\n",
      "During handling of the above exception, another exception occurred:\n",
      "\n",
      "Traceback (most recent call last):\n",
      "  File \"/Users/colehamilton/.vscode/extensions/ms-toolsai.jupyter-2022.5.1001601848/pythonFiles/vscode_datascience_helpers/daemon/daemon_python.py\", line 54, in _decorator\n",
      "    return func(self, *args, **kwargs)\n",
      "  File \"/Users/colehamilton/.vscode/extensions/ms-toolsai.jupyter-2022.5.1001601848/pythonFiles/vscode_datascience_helpers/jupyter_daemon.py\", line 111, in m_exec_module_observable\n",
      "    self._start_notebook(args, cwd, env)\n",
      "  File \"/Users/colehamilton/.vscode/extensions/ms-toolsai.jupyter-2022.5.1001601848/pythonFiles/vscode_datascience_helpers/jupyter_daemon.py\", line 168, in _start_notebook\n",
      "    app.launch_new_instance()\n",
      "  File \"/Library/Frameworks/Python.framework/Versions/3.10/lib/python3.10/site-packages/jupyter_core/application.py\", line 269, in launch_instance\n",
      "    return super().launch_instance(argv=argv, **kwargs)\n",
      "  File \"/Library/Frameworks/Python.framework/Versions/3.10/lib/python3.10/site-packages/traitlets/config/application.py\", line 975, in launch_instance\n",
      "    app.initialize(argv)\n",
      "  File \"/Library/Frameworks/Python.framework/Versions/3.10/lib/python3.10/site-packages/traitlets/config/application.py\", line 110, in inner\n",
      "    return method(app, *args, **kwargs)\n",
      "  File \"/Library/Frameworks/Python.framework/Versions/3.10/lib/python3.10/site-packages/notebook/notebookapp.py\", line 2141, in initialize\n",
      "    super().initialize(argv)\n",
      "  File \"/Library/Frameworks/Python.framework/Versions/3.10/lib/python3.10/site-packages/traitlets/config/application.py\", line 110, in inner\n",
      "    return method(app, *args, **kwargs)\n",
      "  File \"/Library/Frameworks/Python.framework/Versions/3.10/lib/python3.10/site-packages/jupyter_core/application.py\", line 240, in initialize\n",
      "    self.parse_command_line(argv)\n",
      "  File \"/Library/Frameworks/Python.framework/Versions/3.10/lib/python3.10/site-packages/notebook/notebookapp.py\", line 1611, in parse_command_line\n",
      "    super().parse_command_line(argv)\n",
      "  File \"/Library/Frameworks/Python.framework/Versions/3.10/lib/python3.10/site-packages/traitlets/config/application.py\", line 114, in inner\n",
      "    app.exit(1)\n",
      "  File \"/Library/Frameworks/Python.framework/Versions/3.10/lib/python3.10/site-packages/traitlets/config/application.py\", line 963, in exit\n",
      "    sys.exit(exit_status)\n",
      "SystemExit: 1\n",
      "\n",
      "[C 03:59:59.778 NotebookApp] Bad config encountered during initialization: No such notebook dir: ''/Cbhami/Coraline''\n",
      "\n",
      "Failed to run jupyter as observable with args notebook --no-browser --notebook-dir=\"/Cbhami/Coraline\" --config=/var/folders/jc/lsnkvztn1bjg9r2y8xc5q2580000gn/T/c859f315-d223-4695-8293-2492ebc14e68/jupyter_notebook_config.py --NotebookApp.iopub_data_rate_limit=10000000000.0. \n",
      "View Jupyter <a href='command:jupyter.viewOutput'>log</a> for further details."
     ]
    }
   ],
   "source": [
    "import ibm_db\n",
    "import ibm_db_sa\n",
    "import sqlalchemy\n",
    "%load_ext sql"
   ]
  }
 ],
 "metadata": {
  "kernelspec": {
   "display_name": "Python 3.9.7 ('base')",
   "language": "python",
   "name": "python3"
  },
  "language_info": {
   "name": "python",
   "version": "3.9.7"
  },
  "orig_nbformat": 4,
  "vscode": {
   "interpreter": {
    "hash": "14a36532d68eab8e5f13903230c8429a72bebed6cbdd44e08427b987eab2ad72"
   }
  }
 },
 "nbformat": 4,
 "nbformat_minor": 2
}
