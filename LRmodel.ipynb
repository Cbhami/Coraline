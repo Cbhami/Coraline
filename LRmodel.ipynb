{
 "cells": [
  {
   "cell_type": "code",
   "execution_count": 1,
   "metadata": {},
   "outputs": [],
   "source": [
    "# # Import the necessary modules\n",
    "# import numpy as np\n",
    "# from sklearn.linear_model import LinearRegression\n",
    "\n",
    "# # Load the dataset (assuming it is stored in a CSV file)\n",
    "# data = np.genfromtxt('/Users/cole/Library/CloudStorage/OneDrive-Personal/Coraline/Resources/csv data/user94403143_workout_history.csv', delimiter=\",\", skip_header=1)\n",
    "\n",
    "# # Split the dataset into input and output variables\n",
    "# X = data[:, :-1]  # select all columns except the last one (output variable)\n",
    "# y = np.array([0.75, 0.85, 0.95, 0.90])   # select only the last column (output variable)\n",
    "\n",
    "# # Create a linear regression model and fit it to the data\n",
    "# reg = LinearRegression().fit(X, y)\n",
    "\n",
    "# # Print the regression coefficients and intercept\n",
    "# print(\"Regression coefficients:\", reg.coef_)\n",
    "# print(\"Intercept:\", reg.intercept_)\n"
   ]
  },
  {
   "cell_type": "code",
   "execution_count": 2,
   "metadata": {},
   "outputs": [
    {
     "data": {
      "text/html": [
       "<div>\n",
       "<style scoped>\n",
       "    .dataframe tbody tr th:only-of-type {\n",
       "        vertical-align: middle;\n",
       "    }\n",
       "\n",
       "    .dataframe tbody tr th {\n",
       "        vertical-align: top;\n",
       "    }\n",
       "\n",
       "    .dataframe thead th {\n",
       "        text-align: right;\n",
       "    }\n",
       "</style>\n",
       "<table border=\"1\" class=\"dataframe\">\n",
       "  <thead>\n",
       "    <tr style=\"text-align: right;\">\n",
       "      <th></th>\n",
       "      <th>Date Submitted</th>\n",
       "      <th>Workout Date</th>\n",
       "      <th>Activity Type</th>\n",
       "      <th>Calories Burned (kCal)</th>\n",
       "      <th>Distance (mi)</th>\n",
       "      <th>Workout Time (seconds)</th>\n",
       "      <th>Avg Pace (min/mi)</th>\n",
       "      <th>Max Pace (min/mi)</th>\n",
       "      <th>Avg Speed (mi/h)</th>\n",
       "      <th>Max Speed (mi/h)</th>\n",
       "      <th>Avg Heart Rate</th>\n",
       "      <th>Steps</th>\n",
       "      <th>Notes</th>\n",
       "      <th>Source</th>\n",
       "      <th>Link</th>\n",
       "    </tr>\n",
       "  </thead>\n",
       "  <tbody>\n",
       "    <tr>\n",
       "      <th>0</th>\n",
       "      <td>May 31, 2023</td>\n",
       "      <td>May 31, 2023</td>\n",
       "      <td>Run</td>\n",
       "      <td>441</td>\n",
       "      <td>3.77548</td>\n",
       "      <td>2257</td>\n",
       "      <td>9.95987</td>\n",
       "      <td>1.079440</td>\n",
       "      <td>6.02418</td>\n",
       "      <td>55.5843</td>\n",
       "      <td>148.0</td>\n",
       "      <td>5956.0</td>\n",
       "      <td>b''</td>\n",
       "      <td>Map My Fitness MapMyRun iPhone</td>\n",
       "      <td>http://www.mapmyfitness.com/workout/7306474522</td>\n",
       "    </tr>\n",
       "    <tr>\n",
       "      <th>1</th>\n",
       "      <td>May 30, 2023</td>\n",
       "      <td>May 30, 2023</td>\n",
       "      <td>Run</td>\n",
       "      <td>435</td>\n",
       "      <td>3.72669</td>\n",
       "      <td>2160</td>\n",
       "      <td>9.65837</td>\n",
       "      <td>0.467835</td>\n",
       "      <td>6.21223</td>\n",
       "      <td>128.2500</td>\n",
       "      <td>145.0</td>\n",
       "      <td>5683.0</td>\n",
       "      <td>b''</td>\n",
       "      <td>Map My Fitness MapMyRun iPhone</td>\n",
       "      <td>http://www.mapmyfitness.com/workout/7304267641</td>\n",
       "    </tr>\n",
       "    <tr>\n",
       "      <th>4</th>\n",
       "      <td>May 29, 2023</td>\n",
       "      <td>May 29, 2023</td>\n",
       "      <td>Run</td>\n",
       "      <td>1151</td>\n",
       "      <td>9.01768</td>\n",
       "      <td>5609</td>\n",
       "      <td>10.36440</td>\n",
       "      <td>0.989736</td>\n",
       "      <td>5.78906</td>\n",
       "      <td>60.6222</td>\n",
       "      <td>153.0</td>\n",
       "      <td>14653.0</td>\n",
       "      <td>b''</td>\n",
       "      <td>Map My Fitness MapMyRun iPhone</td>\n",
       "      <td>http://www.mapmyfitness.com/workout/7302616744</td>\n",
       "    </tr>\n",
       "    <tr>\n",
       "      <th>5</th>\n",
       "      <td>May 28, 2023</td>\n",
       "      <td>May 28, 2023</td>\n",
       "      <td>Run</td>\n",
       "      <td>480</td>\n",
       "      <td>3.78143</td>\n",
       "      <td>2419</td>\n",
       "      <td>10.65820</td>\n",
       "      <td>1.633140</td>\n",
       "      <td>5.62946</td>\n",
       "      <td>36.7391</td>\n",
       "      <td>152.0</td>\n",
       "      <td>6279.0</td>\n",
       "      <td>b''</td>\n",
       "      <td>Map My Fitness MapMyRun iPhone</td>\n",
       "      <td>http://www.mapmyfitness.com/workout/7300421209</td>\n",
       "    </tr>\n",
       "    <tr>\n",
       "      <th>6</th>\n",
       "      <td>May 27, 2023</td>\n",
       "      <td>May 27, 2023</td>\n",
       "      <td>Run</td>\n",
       "      <td>549</td>\n",
       "      <td>4.58393</td>\n",
       "      <td>2765</td>\n",
       "      <td>10.04780</td>\n",
       "      <td>0.467224</td>\n",
       "      <td>5.97146</td>\n",
       "      <td>128.4180</td>\n",
       "      <td>153.0</td>\n",
       "      <td>7377.0</td>\n",
       "      <td>b''</td>\n",
       "      <td>Map My Fitness MapMyRun iPhone</td>\n",
       "      <td>http://www.mapmyfitness.com/workout/7298214775</td>\n",
       "    </tr>\n",
       "  </tbody>\n",
       "</table>\n",
       "</div>"
      ],
      "text/plain": [
       "  Date Submitted  Workout Date Activity Type  Calories Burned (kCal)  \\\n",
       "0   May 31, 2023  May 31, 2023           Run                     441   \n",
       "1   May 30, 2023  May 30, 2023           Run                     435   \n",
       "4   May 29, 2023  May 29, 2023           Run                    1151   \n",
       "5   May 28, 2023  May 28, 2023           Run                     480   \n",
       "6   May 27, 2023  May 27, 2023           Run                     549   \n",
       "\n",
       "   Distance (mi)  Workout Time (seconds)  Avg Pace (min/mi)  \\\n",
       "0        3.77548                    2257            9.95987   \n",
       "1        3.72669                    2160            9.65837   \n",
       "4        9.01768                    5609           10.36440   \n",
       "5        3.78143                    2419           10.65820   \n",
       "6        4.58393                    2765           10.04780   \n",
       "\n",
       "   Max Pace (min/mi)  Avg Speed (mi/h)  Max Speed (mi/h)  Avg Heart Rate  \\\n",
       "0           1.079440           6.02418           55.5843           148.0   \n",
       "1           0.467835           6.21223          128.2500           145.0   \n",
       "4           0.989736           5.78906           60.6222           153.0   \n",
       "5           1.633140           5.62946           36.7391           152.0   \n",
       "6           0.467224           5.97146          128.4180           153.0   \n",
       "\n",
       "     Steps Notes                          Source  \\\n",
       "0   5956.0   b''  Map My Fitness MapMyRun iPhone   \n",
       "1   5683.0   b''  Map My Fitness MapMyRun iPhone   \n",
       "4  14653.0   b''  Map My Fitness MapMyRun iPhone   \n",
       "5   6279.0   b''  Map My Fitness MapMyRun iPhone   \n",
       "6   7377.0   b''  Map My Fitness MapMyRun iPhone   \n",
       "\n",
       "                                             Link  \n",
       "0  http://www.mapmyfitness.com/workout/7306474522  \n",
       "1  http://www.mapmyfitness.com/workout/7304267641  \n",
       "4  http://www.mapmyfitness.com/workout/7302616744  \n",
       "5  http://www.mapmyfitness.com/workout/7300421209  \n",
       "6  http://www.mapmyfitness.com/workout/7298214775  "
      ]
     },
     "execution_count": 2,
     "metadata": {},
     "output_type": "execute_result"
    }
   ],
   "source": [
    "# Import the necessary modules\n",
    "import pandas as pd\n",
    "\n",
    "# Load the dataset from a CSV file\n",
    "df = pd.read_csv('/Users/cole/Library/CloudStorage/OneDrive-Personal/Coraline/Resources/csv data/user94403143_workout_history.csv')\n",
    "\n",
    "# Drop the rows containing NaN values\n",
    "df = df.dropna()\n",
    "\n",
    "# Print the cleaned dataset\n",
    "df.head()"
   ]
  },
  {
   "cell_type": "code",
   "execution_count": 3,
   "metadata": {},
   "outputs": [
    {
     "ename": "NameError",
     "evalue": "name 'LinearRegression' is not defined",
     "output_type": "error",
     "traceback": [
      "\u001b[0;31m---------------------------------------------------------------------------\u001b[0m",
      "\u001b[0;31mNameError\u001b[0m                                 Traceback (most recent call last)",
      "Input \u001b[0;32mIn [3]\u001b[0m, in \u001b[0;36m<cell line: 21>\u001b[0;34m()\u001b[0m\n\u001b[1;32m     18\u001b[0m X_scaled \u001b[38;5;241m=\u001b[39m scaler\u001b[38;5;241m.\u001b[39mfit_transform(X)\n\u001b[1;32m     20\u001b[0m \u001b[38;5;66;03m# Fit a linear regression model to the data\u001b[39;00m\n\u001b[0;32m---> 21\u001b[0m reg \u001b[38;5;241m=\u001b[39m \u001b[43mLinearRegression\u001b[49m()\u001b[38;5;241m.\u001b[39mfit(X_scaled, y)\n\u001b[1;32m     23\u001b[0m \u001b[38;5;66;03m# Predict the custom score for the input variables\u001b[39;00m\n\u001b[1;32m     24\u001b[0m y_pred \u001b[38;5;241m=\u001b[39m reg\u001b[38;5;241m.\u001b[39mpredict(X_scaled)\n",
      "\u001b[0;31mNameError\u001b[0m: name 'LinearRegression' is not defined"
     ]
    }
   ],
   "source": [
    "# Import the necessary modules\n",
    "import pandas as pd\n",
    "from sklearn.preprocessing import StandardScaler\n",
    "from sklearn.metrics import mean_squared_error, r2_score\n",
    "\n",
    "# Load the dataset from a CSV file\n",
    "#df = pd.read_csv('running_data.csv')\n",
    "\n",
    "# Clean the data by removing NaN values\n",
    "df = df.dropna()\n",
    "\n",
    "# Define the input and output variables\n",
    "X = df[['Distance (mi)', 'Avg Pace (min/mi)']]\n",
    "y = df['Calories Burned (kCal)']\n",
    "\n",
    "# Scale the input variables using StandardScaler\n",
    "scaler = StandardScaler()\n",
    "X_scaled = scaler.fit_transform(X)\n",
    "\n",
    "# Fit a linear regression model to the data\n",
    "reg = LinearRegression().fit(X_scaled, y)\n",
    "\n",
    "# Predict the custom score for the input variables\n",
    "y_pred = reg.predict(X_scaled)\n",
    "\n",
    "# Calculate the mean squared error and R^2 score\n",
    "mse = mean_squared_error(y, y_pred)\n",
    "r2 = r2_score(y, y_pred)\n",
    "\n",
    "# Print the performance metrics\n",
    "print(\"Mean squared error:\", mse)\n",
    "print(\"R^2 score:\", r2)\n"
   ]
  },
  {
   "attachments": {},
   "cell_type": "markdown",
   "metadata": {},
   "source": [
    "Mean Absolute Error (MAE): The mean absolute error is the average absolute difference between the predicted values and the actual values. It is a measure of the average magnitude of the errors in the predictions."
   ]
  },
  {
   "cell_type": "code",
   "execution_count": null,
   "metadata": {},
   "outputs": [
    {
     "name": "stdout",
     "output_type": "stream",
     "text": [
      "Mean absolute error: 38.064682153652996\n"
     ]
    }
   ],
   "source": [
    "from sklearn.metrics import mean_absolute_error\n",
    "\n",
    "# Calculate the mean absolute error\n",
    "mae = mean_absolute_error(y, y_pred)\n",
    "\n",
    "# Print the mean absolute error\n",
    "print(\"Mean absolute error:\", mae)\n"
   ]
  },
  {
   "attachments": {},
   "cell_type": "markdown",
   "metadata": {},
   "source": [
    "Root Mean Squared Error (RMSE): The root mean squared error is the square root of the average squared differences between the predicted values and the actual values. It is a measure of the standard deviation of the errors in the predictions."
   ]
  },
  {
   "cell_type": "code",
   "execution_count": null,
   "metadata": {},
   "outputs": [
    {
     "name": "stdout",
     "output_type": "stream",
     "text": [
      "Root mean squared error: 54.5406755720836\n"
     ]
    }
   ],
   "source": [
    "from sklearn.metrics import mean_squared_error\n",
    "\n",
    "# Calculate the root mean squared error\n",
    "rmse = mean_squared_error(y, y_pred, squared=False)\n",
    "\n",
    "# Print the root mean squared error\n",
    "print(\"Root mean squared error:\", rmse)\n"
   ]
  },
  {
   "attachments": {},
   "cell_type": "markdown",
   "metadata": {},
   "source": [
    "Coefficient of Determination (R-squared): The coefficient of determination (R-squared) is a measure of the proportion of the variance in the output variable that is explained by the linear regression model."
   ]
  },
  {
   "cell_type": "code",
   "execution_count": null,
   "metadata": {},
   "outputs": [
    {
     "name": "stdout",
     "output_type": "stream",
     "text": [
      "Coefficient of determination (R-squared): 0.9580570621867145\n"
     ]
    }
   ],
   "source": [
    "from sklearn.metrics import r2_score\n",
    "\n",
    "# Calculate the coefficient of determination (R-squared)\n",
    "r2 = r2_score(y, y_pred)\n",
    "\n",
    "# Print the coefficient of determination (R-squared)\n",
    "print(\"Coefficient of determination (R-squared):\", r2)\n"
   ]
  },
  {
   "cell_type": "code",
   "execution_count": null,
   "metadata": {},
   "outputs": [
    {
     "name": "stdout",
     "output_type": "stream",
     "text": [
      "Predicted workout time for 6.2 miles: 64.1 minutes\n"
     ]
    },
    {
     "name": "stderr",
     "output_type": "stream",
     "text": [
      "/Users/cole/miniconda/lib/python3.9/site-packages/sklearn/base.py:450: UserWarning:\n",
      "\n",
      "X does not have valid feature names, but StandardScaler was fitted with feature names\n",
      "\n"
     ]
    }
   ],
   "source": [
    "# Import the necessary modules\n",
    "import pandas as pd\n",
    "from sklearn.preprocessing import StandardScaler\n",
    "from sklearn.metrics import mean_squared_error, r2_score\n",
    "\n",
    "# Load the dataset from a CSV file\n",
    "# df = pd.read_csv('running_data.csv')\n",
    "\n",
    "# Clean the data by removing NaN values\n",
    "df = df.dropna()\n",
    "\n",
    "# Define the input and output variables\n",
    "X = df[['Distance (mi)']]\n",
    "y = df['Workout Time (seconds)']\n",
    "\n",
    "# Scale the input variables using StandardScaler\n",
    "scaler = StandardScaler()\n",
    "X_scaled = scaler.fit_transform(X)\n",
    "\n",
    "# Fit a linear regression model to the data\n",
    "reg = LinearRegression().fit(X_scaled, y)\n",
    "\n",
    "# Predict the workout time for a new input variable (distance)\n",
    "new_distance = 6.2 # miles\n",
    "#new_avg_pace = 10 # min/mi\n",
    "\n",
    "# Scale the input variables using the same scaler as before\n",
    "new_X = scaler.transform([[new_distance]])\n",
    "new_y_pred = reg.predict(new_X)\n",
    "\n",
    "# Convert the workout time from seconds to minutes and print the result\n",
    "print(\"Predicted workout time for %.1f miles: %.1f minutes\" % (new_distance, new_y_pred/60))\n"
   ]
  },
  {
   "cell_type": "code",
   "execution_count": null,
   "metadata": {},
   "outputs": [
    {
     "name": "stderr",
     "output_type": "stream",
     "text": [
      "/Users/cole/miniconda/lib/python3.9/site-packages/sklearn/base.py:450: UserWarning:\n",
      "\n",
      "X does not have valid feature names, but StandardScaler was fitted with feature names\n",
      "\n",
      "/Users/cole/miniconda/lib/python3.9/site-packages/sklearn/base.py:450: UserWarning:\n",
      "\n",
      "X does not have valid feature names, but StandardScaler was fitted with feature names\n",
      "\n",
      "/Users/cole/miniconda/lib/python3.9/site-packages/sklearn/base.py:450: UserWarning:\n",
      "\n",
      "X does not have valid feature names, but StandardScaler was fitted with feature names\n",
      "\n",
      "/Users/cole/miniconda/lib/python3.9/site-packages/sklearn/base.py:450: UserWarning:\n",
      "\n",
      "X does not have valid feature names, but StandardScaler was fitted with feature names\n",
      "\n",
      "/Users/cole/miniconda/lib/python3.9/site-packages/sklearn/base.py:450: UserWarning:\n",
      "\n",
      "X does not have valid feature names, but StandardScaler was fitted with feature names\n",
      "\n",
      "/Users/cole/miniconda/lib/python3.9/site-packages/sklearn/base.py:450: UserWarning:\n",
      "\n",
      "X does not have valid feature names, but StandardScaler was fitted with feature names\n",
      "\n",
      "/Users/cole/miniconda/lib/python3.9/site-packages/sklearn/base.py:450: UserWarning:\n",
      "\n",
      "X does not have valid feature names, but StandardScaler was fitted with feature names\n",
      "\n",
      "/Users/cole/miniconda/lib/python3.9/site-packages/sklearn/base.py:450: UserWarning:\n",
      "\n",
      "X does not have valid feature names, but StandardScaler was fitted with feature names\n",
      "\n",
      "/Users/cole/miniconda/lib/python3.9/site-packages/sklearn/base.py:450: UserWarning:\n",
      "\n",
      "X does not have valid feature names, but StandardScaler was fitted with feature names\n",
      "\n"
     ]
    },
    {
     "data": {
      "image/png": "[encoded data removed]",
      "text/plain": [
       "<Figure size 640x480 with 1 Axes>"
      ]
     },
     "metadata": {},
     "output_type": "display_data"
    }
   ],
   "source": [
    "# Import the necessary modules\n",
    "import pandas as pd\n",
    "from sklearn.preprocessing import StandardScaler\n",
    "from sklearn.linear_model import LinearRegression\n",
    "import matplotlib.pyplot as plt\n",
    "\n",
    "# Define the input and output variables\n",
    "X = df[['Distance (mi)', 'Avg Pace (min/mi)']]\n",
    "y = df['Calories Burned (kCal)']\n",
    "\n",
    "# Scale the input variables using StandardScaler\n",
    "scaler = StandardScaler()\n",
    "X_scaled = scaler.fit_transform(X)\n",
    "\n",
    "# Fit a linear regression model to the data\n",
    "reg = LinearRegression().fit(X_scaled, y)\n",
    "\n",
    "# Set the fixed value for the distance (mi) variable\n",
    "fixed_distance = df['Distance (mi)'].median()\n",
    "\n",
    "# Set the range of values for the avg pace (min/mi) variable\n",
    "avg_pace_values = range(6, 15)\n",
    "\n",
    "# Predict the calories burned (kCal) for each avg pace value\n",
    "predicted_calories_burned = []\n",
    "for avg_pace in avg_pace_values:\n",
    "    X_test = [[fixed_distance, avg_pace]]\n",
    "    X_test_scaled = scaler.transform(X_test)\n",
    "    y_pred = reg.predict(X_test_scaled)\n",
    "    predicted_calories_burned.append(y_pred[0])\n",
    "\n",
    "# Plot the results\n",
    "plt.plot(avg_pace_values, predicted_calories_burned)\n",
    "plt.xlabel('Avg Pace (min/mi)')\n",
    "plt.ylabel('Calories Burned (kCal)')\n",
    "plt.title('Sensitivity Analysis')\n",
    "plt.show()\n"
   ]
  },
  {
   "cell_type": "code",
   "execution_count": null,
   "metadata": {},
   "outputs": [
    {
     "name": "stderr",
     "output_type": "stream",
     "text": [
      "/Users/cole/miniconda/lib/python3.9/site-packages/sklearn/base.py:450: UserWarning:\n",
      "\n",
      "X does not have valid feature names, but StandardScaler was fitted with feature names\n",
      "\n",
      "/Users/cole/miniconda/lib/python3.9/site-packages/sklearn/base.py:450: UserWarning:\n",
      "\n",
      "X does not have valid feature names, but StandardScaler was fitted with feature names\n",
      "\n",
      "/Users/cole/miniconda/lib/python3.9/site-packages/sklearn/base.py:450: UserWarning:\n",
      "\n",
      "X does not have valid feature names, but StandardScaler was fitted with feature names\n",
      "\n",
      "/Users/cole/miniconda/lib/python3.9/site-packages/sklearn/base.py:450: UserWarning:\n",
      "\n",
      "X does not have valid feature names, but StandardScaler was fitted with feature names\n",
      "\n",
      "/Users/cole/miniconda/lib/python3.9/site-packages/sklearn/base.py:450: UserWarning:\n",
      "\n",
      "X does not have valid feature names, but StandardScaler was fitted with feature names\n",
      "\n",
      "/Users/cole/miniconda/lib/python3.9/site-packages/sklearn/base.py:450: UserWarning:\n",
      "\n",
      "X does not have valid feature names, but StandardScaler was fitted with feature names\n",
      "\n",
      "/Users/cole/miniconda/lib/python3.9/site-packages/sklearn/base.py:450: UserWarning:\n",
      "\n",
      "X does not have valid feature names, but StandardScaler was fitted with feature names\n",
      "\n",
      "/Users/cole/miniconda/lib/python3.9/site-packages/sklearn/base.py:450: UserWarning:\n",
      "\n",
      "X does not have valid feature names, but StandardScaler was fitted with feature names\n",
      "\n",
      "/Users/cole/miniconda/lib/python3.9/site-packages/sklearn/base.py:450: UserWarning:\n",
      "\n",
      "X does not have valid feature names, but StandardScaler was fitted with feature names\n",
      "\n",
      "/Users/cole/miniconda/lib/python3.9/site-packages/sklearn/base.py:450: UserWarning:\n",
      "\n",
      "X does not have valid feature names, but StandardScaler was fitted with feature names\n",
      "\n",
      "/Users/cole/miniconda/lib/python3.9/site-packages/sklearn/base.py:450: UserWarning:\n",
      "\n",
      "X does not have valid feature names, but StandardScaler was fitted with feature names\n",
      "\n",
      "/Users/cole/miniconda/lib/python3.9/site-packages/sklearn/base.py:450: UserWarning:\n",
      "\n",
      "X does not have valid feature names, but StandardScaler was fitted with feature names\n",
      "\n",
      "/Users/cole/miniconda/lib/python3.9/site-packages/sklearn/base.py:450: UserWarning:\n",
      "\n",
      "X does not have valid feature names, but StandardScaler was fitted with feature names\n",
      "\n",
      "/Users/cole/miniconda/lib/python3.9/site-packages/sklearn/base.py:450: UserWarning:\n",
      "\n",
      "X does not have valid feature names, but StandardScaler was fitted with feature names\n",
      "\n"
     ]
    },
    {
     "data": {
      "image/png": "[encoded data removed]",
      "text/plain": [
       "<Figure size 640x480 with 1 Axes>"
      ]
     },
     "metadata": {},
     "output_type": "display_data"
    }
   ],
   "source": [
    "# Import the necessary modules\n",
    "import pandas as pd\n",
    "from sklearn.preprocessing import StandardScaler\n",
    "from sklearn.linear_model import LinearRegression\n",
    "import matplotlib.pyplot as plt\n",
    "\n",
    "# Define the input and output variables\n",
    "X = df[['Distance (mi)', 'Avg Pace (min/mi)']]\n",
    "y = df['Calories Burned (kCal)']\n",
    "\n",
    "# Scale the input variables using StandardScaler\n",
    "scaler = StandardScaler()\n",
    "X_scaled = scaler.fit_transform(X)\n",
    "\n",
    "# Fit a linear regression model to the data\n",
    "reg = LinearRegression().fit(X_scaled, y)\n",
    "\n",
    "# Set the fixed value for the avg pace (min/mi) variable\n",
    "fixed_avg_pace = df['Avg Pace (min/mi)'].median()\n",
    "\n",
    "# Set the range of values for the distance (mi) variable\n",
    "distance_values = range(1, 15)\n",
    "\n",
    "# Predict the calories burned (kCal) for each distance value\n",
    "predicted_calories_burned = []\n",
    "for distance in distance_values:\n",
    "    X_test = [[distance, fixed_avg_pace]]\n",
    "    X_test_scaled = scaler.transform(X_test)\n",
    "    y_pred = reg.predict(X_test_scaled)\n",
    "    predicted_calories_burned.append(y_pred[0])\n",
    "\n",
    "# Plot the results\n",
    "plt.plot(distance_values, predicted_calories_burned)\n",
    "plt.xlabel('Distance (mi)')\n",
    "plt.ylabel('Calories Burned (kCal)')\n",
    "plt.title('Sensitivity Analysis')\n",
    "plt.show()\n"
   ]
  },
  {
   "cell_type": "code",
   "execution_count": null,
   "metadata": {},
   "outputs": [],
   "source": [
    "# # Split the dataset into input and output variables\n",
    "# X = df[:, :-1]  # select all columns except the last one (output variable)\n",
    "# y = np.array([0.75, 0.85, 0.95, 0.90])   # select only the last column (output variable)\n",
    "\n",
    "# # Create a linear regression model and fit it to the data\n",
    "# reg = LinearRegression().fit(X, y)\n",
    "\n",
    "# # Print the regression coefficients and intercept\n",
    "# print(\"Regression coefficients:\", reg.coef_)\n",
    "# print(\"Intercept:\", reg.intercept_)"
   ]
  },
  {
   "cell_type": "code",
   "execution_count": null,
   "metadata": {},
   "outputs": [],
   "source": [
    "#create a loop that runs three times\n",
    "for i in range(2):\n",
    "    df.drop(df.columns[-1], axis=1, inplace=True)\n",
    "    df.head()\n",
    "    \n",
    "#df.drop(df.columns[-1], axis=1, inplace=True)\n",
    "#df.head()"
   ]
  },
  {
   "cell_type": "code",
   "execution_count": null,
   "metadata": {},
   "outputs": [
    {
     "data": {
      "text/html": [
       "<div>\n",
       "<style scoped>\n",
       "    .dataframe tbody tr th:only-of-type {\n",
       "        vertical-align: middle;\n",
       "    }\n",
       "\n",
       "    .dataframe tbody tr th {\n",
       "        vertical-align: top;\n",
       "    }\n",
       "\n",
       "    .dataframe thead th {\n",
       "        text-align: right;\n",
       "    }\n",
       "</style>\n",
       "<table border=\"1\" class=\"dataframe\">\n",
       "  <thead>\n",
       "    <tr style=\"text-align: right;\">\n",
       "      <th></th>\n",
       "      <th>Date Submitted</th>\n",
       "      <th>Workout Date</th>\n",
       "      <th>Activity Type</th>\n",
       "      <th>Calories Burned (kCal)</th>\n",
       "      <th>Distance (mi)</th>\n",
       "      <th>Workout Time (seconds)</th>\n",
       "      <th>Avg Pace (min/mi)</th>\n",
       "      <th>Max Pace</th>\n",
       "      <th>Avg Speed (mi/h)</th>\n",
       "      <th>Max Speed</th>\n",
       "      <th>Avg Heart Rate</th>\n",
       "      <th>Steps</th>\n",
       "      <th>Notes</th>\n",
       "    </tr>\n",
       "  </thead>\n",
       "  <tbody>\n",
       "    <tr>\n",
       "      <th>0</th>\n",
       "      <td>2022-12-24</td>\n",
       "      <td>2022-12-24</td>\n",
       "      <td>Run</td>\n",
       "      <td>411</td>\n",
       "      <td>3.10000</td>\n",
       "      <td>1763</td>\n",
       "      <td>9.47849</td>\n",
       "      <td>0</td>\n",
       "      <td>6.33012</td>\n",
       "      <td>0</td>\n",
       "      <td>142</td>\n",
       "      <td>4692</td>\n",
       "      <td>b''</td>\n",
       "    </tr>\n",
       "    <tr>\n",
       "      <th>1</th>\n",
       "      <td>2022-12-24</td>\n",
       "      <td>2022-12-23</td>\n",
       "      <td>Run</td>\n",
       "      <td>410</td>\n",
       "      <td>3.09999</td>\n",
       "      <td>1750</td>\n",
       "      <td>9.40860</td>\n",
       "      <td>0</td>\n",
       "      <td>6.37714</td>\n",
       "      <td>0</td>\n",
       "      <td>142</td>\n",
       "      <td>4661</td>\n",
       "      <td>b''</td>\n",
       "    </tr>\n",
       "    <tr>\n",
       "      <th>2</th>\n",
       "      <td>2022-12-20</td>\n",
       "      <td>2022-12-20</td>\n",
       "      <td>Run</td>\n",
       "      <td>420</td>\n",
       "      <td>3.10000</td>\n",
       "      <td>1870</td>\n",
       "      <td>10.05380</td>\n",
       "      <td>0</td>\n",
       "      <td>5.96791</td>\n",
       "      <td>0</td>\n",
       "      <td>142</td>\n",
       "      <td>4948</td>\n",
       "      <td>b''</td>\n",
       "    </tr>\n",
       "    <tr>\n",
       "      <th>3</th>\n",
       "      <td>2022-12-20</td>\n",
       "      <td>2022-12-20</td>\n",
       "      <td>Run</td>\n",
       "      <td>411</td>\n",
       "      <td>3.10000</td>\n",
       "      <td>1760</td>\n",
       "      <td>9.46237</td>\n",
       "      <td>0</td>\n",
       "      <td>6.34091</td>\n",
       "      <td>0</td>\n",
       "      <td>142</td>\n",
       "      <td>4685</td>\n",
       "      <td>b''</td>\n",
       "    </tr>\n",
       "    <tr>\n",
       "      <th>4</th>\n",
       "      <td>2022-12-19</td>\n",
       "      <td>2022-12-18</td>\n",
       "      <td>Run</td>\n",
       "      <td>410</td>\n",
       "      <td>3.10000</td>\n",
       "      <td>1754</td>\n",
       "      <td>9.43011</td>\n",
       "      <td>0</td>\n",
       "      <td>6.36260</td>\n",
       "      <td>0</td>\n",
       "      <td>142</td>\n",
       "      <td>4671</td>\n",
       "      <td>b''</td>\n",
       "    </tr>\n",
       "  </tbody>\n",
       "</table>\n",
       "</div>"
      ],
      "text/plain": [
       "  Date Submitted Workout Date Activity Type  Calories Burned (kCal)  \\\n",
       "0     2022-12-24   2022-12-24           Run                     411   \n",
       "1     2022-12-24   2022-12-23           Run                     410   \n",
       "2     2022-12-20   2022-12-20           Run                     420   \n",
       "3     2022-12-20   2022-12-20           Run                     411   \n",
       "4     2022-12-19   2022-12-18           Run                     410   \n",
       "\n",
       "   Distance (mi)  Workout Time (seconds)  Avg Pace (min/mi)  Max Pace  \\\n",
       "0        3.10000                    1763            9.47849         0   \n",
       "1        3.09999                    1750            9.40860         0   \n",
       "2        3.10000                    1870           10.05380         0   \n",
       "3        3.10000                    1760            9.46237         0   \n",
       "4        3.10000                    1754            9.43011         0   \n",
       "\n",
       "   Avg Speed (mi/h)  Max Speed  Avg Heart Rate  Steps Notes  \n",
       "0           6.33012          0             142   4692   b''  \n",
       "1           6.37714          0             142   4661   b''  \n",
       "2           5.96791          0             142   4948   b''  \n",
       "3           6.34091          0             142   4685   b''  \n",
       "4           6.36260          0             142   4671   b''  "
      ]
     },
     "execution_count": 43,
     "metadata": {},
     "output_type": "execute_result"
    }
   ],
   "source": [
    "df.head()"
   ]
  },
  {
   "cell_type": "code",
   "execution_count": null,
   "metadata": {},
   "outputs": [
    {
     "data": {
      "text/plain": [
       "Index(['Date Submitted', 'Workout Date', 'Activity Type',\n",
       "       'Calories Burned (kCal)', 'Distance (mi)', 'Workout Time (seconds)',\n",
       "       'Avg Pace (min/mi)', 'Max Pace', 'Avg Speed (mi/h)', 'Max Speed',\n",
       "       'Avg Heart Rate', 'Steps', 'Notes'],\n",
       "      dtype='object')"
      ]
     },
     "execution_count": 44,
     "metadata": {},
     "output_type": "execute_result"
    }
   ],
   "source": [
    "df.columns"
   ]
  },
  {
   "attachments": {},
   "cell_type": "markdown",
   "metadata": {},
   "source": [
    "Prep the LR model"
   ]
  },
  {
   "cell_type": "code",
   "execution_count": null,
   "metadata": {},
   "outputs": [
    {
     "name": "stdout",
     "output_type": "stream",
     "text": [
      "    Date Submitted Workout Date     Activity Type  Calories Burned (kCal)  \\\n",
      "0       2022-12-24   2022-12-24               Run                     411   \n",
      "1       2022-12-24   2022-12-23               Run                     410   \n",
      "2       2022-12-20   2022-12-20               Run                     420   \n",
      "3       2022-12-20   2022-12-20               Run                     411   \n",
      "4       2022-12-19   2022-12-18               Run                     410   \n",
      "..             ...          ...               ...                     ...   \n",
      "740     2019-05-19   2019-05-19               Run                     419   \n",
      "741     2019-05-15   2019-05-15  Indoor Run / Jog                     403   \n",
      "742     2019-05-13   2019-05-13               Run                     258   \n",
      "743     2019-05-13   2019-05-13  Indoor Run / Jog                     191   \n",
      "744     2022-12-25   2022-12-25               Run                     760   \n",
      "\n",
      "     Distance (mi)  Workout Time (seconds)  Avg Pace (min/mi)  Max Pace  \\\n",
      "0          3.10000                    1763            9.47849         0   \n",
      "1          3.09999                    1750            9.40860         0   \n",
      "2          3.10000                    1870           10.05380         0   \n",
      "3          3.10000                    1760            9.46237         0   \n",
      "4          3.10000                    1754            9.43011         0   \n",
      "..             ...                     ...                ...       ...   \n",
      "740        3.11075                    2197           11.69460         2   \n",
      "741        3.13000                    2344           12.48140         0   \n",
      "742        1.96155                    1214           10.31690         3   \n",
      "743        1.42000                     927           10.88030        17   \n",
      "744        6.21000                    3781           10.13000         9   \n",
      "\n",
      "     Avg Speed (mi/h)  Max Speed  Avg Heart Rate  Steps Notes  Custom Score  \n",
      "0             6.33012          0             142   4692   b''      0.398755  \n",
      "1             6.37714          0             142   4661   b''      0.398754  \n",
      "2             5.96791          0             142   4948   b''      0.398755  \n",
      "3             6.34091          0             142   4685   b''      0.398755  \n",
      "4             6.36260          0             142   4671   b''      0.398755  \n",
      "..                ...        ...             ...    ...   ...           ...  \n",
      "740           5.13058         29             139   5295   b''      0.400138  \n",
      "741           4.80717          0             142   6926   b''      0.402614  \n",
      "742           5.81568         22             142   3209   b''      0.252316  \n",
      "743           5.51456          4             158     67   b''      0.182656  \n",
      "744           5.90000          7             154   9912    b\"      0.798797  \n",
      "\n",
      "[745 rows x 14 columns]\n"
     ]
    }
   ],
   "source": [
    "# Import the necessary modules\n",
    "import pandas as pd\n",
    "\n",
    "# Create a new column to represent the score\n",
    "df['Custom Score'] = df['Distance (mi)'] * ( 1 / df['Avg Pace (min/mi)'].min())\n",
    "\n",
    "# Print the dataset with the custom score column\n",
    "print(df)\n"
   ]
  },
  {
   "cell_type": "code",
   "execution_count": null,
   "metadata": {},
   "outputs": [
    {
     "data": {
      "text/html": [
       "<div>\n",
       "<style scoped>\n",
       "    .dataframe tbody tr th:only-of-type {\n",
       "        vertical-align: middle;\n",
       "    }\n",
       "\n",
       "    .dataframe tbody tr th {\n",
       "        vertical-align: top;\n",
       "    }\n",
       "\n",
       "    .dataframe thead th {\n",
       "        text-align: right;\n",
       "    }\n",
       "</style>\n",
       "<table border=\"1\" class=\"dataframe\">\n",
       "  <thead>\n",
       "    <tr style=\"text-align: right;\">\n",
       "      <th></th>\n",
       "      <th>Date Submitted</th>\n",
       "      <th>Workout Date</th>\n",
       "      <th>Activity Type</th>\n",
       "      <th>Calories Burned (kCal)</th>\n",
       "      <th>Distance (mi)</th>\n",
       "      <th>Workout Time (seconds)</th>\n",
       "      <th>Avg Pace (min/mi)</th>\n",
       "      <th>Max Pace</th>\n",
       "      <th>Avg Speed (mi/h)</th>\n",
       "      <th>Max Speed</th>\n",
       "      <th>Avg Heart Rate</th>\n",
       "      <th>Steps</th>\n",
       "      <th>Notes</th>\n",
       "      <th>Custom Score</th>\n",
       "    </tr>\n",
       "  </thead>\n",
       "  <tbody>\n",
       "    <tr>\n",
       "      <th>0</th>\n",
       "      <td>2022-12-24</td>\n",
       "      <td>2022-12-24</td>\n",
       "      <td>Run</td>\n",
       "      <td>411</td>\n",
       "      <td>3.10000</td>\n",
       "      <td>1763</td>\n",
       "      <td>9.47849</td>\n",
       "      <td>0</td>\n",
       "      <td>6.33012</td>\n",
       "      <td>0</td>\n",
       "      <td>142</td>\n",
       "      <td>4692</td>\n",
       "      <td>b''</td>\n",
       "      <td>0.398755</td>\n",
       "    </tr>\n",
       "    <tr>\n",
       "      <th>1</th>\n",
       "      <td>2022-12-24</td>\n",
       "      <td>2022-12-23</td>\n",
       "      <td>Run</td>\n",
       "      <td>410</td>\n",
       "      <td>3.09999</td>\n",
       "      <td>1750</td>\n",
       "      <td>9.40860</td>\n",
       "      <td>0</td>\n",
       "      <td>6.37714</td>\n",
       "      <td>0</td>\n",
       "      <td>142</td>\n",
       "      <td>4661</td>\n",
       "      <td>b''</td>\n",
       "      <td>0.398754</td>\n",
       "    </tr>\n",
       "    <tr>\n",
       "      <th>2</th>\n",
       "      <td>2022-12-20</td>\n",
       "      <td>2022-12-20</td>\n",
       "      <td>Run</td>\n",
       "      <td>420</td>\n",
       "      <td>3.10000</td>\n",
       "      <td>1870</td>\n",
       "      <td>10.05380</td>\n",
       "      <td>0</td>\n",
       "      <td>5.96791</td>\n",
       "      <td>0</td>\n",
       "      <td>142</td>\n",
       "      <td>4948</td>\n",
       "      <td>b''</td>\n",
       "      <td>0.398755</td>\n",
       "    </tr>\n",
       "    <tr>\n",
       "      <th>3</th>\n",
       "      <td>2022-12-20</td>\n",
       "      <td>2022-12-20</td>\n",
       "      <td>Run</td>\n",
       "      <td>411</td>\n",
       "      <td>3.10000</td>\n",
       "      <td>1760</td>\n",
       "      <td>9.46237</td>\n",
       "      <td>0</td>\n",
       "      <td>6.34091</td>\n",
       "      <td>0</td>\n",
       "      <td>142</td>\n",
       "      <td>4685</td>\n",
       "      <td>b''</td>\n",
       "      <td>0.398755</td>\n",
       "    </tr>\n",
       "    <tr>\n",
       "      <th>4</th>\n",
       "      <td>2022-12-19</td>\n",
       "      <td>2022-12-18</td>\n",
       "      <td>Run</td>\n",
       "      <td>410</td>\n",
       "      <td>3.10000</td>\n",
       "      <td>1754</td>\n",
       "      <td>9.43011</td>\n",
       "      <td>0</td>\n",
       "      <td>6.36260</td>\n",
       "      <td>0</td>\n",
       "      <td>142</td>\n",
       "      <td>4671</td>\n",
       "      <td>b''</td>\n",
       "      <td>0.398755</td>\n",
       "    </tr>\n",
       "  </tbody>\n",
       "</table>\n",
       "</div>"
      ],
      "text/plain": [
       "  Date Submitted Workout Date Activity Type  Calories Burned (kCal)  \\\n",
       "0     2022-12-24   2022-12-24           Run                     411   \n",
       "1     2022-12-24   2022-12-23           Run                     410   \n",
       "2     2022-12-20   2022-12-20           Run                     420   \n",
       "3     2022-12-20   2022-12-20           Run                     411   \n",
       "4     2022-12-19   2022-12-18           Run                     410   \n",
       "\n",
       "   Distance (mi)  Workout Time (seconds)  Avg Pace (min/mi)  Max Pace  \\\n",
       "0        3.10000                    1763            9.47849         0   \n",
       "1        3.09999                    1750            9.40860         0   \n",
       "2        3.10000                    1870           10.05380         0   \n",
       "3        3.10000                    1760            9.46237         0   \n",
       "4        3.10000                    1754            9.43011         0   \n",
       "\n",
       "   Avg Speed (mi/h)  Max Speed  Avg Heart Rate  Steps Notes  Custom Score  \n",
       "0           6.33012          0             142   4692   b''      0.398755  \n",
       "1           6.37714          0             142   4661   b''      0.398754  \n",
       "2           5.96791          0             142   4948   b''      0.398755  \n",
       "3           6.34091          0             142   4685   b''      0.398755  \n",
       "4           6.36260          0             142   4671   b''      0.398755  "
      ]
     },
     "execution_count": 46,
     "metadata": {},
     "output_type": "execute_result"
    }
   ],
   "source": [
    "df.head()"
   ]
  },
  {
   "cell_type": "code",
   "execution_count": null,
   "metadata": {},
   "outputs": [
    {
     "name": "stdout",
     "output_type": "stream",
     "text": [
      "Regression coefficients: [1.28630764e-01 1.27728817e-18]\n",
      "Intercept: 2.7755575615628914e-16\n"
     ]
    }
   ],
   "source": [
    "# Import the necessary modules\n",
    "import pandas as pd\n",
    "from sklearn.linear_model import LinearRegression\n",
    "\n",
    "# Select the relevant columns\n",
    "df = df[['Distance (mi)', 'Avg Pace (min/mi)', 'Custom Score']]\n",
    "\n",
    "# Clean the data by removing NaN values\n",
    "df = df.dropna()\n",
    "\n",
    "# Split the data into input and output variables\n",
    "X = df[['Distance (mi)', 'Avg Pace (min/mi)']]\n",
    "y = df['Custom Score']\n",
    "\n",
    "# Fit a linear regression model to the data\n",
    "reg = LinearRegression().fit(X, y)\n",
    "\n",
    "# Print the regression coefficients and intercept\n",
    "print(\"Regression coefficients:\", reg.coef_)\n",
    "print(\"Intercept:\", reg.intercept_)\n"
   ]
  },
  {
   "cell_type": "code",
   "execution_count": null,
   "metadata": {},
   "outputs": [
    {
     "name": "stdout",
     "output_type": "stream",
     "text": [
      "Regression coefficients: [1.28630764e-01 1.27728817e-18]\n",
      "Intercept: 2.7755575615628914e-16\n"
     ]
    },
    {
     "data": {
      "image/png": "[encoded data removed]",
      "text/plain": [
       "<Figure size 640x480 with 1 Axes>"
      ]
     },
     "metadata": {},
     "output_type": "display_data"
    }
   ],
   "source": [
    "# Import the necessary modules\n",
    "import pandas as pd\n",
    "from sklearn.linear_model import LinearRegression\n",
    "import matplotlib.pyplot as plt\n",
    "import seaborn as sns\n",
    "sns.set()\n",
    "\n",
    "# # Load the dataset from a CSV file\n",
    "# df = pd.read_csv('running_data.csv')\n",
    "\n",
    "# Select the relevant columns\n",
    "df = df[['Distance (mi)', 'Avg Pace (min/mi)', 'Custom Score']]\n",
    "\n",
    "# Clean the data by removing NaN values\n",
    "df = df.dropna()\n",
    "\n",
    "# Split the data into input and output variables\n",
    "X = df[['Distance (mi)', 'Avg Pace (min/mi)']]\n",
    "y = df['Custom Score']\n",
    "\n",
    "# Fit a linear regression model to the data\n",
    "reg = LinearRegression().fit(X, y)\n",
    "\n",
    "# Print the regression coefficients and intercept\n",
    "print(\"Regression coefficients:\", reg.coef_)\n",
    "print(\"Intercept:\", reg.intercept_)\n",
    "\n",
    "# Create a scatter plot of the data\n",
    "plt.scatter(X['Distance (mi)'], y)\n",
    "\n",
    "# Plot the linear regression line\n",
    "x_values = [X['Distance (mi)'].min(), X['Distance (mi)'].max()]\n",
    "y_values = [reg.intercept_ + reg.coef_[0] * x_values[0], reg.intercept_ + reg.coef_[0] * x_values[1]]\n",
    "plt.plot(x_values, y_values, 'r')\n",
    "\n",
    "# Set the plot title and axes labels\n",
    "plt.title(\"Custom Score vs Distance\")\n",
    "plt.xlabel(\"Distance (mi)\")\n",
    "plt.ylabel(\"Custom Score\")\n",
    "\n",
    "# Show the plot\n",
    "plt.show()\n"
   ]
  },
  {
   "cell_type": "code",
   "execution_count": null,
   "metadata": {},
   "outputs": [
    {
     "name": "stdout",
     "output_type": "stream",
     "text": [
      "Regression coefficients: [1.28630764e-01 1.27728817e-18]\n",
      "Intercept: 2.7755575615628914e-16\n"
     ]
    },
    {
     "data": {
      "application/vnd.plotly.v1+json": {
       "config": {
        "plotlyServerURL": "https://plot.ly"
       },
       "data": [
        {
         "hovertemplate": "Distance (mi)=%{x}<br>Custom Score=%{y}<extra></extra>",
         "legendgroup": "",
         "marker": {
          "color": "#636efa",
          "symbol": "circle"
         },
         "mode": "markers",
         "name": "",
         "orientation": "v",
         "showlegend": false,
         "type": "scatter",
         "x": [
          3.1,
          3.09999,
          3.1,
          3.1,
          3.1,
          3.1,
          2.02,
          3.1,
          3.1,
          3.1,
          6.21098,
          6.26321,
          3.1,
          3.1,
          3.1,
          3.1,
          3.1,
          3.1,
          3.1,
          3.1,
          13.1,
          4.87,
          3.1,
          3.11418,
          3.1,
          6.25655,
          3.1,
          2.88965,
          13.1,
          10.4861,
          6.50112,
          9.01954,
          4.65019,
          3.1,
          3.1,
          3.10691,
          3.65871,
          4.9,
          5.01163,
          3.74725,
          4.50081,
          5.85,
          5.01,
          3.1,
          3.1,
          5.20363,
          4.73411,
          3.1,
          3.09999,
          13.11,
          6.56,
          4.74,
          6.38464,
          6.21,
          4.62746,
          7.02161,
          6.35313,
          6.34867,
          2.14121,
          2.36879,
          6.09,
          8,
          3.1554,
          4.2552,
          3.1,
          1.60334,
          3.10069,
          6.2,
          9.00279,
          3.1,
          3.1,
          3.75571,
          3.1082,
          3.10741,
          1.99974,
          3.09815,
          3.10009,
          3.10995,
          3.1,
          3.1,
          3.1,
          2.66,
          2.57857,
          2.33,
          3.1,
          3.09762,
          6.20257,
          3.11,
          4.50165,
          1.88061,
          2.43575,
          6.24228,
          3.10851,
          3.1,
          4.08,
          3.10044,
          3.10717,
          3.1,
          6.20547,
          3.1,
          3.1,
          3.1,
          3.10131,
          6.20338,
          3.10598,
          3.1,
          6.2,
          5.00117,
          3.10777,
          2.35281,
          2.59009,
          3.1,
          6.20509,
          4.51981,
          3.1,
          3.10282,
          2.42729,
          6.20159,
          3.1,
          3.10633,
          3.50724,
          3.10605,
          3.1,
          3.1,
          3.1,
          3.10142,
          5.01831,
          3.09845,
          3.1,
          3.1,
          2.33625,
          3.1,
          7.52507,
          0.251156,
          6.19947,
          3.1,
          0.662913,
          3.10118,
          3.1,
          3.1,
          6.2,
          6.2,
          3.1,
          6.20247,
          3.1,
          3.1,
          13.1,
          3.1,
          3.1,
          10.51,
          6.2,
          5.75,
          3.1,
          4.07453,
          3.60654,
          3.1,
          2,
          3.1,
          3.1,
          3.1,
          3.1,
          3.10459,
          3.1077,
          0.440799,
          2.23328,
          3.2,
          3.29,
          3.10535,
          3.1,
          3.1,
          3.1,
          2.5,
          1.71222,
          2.23836,
          6.2,
          3.1,
          3.10137,
          3.10493,
          6.20239,
          3.1,
          2.68793,
          2.67208,
          3.1,
          3.1,
          3.1,
          3.1,
          3.1,
          3.1,
          3.1,
          6.20212,
          6.20107,
          3.23,
          6.18364,
          3.1048,
          3.1,
          3.1,
          3.07307,
          6.20368,
          3.1056,
          13.13,
          6.2,
          6.20721,
          3.57864,
          6.21259,
          3.1,
          2.79223,
          5,
          3.10988,
          3.1,
          3.1,
          3.1,
          3.18,
          6.3,
          6.26,
          3.1,
          5,
          3.1,
          3.13794,
          3.1,
          3.1,
          3.1,
          10.0009,
          3.1,
          3.56526,
          3.55868,
          2.49986,
          3.1,
          3.08652,
          3.10499,
          3.1,
          3.1,
          3.1,
          4.39982,
          3.56663,
          4,
          4,
          3.55645,
          3.55639,
          3.1,
          3.1,
          3.50219,
          3.1,
          3.1,
          0.602201,
          6.24483,
          2.33338,
          2.46707,
          2.61999,
          2.47592,
          4.00039,
          3.10235,
          3.55837,
          3.10555,
          3.10344,
          7.50194,
          3.1038,
          3.10129,
          2.41854,
          3.91673,
          1.62582,
          0.246179,
          0.285085,
          2.4372,
          6.39987,
          3.2685,
          3.1021,
          2.89999,
          3.10122,
          1.03783,
          3.10412,
          1.77948,
          3.10143,
          3.10141,
          3.09832,
          4.36999,
          3.10515,
          1.01291,
          3.10458,
          1.79562,
          3.09676,
          0.82676,
          3.49952,
          3.11619,
          1.99305,
          2.82903,
          0.730137,
          2.02293,
          2.06988,
          2.0111,
          3.61858,
          3.1,
          1.97196,
          4.01396,
          3.10194,
          3.10971,
          2.59691,
          3.10826,
          3.10805,
          3.1,
          2.42898,
          4.30021,
          3.10181,
          3.17424,
          1.93,
          3.31728,
          4.48723,
          3.97066,
          2.23902,
          3.09945,
          3.13047,
          1.98602,
          4.84696,
          3.1,
          4.06368,
          4.99966,
          10.0029,
          13.4816,
          8.54898,
          3.1,
          2,
          3.1,
          3.1,
          3.1,
          1.8785,
          1.36683,
          0.765194,
          1.77599,
          7.75998,
          3.10288,
          3.1,
          3.1,
          2.8,
          4.45565,
          3.19,
          2.65921,
          4.36085,
          4.96705,
          2.9,
          4.14472,
          3.11139,
          3.11,
          3.1,
          3.1,
          3.1,
          3.1,
          3.12,
          3.15417,
          4.02,
          3.1,
          3.72999,
          6.20161,
          3.34,
          7.5,
          3.1,
          6.19,
          6.06188,
          4.5,
          3.1,
          3.1,
          2.5,
          10.8782,
          3.09931,
          6.57769,
          6.47,
          3.85071,
          6.98,
          4,
          3.1,
          4.28983,
          5,
          6.00658,
          4.01522,
          6.94,
          6.71,
          10.06,
          3.1,
          5.17345,
          3.01,
          6.14,
          6.78,
          3.1,
          10.07,
          3.09786,
          3.09967,
          3.01,
          3.5,
          3.1,
          3.20724,
          1.88253,
          2.43445,
          1.90316,
          2.2788,
          4.1932,
          2.88836,
          5.26198,
          2.24318,
          2.17275,
          4.1942,
          2.62635,
          2.99495,
          3.09892,
          2.00418,
          3.33938,
          3.67523,
          3.52458,
          3.74324,
          2.2376,
          2.67652,
          1.99807,
          4.00011,
          3.11424,
          3.09108,
          1.68766,
          2.85037,
          3.48464,
          2.01571,
          2.05649,
          1.15564,
          3.3416,
          4.00193,
          3.22346,
          3.42976,
          2.61991,
          2.62585,
          0.979998,
          2.55559,
          3.50588,
          3.16702,
          1.39681,
          1.80542,
          4.01264,
          4.33846,
          0.296056,
          5.05756,
          0.827829,
          0.581158,
          0.569707,
          3.09979,
          0.562272,
          4.62672,
          4.05847,
          7.82053,
          1.02353,
          1.57442,
          5.01727,
          4.74585,
          0.909091,
          2.19627,
          2.81977,
          4.01711,
          2.99999,
          7.02046,
          7.26269,
          4.01531,
          1.09927,
          0.24119,
          1.99837,
          1.20381,
          5.33115,
          0.265723,
          2.26711,
          0.497708,
          4.41318,
          1.01239,
          1.19157,
          5.01784,
          3.10389,
          2.82043,
          1.03002,
          2.37912,
          13.4344,
          3.1,
          8.34466,
          1.01081,
          1.16558,
          1.68258,
          1.11896,
          6.00283,
          6.5764,
          0.854721,
          6.16699,
          3.34658,
          3.1,
          3.1,
          2.01634,
          6.90749,
          5.64537,
          7.0162,
          1.06353,
          10.0048,
          4.54461,
          3.52379,
          1.55597,
          3.10472,
          4.27343,
          5.62947,
          3.19937,
          6.23399,
          0.889543,
          4.02567,
          0.718409,
          4.03808,
          4.8224,
          4.34868,
          4.20257,
          4.19924,
          0.416069,
          4.01328,
          1.00306,
          8.01703,
          1.573,
          0.660433,
          4.53437,
          5.1,
          3.11,
          1.04164,
          13.12,
          3.1,
          4.10373,
          0.248597,
          3.1579,
          4.1388,
          1.06341,
          0.178743,
          1.00649,
          7.55518,
          3.1,
          3.09756,
          1.10442,
          2.00956,
          3.1,
          0.50553,
          3.12592,
          1,
          1,
          3.1,
          4,
          5,
          4.7,
          4.09898,
          3.1,
          3.10386,
          4,
          3.1,
          3.2,
          3.51,
          3.54,
          3.64,
          3.63,
          3.47,
          3.1,
          7.50011,
          3.75,
          3.65,
          3.63,
          3.1,
          3.31,
          3.1,
          3.65,
          1.4,
          3.1,
          3.1,
          3.09871,
          3.1,
          3.56,
          7.32,
          3.46,
          3.1,
          3.1,
          3.89,
          3.36,
          3.15,
          3.19,
          3.22,
          3.52,
          3.13,
          3.61,
          4.86,
          3.38,
          3.36,
          3.33,
          3.49,
          4.21,
          3.22,
          3.4,
          2.89,
          2.95,
          2.02,
          3.26,
          3.27,
          3.4,
          3.39,
          2.92,
          3.57,
          3.52,
          3.10152,
          3.62517,
          1.50258,
          1.57658,
          3.09671,
          3.0997,
          3.1,
          3.10145,
          3.00061,
          2.06282,
          3.17,
          1.94,
          2.5,
          3,
          3.09,
          0.950724,
          2.00666,
          2.67286,
          2.01198,
          2.465,
          1.71474,
          1.44034,
          1.59109,
          3.26,
          2.18704,
          2.08307,
          1.02124,
          0.907727,
          1.65895,
          2.60421,
          1.83844,
          3.01258,
          2.50606,
          4.27823,
          1.17042,
          1.5055,
          3.23456,
          4.00439,
          1.24347,
          1.70459,
          3.09616,
          0.400536,
          1.12282,
          0.349678,
          1.67618,
          3.68,
          1.00414,
          1.00395,
          0.961051,
          2.62597,
          1.11988,
          3.09845,
          0.553178,
          3.10062,
          1.86266,
          3.09762,
          0.983619,
          0.393204,
          0.747039,
          1.001,
          0.260228,
          2.27373,
          0.826182,
          0.197591,
          2.57569,
          2.0322,
          0.209153,
          3.09894,
          1.4462,
          1.83082,
          2.0421,
          1.15166,
          1.01108,
          1.89353,
          1.4023,
          4.19653,
          3.09664,
          3.09725,
          1.00093,
          2.62644,
          0.486316,
          1.07539,
          2.03689,
          1.00456,
          0.365521,
          1.00421,
          0.0905981,
          0.713012,
          2.20504,
          0.359911,
          3.20796,
          0.347854,
          1.01098,
          1.02663,
          0.870482,
          0.909179,
          1.67796,
          1.1325,
          2.43352,
          1.5037,
          1.66542,
          1.25202,
          3.09738,
          2.24595,
          2.24,
          1.13576,
          0.299202,
          1.19,
          2.01,
          0.2892,
          1.01344,
          1.01247,
          1.22552,
          1.04,
          1.03729,
          2.78655,
          1.51981,
          1.64256,
          1.51879,
          1.60894,
          1.53185,
          1.00441,
          1.01804,
          1.8,
          1.47282,
          1.26504,
          3.41,
          3.36,
          3.1,
          2.43,
          2.33,
          3.15,
          2.09,
          1.04,
          2.77861,
          2.88,
          1.57283,
          3.13,
          2.21734,
          2.99,
          3.1,
          3.1,
          2.22093,
          2.21864,
          2.62122,
          3.11075,
          3.13,
          1.96155,
          1.42,
          6.21
         ],
         "xaxis": "x",
         "y": [
          0.39875536872651685,
          0.3987540824188758,
          0.39875536872651685,
          0.39875536872651685,
          0.39875536872651685,
          0.39875536872651685,
          0.25983414349276257,
          0.39875536872651685,
          0.39875536872651685,
          0.39875536872651685,
          0.7989231032429102,
          0.8056414880521314,
          0.39875536872651685,
          0.39875536872651685,
          0.39875536872651685,
          0.39875536872651685,
          0.39875536872651685,
          0.39875536872651685,
          0.39875536872651685,
          0.39875536872651685,
          1.6850630097797967,
          0.6264318211929474,
          0.39875536872651685,
          0.4005793529615304,
          0.39875536872651685,
          0.8047848071631899,
          0.39875536872651685,
          0.3716978874969611,
          1.6850630097797967,
          1.34883505548488,
          0.83624403314043,
          1.16019032207857,
          0.5981574929349552,
          0.39875536872651685,
          0.39875536872651685,
          0.39964420730648464,
          0.47062266293980465,
          0.6302907441161073,
          0.644649796313185,
          0.4820116307936904,
          0.5789426293929014,
          0.7524899700161688,
          0.6444401281676932,
          0.39875536872651685,
          0.39875536872651685,
          0.669346903021408,
          0.6089521866586743,
          0.39875536872651685,
          0.3987540824188758,
          1.6863493174208501,
          0.8438178125309517,
          0.6097098218592548,
          0.8212611217374414,
          0.7987970450940869,
          0.5952337156668411,
          0.9031950595496122,
          0.8172079663604825,
          0.8166342731525728,
          0.2754254784099694,
          0.30469926770505995,
          0.7833613534014475,
          1.029046112842624,
          0.405881513057952,
          0.5473496274209918,
          0.39875536872651685,
          0.2062388493206366,
          0.3988441239537495,
          0.7975107374530337,
          1.1580357567798059,
          0.39875536872651685,
          0.39875536872651685,
          0.48309984705802145,
          0.39981014099218054,
          0.3997085226885373,
          0.2572280842119886,
          0.39851740181292195,
          0.39876694549528624,
          0.4000352448293648,
          0.39875536872651685,
          0.39875536872651685,
          0.39875536872651685,
          0.3421578325201725,
          0.33168342939907564,
          0.29970968036541423,
          0.39875536872651685,
          0.39844922750794615,
          0.7978413185167843,
          0.4000416763675701,
          0.5790506792347497,
          0.24190430128412088,
          0.3133123836695527,
          0.8029492461594069,
          0.39985001652905316,
          0.39875536872651685,
          0.5248135175497383,
          0.39881196626272314,
          0.39967765130515204,
          0.39875536872651685,
          0.7982143477326897,
          0.39875536872651685,
          0.39875536872651685,
          0.39875536872651685,
          0.39892387502749477,
          0.7979455094357096,
          0.3995245806958667,
          0.39875536872651685,
          0.7975107374530337,
          0.6433043185206433,
          0.3997548297636152,
          0.3026437480946568,
          0.333165255801569,
          0.39875536872651685,
          0.7981654680423298,
          0.5813866139109025,
          0.39875536872651685,
          0.39911810748129384,
          0.31222416740522163,
          0.7977152603679611,
          0.39875536872651685,
          0.3995696014633035,
          0.45113896110077056,
          0.3995335848493541,
          0.39875536872651685,
          0.39875536872651685,
          0.39875536872651685,
          0.3989380244115464,
          0.6455090498174085,
          0.39855599104215356,
          0.39875536872651685,
          0.39875536872651685,
          0.30051362264107256,
          0.39875536872651685,
          0.9679555040460807,
          0.03230638818963776,
          0.7974425631480578,
          0.39875536872651685,
          0.0852710057253553,
          0.3989071530281611,
          0.39875536872651685,
          0.39875536872651685,
          0.7975107374530337,
          0.7975107374530337,
          0.39875536872651685,
          0.7978284554403737,
          0.39875536872651685,
          0.39875536872651685,
          1.6850630097797967,
          0.39875536872651685,
          0.39875536872651685,
          1.3519093307469974,
          0.7975107374530337,
          0.739626893605636,
          0.39875536872651685,
          0.5241099072700821,
          0.4639119959764296,
          0.39875536872651685,
          0.257261528210656,
          0.39875536872651685,
          0.39875536872651685,
          0.39875536872651685,
          0.39875536872651685,
          0.39934578393376025,
          0.39974582561012784,
          0.05670031218686448,
          0.28726851286114696,
          0.41161844513704965,
          0.42319521390652914,
          0.39944354331448034,
          0.39875536872651685,
          0.39875536872651685,
          0.39875536872651685,
          0.32157691026332,
          0.22024416691642473,
          0.287921957142802,
          0.7975107374530337,
          0.39875536872651685,
          0.3989315928733411,
          0.3993895183935561,
          0.7978181649792454,
          0.39875536872651685,
          0.3457504897616343,
          0.34371169215056485,
          0.39875536872651685,
          0.39875536872651685,
          0.39875536872651685,
          0.39875536872651685,
          0.39875536872651685,
          0.39875536872651685,
          0.39875536872651685,
          0.7977834346729369,
          0.7976483723706262,
          0.41547736806020946,
          0.7954063381522705,
          0.3993727963942224,
          0.39875536872651685,
          0.39875536872651685,
          0.39529134224916035,
          0.7979840986649412,
          0.39947570100550667,
          1.6889219327029568,
          0.7975107374530337,
          0.798438165262233,
          0.46032319765789104,
          0.7991301987731196,
          0.39875536872651685,
          0.35916667845782,
          0.64315382052664,
          0.40002624067587744,
          0.39875536872651685,
          0.39875536872651685,
          0.39875536872651685,
          0.4090458298549431,
          0.8103738138635664,
          0.8052285832993533,
          0.39875536872651685,
          0.64315382052664,
          0.39875536872651685,
          0.40363561991667296,
          0.39875536872651685,
          0.39875536872651685,
          0.39875536872651685,
          1.2864234087409747,
          0.39875536872651685,
          0.45860211803416173,
          0.45775572760634864,
          0.3215589019563453,
          0.39875536872651685,
          0.397021426026377,
          0.3993972362394024,
          0.39875536872651685,
          0.39875536872651685,
          0.39875536872651685,
          0.5659522085259042,
          0.458778342180986,
          0.514523056421312,
          0.514523056421312,
          0.45746888100239375,
          0.45746116315654745,
          0.39875536872651685,
          0.39875536872651685,
          0.4504893757420387,
          0.39875536872651685,
          0.39875536872651685,
          0.07746157477499263,
          0.8032772546078756,
          0.3001444523480903,
          0.3173410992013316,
          0.3370113156483183,
          0.3184794814636637,
          0.5145732224193131,
          0.39905765102216434,
          0.457715852069476,
          0.3994692694673014,
          0.39919785855503914,
          0.9649802744723244,
          0.39924416563011705,
          0.3989213024122127,
          0.3110986482193,
          0.5038119726942614,
          0.20913046889772438,
          0.031666192876685546,
          0.03667070138496743,
          0.3134988982775054,
          0.8232201682747655,
          0.4204296524782646,
          0.399025493331138,
          0.3730279295978101,
          0.3989122982587253,
          0.13349686591143256,
          0.39928532747463075,
          0.22889587211014908,
          0.3989393107191874,
          0.39893673810390534,
          0.3985392690428199,
          0.5621151528326422,
          0.39941781716165925,
          0.13029138726992778,
          0.3993444976261192,
          0.23097197264280908,
          0.3983386050508156,
          0.106346770531721,
          0.45014593160187744,
          0.4008379007973821,
          0.256367544400124,
          0.3639002905768961,
          0.09391808021157187,
          0.2602110316315912,
          0.26625024600633634,
          0.25868932969222513,
          0.4654607103762578,
          0.39875536872651685,
          0.25365472158514263,
          0.5163187418882224,
          0.39900491240888114,
          0.40000437344597956,
          0.3340425176127673,
          0.39981785883802684,
          0.3997908463775647,
          0.39875536872651685,
          0.31244155339655966,
          0.5531392981133725,
          0.39898819040954747,
          0.4083049166536964,
          0.24825737472328305,
          0.4267042611513225,
          0.577195823616351,
          0.5107490298024617,
          0.2880068534471115,
          0.3986846218062589,
          0.40267474810880616,
          0.25546327012846354,
          0.6234681683879606,
          0.39875536872651685,
          0.5227142634795393,
          0.6431100860668443,
          1.2866806702691855,
          1.73414850936239,
          1.099661829721167,
          0.39875536872651685,
          0.257261528210656,
          0.39875536872651685,
          0.39875536872651685,
          0.39875536872651685,
          0.24163289037185867,
          0.1758163873020855,
          0.09842748890881237,
          0.22844695074342147,
          0.9981721568420632,
          0.39912582532714014,
          0.39875536872651685,
          0.39875536872651685,
          0.3601661394949184,
          0.5731336640859047,
          0.41033213749599634,
          0.34205621421652926,
          0.5609394676487196,
          0.6389154368493695,
          0.3730292159054512,
          0.5331385006026351,
          0.4002204731296765,
          0.4000416763675701,
          0.39875536872651685,
          0.39875536872651685,
          0.39875536872651685,
          0.39875536872651685,
          0.4013279840086234,
          0.40572329721810246,
          0.5170956717034185,
          0.39875536872651685,
          0.4797914638052324,
          0.7977178329832432,
          0.4296267521117955,
          0.9647307307899601,
          0.39875536872651685,
          0.7962244298119804,
          0.7797442563148058,
          0.578838438473976,
          0.39875536872651685,
          0.39875536872651685,
          0.32157691026332,
          1.399271178090579,
          0.3986666134992841,
          0.8460932907479749,
          0.8322410437614721,
          0.4953197696480276,
          0.8978427334551895,
          0.514523056421312,
          0.39875536872651685,
          0.5518041107819592,
          0.64315382052664,
          0.7726309750597811,
          0.5164808166509951,
          0.8926975028909764,
          0.863112427146751,
          1.2940254868995997,
          0.39875536872651685,
          0.6654648265607092,
          0.3871785999570373,
          0.789792891606714,
          0.8721165806341239,
          0.39875536872651685,
          1.2953117945406531,
          0.3984800988913314,
          0.3987129205743621,
          0.3871785999570373,
          0.450207674368648,
          0.39875536872651685,
          0.4125497318691722,
          0.24215127235120312,
          0.31314516367621575,
          0.24480492501469603,
          0.29312378524322147,
          0.5393745200464614,
          0.3715319538112652,
          0.6768525081069539,
          0.2885419574257897,
          0.2794824927098514,
          0.5395031508105668,
          0.3378294073080282,
          0.3852427069572521,
          0.39861644750128306,
          0.25779920480461627,
          0.4295470010380502,
          0.47274764316282464,
          0.45336941855035695,
          0.481495821429628,
          0.28782419776208196,
          0.3442828127431925,
          0.25701327083593273,
          0.5145372058053637,
          0.4005870708073767,
          0.39760798231069727,
          0.21708499534999784,
          0.3666452710829038,
          0.4482319058319902,
          0.25928231751475067,
          0.264527880074966,
          0.14865085623068125,
          0.4298325613343641,
          0.5147713137960352,
          0.41463612286296064,
          0.44117264949788976,
          0.3370010251871899,
          0.33776509192597554,
          0.12605789156169322,
          0.3287274944399352,
          0.45096402326158735,
          0.4073762025368559,
          0.17967273760996322,
          0.2322325541310413,
          0.5161489492796034,
          0.5580594248404014,
          0.038081909497966984,
          0.6505578073085426,
          0.10648427681854958,
          0.07475479760592421,
          0.07328184672615409,
          0.3987283562660547,
          0.07232547699503099,
          0.5951385289014032,
          0.5220440971985505,
          1.0059607496086407,
          0.13165744598472637,
          0.2025188476227105,
          0.6453752738227391,
          0.6104623118292709,
          0.11693706997127674,
          0.2825078882816088,
          0.36270916970128075,
          0.5167239287951542,
          0.385891006008343,
          0.903047134170891,
          0.9342053641601247,
          0.5164923934197646,
          0.14139994005806392,
          0.03102445399456406,
          0.25705186006516434,
          0.15484700013763492,
          0.6857498980601194,
          0.034180152530360074,
          0.2916200916108302,
          0.06402056034133459,
          0.5676707155343514,
          0.130224499272593,
          0.1532725595849857,
          0.645448593358279,
          0.3992557423988865,
          0.3627940660055903,
          0.13249225964376996,
          0.30602802349826796,
          1.7280771372966186,
          0.39875536872651685,
          1.0733799919991662,
          0.1300212626653066,
          0.14992944602588823,
          0.2164315510683428,
          0.14393267980329782,
          0.7721486096943861,
          0.8459273570622791,
          0.10994341532687005,
          0.7932646359299168,
          0.43047314253960856,
          0.39875536872651685,
          0.39875536872651685,
          0.2593633548961371,
          0.8885157167499121,
          0.7261682567572956,
          0.9024991671158024,
          0.13680267654893952,
          1.2869250687209857,
          0.5845766568607147,
          0.45326780024671376,
          0.20014561002496722,
          0.39936250593309397,
          0.5496945662506318,
          0.7241230276080209,
          0.4115374077556633,
          0.8018828971249737,
          0.11442259579454579,
          0.5178250081358958,
          0.09240949861014458,
          0.5194213159184429,
          0.6203089968215337,
          0.5593740312495578,
          0.5405797903061282,
          0.5401514498616575,
          0.05351927339053972,
          0.5162312729686308,
          0.1290243742434903,
          1.0312366947553377,
          0.20233619193768096,
          0.0849520014303741,
          0.5832594778362762,
          0.6560168969371728,
          0.4000416763675701,
          0.13398694912267384,
          1.6876356250619033,
          0.39875536872651685,
          0.5278659255819577,
          0.03197722206429223,
          0.4062030899682153,
          0.5323770064791316,
          0.13678724085724686,
          0.022991848668478646,
          0.1294655777643716,
          0.971828576353292,
          0.39875536872651685,
          0.39844150966209985,
          0.14206238849320635,
          0.25849123831550297,
          0.39875536872651685,
          0.06502671017816647,
          0.40208947813212687,
          0.128630764105328,
          0.128630764105328,
          0.39875536872651685,
          0.514523056421312,
          0.64315382052664,
          0.6045645912950417,
          0.5272549294524574,
          0.39875536872651685,
          0.3992518834759634,
          0.514523056421312,
          0.39875536872651685,
          0.41161844513704965,
          0.45149398200970126,
          0.4553529049328611,
          0.4682159813433939,
          0.4669296737023406,
          0.4463487514454882,
          0.39875536872651685,
          0.9647448801740116,
          0.48236536539498004,
          0.4695022889844472,
          0.4669296737023406,
          0.39875536872651685,
          0.4257678291886357,
          0.39875536872651685,
          0.4695022889844472,
          0.1800830697474592,
          0.39875536872651685,
          0.39875536872651685,
          0.39858943504082095,
          0.39875536872651685,
          0.4579255202149677,
          0.941577193251001,
          0.4450624438044349,
          0.39875536872651685,
          0.39875536872651685,
          0.500373672369726,
          0.4321993673939021,
          0.4051869069317832,
          0.41033213749599634,
          0.4141910604191562,
          0.45278028965075456,
          0.40261429164967666,
          0.46435705842023406,
          0.6251455135518942,
          0.43477198267600864,
          0.4321993673939021,
          0.42834044447074227,
          0.44892136672759475,
          0.5415355168834309,
          0.4141910604191562,
          0.4373445979581152,
          0.37174290826439793,
          0.3794607541107176,
          0.25983414349276257,
          0.4193362909833693,
          0.4206225986244226,
          0.4373445979581152,
          0.43605829031706195,
          0.37560183118755774,
          0.45921182785602094,
          0.45278028965075456,
          0.3989508874879569,
          0.4663083871117119,
          0.19327801352938376,
          0.20279669007317805,
          0.39833217351261024,
          0.3987167794972852,
          0.39875536872651685,
          0.3989418833344695,
          0.3859707570820883,
          0.2653421128117527,
          0.4077595222138898,
          0.24954368236433633,
          0.32157691026332,
          0.385892292315984,
          0.39746906108546354,
          0.12229235457327386,
          0.2581182090995975,
          0.34381202414656703,
          0.25880252476463783,
          0.3170748335196335,
          0.22056831644197014,
          0.18527203477146814,
          0.20466312246034632,
          0.4193362909833693,
          0.2813206263289166,
          0.2679468857848856,
          0.13136288153492517,
          0.11676161760903707,
          0.2133920061125339,
          0.33498152219073624,
          0.23647994196179922,
          0.38751046732842903,
          0.32235641269379833,
          0.5503119939183374,
          0.150552018924158,
          0.19365361536057132,
          0.41606392434452977,
          0.5150877454757344,
          0.15994849624205223,
          0.21926271418630108,
          0.3982614265923523,
          0.051521251731691656,
          0.1444291945527444,
          0.044979348330822885,
          0.2156083141780687,
          0.4733612119076071,
          0.12916329546872407,
          0.12913885562354405,
          0.12362072447418958,
          0.3377805276176682,
          0.1440510201062747,
          0.39855599104215356,
          0.07115570882625713,
          0.39883511980026215,
          0.23959537906843026,
          0.39844922750794615,
          0.12652366355851863,
          0.05057813096927139,
          0.09609219738648013,
          0.12875939486943333,
          0.0334733264816013,
          0.29247162726920745,
          0.1062724219500681,
          0.025416281310335864,
          0.3313129727984523,
          0.26140343881484757,
          0.02690351020492167,
          0.39861902011656514,
          0.18602581104912536,
          0.2354997755393166,
          0.2626768833794903,
          0.14813890578954203,
          0.13005599297161505,
          0.24356621075636173,
          0.18037892050490148,
          0.5398028604909322,
          0.3983231693591229,
          0.39840163412522717,
          0.12875039071594596,
          0.3378409840767977,
          0.0625551986766467,
          0.13832823741122868,
          0.2620067170985016,
          0.12921732038964828,
          0.04701724552654359,
          0.12917229962221144,
          0.011653702829490917,
          0.09171527837626813,
          0.28363598008281243,
          0.0462956269399127,
          0.41264234601932803,
          0.044744725817094766,
          0.1300431298952045,
          0.1320562013534529,
          0.11197076479993413,
          0.116948389478518,
          0.21583727693817617,
          0.14567434034928398,
          0.3130255370655978,
          0.19342207998518174,
          0.21422424715629534,
          0.16104828927515275,
          0.39841835612456084,
          0.28889826464236146,
          0.28813291159593474,
          0.14609367664026734,
          0.038486581881842355,
          0.15307060928534033,
          0.25854783585170926,
          0.03720001697926086,
          0.1303595615749036,
          0.13023478973372143,
          0.15763957402636156,
          0.13377599466954113,
          0.1334274052988157,
          0.35843605571770176,
          0.19549432159491856,
          0.21128374788884757,
          0.19536311821553112,
          0.20695918159962645,
          0.1970430359947467,
          0.1291980257750325,
          0.13095126308978813,
          0.2315353753895904,
          0.1894499619896092,
          0.16272306182380414,
          0.4386309055991685,
          0.4321993673939021,
          0.39875536872651685,
          0.3125727567759471,
          0.29970968036541423,
          0.4051869069317832,
          0.2688382969801355,
          0.13377599466954113,
          0.35741472745070546,
          0.3704566006233446,
          0.20231432470778304,
          0.40261429164967666,
          0.285218138481308,
          0.38460598467493073,
          0.39875536872651685,
          0.39875536872651685,
          0.28567992292444616,
          0.28538535847464497,
          0.33716953148816786,
          0.40013814944064907,
          0.40261429164967666,
          0.2523156753308061,
          0.18265568502956575,
          0.7987970450940869
         ],
         "yaxis": "y"
        },
        {
         "hovertemplate": "x=%{x}<br>y=%{y}<extra></extra>",
         "legendgroup": "",
         "line": {
          "color": "#636efa",
          "dash": "solid"
         },
         "marker": {
          "symbol": "circle"
         },
         "mode": "lines",
         "name": "",
         "orientation": "v",
         "showlegend": false,
         "type": "scatter",
         "x": [
          0.0905981,
          13.4816
         ],
         "xaxis": "x",
         "y": [
          0.01165370282949119,
          1.7341485093623896
         ],
         "yaxis": "y"
        }
       ],
       "layout": {
        "legend": {
         "tracegroupgap": 0
        },
        "margin": {
         "t": 60
        },
        "template": {
         "data": {
          "bar": [
           {
            "error_x": {
             "color": "#2a3f5f"
            },
            "error_y": {
             "color": "#2a3f5f"
            },
            "marker": {
             "line": {
              "color": "#E5ECF6",
              "width": 0.5
             },
             "pattern": {
              "fillmode": "overlay",
              "size": 10,
              "solidity": 0.2
             }
            },
            "type": "bar"
           }
          ],
          "barpolar": [
           {
            "marker": {
             "line": {
              "color": "#E5ECF6",
              "width": 0.5
             },
             "pattern": {
              "fillmode": "overlay",
              "size": 10,
              "solidity": 0.2
             }
            },
            "type": "barpolar"
           }
          ],
          "carpet": [
           {
            "aaxis": {
             "endlinecolor": "#2a3f5f",
             "gridcolor": "white",
             "linecolor": "white",
             "minorgridcolor": "white",
             "startlinecolor": "#2a3f5f"
            },
            "baxis": {
             "endlinecolor": "#2a3f5f",
             "gridcolor": "white",
             "linecolor": "white",
             "minorgridcolor": "white",
             "startlinecolor": "#2a3f5f"
            },
            "type": "carpet"
           }
          ],
          "choropleth": [
           {
            "colorbar": {
             "outlinewidth": 0,
             "ticks": ""
            },
            "type": "choropleth"
           }
          ],
          "contour": [
           {
            "colorbar": {
             "outlinewidth": 0,
             "ticks": ""
            },
            "colorscale": [
             [
              0,
              "#0d0887"
             ],
             [
              0.1111111111111111,
              "#46039f"
             ],
             [
              0.2222222222222222,
              "#7201a8"
             ],
             [
              0.3333333333333333,
              "#9c179e"
             ],
             [
              0.4444444444444444,
              "#bd3786"
             ],
             [
              0.5555555555555556,
              "#d8576b"
             ],
             [
              0.6666666666666666,
              "#ed7953"
             ],
             [
              0.7777777777777778,
              "#fb9f3a"
             ],
             [
              0.8888888888888888,
              "#fdca26"
             ],
             [
              1,
              "#f0f921"
             ]
            ],
            "type": "contour"
           }
          ],
          "contourcarpet": [
           {
            "colorbar": {
             "outlinewidth": 0,
             "ticks": ""
            },
            "type": "contourcarpet"
           }
          ],
          "heatmap": [
           {
            "colorbar": {
             "outlinewidth": 0,
             "ticks": ""
            },
            "colorscale": [
             [
              0,
              "#0d0887"
             ],
             [
              0.1111111111111111,
              "#46039f"
             ],
             [
              0.2222222222222222,
              "#7201a8"
             ],
             [
              0.3333333333333333,
              "#9c179e"
             ],
             [
              0.4444444444444444,
              "#bd3786"
             ],
             [
              0.5555555555555556,
              "#d8576b"
             ],
             [
              0.6666666666666666,
              "#ed7953"
             ],
             [
              0.7777777777777778,
              "#fb9f3a"
             ],
             [
              0.8888888888888888,
              "#fdca26"
             ],
             [
              1,
              "#f0f921"
             ]
            ],
            "type": "heatmap"
           }
          ],
          "heatmapgl": [
           {
            "colorbar": {
             "outlinewidth": 0,
             "ticks": ""
            },
            "colorscale": [
             [
              0,
              "#0d0887"
             ],
             [
              0.1111111111111111,
              "#46039f"
             ],
             [
              0.2222222222222222,
              "#7201a8"
             ],
             [
              0.3333333333333333,
              "#9c179e"
             ],
             [
              0.4444444444444444,
              "#bd3786"
             ],
             [
              0.5555555555555556,
              "#d8576b"
             ],
             [
              0.6666666666666666,
              "#ed7953"
             ],
             [
              0.7777777777777778,
              "#fb9f3a"
             ],
             [
              0.8888888888888888,
              "#fdca26"
             ],
             [
              1,
              "#f0f921"
             ]
            ],
            "type": "heatmapgl"
           }
          ],
          "histogram": [
           {
            "marker": {
             "pattern": {
              "fillmode": "overlay",
              "size": 10,
              "solidity": 0.2
             }
            },
            "type": "histogram"
           }
          ],
          "histogram2d": [
           {
            "colorbar": {
             "outlinewidth": 0,
             "ticks": ""
            },
            "colorscale": [
             [
              0,
              "#0d0887"
             ],
             [
              0.1111111111111111,
              "#46039f"
             ],
             [
              0.2222222222222222,
              "#7201a8"
             ],
             [
              0.3333333333333333,
              "#9c179e"
             ],
             [
              0.4444444444444444,
              "#bd3786"
             ],
             [
              0.5555555555555556,
              "#d8576b"
             ],
             [
              0.6666666666666666,
              "#ed7953"
             ],
             [
              0.7777777777777778,
              "#fb9f3a"
             ],
             [
              0.8888888888888888,
              "#fdca26"
             ],
             [
              1,
              "#f0f921"
             ]
            ],
            "type": "histogram2d"
           }
          ],
          "histogram2dcontour": [
           {
            "colorbar": {
             "outlinewidth": 0,
             "ticks": ""
            },
            "colorscale": [
             [
              0,
              "#0d0887"
             ],
             [
              0.1111111111111111,
              "#46039f"
             ],
             [
              0.2222222222222222,
              "#7201a8"
             ],
             [
              0.3333333333333333,
              "#9c179e"
             ],
             [
              0.4444444444444444,
              "#bd3786"
             ],
             [
              0.5555555555555556,
              "#d8576b"
             ],
             [
              0.6666666666666666,
              "#ed7953"
             ],
             [
              0.7777777777777778,
              "#fb9f3a"
             ],
             [
              0.8888888888888888,
              "#fdca26"
             ],
             [
              1,
              "#f0f921"
             ]
            ],
            "type": "histogram2dcontour"
           }
          ],
          "mesh3d": [
           {
            "colorbar": {
             "outlinewidth": 0,
             "ticks": ""
            },
            "type": "mesh3d"
           }
          ],
          "parcoords": [
           {
            "line": {
             "colorbar": {
              "outlinewidth": 0,
              "ticks": ""
             }
            },
            "type": "parcoords"
           }
          ],
          "pie": [
           {
            "automargin": true,
            "type": "pie"
           }
          ],
          "scatter": [
           {
            "fillpattern": {
             "fillmode": "overlay",
             "size": 10,
             "solidity": 0.2
            },
            "type": "scatter"
           }
          ],
          "scatter3d": [
           {
            "line": {
             "colorbar": {
              "outlinewidth": 0,
              "ticks": ""
             }
            },
            "marker": {
             "colorbar": {
              "outlinewidth": 0,
              "ticks": ""
             }
            },
            "type": "scatter3d"
           }
          ],
          "scattercarpet": [
           {
            "marker": {
             "colorbar": {
              "outlinewidth": 0,
              "ticks": ""
             }
            },
            "type": "scattercarpet"
           }
          ],
          "scattergeo": [
           {
            "marker": {
             "colorbar": {
              "outlinewidth": 0,
              "ticks": ""
             }
            },
            "type": "scattergeo"
           }
          ],
          "scattergl": [
           {
            "marker": {
             "colorbar": {
              "outlinewidth": 0,
              "ticks": ""
             }
            },
            "type": "scattergl"
           }
          ],
          "scattermapbox": [
           {
            "marker": {
             "colorbar": {
              "outlinewidth": 0,
              "ticks": ""
             }
            },
            "type": "scattermapbox"
           }
          ],
          "scatterpolar": [
           {
            "marker": {
             "colorbar": {
              "outlinewidth": 0,
              "ticks": ""
             }
            },
            "type": "scatterpolar"
           }
          ],
          "scatterpolargl": [
           {
            "marker": {
             "colorbar": {
              "outlinewidth": 0,
              "ticks": ""
             }
            },
            "type": "scatterpolargl"
           }
          ],
          "scatterternary": [
           {
            "marker": {
             "colorbar": {
              "outlinewidth": 0,
              "ticks": ""
             }
            },
            "type": "scatterternary"
           }
          ],
          "surface": [
           {
            "colorbar": {
             "outlinewidth": 0,
             "ticks": ""
            },
            "colorscale": [
             [
              0,
              "#0d0887"
             ],
             [
              0.1111111111111111,
              "#46039f"
             ],
             [
              0.2222222222222222,
              "#7201a8"
             ],
             [
              0.3333333333333333,
              "#9c179e"
             ],
             [
              0.4444444444444444,
              "#bd3786"
             ],
             [
              0.5555555555555556,
              "#d8576b"
             ],
             [
              0.6666666666666666,
              "#ed7953"
             ],
             [
              0.7777777777777778,
              "#fb9f3a"
             ],
             [
              0.8888888888888888,
              "#fdca26"
             ],
             [
              1,
              "#f0f921"
             ]
            ],
            "type": "surface"
           }
          ],
          "table": [
           {
            "cells": {
             "fill": {
              "color": "#EBF0F8"
             },
             "line": {
              "color": "white"
             }
            },
            "header": {
             "fill": {
              "color": "#C8D4E3"
             },
             "line": {
              "color": "white"
             }
            },
            "type": "table"
           }
          ]
         },
         "layout": {
          "annotationdefaults": {
           "arrowcolor": "#2a3f5f",
           "arrowhead": 0,
           "arrowwidth": 1
          },
          "autotypenumbers": "strict",
          "coloraxis": {
           "colorbar": {
            "outlinewidth": 0,
            "ticks": ""
           }
          },
          "colorscale": {
           "diverging": [
            [
             0,
             "#8e0152"
            ],
            [
             0.1,
             "#c51b7d"
            ],
            [
             0.2,
             "#de77ae"
            ],
            [
             0.3,
             "#f1b6da"
            ],
            [
             0.4,
             "#fde0ef"
            ],
            [
             0.5,
             "#f7f7f7"
            ],
            [
             0.6,
             "#e6f5d0"
            ],
            [
             0.7,
             "#b8e186"
            ],
            [
             0.8,
             "#7fbc41"
            ],
            [
             0.9,
             "#4d9221"
            ],
            [
             1,
             "#276419"
            ]
           ],
           "sequential": [
            [
             0,
             "#0d0887"
            ],
            [
             0.1111111111111111,
             "#46039f"
            ],
            [
             0.2222222222222222,
             "#7201a8"
            ],
            [
             0.3333333333333333,
             "#9c179e"
            ],
            [
             0.4444444444444444,
             "#bd3786"
            ],
            [
             0.5555555555555556,
             "#d8576b"
            ],
            [
             0.6666666666666666,
             "#ed7953"
            ],
            [
             0.7777777777777778,
             "#fb9f3a"
            ],
            [
             0.8888888888888888,
             "#fdca26"
            ],
            [
             1,
             "#f0f921"
            ]
           ],
           "sequentialminus": [
            [
             0,
             "#0d0887"
            ],
            [
             0.1111111111111111,
             "#46039f"
            ],
            [
             0.2222222222222222,
             "#7201a8"
            ],
            [
             0.3333333333333333,
             "#9c179e"
            ],
            [
             0.4444444444444444,
             "#bd3786"
            ],
            [
             0.5555555555555556,
             "#d8576b"
            ],
            [
             0.6666666666666666,
             "#ed7953"
            ],
            [
             0.7777777777777778,
             "#fb9f3a"
            ],
            [
             0.8888888888888888,
             "#fdca26"
            ],
            [
             1,
             "#f0f921"
            ]
           ]
          },
          "colorway": [
           "#636efa",
           "#EF553B",
           "#00cc96",
           "#ab63fa",
           "#FFA15A",
           "#19d3f3",
           "#FF6692",
           "#B6E880",
           "#FF97FF",
           "#FECB52"
          ],
          "font": {
           "color": "#2a3f5f"
          },
          "geo": {
           "bgcolor": "white",
           "lakecolor": "white",
           "landcolor": "#E5ECF6",
           "showlakes": true,
           "showland": true,
           "subunitcolor": "white"
          },
          "hoverlabel": {
           "align": "left"
          },
          "hovermode": "closest",
          "mapbox": {
           "style": "light"
          },
          "paper_bgcolor": "white",
          "plot_bgcolor": "#E5ECF6",
          "polar": {
           "angularaxis": {
            "gridcolor": "white",
            "linecolor": "white",
            "ticks": ""
           },
           "bgcolor": "#E5ECF6",
           "radialaxis": {
            "gridcolor": "white",
            "linecolor": "white",
            "ticks": ""
           }
          },
          "scene": {
           "xaxis": {
            "backgroundcolor": "#E5ECF6",
            "gridcolor": "white",
            "gridwidth": 2,
            "linecolor": "white",
            "showbackground": true,
            "ticks": "",
            "zerolinecolor": "white"
           },
           "yaxis": {
            "backgroundcolor": "#E5ECF6",
            "gridcolor": "white",
            "gridwidth": 2,
            "linecolor": "white",
            "showbackground": true,
            "ticks": "",
            "zerolinecolor": "white"
           },
           "zaxis": {
            "backgroundcolor": "#E5ECF6",
            "gridcolor": "white",
            "gridwidth": 2,
            "linecolor": "white",
            "showbackground": true,
            "ticks": "",
            "zerolinecolor": "white"
           }
          },
          "shapedefaults": {
           "line": {
            "color": "#2a3f5f"
           }
          },
          "ternary": {
           "aaxis": {
            "gridcolor": "white",
            "linecolor": "white",
            "ticks": ""
           },
           "baxis": {
            "gridcolor": "white",
            "linecolor": "white",
            "ticks": ""
           },
           "bgcolor": "#E5ECF6",
           "caxis": {
            "gridcolor": "white",
            "linecolor": "white",
            "ticks": ""
           }
          },
          "title": {
           "x": 0.05
          },
          "xaxis": {
           "automargin": true,
           "gridcolor": "white",
           "linecolor": "white",
           "ticks": "",
           "title": {
            "standoff": 15
           },
           "zerolinecolor": "white",
           "zerolinewidth": 2
          },
          "yaxis": {
           "automargin": true,
           "gridcolor": "white",
           "linecolor": "white",
           "ticks": "",
           "title": {
            "standoff": 15
           },
           "zerolinecolor": "white",
           "zerolinewidth": 2
          }
         }
        },
        "title": {
         "text": "Custom Score vs Distance"
        },
        "xaxis": {
         "anchor": "y",
         "domain": [
          0,
          1
         ],
         "title": {
          "text": "Distance (mi)"
         }
        },
        "yaxis": {
         "anchor": "x",
         "domain": [
          0,
          1
         ],
         "title": {
          "text": "Custom Score"
         }
        }
       }
      }
     },
     "metadata": {},
     "output_type": "display_data"
    }
   ],
   "source": [
    "# Import the necessary modules\n",
    "import pandas as pd\n",
    "from sklearn.linear_model import LinearRegression\n",
    "import plotly.express as px\n",
    "\n",
    "# Load the dataset from a CSV file\n",
    "#df = pd.read_csv('running_data.csv')\n",
    "\n",
    "# Select the relevant columns\n",
    "df = df[['Distance (mi)', 'Avg Pace (min/mi)', 'Custom Score']]\n",
    "\n",
    "# Clean the data by removing NaN values\n",
    "df = df.dropna()\n",
    "\n",
    "# Split the data into input and output variables\n",
    "X = df[['Distance (mi)', 'Avg Pace (min/mi)']]\n",
    "y = df['Custom Score']\n",
    "\n",
    "# Fit a linear regression model to the data\n",
    "reg = LinearRegression().fit(X, y)\n",
    "\n",
    "# Print the regression coefficients and intercept\n",
    "print(\"Regression coefficients:\", reg.coef_)\n",
    "print(\"Intercept:\", reg.intercept_)\n",
    "\n",
    "# Create a scatter plot of the data\n",
    "fig = px.scatter(df, x='Distance (mi)', y='Custom Score')\n",
    "\n",
    "# Plot the linear regression line\n",
    "x_values = [X['Distance (mi)'].min(), X['Distance (mi)'].max()]\n",
    "y_values = [reg.intercept_ + reg.coef_[0] * x_values[0], reg.intercept_ + reg.coef_[0] * x_values[1]]\n",
    "fig.add_trace(px.line(x=x_values, y=y_values).data[0])\n",
    "\n",
    "# Set the plot title and axes labels\n",
    "fig.update_layout(title=\"Custom Score vs Distance\", xaxis_title=\"Distance (mi)\", yaxis_title=\"Custom Score\")\n",
    "\n",
    "# Show the plot\n",
    "fig.show()\n"
   ]
  },
  {
   "cell_type": "code",
   "execution_count": null,
   "metadata": {},
   "outputs": [
    {
     "name": "stdout",
     "output_type": "stream",
     "text": [
      "Predicted average pace for running 13.1 miles: 1.6850630097797963 minutes/mile\n"
     ]
    }
   ],
   "source": [
    "# Import the necessary modules\n",
    "import pandas as pd\n",
    "from sklearn.linear_model import LinearRegression\n",
    "\n",
    "# Select the relevant columns\n",
    "df = df[['Distance (mi)', 'Avg Pace (min/mi)', 'Custom Score']]\n",
    "\n",
    "# Clean the data by removing NaN values\n",
    "df = df.dropna()\n",
    "\n",
    "# Split the data into input and output variables\n",
    "X = df[['Distance (mi)', 'Avg Pace (min/mi)']]\n",
    "y = df['Custom Score']\n",
    "\n",
    "# Fit a linear regression model to the data\n",
    "reg = LinearRegression().fit(X, y)\n",
    "\n",
    "# Predict the average pace for running 13.1 miles\n",
    "distance = 13.1\n",
    "best_pace = reg.intercept_ + reg.coef_[0] * distance\n",
    "\n",
    "# Print the predicted average pace\n",
    "print(\"Predicted average pace for running 13.1 miles:\", best_pace, \"minutes/mile\")\n"
   ]
  },
  {
   "cell_type": "code",
   "execution_count": null,
   "metadata": {},
   "outputs": [
    {
     "name": "stdout",
     "output_type": "stream",
     "text": [
      "Requirement already satisfied: nbformat in /Users/cole/miniconda/lib/python3.9/site-packages (5.7.3)\n",
      "Requirement already satisfied: jupyter-core in /Users/cole/miniconda/lib/python3.9/site-packages (from nbformat) (4.10.0)\n",
      "Requirement already satisfied: jsonschema>=2.6 in /Users/cole/miniconda/lib/python3.9/site-packages (from nbformat) (4.17.3)\n",
      "Requirement already satisfied: fastjsonschema in /Users/cole/miniconda/lib/python3.9/site-packages (from nbformat) (2.16.2)\n",
      "Requirement already satisfied: traitlets>=5.1 in /Users/cole/miniconda/lib/python3.9/site-packages (from nbformat) (5.1.1)\n",
      "Requirement already satisfied: attrs>=17.4.0 in /Users/cole/miniconda/lib/python3.9/site-packages (from jsonschema>=2.6->nbformat) (22.1.0)\n",
      "Requirement already satisfied: pyrsistent!=0.17.0,!=0.17.1,!=0.17.2,>=0.14.0 in /Users/cole/miniconda/lib/python3.9/site-packages (from jsonschema>=2.6->nbformat) (0.19.3)\n",
      "Note: you may need to restart the kernel to use updated packages.\n"
     ]
    }
   ],
   "source": [
    "pip install nbformat\n"
   ]
  },
  {
   "cell_type": "code",
   "execution_count": null,
   "metadata": {},
   "outputs": [
    {
     "name": "stdout",
     "output_type": "stream",
     "text": [
      "Requirement already satisfied: nbformat in /Users/cole/miniconda/lib/python3.9/site-packages (5.7.3)\n",
      "Requirement already satisfied: jupyter-core in /Users/cole/miniconda/lib/python3.9/site-packages (from nbformat) (4.10.0)\n",
      "Requirement already satisfied: jsonschema>=2.6 in /Users/cole/miniconda/lib/python3.9/site-packages (from nbformat) (4.17.3)\n",
      "Requirement already satisfied: fastjsonschema in /Users/cole/miniconda/lib/python3.9/site-packages (from nbformat) (2.16.2)\n",
      "Requirement already satisfied: traitlets>=5.1 in /Users/cole/miniconda/lib/python3.9/site-packages (from nbformat) (5.1.1)\n",
      "Requirement already satisfied: attrs>=17.4.0 in /Users/cole/miniconda/lib/python3.9/site-packages (from jsonschema>=2.6->nbformat) (22.1.0)\n",
      "Requirement already satisfied: pyrsistent!=0.17.0,!=0.17.1,!=0.17.2,>=0.14.0 in /Users/cole/miniconda/lib/python3.9/site-packages (from jsonschema>=2.6->nbformat) (0.19.3)\n",
      "Note: you may need to restart the kernel to use updated packages.\n"
     ]
    }
   ],
   "source": [
    "pip install --upgrade nbformat\n"
   ]
  },
  {
   "cell_type": "code",
   "execution_count": null,
   "metadata": {},
   "outputs": [],
   "source": []
  }
 ],
 "metadata": {
  "kernelspec": {
   "display_name": "Python 3",
   "language": "python",
   "name": "python3"
  },
  "language_info": {
   "codemirror_mode": {
    "name": "ipython",
    "version": 3
   },
   "file_extension": ".py",
   "mimetype": "text/x-python",
   "name": "python",
   "nbconvert_exporter": "python",
   "pygments_lexer": "ipython3",
   "version": "3.9.12"
  },
  "orig_nbformat": 4,
  "vscode": {
   "interpreter": {
    "hash": "4b761eb5024ab4ac738c2327b216794a1ed65570150954fe97adc852d4211d20"
   }
  }
 },
 "nbformat": 4,
 "nbformat_minor": 2
}
