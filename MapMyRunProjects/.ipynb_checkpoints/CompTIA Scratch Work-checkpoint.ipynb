{
 "cells": [
  {
   "cell_type": "code",
   "execution_count": 2,
   "metadata": {},
   "outputs": [
    {
     "name": "stdout",
     "output_type": "stream",
     "text": [
      "Hello this is a test of how often testable material is found when testing regular expression\n",
      "\n"
     ]
    }
   ],
   "source": [
    "filename=\"Coraline/sample.txt\"\n",
    "pattern = \"test\"\n",
    "import re\n",
    "\n",
    "def search_file(name_of_file, grep_pattern):\n",
    "    file = open(filename, \"r\")\n",
    "    for line in file:\n",
    "        if re.search(pattern, line):\n",
    "            print(line)\n",
    "search_file(filename, pattern)"
   ]
  },
  {
   "cell_type": "code",
   "execution_count": null,
   "metadata": {},
   "outputs": [],
   "source": [
    "filename= \"Coraline/sample.txt\"\n",
    "pattern = \"test\"\n",
    "\n",
    "def search_file(name_of_file, grep_pattern):\n",
    "    file = open(name_of_file, \"r\")\n",
    "    for line in file:\n",
    "        if re.search(grep_pattern, line):\n",
    "            print(line)\n",
    "\n",
    "search_file(filename, pattern)"
   ]
  },
  {
   "cell_type": "code",
   "execution_count": 3,
   "metadata": {},
   "outputs": [
    {
     "name": "stdout",
     "output_type": "stream",
     "text": [
      "Hello this is a test of how often testable material is found when testing regular expression\n",
      "\n"
     ]
    }
   ],
   "source": [
    "import re\n",
    "filename= \"Coraline/sample.txt\"\n",
    "pattern = \"test\"\n",
    "\n",
    "def search_file(name_of_file, grep_pattern):\n",
    "    file = open(name_of_file, \"r\")\n",
    "    for line in file:\n",
    "        if re.search(grep_pattern, line):\n",
    "            print(line)\n",
    "\n",
    "search_file(filename, pattern)"
   ]
  },
  {
   "cell_type": "code",
   "execution_count": null,
   "metadata": {},
   "outputs": [],
   "source": []
  }
 ],
 "metadata": {
  "kernelspec": {
   "display_name": "Python 3.9.12",
   "language": "python",
   "name": "python3"
  },
  "language_info": {
   "codemirror_mode": {
    "name": "ipython",
    "version": 3
   },
   "file_extension": ".py",
   "mimetype": "text/x-python",
   "name": "python",
   "nbconvert_exporter": "python",
   "pygments_lexer": "ipython3",
   "version": "3.9.12"
  },
  "orig_nbformat": 4,
  "vscode": {
   "interpreter": {
    "hash": "4b761eb5024ab4ac738c2327b216794a1ed65570150954fe97adc852d4211d20"
   }
  }
 },
 "nbformat": 4,
 "nbformat_minor": 2
}
