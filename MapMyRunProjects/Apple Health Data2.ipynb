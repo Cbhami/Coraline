{
 "cells": [
  {
   "cell_type": "markdown",
   "id": "58f16d88",
   "metadata": {},
   "source": [
    "## Apple Health Data"
   ]
  },
  {
   "cell_type": "markdown",
   "id": "adfd5569",
   "metadata": {},
   "source": [
    "### Import Packages"
   ]
  },
  {
   "cell_type": "code",
   "execution_count": 3,
   "id": "761431bd",
   "metadata": {},
   "outputs": [],
   "source": [
    "import warnings \n",
    "warnings.filterwarnings('ignore')\n",
    "\n",
    "import pandas as pd\n",
    "import numpy as np \n",
    "\n",
    "import seaborn as sns \n",
    "sns.set()\n",
    "import matplotlib.pylab as plt\n",
    "%matplotlib inline\n",
    "\n",
    "from sklearn.preprocessing import StandardScaler\n",
    "from sklearn.preprocessing import MinMaxScaler\n",
    "\n",
    "from scipy.stats import norm\n",
    "from scipy import stats"
   ]
  },
  {
   "cell_type": "code",
   "execution_count": 4,
   "id": "ed236880",
   "metadata": {},
   "outputs": [],
   "source": [
    "temp = pd.read_csv(r'C:\\Users\\coleb\\OneDrive\\Cosmo\\Datasets\\Apple Health Project\\HealthView_6-13-18_6-19-22.csv')"
   ]
  },
  {
   "cell_type": "code",
   "execution_count": 7,
   "id": "c501662d",
   "metadata": {},
   "outputs": [
    {
     "data": {
      "text/html": [
       "<div>\n",
       "<style scoped>\n",
       "    .dataframe tbody tr th:only-of-type {\n",
       "        vertical-align: middle;\n",
       "    }\n",
       "\n",
       "    .dataframe tbody tr th {\n",
       "        vertical-align: top;\n",
       "    }\n",
       "\n",
       "    .dataframe thead th {\n",
       "        text-align: right;\n",
       "    }\n",
       "</style>\n",
       "<table border=\"1\" class=\"dataframe\">\n",
       "  <thead>\n",
       "    <tr style=\"text-align: right;\">\n",
       "      <th></th>\n",
       "      <th>Date</th>\n",
       "      <th>BLOOD OXYGEN (%)</th>\n",
       "      <th>BODY FAT (%)</th>\n",
       "      <th>BODY MASS INDEX</th>\n",
       "      <th>BODY TEMPERATURE (degF)</th>\n",
       "      <th>BURNED CALORIES (kcal)</th>\n",
       "      <th>DISTANCE (R+W) (mi)</th>\n",
       "      <th>EXERCISE MINUTES</th>\n",
       "      <th>HEART RATE (bpm)</th>\n",
       "      <th>HEART RATE VARIABILITY (ms)</th>\n",
       "      <th>NET CALORIES (kcal)</th>\n",
       "      <th>RESTING CALORIES (kcal)</th>\n",
       "      <th>RESTING HEART RATE (bpm)</th>\n",
       "      <th>SLEEP</th>\n",
       "      <th>STEPS</th>\n",
       "      <th>TOTAL CALORIES (kcal)</th>\n",
       "      <th>WALKING HEART RATE (bpm)</th>\n",
       "      <th>WEIGHT (lbs)</th>\n",
       "      <th>WORKOUTS</th>\n",
       "      <th>DURATION</th>\n",
       "    </tr>\n",
       "  </thead>\n",
       "  <tbody>\n",
       "    <tr>\n",
       "      <th>0</th>\n",
       "      <td>6/13/18</td>\n",
       "      <td>NaN</td>\n",
       "      <td>NaN</td>\n",
       "      <td>NaN</td>\n",
       "      <td>NaN</td>\n",
       "      <td>NaN</td>\n",
       "      <td>1.44</td>\n",
       "      <td>NaN</td>\n",
       "      <td>NaN</td>\n",
       "      <td>NaN</td>\n",
       "      <td>NaN</td>\n",
       "      <td>NaN</td>\n",
       "      <td>NaN</td>\n",
       "      <td>NaN</td>\n",
       "      <td>3457.0</td>\n",
       "      <td>NaN</td>\n",
       "      <td>NaN</td>\n",
       "      <td>NaN</td>\n",
       "      <td>NaN</td>\n",
       "      <td>NaN</td>\n",
       "    </tr>\n",
       "  </tbody>\n",
       "</table>\n",
       "</div>"
      ],
      "text/plain": [
       "      Date BLOOD OXYGEN (%)  BODY FAT (%)  BODY MASS INDEX  \\\n",
       "0  6/13/18              NaN           NaN              NaN   \n",
       "\n",
       "   BODY TEMPERATURE (degF)  BURNED CALORIES (kcal)  DISTANCE (R+W) (mi)  \\\n",
       "0                      NaN                     NaN                 1.44   \n",
       "\n",
       "  EXERCISE MINUTES  HEART RATE (bpm)  HEART RATE VARIABILITY (ms)  \\\n",
       "0              NaN               NaN                          NaN   \n",
       "\n",
       "   NET CALORIES (kcal)  RESTING CALORIES (kcal)  RESTING HEART RATE (bpm)  \\\n",
       "0                  NaN                      NaN                       NaN   \n",
       "\n",
       "  SLEEP   STEPS  TOTAL CALORIES (kcal)  WALKING HEART RATE (bpm)  \\\n",
       "0   NaN  3457.0                    NaN                       NaN   \n",
       "\n",
       "   WEIGHT (lbs) WORKOUTS  DURATION  \n",
       "0           NaN      NaN       NaN  "
      ]
     },
     "execution_count": 7,
     "metadata": {},
     "output_type": "execute_result"
    }
   ],
   "source": [
    "temp.head(1)"
   ]
  },
  {
   "cell_type": "code",
   "execution_count": null,
   "id": "d5c86d95",
   "metadata": {},
   "outputs": [],
   "source": []
  }
 ],
 "metadata": {
  "kernelspec": {
   "display_name": "Python 3 (ipykernel)",
   "language": "python",
   "name": "python3"
  },
  "language_info": {
   "codemirror_mode": {
    "name": "ipython",
    "version": 3
   },
   "file_extension": ".py",
   "mimetype": "text/x-python",
   "name": "python",
   "nbconvert_exporter": "python",
   "pygments_lexer": "ipython3",
   "version": "3.9.7"
  }
 },
 "nbformat": 4,
 "nbformat_minor": 5
}
