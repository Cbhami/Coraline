{
 "cells": [
  {
   "cell_type": "code",
   "execution_count": 1,
   "metadata": {},
   "outputs": [
    {
     "name": "stdout",
     "output_type": "stream",
     "text": [
      "Collecting gspread\n",
      "  Using cached gspread-5.5.0-py3-none-any.whl (38 kB)\n",
      "Collecting google-auth>=1.12.0\n",
      "  Using cached google_auth-2.11.0-py2.py3-none-any.whl (167 kB)\n",
      "Collecting google-auth-oauthlib>=0.4.1\n",
      "  Using cached google_auth_oauthlib-0.5.2-py2.py3-none-any.whl (19 kB)\n",
      "Collecting cachetools<6.0,>=2.0.0\n",
      "  Using cached cachetools-5.2.0-py3-none-any.whl (9.3 kB)\n",
      "Requirement already satisfied: six>=1.9.0 in /Users/cole/miniconda/lib/python3.9/site-packages (from google-auth>=1.12.0->gspread) (1.16.0)\n",
      "Collecting rsa<5,>=3.1.4\n",
      "  Using cached rsa-4.9-py3-none-any.whl (34 kB)\n",
      "Collecting pyasn1-modules>=0.2.1\n",
      "  Using cached pyasn1_modules-0.2.8-py2.py3-none-any.whl (155 kB)\n",
      "Collecting requests-oauthlib>=0.7.0\n",
      "  Using cached requests_oauthlib-1.3.1-py2.py3-none-any.whl (23 kB)\n",
      "Collecting pyasn1<0.5.0,>=0.4.6\n",
      "  Using cached pyasn1-0.4.8-py2.py3-none-any.whl (77 kB)\n",
      "Collecting oauthlib>=3.0.0\n",
      "  Using cached oauthlib-3.2.0-py3-none-any.whl (151 kB)\n",
      "Requirement already satisfied: requests>=2.0.0 in /Users/cole/miniconda/lib/python3.9/site-packages (from requests-oauthlib>=0.7.0->google-auth-oauthlib>=0.4.1->gspread) (2.27.1)\n",
      "Requirement already satisfied: charset-normalizer~=2.0.0 in /Users/cole/miniconda/lib/python3.9/site-packages (from requests>=2.0.0->requests-oauthlib>=0.7.0->google-auth-oauthlib>=0.4.1->gspread) (2.0.4)\n",
      "Requirement already satisfied: certifi>=2017.4.17 in /Users/cole/miniconda/lib/python3.9/site-packages (from requests>=2.0.0->requests-oauthlib>=0.7.0->google-auth-oauthlib>=0.4.1->gspread) (2022.6.15)\n",
      "Requirement already satisfied: urllib3<1.27,>=1.21.1 in /Users/cole/miniconda/lib/python3.9/site-packages (from requests>=2.0.0->requests-oauthlib>=0.7.0->google-auth-oauthlib>=0.4.1->gspread) (1.26.8)\n",
      "Requirement already satisfied: idna<4,>=2.5 in /Users/cole/miniconda/lib/python3.9/site-packages (from requests>=2.0.0->requests-oauthlib>=0.7.0->google-auth-oauthlib>=0.4.1->gspread) (3.3)\n",
      "Installing collected packages: pyasn1, rsa, pyasn1-modules, oauthlib, cachetools, requests-oauthlib, google-auth, google-auth-oauthlib, gspread\n",
      "Successfully installed cachetools-5.2.0 google-auth-2.11.0 google-auth-oauthlib-0.5.2 gspread-5.5.0 oauthlib-3.2.0 pyasn1-0.4.8 pyasn1-modules-0.2.8 requests-oauthlib-1.3.1 rsa-4.9\n",
      "Note: you may need to restart the kernel to use updated packages.\n",
      "Collecting oauth2client\n",
      "  Using cached oauth2client-4.1.3-py2.py3-none-any.whl (98 kB)\n",
      "Requirement already satisfied: pyasn1-modules>=0.0.5 in /Users/cole/miniconda/lib/python3.9/site-packages (from oauth2client) (0.2.8)\n",
      "Requirement already satisfied: rsa>=3.1.4 in /Users/cole/miniconda/lib/python3.9/site-packages (from oauth2client) (4.9)\n",
      "Requirement already satisfied: six>=1.6.1 in /Users/cole/miniconda/lib/python3.9/site-packages (from oauth2client) (1.16.0)\n",
      "Collecting httplib2>=0.9.1\n",
      "  Using cached httplib2-0.20.4-py3-none-any.whl (96 kB)\n",
      "Requirement already satisfied: pyasn1>=0.1.7 in /Users/cole/miniconda/lib/python3.9/site-packages (from oauth2client) (0.4.8)\n",
      "Requirement already satisfied: pyparsing!=3.0.0,!=3.0.1,!=3.0.2,!=3.0.3,<4,>=2.4.2 in /Users/cole/miniconda/lib/python3.9/site-packages (from httplib2>=0.9.1->oauth2client) (3.0.9)\n",
      "Installing collected packages: httplib2, oauth2client\n",
      "Successfully installed httplib2-0.20.4 oauth2client-4.1.3\n",
      "Note: you may need to restart the kernel to use updated packages.\n",
      "Requirement already satisfied: pandas in /Users/cole/miniconda/lib/python3.9/site-packages (1.4.4)\n",
      "Requirement already satisfied: numpy>=1.18.5 in /Users/cole/miniconda/lib/python3.9/site-packages (from pandas) (1.23.2)\n",
      "Requirement already satisfied: python-dateutil>=2.8.1 in /Users/cole/miniconda/lib/python3.9/site-packages (from pandas) (2.8.2)\n",
      "Requirement already satisfied: pytz>=2020.1 in /Users/cole/miniconda/lib/python3.9/site-packages (from pandas) (2022.2.1)\n",
      "Requirement already satisfied: six>=1.5 in /Users/cole/miniconda/lib/python3.9/site-packages (from python-dateutil>=2.8.1->pandas) (1.16.0)\n",
      "Note: you may need to restart the kernel to use updated packages.\n"
     ]
    }
   ],
   "source": [
    "%pip install gspread\n",
    "%pip install oauth2client\n",
    "%pip install pandas"
   ]
  },
  {
   "cell_type": "code",
   "execution_count": 2,
   "metadata": {},
   "outputs": [
    {
     "ename": "ModuleNotFoundError",
     "evalue": "No module named 'pandas'",
     "output_type": "error",
     "traceback": [
      "\u001b[0;31m---------------------------------------------------------------------------\u001b[0m",
      "\u001b[0;31mModuleNotFoundError\u001b[0m                       Traceback (most recent call last)",
      "\u001b[1;32m/Users/cole/Library/CloudStorage/OneDrive-Personal/Coraline/MapMyRunProjects/CSV_to_GoogleSheet.ipynb Cell 2\u001b[0m in \u001b[0;36m<cell line: 1>\u001b[0;34m()\u001b[0m\n\u001b[0;32m----> <a href='vscode-notebook-cell:/Users/cole/Library/CloudStorage/OneDrive-Personal/Coraline/MapMyRunProjects/CSV_to_GoogleSheet.ipynb#W1sZmlsZQ%3D%3D?line=0'>1</a>\u001b[0m \u001b[39mimport\u001b[39;00m \u001b[39mpandas\u001b[39;00m \u001b[39mas\u001b[39;00m \u001b[39mpd\u001b[39;00m\n\u001b[1;32m      <a href='vscode-notebook-cell:/Users/cole/Library/CloudStorage/OneDrive-Personal/Coraline/MapMyRunProjects/CSV_to_GoogleSheet.ipynb#W1sZmlsZQ%3D%3D?line=1'>2</a>\u001b[0m \u001b[39mimport\u001b[39;00m \u001b[39mgspread\u001b[39;00m\n\u001b[1;32m      <a href='vscode-notebook-cell:/Users/cole/Library/CloudStorage/OneDrive-Personal/Coraline/MapMyRunProjects/CSV_to_GoogleSheet.ipynb#W1sZmlsZQ%3D%3D?line=2'>3</a>\u001b[0m df \u001b[39m=\u001b[39m pd\u001b[39m.\u001b[39mread_csv(\u001b[39mr\u001b[39m\u001b[39m\"\u001b[39m\u001b[39mhttps://raw.githubusercontent.com/Cbhami/Coraline/master/Resources/csv\u001b[39m\u001b[39m%20d\u001b[39;00m\u001b[39mata/user94403143_workout_history.csv\u001b[39m\u001b[39m\"\u001b[39m)\n",
      "\u001b[0;31mModuleNotFoundError\u001b[0m: No module named 'pandas'"
     ]
    }
   ],
   "source": [
    "import pandas as pd\n",
    "import gspread\n",
    "df = pd.read_csv(r\"https://raw.githubusercontent.com/Cbhami/Coraline/master/Resources/csv%20data/user94403143_workout_history.csv\")\n",
    "df['Date Submitted'] = pd.to_datetime(df['Date Submitted'])\n",
    "df['Date Submitted'] = df['Date Submitted'].dt.strftime('%Y-%m-%d')\n",
    "df['Workout Date'] = pd.to_datetime(df['Workout Date'])\n",
    "df['Workout Date'] = df['Workout Date'].dt.strftime('%Y-%m-%d')\n",
    "df.to_csv(r'C:\\Users\\coleb\\OneDrive\\Coraline\\Resources\\csv data\\user94403143_workout_history.csv', index=False)\n",
    "# #from termios import TAB1\n",
    "# #MAC\n",
    "# import gspread\n",
    "# from oauth2client.service_account import ServiceAccountCredentials\n",
    "\n",
    "# #Windows\n",
    "# scope = [\"https://spreadsheets.google.com/feeds\", 'https://www.googleapis.com/auth/spreadsheets',\n",
    "#          \"https://www.googleapis.com/auth/drive.file\", \"https://www.googleapis.com/auth/drive\"]\n",
    "\n",
    "# #Mac\n",
    "\n",
    "# credentials = ServiceAccountCredentials.from_json_keyfile_name(r'/Users/colehamilton/Library/CloudStorage/OneDrive-Personal/client_secret.json', scope)\n",
    "# client = gspread.authorize(credentials)\n",
    "\n",
    "# spreadsheet = client.open('Data_File')\n",
    "\n",
    "# with open(r'/Users/colehamilton/Library/CloudStorage/OneDrive-Personal/Coraline/Resources/csv data/user94403143_workout_history.csv', 'r') as file_obj:\n",
    "#     content = file_obj.read()\n",
    "#     client.import_csv(spreadsheet.id, data=content)\n",
    "#WIN\n",
    "import gspread\n",
    "from oauth2client.service_account import ServiceAccountCredentials\n",
    "\n",
    "#Windows\n",
    "scope = [\"https://spreadsheets.google.com/feeds\", 'https://www.googleapis.com/auth/spreadsheets',\n",
    "         \"https://www.googleapis.com/auth/drive.file\", \"https://www.googleapis.com/auth/drive\"]\n",
    "\n",
    "#Mac\n",
    "\n",
    "credentials = ServiceAccountCredentials.from_json_keyfile_name(r'C:\\Users\\coleb\\OneDrive\\client_secret.json', scope)\n",
    "client = gspread.authorize(credentials)\n",
    "\n",
    "spreadsheet = client.open('Data_File')\n",
    "\n",
    "with open(r'C:\\Users\\coleb\\OneDrive\\Coraline\\Resources\\csv data\\user94403143_workout_history.csv', 'r') as file_obj:\n",
    "    content = file_obj.read()\n",
    "    client.import_csv(spreadsheet.id, data=content)\n"
   ]
  },
  {
   "cell_type": "code",
   "execution_count": null,
   "metadata": {},
   "outputs": [],
   "source": []
  }
 ],
 "metadata": {
  "kernelspec": {
   "display_name": "Python 3.9.12",
   "language": "python",
   "name": "python3"
  },
  "language_info": {
   "codemirror_mode": {
    "name": "ipython",
    "version": 3
   },
   "file_extension": ".py",
   "mimetype": "text/x-python",
   "name": "python",
   "nbconvert_exporter": "python",
   "pygments_lexer": "ipython3",
   "version": "3.9.12"
  },
  "orig_nbformat": 4,
  "vscode": {
   "interpreter": {
    "hash": "4b761eb5024ab4ac738c2327b216794a1ed65570150954fe97adc852d4211d20"
   }
  }
 },
 "nbformat": 4,
 "nbformat_minor": 2
}
