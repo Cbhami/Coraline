{
 "cells": [
  {
   "cell_type": "code",
   "execution_count": 11,
   "metadata": {},
   "outputs": [
    {
     "name": "stdout",
     "output_type": "stream",
     "text": [
      "Requirement already satisfied: gspread in c:\\users\\coleb\\mambaforge\\lib\\site-packages (5.4.0)\n",
      "Requirement already satisfied: google-auth-oauthlib>=0.4.1 in c:\\users\\coleb\\mambaforge\\lib\\site-packages (from gspread) (0.4.6)\n",
      "Requirement already satisfied: google-auth>=1.12.0 in c:\\users\\coleb\\mambaforge\\lib\\site-packages (from gspread) (2.6.2)\n",
      "Requirement already satisfied: rsa<5,>=3.1.4 in c:\\users\\coleb\\mambaforge\\lib\\site-packages (from google-auth>=1.12.0->gspread) (4.8)\n",
      "Requirement already satisfied: cachetools<6.0,>=2.0.0 in c:\\users\\coleb\\mambaforge\\lib\\site-packages (from google-auth>=1.12.0->gspread) (5.0.0)\n",
      "Requirement already satisfied: pyasn1-modules>=0.2.1 in c:\\users\\coleb\\mambaforge\\lib\\site-packages (from google-auth>=1.12.0->gspread) (0.2.8)\n",
      "Requirement already satisfied: six>=1.9.0 in c:\\users\\coleb\\mambaforge\\lib\\site-packages (from google-auth>=1.12.0->gspread) (1.16.0)\n",
      "Requirement already satisfied: requests-oauthlib>=0.7.0 in c:\\users\\coleb\\mambaforge\\lib\\site-packages (from google-auth-oauthlib>=0.4.1->gspread) (1.3.1)\n",
      "Requirement already satisfied: pyasn1<0.5.0,>=0.4.6 in c:\\users\\coleb\\mambaforge\\lib\\site-packages (from pyasn1-modules>=0.2.1->google-auth>=1.12.0->gspread) (0.4.8)\n",
      "Requirement already satisfied: requests>=2.0.0 in c:\\users\\coleb\\mambaforge\\lib\\site-packages (from requests-oauthlib>=0.7.0->google-auth-oauthlib>=0.4.1->gspread) (2.27.1)\n",
      "Requirement already satisfied: oauthlib>=3.0.0 in c:\\users\\coleb\\mambaforge\\lib\\site-packages (from requests-oauthlib>=0.7.0->google-auth-oauthlib>=0.4.1->gspread) (3.2.0)\n",
      "Requirement already satisfied: idna<4,>=2.5 in c:\\users\\coleb\\mambaforge\\lib\\site-packages (from requests>=2.0.0->requests-oauthlib>=0.7.0->google-auth-oauthlib>=0.4.1->gspread) (3.3)\n",
      "Requirement already satisfied: urllib3<1.27,>=1.21.1 in c:\\users\\coleb\\mambaforge\\lib\\site-packages (from requests>=2.0.0->requests-oauthlib>=0.7.0->google-auth-oauthlib>=0.4.1->gspread) (1.26.8)\n",
      "Requirement already satisfied: certifi>=2017.4.17 in c:\\users\\coleb\\mambaforge\\lib\\site-packages (from requests>=2.0.0->requests-oauthlib>=0.7.0->google-auth-oauthlib>=0.4.1->gspread) (2022.6.15)\n",
      "Requirement already satisfied: charset-normalizer~=2.0.0 in c:\\users\\coleb\\mambaforge\\lib\\site-packages (from requests>=2.0.0->requests-oauthlib>=0.7.0->google-auth-oauthlib>=0.4.1->gspread) (2.0.12)\n",
      "Note: you may need to restart the kernel to use updated packages.\n",
      "Requirement already satisfied: oauth2client in c:\\users\\coleb\\mambaforge\\lib\\site-packages (4.1.3)\n",
      "Requirement already satisfied: six>=1.6.1 in c:\\users\\coleb\\mambaforge\\lib\\site-packages (from oauth2client) (1.16.0)\n",
      "Requirement already satisfied: pyasn1>=0.1.7 in c:\\users\\coleb\\mambaforge\\lib\\site-packages (from oauth2client) (0.4.8)\n",
      "Requirement already satisfied: pyasn1-modules>=0.0.5 in c:\\users\\coleb\\mambaforge\\lib\\site-packages (from oauth2client) (0.2.8)\n",
      "Requirement already satisfied: rsa>=3.1.4 in c:\\users\\coleb\\mambaforge\\lib\\site-packages (from oauth2client) (4.8)\n",
      "Requirement already satisfied: httplib2>=0.9.1 in c:\\users\\coleb\\mambaforge\\lib\\site-packages (from oauth2client) (0.20.4)\n",
      "Requirement already satisfied: pyparsing!=3.0.0,!=3.0.1,!=3.0.2,!=3.0.3,<4,>=2.4.2 in c:\\users\\coleb\\mambaforge\\lib\\site-packages (from httplib2>=0.9.1->oauth2client) (3.0.7)\n",
      "Note: you may need to restart the kernel to use updated packages.\n",
      "Note: you may need to restart the kernel to use updated packages.\n"
     ]
    },
    {
     "name": "stderr",
     "output_type": "stream",
     "text": [
      "ERROR: Could not find a version that satisfies the requirement termios (from versions: none)\n",
      "ERROR: No matching distribution found for termios\n"
     ]
    }
   ],
   "source": [
    "%pip install gspread\n",
    "%pip install oauth2client\n",
    "%pip install termios"
   ]
  },
  {
   "cell_type": "code",
   "execution_count": 12,
   "metadata": {},
   "outputs": [],
   "source": [
    "import pandas as pd\n",
    "import gspread"
   ]
  },
  {
   "cell_type": "code",
   "execution_count": 13,
   "metadata": {},
   "outputs": [],
   "source": [
    "df = pd.read_csv(\"https://raw.githubusercontent.com/Cbhami/Coraline/master/Resources/csv%20data/user94403143_workout_history.csv\")"
   ]
  },
  {
   "cell_type": "code",
   "execution_count": 14,
   "metadata": {},
   "outputs": [],
   "source": [
    "df['Date Submitted'] = pd.to_datetime(df['Date Submitted'])\n",
    "df['Date Submitted'] = df['Date Submitted'].dt.strftime('%Y-%m-%d')\n",
    "df['Workout Date'] = pd.to_datetime(df['Workout Date'])\n",
    "df['Workout Date'] = df['Workout Date'].dt.strftime('%Y-%m-%d')"
   ]
  },
  {
   "cell_type": "code",
   "execution_count": 15,
   "metadata": {},
   "outputs": [],
   "source": [
    "df.to_csv(r'C:\\Users\\coleb\\OneDrive\\Coraline\\Resources\\csv data\\user94403143_workout_history.csv', index=False)"
   ]
  },
  {
   "cell_type": "code",
   "execution_count": 17,
   "metadata": {},
   "outputs": [],
   "source": [
    "# #from termios import TAB1\n",
    "# #MAC\n",
    "# import gspread\n",
    "# from oauth2client.service_account import ServiceAccountCredentials\n",
    "\n",
    "# #Windows\n",
    "# scope = [\"https://spreadsheets.google.com/feeds\", 'https://www.googleapis.com/auth/spreadsheets',\n",
    "#          \"https://www.googleapis.com/auth/drive.file\", \"https://www.googleapis.com/auth/drive\"]\n",
    "\n",
    "# #Mac\n",
    "\n",
    "# credentials = ServiceAccountCredentials.from_json_keyfile_name(r'/Users/colehamilton/Library/CloudStorage/OneDrive-Personal/client_secret.json', scope)\n",
    "# client = gspread.authorize(credentials)\n",
    "\n",
    "# spreadsheet = client.open('Data_File')\n",
    "\n",
    "# with open(r'/Users/colehamilton/Library/CloudStorage/OneDrive-Personal/Coraline/Resources/csv data/user94403143_workout_history.csv', 'r') as file_obj:\n",
    "#     content = file_obj.read()\n",
    "#     client.import_csv(spreadsheet.id, data=content)"
   ]
  },
  {
   "cell_type": "code",
   "execution_count": null,
   "metadata": {},
   "outputs": [],
   "source": [
    "#WIN\n",
    "import gspread\n",
    "from oauth2client.service_account import ServiceAccountCredentials\n",
    "\n",
    "#Windows\n",
    "scope = [\"https://spreadsheets.google.com/feeds\", 'https://www.googleapis.com/auth/spreadsheets',\n",
    "         \"https://www.googleapis.com/auth/drive.file\", \"https://www.googleapis.com/auth/drive\"]\n",
    "\n",
    "#Mac\n",
    "\n",
    "credentials = ServiceAccountCredentials.from_json_keyfile_name(r'C:\\Users\\coleb\\OneDrive\\client_secret.json', scope)\n",
    "client = gspread.authorize(credentials)\n",
    "\n",
    "spreadsheet = client.open('Data_File')\n",
    "\n",
    "with open(r'C:\\Users\\coleb\\OneDrive\\Coraline\\Resources\\csv data\\user94403143_workout_history.csv', 'r') as file_obj:\n",
    "    content = file_obj.read()\n",
    "    client.import_csv(spreadsheet.id, data=content)"
   ]
  },
  {
   "cell_type": "code",
   "execution_count": null,
   "metadata": {},
   "outputs": [],
   "source": []
  }
 ],
 "metadata": {
  "kernelspec": {
   "display_name": "Python 3.9.10",
   "language": "python",
   "name": "python3"
  },
  "language_info": {
   "codemirror_mode": {
    "name": "ipython",
    "version": 3
   },
   "file_extension": ".py",
   "mimetype": "text/x-python",
   "name": "python",
   "nbconvert_exporter": "python",
   "pygments_lexer": "ipython3",
   "version": "3.9.10"
  },
  "orig_nbformat": 4,
  "vscode": {
   "interpreter": {
    "hash": "9f357b62676163e453d3996bd7a23625b1faadc1b4915e4cbea894e22b2eb803"
   }
  }
 },
 "nbformat": 4,
 "nbformat_minor": 2
}
