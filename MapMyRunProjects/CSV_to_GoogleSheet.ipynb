{
 "cells": [
  {
   "cell_type": "code",
   "execution_count": 1,
   "metadata": {},
   "outputs": [
    {
     "name": "stdout",
     "output_type": "stream",
     "text": [
      "Requirement already satisfied: gspread in /Users/cole/miniconda/lib/python3.9/site-packages (5.5.0)\n",
      "Requirement already satisfied: google-auth>=1.12.0 in /Users/cole/miniconda/lib/python3.9/site-packages (from gspread) (2.11.0)\n",
      "Requirement already satisfied: google-auth-oauthlib>=0.4.1 in /Users/cole/miniconda/lib/python3.9/site-packages (from gspread) (0.5.2)\n",
      "Requirement already satisfied: pyasn1-modules>=0.2.1 in /Users/cole/miniconda/lib/python3.9/site-packages (from google-auth>=1.12.0->gspread) (0.2.8)\n",
      "Requirement already satisfied: rsa<5,>=3.1.4 in /Users/cole/miniconda/lib/python3.9/site-packages (from google-auth>=1.12.0->gspread) (4.9)\n",
      "Requirement already satisfied: six>=1.9.0 in /Users/cole/miniconda/lib/python3.9/site-packages (from google-auth>=1.12.0->gspread) (1.16.0)\n",
      "Requirement already satisfied: cachetools<6.0,>=2.0.0 in /Users/cole/miniconda/lib/python3.9/site-packages (from google-auth>=1.12.0->gspread) (5.2.0)\n",
      "Requirement already satisfied: requests-oauthlib>=0.7.0 in /Users/cole/miniconda/lib/python3.9/site-packages (from google-auth-oauthlib>=0.4.1->gspread) (1.3.1)\n",
      "Requirement already satisfied: pyasn1<0.5.0,>=0.4.6 in /Users/cole/miniconda/lib/python3.9/site-packages (from pyasn1-modules>=0.2.1->google-auth>=1.12.0->gspread) (0.4.8)\n",
      "Requirement already satisfied: requests>=2.0.0 in /Users/cole/miniconda/lib/python3.9/site-packages (from requests-oauthlib>=0.7.0->google-auth-oauthlib>=0.4.1->gspread) (2.27.1)\n",
      "Requirement already satisfied: oauthlib>=3.0.0 in /Users/cole/miniconda/lib/python3.9/site-packages (from requests-oauthlib>=0.7.0->google-auth-oauthlib>=0.4.1->gspread) (3.2.0)\n",
      "Requirement already satisfied: idna<4,>=2.5 in /Users/cole/miniconda/lib/python3.9/site-packages (from requests>=2.0.0->requests-oauthlib>=0.7.0->google-auth-oauthlib>=0.4.1->gspread) (3.3)\n",
      "Requirement already satisfied: charset-normalizer~=2.0.0 in /Users/cole/miniconda/lib/python3.9/site-packages (from requests>=2.0.0->requests-oauthlib>=0.7.0->google-auth-oauthlib>=0.4.1->gspread) (2.0.4)\n",
      "Requirement already satisfied: certifi>=2017.4.17 in /Users/cole/miniconda/lib/python3.9/site-packages (from requests>=2.0.0->requests-oauthlib>=0.7.0->google-auth-oauthlib>=0.4.1->gspread) (2022.6.15)\n",
      "Requirement already satisfied: urllib3<1.27,>=1.21.1 in /Users/cole/miniconda/lib/python3.9/site-packages (from requests>=2.0.0->requests-oauthlib>=0.7.0->google-auth-oauthlib>=0.4.1->gspread) (1.26.8)\n",
      "Note: you may need to restart the kernel to use updated packages.\n",
      "Requirement already satisfied: oauth2client in /Users/cole/miniconda/lib/python3.9/site-packages (4.1.3)\n",
      "Requirement already satisfied: rsa>=3.1.4 in /Users/cole/miniconda/lib/python3.9/site-packages (from oauth2client) (4.9)\n",
      "Requirement already satisfied: httplib2>=0.9.1 in /Users/cole/miniconda/lib/python3.9/site-packages (from oauth2client) (0.20.4)\n",
      "Requirement already satisfied: six>=1.6.1 in /Users/cole/miniconda/lib/python3.9/site-packages (from oauth2client) (1.16.0)\n",
      "Requirement already satisfied: pyasn1>=0.1.7 in /Users/cole/miniconda/lib/python3.9/site-packages (from oauth2client) (0.4.8)\n",
      "Requirement already satisfied: pyasn1-modules>=0.0.5 in /Users/cole/miniconda/lib/python3.9/site-packages (from oauth2client) (0.2.8)\n",
      "Requirement already satisfied: pyparsing!=3.0.0,!=3.0.1,!=3.0.2,!=3.0.3,<4,>=2.4.2 in /Users/cole/miniconda/lib/python3.9/site-packages (from httplib2>=0.9.1->oauth2client) (3.0.9)\n",
      "Note: you may need to restart the kernel to use updated packages.\n",
      "Requirement already satisfied: pandas in /Users/cole/miniconda/lib/python3.9/site-packages (1.4.4)\n",
      "Requirement already satisfied: pytz>=2020.1 in /Users/cole/miniconda/lib/python3.9/site-packages (from pandas) (2022.2.1)\n",
      "Requirement already satisfied: numpy>=1.18.5 in /Users/cole/miniconda/lib/python3.9/site-packages (from pandas) (1.23.2)\n",
      "Requirement already satisfied: python-dateutil>=2.8.1 in /Users/cole/miniconda/lib/python3.9/site-packages (from pandas) (2.8.2)\n",
      "Requirement already satisfied: six>=1.5 in /Users/cole/miniconda/lib/python3.9/site-packages (from python-dateutil>=2.8.1->pandas) (1.16.0)\n",
      "Note: you may need to restart the kernel to use updated packages.\n"
     ]
    }
   ],
   "source": [
    "%pip install gspread\n",
    "%pip install oauth2client\n",
    "%pip install pandas"
   ]
  },
  {
   "cell_type": "code",
   "execution_count": 2,
   "metadata": {},
   "outputs": [
    {
     "ename": "FileNotFoundError",
     "evalue": "[Errno 2] No such file or directory: 'C:\\\\Users\\\\coleb\\\\OneDrive\\\\client_secret.json'",
     "output_type": "error",
     "traceback": [
      "\u001b[0;31m---------------------------------------------------------------------------\u001b[0m",
      "\u001b[0;31mFileNotFoundError\u001b[0m                         Traceback (most recent call last)",
      "\u001b[1;32m/Users/cole/Library/CloudStorage/OneDrive-Personal/Coraline/MapMyRunProjects/CSV_to_GoogleSheet.ipynb Cell 2\u001b[0m in \u001b[0;36m<cell line: 38>\u001b[0;34m()\u001b[0m\n\u001b[1;32m     <a href='vscode-notebook-cell:/Users/cole/Library/CloudStorage/OneDrive-Personal/Coraline/MapMyRunProjects/CSV_to_GoogleSheet.ipynb#W1sZmlsZQ%3D%3D?line=32'>33</a>\u001b[0m scope \u001b[39m=\u001b[39m [\u001b[39m\"\u001b[39m\u001b[39mhttps://spreadsheets.google.com/feeds\u001b[39m\u001b[39m\"\u001b[39m, \u001b[39m'\u001b[39m\u001b[39mhttps://www.googleapis.com/auth/spreadsheets\u001b[39m\u001b[39m'\u001b[39m,\n\u001b[1;32m     <a href='vscode-notebook-cell:/Users/cole/Library/CloudStorage/OneDrive-Personal/Coraline/MapMyRunProjects/CSV_to_GoogleSheet.ipynb#W1sZmlsZQ%3D%3D?line=33'>34</a>\u001b[0m          \u001b[39m\"\u001b[39m\u001b[39mhttps://www.googleapis.com/auth/drive.file\u001b[39m\u001b[39m\"\u001b[39m, \u001b[39m\"\u001b[39m\u001b[39mhttps://www.googleapis.com/auth/drive\u001b[39m\u001b[39m\"\u001b[39m]\n\u001b[1;32m     <a href='vscode-notebook-cell:/Users/cole/Library/CloudStorage/OneDrive-Personal/Coraline/MapMyRunProjects/CSV_to_GoogleSheet.ipynb#W1sZmlsZQ%3D%3D?line=35'>36</a>\u001b[0m \u001b[39m#Mac\u001b[39;00m\n\u001b[0;32m---> <a href='vscode-notebook-cell:/Users/cole/Library/CloudStorage/OneDrive-Personal/Coraline/MapMyRunProjects/CSV_to_GoogleSheet.ipynb#W1sZmlsZQ%3D%3D?line=37'>38</a>\u001b[0m credentials \u001b[39m=\u001b[39m ServiceAccountCredentials\u001b[39m.\u001b[39;49mfrom_json_keyfile_name(\u001b[39mr\u001b[39;49m\u001b[39m'\u001b[39;49m\u001b[39mC:\u001b[39;49m\u001b[39m\\\u001b[39;49m\u001b[39mUsers\u001b[39;49m\u001b[39m\\\u001b[39;49m\u001b[39mcoleb\u001b[39;49m\u001b[39m\\\u001b[39;49m\u001b[39mOneDrive\u001b[39;49m\u001b[39m\\\u001b[39;49m\u001b[39mclient_secret.json\u001b[39;49m\u001b[39m'\u001b[39;49m, scope)\n\u001b[1;32m     <a href='vscode-notebook-cell:/Users/cole/Library/CloudStorage/OneDrive-Personal/Coraline/MapMyRunProjects/CSV_to_GoogleSheet.ipynb#W1sZmlsZQ%3D%3D?line=38'>39</a>\u001b[0m client \u001b[39m=\u001b[39m gspread\u001b[39m.\u001b[39mauthorize(credentials)\n\u001b[1;32m     <a href='vscode-notebook-cell:/Users/cole/Library/CloudStorage/OneDrive-Personal/Coraline/MapMyRunProjects/CSV_to_GoogleSheet.ipynb#W1sZmlsZQ%3D%3D?line=40'>41</a>\u001b[0m spreadsheet \u001b[39m=\u001b[39m client\u001b[39m.\u001b[39mopen(\u001b[39m'\u001b[39m\u001b[39mData_File\u001b[39m\u001b[39m'\u001b[39m)\n",
      "File \u001b[0;32m~/miniconda/lib/python3.9/site-packages/oauth2client/service_account.py:219\u001b[0m, in \u001b[0;36mServiceAccountCredentials.from_json_keyfile_name\u001b[0;34m(cls, filename, scopes, token_uri, revoke_uri)\u001b[0m\n\u001b[1;32m    193\u001b[0m \u001b[39m@classmethod\u001b[39m\n\u001b[1;32m    194\u001b[0m \u001b[39mdef\u001b[39;00m \u001b[39mfrom_json_keyfile_name\u001b[39m(\u001b[39mcls\u001b[39m, filename, scopes\u001b[39m=\u001b[39m\u001b[39m'\u001b[39m\u001b[39m'\u001b[39m,\n\u001b[1;32m    195\u001b[0m                            token_uri\u001b[39m=\u001b[39m\u001b[39mNone\u001b[39;00m, revoke_uri\u001b[39m=\u001b[39m\u001b[39mNone\u001b[39;00m):\n\u001b[1;32m    197\u001b[0m     \u001b[39m\"\"\"Factory constructor from JSON keyfile by name.\u001b[39;00m\n\u001b[1;32m    198\u001b[0m \n\u001b[1;32m    199\u001b[0m \u001b[39m    Args:\u001b[39;00m\n\u001b[0;32m   (...)\u001b[0m\n\u001b[1;32m    217\u001b[0m \u001b[39m            the keyfile.\u001b[39;00m\n\u001b[1;32m    218\u001b[0m \u001b[39m    \"\"\"\u001b[39;00m\n\u001b[0;32m--> 219\u001b[0m     \u001b[39mwith\u001b[39;00m \u001b[39mopen\u001b[39;49m(filename, \u001b[39m'\u001b[39;49m\u001b[39mr\u001b[39;49m\u001b[39m'\u001b[39;49m) \u001b[39mas\u001b[39;00m file_obj:\n\u001b[1;32m    220\u001b[0m         client_credentials \u001b[39m=\u001b[39m json\u001b[39m.\u001b[39mload(file_obj)\n\u001b[1;32m    221\u001b[0m     \u001b[39mreturn\u001b[39;00m \u001b[39mcls\u001b[39m\u001b[39m.\u001b[39m_from_parsed_json_keyfile(client_credentials, scopes,\n\u001b[1;32m    222\u001b[0m                                          token_uri\u001b[39m=\u001b[39mtoken_uri,\n\u001b[1;32m    223\u001b[0m                                          revoke_uri\u001b[39m=\u001b[39mrevoke_uri)\n",
      "\u001b[0;31mFileNotFoundError\u001b[0m: [Errno 2] No such file or directory: 'C:\\\\Users\\\\coleb\\\\OneDrive\\\\client_secret.json'"
     ]
    }
   ],
   "source": [
    "import pandas as pd\n",
    "import gspread\n",
    "df = pd.read_csv(r\"https://raw.githubusercontent.com/Cbhami/Coraline/master/Resources/csv%20data/user94403143_workout_history.csv\")\n",
    "df['Date Submitted'] = pd.to_datetime(df['Date Submitted'])\n",
    "df['Date Submitted'] = df['Date Submitted'].dt.strftime('%Y-%m-%d')\n",
    "df['Workout Date'] = pd.to_datetime(df['Workout Date'])\n",
    "df['Workout Date'] = df['Workout Date'].dt.strftime('%Y-%m-%d')\n",
    "df.to_csv(r'C:\\Users\\coleb\\OneDrive\\Coraline\\Resources\\csv data\\user94403143_workout_history.csv', index=False)\n",
    "# #from termios import TAB1\n",
    "# #MAC\n",
    "# import gspread\n",
    "# from oauth2client.service_account import ServiceAccountCredentials\n",
    "\n",
    "# #Windows\n",
    "# scope = [\"https://spreadsheets.google.com/feeds\", 'https://www.googleapis.com/auth/spreadsheets',\n",
    "#          \"https://www.googleapis.com/auth/drive.file\", \"https://www.googleapis.com/auth/drive\"]\n",
    "\n",
    "# #Mac\n",
    "\n",
    "# credentials = ServiceAccountCredentials.from_json_keyfile_name(r'/Users/colehamilton/Library/CloudStorage/OneDrive-Personal/client_secret.json', scope)\n",
    "# client = gspread.authorize(credentials)\n",
    "\n",
    "# spreadsheet = client.open('Data_File')\n",
    "\n",
    "# with open(r'/Users/colehamilton/Library/CloudStorage/OneDrive-Personal/Coraline/Resources/csv data/user94403143_workout_history.csv', 'r') as file_obj:\n",
    "#     content = file_obj.read()\n",
    "#     client.import_csv(spreadsheet.id, data=content)\n",
    "#WIN\n",
    "import gspread\n",
    "from oauth2client.service_account import ServiceAccountCredentials\n",
    "\n",
    "#Windows\n",
    "scope = [\"https://spreadsheets.google.com/feeds\", 'https://www.googleapis.com/auth/spreadsheets',\n",
    "         \"https://www.googleapis.com/auth/drive.file\", \"https://www.googleapis.com/auth/drive\"]\n",
    "\n",
    "#Mac\n",
    "\n",
    "credentials = ServiceAccountCredentials.from_json_keyfile_name(r'C:\\Users\\coleb\\OneDrive\\client_secret.json', scope)\n",
    "client = gspread.authorize(credentials)\n",
    "\n",
    "spreadsheet = client.open('Data_File')\n",
    "\n",
    "with open(r'C:\\Users\\coleb\\OneDrive\\Coraline\\Resources\\csv data\\user94403143_workout_history.csv', 'r') as file_obj:\n",
    "    content = file_obj.read()\n",
    "    client.import_csv(spreadsheet.id, data=content)\n"
   ]
  },
  {
   "cell_type": "code",
   "execution_count": null,
   "metadata": {},
   "outputs": [],
   "source": []
  }
 ],
 "metadata": {
  "kernelspec": {
   "display_name": "Python 3.9.12",
   "language": "python",
   "name": "python3"
  },
  "language_info": {
   "codemirror_mode": {
    "name": "ipython",
    "version": 3
   },
   "file_extension": ".py",
   "mimetype": "text/x-python",
   "name": "python",
   "nbconvert_exporter": "python",
   "pygments_lexer": "ipython3",
   "version": "3.9.12"
  },
  "orig_nbformat": 4,
  "vscode": {
   "interpreter": {
    "hash": "4b761eb5024ab4ac738c2327b216794a1ed65570150954fe97adc852d4211d20"
   }
  }
 },
 "nbformat": 4,
 "nbformat_minor": 2
}
