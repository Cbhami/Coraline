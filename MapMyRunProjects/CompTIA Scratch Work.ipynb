{
 "cells": [
  {
   "cell_type": "code",
   "execution_count": 4,
   "metadata": {},
   "outputs": [
    {
     "name": "stdout",
     "output_type": "stream",
     "text": [
      "Cole Hamilton\n"
     ]
    }
   ],
   "source": [
    "myName = 'Cole Hamilton' #Use your name in place of student name.\n",
    "print(myName)"
   ]
  }
 ],
 "metadata": {
  "kernelspec": {
   "display_name": "Python 3 (ipykernel)",
   "language": "python",
   "name": "python3"
  },
  "language_info": {
   "codemirror_mode": {
    "name": "ipython",
    "version": 3
   },
   "file_extension": ".py",
   "mimetype": "text/x-python",
   "name": "python",
   "nbconvert_exporter": "python",
   "pygments_lexer": "ipython3",
   "version": "3.9.10"
  },
  "vscode": {
   "interpreter": {
    "hash": "4b761eb5024ab4ac738c2327b216794a1ed65570150954fe97adc852d4211d20"
   }
  }
 },
 "nbformat": 4,
 "nbformat_minor": 4
}
