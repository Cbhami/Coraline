{
 "cells": [
  {
   "cell_type": "markdown",
   "metadata": {
    "id": "VOvfHMS4Aq9j"
   },
   "source": [
    "### MapMyRun Data\n",
    "\n",
    "Import Packages"
   ]
  },
  {
   "cell_type": "code",
   "execution_count": 1,
   "metadata": {},
   "outputs": [],
   "source": [
    "import warnings \n",
    "warnings.filterwarnings('ignore')\n",
    "\n",
    "import pandas as pd\n",
    "import numpy as np \n",
    "\n",
    "import seaborn as sns \n",
    "import matplotlib.pylab as plt\n",
    "%matplotlib inline\n",
    "\n",
    "from sklearn.preprocessing import StandardScaler\n",
    "from sklearn.preprocessing import MinMaxScaler\n",
    "\n",
    "from scipy.stats import norm\n",
    "from scipy import stats"
   ]
  },
  {
   "cell_type": "code",
   "execution_count": 2,
   "metadata": {
    "colab": {
     "base_uri": "https://localhost:8080/"
    },
    "executionInfo": {
     "elapsed": 395,
     "status": "ok",
     "timestamp": 1648913508078,
     "user": {
      "displayName": "Cole Hamilton",
      "userId": "14058711568879253144"
     },
     "user_tz": 300
    },
    "id": "trpigggiAq9l",
    "outputId": "3b18f32d-0ef6-4edc-cb8e-a7f1e56eaabd"
   },
   "outputs": [
    {
     "data": {
      "text/html": [
       "<div>\n",
       "<style scoped>\n",
       "    .dataframe tbody tr th:only-of-type {\n",
       "        vertical-align: middle;\n",
       "    }\n",
       "\n",
       "    .dataframe tbody tr th {\n",
       "        vertical-align: top;\n",
       "    }\n",
       "\n",
       "    .dataframe thead th {\n",
       "        text-align: right;\n",
       "    }\n",
       "</style>\n",
       "<table border=\"1\" class=\"dataframe\">\n",
       "  <thead>\n",
       "    <tr style=\"text-align: right;\">\n",
       "      <th></th>\n",
       "      <th>Date Submitted</th>\n",
       "      <th>Workout Date</th>\n",
       "      <th>Activity Type</th>\n",
       "      <th>Calories Burned (kCal)</th>\n",
       "      <th>Distance (mi)</th>\n",
       "      <th>Workout Time (seconds)</th>\n",
       "      <th>Avg Pace (min/mi)</th>\n",
       "      <th>Max Pace (min/mi)</th>\n",
       "      <th>Avg Speed (mi/h)</th>\n",
       "      <th>Max Speed (mi/h)</th>\n",
       "      <th>Avg Heart Rate</th>\n",
       "      <th>Steps</th>\n",
       "      <th>Notes</th>\n",
       "      <th>Source</th>\n",
       "      <th>Link</th>\n",
       "    </tr>\n",
       "  </thead>\n",
       "  <tbody>\n",
       "    <tr>\n",
       "      <th>0</th>\n",
       "      <td>May 11, 2022</td>\n",
       "      <td>May 11, 2022</td>\n",
       "      <td>Run</td>\n",
       "      <td>656</td>\n",
       "      <td>5.00117</td>\n",
       "      <td>2989</td>\n",
       "      <td>9.95615</td>\n",
       "      <td>1.083180</td>\n",
       "      <td>6.02642</td>\n",
       "      <td>55.3924</td>\n",
       "      <td>146.0</td>\n",
       "      <td>7917.0</td>\n",
       "      <td>b''</td>\n",
       "      <td>Map My Fitness MapMyRun iPhone</td>\n",
       "      <td>http://www.mapmyfitness.com/workout/6570492340</td>\n",
       "    </tr>\n",
       "    <tr>\n",
       "      <th>1</th>\n",
       "      <td>May 9, 2022</td>\n",
       "      <td>May 9, 2022</td>\n",
       "      <td>Run</td>\n",
       "      <td>391</td>\n",
       "      <td>3.10777</td>\n",
       "      <td>1802</td>\n",
       "      <td>9.65751</td>\n",
       "      <td>0.935857</td>\n",
       "      <td>6.21278</td>\n",
       "      <td>64.1124</td>\n",
       "      <td>140.0</td>\n",
       "      <td>4782.0</td>\n",
       "      <td>b''</td>\n",
       "      <td>Map My Fitness MapMyRun iPhone</td>\n",
       "      <td>http://www.mapmyfitness.com/workout/6565419007</td>\n",
       "    </tr>\n",
       "  </tbody>\n",
       "</table>\n",
       "</div>"
      ],
      "text/plain": [
       "  Date Submitted  Workout Date Activity Type  Calories Burned (kCal)  \\\n",
       "0   May 11, 2022  May 11, 2022           Run                     656   \n",
       "1    May 9, 2022   May 9, 2022           Run                     391   \n",
       "\n",
       "   Distance (mi)  Workout Time (seconds)  Avg Pace (min/mi)  \\\n",
       "0        5.00117                    2989            9.95615   \n",
       "1        3.10777                    1802            9.65751   \n",
       "\n",
       "   Max Pace (min/mi)  Avg Speed (mi/h)  Max Speed (mi/h)  Avg Heart Rate  \\\n",
       "0           1.083180           6.02642           55.3924           146.0   \n",
       "1           0.935857           6.21278           64.1124           140.0   \n",
       "\n",
       "    Steps Notes                          Source  \\\n",
       "0  7917.0   b''  Map My Fitness MapMyRun iPhone   \n",
       "1  4782.0   b''  Map My Fitness MapMyRun iPhone   \n",
       "\n",
       "                                             Link  \n",
       "0  http://www.mapmyfitness.com/workout/6570492340  \n",
       "1  http://www.mapmyfitness.com/workout/6565419007  "
      ]
     },
     "execution_count": 2,
     "metadata": {},
     "output_type": "execute_result"
    }
   ],
   "source": [
    "import pandas as pd\n",
    "import seaborn as sns\n",
    "sns.set()\n",
    "temp = pd.read_csv('https://raw.githubusercontent.com/Cbhami/Coraline/master/Resources/csv%20data/user94403143_workout_history.csv')\n",
    "temp.head(2)"
   ]
  },
  {
   "cell_type": "code",
   "execution_count": 27,
   "metadata": {
    "executionInfo": {
     "elapsed": 119,
     "status": "ok",
     "timestamp": 1648913514136,
     "user": {
      "displayName": "Cole Hamilton",
      "userId": "14058711568879253144"
     },
     "user_tz": 300
    },
    "id": "2uXi8KYxAq9o"
   },
   "outputs": [],
   "source": [
    "import pandas as pd\n",
    "headers_dict = {'Workout Date': 'Workout_Date', 'Avg Pace (min/mi)': 'Avg_Pace', 'Distance (mi)':'Distance', 'Avg Speed (mi/h)':'Avg_Speed', 'Avg Heart Rate':'Avg_Heart_Rate', 'Calories Burned (kCal)':'Calories_Burned', 'Workout Time (seconds)': 'Workout_Time', 'Max Pace (min/mi)':'Max_Pace', 'Max Pace':'Max_Pace', 'Date Submitted':'Date_Submitted', 'Activity Type':'Activity_Type', 'Max Speed (mi/h)':'Max_Speed'}\n",
    "temp.rename(columns = headers_dict, inplace=True)"
   ]
  },
  {
   "cell_type": "code",
   "execution_count": 28,
   "metadata": {},
   "outputs": [
    {
     "name": "stdout",
     "output_type": "stream",
     "text": [
      "<class 'pandas.core.frame.DataFrame'>\n",
      "RangeIndex: 664 entries, 0 to 663\n",
      "Data columns (total 15 columns):\n",
      " #   Column           Non-Null Count  Dtype         \n",
      "---  ------           --------------  -----         \n",
      " 0   Date_Submitted   664 non-null    datetime64[ns]\n",
      " 1   Workout_Date     664 non-null    datetime64[ns]\n",
      " 2   Activity_Type    664 non-null    object        \n",
      " 3   Calories_Burned  664 non-null    int64         \n",
      " 4   Distance         664 non-null    float64       \n",
      " 5   Workout_Time     664 non-null    int64         \n",
      " 6   Avg_Pace         664 non-null    float64       \n",
      " 7   Max_Pace         664 non-null    float64       \n",
      " 8   Avg_Speed        664 non-null    float64       \n",
      " 9   Max_Speed        664 non-null    float64       \n",
      " 10  Avg_Heart_Rate   438 non-null    float64       \n",
      " 11  Steps            640 non-null    float64       \n",
      " 12  Notes            664 non-null    object        \n",
      " 13  Source           664 non-null    object        \n",
      " 14  Link             664 non-null    object        \n",
      "dtypes: datetime64[ns](2), float64(7), int64(2), object(4)\n",
      "memory usage: 77.9+ KB\n"
     ]
    }
   ],
   "source": [
    "temp['Workout_Date'] = pd.to_datetime(temp['Workout_Date'])\n",
    "temp['Date_Submitted'] = pd.to_datetime(temp['Date_Submitted'])\n",
    "#mean_value = temp['Avg_Heart_Rate'].mean()\n",
    "#temp['Avg_Heart_Rate'].fillna(value = mean_value, inplace = True)\n",
    "\n",
    "#step_value = temp['Steps'].mean()\n",
    "#temp['Steps'].fillna(value = step_value, inplace = True)\n",
    "\n",
    "temp.info()\n"
   ]
  },
  {
   "cell_type": "code",
   "execution_count": 29,
   "metadata": {},
   "outputs": [],
   "source": [
    "temp[temp.Avg_Heart_Rate == 0] = np.nan\n",
    "#temp[temp.Max_Pace == 0] = np.nan\n"
   ]
  },
  {
   "cell_type": "code",
   "execution_count": 30,
   "metadata": {},
   "outputs": [
    {
     "data": {
      "text/html": [
       "<div>\n",
       "<style scoped>\n",
       "    .dataframe tbody tr th:only-of-type {\n",
       "        vertical-align: middle;\n",
       "    }\n",
       "\n",
       "    .dataframe tbody tr th {\n",
       "        vertical-align: top;\n",
       "    }\n",
       "\n",
       "    .dataframe thead th {\n",
       "        text-align: right;\n",
       "    }\n",
       "</style>\n",
       "<table border=\"1\" class=\"dataframe\">\n",
       "  <thead>\n",
       "    <tr style=\"text-align: right;\">\n",
       "      <th></th>\n",
       "      <th>Date_Submitted</th>\n",
       "      <th>Workout_Date</th>\n",
       "      <th>Activity_Type</th>\n",
       "      <th>Calories_Burned</th>\n",
       "      <th>Distance</th>\n",
       "      <th>Workout_Time</th>\n",
       "      <th>Avg_Pace</th>\n",
       "      <th>Max_Pace</th>\n",
       "      <th>Avg_Speed</th>\n",
       "      <th>Max_Speed</th>\n",
       "      <th>Avg_Heart_Rate</th>\n",
       "      <th>Steps</th>\n",
       "      <th>Notes</th>\n",
       "      <th>Source</th>\n",
       "      <th>Link</th>\n",
       "    </tr>\n",
       "  </thead>\n",
       "  <tbody>\n",
       "    <tr>\n",
       "      <th>0</th>\n",
       "      <td>2022-05-11 00:00:00</td>\n",
       "      <td>2022-05-11 00:00:00</td>\n",
       "      <td>Run</td>\n",
       "      <td>656.0</td>\n",
       "      <td>5.00117</td>\n",
       "      <td>2989.0</td>\n",
       "      <td>9.95615</td>\n",
       "      <td>1.083180</td>\n",
       "      <td>6.02642</td>\n",
       "      <td>55.3924</td>\n",
       "      <td>146.0</td>\n",
       "      <td>7917.0</td>\n",
       "      <td>b''</td>\n",
       "      <td>Map My Fitness MapMyRun iPhone</td>\n",
       "      <td>http://www.mapmyfitness.com/workout/6570492340</td>\n",
       "    </tr>\n",
       "    <tr>\n",
       "      <th>1</th>\n",
       "      <td>2022-05-09 00:00:00</td>\n",
       "      <td>2022-05-09 00:00:00</td>\n",
       "      <td>Run</td>\n",
       "      <td>391.0</td>\n",
       "      <td>3.10777</td>\n",
       "      <td>1802.0</td>\n",
       "      <td>9.65751</td>\n",
       "      <td>0.935857</td>\n",
       "      <td>6.21278</td>\n",
       "      <td>64.1124</td>\n",
       "      <td>140.0</td>\n",
       "      <td>4782.0</td>\n",
       "      <td>b''</td>\n",
       "      <td>Map My Fitness MapMyRun iPhone</td>\n",
       "      <td>http://www.mapmyfitness.com/workout/6565419007</td>\n",
       "    </tr>\n",
       "    <tr>\n",
       "      <th>2</th>\n",
       "      <td>2022-05-08 00:00:00</td>\n",
       "      <td>2022-05-08 00:00:00</td>\n",
       "      <td>Run</td>\n",
       "      <td>313.0</td>\n",
       "      <td>2.35281</td>\n",
       "      <td>1376.0</td>\n",
       "      <td>9.73759</td>\n",
       "      <td>1.029330</td>\n",
       "      <td>6.16169</td>\n",
       "      <td>58.2904</td>\n",
       "      <td>156.0</td>\n",
       "      <td>3622.0</td>\n",
       "      <td>b''</td>\n",
       "      <td>Map My Fitness MapMyRun iPhone</td>\n",
       "      <td>http://www.mapmyfitness.com/workout/6564195706</td>\n",
       "    </tr>\n",
       "    <tr>\n",
       "      <th>3</th>\n",
       "      <td>2022-05-07 00:00:00</td>\n",
       "      <td>2022-05-07 00:00:00</td>\n",
       "      <td>Run</td>\n",
       "      <td>348.0</td>\n",
       "      <td>2.59009</td>\n",
       "      <td>1516.0</td>\n",
       "      <td>9.74739</td>\n",
       "      <td>0.425582</td>\n",
       "      <td>6.15549</td>\n",
       "      <td>140.9830</td>\n",
       "      <td>154.0</td>\n",
       "      <td>4043.0</td>\n",
       "      <td>b''</td>\n",
       "      <td>Map My Fitness MapMyRun iPhone</td>\n",
       "      <td>http://www.mapmyfitness.com/workout/6562162405</td>\n",
       "    </tr>\n",
       "    <tr>\n",
       "      <th>4</th>\n",
       "      <td>2022-05-07 00:00:00</td>\n",
       "      <td>2022-05-07 00:00:00</td>\n",
       "      <td>Run</td>\n",
       "      <td>430.0</td>\n",
       "      <td>3.10000</td>\n",
       "      <td>1974.0</td>\n",
       "      <td>10.61290</td>\n",
       "      <td>0.000000</td>\n",
       "      <td>5.65350</td>\n",
       "      <td>0.0000</td>\n",
       "      <td>149.0</td>\n",
       "      <td>5197.0</td>\n",
       "      <td>b''</td>\n",
       "      <td>Map My Fitness MapMyRun iPhone</td>\n",
       "      <td>http://www.mapmyfitness.com/workout/6560917507</td>\n",
       "    </tr>\n",
       "  </tbody>\n",
       "</table>\n",
       "</div>"
      ],
      "text/plain": [
       "        Date_Submitted         Workout_Date Activity_Type  Calories_Burned  \\\n",
       "0  2022-05-11 00:00:00  2022-05-11 00:00:00           Run            656.0   \n",
       "1  2022-05-09 00:00:00  2022-05-09 00:00:00           Run            391.0   \n",
       "2  2022-05-08 00:00:00  2022-05-08 00:00:00           Run            313.0   \n",
       "3  2022-05-07 00:00:00  2022-05-07 00:00:00           Run            348.0   \n",
       "4  2022-05-07 00:00:00  2022-05-07 00:00:00           Run            430.0   \n",
       "\n",
       "   Distance  Workout_Time  Avg_Pace  Max_Pace  Avg_Speed  Max_Speed  \\\n",
       "0   5.00117        2989.0   9.95615  1.083180    6.02642    55.3924   \n",
       "1   3.10777        1802.0   9.65751  0.935857    6.21278    64.1124   \n",
       "2   2.35281        1376.0   9.73759  1.029330    6.16169    58.2904   \n",
       "3   2.59009        1516.0   9.74739  0.425582    6.15549   140.9830   \n",
       "4   3.10000        1974.0  10.61290  0.000000    5.65350     0.0000   \n",
       "\n",
       "   Avg_Heart_Rate   Steps Notes                          Source  \\\n",
       "0           146.0  7917.0   b''  Map My Fitness MapMyRun iPhone   \n",
       "1           140.0  4782.0   b''  Map My Fitness MapMyRun iPhone   \n",
       "2           156.0  3622.0   b''  Map My Fitness MapMyRun iPhone   \n",
       "3           154.0  4043.0   b''  Map My Fitness MapMyRun iPhone   \n",
       "4           149.0  5197.0   b''  Map My Fitness MapMyRun iPhone   \n",
       "\n",
       "                                             Link  \n",
       "0  http://www.mapmyfitness.com/workout/6570492340  \n",
       "1  http://www.mapmyfitness.com/workout/6565419007  \n",
       "2  http://www.mapmyfitness.com/workout/6564195706  \n",
       "3  http://www.mapmyfitness.com/workout/6562162405  \n",
       "4  http://www.mapmyfitness.com/workout/6560917507  "
      ]
     },
     "execution_count": 30,
     "metadata": {},
     "output_type": "execute_result"
    }
   ],
   "source": [
    "temp.fillna(temp.Avg_Heart_Rate.median(), inplace = True)\n",
    "#temp.fillna(temp.Max_Pace.median(), inplace = True)\n",
    "temp.head()"
   ]
  },
  {
   "cell_type": "code",
   "execution_count": 31,
   "metadata": {
    "colab": {
     "base_uri": "https://localhost:8080/"
    },
    "executionInfo": {
     "elapsed": 200,
     "status": "ok",
     "timestamp": 1648913601365,
     "user": {
      "displayName": "Cole Hamilton",
      "userId": "14058711568879253144"
     },
     "user_tz": 300
    },
    "id": "elgB3t5aAq9p",
    "outputId": "45146285-6a9d-4412-c661-38353e247313"
   },
   "outputs": [
    {
     "data": {
      "text/plain": [
       "Date_Submitted     433\n",
       "Workout_Date       433\n",
       "Activity_Type      433\n",
       "Calories_Burned    433\n",
       "Distance           433\n",
       "Workout_Time       433\n",
       "Avg_Pace           433\n",
       "Max_Pace           433\n",
       "Avg_Speed          433\n",
       "Max_Speed          433\n",
       "Avg_Heart_Rate     433\n",
       "Steps              433\n",
       "Calculated         433\n",
       "dtype: int64"
      ]
     },
     "execution_count": 31,
     "metadata": {},
     "output_type": "execute_result"
    }
   ],
   "source": [
    "temp_df = pd.DataFrame(temp)\n",
    "temp_df.drop(['Notes', 'Source', 'Link'], axis = 1, inplace = True)\n",
    "temp_df.rename(columns = headers_dict, inplace=True)\n",
    "upd = temp_df.round(2)\n",
    "upd2 =upd\n",
    "upd3 = upd2[upd2['Avg_Pace'] > 7]\n",
    "upd4 = upd3[upd3['Avg_Speed'] > 3]\n",
    "upd4.sort_values(by=['Max_Pace'], ascending=True)\n",
    "upd5 = upd4[upd4['Avg_Pace'] < 13]\n",
    "df = upd5[upd5['Activity_Type'] == 'Run']\n",
    "df['Calculated'] = df['Workout_Time'] / 60\n",
    "df.count()"
   ]
  },
  {
   "cell_type": "code",
   "execution_count": 32,
   "metadata": {},
   "outputs": [
    {
     "data": {
      "text/html": [
       "<div>\n",
       "<style scoped>\n",
       "    .dataframe tbody tr th:only-of-type {\n",
       "        vertical-align: middle;\n",
       "    }\n",
       "\n",
       "    .dataframe tbody tr th {\n",
       "        vertical-align: top;\n",
       "    }\n",
       "\n",
       "    .dataframe thead th {\n",
       "        text-align: right;\n",
       "    }\n",
       "</style>\n",
       "<table border=\"1\" class=\"dataframe\">\n",
       "  <thead>\n",
       "    <tr style=\"text-align: right;\">\n",
       "      <th></th>\n",
       "      <th>Date_Submitted</th>\n",
       "      <th>Workout_Date</th>\n",
       "      <th>Activity_Type</th>\n",
       "      <th>Calories_Burned</th>\n",
       "      <th>Distance</th>\n",
       "      <th>Workout_Time</th>\n",
       "      <th>Avg_Pace</th>\n",
       "      <th>Max_Pace</th>\n",
       "      <th>Avg_Speed</th>\n",
       "      <th>Max_Speed</th>\n",
       "      <th>Avg_Heart_Rate</th>\n",
       "      <th>Steps</th>\n",
       "      <th>Calculated</th>\n",
       "    </tr>\n",
       "  </thead>\n",
       "  <tbody>\n",
       "    <tr>\n",
       "      <th>0</th>\n",
       "      <td>2022-05-11 00:00:00</td>\n",
       "      <td>2022-05-11</td>\n",
       "      <td>Run</td>\n",
       "      <td>656.0</td>\n",
       "      <td>5.00</td>\n",
       "      <td>2989.0</td>\n",
       "      <td>9.96</td>\n",
       "      <td>1.08</td>\n",
       "      <td>6.03</td>\n",
       "      <td>55.39</td>\n",
       "      <td>146.0</td>\n",
       "      <td>7917.0</td>\n",
       "      <td>49.816667</td>\n",
       "    </tr>\n",
       "    <tr>\n",
       "      <th>1</th>\n",
       "      <td>2022-05-09 00:00:00</td>\n",
       "      <td>2022-05-09</td>\n",
       "      <td>Run</td>\n",
       "      <td>391.0</td>\n",
       "      <td>3.11</td>\n",
       "      <td>1802.0</td>\n",
       "      <td>9.66</td>\n",
       "      <td>0.94</td>\n",
       "      <td>6.21</td>\n",
       "      <td>64.11</td>\n",
       "      <td>140.0</td>\n",
       "      <td>4782.0</td>\n",
       "      <td>30.033333</td>\n",
       "    </tr>\n",
       "    <tr>\n",
       "      <th>2</th>\n",
       "      <td>2022-05-08 00:00:00</td>\n",
       "      <td>2022-05-08</td>\n",
       "      <td>Run</td>\n",
       "      <td>313.0</td>\n",
       "      <td>2.35</td>\n",
       "      <td>1376.0</td>\n",
       "      <td>9.74</td>\n",
       "      <td>1.03</td>\n",
       "      <td>6.16</td>\n",
       "      <td>58.29</td>\n",
       "      <td>156.0</td>\n",
       "      <td>3622.0</td>\n",
       "      <td>22.933333</td>\n",
       "    </tr>\n",
       "    <tr>\n",
       "      <th>3</th>\n",
       "      <td>2022-05-07 00:00:00</td>\n",
       "      <td>2022-05-07</td>\n",
       "      <td>Run</td>\n",
       "      <td>348.0</td>\n",
       "      <td>2.59</td>\n",
       "      <td>1516.0</td>\n",
       "      <td>9.75</td>\n",
       "      <td>0.43</td>\n",
       "      <td>6.16</td>\n",
       "      <td>140.98</td>\n",
       "      <td>154.0</td>\n",
       "      <td>4043.0</td>\n",
       "      <td>25.266667</td>\n",
       "    </tr>\n",
       "    <tr>\n",
       "      <th>4</th>\n",
       "      <td>2022-05-07 00:00:00</td>\n",
       "      <td>2022-05-07</td>\n",
       "      <td>Run</td>\n",
       "      <td>430.0</td>\n",
       "      <td>3.10</td>\n",
       "      <td>1974.0</td>\n",
       "      <td>10.61</td>\n",
       "      <td>0.00</td>\n",
       "      <td>5.65</td>\n",
       "      <td>0.00</td>\n",
       "      <td>149.0</td>\n",
       "      <td>5197.0</td>\n",
       "      <td>32.900000</td>\n",
       "    </tr>\n",
       "    <tr>\n",
       "      <th>...</th>\n",
       "      <td>...</td>\n",
       "      <td>...</td>\n",
       "      <td>...</td>\n",
       "      <td>...</td>\n",
       "      <td>...</td>\n",
       "      <td>...</td>\n",
       "      <td>...</td>\n",
       "      <td>...</td>\n",
       "      <td>...</td>\n",
       "      <td>...</td>\n",
       "      <td>...</td>\n",
       "      <td>...</td>\n",
       "      <td>...</td>\n",
       "    </tr>\n",
       "    <tr>\n",
       "      <th>615</th>\n",
       "      <td>2019-07-05 00:00:00</td>\n",
       "      <td>2019-07-05</td>\n",
       "      <td>Run</td>\n",
       "      <td>156.0</td>\n",
       "      <td>1.52</td>\n",
       "      <td>843.0</td>\n",
       "      <td>9.24</td>\n",
       "      <td>0.85</td>\n",
       "      <td>6.49</td>\n",
       "      <td>71.00</td>\n",
       "      <td>160.0</td>\n",
       "      <td>2313.0</td>\n",
       "      <td>14.050000</td>\n",
       "    </tr>\n",
       "    <tr>\n",
       "      <th>618</th>\n",
       "      <td>2019-07-04 00:00:00</td>\n",
       "      <td>2019-07-04</td>\n",
       "      <td>Run</td>\n",
       "      <td>156.0</td>\n",
       "      <td>1.53</td>\n",
       "      <td>816.0</td>\n",
       "      <td>8.88</td>\n",
       "      <td>0.99</td>\n",
       "      <td>6.76</td>\n",
       "      <td>60.91</td>\n",
       "      <td>159.0</td>\n",
       "      <td>2215.0</td>\n",
       "      <td>13.600000</td>\n",
       "    </tr>\n",
       "    <tr>\n",
       "      <th>621</th>\n",
       "      <td>2019-07-02 00:00:00</td>\n",
       "      <td>2019-07-02</td>\n",
       "      <td>Run</td>\n",
       "      <td>95.0</td>\n",
       "      <td>1.02</td>\n",
       "      <td>552.0</td>\n",
       "      <td>9.02</td>\n",
       "      <td>0.34</td>\n",
       "      <td>6.65</td>\n",
       "      <td>174.52</td>\n",
       "      <td>148.0</td>\n",
       "      <td>1439.0</td>\n",
       "      <td>9.200000</td>\n",
       "    </tr>\n",
       "    <tr>\n",
       "      <th>626</th>\n",
       "      <td>2019-06-29 00:00:00</td>\n",
       "      <td>2019-06-29</td>\n",
       "      <td>Run</td>\n",
       "      <td>118.0</td>\n",
       "      <td>1.27</td>\n",
       "      <td>693.0</td>\n",
       "      <td>9.13</td>\n",
       "      <td>3.32</td>\n",
       "      <td>6.57</td>\n",
       "      <td>18.06</td>\n",
       "      <td>150.0</td>\n",
       "      <td>1824.0</td>\n",
       "      <td>11.550000</td>\n",
       "    </tr>\n",
       "    <tr>\n",
       "      <th>656</th>\n",
       "      <td>2019-05-19 00:00:00</td>\n",
       "      <td>2019-05-19</td>\n",
       "      <td>Run</td>\n",
       "      <td>419.0</td>\n",
       "      <td>3.11</td>\n",
       "      <td>2197.0</td>\n",
       "      <td>11.69</td>\n",
       "      <td>2.06</td>\n",
       "      <td>5.13</td>\n",
       "      <td>29.17</td>\n",
       "      <td>139.0</td>\n",
       "      <td>5295.0</td>\n",
       "      <td>36.616667</td>\n",
       "    </tr>\n",
       "  </tbody>\n",
       "</table>\n",
       "<p>433 rows × 13 columns</p>\n",
       "</div>"
      ],
      "text/plain": [
       "          Date_Submitted Workout_Date Activity_Type  Calories_Burned  \\\n",
       "0    2022-05-11 00:00:00   2022-05-11           Run            656.0   \n",
       "1    2022-05-09 00:00:00   2022-05-09           Run            391.0   \n",
       "2    2022-05-08 00:00:00   2022-05-08           Run            313.0   \n",
       "3    2022-05-07 00:00:00   2022-05-07           Run            348.0   \n",
       "4    2022-05-07 00:00:00   2022-05-07           Run            430.0   \n",
       "..                   ...          ...           ...              ...   \n",
       "615  2019-07-05 00:00:00   2019-07-05           Run            156.0   \n",
       "618  2019-07-04 00:00:00   2019-07-04           Run            156.0   \n",
       "621  2019-07-02 00:00:00   2019-07-02           Run             95.0   \n",
       "626  2019-06-29 00:00:00   2019-06-29           Run            118.0   \n",
       "656  2019-05-19 00:00:00   2019-05-19           Run            419.0   \n",
       "\n",
       "     Distance  Workout_Time  Avg_Pace  Max_Pace  Avg_Speed  Max_Speed  \\\n",
       "0        5.00        2989.0      9.96      1.08       6.03      55.39   \n",
       "1        3.11        1802.0      9.66      0.94       6.21      64.11   \n",
       "2        2.35        1376.0      9.74      1.03       6.16      58.29   \n",
       "3        2.59        1516.0      9.75      0.43       6.16     140.98   \n",
       "4        3.10        1974.0     10.61      0.00       5.65       0.00   \n",
       "..        ...           ...       ...       ...        ...        ...   \n",
       "615      1.52         843.0      9.24      0.85       6.49      71.00   \n",
       "618      1.53         816.0      8.88      0.99       6.76      60.91   \n",
       "621      1.02         552.0      9.02      0.34       6.65     174.52   \n",
       "626      1.27         693.0      9.13      3.32       6.57      18.06   \n",
       "656      3.11        2197.0     11.69      2.06       5.13      29.17   \n",
       "\n",
       "     Avg_Heart_Rate   Steps  Calculated  \n",
       "0             146.0  7917.0   49.816667  \n",
       "1             140.0  4782.0   30.033333  \n",
       "2             156.0  3622.0   22.933333  \n",
       "3             154.0  4043.0   25.266667  \n",
       "4             149.0  5197.0   32.900000  \n",
       "..              ...     ...         ...  \n",
       "615           160.0  2313.0   14.050000  \n",
       "618           159.0  2215.0   13.600000  \n",
       "621           148.0  1439.0    9.200000  \n",
       "626           150.0  1824.0   11.550000  \n",
       "656           139.0  5295.0   36.616667  \n",
       "\n",
       "[433 rows x 13 columns]"
      ]
     },
     "execution_count": 32,
     "metadata": {},
     "output_type": "execute_result"
    }
   ],
   "source": [
    "df['Workout_Date'] = pd.to_datetime(df['Workout_Date'])\n",
    "\n",
    "df.sort_values(by=['Workout_Date'], ascending=False)"
   ]
  },
  {
   "cell_type": "code",
   "execution_count": 34,
   "metadata": {
    "colab": {
     "base_uri": "https://localhost:8080/",
     "height": 607
    },
    "executionInfo": {
     "elapsed": 1293,
     "status": "ok",
     "timestamp": 1648913538796,
     "user": {
      "displayName": "Cole Hamilton",
      "userId": "14058711568879253144"
     },
     "user_tz": 300
    },
    "id": "iA14D4LUAq9q",
    "outputId": "25f23056-148b-44e1-e057-f2f375f15f90"
   },
   "outputs": [
    {
     "data": {
      "image/png": "[encoded data removed]",
      "text/plain": [
       "<Figure size 1080x648 with 1 Axes>"
      ]
     },
     "metadata": {},
     "output_type": "display_data"
    }
   ],
   "source": [
    "\n",
    "axes = df.plot(x='Distance', y='Calculated', style='.',figsize=(15,9))\n",
    "y_label = axes.set_ylabel('Calculated_Time')"
   ]
  },
  {
   "cell_type": "code",
   "execution_count": 125,
   "metadata": {
    "id": "uxSFTuz3Aq96"
   },
   "outputs": [],
   "source": [
    "from scipy import stats"
   ]
  },
  {
   "cell_type": "code",
   "execution_count": 126,
   "metadata": {
    "id": "5G2aByctAq96"
   },
   "outputs": [],
   "source": [
    "linear_regression = stats.linregress(x=df.Calculated,y=df.Distance)"
   ]
  },
  {
   "cell_type": "code",
   "execution_count": 127,
   "metadata": {
    "colab": {
     "base_uri": "https://localhost:8080/"
    },
    "executionInfo": {
     "elapsed": 764,
     "status": "ok",
     "timestamp": 1648751531292,
     "user": {
      "displayName": "",
      "userId": ""
     },
     "user_tz": 300
    },
    "id": "WKO1vzEdAq97",
    "outputId": "3eb55d71-1b14-4c92-973e-1317229a87f0"
   },
   "outputs": [
    {
     "data": {
      "text/plain": [
       "0.09152314014681964"
      ]
     },
     "execution_count": 127,
     "metadata": {},
     "output_type": "execute_result"
    }
   ],
   "source": [
    "linear_regression.slope"
   ]
  },
  {
   "cell_type": "code",
   "execution_count": 128,
   "metadata": {
    "colab": {
     "base_uri": "https://localhost:8080/"
    },
    "executionInfo": {
     "elapsed": 357,
     "status": "ok",
     "timestamp": 1648764241411,
     "user": {
      "displayName": "",
      "userId": ""
     },
     "user_tz": 300
    },
    "id": "NcM7c87nAq98",
    "outputId": "0bd210d5-0cb7-4114-8351-94f9a9dd24b2"
   },
   "outputs": [
    {
     "data": {
      "text/plain": [
       "0.4187949048721973"
      ]
     },
     "execution_count": 128,
     "metadata": {},
     "output_type": "execute_result"
    }
   ],
   "source": [
    "linear_regression.intercept"
   ]
  },
  {
   "cell_type": "markdown",
   "metadata": {
    "id": "C38ZNcIhAq99"
   },
   "source": [
    "* We can use these values with the simple linear regression equation for a straight line to predict the average January temperature in New York City for any given year.\n",
    "* In the following calculation, `linear_regression.slope` is **_m_**, our input year is **_x_** (the date value for which you’d like to predict the temperature), and `linear_regression.intercept` is **_b_**.\n",
    "* We can also predict the approximate difference between one year and another."
   ]
  },
  {
   "cell_type": "code",
   "execution_count": 129,
   "metadata": {
    "colab": {
     "base_uri": "https://localhost:8080/"
    },
    "executionInfo": {
     "elapsed": 268,
     "status": "ok",
     "timestamp": 1648764249382,
     "user": {
      "displayName": "",
      "userId": ""
     },
     "user_tz": 300
    },
    "id": "Nqh3UA0MAq9-",
    "outputId": "96fac6bd-58a7-4ed0-9359-6b2d7f9bfe55"
   },
   "outputs": [
    {
     "name": "stdout",
     "output_type": "stream",
     "text": [
      "1.6177480407955345\n"
     ]
    }
   ],
   "source": [
    "#The average temperature in New York was just under 40 this year, so pretty close\n",
    "Half = linear_regression.slope * 13.1 + linear_regression.intercept \n",
    "print(Half) \n"
   ]
  },
  {
   "cell_type": "code",
   "execution_count": 130,
   "metadata": {
    "colab": {
     "base_uri": "https://localhost:8080/"
    },
    "executionInfo": {
     "elapsed": 278,
     "status": "ok",
     "timestamp": 1648764253577,
     "user": {
      "displayName": "",
      "userId": ""
     },
     "user_tz": 300
    },
    "id": "HosgygIPAq9-",
    "outputId": "59ed71b3-9fa0-4f00-84a7-e04ef5e96db7"
   },
   "outputs": [
    {
     "name": "stdout",
     "output_type": "stream",
     "text": [
      "1.1989531359233372\n"
     ]
    }
   ],
   "source": [
    "Full = linear_regression.slope * 26.2 + linear_regression.intercept\n",
    "print(Full-Half)"
   ]
  },
  {
   "cell_type": "markdown",
   "metadata": {
    "id": "t3o3ZMGEAq9-"
   },
   "source": [
    "### Plotting the Average High Temperatures and a Regression Line\n",
    "* Seaborn’s **`regplot` function** plots each data point with one attribute on the **_x_****-axis and the other on the **_y_**-axis\n",
    "* Creates a **scatter plot** or **scattergram** representing the `Temperature`s for the given `Date`s and adds the regression line\n",
    "* Function `regplot`’s `x` and `y` keyword arguments are one-dimensional arrays of the same length representing the **_x-y_** coordinate pairs to plot"
   ]
  },
  {
   "cell_type": "code",
   "execution_count": 131,
   "metadata": {
    "id": "KMTK6JckAq9_"
   },
   "outputs": [],
   "source": [
    "import seaborn as sns\n",
    "sns.set_style('whitegrid')"
   ]
  },
  {
   "cell_type": "code",
   "execution_count": 132,
   "metadata": {
    "colab": {
     "base_uri": "https://localhost:8080/",
     "height": 296
    },
    "executionInfo": {
     "elapsed": 437,
     "status": "ok",
     "timestamp": 1648764832305,
     "user": {
      "displayName": "",
      "userId": ""
     },
     "user_tz": 300
    },
    "id": "4CW71baTAq9_",
    "outputId": "746ed503-f8d6-40b2-c807-c2e609bb914d"
   },
   "outputs": [
    {
     "data": {
      "text/plain": [
       "(-11.415500983304991, 178.48169052301452)"
      ]
     },
     "execution_count": 132,
     "metadata": {},
     "output_type": "execute_result"
    },
    {
     "data": {
      "image/png": "[encoded data removed]",
      "text/plain": [
       "<Figure size 432x288 with 1 Axes>"
      ]
     },
     "metadata": {},
     "output_type": "display_data"
    }
   ],
   "source": [
    "axes = sns.regplot(x=df.Distance, y=df.Calculated)\n",
    "axes.set_ylim()"
   ]
  },
  {
   "cell_type": "markdown",
   "metadata": {},
   "source": [
    "## EDA FOR PLOTTING\n"
   ]
  },
  {
   "cell_type": "markdown",
   "metadata": {},
   "source": [
    "### summary statistics"
   ]
  },
  {
   "cell_type": "code",
   "execution_count": 133,
   "metadata": {},
   "outputs": [
    {
     "data": {
      "text/html": [
       "<div>\n",
       "<style scoped>\n",
       "    .dataframe tbody tr th:only-of-type {\n",
       "        vertical-align: middle;\n",
       "    }\n",
       "\n",
       "    .dataframe tbody tr th {\n",
       "        vertical-align: top;\n",
       "    }\n",
       "\n",
       "    .dataframe thead th {\n",
       "        text-align: right;\n",
       "    }\n",
       "</style>\n",
       "<table border=\"1\" class=\"dataframe\">\n",
       "  <thead>\n",
       "    <tr style=\"text-align: right;\">\n",
       "      <th></th>\n",
       "      <th>Date_Submitted</th>\n",
       "      <th>Workout_Date</th>\n",
       "      <th>Activity_Type</th>\n",
       "      <th>Calories_Burned</th>\n",
       "      <th>Distance</th>\n",
       "      <th>Workout_Time</th>\n",
       "      <th>Avg_Pace</th>\n",
       "      <th>Max_Pace</th>\n",
       "      <th>Avg_Speed</th>\n",
       "      <th>Max_Speed</th>\n",
       "      <th>Avg_Heart_Rate</th>\n",
       "      <th>Steps</th>\n",
       "      <th>Calculated</th>\n",
       "    </tr>\n",
       "  </thead>\n",
       "  <tbody>\n",
       "    <tr>\n",
       "      <th>0</th>\n",
       "      <td>2022-05-11</td>\n",
       "      <td>2022-05-11</td>\n",
       "      <td>Run</td>\n",
       "      <td>656</td>\n",
       "      <td>5.0</td>\n",
       "      <td>2989</td>\n",
       "      <td>9.96</td>\n",
       "      <td>1.08</td>\n",
       "      <td>6.03</td>\n",
       "      <td>55.39</td>\n",
       "      <td>146.0</td>\n",
       "      <td>7917.0</td>\n",
       "      <td>49.816667</td>\n",
       "    </tr>\n",
       "  </tbody>\n",
       "</table>\n",
       "</div>"
      ],
      "text/plain": [
       "  Date_Submitted Workout_Date Activity_Type  Calories_Burned  Distance  \\\n",
       "0     2022-05-11   2022-05-11           Run              656       5.0   \n",
       "\n",
       "   Workout_Time  Avg_Pace  Max_Pace  Avg_Speed  Max_Speed  Avg_Heart_Rate  \\\n",
       "0          2989      9.96      1.08       6.03      55.39           146.0   \n",
       "\n",
       "    Steps  Calculated  \n",
       "0  7917.0   49.816667  "
      ]
     },
     "execution_count": 133,
     "metadata": {},
     "output_type": "execute_result"
    }
   ],
   "source": [
    "df.head(1)\n"
   ]
  },
  {
   "cell_type": "code",
   "execution_count": 134,
   "metadata": {},
   "outputs": [
    {
     "name": "stdout",
     "output_type": "stream",
     "text": [
      "<class 'pandas.core.frame.DataFrame'>\n",
      "Int64Index: 488 entries, 0 to 658\n",
      "Data columns (total 13 columns):\n",
      " #   Column           Non-Null Count  Dtype         \n",
      "---  ------           --------------  -----         \n",
      " 0   Date_Submitted   488 non-null    datetime64[ns]\n",
      " 1   Workout_Date     488 non-null    datetime64[ns]\n",
      " 2   Activity_Type    488 non-null    object        \n",
      " 3   Calories_Burned  488 non-null    int64         \n",
      " 4   Distance         488 non-null    float64       \n",
      " 5   Workout_Time     488 non-null    int64         \n",
      " 6   Avg_Pace         488 non-null    float64       \n",
      " 7   Max_Pace         488 non-null    float64       \n",
      " 8   Avg_Speed        488 non-null    float64       \n",
      " 9   Max_Speed        488 non-null    float64       \n",
      " 10  Avg_Heart_Rate   488 non-null    float64       \n",
      " 11  Steps            488 non-null    float64       \n",
      " 12  Calculated       488 non-null    float64       \n",
      "dtypes: datetime64[ns](2), float64(8), int64(2), object(1)\n",
      "memory usage: 53.4+ KB\n"
     ]
    }
   ],
   "source": [
    "df.info()\n"
   ]
  },
  {
   "cell_type": "code",
   "execution_count": 135,
   "metadata": {},
   "outputs": [
    {
     "data": {
      "text/plain": [
       "Index(['Date_Submitted', 'Workout_Date', 'Activity_Type', 'Calories_Burned',\n",
       "       'Distance', 'Workout_Time', 'Avg_Pace', 'Max_Pace', 'Avg_Speed',\n",
       "       'Max_Speed', 'Avg_Heart_Rate', 'Steps', 'Calculated'],\n",
       "      dtype='object')"
      ]
     },
     "execution_count": 135,
     "metadata": {},
     "output_type": "execute_result"
    }
   ],
   "source": [
    "df.columns"
   ]
  },
  {
   "cell_type": "code",
   "execution_count": 136,
   "metadata": {},
   "outputs": [
    {
     "data": {
      "text/plain": [
       "<AxesSubplot:xlabel='Workout_Date'>"
      ]
     },
     "execution_count": 136,
     "metadata": {},
     "output_type": "execute_result"
    },
    {
     "data": {
      "image/png": "[encoded data removed]",
      "text/plain": [
       "<Figure size 432x288 with 1 Axes>"
      ]
     },
     "metadata": {},
     "output_type": "display_data"
    }
   ],
   "source": [
    "# show data of one subject\n",
    "mask1 = df['Activity_Type'] == 'Run'\n",
    "(\n",
    "    df[mask1]\n",
    "    .set_index('Workout_Date')\n",
    "    ['Calculated']\n",
    "    .plot()\n",
    ")"
   ]
  },
  {
   "cell_type": "markdown",
   "metadata": {},
   "source": [
    "### plot the average of `Calculated` data\n"
   ]
  },
  {
   "cell_type": "code",
   "execution_count": 137,
   "metadata": {},
   "outputs": [
    {
     "data": {
      "text/plain": [
       "<AxesSubplot:xlabel='Workout_Date'>"
      ]
     },
     "execution_count": 137,
     "metadata": {},
     "output_type": "execute_result"
    },
    {
     "data": {
      "image/png": "[encoded data removed]",
      "text/plain": [
       "<Figure size 432x288 with 1 Axes>"
      ]
     },
     "metadata": {},
     "output_type": "display_data"
    }
   ],
   "source": [
    "# basic approach to plot using matplotlib w/ chaining approach\n",
    "(\n",
    "    df\n",
    "    .set_index('Workout_Date')\n",
    "    ['Calculated']\n",
    "    .plot()\n",
    ")"
   ]
  },
  {
   "cell_type": "code",
   "execution_count": 138,
   "metadata": {},
   "outputs": [
    {
     "data": {
      "text/plain": [
       "<AxesSubplot:xlabel='Workout_Date'>"
      ]
     },
     "execution_count": 138,
     "metadata": {},
     "output_type": "execute_result"
    },
    {
     "data": {
      "image/png": "[encoded data removed]",
      "text/plain": [
       "<Figure size 432x288 with 1 Axes>"
      ]
     },
     "metadata": {},
     "output_type": "display_data"
    }
   ],
   "source": [
    "# check a subjects, on a particular day's data\n",
    "(\n",
    "    df\n",
    "    .set_index('Workout_Date')\n",
    "    .query('Workout_Date == 20220511')\n",
    "    ['Calculated']\n",
    "    .plot()\n",
    ")\n"
   ]
  },
  {
   "cell_type": "code",
   "execution_count": 139,
   "metadata": {},
   "outputs": [],
   "source": [
    "# # get the total stepcounts of a subject each day\n",
    "# def get_subject_agg_each_day(Activity_Type):\n",
    "#     return (\n",
    "#         df.groupby(\n",
    "#             ['Activity_Type'])\n",
    "#         .sum()\n",
    "#         [[Activity_Type]]\n",
    "#         # .plot(kind='bar')\n",
    "#     )\n"
   ]
  },
  {
   "cell_type": "code",
   "execution_count": 140,
   "metadata": {},
   "outputs": [],
   "source": [
    "# get the agg of a col\n",
    "group = df.groupby(\n",
    "    'Date_Submitted').count(\n",
    "\n",
    "    ).sort_values(\n",
    "        by=['Workout_Date'],\n",
    "         ascending=False)"
   ]
  },
  {
   "cell_type": "code",
   "execution_count": 141,
   "metadata": {},
   "outputs": [
    {
     "data": {
      "text/html": [
       "<div>\n",
       "<style scoped>\n",
       "    .dataframe tbody tr th:only-of-type {\n",
       "        vertical-align: middle;\n",
       "    }\n",
       "\n",
       "    .dataframe tbody tr th {\n",
       "        vertical-align: top;\n",
       "    }\n",
       "\n",
       "    .dataframe thead th {\n",
       "        text-align: right;\n",
       "    }\n",
       "</style>\n",
       "<table border=\"1\" class=\"dataframe\">\n",
       "  <thead>\n",
       "    <tr style=\"text-align: right;\">\n",
       "      <th></th>\n",
       "      <th>Workout_Date</th>\n",
       "      <th>Activity_Type</th>\n",
       "      <th>Calories_Burned</th>\n",
       "      <th>Distance</th>\n",
       "      <th>Workout_Time</th>\n",
       "      <th>Avg_Pace</th>\n",
       "      <th>Max_Pace</th>\n",
       "      <th>Avg_Speed</th>\n",
       "      <th>Max_Speed</th>\n",
       "      <th>Avg_Heart_Rate</th>\n",
       "      <th>Steps</th>\n",
       "      <th>Calculated</th>\n",
       "    </tr>\n",
       "    <tr>\n",
       "      <th>Date_Submitted</th>\n",
       "      <th></th>\n",
       "      <th></th>\n",
       "      <th></th>\n",
       "      <th></th>\n",
       "      <th></th>\n",
       "      <th></th>\n",
       "      <th></th>\n",
       "      <th></th>\n",
       "      <th></th>\n",
       "      <th></th>\n",
       "      <th></th>\n",
       "      <th></th>\n",
       "    </tr>\n",
       "  </thead>\n",
       "  <tbody>\n",
       "    <tr>\n",
       "      <th>2019-08-21</th>\n",
       "      <td>4</td>\n",
       "      <td>4</td>\n",
       "      <td>4</td>\n",
       "      <td>4</td>\n",
       "      <td>4</td>\n",
       "      <td>4</td>\n",
       "      <td>4</td>\n",
       "      <td>4</td>\n",
       "      <td>4</td>\n",
       "      <td>4</td>\n",
       "      <td>4</td>\n",
       "      <td>4</td>\n",
       "    </tr>\n",
       "    <tr>\n",
       "      <th>2020-03-26</th>\n",
       "      <td>3</td>\n",
       "      <td>3</td>\n",
       "      <td>3</td>\n",
       "      <td>3</td>\n",
       "      <td>3</td>\n",
       "      <td>3</td>\n",
       "      <td>3</td>\n",
       "      <td>3</td>\n",
       "      <td>3</td>\n",
       "      <td>3</td>\n",
       "      <td>3</td>\n",
       "      <td>3</td>\n",
       "    </tr>\n",
       "    <tr>\n",
       "      <th>2020-06-26</th>\n",
       "      <td>3</td>\n",
       "      <td>3</td>\n",
       "      <td>3</td>\n",
       "      <td>3</td>\n",
       "      <td>3</td>\n",
       "      <td>3</td>\n",
       "      <td>3</td>\n",
       "      <td>3</td>\n",
       "      <td>3</td>\n",
       "      <td>3</td>\n",
       "      <td>3</td>\n",
       "      <td>3</td>\n",
       "    </tr>\n",
       "    <tr>\n",
       "      <th>2020-06-29</th>\n",
       "      <td>3</td>\n",
       "      <td>3</td>\n",
       "      <td>3</td>\n",
       "      <td>3</td>\n",
       "      <td>3</td>\n",
       "      <td>3</td>\n",
       "      <td>3</td>\n",
       "      <td>3</td>\n",
       "      <td>3</td>\n",
       "      <td>3</td>\n",
       "      <td>3</td>\n",
       "      <td>3</td>\n",
       "    </tr>\n",
       "    <tr>\n",
       "      <th>2021-09-13</th>\n",
       "      <td>3</td>\n",
       "      <td>3</td>\n",
       "      <td>3</td>\n",
       "      <td>3</td>\n",
       "      <td>3</td>\n",
       "      <td>3</td>\n",
       "      <td>3</td>\n",
       "      <td>3</td>\n",
       "      <td>3</td>\n",
       "      <td>3</td>\n",
       "      <td>3</td>\n",
       "      <td>3</td>\n",
       "    </tr>\n",
       "  </tbody>\n",
       "</table>\n",
       "</div>"
      ],
      "text/plain": [
       "                Workout_Date  Activity_Type  Calories_Burned  Distance  \\\n",
       "Date_Submitted                                                           \n",
       "2019-08-21                 4              4                4         4   \n",
       "2020-03-26                 3              3                3         3   \n",
       "2020-06-26                 3              3                3         3   \n",
       "2020-06-29                 3              3                3         3   \n",
       "2021-09-13                 3              3                3         3   \n",
       "\n",
       "                Workout_Time  Avg_Pace  Max_Pace  Avg_Speed  Max_Speed  \\\n",
       "Date_Submitted                                                           \n",
       "2019-08-21                 4         4         4          4          4   \n",
       "2020-03-26                 3         3         3          3          3   \n",
       "2020-06-26                 3         3         3          3          3   \n",
       "2020-06-29                 3         3         3          3          3   \n",
       "2021-09-13                 3         3         3          3          3   \n",
       "\n",
       "                Avg_Heart_Rate  Steps  Calculated  \n",
       "Date_Submitted                                     \n",
       "2019-08-21                   4      4           4  \n",
       "2020-03-26                   3      3           3  \n",
       "2020-06-26                   3      3           3  \n",
       "2020-06-29                   3      3           3  \n",
       "2021-09-13                   3      3           3  "
      ]
     },
     "execution_count": 141,
     "metadata": {},
     "output_type": "execute_result"
    }
   ],
   "source": [
    "group.head()"
   ]
  },
  {
   "cell_type": "markdown",
   "metadata": {},
   "source": [
    "### correlation matrix / Pairplot\n"
   ]
  },
  {
   "cell_type": "code",
   "execution_count": 142,
   "metadata": {},
   "outputs": [
    {
     "data": {
      "text/html": [
       "<div>\n",
       "<style scoped>\n",
       "    .dataframe tbody tr th:only-of-type {\n",
       "        vertical-align: middle;\n",
       "    }\n",
       "\n",
       "    .dataframe tbody tr th {\n",
       "        vertical-align: top;\n",
       "    }\n",
       "\n",
       "    .dataframe thead th {\n",
       "        text-align: right;\n",
       "    }\n",
       "</style>\n",
       "<table border=\"1\" class=\"dataframe\">\n",
       "  <thead>\n",
       "    <tr style=\"text-align: right;\">\n",
       "      <th></th>\n",
       "      <th>Date_Submitted</th>\n",
       "      <th>Workout_Date</th>\n",
       "      <th>Activity_Type</th>\n",
       "      <th>Calories_Burned</th>\n",
       "      <th>Distance</th>\n",
       "      <th>Workout_Time</th>\n",
       "      <th>Avg_Pace</th>\n",
       "      <th>Max_Pace</th>\n",
       "      <th>Avg_Speed</th>\n",
       "      <th>Max_Speed</th>\n",
       "      <th>Avg_Heart_Rate</th>\n",
       "      <th>Steps</th>\n",
       "      <th>Calculated</th>\n",
       "    </tr>\n",
       "  </thead>\n",
       "  <tbody>\n",
       "    <tr>\n",
       "      <th>0</th>\n",
       "      <td>2022-05-11</td>\n",
       "      <td>2022-05-11</td>\n",
       "      <td>Run</td>\n",
       "      <td>656</td>\n",
       "      <td>5.00</td>\n",
       "      <td>2989</td>\n",
       "      <td>9.96</td>\n",
       "      <td>1.08</td>\n",
       "      <td>6.03</td>\n",
       "      <td>55.39</td>\n",
       "      <td>146.0</td>\n",
       "      <td>7917.0</td>\n",
       "      <td>49.816667</td>\n",
       "    </tr>\n",
       "    <tr>\n",
       "      <th>1</th>\n",
       "      <td>2022-05-09</td>\n",
       "      <td>2022-05-09</td>\n",
       "      <td>Run</td>\n",
       "      <td>391</td>\n",
       "      <td>3.11</td>\n",
       "      <td>1802</td>\n",
       "      <td>9.66</td>\n",
       "      <td>0.94</td>\n",
       "      <td>6.21</td>\n",
       "      <td>64.11</td>\n",
       "      <td>140.0</td>\n",
       "      <td>4782.0</td>\n",
       "      <td>30.033333</td>\n",
       "    </tr>\n",
       "  </tbody>\n",
       "</table>\n",
       "</div>"
      ],
      "text/plain": [
       "  Date_Submitted Workout_Date Activity_Type  Calories_Burned  Distance  \\\n",
       "0     2022-05-11   2022-05-11           Run              656      5.00   \n",
       "1     2022-05-09   2022-05-09           Run              391      3.11   \n",
       "\n",
       "   Workout_Time  Avg_Pace  Max_Pace  Avg_Speed  Max_Speed  Avg_Heart_Rate  \\\n",
       "0          2989      9.96      1.08       6.03      55.39           146.0   \n",
       "1          1802      9.66      0.94       6.21      64.11           140.0   \n",
       "\n",
       "    Steps  Calculated  \n",
       "0  7917.0   49.816667  \n",
       "1  4782.0   30.033333  "
      ]
     },
     "execution_count": 142,
     "metadata": {},
     "output_type": "execute_result"
    }
   ],
   "source": [
    "df.head(2)"
   ]
  },
  {
   "cell_type": "code",
   "execution_count": 143,
   "metadata": {},
   "outputs": [
    {
     "data": {
      "text/plain": [
       "Index(['Date_Submitted', 'Workout_Date', 'Activity_Type', 'Calories_Burned',\n",
       "       'Distance', 'Workout_Time', 'Avg_Pace', 'Max_Pace', 'Avg_Speed',\n",
       "       'Max_Speed', 'Avg_Heart_Rate', 'Steps', 'Calculated'],\n",
       "      dtype='object')"
      ]
     },
     "execution_count": 143,
     "metadata": {},
     "output_type": "execute_result"
    }
   ],
   "source": [
    "df.columns\n"
   ]
  },
  {
   "cell_type": "markdown",
   "metadata": {},
   "source": [
    "### Heatmap - correlation\n"
   ]
  },
  {
   "cell_type": "code",
   "execution_count": 144,
   "metadata": {},
   "outputs": [
    {
     "data": {
      "text/html": [
       "<div>\n",
       "<style scoped>\n",
       "    .dataframe tbody tr th:only-of-type {\n",
       "        vertical-align: middle;\n",
       "    }\n",
       "\n",
       "    .dataframe tbody tr th {\n",
       "        vertical-align: top;\n",
       "    }\n",
       "\n",
       "    .dataframe thead th {\n",
       "        text-align: right;\n",
       "    }\n",
       "</style>\n",
       "<table border=\"1\" class=\"dataframe\">\n",
       "  <thead>\n",
       "    <tr style=\"text-align: right;\">\n",
       "      <th></th>\n",
       "      <th>Calories_Burned</th>\n",
       "      <th>Distance</th>\n",
       "      <th>Workout_Time</th>\n",
       "      <th>Avg_Pace</th>\n",
       "      <th>Max_Pace</th>\n",
       "      <th>Avg_Speed</th>\n",
       "      <th>Max_Speed</th>\n",
       "      <th>Avg_Heart_Rate</th>\n",
       "      <th>Steps</th>\n",
       "      <th>Calculated</th>\n",
       "    </tr>\n",
       "  </thead>\n",
       "  <tbody>\n",
       "    <tr>\n",
       "      <th>Calories_Burned</th>\n",
       "      <td>1.000000</td>\n",
       "      <td>0.975330</td>\n",
       "      <td>0.972453</td>\n",
       "      <td>0.287215</td>\n",
       "      <td>-0.125555</td>\n",
       "      <td>-0.278696</td>\n",
       "      <td>0.055033</td>\n",
       "      <td>0.162761</td>\n",
       "      <td>0.966837</td>\n",
       "      <td>0.972453</td>\n",
       "    </tr>\n",
       "    <tr>\n",
       "      <th>Distance</th>\n",
       "      <td>0.975330</td>\n",
       "      <td>1.000000</td>\n",
       "      <td>0.982702</td>\n",
       "      <td>0.243941</td>\n",
       "      <td>-0.117924</td>\n",
       "      <td>-0.239124</td>\n",
       "      <td>0.068948</td>\n",
       "      <td>0.215664</td>\n",
       "      <td>0.985392</td>\n",
       "      <td>0.982702</td>\n",
       "    </tr>\n",
       "    <tr>\n",
       "      <th>Workout_Time</th>\n",
       "      <td>0.972453</td>\n",
       "      <td>0.982702</td>\n",
       "      <td>1.000000</td>\n",
       "      <td>0.388297</td>\n",
       "      <td>-0.095049</td>\n",
       "      <td>-0.377374</td>\n",
       "      <td>0.085442</td>\n",
       "      <td>0.217432</td>\n",
       "      <td>0.989893</td>\n",
       "      <td>1.000000</td>\n",
       "    </tr>\n",
       "    <tr>\n",
       "      <th>Avg_Pace</th>\n",
       "      <td>0.287215</td>\n",
       "      <td>0.243941</td>\n",
       "      <td>0.388297</td>\n",
       "      <td>1.000000</td>\n",
       "      <td>0.062287</td>\n",
       "      <td>-0.989500</td>\n",
       "      <td>0.060845</td>\n",
       "      <td>0.169652</td>\n",
       "      <td>0.345034</td>\n",
       "      <td>0.388297</td>\n",
       "    </tr>\n",
       "    <tr>\n",
       "      <th>Max_Pace</th>\n",
       "      <td>-0.125555</td>\n",
       "      <td>-0.117924</td>\n",
       "      <td>-0.095049</td>\n",
       "      <td>0.062287</td>\n",
       "      <td>1.000000</td>\n",
       "      <td>-0.074986</td>\n",
       "      <td>-0.082557</td>\n",
       "      <td>0.092156</td>\n",
       "      <td>-0.122897</td>\n",
       "      <td>-0.095049</td>\n",
       "    </tr>\n",
       "    <tr>\n",
       "      <th>Avg_Speed</th>\n",
       "      <td>-0.278696</td>\n",
       "      <td>-0.239124</td>\n",
       "      <td>-0.377374</td>\n",
       "      <td>-0.989500</td>\n",
       "      <td>-0.074986</td>\n",
       "      <td>1.000000</td>\n",
       "      <td>-0.059262</td>\n",
       "      <td>-0.183847</td>\n",
       "      <td>-0.340619</td>\n",
       "      <td>-0.377374</td>\n",
       "    </tr>\n",
       "    <tr>\n",
       "      <th>Max_Speed</th>\n",
       "      <td>0.055033</td>\n",
       "      <td>0.068948</td>\n",
       "      <td>0.085442</td>\n",
       "      <td>0.060845</td>\n",
       "      <td>-0.082557</td>\n",
       "      <td>-0.059262</td>\n",
       "      <td>1.000000</td>\n",
       "      <td>0.094448</td>\n",
       "      <td>0.086298</td>\n",
       "      <td>0.085442</td>\n",
       "    </tr>\n",
       "    <tr>\n",
       "      <th>Avg_Heart_Rate</th>\n",
       "      <td>0.162761</td>\n",
       "      <td>0.215664</td>\n",
       "      <td>0.217432</td>\n",
       "      <td>0.169652</td>\n",
       "      <td>0.092156</td>\n",
       "      <td>-0.183847</td>\n",
       "      <td>0.094448</td>\n",
       "      <td>1.000000</td>\n",
       "      <td>0.217389</td>\n",
       "      <td>0.217432</td>\n",
       "    </tr>\n",
       "    <tr>\n",
       "      <th>Steps</th>\n",
       "      <td>0.966837</td>\n",
       "      <td>0.985392</td>\n",
       "      <td>0.989893</td>\n",
       "      <td>0.345034</td>\n",
       "      <td>-0.122897</td>\n",
       "      <td>-0.340619</td>\n",
       "      <td>0.086298</td>\n",
       "      <td>0.217389</td>\n",
       "      <td>1.000000</td>\n",
       "      <td>0.989893</td>\n",
       "    </tr>\n",
       "    <tr>\n",
       "      <th>Calculated</th>\n",
       "      <td>0.972453</td>\n",
       "      <td>0.982702</td>\n",
       "      <td>1.000000</td>\n",
       "      <td>0.388297</td>\n",
       "      <td>-0.095049</td>\n",
       "      <td>-0.377374</td>\n",
       "      <td>0.085442</td>\n",
       "      <td>0.217432</td>\n",
       "      <td>0.989893</td>\n",
       "      <td>1.000000</td>\n",
       "    </tr>\n",
       "  </tbody>\n",
       "</table>\n",
       "</div>"
      ],
      "text/plain": [
       "                 Calories_Burned  Distance  Workout_Time  Avg_Pace  Max_Pace  \\\n",
       "Calories_Burned         1.000000  0.975330      0.972453  0.287215 -0.125555   \n",
       "Distance                0.975330  1.000000      0.982702  0.243941 -0.117924   \n",
       "Workout_Time            0.972453  0.982702      1.000000  0.388297 -0.095049   \n",
       "Avg_Pace                0.287215  0.243941      0.388297  1.000000  0.062287   \n",
       "Max_Pace               -0.125555 -0.117924     -0.095049  0.062287  1.000000   \n",
       "Avg_Speed              -0.278696 -0.239124     -0.377374 -0.989500 -0.074986   \n",
       "Max_Speed               0.055033  0.068948      0.085442  0.060845 -0.082557   \n",
       "Avg_Heart_Rate          0.162761  0.215664      0.217432  0.169652  0.092156   \n",
       "Steps                   0.966837  0.985392      0.989893  0.345034 -0.122897   \n",
       "Calculated              0.972453  0.982702      1.000000  0.388297 -0.095049   \n",
       "\n",
       "                 Avg_Speed  Max_Speed  Avg_Heart_Rate     Steps  Calculated  \n",
       "Calories_Burned  -0.278696   0.055033        0.162761  0.966837    0.972453  \n",
       "Distance         -0.239124   0.068948        0.215664  0.985392    0.982702  \n",
       "Workout_Time     -0.377374   0.085442        0.217432  0.989893    1.000000  \n",
       "Avg_Pace         -0.989500   0.060845        0.169652  0.345034    0.388297  \n",
       "Max_Pace         -0.074986  -0.082557        0.092156 -0.122897   -0.095049  \n",
       "Avg_Speed         1.000000  -0.059262       -0.183847 -0.340619   -0.377374  \n",
       "Max_Speed        -0.059262   1.000000        0.094448  0.086298    0.085442  \n",
       "Avg_Heart_Rate   -0.183847   0.094448        1.000000  0.217389    0.217432  \n",
       "Steps            -0.340619   0.086298        0.217389  1.000000    0.989893  \n",
       "Calculated       -0.377374   0.085442        0.217432  0.989893    1.000000  "
      ]
     },
     "execution_count": 144,
     "metadata": {},
     "output_type": "execute_result"
    }
   ],
   "source": [
    "# show the correlation matrix\n",
    "df.corr()\n"
   ]
  },
  {
   "cell_type": "code",
   "execution_count": 145,
   "metadata": {},
   "outputs": [
    {
     "data": {
      "image/png": "[encoded data removed]",
      "text/plain": [
       "<Figure size 432x288 with 2 Axes>"
      ]
     },
     "metadata": {},
     "output_type": "display_data"
    }
   ],
   "source": [
    "# show the correlation heatmap\n",
    "\n",
    "# library\n",
    "import seaborn as sns\n",
    "import pandas as pd\n",
    "import numpy as np\n",
    "\n",
    "# Default heatmap\n",
    "p1 = sns.heatmap(\n",
    "    df\n",
    "    .corr(),\n",
    "    annot=True,\n",
    "    annot_kws={\"size\": 7}\n",
    ")\n"
   ]
  },
  {
   "cell_type": "code",
   "execution_count": 146,
   "metadata": {},
   "outputs": [
    {
     "data": {
      "text/plain": [
       "Index(['Date_Submitted', 'Workout_Date', 'Activity_Type', 'Calories_Burned',\n",
       "       'Distance', 'Workout_Time', 'Avg_Pace', 'Max_Pace', 'Avg_Speed',\n",
       "       'Max_Speed', 'Avg_Heart_Rate', 'Steps', 'Calculated'],\n",
       "      dtype='object')"
      ]
     },
     "execution_count": 146,
     "metadata": {},
     "output_type": "execute_result"
    }
   ],
   "source": [
    "# show columns\n",
    "df.columns\n"
   ]
  },
  {
   "cell_type": "code",
   "execution_count": 147,
   "metadata": {},
   "outputs": [
    {
     "data": {
      "image/png": "[encoded data removed]",
      "text/plain": [
       "<Figure size 432x288 with 1 Axes>"
      ]
     },
     "metadata": {},
     "output_type": "display_data"
    }
   ],
   "source": [
    "# Linear regression b/w steps count and movement intensity\n",
    "import seaborn as sns\n",
    "import matplotlib.pyplot as plt\n",
    "\n",
    "# plot\n",
    "sns.regplot(x=df[\"Calculated\"], y=df[\"Calories_Burned\"],\n",
    "            line_kws={\"color\": \"r\", \"alpha\": 0.7, \"lw\": 5})\n",
    "plt.show()\n"
   ]
  },
  {
   "cell_type": "code",
   "execution_count": 148,
   "metadata": {},
   "outputs": [
    {
     "data": {
      "image/png": "[encoded data removed]",
      "text/plain": [
       "<Figure size 432x288 with 1 Axes>"
      ]
     },
     "metadata": {},
     "output_type": "display_data"
    }
   ],
   "source": [
    "# Linear regression b/w steps count and movement intensity\n",
    "import seaborn as sns\n",
    "import matplotlib.pyplot as plt\n",
    "\n",
    "# plot\n",
    "sns.regplot(x=df[\"Avg_Speed\"], y=df[\"Calories_Burned\"],\n",
    "            line_kws={\"color\": \"r\", \"alpha\": 0.7, \"lw\": 5})\n",
    "plt.show()\n"
   ]
  },
  {
   "cell_type": "code",
   "execution_count": 149,
   "metadata": {},
   "outputs": [
    {
     "data": {
      "text/plain": [
       "Index(['Date_Submitted', 'Workout_Date', 'Activity_Type', 'Calories_Burned',\n",
       "       'Distance', 'Workout_Time', 'Avg_Pace', 'Max_Pace', 'Avg_Speed',\n",
       "       'Max_Speed', 'Avg_Heart_Rate', 'Steps', 'Calculated'],\n",
       "      dtype='object')"
      ]
     },
     "execution_count": 149,
     "metadata": {},
     "output_type": "execute_result"
    }
   ],
   "source": [
    "df.columns"
   ]
  },
  {
   "cell_type": "code",
   "execution_count": 150,
   "metadata": {},
   "outputs": [
    {
     "data": {
      "text/plain": [
       "<AxesSubplot:>"
      ]
     },
     "execution_count": 150,
     "metadata": {},
     "output_type": "execute_result"
    },
    {
     "data": {
      "image/png": "[encoded data removed]",
      "text/plain": [
       "<Figure size 432x288 with 1 Axes>"
      ]
     },
     "metadata": {},
     "output_type": "display_data"
    }
   ],
   "source": [
    "mask1 = df['Steps'] == 0  # get the rows where steps count is 0\n",
    "df[~mask1]['Steps'].hist(bins=100)\n"
   ]
  },
  {
   "cell_type": "code",
   "execution_count": 151,
   "metadata": {},
   "outputs": [
    {
     "data": {
      "text/html": [
       "<div>\n",
       "<style scoped>\n",
       "    .dataframe tbody tr th:only-of-type {\n",
       "        vertical-align: middle;\n",
       "    }\n",
       "\n",
       "    .dataframe tbody tr th {\n",
       "        vertical-align: top;\n",
       "    }\n",
       "\n",
       "    .dataframe thead th {\n",
       "        text-align: right;\n",
       "    }\n",
       "</style>\n",
       "<table border=\"1\" class=\"dataframe\">\n",
       "  <thead>\n",
       "    <tr style=\"text-align: right;\">\n",
       "      <th></th>\n",
       "      <th>Calories_Burned</th>\n",
       "      <th>Distance</th>\n",
       "      <th>Workout_Time</th>\n",
       "      <th>Avg_Pace</th>\n",
       "      <th>Max_Pace</th>\n",
       "      <th>Avg_Speed</th>\n",
       "      <th>Max_Speed</th>\n",
       "      <th>Avg_Heart_Rate</th>\n",
       "      <th>Steps</th>\n",
       "      <th>Calculated</th>\n",
       "    </tr>\n",
       "  </thead>\n",
       "  <tbody>\n",
       "    <tr>\n",
       "      <th>Calories_Burned</th>\n",
       "      <td>1.000000</td>\n",
       "      <td>0.975330</td>\n",
       "      <td>0.972453</td>\n",
       "      <td>0.287215</td>\n",
       "      <td>-0.125555</td>\n",
       "      <td>-0.278696</td>\n",
       "      <td>0.055033</td>\n",
       "      <td>0.162761</td>\n",
       "      <td>0.966837</td>\n",
       "      <td>0.972453</td>\n",
       "    </tr>\n",
       "    <tr>\n",
       "      <th>Distance</th>\n",
       "      <td>0.975330</td>\n",
       "      <td>1.000000</td>\n",
       "      <td>0.982702</td>\n",
       "      <td>0.243941</td>\n",
       "      <td>-0.117924</td>\n",
       "      <td>-0.239124</td>\n",
       "      <td>0.068948</td>\n",
       "      <td>0.215664</td>\n",
       "      <td>0.985392</td>\n",
       "      <td>0.982702</td>\n",
       "    </tr>\n",
       "    <tr>\n",
       "      <th>Workout_Time</th>\n",
       "      <td>0.972453</td>\n",
       "      <td>0.982702</td>\n",
       "      <td>1.000000</td>\n",
       "      <td>0.388297</td>\n",
       "      <td>-0.095049</td>\n",
       "      <td>-0.377374</td>\n",
       "      <td>0.085442</td>\n",
       "      <td>0.217432</td>\n",
       "      <td>0.989893</td>\n",
       "      <td>1.000000</td>\n",
       "    </tr>\n",
       "    <tr>\n",
       "      <th>Avg_Pace</th>\n",
       "      <td>0.287215</td>\n",
       "      <td>0.243941</td>\n",
       "      <td>0.388297</td>\n",
       "      <td>1.000000</td>\n",
       "      <td>0.062287</td>\n",
       "      <td>-0.989500</td>\n",
       "      <td>0.060845</td>\n",
       "      <td>0.169652</td>\n",
       "      <td>0.345034</td>\n",
       "      <td>0.388297</td>\n",
       "    </tr>\n",
       "    <tr>\n",
       "      <th>Max_Pace</th>\n",
       "      <td>-0.125555</td>\n",
       "      <td>-0.117924</td>\n",
       "      <td>-0.095049</td>\n",
       "      <td>0.062287</td>\n",
       "      <td>1.000000</td>\n",
       "      <td>-0.074986</td>\n",
       "      <td>-0.082557</td>\n",
       "      <td>0.092156</td>\n",
       "      <td>-0.122897</td>\n",
       "      <td>-0.095049</td>\n",
       "    </tr>\n",
       "    <tr>\n",
       "      <th>Avg_Speed</th>\n",
       "      <td>-0.278696</td>\n",
       "      <td>-0.239124</td>\n",
       "      <td>-0.377374</td>\n",
       "      <td>-0.989500</td>\n",
       "      <td>-0.074986</td>\n",
       "      <td>1.000000</td>\n",
       "      <td>-0.059262</td>\n",
       "      <td>-0.183847</td>\n",
       "      <td>-0.340619</td>\n",
       "      <td>-0.377374</td>\n",
       "    </tr>\n",
       "    <tr>\n",
       "      <th>Max_Speed</th>\n",
       "      <td>0.055033</td>\n",
       "      <td>0.068948</td>\n",
       "      <td>0.085442</td>\n",
       "      <td>0.060845</td>\n",
       "      <td>-0.082557</td>\n",
       "      <td>-0.059262</td>\n",
       "      <td>1.000000</td>\n",
       "      <td>0.094448</td>\n",
       "      <td>0.086298</td>\n",
       "      <td>0.085442</td>\n",
       "    </tr>\n",
       "    <tr>\n",
       "      <th>Avg_Heart_Rate</th>\n",
       "      <td>0.162761</td>\n",
       "      <td>0.215664</td>\n",
       "      <td>0.217432</td>\n",
       "      <td>0.169652</td>\n",
       "      <td>0.092156</td>\n",
       "      <td>-0.183847</td>\n",
       "      <td>0.094448</td>\n",
       "      <td>1.000000</td>\n",
       "      <td>0.217389</td>\n",
       "      <td>0.217432</td>\n",
       "    </tr>\n",
       "    <tr>\n",
       "      <th>Steps</th>\n",
       "      <td>0.966837</td>\n",
       "      <td>0.985392</td>\n",
       "      <td>0.989893</td>\n",
       "      <td>0.345034</td>\n",
       "      <td>-0.122897</td>\n",
       "      <td>-0.340619</td>\n",
       "      <td>0.086298</td>\n",
       "      <td>0.217389</td>\n",
       "      <td>1.000000</td>\n",
       "      <td>0.989893</td>\n",
       "    </tr>\n",
       "    <tr>\n",
       "      <th>Calculated</th>\n",
       "      <td>0.972453</td>\n",
       "      <td>0.982702</td>\n",
       "      <td>1.000000</td>\n",
       "      <td>0.388297</td>\n",
       "      <td>-0.095049</td>\n",
       "      <td>-0.377374</td>\n",
       "      <td>0.085442</td>\n",
       "      <td>0.217432</td>\n",
       "      <td>0.989893</td>\n",
       "      <td>1.000000</td>\n",
       "    </tr>\n",
       "  </tbody>\n",
       "</table>\n",
       "</div>"
      ],
      "text/plain": [
       "                 Calories_Burned  Distance  Workout_Time  Avg_Pace  Max_Pace  \\\n",
       "Calories_Burned         1.000000  0.975330      0.972453  0.287215 -0.125555   \n",
       "Distance                0.975330  1.000000      0.982702  0.243941 -0.117924   \n",
       "Workout_Time            0.972453  0.982702      1.000000  0.388297 -0.095049   \n",
       "Avg_Pace                0.287215  0.243941      0.388297  1.000000  0.062287   \n",
       "Max_Pace               -0.125555 -0.117924     -0.095049  0.062287  1.000000   \n",
       "Avg_Speed              -0.278696 -0.239124     -0.377374 -0.989500 -0.074986   \n",
       "Max_Speed               0.055033  0.068948      0.085442  0.060845 -0.082557   \n",
       "Avg_Heart_Rate          0.162761  0.215664      0.217432  0.169652  0.092156   \n",
       "Steps                   0.966837  0.985392      0.989893  0.345034 -0.122897   \n",
       "Calculated              0.972453  0.982702      1.000000  0.388297 -0.095049   \n",
       "\n",
       "                 Avg_Speed  Max_Speed  Avg_Heart_Rate     Steps  Calculated  \n",
       "Calories_Burned  -0.278696   0.055033        0.162761  0.966837    0.972453  \n",
       "Distance         -0.239124   0.068948        0.215664  0.985392    0.982702  \n",
       "Workout_Time     -0.377374   0.085442        0.217432  0.989893    1.000000  \n",
       "Avg_Pace         -0.989500   0.060845        0.169652  0.345034    0.388297  \n",
       "Max_Pace         -0.074986  -0.082557        0.092156 -0.122897   -0.095049  \n",
       "Avg_Speed         1.000000  -0.059262       -0.183847 -0.340619   -0.377374  \n",
       "Max_Speed        -0.059262   1.000000        0.094448  0.086298    0.085442  \n",
       "Avg_Heart_Rate   -0.183847   0.094448        1.000000  0.217389    0.217432  \n",
       "Steps            -0.340619   0.086298        0.217389  1.000000    0.989893  \n",
       "Calculated       -0.377374   0.085442        0.217432  0.989893    1.000000  "
      ]
     },
     "execution_count": 151,
     "metadata": {},
     "output_type": "execute_result"
    }
   ],
   "source": [
    "df2 = df[['Calories_Burned',\n",
    "       'Distance', 'Workout_Time', 'Avg_Pace', 'Max_Pace', 'Avg_Speed',\n",
    "       'Max_Speed', 'Avg_Heart_Rate', 'Steps',\n",
    "       'Calculated']]\n",
    "df2.corr()"
   ]
  },
  {
   "cell_type": "markdown",
   "metadata": {},
   "source": [
    "### ML"
   ]
  },
  {
   "cell_type": "code",
   "execution_count": 152,
   "metadata": {},
   "outputs": [],
   "source": [
    "from sklearn.preprocessing import StandardScaler\n",
    "from sklearn.linear_model import LogisticRegression\n",
    "from sklearn.linear_model import LinearRegression\n",
    "from sklearn import metrics"
   ]
  },
  {
   "cell_type": "code",
   "execution_count": 153,
   "metadata": {},
   "outputs": [],
   "source": [
    "from sklearn.model_selection import train_test_split"
   ]
  },
  {
   "cell_type": "code",
   "execution_count": 154,
   "metadata": {},
   "outputs": [
    {
     "data": {
      "text/plain": [
       "Calories_Burned    0\n",
       "Distance           0\n",
       "Workout_Time       0\n",
       "Avg_Pace           0\n",
       "Max_Pace           0\n",
       "Avg_Speed          0\n",
       "Max_Speed          0\n",
       "Avg_Heart_Rate     0\n",
       "Steps              0\n",
       "Calculated         0\n",
       "dtype: int64"
      ]
     },
     "execution_count": 154,
     "metadata": {},
     "output_type": "execute_result"
    }
   ],
   "source": [
    "#Check for null values before testing/training\n",
    "df2.isnull().sum()"
   ]
  },
  {
   "cell_type": "code",
   "execution_count": 155,
   "metadata": {},
   "outputs": [],
   "source": [
    "X = df2.loc[:, ['Distance']].values"
   ]
  },
  {
   "cell_type": "code",
   "execution_count": 156,
   "metadata": {},
   "outputs": [
    {
     "data": {
      "text/plain": [
       "(488, 1)"
      ]
     },
     "execution_count": 156,
     "metadata": {},
     "output_type": "execute_result"
    }
   ],
   "source": [
    "# verify the shape of the array (rows by a single column)\n",
    "X.shape"
   ]
  },
  {
   "cell_type": "code",
   "execution_count": 157,
   "metadata": {},
   "outputs": [],
   "source": [
    "y = df.loc[:, 'Avg_Pace'].values"
   ]
  },
  {
   "cell_type": "code",
   "execution_count": 158,
   "metadata": {},
   "outputs": [
    {
     "data": {
      "text/plain": [
       "(488,)"
      ]
     },
     "execution_count": 158,
     "metadata": {},
     "output_type": "execute_result"
    }
   ],
   "source": [
    "#verify the shape of the y array\n",
    "y.shape"
   ]
  },
  {
   "cell_type": "code",
   "execution_count": 159,
   "metadata": {},
   "outputs": [],
   "source": [
    "#load the linear regression value\n",
    "reg = LinearRegression(fit_intercept=True)"
   ]
  },
  {
   "cell_type": "code",
   "execution_count": 160,
   "metadata": {},
   "outputs": [
    {
     "data": {
      "text/plain": [
       "LinearRegression()"
      ]
     },
     "execution_count": 160,
     "metadata": {},
     "output_type": "execute_result"
    }
   ],
   "source": [
    "#set our fit with our arrays\n",
    "reg.fit(X,y)"
   ]
  },
  {
   "cell_type": "code",
   "execution_count": 161,
   "metadata": {},
   "outputs": [
    {
     "data": {
      "text/plain": [
       "array([9.67999935])"
      ]
     },
     "execution_count": 161,
     "metadata": {},
     "output_type": "execute_result"
    }
   ],
   "source": [
    "reg.predict(X[0].reshape(-1,1))"
   ]
  },
  {
   "cell_type": "code",
   "execution_count": 162,
   "metadata": {},
   "outputs": [
    {
     "data": {
      "text/plain": [
       "array([9.67999935, 9.47037242])"
      ]
     },
     "execution_count": 162,
     "metadata": {},
     "output_type": "execute_result"
    }
   ],
   "source": [
    "reg.predict(X[0:2])"
   ]
  },
  {
   "cell_type": "code",
   "execution_count": 163,
   "metadata": {},
   "outputs": [
    {
     "name": "stdout",
     "output_type": "stream",
     "text": [
      "0.05950704696345055\n"
     ]
    }
   ],
   "source": [
    "score = reg.score(X, y)\n",
    "print(score)"
   ]
  },
  {
   "cell_type": "code",
   "execution_count": 164,
   "metadata": {},
   "outputs": [
    {
     "data": {
      "text/plain": [
       "array([0.11091372])"
      ]
     },
     "execution_count": 164,
     "metadata": {},
     "output_type": "execute_result"
    }
   ],
   "source": [
    "reg.coef_"
   ]
  },
  {
   "cell_type": "code",
   "execution_count": 165,
   "metadata": {},
   "outputs": [
    {
     "data": {
      "text/plain": [
       "9.12543074462507"
      ]
     },
     "execution_count": 165,
     "metadata": {},
     "output_type": "execute_result"
    }
   ],
   "source": [
    "reg.intercept_"
   ]
  },
  {
   "cell_type": "code",
   "execution_count": 166,
   "metadata": {},
   "outputs": [
    {
     "name": "stdout",
     "output_type": "stream",
     "text": [
      "formula: y = 0.11x + 9.13\n"
     ]
    }
   ],
   "source": [
    "m = reg.coef_[0]\n",
    "\n",
    "b = reg.intercept_\n",
    "\n",
    "# following slope intercept form \n",
    "print(\"formula: y = {:.2f}x + {:.2f}\".format(m, b) )"
   ]
  },
  {
   "cell_type": "code",
   "execution_count": 167,
   "metadata": {},
   "outputs": [
    {
     "data": {
      "image/png": "[encoded data removed]",
      "text/plain": [
       "<Figure size 720x504 with 1 Axes>"
      ]
     },
     "metadata": {},
     "output_type": "display_data"
    }
   ],
   "source": [
    "fig, ax = plt.subplots(nrows = 1, ncols = 1, figsize = (10,7));\n",
    "\n",
    "ax.scatter(X, y, color='black');\n",
    "ax.plot(X, reg.predict(X), color='red',linewidth=3);\n",
    "ax.grid(True,\n",
    "        axis = 'both',\n",
    "        zorder = 0,\n",
    "        linestyle = ':',\n",
    "        color = 'k')\n",
    "ax.tick_params(labelsize = 18)\n",
    "ax.set_xlabel('Distance', fontsize = 24)\n",
    "ax.set_ylabel('Avg_Pace', fontsize = 24)\n",
    "ax.set_title(\"Linear Regression Line with Intercept y = {:.2f}x + {:.2f} (R2 = {:.2f})\".format(m, b, score), fontsize = 16 )\n",
    "fig.tight_layout()\n",
    "#fig.savefig('images/linearregression', dpi = 300)"
   ]
  },
  {
   "cell_type": "markdown",
   "metadata": {
    "jp-MarkdownHeadingCollapsed": true,
    "tags": []
   },
   "source": [
    "### Plotting with and without intercept"
   ]
  },
  {
   "cell_type": "code",
   "execution_count": 168,
   "metadata": {},
   "outputs": [],
   "source": [
    "# Model with Intercept (like earlier in notebook)\n",
    "reg_inter = LinearRegression(fit_intercept=True)\n",
    "reg_inter.fit(X,y)\n",
    "predictions_inter = reg_inter.predict(X)\n",
    "score_inter = reg_inter.score(X, y)"
   ]
  },
  {
   "cell_type": "code",
   "execution_count": 169,
   "metadata": {},
   "outputs": [
    {
     "data": {
      "image/png": "[encoded data removed]",
      "text/plain": [
       "<Figure size 720x504 with 2 Axes>"
      ]
     },
     "metadata": {},
     "output_type": "display_data"
    }
   ],
   "source": [
    "\n",
    "fig, ax = plt.subplots(nrows = 1, ncols = 2, figsize = (10,7));\n",
    "\n",
    "for index, model in enumerate([LinearRegression(fit_intercept=True), LinearRegression(fit_intercept=False)]): \n",
    "    model.fit(X,y)\n",
    "    predictions = model.predict(X)\n",
    "    score = model.score(X, y)\n",
    "    m = model.coef_[0]\n",
    "    b = model.intercept_\n",
    "    \n",
    "    ax[index].scatter(X, y, color='black');\n",
    "    ax[index].plot(X, model.predict(X), color='red',linewidth=3);\n",
    "\n",
    "    ax[index].tick_params(labelsize = 18)\n",
    "    ax[index].set_xlabel('x', fontsize = 18)\n",
    "    ax[index].set_ylabel('y', fontsize = 18)\n",
    "    #ax[index].set_xlim(left = 0, right = 150)\n",
    "   # ax[index].set_ylim(bottom = 0)\n",
    "    \n",
    "    ax[index].text(50, 10, \" y={:.2f}x+{:.2f} (R2={:.2f})\".format(m, b, score), fontsize = 12)\n",
    "\n",
    "ax[0].set_title('fit_intercept = True', fontsize = 20)   \n",
    "ax[1].set_title('fit_intercept = False',  fontsize = 20)    \n",
    "fig.tight_layout()"
   ]
  },
  {
   "cell_type": "markdown",
   "metadata": {
    "jp-MarkdownHeadingCollapsed": true,
    "tags": []
   },
   "source": [
    "### Train Test Split"
   ]
  },
  {
   "cell_type": "code",
   "execution_count": 170,
   "metadata": {},
   "outputs": [
    {
     "data": {
      "text/html": [
       "<div>\n",
       "<style scoped>\n",
       "    .dataframe tbody tr th:only-of-type {\n",
       "        vertical-align: middle;\n",
       "    }\n",
       "\n",
       "    .dataframe tbody tr th {\n",
       "        vertical-align: top;\n",
       "    }\n",
       "\n",
       "    .dataframe thead th {\n",
       "        text-align: right;\n",
       "    }\n",
       "</style>\n",
       "<table border=\"1\" class=\"dataframe\">\n",
       "  <thead>\n",
       "    <tr style=\"text-align: right;\">\n",
       "      <th></th>\n",
       "      <th>Calories_Burned</th>\n",
       "      <th>Distance</th>\n",
       "      <th>Workout_Time</th>\n",
       "      <th>Avg_Pace</th>\n",
       "      <th>Max_Pace</th>\n",
       "      <th>Avg_Speed</th>\n",
       "      <th>Max_Speed</th>\n",
       "      <th>Avg_Heart_Rate</th>\n",
       "      <th>Steps</th>\n",
       "      <th>Calculated</th>\n",
       "    </tr>\n",
       "  </thead>\n",
       "  <tbody>\n",
       "    <tr>\n",
       "      <th>0</th>\n",
       "      <td>656</td>\n",
       "      <td>5.00</td>\n",
       "      <td>2989</td>\n",
       "      <td>9.96</td>\n",
       "      <td>1.08</td>\n",
       "      <td>6.03</td>\n",
       "      <td>55.39</td>\n",
       "      <td>146.00</td>\n",
       "      <td>7917.0</td>\n",
       "      <td>49.816667</td>\n",
       "    </tr>\n",
       "    <tr>\n",
       "      <th>1</th>\n",
       "      <td>391</td>\n",
       "      <td>3.11</td>\n",
       "      <td>1802</td>\n",
       "      <td>9.66</td>\n",
       "      <td>0.94</td>\n",
       "      <td>6.21</td>\n",
       "      <td>64.11</td>\n",
       "      <td>140.00</td>\n",
       "      <td>4782.0</td>\n",
       "      <td>30.033333</td>\n",
       "    </tr>\n",
       "    <tr>\n",
       "      <th>2</th>\n",
       "      <td>313</td>\n",
       "      <td>2.35</td>\n",
       "      <td>1376</td>\n",
       "      <td>9.74</td>\n",
       "      <td>1.03</td>\n",
       "      <td>6.16</td>\n",
       "      <td>58.29</td>\n",
       "      <td>156.00</td>\n",
       "      <td>3622.0</td>\n",
       "      <td>22.933333</td>\n",
       "    </tr>\n",
       "    <tr>\n",
       "      <th>3</th>\n",
       "      <td>348</td>\n",
       "      <td>2.59</td>\n",
       "      <td>1516</td>\n",
       "      <td>9.75</td>\n",
       "      <td>0.43</td>\n",
       "      <td>6.16</td>\n",
       "      <td>140.98</td>\n",
       "      <td>154.00</td>\n",
       "      <td>4043.0</td>\n",
       "      <td>25.266667</td>\n",
       "    </tr>\n",
       "    <tr>\n",
       "      <th>4</th>\n",
       "      <td>430</td>\n",
       "      <td>3.10</td>\n",
       "      <td>1974</td>\n",
       "      <td>10.61</td>\n",
       "      <td>0.00</td>\n",
       "      <td>5.65</td>\n",
       "      <td>0.00</td>\n",
       "      <td>105.74</td>\n",
       "      <td>5197.0</td>\n",
       "      <td>32.900000</td>\n",
       "    </tr>\n",
       "  </tbody>\n",
       "</table>\n",
       "</div>"
      ],
      "text/plain": [
       "   Calories_Burned  Distance  Workout_Time  Avg_Pace  Max_Pace  Avg_Speed  \\\n",
       "0              656      5.00          2989      9.96      1.08       6.03   \n",
       "1              391      3.11          1802      9.66      0.94       6.21   \n",
       "2              313      2.35          1376      9.74      1.03       6.16   \n",
       "3              348      2.59          1516      9.75      0.43       6.16   \n",
       "4              430      3.10          1974     10.61      0.00       5.65   \n",
       "\n",
       "   Max_Speed  Avg_Heart_Rate   Steps  Calculated  \n",
       "0      55.39          146.00  7917.0   49.816667  \n",
       "1      64.11          140.00  4782.0   30.033333  \n",
       "2      58.29          156.00  3622.0   22.933333  \n",
       "3     140.98          154.00  4043.0   25.266667  \n",
       "4       0.00          105.74  5197.0   32.900000  "
      ]
     },
     "execution_count": 170,
     "metadata": {},
     "output_type": "execute_result"
    }
   ],
   "source": [
    "df2.head()"
   ]
  },
  {
   "cell_type": "code",
   "execution_count": 171,
   "metadata": {},
   "outputs": [],
   "source": [
    "X_train, X_test, y_train, y_test = train_test_split(df[['Distance']], df['Avg_Pace'], random_state=0)"
   ]
  },
  {
   "cell_type": "code",
   "execution_count": 172,
   "metadata": {},
   "outputs": [
    {
     "data": {
      "text/plain": [
       "LinearRegression()"
      ]
     },
     "execution_count": 172,
     "metadata": {},
     "output_type": "execute_result"
    }
   ],
   "source": [
    "# Make a linear regression instance\n",
    "reg = LinearRegression(fit_intercept=True)\n",
    "\n",
    "# Train the model on the training set.\n",
    "reg.fit(X_train, y_train)"
   ]
  },
  {
   "cell_type": "code",
   "execution_count": 173,
   "metadata": {},
   "outputs": [
    {
     "name": "stdout",
     "output_type": "stream",
     "text": [
      "0.041604227405819594\n"
     ]
    }
   ],
   "source": [
    "# Test the model on the testing set and evaluate the performance\n",
    "score = reg.score(X_test, y_test)\n",
    "print(score)"
   ]
  },
  {
   "cell_type": "markdown",
   "metadata": {
    "jp-MarkdownHeadingCollapsed": true,
    "tags": []
   },
   "source": [
    "### Regression"
   ]
  },
  {
   "cell_type": "code",
   "execution_count": 174,
   "metadata": {},
   "outputs": [
    {
     "data": {
      "text/plain": [
       "<AxesSubplot:xlabel='Distance', ylabel='Avg_Pace'>"
      ]
     },
     "execution_count": 174,
     "metadata": {},
     "output_type": "execute_result"
    },
    {
     "data": {
      "image/png": "[encoded data removed]",
      "text/plain": [
       "<Figure size 864x576 with 1 Axes>"
      ]
     },
     "metadata": {},
     "output_type": "display_data"
    }
   ],
   "source": [
    "plt.figure(figsize=(12,8))\n",
    "sns.set(style='darkgrid')\n",
    "sns.boxplot(x='Distance', y='Avg_Pace', data=df2)"
   ]
  },
  {
   "cell_type": "code",
   "execution_count": 175,
   "metadata": {},
   "outputs": [
    {
     "data": {
      "text/html": [
       "<div>\n",
       "<style scoped>\n",
       "    .dataframe tbody tr th:only-of-type {\n",
       "        vertical-align: middle;\n",
       "    }\n",
       "\n",
       "    .dataframe tbody tr th {\n",
       "        vertical-align: top;\n",
       "    }\n",
       "\n",
       "    .dataframe thead th {\n",
       "        text-align: right;\n",
       "    }\n",
       "</style>\n",
       "<table border=\"1\" class=\"dataframe\">\n",
       "  <thead>\n",
       "    <tr style=\"text-align: right;\">\n",
       "      <th></th>\n",
       "      <th>Distance</th>\n",
       "      <th>Avg_Pace</th>\n",
       "      <th>Calories_Burned</th>\n",
       "    </tr>\n",
       "  </thead>\n",
       "  <tbody>\n",
       "    <tr>\n",
       "      <th>0</th>\n",
       "      <td>5.00</td>\n",
       "      <td>9.96</td>\n",
       "      <td>656</td>\n",
       "    </tr>\n",
       "    <tr>\n",
       "      <th>1</th>\n",
       "      <td>3.11</td>\n",
       "      <td>9.66</td>\n",
       "      <td>391</td>\n",
       "    </tr>\n",
       "    <tr>\n",
       "      <th>2</th>\n",
       "      <td>2.35</td>\n",
       "      <td>9.74</td>\n",
       "      <td>313</td>\n",
       "    </tr>\n",
       "    <tr>\n",
       "      <th>3</th>\n",
       "      <td>2.59</td>\n",
       "      <td>9.75</td>\n",
       "      <td>348</td>\n",
       "    </tr>\n",
       "    <tr>\n",
       "      <th>4</th>\n",
       "      <td>3.10</td>\n",
       "      <td>10.61</td>\n",
       "      <td>430</td>\n",
       "    </tr>\n",
       "  </tbody>\n",
       "</table>\n",
       "</div>"
      ],
      "text/plain": [
       "   Distance  Avg_Pace  Calories_Burned\n",
       "0      5.00      9.96              656\n",
       "1      3.11      9.66              391\n",
       "2      2.35      9.74              313\n",
       "3      2.59      9.75              348\n",
       "4      3.10     10.61              430"
      ]
     },
     "execution_count": 175,
     "metadata": {},
     "output_type": "execute_result"
    }
   ],
   "source": [
    "dummy_variables = pd.get_dummies(df2[['Distance','Avg_Pace','Calories_Burned']], drop_first=True)\n",
    "dummy_variables.shape\n",
    "(2394, 57)\n",
    "dummy_variables.head()"
   ]
  },
  {
   "cell_type": "code",
   "execution_count": 176,
   "metadata": {},
   "outputs": [],
   "source": [
    "from sklearn.preprocessing import MinMaxScaler "
   ]
  },
  {
   "cell_type": "code",
   "execution_count": 177,
   "metadata": {},
   "outputs": [],
   "source": [
    "num_features = df2[['Distance', 'Avg_Pace', 'Workout_Time', 'Calories_Burned']]\n",
    "sc = MinMaxScaler()\n",
    "num_features = sc.fit_transform(num_features)"
   ]
  },
  {
   "cell_type": "code",
   "execution_count": 178,
   "metadata": {},
   "outputs": [
    {
     "name": "stdout",
     "output_type": "stream",
     "text": [
      "(488, 6)\n",
      "(488,)\n"
     ]
    },
    {
     "data": {
      "text/plain": [
       "(2394,)"
      ]
     },
     "execution_count": 178,
     "metadata": {},
     "output_type": "execute_result"
    }
   ],
   "source": [
    "cat_features = dummy_variables.values\n",
    "data = np.concatenate((cat_features, num_features), axis=1)\n",
    "X = data[:, :data.shape[1]-1]\n",
    "y = data[:, data.shape[1]-1]\n",
    "print(X.shape)\n",
    "print(y.shape)\n",
    "(2394, 60)\n",
    "(2394,)"
   ]
  },
  {
   "cell_type": "code",
   "execution_count": 179,
   "metadata": {},
   "outputs": [],
   "source": [
    "from sklearn.model_selection import train_test_split\n",
    "X_train, X_test, y_train, y_test = train_test_split(X, y, test_size = 0.2, random_state=42)"
   ]
  },
  {
   "cell_type": "code",
   "execution_count": 180,
   "metadata": {},
   "outputs": [
    {
     "name": "stdout",
     "output_type": "stream",
     "text": [
      "R-squared score (training):1.000\n",
      "R-squared score (test): 1.000\n"
     ]
    }
   ],
   "source": [
    "from sklearn.linear_model import Ridge\n",
    "#Create a ridge regressor object\n",
    "ridge = Ridge(alpha=0.5)\n",
    "#Train the model\n",
    "ridge.fit(X_train, y_train)\n",
    "#Evaluate the model\n",
    "print('R-squared score (training):{:.3f}'.\n",
    "format(ridge.score(X_train, y_train)))\n",
    "print('R-squared score (test): {:.3f}'\n",
    ".format(ridge.score(X_test, y_test)))"
   ]
  },
  {
   "cell_type": "code",
   "execution_count": 181,
   "metadata": {},
   "outputs": [
    {
     "name": "stdout",
     "output_type": "stream",
     "text": [
      "R-squared score (training): 1.000\n",
      "R-squared score (test): 0.993\n"
     ]
    }
   ],
   "source": [
    "from sklearn.ensemble import GradientBoostingRegressor\n",
    "#Create a GradientBoostingRegressor object\n",
    "params = {'n_estimators': 600, 'max_depth': 5,\n",
    "'learning_rate': 0.02, 'loss': 'ls'}\n",
    "gbr = GradientBoostingRegressor(**params)\n",
    "#Train the model\n",
    "gbr.fit(X_train, y_train)\n",
    "#Evaluate the model\n",
    "print('R-squared score (training): {:.3f}'\n",
    ".format(gbr.score(X_train, y_train)))\n",
    "print('R-squared score (test): {:.3f}'\n",
    ".format(gbr.score(X_test, y_test)))"
   ]
  },
  {
   "cell_type": "markdown",
   "metadata": {},
   "source": [
    "## Pairplot"
   ]
  },
  {
   "cell_type": "code",
   "execution_count": 182,
   "metadata": {},
   "outputs": [],
   "source": [
    "# remove warnings\n",
    "import warnings\n",
    "warnings.filterwarnings('ignore')\n",
    "# standard imports and setup\n",
    "import pandas as pd\n",
    "import numpy as np\n",
    "import matplotlib.pyplot as plt\n",
    "%matplotlib inline\n",
    "import seaborn as sns\n",
    "from scipy import stats\n",
    "# model evaluation\n",
    "from sklearn.model_selection import train_test_split, cross_val_score, GridSearchCV, ShuffleSplit\n",
    "from sklearn.metrics import *\n",
    "# pipelines\n",
    "from sklearn.compose import make_column_transformer\n",
    "from sklearn.pipeline import Pipeline, make_pipeline\n",
    "# data preparation\n",
    "from sklearn.preprocessing import *\n",
    "from sklearn.decomposition import PCA\n",
    "from sklearn.feature_selection import RFE, RFECV\n",
    "from sklearn.utils import resample\n",
    "from imblearn.datasets import make_imbalance\n",
    "from imblearn.over_sampling import SMOTE\n",
    "# machine learning\n",
    "from sklearn.linear_model import *\n",
    "from sklearn.neighbors import KNeighborsClassifier\n",
    "from sklearn.svm import SVC, LinearSVC\n",
    "from sklearn.naive_bayes import GaussianNB\n",
    "from sklearn.ensemble import RandomForestClassifier, RandomForestRegressor\n",
    "from sklearn.tree import DecisionTreeClassifier\n",
    "from xgboost import XGBClassifier, XGBRegressor"
   ]
  },
  {
   "cell_type": "code",
   "execution_count": 183,
   "metadata": {},
   "outputs": [
    {
     "name": "stdout",
     "output_type": "stream",
     "text": [
      "There is 4 strongly correlated values with SalePrice:\n",
      "Distance           1.000000\n",
      "Steps              0.985392\n",
      "Workout_Time       0.982702\n",
      "Calories_Burned    0.975330\n",
      "Name: Distance, dtype: float64\n"
     ]
    }
   ],
   "source": [
    "run_num = df.select_dtypes(include = ['float64', 'int64'])\n",
    "run_num_corr = run_num.corr()['Distance'][:-1]\n",
    "top_features = run_num_corr[abs(run_num_corr) > 0.5].sort_values(ascending=False) #displays pearsons correlation coefficient greater than 0.5\n",
    "print(\"There is {} strongly correlated values with SalePrice:\\n{}\".format(len(top_features), top_features))"
   ]
  },
  {
   "cell_type": "code",
   "execution_count": 184,
   "metadata": {
    "scrolled": true
   },
   "outputs": [
    {
     "data": {
      "image/png": "[encoded data removed]",
      "text/plain": [
       "<Figure size 900x180 with 6 Axes>"
      ]
     },
     "metadata": {
      "needs_background": "light"
     },
     "output_type": "display_data"
    },
    {
     "data": {
      "image/png": "[encoded data removed]",
      "text/plain": [
       "<Figure size 900x180 with 5 Axes>"
      ]
     },
     "metadata": {
      "needs_background": "light"
     },
     "output_type": "display_data"
    }
   ],
   "source": [
    "for i in range(0, len(run_num.columns), 5):\n",
    "    sns.pairplot(data=run_num,\n",
    "                x_vars=run_num.columns[i:i+5],\n",
    "                y_vars=['Distance'])"
   ]
  },
  {
   "cell_type": "code",
   "execution_count": 185,
   "metadata": {},
   "outputs": [
    {
     "data": {
      "image/png": "[encoded data removed]",
      "text/plain": [
       "<Figure size 432x288 with 1 Axes>"
      ]
     },
     "metadata": {
      "needs_background": "light"
     },
     "output_type": "display_data"
    }
   ],
   "source": [
    "sp_untransformed = sns.distplot(df2['Distance'])"
   ]
  },
  {
   "cell_type": "code",
   "execution_count": 186,
   "metadata": {},
   "outputs": [
    {
     "name": "stdout",
     "output_type": "stream",
     "text": [
      "Skewness: 2.105603\n"
     ]
    }
   ],
   "source": [
    "print(\"Skewness: %f\" % df2['Distance'].skew())"
   ]
  },
  {
   "cell_type": "code",
   "execution_count": 187,
   "metadata": {},
   "outputs": [],
   "source": [
    "log_transformed = np.log(df2['Distance'])"
   ]
  },
  {
   "cell_type": "code",
   "execution_count": 188,
   "metadata": {},
   "outputs": [
    {
     "data": {
      "image/png": "[encoded data removed]",
      "text/plain": [
       "<Figure size 432x288 with 1 Axes>"
      ]
     },
     "metadata": {
      "needs_background": "light"
     },
     "output_type": "display_data"
    }
   ],
   "source": [
    "sp_transformed = sns.distplot(log_transformed)"
   ]
  },
  {
   "cell_type": "code",
   "execution_count": 189,
   "metadata": {},
   "outputs": [
    {
     "name": "stdout",
     "output_type": "stream",
     "text": [
      "Skewness: -1.181946\n"
     ]
    }
   ],
   "source": [
    "print(\"Skewness: %f\" % (log_transformed).skew())"
   ]
  },
  {
   "cell_type": "code",
   "execution_count": 190,
   "metadata": {},
   "outputs": [
    {
     "data": {
      "text/html": [
       "<div>\n",
       "<style scoped>\n",
       "    .dataframe tbody tr th:only-of-type {\n",
       "        vertical-align: middle;\n",
       "    }\n",
       "\n",
       "    .dataframe tbody tr th {\n",
       "        vertical-align: top;\n",
       "    }\n",
       "\n",
       "    .dataframe thead th {\n",
       "        text-align: right;\n",
       "    }\n",
       "</style>\n",
       "<table border=\"1\" class=\"dataframe\">\n",
       "  <thead>\n",
       "    <tr style=\"text-align: right;\">\n",
       "      <th></th>\n",
       "      <th>Calories_Burned</th>\n",
       "      <th>Distance</th>\n",
       "      <th>Workout_Time</th>\n",
       "      <th>Avg_Pace</th>\n",
       "      <th>Max_Pace</th>\n",
       "      <th>Avg_Speed</th>\n",
       "      <th>Max_Speed</th>\n",
       "      <th>Avg_Heart_Rate</th>\n",
       "      <th>Steps</th>\n",
       "      <th>Calculated</th>\n",
       "    </tr>\n",
       "  </thead>\n",
       "  <tbody>\n",
       "    <tr>\n",
       "      <th>14</th>\n",
       "      <td>393</td>\n",
       "      <td>3.11</td>\n",
       "      <td>1659</td>\n",
       "      <td>8.89</td>\n",
       "      <td>0.95</td>\n",
       "      <td>6.75</td>\n",
       "      <td>63.43</td>\n",
       "      <td>150.00</td>\n",
       "      <td>4440.0</td>\n",
       "      <td>27.650000</td>\n",
       "    </tr>\n",
       "    <tr>\n",
       "      <th>16</th>\n",
       "      <td>403</td>\n",
       "      <td>3.10</td>\n",
       "      <td>1659</td>\n",
       "      <td>8.92</td>\n",
       "      <td>0.00</td>\n",
       "      <td>6.73</td>\n",
       "      <td>0.00</td>\n",
       "      <td>105.74</td>\n",
       "      <td>4444.0</td>\n",
       "      <td>27.650000</td>\n",
       "    </tr>\n",
       "    <tr>\n",
       "      <th>61</th>\n",
       "      <td>404</td>\n",
       "      <td>3.11</td>\n",
       "      <td>1727</td>\n",
       "      <td>9.26</td>\n",
       "      <td>0.45</td>\n",
       "      <td>6.48</td>\n",
       "      <td>134.38</td>\n",
       "      <td>160.00</td>\n",
       "      <td>4630.0</td>\n",
       "      <td>28.783333</td>\n",
       "    </tr>\n",
       "    <tr>\n",
       "      <th>73</th>\n",
       "      <td>403</td>\n",
       "      <td>3.10</td>\n",
       "      <td>1647</td>\n",
       "      <td>8.85</td>\n",
       "      <td>31.95</td>\n",
       "      <td>6.78</td>\n",
       "      <td>1.88</td>\n",
       "      <td>158.00</td>\n",
       "      <td>4217.0</td>\n",
       "      <td>27.450000</td>\n",
       "    </tr>\n",
       "    <tr>\n",
       "      <th>76</th>\n",
       "      <td>406</td>\n",
       "      <td>3.10</td>\n",
       "      <td>1704</td>\n",
       "      <td>9.16</td>\n",
       "      <td>0.00</td>\n",
       "      <td>6.55</td>\n",
       "      <td>0.00</td>\n",
       "      <td>105.74</td>\n",
       "      <td>4551.0</td>\n",
       "      <td>28.400000</td>\n",
       "    </tr>\n",
       "    <tr>\n",
       "      <th>...</th>\n",
       "      <td>...</td>\n",
       "      <td>...</td>\n",
       "      <td>...</td>\n",
       "      <td>...</td>\n",
       "      <td>...</td>\n",
       "      <td>...</td>\n",
       "      <td>...</td>\n",
       "      <td>...</td>\n",
       "      <td>...</td>\n",
       "      <td>...</td>\n",
       "    </tr>\n",
       "    <tr>\n",
       "      <th>547</th>\n",
       "      <td>403</td>\n",
       "      <td>3.10</td>\n",
       "      <td>1631</td>\n",
       "      <td>8.77</td>\n",
       "      <td>0.83</td>\n",
       "      <td>6.84</td>\n",
       "      <td>71.98</td>\n",
       "      <td>0.00</td>\n",
       "      <td>4376.0</td>\n",
       "      <td>27.183333</td>\n",
       "    </tr>\n",
       "    <tr>\n",
       "      <th>564</th>\n",
       "      <td>131</td>\n",
       "      <td>1.01</td>\n",
       "      <td>537</td>\n",
       "      <td>8.84</td>\n",
       "      <td>4.44</td>\n",
       "      <td>6.79</td>\n",
       "      <td>13.52</td>\n",
       "      <td>0.00</td>\n",
       "      <td>1459.0</td>\n",
       "      <td>8.950000</td>\n",
       "    </tr>\n",
       "    <tr>\n",
       "      <th>568</th>\n",
       "      <td>407</td>\n",
       "      <td>3.10</td>\n",
       "      <td>1720</td>\n",
       "      <td>9.26</td>\n",
       "      <td>5.25</td>\n",
       "      <td>6.48</td>\n",
       "      <td>11.43</td>\n",
       "      <td>0.00</td>\n",
       "      <td>4711.0</td>\n",
       "      <td>28.666667</td>\n",
       "    </tr>\n",
       "    <tr>\n",
       "      <th>571</th>\n",
       "      <td>354</td>\n",
       "      <td>2.63</td>\n",
       "      <td>1557</td>\n",
       "      <td>9.87</td>\n",
       "      <td>6.55</td>\n",
       "      <td>6.08</td>\n",
       "      <td>9.16</td>\n",
       "      <td>0.00</td>\n",
       "      <td>4214.0</td>\n",
       "      <td>25.950000</td>\n",
       "    </tr>\n",
       "    <tr>\n",
       "      <th>598</th>\n",
       "      <td>283</td>\n",
       "      <td>2.24</td>\n",
       "      <td>1065</td>\n",
       "      <td>7.92</td>\n",
       "      <td>0.00</td>\n",
       "      <td>7.57</td>\n",
       "      <td>0.00</td>\n",
       "      <td>105.74</td>\n",
       "      <td>2891.0</td>\n",
       "      <td>17.750000</td>\n",
       "    </tr>\n",
       "  </tbody>\n",
       "</table>\n",
       "<p>84 rows × 10 columns</p>\n",
       "</div>"
      ],
      "text/plain": [
       "     Calories_Burned  Distance  Workout_Time  Avg_Pace  Max_Pace  Avg_Speed  \\\n",
       "14               393      3.11          1659      8.89      0.95       6.75   \n",
       "16               403      3.10          1659      8.92      0.00       6.73   \n",
       "61               404      3.11          1727      9.26      0.45       6.48   \n",
       "73               403      3.10          1647      8.85     31.95       6.78   \n",
       "76               406      3.10          1704      9.16      0.00       6.55   \n",
       "..               ...       ...           ...       ...       ...        ...   \n",
       "547              403      3.10          1631      8.77      0.83       6.84   \n",
       "564              131      1.01           537      8.84      4.44       6.79   \n",
       "568              407      3.10          1720      9.26      5.25       6.48   \n",
       "571              354      2.63          1557      9.87      6.55       6.08   \n",
       "598              283      2.24          1065      7.92      0.00       7.57   \n",
       "\n",
       "     Max_Speed  Avg_Heart_Rate   Steps  Calculated  \n",
       "14       63.43          150.00  4440.0   27.650000  \n",
       "16        0.00          105.74  4444.0   27.650000  \n",
       "61      134.38          160.00  4630.0   28.783333  \n",
       "73        1.88          158.00  4217.0   27.450000  \n",
       "76        0.00          105.74  4551.0   28.400000  \n",
       "..         ...             ...     ...         ...  \n",
       "547      71.98            0.00  4376.0   27.183333  \n",
       "564      13.52            0.00  1459.0    8.950000  \n",
       "568      11.43            0.00  4711.0   28.666667  \n",
       "571       9.16            0.00  4214.0   25.950000  \n",
       "598       0.00          105.74  2891.0   17.750000  \n",
       "\n",
       "[84 rows x 10 columns]"
      ]
     },
     "execution_count": 190,
     "metadata": {},
     "output_type": "execute_result"
    }
   ],
   "source": [
    "duplicate = df2[df2.duplicated(['Workout_Time'])]\n",
    "duplicate"
   ]
  },
  {
   "cell_type": "code",
   "execution_count": 194,
   "metadata": {},
   "outputs": [
    {
     "data": {
      "text/html": [
       "<div>\n",
       "<style scoped>\n",
       "    .dataframe tbody tr th:only-of-type {\n",
       "        vertical-align: middle;\n",
       "    }\n",
       "\n",
       "    .dataframe tbody tr th {\n",
       "        vertical-align: top;\n",
       "    }\n",
       "\n",
       "    .dataframe thead th {\n",
       "        text-align: right;\n",
       "    }\n",
       "</style>\n",
       "<table border=\"1\" class=\"dataframe\">\n",
       "  <thead>\n",
       "    <tr style=\"text-align: right;\">\n",
       "      <th></th>\n",
       "      <th>Calories_Burned</th>\n",
       "      <th>Distance</th>\n",
       "      <th>Workout_Time</th>\n",
       "      <th>Avg_Pace</th>\n",
       "      <th>Max_Pace</th>\n",
       "      <th>Avg_Speed</th>\n",
       "      <th>Max_Speed</th>\n",
       "      <th>Avg_Heart_Rate</th>\n",
       "      <th>Steps</th>\n",
       "      <th>Calculated</th>\n",
       "    </tr>\n",
       "  </thead>\n",
       "  <tbody>\n",
       "    <tr>\n",
       "      <th>0</th>\n",
       "      <td>656</td>\n",
       "      <td>5.00</td>\n",
       "      <td>2989</td>\n",
       "      <td>9.96</td>\n",
       "      <td>1.08</td>\n",
       "      <td>6.03</td>\n",
       "      <td>55.39</td>\n",
       "      <td>146.00</td>\n",
       "      <td>7917.0</td>\n",
       "      <td>49.816667</td>\n",
       "    </tr>\n",
       "    <tr>\n",
       "      <th>1</th>\n",
       "      <td>391</td>\n",
       "      <td>3.11</td>\n",
       "      <td>1802</td>\n",
       "      <td>9.66</td>\n",
       "      <td>0.94</td>\n",
       "      <td>6.21</td>\n",
       "      <td>64.11</td>\n",
       "      <td>140.00</td>\n",
       "      <td>4782.0</td>\n",
       "      <td>30.033333</td>\n",
       "    </tr>\n",
       "    <tr>\n",
       "      <th>2</th>\n",
       "      <td>313</td>\n",
       "      <td>2.35</td>\n",
       "      <td>1376</td>\n",
       "      <td>9.74</td>\n",
       "      <td>1.03</td>\n",
       "      <td>6.16</td>\n",
       "      <td>58.29</td>\n",
       "      <td>156.00</td>\n",
       "      <td>3622.0</td>\n",
       "      <td>22.933333</td>\n",
       "    </tr>\n",
       "    <tr>\n",
       "      <th>3</th>\n",
       "      <td>348</td>\n",
       "      <td>2.59</td>\n",
       "      <td>1516</td>\n",
       "      <td>9.75</td>\n",
       "      <td>0.43</td>\n",
       "      <td>6.16</td>\n",
       "      <td>140.98</td>\n",
       "      <td>154.00</td>\n",
       "      <td>4043.0</td>\n",
       "      <td>25.266667</td>\n",
       "    </tr>\n",
       "    <tr>\n",
       "      <th>4</th>\n",
       "      <td>430</td>\n",
       "      <td>3.10</td>\n",
       "      <td>1974</td>\n",
       "      <td>10.61</td>\n",
       "      <td>0.00</td>\n",
       "      <td>5.65</td>\n",
       "      <td>0.00</td>\n",
       "      <td>105.74</td>\n",
       "      <td>5197.0</td>\n",
       "      <td>32.900000</td>\n",
       "    </tr>\n",
       "  </tbody>\n",
       "</table>\n",
       "</div>"
      ],
      "text/plain": [
       "   Calories_Burned  Distance  Workout_Time  Avg_Pace  Max_Pace  Avg_Speed  \\\n",
       "0              656      5.00          2989      9.96      1.08       6.03   \n",
       "1              391      3.11          1802      9.66      0.94       6.21   \n",
       "2              313      2.35          1376      9.74      1.03       6.16   \n",
       "3              348      2.59          1516      9.75      0.43       6.16   \n",
       "4              430      3.10          1974     10.61      0.00       5.65   \n",
       "\n",
       "   Max_Speed  Avg_Heart_Rate   Steps  Calculated  \n",
       "0      55.39          146.00  7917.0   49.816667  \n",
       "1      64.11          140.00  4782.0   30.033333  \n",
       "2      58.29          156.00  3622.0   22.933333  \n",
       "3     140.98          154.00  4043.0   25.266667  \n",
       "4       0.00          105.74  5197.0   32.900000  "
      ]
     },
     "execution_count": 194,
     "metadata": {},
     "output_type": "execute_result"
    }
   ],
   "source": [
    "df2.head()"
   ]
  },
  {
   "cell_type": "code",
   "execution_count": 196,
   "metadata": {},
   "outputs": [
    {
     "data": {
      "text/plain": [
       "Avg_Heart_Rate    116.18\n",
       "dtype: float64"
      ]
     },
     "execution_count": 196,
     "metadata": {},
     "output_type": "execute_result"
    }
   ],
   "source": [
    "AHR0 = df2[['Avg_Heart_Rate']] < 0.1\n",
    "AHR = df2[['Avg_Heart_Rate']].mean().round(2)\n",
    "AHR"
   ]
  },
  {
   "cell_type": "code",
   "execution_count": null,
   "metadata": {},
   "outputs": [],
   "source": [
    "X = df.drop('Distance',axis=1)\n",
    "y = df.Distance\n",
    "X_train, X_test, y_train, y_test = train_test_split(X,y)"
   ]
  },
  {
   "cell_type": "code",
   "execution_count": null,
   "metadata": {},
   "outputs": [],
   "source": [
    "y_train.value_counts()"
   ]
  },
  {
   "cell_type": "code",
   "execution_count": null,
   "metadata": {},
   "outputs": [],
   "source": [
    "y_train_1.value_counts().plot(kind='bar')\n",
    "plt.title('label balance')\n",
    "plt.xlabel('label values')\n",
    "plt.ylabel('amount per label')\n",
    "plt.show()"
   ]
  },
  {
   "cell_type": "code",
   "execution_count": null,
   "metadata": {},
   "outputs": [],
   "source": [
    "sns.pairplot(df2, vars = df2.columns[0:4])"
   ]
  },
  {
   "cell_type": "code",
   "execution_count": null,
   "metadata": {},
   "outputs": [],
   "source": [
    "knn.fit(X=X_train, y=y_train)"
   ]
  },
  {
   "cell_type": "code",
   "execution_count": null,
   "metadata": {},
   "outputs": [],
   "source": [
    "for column in df2:\n",
    "    sns.displot(x=column, data=df2)"
   ]
  },
  {
   "cell_type": "code",
   "execution_count": null,
   "metadata": {},
   "outputs": [],
   "source": [
    "df.columns"
   ]
  },
  {
   "cell_type": "code",
   "execution_count": null,
   "metadata": {},
   "outputs": [],
   "source": [
    "# Convert x column to numpy array\n",
    "X = df2.loc[:, ['Calories_Burned']].values"
   ]
  },
  {
   "cell_type": "code",
   "execution_count": null,
   "metadata": {},
   "outputs": [],
   "source": [
    "sns.displot(X, kind='kde')"
   ]
  },
  {
   "cell_type": "code",
   "execution_count": null,
   "metadata": {},
   "outputs": [],
   "source": [
    "sns.displot(X, kde=True)"
   ]
  },
  {
   "cell_type": "code",
   "execution_count": null,
   "metadata": {},
   "outputs": [],
   "source": [
    "import numpy as np\n",
    "import seaborn as sns\n",
    "\n",
    "#make this example reproducible\n",
    "np.random.seed(0)\n",
    "\n",
    "#create data\n",
    "x = np.random.normal(size=1000)\n",
    "\n",
    "#create normal distribution histogram\n",
    "sns.displot(X)"
   ]
  },
  {
   "cell_type": "code",
   "execution_count": null,
   "metadata": {},
   "outputs": [],
   "source": [
    "import numpy as np\n",
    "import seaborn as sns\n",
    "\n",
    "#make this example reproducible\n",
    "np.random.seed(0)\n",
    "\n",
    "#create data\n",
    "#X = np.random.normal(size=1000)\n",
    "\n",
    "#create normal distribution curve\n",
    "sns.displot(X, kind='kde')"
   ]
  },
  {
   "cell_type": "code",
   "execution_count": null,
   "metadata": {},
   "outputs": [],
   "source": [
    "import numpy as np\n",
    "import seaborn as sns\n",
    "\n",
    "#make this example reproducible\n",
    "np.random.seed(0)\n",
    "\n",
    "#create data\n",
    "#x = np.random.normal(size=1000)\n",
    "\n",
    "#create normal distribution curve\n",
    "sns.displot(df2, x='Calculated', kde=True)"
   ]
  },
  {
   "cell_type": "code",
   "execution_count": null,
   "metadata": {},
   "outputs": [],
   "source": [
    "sns.pairplot(data = df, vars = df.columns[3:9], hue = 'Calculated')"
   ]
  },
  {
   "cell_type": "code",
   "execution_count": null,
   "metadata": {},
   "outputs": [],
   "source": [
    "df2.info()"
   ]
  },
  {
   "cell_type": "code",
   "execution_count": null,
   "metadata": {},
   "outputs": [],
   "source": []
  }
 ],
 "metadata": {
  "celltoolbar": "Slideshow",
  "colab": {
   "name": "Running Regression.ipynb",
   "provenance": [
    {
     "file_id": "https://github.com/Cbhami/Cosmo/blob/master/DA%20590/Session%2028.ipynb",
     "timestamp": 1648769406675
    }
   ]
  },
  "interpreter": {
   "hash": "9f357b62676163e453d3996bd7a23625b1faadc1b4915e4cbea894e22b2eb803"
  },
  "kernelspec": {
   "display_name": "Python 3 (ipykernel)",
   "language": "python",
   "name": "python3"
  },
  "language_info": {
   "codemirror_mode": {
    "name": "ipython",
    "version": 3
   },
   "file_extension": ".py",
   "mimetype": "text/x-python",
   "name": "python",
   "nbconvert_exporter": "python",
   "pygments_lexer": "ipython3",
   "version": "3.9.10"
  }
 },
 "nbformat": 4,
 "nbformat_minor": 1
}
