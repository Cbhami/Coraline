{
 "cells": [
  {
   "cell_type": "markdown",
   "metadata": {},
   "source": [
    "# r book MapMyRun data"
   ]
  },
  {
   "cell_type": "code",
   "execution_count": 1,
   "metadata": {
    "vscode": {
     "languageId": "r"
    }
   },
   "outputs": [],
   "source": [
    ".libPaths(c(\"C:/Software/rLibrary\"))"
   ]
  },
  {
   "cell_type": "code",
   "execution_count": 2,
   "metadata": {
    "vscode": {
     "languageId": "r"
    }
   },
   "outputs": [
    {
     "name": "stdout",
     "output_type": "stream",
     "text": [
      "package 'lubridate' successfully unpacked and MD5 sums checked\n",
      "\n",
      "The downloaded binary packages are in\n",
      "\tC:\\Users\\coleb\\AppData\\Local\\Temp\\RtmpSUqoXJ\\downloaded_packages\n",
      "package 'readr' successfully unpacked and MD5 sums checked\n",
      "\n",
      "The downloaded binary packages are in\n",
      "\tC:\\Users\\coleb\\AppData\\Local\\Temp\\RtmpSUqoXJ\\downloaded_packages\n",
      "package 'ggplot2' successfully unpacked and MD5 sums checked\n",
      "\n",
      "The downloaded binary packages are in\n",
      "\tC:\\Users\\coleb\\AppData\\Local\\Temp\\RtmpSUqoXJ\\downloaded_packages\n",
      "package 'reshape2' successfully unpacked and MD5 sums checked\n",
      "\n",
      "The downloaded binary packages are in\n",
      "\tC:\\Users\\coleb\\AppData\\Local\\Temp\\RtmpSUqoXJ\\downloaded_packages\n",
      "package 'dplyr' successfully unpacked and MD5 sums checked\n",
      "\n",
      "The downloaded binary packages are in\n",
      "\tC:\\Users\\coleb\\AppData\\Local\\Temp\\RtmpSUqoXJ\\downloaded_packages\n",
      "package 'RODBC' successfully unpacked and MD5 sums checked\n",
      "\n",
      "The downloaded binary packages are in\n",
      "\tC:\\Users\\coleb\\AppData\\Local\\Temp\\RtmpSUqoXJ\\downloaded_packages\n",
      "package 'tidyverse' successfully unpacked and MD5 sums checked\n",
      "\n",
      "The downloaded binary packages are in\n",
      "\tC:\\Users\\coleb\\AppData\\Local\\Temp\\RtmpSUqoXJ\\downloaded_packages\n"
     ]
    }
   ],
   "source": [
    "install.packages(\"lubridate\")\n",
    "install.packages(\"readr\")\n",
    "install.packages(\"ggplot2\")\n",
    "install.packages(\"reshape2\")\n",
    "install.packages(\"dplyr\")\n",
    "install.packages(\"RODBC\")\n",
    "install.packages(\"tidyverse\")"
   ]
  },
  {
   "cell_type": "code",
   "execution_count": 3,
   "metadata": {
    "vscode": {
     "languageId": "r"
    }
   },
   "outputs": [
    {
     "name": "stderr",
     "output_type": "stream",
     "text": [
      "Warning message in readLines(\"C:/Users/coleb/OneDrive/Cosmo/Db2.txt\"):\n",
      "\"incomplete final line found on 'C:/Users/coleb/OneDrive/Cosmo/Db2.txt'\"\n",
      "Warning message in readLines(\"C:/Users/coleb/OneDrive/Cosmo/Db2.txt\"):\n",
      "\"incomplete final line found on 'C:/Users/coleb/OneDrive/Cosmo/Db2.txt'\"\n",
      "Warning message in readLines(\"C:/Users/coleb/OneDrive/Cosmo/Db2.txt\"):\n",
      "\"incomplete final line found on 'C:/Users/coleb/OneDrive/Cosmo/Db2.txt'\"\n"
     ]
    },
    {
     "ename": "ERROR",
     "evalue": "Error in odbcConnect(lema_server, uid = lema_UN, pwd = lema_pw): could not find function \"odbcConnect\"\n",
     "output_type": "error",
     "traceback": [
      "Error in odbcConnect(lema_server, uid = lema_UN, pwd = lema_pw): could not find function \"odbcConnect\"\nTraceback:\n"
     ]
    }
   ],
   "source": [
    "lema_UN <- readLines(\"C:/Users/coleb/OneDrive/Cosmo/Db2.txt\")[1]\n",
    "lema_pw <- readLines(\"C:/Users/coleb/OneDrive/Cosmo/Db2.txt\")[2]\n",
    "lema_server <- readLines(\"C:/Users/coleb/OneDrive/Cosmo/Db2.txt\")[3]\n",
    "lema <- odbcConnect(lema_server, uid = lema_UN, pwd = lema_pw)"
   ]
  },
  {
   "cell_type": "code",
   "execution_count": 12,
   "metadata": {
    "vscode": {
     "languageId": "r"
    }
   },
   "outputs": [],
   "source": [
    "# SQL for MAP Ach and Req\n",
    "Req_query <- paste0(\"SELECT\n",
    "                      * from MAPMYRUNS\")"
   ]
  },
  {
   "cell_type": "code",
   "execution_count": 13,
   "metadata": {
    "vscode": {
     "languageId": "r"
    }
   },
   "outputs": [],
   "source": [
    "MAP_Req <- as.data.table(sqlQuery(lema, Req_query))"
   ]
  },
  {
   "cell_type": "code",
   "execution_count": 14,
   "metadata": {
    "vscode": {
     "languageId": "r"
    }
   },
   "outputs": [
    {
     "data": {
      "text/html": [
       "<table class=\"dataframe\">\n",
       "<caption>A data.table: 6 × 7</caption>\n",
       "<thead>\n",
       "\t<tr><th scope=col>DATE</th><th scope=col>DISTANCE</th><th scope=col>DURATION</th><th scope=col>ACTIVITY_SCORE</th><th scope=col>AVGHR</th><th scope=col>STEPSY</th><th scope=col>CALBURNED</th></tr>\n",
       "\t<tr><th scope=col>&lt;date&gt;</th><th scope=col>&lt;dbl&gt;</th><th scope=col>&lt;dbl&gt;</th><th scope=col>&lt;dbl&gt;</th><th scope=col>&lt;int&gt;</th><th scope=col>&lt;dbl&gt;</th><th scope=col>&lt;dbl&gt;</th></tr>\n",
       "</thead>\n",
       "<tbody>\n",
       "\t<tr><td>2022-07-18</td><td>9.00</td><td>95.15</td><td>57.01286</td><td>143</td><td>14918</td><td>1175</td></tr>\n",
       "\t<tr><td>2022-07-17</td><td>3.10</td><td>26.55</td><td>58.67957</td><td>  0</td><td> 4286</td><td> 404</td></tr>\n",
       "\t<tr><td>2022-07-14</td><td>3.76</td><td>35.95</td><td>74.44854</td><td>148</td><td> 5684</td><td> 452</td></tr>\n",
       "\t<tr><td>2022-07-13</td><td>3.11</td><td>31.87</td><td>73.20733</td><td>150</td><td> 4991</td><td> 398</td></tr>\n",
       "\t<tr><td>2022-07-12</td><td>3.11</td><td>32.80</td><td>68.74034</td><td>155</td><td> 5134</td><td> 421</td></tr>\n",
       "\t<tr><td>2022-07-10</td><td>3.10</td><td>38.35</td><td>47.92118</td><td>149</td><td> 5125</td><td> 429</td></tr>\n",
       "</tbody>\n",
       "</table>\n"
      ],
      "text/latex": [
       "A data.table: 6 × 7\n",
       "\\begin{tabular}{lllllll}\n",
       " DATE & DISTANCE & DURATION & ACTIVITY\\_SCORE & AVGHR & STEPSY & CALBURNED\\\\\n",
       " <date> & <dbl> & <dbl> & <dbl> & <int> & <dbl> & <dbl>\\\\\n",
       "\\hline\n",
       "\t 2022-07-18 & 9.00 & 95.15 & 57.01286 & 143 & 14918 & 1175\\\\\n",
       "\t 2022-07-17 & 3.10 & 26.55 & 58.67957 &   0 &  4286 &  404\\\\\n",
       "\t 2022-07-14 & 3.76 & 35.95 & 74.44854 & 148 &  5684 &  452\\\\\n",
       "\t 2022-07-13 & 3.11 & 31.87 & 73.20733 & 150 &  4991 &  398\\\\\n",
       "\t 2022-07-12 & 3.11 & 32.80 & 68.74034 & 155 &  5134 &  421\\\\\n",
       "\t 2022-07-10 & 3.10 & 38.35 & 47.92118 & 149 &  5125 &  429\\\\\n",
       "\\end{tabular}\n"
      ],
      "text/markdown": [
       "\n",
       "A data.table: 6 × 7\n",
       "\n",
       "| DATE &lt;date&gt; | DISTANCE &lt;dbl&gt; | DURATION &lt;dbl&gt; | ACTIVITY_SCORE &lt;dbl&gt; | AVGHR &lt;int&gt; | STEPSY &lt;dbl&gt; | CALBURNED &lt;dbl&gt; |\n",
       "|---|---|---|---|---|---|---|\n",
       "| 2022-07-18 | 9.00 | 95.15 | 57.01286 | 143 | 14918 | 1175 |\n",
       "| 2022-07-17 | 3.10 | 26.55 | 58.67957 |   0 |  4286 |  404 |\n",
       "| 2022-07-14 | 3.76 | 35.95 | 74.44854 | 148 |  5684 |  452 |\n",
       "| 2022-07-13 | 3.11 | 31.87 | 73.20733 | 150 |  4991 |  398 |\n",
       "| 2022-07-12 | 3.11 | 32.80 | 68.74034 | 155 |  5134 |  421 |\n",
       "| 2022-07-10 | 3.10 | 38.35 | 47.92118 | 149 |  5125 |  429 |\n",
       "\n"
      ],
      "text/plain": [
       "  DATE       DISTANCE DURATION ACTIVITY_SCORE AVGHR STEPSY CALBURNED\n",
       "1 2022-07-18 9.00     95.15    57.01286       143   14918  1175     \n",
       "2 2022-07-17 3.10     26.55    58.67957         0    4286   404     \n",
       "3 2022-07-14 3.76     35.95    74.44854       148    5684   452     \n",
       "4 2022-07-13 3.11     31.87    73.20733       150    4991   398     \n",
       "5 2022-07-12 3.11     32.80    68.74034       155    5134   421     \n",
       "6 2022-07-10 3.10     38.35    47.92118       149    5125   429     "
      ]
     },
     "metadata": {},
     "output_type": "display_data"
    }
   ],
   "source": [
    "head(MAP_Req)"
   ]
  },
  {
   "cell_type": "code",
   "execution_count": 21,
   "metadata": {
    "vscode": {
     "languageId": "r"
    }
   },
   "outputs": [],
   "source": [
    "df <- read.csv(\"C:/Users/coleb/OneDrive/Cosmo/Datasets/Apple Health Project/Jul21-Jul22/HealthView_7-14-21_7-20-22.csv\", header=TRUE)"
   ]
  },
  {
   "cell_type": "code",
   "execution_count": 22,
   "metadata": {
    "vscode": {
     "languageId": "r"
    }
   },
   "outputs": [
    {
     "data": {
      "text/html": [
       "401"
      ],
      "text/latex": [
       "401"
      ],
      "text/markdown": [
       "401"
      ],
      "text/plain": [
       "[1] 401"
      ]
     },
     "metadata": {},
     "output_type": "display_data"
    }
   ],
   "source": [
    "nrow(df)"
   ]
  },
  {
   "cell_type": "code",
   "execution_count": 23,
   "metadata": {
    "vscode": {
     "languageId": "r"
    }
   },
   "outputs": [
    {
     "data": {
      "text/html": [
       "<table class=\"dataframe\">\n",
       "<caption>A data.frame: 5 × 20</caption>\n",
       "<thead>\n",
       "\t<tr><th></th><th scope=col>Date</th><th scope=col>BLOOD.OXYGEN....</th><th scope=col>BODY.FAT....</th><th scope=col>BODY.MASS.INDEX</th><th scope=col>BODY.TEMPERATURE..degF.</th><th scope=col>BURNED.CALORIES..kcal.</th><th scope=col>DISTANCE..R.W...mi.</th><th scope=col>EXERCISE.MINUTES</th><th scope=col>HEART.RATE..bpm.</th><th scope=col>HEART.RATE.VARIABILITY..ms.</th><th scope=col>NET.CALORIES..kcal.</th><th scope=col>RESTING.CALORIES..kcal.</th><th scope=col>RESTING.HEART.RATE..bpm.</th><th scope=col>SLEEP</th><th scope=col>STEPS</th><th scope=col>TOTAL.CALORIES..kcal.</th><th scope=col>WALKING.HEART.RATE..bpm.</th><th scope=col>WEIGHT..lbs.</th><th scope=col>WORKOUTS</th><th scope=col>DURATION</th></tr>\n",
       "\t<tr><th></th><th scope=col>&lt;chr&gt;</th><th scope=col>&lt;chr&gt;</th><th scope=col>&lt;dbl&gt;</th><th scope=col>&lt;dbl&gt;</th><th scope=col>&lt;lgl&gt;</th><th scope=col>&lt;dbl&gt;</th><th scope=col>&lt;dbl&gt;</th><th scope=col>&lt;chr&gt;</th><th scope=col>&lt;dbl&gt;</th><th scope=col>&lt;dbl&gt;</th><th scope=col>&lt;dbl&gt;</th><th scope=col>&lt;dbl&gt;</th><th scope=col>&lt;dbl&gt;</th><th scope=col>&lt;chr&gt;</th><th scope=col>&lt;int&gt;</th><th scope=col>&lt;dbl&gt;</th><th scope=col>&lt;dbl&gt;</th><th scope=col>&lt;dbl&gt;</th><th scope=col>&lt;chr&gt;</th><th scope=col>&lt;chr&gt;</th></tr>\n",
       "</thead>\n",
       "<tbody>\n",
       "\t<tr><th scope=row>1</th><td>7/14/21</td><td></td><td>NA</td><td>NA</td><td>NA</td><td> 564.76</td><td>5.22</td><td>25m   </td><td>103.84</td><td>79.88</td><td>2511.17</td><td>1946.40</td><td>46</td><td>1h 10m</td><td>10324</td><td>2511.17</td><td>69</td><td>NA</td><td>       </td><td>   </td></tr>\n",
       "\t<tr><th scope=row>2</th><td>7/15/21</td><td></td><td>NA</td><td>NA</td><td>NA</td><td> 619.46</td><td>5.00</td><td>41m   </td><td> 81.34</td><td>91.68</td><td>2589.15</td><td>1969.69</td><td>40</td><td>9h 10m</td><td>10001</td><td>2589.15</td><td>72</td><td>NA</td><td>       </td><td>   </td></tr>\n",
       "\t<tr><th scope=row>3</th><td>7/16/21</td><td></td><td>NA</td><td>NA</td><td>NA</td><td> 686.13</td><td>5.25</td><td>48m   </td><td> 75.10</td><td>89.51</td><td>2694.58</td><td>2008.45</td><td>40</td><td>7h 55m</td><td>10870</td><td>2694.58</td><td>89</td><td>NA</td><td>       </td><td>   </td></tr>\n",
       "\t<tr><th scope=row>4</th><td>7/17/21</td><td></td><td>NA</td><td>NA</td><td>NA</td><td>1043.06</td><td>8.71</td><td>1h 48m</td><td>106.00</td><td>86.12</td><td>2999.42</td><td>1956.36</td><td>40</td><td>2h 10m</td><td>16766</td><td>2999.42</td><td>74</td><td>NA</td><td>Running</td><td>29m</td></tr>\n",
       "\t<tr><th scope=row>5</th><td>7/18/21</td><td></td><td>NA</td><td>NA</td><td>NA</td><td> 471.30</td><td>3.48</td><td>10m   </td><td> 73.61</td><td>77.00</td><td>2450.34</td><td>1979.05</td><td>40</td><td>6h 30m</td><td> 7251</td><td>2450.34</td><td>NA</td><td>NA</td><td>       </td><td>   </td></tr>\n",
       "</tbody>\n",
       "</table>\n"
      ],
      "text/latex": [
       "A data.frame: 5 × 20\n",
       "\\begin{tabular}{r|llllllllllllllllllll}\n",
       "  & Date & BLOOD.OXYGEN.... & BODY.FAT.... & BODY.MASS.INDEX & BODY.TEMPERATURE..degF. & BURNED.CALORIES..kcal. & DISTANCE..R.W...mi. & EXERCISE.MINUTES & HEART.RATE..bpm. & HEART.RATE.VARIABILITY..ms. & NET.CALORIES..kcal. & RESTING.CALORIES..kcal. & RESTING.HEART.RATE..bpm. & SLEEP & STEPS & TOTAL.CALORIES..kcal. & WALKING.HEART.RATE..bpm. & WEIGHT..lbs. & WORKOUTS & DURATION\\\\\n",
       "  & <chr> & <chr> & <dbl> & <dbl> & <lgl> & <dbl> & <dbl> & <chr> & <dbl> & <dbl> & <dbl> & <dbl> & <dbl> & <chr> & <int> & <dbl> & <dbl> & <dbl> & <chr> & <chr>\\\\\n",
       "\\hline\n",
       "\t1 & 7/14/21 &  & NA & NA & NA &  564.76 & 5.22 & 25m    & 103.84 & 79.88 & 2511.17 & 1946.40 & 46 & 1h 10m & 10324 & 2511.17 & 69 & NA &         &    \\\\\n",
       "\t2 & 7/15/21 &  & NA & NA & NA &  619.46 & 5.00 & 41m    &  81.34 & 91.68 & 2589.15 & 1969.69 & 40 & 9h 10m & 10001 & 2589.15 & 72 & NA &         &    \\\\\n",
       "\t3 & 7/16/21 &  & NA & NA & NA &  686.13 & 5.25 & 48m    &  75.10 & 89.51 & 2694.58 & 2008.45 & 40 & 7h 55m & 10870 & 2694.58 & 89 & NA &         &    \\\\\n",
       "\t4 & 7/17/21 &  & NA & NA & NA & 1043.06 & 8.71 & 1h 48m & 106.00 & 86.12 & 2999.42 & 1956.36 & 40 & 2h 10m & 16766 & 2999.42 & 74 & NA & Running & 29m\\\\\n",
       "\t5 & 7/18/21 &  & NA & NA & NA &  471.30 & 3.48 & 10m    &  73.61 & 77.00 & 2450.34 & 1979.05 & 40 & 6h 30m &  7251 & 2450.34 & NA & NA &         &    \\\\\n",
       "\\end{tabular}\n"
      ],
      "text/markdown": [
       "\n",
       "A data.frame: 5 × 20\n",
       "\n",
       "| <!--/--> | Date &lt;chr&gt; | BLOOD.OXYGEN.... &lt;chr&gt; | BODY.FAT.... &lt;dbl&gt; | BODY.MASS.INDEX &lt;dbl&gt; | BODY.TEMPERATURE..degF. &lt;lgl&gt; | BURNED.CALORIES..kcal. &lt;dbl&gt; | DISTANCE..R.W...mi. &lt;dbl&gt; | EXERCISE.MINUTES &lt;chr&gt; | HEART.RATE..bpm. &lt;dbl&gt; | HEART.RATE.VARIABILITY..ms. &lt;dbl&gt; | NET.CALORIES..kcal. &lt;dbl&gt; | RESTING.CALORIES..kcal. &lt;dbl&gt; | RESTING.HEART.RATE..bpm. &lt;dbl&gt; | SLEEP &lt;chr&gt; | STEPS &lt;int&gt; | TOTAL.CALORIES..kcal. &lt;dbl&gt; | WALKING.HEART.RATE..bpm. &lt;dbl&gt; | WEIGHT..lbs. &lt;dbl&gt; | WORKOUTS &lt;chr&gt; | DURATION &lt;chr&gt; |\n",
       "|---|---|---|---|---|---|---|---|---|---|---|---|---|---|---|---|---|---|---|---|---|\n",
       "| 1 | 7/14/21 | <!----> | NA | NA | NA |  564.76 | 5.22 | 25m    | 103.84 | 79.88 | 2511.17 | 1946.40 | 46 | 1h 10m | 10324 | 2511.17 | 69 | NA | <!----> | <!----> |\n",
       "| 2 | 7/15/21 | <!----> | NA | NA | NA |  619.46 | 5.00 | 41m    |  81.34 | 91.68 | 2589.15 | 1969.69 | 40 | 9h 10m | 10001 | 2589.15 | 72 | NA | <!----> | <!----> |\n",
       "| 3 | 7/16/21 | <!----> | NA | NA | NA |  686.13 | 5.25 | 48m    |  75.10 | 89.51 | 2694.58 | 2008.45 | 40 | 7h 55m | 10870 | 2694.58 | 89 | NA | <!----> | <!----> |\n",
       "| 4 | 7/17/21 | <!----> | NA | NA | NA | 1043.06 | 8.71 | 1h 48m | 106.00 | 86.12 | 2999.42 | 1956.36 | 40 | 2h 10m | 16766 | 2999.42 | 74 | NA | Running | 29m |\n",
       "| 5 | 7/18/21 | <!----> | NA | NA | NA |  471.30 | 3.48 | 10m    |  73.61 | 77.00 | 2450.34 | 1979.05 | 40 | 6h 30m |  7251 | 2450.34 | NA | NA | <!----> | <!----> |\n",
       "\n"
      ],
      "text/plain": [
       "  Date    BLOOD.OXYGEN.... BODY.FAT.... BODY.MASS.INDEX BODY.TEMPERATURE..degF.\n",
       "1 7/14/21                  NA           NA              NA                     \n",
       "2 7/15/21                  NA           NA              NA                     \n",
       "3 7/16/21                  NA           NA              NA                     \n",
       "4 7/17/21                  NA           NA              NA                     \n",
       "5 7/18/21                  NA           NA              NA                     \n",
       "  BURNED.CALORIES..kcal. DISTANCE..R.W...mi. EXERCISE.MINUTES HEART.RATE..bpm.\n",
       "1  564.76                5.22                25m              103.84          \n",
       "2  619.46                5.00                41m               81.34          \n",
       "3  686.13                5.25                48m               75.10          \n",
       "4 1043.06                8.71                1h 48m           106.00          \n",
       "5  471.30                3.48                10m               73.61          \n",
       "  HEART.RATE.VARIABILITY..ms. NET.CALORIES..kcal. RESTING.CALORIES..kcal.\n",
       "1 79.88                       2511.17             1946.40                \n",
       "2 91.68                       2589.15             1969.69                \n",
       "3 89.51                       2694.58             2008.45                \n",
       "4 86.12                       2999.42             1956.36                \n",
       "5 77.00                       2450.34             1979.05                \n",
       "  RESTING.HEART.RATE..bpm. SLEEP  STEPS TOTAL.CALORIES..kcal.\n",
       "1 46                       1h 10m 10324 2511.17              \n",
       "2 40                       9h 10m 10001 2589.15              \n",
       "3 40                       7h 55m 10870 2694.58              \n",
       "4 40                       2h 10m 16766 2999.42              \n",
       "5 40                       6h 30m  7251 2450.34              \n",
       "  WALKING.HEART.RATE..bpm. WEIGHT..lbs. WORKOUTS DURATION\n",
       "1 69                       NA                            \n",
       "2 72                       NA                            \n",
       "3 89                       NA                            \n",
       "4 74                       NA           Running  29m     \n",
       "5 NA                       NA                            "
      ]
     },
     "metadata": {},
     "output_type": "display_data"
    }
   ],
   "source": [
    "head(df, 5)"
   ]
  },
  {
   "cell_type": "code",
   "execution_count": 24,
   "metadata": {
    "vscode": {
     "languageId": "r"
    }
   },
   "outputs": [],
   "source": [
    "# df <- separate(data = df, col = Date.Submitted, into = c(\"left\", \"middle\", \"right\"), sep = \" \")"
   ]
  },
  {
   "cell_type": "code",
   "execution_count": 25,
   "metadata": {
    "vscode": {
     "languageId": "r"
    }
   },
   "outputs": [],
   "source": [
    "#write.csv(df, \"apple_data.csv\")"
   ]
  },
  {
   "cell_type": "code",
   "execution_count": 26,
   "metadata": {
    "vscode": {
     "languageId": "r"
    }
   },
   "outputs": [
    {
     "data": {
      "text/plain": [
       "     Date           BLOOD.OXYGEN....    BODY.FAT....   BODY.MASS.INDEX\n",
       " Length:401         Length:401         Min.   :18.90   Min.   :25.00  \n",
       " Class :character   Class :character   1st Qu.:19.60   1st Qu.:25.51  \n",
       " Mode  :character   Mode  :character   Median :19.93   Median :25.70  \n",
       "                                       Mean   :19.86   Mean   :25.63  \n",
       "                                       3rd Qu.:20.15   3rd Qu.:25.80  \n",
       "                                       Max.   :20.40   Max.   :26.00  \n",
       "                                       NA's   :385     NA's   :379    \n",
       " BODY.TEMPERATURE..degF. BURNED.CALORIES..kcal. DISTANCE..R.W...mi.\n",
       " Mode:logical            Min.   :   1.88        Min.   : 0.510     \n",
       " NA's:401                1st Qu.: 348.63        1st Qu.: 2.160     \n",
       "                         Median : 514.51        Median : 4.575     \n",
       "                         Mean   : 556.74        Mean   : 4.754     \n",
       "                         3rd Qu.: 766.14        3rd Qu.: 6.415     \n",
       "                         Max.   :2117.19        Max.   :17.380     \n",
       "                         NA's   :35             NA's   :29         \n",
       " EXERCISE.MINUTES   HEART.RATE..bpm. HEART.RATE.VARIABILITY..ms.\n",
       " Length:401         Min.   : 42.00   Min.   : 16.56             \n",
       " Class :character   1st Qu.: 70.12   1st Qu.: 64.47             \n",
       " Mode  :character   Median : 96.00   Median : 83.24             \n",
       "                    Mean   : 86.95   Mean   : 82.76             \n",
       "                    3rd Qu.:103.00   3rd Qu.:100.75             \n",
       "                    Max.   :113.00   Max.   :185.56             \n",
       "                    NA's   :35       NA's   :37                 \n",
       " NET.CALORIES..kcal. RESTING.CALORIES..kcal. RESTING.HEART.RATE..bpm.\n",
       " Min.   : 557.5      Min.   : 395.4          Min.   :36.0            \n",
       " 1st Qu.:2128.8      1st Qu.:1769.2          1st Qu.:39.0            \n",
       " Median :2353.9      Median :1823.9          Median :41.0            \n",
       " Mean   :2368.6      Mean   :1819.4          Mean   :41.5            \n",
       " 3rd Qu.:2633.8      3rd Qu.:1910.1          3rd Qu.:43.0            \n",
       " Max.   :4125.4      Max.   :2070.7          Max.   :51.0            \n",
       " NA's   :30          NA's   :30              NA's   :110             \n",
       "    SLEEP               STEPS       TOTAL.CALORIES..kcal.\n",
       " Length:401         Min.   : 1108   Min.   : 557.5       \n",
       " Class :character   1st Qu.: 4135   1st Qu.:2128.8       \n",
       " Mode  :character   Median : 8166   Median :2353.9       \n",
       "                    Mean   : 8482   Mean   :2368.6       \n",
       "                    3rd Qu.:11140   3rd Qu.:2633.8       \n",
       "                    Max.   :31352   Max.   :4125.4       \n",
       "                    NA's   :29      NA's   :30           \n",
       " WALKING.HEART.RATE..bpm.  WEIGHT..lbs.     WORKOUTS           DURATION        \n",
       " Min.   : 52.00           Min.   :164.8   Length:401         Length:401        \n",
       " 1st Qu.: 78.50           1st Qu.:168.5   Class :character   Class :character  \n",
       " Median : 87.00           Median :169.4   Mode  :character   Mode  :character  \n",
       " Mean   : 86.89           Mean   :169.1                                        \n",
       " 3rd Qu.: 93.38           3rd Qu.:170.6                                        \n",
       " Max.   :134.00           Max.   :171.4                                        \n",
       " NA's   :130              NA's   :379                                          "
      ]
     },
     "metadata": {},
     "output_type": "display_data"
    }
   ],
   "source": [
    "summary(df)"
   ]
  },
  {
   "cell_type": "code",
   "execution_count": 27,
   "metadata": {
    "vscode": {
     "languageId": "r"
    }
   },
   "outputs": [],
   "source": [
    "df <- data.frame(df)"
   ]
  },
  {
   "cell_type": "code",
   "execution_count": 28,
   "metadata": {
    "vscode": {
     "languageId": "r"
    }
   },
   "outputs": [
    {
     "data": {
      "text/html": [
       "401"
      ],
      "text/latex": [
       "401"
      ],
      "text/markdown": [
       "401"
      ],
      "text/plain": [
       "[1] 401"
      ]
     },
     "metadata": {},
     "output_type": "display_data"
    }
   ],
   "source": [
    "nrow(df)"
   ]
  },
  {
   "cell_type": "code",
   "execution_count": 29,
   "metadata": {
    "vscode": {
     "languageId": "r"
    }
   },
   "outputs": [],
   "source": [
    "#run_data <- read.csv(\"user94403143_workout_history.csv\", header=TRUE)\n",
    "run_data <- data.frame(df)"
   ]
  },
  {
   "cell_type": "code",
   "execution_count": 30,
   "metadata": {
    "vscode": {
     "languageId": "r"
    }
   },
   "outputs": [],
   "source": [
    "# df %>% mutate(Workout.date = Workout.Date %>% as.Date(\"%B %d, %Y\"), left = month(Workout.Date, abbr = FALSE, label = TRUE))"
   ]
  },
  {
   "cell_type": "code",
   "execution_count": 31,
   "metadata": {
    "vscode": {
     "languageId": "r"
    }
   },
   "outputs": [],
   "source": [
    "# #convert the datetime variables using the following logic:\n",
    "# #%B is a complete month name (November), %e is a day of the month (3) preceded by a space and followed by a comma and a space, and %Y is a four-digit year (2020).\n",
    "# df$Workout.Date <- as.Date(df$Workout.Date, format = \"%B %e, %Y\")\n",
    "# df$Date.Submitted <- as.Date(df$Date.Submitted, format = \"%B %e, %Y\")"
   ]
  },
  {
   "cell_type": "code",
   "execution_count": 33,
   "metadata": {
    "vscode": {
     "languageId": "r"
    }
   },
   "outputs": [],
   "source": [
    "library(lubridate)\n",
    "library(tidyverse)\n",
    "\n",
    "df <- df %>% mutate(Date=mdy(Date))\n",
    "df <- data.frame(df)"
   ]
  },
  {
   "cell_type": "code",
   "execution_count": 40,
   "metadata": {
    "vscode": {
     "languageId": "r"
    }
   },
   "outputs": [
    {
     "data": {
      "text/html": [
       "<table class=\"dataframe\">\n",
       "<caption>A data.frame: 5 × 20</caption>\n",
       "<thead>\n",
       "\t<tr><th></th><th scope=col>Date</th><th scope=col>BLOOD.OXYGEN....</th><th scope=col>BODY.FAT....</th><th scope=col>BODY.MASS.INDEX</th><th scope=col>BODY.TEMPERATURE..degF.</th><th scope=col>BURNED.CALORIES..kcal.</th><th scope=col>DISTANCE..R.W...mi.</th><th scope=col>EXERCISE.MINUTES</th><th scope=col>HEART.RATE..bpm.</th><th scope=col>HEART.RATE.VARIABILITY..ms.</th><th scope=col>NET.CALORIES..kcal.</th><th scope=col>RESTING.CALORIES..kcal.</th><th scope=col>RESTING.HEART.RATE..bpm.</th><th scope=col>SLEEP</th><th scope=col>STEPS</th><th scope=col>TOTAL.CALORIES..kcal.</th><th scope=col>WALKING.HEART.RATE..bpm.</th><th scope=col>WEIGHT..lbs.</th><th scope=col>WORKOUTS</th><th scope=col>DURATION</th></tr>\n",
       "\t<tr><th></th><th scope=col>&lt;date&gt;</th><th scope=col>&lt;chr&gt;</th><th scope=col>&lt;dbl&gt;</th><th scope=col>&lt;dbl&gt;</th><th scope=col>&lt;lgl&gt;</th><th scope=col>&lt;dbl&gt;</th><th scope=col>&lt;dbl&gt;</th><th scope=col>&lt;chr&gt;</th><th scope=col>&lt;dbl&gt;</th><th scope=col>&lt;dbl&gt;</th><th scope=col>&lt;dbl&gt;</th><th scope=col>&lt;dbl&gt;</th><th scope=col>&lt;dbl&gt;</th><th scope=col>&lt;chr&gt;</th><th scope=col>&lt;int&gt;</th><th scope=col>&lt;dbl&gt;</th><th scope=col>&lt;dbl&gt;</th><th scope=col>&lt;dbl&gt;</th><th scope=col>&lt;chr&gt;</th><th scope=col>&lt;chr&gt;</th></tr>\n",
       "</thead>\n",
       "<tbody>\n",
       "\t<tr><th scope=row>1</th><td>2021-07-14</td><td></td><td>NA</td><td>NA</td><td>NA</td><td> 564.76</td><td>5.22</td><td>25m   </td><td>103.84</td><td>79.88</td><td>2511.17</td><td>1946.40</td><td>46</td><td>1h 10m</td><td>10324</td><td>2511.17</td><td>69</td><td>NA</td><td>       </td><td>   </td></tr>\n",
       "\t<tr><th scope=row>2</th><td>2021-07-15</td><td></td><td>NA</td><td>NA</td><td>NA</td><td> 619.46</td><td>5.00</td><td>41m   </td><td> 81.34</td><td>91.68</td><td>2589.15</td><td>1969.69</td><td>40</td><td>9h 10m</td><td>10001</td><td>2589.15</td><td>72</td><td>NA</td><td>       </td><td>   </td></tr>\n",
       "\t<tr><th scope=row>3</th><td>2021-07-16</td><td></td><td>NA</td><td>NA</td><td>NA</td><td> 686.13</td><td>5.25</td><td>48m   </td><td> 75.10</td><td>89.51</td><td>2694.58</td><td>2008.45</td><td>40</td><td>7h 55m</td><td>10870</td><td>2694.58</td><td>89</td><td>NA</td><td>       </td><td>   </td></tr>\n",
       "\t<tr><th scope=row>4</th><td>2021-07-17</td><td></td><td>NA</td><td>NA</td><td>NA</td><td>1043.06</td><td>8.71</td><td>1h 48m</td><td>106.00</td><td>86.12</td><td>2999.42</td><td>1956.36</td><td>40</td><td>2h 10m</td><td>16766</td><td>2999.42</td><td>74</td><td>NA</td><td>Running</td><td>29m</td></tr>\n",
       "\t<tr><th scope=row>5</th><td>2021-07-18</td><td></td><td>NA</td><td>NA</td><td>NA</td><td> 471.30</td><td>3.48</td><td>10m   </td><td> 73.61</td><td>77.00</td><td>2450.34</td><td>1979.05</td><td>40</td><td>6h 30m</td><td> 7251</td><td>2450.34</td><td>NA</td><td>NA</td><td>       </td><td>   </td></tr>\n",
       "</tbody>\n",
       "</table>\n"
      ],
      "text/latex": [
       "A data.frame: 5 × 20\n",
       "\\begin{tabular}{r|llllllllllllllllllll}\n",
       "  & Date & BLOOD.OXYGEN.... & BODY.FAT.... & BODY.MASS.INDEX & BODY.TEMPERATURE..degF. & BURNED.CALORIES..kcal. & DISTANCE..R.W...mi. & EXERCISE.MINUTES & HEART.RATE..bpm. & HEART.RATE.VARIABILITY..ms. & NET.CALORIES..kcal. & RESTING.CALORIES..kcal. & RESTING.HEART.RATE..bpm. & SLEEP & STEPS & TOTAL.CALORIES..kcal. & WALKING.HEART.RATE..bpm. & WEIGHT..lbs. & WORKOUTS & DURATION\\\\\n",
       "  & <date> & <chr> & <dbl> & <dbl> & <lgl> & <dbl> & <dbl> & <chr> & <dbl> & <dbl> & <dbl> & <dbl> & <dbl> & <chr> & <int> & <dbl> & <dbl> & <dbl> & <chr> & <chr>\\\\\n",
       "\\hline\n",
       "\t1 & 2021-07-14 &  & NA & NA & NA &  564.76 & 5.22 & 25m    & 103.84 & 79.88 & 2511.17 & 1946.40 & 46 & 1h 10m & 10324 & 2511.17 & 69 & NA &         &    \\\\\n",
       "\t2 & 2021-07-15 &  & NA & NA & NA &  619.46 & 5.00 & 41m    &  81.34 & 91.68 & 2589.15 & 1969.69 & 40 & 9h 10m & 10001 & 2589.15 & 72 & NA &         &    \\\\\n",
       "\t3 & 2021-07-16 &  & NA & NA & NA &  686.13 & 5.25 & 48m    &  75.10 & 89.51 & 2694.58 & 2008.45 & 40 & 7h 55m & 10870 & 2694.58 & 89 & NA &         &    \\\\\n",
       "\t4 & 2021-07-17 &  & NA & NA & NA & 1043.06 & 8.71 & 1h 48m & 106.00 & 86.12 & 2999.42 & 1956.36 & 40 & 2h 10m & 16766 & 2999.42 & 74 & NA & Running & 29m\\\\\n",
       "\t5 & 2021-07-18 &  & NA & NA & NA &  471.30 & 3.48 & 10m    &  73.61 & 77.00 & 2450.34 & 1979.05 & 40 & 6h 30m &  7251 & 2450.34 & NA & NA &         &    \\\\\n",
       "\\end{tabular}\n"
      ],
      "text/markdown": [
       "\n",
       "A data.frame: 5 × 20\n",
       "\n",
       "| <!--/--> | Date &lt;date&gt; | BLOOD.OXYGEN.... &lt;chr&gt; | BODY.FAT.... &lt;dbl&gt; | BODY.MASS.INDEX &lt;dbl&gt; | BODY.TEMPERATURE..degF. &lt;lgl&gt; | BURNED.CALORIES..kcal. &lt;dbl&gt; | DISTANCE..R.W...mi. &lt;dbl&gt; | EXERCISE.MINUTES &lt;chr&gt; | HEART.RATE..bpm. &lt;dbl&gt; | HEART.RATE.VARIABILITY..ms. &lt;dbl&gt; | NET.CALORIES..kcal. &lt;dbl&gt; | RESTING.CALORIES..kcal. &lt;dbl&gt; | RESTING.HEART.RATE..bpm. &lt;dbl&gt; | SLEEP &lt;chr&gt; | STEPS &lt;int&gt; | TOTAL.CALORIES..kcal. &lt;dbl&gt; | WALKING.HEART.RATE..bpm. &lt;dbl&gt; | WEIGHT..lbs. &lt;dbl&gt; | WORKOUTS &lt;chr&gt; | DURATION &lt;chr&gt; |\n",
       "|---|---|---|---|---|---|---|---|---|---|---|---|---|---|---|---|---|---|---|---|---|\n",
       "| 1 | 2021-07-14 | <!----> | NA | NA | NA |  564.76 | 5.22 | 25m    | 103.84 | 79.88 | 2511.17 | 1946.40 | 46 | 1h 10m | 10324 | 2511.17 | 69 | NA | <!----> | <!----> |\n",
       "| 2 | 2021-07-15 | <!----> | NA | NA | NA |  619.46 | 5.00 | 41m    |  81.34 | 91.68 | 2589.15 | 1969.69 | 40 | 9h 10m | 10001 | 2589.15 | 72 | NA | <!----> | <!----> |\n",
       "| 3 | 2021-07-16 | <!----> | NA | NA | NA |  686.13 | 5.25 | 48m    |  75.10 | 89.51 | 2694.58 | 2008.45 | 40 | 7h 55m | 10870 | 2694.58 | 89 | NA | <!----> | <!----> |\n",
       "| 4 | 2021-07-17 | <!----> | NA | NA | NA | 1043.06 | 8.71 | 1h 48m | 106.00 | 86.12 | 2999.42 | 1956.36 | 40 | 2h 10m | 16766 | 2999.42 | 74 | NA | Running | 29m |\n",
       "| 5 | 2021-07-18 | <!----> | NA | NA | NA |  471.30 | 3.48 | 10m    |  73.61 | 77.00 | 2450.34 | 1979.05 | 40 | 6h 30m |  7251 | 2450.34 | NA | NA | <!----> | <!----> |\n",
       "\n"
      ],
      "text/plain": [
       "  Date       BLOOD.OXYGEN.... BODY.FAT.... BODY.MASS.INDEX\n",
       "1 2021-07-14                  NA           NA             \n",
       "2 2021-07-15                  NA           NA             \n",
       "3 2021-07-16                  NA           NA             \n",
       "4 2021-07-17                  NA           NA             \n",
       "5 2021-07-18                  NA           NA             \n",
       "  BODY.TEMPERATURE..degF. BURNED.CALORIES..kcal. DISTANCE..R.W...mi.\n",
       "1 NA                       564.76                5.22               \n",
       "2 NA                       619.46                5.00               \n",
       "3 NA                       686.13                5.25               \n",
       "4 NA                      1043.06                8.71               \n",
       "5 NA                       471.30                3.48               \n",
       "  EXERCISE.MINUTES HEART.RATE..bpm. HEART.RATE.VARIABILITY..ms.\n",
       "1 25m              103.84           79.88                      \n",
       "2 41m               81.34           91.68                      \n",
       "3 48m               75.10           89.51                      \n",
       "4 1h 48m           106.00           86.12                      \n",
       "5 10m               73.61           77.00                      \n",
       "  NET.CALORIES..kcal. RESTING.CALORIES..kcal. RESTING.HEART.RATE..bpm. SLEEP \n",
       "1 2511.17             1946.40                 46                       1h 10m\n",
       "2 2589.15             1969.69                 40                       9h 10m\n",
       "3 2694.58             2008.45                 40                       7h 55m\n",
       "4 2999.42             1956.36                 40                       2h 10m\n",
       "5 2450.34             1979.05                 40                       6h 30m\n",
       "  STEPS TOTAL.CALORIES..kcal. WALKING.HEART.RATE..bpm. WEIGHT..lbs. WORKOUTS\n",
       "1 10324 2511.17               69                       NA                   \n",
       "2 10001 2589.15               72                       NA                   \n",
       "3 10870 2694.58               89                       NA                   \n",
       "4 16766 2999.42               74                       NA           Running \n",
       "5  7251 2450.34               NA                       NA                   \n",
       "  DURATION\n",
       "1         \n",
       "2         \n",
       "3         \n",
       "4 29m     \n",
       "5         "
      ]
     },
     "metadata": {},
     "output_type": "display_data"
    }
   ],
   "source": [
    "head(df, 5)\n",
    "df <- df %>% mutate(Date=as.Date(Date))\n",
    "df <- data.frame(df)\n"
   ]
  },
  {
   "cell_type": "code",
   "execution_count": 52,
   "metadata": {
    "vscode": {
     "languageId": "r"
    }
   },
   "outputs": [],
   "source": [
    "library(dplyr)\n",
    "df2 <- df[rev(order(df$Date)),]"
   ]
  },
  {
   "cell_type": "code",
   "execution_count": 54,
   "metadata": {
    "vscode": {
     "languageId": "r"
    }
   },
   "outputs": [
    {
     "data": {
      "text/html": [
       "<table class=\"dataframe\">\n",
       "<caption>A data.frame: 25 × 20</caption>\n",
       "<thead>\n",
       "\t<tr><th></th><th scope=col>Date</th><th scope=col>BLOOD.OXYGEN....</th><th scope=col>BODY.FAT....</th><th scope=col>BODY.MASS.INDEX</th><th scope=col>BODY.TEMPERATURE..degF.</th><th scope=col>BURNED.CALORIES..kcal.</th><th scope=col>DISTANCE..R.W...mi.</th><th scope=col>EXERCISE.MINUTES</th><th scope=col>HEART.RATE..bpm.</th><th scope=col>HEART.RATE.VARIABILITY..ms.</th><th scope=col>NET.CALORIES..kcal.</th><th scope=col>RESTING.CALORIES..kcal.</th><th scope=col>RESTING.HEART.RATE..bpm.</th><th scope=col>SLEEP</th><th scope=col>STEPS</th><th scope=col>TOTAL.CALORIES..kcal.</th><th scope=col>WALKING.HEART.RATE..bpm.</th><th scope=col>WEIGHT..lbs.</th><th scope=col>WORKOUTS</th><th scope=col>DURATION</th></tr>\n",
       "\t<tr><th></th><th scope=col>&lt;date&gt;</th><th scope=col>&lt;chr&gt;</th><th scope=col>&lt;dbl&gt;</th><th scope=col>&lt;dbl&gt;</th><th scope=col>&lt;lgl&gt;</th><th scope=col>&lt;dbl&gt;</th><th scope=col>&lt;dbl&gt;</th><th scope=col>&lt;chr&gt;</th><th scope=col>&lt;dbl&gt;</th><th scope=col>&lt;dbl&gt;</th><th scope=col>&lt;dbl&gt;</th><th scope=col>&lt;dbl&gt;</th><th scope=col>&lt;dbl&gt;</th><th scope=col>&lt;chr&gt;</th><th scope=col>&lt;int&gt;</th><th scope=col>&lt;dbl&gt;</th><th scope=col>&lt;dbl&gt;</th><th scope=col>&lt;dbl&gt;</th><th scope=col>&lt;chr&gt;</th><th scope=col>&lt;chr&gt;</th></tr>\n",
       "</thead>\n",
       "<tbody>\n",
       "\t<tr><th scope=row>401</th><td>2022-07-20</td><td>94 - 98 </td><td>  NA</td><td>  NA</td><td>NA</td><td>1006.77</td><td> 8.43</td><td>2h 4m </td><td>104.0</td><td> 88.34</td><td>2668.15</td><td>1661.38</td><td>48</td><td>       </td><td>13135</td><td>2668.15</td><td> 96.0</td><td>   NA</td><td>Running</td><td>1h 1m </td></tr>\n",
       "\t<tr><th scope=row>400</th><td>2022-07-19</td><td>94 - 96 </td><td>  NA</td><td>  NA</td><td>NA</td><td>  25.33</td><td> 1.38</td><td>      </td><td> 44.0</td><td> 34.63</td><td>1662.31</td><td>1636.98</td><td>NA</td><td>3h 12m </td><td> 3138</td><td>1662.31</td><td>   NA</td><td>   NA</td><td>       </td><td>      </td></tr>\n",
       "\t<tr><th scope=row>399</th><td>2022-07-18</td><td>92 - 96 </td><td>  NA</td><td>  NA</td><td>NA</td><td>1104.56</td><td>12.68</td><td>1h 36m</td><td> 98.5</td><td> 68.19</td><td>2836.11</td><td>1731.55</td><td>NA</td><td>4h 25m </td><td>23754</td><td>2836.11</td><td>   NA</td><td>   NA</td><td>Running</td><td>1h 35m</td></tr>\n",
       "\t<tr><th scope=row>398</th><td>2022-07-17</td><td>92 - 99 </td><td>  NA</td><td>  NA</td><td>NA</td><td> 549.13</td><td> 4.55</td><td>58m   </td><td>106.5</td><td>127.65</td><td>2310.74</td><td>1761.61</td><td>38</td><td>7h 40m </td><td> 8360</td><td>2310.74</td><td> 89.0</td><td>   NA</td><td>Running</td><td>26m   </td></tr>\n",
       "\t<tr><th scope=row>397</th><td>2022-07-16</td><td>93 - 97 </td><td>  NA</td><td>  NA</td><td>NA</td><td> 501.35</td><td> 8.03</td><td>57m   </td><td> 94.5</td><td> 71.24</td><td>2234.70</td><td>1733.35</td><td>39</td><td>8h 45m </td><td> 9848</td><td>2234.70</td><td>   NA</td><td>   NA</td><td>Running</td><td>56m   </td></tr>\n",
       "\t<tr><th scope=row>396</th><td>2022-07-15</td><td>94 - 99 </td><td>  NA</td><td>  NA</td><td>NA</td><td> 418.81</td><td> 2.97</td><td>5m    </td><td> 73.0</td><td> 95.51</td><td>2290.69</td><td>1871.88</td><td>42</td><td>2h 50m </td><td> 6428</td><td>2290.69</td><td> 82.0</td><td>   NA</td><td>       </td><td>      </td></tr>\n",
       "\t<tr><th scope=row>395</th><td>2022-07-14</td><td>92 - 98 </td><td>  NA</td><td>  NA</td><td>NA</td><td> 454.21</td><td> 7.33</td><td>38m   </td><td>103.0</td><td>124.66</td><td>2133.59</td><td>1679.39</td><td>NA</td><td>5h 38m </td><td>14361</td><td>2133.59</td><td> 65.0</td><td>   NA</td><td>Running</td><td>35m   </td></tr>\n",
       "\t<tr><th scope=row>394</th><td>2022-07-13</td><td>92 - 98 </td><td>  NA</td><td>  NA</td><td>NA</td><td> 612.31</td><td> 5.83</td><td>35m   </td><td>107.0</td><td>102.45</td><td>2401.15</td><td>1788.83</td><td>47</td><td>2h 10m </td><td>10962</td><td>2401.15</td><td> 88.0</td><td>   NA</td><td>Running</td><td>32m   </td></tr>\n",
       "\t<tr><th scope=row>393</th><td>2022-07-12</td><td>93 - 98 </td><td>  NA</td><td>  NA</td><td>NA</td><td> 780.55</td><td> 6.45</td><td>40m   </td><td>106.0</td><td> 89.51</td><td>2579.58</td><td>1799.03</td><td>50</td><td>7h 33m </td><td>12173</td><td>2579.58</td><td> 85.0</td><td>   NA</td><td>Running</td><td>33m   </td></tr>\n",
       "\t<tr><th scope=row>392</th><td>2022-07-11</td><td>96 - 100</td><td>19.2</td><td>25.2</td><td>NA</td><td> 570.48</td><td> 5.79</td><td>32m   </td><td>103.5</td><td>115.18</td><td>2330.99</td><td>1760.50</td><td>42</td><td>9h 49m </td><td>11646</td><td>2330.99</td><td>104.0</td><td>166.0</td><td>Running</td><td>23m   </td></tr>\n",
       "\t<tr><th scope=row>391</th><td>2022-07-10</td><td>93 - 98 </td><td>  NA</td><td>25.2</td><td>NA</td><td> 608.91</td><td> 4.51</td><td>39m   </td><td>104.5</td><td> 85.91</td><td>2376.79</td><td>1767.88</td><td>42</td><td>3h 40m </td><td> 8117</td><td>2376.79</td><td> 69.0</td><td>166.4</td><td>Running</td><td>38m   </td></tr>\n",
       "\t<tr><th scope=row>390</th><td>2022-07-09</td><td>88 - 96 </td><td>18.9</td><td>25.0</td><td>NA</td><td> 889.81</td><td> 7.86</td><td>40m   </td><td>110.5</td><td> 75.36</td><td>2817.58</td><td>1927.78</td><td>47</td><td>1h 40m </td><td>15547</td><td>2817.58</td><td>113.0</td><td>164.8</td><td>Running</td><td>33m   </td></tr>\n",
       "\t<tr><th scope=row>389</th><td>2022-07-08</td><td>91 - 97 </td><td>  NA</td><td>  NA</td><td>NA</td><td> 844.12</td><td> 7.40</td><td>41m   </td><td>106.0</td><td>111.64</td><td>2690.45</td><td>1846.33</td><td>51</td><td>8h 42m </td><td>14414</td><td>2690.45</td><td> 73.5</td><td>   NA</td><td>Running</td><td>33m   </td></tr>\n",
       "\t<tr><th scope=row>388</th><td>2022-07-07</td><td>        </td><td>  NA</td><td>25.5</td><td>NA</td><td> 381.35</td><td> 3.54</td><td>      </td><td> 75.0</td><td> 95.14</td><td>2219.90</td><td>1838.55</td><td>43</td><td>       </td><td> 7751</td><td>2219.90</td><td> 75.0</td><td>168.8</td><td>       </td><td>      </td></tr>\n",
       "\t<tr><th scope=row>387</th><td>2022-07-06</td><td>91 - 98 </td><td>  NA</td><td>  NA</td><td>NA</td><td> 463.36</td><td> 4.72</td><td>3m    </td><td> 78.5</td><td> 68.21</td><td>2289.36</td><td>1826.00</td><td>43</td><td>5h 48m </td><td>10125</td><td>2289.36</td><td> 91.0</td><td>   NA</td><td>       </td><td>      </td></tr>\n",
       "\t<tr><th scope=row>386</th><td>2022-07-05</td><td>94 - 97 </td><td>  NA</td><td>25.9</td><td>NA</td><td> 434.55</td><td> 3.91</td><td>3m    </td><td> 85.5</td><td> 57.69</td><td>2282.60</td><td>1848.05</td><td>49</td><td>1h 30m </td><td> 8475</td><td>2282.60</td><td> 75.0</td><td>171.0</td><td>       </td><td>      </td></tr>\n",
       "\t<tr><th scope=row>385</th><td>2022-07-04</td><td>93 - 99 </td><td>  NA</td><td>25.8</td><td>NA</td><td>  49.12</td><td> 0.77</td><td>1m    </td><td> 42.0</td><td> 59.83</td><td>1646.41</td><td>1597.29</td><td>NA</td><td>8h 29m </td><td> 1798</td><td>1646.41</td><td>   NA</td><td>170.6</td><td>       </td><td>      </td></tr>\n",
       "\t<tr><th scope=row>384</th><td>2022-07-03</td><td>93 - 97 </td><td>  NA</td><td>  NA</td><td>NA</td><td> 242.86</td><td> 2.43</td><td>1m    </td><td> 64.0</td><td> 90.89</td><td>1981.52</td><td>1738.66</td><td>37</td><td>10h 30m</td><td> 5408</td><td>1981.52</td><td> 67.0</td><td>   NA</td><td>       </td><td>      </td></tr>\n",
       "\t<tr><th scope=row>383</th><td>2022-07-02</td><td>92 - 98 </td><td>  NA</td><td>  NA</td><td>NA</td><td> 532.44</td><td> 3.89</td><td>15m   </td><td> 68.5</td><td> 76.15</td><td>2466.88</td><td>1934.44</td><td>39</td><td>7h 5m  </td><td> 8224</td><td>2466.88</td><td> 73.0</td><td>   NA</td><td>       </td><td>      </td></tr>\n",
       "\t<tr><th scope=row>382</th><td>2022-07-01</td><td>86 - 98 </td><td>  NA</td><td>  NA</td><td>NA</td><td> 304.30</td><td> 3.07</td><td>4m    </td><td> 61.0</td><td> 78.71</td><td>2083.48</td><td>1779.18</td><td>44</td><td>10h 25m</td><td> 6674</td><td>2083.48</td><td> 79.0</td><td>   NA</td><td>       </td><td>      </td></tr>\n",
       "\t<tr><th scope=row>381</th><td>2022-06-30</td><td>92 - 97 </td><td>  NA</td><td>25.7</td><td>NA</td><td> 443.90</td><td> 3.09</td><td>3m    </td><td> 59.5</td><td> 76.75</td><td>2306.04</td><td>1862.14</td><td>42</td><td>7h 19m </td><td> 6600</td><td>2306.04</td><td> 75.0</td><td>170.0</td><td>       </td><td>      </td></tr>\n",
       "\t<tr><th scope=row>380</th><td>2022-06-29</td><td>92 - 96 </td><td>  NA</td><td>  NA</td><td>NA</td><td>  92.58</td><td> 0.56</td><td>      </td><td> 51.0</td><td> 41.69</td><td>1815.12</td><td>1722.53</td><td>NA</td><td>5h 51m </td><td> 1249</td><td>1815.12</td><td>   NA</td><td>   NA</td><td>       </td><td>      </td></tr>\n",
       "\t<tr><th scope=row>379</th><td>2022-06-28</td><td>89 - 98 </td><td>  NA</td><td>  NA</td><td>NA</td><td> 439.05</td><td> 3.19</td><td>1m    </td><td> 66.5</td><td>138.11</td><td>2353.48</td><td>1914.43</td><td>41</td><td>6h 30m </td><td> 6849</td><td>2353.48</td><td> 73.0</td><td>   NA</td><td>       </td><td>      </td></tr>\n",
       "\t<tr><th scope=row>378</th><td>2022-06-27</td><td>90 - 100</td><td>  NA</td><td>  NA</td><td>NA</td><td> 550.61</td><td> 4.92</td><td>4m    </td><td> 77.5</td><td> 86.28</td><td>2464.89</td><td>1914.28</td><td>42</td><td>8h 2m  </td><td>10676</td><td>2464.89</td><td> 80.0</td><td>   NA</td><td>       </td><td>      </td></tr>\n",
       "\t<tr><th scope=row>377</th><td>2022-06-26</td><td>93 - 97 </td><td>  NA</td><td>  NA</td><td>NA</td><td> 823.40</td><td> 6.36</td><td>40m   </td><td> 97.0</td><td> 87.37</td><td>2734.47</td><td>1911.07</td><td>39</td><td>6h 30m </td><td>13836</td><td>2734.47</td><td> 68.5</td><td>   NA</td><td>       </td><td>      </td></tr>\n",
       "</tbody>\n",
       "</table>\n"
      ],
      "text/latex": [
       "A data.frame: 25 × 20\n",
       "\\begin{tabular}{r|llllllllllllllllllll}\n",
       "  & Date & BLOOD.OXYGEN.... & BODY.FAT.... & BODY.MASS.INDEX & BODY.TEMPERATURE..degF. & BURNED.CALORIES..kcal. & DISTANCE..R.W...mi. & EXERCISE.MINUTES & HEART.RATE..bpm. & HEART.RATE.VARIABILITY..ms. & NET.CALORIES..kcal. & RESTING.CALORIES..kcal. & RESTING.HEART.RATE..bpm. & SLEEP & STEPS & TOTAL.CALORIES..kcal. & WALKING.HEART.RATE..bpm. & WEIGHT..lbs. & WORKOUTS & DURATION\\\\\n",
       "  & <date> & <chr> & <dbl> & <dbl> & <lgl> & <dbl> & <dbl> & <chr> & <dbl> & <dbl> & <dbl> & <dbl> & <dbl> & <chr> & <int> & <dbl> & <dbl> & <dbl> & <chr> & <chr>\\\\\n",
       "\\hline\n",
       "\t401 & 2022-07-20 & 94 - 98  &   NA &   NA & NA & 1006.77 &  8.43 & 2h 4m  & 104.0 &  88.34 & 2668.15 & 1661.38 & 48 &         & 13135 & 2668.15 &  96.0 &    NA & Running & 1h 1m \\\\\n",
       "\t400 & 2022-07-19 & 94 - 96  &   NA &   NA & NA &   25.33 &  1.38 &        &  44.0 &  34.63 & 1662.31 & 1636.98 & NA & 3h 12m  &  3138 & 1662.31 &    NA &    NA &         &       \\\\\n",
       "\t399 & 2022-07-18 & 92 - 96  &   NA &   NA & NA & 1104.56 & 12.68 & 1h 36m &  98.5 &  68.19 & 2836.11 & 1731.55 & NA & 4h 25m  & 23754 & 2836.11 &    NA &    NA & Running & 1h 35m\\\\\n",
       "\t398 & 2022-07-17 & 92 - 99  &   NA &   NA & NA &  549.13 &  4.55 & 58m    & 106.5 & 127.65 & 2310.74 & 1761.61 & 38 & 7h 40m  &  8360 & 2310.74 &  89.0 &    NA & Running & 26m   \\\\\n",
       "\t397 & 2022-07-16 & 93 - 97  &   NA &   NA & NA &  501.35 &  8.03 & 57m    &  94.5 &  71.24 & 2234.70 & 1733.35 & 39 & 8h 45m  &  9848 & 2234.70 &    NA &    NA & Running & 56m   \\\\\n",
       "\t396 & 2022-07-15 & 94 - 99  &   NA &   NA & NA &  418.81 &  2.97 & 5m     &  73.0 &  95.51 & 2290.69 & 1871.88 & 42 & 2h 50m  &  6428 & 2290.69 &  82.0 &    NA &         &       \\\\\n",
       "\t395 & 2022-07-14 & 92 - 98  &   NA &   NA & NA &  454.21 &  7.33 & 38m    & 103.0 & 124.66 & 2133.59 & 1679.39 & NA & 5h 38m  & 14361 & 2133.59 &  65.0 &    NA & Running & 35m   \\\\\n",
       "\t394 & 2022-07-13 & 92 - 98  &   NA &   NA & NA &  612.31 &  5.83 & 35m    & 107.0 & 102.45 & 2401.15 & 1788.83 & 47 & 2h 10m  & 10962 & 2401.15 &  88.0 &    NA & Running & 32m   \\\\\n",
       "\t393 & 2022-07-12 & 93 - 98  &   NA &   NA & NA &  780.55 &  6.45 & 40m    & 106.0 &  89.51 & 2579.58 & 1799.03 & 50 & 7h 33m  & 12173 & 2579.58 &  85.0 &    NA & Running & 33m   \\\\\n",
       "\t392 & 2022-07-11 & 96 - 100 & 19.2 & 25.2 & NA &  570.48 &  5.79 & 32m    & 103.5 & 115.18 & 2330.99 & 1760.50 & 42 & 9h 49m  & 11646 & 2330.99 & 104.0 & 166.0 & Running & 23m   \\\\\n",
       "\t391 & 2022-07-10 & 93 - 98  &   NA & 25.2 & NA &  608.91 &  4.51 & 39m    & 104.5 &  85.91 & 2376.79 & 1767.88 & 42 & 3h 40m  &  8117 & 2376.79 &  69.0 & 166.4 & Running & 38m   \\\\\n",
       "\t390 & 2022-07-09 & 88 - 96  & 18.9 & 25.0 & NA &  889.81 &  7.86 & 40m    & 110.5 &  75.36 & 2817.58 & 1927.78 & 47 & 1h 40m  & 15547 & 2817.58 & 113.0 & 164.8 & Running & 33m   \\\\\n",
       "\t389 & 2022-07-08 & 91 - 97  &   NA &   NA & NA &  844.12 &  7.40 & 41m    & 106.0 & 111.64 & 2690.45 & 1846.33 & 51 & 8h 42m  & 14414 & 2690.45 &  73.5 &    NA & Running & 33m   \\\\\n",
       "\t388 & 2022-07-07 &          &   NA & 25.5 & NA &  381.35 &  3.54 &        &  75.0 &  95.14 & 2219.90 & 1838.55 & 43 &         &  7751 & 2219.90 &  75.0 & 168.8 &         &       \\\\\n",
       "\t387 & 2022-07-06 & 91 - 98  &   NA &   NA & NA &  463.36 &  4.72 & 3m     &  78.5 &  68.21 & 2289.36 & 1826.00 & 43 & 5h 48m  & 10125 & 2289.36 &  91.0 &    NA &         &       \\\\\n",
       "\t386 & 2022-07-05 & 94 - 97  &   NA & 25.9 & NA &  434.55 &  3.91 & 3m     &  85.5 &  57.69 & 2282.60 & 1848.05 & 49 & 1h 30m  &  8475 & 2282.60 &  75.0 & 171.0 &         &       \\\\\n",
       "\t385 & 2022-07-04 & 93 - 99  &   NA & 25.8 & NA &   49.12 &  0.77 & 1m     &  42.0 &  59.83 & 1646.41 & 1597.29 & NA & 8h 29m  &  1798 & 1646.41 &    NA & 170.6 &         &       \\\\\n",
       "\t384 & 2022-07-03 & 93 - 97  &   NA &   NA & NA &  242.86 &  2.43 & 1m     &  64.0 &  90.89 & 1981.52 & 1738.66 & 37 & 10h 30m &  5408 & 1981.52 &  67.0 &    NA &         &       \\\\\n",
       "\t383 & 2022-07-02 & 92 - 98  &   NA &   NA & NA &  532.44 &  3.89 & 15m    &  68.5 &  76.15 & 2466.88 & 1934.44 & 39 & 7h 5m   &  8224 & 2466.88 &  73.0 &    NA &         &       \\\\\n",
       "\t382 & 2022-07-01 & 86 - 98  &   NA &   NA & NA &  304.30 &  3.07 & 4m     &  61.0 &  78.71 & 2083.48 & 1779.18 & 44 & 10h 25m &  6674 & 2083.48 &  79.0 &    NA &         &       \\\\\n",
       "\t381 & 2022-06-30 & 92 - 97  &   NA & 25.7 & NA &  443.90 &  3.09 & 3m     &  59.5 &  76.75 & 2306.04 & 1862.14 & 42 & 7h 19m  &  6600 & 2306.04 &  75.0 & 170.0 &         &       \\\\\n",
       "\t380 & 2022-06-29 & 92 - 96  &   NA &   NA & NA &   92.58 &  0.56 &        &  51.0 &  41.69 & 1815.12 & 1722.53 & NA & 5h 51m  &  1249 & 1815.12 &    NA &    NA &         &       \\\\\n",
       "\t379 & 2022-06-28 & 89 - 98  &   NA &   NA & NA &  439.05 &  3.19 & 1m     &  66.5 & 138.11 & 2353.48 & 1914.43 & 41 & 6h 30m  &  6849 & 2353.48 &  73.0 &    NA &         &       \\\\\n",
       "\t378 & 2022-06-27 & 90 - 100 &   NA &   NA & NA &  550.61 &  4.92 & 4m     &  77.5 &  86.28 & 2464.89 & 1914.28 & 42 & 8h 2m   & 10676 & 2464.89 &  80.0 &    NA &         &       \\\\\n",
       "\t377 & 2022-06-26 & 93 - 97  &   NA &   NA & NA &  823.40 &  6.36 & 40m    &  97.0 &  87.37 & 2734.47 & 1911.07 & 39 & 6h 30m  & 13836 & 2734.47 &  68.5 &    NA &         &       \\\\\n",
       "\\end{tabular}\n"
      ],
      "text/markdown": [
       "\n",
       "A data.frame: 25 × 20\n",
       "\n",
       "| <!--/--> | Date &lt;date&gt; | BLOOD.OXYGEN.... &lt;chr&gt; | BODY.FAT.... &lt;dbl&gt; | BODY.MASS.INDEX &lt;dbl&gt; | BODY.TEMPERATURE..degF. &lt;lgl&gt; | BURNED.CALORIES..kcal. &lt;dbl&gt; | DISTANCE..R.W...mi. &lt;dbl&gt; | EXERCISE.MINUTES &lt;chr&gt; | HEART.RATE..bpm. &lt;dbl&gt; | HEART.RATE.VARIABILITY..ms. &lt;dbl&gt; | NET.CALORIES..kcal. &lt;dbl&gt; | RESTING.CALORIES..kcal. &lt;dbl&gt; | RESTING.HEART.RATE..bpm. &lt;dbl&gt; | SLEEP &lt;chr&gt; | STEPS &lt;int&gt; | TOTAL.CALORIES..kcal. &lt;dbl&gt; | WALKING.HEART.RATE..bpm. &lt;dbl&gt; | WEIGHT..lbs. &lt;dbl&gt; | WORKOUTS &lt;chr&gt; | DURATION &lt;chr&gt; |\n",
       "|---|---|---|---|---|---|---|---|---|---|---|---|---|---|---|---|---|---|---|---|---|\n",
       "| 401 | 2022-07-20 | 94 - 98  |   NA |   NA | NA | 1006.77 |  8.43 | 2h 4m  | 104.0 |  88.34 | 2668.15 | 1661.38 | 48 | <!----> | 13135 | 2668.15 |  96.0 |    NA | Running | 1h 1m  |\n",
       "| 400 | 2022-07-19 | 94 - 96  |   NA |   NA | NA |   25.33 |  1.38 | <!----> |  44.0 |  34.63 | 1662.31 | 1636.98 | NA | 3h 12m  |  3138 | 1662.31 |    NA |    NA | <!----> | <!----> |\n",
       "| 399 | 2022-07-18 | 92 - 96  |   NA |   NA | NA | 1104.56 | 12.68 | 1h 36m |  98.5 |  68.19 | 2836.11 | 1731.55 | NA | 4h 25m  | 23754 | 2836.11 |    NA |    NA | Running | 1h 35m |\n",
       "| 398 | 2022-07-17 | 92 - 99  |   NA |   NA | NA |  549.13 |  4.55 | 58m    | 106.5 | 127.65 | 2310.74 | 1761.61 | 38 | 7h 40m  |  8360 | 2310.74 |  89.0 |    NA | Running | 26m    |\n",
       "| 397 | 2022-07-16 | 93 - 97  |   NA |   NA | NA |  501.35 |  8.03 | 57m    |  94.5 |  71.24 | 2234.70 | 1733.35 | 39 | 8h 45m  |  9848 | 2234.70 |    NA |    NA | Running | 56m    |\n",
       "| 396 | 2022-07-15 | 94 - 99  |   NA |   NA | NA |  418.81 |  2.97 | 5m     |  73.0 |  95.51 | 2290.69 | 1871.88 | 42 | 2h 50m  |  6428 | 2290.69 |  82.0 |    NA | <!----> | <!----> |\n",
       "| 395 | 2022-07-14 | 92 - 98  |   NA |   NA | NA |  454.21 |  7.33 | 38m    | 103.0 | 124.66 | 2133.59 | 1679.39 | NA | 5h 38m  | 14361 | 2133.59 |  65.0 |    NA | Running | 35m    |\n",
       "| 394 | 2022-07-13 | 92 - 98  |   NA |   NA | NA |  612.31 |  5.83 | 35m    | 107.0 | 102.45 | 2401.15 | 1788.83 | 47 | 2h 10m  | 10962 | 2401.15 |  88.0 |    NA | Running | 32m    |\n",
       "| 393 | 2022-07-12 | 93 - 98  |   NA |   NA | NA |  780.55 |  6.45 | 40m    | 106.0 |  89.51 | 2579.58 | 1799.03 | 50 | 7h 33m  | 12173 | 2579.58 |  85.0 |    NA | Running | 33m    |\n",
       "| 392 | 2022-07-11 | 96 - 100 | 19.2 | 25.2 | NA |  570.48 |  5.79 | 32m    | 103.5 | 115.18 | 2330.99 | 1760.50 | 42 | 9h 49m  | 11646 | 2330.99 | 104.0 | 166.0 | Running | 23m    |\n",
       "| 391 | 2022-07-10 | 93 - 98  |   NA | 25.2 | NA |  608.91 |  4.51 | 39m    | 104.5 |  85.91 | 2376.79 | 1767.88 | 42 | 3h 40m  |  8117 | 2376.79 |  69.0 | 166.4 | Running | 38m    |\n",
       "| 390 | 2022-07-09 | 88 - 96  | 18.9 | 25.0 | NA |  889.81 |  7.86 | 40m    | 110.5 |  75.36 | 2817.58 | 1927.78 | 47 | 1h 40m  | 15547 | 2817.58 | 113.0 | 164.8 | Running | 33m    |\n",
       "| 389 | 2022-07-08 | 91 - 97  |   NA |   NA | NA |  844.12 |  7.40 | 41m    | 106.0 | 111.64 | 2690.45 | 1846.33 | 51 | 8h 42m  | 14414 | 2690.45 |  73.5 |    NA | Running | 33m    |\n",
       "| 388 | 2022-07-07 | <!----> |   NA | 25.5 | NA |  381.35 |  3.54 | <!----> |  75.0 |  95.14 | 2219.90 | 1838.55 | 43 | <!----> |  7751 | 2219.90 |  75.0 | 168.8 | <!----> | <!----> |\n",
       "| 387 | 2022-07-06 | 91 - 98  |   NA |   NA | NA |  463.36 |  4.72 | 3m     |  78.5 |  68.21 | 2289.36 | 1826.00 | 43 | 5h 48m  | 10125 | 2289.36 |  91.0 |    NA | <!----> | <!----> |\n",
       "| 386 | 2022-07-05 | 94 - 97  |   NA | 25.9 | NA |  434.55 |  3.91 | 3m     |  85.5 |  57.69 | 2282.60 | 1848.05 | 49 | 1h 30m  |  8475 | 2282.60 |  75.0 | 171.0 | <!----> | <!----> |\n",
       "| 385 | 2022-07-04 | 93 - 99  |   NA | 25.8 | NA |   49.12 |  0.77 | 1m     |  42.0 |  59.83 | 1646.41 | 1597.29 | NA | 8h 29m  |  1798 | 1646.41 |    NA | 170.6 | <!----> | <!----> |\n",
       "| 384 | 2022-07-03 | 93 - 97  |   NA |   NA | NA |  242.86 |  2.43 | 1m     |  64.0 |  90.89 | 1981.52 | 1738.66 | 37 | 10h 30m |  5408 | 1981.52 |  67.0 |    NA | <!----> | <!----> |\n",
       "| 383 | 2022-07-02 | 92 - 98  |   NA |   NA | NA |  532.44 |  3.89 | 15m    |  68.5 |  76.15 | 2466.88 | 1934.44 | 39 | 7h 5m   |  8224 | 2466.88 |  73.0 |    NA | <!----> | <!----> |\n",
       "| 382 | 2022-07-01 | 86 - 98  |   NA |   NA | NA |  304.30 |  3.07 | 4m     |  61.0 |  78.71 | 2083.48 | 1779.18 | 44 | 10h 25m |  6674 | 2083.48 |  79.0 |    NA | <!----> | <!----> |\n",
       "| 381 | 2022-06-30 | 92 - 97  |   NA | 25.7 | NA |  443.90 |  3.09 | 3m     |  59.5 |  76.75 | 2306.04 | 1862.14 | 42 | 7h 19m  |  6600 | 2306.04 |  75.0 | 170.0 | <!----> | <!----> |\n",
       "| 380 | 2022-06-29 | 92 - 96  |   NA |   NA | NA |   92.58 |  0.56 | <!----> |  51.0 |  41.69 | 1815.12 | 1722.53 | NA | 5h 51m  |  1249 | 1815.12 |    NA |    NA | <!----> | <!----> |\n",
       "| 379 | 2022-06-28 | 89 - 98  |   NA |   NA | NA |  439.05 |  3.19 | 1m     |  66.5 | 138.11 | 2353.48 | 1914.43 | 41 | 6h 30m  |  6849 | 2353.48 |  73.0 |    NA | <!----> | <!----> |\n",
       "| 378 | 2022-06-27 | 90 - 100 |   NA |   NA | NA |  550.61 |  4.92 | 4m     |  77.5 |  86.28 | 2464.89 | 1914.28 | 42 | 8h 2m   | 10676 | 2464.89 |  80.0 |    NA | <!----> | <!----> |\n",
       "| 377 | 2022-06-26 | 93 - 97  |   NA |   NA | NA |  823.40 |  6.36 | 40m    |  97.0 |  87.37 | 2734.47 | 1911.07 | 39 | 6h 30m  | 13836 | 2734.47 |  68.5 |    NA | <!----> | <!----> |\n",
       "\n"
      ],
      "text/plain": [
       "    Date       BLOOD.OXYGEN.... BODY.FAT.... BODY.MASS.INDEX\n",
       "401 2022-07-20 94 - 98            NA           NA           \n",
       "400 2022-07-19 94 - 96            NA           NA           \n",
       "399 2022-07-18 92 - 96            NA           NA           \n",
       "398 2022-07-17 92 - 99            NA           NA           \n",
       "397 2022-07-16 93 - 97            NA           NA           \n",
       "396 2022-07-15 94 - 99            NA           NA           \n",
       "395 2022-07-14 92 - 98            NA           NA           \n",
       "394 2022-07-13 92 - 98            NA           NA           \n",
       "393 2022-07-12 93 - 98            NA           NA           \n",
       "392 2022-07-11 96 - 100         19.2         25.2           \n",
       "391 2022-07-10 93 - 98            NA         25.2           \n",
       "390 2022-07-09 88 - 96          18.9         25.0           \n",
       "389 2022-07-08 91 - 97            NA           NA           \n",
       "388 2022-07-07                    NA         25.5           \n",
       "387 2022-07-06 91 - 98            NA           NA           \n",
       "386 2022-07-05 94 - 97            NA         25.9           \n",
       "385 2022-07-04 93 - 99            NA         25.8           \n",
       "384 2022-07-03 93 - 97            NA           NA           \n",
       "383 2022-07-02 92 - 98            NA           NA           \n",
       "382 2022-07-01 86 - 98            NA           NA           \n",
       "381 2022-06-30 92 - 97            NA         25.7           \n",
       "380 2022-06-29 92 - 96            NA           NA           \n",
       "379 2022-06-28 89 - 98            NA           NA           \n",
       "378 2022-06-27 90 - 100           NA           NA           \n",
       "377 2022-06-26 93 - 97            NA           NA           \n",
       "    BODY.TEMPERATURE..degF. BURNED.CALORIES..kcal. DISTANCE..R.W...mi.\n",
       "401 NA                      1006.77                 8.43              \n",
       "400 NA                        25.33                 1.38              \n",
       "399 NA                      1104.56                12.68              \n",
       "398 NA                       549.13                 4.55              \n",
       "397 NA                       501.35                 8.03              \n",
       "396 NA                       418.81                 2.97              \n",
       "395 NA                       454.21                 7.33              \n",
       "394 NA                       612.31                 5.83              \n",
       "393 NA                       780.55                 6.45              \n",
       "392 NA                       570.48                 5.79              \n",
       "391 NA                       608.91                 4.51              \n",
       "390 NA                       889.81                 7.86              \n",
       "389 NA                       844.12                 7.40              \n",
       "388 NA                       381.35                 3.54              \n",
       "387 NA                       463.36                 4.72              \n",
       "386 NA                       434.55                 3.91              \n",
       "385 NA                        49.12                 0.77              \n",
       "384 NA                       242.86                 2.43              \n",
       "383 NA                       532.44                 3.89              \n",
       "382 NA                       304.30                 3.07              \n",
       "381 NA                       443.90                 3.09              \n",
       "380 NA                        92.58                 0.56              \n",
       "379 NA                       439.05                 3.19              \n",
       "378 NA                       550.61                 4.92              \n",
       "377 NA                       823.40                 6.36              \n",
       "    EXERCISE.MINUTES HEART.RATE..bpm. HEART.RATE.VARIABILITY..ms.\n",
       "401 2h 4m            104.0             88.34                     \n",
       "400                   44.0             34.63                     \n",
       "399 1h 36m            98.5             68.19                     \n",
       "398 58m              106.5            127.65                     \n",
       "397 57m               94.5             71.24                     \n",
       "396 5m                73.0             95.51                     \n",
       "395 38m              103.0            124.66                     \n",
       "394 35m              107.0            102.45                     \n",
       "393 40m              106.0             89.51                     \n",
       "392 32m              103.5            115.18                     \n",
       "391 39m              104.5             85.91                     \n",
       "390 40m              110.5             75.36                     \n",
       "389 41m              106.0            111.64                     \n",
       "388                   75.0             95.14                     \n",
       "387 3m                78.5             68.21                     \n",
       "386 3m                85.5             57.69                     \n",
       "385 1m                42.0             59.83                     \n",
       "384 1m                64.0             90.89                     \n",
       "383 15m               68.5             76.15                     \n",
       "382 4m                61.0             78.71                     \n",
       "381 3m                59.5             76.75                     \n",
       "380                   51.0             41.69                     \n",
       "379 1m                66.5            138.11                     \n",
       "378 4m                77.5             86.28                     \n",
       "377 40m               97.0             87.37                     \n",
       "    NET.CALORIES..kcal. RESTING.CALORIES..kcal. RESTING.HEART.RATE..bpm.\n",
       "401 2668.15             1661.38                 48                      \n",
       "400 1662.31             1636.98                 NA                      \n",
       "399 2836.11             1731.55                 NA                      \n",
       "398 2310.74             1761.61                 38                      \n",
       "397 2234.70             1733.35                 39                      \n",
       "396 2290.69             1871.88                 42                      \n",
       "395 2133.59             1679.39                 NA                      \n",
       "394 2401.15             1788.83                 47                      \n",
       "393 2579.58             1799.03                 50                      \n",
       "392 2330.99             1760.50                 42                      \n",
       "391 2376.79             1767.88                 42                      \n",
       "390 2817.58             1927.78                 47                      \n",
       "389 2690.45             1846.33                 51                      \n",
       "388 2219.90             1838.55                 43                      \n",
       "387 2289.36             1826.00                 43                      \n",
       "386 2282.60             1848.05                 49                      \n",
       "385 1646.41             1597.29                 NA                      \n",
       "384 1981.52             1738.66                 37                      \n",
       "383 2466.88             1934.44                 39                      \n",
       "382 2083.48             1779.18                 44                      \n",
       "381 2306.04             1862.14                 42                      \n",
       "380 1815.12             1722.53                 NA                      \n",
       "379 2353.48             1914.43                 41                      \n",
       "378 2464.89             1914.28                 42                      \n",
       "377 2734.47             1911.07                 39                      \n",
       "    SLEEP   STEPS TOTAL.CALORIES..kcal. WALKING.HEART.RATE..bpm. WEIGHT..lbs.\n",
       "401         13135 2668.15                96.0                       NA       \n",
       "400 3h 12m   3138 1662.31                  NA                       NA       \n",
       "399 4h 25m  23754 2836.11                  NA                       NA       \n",
       "398 7h 40m   8360 2310.74                89.0                       NA       \n",
       "397 8h 45m   9848 2234.70                  NA                       NA       \n",
       "396 2h 50m   6428 2290.69                82.0                       NA       \n",
       "395 5h 38m  14361 2133.59                65.0                       NA       \n",
       "394 2h 10m  10962 2401.15                88.0                       NA       \n",
       "393 7h 33m  12173 2579.58                85.0                       NA       \n",
       "392 9h 49m  11646 2330.99               104.0                    166.0       \n",
       "391 3h 40m   8117 2376.79                69.0                    166.4       \n",
       "390 1h 40m  15547 2817.58               113.0                    164.8       \n",
       "389 8h 42m  14414 2690.45                73.5                       NA       \n",
       "388          7751 2219.90                75.0                    168.8       \n",
       "387 5h 48m  10125 2289.36                91.0                       NA       \n",
       "386 1h 30m   8475 2282.60                75.0                    171.0       \n",
       "385 8h 29m   1798 1646.41                  NA                    170.6       \n",
       "384 10h 30m  5408 1981.52                67.0                       NA       \n",
       "383 7h 5m    8224 2466.88                73.0                       NA       \n",
       "382 10h 25m  6674 2083.48                79.0                       NA       \n",
       "381 7h 19m   6600 2306.04                75.0                    170.0       \n",
       "380 5h 51m   1249 1815.12                  NA                       NA       \n",
       "379 6h 30m   6849 2353.48                73.0                       NA       \n",
       "378 8h 2m   10676 2464.89                80.0                       NA       \n",
       "377 6h 30m  13836 2734.47                68.5                       NA       \n",
       "    WORKOUTS DURATION\n",
       "401 Running  1h 1m   \n",
       "400                  \n",
       "399 Running  1h 35m  \n",
       "398 Running  26m     \n",
       "397 Running  56m     \n",
       "396                  \n",
       "395 Running  35m     \n",
       "394 Running  32m     \n",
       "393 Running  33m     \n",
       "392 Running  23m     \n",
       "391 Running  38m     \n",
       "390 Running  33m     \n",
       "389 Running  33m     \n",
       "388                  \n",
       "387                  \n",
       "386                  \n",
       "385                  \n",
       "384                  \n",
       "383                  \n",
       "382                  \n",
       "381                  \n",
       "380                  \n",
       "379                  \n",
       "378                  \n",
       "377                  "
      ]
     },
     "metadata": {},
     "output_type": "display_data"
    }
   ],
   "source": [
    "head(df2, 25)"
   ]
  },
  {
   "cell_type": "code",
   "execution_count": 57,
   "metadata": {
    "vscode": {
     "languageId": "r"
    }
   },
   "outputs": [],
   "source": [
    "library(tidyr)\n",
    "df <- df %>% drop_na(\"WORKOUTS\")"
   ]
  },
  {
   "cell_type": "code",
   "execution_count": 58,
   "metadata": {
    "vscode": {
     "languageId": "r"
    }
   },
   "outputs": [
    {
     "data": {
      "text/html": [
       "401"
      ],
      "text/latex": [
       "401"
      ],
      "text/markdown": [
       "401"
      ],
      "text/plain": [
       "[1] 401"
      ]
     },
     "metadata": {},
     "output_type": "display_data"
    }
   ],
   "source": [
    "nrow(df)"
   ]
  },
  {
   "cell_type": "code",
   "execution_count": null,
   "metadata": {
    "vscode": {
     "languageId": "r"
    }
   },
   "outputs": [
    {
     "data": {
      "text/html": [
       "<table class=\"dataframe\">\n",
       "<caption>A data.frame: 2 × 16</caption>\n",
       "<thead>\n",
       "\t<tr><th></th><th scope=col>Date.Sub</th><th scope=col>Date</th><th scope=col>Activity</th><th scope=col>Cal.Burned</th><th scope=col>Distance</th><th scope=col>Duration</th><th scope=col>Avg.Pace</th><th scope=col>Max.Pace</th><th scope=col>Avg.Spd</th><th scope=col>Max.Speed</th><th scope=col>Avg.HR</th><th scope=col>Steps</th><th scope=col>Notes</th><th scope=col>Source</th><th scope=col>Link</th><th scope=col>duration</th></tr>\n",
       "\t<tr><th></th><th scope=col>&lt;chr&gt;</th><th scope=col>&lt;chr&gt;</th><th scope=col>&lt;chr&gt;</th><th scope=col>&lt;int&gt;</th><th scope=col>&lt;dbl&gt;</th><th scope=col>&lt;int&gt;</th><th scope=col>&lt;dbl&gt;</th><th scope=col>&lt;dbl&gt;</th><th scope=col>&lt;dbl&gt;</th><th scope=col>&lt;dbl&gt;</th><th scope=col>&lt;int&gt;</th><th scope=col>&lt;int&gt;</th><th scope=col>&lt;chr&gt;</th><th scope=col>&lt;chr&gt;</th><th scope=col>&lt;chr&gt;</th><th scope=col>&lt;dbl&gt;</th></tr>\n",
       "</thead>\n",
       "<tbody>\n",
       "\t<tr><th scope=row>1</th><td>July 20, 2022</td><td>July 20, 2022</td><td>Run</td><td> 836</td><td>6.20000</td><td>3689</td><td> 9.91667</td><td>0.00000</td><td>6.05042</td><td>  0.000</td><td> NA</td><td> 9775</td><td>b''</td><td>Map My Fitness MapMyRun iPhone</td><td>http://www.mapmyfitness.com/workout/6725708821</td><td>61.48333</td></tr>\n",
       "\t<tr><th scope=row>2</th><td>July 18, 2022</td><td>July 18, 2022</td><td>Run</td><td>1175</td><td>9.00279</td><td>5709</td><td>10.56770</td><td>0.46046</td><td>5.67767</td><td>130.304</td><td>143</td><td>14918</td><td>b''</td><td>Map My Fitness MapMyRun iPhone</td><td>http://www.mapmyfitness.com/workout/6720217687</td><td>95.15000</td></tr>\n",
       "</tbody>\n",
       "</table>\n"
      ],
      "text/latex": [
       "A data.frame: 2 × 16\n",
       "\\begin{tabular}{r|llllllllllllllll}\n",
       "  & Date.Sub & Date & Activity & Cal.Burned & Distance & Duration & Avg.Pace & Max.Pace & Avg.Spd & Max.Speed & Avg.HR & Steps & Notes & Source & Link & duration\\\\\n",
       "  & <chr> & <chr> & <chr> & <int> & <dbl> & <int> & <dbl> & <dbl> & <dbl> & <dbl> & <int> & <int> & <chr> & <chr> & <chr> & <dbl>\\\\\n",
       "\\hline\n",
       "\t1 & July 20, 2022 & July 20, 2022 & Run &  836 & 6.20000 & 3689 &  9.91667 & 0.00000 & 6.05042 &   0.000 &  NA &  9775 & b'' & Map My Fitness MapMyRun iPhone & http://www.mapmyfitness.com/workout/6725708821 & 61.48333\\\\\n",
       "\t2 & July 18, 2022 & July 18, 2022 & Run & 1175 & 9.00279 & 5709 & 10.56770 & 0.46046 & 5.67767 & 130.304 & 143 & 14918 & b'' & Map My Fitness MapMyRun iPhone & http://www.mapmyfitness.com/workout/6720217687 & 95.15000\\\\\n",
       "\\end{tabular}\n"
      ],
      "text/markdown": [
       "\n",
       "A data.frame: 2 × 16\n",
       "\n",
       "| <!--/--> | Date.Sub &lt;chr&gt; | Date &lt;chr&gt; | Activity &lt;chr&gt; | Cal.Burned &lt;int&gt; | Distance &lt;dbl&gt; | Duration &lt;int&gt; | Avg.Pace &lt;dbl&gt; | Max.Pace &lt;dbl&gt; | Avg.Spd &lt;dbl&gt; | Max.Speed &lt;dbl&gt; | Avg.HR &lt;int&gt; | Steps &lt;int&gt; | Notes &lt;chr&gt; | Source &lt;chr&gt; | Link &lt;chr&gt; | duration &lt;dbl&gt; |\n",
       "|---|---|---|---|---|---|---|---|---|---|---|---|---|---|---|---|---|\n",
       "| 1 | July 20, 2022 | July 20, 2022 | Run |  836 | 6.20000 | 3689 |  9.91667 | 0.00000 | 6.05042 |   0.000 |  NA |  9775 | b'' | Map My Fitness MapMyRun iPhone | http://www.mapmyfitness.com/workout/6725708821 | 61.48333 |\n",
       "| 2 | July 18, 2022 | July 18, 2022 | Run | 1175 | 9.00279 | 5709 | 10.56770 | 0.46046 | 5.67767 | 130.304 | 143 | 14918 | b'' | Map My Fitness MapMyRun iPhone | http://www.mapmyfitness.com/workout/6720217687 | 95.15000 |\n",
       "\n"
      ],
      "text/plain": [
       "  Date.Sub      Date          Activity Cal.Burned Distance Duration Avg.Pace\n",
       "1 July 20, 2022 July 20, 2022 Run       836       6.20000  3689      9.91667\n",
       "2 July 18, 2022 July 18, 2022 Run      1175       9.00279  5709     10.56770\n",
       "  Max.Pace Avg.Spd Max.Speed Avg.HR Steps Notes Source                        \n",
       "1 0.00000  6.05042   0.000    NA     9775 b''   Map My Fitness MapMyRun iPhone\n",
       "2 0.46046  5.67767 130.304   143    14918 b''   Map My Fitness MapMyRun iPhone\n",
       "  Link                                           duration\n",
       "1 http://www.mapmyfitness.com/workout/6725708821 61.48333\n",
       "2 http://www.mapmyfitness.com/workout/6720217687 95.15000"
      ]
     },
     "metadata": {},
     "output_type": "display_data"
    }
   ],
   "source": [
    "names(run_data)[names(run_data) == \"Workout.Date\"] <- \"Date\"\n",
    "names(run_data)[names(run_data) == \"Date.Submitted\"] <- \"Date.Sub\"\n",
    "names(run_data)[names(run_data) == \"Workout.Time..seconds.\"] <- \"Duration\"\n",
    "names(run_data)[names(run_data) == \"Distance..mi.\"] <- \"Distance\"\n",
    "names(run_data)[names(run_data) == \"minutes\"] <- \"minutes\"\n",
    "names(run_data)[names(run_data) == \"Activity.Type\"] <- \"Activity\"\n",
    "names(run_data)[names(run_data) == \"Avg.Pace..min.mi.\"] <- \"Avg.Pace\"\n",
    "names(run_data)[names(run_data) == \"Max.Pace..min.mi.\"] <- \"Max.Pace\"\n",
    "names(run_data)[names(run_data) == \"Avg.Speed..mi.h.\"] <- \"Avg.Spd\"\n",
    "names(run_data)[names(run_data) == \"Avg.Heart.Rate\"] <- \"Avg.HR\"\n",
    "names(run_data)[names(run_data) == \"Max.Speed..mi.h.\"] <- \"Max.Spd\"\n",
    "names(run_data)[names(run_data) == \"Calories.Burned..kCal.\"] <- \"Cal.Burned\"\n",
    "head(run_data, 2)"
   ]
  },
  {
   "cell_type": "code",
   "execution_count": null,
   "metadata": {
    "vscode": {
     "languageId": "r"
    }
   },
   "outputs": [],
   "source": [
    "df <- within(run_data, rm('Link', 'Notes', 'Source'))\n",
    "#df$minutes <- round(df$minutes, digits = 2)"
   ]
  },
  {
   "cell_type": "code",
   "execution_count": null,
   "metadata": {
    "vscode": {
     "languageId": "r"
    }
   },
   "outputs": [],
   "source": [
    "#df$minutes <- as.numeric(as.character(df$minutes))\n",
    "df <- df %>% mutate_if(is.numeric, round, digits = 2)"
   ]
  },
  {
   "cell_type": "code",
   "execution_count": null,
   "metadata": {
    "vscode": {
     "languageId": "r"
    }
   },
   "outputs": [
    {
     "data": {
      "text/html": [
       "<table class=\"dataframe\">\n",
       "<caption>A data.frame: 704 × 13</caption>\n",
       "<thead>\n",
       "\t<tr><th scope=col>Date.Sub</th><th scope=col>Date</th><th scope=col>Activity</th><th scope=col>Cal.Burned</th><th scope=col>Distance</th><th scope=col>Duration</th><th scope=col>Avg.Pace</th><th scope=col>Max.Pace</th><th scope=col>Avg.Spd</th><th scope=col>Max.Speed</th><th scope=col>Avg.HR</th><th scope=col>Steps</th><th scope=col>duration</th></tr>\n",
       "\t<tr><th scope=col>&lt;chr&gt;</th><th scope=col>&lt;chr&gt;</th><th scope=col>&lt;chr&gt;</th><th scope=col>&lt;dbl&gt;</th><th scope=col>&lt;dbl&gt;</th><th scope=col>&lt;dbl&gt;</th><th scope=col>&lt;dbl&gt;</th><th scope=col>&lt;dbl&gt;</th><th scope=col>&lt;dbl&gt;</th><th scope=col>&lt;dbl&gt;</th><th scope=col>&lt;dbl&gt;</th><th scope=col>&lt;dbl&gt;</th><th scope=col>&lt;dbl&gt;</th></tr>\n",
       "</thead>\n",
       "<tbody>\n",
       "\t<tr><td>July 20, 2022</td><td>July 20, 2022</td><td>Run </td><td> 836</td><td>6.20</td><td>3689</td><td> 9.92</td><td>0.00</td><td>6.05</td><td>  0.00</td><td> NA</td><td> 9775</td><td>61.48</td></tr>\n",
       "\t<tr><td>July 18, 2022</td><td>July 18, 2022</td><td>Run </td><td>1175</td><td>9.00</td><td>5709</td><td>10.57</td><td>0.46</td><td>5.68</td><td>130.30</td><td>143</td><td>14918</td><td>95.15</td></tr>\n",
       "\t<tr><td>July 17, 2022</td><td>July 17, 2022</td><td>Run </td><td> 404</td><td>3.10</td><td>1593</td><td> 8.56</td><td>0.00</td><td>7.01</td><td>  0.00</td><td> NA</td><td> 4286</td><td>26.55</td></tr>\n",
       "\t<tr><td>July 17, 2022</td><td>July 16, 2022</td><td>Run </td><td> 405</td><td>3.10</td><td>1698</td><td> 9.13</td><td>0.00</td><td>6.57</td><td>  0.00</td><td> NA</td><td> 4537</td><td>28.30</td></tr>\n",
       "\t<tr><td>July 14, 2022</td><td>July 14, 2022</td><td>Run </td><td> 452</td><td>3.76</td><td>2157</td><td> 9.56</td><td>1.00</td><td>6.27</td><td> 59.92</td><td>148</td><td> 5684</td><td>35.95</td></tr>\n",
       "\t<tr><td>July 13, 2022</td><td>July 13, 2022</td><td>Run </td><td> 398</td><td>3.11</td><td>1912</td><td>10.25</td><td>1.09</td><td>5.85</td><td> 54.80</td><td>150</td><td> 4991</td><td>31.87</td></tr>\n",
       "\t<tr><td>July 12, 2022</td><td>July 12, 2022</td><td>Run </td><td> 421</td><td>3.11</td><td>1968</td><td>10.55</td><td>1.07</td><td>5.69</td><td> 56.08</td><td>155</td><td> 5134</td><td>32.80</td></tr>\n",
       "\t<tr><td>July 12, 2022</td><td>July 11, 2022</td><td>Run </td><td> 197</td><td>2.00</td><td>1409</td><td>11.74</td><td>1.91</td><td>5.11</td><td> 31.34</td><td>145</td><td> 3302</td><td>23.48</td></tr>\n",
       "\t<tr><td>July 10, 2022</td><td>July 10, 2022</td><td>Run </td><td> 429</td><td>3.10</td><td>2301</td><td>12.37</td><td>0.99</td><td>4.85</td><td> 60.41</td><td>149</td><td> 5125</td><td>38.35</td></tr>\n",
       "\t<tr><td>July 9, 2022 </td><td>July 9, 2022 </td><td>Run </td><td> 430</td><td>3.10</td><td>2005</td><td>10.77</td><td>1.17</td><td>5.57</td><td> 51.45</td><td>157</td><td> 5261</td><td>33.42</td></tr>\n",
       "\t<tr><td>July 8, 2022 </td><td>July 8, 2022 </td><td>Run </td><td> 454</td><td>3.11</td><td>1988</td><td>10.65</td><td>3.88</td><td>5.63</td><td> 15.47</td><td>165</td><td> 5202</td><td>33.13</td></tr>\n",
       "\t<tr><td>June 24, 2022</td><td>June 24, 2022</td><td>Run </td><td> 400</td><td>3.10</td><td>1554</td><td> 8.35</td><td>0.00</td><td>7.18</td><td>  0.00</td><td> NA</td><td> 4192</td><td>25.90</td></tr>\n",
       "\t<tr><td>June 23, 2022</td><td>June 23, 2022</td><td>Run </td><td> 410</td><td>3.10</td><td>1748</td><td> 9.40</td><td>0.00</td><td>6.38</td><td>  0.00</td><td> NA</td><td> 4656</td><td>29.13</td></tr>\n",
       "\t<tr><td>June 21, 2022</td><td>June 22, 2022</td><td>Run </td><td> 403</td><td>3.10</td><td>1665</td><td> 8.95</td><td>0.00</td><td>6.70</td><td>  0.00</td><td> NA</td><td> 4458</td><td>27.75</td></tr>\n",
       "\t<tr><td>June 19, 2022</td><td>June 19, 2022</td><td>Run </td><td> 378</td><td>2.66</td><td>1800</td><td>11.28</td><td>0.00</td><td>5.32</td><td>  0.00</td><td> NA</td><td> 4713</td><td>30.00</td></tr>\n",
       "\t<tr><td>June 18, 2022</td><td>June 18, 2022</td><td>Run </td><td> 370</td><td>2.58</td><td>1698</td><td>10.97</td><td>1.11</td><td>5.47</td><td> 53.94</td><td>159</td><td> 4431</td><td>28.30</td></tr>\n",
       "\t<tr><td>June 16, 2022</td><td>June 17, 2022</td><td>Run </td><td> 315</td><td>2.33</td><td>1391</td><td> 9.95</td><td>0.00</td><td>6.03</td><td>  0.00</td><td> NA</td><td> 3684</td><td>23.18</td></tr>\n",
       "\t<tr><td>June 15, 2022</td><td>June 15, 2022</td><td>Run </td><td> 405</td><td>3.10</td><td>1691</td><td> 9.09</td><td>0.00</td><td>6.60</td><td>  0.00</td><td> NA</td><td> 4520</td><td>28.18</td></tr>\n",
       "\t<tr><td>June 12, 2022</td><td>June 12, 2022</td><td>Run </td><td> 428</td><td>3.10</td><td>1955</td><td>10.52</td><td>3.01</td><td>5.71</td><td> 19.95</td><td>  0</td><td> 5052</td><td>32.58</td></tr>\n",
       "\t<tr><td>June 10, 2022</td><td>June 10, 2022</td><td>Run </td><td> 881</td><td>6.20</td><td>4182</td><td>11.23</td><td>0.60</td><td>5.34</td><td>100.05</td><td>153</td><td>10479</td><td>69.70</td></tr>\n",
       "\t<tr><td>June 9, 2022 </td><td>June 8, 2022 </td><td>Run </td><td> 407</td><td>3.11</td><td>1702</td><td> 9.12</td><td>0.00</td><td>6.58</td><td>  0.00</td><td>153</td><td> 4548</td><td>28.37</td></tr>\n",
       "\t<tr><td>June 6, 2022 </td><td>June 6, 2022 </td><td>Run </td><td> 590</td><td>4.50</td><td>2924</td><td>10.82</td><td>1.15</td><td>5.54</td><td> 52.33</td><td>145</td><td> 7739</td><td>48.73</td></tr>\n",
       "\t<tr><td>June 5, 2022 </td><td>June 5, 2022 </td><td>Walk</td><td> 253</td><td>1.88</td><td>2402</td><td>21.28</td><td>1.79</td><td>2.82</td><td> 33.49</td><td>109</td><td> 3994</td><td>40.03</td></tr>\n",
       "\t<tr><td>June 5, 2022 </td><td>June 5, 2022 </td><td>Run </td><td> 302</td><td>2.44</td><td>1487</td><td>10.17</td><td>0.45</td><td>5.90</td><td>132.28</td><td>148</td><td> 3889</td><td>24.78</td></tr>\n",
       "\t<tr><td>June 4, 2022 </td><td>June 4, 2022 </td><td>Run </td><td> 856</td><td>6.24</td><td>3946</td><td>10.53</td><td>1.07</td><td>5.70</td><td> 56.16</td><td>156</td><td>10427</td><td>65.77</td></tr>\n",
       "\t<tr><td>June 3, 2022 </td><td>June 3, 2022 </td><td>Run </td><td> 397</td><td>3.11</td><td>1864</td><td> 9.99</td><td>0.95</td><td>6.01</td><td> 63.08</td><td>152</td><td> 4863</td><td>31.07</td></tr>\n",
       "\t<tr><td>May 31, 2022 </td><td>June 1, 2022 </td><td>Run </td><td> 416</td><td>3.10</td><td>1817</td><td> 9.77</td><td>0.00</td><td>6.14</td><td>  0.00</td><td> NA</td><td> 4822</td><td>30.28</td></tr>\n",
       "\t<tr><td>May 31, 2022 </td><td>May 31, 2022 </td><td>Run </td><td> 546</td><td>4.08</td><td>2377</td><td> 9.71</td><td>1.28</td><td>6.18</td><td> 46.77</td><td>145</td><td> 4048</td><td>39.62</td></tr>\n",
       "\t<tr><td>May 30, 2022 </td><td>May 30, 2022 </td><td>Run </td><td> 418</td><td>3.10</td><td>1873</td><td>10.06</td><td>0.45</td><td>5.96</td><td>132.40</td><td>159</td><td> 4873</td><td>31.22</td></tr>\n",
       "\t<tr><td>May 28, 2022 </td><td>May 28, 2022 </td><td>Run </td><td> 426</td><td>3.11</td><td>1852</td><td> 9.93</td><td>2.82</td><td>6.04</td><td> 21.25</td><td>162</td><td> 4867</td><td>30.87</td></tr>\n",
       "\t<tr><td>⋮</td><td>⋮</td><td>⋮</td><td>⋮</td><td>⋮</td><td>⋮</td><td>⋮</td><td>⋮</td><td>⋮</td><td>⋮</td><td>⋮</td><td>⋮</td><td>⋮</td></tr>\n",
       "\t<tr><td>June 14, 2019 </td><td>June 14, 2019 </td><td>Weight Workout  </td><td>215</td><td>0.00</td><td>1560</td><td> 0.00</td><td>  0.00</td><td>0.00</td><td> 0.00</td><td>  0</td><td>  NA</td><td>26.00</td></tr>\n",
       "\t<tr><td>June 14, 2019 </td><td>June 14, 2019 </td><td>Walk            </td><td>323</td><td>3.15</td><td>3080</td><td>16.30</td><td>  0.00</td><td>3.68</td><td> 0.00</td><td> NA</td><td>6202</td><td>51.33</td></tr>\n",
       "\t<tr><td>June 12, 2019 </td><td>June 12, 2019 </td><td>Run             </td><td>215</td><td>2.09</td><td>1962</td><td>15.65</td><td>  3.21</td><td>3.83</td><td>18.70</td><td>111</td><td>3819</td><td>32.70</td></tr>\n",
       "\t<tr><td>June 11, 2019 </td><td>June 11, 2019 </td><td>Walk            </td><td>106</td><td>1.04</td><td>1045</td><td>16.75</td><td> 13.55</td><td>3.58</td><td> 4.43</td><td> NA</td><td>1831</td><td>17.42</td></tr>\n",
       "\t<tr><td>June 11, 2019 </td><td>June 11, 2019 </td><td>Weight Workout  </td><td>211</td><td>0.00</td><td>1526</td><td> 0.00</td><td> 57.79</td><td>0.00</td><td> 1.04</td><td> NA</td><td>  NA</td><td>25.43</td></tr>\n",
       "\t<tr><td>June 10, 2019 </td><td>June 10, 2019 </td><td>Walk            </td><td>299</td><td>2.78</td><td>2458</td><td>14.74</td><td>  5.71</td><td>4.07</td><td>10.51</td><td>  0</td><td>4676</td><td>40.97</td></tr>\n",
       "\t<tr><td>June 9, 2019  </td><td>June 9, 2019  </td><td>Walk            </td><td>293</td><td>2.88</td><td>2986</td><td>17.28</td><td>  0.00</td><td>3.47</td><td> 0.00</td><td> 73</td><td>5876</td><td>49.77</td></tr>\n",
       "\t<tr><td>June 8, 2019  </td><td>June 8, 2019  </td><td>Run             </td><td>190</td><td>1.57</td><td>1307</td><td>13.84</td><td>  1.25</td><td>4.33</td><td>47.97</td><td>116</td><td>2729</td><td>21.78</td></tr>\n",
       "\t<tr><td>June 6, 2019  </td><td>June 7, 2019  </td><td>Weight Workout  </td><td> 96</td><td>0.00</td><td> 692</td><td> 0.00</td><td>  0.00</td><td>0.00</td><td> 0.00</td><td> NA</td><td>  NA</td><td>11.53</td></tr>\n",
       "\t<tr><td>June 6, 2019  </td><td>June 6, 2019  </td><td>Walk            </td><td>321</td><td>3.13</td><td>3064</td><td>16.32</td><td> 14.81</td><td>3.68</td><td> 4.05</td><td> NA</td><td>  55</td><td>51.07</td></tr>\n",
       "\t<tr><td>June 6, 2019  </td><td>June 6, 2019  </td><td>Walk            </td><td>  2</td><td>0.02</td><td>  10</td><td> 9.74</td><td> 13.60</td><td>6.16</td><td> 4.41</td><td>106</td><td>  11</td><td> 0.17</td></tr>\n",
       "\t<tr><td>June 5, 2019  </td><td>June 5, 2019  </td><td>Weight Workout  </td><td> 83</td><td>0.00</td><td> 600</td><td> 0.00</td><td>  0.00</td><td>0.00</td><td> 0.00</td><td> NA</td><td>  NA</td><td>10.00</td></tr>\n",
       "\t<tr><td>June 5, 2019  </td><td>June 5, 2019  </td><td>Walk            </td><td>  0</td><td>0.00</td><td>   3</td><td> 0.00</td><td>  0.00</td><td>0.00</td><td> 0.00</td><td>  0</td><td>  NA</td><td> 0.05</td></tr>\n",
       "\t<tr><td>June 5, 2019  </td><td>June 5, 2019  </td><td>Walk            </td><td>249</td><td>2.22</td><td>1921</td><td>14.43</td><td> 13.25</td><td>4.16</td><td> 4.53</td><td>110</td><td>3887</td><td>32.02</td></tr>\n",
       "\t<tr><td>June 3, 2019  </td><td>June 3, 2019  </td><td>Walk            </td><td>309</td><td>2.99</td><td>2764</td><td>15.41</td><td>  0.00</td><td>3.89</td><td> 0.00</td><td> NA</td><td>5745</td><td>46.07</td></tr>\n",
       "\t<tr><td>June 2, 2019  </td><td>June 2, 2019  </td><td>Walk            </td><td>316</td><td>3.10</td><td>3180</td><td>17.10</td><td>  0.00</td><td>3.51</td><td> 0.00</td><td> NA</td><td>6289</td><td>53.00</td></tr>\n",
       "\t<tr><td>June 2, 2019  </td><td>June 2, 2019  </td><td>Weight Workout  </td><td> 79</td><td>0.00</td><td> 600</td><td> 0.00</td><td>  0.00</td><td>0.00</td><td> 0.00</td><td> NA</td><td>  NA</td><td>10.00</td></tr>\n",
       "\t<tr><td>June 2, 2019  </td><td>June 2, 2019  </td><td>Weight Workout  </td><td> 79</td><td>0.00</td><td> 600</td><td> 0.00</td><td>  0.00</td><td>0.00</td><td> 0.00</td><td> NA</td><td>  NA</td><td>10.00</td></tr>\n",
       "\t<tr><td>May 30, 2019  </td><td>May 30, 2019  </td><td>Walk            </td><td>307</td><td>3.10</td><td>2866</td><td>15.41</td><td>182.40</td><td>3.89</td><td> 0.33</td><td> NA</td><td>6104</td><td>47.77</td></tr>\n",
       "\t<tr><td>May 28, 2019  </td><td>May 28, 2019  </td><td>Walk            </td><td>248</td><td>2.22</td><td>1886</td><td>14.16</td><td>  1.40</td><td>4.24</td><td>42.80</td><td>102</td><td>3708</td><td>31.43</td></tr>\n",
       "\t<tr><td>May 27, 2019  </td><td>May 27, 2019  </td><td>Walk            </td><td>322</td><td>2.22</td><td>3541</td><td>26.36</td><td>  4.21</td><td>2.28</td><td>14.25</td><td> 93</td><td>6149</td><td>59.02</td></tr>\n",
       "\t<tr><td>May 27, 2019  </td><td>May 23, 2019  </td><td>Walk            </td><td>266</td><td>2.62</td><td>1946</td><td>12.36</td><td>  4.68</td><td>4.85</td><td>12.83</td><td>136</td><td>4074</td><td>32.43</td></tr>\n",
       "\t<tr><td>May 19, 2019  </td><td>May 19, 2019  </td><td>Run             </td><td>419</td><td>3.11</td><td>2197</td><td>11.69</td><td>  2.06</td><td>5.13</td><td>29.17</td><td>139</td><td>5295</td><td>36.62</td></tr>\n",
       "\t<tr><td>May 15, 2019  </td><td>May 15, 2019  </td><td>Indoor Run / Jog</td><td>403</td><td>3.13</td><td>2344</td><td>12.48</td><td>  0.00</td><td>4.81</td><td> 0.00</td><td> NA</td><td>6926</td><td>39.07</td></tr>\n",
       "\t<tr><td>May 13, 2019  </td><td>May 13, 2019  </td><td>Run             </td><td>258</td><td>1.96</td><td>1214</td><td>10.32</td><td>  2.67</td><td>5.82</td><td>22.45</td><td>  0</td><td>3209</td><td>20.23</td></tr>\n",
       "\t<tr><td>May 13, 2019  </td><td>May 13, 2019  </td><td>Indoor Run / Jog</td><td>191</td><td>1.42</td><td> 927</td><td>10.88</td><td> 17.09</td><td>5.51</td><td> 3.51</td><td>158</td><td>  67</td><td>15.45</td></tr>\n",
       "\t<tr><td>Oct. 19, 2016 </td><td>Oct. 19, 2016 </td><td>Class Workout   </td><td>186</td><td>0.00</td><td>3600</td><td> 0.00</td><td>  0.00</td><td>0.00</td><td> 0.00</td><td> NA</td><td>  NA</td><td>60.00</td></tr>\n",
       "\t<tr><td>Oct. 12, 2016 </td><td>Oct. 12, 2016 </td><td>Class Workout   </td><td>183</td><td>0.00</td><td>3600</td><td> 0.00</td><td>  0.00</td><td>0.00</td><td> 0.00</td><td> NA</td><td>  NA</td><td>60.00</td></tr>\n",
       "\t<tr><td>Sept. 26, 2016</td><td>Sept. 26, 2016</td><td>Class Workout   </td><td>186</td><td>0.00</td><td>3600</td><td> 0.00</td><td>  0.00</td><td>0.00</td><td> 0.00</td><td> NA</td><td>  NA</td><td>60.00</td></tr>\n",
       "\t<tr><td>Aug. 12, 2016 </td><td>Aug. 12, 2016 </td><td>Class Workout   </td><td>189</td><td>0.00</td><td>3600</td><td> 0.00</td><td>  0.00</td><td>0.00</td><td> 0.00</td><td> NA</td><td>  NA</td><td>60.00</td></tr>\n",
       "</tbody>\n",
       "</table>\n"
      ],
      "text/latex": [
       "A data.frame: 704 × 13\n",
       "\\begin{tabular}{lllllllllllll}\n",
       " Date.Sub & Date & Activity & Cal.Burned & Distance & Duration & Avg.Pace & Max.Pace & Avg.Spd & Max.Speed & Avg.HR & Steps & duration\\\\\n",
       " <chr> & <chr> & <chr> & <dbl> & <dbl> & <dbl> & <dbl> & <dbl> & <dbl> & <dbl> & <dbl> & <dbl> & <dbl>\\\\\n",
       "\\hline\n",
       "\t July 20, 2022 & July 20, 2022 & Run  &  836 & 6.20 & 3689 &  9.92 & 0.00 & 6.05 &   0.00 &  NA &  9775 & 61.48\\\\\n",
       "\t July 18, 2022 & July 18, 2022 & Run  & 1175 & 9.00 & 5709 & 10.57 & 0.46 & 5.68 & 130.30 & 143 & 14918 & 95.15\\\\\n",
       "\t July 17, 2022 & July 17, 2022 & Run  &  404 & 3.10 & 1593 &  8.56 & 0.00 & 7.01 &   0.00 &  NA &  4286 & 26.55\\\\\n",
       "\t July 17, 2022 & July 16, 2022 & Run  &  405 & 3.10 & 1698 &  9.13 & 0.00 & 6.57 &   0.00 &  NA &  4537 & 28.30\\\\\n",
       "\t July 14, 2022 & July 14, 2022 & Run  &  452 & 3.76 & 2157 &  9.56 & 1.00 & 6.27 &  59.92 & 148 &  5684 & 35.95\\\\\n",
       "\t July 13, 2022 & July 13, 2022 & Run  &  398 & 3.11 & 1912 & 10.25 & 1.09 & 5.85 &  54.80 & 150 &  4991 & 31.87\\\\\n",
       "\t July 12, 2022 & July 12, 2022 & Run  &  421 & 3.11 & 1968 & 10.55 & 1.07 & 5.69 &  56.08 & 155 &  5134 & 32.80\\\\\n",
       "\t July 12, 2022 & July 11, 2022 & Run  &  197 & 2.00 & 1409 & 11.74 & 1.91 & 5.11 &  31.34 & 145 &  3302 & 23.48\\\\\n",
       "\t July 10, 2022 & July 10, 2022 & Run  &  429 & 3.10 & 2301 & 12.37 & 0.99 & 4.85 &  60.41 & 149 &  5125 & 38.35\\\\\n",
       "\t July 9, 2022  & July 9, 2022  & Run  &  430 & 3.10 & 2005 & 10.77 & 1.17 & 5.57 &  51.45 & 157 &  5261 & 33.42\\\\\n",
       "\t July 8, 2022  & July 8, 2022  & Run  &  454 & 3.11 & 1988 & 10.65 & 3.88 & 5.63 &  15.47 & 165 &  5202 & 33.13\\\\\n",
       "\t June 24, 2022 & June 24, 2022 & Run  &  400 & 3.10 & 1554 &  8.35 & 0.00 & 7.18 &   0.00 &  NA &  4192 & 25.90\\\\\n",
       "\t June 23, 2022 & June 23, 2022 & Run  &  410 & 3.10 & 1748 &  9.40 & 0.00 & 6.38 &   0.00 &  NA &  4656 & 29.13\\\\\n",
       "\t June 21, 2022 & June 22, 2022 & Run  &  403 & 3.10 & 1665 &  8.95 & 0.00 & 6.70 &   0.00 &  NA &  4458 & 27.75\\\\\n",
       "\t June 19, 2022 & June 19, 2022 & Run  &  378 & 2.66 & 1800 & 11.28 & 0.00 & 5.32 &   0.00 &  NA &  4713 & 30.00\\\\\n",
       "\t June 18, 2022 & June 18, 2022 & Run  &  370 & 2.58 & 1698 & 10.97 & 1.11 & 5.47 &  53.94 & 159 &  4431 & 28.30\\\\\n",
       "\t June 16, 2022 & June 17, 2022 & Run  &  315 & 2.33 & 1391 &  9.95 & 0.00 & 6.03 &   0.00 &  NA &  3684 & 23.18\\\\\n",
       "\t June 15, 2022 & June 15, 2022 & Run  &  405 & 3.10 & 1691 &  9.09 & 0.00 & 6.60 &   0.00 &  NA &  4520 & 28.18\\\\\n",
       "\t June 12, 2022 & June 12, 2022 & Run  &  428 & 3.10 & 1955 & 10.52 & 3.01 & 5.71 &  19.95 &   0 &  5052 & 32.58\\\\\n",
       "\t June 10, 2022 & June 10, 2022 & Run  &  881 & 6.20 & 4182 & 11.23 & 0.60 & 5.34 & 100.05 & 153 & 10479 & 69.70\\\\\n",
       "\t June 9, 2022  & June 8, 2022  & Run  &  407 & 3.11 & 1702 &  9.12 & 0.00 & 6.58 &   0.00 & 153 &  4548 & 28.37\\\\\n",
       "\t June 6, 2022  & June 6, 2022  & Run  &  590 & 4.50 & 2924 & 10.82 & 1.15 & 5.54 &  52.33 & 145 &  7739 & 48.73\\\\\n",
       "\t June 5, 2022  & June 5, 2022  & Walk &  253 & 1.88 & 2402 & 21.28 & 1.79 & 2.82 &  33.49 & 109 &  3994 & 40.03\\\\\n",
       "\t June 5, 2022  & June 5, 2022  & Run  &  302 & 2.44 & 1487 & 10.17 & 0.45 & 5.90 & 132.28 & 148 &  3889 & 24.78\\\\\n",
       "\t June 4, 2022  & June 4, 2022  & Run  &  856 & 6.24 & 3946 & 10.53 & 1.07 & 5.70 &  56.16 & 156 & 10427 & 65.77\\\\\n",
       "\t June 3, 2022  & June 3, 2022  & Run  &  397 & 3.11 & 1864 &  9.99 & 0.95 & 6.01 &  63.08 & 152 &  4863 & 31.07\\\\\n",
       "\t May 31, 2022  & June 1, 2022  & Run  &  416 & 3.10 & 1817 &  9.77 & 0.00 & 6.14 &   0.00 &  NA &  4822 & 30.28\\\\\n",
       "\t May 31, 2022  & May 31, 2022  & Run  &  546 & 4.08 & 2377 &  9.71 & 1.28 & 6.18 &  46.77 & 145 &  4048 & 39.62\\\\\n",
       "\t May 30, 2022  & May 30, 2022  & Run  &  418 & 3.10 & 1873 & 10.06 & 0.45 & 5.96 & 132.40 & 159 &  4873 & 31.22\\\\\n",
       "\t May 28, 2022  & May 28, 2022  & Run  &  426 & 3.11 & 1852 &  9.93 & 2.82 & 6.04 &  21.25 & 162 &  4867 & 30.87\\\\\n",
       "\t ⋮ & ⋮ & ⋮ & ⋮ & ⋮ & ⋮ & ⋮ & ⋮ & ⋮ & ⋮ & ⋮ & ⋮ & ⋮\\\\\n",
       "\t June 14, 2019  & June 14, 2019  & Weight Workout   & 215 & 0.00 & 1560 &  0.00 &   0.00 & 0.00 &  0.00 &   0 &   NA & 26.00\\\\\n",
       "\t June 14, 2019  & June 14, 2019  & Walk             & 323 & 3.15 & 3080 & 16.30 &   0.00 & 3.68 &  0.00 &  NA & 6202 & 51.33\\\\\n",
       "\t June 12, 2019  & June 12, 2019  & Run              & 215 & 2.09 & 1962 & 15.65 &   3.21 & 3.83 & 18.70 & 111 & 3819 & 32.70\\\\\n",
       "\t June 11, 2019  & June 11, 2019  & Walk             & 106 & 1.04 & 1045 & 16.75 &  13.55 & 3.58 &  4.43 &  NA & 1831 & 17.42\\\\\n",
       "\t June 11, 2019  & June 11, 2019  & Weight Workout   & 211 & 0.00 & 1526 &  0.00 &  57.79 & 0.00 &  1.04 &  NA &   NA & 25.43\\\\\n",
       "\t June 10, 2019  & June 10, 2019  & Walk             & 299 & 2.78 & 2458 & 14.74 &   5.71 & 4.07 & 10.51 &   0 & 4676 & 40.97\\\\\n",
       "\t June 9, 2019   & June 9, 2019   & Walk             & 293 & 2.88 & 2986 & 17.28 &   0.00 & 3.47 &  0.00 &  73 & 5876 & 49.77\\\\\n",
       "\t June 8, 2019   & June 8, 2019   & Run              & 190 & 1.57 & 1307 & 13.84 &   1.25 & 4.33 & 47.97 & 116 & 2729 & 21.78\\\\\n",
       "\t June 6, 2019   & June 7, 2019   & Weight Workout   &  96 & 0.00 &  692 &  0.00 &   0.00 & 0.00 &  0.00 &  NA &   NA & 11.53\\\\\n",
       "\t June 6, 2019   & June 6, 2019   & Walk             & 321 & 3.13 & 3064 & 16.32 &  14.81 & 3.68 &  4.05 &  NA &   55 & 51.07\\\\\n",
       "\t June 6, 2019   & June 6, 2019   & Walk             &   2 & 0.02 &   10 &  9.74 &  13.60 & 6.16 &  4.41 & 106 &   11 &  0.17\\\\\n",
       "\t June 5, 2019   & June 5, 2019   & Weight Workout   &  83 & 0.00 &  600 &  0.00 &   0.00 & 0.00 &  0.00 &  NA &   NA & 10.00\\\\\n",
       "\t June 5, 2019   & June 5, 2019   & Walk             &   0 & 0.00 &    3 &  0.00 &   0.00 & 0.00 &  0.00 &   0 &   NA &  0.05\\\\\n",
       "\t June 5, 2019   & June 5, 2019   & Walk             & 249 & 2.22 & 1921 & 14.43 &  13.25 & 4.16 &  4.53 & 110 & 3887 & 32.02\\\\\n",
       "\t June 3, 2019   & June 3, 2019   & Walk             & 309 & 2.99 & 2764 & 15.41 &   0.00 & 3.89 &  0.00 &  NA & 5745 & 46.07\\\\\n",
       "\t June 2, 2019   & June 2, 2019   & Walk             & 316 & 3.10 & 3180 & 17.10 &   0.00 & 3.51 &  0.00 &  NA & 6289 & 53.00\\\\\n",
       "\t June 2, 2019   & June 2, 2019   & Weight Workout   &  79 & 0.00 &  600 &  0.00 &   0.00 & 0.00 &  0.00 &  NA &   NA & 10.00\\\\\n",
       "\t June 2, 2019   & June 2, 2019   & Weight Workout   &  79 & 0.00 &  600 &  0.00 &   0.00 & 0.00 &  0.00 &  NA &   NA & 10.00\\\\\n",
       "\t May 30, 2019   & May 30, 2019   & Walk             & 307 & 3.10 & 2866 & 15.41 & 182.40 & 3.89 &  0.33 &  NA & 6104 & 47.77\\\\\n",
       "\t May 28, 2019   & May 28, 2019   & Walk             & 248 & 2.22 & 1886 & 14.16 &   1.40 & 4.24 & 42.80 & 102 & 3708 & 31.43\\\\\n",
       "\t May 27, 2019   & May 27, 2019   & Walk             & 322 & 2.22 & 3541 & 26.36 &   4.21 & 2.28 & 14.25 &  93 & 6149 & 59.02\\\\\n",
       "\t May 27, 2019   & May 23, 2019   & Walk             & 266 & 2.62 & 1946 & 12.36 &   4.68 & 4.85 & 12.83 & 136 & 4074 & 32.43\\\\\n",
       "\t May 19, 2019   & May 19, 2019   & Run              & 419 & 3.11 & 2197 & 11.69 &   2.06 & 5.13 & 29.17 & 139 & 5295 & 36.62\\\\\n",
       "\t May 15, 2019   & May 15, 2019   & Indoor Run / Jog & 403 & 3.13 & 2344 & 12.48 &   0.00 & 4.81 &  0.00 &  NA & 6926 & 39.07\\\\\n",
       "\t May 13, 2019   & May 13, 2019   & Run              & 258 & 1.96 & 1214 & 10.32 &   2.67 & 5.82 & 22.45 &   0 & 3209 & 20.23\\\\\n",
       "\t May 13, 2019   & May 13, 2019   & Indoor Run / Jog & 191 & 1.42 &  927 & 10.88 &  17.09 & 5.51 &  3.51 & 158 &   67 & 15.45\\\\\n",
       "\t Oct. 19, 2016  & Oct. 19, 2016  & Class Workout    & 186 & 0.00 & 3600 &  0.00 &   0.00 & 0.00 &  0.00 &  NA &   NA & 60.00\\\\\n",
       "\t Oct. 12, 2016  & Oct. 12, 2016  & Class Workout    & 183 & 0.00 & 3600 &  0.00 &   0.00 & 0.00 &  0.00 &  NA &   NA & 60.00\\\\\n",
       "\t Sept. 26, 2016 & Sept. 26, 2016 & Class Workout    & 186 & 0.00 & 3600 &  0.00 &   0.00 & 0.00 &  0.00 &  NA &   NA & 60.00\\\\\n",
       "\t Aug. 12, 2016  & Aug. 12, 2016  & Class Workout    & 189 & 0.00 & 3600 &  0.00 &   0.00 & 0.00 &  0.00 &  NA &   NA & 60.00\\\\\n",
       "\\end{tabular}\n"
      ],
      "text/markdown": [
       "\n",
       "A data.frame: 704 × 13\n",
       "\n",
       "| Date.Sub &lt;chr&gt; | Date &lt;chr&gt; | Activity &lt;chr&gt; | Cal.Burned &lt;dbl&gt; | Distance &lt;dbl&gt; | Duration &lt;dbl&gt; | Avg.Pace &lt;dbl&gt; | Max.Pace &lt;dbl&gt; | Avg.Spd &lt;dbl&gt; | Max.Speed &lt;dbl&gt; | Avg.HR &lt;dbl&gt; | Steps &lt;dbl&gt; | duration &lt;dbl&gt; |\n",
       "|---|---|---|---|---|---|---|---|---|---|---|---|---|\n",
       "| July 20, 2022 | July 20, 2022 | Run  |  836 | 6.20 | 3689 |  9.92 | 0.00 | 6.05 |   0.00 |  NA |  9775 | 61.48 |\n",
       "| July 18, 2022 | July 18, 2022 | Run  | 1175 | 9.00 | 5709 | 10.57 | 0.46 | 5.68 | 130.30 | 143 | 14918 | 95.15 |\n",
       "| July 17, 2022 | July 17, 2022 | Run  |  404 | 3.10 | 1593 |  8.56 | 0.00 | 7.01 |   0.00 |  NA |  4286 | 26.55 |\n",
       "| July 17, 2022 | July 16, 2022 | Run  |  405 | 3.10 | 1698 |  9.13 | 0.00 | 6.57 |   0.00 |  NA |  4537 | 28.30 |\n",
       "| July 14, 2022 | July 14, 2022 | Run  |  452 | 3.76 | 2157 |  9.56 | 1.00 | 6.27 |  59.92 | 148 |  5684 | 35.95 |\n",
       "| July 13, 2022 | July 13, 2022 | Run  |  398 | 3.11 | 1912 | 10.25 | 1.09 | 5.85 |  54.80 | 150 |  4991 | 31.87 |\n",
       "| July 12, 2022 | July 12, 2022 | Run  |  421 | 3.11 | 1968 | 10.55 | 1.07 | 5.69 |  56.08 | 155 |  5134 | 32.80 |\n",
       "| July 12, 2022 | July 11, 2022 | Run  |  197 | 2.00 | 1409 | 11.74 | 1.91 | 5.11 |  31.34 | 145 |  3302 | 23.48 |\n",
       "| July 10, 2022 | July 10, 2022 | Run  |  429 | 3.10 | 2301 | 12.37 | 0.99 | 4.85 |  60.41 | 149 |  5125 | 38.35 |\n",
       "| July 9, 2022  | July 9, 2022  | Run  |  430 | 3.10 | 2005 | 10.77 | 1.17 | 5.57 |  51.45 | 157 |  5261 | 33.42 |\n",
       "| July 8, 2022  | July 8, 2022  | Run  |  454 | 3.11 | 1988 | 10.65 | 3.88 | 5.63 |  15.47 | 165 |  5202 | 33.13 |\n",
       "| June 24, 2022 | June 24, 2022 | Run  |  400 | 3.10 | 1554 |  8.35 | 0.00 | 7.18 |   0.00 |  NA |  4192 | 25.90 |\n",
       "| June 23, 2022 | June 23, 2022 | Run  |  410 | 3.10 | 1748 |  9.40 | 0.00 | 6.38 |   0.00 |  NA |  4656 | 29.13 |\n",
       "| June 21, 2022 | June 22, 2022 | Run  |  403 | 3.10 | 1665 |  8.95 | 0.00 | 6.70 |   0.00 |  NA |  4458 | 27.75 |\n",
       "| June 19, 2022 | June 19, 2022 | Run  |  378 | 2.66 | 1800 | 11.28 | 0.00 | 5.32 |   0.00 |  NA |  4713 | 30.00 |\n",
       "| June 18, 2022 | June 18, 2022 | Run  |  370 | 2.58 | 1698 | 10.97 | 1.11 | 5.47 |  53.94 | 159 |  4431 | 28.30 |\n",
       "| June 16, 2022 | June 17, 2022 | Run  |  315 | 2.33 | 1391 |  9.95 | 0.00 | 6.03 |   0.00 |  NA |  3684 | 23.18 |\n",
       "| June 15, 2022 | June 15, 2022 | Run  |  405 | 3.10 | 1691 |  9.09 | 0.00 | 6.60 |   0.00 |  NA |  4520 | 28.18 |\n",
       "| June 12, 2022 | June 12, 2022 | Run  |  428 | 3.10 | 1955 | 10.52 | 3.01 | 5.71 |  19.95 |   0 |  5052 | 32.58 |\n",
       "| June 10, 2022 | June 10, 2022 | Run  |  881 | 6.20 | 4182 | 11.23 | 0.60 | 5.34 | 100.05 | 153 | 10479 | 69.70 |\n",
       "| June 9, 2022  | June 8, 2022  | Run  |  407 | 3.11 | 1702 |  9.12 | 0.00 | 6.58 |   0.00 | 153 |  4548 | 28.37 |\n",
       "| June 6, 2022  | June 6, 2022  | Run  |  590 | 4.50 | 2924 | 10.82 | 1.15 | 5.54 |  52.33 | 145 |  7739 | 48.73 |\n",
       "| June 5, 2022  | June 5, 2022  | Walk |  253 | 1.88 | 2402 | 21.28 | 1.79 | 2.82 |  33.49 | 109 |  3994 | 40.03 |\n",
       "| June 5, 2022  | June 5, 2022  | Run  |  302 | 2.44 | 1487 | 10.17 | 0.45 | 5.90 | 132.28 | 148 |  3889 | 24.78 |\n",
       "| June 4, 2022  | June 4, 2022  | Run  |  856 | 6.24 | 3946 | 10.53 | 1.07 | 5.70 |  56.16 | 156 | 10427 | 65.77 |\n",
       "| June 3, 2022  | June 3, 2022  | Run  |  397 | 3.11 | 1864 |  9.99 | 0.95 | 6.01 |  63.08 | 152 |  4863 | 31.07 |\n",
       "| May 31, 2022  | June 1, 2022  | Run  |  416 | 3.10 | 1817 |  9.77 | 0.00 | 6.14 |   0.00 |  NA |  4822 | 30.28 |\n",
       "| May 31, 2022  | May 31, 2022  | Run  |  546 | 4.08 | 2377 |  9.71 | 1.28 | 6.18 |  46.77 | 145 |  4048 | 39.62 |\n",
       "| May 30, 2022  | May 30, 2022  | Run  |  418 | 3.10 | 1873 | 10.06 | 0.45 | 5.96 | 132.40 | 159 |  4873 | 31.22 |\n",
       "| May 28, 2022  | May 28, 2022  | Run  |  426 | 3.11 | 1852 |  9.93 | 2.82 | 6.04 |  21.25 | 162 |  4867 | 30.87 |\n",
       "| ⋮ | ⋮ | ⋮ | ⋮ | ⋮ | ⋮ | ⋮ | ⋮ | ⋮ | ⋮ | ⋮ | ⋮ | ⋮ |\n",
       "| June 14, 2019  | June 14, 2019  | Weight Workout   | 215 | 0.00 | 1560 |  0.00 |   0.00 | 0.00 |  0.00 |   0 |   NA | 26.00 |\n",
       "| June 14, 2019  | June 14, 2019  | Walk             | 323 | 3.15 | 3080 | 16.30 |   0.00 | 3.68 |  0.00 |  NA | 6202 | 51.33 |\n",
       "| June 12, 2019  | June 12, 2019  | Run              | 215 | 2.09 | 1962 | 15.65 |   3.21 | 3.83 | 18.70 | 111 | 3819 | 32.70 |\n",
       "| June 11, 2019  | June 11, 2019  | Walk             | 106 | 1.04 | 1045 | 16.75 |  13.55 | 3.58 |  4.43 |  NA | 1831 | 17.42 |\n",
       "| June 11, 2019  | June 11, 2019  | Weight Workout   | 211 | 0.00 | 1526 |  0.00 |  57.79 | 0.00 |  1.04 |  NA |   NA | 25.43 |\n",
       "| June 10, 2019  | June 10, 2019  | Walk             | 299 | 2.78 | 2458 | 14.74 |   5.71 | 4.07 | 10.51 |   0 | 4676 | 40.97 |\n",
       "| June 9, 2019   | June 9, 2019   | Walk             | 293 | 2.88 | 2986 | 17.28 |   0.00 | 3.47 |  0.00 |  73 | 5876 | 49.77 |\n",
       "| June 8, 2019   | June 8, 2019   | Run              | 190 | 1.57 | 1307 | 13.84 |   1.25 | 4.33 | 47.97 | 116 | 2729 | 21.78 |\n",
       "| June 6, 2019   | June 7, 2019   | Weight Workout   |  96 | 0.00 |  692 |  0.00 |   0.00 | 0.00 |  0.00 |  NA |   NA | 11.53 |\n",
       "| June 6, 2019   | June 6, 2019   | Walk             | 321 | 3.13 | 3064 | 16.32 |  14.81 | 3.68 |  4.05 |  NA |   55 | 51.07 |\n",
       "| June 6, 2019   | June 6, 2019   | Walk             |   2 | 0.02 |   10 |  9.74 |  13.60 | 6.16 |  4.41 | 106 |   11 |  0.17 |\n",
       "| June 5, 2019   | June 5, 2019   | Weight Workout   |  83 | 0.00 |  600 |  0.00 |   0.00 | 0.00 |  0.00 |  NA |   NA | 10.00 |\n",
       "| June 5, 2019   | June 5, 2019   | Walk             |   0 | 0.00 |    3 |  0.00 |   0.00 | 0.00 |  0.00 |   0 |   NA |  0.05 |\n",
       "| June 5, 2019   | June 5, 2019   | Walk             | 249 | 2.22 | 1921 | 14.43 |  13.25 | 4.16 |  4.53 | 110 | 3887 | 32.02 |\n",
       "| June 3, 2019   | June 3, 2019   | Walk             | 309 | 2.99 | 2764 | 15.41 |   0.00 | 3.89 |  0.00 |  NA | 5745 | 46.07 |\n",
       "| June 2, 2019   | June 2, 2019   | Walk             | 316 | 3.10 | 3180 | 17.10 |   0.00 | 3.51 |  0.00 |  NA | 6289 | 53.00 |\n",
       "| June 2, 2019   | June 2, 2019   | Weight Workout   |  79 | 0.00 |  600 |  0.00 |   0.00 | 0.00 |  0.00 |  NA |   NA | 10.00 |\n",
       "| June 2, 2019   | June 2, 2019   | Weight Workout   |  79 | 0.00 |  600 |  0.00 |   0.00 | 0.00 |  0.00 |  NA |   NA | 10.00 |\n",
       "| May 30, 2019   | May 30, 2019   | Walk             | 307 | 3.10 | 2866 | 15.41 | 182.40 | 3.89 |  0.33 |  NA | 6104 | 47.77 |\n",
       "| May 28, 2019   | May 28, 2019   | Walk             | 248 | 2.22 | 1886 | 14.16 |   1.40 | 4.24 | 42.80 | 102 | 3708 | 31.43 |\n",
       "| May 27, 2019   | May 27, 2019   | Walk             | 322 | 2.22 | 3541 | 26.36 |   4.21 | 2.28 | 14.25 |  93 | 6149 | 59.02 |\n",
       "| May 27, 2019   | May 23, 2019   | Walk             | 266 | 2.62 | 1946 | 12.36 |   4.68 | 4.85 | 12.83 | 136 | 4074 | 32.43 |\n",
       "| May 19, 2019   | May 19, 2019   | Run              | 419 | 3.11 | 2197 | 11.69 |   2.06 | 5.13 | 29.17 | 139 | 5295 | 36.62 |\n",
       "| May 15, 2019   | May 15, 2019   | Indoor Run / Jog | 403 | 3.13 | 2344 | 12.48 |   0.00 | 4.81 |  0.00 |  NA | 6926 | 39.07 |\n",
       "| May 13, 2019   | May 13, 2019   | Run              | 258 | 1.96 | 1214 | 10.32 |   2.67 | 5.82 | 22.45 |   0 | 3209 | 20.23 |\n",
       "| May 13, 2019   | May 13, 2019   | Indoor Run / Jog | 191 | 1.42 |  927 | 10.88 |  17.09 | 5.51 |  3.51 | 158 |   67 | 15.45 |\n",
       "| Oct. 19, 2016  | Oct. 19, 2016  | Class Workout    | 186 | 0.00 | 3600 |  0.00 |   0.00 | 0.00 |  0.00 |  NA |   NA | 60.00 |\n",
       "| Oct. 12, 2016  | Oct. 12, 2016  | Class Workout    | 183 | 0.00 | 3600 |  0.00 |   0.00 | 0.00 |  0.00 |  NA |   NA | 60.00 |\n",
       "| Sept. 26, 2016 | Sept. 26, 2016 | Class Workout    | 186 | 0.00 | 3600 |  0.00 |   0.00 | 0.00 |  0.00 |  NA |   NA | 60.00 |\n",
       "| Aug. 12, 2016  | Aug. 12, 2016  | Class Workout    | 189 | 0.00 | 3600 |  0.00 |   0.00 | 0.00 |  0.00 |  NA |   NA | 60.00 |\n",
       "\n"
      ],
      "text/plain": [
       "    Date.Sub       Date           Activity         Cal.Burned Distance Duration\n",
       "1   July 20, 2022  July 20, 2022  Run               836       6.20     3689    \n",
       "2   July 18, 2022  July 18, 2022  Run              1175       9.00     5709    \n",
       "3   July 17, 2022  July 17, 2022  Run               404       3.10     1593    \n",
       "4   July 17, 2022  July 16, 2022  Run               405       3.10     1698    \n",
       "5   July 14, 2022  July 14, 2022  Run               452       3.76     2157    \n",
       "6   July 13, 2022  July 13, 2022  Run               398       3.11     1912    \n",
       "7   July 12, 2022  July 12, 2022  Run               421       3.11     1968    \n",
       "8   July 12, 2022  July 11, 2022  Run               197       2.00     1409    \n",
       "9   July 10, 2022  July 10, 2022  Run               429       3.10     2301    \n",
       "10  July 9, 2022   July 9, 2022   Run               430       3.10     2005    \n",
       "11  July 8, 2022   July 8, 2022   Run               454       3.11     1988    \n",
       "12  June 24, 2022  June 24, 2022  Run               400       3.10     1554    \n",
       "13  June 23, 2022  June 23, 2022  Run               410       3.10     1748    \n",
       "14  June 21, 2022  June 22, 2022  Run               403       3.10     1665    \n",
       "15  June 19, 2022  June 19, 2022  Run               378       2.66     1800    \n",
       "16  June 18, 2022  June 18, 2022  Run               370       2.58     1698    \n",
       "17  June 16, 2022  June 17, 2022  Run               315       2.33     1391    \n",
       "18  June 15, 2022  June 15, 2022  Run               405       3.10     1691    \n",
       "19  June 12, 2022  June 12, 2022  Run               428       3.10     1955    \n",
       "20  June 10, 2022  June 10, 2022  Run               881       6.20     4182    \n",
       "21  June 9, 2022   June 8, 2022   Run               407       3.11     1702    \n",
       "22  June 6, 2022   June 6, 2022   Run               590       4.50     2924    \n",
       "23  June 5, 2022   June 5, 2022   Walk              253       1.88     2402    \n",
       "24  June 5, 2022   June 5, 2022   Run               302       2.44     1487    \n",
       "25  June 4, 2022   June 4, 2022   Run               856       6.24     3946    \n",
       "26  June 3, 2022   June 3, 2022   Run               397       3.11     1864    \n",
       "27  May 31, 2022   June 1, 2022   Run               416       3.10     1817    \n",
       "28  May 31, 2022   May 31, 2022   Run               546       4.08     2377    \n",
       "29  May 30, 2022   May 30, 2022   Run               418       3.10     1873    \n",
       "30  May 28, 2022   May 28, 2022   Run               426       3.11     1852    \n",
       "<U+22EE>   <U+22EE>       <U+22EE>       <U+22EE>         <U+22EE>   <U+22EE> <U+22EE>\n",
       "675 June 14, 2019  June 14, 2019  Weight Workout   215        0.00     1560    \n",
       "676 June 14, 2019  June 14, 2019  Walk             323        3.15     3080    \n",
       "677 June 12, 2019  June 12, 2019  Run              215        2.09     1962    \n",
       "678 June 11, 2019  June 11, 2019  Walk             106        1.04     1045    \n",
       "679 June 11, 2019  June 11, 2019  Weight Workout   211        0.00     1526    \n",
       "680 June 10, 2019  June 10, 2019  Walk             299        2.78     2458    \n",
       "681 June 9, 2019   June 9, 2019   Walk             293        2.88     2986    \n",
       "682 June 8, 2019   June 8, 2019   Run              190        1.57     1307    \n",
       "683 June 6, 2019   June 7, 2019   Weight Workout    96        0.00      692    \n",
       "684 June 6, 2019   June 6, 2019   Walk             321        3.13     3064    \n",
       "685 June 6, 2019   June 6, 2019   Walk               2        0.02       10    \n",
       "686 June 5, 2019   June 5, 2019   Weight Workout    83        0.00      600    \n",
       "687 June 5, 2019   June 5, 2019   Walk               0        0.00        3    \n",
       "688 June 5, 2019   June 5, 2019   Walk             249        2.22     1921    \n",
       "689 June 3, 2019   June 3, 2019   Walk             309        2.99     2764    \n",
       "690 June 2, 2019   June 2, 2019   Walk             316        3.10     3180    \n",
       "691 June 2, 2019   June 2, 2019   Weight Workout    79        0.00      600    \n",
       "692 June 2, 2019   June 2, 2019   Weight Workout    79        0.00      600    \n",
       "693 May 30, 2019   May 30, 2019   Walk             307        3.10     2866    \n",
       "694 May 28, 2019   May 28, 2019   Walk             248        2.22     1886    \n",
       "695 May 27, 2019   May 27, 2019   Walk             322        2.22     3541    \n",
       "696 May 27, 2019   May 23, 2019   Walk             266        2.62     1946    \n",
       "697 May 19, 2019   May 19, 2019   Run              419        3.11     2197    \n",
       "698 May 15, 2019   May 15, 2019   Indoor Run / Jog 403        3.13     2344    \n",
       "699 May 13, 2019   May 13, 2019   Run              258        1.96     1214    \n",
       "700 May 13, 2019   May 13, 2019   Indoor Run / Jog 191        1.42      927    \n",
       "701 Oct. 19, 2016  Oct. 19, 2016  Class Workout    186        0.00     3600    \n",
       "702 Oct. 12, 2016  Oct. 12, 2016  Class Workout    183        0.00     3600    \n",
       "703 Sept. 26, 2016 Sept. 26, 2016 Class Workout    186        0.00     3600    \n",
       "704 Aug. 12, 2016  Aug. 12, 2016  Class Workout    189        0.00     3600    \n",
       "    Avg.Pace Max.Pace Avg.Spd Max.Speed Avg.HR Steps duration\n",
       "1    9.92    0.00     6.05      0.00     NA     9775 61.48   \n",
       "2   10.57    0.46     5.68    130.30    143    14918 95.15   \n",
       "3    8.56    0.00     7.01      0.00     NA     4286 26.55   \n",
       "4    9.13    0.00     6.57      0.00     NA     4537 28.30   \n",
       "5    9.56    1.00     6.27     59.92    148     5684 35.95   \n",
       "6   10.25    1.09     5.85     54.80    150     4991 31.87   \n",
       "7   10.55    1.07     5.69     56.08    155     5134 32.80   \n",
       "8   11.74    1.91     5.11     31.34    145     3302 23.48   \n",
       "9   12.37    0.99     4.85     60.41    149     5125 38.35   \n",
       "10  10.77    1.17     5.57     51.45    157     5261 33.42   \n",
       "11  10.65    3.88     5.63     15.47    165     5202 33.13   \n",
       "12   8.35    0.00     7.18      0.00     NA     4192 25.90   \n",
       "13   9.40    0.00     6.38      0.00     NA     4656 29.13   \n",
       "14   8.95    0.00     6.70      0.00     NA     4458 27.75   \n",
       "15  11.28    0.00     5.32      0.00     NA     4713 30.00   \n",
       "16  10.97    1.11     5.47     53.94    159     4431 28.30   \n",
       "17   9.95    0.00     6.03      0.00     NA     3684 23.18   \n",
       "18   9.09    0.00     6.60      0.00     NA     4520 28.18   \n",
       "19  10.52    3.01     5.71     19.95      0     5052 32.58   \n",
       "20  11.23    0.60     5.34    100.05    153    10479 69.70   \n",
       "21   9.12    0.00     6.58      0.00    153     4548 28.37   \n",
       "22  10.82    1.15     5.54     52.33    145     7739 48.73   \n",
       "23  21.28    1.79     2.82     33.49    109     3994 40.03   \n",
       "24  10.17    0.45     5.90    132.28    148     3889 24.78   \n",
       "25  10.53    1.07     5.70     56.16    156    10427 65.77   \n",
       "26   9.99    0.95     6.01     63.08    152     4863 31.07   \n",
       "27   9.77    0.00     6.14      0.00     NA     4822 30.28   \n",
       "28   9.71    1.28     6.18     46.77    145     4048 39.62   \n",
       "29  10.06    0.45     5.96    132.40    159     4873 31.22   \n",
       "30   9.93    2.82     6.04     21.25    162     4867 30.87   \n",
       "<U+22EE>   <U+22EE> <U+22EE> <U+22EE> <U+22EE>  <U+22EE> <U+22EE> <U+22EE>\n",
       "675  0.00      0.00   0.00     0.00       0      NA  26.00   \n",
       "676 16.30      0.00   3.68     0.00      NA    6202  51.33   \n",
       "677 15.65      3.21   3.83    18.70     111    3819  32.70   \n",
       "678 16.75     13.55   3.58     4.43      NA    1831  17.42   \n",
       "679  0.00     57.79   0.00     1.04      NA      NA  25.43   \n",
       "680 14.74      5.71   4.07    10.51       0    4676  40.97   \n",
       "681 17.28      0.00   3.47     0.00      73    5876  49.77   \n",
       "682 13.84      1.25   4.33    47.97     116    2729  21.78   \n",
       "683  0.00      0.00   0.00     0.00      NA      NA  11.53   \n",
       "684 16.32     14.81   3.68     4.05      NA      55  51.07   \n",
       "685  9.74     13.60   6.16     4.41     106      11   0.17   \n",
       "686  0.00      0.00   0.00     0.00      NA      NA  10.00   \n",
       "687  0.00      0.00   0.00     0.00       0      NA   0.05   \n",
       "688 14.43     13.25   4.16     4.53     110    3887  32.02   \n",
       "689 15.41      0.00   3.89     0.00      NA    5745  46.07   \n",
       "690 17.10      0.00   3.51     0.00      NA    6289  53.00   \n",
       "691  0.00      0.00   0.00     0.00      NA      NA  10.00   \n",
       "692  0.00      0.00   0.00     0.00      NA      NA  10.00   \n",
       "693 15.41    182.40   3.89     0.33      NA    6104  47.77   \n",
       "694 14.16      1.40   4.24    42.80     102    3708  31.43   \n",
       "695 26.36      4.21   2.28    14.25      93    6149  59.02   \n",
       "696 12.36      4.68   4.85    12.83     136    4074  32.43   \n",
       "697 11.69      2.06   5.13    29.17     139    5295  36.62   \n",
       "698 12.48      0.00   4.81     0.00      NA    6926  39.07   \n",
       "699 10.32      2.67   5.82    22.45       0    3209  20.23   \n",
       "700 10.88     17.09   5.51     3.51     158      67  15.45   \n",
       "701  0.00      0.00   0.00     0.00      NA      NA  60.00   \n",
       "702  0.00      0.00   0.00     0.00      NA      NA  60.00   \n",
       "703  0.00      0.00   0.00     0.00      NA      NA  60.00   \n",
       "704  0.00      0.00   0.00     0.00      NA      NA  60.00   "
      ]
     },
     "metadata": {},
     "output_type": "display_data"
    }
   ],
   "source": [
    "library(dplyr); df %>% mutate_if(is.numeric, round, digits=2)"
   ]
  },
  {
   "cell_type": "code",
   "execution_count": null,
   "metadata": {
    "vscode": {
     "languageId": "r"
    }
   },
   "outputs": [],
   "source": [
    "df <- df %>% drop_na(Date)\n",
    "# df <- df %>% drop_na(Date.Sub)"
   ]
  },
  {
   "cell_type": "code",
   "execution_count": null,
   "metadata": {
    "vscode": {
     "languageId": "r"
    }
   },
   "outputs": [
    {
     "data": {
      "text/html": [
       "704"
      ],
      "text/latex": [
       "704"
      ],
      "text/markdown": [
       "704"
      ],
      "text/plain": [
       "[1] 704"
      ]
     },
     "metadata": {},
     "output_type": "display_data"
    }
   ],
   "source": [
    "nrow(df)"
   ]
  },
  {
   "cell_type": "code",
   "execution_count": null,
   "metadata": {
    "vscode": {
     "languageId": "r"
    }
   },
   "outputs": [
    {
     "data": {
      "text/plain": [
       "   Date.Sub             Date             Activity           Cal.Burned    \n",
       " Length:704         Length:704         Length:704         Min.   :   0.0  \n",
       " Class :character   Class :character   Class :character   1st Qu.: 228.0  \n",
       " Mode  :character   Mode  :character   Mode  :character   Median : 403.0  \n",
       "                                                          Mean   : 400.3  \n",
       "                                                          3rd Qu.: 452.2  \n",
       "                                                          Max.   :2473.0  \n",
       "                                                                          \n",
       "    Distance         Duration        Avg.Pace          Max.Pace      \n",
       " Min.   : 0.000   Min.   :    0   Min.   :  0.000   Min.   :  0.000  \n",
       " 1st Qu.: 2.000   1st Qu.: 1456   1st Qu.:  9.057   1st Qu.:  0.000  \n",
       " Median : 3.100   Median : 1800   Median :  9.730   Median :  0.860  \n",
       " Mean   : 3.094   Mean   : 2408   Mean   : 12.998   Mean   :  2.077  \n",
       " 3rd Qu.: 3.520   3rd Qu.: 2330   3rd Qu.: 11.043   3rd Qu.:  1.552  \n",
       " Max.   :13.480   Max.   :80568   Max.   :295.260   Max.   :182.400  \n",
       "                                                                     \n",
       "    Avg.Spd         Max.Speed           Avg.HR          Steps       \n",
       " Min.   : 0.000   Min.   :   0.00   Min.   :  0.0   Min.   :     6  \n",
       " 1st Qu.: 4.870   1st Qu.:   0.00   1st Qu.: 84.0   1st Qu.:  3351  \n",
       " Median : 6.120   Median :  15.84   Median :143.0   Median :  4656  \n",
       " Mean   : 5.469   Mean   :  46.05   Mean   :107.8   Mean   :  5524  \n",
       " 3rd Qu.: 6.553   3rd Qu.:  59.97   3rd Qu.:153.0   3rd Qu.:  5723  \n",
       " Max.   :14.860   Max.   :1853.55   Max.   :169.0   Max.   :193886  \n",
       "                                    NA's   :241     NA's   :24      \n",
       "    duration      \n",
       " Min.   :   0.00  \n",
       " 1st Qu.:  24.27  \n",
       " Median :  30.00  \n",
       " Mean   :  40.13  \n",
       " 3rd Qu.:  38.84  \n",
       " Max.   :1342.80  \n",
       "                  "
      ]
     },
     "metadata": {},
     "output_type": "display_data"
    }
   ],
   "source": [
    "summary(df)"
   ]
  },
  {
   "cell_type": "code",
   "execution_count": null,
   "metadata": {
    "vscode": {
     "languageId": "r"
    }
   },
   "outputs": [],
   "source": [
    "library(data.table)\n",
    "#setDT(df)[value==0, value := NA,]\n",
    "#df[, value := replace(value, is.na(value), mean(value, na.rm = TRUE)) , by = .(year, age)]"
   ]
  },
  {
   "cell_type": "code",
   "execution_count": null,
   "metadata": {
    "vscode": {
     "languageId": "r"
    }
   },
   "outputs": [],
   "source": [
    "HRmedian <- median(df$Avg.HR)\n",
    "Stepsmedian <- median(df$Steps)"
   ]
  },
  {
   "cell_type": "code",
   "execution_count": null,
   "metadata": {
    "vscode": {
     "languageId": "r"
    }
   },
   "outputs": [],
   "source": [
    "library(lubridate)\n",
    "library(tidyverse)\n",
    "\n",
    "df <- df %>% mutate(Date=mdy(Date))"
   ]
  },
  {
   "cell_type": "code",
   "execution_count": null,
   "metadata": {
    "vscode": {
     "languageId": "r"
    }
   },
   "outputs": [],
   "source": [
    "# df[is.na(df)] = 0"
   ]
  },
  {
   "cell_type": "code",
   "execution_count": null,
   "metadata": {
    "vscode": {
     "languageId": "r"
    }
   },
   "outputs": [
    {
     "data": {
      "text/html": [
       "<table class=\"dataframe\">\n",
       "<caption>A data.frame: 4 × 13</caption>\n",
       "<thead>\n",
       "\t<tr><th></th><th scope=col>Date.Sub</th><th scope=col>Date</th><th scope=col>Activity</th><th scope=col>Cal.Burned</th><th scope=col>Distance</th><th scope=col>Duration</th><th scope=col>Avg.Pace</th><th scope=col>Max.Pace</th><th scope=col>Avg.Spd</th><th scope=col>Max.Speed</th><th scope=col>Avg.HR</th><th scope=col>Steps</th><th scope=col>duration</th></tr>\n",
       "\t<tr><th></th><th scope=col>&lt;chr&gt;</th><th scope=col>&lt;date&gt;</th><th scope=col>&lt;chr&gt;</th><th scope=col>&lt;dbl&gt;</th><th scope=col>&lt;dbl&gt;</th><th scope=col>&lt;dbl&gt;</th><th scope=col>&lt;dbl&gt;</th><th scope=col>&lt;dbl&gt;</th><th scope=col>&lt;dbl&gt;</th><th scope=col>&lt;dbl&gt;</th><th scope=col>&lt;dbl&gt;</th><th scope=col>&lt;dbl&gt;</th><th scope=col>&lt;dbl&gt;</th></tr>\n",
       "</thead>\n",
       "<tbody>\n",
       "\t<tr><th scope=row>1</th><td>July 20, 2022</td><td>2022-07-20</td><td>Run</td><td> 836</td><td>6.2</td><td>3689</td><td> 9.92</td><td>0.00</td><td>6.05</td><td>  0.0</td><td> NA</td><td> 9775</td><td>61.48</td></tr>\n",
       "\t<tr><th scope=row>2</th><td>July 18, 2022</td><td>2022-07-18</td><td>Run</td><td>1175</td><td>9.0</td><td>5709</td><td>10.57</td><td>0.46</td><td>5.68</td><td>130.3</td><td>143</td><td>14918</td><td>95.15</td></tr>\n",
       "\t<tr><th scope=row>3</th><td>July 17, 2022</td><td>2022-07-17</td><td>Run</td><td> 404</td><td>3.1</td><td>1593</td><td> 8.56</td><td>0.00</td><td>7.01</td><td>  0.0</td><td> NA</td><td> 4286</td><td>26.55</td></tr>\n",
       "\t<tr><th scope=row>4</th><td>July 17, 2022</td><td>2022-07-16</td><td>Run</td><td> 405</td><td>3.1</td><td>1698</td><td> 9.13</td><td>0.00</td><td>6.57</td><td>  0.0</td><td> NA</td><td> 4537</td><td>28.30</td></tr>\n",
       "</tbody>\n",
       "</table>\n"
      ],
      "text/latex": [
       "A data.frame: 4 × 13\n",
       "\\begin{tabular}{r|lllllllllllll}\n",
       "  & Date.Sub & Date & Activity & Cal.Burned & Distance & Duration & Avg.Pace & Max.Pace & Avg.Spd & Max.Speed & Avg.HR & Steps & duration\\\\\n",
       "  & <chr> & <date> & <chr> & <dbl> & <dbl> & <dbl> & <dbl> & <dbl> & <dbl> & <dbl> & <dbl> & <dbl> & <dbl>\\\\\n",
       "\\hline\n",
       "\t1 & July 20, 2022 & 2022-07-20 & Run &  836 & 6.2 & 3689 &  9.92 & 0.00 & 6.05 &   0.0 &  NA &  9775 & 61.48\\\\\n",
       "\t2 & July 18, 2022 & 2022-07-18 & Run & 1175 & 9.0 & 5709 & 10.57 & 0.46 & 5.68 & 130.3 & 143 & 14918 & 95.15\\\\\n",
       "\t3 & July 17, 2022 & 2022-07-17 & Run &  404 & 3.1 & 1593 &  8.56 & 0.00 & 7.01 &   0.0 &  NA &  4286 & 26.55\\\\\n",
       "\t4 & July 17, 2022 & 2022-07-16 & Run &  405 & 3.1 & 1698 &  9.13 & 0.00 & 6.57 &   0.0 &  NA &  4537 & 28.30\\\\\n",
       "\\end{tabular}\n"
      ],
      "text/markdown": [
       "\n",
       "A data.frame: 4 × 13\n",
       "\n",
       "| <!--/--> | Date.Sub &lt;chr&gt; | Date &lt;date&gt; | Activity &lt;chr&gt; | Cal.Burned &lt;dbl&gt; | Distance &lt;dbl&gt; | Duration &lt;dbl&gt; | Avg.Pace &lt;dbl&gt; | Max.Pace &lt;dbl&gt; | Avg.Spd &lt;dbl&gt; | Max.Speed &lt;dbl&gt; | Avg.HR &lt;dbl&gt; | Steps &lt;dbl&gt; | duration &lt;dbl&gt; |\n",
       "|---|---|---|---|---|---|---|---|---|---|---|---|---|---|\n",
       "| 1 | July 20, 2022 | 2022-07-20 | Run |  836 | 6.2 | 3689 |  9.92 | 0.00 | 6.05 |   0.0 |  NA |  9775 | 61.48 |\n",
       "| 2 | July 18, 2022 | 2022-07-18 | Run | 1175 | 9.0 | 5709 | 10.57 | 0.46 | 5.68 | 130.3 | 143 | 14918 | 95.15 |\n",
       "| 3 | July 17, 2022 | 2022-07-17 | Run |  404 | 3.1 | 1593 |  8.56 | 0.00 | 7.01 |   0.0 |  NA |  4286 | 26.55 |\n",
       "| 4 | July 17, 2022 | 2022-07-16 | Run |  405 | 3.1 | 1698 |  9.13 | 0.00 | 6.57 |   0.0 |  NA |  4537 | 28.30 |\n",
       "\n"
      ],
      "text/plain": [
       "  Date.Sub      Date       Activity Cal.Burned Distance Duration Avg.Pace\n",
       "1 July 20, 2022 2022-07-20 Run       836       6.2      3689      9.92   \n",
       "2 July 18, 2022 2022-07-18 Run      1175       9.0      5709     10.57   \n",
       "3 July 17, 2022 2022-07-17 Run       404       3.1      1593      8.56   \n",
       "4 July 17, 2022 2022-07-16 Run       405       3.1      1698      9.13   \n",
       "  Max.Pace Avg.Spd Max.Speed Avg.HR Steps duration\n",
       "1 0.00     6.05      0.0      NA     9775 61.48   \n",
       "2 0.46     5.68    130.3     143    14918 95.15   \n",
       "3 0.00     7.01      0.0      NA     4286 26.55   \n",
       "4 0.00     6.57      0.0      NA     4537 28.30   "
      ]
     },
     "metadata": {},
     "output_type": "display_data"
    }
   ],
   "source": [
    "head(df, 4)"
   ]
  },
  {
   "cell_type": "code",
   "execution_count": null,
   "metadata": {
    "vscode": {
     "languageId": "r"
    }
   },
   "outputs": [],
   "source": [
    "df <- df %>% dplyr::mutate(Avg.HR = ifelse(Avg.HR == 0, HRmedian, Avg.HR))\n",
    "# #df <- df %>% dplyr::mutate(Avg.HR = ifelse(Avg.HR == NA, HRmean, Avg.HR))\n",
    "df <- df %>% dplyr::mutate(Steps = ifelse(Steps == 0, Stepsmedian, Steps))\n",
    "# #df <- df %>% dplyr::mutate(Steps = ifelse(Steps == NA, Stepsmean, Steps))"
   ]
  },
  {
   "cell_type": "code",
   "execution_count": null,
   "metadata": {
    "vscode": {
     "languageId": "r"
    }
   },
   "outputs": [],
   "source": [
    "df[is.na(df)] = 0"
   ]
  },
  {
   "cell_type": "code",
   "execution_count": null,
   "metadata": {
    "vscode": {
     "languageId": "r"
    }
   },
   "outputs": [],
   "source": [
    "# df[df == 0] = NA"
   ]
  },
  {
   "cell_type": "code",
   "execution_count": null,
   "metadata": {
    "vscode": {
     "languageId": "r"
    }
   },
   "outputs": [],
   "source": [
    "df$Avg.HR[is.na(df$Avg.HR)] <- median(df$Avg.HR, na.rm = TRUE)\n",
    "df$Steps[is.na(df$Steps)] <- median(df$Steps, na.rm = TRUE)\n",
    "df$Max.Pace[is.na(df$Max.Pace)] <- median(df$Max.Pace, na.rm = TRUE)\n",
    "df$Avg.Pace[is.na(df$Avg.Pace)] <- median(df$Avg.Pace, na.rm = TRUE)\n",
    "df$Max.Spd[is.na(df$Max.Spd)] <- median(df$Max.Spd, na.rm = TRUE)\n",
    "df$Avg.Spd[is.na(df$Avg.Spd)] <- median(df$Avg.Spd, na.rm = TRUE)\n",
    "df$Cal.Burned[is.na(df$Cal.Burned)] <- median(df$Cal.Burned, na.rm = TRUE)"
   ]
  },
  {
   "cell_type": "code",
   "execution_count": null,
   "metadata": {
    "vscode": {
     "languageId": "r"
    }
   },
   "outputs": [],
   "source": [
    "df$day <- weekdays(as.Date(df$Date))\n",
    "df$month <- months(as.Date(df$Date))\n",
    "df$year <- years(as.Date(df$Date))"
   ]
  },
  {
   "cell_type": "code",
   "execution_count": null,
   "metadata": {
    "vscode": {
     "languageId": "r"
    }
   },
   "outputs": [
    {
     "data": {
      "text/html": [
       "<table class=\"dataframe\">\n",
       "<caption>A data.frame: 4 × 16</caption>\n",
       "<thead>\n",
       "\t<tr><th></th><th scope=col>Date.Sub</th><th scope=col>Date</th><th scope=col>Activity</th><th scope=col>Cal.Burned</th><th scope=col>Distance</th><th scope=col>Duration</th><th scope=col>Avg.Pace</th><th scope=col>Max.Pace</th><th scope=col>Avg.Spd</th><th scope=col>Max.Speed</th><th scope=col>Avg.HR</th><th scope=col>Steps</th><th scope=col>duration</th><th scope=col>day</th><th scope=col>month</th><th scope=col>year</th></tr>\n",
       "\t<tr><th></th><th scope=col>&lt;chr&gt;</th><th scope=col>&lt;date&gt;</th><th scope=col>&lt;chr&gt;</th><th scope=col>&lt;dbl&gt;</th><th scope=col>&lt;dbl&gt;</th><th scope=col>&lt;dbl&gt;</th><th scope=col>&lt;dbl&gt;</th><th scope=col>&lt;dbl&gt;</th><th scope=col>&lt;dbl&gt;</th><th scope=col>&lt;dbl&gt;</th><th scope=col>&lt;dbl&gt;</th><th scope=col>&lt;dbl&gt;</th><th scope=col>&lt;dbl&gt;</th><th scope=col>&lt;chr&gt;</th><th scope=col>&lt;chr&gt;</th><th scope=col>&lt;ord&gt;</th></tr>\n",
       "</thead>\n",
       "<tbody>\n",
       "\t<tr><th scope=row>1</th><td>July 20, 2022</td><td>2022-07-20</td><td>Run</td><td> 836</td><td>6.2</td><td>3689</td><td> 9.92</td><td>0.00</td><td>6.05</td><td>  0.0</td><td>  0</td><td> 9775</td><td>61.48</td><td>Wednesday</td><td>July</td><td>2022</td></tr>\n",
       "\t<tr><th scope=row>2</th><td>July 18, 2022</td><td>2022-07-18</td><td>Run</td><td>1175</td><td>9.0</td><td>5709</td><td>10.57</td><td>0.46</td><td>5.68</td><td>130.3</td><td>143</td><td>14918</td><td>95.15</td><td>Monday   </td><td>July</td><td>2022</td></tr>\n",
       "\t<tr><th scope=row>3</th><td>July 17, 2022</td><td>2022-07-17</td><td>Run</td><td> 404</td><td>3.1</td><td>1593</td><td> 8.56</td><td>0.00</td><td>7.01</td><td>  0.0</td><td>  0</td><td> 4286</td><td>26.55</td><td>Sunday   </td><td>July</td><td>2022</td></tr>\n",
       "\t<tr><th scope=row>4</th><td>July 17, 2022</td><td>2022-07-16</td><td>Run</td><td> 405</td><td>3.1</td><td>1698</td><td> 9.13</td><td>0.00</td><td>6.57</td><td>  0.0</td><td>  0</td><td> 4537</td><td>28.30</td><td>Saturday </td><td>July</td><td>2022</td></tr>\n",
       "</tbody>\n",
       "</table>\n"
      ],
      "text/latex": [
       "A data.frame: 4 × 16\n",
       "\\begin{tabular}{r|llllllllllllllll}\n",
       "  & Date.Sub & Date & Activity & Cal.Burned & Distance & Duration & Avg.Pace & Max.Pace & Avg.Spd & Max.Speed & Avg.HR & Steps & duration & day & month & year\\\\\n",
       "  & <chr> & <date> & <chr> & <dbl> & <dbl> & <dbl> & <dbl> & <dbl> & <dbl> & <dbl> & <dbl> & <dbl> & <dbl> & <chr> & <chr> & <ord>\\\\\n",
       "\\hline\n",
       "\t1 & July 20, 2022 & 2022-07-20 & Run &  836 & 6.2 & 3689 &  9.92 & 0.00 & 6.05 &   0.0 &   0 &  9775 & 61.48 & Wednesday & July & 2022\\\\\n",
       "\t2 & July 18, 2022 & 2022-07-18 & Run & 1175 & 9.0 & 5709 & 10.57 & 0.46 & 5.68 & 130.3 & 143 & 14918 & 95.15 & Monday    & July & 2022\\\\\n",
       "\t3 & July 17, 2022 & 2022-07-17 & Run &  404 & 3.1 & 1593 &  8.56 & 0.00 & 7.01 &   0.0 &   0 &  4286 & 26.55 & Sunday    & July & 2022\\\\\n",
       "\t4 & July 17, 2022 & 2022-07-16 & Run &  405 & 3.1 & 1698 &  9.13 & 0.00 & 6.57 &   0.0 &   0 &  4537 & 28.30 & Saturday  & July & 2022\\\\\n",
       "\\end{tabular}\n"
      ],
      "text/markdown": [
       "\n",
       "A data.frame: 4 × 16\n",
       "\n",
       "| <!--/--> | Date.Sub &lt;chr&gt; | Date &lt;date&gt; | Activity &lt;chr&gt; | Cal.Burned &lt;dbl&gt; | Distance &lt;dbl&gt; | Duration &lt;dbl&gt; | Avg.Pace &lt;dbl&gt; | Max.Pace &lt;dbl&gt; | Avg.Spd &lt;dbl&gt; | Max.Speed &lt;dbl&gt; | Avg.HR &lt;dbl&gt; | Steps &lt;dbl&gt; | duration &lt;dbl&gt; | day &lt;chr&gt; | month &lt;chr&gt; | year &lt;ord&gt; |\n",
       "|---|---|---|---|---|---|---|---|---|---|---|---|---|---|---|---|---|\n",
       "| 1 | July 20, 2022 | 2022-07-20 | Run |  836 | 6.2 | 3689 |  9.92 | 0.00 | 6.05 |   0.0 |   0 |  9775 | 61.48 | Wednesday | July | 2022 |\n",
       "| 2 | July 18, 2022 | 2022-07-18 | Run | 1175 | 9.0 | 5709 | 10.57 | 0.46 | 5.68 | 130.3 | 143 | 14918 | 95.15 | Monday    | July | 2022 |\n",
       "| 3 | July 17, 2022 | 2022-07-17 | Run |  404 | 3.1 | 1593 |  8.56 | 0.00 | 7.01 |   0.0 |   0 |  4286 | 26.55 | Sunday    | July | 2022 |\n",
       "| 4 | July 17, 2022 | 2022-07-16 | Run |  405 | 3.1 | 1698 |  9.13 | 0.00 | 6.57 |   0.0 |   0 |  4537 | 28.30 | Saturday  | July | 2022 |\n",
       "\n"
      ],
      "text/plain": [
       "  Date.Sub      Date       Activity Cal.Burned Distance Duration Avg.Pace\n",
       "1 July 20, 2022 2022-07-20 Run       836       6.2      3689      9.92   \n",
       "2 July 18, 2022 2022-07-18 Run      1175       9.0      5709     10.57   \n",
       "3 July 17, 2022 2022-07-17 Run       404       3.1      1593      8.56   \n",
       "4 July 17, 2022 2022-07-16 Run       405       3.1      1698      9.13   \n",
       "  Max.Pace Avg.Spd Max.Speed Avg.HR Steps duration day       month year\n",
       "1 0.00     6.05      0.0       0     9775 61.48    Wednesday July  2022\n",
       "2 0.46     5.68    130.3     143    14918 95.15    Monday    July  2022\n",
       "3 0.00     7.01      0.0       0     4286 26.55    Sunday    July  2022\n",
       "4 0.00     6.57      0.0       0     4537 28.30    Saturday  July  2022"
      ]
     },
     "metadata": {},
     "output_type": "display_data"
    }
   ],
   "source": [
    "head(df, 4)"
   ]
  },
  {
   "cell_type": "code",
   "execution_count": null,
   "metadata": {
    "vscode": {
     "languageId": "r"
    }
   },
   "outputs": [],
   "source": [
    "library(ggplot2)"
   ]
  },
  {
   "cell_type": "code",
   "execution_count": null,
   "metadata": {
    "vscode": {
     "languageId": "r"
    }
   },
   "outputs": [
    {
     "data": {
      "image/png": "[encoded data removed]",
      "text/plain": [
       "plot without title"
      ]
     },
     "metadata": {},
     "output_type": "display_data"
    }
   ],
   "source": [
    "ggplot(data = df, mapping = aes(x = Distance, y = duration)) + \n",
    "    geom_point()"
   ]
  },
  {
   "cell_type": "code",
   "execution_count": null,
   "metadata": {
    "vscode": {
     "languageId": "r"
    }
   },
   "outputs": [],
   "source": [
    "#Remove erroneous data (I know I have not run anything over 170 minutes)\n",
    "df <- df[df$duration < 170,]\n",
    "df <- df[df$Avg.Spd < 10,]\n",
    "df <- df[df$Cal.Burned < 2000,]\n",
    "df <- df[df$Date > '2019-01-01',]"
   ]
  },
  {
   "cell_type": "code",
   "execution_count": null,
   "metadata": {
    "vscode": {
     "languageId": "r"
    }
   },
   "outputs": [],
   "source": [
    "#Create subsets for years 2021 and 2022\n",
    "df2022 <- df[df$Date.Sub >= \"2022-01-01\",]\n",
    "df2021 <- subset(df, Date.Sub < \"2022-01-01\" & Date.Sub >= \"2021-01-01\")"
   ]
  },
  {
   "cell_type": "code",
   "execution_count": null,
   "metadata": {
    "vscode": {
     "languageId": "r"
    }
   },
   "outputs": [
    {
     "name": "stderr",
     "output_type": "stream",
     "text": [
      "Warning message in eval(expr, envir, enclos):\n",
      "\"NAs introduced by coercion\"\n"
     ]
    }
   ],
   "source": [
    "df$year <- format(df$Date.Sub, format = \"%Y\")\n",
    "df$year <- as.integer(df$year)"
   ]
  },
  {
   "cell_type": "code",
   "execution_count": null,
   "metadata": {
    "vscode": {
     "languageId": "r"
    }
   },
   "outputs": [
    {
     "data": {
      "text/html": [
       "<table class=\"dataframe\">\n",
       "<caption>A data.frame: 4 × 16</caption>\n",
       "<thead>\n",
       "\t<tr><th></th><th scope=col>Date.Sub</th><th scope=col>Date</th><th scope=col>Activity</th><th scope=col>Cal.Burned</th><th scope=col>Distance</th><th scope=col>Duration</th><th scope=col>Avg.Pace</th><th scope=col>Max.Pace</th><th scope=col>Avg.Spd</th><th scope=col>Max.Speed</th><th scope=col>Avg.HR</th><th scope=col>Steps</th><th scope=col>duration</th><th scope=col>day</th><th scope=col>month</th><th scope=col>year</th></tr>\n",
       "\t<tr><th></th><th scope=col>&lt;chr&gt;</th><th scope=col>&lt;date&gt;</th><th scope=col>&lt;chr&gt;</th><th scope=col>&lt;dbl&gt;</th><th scope=col>&lt;dbl&gt;</th><th scope=col>&lt;dbl&gt;</th><th scope=col>&lt;dbl&gt;</th><th scope=col>&lt;dbl&gt;</th><th scope=col>&lt;dbl&gt;</th><th scope=col>&lt;dbl&gt;</th><th scope=col>&lt;dbl&gt;</th><th scope=col>&lt;dbl&gt;</th><th scope=col>&lt;dbl&gt;</th><th scope=col>&lt;chr&gt;</th><th scope=col>&lt;chr&gt;</th><th scope=col>&lt;int&gt;</th></tr>\n",
       "</thead>\n",
       "<tbody>\n",
       "\t<tr><th scope=row>697</th><td>May 19, 2019</td><td>2019-05-19</td><td>Run             </td><td>419</td><td>3.11</td><td>2197</td><td>11.69</td><td> 2.06</td><td>5.13</td><td>29.17</td><td>139</td><td>5295</td><td>36.62</td><td>Sunday   </td><td>May</td><td>NA</td></tr>\n",
       "\t<tr><th scope=row>698</th><td>May 15, 2019</td><td>2019-05-15</td><td>Indoor Run / Jog</td><td>403</td><td>3.13</td><td>2344</td><td>12.48</td><td> 0.00</td><td>4.81</td><td> 0.00</td><td>  0</td><td>6926</td><td>39.07</td><td>Wednesday</td><td>May</td><td>NA</td></tr>\n",
       "\t<tr><th scope=row>699</th><td>May 13, 2019</td><td>2019-05-13</td><td>Run             </td><td>258</td><td>1.96</td><td>1214</td><td>10.32</td><td> 2.67</td><td>5.82</td><td>22.45</td><td>  0</td><td>3209</td><td>20.23</td><td>Monday   </td><td>May</td><td>NA</td></tr>\n",
       "\t<tr><th scope=row>700</th><td>May 13, 2019</td><td>2019-05-13</td><td>Indoor Run / Jog</td><td>191</td><td>1.42</td><td> 927</td><td>10.88</td><td>17.09</td><td>5.51</td><td> 3.51</td><td>158</td><td>  67</td><td>15.45</td><td>Monday   </td><td>May</td><td>NA</td></tr>\n",
       "</tbody>\n",
       "</table>\n"
      ],
      "text/latex": [
       "A data.frame: 4 × 16\n",
       "\\begin{tabular}{r|llllllllllllllll}\n",
       "  & Date.Sub & Date & Activity & Cal.Burned & Distance & Duration & Avg.Pace & Max.Pace & Avg.Spd & Max.Speed & Avg.HR & Steps & duration & day & month & year\\\\\n",
       "  & <chr> & <date> & <chr> & <dbl> & <dbl> & <dbl> & <dbl> & <dbl> & <dbl> & <dbl> & <dbl> & <dbl> & <dbl> & <chr> & <chr> & <int>\\\\\n",
       "\\hline\n",
       "\t697 & May 19, 2019 & 2019-05-19 & Run              & 419 & 3.11 & 2197 & 11.69 &  2.06 & 5.13 & 29.17 & 139 & 5295 & 36.62 & Sunday    & May & NA\\\\\n",
       "\t698 & May 15, 2019 & 2019-05-15 & Indoor Run / Jog & 403 & 3.13 & 2344 & 12.48 &  0.00 & 4.81 &  0.00 &   0 & 6926 & 39.07 & Wednesday & May & NA\\\\\n",
       "\t699 & May 13, 2019 & 2019-05-13 & Run              & 258 & 1.96 & 1214 & 10.32 &  2.67 & 5.82 & 22.45 &   0 & 3209 & 20.23 & Monday    & May & NA\\\\\n",
       "\t700 & May 13, 2019 & 2019-05-13 & Indoor Run / Jog & 191 & 1.42 &  927 & 10.88 & 17.09 & 5.51 &  3.51 & 158 &   67 & 15.45 & Monday    & May & NA\\\\\n",
       "\\end{tabular}\n"
      ],
      "text/markdown": [
       "\n",
       "A data.frame: 4 × 16\n",
       "\n",
       "| <!--/--> | Date.Sub &lt;chr&gt; | Date &lt;date&gt; | Activity &lt;chr&gt; | Cal.Burned &lt;dbl&gt; | Distance &lt;dbl&gt; | Duration &lt;dbl&gt; | Avg.Pace &lt;dbl&gt; | Max.Pace &lt;dbl&gt; | Avg.Spd &lt;dbl&gt; | Max.Speed &lt;dbl&gt; | Avg.HR &lt;dbl&gt; | Steps &lt;dbl&gt; | duration &lt;dbl&gt; | day &lt;chr&gt; | month &lt;chr&gt; | year &lt;int&gt; |\n",
       "|---|---|---|---|---|---|---|---|---|---|---|---|---|---|---|---|---|\n",
       "| 697 | May 19, 2019 | 2019-05-19 | Run              | 419 | 3.11 | 2197 | 11.69 |  2.06 | 5.13 | 29.17 | 139 | 5295 | 36.62 | Sunday    | May | NA |\n",
       "| 698 | May 15, 2019 | 2019-05-15 | Indoor Run / Jog | 403 | 3.13 | 2344 | 12.48 |  0.00 | 4.81 |  0.00 |   0 | 6926 | 39.07 | Wednesday | May | NA |\n",
       "| 699 | May 13, 2019 | 2019-05-13 | Run              | 258 | 1.96 | 1214 | 10.32 |  2.67 | 5.82 | 22.45 |   0 | 3209 | 20.23 | Monday    | May | NA |\n",
       "| 700 | May 13, 2019 | 2019-05-13 | Indoor Run / Jog | 191 | 1.42 |  927 | 10.88 | 17.09 | 5.51 |  3.51 | 158 |   67 | 15.45 | Monday    | May | NA |\n",
       "\n"
      ],
      "text/plain": [
       "    Date.Sub     Date       Activity         Cal.Burned Distance Duration\n",
       "697 May 19, 2019 2019-05-19 Run              419        3.11     2197    \n",
       "698 May 15, 2019 2019-05-15 Indoor Run / Jog 403        3.13     2344    \n",
       "699 May 13, 2019 2019-05-13 Run              258        1.96     1214    \n",
       "700 May 13, 2019 2019-05-13 Indoor Run / Jog 191        1.42      927    \n",
       "    Avg.Pace Max.Pace Avg.Spd Max.Speed Avg.HR Steps duration day       month\n",
       "697 11.69     2.06    5.13    29.17     139    5295  36.62    Sunday    May  \n",
       "698 12.48     0.00    4.81     0.00       0    6926  39.07    Wednesday May  \n",
       "699 10.32     2.67    5.82    22.45       0    3209  20.23    Monday    May  \n",
       "700 10.88    17.09    5.51     3.51     158      67  15.45    Monday    May  \n",
       "    year\n",
       "697 NA  \n",
       "698 NA  \n",
       "699 NA  \n",
       "700 NA  "
      ]
     },
     "metadata": {},
     "output_type": "display_data"
    }
   ],
   "source": [
    "tail(df, 4)"
   ]
  },
  {
   "cell_type": "code",
   "execution_count": null,
   "metadata": {
    "vscode": {
     "languageId": "r"
    }
   },
   "outputs": [
    {
     "name": "stderr",
     "output_type": "stream",
     "text": [
      "`geom_smooth()` using method = 'loess' and formula 'y ~ x'\n",
      "\n",
      "ERROR while rich displaying an object: Error: Continuous value supplied to discrete scale\n",
      "\n",
      "Traceback:\n",
      "1. tryCatch(withCallingHandlers({\n",
      " .     if (!mime %in% names(repr::mime2repr)) \n",
      " .         stop(\"No repr_* for mimetype \", mime, \" in repr::mime2repr\")\n",
      " .     rpr <- repr::mime2repr[[mime]](obj)\n",
      " .     if (is.null(rpr)) \n",
      " .         return(NULL)\n",
      " .     prepare_content(is.raw(rpr), rpr)\n",
      " . }, error = error_handler), error = outer_handler)\n",
      "2. tryCatchList(expr, classes, parentenv, handlers)\n",
      "3. tryCatchOne(expr, names, parentenv, handlers[[1L]])\n",
      "4. doTryCatch(return(expr), name, parentenv, handler)\n",
      "5. withCallingHandlers({\n",
      " .     if (!mime %in% names(repr::mime2repr)) \n",
      " .         stop(\"No repr_* for mimetype \", mime, \" in repr::mime2repr\")\n",
      " .     rpr <- repr::mime2repr[[mime]](obj)\n",
      " .     if (is.null(rpr)) \n",
      " .         return(NULL)\n",
      " .     prepare_content(is.raw(rpr), rpr)\n",
      " . }, error = error_handler)\n",
      "6. repr::mime2repr[[mime]](obj)\n",
      "7. repr_text.default(obj)\n",
      "8. paste(capture.output(print(obj)), collapse = \"\\n\")\n",
      "9. capture.output(print(obj))\n",
      "10. withVisible(...elt(i))\n",
      "11. print(obj)\n",
      "12. print.ggplot(obj)\n",
      "13. ggplot_build(x)\n",
      "14. ggplot_build.ggplot(x)\n",
      "15. lapply(data, scales_train_df, scales = npscales)\n",
      "16. FUN(X[[i]], ...)\n",
      "17. lapply(scales$scales, function(scale) scale$train_df(df = df))\n",
      "18. FUN(X[[i]], ...)\n",
      "19. scale$train_df(df = df)\n",
      "20. f(..., self = self)\n",
      "21. self$train(df[[aesthetic]])\n",
      "22. f(..., self = self)\n",
      "23. self$range$train(x, drop = self$drop, na.rm = !self$na.translate)\n",
      "24. f(..., self = self)\n",
      "25. scales::train_discrete(x, self$range, drop = drop, na.rm = na.rm)\n",
      "26. stop(\"Continuous value supplied to discrete scale\", call. = FALSE)\n"
     ]
    },
    {
     "data": {
      "image/png": "[encoded data removed]",
      "text/plain": [
       "plot without title"
      ]
     },
     "metadata": {},
     "output_type": "display_data"
    }
   ],
   "source": [
    "ggplot(data = df, mapping = aes(x = Distance, y = duration, color = month)) + \n",
    "    geom_point() + geom_smooth(aes(color = year))"
   ]
  },
  {
   "cell_type": "code",
   "execution_count": null,
   "metadata": {
    "vscode": {
     "languageId": "r"
    }
   },
   "outputs": [
    {
     "name": "stderr",
     "output_type": "stream",
     "text": [
      "`stat_bin()` using `bins = 30`. Pick better value with `binwidth`.\n",
      "\n"
     ]
    },
    {
     "data": {
      "image/png": "[encoded data removed]",
      "text/plain": [
       "plot without title"
      ]
     },
     "metadata": {},
     "output_type": "display_data"
    }
   ],
   "source": [
    "library(ggplot2)\n",
    "ggplot(data=df, aes(x=Date)) +\n",
    "  geom_histogram(fill=\"steelblue\", color=\"black\") +\n",
    "  ggtitle(\"Histogram of Runs\")"
   ]
  },
  {
   "cell_type": "code",
   "execution_count": null,
   "metadata": {
    "vscode": {
     "languageId": "r"
    }
   },
   "outputs": [
    {
     "data": {
      "image/png": "[encoded data removed]",
      "text/plain": [
       "plot without title"
      ]
     },
     "metadata": {},
     "output_type": "display_data"
    }
   ],
   "source": [
    "ggplot(data=df, aes(x=Distance, y=duration, color=year)) + \n",
    "  geom_point()"
   ]
  },
  {
   "cell_type": "code",
   "execution_count": null,
   "metadata": {
    "vscode": {
     "languageId": "r"
    }
   },
   "outputs": [
    {
     "data": {
      "image/png": "[encoded data removed]",
      "text/plain": [
       "plot without title"
      ]
     },
     "metadata": {},
     "output_type": "display_data"
    }
   ],
   "source": [
    "ggplot(data=df, aes(x=day, y=Distance)) + \n",
    "  geom_boxplot(fill=\"steelblue\")"
   ]
  },
  {
   "cell_type": "code",
   "execution_count": null,
   "metadata": {
    "vscode": {
     "languageId": "r"
    }
   },
   "outputs": [],
   "source": [
    "df <- df %>% mutate(new_bin = cut(Distance, breaks=c(0, 3.09, 6.21, 13.09, 15)))\n"
   ]
  },
  {
   "cell_type": "code",
   "execution_count": null,
   "metadata": {
    "vscode": {
     "languageId": "r"
    }
   },
   "outputs": [],
   "source": [
    "names(df)[names(df) == \"new_bin\"] <- \"Miles\""
   ]
  },
  {
   "cell_type": "code",
   "execution_count": null,
   "metadata": {
    "vscode": {
     "languageId": "r"
    }
   },
   "outputs": [
    {
     "data": {
      "text/html": [
       "<table class=\"dataframe\">\n",
       "<caption>A data.frame: 1 × 17</caption>\n",
       "<thead>\n",
       "\t<tr><th></th><th scope=col>Date.Sub</th><th scope=col>Date</th><th scope=col>Activity</th><th scope=col>Cal.Burned</th><th scope=col>Distance</th><th scope=col>Duration</th><th scope=col>Avg.Pace</th><th scope=col>Max.Pace</th><th scope=col>Avg.Spd</th><th scope=col>Max.Speed</th><th scope=col>Avg.HR</th><th scope=col>Steps</th><th scope=col>duration</th><th scope=col>day</th><th scope=col>month</th><th scope=col>year</th><th scope=col>Miles</th></tr>\n",
       "\t<tr><th></th><th scope=col>&lt;chr&gt;</th><th scope=col>&lt;date&gt;</th><th scope=col>&lt;chr&gt;</th><th scope=col>&lt;dbl&gt;</th><th scope=col>&lt;dbl&gt;</th><th scope=col>&lt;dbl&gt;</th><th scope=col>&lt;dbl&gt;</th><th scope=col>&lt;dbl&gt;</th><th scope=col>&lt;dbl&gt;</th><th scope=col>&lt;dbl&gt;</th><th scope=col>&lt;dbl&gt;</th><th scope=col>&lt;dbl&gt;</th><th scope=col>&lt;dbl&gt;</th><th scope=col>&lt;chr&gt;</th><th scope=col>&lt;chr&gt;</th><th scope=col>&lt;int&gt;</th><th scope=col>&lt;fct&gt;</th></tr>\n",
       "</thead>\n",
       "<tbody>\n",
       "\t<tr><th scope=row>1</th><td>July 20, 2022</td><td>2022-07-20</td><td>Run</td><td>836</td><td>6.2</td><td>3689</td><td>9.92</td><td>0</td><td>6.05</td><td>0</td><td>0</td><td>9775</td><td>61.48</td><td>Wednesday</td><td>July</td><td>NA</td><td>(3.09,6.21]</td></tr>\n",
       "</tbody>\n",
       "</table>\n"
      ],
      "text/latex": [
       "A data.frame: 1 × 17\n",
       "\\begin{tabular}{r|lllllllllllllllll}\n",
       "  & Date.Sub & Date & Activity & Cal.Burned & Distance & Duration & Avg.Pace & Max.Pace & Avg.Spd & Max.Speed & Avg.HR & Steps & duration & day & month & year & Miles\\\\\n",
       "  & <chr> & <date> & <chr> & <dbl> & <dbl> & <dbl> & <dbl> & <dbl> & <dbl> & <dbl> & <dbl> & <dbl> & <dbl> & <chr> & <chr> & <int> & <fct>\\\\\n",
       "\\hline\n",
       "\t1 & July 20, 2022 & 2022-07-20 & Run & 836 & 6.2 & 3689 & 9.92 & 0 & 6.05 & 0 & 0 & 9775 & 61.48 & Wednesday & July & NA & (3.09,6.21{]}\\\\\n",
       "\\end{tabular}\n"
      ],
      "text/markdown": [
       "\n",
       "A data.frame: 1 × 17\n",
       "\n",
       "| <!--/--> | Date.Sub &lt;chr&gt; | Date &lt;date&gt; | Activity &lt;chr&gt; | Cal.Burned &lt;dbl&gt; | Distance &lt;dbl&gt; | Duration &lt;dbl&gt; | Avg.Pace &lt;dbl&gt; | Max.Pace &lt;dbl&gt; | Avg.Spd &lt;dbl&gt; | Max.Speed &lt;dbl&gt; | Avg.HR &lt;dbl&gt; | Steps &lt;dbl&gt; | duration &lt;dbl&gt; | day &lt;chr&gt; | month &lt;chr&gt; | year &lt;int&gt; | Miles &lt;fct&gt; |\n",
       "|---|---|---|---|---|---|---|---|---|---|---|---|---|---|---|---|---|---|\n",
       "| 1 | July 20, 2022 | 2022-07-20 | Run | 836 | 6.2 | 3689 | 9.92 | 0 | 6.05 | 0 | 0 | 9775 | 61.48 | Wednesday | July | NA | (3.09,6.21] |\n",
       "\n"
      ],
      "text/plain": [
       "  Date.Sub      Date       Activity Cal.Burned Distance Duration Avg.Pace\n",
       "1 July 20, 2022 2022-07-20 Run      836        6.2      3689     9.92    \n",
       "  Max.Pace Avg.Spd Max.Speed Avg.HR Steps duration day       month year\n",
       "1 0        6.05    0         0      9775  61.48    Wednesday July  NA  \n",
       "  Miles      \n",
       "1 (3.09,6.21]"
      ]
     },
     "metadata": {},
     "output_type": "display_data"
    }
   ],
   "source": [
    "head(df, 1)"
   ]
  },
  {
   "cell_type": "code",
   "execution_count": null,
   "metadata": {
    "vscode": {
     "languageId": "r"
    }
   },
   "outputs": [
    {
     "data": {
      "image/png": "[encoded data removed]",
      "text/plain": [
       "plot without title"
      ]
     },
     "metadata": {},
     "output_type": "display_data"
    }
   ],
   "source": [
    "ggplot(data=df, aes(x=Distance, y=Cal.Burned, color=Miles)) + \n",
    "  geom_point()"
   ]
  },
  {
   "cell_type": "code",
   "execution_count": null,
   "metadata": {
    "vscode": {
     "languageId": "r"
    }
   },
   "outputs": [
    {
     "data": {
      "text/html": [
       "<style>\n",
       ".dl-inline {width: auto; margin:0; padding: 0}\n",
       ".dl-inline>dt, .dl-inline>dd {float: none; width: auto; display: inline-block}\n",
       ".dl-inline>dt::after {content: \":\\0020\"; padding-right: .5ex}\n",
       ".dl-inline>dt:not(:first-of-type) {padding-left: .5ex}\n",
       "</style><dl class=dl-inline><dt>Date.Sub</dt><dd>0</dd><dt>Date</dt><dd>0</dd><dt>Activity</dt><dd>0</dd><dt>Cal.Burned</dt><dd>0</dd><dt>Distance</dt><dd>0</dd><dt>Duration</dt><dd>0</dd><dt>Avg.Pace</dt><dd>0</dd><dt>Max.Pace</dt><dd>0</dd><dt>Avg.Spd</dt><dd>0</dd><dt>Max.Speed</dt><dd>0</dd><dt>Avg.HR</dt><dd>0</dd><dt>Steps</dt><dd>0</dd><dt>duration</dt><dd>0</dd><dt>day</dt><dd>0</dd><dt>month</dt><dd>0</dd><dt>year</dt><dd>691</dd><dt>Miles</dt><dd>19</dd></dl>\n"
      ],
      "text/latex": [
       "\\begin{description*}\n",
       "\\item[Date.Sub] 0\n",
       "\\item[Date] 0\n",
       "\\item[Activity] 0\n",
       "\\item[Cal.Burned] 0\n",
       "\\item[Distance] 0\n",
       "\\item[Duration] 0\n",
       "\\item[Avg.Pace] 0\n",
       "\\item[Max.Pace] 0\n",
       "\\item[Avg.Spd] 0\n",
       "\\item[Max.Speed] 0\n",
       "\\item[Avg.HR] 0\n",
       "\\item[Steps] 0\n",
       "\\item[duration] 0\n",
       "\\item[day] 0\n",
       "\\item[month] 0\n",
       "\\item[year] 691\n",
       "\\item[Miles] 19\n",
       "\\end{description*}\n"
      ],
      "text/markdown": [
       "Date.Sub\n",
       ":   0Date\n",
       ":   0Activity\n",
       ":   0Cal.Burned\n",
       ":   0Distance\n",
       ":   0Duration\n",
       ":   0Avg.Pace\n",
       ":   0Max.Pace\n",
       ":   0Avg.Spd\n",
       ":   0Max.Speed\n",
       ":   0Avg.HR\n",
       ":   0Steps\n",
       ":   0duration\n",
       ":   0day\n",
       ":   0month\n",
       ":   0year\n",
       ":   691Miles\n",
       ":   19\n",
       "\n"
      ],
      "text/plain": [
       "  Date.Sub       Date   Activity Cal.Burned   Distance   Duration   Avg.Pace \n",
       "         0          0          0          0          0          0          0 \n",
       "  Max.Pace    Avg.Spd  Max.Speed     Avg.HR      Steps   duration        day \n",
       "         0          0          0          0          0          0          0 \n",
       "     month       year      Miles \n",
       "         0        691         19 "
      ]
     },
     "metadata": {},
     "output_type": "display_data"
    },
    {
     "data": {
      "text/html": [
       "<style>\n",
       ".dl-inline {width: auto; margin:0; padding: 0}\n",
       ".dl-inline>dt, .dl-inline>dd {float: none; width: auto; display: inline-block}\n",
       ".dl-inline>dt::after {content: \":\\0020\"; padding-right: .5ex}\n",
       ".dl-inline>dt:not(:first-of-type) {padding-left: .5ex}\n",
       "</style><dl class=dl-inline><dt>Date.Sub</dt><dd>187</dd><dt>Date</dt><dd>157</dd><dt>Activity</dt><dd>685</dd><dt>Cal.Burned</dt><dd>310</dd><dt>Distance</dt><dd>398</dd><dt>Duration</dt><dd>125</dd><dt>Avg.Pace</dt><dd>301</dd><dt>Max.Pace</dt><dd>440</dd><dt>Avg.Spd</dt><dd>381</dd><dt>Max.Speed</dt><dd>254</dd><dt>Avg.HR</dt><dd>617</dd><dt>Steps</dt><dd>69</dd><dt>duration</dt><dd>125</dd><dt>day</dt><dd>684</dd><dt>month</dt><dd>679</dd><dt>year</dt><dd>690</dd><dt>Miles</dt><dd>686</dd></dl>\n"
      ],
      "text/latex": [
       "\\begin{description*}\n",
       "\\item[Date.Sub] 187\n",
       "\\item[Date] 157\n",
       "\\item[Activity] 685\n",
       "\\item[Cal.Burned] 310\n",
       "\\item[Distance] 398\n",
       "\\item[Duration] 125\n",
       "\\item[Avg.Pace] 301\n",
       "\\item[Max.Pace] 440\n",
       "\\item[Avg.Spd] 381\n",
       "\\item[Max.Speed] 254\n",
       "\\item[Avg.HR] 617\n",
       "\\item[Steps] 69\n",
       "\\item[duration] 125\n",
       "\\item[day] 684\n",
       "\\item[month] 679\n",
       "\\item[year] 690\n",
       "\\item[Miles] 686\n",
       "\\end{description*}\n"
      ],
      "text/markdown": [
       "Date.Sub\n",
       ":   187Date\n",
       ":   157Activity\n",
       ":   685Cal.Burned\n",
       ":   310Distance\n",
       ":   398Duration\n",
       ":   125Avg.Pace\n",
       ":   301Max.Pace\n",
       ":   440Avg.Spd\n",
       ":   381Max.Speed\n",
       ":   254Avg.HR\n",
       ":   617Steps\n",
       ":   69duration\n",
       ":   125day\n",
       ":   684month\n",
       ":   679year\n",
       ":   690Miles\n",
       ":   686\n",
       "\n"
      ],
      "text/plain": [
       "  Date.Sub       Date   Activity Cal.Burned   Distance   Duration   Avg.Pace \n",
       "       187        157        685        310        398        125        301 \n",
       "  Max.Pace    Avg.Spd  Max.Speed     Avg.HR      Steps   duration        day \n",
       "       440        381        254        617         69        125        684 \n",
       "     month       year      Miles \n",
       "       679        690        686 "
      ]
     },
     "metadata": {},
     "output_type": "display_data"
    }
   ],
   "source": [
    "sapply(df, function(x) sum(is.na(x)))\n",
    "sapply(df, function(x) sum(duplicated(x)))\n"
   ]
  },
  {
   "cell_type": "code",
   "execution_count": null,
   "metadata": {
    "vscode": {
     "languageId": "r"
    }
   },
   "outputs": [
    {
     "data": {
      "text/html": [
       "<table class=\"dataframe\">\n",
       "<caption>A data.frame: 4 × 17</caption>\n",
       "<thead>\n",
       "\t<tr><th></th><th scope=col>Date.Sub</th><th scope=col>Date</th><th scope=col>Activity</th><th scope=col>Cal.Burned</th><th scope=col>Distance</th><th scope=col>Duration</th><th scope=col>Avg.Pace</th><th scope=col>Max.Pace</th><th scope=col>Avg.Spd</th><th scope=col>Max.Speed</th><th scope=col>Avg.HR</th><th scope=col>Steps</th><th scope=col>duration</th><th scope=col>day</th><th scope=col>month</th><th scope=col>year</th><th scope=col>Miles</th></tr>\n",
       "\t<tr><th></th><th scope=col>&lt;chr&gt;</th><th scope=col>&lt;date&gt;</th><th scope=col>&lt;chr&gt;</th><th scope=col>&lt;dbl&gt;</th><th scope=col>&lt;dbl&gt;</th><th scope=col>&lt;dbl&gt;</th><th scope=col>&lt;dbl&gt;</th><th scope=col>&lt;dbl&gt;</th><th scope=col>&lt;dbl&gt;</th><th scope=col>&lt;dbl&gt;</th><th scope=col>&lt;dbl&gt;</th><th scope=col>&lt;dbl&gt;</th><th scope=col>&lt;dbl&gt;</th><th scope=col>&lt;chr&gt;</th><th scope=col>&lt;chr&gt;</th><th scope=col>&lt;int&gt;</th><th scope=col>&lt;fct&gt;</th></tr>\n",
       "</thead>\n",
       "<tbody>\n",
       "\t<tr><th scope=row>1</th><td>July 20, 2022</td><td>2022-07-20</td><td>Run</td><td> 836</td><td>6.2</td><td>3689</td><td> 9.92</td><td>0.00</td><td>6.05</td><td>  0.0</td><td>  0</td><td> 9775</td><td>61.48</td><td>Wednesday</td><td>July</td><td>NA</td><td>(3.09,6.21]</td></tr>\n",
       "\t<tr><th scope=row>2</th><td>July 18, 2022</td><td>2022-07-18</td><td>Run</td><td>1175</td><td>9.0</td><td>5709</td><td>10.57</td><td>0.46</td><td>5.68</td><td>130.3</td><td>143</td><td>14918</td><td>95.15</td><td>Monday   </td><td>July</td><td>NA</td><td>(6.21,13.1]</td></tr>\n",
       "\t<tr><th scope=row>3</th><td>July 17, 2022</td><td>2022-07-17</td><td>Run</td><td> 404</td><td>3.1</td><td>1593</td><td> 8.56</td><td>0.00</td><td>7.01</td><td>  0.0</td><td>  0</td><td> 4286</td><td>26.55</td><td>Sunday   </td><td>July</td><td>NA</td><td>(3.09,6.21]</td></tr>\n",
       "\t<tr><th scope=row>4</th><td>July 17, 2022</td><td>2022-07-16</td><td>Run</td><td> 405</td><td>3.1</td><td>1698</td><td> 9.13</td><td>0.00</td><td>6.57</td><td>  0.0</td><td>  0</td><td> 4537</td><td>28.30</td><td>Saturday </td><td>July</td><td>NA</td><td>(3.09,6.21]</td></tr>\n",
       "</tbody>\n",
       "</table>\n"
      ],
      "text/latex": [
       "A data.frame: 4 × 17\n",
       "\\begin{tabular}{r|lllllllllllllllll}\n",
       "  & Date.Sub & Date & Activity & Cal.Burned & Distance & Duration & Avg.Pace & Max.Pace & Avg.Spd & Max.Speed & Avg.HR & Steps & duration & day & month & year & Miles\\\\\n",
       "  & <chr> & <date> & <chr> & <dbl> & <dbl> & <dbl> & <dbl> & <dbl> & <dbl> & <dbl> & <dbl> & <dbl> & <dbl> & <chr> & <chr> & <int> & <fct>\\\\\n",
       "\\hline\n",
       "\t1 & July 20, 2022 & 2022-07-20 & Run &  836 & 6.2 & 3689 &  9.92 & 0.00 & 6.05 &   0.0 &   0 &  9775 & 61.48 & Wednesday & July & NA & (3.09,6.21{]}\\\\\n",
       "\t2 & July 18, 2022 & 2022-07-18 & Run & 1175 & 9.0 & 5709 & 10.57 & 0.46 & 5.68 & 130.3 & 143 & 14918 & 95.15 & Monday    & July & NA & (6.21,13.1{]}\\\\\n",
       "\t3 & July 17, 2022 & 2022-07-17 & Run &  404 & 3.1 & 1593 &  8.56 & 0.00 & 7.01 &   0.0 &   0 &  4286 & 26.55 & Sunday    & July & NA & (3.09,6.21{]}\\\\\n",
       "\t4 & July 17, 2022 & 2022-07-16 & Run &  405 & 3.1 & 1698 &  9.13 & 0.00 & 6.57 &   0.0 &   0 &  4537 & 28.30 & Saturday  & July & NA & (3.09,6.21{]}\\\\\n",
       "\\end{tabular}\n"
      ],
      "text/markdown": [
       "\n",
       "A data.frame: 4 × 17\n",
       "\n",
       "| <!--/--> | Date.Sub &lt;chr&gt; | Date &lt;date&gt; | Activity &lt;chr&gt; | Cal.Burned &lt;dbl&gt; | Distance &lt;dbl&gt; | Duration &lt;dbl&gt; | Avg.Pace &lt;dbl&gt; | Max.Pace &lt;dbl&gt; | Avg.Spd &lt;dbl&gt; | Max.Speed &lt;dbl&gt; | Avg.HR &lt;dbl&gt; | Steps &lt;dbl&gt; | duration &lt;dbl&gt; | day &lt;chr&gt; | month &lt;chr&gt; | year &lt;int&gt; | Miles &lt;fct&gt; |\n",
       "|---|---|---|---|---|---|---|---|---|---|---|---|---|---|---|---|---|---|\n",
       "| 1 | July 20, 2022 | 2022-07-20 | Run |  836 | 6.2 | 3689 |  9.92 | 0.00 | 6.05 |   0.0 |   0 |  9775 | 61.48 | Wednesday | July | NA | (3.09,6.21] |\n",
       "| 2 | July 18, 2022 | 2022-07-18 | Run | 1175 | 9.0 | 5709 | 10.57 | 0.46 | 5.68 | 130.3 | 143 | 14918 | 95.15 | Monday    | July | NA | (6.21,13.1] |\n",
       "| 3 | July 17, 2022 | 2022-07-17 | Run |  404 | 3.1 | 1593 |  8.56 | 0.00 | 7.01 |   0.0 |   0 |  4286 | 26.55 | Sunday    | July | NA | (3.09,6.21] |\n",
       "| 4 | July 17, 2022 | 2022-07-16 | Run |  405 | 3.1 | 1698 |  9.13 | 0.00 | 6.57 |   0.0 |   0 |  4537 | 28.30 | Saturday  | July | NA | (3.09,6.21] |\n",
       "\n"
      ],
      "text/plain": [
       "  Date.Sub      Date       Activity Cal.Burned Distance Duration Avg.Pace\n",
       "1 July 20, 2022 2022-07-20 Run       836       6.2      3689      9.92   \n",
       "2 July 18, 2022 2022-07-18 Run      1175       9.0      5709     10.57   \n",
       "3 July 17, 2022 2022-07-17 Run       404       3.1      1593      8.56   \n",
       "4 July 17, 2022 2022-07-16 Run       405       3.1      1698      9.13   \n",
       "  Max.Pace Avg.Spd Max.Speed Avg.HR Steps duration day       month year\n",
       "1 0.00     6.05      0.0       0     9775 61.48    Wednesday July  NA  \n",
       "2 0.46     5.68    130.3     143    14918 95.15    Monday    July  NA  \n",
       "3 0.00     7.01      0.0       0     4286 26.55    Sunday    July  NA  \n",
       "4 0.00     6.57      0.0       0     4537 28.30    Saturday  July  NA  \n",
       "  Miles      \n",
       "1 (3.09,6.21]\n",
       "2 (6.21,13.1]\n",
       "3 (3.09,6.21]\n",
       "4 (3.09,6.21]"
      ]
     },
     "metadata": {},
     "output_type": "display_data"
    }
   ],
   "source": [
    "head(df, 4)"
   ]
  },
  {
   "cell_type": "code",
   "execution_count": null,
   "metadata": {
    "vscode": {
     "languageId": "r"
    }
   },
   "outputs": [
    {
     "data": {
      "text/html": [
       "691"
      ],
      "text/latex": [
       "691"
      ],
      "text/markdown": [
       "691"
      ],
      "text/plain": [
       "[1] 691"
      ]
     },
     "metadata": {},
     "output_type": "display_data"
    }
   ],
   "source": [
    "nrow(df)"
   ]
  }
 ],
 "metadata": {
  "kernelspec": {
   "display_name": "R",
   "language": "R",
   "name": "ir"
  },
  "language_info": {
   "codemirror_mode": "r",
   "file_extension": ".r",
   "mimetype": "text/x-r-source",
   "name": "R",
   "pygments_lexer": "r",
   "version": "4.1.3"
  },
  "orig_nbformat": 4,
  "vscode": {
   "interpreter": {
    "hash": "9f357b62676163e453d3996bd7a23625b1faadc1b4915e4cbea894e22b2eb803"
   }
  }
 },
 "nbformat": 4,
 "nbformat_minor": 2
}
