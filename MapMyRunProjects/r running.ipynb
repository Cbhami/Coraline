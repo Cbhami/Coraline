{
 "cells": [
  {
   "cell_type": "markdown",
   "metadata": {},
   "source": [
    "# r book"
   ]
  },
  {
   "cell_type": "code",
   "execution_count": 680,
   "metadata": {
    "vscode": {
     "languageId": "r"
    }
   },
   "outputs": [
    {
     "name": "stderr",
     "output_type": "stream",
     "text": [
      "Warning message:\n",
      "\"package 'linelist' is in use and will not be installed\"\n"
     ]
    }
   ],
   "source": [
    "install.packages('linelist')"
   ]
  },
  {
   "cell_type": "code",
   "execution_count": 681,
   "metadata": {
    "vscode": {
     "languageId": "r"
    }
   },
   "outputs": [],
   "source": [
    "library(lubridate)\n",
    "library(tidyverse)\n",
    "library(dplyr)\n",
    "library(ggplot2)\n",
    "library(linelist)"
   ]
  },
  {
   "cell_type": "code",
   "execution_count": 682,
   "metadata": {
    "vscode": {
     "languageId": "r"
    }
   },
   "outputs": [],
   "source": [
    "df <- read.csv(\"https://raw.githubusercontent.com/Cbhami/Coraline/master/Resources/csv%20data/user94403143_workout_history.csv\", header=TRUE)"
   ]
  },
  {
   "cell_type": "code",
   "execution_count": 683,
   "metadata": {
    "vscode": {
     "languageId": "r"
    }
   },
   "outputs": [
    {
     "data": {
      "text/html": [
       "696"
      ],
      "text/latex": [
       "696"
      ],
      "text/markdown": [
       "696"
      ],
      "text/plain": [
       "[1] 696"
      ]
     },
     "metadata": {},
     "output_type": "display_data"
    }
   ],
   "source": [
    "nrow(df)"
   ]
  },
  {
   "cell_type": "code",
   "execution_count": 684,
   "metadata": {
    "vscode": {
     "languageId": "r"
    }
   },
   "outputs": [
    {
     "data": {
      "text/html": [
       "<table class=\"dataframe\">\n",
       "<caption>A data.frame: 1 × 15</caption>\n",
       "<thead>\n",
       "\t<tr><th></th><th scope=col>Date.Submitted</th><th scope=col>Workout.Date</th><th scope=col>Activity.Type</th><th scope=col>Calories.Burned..kCal.</th><th scope=col>Distance..mi.</th><th scope=col>Workout.Time..seconds.</th><th scope=col>Avg.Pace..min.mi.</th><th scope=col>Max.Pace..min.mi.</th><th scope=col>Avg.Speed..mi.h.</th><th scope=col>Max.Speed..mi.h.</th><th scope=col>Avg.Heart.Rate</th><th scope=col>Steps</th><th scope=col>Notes</th><th scope=col>Source</th><th scope=col>Link</th></tr>\n",
       "\t<tr><th></th><th scope=col>&lt;chr&gt;</th><th scope=col>&lt;chr&gt;</th><th scope=col>&lt;chr&gt;</th><th scope=col>&lt;int&gt;</th><th scope=col>&lt;dbl&gt;</th><th scope=col>&lt;int&gt;</th><th scope=col>&lt;dbl&gt;</th><th scope=col>&lt;dbl&gt;</th><th scope=col>&lt;dbl&gt;</th><th scope=col>&lt;dbl&gt;</th><th scope=col>&lt;int&gt;</th><th scope=col>&lt;int&gt;</th><th scope=col>&lt;chr&gt;</th><th scope=col>&lt;chr&gt;</th><th scope=col>&lt;chr&gt;</th></tr>\n",
       "</thead>\n",
       "<tbody>\n",
       "\t<tr><th scope=row>1</th><td>July 10, 2022</td><td>July 10, 2022</td><td>Run</td><td>429</td><td>3.09815</td><td>2301</td><td>12.3732</td><td>0.993196</td><td>4.8492</td><td>60.411</td><td>149</td><td>5125</td><td>b''</td><td>Map My Fitness MapMyRun iPhone</td><td>http://www.mapmyfitness.com/workout/6703432939</td></tr>\n",
       "</tbody>\n",
       "</table>\n"
      ],
      "text/latex": [
       "A data.frame: 1 × 15\n",
       "\\begin{tabular}{r|lllllllllllllll}\n",
       "  & Date.Submitted & Workout.Date & Activity.Type & Calories.Burned..kCal. & Distance..mi. & Workout.Time..seconds. & Avg.Pace..min.mi. & Max.Pace..min.mi. & Avg.Speed..mi.h. & Max.Speed..mi.h. & Avg.Heart.Rate & Steps & Notes & Source & Link\\\\\n",
       "  & <chr> & <chr> & <chr> & <int> & <dbl> & <int> & <dbl> & <dbl> & <dbl> & <dbl> & <int> & <int> & <chr> & <chr> & <chr>\\\\\n",
       "\\hline\n",
       "\t1 & July 10, 2022 & July 10, 2022 & Run & 429 & 3.09815 & 2301 & 12.3732 & 0.993196 & 4.8492 & 60.411 & 149 & 5125 & b'' & Map My Fitness MapMyRun iPhone & http://www.mapmyfitness.com/workout/6703432939\\\\\n",
       "\\end{tabular}\n"
      ],
      "text/markdown": [
       "\n",
       "A data.frame: 1 × 15\n",
       "\n",
       "| <!--/--> | Date.Submitted &lt;chr&gt; | Workout.Date &lt;chr&gt; | Activity.Type &lt;chr&gt; | Calories.Burned..kCal. &lt;int&gt; | Distance..mi. &lt;dbl&gt; | Workout.Time..seconds. &lt;int&gt; | Avg.Pace..min.mi. &lt;dbl&gt; | Max.Pace..min.mi. &lt;dbl&gt; | Avg.Speed..mi.h. &lt;dbl&gt; | Max.Speed..mi.h. &lt;dbl&gt; | Avg.Heart.Rate &lt;int&gt; | Steps &lt;int&gt; | Notes &lt;chr&gt; | Source &lt;chr&gt; | Link &lt;chr&gt; |\n",
       "|---|---|---|---|---|---|---|---|---|---|---|---|---|---|---|---|\n",
       "| 1 | July 10, 2022 | July 10, 2022 | Run | 429 | 3.09815 | 2301 | 12.3732 | 0.993196 | 4.8492 | 60.411 | 149 | 5125 | b'' | Map My Fitness MapMyRun iPhone | http://www.mapmyfitness.com/workout/6703432939 |\n",
       "\n"
      ],
      "text/plain": [
       "  Date.Submitted Workout.Date  Activity.Type Calories.Burned..kCal.\n",
       "1 July 10, 2022  July 10, 2022 Run           429                   \n",
       "  Distance..mi. Workout.Time..seconds. Avg.Pace..min.mi. Max.Pace..min.mi.\n",
       "1 3.09815       2301                   12.3732           0.993196         \n",
       "  Avg.Speed..mi.h. Max.Speed..mi.h. Avg.Heart.Rate Steps Notes\n",
       "1 4.8492           60.411           149            5125  b''  \n",
       "  Source                         Link                                          \n",
       "1 Map My Fitness MapMyRun iPhone http://www.mapmyfitness.com/workout/6703432939"
      ]
     },
     "metadata": {},
     "output_type": "display_data"
    }
   ],
   "source": [
    "head(df, 1)"
   ]
  },
  {
   "cell_type": "code",
   "execution_count": 685,
   "metadata": {
    "vscode": {
     "languageId": "r"
    }
   },
   "outputs": [
    {
     "data": {
      "text/plain": [
       " Date.Submitted     Workout.Date       Activity.Type     \n",
       " Length:696         Length:696         Length:696        \n",
       " Class :character   Class :character   Class :character  \n",
       " Mode  :character   Mode  :character   Mode  :character  \n",
       "                                                         \n",
       "                                                         \n",
       "                                                         \n",
       "                                                         \n",
       " Calories.Burned..kCal. Distance..mi.    Workout.Time..seconds.\n",
       " Min.   :   0.0         Min.   : 0.000   Min.   :    0         \n",
       " 1st Qu.: 228.0         1st Qu.: 1.991   1st Qu.: 1451         \n",
       " Median : 403.0         Median : 3.100   Median : 1800         \n",
       " Mean   : 398.7         Mean   : 3.081   Mean   : 2407         \n",
       " 3rd Qu.: 452.2         3rd Qu.: 3.513   3rd Qu.: 2330         \n",
       " Max.   :2473.0         Max.   :13.482   Max.   :80568         \n",
       "                                                               \n",
       " Avg.Pace..min.mi. Max.Pace..min.mi.  Avg.Speed..mi.h. Max.Speed..mi.h. \n",
       " Min.   :  0.000   Min.   :  0.0000   Min.   : 0.000   Min.   :   0.00  \n",
       " 1st Qu.:  9.042   1st Qu.:  0.0000   1st Qu.: 4.852   1st Qu.:   0.00  \n",
       " Median :  9.726   Median :  0.8613   Median : 6.119   Median :  15.76  \n",
       " Mean   : 13.032   Mean   :  2.0933   Mean   : 5.462   Mean   :  46.10  \n",
       " 3rd Qu.: 11.092   3rd Qu.:  1.5660   3rd Qu.: 6.555   3rd Qu.:  60.12  \n",
       " Max.   :295.262   Max.   :182.3960   Max.   :14.864   Max.   :1853.55  \n",
       "                                                                        \n",
       " Avg.Heart.Rate       Steps           Notes              Source         \n",
       " Min.   :  0.00   Min.   :     6   Length:696         Length:696        \n",
       " 1st Qu.: 80.25   1st Qu.:  3312   Class :character   Class :character  \n",
       " Median :142.00   Median :  4653   Mode  :character   Mode  :character  \n",
       " Mean   :107.35   Mean   :  5511                                        \n",
       " 3rd Qu.:153.00   3rd Qu.:  5723                                        \n",
       " Max.   :169.00   Max.   :193886                                        \n",
       " NA's   :238      NA's   :24                                            \n",
       "     Link          \n",
       " Length:696        \n",
       " Class :character  \n",
       " Mode  :character  \n",
       "                   \n",
       "                   \n",
       "                   \n",
       "                   "
      ]
     },
     "metadata": {},
     "output_type": "display_data"
    }
   ],
   "source": [
    "summary(df)"
   ]
  },
  {
   "cell_type": "code",
   "execution_count": 686,
   "metadata": {
    "vscode": {
     "languageId": "r"
    }
   },
   "outputs": [],
   "source": [
    "df <- data.frame(df)"
   ]
  },
  {
   "cell_type": "code",
   "execution_count": 687,
   "metadata": {
    "vscode": {
     "languageId": "r"
    }
   },
   "outputs": [
    {
     "data": {
      "text/html": [
       "696"
      ],
      "text/latex": [
       "696"
      ],
      "text/markdown": [
       "696"
      ],
      "text/plain": [
       "[1] 696"
      ]
     },
     "metadata": {},
     "output_type": "display_data"
    }
   ],
   "source": [
    "nrow(df)"
   ]
  },
  {
   "cell_type": "code",
   "execution_count": 688,
   "metadata": {
    "vscode": {
     "languageId": "r"
    }
   },
   "outputs": [],
   "source": [
    "df['duration'] <- df['Workout.Time..seconds.'] / 60"
   ]
  },
  {
   "cell_type": "code",
   "execution_count": 689,
   "metadata": {
    "vscode": {
     "languageId": "r"
    }
   },
   "outputs": [
    {
     "data": {
      "text/html": [
       "'c:/Users/coleb/OneDrive/Coraline/MapMyRunProjects'"
      ],
      "text/latex": [
       "'c:/Users/coleb/OneDrive/Coraline/MapMyRunProjects'"
      ],
      "text/markdown": [
       "'c:/Users/coleb/OneDrive/Coraline/MapMyRunProjects'"
      ],
      "text/plain": [
       "[1] \"c:/Users/coleb/OneDrive/Coraline/MapMyRunProjects\""
      ]
     },
     "metadata": {},
     "output_type": "display_data"
    }
   ],
   "source": [
    "#determine your working library\n",
    "getwd()"
   ]
  },
  {
   "cell_type": "code",
   "execution_count": 690,
   "metadata": {
    "vscode": {
     "languageId": "r"
    }
   },
   "outputs": [],
   "source": [
    "#download your file\n",
    "#download.file(\"https://raw.githubusercontent.com/Cbhami/Coraline/master/Resources/csv%20data/user94403143_workout_history.csv\", \"user94403143_workout_history.csv\")"
   ]
  },
  {
   "cell_type": "code",
   "execution_count": 691,
   "metadata": {
    "vscode": {
     "languageId": "r"
    }
   },
   "outputs": [],
   "source": [
    "#run_data <- read.csv(\"user94403143_workout_history.csv\", header=TRUE)\n",
    "run_data <- data.frame(df)"
   ]
  },
  {
   "cell_type": "code",
   "execution_count": 694,
   "metadata": {
    "vscode": {
     "languageId": "r"
    }
   },
   "outputs": [],
   "source": [
    "#convert the datetime variables using the following logic:\n",
    "#%B is a complete month name (November), %e is a day of the month (3) preceded by a space and followed by a comma and a space, and %Y is a four-digit year (2020).\n",
    "run_data$Workout.Date <- as.Date(run_data$Workout.Date, format = \"%B %e, %Y\")\n",
    "run_data$Date.Submitted <- as.Date(run_data$Date.Submitted, format = \"%B %e, %Y\")"
   ]
  },
  {
   "cell_type": "code",
   "execution_count": 695,
   "metadata": {
    "vscode": {
     "languageId": "r"
    }
   },
   "outputs": [
    {
     "data": {
      "text/html": [
       "<table class=\"dataframe\">\n",
       "<caption>A data.frame: 2 × 16</caption>\n",
       "<thead>\n",
       "\t<tr><th></th><th scope=col>Date.Sub</th><th scope=col>Date</th><th scope=col>Activity</th><th scope=col>Cal.Burned</th><th scope=col>Distance</th><th scope=col>Duration</th><th scope=col>Avg.Pace</th><th scope=col>Max.Pace</th><th scope=col>Avg.Spd</th><th scope=col>Max.Spd</th><th scope=col>Avg.HR</th><th scope=col>Steps</th><th scope=col>Notes</th><th scope=col>Source</th><th scope=col>Link</th><th scope=col>duration</th></tr>\n",
       "\t<tr><th></th><th scope=col>&lt;date&gt;</th><th scope=col>&lt;date&gt;</th><th scope=col>&lt;chr&gt;</th><th scope=col>&lt;int&gt;</th><th scope=col>&lt;dbl&gt;</th><th scope=col>&lt;int&gt;</th><th scope=col>&lt;dbl&gt;</th><th scope=col>&lt;dbl&gt;</th><th scope=col>&lt;dbl&gt;</th><th scope=col>&lt;dbl&gt;</th><th scope=col>&lt;int&gt;</th><th scope=col>&lt;int&gt;</th><th scope=col>&lt;chr&gt;</th><th scope=col>&lt;chr&gt;</th><th scope=col>&lt;chr&gt;</th><th scope=col>&lt;dbl&gt;</th></tr>\n",
       "</thead>\n",
       "<tbody>\n",
       "\t<tr><th scope=row>1</th><td>2022-07-10</td><td>2022-07-10</td><td>Run</td><td>429</td><td>3.09815</td><td>2301</td><td>12.3732</td><td>0.993196</td><td>4.84920</td><td>60.4110</td><td>149</td><td>5125</td><td>b''</td><td>Map My Fitness MapMyRun iPhone</td><td>http://www.mapmyfitness.com/workout/6703432939</td><td>38.35000</td></tr>\n",
       "\t<tr><th scope=row>2</th><td>2022-07-09</td><td>2022-07-09</td><td>Run</td><td>430</td><td>3.10009</td><td>2005</td><td>10.7738</td><td>1.166080</td><td>5.56904</td><td>51.4543</td><td>157</td><td>5261</td><td>b''</td><td>Map My Fitness MapMyRun iPhone</td><td>http://www.mapmyfitness.com/workout/6701305771</td><td>33.41667</td></tr>\n",
       "</tbody>\n",
       "</table>\n"
      ],
      "text/latex": [
       "A data.frame: 2 × 16\n",
       "\\begin{tabular}{r|llllllllllllllll}\n",
       "  & Date.Sub & Date & Activity & Cal.Burned & Distance & Duration & Avg.Pace & Max.Pace & Avg.Spd & Max.Spd & Avg.HR & Steps & Notes & Source & Link & duration\\\\\n",
       "  & <date> & <date> & <chr> & <int> & <dbl> & <int> & <dbl> & <dbl> & <dbl> & <dbl> & <int> & <int> & <chr> & <chr> & <chr> & <dbl>\\\\\n",
       "\\hline\n",
       "\t1 & 2022-07-10 & 2022-07-10 & Run & 429 & 3.09815 & 2301 & 12.3732 & 0.993196 & 4.84920 & 60.4110 & 149 & 5125 & b'' & Map My Fitness MapMyRun iPhone & http://www.mapmyfitness.com/workout/6703432939 & 38.35000\\\\\n",
       "\t2 & 2022-07-09 & 2022-07-09 & Run & 430 & 3.10009 & 2005 & 10.7738 & 1.166080 & 5.56904 & 51.4543 & 157 & 5261 & b'' & Map My Fitness MapMyRun iPhone & http://www.mapmyfitness.com/workout/6701305771 & 33.41667\\\\\n",
       "\\end{tabular}\n"
      ],
      "text/markdown": [
       "\n",
       "A data.frame: 2 × 16\n",
       "\n",
       "| <!--/--> | Date.Sub &lt;date&gt; | Date &lt;date&gt; | Activity &lt;chr&gt; | Cal.Burned &lt;int&gt; | Distance &lt;dbl&gt; | Duration &lt;int&gt; | Avg.Pace &lt;dbl&gt; | Max.Pace &lt;dbl&gt; | Avg.Spd &lt;dbl&gt; | Max.Spd &lt;dbl&gt; | Avg.HR &lt;int&gt; | Steps &lt;int&gt; | Notes &lt;chr&gt; | Source &lt;chr&gt; | Link &lt;chr&gt; | duration &lt;dbl&gt; |\n",
       "|---|---|---|---|---|---|---|---|---|---|---|---|---|---|---|---|---|\n",
       "| 1 | 2022-07-10 | 2022-07-10 | Run | 429 | 3.09815 | 2301 | 12.3732 | 0.993196 | 4.84920 | 60.4110 | 149 | 5125 | b'' | Map My Fitness MapMyRun iPhone | http://www.mapmyfitness.com/workout/6703432939 | 38.35000 |\n",
       "| 2 | 2022-07-09 | 2022-07-09 | Run | 430 | 3.10009 | 2005 | 10.7738 | 1.166080 | 5.56904 | 51.4543 | 157 | 5261 | b'' | Map My Fitness MapMyRun iPhone | http://www.mapmyfitness.com/workout/6701305771 | 33.41667 |\n",
       "\n"
      ],
      "text/plain": [
       "  Date.Sub   Date       Activity Cal.Burned Distance Duration Avg.Pace Max.Pace\n",
       "1 2022-07-10 2022-07-10 Run      429        3.09815  2301     12.3732  0.993196\n",
       "2 2022-07-09 2022-07-09 Run      430        3.10009  2005     10.7738  1.166080\n",
       "  Avg.Spd Max.Spd Avg.HR Steps Notes Source                        \n",
       "1 4.84920 60.4110 149    5125  b''   Map My Fitness MapMyRun iPhone\n",
       "2 5.56904 51.4543 157    5261  b''   Map My Fitness MapMyRun iPhone\n",
       "  Link                                           duration\n",
       "1 http://www.mapmyfitness.com/workout/6703432939 38.35000\n",
       "2 http://www.mapmyfitness.com/workout/6701305771 33.41667"
      ]
     },
     "metadata": {},
     "output_type": "display_data"
    }
   ],
   "source": [
    "names(run_data)[names(run_data) == \"Workout.Date\"] <- \"Date\"\n",
    "names(run_data)[names(run_data) == \"Date.Submitted\"] <- \"Date.Sub\"\n",
    "names(run_data)[names(run_data) == \"Workout.Time..seconds.\"] <- \"Duration\"\n",
    "names(run_data)[names(run_data) == \"Distance..mi.\"] <- \"Distance\"\n",
    "names(run_data)[names(run_data) == \"minutes\"] <- \"minutes\"\n",
    "names(run_data)[names(run_data) == \"Activity.Type\"] <- \"Activity\"\n",
    "names(run_data)[names(run_data) == \"Avg.Pace..min.mi.\"] <- \"Avg.Pace\"\n",
    "names(run_data)[names(run_data) == \"Max.Pace..min.mi.\"] <- \"Max.Pace\"\n",
    "names(run_data)[names(run_data) == \"Avg.Speed..mi.h.\"] <- \"Avg.Spd\"\n",
    "names(run_data)[names(run_data) == \"Avg.Heart.Rate\"] <- \"Avg.HR\"\n",
    "names(run_data)[names(run_data) == \"Max.Speed..mi.h.\"] <- \"Max.Spd\"\n",
    "names(run_data)[names(run_data) == \"Calories.Burned..kCal.\"] <- \"Cal.Burned\"\n",
    "head(run_data, 2)"
   ]
  },
  {
   "cell_type": "code",
   "execution_count": 696,
   "metadata": {
    "vscode": {
     "languageId": "r"
    }
   },
   "outputs": [],
   "source": [
    "df <- within(run_data, rm('Link', 'Notes', 'Source'))\n",
    "#df$minutes <- round(df$minutes, digits = 2)"
   ]
  },
  {
   "cell_type": "code",
   "execution_count": 697,
   "metadata": {
    "vscode": {
     "languageId": "r"
    }
   },
   "outputs": [
    {
     "data": {
      "text/html": [
       "696"
      ],
      "text/latex": [
       "696"
      ],
      "text/markdown": [
       "696"
      ],
      "text/plain": [
       "[1] 696"
      ]
     },
     "metadata": {},
     "output_type": "display_data"
    }
   ],
   "source": [
    "nrow(df)"
   ]
  },
  {
   "cell_type": "code",
   "execution_count": 698,
   "metadata": {
    "vscode": {
     "languageId": "r"
    }
   },
   "outputs": [
    {
     "data": {
      "text/html": [
       "<table class=\"dataframe\">\n",
       "<caption>A data.frame: 2 × 13</caption>\n",
       "<thead>\n",
       "\t<tr><th></th><th scope=col>Date.Sub</th><th scope=col>Date</th><th scope=col>Activity</th><th scope=col>Cal.Burned</th><th scope=col>Distance</th><th scope=col>Duration</th><th scope=col>Avg.Pace</th><th scope=col>Max.Pace</th><th scope=col>Avg.Spd</th><th scope=col>Max.Spd</th><th scope=col>Avg.HR</th><th scope=col>Steps</th><th scope=col>duration</th></tr>\n",
       "\t<tr><th></th><th scope=col>&lt;date&gt;</th><th scope=col>&lt;date&gt;</th><th scope=col>&lt;chr&gt;</th><th scope=col>&lt;int&gt;</th><th scope=col>&lt;dbl&gt;</th><th scope=col>&lt;int&gt;</th><th scope=col>&lt;dbl&gt;</th><th scope=col>&lt;dbl&gt;</th><th scope=col>&lt;dbl&gt;</th><th scope=col>&lt;dbl&gt;</th><th scope=col>&lt;int&gt;</th><th scope=col>&lt;int&gt;</th><th scope=col>&lt;dbl&gt;</th></tr>\n",
       "</thead>\n",
       "<tbody>\n",
       "\t<tr><th scope=row>1</th><td>2022-07-10</td><td>2022-07-10</td><td>Run</td><td>429</td><td>3.09815</td><td>2301</td><td>12.3732</td><td>0.993196</td><td>4.84920</td><td>60.4110</td><td>149</td><td>5125</td><td>38.35000</td></tr>\n",
       "\t<tr><th scope=row>2</th><td>2022-07-09</td><td>2022-07-09</td><td>Run</td><td>430</td><td>3.10009</td><td>2005</td><td>10.7738</td><td>1.166080</td><td>5.56904</td><td>51.4543</td><td>157</td><td>5261</td><td>33.41667</td></tr>\n",
       "</tbody>\n",
       "</table>\n"
      ],
      "text/latex": [
       "A data.frame: 2 × 13\n",
       "\\begin{tabular}{r|lllllllllllll}\n",
       "  & Date.Sub & Date & Activity & Cal.Burned & Distance & Duration & Avg.Pace & Max.Pace & Avg.Spd & Max.Spd & Avg.HR & Steps & duration\\\\\n",
       "  & <date> & <date> & <chr> & <int> & <dbl> & <int> & <dbl> & <dbl> & <dbl> & <dbl> & <int> & <int> & <dbl>\\\\\n",
       "\\hline\n",
       "\t1 & 2022-07-10 & 2022-07-10 & Run & 429 & 3.09815 & 2301 & 12.3732 & 0.993196 & 4.84920 & 60.4110 & 149 & 5125 & 38.35000\\\\\n",
       "\t2 & 2022-07-09 & 2022-07-09 & Run & 430 & 3.10009 & 2005 & 10.7738 & 1.166080 & 5.56904 & 51.4543 & 157 & 5261 & 33.41667\\\\\n",
       "\\end{tabular}\n"
      ],
      "text/markdown": [
       "\n",
       "A data.frame: 2 × 13\n",
       "\n",
       "| <!--/--> | Date.Sub &lt;date&gt; | Date &lt;date&gt; | Activity &lt;chr&gt; | Cal.Burned &lt;int&gt; | Distance &lt;dbl&gt; | Duration &lt;int&gt; | Avg.Pace &lt;dbl&gt; | Max.Pace &lt;dbl&gt; | Avg.Spd &lt;dbl&gt; | Max.Spd &lt;dbl&gt; | Avg.HR &lt;int&gt; | Steps &lt;int&gt; | duration &lt;dbl&gt; |\n",
       "|---|---|---|---|---|---|---|---|---|---|---|---|---|---|\n",
       "| 1 | 2022-07-10 | 2022-07-10 | Run | 429 | 3.09815 | 2301 | 12.3732 | 0.993196 | 4.84920 | 60.4110 | 149 | 5125 | 38.35000 |\n",
       "| 2 | 2022-07-09 | 2022-07-09 | Run | 430 | 3.10009 | 2005 | 10.7738 | 1.166080 | 5.56904 | 51.4543 | 157 | 5261 | 33.41667 |\n",
       "\n"
      ],
      "text/plain": [
       "  Date.Sub   Date       Activity Cal.Burned Distance Duration Avg.Pace Max.Pace\n",
       "1 2022-07-10 2022-07-10 Run      429        3.09815  2301     12.3732  0.993196\n",
       "2 2022-07-09 2022-07-09 Run      430        3.10009  2005     10.7738  1.166080\n",
       "  Avg.Spd Max.Spd Avg.HR Steps duration\n",
       "1 4.84920 60.4110 149    5125  38.35000\n",
       "2 5.56904 51.4543 157    5261  33.41667"
      ]
     },
     "metadata": {},
     "output_type": "display_data"
    }
   ],
   "source": [
    "head(df, 2)"
   ]
  },
  {
   "cell_type": "code",
   "execution_count": 699,
   "metadata": {
    "vscode": {
     "languageId": "r"
    }
   },
   "outputs": [],
   "source": [
    "#df$minutes <- as.numeric(as.character(df$minutes))\n",
    "df <- df %>% mutate_if(is.numeric, round, digits = 2)"
   ]
  },
  {
   "cell_type": "code",
   "execution_count": 700,
   "metadata": {
    "vscode": {
     "languageId": "r"
    }
   },
   "outputs": [
    {
     "data": {
      "text/html": [
       "<table class=\"dataframe\">\n",
       "<caption>A data.frame: 696 × 13</caption>\n",
       "<thead>\n",
       "\t<tr><th scope=col>Date.Sub</th><th scope=col>Date</th><th scope=col>Activity</th><th scope=col>Cal.Burned</th><th scope=col>Distance</th><th scope=col>Duration</th><th scope=col>Avg.Pace</th><th scope=col>Max.Pace</th><th scope=col>Avg.Spd</th><th scope=col>Max.Spd</th><th scope=col>Avg.HR</th><th scope=col>Steps</th><th scope=col>duration</th></tr>\n",
       "\t<tr><th scope=col>&lt;date&gt;</th><th scope=col>&lt;date&gt;</th><th scope=col>&lt;chr&gt;</th><th scope=col>&lt;dbl&gt;</th><th scope=col>&lt;dbl&gt;</th><th scope=col>&lt;dbl&gt;</th><th scope=col>&lt;dbl&gt;</th><th scope=col>&lt;dbl&gt;</th><th scope=col>&lt;dbl&gt;</th><th scope=col>&lt;dbl&gt;</th><th scope=col>&lt;dbl&gt;</th><th scope=col>&lt;dbl&gt;</th><th scope=col>&lt;dbl&gt;</th></tr>\n",
       "</thead>\n",
       "<tbody>\n",
       "\t<tr><td>2022-07-10</td><td>2022-07-10</td><td>Run </td><td>429</td><td>3.10</td><td>2301</td><td>12.37</td><td>0.99</td><td>4.85</td><td> 60.41</td><td>149</td><td> 5125</td><td>38.35</td></tr>\n",
       "\t<tr><td>2022-07-09</td><td>2022-07-09</td><td>Run </td><td>430</td><td>3.10</td><td>2005</td><td>10.77</td><td>1.17</td><td>5.57</td><td> 51.45</td><td>157</td><td> 5261</td><td>33.42</td></tr>\n",
       "\t<tr><td>2022-07-08</td><td>2022-07-08</td><td>Run </td><td>454</td><td>3.11</td><td>1988</td><td>10.65</td><td>3.88</td><td>5.63</td><td> 15.47</td><td>165</td><td> 5202</td><td>33.13</td></tr>\n",
       "\t<tr><td>2022-06-24</td><td>2022-06-24</td><td>Run </td><td>400</td><td>3.10</td><td>1554</td><td> 8.35</td><td>0.00</td><td>7.18</td><td>  0.00</td><td> NA</td><td> 4192</td><td>25.90</td></tr>\n",
       "\t<tr><td>2022-06-23</td><td>2022-06-23</td><td>Run </td><td>410</td><td>3.10</td><td>1748</td><td> 9.40</td><td>0.00</td><td>6.38</td><td>  0.00</td><td> NA</td><td> 4656</td><td>29.13</td></tr>\n",
       "\t<tr><td>2022-06-21</td><td>2022-06-22</td><td>Run </td><td>403</td><td>3.10</td><td>1665</td><td> 8.95</td><td>0.00</td><td>6.70</td><td>  0.00</td><td> NA</td><td> 4458</td><td>27.75</td></tr>\n",
       "\t<tr><td>2022-06-19</td><td>2022-06-19</td><td>Run </td><td>378</td><td>2.66</td><td>1800</td><td>11.28</td><td>0.00</td><td>5.32</td><td>  0.00</td><td> NA</td><td> 4713</td><td>30.00</td></tr>\n",
       "\t<tr><td>2022-06-18</td><td>2022-06-18</td><td>Run </td><td>370</td><td>2.58</td><td>1698</td><td>10.97</td><td>1.11</td><td>5.47</td><td> 53.94</td><td>159</td><td> 4431</td><td>28.30</td></tr>\n",
       "\t<tr><td>2022-06-16</td><td>2022-06-17</td><td>Run </td><td>315</td><td>2.33</td><td>1391</td><td> 9.95</td><td>0.00</td><td>6.03</td><td>  0.00</td><td> NA</td><td> 3684</td><td>23.18</td></tr>\n",
       "\t<tr><td>2022-06-15</td><td>2022-06-15</td><td>Run </td><td>405</td><td>3.10</td><td>1691</td><td> 9.09</td><td>0.00</td><td>6.60</td><td>  0.00</td><td> NA</td><td> 4520</td><td>28.18</td></tr>\n",
       "\t<tr><td>2022-06-12</td><td>2022-06-12</td><td>Run </td><td>428</td><td>3.10</td><td>1955</td><td>10.52</td><td>3.01</td><td>5.71</td><td> 19.95</td><td>  0</td><td> 5052</td><td>32.58</td></tr>\n",
       "\t<tr><td>2022-06-10</td><td>2022-06-10</td><td>Run </td><td>881</td><td>6.20</td><td>4182</td><td>11.23</td><td>0.60</td><td>5.34</td><td>100.05</td><td>153</td><td>10479</td><td>69.70</td></tr>\n",
       "\t<tr><td>2022-06-09</td><td>2022-06-08</td><td>Run </td><td>407</td><td>3.11</td><td>1702</td><td> 9.12</td><td>0.00</td><td>6.58</td><td>  0.00</td><td>153</td><td> 4548</td><td>28.37</td></tr>\n",
       "\t<tr><td>2022-06-06</td><td>2022-06-06</td><td>Run </td><td>590</td><td>4.50</td><td>2924</td><td>10.82</td><td>1.15</td><td>5.54</td><td> 52.33</td><td>145</td><td> 7739</td><td>48.73</td></tr>\n",
       "\t<tr><td>2022-06-05</td><td>2022-06-05</td><td>Walk</td><td>253</td><td>1.88</td><td>2402</td><td>21.28</td><td>1.79</td><td>2.82</td><td> 33.49</td><td>109</td><td> 3994</td><td>40.03</td></tr>\n",
       "\t<tr><td>2022-06-05</td><td>2022-06-05</td><td>Run </td><td>302</td><td>2.44</td><td>1487</td><td>10.17</td><td>0.45</td><td>5.90</td><td>132.28</td><td>148</td><td> 3889</td><td>24.78</td></tr>\n",
       "\t<tr><td>2022-06-04</td><td>2022-06-04</td><td>Run </td><td>856</td><td>6.24</td><td>3946</td><td>10.53</td><td>1.07</td><td>5.70</td><td> 56.16</td><td>156</td><td>10427</td><td>65.77</td></tr>\n",
       "\t<tr><td>2022-06-03</td><td>2022-06-03</td><td>Run </td><td>397</td><td>3.11</td><td>1864</td><td> 9.99</td><td>0.95</td><td>6.01</td><td> 63.08</td><td>152</td><td> 4863</td><td>31.07</td></tr>\n",
       "\t<tr><td>2022-05-31</td><td>2022-06-01</td><td>Run </td><td>416</td><td>3.10</td><td>1817</td><td> 9.77</td><td>0.00</td><td>6.14</td><td>  0.00</td><td> NA</td><td> 4822</td><td>30.28</td></tr>\n",
       "\t<tr><td>2022-05-31</td><td>2022-05-31</td><td>Run </td><td>546</td><td>4.08</td><td>2377</td><td> 9.71</td><td>1.28</td><td>6.18</td><td> 46.77</td><td>145</td><td> 4048</td><td>39.62</td></tr>\n",
       "\t<tr><td>2022-05-30</td><td>2022-05-30</td><td>Run </td><td>418</td><td>3.10</td><td>1873</td><td>10.06</td><td>0.45</td><td>5.96</td><td>132.40</td><td>159</td><td> 4873</td><td>31.22</td></tr>\n",
       "\t<tr><td>2022-05-28</td><td>2022-05-28</td><td>Run </td><td>426</td><td>3.11</td><td>1852</td><td> 9.93</td><td>2.82</td><td>6.04</td><td> 21.25</td><td>162</td><td> 4867</td><td>30.87</td></tr>\n",
       "\t<tr><td>2022-05-27</td><td>2022-05-27</td><td>Run </td><td>405</td><td>3.10</td><td>1691</td><td> 9.09</td><td>0.00</td><td>6.60</td><td>  0.00</td><td> NA</td><td> 4520</td><td>28.18</td></tr>\n",
       "\t<tr><td>2022-05-25</td><td>2022-05-25</td><td>Run </td><td>801</td><td>6.21</td><td>3735</td><td>10.03</td><td>0.99</td><td>5.98</td><td> 60.53</td><td>150</td><td> 9802</td><td>62.25</td></tr>\n",
       "\t<tr><td>2022-05-24</td><td>2022-05-24</td><td>Run </td><td>408</td><td>3.10</td><td>1731</td><td> 9.31</td><td>0.00</td><td>6.45</td><td>  0.00</td><td> NA</td><td> 4616</td><td>28.85</td></tr>\n",
       "\t<tr><td>2022-05-22</td><td>2022-05-22</td><td>Run </td><td>420</td><td>3.10</td><td>1865</td><td>10.03</td><td>0.00</td><td>5.98</td><td>  0.00</td><td> NA</td><td> 4936</td><td>31.08</td></tr>\n",
       "\t<tr><td>2022-05-20</td><td>2022-05-20</td><td>Run </td><td>417</td><td>3.10</td><td>1827</td><td> 9.82</td><td>0.00</td><td>6.11</td><td>  0.00</td><td> NA</td><td> 4845</td><td>30.45</td></tr>\n",
       "\t<tr><td>2022-05-20</td><td>2022-05-20</td><td>Run </td><td>394</td><td>3.10</td><td>1839</td><td> 9.88</td><td>1.32</td><td>6.07</td><td> 45.51</td><td>149</td><td> 4858</td><td>30.65</td></tr>\n",
       "\t<tr><td>2022-05-17</td><td>2022-05-17</td><td>Run </td><td>840</td><td>6.20</td><td>3843</td><td>10.32</td><td>1.04</td><td>5.81</td><td> 57.83</td><td>151</td><td>10162</td><td>64.05</td></tr>\n",
       "\t<tr><td>2022-05-16</td><td>2022-05-16</td><td>Run </td><td>395</td><td>3.11</td><td>1777</td><td> 9.53</td><td>0.97</td><td>6.30</td><td> 61.95</td><td>145</td><td> 4650</td><td>29.62</td></tr>\n",
       "\t<tr><td>⋮</td><td>⋮</td><td>⋮</td><td>⋮</td><td>⋮</td><td>⋮</td><td>⋮</td><td>⋮</td><td>⋮</td><td>⋮</td><td>⋮</td><td>⋮</td><td>⋮</td></tr>\n",
       "\t<tr><td>2019-06-14</td><td>2019-06-14</td><td>Weight Workout  </td><td>215</td><td>0.00</td><td>1560</td><td> 0.00</td><td>  0.00</td><td>0.00</td><td> 0.00</td><td>  0</td><td>  NA</td><td>26.00</td></tr>\n",
       "\t<tr><td>2019-06-14</td><td>2019-06-14</td><td>Walk            </td><td>323</td><td>3.15</td><td>3080</td><td>16.30</td><td>  0.00</td><td>3.68</td><td> 0.00</td><td> NA</td><td>6202</td><td>51.33</td></tr>\n",
       "\t<tr><td>2019-06-12</td><td>2019-06-12</td><td>Run             </td><td>215</td><td>2.09</td><td>1962</td><td>15.65</td><td>  3.21</td><td>3.83</td><td>18.70</td><td>111</td><td>3819</td><td>32.70</td></tr>\n",
       "\t<tr><td>2019-06-11</td><td>2019-06-11</td><td>Walk            </td><td>106</td><td>1.04</td><td>1045</td><td>16.75</td><td> 13.55</td><td>3.58</td><td> 4.43</td><td> NA</td><td>1831</td><td>17.42</td></tr>\n",
       "\t<tr><td>2019-06-11</td><td>2019-06-11</td><td>Weight Workout  </td><td>211</td><td>0.00</td><td>1526</td><td> 0.00</td><td> 57.79</td><td>0.00</td><td> 1.04</td><td> NA</td><td>  NA</td><td>25.43</td></tr>\n",
       "\t<tr><td>2019-06-10</td><td>2019-06-10</td><td>Walk            </td><td>299</td><td>2.78</td><td>2458</td><td>14.74</td><td>  5.71</td><td>4.07</td><td>10.51</td><td>  0</td><td>4676</td><td>40.97</td></tr>\n",
       "\t<tr><td>2019-06-09</td><td>2019-06-09</td><td>Walk            </td><td>293</td><td>2.88</td><td>2986</td><td>17.28</td><td>  0.00</td><td>3.47</td><td> 0.00</td><td> 73</td><td>5876</td><td>49.77</td></tr>\n",
       "\t<tr><td>2019-06-08</td><td>2019-06-08</td><td>Run             </td><td>190</td><td>1.57</td><td>1307</td><td>13.84</td><td>  1.25</td><td>4.33</td><td>47.97</td><td>116</td><td>2729</td><td>21.78</td></tr>\n",
       "\t<tr><td>2019-06-06</td><td>2019-06-07</td><td>Weight Workout  </td><td> 96</td><td>0.00</td><td> 692</td><td> 0.00</td><td>  0.00</td><td>0.00</td><td> 0.00</td><td> NA</td><td>  NA</td><td>11.53</td></tr>\n",
       "\t<tr><td>2019-06-06</td><td>2019-06-06</td><td>Walk            </td><td>321</td><td>3.13</td><td>3064</td><td>16.32</td><td> 14.81</td><td>3.68</td><td> 4.05</td><td> NA</td><td>  55</td><td>51.07</td></tr>\n",
       "\t<tr><td>2019-06-06</td><td>2019-06-06</td><td>Walk            </td><td>  2</td><td>0.02</td><td>  10</td><td> 9.74</td><td> 13.60</td><td>6.16</td><td> 4.41</td><td>106</td><td>  11</td><td> 0.17</td></tr>\n",
       "\t<tr><td>2019-06-05</td><td>2019-06-05</td><td>Weight Workout  </td><td> 83</td><td>0.00</td><td> 600</td><td> 0.00</td><td>  0.00</td><td>0.00</td><td> 0.00</td><td> NA</td><td>  NA</td><td>10.00</td></tr>\n",
       "\t<tr><td>2019-06-05</td><td>2019-06-05</td><td>Walk            </td><td>  0</td><td>0.00</td><td>   3</td><td> 0.00</td><td>  0.00</td><td>0.00</td><td> 0.00</td><td>  0</td><td>  NA</td><td> 0.05</td></tr>\n",
       "\t<tr><td>2019-06-05</td><td>2019-06-05</td><td>Walk            </td><td>249</td><td>2.22</td><td>1921</td><td>14.43</td><td> 13.25</td><td>4.16</td><td> 4.53</td><td>110</td><td>3887</td><td>32.02</td></tr>\n",
       "\t<tr><td>2019-06-03</td><td>2019-06-03</td><td>Walk            </td><td>309</td><td>2.99</td><td>2764</td><td>15.41</td><td>  0.00</td><td>3.89</td><td> 0.00</td><td> NA</td><td>5745</td><td>46.07</td></tr>\n",
       "\t<tr><td>2019-06-02</td><td>2019-06-02</td><td>Walk            </td><td>316</td><td>3.10</td><td>3180</td><td>17.10</td><td>  0.00</td><td>3.51</td><td> 0.00</td><td> NA</td><td>6289</td><td>53.00</td></tr>\n",
       "\t<tr><td>2019-06-02</td><td>2019-06-02</td><td>Weight Workout  </td><td> 79</td><td>0.00</td><td> 600</td><td> 0.00</td><td>  0.00</td><td>0.00</td><td> 0.00</td><td> NA</td><td>  NA</td><td>10.00</td></tr>\n",
       "\t<tr><td>2019-06-02</td><td>2019-06-02</td><td>Weight Workout  </td><td> 79</td><td>0.00</td><td> 600</td><td> 0.00</td><td>  0.00</td><td>0.00</td><td> 0.00</td><td> NA</td><td>  NA</td><td>10.00</td></tr>\n",
       "\t<tr><td>2019-05-30</td><td>2019-05-30</td><td>Walk            </td><td>307</td><td>3.10</td><td>2866</td><td>15.41</td><td>182.40</td><td>3.89</td><td> 0.33</td><td> NA</td><td>6104</td><td>47.77</td></tr>\n",
       "\t<tr><td>2019-05-28</td><td>2019-05-28</td><td>Walk            </td><td>248</td><td>2.22</td><td>1886</td><td>14.16</td><td>  1.40</td><td>4.24</td><td>42.80</td><td>102</td><td>3708</td><td>31.43</td></tr>\n",
       "\t<tr><td>2019-05-27</td><td>2019-05-27</td><td>Walk            </td><td>322</td><td>2.22</td><td>3541</td><td>26.36</td><td>  4.21</td><td>2.28</td><td>14.25</td><td> 93</td><td>6149</td><td>59.02</td></tr>\n",
       "\t<tr><td>2019-05-27</td><td>2019-05-23</td><td>Walk            </td><td>266</td><td>2.62</td><td>1946</td><td>12.36</td><td>  4.68</td><td>4.85</td><td>12.83</td><td>136</td><td>4074</td><td>32.43</td></tr>\n",
       "\t<tr><td>2019-05-19</td><td>2019-05-19</td><td>Run             </td><td>419</td><td>3.11</td><td>2197</td><td>11.69</td><td>  2.06</td><td>5.13</td><td>29.17</td><td>139</td><td>5295</td><td>36.62</td></tr>\n",
       "\t<tr><td>2019-05-15</td><td>2019-05-15</td><td>Indoor Run / Jog</td><td>403</td><td>3.13</td><td>2344</td><td>12.48</td><td>  0.00</td><td>4.81</td><td> 0.00</td><td> NA</td><td>6926</td><td>39.07</td></tr>\n",
       "\t<tr><td>2019-05-13</td><td>2019-05-13</td><td>Run             </td><td>258</td><td>1.96</td><td>1214</td><td>10.32</td><td>  2.67</td><td>5.82</td><td>22.45</td><td>  0</td><td>3209</td><td>20.23</td></tr>\n",
       "\t<tr><td>2019-05-13</td><td>2019-05-13</td><td>Indoor Run / Jog</td><td>191</td><td>1.42</td><td> 927</td><td>10.88</td><td> 17.09</td><td>5.51</td><td> 3.51</td><td>158</td><td>  67</td><td>15.45</td></tr>\n",
       "\t<tr><td>NA</td><td>NA</td><td>Class Workout   </td><td>186</td><td>0.00</td><td>3600</td><td> 0.00</td><td>  0.00</td><td>0.00</td><td> 0.00</td><td> NA</td><td>  NA</td><td>60.00</td></tr>\n",
       "\t<tr><td>NA</td><td>NA</td><td>Class Workout   </td><td>183</td><td>0.00</td><td>3600</td><td> 0.00</td><td>  0.00</td><td>0.00</td><td> 0.00</td><td> NA</td><td>  NA</td><td>60.00</td></tr>\n",
       "\t<tr><td>NA</td><td>NA</td><td>Class Workout   </td><td>186</td><td>0.00</td><td>3600</td><td> 0.00</td><td>  0.00</td><td>0.00</td><td> 0.00</td><td> NA</td><td>  NA</td><td>60.00</td></tr>\n",
       "\t<tr><td>NA</td><td>NA</td><td>Class Workout   </td><td>189</td><td>0.00</td><td>3600</td><td> 0.00</td><td>  0.00</td><td>0.00</td><td> 0.00</td><td> NA</td><td>  NA</td><td>60.00</td></tr>\n",
       "</tbody>\n",
       "</table>\n"
      ],
      "text/latex": [
       "A data.frame: 696 × 13\n",
       "\\begin{tabular}{lllllllllllll}\n",
       " Date.Sub & Date & Activity & Cal.Burned & Distance & Duration & Avg.Pace & Max.Pace & Avg.Spd & Max.Spd & Avg.HR & Steps & duration\\\\\n",
       " <date> & <date> & <chr> & <dbl> & <dbl> & <dbl> & <dbl> & <dbl> & <dbl> & <dbl> & <dbl> & <dbl> & <dbl>\\\\\n",
       "\\hline\n",
       "\t 2022-07-10 & 2022-07-10 & Run  & 429 & 3.10 & 2301 & 12.37 & 0.99 & 4.85 &  60.41 & 149 &  5125 & 38.35\\\\\n",
       "\t 2022-07-09 & 2022-07-09 & Run  & 430 & 3.10 & 2005 & 10.77 & 1.17 & 5.57 &  51.45 & 157 &  5261 & 33.42\\\\\n",
       "\t 2022-07-08 & 2022-07-08 & Run  & 454 & 3.11 & 1988 & 10.65 & 3.88 & 5.63 &  15.47 & 165 &  5202 & 33.13\\\\\n",
       "\t 2022-06-24 & 2022-06-24 & Run  & 400 & 3.10 & 1554 &  8.35 & 0.00 & 7.18 &   0.00 &  NA &  4192 & 25.90\\\\\n",
       "\t 2022-06-23 & 2022-06-23 & Run  & 410 & 3.10 & 1748 &  9.40 & 0.00 & 6.38 &   0.00 &  NA &  4656 & 29.13\\\\\n",
       "\t 2022-06-21 & 2022-06-22 & Run  & 403 & 3.10 & 1665 &  8.95 & 0.00 & 6.70 &   0.00 &  NA &  4458 & 27.75\\\\\n",
       "\t 2022-06-19 & 2022-06-19 & Run  & 378 & 2.66 & 1800 & 11.28 & 0.00 & 5.32 &   0.00 &  NA &  4713 & 30.00\\\\\n",
       "\t 2022-06-18 & 2022-06-18 & Run  & 370 & 2.58 & 1698 & 10.97 & 1.11 & 5.47 &  53.94 & 159 &  4431 & 28.30\\\\\n",
       "\t 2022-06-16 & 2022-06-17 & Run  & 315 & 2.33 & 1391 &  9.95 & 0.00 & 6.03 &   0.00 &  NA &  3684 & 23.18\\\\\n",
       "\t 2022-06-15 & 2022-06-15 & Run  & 405 & 3.10 & 1691 &  9.09 & 0.00 & 6.60 &   0.00 &  NA &  4520 & 28.18\\\\\n",
       "\t 2022-06-12 & 2022-06-12 & Run  & 428 & 3.10 & 1955 & 10.52 & 3.01 & 5.71 &  19.95 &   0 &  5052 & 32.58\\\\\n",
       "\t 2022-06-10 & 2022-06-10 & Run  & 881 & 6.20 & 4182 & 11.23 & 0.60 & 5.34 & 100.05 & 153 & 10479 & 69.70\\\\\n",
       "\t 2022-06-09 & 2022-06-08 & Run  & 407 & 3.11 & 1702 &  9.12 & 0.00 & 6.58 &   0.00 & 153 &  4548 & 28.37\\\\\n",
       "\t 2022-06-06 & 2022-06-06 & Run  & 590 & 4.50 & 2924 & 10.82 & 1.15 & 5.54 &  52.33 & 145 &  7739 & 48.73\\\\\n",
       "\t 2022-06-05 & 2022-06-05 & Walk & 253 & 1.88 & 2402 & 21.28 & 1.79 & 2.82 &  33.49 & 109 &  3994 & 40.03\\\\\n",
       "\t 2022-06-05 & 2022-06-05 & Run  & 302 & 2.44 & 1487 & 10.17 & 0.45 & 5.90 & 132.28 & 148 &  3889 & 24.78\\\\\n",
       "\t 2022-06-04 & 2022-06-04 & Run  & 856 & 6.24 & 3946 & 10.53 & 1.07 & 5.70 &  56.16 & 156 & 10427 & 65.77\\\\\n",
       "\t 2022-06-03 & 2022-06-03 & Run  & 397 & 3.11 & 1864 &  9.99 & 0.95 & 6.01 &  63.08 & 152 &  4863 & 31.07\\\\\n",
       "\t 2022-05-31 & 2022-06-01 & Run  & 416 & 3.10 & 1817 &  9.77 & 0.00 & 6.14 &   0.00 &  NA &  4822 & 30.28\\\\\n",
       "\t 2022-05-31 & 2022-05-31 & Run  & 546 & 4.08 & 2377 &  9.71 & 1.28 & 6.18 &  46.77 & 145 &  4048 & 39.62\\\\\n",
       "\t 2022-05-30 & 2022-05-30 & Run  & 418 & 3.10 & 1873 & 10.06 & 0.45 & 5.96 & 132.40 & 159 &  4873 & 31.22\\\\\n",
       "\t 2022-05-28 & 2022-05-28 & Run  & 426 & 3.11 & 1852 &  9.93 & 2.82 & 6.04 &  21.25 & 162 &  4867 & 30.87\\\\\n",
       "\t 2022-05-27 & 2022-05-27 & Run  & 405 & 3.10 & 1691 &  9.09 & 0.00 & 6.60 &   0.00 &  NA &  4520 & 28.18\\\\\n",
       "\t 2022-05-25 & 2022-05-25 & Run  & 801 & 6.21 & 3735 & 10.03 & 0.99 & 5.98 &  60.53 & 150 &  9802 & 62.25\\\\\n",
       "\t 2022-05-24 & 2022-05-24 & Run  & 408 & 3.10 & 1731 &  9.31 & 0.00 & 6.45 &   0.00 &  NA &  4616 & 28.85\\\\\n",
       "\t 2022-05-22 & 2022-05-22 & Run  & 420 & 3.10 & 1865 & 10.03 & 0.00 & 5.98 &   0.00 &  NA &  4936 & 31.08\\\\\n",
       "\t 2022-05-20 & 2022-05-20 & Run  & 417 & 3.10 & 1827 &  9.82 & 0.00 & 6.11 &   0.00 &  NA &  4845 & 30.45\\\\\n",
       "\t 2022-05-20 & 2022-05-20 & Run  & 394 & 3.10 & 1839 &  9.88 & 1.32 & 6.07 &  45.51 & 149 &  4858 & 30.65\\\\\n",
       "\t 2022-05-17 & 2022-05-17 & Run  & 840 & 6.20 & 3843 & 10.32 & 1.04 & 5.81 &  57.83 & 151 & 10162 & 64.05\\\\\n",
       "\t 2022-05-16 & 2022-05-16 & Run  & 395 & 3.11 & 1777 &  9.53 & 0.97 & 6.30 &  61.95 & 145 &  4650 & 29.62\\\\\n",
       "\t ⋮ & ⋮ & ⋮ & ⋮ & ⋮ & ⋮ & ⋮ & ⋮ & ⋮ & ⋮ & ⋮ & ⋮ & ⋮\\\\\n",
       "\t 2019-06-14 & 2019-06-14 & Weight Workout   & 215 & 0.00 & 1560 &  0.00 &   0.00 & 0.00 &  0.00 &   0 &   NA & 26.00\\\\\n",
       "\t 2019-06-14 & 2019-06-14 & Walk             & 323 & 3.15 & 3080 & 16.30 &   0.00 & 3.68 &  0.00 &  NA & 6202 & 51.33\\\\\n",
       "\t 2019-06-12 & 2019-06-12 & Run              & 215 & 2.09 & 1962 & 15.65 &   3.21 & 3.83 & 18.70 & 111 & 3819 & 32.70\\\\\n",
       "\t 2019-06-11 & 2019-06-11 & Walk             & 106 & 1.04 & 1045 & 16.75 &  13.55 & 3.58 &  4.43 &  NA & 1831 & 17.42\\\\\n",
       "\t 2019-06-11 & 2019-06-11 & Weight Workout   & 211 & 0.00 & 1526 &  0.00 &  57.79 & 0.00 &  1.04 &  NA &   NA & 25.43\\\\\n",
       "\t 2019-06-10 & 2019-06-10 & Walk             & 299 & 2.78 & 2458 & 14.74 &   5.71 & 4.07 & 10.51 &   0 & 4676 & 40.97\\\\\n",
       "\t 2019-06-09 & 2019-06-09 & Walk             & 293 & 2.88 & 2986 & 17.28 &   0.00 & 3.47 &  0.00 &  73 & 5876 & 49.77\\\\\n",
       "\t 2019-06-08 & 2019-06-08 & Run              & 190 & 1.57 & 1307 & 13.84 &   1.25 & 4.33 & 47.97 & 116 & 2729 & 21.78\\\\\n",
       "\t 2019-06-06 & 2019-06-07 & Weight Workout   &  96 & 0.00 &  692 &  0.00 &   0.00 & 0.00 &  0.00 &  NA &   NA & 11.53\\\\\n",
       "\t 2019-06-06 & 2019-06-06 & Walk             & 321 & 3.13 & 3064 & 16.32 &  14.81 & 3.68 &  4.05 &  NA &   55 & 51.07\\\\\n",
       "\t 2019-06-06 & 2019-06-06 & Walk             &   2 & 0.02 &   10 &  9.74 &  13.60 & 6.16 &  4.41 & 106 &   11 &  0.17\\\\\n",
       "\t 2019-06-05 & 2019-06-05 & Weight Workout   &  83 & 0.00 &  600 &  0.00 &   0.00 & 0.00 &  0.00 &  NA &   NA & 10.00\\\\\n",
       "\t 2019-06-05 & 2019-06-05 & Walk             &   0 & 0.00 &    3 &  0.00 &   0.00 & 0.00 &  0.00 &   0 &   NA &  0.05\\\\\n",
       "\t 2019-06-05 & 2019-06-05 & Walk             & 249 & 2.22 & 1921 & 14.43 &  13.25 & 4.16 &  4.53 & 110 & 3887 & 32.02\\\\\n",
       "\t 2019-06-03 & 2019-06-03 & Walk             & 309 & 2.99 & 2764 & 15.41 &   0.00 & 3.89 &  0.00 &  NA & 5745 & 46.07\\\\\n",
       "\t 2019-06-02 & 2019-06-02 & Walk             & 316 & 3.10 & 3180 & 17.10 &   0.00 & 3.51 &  0.00 &  NA & 6289 & 53.00\\\\\n",
       "\t 2019-06-02 & 2019-06-02 & Weight Workout   &  79 & 0.00 &  600 &  0.00 &   0.00 & 0.00 &  0.00 &  NA &   NA & 10.00\\\\\n",
       "\t 2019-06-02 & 2019-06-02 & Weight Workout   &  79 & 0.00 &  600 &  0.00 &   0.00 & 0.00 &  0.00 &  NA &   NA & 10.00\\\\\n",
       "\t 2019-05-30 & 2019-05-30 & Walk             & 307 & 3.10 & 2866 & 15.41 & 182.40 & 3.89 &  0.33 &  NA & 6104 & 47.77\\\\\n",
       "\t 2019-05-28 & 2019-05-28 & Walk             & 248 & 2.22 & 1886 & 14.16 &   1.40 & 4.24 & 42.80 & 102 & 3708 & 31.43\\\\\n",
       "\t 2019-05-27 & 2019-05-27 & Walk             & 322 & 2.22 & 3541 & 26.36 &   4.21 & 2.28 & 14.25 &  93 & 6149 & 59.02\\\\\n",
       "\t 2019-05-27 & 2019-05-23 & Walk             & 266 & 2.62 & 1946 & 12.36 &   4.68 & 4.85 & 12.83 & 136 & 4074 & 32.43\\\\\n",
       "\t 2019-05-19 & 2019-05-19 & Run              & 419 & 3.11 & 2197 & 11.69 &   2.06 & 5.13 & 29.17 & 139 & 5295 & 36.62\\\\\n",
       "\t 2019-05-15 & 2019-05-15 & Indoor Run / Jog & 403 & 3.13 & 2344 & 12.48 &   0.00 & 4.81 &  0.00 &  NA & 6926 & 39.07\\\\\n",
       "\t 2019-05-13 & 2019-05-13 & Run              & 258 & 1.96 & 1214 & 10.32 &   2.67 & 5.82 & 22.45 &   0 & 3209 & 20.23\\\\\n",
       "\t 2019-05-13 & 2019-05-13 & Indoor Run / Jog & 191 & 1.42 &  927 & 10.88 &  17.09 & 5.51 &  3.51 & 158 &   67 & 15.45\\\\\n",
       "\t NA & NA & Class Workout    & 186 & 0.00 & 3600 &  0.00 &   0.00 & 0.00 &  0.00 &  NA &   NA & 60.00\\\\\n",
       "\t NA & NA & Class Workout    & 183 & 0.00 & 3600 &  0.00 &   0.00 & 0.00 &  0.00 &  NA &   NA & 60.00\\\\\n",
       "\t NA & NA & Class Workout    & 186 & 0.00 & 3600 &  0.00 &   0.00 & 0.00 &  0.00 &  NA &   NA & 60.00\\\\\n",
       "\t NA & NA & Class Workout    & 189 & 0.00 & 3600 &  0.00 &   0.00 & 0.00 &  0.00 &  NA &   NA & 60.00\\\\\n",
       "\\end{tabular}\n"
      ],
      "text/markdown": [
       "\n",
       "A data.frame: 696 × 13\n",
       "\n",
       "| Date.Sub &lt;date&gt; | Date &lt;date&gt; | Activity &lt;chr&gt; | Cal.Burned &lt;dbl&gt; | Distance &lt;dbl&gt; | Duration &lt;dbl&gt; | Avg.Pace &lt;dbl&gt; | Max.Pace &lt;dbl&gt; | Avg.Spd &lt;dbl&gt; | Max.Spd &lt;dbl&gt; | Avg.HR &lt;dbl&gt; | Steps &lt;dbl&gt; | duration &lt;dbl&gt; |\n",
       "|---|---|---|---|---|---|---|---|---|---|---|---|---|\n",
       "| 2022-07-10 | 2022-07-10 | Run  | 429 | 3.10 | 2301 | 12.37 | 0.99 | 4.85 |  60.41 | 149 |  5125 | 38.35 |\n",
       "| 2022-07-09 | 2022-07-09 | Run  | 430 | 3.10 | 2005 | 10.77 | 1.17 | 5.57 |  51.45 | 157 |  5261 | 33.42 |\n",
       "| 2022-07-08 | 2022-07-08 | Run  | 454 | 3.11 | 1988 | 10.65 | 3.88 | 5.63 |  15.47 | 165 |  5202 | 33.13 |\n",
       "| 2022-06-24 | 2022-06-24 | Run  | 400 | 3.10 | 1554 |  8.35 | 0.00 | 7.18 |   0.00 |  NA |  4192 | 25.90 |\n",
       "| 2022-06-23 | 2022-06-23 | Run  | 410 | 3.10 | 1748 |  9.40 | 0.00 | 6.38 |   0.00 |  NA |  4656 | 29.13 |\n",
       "| 2022-06-21 | 2022-06-22 | Run  | 403 | 3.10 | 1665 |  8.95 | 0.00 | 6.70 |   0.00 |  NA |  4458 | 27.75 |\n",
       "| 2022-06-19 | 2022-06-19 | Run  | 378 | 2.66 | 1800 | 11.28 | 0.00 | 5.32 |   0.00 |  NA |  4713 | 30.00 |\n",
       "| 2022-06-18 | 2022-06-18 | Run  | 370 | 2.58 | 1698 | 10.97 | 1.11 | 5.47 |  53.94 | 159 |  4431 | 28.30 |\n",
       "| 2022-06-16 | 2022-06-17 | Run  | 315 | 2.33 | 1391 |  9.95 | 0.00 | 6.03 |   0.00 |  NA |  3684 | 23.18 |\n",
       "| 2022-06-15 | 2022-06-15 | Run  | 405 | 3.10 | 1691 |  9.09 | 0.00 | 6.60 |   0.00 |  NA |  4520 | 28.18 |\n",
       "| 2022-06-12 | 2022-06-12 | Run  | 428 | 3.10 | 1955 | 10.52 | 3.01 | 5.71 |  19.95 |   0 |  5052 | 32.58 |\n",
       "| 2022-06-10 | 2022-06-10 | Run  | 881 | 6.20 | 4182 | 11.23 | 0.60 | 5.34 | 100.05 | 153 | 10479 | 69.70 |\n",
       "| 2022-06-09 | 2022-06-08 | Run  | 407 | 3.11 | 1702 |  9.12 | 0.00 | 6.58 |   0.00 | 153 |  4548 | 28.37 |\n",
       "| 2022-06-06 | 2022-06-06 | Run  | 590 | 4.50 | 2924 | 10.82 | 1.15 | 5.54 |  52.33 | 145 |  7739 | 48.73 |\n",
       "| 2022-06-05 | 2022-06-05 | Walk | 253 | 1.88 | 2402 | 21.28 | 1.79 | 2.82 |  33.49 | 109 |  3994 | 40.03 |\n",
       "| 2022-06-05 | 2022-06-05 | Run  | 302 | 2.44 | 1487 | 10.17 | 0.45 | 5.90 | 132.28 | 148 |  3889 | 24.78 |\n",
       "| 2022-06-04 | 2022-06-04 | Run  | 856 | 6.24 | 3946 | 10.53 | 1.07 | 5.70 |  56.16 | 156 | 10427 | 65.77 |\n",
       "| 2022-06-03 | 2022-06-03 | Run  | 397 | 3.11 | 1864 |  9.99 | 0.95 | 6.01 |  63.08 | 152 |  4863 | 31.07 |\n",
       "| 2022-05-31 | 2022-06-01 | Run  | 416 | 3.10 | 1817 |  9.77 | 0.00 | 6.14 |   0.00 |  NA |  4822 | 30.28 |\n",
       "| 2022-05-31 | 2022-05-31 | Run  | 546 | 4.08 | 2377 |  9.71 | 1.28 | 6.18 |  46.77 | 145 |  4048 | 39.62 |\n",
       "| 2022-05-30 | 2022-05-30 | Run  | 418 | 3.10 | 1873 | 10.06 | 0.45 | 5.96 | 132.40 | 159 |  4873 | 31.22 |\n",
       "| 2022-05-28 | 2022-05-28 | Run  | 426 | 3.11 | 1852 |  9.93 | 2.82 | 6.04 |  21.25 | 162 |  4867 | 30.87 |\n",
       "| 2022-05-27 | 2022-05-27 | Run  | 405 | 3.10 | 1691 |  9.09 | 0.00 | 6.60 |   0.00 |  NA |  4520 | 28.18 |\n",
       "| 2022-05-25 | 2022-05-25 | Run  | 801 | 6.21 | 3735 | 10.03 | 0.99 | 5.98 |  60.53 | 150 |  9802 | 62.25 |\n",
       "| 2022-05-24 | 2022-05-24 | Run  | 408 | 3.10 | 1731 |  9.31 | 0.00 | 6.45 |   0.00 |  NA |  4616 | 28.85 |\n",
       "| 2022-05-22 | 2022-05-22 | Run  | 420 | 3.10 | 1865 | 10.03 | 0.00 | 5.98 |   0.00 |  NA |  4936 | 31.08 |\n",
       "| 2022-05-20 | 2022-05-20 | Run  | 417 | 3.10 | 1827 |  9.82 | 0.00 | 6.11 |   0.00 |  NA |  4845 | 30.45 |\n",
       "| 2022-05-20 | 2022-05-20 | Run  | 394 | 3.10 | 1839 |  9.88 | 1.32 | 6.07 |  45.51 | 149 |  4858 | 30.65 |\n",
       "| 2022-05-17 | 2022-05-17 | Run  | 840 | 6.20 | 3843 | 10.32 | 1.04 | 5.81 |  57.83 | 151 | 10162 | 64.05 |\n",
       "| 2022-05-16 | 2022-05-16 | Run  | 395 | 3.11 | 1777 |  9.53 | 0.97 | 6.30 |  61.95 | 145 |  4650 | 29.62 |\n",
       "| ⋮ | ⋮ | ⋮ | ⋮ | ⋮ | ⋮ | ⋮ | ⋮ | ⋮ | ⋮ | ⋮ | ⋮ | ⋮ |\n",
       "| 2019-06-14 | 2019-06-14 | Weight Workout   | 215 | 0.00 | 1560 |  0.00 |   0.00 | 0.00 |  0.00 |   0 |   NA | 26.00 |\n",
       "| 2019-06-14 | 2019-06-14 | Walk             | 323 | 3.15 | 3080 | 16.30 |   0.00 | 3.68 |  0.00 |  NA | 6202 | 51.33 |\n",
       "| 2019-06-12 | 2019-06-12 | Run              | 215 | 2.09 | 1962 | 15.65 |   3.21 | 3.83 | 18.70 | 111 | 3819 | 32.70 |\n",
       "| 2019-06-11 | 2019-06-11 | Walk             | 106 | 1.04 | 1045 | 16.75 |  13.55 | 3.58 |  4.43 |  NA | 1831 | 17.42 |\n",
       "| 2019-06-11 | 2019-06-11 | Weight Workout   | 211 | 0.00 | 1526 |  0.00 |  57.79 | 0.00 |  1.04 |  NA |   NA | 25.43 |\n",
       "| 2019-06-10 | 2019-06-10 | Walk             | 299 | 2.78 | 2458 | 14.74 |   5.71 | 4.07 | 10.51 |   0 | 4676 | 40.97 |\n",
       "| 2019-06-09 | 2019-06-09 | Walk             | 293 | 2.88 | 2986 | 17.28 |   0.00 | 3.47 |  0.00 |  73 | 5876 | 49.77 |\n",
       "| 2019-06-08 | 2019-06-08 | Run              | 190 | 1.57 | 1307 | 13.84 |   1.25 | 4.33 | 47.97 | 116 | 2729 | 21.78 |\n",
       "| 2019-06-06 | 2019-06-07 | Weight Workout   |  96 | 0.00 |  692 |  0.00 |   0.00 | 0.00 |  0.00 |  NA |   NA | 11.53 |\n",
       "| 2019-06-06 | 2019-06-06 | Walk             | 321 | 3.13 | 3064 | 16.32 |  14.81 | 3.68 |  4.05 |  NA |   55 | 51.07 |\n",
       "| 2019-06-06 | 2019-06-06 | Walk             |   2 | 0.02 |   10 |  9.74 |  13.60 | 6.16 |  4.41 | 106 |   11 |  0.17 |\n",
       "| 2019-06-05 | 2019-06-05 | Weight Workout   |  83 | 0.00 |  600 |  0.00 |   0.00 | 0.00 |  0.00 |  NA |   NA | 10.00 |\n",
       "| 2019-06-05 | 2019-06-05 | Walk             |   0 | 0.00 |    3 |  0.00 |   0.00 | 0.00 |  0.00 |   0 |   NA |  0.05 |\n",
       "| 2019-06-05 | 2019-06-05 | Walk             | 249 | 2.22 | 1921 | 14.43 |  13.25 | 4.16 |  4.53 | 110 | 3887 | 32.02 |\n",
       "| 2019-06-03 | 2019-06-03 | Walk             | 309 | 2.99 | 2764 | 15.41 |   0.00 | 3.89 |  0.00 |  NA | 5745 | 46.07 |\n",
       "| 2019-06-02 | 2019-06-02 | Walk             | 316 | 3.10 | 3180 | 17.10 |   0.00 | 3.51 |  0.00 |  NA | 6289 | 53.00 |\n",
       "| 2019-06-02 | 2019-06-02 | Weight Workout   |  79 | 0.00 |  600 |  0.00 |   0.00 | 0.00 |  0.00 |  NA |   NA | 10.00 |\n",
       "| 2019-06-02 | 2019-06-02 | Weight Workout   |  79 | 0.00 |  600 |  0.00 |   0.00 | 0.00 |  0.00 |  NA |   NA | 10.00 |\n",
       "| 2019-05-30 | 2019-05-30 | Walk             | 307 | 3.10 | 2866 | 15.41 | 182.40 | 3.89 |  0.33 |  NA | 6104 | 47.77 |\n",
       "| 2019-05-28 | 2019-05-28 | Walk             | 248 | 2.22 | 1886 | 14.16 |   1.40 | 4.24 | 42.80 | 102 | 3708 | 31.43 |\n",
       "| 2019-05-27 | 2019-05-27 | Walk             | 322 | 2.22 | 3541 | 26.36 |   4.21 | 2.28 | 14.25 |  93 | 6149 | 59.02 |\n",
       "| 2019-05-27 | 2019-05-23 | Walk             | 266 | 2.62 | 1946 | 12.36 |   4.68 | 4.85 | 12.83 | 136 | 4074 | 32.43 |\n",
       "| 2019-05-19 | 2019-05-19 | Run              | 419 | 3.11 | 2197 | 11.69 |   2.06 | 5.13 | 29.17 | 139 | 5295 | 36.62 |\n",
       "| 2019-05-15 | 2019-05-15 | Indoor Run / Jog | 403 | 3.13 | 2344 | 12.48 |   0.00 | 4.81 |  0.00 |  NA | 6926 | 39.07 |\n",
       "| 2019-05-13 | 2019-05-13 | Run              | 258 | 1.96 | 1214 | 10.32 |   2.67 | 5.82 | 22.45 |   0 | 3209 | 20.23 |\n",
       "| 2019-05-13 | 2019-05-13 | Indoor Run / Jog | 191 | 1.42 |  927 | 10.88 |  17.09 | 5.51 |  3.51 | 158 |   67 | 15.45 |\n",
       "| NA | NA | Class Workout    | 186 | 0.00 | 3600 |  0.00 |   0.00 | 0.00 |  0.00 |  NA |   NA | 60.00 |\n",
       "| NA | NA | Class Workout    | 183 | 0.00 | 3600 |  0.00 |   0.00 | 0.00 |  0.00 |  NA |   NA | 60.00 |\n",
       "| NA | NA | Class Workout    | 186 | 0.00 | 3600 |  0.00 |   0.00 | 0.00 |  0.00 |  NA |   NA | 60.00 |\n",
       "| NA | NA | Class Workout    | 189 | 0.00 | 3600 |  0.00 |   0.00 | 0.00 |  0.00 |  NA |   NA | 60.00 |\n",
       "\n"
      ],
      "text/plain": [
       "    Date.Sub   Date       Activity         Cal.Burned Distance Duration\n",
       "1   2022-07-10 2022-07-10 Run              429        3.10     2301    \n",
       "2   2022-07-09 2022-07-09 Run              430        3.10     2005    \n",
       "3   2022-07-08 2022-07-08 Run              454        3.11     1988    \n",
       "4   2022-06-24 2022-06-24 Run              400        3.10     1554    \n",
       "5   2022-06-23 2022-06-23 Run              410        3.10     1748    \n",
       "6   2022-06-21 2022-06-22 Run              403        3.10     1665    \n",
       "7   2022-06-19 2022-06-19 Run              378        2.66     1800    \n",
       "8   2022-06-18 2022-06-18 Run              370        2.58     1698    \n",
       "9   2022-06-16 2022-06-17 Run              315        2.33     1391    \n",
       "10  2022-06-15 2022-06-15 Run              405        3.10     1691    \n",
       "11  2022-06-12 2022-06-12 Run              428        3.10     1955    \n",
       "12  2022-06-10 2022-06-10 Run              881        6.20     4182    \n",
       "13  2022-06-09 2022-06-08 Run              407        3.11     1702    \n",
       "14  2022-06-06 2022-06-06 Run              590        4.50     2924    \n",
       "15  2022-06-05 2022-06-05 Walk             253        1.88     2402    \n",
       "16  2022-06-05 2022-06-05 Run              302        2.44     1487    \n",
       "17  2022-06-04 2022-06-04 Run              856        6.24     3946    \n",
       "18  2022-06-03 2022-06-03 Run              397        3.11     1864    \n",
       "19  2022-05-31 2022-06-01 Run              416        3.10     1817    \n",
       "20  2022-05-31 2022-05-31 Run              546        4.08     2377    \n",
       "21  2022-05-30 2022-05-30 Run              418        3.10     1873    \n",
       "22  2022-05-28 2022-05-28 Run              426        3.11     1852    \n",
       "23  2022-05-27 2022-05-27 Run              405        3.10     1691    \n",
       "24  2022-05-25 2022-05-25 Run              801        6.21     3735    \n",
       "25  2022-05-24 2022-05-24 Run              408        3.10     1731    \n",
       "26  2022-05-22 2022-05-22 Run              420        3.10     1865    \n",
       "27  2022-05-20 2022-05-20 Run              417        3.10     1827    \n",
       "28  2022-05-20 2022-05-20 Run              394        3.10     1839    \n",
       "29  2022-05-17 2022-05-17 Run              840        6.20     3843    \n",
       "30  2022-05-16 2022-05-16 Run              395        3.11     1777    \n",
       "<U+22EE>   <U+22EE>   <U+22EE>   <U+22EE>         <U+22EE>   <U+22EE> <U+22EE>\n",
       "667 2019-06-14 2019-06-14 Weight Workout   215        0.00     1560    \n",
       "668 2019-06-14 2019-06-14 Walk             323        3.15     3080    \n",
       "669 2019-06-12 2019-06-12 Run              215        2.09     1962    \n",
       "670 2019-06-11 2019-06-11 Walk             106        1.04     1045    \n",
       "671 2019-06-11 2019-06-11 Weight Workout   211        0.00     1526    \n",
       "672 2019-06-10 2019-06-10 Walk             299        2.78     2458    \n",
       "673 2019-06-09 2019-06-09 Walk             293        2.88     2986    \n",
       "674 2019-06-08 2019-06-08 Run              190        1.57     1307    \n",
       "675 2019-06-06 2019-06-07 Weight Workout    96        0.00      692    \n",
       "676 2019-06-06 2019-06-06 Walk             321        3.13     3064    \n",
       "677 2019-06-06 2019-06-06 Walk               2        0.02       10    \n",
       "678 2019-06-05 2019-06-05 Weight Workout    83        0.00      600    \n",
       "679 2019-06-05 2019-06-05 Walk               0        0.00        3    \n",
       "680 2019-06-05 2019-06-05 Walk             249        2.22     1921    \n",
       "681 2019-06-03 2019-06-03 Walk             309        2.99     2764    \n",
       "682 2019-06-02 2019-06-02 Walk             316        3.10     3180    \n",
       "683 2019-06-02 2019-06-02 Weight Workout    79        0.00      600    \n",
       "684 2019-06-02 2019-06-02 Weight Workout    79        0.00      600    \n",
       "685 2019-05-30 2019-05-30 Walk             307        3.10     2866    \n",
       "686 2019-05-28 2019-05-28 Walk             248        2.22     1886    \n",
       "687 2019-05-27 2019-05-27 Walk             322        2.22     3541    \n",
       "688 2019-05-27 2019-05-23 Walk             266        2.62     1946    \n",
       "689 2019-05-19 2019-05-19 Run              419        3.11     2197    \n",
       "690 2019-05-15 2019-05-15 Indoor Run / Jog 403        3.13     2344    \n",
       "691 2019-05-13 2019-05-13 Run              258        1.96     1214    \n",
       "692 2019-05-13 2019-05-13 Indoor Run / Jog 191        1.42      927    \n",
       "693 <NA>       <NA>       Class Workout    186        0.00     3600    \n",
       "694 <NA>       <NA>       Class Workout    183        0.00     3600    \n",
       "695 <NA>       <NA>       Class Workout    186        0.00     3600    \n",
       "696 <NA>       <NA>       Class Workout    189        0.00     3600    \n",
       "    Avg.Pace Max.Pace Avg.Spd Max.Spd Avg.HR Steps duration\n",
       "1   12.37    0.99     4.85     60.41  149     5125 38.35   \n",
       "2   10.77    1.17     5.57     51.45  157     5261 33.42   \n",
       "3   10.65    3.88     5.63     15.47  165     5202 33.13   \n",
       "4    8.35    0.00     7.18      0.00   NA     4192 25.90   \n",
       "5    9.40    0.00     6.38      0.00   NA     4656 29.13   \n",
       "6    8.95    0.00     6.70      0.00   NA     4458 27.75   \n",
       "7   11.28    0.00     5.32      0.00   NA     4713 30.00   \n",
       "8   10.97    1.11     5.47     53.94  159     4431 28.30   \n",
       "9    9.95    0.00     6.03      0.00   NA     3684 23.18   \n",
       "10   9.09    0.00     6.60      0.00   NA     4520 28.18   \n",
       "11  10.52    3.01     5.71     19.95    0     5052 32.58   \n",
       "12  11.23    0.60     5.34    100.05  153    10479 69.70   \n",
       "13   9.12    0.00     6.58      0.00  153     4548 28.37   \n",
       "14  10.82    1.15     5.54     52.33  145     7739 48.73   \n",
       "15  21.28    1.79     2.82     33.49  109     3994 40.03   \n",
       "16  10.17    0.45     5.90    132.28  148     3889 24.78   \n",
       "17  10.53    1.07     5.70     56.16  156    10427 65.77   \n",
       "18   9.99    0.95     6.01     63.08  152     4863 31.07   \n",
       "19   9.77    0.00     6.14      0.00   NA     4822 30.28   \n",
       "20   9.71    1.28     6.18     46.77  145     4048 39.62   \n",
       "21  10.06    0.45     5.96    132.40  159     4873 31.22   \n",
       "22   9.93    2.82     6.04     21.25  162     4867 30.87   \n",
       "23   9.09    0.00     6.60      0.00   NA     4520 28.18   \n",
       "24  10.03    0.99     5.98     60.53  150     9802 62.25   \n",
       "25   9.31    0.00     6.45      0.00   NA     4616 28.85   \n",
       "26  10.03    0.00     5.98      0.00   NA     4936 31.08   \n",
       "27   9.82    0.00     6.11      0.00   NA     4845 30.45   \n",
       "28   9.88    1.32     6.07     45.51  149     4858 30.65   \n",
       "29  10.32    1.04     5.81     57.83  151    10162 64.05   \n",
       "30   9.53    0.97     6.30     61.95  145     4650 29.62   \n",
       "<U+22EE>   <U+22EE> <U+22EE> <U+22EE> <U+22EE> <U+22EE> <U+22EE> <U+22EE>\n",
       "667  0.00      0.00   0.00     0.00     0      NA  26.00   \n",
       "668 16.30      0.00   3.68     0.00    NA    6202  51.33   \n",
       "669 15.65      3.21   3.83    18.70   111    3819  32.70   \n",
       "670 16.75     13.55   3.58     4.43    NA    1831  17.42   \n",
       "671  0.00     57.79   0.00     1.04    NA      NA  25.43   \n",
       "672 14.74      5.71   4.07    10.51     0    4676  40.97   \n",
       "673 17.28      0.00   3.47     0.00    73    5876  49.77   \n",
       "674 13.84      1.25   4.33    47.97   116    2729  21.78   \n",
       "675  0.00      0.00   0.00     0.00    NA      NA  11.53   \n",
       "676 16.32     14.81   3.68     4.05    NA      55  51.07   \n",
       "677  9.74     13.60   6.16     4.41   106      11   0.17   \n",
       "678  0.00      0.00   0.00     0.00    NA      NA  10.00   \n",
       "679  0.00      0.00   0.00     0.00     0      NA   0.05   \n",
       "680 14.43     13.25   4.16     4.53   110    3887  32.02   \n",
       "681 15.41      0.00   3.89     0.00    NA    5745  46.07   \n",
       "682 17.10      0.00   3.51     0.00    NA    6289  53.00   \n",
       "683  0.00      0.00   0.00     0.00    NA      NA  10.00   \n",
       "684  0.00      0.00   0.00     0.00    NA      NA  10.00   \n",
       "685 15.41    182.40   3.89     0.33    NA    6104  47.77   \n",
       "686 14.16      1.40   4.24    42.80   102    3708  31.43   \n",
       "687 26.36      4.21   2.28    14.25    93    6149  59.02   \n",
       "688 12.36      4.68   4.85    12.83   136    4074  32.43   \n",
       "689 11.69      2.06   5.13    29.17   139    5295  36.62   \n",
       "690 12.48      0.00   4.81     0.00    NA    6926  39.07   \n",
       "691 10.32      2.67   5.82    22.45     0    3209  20.23   \n",
       "692 10.88     17.09   5.51     3.51   158      67  15.45   \n",
       "693  0.00      0.00   0.00     0.00    NA      NA  60.00   \n",
       "694  0.00      0.00   0.00     0.00    NA      NA  60.00   \n",
       "695  0.00      0.00   0.00     0.00    NA      NA  60.00   \n",
       "696  0.00      0.00   0.00     0.00    NA      NA  60.00   "
      ]
     },
     "metadata": {},
     "output_type": "display_data"
    }
   ],
   "source": [
    "library(dplyr); df %>% mutate_if(is.numeric, round, digits=2)"
   ]
  },
  {
   "cell_type": "code",
   "execution_count": 701,
   "metadata": {
    "vscode": {
     "languageId": "r"
    }
   },
   "outputs": [],
   "source": [
    "# df <- df %>% drop_na(Date)\n",
    "# # df <- df %>% drop_na(Date.Sub)"
   ]
  },
  {
   "cell_type": "code",
   "execution_count": 702,
   "metadata": {
    "vscode": {
     "languageId": "r"
    }
   },
   "outputs": [
    {
     "data": {
      "text/html": [
       "696"
      ],
      "text/latex": [
       "696"
      ],
      "text/markdown": [
       "696"
      ],
      "text/plain": [
       "[1] 696"
      ]
     },
     "metadata": {},
     "output_type": "display_data"
    }
   ],
   "source": [
    "nrow(df)"
   ]
  },
  {
   "cell_type": "code",
   "execution_count": 703,
   "metadata": {
    "vscode": {
     "languageId": "r"
    }
   },
   "outputs": [
    {
     "data": {
      "text/plain": [
       "    Date.Sub               Date              Activity           Cal.Burned    \n",
       " Min.   :2019-05-13   Min.   :2019-05-13   Length:696         Min.   :   0.0  \n",
       " 1st Qu.:2019-11-14   1st Qu.:2019-07-28   Class :character   1st Qu.: 228.0  \n",
       " Median :2020-06-04   Median :2020-06-02   Mode  :character   Median : 403.0  \n",
       " Mean   :2020-09-06   Mean   :2020-09-02                      Mean   : 398.7  \n",
       " 3rd Qu.:2021-06-03   3rd Qu.:2021-06-02                      3rd Qu.: 452.2  \n",
       " Max.   :2022-07-10   Max.   :2022-07-10                      Max.   :2473.0  \n",
       " NA's   :325          NA's   :319                                             \n",
       "    Distance         Duration        Avg.Pace          Max.Pace      \n",
       " Min.   : 0.000   Min.   :    0   Min.   :  0.000   Min.   :  0.000  \n",
       " 1st Qu.: 1.990   1st Qu.: 1451   1st Qu.:  9.043   1st Qu.:  0.000  \n",
       " Median : 3.100   Median : 1800   Median :  9.730   Median :  0.860  \n",
       " Mean   : 3.081   Mean   : 2407   Mean   : 13.032   Mean   :  2.093  \n",
       " 3rd Qu.: 3.513   3rd Qu.: 2330   3rd Qu.: 11.095   3rd Qu.:  1.565  \n",
       " Max.   :13.480   Max.   :80568   Max.   :295.260   Max.   :182.400  \n",
       "                                                                     \n",
       "    Avg.Spd          Max.Spd            Avg.HR           Steps       \n",
       " Min.   : 0.000   Min.   :   0.00   Min.   :  0.00   Min.   :     6  \n",
       " 1st Qu.: 4.850   1st Qu.:   0.00   1st Qu.: 80.25   1st Qu.:  3312  \n",
       " Median : 6.120   Median :  15.76   Median :142.00   Median :  4653  \n",
       " Mean   : 5.462   Mean   :  46.10   Mean   :107.35   Mean   :  5511  \n",
       " 3rd Qu.: 6.553   3rd Qu.:  60.11   3rd Qu.:153.00   3rd Qu.:  5723  \n",
       " Max.   :14.860   Max.   :1853.55   Max.   :169.00   Max.   :193886  \n",
       "                                    NA's   :238      NA's   :24      \n",
       "    duration      \n",
       " Min.   :   0.00  \n",
       " 1st Qu.:  24.18  \n",
       " Median :  30.00  \n",
       " Mean   :  40.11  \n",
       " 3rd Qu.:  38.84  \n",
       " Max.   :1342.80  \n",
       "                  "
      ]
     },
     "metadata": {},
     "output_type": "display_data"
    }
   ],
   "source": [
    "summary(df)"
   ]
  },
  {
   "cell_type": "code",
   "execution_count": 704,
   "metadata": {
    "vscode": {
     "languageId": "r"
    }
   },
   "outputs": [],
   "source": [
    "library(data.table)\n",
    "#setDT(df)[value==0, value := NA,]\n",
    "#df[, value := replace(value, is.na(value), mean(value, na.rm = TRUE)) , by = .(year, age)]"
   ]
  },
  {
   "cell_type": "code",
   "execution_count": 705,
   "metadata": {
    "vscode": {
     "languageId": "r"
    }
   },
   "outputs": [],
   "source": [
    "HRmean <- mean(df$Avg.HR)\n",
    "Stepsmean <- mean(df$Steps)"
   ]
  },
  {
   "cell_type": "code",
   "execution_count": 706,
   "metadata": {
    "vscode": {
     "languageId": "r"
    }
   },
   "outputs": [],
   "source": [
    "# df[is.na(df)] = 0"
   ]
  },
  {
   "cell_type": "code",
   "execution_count": 707,
   "metadata": {
    "vscode": {
     "languageId": "r"
    }
   },
   "outputs": [
    {
     "data": {
      "text/html": [
       "<table class=\"dataframe\">\n",
       "<caption>A data.frame: 4 × 13</caption>\n",
       "<thead>\n",
       "\t<tr><th></th><th scope=col>Date.Sub</th><th scope=col>Date</th><th scope=col>Activity</th><th scope=col>Cal.Burned</th><th scope=col>Distance</th><th scope=col>Duration</th><th scope=col>Avg.Pace</th><th scope=col>Max.Pace</th><th scope=col>Avg.Spd</th><th scope=col>Max.Spd</th><th scope=col>Avg.HR</th><th scope=col>Steps</th><th scope=col>duration</th></tr>\n",
       "\t<tr><th></th><th scope=col>&lt;date&gt;</th><th scope=col>&lt;date&gt;</th><th scope=col>&lt;chr&gt;</th><th scope=col>&lt;dbl&gt;</th><th scope=col>&lt;dbl&gt;</th><th scope=col>&lt;dbl&gt;</th><th scope=col>&lt;dbl&gt;</th><th scope=col>&lt;dbl&gt;</th><th scope=col>&lt;dbl&gt;</th><th scope=col>&lt;dbl&gt;</th><th scope=col>&lt;dbl&gt;</th><th scope=col>&lt;dbl&gt;</th><th scope=col>&lt;dbl&gt;</th></tr>\n",
       "</thead>\n",
       "<tbody>\n",
       "\t<tr><th scope=row>1</th><td>2022-07-10</td><td>2022-07-10</td><td>Run</td><td>429</td><td>3.10</td><td>2301</td><td>12.37</td><td>0.99</td><td>4.85</td><td>60.41</td><td>149</td><td>5125</td><td>38.35</td></tr>\n",
       "\t<tr><th scope=row>2</th><td>2022-07-09</td><td>2022-07-09</td><td>Run</td><td>430</td><td>3.10</td><td>2005</td><td>10.77</td><td>1.17</td><td>5.57</td><td>51.45</td><td>157</td><td>5261</td><td>33.42</td></tr>\n",
       "\t<tr><th scope=row>3</th><td>2022-07-08</td><td>2022-07-08</td><td>Run</td><td>454</td><td>3.11</td><td>1988</td><td>10.65</td><td>3.88</td><td>5.63</td><td>15.47</td><td>165</td><td>5202</td><td>33.13</td></tr>\n",
       "\t<tr><th scope=row>4</th><td>2022-06-24</td><td>2022-06-24</td><td>Run</td><td>400</td><td>3.10</td><td>1554</td><td> 8.35</td><td>0.00</td><td>7.18</td><td> 0.00</td><td> NA</td><td>4192</td><td>25.90</td></tr>\n",
       "</tbody>\n",
       "</table>\n"
      ],
      "text/latex": [
       "A data.frame: 4 × 13\n",
       "\\begin{tabular}{r|lllllllllllll}\n",
       "  & Date.Sub & Date & Activity & Cal.Burned & Distance & Duration & Avg.Pace & Max.Pace & Avg.Spd & Max.Spd & Avg.HR & Steps & duration\\\\\n",
       "  & <date> & <date> & <chr> & <dbl> & <dbl> & <dbl> & <dbl> & <dbl> & <dbl> & <dbl> & <dbl> & <dbl> & <dbl>\\\\\n",
       "\\hline\n",
       "\t1 & 2022-07-10 & 2022-07-10 & Run & 429 & 3.10 & 2301 & 12.37 & 0.99 & 4.85 & 60.41 & 149 & 5125 & 38.35\\\\\n",
       "\t2 & 2022-07-09 & 2022-07-09 & Run & 430 & 3.10 & 2005 & 10.77 & 1.17 & 5.57 & 51.45 & 157 & 5261 & 33.42\\\\\n",
       "\t3 & 2022-07-08 & 2022-07-08 & Run & 454 & 3.11 & 1988 & 10.65 & 3.88 & 5.63 & 15.47 & 165 & 5202 & 33.13\\\\\n",
       "\t4 & 2022-06-24 & 2022-06-24 & Run & 400 & 3.10 & 1554 &  8.35 & 0.00 & 7.18 &  0.00 &  NA & 4192 & 25.90\\\\\n",
       "\\end{tabular}\n"
      ],
      "text/markdown": [
       "\n",
       "A data.frame: 4 × 13\n",
       "\n",
       "| <!--/--> | Date.Sub &lt;date&gt; | Date &lt;date&gt; | Activity &lt;chr&gt; | Cal.Burned &lt;dbl&gt; | Distance &lt;dbl&gt; | Duration &lt;dbl&gt; | Avg.Pace &lt;dbl&gt; | Max.Pace &lt;dbl&gt; | Avg.Spd &lt;dbl&gt; | Max.Spd &lt;dbl&gt; | Avg.HR &lt;dbl&gt; | Steps &lt;dbl&gt; | duration &lt;dbl&gt; |\n",
       "|---|---|---|---|---|---|---|---|---|---|---|---|---|---|\n",
       "| 1 | 2022-07-10 | 2022-07-10 | Run | 429 | 3.10 | 2301 | 12.37 | 0.99 | 4.85 | 60.41 | 149 | 5125 | 38.35 |\n",
       "| 2 | 2022-07-09 | 2022-07-09 | Run | 430 | 3.10 | 2005 | 10.77 | 1.17 | 5.57 | 51.45 | 157 | 5261 | 33.42 |\n",
       "| 3 | 2022-07-08 | 2022-07-08 | Run | 454 | 3.11 | 1988 | 10.65 | 3.88 | 5.63 | 15.47 | 165 | 5202 | 33.13 |\n",
       "| 4 | 2022-06-24 | 2022-06-24 | Run | 400 | 3.10 | 1554 |  8.35 | 0.00 | 7.18 |  0.00 |  NA | 4192 | 25.90 |\n",
       "\n"
      ],
      "text/plain": [
       "  Date.Sub   Date       Activity Cal.Burned Distance Duration Avg.Pace Max.Pace\n",
       "1 2022-07-10 2022-07-10 Run      429        3.10     2301     12.37    0.99    \n",
       "2 2022-07-09 2022-07-09 Run      430        3.10     2005     10.77    1.17    \n",
       "3 2022-07-08 2022-07-08 Run      454        3.11     1988     10.65    3.88    \n",
       "4 2022-06-24 2022-06-24 Run      400        3.10     1554      8.35    0.00    \n",
       "  Avg.Spd Max.Spd Avg.HR Steps duration\n",
       "1 4.85    60.41   149    5125  38.35   \n",
       "2 5.57    51.45   157    5261  33.42   \n",
       "3 5.63    15.47   165    5202  33.13   \n",
       "4 7.18     0.00    NA    4192  25.90   "
      ]
     },
     "metadata": {},
     "output_type": "display_data"
    }
   ],
   "source": [
    "head(df, 4)"
   ]
  },
  {
   "cell_type": "code",
   "execution_count": 708,
   "metadata": {
    "vscode": {
     "languageId": "r"
    }
   },
   "outputs": [],
   "source": [
    "df <- df %>% dplyr::mutate(Avg.HR = ifelse(Avg.HR == 0, HRmean, Avg.HR))\n",
    "# #df <- df %>% dplyr::mutate(Avg.HR = ifelse(Avg.HR == NA, HRmean, Avg.HR))\n",
    "df <- df %>% dplyr::mutate(Steps = ifelse(Steps == 0, Stepsmean, Steps))\n",
    "# #df <- df %>% dplyr::mutate(Steps = ifelse(Steps == NA, Stepsmean, Steps))"
   ]
  },
  {
   "cell_type": "code",
   "execution_count": 709,
   "metadata": {
    "vscode": {
     "languageId": "r"
    }
   },
   "outputs": [],
   "source": [
    "# df[is.na(df)] = 0"
   ]
  },
  {
   "cell_type": "code",
   "execution_count": 710,
   "metadata": {
    "vscode": {
     "languageId": "r"
    }
   },
   "outputs": [],
   "source": [
    "# df[df == 0] = NA"
   ]
  },
  {
   "cell_type": "code",
   "execution_count": 711,
   "metadata": {
    "vscode": {
     "languageId": "r"
    }
   },
   "outputs": [],
   "source": [
    "df$Avg.HR[is.na(df$Avg.HR)] <- mean(df$Avg.HR, na.rm = TRUE)\n",
    "df$Steps[is.na(df$Steps)] <- mean(df$Steps, na.rm = TRUE)\n",
    "df$Max.Pace[is.na(df$Max.Pace)] <- mean(df$Max.Pace, na.rm = TRUE)\n",
    "df$Avg.Pace[is.na(df$Avg.Pace)] <- mean(df$Avg.Pace, na.rm = TRUE)\n",
    "df$Max.Spd[is.na(df$Max.Spd)] <- mean(df$Max.Spd, na.rm = TRUE)\n",
    "df$Avg.Spd[is.na(df$Avg.Spd)] <- mean(df$Avg.Spd, na.rm = TRUE)\n",
    "df$Cal.Burned[is.na(df$Cal.Burned)] <- mean(df$Cal.Burned, na.rm = TRUE)"
   ]
  },
  {
   "cell_type": "code",
   "execution_count": 712,
   "metadata": {
    "vscode": {
     "languageId": "r"
    }
   },
   "outputs": [],
   "source": [
    "df$day <- weekdays(as.Date(df$Date))\n",
    "df$month <- months(as.Date(df$Date))\n",
    "#df$year <- years(as.Date(df$Date))"
   ]
  },
  {
   "cell_type": "code",
   "execution_count": 713,
   "metadata": {
    "vscode": {
     "languageId": "r"
    }
   },
   "outputs": [
    {
     "data": {
      "text/html": [
       "<table class=\"dataframe\">\n",
       "<caption>A data.frame: 4 × 15</caption>\n",
       "<thead>\n",
       "\t<tr><th></th><th scope=col>Date.Sub</th><th scope=col>Date</th><th scope=col>Activity</th><th scope=col>Cal.Burned</th><th scope=col>Distance</th><th scope=col>Duration</th><th scope=col>Avg.Pace</th><th scope=col>Max.Pace</th><th scope=col>Avg.Spd</th><th scope=col>Max.Spd</th><th scope=col>Avg.HR</th><th scope=col>Steps</th><th scope=col>duration</th><th scope=col>day</th><th scope=col>month</th></tr>\n",
       "\t<tr><th></th><th scope=col>&lt;date&gt;</th><th scope=col>&lt;date&gt;</th><th scope=col>&lt;chr&gt;</th><th scope=col>&lt;dbl&gt;</th><th scope=col>&lt;dbl&gt;</th><th scope=col>&lt;dbl&gt;</th><th scope=col>&lt;dbl&gt;</th><th scope=col>&lt;dbl&gt;</th><th scope=col>&lt;dbl&gt;</th><th scope=col>&lt;dbl&gt;</th><th scope=col>&lt;dbl&gt;</th><th scope=col>&lt;dbl&gt;</th><th scope=col>&lt;dbl&gt;</th><th scope=col>&lt;chr&gt;</th><th scope=col>&lt;chr&gt;</th></tr>\n",
       "</thead>\n",
       "<tbody>\n",
       "\t<tr><th scope=row>1</th><td>2022-07-10</td><td>2022-07-10</td><td>Run</td><td>429</td><td>3.10</td><td>2301</td><td>12.37</td><td>0.99</td><td>4.85</td><td>60.41</td><td>149.0000</td><td>5125</td><td>38.35</td><td>Sunday  </td><td>July</td></tr>\n",
       "\t<tr><th scope=row>2</th><td>2022-07-09</td><td>2022-07-09</td><td>Run</td><td>430</td><td>3.10</td><td>2005</td><td>10.77</td><td>1.17</td><td>5.57</td><td>51.45</td><td>157.0000</td><td>5261</td><td>33.42</td><td>Saturday</td><td>July</td></tr>\n",
       "\t<tr><th scope=row>3</th><td>2022-07-08</td><td>2022-07-08</td><td>Run</td><td>454</td><td>3.11</td><td>1988</td><td>10.65</td><td>3.88</td><td>5.63</td><td>15.47</td><td>165.0000</td><td>5202</td><td>33.13</td><td>Friday  </td><td>July</td></tr>\n",
       "\t<tr><th scope=row>4</th><td>2022-06-24</td><td>2022-06-24</td><td>Run</td><td>400</td><td>3.10</td><td>1554</td><td> 8.35</td><td>0.00</td><td>7.18</td><td> 0.00</td><td>141.2874</td><td>4192</td><td>25.90</td><td>Friday  </td><td>June</td></tr>\n",
       "</tbody>\n",
       "</table>\n"
      ],
      "text/latex": [
       "A data.frame: 4 × 15\n",
       "\\begin{tabular}{r|lllllllllllllll}\n",
       "  & Date.Sub & Date & Activity & Cal.Burned & Distance & Duration & Avg.Pace & Max.Pace & Avg.Spd & Max.Spd & Avg.HR & Steps & duration & day & month\\\\\n",
       "  & <date> & <date> & <chr> & <dbl> & <dbl> & <dbl> & <dbl> & <dbl> & <dbl> & <dbl> & <dbl> & <dbl> & <dbl> & <chr> & <chr>\\\\\n",
       "\\hline\n",
       "\t1 & 2022-07-10 & 2022-07-10 & Run & 429 & 3.10 & 2301 & 12.37 & 0.99 & 4.85 & 60.41 & 149.0000 & 5125 & 38.35 & Sunday   & July\\\\\n",
       "\t2 & 2022-07-09 & 2022-07-09 & Run & 430 & 3.10 & 2005 & 10.77 & 1.17 & 5.57 & 51.45 & 157.0000 & 5261 & 33.42 & Saturday & July\\\\\n",
       "\t3 & 2022-07-08 & 2022-07-08 & Run & 454 & 3.11 & 1988 & 10.65 & 3.88 & 5.63 & 15.47 & 165.0000 & 5202 & 33.13 & Friday   & July\\\\\n",
       "\t4 & 2022-06-24 & 2022-06-24 & Run & 400 & 3.10 & 1554 &  8.35 & 0.00 & 7.18 &  0.00 & 141.2874 & 4192 & 25.90 & Friday   & June\\\\\n",
       "\\end{tabular}\n"
      ],
      "text/markdown": [
       "\n",
       "A data.frame: 4 × 15\n",
       "\n",
       "| <!--/--> | Date.Sub &lt;date&gt; | Date &lt;date&gt; | Activity &lt;chr&gt; | Cal.Burned &lt;dbl&gt; | Distance &lt;dbl&gt; | Duration &lt;dbl&gt; | Avg.Pace &lt;dbl&gt; | Max.Pace &lt;dbl&gt; | Avg.Spd &lt;dbl&gt; | Max.Spd &lt;dbl&gt; | Avg.HR &lt;dbl&gt; | Steps &lt;dbl&gt; | duration &lt;dbl&gt; | day &lt;chr&gt; | month &lt;chr&gt; |\n",
       "|---|---|---|---|---|---|---|---|---|---|---|---|---|---|---|---|\n",
       "| 1 | 2022-07-10 | 2022-07-10 | Run | 429 | 3.10 | 2301 | 12.37 | 0.99 | 4.85 | 60.41 | 149.0000 | 5125 | 38.35 | Sunday   | July |\n",
       "| 2 | 2022-07-09 | 2022-07-09 | Run | 430 | 3.10 | 2005 | 10.77 | 1.17 | 5.57 | 51.45 | 157.0000 | 5261 | 33.42 | Saturday | July |\n",
       "| 3 | 2022-07-08 | 2022-07-08 | Run | 454 | 3.11 | 1988 | 10.65 | 3.88 | 5.63 | 15.47 | 165.0000 | 5202 | 33.13 | Friday   | July |\n",
       "| 4 | 2022-06-24 | 2022-06-24 | Run | 400 | 3.10 | 1554 |  8.35 | 0.00 | 7.18 |  0.00 | 141.2874 | 4192 | 25.90 | Friday   | June |\n",
       "\n"
      ],
      "text/plain": [
       "  Date.Sub   Date       Activity Cal.Burned Distance Duration Avg.Pace Max.Pace\n",
       "1 2022-07-10 2022-07-10 Run      429        3.10     2301     12.37    0.99    \n",
       "2 2022-07-09 2022-07-09 Run      430        3.10     2005     10.77    1.17    \n",
       "3 2022-07-08 2022-07-08 Run      454        3.11     1988     10.65    3.88    \n",
       "4 2022-06-24 2022-06-24 Run      400        3.10     1554      8.35    0.00    \n",
       "  Avg.Spd Max.Spd Avg.HR   Steps duration day      month\n",
       "1 4.85    60.41   149.0000 5125  38.35    Sunday   July \n",
       "2 5.57    51.45   157.0000 5261  33.42    Saturday July \n",
       "3 5.63    15.47   165.0000 5202  33.13    Friday   July \n",
       "4 7.18     0.00   141.2874 4192  25.90    Friday   June "
      ]
     },
     "metadata": {},
     "output_type": "display_data"
    }
   ],
   "source": [
    "head(df, 4)"
   ]
  },
  {
   "cell_type": "code",
   "execution_count": 714,
   "metadata": {
    "vscode": {
     "languageId": "r"
    }
   },
   "outputs": [],
   "source": [
    "library(ggplot2)"
   ]
  },
  {
   "cell_type": "code",
   "execution_count": 715,
   "metadata": {
    "vscode": {
     "languageId": "r"
    }
   },
   "outputs": [
    {
     "data": {
      "image/png": "[encoded data removed]",
      "text/plain": [
       "plot without title"
      ]
     },
     "metadata": {
      "image/png": {
       "height": 420,
       "width": 420
      }
     },
     "output_type": "display_data"
    }
   ],
   "source": [
    "ggplot(data = df, mapping = aes(x = Distance, y = duration)) + \n",
    "    geom_point()"
   ]
  },
  {
   "cell_type": "code",
   "execution_count": 716,
   "metadata": {
    "vscode": {
     "languageId": "r"
    }
   },
   "outputs": [],
   "source": [
    "#Remove erroneous data (I know I have not run anything over 170 minutes)\n",
    "df <- df[df$duration < 170,]\n",
    "df <- df[df$Avg.Spd < 10,]"
   ]
  },
  {
   "cell_type": "code",
   "execution_count": 717,
   "metadata": {
    "vscode": {
     "languageId": "r"
    }
   },
   "outputs": [],
   "source": [
    "#Create subsets for years 2021 and 2022\n",
    "df2022 <- df[df$Date.Sub >= \"2022-01-01\",]\n",
    "df2021 <- subset(df, Date.Sub < \"2022-01-01\" & Date.Sub >= \"2021-01-01\")"
   ]
  },
  {
   "cell_type": "code",
   "execution_count": 718,
   "metadata": {
    "vscode": {
     "languageId": "r"
    }
   },
   "outputs": [],
   "source": [
    "df$year <- format(df$Date.Sub, format = \"%Y\")\n",
    "df$year <- as.integer(df$year)"
   ]
  },
  {
   "cell_type": "code",
   "execution_count": 719,
   "metadata": {
    "vscode": {
     "languageId": "r"
    }
   },
   "outputs": [
    {
     "data": {
      "text/html": [
       "<table class=\"dataframe\">\n",
       "<caption>A data.frame: 4 × 16</caption>\n",
       "<thead>\n",
       "\t<tr><th></th><th scope=col>Date.Sub</th><th scope=col>Date</th><th scope=col>Activity</th><th scope=col>Cal.Burned</th><th scope=col>Distance</th><th scope=col>Duration</th><th scope=col>Avg.Pace</th><th scope=col>Max.Pace</th><th scope=col>Avg.Spd</th><th scope=col>Max.Spd</th><th scope=col>Avg.HR</th><th scope=col>Steps</th><th scope=col>duration</th><th scope=col>day</th><th scope=col>month</th><th scope=col>year</th></tr>\n",
       "\t<tr><th></th><th scope=col>&lt;date&gt;</th><th scope=col>&lt;date&gt;</th><th scope=col>&lt;chr&gt;</th><th scope=col>&lt;dbl&gt;</th><th scope=col>&lt;dbl&gt;</th><th scope=col>&lt;dbl&gt;</th><th scope=col>&lt;dbl&gt;</th><th scope=col>&lt;dbl&gt;</th><th scope=col>&lt;dbl&gt;</th><th scope=col>&lt;dbl&gt;</th><th scope=col>&lt;dbl&gt;</th><th scope=col>&lt;dbl&gt;</th><th scope=col>&lt;dbl&gt;</th><th scope=col>&lt;chr&gt;</th><th scope=col>&lt;chr&gt;</th><th scope=col>&lt;int&gt;</th></tr>\n",
       "</thead>\n",
       "<tbody>\n",
       "\t<tr><th scope=row>1</th><td>2022-07-10</td><td>2022-07-10</td><td>Run</td><td>429</td><td>3.10</td><td>2301</td><td>12.37</td><td>0.99</td><td>4.85</td><td>60.41</td><td>149.0000</td><td>5125</td><td>38.35</td><td>Sunday  </td><td>July</td><td>2022</td></tr>\n",
       "\t<tr><th scope=row>2</th><td>2022-07-09</td><td>2022-07-09</td><td>Run</td><td>430</td><td>3.10</td><td>2005</td><td>10.77</td><td>1.17</td><td>5.57</td><td>51.45</td><td>157.0000</td><td>5261</td><td>33.42</td><td>Saturday</td><td>July</td><td>2022</td></tr>\n",
       "\t<tr><th scope=row>3</th><td>2022-07-08</td><td>2022-07-08</td><td>Run</td><td>454</td><td>3.11</td><td>1988</td><td>10.65</td><td>3.88</td><td>5.63</td><td>15.47</td><td>165.0000</td><td>5202</td><td>33.13</td><td>Friday  </td><td>July</td><td>2022</td></tr>\n",
       "\t<tr><th scope=row>4</th><td>2022-06-24</td><td>2022-06-24</td><td>Run</td><td>400</td><td>3.10</td><td>1554</td><td> 8.35</td><td>0.00</td><td>7.18</td><td> 0.00</td><td>141.2874</td><td>4192</td><td>25.90</td><td>Friday  </td><td>June</td><td>2022</td></tr>\n",
       "</tbody>\n",
       "</table>\n"
      ],
      "text/latex": [
       "A data.frame: 4 × 16\n",
       "\\begin{tabular}{r|llllllllllllllll}\n",
       "  & Date.Sub & Date & Activity & Cal.Burned & Distance & Duration & Avg.Pace & Max.Pace & Avg.Spd & Max.Spd & Avg.HR & Steps & duration & day & month & year\\\\\n",
       "  & <date> & <date> & <chr> & <dbl> & <dbl> & <dbl> & <dbl> & <dbl> & <dbl> & <dbl> & <dbl> & <dbl> & <dbl> & <chr> & <chr> & <int>\\\\\n",
       "\\hline\n",
       "\t1 & 2022-07-10 & 2022-07-10 & Run & 429 & 3.10 & 2301 & 12.37 & 0.99 & 4.85 & 60.41 & 149.0000 & 5125 & 38.35 & Sunday   & July & 2022\\\\\n",
       "\t2 & 2022-07-09 & 2022-07-09 & Run & 430 & 3.10 & 2005 & 10.77 & 1.17 & 5.57 & 51.45 & 157.0000 & 5261 & 33.42 & Saturday & July & 2022\\\\\n",
       "\t3 & 2022-07-08 & 2022-07-08 & Run & 454 & 3.11 & 1988 & 10.65 & 3.88 & 5.63 & 15.47 & 165.0000 & 5202 & 33.13 & Friday   & July & 2022\\\\\n",
       "\t4 & 2022-06-24 & 2022-06-24 & Run & 400 & 3.10 & 1554 &  8.35 & 0.00 & 7.18 &  0.00 & 141.2874 & 4192 & 25.90 & Friday   & June & 2022\\\\\n",
       "\\end{tabular}\n"
      ],
      "text/markdown": [
       "\n",
       "A data.frame: 4 × 16\n",
       "\n",
       "| <!--/--> | Date.Sub &lt;date&gt; | Date &lt;date&gt; | Activity &lt;chr&gt; | Cal.Burned &lt;dbl&gt; | Distance &lt;dbl&gt; | Duration &lt;dbl&gt; | Avg.Pace &lt;dbl&gt; | Max.Pace &lt;dbl&gt; | Avg.Spd &lt;dbl&gt; | Max.Spd &lt;dbl&gt; | Avg.HR &lt;dbl&gt; | Steps &lt;dbl&gt; | duration &lt;dbl&gt; | day &lt;chr&gt; | month &lt;chr&gt; | year &lt;int&gt; |\n",
       "|---|---|---|---|---|---|---|---|---|---|---|---|---|---|---|---|---|\n",
       "| 1 | 2022-07-10 | 2022-07-10 | Run | 429 | 3.10 | 2301 | 12.37 | 0.99 | 4.85 | 60.41 | 149.0000 | 5125 | 38.35 | Sunday   | July | 2022 |\n",
       "| 2 | 2022-07-09 | 2022-07-09 | Run | 430 | 3.10 | 2005 | 10.77 | 1.17 | 5.57 | 51.45 | 157.0000 | 5261 | 33.42 | Saturday | July | 2022 |\n",
       "| 3 | 2022-07-08 | 2022-07-08 | Run | 454 | 3.11 | 1988 | 10.65 | 3.88 | 5.63 | 15.47 | 165.0000 | 5202 | 33.13 | Friday   | July | 2022 |\n",
       "| 4 | 2022-06-24 | 2022-06-24 | Run | 400 | 3.10 | 1554 |  8.35 | 0.00 | 7.18 |  0.00 | 141.2874 | 4192 | 25.90 | Friday   | June | 2022 |\n",
       "\n"
      ],
      "text/plain": [
       "  Date.Sub   Date       Activity Cal.Burned Distance Duration Avg.Pace Max.Pace\n",
       "1 2022-07-10 2022-07-10 Run      429        3.10     2301     12.37    0.99    \n",
       "2 2022-07-09 2022-07-09 Run      430        3.10     2005     10.77    1.17    \n",
       "3 2022-07-08 2022-07-08 Run      454        3.11     1988     10.65    3.88    \n",
       "4 2022-06-24 2022-06-24 Run      400        3.10     1554      8.35    0.00    \n",
       "  Avg.Spd Max.Spd Avg.HR   Steps duration day      month year\n",
       "1 4.85    60.41   149.0000 5125  38.35    Sunday   July  2022\n",
       "2 5.57    51.45   157.0000 5261  33.42    Saturday July  2022\n",
       "3 5.63    15.47   165.0000 5202  33.13    Friday   July  2022\n",
       "4 7.18     0.00   141.2874 4192  25.90    Friday   June  2022"
      ]
     },
     "metadata": {},
     "output_type": "display_data"
    }
   ],
   "source": [
    "head(df, 4)"
   ]
  },
  {
   "cell_type": "code",
   "execution_count": 720,
   "metadata": {
    "vscode": {
     "languageId": "r"
    }
   },
   "outputs": [
    {
     "name": "stderr",
     "output_type": "stream",
     "text": [
      "`geom_smooth()` using method = 'loess' and formula 'y ~ x'\n",
      "\n",
      "Warning message:\n",
      "\"Computation failed in `stat_smooth()`:\n",
      "there is no package called 'mgcv'\"\n"
     ]
    },
    {
     "data": {
      "image/png": "[encoded data removed]",
      "text/plain": [
       "plot without title"
      ]
     },
     "metadata": {
      "image/png": {
       "height": 420,
       "width": 420
      }
     },
     "output_type": "display_data"
    }
   ],
   "source": [
    "ggplot(data = df, mapping = aes(x = Distance, y = duration, color = month)) + \n",
    "    geom_point() + geom_smooth(aes(color = year))"
   ]
  },
  {
   "cell_type": "code",
   "execution_count": 721,
   "metadata": {
    "vscode": {
     "languageId": "r"
    }
   },
   "outputs": [
    {
     "name": "stderr",
     "output_type": "stream",
     "text": [
      "`stat_bin()` using `bins = 30`. Pick better value with `binwidth`.\n",
      "\n",
      "Warning message:\n",
      "\"Removed 315 rows containing non-finite values (stat_bin).\"\n"
     ]
    },
    {
     "data": {
      "image/png": "[encoded data removed]",
      "text/plain": [
       "plot without title"
      ]
     },
     "metadata": {
      "image/png": {
       "height": 420,
       "width": 420
      }
     },
     "output_type": "display_data"
    }
   ],
   "source": [
    "library(ggplot2)\n",
    "ggplot(data=df, aes(x=Date)) +\n",
    "  geom_histogram(fill=\"steelblue\", color=\"black\") +\n",
    "  ggtitle(\"Histogram of Runs\")"
   ]
  },
  {
   "cell_type": "code",
   "execution_count": 722,
   "metadata": {
    "vscode": {
     "languageId": "r"
    }
   },
   "outputs": [
    {
     "data": {
      "image/png": "[encoded data removed]",
      "text/plain": [
       "plot without title"
      ]
     },
     "metadata": {
      "image/png": {
       "height": 420,
       "width": 420
      }
     },
     "output_type": "display_data"
    }
   ],
   "source": [
    "ggplot(data=df, aes(x=Distance, y=duration, color=year)) + \n",
    "  geom_point()"
   ]
  },
  {
   "cell_type": "code",
   "execution_count": 723,
   "metadata": {
    "vscode": {
     "languageId": "r"
    }
   },
   "outputs": [
    {
     "data": {
      "image/png": "[encoded data removed]",
      "text/plain": [
       "plot without title"
      ]
     },
     "metadata": {
      "image/png": {
       "height": 420,
       "width": 420
      }
     },
     "output_type": "display_data"
    }
   ],
   "source": [
    "ggplot(data=df, aes(x=day, y=Distance)) + \n",
    "  geom_boxplot(fill=\"steelblue\")"
   ]
  },
  {
   "cell_type": "code",
   "execution_count": 724,
   "metadata": {
    "vscode": {
     "languageId": "r"
    }
   },
   "outputs": [],
   "source": [
    "df <- df %>% mutate(new_bin = cut(Distance, breaks=c(0, 3.09, 6.21, 13.09, 15)))\n"
   ]
  },
  {
   "cell_type": "code",
   "execution_count": 725,
   "metadata": {
    "vscode": {
     "languageId": "r"
    }
   },
   "outputs": [],
   "source": [
    "names(df)[names(df) == \"new_bin\"] <- \"Miles\""
   ]
  },
  {
   "cell_type": "code",
   "execution_count": 726,
   "metadata": {
    "vscode": {
     "languageId": "r"
    }
   },
   "outputs": [
    {
     "data": {
      "text/html": [
       "<table class=\"dataframe\">\n",
       "<caption>A data.frame: 1 × 17</caption>\n",
       "<thead>\n",
       "\t<tr><th></th><th scope=col>Date.Sub</th><th scope=col>Date</th><th scope=col>Activity</th><th scope=col>Cal.Burned</th><th scope=col>Distance</th><th scope=col>Duration</th><th scope=col>Avg.Pace</th><th scope=col>Max.Pace</th><th scope=col>Avg.Spd</th><th scope=col>Max.Spd</th><th scope=col>Avg.HR</th><th scope=col>Steps</th><th scope=col>duration</th><th scope=col>day</th><th scope=col>month</th><th scope=col>year</th><th scope=col>Miles</th></tr>\n",
       "\t<tr><th></th><th scope=col>&lt;date&gt;</th><th scope=col>&lt;date&gt;</th><th scope=col>&lt;chr&gt;</th><th scope=col>&lt;dbl&gt;</th><th scope=col>&lt;dbl&gt;</th><th scope=col>&lt;dbl&gt;</th><th scope=col>&lt;dbl&gt;</th><th scope=col>&lt;dbl&gt;</th><th scope=col>&lt;dbl&gt;</th><th scope=col>&lt;dbl&gt;</th><th scope=col>&lt;dbl&gt;</th><th scope=col>&lt;dbl&gt;</th><th scope=col>&lt;dbl&gt;</th><th scope=col>&lt;chr&gt;</th><th scope=col>&lt;chr&gt;</th><th scope=col>&lt;int&gt;</th><th scope=col>&lt;fct&gt;</th></tr>\n",
       "</thead>\n",
       "<tbody>\n",
       "\t<tr><th scope=row>1</th><td>2022-07-10</td><td>2022-07-10</td><td>Run</td><td>429</td><td>3.1</td><td>2301</td><td>12.37</td><td>0.99</td><td>4.85</td><td>60.41</td><td>149</td><td>5125</td><td>38.35</td><td>Sunday</td><td>July</td><td>2022</td><td>(3.09,6.21]</td></tr>\n",
       "</tbody>\n",
       "</table>\n"
      ],
      "text/latex": [
       "A data.frame: 1 × 17\n",
       "\\begin{tabular}{r|lllllllllllllllll}\n",
       "  & Date.Sub & Date & Activity & Cal.Burned & Distance & Duration & Avg.Pace & Max.Pace & Avg.Spd & Max.Spd & Avg.HR & Steps & duration & day & month & year & Miles\\\\\n",
       "  & <date> & <date> & <chr> & <dbl> & <dbl> & <dbl> & <dbl> & <dbl> & <dbl> & <dbl> & <dbl> & <dbl> & <dbl> & <chr> & <chr> & <int> & <fct>\\\\\n",
       "\\hline\n",
       "\t1 & 2022-07-10 & 2022-07-10 & Run & 429 & 3.1 & 2301 & 12.37 & 0.99 & 4.85 & 60.41 & 149 & 5125 & 38.35 & Sunday & July & 2022 & (3.09,6.21{]}\\\\\n",
       "\\end{tabular}\n"
      ],
      "text/markdown": [
       "\n",
       "A data.frame: 1 × 17\n",
       "\n",
       "| <!--/--> | Date.Sub &lt;date&gt; | Date &lt;date&gt; | Activity &lt;chr&gt; | Cal.Burned &lt;dbl&gt; | Distance &lt;dbl&gt; | Duration &lt;dbl&gt; | Avg.Pace &lt;dbl&gt; | Max.Pace &lt;dbl&gt; | Avg.Spd &lt;dbl&gt; | Max.Spd &lt;dbl&gt; | Avg.HR &lt;dbl&gt; | Steps &lt;dbl&gt; | duration &lt;dbl&gt; | day &lt;chr&gt; | month &lt;chr&gt; | year &lt;int&gt; | Miles &lt;fct&gt; |\n",
       "|---|---|---|---|---|---|---|---|---|---|---|---|---|---|---|---|---|---|\n",
       "| 1 | 2022-07-10 | 2022-07-10 | Run | 429 | 3.1 | 2301 | 12.37 | 0.99 | 4.85 | 60.41 | 149 | 5125 | 38.35 | Sunday | July | 2022 | (3.09,6.21] |\n",
       "\n"
      ],
      "text/plain": [
       "  Date.Sub   Date       Activity Cal.Burned Distance Duration Avg.Pace Max.Pace\n",
       "1 2022-07-10 2022-07-10 Run      429        3.1      2301     12.37    0.99    \n",
       "  Avg.Spd Max.Spd Avg.HR Steps duration day    month year Miles      \n",
       "1 4.85    60.41   149    5125  38.35    Sunday July  2022 (3.09,6.21]"
      ]
     },
     "metadata": {},
     "output_type": "display_data"
    }
   ],
   "source": [
    "head(df, 1)"
   ]
  },
  {
   "cell_type": "code",
   "execution_count": 727,
   "metadata": {
    "vscode": {
     "languageId": "r"
    }
   },
   "outputs": [
    {
     "data": {
      "image/png": "[encoded data removed]",
      "text/plain": [
       "plot without title"
      ]
     },
     "metadata": {
      "image/png": {
       "height": 420,
       "width": 420
      }
     },
     "output_type": "display_data"
    }
   ],
   "source": [
    "ggplot(data=df, aes(x=duration, y=Avg.Spd, color=Miles)) + \n",
    "  geom_point()"
   ]
  },
  {
   "cell_type": "code",
   "execution_count": 728,
   "metadata": {
    "vscode": {
     "languageId": "r"
    }
   },
   "outputs": [
    {
     "data": {
      "text/html": [
       "<style>\n",
       ".dl-inline {width: auto; margin:0; padding: 0}\n",
       ".dl-inline>dt, .dl-inline>dd {float: none; width: auto; display: inline-block}\n",
       ".dl-inline>dt::after {content: \":\\0020\"; padding-right: .5ex}\n",
       ".dl-inline>dt:not(:first-of-type) {padding-left: .5ex}\n",
       "</style><dl class=dl-inline><dt>Date.Sub</dt><dd>321</dd><dt>Date</dt><dd>315</dd><dt>Activity</dt><dd>0</dd><dt>Cal.Burned</dt><dd>0</dd><dt>Distance</dt><dd>0</dd><dt>Duration</dt><dd>0</dd><dt>Avg.Pace</dt><dd>0</dd><dt>Max.Pace</dt><dd>0</dd><dt>Avg.Spd</dt><dd>0</dd><dt>Max.Spd</dt><dd>0</dd><dt>Avg.HR</dt><dd>0</dd><dt>Steps</dt><dd>0</dd><dt>duration</dt><dd>0</dd><dt>day</dt><dd>315</dd><dt>month</dt><dd>315</dd><dt>year</dt><dd>321</dd><dt>Miles</dt><dd>23</dd></dl>\n"
      ],
      "text/latex": [
       "\\begin{description*}\n",
       "\\item[Date.Sub] 321\n",
       "\\item[Date] 315\n",
       "\\item[Activity] 0\n",
       "\\item[Cal.Burned] 0\n",
       "\\item[Distance] 0\n",
       "\\item[Duration] 0\n",
       "\\item[Avg.Pace] 0\n",
       "\\item[Max.Pace] 0\n",
       "\\item[Avg.Spd] 0\n",
       "\\item[Max.Spd] 0\n",
       "\\item[Avg.HR] 0\n",
       "\\item[Steps] 0\n",
       "\\item[duration] 0\n",
       "\\item[day] 315\n",
       "\\item[month] 315\n",
       "\\item[year] 321\n",
       "\\item[Miles] 23\n",
       "\\end{description*}\n"
      ],
      "text/markdown": [
       "Date.Sub\n",
       ":   321Date\n",
       ":   315Activity\n",
       ":   0Cal.Burned\n",
       ":   0Distance\n",
       ":   0Duration\n",
       ":   0Avg.Pace\n",
       ":   0Max.Pace\n",
       ":   0Avg.Spd\n",
       ":   0Max.Spd\n",
       ":   0Avg.HR\n",
       ":   0Steps\n",
       ":   0duration\n",
       ":   0day\n",
       ":   315month\n",
       ":   315year\n",
       ":   321Miles\n",
       ":   23\n",
       "\n"
      ],
      "text/plain": [
       "  Date.Sub       Date   Activity Cal.Burned   Distance   Duration   Avg.Pace \n",
       "       321        315          0          0          0          0          0 \n",
       "  Max.Pace    Avg.Spd    Max.Spd     Avg.HR      Steps   duration        day \n",
       "         0          0          0          0          0          0        315 \n",
       "     month       year      Miles \n",
       "       315        321         23 "
      ]
     },
     "metadata": {},
     "output_type": "display_data"
    }
   ],
   "source": [
    "sapply(df, function(x) sum(is.na(x)))\n"
   ]
  },
  {
   "cell_type": "code",
   "execution_count": 729,
   "metadata": {
    "vscode": {
     "languageId": "r"
    }
   },
   "outputs": [
    {
     "data": {
      "text/html": [
       "<table class=\"dataframe\">\n",
       "<caption>A data.frame: 4 × 17</caption>\n",
       "<thead>\n",
       "\t<tr><th></th><th scope=col>Date.Sub</th><th scope=col>Date</th><th scope=col>Activity</th><th scope=col>Cal.Burned</th><th scope=col>Distance</th><th scope=col>Duration</th><th scope=col>Avg.Pace</th><th scope=col>Max.Pace</th><th scope=col>Avg.Spd</th><th scope=col>Max.Spd</th><th scope=col>Avg.HR</th><th scope=col>Steps</th><th scope=col>duration</th><th scope=col>day</th><th scope=col>month</th><th scope=col>year</th><th scope=col>Miles</th></tr>\n",
       "\t<tr><th></th><th scope=col>&lt;date&gt;</th><th scope=col>&lt;date&gt;</th><th scope=col>&lt;chr&gt;</th><th scope=col>&lt;dbl&gt;</th><th scope=col>&lt;dbl&gt;</th><th scope=col>&lt;dbl&gt;</th><th scope=col>&lt;dbl&gt;</th><th scope=col>&lt;dbl&gt;</th><th scope=col>&lt;dbl&gt;</th><th scope=col>&lt;dbl&gt;</th><th scope=col>&lt;dbl&gt;</th><th scope=col>&lt;dbl&gt;</th><th scope=col>&lt;dbl&gt;</th><th scope=col>&lt;chr&gt;</th><th scope=col>&lt;chr&gt;</th><th scope=col>&lt;int&gt;</th><th scope=col>&lt;fct&gt;</th></tr>\n",
       "</thead>\n",
       "<tbody>\n",
       "\t<tr><th scope=row>1</th><td>2022-07-10</td><td>2022-07-10</td><td>Run</td><td>429</td><td>3.10</td><td>2301</td><td>12.37</td><td>0.99</td><td>4.85</td><td>60.41</td><td>149.0000</td><td>5125</td><td>38.35</td><td>Sunday  </td><td>July</td><td>2022</td><td>(3.09,6.21]</td></tr>\n",
       "\t<tr><th scope=row>2</th><td>2022-07-09</td><td>2022-07-09</td><td>Run</td><td>430</td><td>3.10</td><td>2005</td><td>10.77</td><td>1.17</td><td>5.57</td><td>51.45</td><td>157.0000</td><td>5261</td><td>33.42</td><td>Saturday</td><td>July</td><td>2022</td><td>(3.09,6.21]</td></tr>\n",
       "\t<tr><th scope=row>3</th><td>2022-07-08</td><td>2022-07-08</td><td>Run</td><td>454</td><td>3.11</td><td>1988</td><td>10.65</td><td>3.88</td><td>5.63</td><td>15.47</td><td>165.0000</td><td>5202</td><td>33.13</td><td>Friday  </td><td>July</td><td>2022</td><td>(3.09,6.21]</td></tr>\n",
       "\t<tr><th scope=row>4</th><td>2022-06-24</td><td>2022-06-24</td><td>Run</td><td>400</td><td>3.10</td><td>1554</td><td> 8.35</td><td>0.00</td><td>7.18</td><td> 0.00</td><td>141.2874</td><td>4192</td><td>25.90</td><td>Friday  </td><td>June</td><td>2022</td><td>(3.09,6.21]</td></tr>\n",
       "</tbody>\n",
       "</table>\n"
      ],
      "text/latex": [
       "A data.frame: 4 × 17\n",
       "\\begin{tabular}{r|lllllllllllllllll}\n",
       "  & Date.Sub & Date & Activity & Cal.Burned & Distance & Duration & Avg.Pace & Max.Pace & Avg.Spd & Max.Spd & Avg.HR & Steps & duration & day & month & year & Miles\\\\\n",
       "  & <date> & <date> & <chr> & <dbl> & <dbl> & <dbl> & <dbl> & <dbl> & <dbl> & <dbl> & <dbl> & <dbl> & <dbl> & <chr> & <chr> & <int> & <fct>\\\\\n",
       "\\hline\n",
       "\t1 & 2022-07-10 & 2022-07-10 & Run & 429 & 3.10 & 2301 & 12.37 & 0.99 & 4.85 & 60.41 & 149.0000 & 5125 & 38.35 & Sunday   & July & 2022 & (3.09,6.21{]}\\\\\n",
       "\t2 & 2022-07-09 & 2022-07-09 & Run & 430 & 3.10 & 2005 & 10.77 & 1.17 & 5.57 & 51.45 & 157.0000 & 5261 & 33.42 & Saturday & July & 2022 & (3.09,6.21{]}\\\\\n",
       "\t3 & 2022-07-08 & 2022-07-08 & Run & 454 & 3.11 & 1988 & 10.65 & 3.88 & 5.63 & 15.47 & 165.0000 & 5202 & 33.13 & Friday   & July & 2022 & (3.09,6.21{]}\\\\\n",
       "\t4 & 2022-06-24 & 2022-06-24 & Run & 400 & 3.10 & 1554 &  8.35 & 0.00 & 7.18 &  0.00 & 141.2874 & 4192 & 25.90 & Friday   & June & 2022 & (3.09,6.21{]}\\\\\n",
       "\\end{tabular}\n"
      ],
      "text/markdown": [
       "\n",
       "A data.frame: 4 × 17\n",
       "\n",
       "| <!--/--> | Date.Sub &lt;date&gt; | Date &lt;date&gt; | Activity &lt;chr&gt; | Cal.Burned &lt;dbl&gt; | Distance &lt;dbl&gt; | Duration &lt;dbl&gt; | Avg.Pace &lt;dbl&gt; | Max.Pace &lt;dbl&gt; | Avg.Spd &lt;dbl&gt; | Max.Spd &lt;dbl&gt; | Avg.HR &lt;dbl&gt; | Steps &lt;dbl&gt; | duration &lt;dbl&gt; | day &lt;chr&gt; | month &lt;chr&gt; | year &lt;int&gt; | Miles &lt;fct&gt; |\n",
       "|---|---|---|---|---|---|---|---|---|---|---|---|---|---|---|---|---|---|\n",
       "| 1 | 2022-07-10 | 2022-07-10 | Run | 429 | 3.10 | 2301 | 12.37 | 0.99 | 4.85 | 60.41 | 149.0000 | 5125 | 38.35 | Sunday   | July | 2022 | (3.09,6.21] |\n",
       "| 2 | 2022-07-09 | 2022-07-09 | Run | 430 | 3.10 | 2005 | 10.77 | 1.17 | 5.57 | 51.45 | 157.0000 | 5261 | 33.42 | Saturday | July | 2022 | (3.09,6.21] |\n",
       "| 3 | 2022-07-08 | 2022-07-08 | Run | 454 | 3.11 | 1988 | 10.65 | 3.88 | 5.63 | 15.47 | 165.0000 | 5202 | 33.13 | Friday   | July | 2022 | (3.09,6.21] |\n",
       "| 4 | 2022-06-24 | 2022-06-24 | Run | 400 | 3.10 | 1554 |  8.35 | 0.00 | 7.18 |  0.00 | 141.2874 | 4192 | 25.90 | Friday   | June | 2022 | (3.09,6.21] |\n",
       "\n"
      ],
      "text/plain": [
       "  Date.Sub   Date       Activity Cal.Burned Distance Duration Avg.Pace Max.Pace\n",
       "1 2022-07-10 2022-07-10 Run      429        3.10     2301     12.37    0.99    \n",
       "2 2022-07-09 2022-07-09 Run      430        3.10     2005     10.77    1.17    \n",
       "3 2022-07-08 2022-07-08 Run      454        3.11     1988     10.65    3.88    \n",
       "4 2022-06-24 2022-06-24 Run      400        3.10     1554      8.35    0.00    \n",
       "  Avg.Spd Max.Spd Avg.HR   Steps duration day      month year Miles      \n",
       "1 4.85    60.41   149.0000 5125  38.35    Sunday   July  2022 (3.09,6.21]\n",
       "2 5.57    51.45   157.0000 5261  33.42    Saturday July  2022 (3.09,6.21]\n",
       "3 5.63    15.47   165.0000 5202  33.13    Friday   July  2022 (3.09,6.21]\n",
       "4 7.18     0.00   141.2874 4192  25.90    Friday   June  2022 (3.09,6.21]"
      ]
     },
     "metadata": {},
     "output_type": "display_data"
    }
   ],
   "source": [
    "head(df, 4)"
   ]
  },
  {
   "cell_type": "code",
   "execution_count": 730,
   "metadata": {
    "vscode": {
     "languageId": "r"
    }
   },
   "outputs": [
    {
     "data": {
      "text/html": [
       "688"
      ],
      "text/latex": [
       "688"
      ],
      "text/markdown": [
       "688"
      ],
      "text/plain": [
       "[1] 688"
      ]
     },
     "metadata": {},
     "output_type": "display_data"
    }
   ],
   "source": [
    "nrow(df)"
   ]
  },
  {
   "cell_type": "markdown",
   "metadata": {},
   "source": [
    "# Amazon Halo Data"
   ]
  },
  {
   "cell_type": "code",
   "execution_count": 731,
   "metadata": {
    "vscode": {
     "languageId": "r"
    }
   },
   "outputs": [],
   "source": [
    "hdf <- read.csv('C:/Users/coleb/OneDrive/Cosmo/Datasets/Amazon Health Data/Amazon Health Data 3/Activity/Activity_Workouts_1970-01-01--2022-07-10_394cfb3f-ba6a-4173-8490-e7869c2a627d.csv')"
   ]
  },
  {
   "cell_type": "code",
   "execution_count": 732,
   "metadata": {
    "vscode": {
     "languageId": "r"
    }
   },
   "outputs": [
    {
     "data": {
      "text/html": [
       "<table class=\"dataframe\">\n",
       "<caption>A data.frame: 2 × 20</caption>\n",
       "<thead>\n",
       "\t<tr><th></th><th scope=col>Start.Time</th><th scope=col>End.Time</th><th scope=col>Session.Type</th><th scope=col>Session.Subtype</th><th scope=col>Creation.Method</th><th scope=col>Local.Time.Zone.Offset</th><th scope=col>Activity.Score</th><th scope=col>Intense.Duration..ms.</th><th scope=col>Moderate.Duration..ms.</th><th scope=col>Max.Heart.Rate..bpm.</th><th scope=col>Average.Heart.Rate..bpm.</th><th scope=col>Steps</th><th scope=col>Calories</th><th scope=col>Software.Version</th><th scope=col>Software.OS</th><th scope=col>Software.OS.Version</th><th scope=col>Active.Time..ms.</th><th scope=col>Total.Duration..ms.</th><th scope=col>Activity.Pause</th><th scope=col>Session.Source</th></tr>\n",
       "\t<tr><th></th><th scope=col>&lt;chr&gt;</th><th scope=col>&lt;chr&gt;</th><th scope=col>&lt;chr&gt;</th><th scope=col>&lt;chr&gt;</th><th scope=col>&lt;chr&gt;</th><th scope=col>&lt;dbl&gt;</th><th scope=col>&lt;chr&gt;</th><th scope=col>&lt;chr&gt;</th><th scope=col>&lt;chr&gt;</th><th scope=col>&lt;dbl&gt;</th><th scope=col>&lt;dbl&gt;</th><th scope=col>&lt;dbl&gt;</th><th scope=col>&lt;dbl&gt;</th><th scope=col>&lt;chr&gt;</th><th scope=col>&lt;chr&gt;</th><th scope=col>&lt;dbl&gt;</th><th scope=col>&lt;dbl&gt;</th><th scope=col>&lt;dbl&gt;</th><th scope=col>&lt;chr&gt;</th><th scope=col>&lt;chr&gt;</th></tr>\n",
       "</thead>\n",
       "<tbody>\n",
       "\t<tr><th scope=row>1</th><td>2022-07-10T17:12:25.443Z</td><td>2022-07-10T17:35:21.364Z</td><td>WORKOUT</td><td>WALKING</td><td>Automatic</td><td>-6</td><td>22.301899999999996</td><td>274557.0 </td><td>780000.0</td><td>140</td><td>125</td><td>1724</td><td>272</td><td>1.0.118889</td><td>ios</td><td>15.6</td><td>1375921</td><td>1375921</td><td>Not Applicable</td><td>User Logged</td></tr>\n",
       "\t<tr><th scope=row>2</th><td>2022-07-10T16:46:30.782Z</td><td>2022-07-10T17:12:25.405Z</td><td>WORKOUT</td><td>RUNNING</td><td>Automatic</td><td>-6</td><td>47.92118166666667 </td><td>1405405.0</td><td>60000.0 </td><td>169</td><td>150</td><td>3587</td><td>419</td><td>1.0.118889</td><td>ios</td><td>15.6</td><td>1554623</td><td>1554623</td><td>Not Applicable</td><td>User Logged</td></tr>\n",
       "</tbody>\n",
       "</table>\n"
      ],
      "text/latex": [
       "A data.frame: 2 × 20\n",
       "\\begin{tabular}{r|llllllllllllllllllll}\n",
       "  & Start.Time & End.Time & Session.Type & Session.Subtype & Creation.Method & Local.Time.Zone.Offset & Activity.Score & Intense.Duration..ms. & Moderate.Duration..ms. & Max.Heart.Rate..bpm. & Average.Heart.Rate..bpm. & Steps & Calories & Software.Version & Software.OS & Software.OS.Version & Active.Time..ms. & Total.Duration..ms. & Activity.Pause & Session.Source\\\\\n",
       "  & <chr> & <chr> & <chr> & <chr> & <chr> & <dbl> & <chr> & <chr> & <chr> & <dbl> & <dbl> & <dbl> & <dbl> & <chr> & <chr> & <dbl> & <dbl> & <dbl> & <chr> & <chr>\\\\\n",
       "\\hline\n",
       "\t1 & 2022-07-10T17:12:25.443Z & 2022-07-10T17:35:21.364Z & WORKOUT & WALKING & Automatic & -6 & 22.301899999999996 & 274557.0  & 780000.0 & 140 & 125 & 1724 & 272 & 1.0.118889 & ios & 15.6 & 1375921 & 1375921 & Not Applicable & User Logged\\\\\n",
       "\t2 & 2022-07-10T16:46:30.782Z & 2022-07-10T17:12:25.405Z & WORKOUT & RUNNING & Automatic & -6 & 47.92118166666667  & 1405405.0 & 60000.0  & 169 & 150 & 3587 & 419 & 1.0.118889 & ios & 15.6 & 1554623 & 1554623 & Not Applicable & User Logged\\\\\n",
       "\\end{tabular}\n"
      ],
      "text/markdown": [
       "\n",
       "A data.frame: 2 × 20\n",
       "\n",
       "| <!--/--> | Start.Time &lt;chr&gt; | End.Time &lt;chr&gt; | Session.Type &lt;chr&gt; | Session.Subtype &lt;chr&gt; | Creation.Method &lt;chr&gt; | Local.Time.Zone.Offset &lt;dbl&gt; | Activity.Score &lt;chr&gt; | Intense.Duration..ms. &lt;chr&gt; | Moderate.Duration..ms. &lt;chr&gt; | Max.Heart.Rate..bpm. &lt;dbl&gt; | Average.Heart.Rate..bpm. &lt;dbl&gt; | Steps &lt;dbl&gt; | Calories &lt;dbl&gt; | Software.Version &lt;chr&gt; | Software.OS &lt;chr&gt; | Software.OS.Version &lt;dbl&gt; | Active.Time..ms. &lt;dbl&gt; | Total.Duration..ms. &lt;dbl&gt; | Activity.Pause &lt;chr&gt; | Session.Source &lt;chr&gt; |\n",
       "|---|---|---|---|---|---|---|---|---|---|---|---|---|---|---|---|---|---|---|---|---|\n",
       "| 1 | 2022-07-10T17:12:25.443Z | 2022-07-10T17:35:21.364Z | WORKOUT | WALKING | Automatic | -6 | 22.301899999999996 | 274557.0  | 780000.0 | 140 | 125 | 1724 | 272 | 1.0.118889 | ios | 15.6 | 1375921 | 1375921 | Not Applicable | User Logged |\n",
       "| 2 | 2022-07-10T16:46:30.782Z | 2022-07-10T17:12:25.405Z | WORKOUT | RUNNING | Automatic | -6 | 47.92118166666667  | 1405405.0 | 60000.0  | 169 | 150 | 3587 | 419 | 1.0.118889 | ios | 15.6 | 1554623 | 1554623 | Not Applicable | User Logged |\n",
       "\n"
      ],
      "text/plain": [
       "  Start.Time               End.Time                 Session.Type\n",
       "1 2022-07-10T17:12:25.443Z 2022-07-10T17:35:21.364Z WORKOUT     \n",
       "2 2022-07-10T16:46:30.782Z 2022-07-10T17:12:25.405Z WORKOUT     \n",
       "  Session.Subtype Creation.Method Local.Time.Zone.Offset Activity.Score    \n",
       "1 WALKING         Automatic       -6                     22.301899999999996\n",
       "2 RUNNING         Automatic       -6                     47.92118166666667 \n",
       "  Intense.Duration..ms. Moderate.Duration..ms. Max.Heart.Rate..bpm.\n",
       "1 274557.0              780000.0               140                 \n",
       "2 1405405.0             60000.0                169                 \n",
       "  Average.Heart.Rate..bpm. Steps Calories Software.Version Software.OS\n",
       "1 125                      1724  272      1.0.118889       ios        \n",
       "2 150                      3587  419      1.0.118889       ios        \n",
       "  Software.OS.Version Active.Time..ms. Total.Duration..ms. Activity.Pause\n",
       "1 15.6                1375921          1375921             Not Applicable\n",
       "2 15.6                1554623          1554623             Not Applicable\n",
       "  Session.Source\n",
       "1 User Logged   \n",
       "2 User Logged   "
      ]
     },
     "metadata": {},
     "output_type": "display_data"
    }
   ],
   "source": [
    "head(hdf, 2)"
   ]
  },
  {
   "cell_type": "code",
   "execution_count": 733,
   "metadata": {
    "vscode": {
     "languageId": "r"
    }
   },
   "outputs": [],
   "source": [
    "cadf <- within(hdf, rm('Activity.Pause', 'Session.Source', 'Software.OS.Version', 'Software.OS'))"
   ]
  },
  {
   "cell_type": "code",
   "execution_count": 734,
   "metadata": {
    "vscode": {
     "languageId": "r"
    }
   },
   "outputs": [
    {
     "data": {
      "text/html": [
       "<table class=\"dataframe\">\n",
       "<caption>A data.frame: 2 × 16</caption>\n",
       "<thead>\n",
       "\t<tr><th></th><th scope=col>Start.Time</th><th scope=col>End.Time</th><th scope=col>Session.Type</th><th scope=col>Session.Subtype</th><th scope=col>Creation.Method</th><th scope=col>Local.Time.Zone.Offset</th><th scope=col>Activity.Score</th><th scope=col>Intense.Duration..ms.</th><th scope=col>Moderate.Duration..ms.</th><th scope=col>Max.Heart.Rate..bpm.</th><th scope=col>Average.Heart.Rate..bpm.</th><th scope=col>Steps</th><th scope=col>Calories</th><th scope=col>Software.Version</th><th scope=col>Active.Time..ms.</th><th scope=col>Total.Duration..ms.</th></tr>\n",
       "\t<tr><th></th><th scope=col>&lt;chr&gt;</th><th scope=col>&lt;chr&gt;</th><th scope=col>&lt;chr&gt;</th><th scope=col>&lt;chr&gt;</th><th scope=col>&lt;chr&gt;</th><th scope=col>&lt;dbl&gt;</th><th scope=col>&lt;chr&gt;</th><th scope=col>&lt;chr&gt;</th><th scope=col>&lt;chr&gt;</th><th scope=col>&lt;dbl&gt;</th><th scope=col>&lt;dbl&gt;</th><th scope=col>&lt;dbl&gt;</th><th scope=col>&lt;dbl&gt;</th><th scope=col>&lt;chr&gt;</th><th scope=col>&lt;dbl&gt;</th><th scope=col>&lt;dbl&gt;</th></tr>\n",
       "</thead>\n",
       "<tbody>\n",
       "\t<tr><th scope=row>1</th><td>2022-07-10T17:12:25.443Z</td><td>2022-07-10T17:35:21.364Z</td><td>WORKOUT</td><td>WALKING</td><td>Automatic</td><td>-6</td><td>22.301899999999996</td><td>274557.0 </td><td>780000.0</td><td>140</td><td>125</td><td>1724</td><td>272</td><td>1.0.118889</td><td>1375921</td><td>1375921</td></tr>\n",
       "\t<tr><th scope=row>2</th><td>2022-07-10T16:46:30.782Z</td><td>2022-07-10T17:12:25.405Z</td><td>WORKOUT</td><td>RUNNING</td><td>Automatic</td><td>-6</td><td>47.92118166666667 </td><td>1405405.0</td><td>60000.0 </td><td>169</td><td>150</td><td>3587</td><td>419</td><td>1.0.118889</td><td>1554623</td><td>1554623</td></tr>\n",
       "</tbody>\n",
       "</table>\n"
      ],
      "text/latex": [
       "A data.frame: 2 × 16\n",
       "\\begin{tabular}{r|llllllllllllllll}\n",
       "  & Start.Time & End.Time & Session.Type & Session.Subtype & Creation.Method & Local.Time.Zone.Offset & Activity.Score & Intense.Duration..ms. & Moderate.Duration..ms. & Max.Heart.Rate..bpm. & Average.Heart.Rate..bpm. & Steps & Calories & Software.Version & Active.Time..ms. & Total.Duration..ms.\\\\\n",
       "  & <chr> & <chr> & <chr> & <chr> & <chr> & <dbl> & <chr> & <chr> & <chr> & <dbl> & <dbl> & <dbl> & <dbl> & <chr> & <dbl> & <dbl>\\\\\n",
       "\\hline\n",
       "\t1 & 2022-07-10T17:12:25.443Z & 2022-07-10T17:35:21.364Z & WORKOUT & WALKING & Automatic & -6 & 22.301899999999996 & 274557.0  & 780000.0 & 140 & 125 & 1724 & 272 & 1.0.118889 & 1375921 & 1375921\\\\\n",
       "\t2 & 2022-07-10T16:46:30.782Z & 2022-07-10T17:12:25.405Z & WORKOUT & RUNNING & Automatic & -6 & 47.92118166666667  & 1405405.0 & 60000.0  & 169 & 150 & 3587 & 419 & 1.0.118889 & 1554623 & 1554623\\\\\n",
       "\\end{tabular}\n"
      ],
      "text/markdown": [
       "\n",
       "A data.frame: 2 × 16\n",
       "\n",
       "| <!--/--> | Start.Time &lt;chr&gt; | End.Time &lt;chr&gt; | Session.Type &lt;chr&gt; | Session.Subtype &lt;chr&gt; | Creation.Method &lt;chr&gt; | Local.Time.Zone.Offset &lt;dbl&gt; | Activity.Score &lt;chr&gt; | Intense.Duration..ms. &lt;chr&gt; | Moderate.Duration..ms. &lt;chr&gt; | Max.Heart.Rate..bpm. &lt;dbl&gt; | Average.Heart.Rate..bpm. &lt;dbl&gt; | Steps &lt;dbl&gt; | Calories &lt;dbl&gt; | Software.Version &lt;chr&gt; | Active.Time..ms. &lt;dbl&gt; | Total.Duration..ms. &lt;dbl&gt; |\n",
       "|---|---|---|---|---|---|---|---|---|---|---|---|---|---|---|---|---|\n",
       "| 1 | 2022-07-10T17:12:25.443Z | 2022-07-10T17:35:21.364Z | WORKOUT | WALKING | Automatic | -6 | 22.301899999999996 | 274557.0  | 780000.0 | 140 | 125 | 1724 | 272 | 1.0.118889 | 1375921 | 1375921 |\n",
       "| 2 | 2022-07-10T16:46:30.782Z | 2022-07-10T17:12:25.405Z | WORKOUT | RUNNING | Automatic | -6 | 47.92118166666667  | 1405405.0 | 60000.0  | 169 | 150 | 3587 | 419 | 1.0.118889 | 1554623 | 1554623 |\n",
       "\n"
      ],
      "text/plain": [
       "  Start.Time               End.Time                 Session.Type\n",
       "1 2022-07-10T17:12:25.443Z 2022-07-10T17:35:21.364Z WORKOUT     \n",
       "2 2022-07-10T16:46:30.782Z 2022-07-10T17:12:25.405Z WORKOUT     \n",
       "  Session.Subtype Creation.Method Local.Time.Zone.Offset Activity.Score    \n",
       "1 WALKING         Automatic       -6                     22.301899999999996\n",
       "2 RUNNING         Automatic       -6                     47.92118166666667 \n",
       "  Intense.Duration..ms. Moderate.Duration..ms. Max.Heart.Rate..bpm.\n",
       "1 274557.0              780000.0               140                 \n",
       "2 1405405.0             60000.0                169                 \n",
       "  Average.Heart.Rate..bpm. Steps Calories Software.Version Active.Time..ms.\n",
       "1 125                      1724  272      1.0.118889       1375921         \n",
       "2 150                      3587  419      1.0.118889       1554623         \n",
       "  Total.Duration..ms.\n",
       "1 1375921            \n",
       "2 1554623            "
      ]
     },
     "metadata": {},
     "output_type": "display_data"
    }
   ],
   "source": [
    "head(cadf, 2)"
   ]
  },
  {
   "cell_type": "markdown",
   "metadata": {},
   "source": [
    "### Test Split Date"
   ]
  },
  {
   "cell_type": "code",
   "execution_count": 735,
   "metadata": {
    "vscode": {
     "languageId": "r"
    }
   },
   "outputs": [],
   "source": [
    "dtparts <- t(as.data.frame(str_split(cadf$Start.Time, \"T\")))"
   ]
  },
  {
   "cell_type": "code",
   "execution_count": 736,
   "metadata": {
    "vscode": {
     "languageId": "r"
    }
   },
   "outputs": [],
   "source": [
    "row.names(dtparts) = NULL"
   ]
  },
  {
   "cell_type": "code",
   "execution_count": 737,
   "metadata": {
    "vscode": {
     "languageId": "r"
    }
   },
   "outputs": [
    {
     "name": "stderr",
     "output_type": "stream",
     "text": [
      "Warning message:\n",
      "\"package 'chron' is in use and will not be installed\"\n"
     ]
    }
   ],
   "source": [
    "install.packages(\"chron\")\n",
    "library(chron)"
   ]
  },
  {
   "cell_type": "code",
   "execution_count": 738,
   "metadata": {
    "vscode": {
     "languageId": "r"
    }
   },
   "outputs": [],
   "source": [
    "dates = dtparts[,1]\n",
    "times = dtparts[,2]"
   ]
  },
  {
   "cell_type": "code",
   "execution_count": 739,
   "metadata": {
    "vscode": {
     "languageId": "r"
    }
   },
   "outputs": [],
   "source": [
    "dates <- as.Date(dates)\n",
    "dates <- as.data.frame(dates)\n"
   ]
  },
  {
   "cell_type": "code",
   "execution_count": 740,
   "metadata": {
    "vscode": {
     "languageId": "r"
    }
   },
   "outputs": [],
   "source": [
    "names(dates)[names(dates) == \"dates\"] <- \"Date\""
   ]
  },
  {
   "cell_type": "code",
   "execution_count": 741,
   "metadata": {
    "vscode": {
     "languageId": "r"
    }
   },
   "outputs": [],
   "source": [
    "cadf <- as.data.frame(cadf)"
   ]
  },
  {
   "cell_type": "code",
   "execution_count": 742,
   "metadata": {
    "vscode": {
     "languageId": "r"
    }
   },
   "outputs": [
    {
     "data": {
      "text/html": [
       "<table class=\"dataframe\">\n",
       "<caption>A data.frame: 101761 × 17</caption>\n",
       "<thead>\n",
       "\t<tr><th scope=col>Start.Time</th><th scope=col>End.Time</th><th scope=col>Session.Type</th><th scope=col>Session.Subtype</th><th scope=col>Creation.Method</th><th scope=col>Local.Time.Zone.Offset</th><th scope=col>Activity.Score</th><th scope=col>Intense.Duration..ms.</th><th scope=col>Moderate.Duration..ms.</th><th scope=col>Max.Heart.Rate..bpm.</th><th scope=col>Average.Heart.Rate..bpm.</th><th scope=col>Steps</th><th scope=col>Calories</th><th scope=col>Software.Version</th><th scope=col>Active.Time..ms.</th><th scope=col>Total.Duration..ms.</th><th scope=col>Date</th></tr>\n",
       "\t<tr><th scope=col>&lt;chr&gt;</th><th scope=col>&lt;chr&gt;</th><th scope=col>&lt;chr&gt;</th><th scope=col>&lt;chr&gt;</th><th scope=col>&lt;chr&gt;</th><th scope=col>&lt;dbl&gt;</th><th scope=col>&lt;chr&gt;</th><th scope=col>&lt;chr&gt;</th><th scope=col>&lt;chr&gt;</th><th scope=col>&lt;dbl&gt;</th><th scope=col>&lt;dbl&gt;</th><th scope=col>&lt;dbl&gt;</th><th scope=col>&lt;dbl&gt;</th><th scope=col>&lt;chr&gt;</th><th scope=col>&lt;dbl&gt;</th><th scope=col>&lt;dbl&gt;</th><th scope=col>&lt;date&gt;</th></tr>\n",
       "</thead>\n",
       "<tbody>\n",
       "\t<tr><td>2022-07-10T17:12:25.443Z</td><td>2022-07-10T17:35:21.364Z</td><td>WORKOUT</td><td>WALKING</td><td>Automatic</td><td>-6</td><td>22.301899999999996</td><td>274557.0 </td><td>780000.0 </td><td>140</td><td>125</td><td> 1724</td><td> 272</td><td>1.0.118889</td><td>1375921</td><td>1375921</td><td>2022-07-10</td></tr>\n",
       "\t<tr><td>2022-07-10T16:46:30.782Z</td><td>2022-07-10T17:12:25.405Z</td><td>WORKOUT</td><td>RUNNING</td><td>Automatic</td><td>-6</td><td>47.92118166666667 </td><td>1405405.0</td><td>60000.0  </td><td>169</td><td>150</td><td> 3587</td><td> 419</td><td>1.0.118889</td><td>1554623</td><td>1554623</td><td>2022-07-10</td></tr>\n",
       "\t<tr><td>2022-07-09T17:37:00.000Z</td><td>2022-07-09T18:49:00.000Z</td><td>WORKOUT</td><td>OTHER  </td><td>Automatic</td><td>-6</td><td>51.95             </td><td>240000.0 </td><td>2580000.0</td><td>156</td><td>106</td><td> 2485</td><td> 535</td><td>1.0.118889</td><td>4320000</td><td>4320000</td><td>2022-07-10</td></tr>\n",
       "\t<tr><td>2022-07-09T16:52:00.000Z</td><td>2022-07-09T17:03:00.000Z</td><td>WORKOUT</td><td>OTHER  </td><td>Automatic</td><td>-6</td><td>11.05             </td><td>180000.0 </td><td>300000.0 </td><td>151</td><td>124</td><td>  437</td><td> 106</td><td>1.0.118889</td><td> 660000</td><td> 660000</td><td>2022-07-10</td></tr>\n",
       "\t<tr><td>2022-07-09T16:16:06.301Z</td><td>2022-07-09T16:51:58.601Z</td><td>WORKOUT</td><td>RUNNING</td><td>Automatic</td><td>-6</td><td>68.00336666666666 </td><td>2038601.0</td><td>No Data  </td><td>177</td><td>156</td><td> 5483</td><td> 601</td><td>1.0.118889</td><td>2152300</td><td>2152300</td><td>2022-07-10</td></tr>\n",
       "\t<tr><td>2022-07-08T20:35:43.703Z</td><td>2022-07-08T20:55:39.512Z</td><td>WORKOUT</td><td>WALKING</td><td>Automatic</td><td>-6</td><td>2.763580833333333 </td><td>No Data  </td><td>120000.0 </td><td>123</td><td> 97</td><td> 1214</td><td> 149</td><td>1.0.118889</td><td>1195809</td><td>1195809</td><td>2022-07-10</td></tr>\n",
       "\t<tr><td>2022-07-08T19:15:02.729Z</td><td>2022-07-08T19:55:53.044Z</td><td>WORKOUT</td><td>WALKING</td><td>Automatic</td><td>-6</td><td>6.547725833333334 </td><td>No Data  </td><td>300000.0 </td><td>123</td><td> 86</td><td> 2533</td><td> 242</td><td>1.0.118889</td><td>2450315</td><td>2450315</td><td>2022-07-10</td></tr>\n",
       "\t<tr><td>2022-07-08T16:34:41.433Z</td><td>2022-07-08T17:07:32.604Z</td><td>WORKOUT</td><td>RUNNING</td><td>Automatic</td><td>-6</td><td>65.7057           </td><td>1971171.0</td><td>No Data  </td><td>178</td><td>167</td><td> 5100</td><td> 622</td><td>1.0.118889</td><td>1971171</td><td>1971171</td><td>2022-07-10</td></tr>\n",
       "\t<tr><td>2022-06-17T04:54:10.702Z</td><td>2022-06-17T05:18:04.344Z</td><td>WORKOUT</td><td>RUNNING</td><td>Automatic</td><td>-5</td><td>41.16348166666667 </td><td>1140000.0</td><td>184344.0 </td><td>134</td><td>122</td><td> 3311</td><td> 289</td><td>1.0.114475</td><td>1433642</td><td>1433642</td><td>2022-07-10</td></tr>\n",
       "\t<tr><td>2022-06-16T23:48:00.936Z</td><td>2022-06-17T00:30:00.000Z</td><td>WORKOUT</td><td>OTHER  </td><td>Automatic</td><td>-5</td><td>14.99922          </td><td>No Data  </td><td>840000.0 </td><td>121</td><td> 84</td><td> 1038</td><td> 191</td><td>1.0.114475</td><td>2519064</td><td>2519064</td><td>2022-07-10</td></tr>\n",
       "\t<tr><td>2022-06-16T22:22:00.000Z</td><td>2022-06-16T22:53:00.000Z</td><td>WORKOUT</td><td>OTHER  </td><td>Automatic</td><td>-5</td><td>14.6              </td><td>No Data  </td><td>840000.0 </td><td>126</td><td> 94</td><td>  434</td><td> 138</td><td>1.0.114475</td><td>1860000</td><td>1860000</td><td>2022-07-10</td></tr>\n",
       "\t<tr><td>2022-06-16T04:01:00.000Z</td><td>2022-06-16T04:31:00.000Z</td><td>WORKOUT</td><td>OTHER  </td><td>Automatic</td><td>-5</td><td>9.0               </td><td>No Data  </td><td>480000.0 </td><td>112</td><td> 87</td><td>  713</td><td> 136</td><td>1.0.114475</td><td>1800000</td><td>1800000</td><td>2022-07-10</td></tr>\n",
       "\t<tr><td>2022-06-16T02:31:00.722Z</td><td>2022-06-16T03:00:52.406Z</td><td>WORKOUT</td><td>RUNNING</td><td>Automatic</td><td>-5</td><td>56.796265000000005</td><td>1672406.0</td><td>60000.0  </td><td>146</td><td>134</td><td> 4402</td><td> 415</td><td>1.0.114475</td><td>1791684</td><td>1791684</td><td>2022-07-10</td></tr>\n",
       "\t<tr><td>2022-06-15T22:51:00.000Z</td><td>2022-06-15T23:38:00.000Z</td><td>WORKOUT</td><td>OTHER  </td><td>Automatic</td><td>-5</td><td>18.2              </td><td>No Data  </td><td>1020000.0</td><td>125</td><td> 88</td><td> 1230</td><td> 178</td><td>1.0.114475</td><td>2820000</td><td>2820000</td><td>2022-07-10</td></tr>\n",
       "\t<tr><td>2022-06-13T19:42:00.000Z</td><td>2022-06-13T20:13:00.000Z</td><td>WORKOUT</td><td>OTHER  </td><td>Automatic</td><td>-5</td><td>8.7               </td><td>No Data  </td><td>480000.0 </td><td>112</td><td> 91</td><td>  921</td><td> 164</td><td>1.0.114475</td><td>1860000</td><td>1860000</td><td>2022-07-10</td></tr>\n",
       "\t<tr><td>2022-06-12T17:41:00.000Z</td><td>2022-06-12T18:07:00.000Z</td><td>WORKOUT</td><td>OTHER  </td><td>Automatic</td><td>-5</td><td>6.9               </td><td>No Data  </td><td>360000.0 </td><td>111</td><td> 95</td><td>  814</td><td> 117</td><td>1.0.114475</td><td>1560000</td><td>1560000</td><td>2022-07-10</td></tr>\n",
       "\t<tr><td>2022-06-12T16:55:36.194Z</td><td>2022-06-12T17:28:28.047Z</td><td>WORKOUT</td><td>RUNNING</td><td>Automatic</td><td>-5</td><td>63.864216666666664</td><td>1860000.0</td><td>111853.0 </td><td>167</td><td>150</td><td> 5061</td><td> 538</td><td>1.0.114475</td><td>1971853</td><td>1971853</td><td>2022-07-10</td></tr>\n",
       "\t<tr><td>2022-06-11T20:45:19.195Z</td><td>2022-06-11T20:56:17.004Z</td><td>WORKOUT</td><td>WALKING</td><td>Automatic</td><td>-5</td><td>3.3840041666666667</td><td>No Data  </td><td>180000.0 </td><td>113</td><td> 91</td><td>  913</td><td>  77</td><td>1.0.114475</td><td> 657809</td><td> 657809</td><td>2022-07-10</td></tr>\n",
       "\t<tr><td>2022-06-11T16:43:00.000Z</td><td>2022-06-11T16:56:00.000Z</td><td>WORKOUT</td><td>OTHER  </td><td>Automatic</td><td>-5</td><td>14.1              </td><td>300000.0 </td><td>240000.0 </td><td>149</td><td>118</td><td>  224</td><td>  94</td><td>1.0.114475</td><td> 780000</td><td> 780000</td><td>2022-07-10</td></tr>\n",
       "\t<tr><td>2022-06-10T21:25:00.000Z</td><td>2022-06-10T21:40:00.000Z</td><td>WORKOUT</td><td>OTHER  </td><td>Automatic</td><td>-5</td><td>9.2               </td><td>No Data  </td><td>540000.0 </td><td>118</td><td>101</td><td>  195</td><td>  82</td><td>1.0.114475</td><td> 900000</td><td> 900000</td><td>2022-07-10</td></tr>\n",
       "\t<tr><td>2022-06-10T16:57:16.288Z</td><td>2022-06-10T17:16:11.595Z</td><td>WORKOUT</td><td>WALKING</td><td>Automatic</td><td>-5</td><td>0.7096625000000001</td><td>No Data  </td><td>No Data  </td><td>105</td><td> 85</td><td> 1140</td><td> 112</td><td>1.0.114475</td><td>1135307</td><td>1135307</td><td>2022-07-10</td></tr>\n",
       "\t<tr><td>2022-06-10T12:34:13.628Z</td><td>2022-06-10T12:53:08.867Z</td><td>WORKOUT</td><td>WALKING</td><td>Automatic</td><td>-5</td><td>17.822866666666666</td><td>60000.0  </td><td>946372.0 </td><td>142</td><td>116</td><td> 1412</td><td> 201</td><td>1.0.114475</td><td>1135239</td><td>1135239</td><td>2022-07-10</td></tr>\n",
       "\t<tr><td>2022-06-10T11:30:31.296Z</td><td>2022-06-10T12:34:13.612Z</td><td>WORKOUT</td><td>RUNNING</td><td>Automatic</td><td>-5</td><td>123.25078666666667</td><td>3600000.0</td><td>193612.0 </td><td>170</td><td>154</td><td> 9843</td><td>1145</td><td>1.0.114475</td><td>3822316</td><td>3822316</td><td>2022-07-10</td></tr>\n",
       "\t<tr><td>2022-06-08T04:11:34.259Z</td><td>2022-06-08T04:46:24.522Z</td><td>WORKOUT</td><td>RUNNING</td><td>Automatic</td><td>-5</td><td>58.17145083333333 </td><td>1620000.0</td><td>240000.0 </td><td>140</td><td>124</td><td> 4611</td><td> 457</td><td>1.0.114475</td><td>2090263</td><td>2090263</td><td>2022-07-10</td></tr>\n",
       "\t<tr><td>2022-06-06T13:11:57.816Z</td><td>2022-06-06T13:23:00.000Z</td><td>WORKOUT</td><td>OTHER  </td><td>Automatic</td><td>-5</td><td>6.236400000000001 </td><td>No Data  </td><td>362184.0 </td><td>107</td><td> 96</td><td>  430</td><td>  67</td><td>1.0.113437</td><td> 662184</td><td> 662184</td><td>2022-07-10</td></tr>\n",
       "\t<tr><td>2022-06-06T12:16:03.186Z</td><td>2022-06-06T13:09:48.263Z</td><td>WORKOUT</td><td>RUNNING</td><td>Automatic</td><td>-5</td><td>100.85438333333333</td><td>2940000.0</td><td>168263.0 </td><td>156</td><td>143</td><td> 8185</td><td> 866</td><td>1.0.113437</td><td>3225077</td><td>3225077</td><td>2022-07-10</td></tr>\n",
       "\t<tr><td>2022-06-05T21:33:00.000Z</td><td>2022-06-05T22:02:00.000Z</td><td>WORKOUT</td><td>OTHER  </td><td>Automatic</td><td>-5</td><td>7.7               </td><td>No Data  </td><td>420000.0 </td><td>130</td><td> 86</td><td>  753</td><td> 147</td><td>1.0.113437</td><td>1740000</td><td>1740000</td><td>2022-07-10</td></tr>\n",
       "\t<tr><td>2022-06-05T19:31:55.042Z</td><td>2022-06-05T20:15:45.549Z</td><td>WORKOUT</td><td>WALKING</td><td>Automatic</td><td>-5</td><td>33.62059083333333 </td><td>No Data  </td><td>1984958.0</td><td>119</td><td>107</td><td> 3936</td><td> 428</td><td>1.0.113437</td><td>2630507</td><td>2630507</td><td>2022-07-10</td></tr>\n",
       "\t<tr><td>2022-06-05T19:06:01.946Z</td><td>2022-06-05T19:31:55.040Z</td><td>WORKOUT</td><td>RUNNING</td><td>Automatic</td><td>-5</td><td>48.852466666666665</td><td>1378054.0</td><td>175040.0 </td><td>155</td><td>147</td><td> 3921</td><td> 439</td><td>1.0.113437</td><td>1553094</td><td>1553094</td><td>2022-07-10</td></tr>\n",
       "\t<tr><td>2022-06-04T13:59:58.608Z</td><td>2022-06-04T15:09:38.904Z</td><td>WORKOUT</td><td>RUNNING</td><td>Automatic</td><td>-5</td><td>135.6716          </td><td>3960000.0</td><td>220296.0 </td><td>170</td><td>154</td><td>10524</td><td>1238</td><td>1.0.113437</td><td>4180296</td><td>4180296</td><td>2022-07-10</td></tr>\n",
       "\t<tr><td>⋮</td><td>⋮</td><td>⋮</td><td>⋮</td><td>⋮</td><td>⋮</td><td>⋮</td><td>⋮</td><td>⋮</td><td>⋮</td><td>⋮</td><td>⋮</td><td>⋮</td><td>⋮</td><td>⋮</td><td>⋮</td><td>⋮</td></tr>\n",
       "\t<tr><td>2021-10-09T13:31:51.705Z</td><td>2021-10-09T14:04:07.097Z</td><td>WORKOUT</td><td>RUNNING</td><td>Automatic</td><td>-5</td><td>60.16828333333333  </td><td>1740000.0</td><td>127097.0 </td><td>182</td><td>159</td><td>4524</td><td>549</td><td>1.0.86939</td><td>1935392</td><td>1935392</td><td>2021-09-23</td></tr>\n",
       "\t<tr><td>2021-10-09T12:28:42.275Z</td><td>2021-10-09T12:38:47.617Z</td><td>WORKOUT</td><td>WALKING</td><td>Automatic</td><td>-5</td><td>0.43968083333333335</td><td>No Data  </td><td>No Data  </td><td> 83</td><td> 70</td><td> 656</td><td> 36</td><td>1.0.86939</td><td> 605342</td><td> 605342</td><td>2021-09-23</td></tr>\n",
       "\t<tr><td>2021-10-08T11:44:26.132Z</td><td>2021-10-08T12:16:50.498Z</td><td>WORKOUT</td><td>RUNNING</td><td>Automatic</td><td>-5</td><td>61.4061            </td><td>1740000.0</td><td>204366.0 </td><td>173</td><td>150</td><td>4658</td><td>500</td><td>1.0.86939</td><td>1944366</td><td>1944366</td><td>2021-09-23</td></tr>\n",
       "\t<tr><td>2021-10-06T12:17:00.000Z</td><td>2021-10-06T12:31:00.000Z</td><td>WORKOUT</td><td>OTHER  </td><td>Automatic</td><td>-5</td><td>13.15              </td><td>120000.0 </td><td>540000.0 </td><td>171</td><td>108</td><td> 460</td><td>101</td><td>1.0.86939</td><td> 840000</td><td> 840000</td><td>2021-09-23</td></tr>\n",
       "\t<tr><td>2021-10-06T11:46:51.974Z</td><td>2021-10-06T12:16:56.339Z</td><td>WORKOUT</td><td>RUNNING</td><td>Automatic</td><td>-5</td><td>57.934655          </td><td>1736339.0</td><td>No Data  </td><td>174</td><td>147</td><td>4867</td><td>449</td><td>1.0.86939</td><td>1804365</td><td>1804365</td><td>2021-09-23</td></tr>\n",
       "\t<tr><td>2021-10-04T23:36:45.606Z</td><td>2021-10-05T00:07:38.643Z</td><td>WORKOUT</td><td>RUNNING</td><td>Automatic</td><td>-5</td><td>55.0941975         </td><td>1560000.0</td><td>180000.0 </td><td>164</td><td>145</td><td>4388</td><td>452</td><td>1.0.86939</td><td>1853037</td><td>1853037</td><td>2021-09-23</td></tr>\n",
       "\t<tr><td>2021-10-03T20:20:23.161Z</td><td>2021-10-03T20:38:26.341Z</td><td>WORKOUT</td><td>WALKING</td><td>Automatic</td><td>-5</td><td>7.969715833333333  </td><td>No Data  </td><td>446341.0 </td><td>117</td><td> 92</td><td>1488</td><td>115</td><td>1.0.86939</td><td>1083180</td><td>1083180</td><td>2021-09-23</td></tr>\n",
       "\t<tr><td>2021-10-03T19:38:33.164Z</td><td>2021-10-03T19:57:38.353Z</td><td>WORKOUT</td><td>WALKING</td><td>Automatic</td><td>-5</td><td>2.8543241666666668 </td><td>No Data  </td><td>120000.0 </td><td>109</td><td> 82</td><td>1267</td><td> 99</td><td>1.0.86939</td><td>1145189</td><td>1145189</td><td>2021-09-23</td></tr>\n",
       "\t<tr><td>2021-10-03T17:30:35.474Z</td><td>2021-10-03T17:50:58.678Z</td><td>WORKOUT</td><td>WALKING</td><td>Automatic</td><td>-5</td><td>1.9                </td><td>No Data  </td><td>60000.0  </td><td>101</td><td> 74</td><td>1732</td><td> 93</td><td>1.0.86939</td><td>1223204</td><td>1223204</td><td>2021-09-23</td></tr>\n",
       "\t<tr><td>2021-10-03T16:56:18.037Z</td><td>2021-10-03T17:16:25.532Z</td><td>WORKOUT</td><td>WALKING</td><td>Automatic</td><td>-5</td><td>4.634969166666667  </td><td>No Data  </td><td>240000.0 </td><td>112</td><td> 78</td><td>1239</td><td> 93</td><td>1.0.86939</td><td>1207495</td><td>1207495</td><td>2021-09-23</td></tr>\n",
       "\t<tr><td>2021-10-03T13:36:33.072Z</td><td>2021-10-03T14:08:32.948Z</td><td>WORKOUT</td><td>RUNNING</td><td>Automatic</td><td>-5</td><td>57.62157333333333  </td><td>1620000.0</td><td>212948.0 </td><td>165</td><td>144</td><td>4457</td><td>462</td><td>1.0.86939</td><td>1919876</td><td>1919876</td><td>2021-09-23</td></tr>\n",
       "\t<tr><td>2021-10-02T20:01:51.215Z</td><td>2021-10-02T20:34:45.285Z</td><td>WORKOUT</td><td>RUNNING</td><td>Automatic</td><td>-5</td><td>59.76207083333333  </td><td>1620000.0</td><td>345285.0 </td><td>153</td><td>137</td><td>4481</td><td>444</td><td>1.0.86939</td><td>1974070</td><td>1974070</td><td>2021-09-23</td></tr>\n",
       "\t<tr><td>2021-09-29T13:14:00.000Z</td><td>2021-09-29T13:56:00.000Z</td><td>WORKOUT</td><td>OTHER  </td><td>Automatic</td><td>-5</td><td>20.7               </td><td>No Data  </td><td>1200000.0</td><td>121</td><td> 91</td><td>1512</td><td>207</td><td>1.0.86939</td><td>2520000</td><td>2520000</td><td>2021-09-23</td></tr>\n",
       "\t<tr><td>2021-09-29T11:58:35.741Z</td><td>2021-09-29T12:09:31.260Z</td><td>WORKOUT</td><td>RUNNING</td><td>Automatic</td><td>-5</td><td>16.404316666666666 </td><td>420000.0 </td><td>144259.0 </td><td>160</td><td>134</td><td>1305</td><td>145</td><td>1.0.86939</td><td> 655519</td><td> 655519</td><td>2021-09-23</td></tr>\n",
       "\t<tr><td>2021-09-29T11:24:00.000Z</td><td>2021-09-29T12:00:00.000Z</td><td>WORKOUT</td><td>OTHER  </td><td>Automatic</td><td>-5</td><td>16.85              </td><td>120000.0 </td><td>720000.0 </td><td>139</td><td> 94</td><td>1677</td><td>229</td><td>1.0.86939</td><td>2160000</td><td>2160000</td><td>2021-09-23</td></tr>\n",
       "\t<tr><td>2021-09-29T10:20:00.000Z</td><td>2021-09-29T10:44:00.000Z</td><td>WORKOUT</td><td>OTHER  </td><td>Automatic</td><td>-5</td><td>26.3               </td><td>480000.0 </td><td>600000.0 </td><td>149</td><td>111</td><td>2298</td><td>227</td><td>1.0.86939</td><td>1440000</td><td>1440000</td><td>2021-09-23</td></tr>\n",
       "\t<tr><td>2021-09-29T08:09:00.000Z</td><td>2021-09-29T08:30:00.000Z</td><td>WORKOUT</td><td>OTHER  </td><td>Automatic</td><td>-5</td><td>11.05              </td><td>No Data  </td><td>660000.0 </td><td>134</td><td>111</td><td>  27</td><td>103</td><td>1.0.86939</td><td>1260000</td><td>1260000</td><td>2021-09-23</td></tr>\n",
       "\t<tr><td>2021-09-28T12:57:15.873Z</td><td>2021-09-28T13:25:28.212Z</td><td>WORKOUT</td><td>WALKING</td><td>Automatic</td><td>-5</td><td>10.60896           </td><td>No Data  </td><td>584127.0 </td><td>121</td><td> 94</td><td>1609</td><td> 94</td><td>1.0.86939</td><td>1692339</td><td>1692339</td><td>2021-09-23</td></tr>\n",
       "\t<tr><td>2021-09-28T11:56:00.000Z</td><td>2021-09-28T12:42:00.000Z</td><td>WORKOUT</td><td>OTHER  </td><td>Automatic</td><td>-5</td><td>16.2               </td><td>No Data  </td><td>900000.0 </td><td>113</td><td> 91</td><td>2089</td><td>152</td><td>1.0.86939</td><td>2760000</td><td>2760000</td><td>2021-09-23</td></tr>\n",
       "\t<tr><td>2021-09-28T10:57:00.000Z</td><td>2021-09-28T11:22:00.000Z</td><td>WORKOUT</td><td>OTHER  </td><td>Automatic</td><td>-5</td><td>16.4               </td><td>No Data  </td><td>960000.0 </td><td>136</td><td> 98</td><td> 680</td><td> 84</td><td>1.0.86939</td><td>1500000</td><td>1500000</td><td>2021-09-23</td></tr>\n",
       "\t<tr><td>2021-09-28T10:05:11.133Z</td><td>2021-09-28T10:56:40.224Z</td><td>WORKOUT</td><td>RUNNING</td><td>Automatic</td><td>-5</td><td>94.7111225         </td><td>2640000.0</td><td>400224.0 </td><td>166</td><td>148</td><td>7611</td><td>548</td><td>1.0.86939</td><td>3089091</td><td>3089091</td><td>2021-09-23</td></tr>\n",
       "\t<tr><td>2021-09-27T12:59:00.000Z</td><td>2021-09-27T13:25:00.000Z</td><td>WORKOUT</td><td>OTHER  </td><td>Automatic</td><td>-5</td><td>14.3               </td><td>No Data  </td><td>840000.0 </td><td>111</td><td> 95</td><td> 718</td><td> 76</td><td>1.0.86939</td><td>1560000</td><td>1560000</td><td>2021-09-23</td></tr>\n",
       "\t<tr><td>2021-09-27T12:19:08.473Z</td><td>2021-09-27T12:58:47.413Z</td><td>WORKOUT</td><td>RUNNING</td><td>Automatic</td><td>-5</td><td>72.83315583333334  </td><td>2040000.0</td><td>287413.0 </td><td>159</td><td>143</td><td>5680</td><td>396</td><td>1.0.86939</td><td>2378940</td><td>2378940</td><td>2021-09-23</td></tr>\n",
       "\t<tr><td>2021-09-26T15:24:57.815Z</td><td>2021-09-26T16:03:50.992Z</td><td>WORKOUT</td><td>RUNNING</td><td>Automatic</td><td>-5</td><td>72.90168750000001  </td><td>2100000.0</td><td>170992.0 </td><td>165</td><td>147</td><td>5740</td><td>412</td><td>1.0.86939</td><td>2333177</td><td>2333177</td><td>2021-09-23</td></tr>\n",
       "\t<tr><td>2021-09-26T15:24:57.815Z</td><td>2021-09-26T16:03:50.992Z</td><td>WORKOUT</td><td>RUNNING</td><td>Automatic</td><td>-5</td><td>72.90168750000001  </td><td>2100000.0</td><td>170992.0 </td><td>165</td><td>147</td><td>5740</td><td>412</td><td>1.0.86939</td><td>2333177</td><td>2333177</td><td>2021-09-23</td></tr>\n",
       "\t<tr><td>2021-09-25T16:42:43.950Z</td><td>2021-09-25T17:20:33.052Z</td><td>WORKOUT</td><td>RUNNING</td><td>Automatic</td><td>-5</td><td>72.41923333333332  </td><td>2133052.0</td><td>76050.0  </td><td>171</td><td>148</td><td>5685</td><td>400</td><td>1.0.86939</td><td>2269102</td><td>2269102</td><td>2021-09-23</td></tr>\n",
       "\t<tr><td>2021-09-24T13:14:00.000Z</td><td>2021-09-24T13:52:00.000Z</td><td>WORKOUT</td><td>OTHER  </td><td>Automatic</td><td>-5</td><td>26.4               </td><td>No Data  </td><td>1560000.0</td><td>111</td><td> 97</td><td> 999</td><td>117</td><td>1.0.86939</td><td>2280000</td><td>2280000</td><td>2021-09-23</td></tr>\n",
       "\t<tr><td>2021-09-24T12:30:07.142Z</td><td>2021-09-24T13:13:14.739Z</td><td>WORKOUT</td><td>RUNNING</td><td>Automatic</td><td>-5</td><td>76.28969833333333  </td><td>2040000.0</td><td>494739.0 </td><td>172</td><td>150</td><td>6007</td><td>472</td><td>1.0.86939</td><td>2587597</td><td>2587597</td><td>2021-09-23</td></tr>\n",
       "\t<tr><td>2021-09-23T13:00:00.000Z</td><td>2021-09-23T13:27:00.000Z</td><td>WORKOUT</td><td>OTHER  </td><td>Automatic</td><td>-5</td><td>16.35              </td><td>No Data  </td><td>960000.0 </td><td>120</td><td> 95</td><td> 421</td><td> 82</td><td>1.0.86939</td><td>1620000</td><td>1620000</td><td>2021-09-23</td></tr>\n",
       "\t<tr><td>2021-09-23T12:18:41.932Z</td><td>2021-09-23T12:59:29.798Z</td><td>WORKOUT</td><td>RUNNING</td><td>Automatic</td><td>-5</td><td>76.51169           </td><td>2160000.0</td><td>269798.0 </td><td>165</td><td>143</td><td>5979</td><td>413</td><td>1.0.86939</td><td>2447866</td><td>2447866</td><td>2021-09-23</td></tr>\n",
       "</tbody>\n",
       "</table>\n"
      ],
      "text/latex": [
       "A data.frame: 101761 × 17\n",
       "\\begin{tabular}{lllllllllllllllll}\n",
       " Start.Time & End.Time & Session.Type & Session.Subtype & Creation.Method & Local.Time.Zone.Offset & Activity.Score & Intense.Duration..ms. & Moderate.Duration..ms. & Max.Heart.Rate..bpm. & Average.Heart.Rate..bpm. & Steps & Calories & Software.Version & Active.Time..ms. & Total.Duration..ms. & Date\\\\\n",
       " <chr> & <chr> & <chr> & <chr> & <chr> & <dbl> & <chr> & <chr> & <chr> & <dbl> & <dbl> & <dbl> & <dbl> & <chr> & <dbl> & <dbl> & <date>\\\\\n",
       "\\hline\n",
       "\t 2022-07-10T17:12:25.443Z & 2022-07-10T17:35:21.364Z & WORKOUT & WALKING & Automatic & -6 & 22.301899999999996 & 274557.0  & 780000.0  & 140 & 125 &  1724 &  272 & 1.0.118889 & 1375921 & 1375921 & 2022-07-10\\\\\n",
       "\t 2022-07-10T16:46:30.782Z & 2022-07-10T17:12:25.405Z & WORKOUT & RUNNING & Automatic & -6 & 47.92118166666667  & 1405405.0 & 60000.0   & 169 & 150 &  3587 &  419 & 1.0.118889 & 1554623 & 1554623 & 2022-07-10\\\\\n",
       "\t 2022-07-09T17:37:00.000Z & 2022-07-09T18:49:00.000Z & WORKOUT & OTHER   & Automatic & -6 & 51.95              & 240000.0  & 2580000.0 & 156 & 106 &  2485 &  535 & 1.0.118889 & 4320000 & 4320000 & 2022-07-10\\\\\n",
       "\t 2022-07-09T16:52:00.000Z & 2022-07-09T17:03:00.000Z & WORKOUT & OTHER   & Automatic & -6 & 11.05              & 180000.0  & 300000.0  & 151 & 124 &   437 &  106 & 1.0.118889 &  660000 &  660000 & 2022-07-10\\\\\n",
       "\t 2022-07-09T16:16:06.301Z & 2022-07-09T16:51:58.601Z & WORKOUT & RUNNING & Automatic & -6 & 68.00336666666666  & 2038601.0 & No Data   & 177 & 156 &  5483 &  601 & 1.0.118889 & 2152300 & 2152300 & 2022-07-10\\\\\n",
       "\t 2022-07-08T20:35:43.703Z & 2022-07-08T20:55:39.512Z & WORKOUT & WALKING & Automatic & -6 & 2.763580833333333  & No Data   & 120000.0  & 123 &  97 &  1214 &  149 & 1.0.118889 & 1195809 & 1195809 & 2022-07-10\\\\\n",
       "\t 2022-07-08T19:15:02.729Z & 2022-07-08T19:55:53.044Z & WORKOUT & WALKING & Automatic & -6 & 6.547725833333334  & No Data   & 300000.0  & 123 &  86 &  2533 &  242 & 1.0.118889 & 2450315 & 2450315 & 2022-07-10\\\\\n",
       "\t 2022-07-08T16:34:41.433Z & 2022-07-08T17:07:32.604Z & WORKOUT & RUNNING & Automatic & -6 & 65.7057            & 1971171.0 & No Data   & 178 & 167 &  5100 &  622 & 1.0.118889 & 1971171 & 1971171 & 2022-07-10\\\\\n",
       "\t 2022-06-17T04:54:10.702Z & 2022-06-17T05:18:04.344Z & WORKOUT & RUNNING & Automatic & -5 & 41.16348166666667  & 1140000.0 & 184344.0  & 134 & 122 &  3311 &  289 & 1.0.114475 & 1433642 & 1433642 & 2022-07-10\\\\\n",
       "\t 2022-06-16T23:48:00.936Z & 2022-06-17T00:30:00.000Z & WORKOUT & OTHER   & Automatic & -5 & 14.99922           & No Data   & 840000.0  & 121 &  84 &  1038 &  191 & 1.0.114475 & 2519064 & 2519064 & 2022-07-10\\\\\n",
       "\t 2022-06-16T22:22:00.000Z & 2022-06-16T22:53:00.000Z & WORKOUT & OTHER   & Automatic & -5 & 14.6               & No Data   & 840000.0  & 126 &  94 &   434 &  138 & 1.0.114475 & 1860000 & 1860000 & 2022-07-10\\\\\n",
       "\t 2022-06-16T04:01:00.000Z & 2022-06-16T04:31:00.000Z & WORKOUT & OTHER   & Automatic & -5 & 9.0                & No Data   & 480000.0  & 112 &  87 &   713 &  136 & 1.0.114475 & 1800000 & 1800000 & 2022-07-10\\\\\n",
       "\t 2022-06-16T02:31:00.722Z & 2022-06-16T03:00:52.406Z & WORKOUT & RUNNING & Automatic & -5 & 56.796265000000005 & 1672406.0 & 60000.0   & 146 & 134 &  4402 &  415 & 1.0.114475 & 1791684 & 1791684 & 2022-07-10\\\\\n",
       "\t 2022-06-15T22:51:00.000Z & 2022-06-15T23:38:00.000Z & WORKOUT & OTHER   & Automatic & -5 & 18.2               & No Data   & 1020000.0 & 125 &  88 &  1230 &  178 & 1.0.114475 & 2820000 & 2820000 & 2022-07-10\\\\\n",
       "\t 2022-06-13T19:42:00.000Z & 2022-06-13T20:13:00.000Z & WORKOUT & OTHER   & Automatic & -5 & 8.7                & No Data   & 480000.0  & 112 &  91 &   921 &  164 & 1.0.114475 & 1860000 & 1860000 & 2022-07-10\\\\\n",
       "\t 2022-06-12T17:41:00.000Z & 2022-06-12T18:07:00.000Z & WORKOUT & OTHER   & Automatic & -5 & 6.9                & No Data   & 360000.0  & 111 &  95 &   814 &  117 & 1.0.114475 & 1560000 & 1560000 & 2022-07-10\\\\\n",
       "\t 2022-06-12T16:55:36.194Z & 2022-06-12T17:28:28.047Z & WORKOUT & RUNNING & Automatic & -5 & 63.864216666666664 & 1860000.0 & 111853.0  & 167 & 150 &  5061 &  538 & 1.0.114475 & 1971853 & 1971853 & 2022-07-10\\\\\n",
       "\t 2022-06-11T20:45:19.195Z & 2022-06-11T20:56:17.004Z & WORKOUT & WALKING & Automatic & -5 & 3.3840041666666667 & No Data   & 180000.0  & 113 &  91 &   913 &   77 & 1.0.114475 &  657809 &  657809 & 2022-07-10\\\\\n",
       "\t 2022-06-11T16:43:00.000Z & 2022-06-11T16:56:00.000Z & WORKOUT & OTHER   & Automatic & -5 & 14.1               & 300000.0  & 240000.0  & 149 & 118 &   224 &   94 & 1.0.114475 &  780000 &  780000 & 2022-07-10\\\\\n",
       "\t 2022-06-10T21:25:00.000Z & 2022-06-10T21:40:00.000Z & WORKOUT & OTHER   & Automatic & -5 & 9.2                & No Data   & 540000.0  & 118 & 101 &   195 &   82 & 1.0.114475 &  900000 &  900000 & 2022-07-10\\\\\n",
       "\t 2022-06-10T16:57:16.288Z & 2022-06-10T17:16:11.595Z & WORKOUT & WALKING & Automatic & -5 & 0.7096625000000001 & No Data   & No Data   & 105 &  85 &  1140 &  112 & 1.0.114475 & 1135307 & 1135307 & 2022-07-10\\\\\n",
       "\t 2022-06-10T12:34:13.628Z & 2022-06-10T12:53:08.867Z & WORKOUT & WALKING & Automatic & -5 & 17.822866666666666 & 60000.0   & 946372.0  & 142 & 116 &  1412 &  201 & 1.0.114475 & 1135239 & 1135239 & 2022-07-10\\\\\n",
       "\t 2022-06-10T11:30:31.296Z & 2022-06-10T12:34:13.612Z & WORKOUT & RUNNING & Automatic & -5 & 123.25078666666667 & 3600000.0 & 193612.0  & 170 & 154 &  9843 & 1145 & 1.0.114475 & 3822316 & 3822316 & 2022-07-10\\\\\n",
       "\t 2022-06-08T04:11:34.259Z & 2022-06-08T04:46:24.522Z & WORKOUT & RUNNING & Automatic & -5 & 58.17145083333333  & 1620000.0 & 240000.0  & 140 & 124 &  4611 &  457 & 1.0.114475 & 2090263 & 2090263 & 2022-07-10\\\\\n",
       "\t 2022-06-06T13:11:57.816Z & 2022-06-06T13:23:00.000Z & WORKOUT & OTHER   & Automatic & -5 & 6.236400000000001  & No Data   & 362184.0  & 107 &  96 &   430 &   67 & 1.0.113437 &  662184 &  662184 & 2022-07-10\\\\\n",
       "\t 2022-06-06T12:16:03.186Z & 2022-06-06T13:09:48.263Z & WORKOUT & RUNNING & Automatic & -5 & 100.85438333333333 & 2940000.0 & 168263.0  & 156 & 143 &  8185 &  866 & 1.0.113437 & 3225077 & 3225077 & 2022-07-10\\\\\n",
       "\t 2022-06-05T21:33:00.000Z & 2022-06-05T22:02:00.000Z & WORKOUT & OTHER   & Automatic & -5 & 7.7                & No Data   & 420000.0  & 130 &  86 &   753 &  147 & 1.0.113437 & 1740000 & 1740000 & 2022-07-10\\\\\n",
       "\t 2022-06-05T19:31:55.042Z & 2022-06-05T20:15:45.549Z & WORKOUT & WALKING & Automatic & -5 & 33.62059083333333  & No Data   & 1984958.0 & 119 & 107 &  3936 &  428 & 1.0.113437 & 2630507 & 2630507 & 2022-07-10\\\\\n",
       "\t 2022-06-05T19:06:01.946Z & 2022-06-05T19:31:55.040Z & WORKOUT & RUNNING & Automatic & -5 & 48.852466666666665 & 1378054.0 & 175040.0  & 155 & 147 &  3921 &  439 & 1.0.113437 & 1553094 & 1553094 & 2022-07-10\\\\\n",
       "\t 2022-06-04T13:59:58.608Z & 2022-06-04T15:09:38.904Z & WORKOUT & RUNNING & Automatic & -5 & 135.6716           & 3960000.0 & 220296.0  & 170 & 154 & 10524 & 1238 & 1.0.113437 & 4180296 & 4180296 & 2022-07-10\\\\\n",
       "\t ⋮ & ⋮ & ⋮ & ⋮ & ⋮ & ⋮ & ⋮ & ⋮ & ⋮ & ⋮ & ⋮ & ⋮ & ⋮ & ⋮ & ⋮ & ⋮ & ⋮\\\\\n",
       "\t 2021-10-09T13:31:51.705Z & 2021-10-09T14:04:07.097Z & WORKOUT & RUNNING & Automatic & -5 & 60.16828333333333   & 1740000.0 & 127097.0  & 182 & 159 & 4524 & 549 & 1.0.86939 & 1935392 & 1935392 & 2021-09-23\\\\\n",
       "\t 2021-10-09T12:28:42.275Z & 2021-10-09T12:38:47.617Z & WORKOUT & WALKING & Automatic & -5 & 0.43968083333333335 & No Data   & No Data   &  83 &  70 &  656 &  36 & 1.0.86939 &  605342 &  605342 & 2021-09-23\\\\\n",
       "\t 2021-10-08T11:44:26.132Z & 2021-10-08T12:16:50.498Z & WORKOUT & RUNNING & Automatic & -5 & 61.4061             & 1740000.0 & 204366.0  & 173 & 150 & 4658 & 500 & 1.0.86939 & 1944366 & 1944366 & 2021-09-23\\\\\n",
       "\t 2021-10-06T12:17:00.000Z & 2021-10-06T12:31:00.000Z & WORKOUT & OTHER   & Automatic & -5 & 13.15               & 120000.0  & 540000.0  & 171 & 108 &  460 & 101 & 1.0.86939 &  840000 &  840000 & 2021-09-23\\\\\n",
       "\t 2021-10-06T11:46:51.974Z & 2021-10-06T12:16:56.339Z & WORKOUT & RUNNING & Automatic & -5 & 57.934655           & 1736339.0 & No Data   & 174 & 147 & 4867 & 449 & 1.0.86939 & 1804365 & 1804365 & 2021-09-23\\\\\n",
       "\t 2021-10-04T23:36:45.606Z & 2021-10-05T00:07:38.643Z & WORKOUT & RUNNING & Automatic & -5 & 55.0941975          & 1560000.0 & 180000.0  & 164 & 145 & 4388 & 452 & 1.0.86939 & 1853037 & 1853037 & 2021-09-23\\\\\n",
       "\t 2021-10-03T20:20:23.161Z & 2021-10-03T20:38:26.341Z & WORKOUT & WALKING & Automatic & -5 & 7.969715833333333   & No Data   & 446341.0  & 117 &  92 & 1488 & 115 & 1.0.86939 & 1083180 & 1083180 & 2021-09-23\\\\\n",
       "\t 2021-10-03T19:38:33.164Z & 2021-10-03T19:57:38.353Z & WORKOUT & WALKING & Automatic & -5 & 2.8543241666666668  & No Data   & 120000.0  & 109 &  82 & 1267 &  99 & 1.0.86939 & 1145189 & 1145189 & 2021-09-23\\\\\n",
       "\t 2021-10-03T17:30:35.474Z & 2021-10-03T17:50:58.678Z & WORKOUT & WALKING & Automatic & -5 & 1.9                 & No Data   & 60000.0   & 101 &  74 & 1732 &  93 & 1.0.86939 & 1223204 & 1223204 & 2021-09-23\\\\\n",
       "\t 2021-10-03T16:56:18.037Z & 2021-10-03T17:16:25.532Z & WORKOUT & WALKING & Automatic & -5 & 4.634969166666667   & No Data   & 240000.0  & 112 &  78 & 1239 &  93 & 1.0.86939 & 1207495 & 1207495 & 2021-09-23\\\\\n",
       "\t 2021-10-03T13:36:33.072Z & 2021-10-03T14:08:32.948Z & WORKOUT & RUNNING & Automatic & -5 & 57.62157333333333   & 1620000.0 & 212948.0  & 165 & 144 & 4457 & 462 & 1.0.86939 & 1919876 & 1919876 & 2021-09-23\\\\\n",
       "\t 2021-10-02T20:01:51.215Z & 2021-10-02T20:34:45.285Z & WORKOUT & RUNNING & Automatic & -5 & 59.76207083333333   & 1620000.0 & 345285.0  & 153 & 137 & 4481 & 444 & 1.0.86939 & 1974070 & 1974070 & 2021-09-23\\\\\n",
       "\t 2021-09-29T13:14:00.000Z & 2021-09-29T13:56:00.000Z & WORKOUT & OTHER   & Automatic & -5 & 20.7                & No Data   & 1200000.0 & 121 &  91 & 1512 & 207 & 1.0.86939 & 2520000 & 2520000 & 2021-09-23\\\\\n",
       "\t 2021-09-29T11:58:35.741Z & 2021-09-29T12:09:31.260Z & WORKOUT & RUNNING & Automatic & -5 & 16.404316666666666  & 420000.0  & 144259.0  & 160 & 134 & 1305 & 145 & 1.0.86939 &  655519 &  655519 & 2021-09-23\\\\\n",
       "\t 2021-09-29T11:24:00.000Z & 2021-09-29T12:00:00.000Z & WORKOUT & OTHER   & Automatic & -5 & 16.85               & 120000.0  & 720000.0  & 139 &  94 & 1677 & 229 & 1.0.86939 & 2160000 & 2160000 & 2021-09-23\\\\\n",
       "\t 2021-09-29T10:20:00.000Z & 2021-09-29T10:44:00.000Z & WORKOUT & OTHER   & Automatic & -5 & 26.3                & 480000.0  & 600000.0  & 149 & 111 & 2298 & 227 & 1.0.86939 & 1440000 & 1440000 & 2021-09-23\\\\\n",
       "\t 2021-09-29T08:09:00.000Z & 2021-09-29T08:30:00.000Z & WORKOUT & OTHER   & Automatic & -5 & 11.05               & No Data   & 660000.0  & 134 & 111 &   27 & 103 & 1.0.86939 & 1260000 & 1260000 & 2021-09-23\\\\\n",
       "\t 2021-09-28T12:57:15.873Z & 2021-09-28T13:25:28.212Z & WORKOUT & WALKING & Automatic & -5 & 10.60896            & No Data   & 584127.0  & 121 &  94 & 1609 &  94 & 1.0.86939 & 1692339 & 1692339 & 2021-09-23\\\\\n",
       "\t 2021-09-28T11:56:00.000Z & 2021-09-28T12:42:00.000Z & WORKOUT & OTHER   & Automatic & -5 & 16.2                & No Data   & 900000.0  & 113 &  91 & 2089 & 152 & 1.0.86939 & 2760000 & 2760000 & 2021-09-23\\\\\n",
       "\t 2021-09-28T10:57:00.000Z & 2021-09-28T11:22:00.000Z & WORKOUT & OTHER   & Automatic & -5 & 16.4                & No Data   & 960000.0  & 136 &  98 &  680 &  84 & 1.0.86939 & 1500000 & 1500000 & 2021-09-23\\\\\n",
       "\t 2021-09-28T10:05:11.133Z & 2021-09-28T10:56:40.224Z & WORKOUT & RUNNING & Automatic & -5 & 94.7111225          & 2640000.0 & 400224.0  & 166 & 148 & 7611 & 548 & 1.0.86939 & 3089091 & 3089091 & 2021-09-23\\\\\n",
       "\t 2021-09-27T12:59:00.000Z & 2021-09-27T13:25:00.000Z & WORKOUT & OTHER   & Automatic & -5 & 14.3                & No Data   & 840000.0  & 111 &  95 &  718 &  76 & 1.0.86939 & 1560000 & 1560000 & 2021-09-23\\\\\n",
       "\t 2021-09-27T12:19:08.473Z & 2021-09-27T12:58:47.413Z & WORKOUT & RUNNING & Automatic & -5 & 72.83315583333334   & 2040000.0 & 287413.0  & 159 & 143 & 5680 & 396 & 1.0.86939 & 2378940 & 2378940 & 2021-09-23\\\\\n",
       "\t 2021-09-26T15:24:57.815Z & 2021-09-26T16:03:50.992Z & WORKOUT & RUNNING & Automatic & -5 & 72.90168750000001   & 2100000.0 & 170992.0  & 165 & 147 & 5740 & 412 & 1.0.86939 & 2333177 & 2333177 & 2021-09-23\\\\\n",
       "\t 2021-09-26T15:24:57.815Z & 2021-09-26T16:03:50.992Z & WORKOUT & RUNNING & Automatic & -5 & 72.90168750000001   & 2100000.0 & 170992.0  & 165 & 147 & 5740 & 412 & 1.0.86939 & 2333177 & 2333177 & 2021-09-23\\\\\n",
       "\t 2021-09-25T16:42:43.950Z & 2021-09-25T17:20:33.052Z & WORKOUT & RUNNING & Automatic & -5 & 72.41923333333332   & 2133052.0 & 76050.0   & 171 & 148 & 5685 & 400 & 1.0.86939 & 2269102 & 2269102 & 2021-09-23\\\\\n",
       "\t 2021-09-24T13:14:00.000Z & 2021-09-24T13:52:00.000Z & WORKOUT & OTHER   & Automatic & -5 & 26.4                & No Data   & 1560000.0 & 111 &  97 &  999 & 117 & 1.0.86939 & 2280000 & 2280000 & 2021-09-23\\\\\n",
       "\t 2021-09-24T12:30:07.142Z & 2021-09-24T13:13:14.739Z & WORKOUT & RUNNING & Automatic & -5 & 76.28969833333333   & 2040000.0 & 494739.0  & 172 & 150 & 6007 & 472 & 1.0.86939 & 2587597 & 2587597 & 2021-09-23\\\\\n",
       "\t 2021-09-23T13:00:00.000Z & 2021-09-23T13:27:00.000Z & WORKOUT & OTHER   & Automatic & -5 & 16.35               & No Data   & 960000.0  & 120 &  95 &  421 &  82 & 1.0.86939 & 1620000 & 1620000 & 2021-09-23\\\\\n",
       "\t 2021-09-23T12:18:41.932Z & 2021-09-23T12:59:29.798Z & WORKOUT & RUNNING & Automatic & -5 & 76.51169            & 2160000.0 & 269798.0  & 165 & 143 & 5979 & 413 & 1.0.86939 & 2447866 & 2447866 & 2021-09-23\\\\\n",
       "\\end{tabular}\n"
      ],
      "text/markdown": [
       "\n",
       "A data.frame: 101761 × 17\n",
       "\n",
       "| Start.Time &lt;chr&gt; | End.Time &lt;chr&gt; | Session.Type &lt;chr&gt; | Session.Subtype &lt;chr&gt; | Creation.Method &lt;chr&gt; | Local.Time.Zone.Offset &lt;dbl&gt; | Activity.Score &lt;chr&gt; | Intense.Duration..ms. &lt;chr&gt; | Moderate.Duration..ms. &lt;chr&gt; | Max.Heart.Rate..bpm. &lt;dbl&gt; | Average.Heart.Rate..bpm. &lt;dbl&gt; | Steps &lt;dbl&gt; | Calories &lt;dbl&gt; | Software.Version &lt;chr&gt; | Active.Time..ms. &lt;dbl&gt; | Total.Duration..ms. &lt;dbl&gt; | Date &lt;date&gt; |\n",
       "|---|---|---|---|---|---|---|---|---|---|---|---|---|---|---|---|---|\n",
       "| 2022-07-10T17:12:25.443Z | 2022-07-10T17:35:21.364Z | WORKOUT | WALKING | Automatic | -6 | 22.301899999999996 | 274557.0  | 780000.0  | 140 | 125 |  1724 |  272 | 1.0.118889 | 1375921 | 1375921 | 2022-07-10 |\n",
       "| 2022-07-10T16:46:30.782Z | 2022-07-10T17:12:25.405Z | WORKOUT | RUNNING | Automatic | -6 | 47.92118166666667  | 1405405.0 | 60000.0   | 169 | 150 |  3587 |  419 | 1.0.118889 | 1554623 | 1554623 | 2022-07-10 |\n",
       "| 2022-07-09T17:37:00.000Z | 2022-07-09T18:49:00.000Z | WORKOUT | OTHER   | Automatic | -6 | 51.95              | 240000.0  | 2580000.0 | 156 | 106 |  2485 |  535 | 1.0.118889 | 4320000 | 4320000 | 2022-07-10 |\n",
       "| 2022-07-09T16:52:00.000Z | 2022-07-09T17:03:00.000Z | WORKOUT | OTHER   | Automatic | -6 | 11.05              | 180000.0  | 300000.0  | 151 | 124 |   437 |  106 | 1.0.118889 |  660000 |  660000 | 2022-07-10 |\n",
       "| 2022-07-09T16:16:06.301Z | 2022-07-09T16:51:58.601Z | WORKOUT | RUNNING | Automatic | -6 | 68.00336666666666  | 2038601.0 | No Data   | 177 | 156 |  5483 |  601 | 1.0.118889 | 2152300 | 2152300 | 2022-07-10 |\n",
       "| 2022-07-08T20:35:43.703Z | 2022-07-08T20:55:39.512Z | WORKOUT | WALKING | Automatic | -6 | 2.763580833333333  | No Data   | 120000.0  | 123 |  97 |  1214 |  149 | 1.0.118889 | 1195809 | 1195809 | 2022-07-10 |\n",
       "| 2022-07-08T19:15:02.729Z | 2022-07-08T19:55:53.044Z | WORKOUT | WALKING | Automatic | -6 | 6.547725833333334  | No Data   | 300000.0  | 123 |  86 |  2533 |  242 | 1.0.118889 | 2450315 | 2450315 | 2022-07-10 |\n",
       "| 2022-07-08T16:34:41.433Z | 2022-07-08T17:07:32.604Z | WORKOUT | RUNNING | Automatic | -6 | 65.7057            | 1971171.0 | No Data   | 178 | 167 |  5100 |  622 | 1.0.118889 | 1971171 | 1971171 | 2022-07-10 |\n",
       "| 2022-06-17T04:54:10.702Z | 2022-06-17T05:18:04.344Z | WORKOUT | RUNNING | Automatic | -5 | 41.16348166666667  | 1140000.0 | 184344.0  | 134 | 122 |  3311 |  289 | 1.0.114475 | 1433642 | 1433642 | 2022-07-10 |\n",
       "| 2022-06-16T23:48:00.936Z | 2022-06-17T00:30:00.000Z | WORKOUT | OTHER   | Automatic | -5 | 14.99922           | No Data   | 840000.0  | 121 |  84 |  1038 |  191 | 1.0.114475 | 2519064 | 2519064 | 2022-07-10 |\n",
       "| 2022-06-16T22:22:00.000Z | 2022-06-16T22:53:00.000Z | WORKOUT | OTHER   | Automatic | -5 | 14.6               | No Data   | 840000.0  | 126 |  94 |   434 |  138 | 1.0.114475 | 1860000 | 1860000 | 2022-07-10 |\n",
       "| 2022-06-16T04:01:00.000Z | 2022-06-16T04:31:00.000Z | WORKOUT | OTHER   | Automatic | -5 | 9.0                | No Data   | 480000.0  | 112 |  87 |   713 |  136 | 1.0.114475 | 1800000 | 1800000 | 2022-07-10 |\n",
       "| 2022-06-16T02:31:00.722Z | 2022-06-16T03:00:52.406Z | WORKOUT | RUNNING | Automatic | -5 | 56.796265000000005 | 1672406.0 | 60000.0   | 146 | 134 |  4402 |  415 | 1.0.114475 | 1791684 | 1791684 | 2022-07-10 |\n",
       "| 2022-06-15T22:51:00.000Z | 2022-06-15T23:38:00.000Z | WORKOUT | OTHER   | Automatic | -5 | 18.2               | No Data   | 1020000.0 | 125 |  88 |  1230 |  178 | 1.0.114475 | 2820000 | 2820000 | 2022-07-10 |\n",
       "| 2022-06-13T19:42:00.000Z | 2022-06-13T20:13:00.000Z | WORKOUT | OTHER   | Automatic | -5 | 8.7                | No Data   | 480000.0  | 112 |  91 |   921 |  164 | 1.0.114475 | 1860000 | 1860000 | 2022-07-10 |\n",
       "| 2022-06-12T17:41:00.000Z | 2022-06-12T18:07:00.000Z | WORKOUT | OTHER   | Automatic | -5 | 6.9                | No Data   | 360000.0  | 111 |  95 |   814 |  117 | 1.0.114475 | 1560000 | 1560000 | 2022-07-10 |\n",
       "| 2022-06-12T16:55:36.194Z | 2022-06-12T17:28:28.047Z | WORKOUT | RUNNING | Automatic | -5 | 63.864216666666664 | 1860000.0 | 111853.0  | 167 | 150 |  5061 |  538 | 1.0.114475 | 1971853 | 1971853 | 2022-07-10 |\n",
       "| 2022-06-11T20:45:19.195Z | 2022-06-11T20:56:17.004Z | WORKOUT | WALKING | Automatic | -5 | 3.3840041666666667 | No Data   | 180000.0  | 113 |  91 |   913 |   77 | 1.0.114475 |  657809 |  657809 | 2022-07-10 |\n",
       "| 2022-06-11T16:43:00.000Z | 2022-06-11T16:56:00.000Z | WORKOUT | OTHER   | Automatic | -5 | 14.1               | 300000.0  | 240000.0  | 149 | 118 |   224 |   94 | 1.0.114475 |  780000 |  780000 | 2022-07-10 |\n",
       "| 2022-06-10T21:25:00.000Z | 2022-06-10T21:40:00.000Z | WORKOUT | OTHER   | Automatic | -5 | 9.2                | No Data   | 540000.0  | 118 | 101 |   195 |   82 | 1.0.114475 |  900000 |  900000 | 2022-07-10 |\n",
       "| 2022-06-10T16:57:16.288Z | 2022-06-10T17:16:11.595Z | WORKOUT | WALKING | Automatic | -5 | 0.7096625000000001 | No Data   | No Data   | 105 |  85 |  1140 |  112 | 1.0.114475 | 1135307 | 1135307 | 2022-07-10 |\n",
       "| 2022-06-10T12:34:13.628Z | 2022-06-10T12:53:08.867Z | WORKOUT | WALKING | Automatic | -5 | 17.822866666666666 | 60000.0   | 946372.0  | 142 | 116 |  1412 |  201 | 1.0.114475 | 1135239 | 1135239 | 2022-07-10 |\n",
       "| 2022-06-10T11:30:31.296Z | 2022-06-10T12:34:13.612Z | WORKOUT | RUNNING | Automatic | -5 | 123.25078666666667 | 3600000.0 | 193612.0  | 170 | 154 |  9843 | 1145 | 1.0.114475 | 3822316 | 3822316 | 2022-07-10 |\n",
       "| 2022-06-08T04:11:34.259Z | 2022-06-08T04:46:24.522Z | WORKOUT | RUNNING | Automatic | -5 | 58.17145083333333  | 1620000.0 | 240000.0  | 140 | 124 |  4611 |  457 | 1.0.114475 | 2090263 | 2090263 | 2022-07-10 |\n",
       "| 2022-06-06T13:11:57.816Z | 2022-06-06T13:23:00.000Z | WORKOUT | OTHER   | Automatic | -5 | 6.236400000000001  | No Data   | 362184.0  | 107 |  96 |   430 |   67 | 1.0.113437 |  662184 |  662184 | 2022-07-10 |\n",
       "| 2022-06-06T12:16:03.186Z | 2022-06-06T13:09:48.263Z | WORKOUT | RUNNING | Automatic | -5 | 100.85438333333333 | 2940000.0 | 168263.0  | 156 | 143 |  8185 |  866 | 1.0.113437 | 3225077 | 3225077 | 2022-07-10 |\n",
       "| 2022-06-05T21:33:00.000Z | 2022-06-05T22:02:00.000Z | WORKOUT | OTHER   | Automatic | -5 | 7.7                | No Data   | 420000.0  | 130 |  86 |   753 |  147 | 1.0.113437 | 1740000 | 1740000 | 2022-07-10 |\n",
       "| 2022-06-05T19:31:55.042Z | 2022-06-05T20:15:45.549Z | WORKOUT | WALKING | Automatic | -5 | 33.62059083333333  | No Data   | 1984958.0 | 119 | 107 |  3936 |  428 | 1.0.113437 | 2630507 | 2630507 | 2022-07-10 |\n",
       "| 2022-06-05T19:06:01.946Z | 2022-06-05T19:31:55.040Z | WORKOUT | RUNNING | Automatic | -5 | 48.852466666666665 | 1378054.0 | 175040.0  | 155 | 147 |  3921 |  439 | 1.0.113437 | 1553094 | 1553094 | 2022-07-10 |\n",
       "| 2022-06-04T13:59:58.608Z | 2022-06-04T15:09:38.904Z | WORKOUT | RUNNING | Automatic | -5 | 135.6716           | 3960000.0 | 220296.0  | 170 | 154 | 10524 | 1238 | 1.0.113437 | 4180296 | 4180296 | 2022-07-10 |\n",
       "| ⋮ | ⋮ | ⋮ | ⋮ | ⋮ | ⋮ | ⋮ | ⋮ | ⋮ | ⋮ | ⋮ | ⋮ | ⋮ | ⋮ | ⋮ | ⋮ | ⋮ |\n",
       "| 2021-10-09T13:31:51.705Z | 2021-10-09T14:04:07.097Z | WORKOUT | RUNNING | Automatic | -5 | 60.16828333333333   | 1740000.0 | 127097.0  | 182 | 159 | 4524 | 549 | 1.0.86939 | 1935392 | 1935392 | 2021-09-23 |\n",
       "| 2021-10-09T12:28:42.275Z | 2021-10-09T12:38:47.617Z | WORKOUT | WALKING | Automatic | -5 | 0.43968083333333335 | No Data   | No Data   |  83 |  70 |  656 |  36 | 1.0.86939 |  605342 |  605342 | 2021-09-23 |\n",
       "| 2021-10-08T11:44:26.132Z | 2021-10-08T12:16:50.498Z | WORKOUT | RUNNING | Automatic | -5 | 61.4061             | 1740000.0 | 204366.0  | 173 | 150 | 4658 | 500 | 1.0.86939 | 1944366 | 1944366 | 2021-09-23 |\n",
       "| 2021-10-06T12:17:00.000Z | 2021-10-06T12:31:00.000Z | WORKOUT | OTHER   | Automatic | -5 | 13.15               | 120000.0  | 540000.0  | 171 | 108 |  460 | 101 | 1.0.86939 |  840000 |  840000 | 2021-09-23 |\n",
       "| 2021-10-06T11:46:51.974Z | 2021-10-06T12:16:56.339Z | WORKOUT | RUNNING | Automatic | -5 | 57.934655           | 1736339.0 | No Data   | 174 | 147 | 4867 | 449 | 1.0.86939 | 1804365 | 1804365 | 2021-09-23 |\n",
       "| 2021-10-04T23:36:45.606Z | 2021-10-05T00:07:38.643Z | WORKOUT | RUNNING | Automatic | -5 | 55.0941975          | 1560000.0 | 180000.0  | 164 | 145 | 4388 | 452 | 1.0.86939 | 1853037 | 1853037 | 2021-09-23 |\n",
       "| 2021-10-03T20:20:23.161Z | 2021-10-03T20:38:26.341Z | WORKOUT | WALKING | Automatic | -5 | 7.969715833333333   | No Data   | 446341.0  | 117 |  92 | 1488 | 115 | 1.0.86939 | 1083180 | 1083180 | 2021-09-23 |\n",
       "| 2021-10-03T19:38:33.164Z | 2021-10-03T19:57:38.353Z | WORKOUT | WALKING | Automatic | -5 | 2.8543241666666668  | No Data   | 120000.0  | 109 |  82 | 1267 |  99 | 1.0.86939 | 1145189 | 1145189 | 2021-09-23 |\n",
       "| 2021-10-03T17:30:35.474Z | 2021-10-03T17:50:58.678Z | WORKOUT | WALKING | Automatic | -5 | 1.9                 | No Data   | 60000.0   | 101 |  74 | 1732 |  93 | 1.0.86939 | 1223204 | 1223204 | 2021-09-23 |\n",
       "| 2021-10-03T16:56:18.037Z | 2021-10-03T17:16:25.532Z | WORKOUT | WALKING | Automatic | -5 | 4.634969166666667   | No Data   | 240000.0  | 112 |  78 | 1239 |  93 | 1.0.86939 | 1207495 | 1207495 | 2021-09-23 |\n",
       "| 2021-10-03T13:36:33.072Z | 2021-10-03T14:08:32.948Z | WORKOUT | RUNNING | Automatic | -5 | 57.62157333333333   | 1620000.0 | 212948.0  | 165 | 144 | 4457 | 462 | 1.0.86939 | 1919876 | 1919876 | 2021-09-23 |\n",
       "| 2021-10-02T20:01:51.215Z | 2021-10-02T20:34:45.285Z | WORKOUT | RUNNING | Automatic | -5 | 59.76207083333333   | 1620000.0 | 345285.0  | 153 | 137 | 4481 | 444 | 1.0.86939 | 1974070 | 1974070 | 2021-09-23 |\n",
       "| 2021-09-29T13:14:00.000Z | 2021-09-29T13:56:00.000Z | WORKOUT | OTHER   | Automatic | -5 | 20.7                | No Data   | 1200000.0 | 121 |  91 | 1512 | 207 | 1.0.86939 | 2520000 | 2520000 | 2021-09-23 |\n",
       "| 2021-09-29T11:58:35.741Z | 2021-09-29T12:09:31.260Z | WORKOUT | RUNNING | Automatic | -5 | 16.404316666666666  | 420000.0  | 144259.0  | 160 | 134 | 1305 | 145 | 1.0.86939 |  655519 |  655519 | 2021-09-23 |\n",
       "| 2021-09-29T11:24:00.000Z | 2021-09-29T12:00:00.000Z | WORKOUT | OTHER   | Automatic | -5 | 16.85               | 120000.0  | 720000.0  | 139 |  94 | 1677 | 229 | 1.0.86939 | 2160000 | 2160000 | 2021-09-23 |\n",
       "| 2021-09-29T10:20:00.000Z | 2021-09-29T10:44:00.000Z | WORKOUT | OTHER   | Automatic | -5 | 26.3                | 480000.0  | 600000.0  | 149 | 111 | 2298 | 227 | 1.0.86939 | 1440000 | 1440000 | 2021-09-23 |\n",
       "| 2021-09-29T08:09:00.000Z | 2021-09-29T08:30:00.000Z | WORKOUT | OTHER   | Automatic | -5 | 11.05               | No Data   | 660000.0  | 134 | 111 |   27 | 103 | 1.0.86939 | 1260000 | 1260000 | 2021-09-23 |\n",
       "| 2021-09-28T12:57:15.873Z | 2021-09-28T13:25:28.212Z | WORKOUT | WALKING | Automatic | -5 | 10.60896            | No Data   | 584127.0  | 121 |  94 | 1609 |  94 | 1.0.86939 | 1692339 | 1692339 | 2021-09-23 |\n",
       "| 2021-09-28T11:56:00.000Z | 2021-09-28T12:42:00.000Z | WORKOUT | OTHER   | Automatic | -5 | 16.2                | No Data   | 900000.0  | 113 |  91 | 2089 | 152 | 1.0.86939 | 2760000 | 2760000 | 2021-09-23 |\n",
       "| 2021-09-28T10:57:00.000Z | 2021-09-28T11:22:00.000Z | WORKOUT | OTHER   | Automatic | -5 | 16.4                | No Data   | 960000.0  | 136 |  98 |  680 |  84 | 1.0.86939 | 1500000 | 1500000 | 2021-09-23 |\n",
       "| 2021-09-28T10:05:11.133Z | 2021-09-28T10:56:40.224Z | WORKOUT | RUNNING | Automatic | -5 | 94.7111225          | 2640000.0 | 400224.0  | 166 | 148 | 7611 | 548 | 1.0.86939 | 3089091 | 3089091 | 2021-09-23 |\n",
       "| 2021-09-27T12:59:00.000Z | 2021-09-27T13:25:00.000Z | WORKOUT | OTHER   | Automatic | -5 | 14.3                | No Data   | 840000.0  | 111 |  95 |  718 |  76 | 1.0.86939 | 1560000 | 1560000 | 2021-09-23 |\n",
       "| 2021-09-27T12:19:08.473Z | 2021-09-27T12:58:47.413Z | WORKOUT | RUNNING | Automatic | -5 | 72.83315583333334   | 2040000.0 | 287413.0  | 159 | 143 | 5680 | 396 | 1.0.86939 | 2378940 | 2378940 | 2021-09-23 |\n",
       "| 2021-09-26T15:24:57.815Z | 2021-09-26T16:03:50.992Z | WORKOUT | RUNNING | Automatic | -5 | 72.90168750000001   | 2100000.0 | 170992.0  | 165 | 147 | 5740 | 412 | 1.0.86939 | 2333177 | 2333177 | 2021-09-23 |\n",
       "| 2021-09-26T15:24:57.815Z | 2021-09-26T16:03:50.992Z | WORKOUT | RUNNING | Automatic | -5 | 72.90168750000001   | 2100000.0 | 170992.0  | 165 | 147 | 5740 | 412 | 1.0.86939 | 2333177 | 2333177 | 2021-09-23 |\n",
       "| 2021-09-25T16:42:43.950Z | 2021-09-25T17:20:33.052Z | WORKOUT | RUNNING | Automatic | -5 | 72.41923333333332   | 2133052.0 | 76050.0   | 171 | 148 | 5685 | 400 | 1.0.86939 | 2269102 | 2269102 | 2021-09-23 |\n",
       "| 2021-09-24T13:14:00.000Z | 2021-09-24T13:52:00.000Z | WORKOUT | OTHER   | Automatic | -5 | 26.4                | No Data   | 1560000.0 | 111 |  97 |  999 | 117 | 1.0.86939 | 2280000 | 2280000 | 2021-09-23 |\n",
       "| 2021-09-24T12:30:07.142Z | 2021-09-24T13:13:14.739Z | WORKOUT | RUNNING | Automatic | -5 | 76.28969833333333   | 2040000.0 | 494739.0  | 172 | 150 | 6007 | 472 | 1.0.86939 | 2587597 | 2587597 | 2021-09-23 |\n",
       "| 2021-09-23T13:00:00.000Z | 2021-09-23T13:27:00.000Z | WORKOUT | OTHER   | Automatic | -5 | 16.35               | No Data   | 960000.0  | 120 |  95 |  421 |  82 | 1.0.86939 | 1620000 | 1620000 | 2021-09-23 |\n",
       "| 2021-09-23T12:18:41.932Z | 2021-09-23T12:59:29.798Z | WORKOUT | RUNNING | Automatic | -5 | 76.51169            | 2160000.0 | 269798.0  | 165 | 143 | 5979 | 413 | 1.0.86939 | 2447866 | 2447866 | 2021-09-23 |\n",
       "\n"
      ],
      "text/plain": [
       "       Start.Time               End.Time                 Session.Type\n",
       "1      2022-07-10T17:12:25.443Z 2022-07-10T17:35:21.364Z WORKOUT     \n",
       "2      2022-07-10T16:46:30.782Z 2022-07-10T17:12:25.405Z WORKOUT     \n",
       "3      2022-07-09T17:37:00.000Z 2022-07-09T18:49:00.000Z WORKOUT     \n",
       "4      2022-07-09T16:52:00.000Z 2022-07-09T17:03:00.000Z WORKOUT     \n",
       "5      2022-07-09T16:16:06.301Z 2022-07-09T16:51:58.601Z WORKOUT     \n",
       "6      2022-07-08T20:35:43.703Z 2022-07-08T20:55:39.512Z WORKOUT     \n",
       "7      2022-07-08T19:15:02.729Z 2022-07-08T19:55:53.044Z WORKOUT     \n",
       "8      2022-07-08T16:34:41.433Z 2022-07-08T17:07:32.604Z WORKOUT     \n",
       "9      2022-06-17T04:54:10.702Z 2022-06-17T05:18:04.344Z WORKOUT     \n",
       "10     2022-06-16T23:48:00.936Z 2022-06-17T00:30:00.000Z WORKOUT     \n",
       "11     2022-06-16T22:22:00.000Z 2022-06-16T22:53:00.000Z WORKOUT     \n",
       "12     2022-06-16T04:01:00.000Z 2022-06-16T04:31:00.000Z WORKOUT     \n",
       "13     2022-06-16T02:31:00.722Z 2022-06-16T03:00:52.406Z WORKOUT     \n",
       "14     2022-06-15T22:51:00.000Z 2022-06-15T23:38:00.000Z WORKOUT     \n",
       "15     2022-06-13T19:42:00.000Z 2022-06-13T20:13:00.000Z WORKOUT     \n",
       "16     2022-06-12T17:41:00.000Z 2022-06-12T18:07:00.000Z WORKOUT     \n",
       "17     2022-06-12T16:55:36.194Z 2022-06-12T17:28:28.047Z WORKOUT     \n",
       "18     2022-06-11T20:45:19.195Z 2022-06-11T20:56:17.004Z WORKOUT     \n",
       "19     2022-06-11T16:43:00.000Z 2022-06-11T16:56:00.000Z WORKOUT     \n",
       "20     2022-06-10T21:25:00.000Z 2022-06-10T21:40:00.000Z WORKOUT     \n",
       "21     2022-06-10T16:57:16.288Z 2022-06-10T17:16:11.595Z WORKOUT     \n",
       "22     2022-06-10T12:34:13.628Z 2022-06-10T12:53:08.867Z WORKOUT     \n",
       "23     2022-06-10T11:30:31.296Z 2022-06-10T12:34:13.612Z WORKOUT     \n",
       "24     2022-06-08T04:11:34.259Z 2022-06-08T04:46:24.522Z WORKOUT     \n",
       "25     2022-06-06T13:11:57.816Z 2022-06-06T13:23:00.000Z WORKOUT     \n",
       "26     2022-06-06T12:16:03.186Z 2022-06-06T13:09:48.263Z WORKOUT     \n",
       "27     2022-06-05T21:33:00.000Z 2022-06-05T22:02:00.000Z WORKOUT     \n",
       "28     2022-06-05T19:31:55.042Z 2022-06-05T20:15:45.549Z WORKOUT     \n",
       "29     2022-06-05T19:06:01.946Z 2022-06-05T19:31:55.040Z WORKOUT     \n",
       "30     2022-06-04T13:59:58.608Z 2022-06-04T15:09:38.904Z WORKOUT     \n",
       "<U+22EE>      <U+22EE>                 <U+22EE>                 <U+22EE>    \n",
       "101732 2021-10-09T13:31:51.705Z 2021-10-09T14:04:07.097Z WORKOUT     \n",
       "101733 2021-10-09T12:28:42.275Z 2021-10-09T12:38:47.617Z WORKOUT     \n",
       "101734 2021-10-08T11:44:26.132Z 2021-10-08T12:16:50.498Z WORKOUT     \n",
       "101735 2021-10-06T12:17:00.000Z 2021-10-06T12:31:00.000Z WORKOUT     \n",
       "101736 2021-10-06T11:46:51.974Z 2021-10-06T12:16:56.339Z WORKOUT     \n",
       "101737 2021-10-04T23:36:45.606Z 2021-10-05T00:07:38.643Z WORKOUT     \n",
       "101738 2021-10-03T20:20:23.161Z 2021-10-03T20:38:26.341Z WORKOUT     \n",
       "101739 2021-10-03T19:38:33.164Z 2021-10-03T19:57:38.353Z WORKOUT     \n",
       "101740 2021-10-03T17:30:35.474Z 2021-10-03T17:50:58.678Z WORKOUT     \n",
       "101741 2021-10-03T16:56:18.037Z 2021-10-03T17:16:25.532Z WORKOUT     \n",
       "101742 2021-10-03T13:36:33.072Z 2021-10-03T14:08:32.948Z WORKOUT     \n",
       "101743 2021-10-02T20:01:51.215Z 2021-10-02T20:34:45.285Z WORKOUT     \n",
       "101744 2021-09-29T13:14:00.000Z 2021-09-29T13:56:00.000Z WORKOUT     \n",
       "101745 2021-09-29T11:58:35.741Z 2021-09-29T12:09:31.260Z WORKOUT     \n",
       "101746 2021-09-29T11:24:00.000Z 2021-09-29T12:00:00.000Z WORKOUT     \n",
       "101747 2021-09-29T10:20:00.000Z 2021-09-29T10:44:00.000Z WORKOUT     \n",
       "101748 2021-09-29T08:09:00.000Z 2021-09-29T08:30:00.000Z WORKOUT     \n",
       "101749 2021-09-28T12:57:15.873Z 2021-09-28T13:25:28.212Z WORKOUT     \n",
       "101750 2021-09-28T11:56:00.000Z 2021-09-28T12:42:00.000Z WORKOUT     \n",
       "101751 2021-09-28T10:57:00.000Z 2021-09-28T11:22:00.000Z WORKOUT     \n",
       "101752 2021-09-28T10:05:11.133Z 2021-09-28T10:56:40.224Z WORKOUT     \n",
       "101753 2021-09-27T12:59:00.000Z 2021-09-27T13:25:00.000Z WORKOUT     \n",
       "101754 2021-09-27T12:19:08.473Z 2021-09-27T12:58:47.413Z WORKOUT     \n",
       "101755 2021-09-26T15:24:57.815Z 2021-09-26T16:03:50.992Z WORKOUT     \n",
       "101756 2021-09-26T15:24:57.815Z 2021-09-26T16:03:50.992Z WORKOUT     \n",
       "101757 2021-09-25T16:42:43.950Z 2021-09-25T17:20:33.052Z WORKOUT     \n",
       "101758 2021-09-24T13:14:00.000Z 2021-09-24T13:52:00.000Z WORKOUT     \n",
       "101759 2021-09-24T12:30:07.142Z 2021-09-24T13:13:14.739Z WORKOUT     \n",
       "101760 2021-09-23T13:00:00.000Z 2021-09-23T13:27:00.000Z WORKOUT     \n",
       "101761 2021-09-23T12:18:41.932Z 2021-09-23T12:59:29.798Z WORKOUT     \n",
       "       Session.Subtype Creation.Method Local.Time.Zone.Offset\n",
       "1      WALKING         Automatic       -6                    \n",
       "2      RUNNING         Automatic       -6                    \n",
       "3      OTHER           Automatic       -6                    \n",
       "4      OTHER           Automatic       -6                    \n",
       "5      RUNNING         Automatic       -6                    \n",
       "6      WALKING         Automatic       -6                    \n",
       "7      WALKING         Automatic       -6                    \n",
       "8      RUNNING         Automatic       -6                    \n",
       "9      RUNNING         Automatic       -5                    \n",
       "10     OTHER           Automatic       -5                    \n",
       "11     OTHER           Automatic       -5                    \n",
       "12     OTHER           Automatic       -5                    \n",
       "13     RUNNING         Automatic       -5                    \n",
       "14     OTHER           Automatic       -5                    \n",
       "15     OTHER           Automatic       -5                    \n",
       "16     OTHER           Automatic       -5                    \n",
       "17     RUNNING         Automatic       -5                    \n",
       "18     WALKING         Automatic       -5                    \n",
       "19     OTHER           Automatic       -5                    \n",
       "20     OTHER           Automatic       -5                    \n",
       "21     WALKING         Automatic       -5                    \n",
       "22     WALKING         Automatic       -5                    \n",
       "23     RUNNING         Automatic       -5                    \n",
       "24     RUNNING         Automatic       -5                    \n",
       "25     OTHER           Automatic       -5                    \n",
       "26     RUNNING         Automatic       -5                    \n",
       "27     OTHER           Automatic       -5                    \n",
       "28     WALKING         Automatic       -5                    \n",
       "29     RUNNING         Automatic       -5                    \n",
       "30     RUNNING         Automatic       -5                    \n",
       "<U+22EE>      <U+22EE>        <U+22EE>        <U+22EE>              \n",
       "101732 RUNNING         Automatic       -5                    \n",
       "101733 WALKING         Automatic       -5                    \n",
       "101734 RUNNING         Automatic       -5                    \n",
       "101735 OTHER           Automatic       -5                    \n",
       "101736 RUNNING         Automatic       -5                    \n",
       "101737 RUNNING         Automatic       -5                    \n",
       "101738 WALKING         Automatic       -5                    \n",
       "101739 WALKING         Automatic       -5                    \n",
       "101740 WALKING         Automatic       -5                    \n",
       "101741 WALKING         Automatic       -5                    \n",
       "101742 RUNNING         Automatic       -5                    \n",
       "101743 RUNNING         Automatic       -5                    \n",
       "101744 OTHER           Automatic       -5                    \n",
       "101745 RUNNING         Automatic       -5                    \n",
       "101746 OTHER           Automatic       -5                    \n",
       "101747 OTHER           Automatic       -5                    \n",
       "101748 OTHER           Automatic       -5                    \n",
       "101749 WALKING         Automatic       -5                    \n",
       "101750 OTHER           Automatic       -5                    \n",
       "101751 OTHER           Automatic       -5                    \n",
       "101752 RUNNING         Automatic       -5                    \n",
       "101753 OTHER           Automatic       -5                    \n",
       "101754 RUNNING         Automatic       -5                    \n",
       "101755 RUNNING         Automatic       -5                    \n",
       "101756 RUNNING         Automatic       -5                    \n",
       "101757 RUNNING         Automatic       -5                    \n",
       "101758 OTHER           Automatic       -5                    \n",
       "101759 RUNNING         Automatic       -5                    \n",
       "101760 OTHER           Automatic       -5                    \n",
       "101761 RUNNING         Automatic       -5                    \n",
       "       Activity.Score      Intense.Duration..ms. Moderate.Duration..ms.\n",
       "1      22.301899999999996  274557.0              780000.0              \n",
       "2      47.92118166666667   1405405.0             60000.0               \n",
       "3      51.95               240000.0              2580000.0             \n",
       "4      11.05               180000.0              300000.0              \n",
       "5      68.00336666666666   2038601.0             No Data               \n",
       "6      2.763580833333333   No Data               120000.0              \n",
       "7      6.547725833333334   No Data               300000.0              \n",
       "8      65.7057             1971171.0             No Data               \n",
       "9      41.16348166666667   1140000.0             184344.0              \n",
       "10     14.99922            No Data               840000.0              \n",
       "11     14.6                No Data               840000.0              \n",
       "12     9.0                 No Data               480000.0              \n",
       "13     56.796265000000005  1672406.0             60000.0               \n",
       "14     18.2                No Data               1020000.0             \n",
       "15     8.7                 No Data               480000.0              \n",
       "16     6.9                 No Data               360000.0              \n",
       "17     63.864216666666664  1860000.0             111853.0              \n",
       "18     3.3840041666666667  No Data               180000.0              \n",
       "19     14.1                300000.0              240000.0              \n",
       "20     9.2                 No Data               540000.0              \n",
       "21     0.7096625000000001  No Data               No Data               \n",
       "22     17.822866666666666  60000.0               946372.0              \n",
       "23     123.25078666666667  3600000.0             193612.0              \n",
       "24     58.17145083333333   1620000.0             240000.0              \n",
       "25     6.236400000000001   No Data               362184.0              \n",
       "26     100.85438333333333  2940000.0             168263.0              \n",
       "27     7.7                 No Data               420000.0              \n",
       "28     33.62059083333333   No Data               1984958.0             \n",
       "29     48.852466666666665  1378054.0             175040.0              \n",
       "30     135.6716            3960000.0             220296.0              \n",
       "<U+22EE>      <U+22EE>            <U+22EE>              <U+22EE>              \n",
       "101732 60.16828333333333   1740000.0             127097.0              \n",
       "101733 0.43968083333333335 No Data               No Data               \n",
       "101734 61.4061             1740000.0             204366.0              \n",
       "101735 13.15               120000.0              540000.0              \n",
       "101736 57.934655           1736339.0             No Data               \n",
       "101737 55.0941975          1560000.0             180000.0              \n",
       "101738 7.969715833333333   No Data               446341.0              \n",
       "101739 2.8543241666666668  No Data               120000.0              \n",
       "101740 1.9                 No Data               60000.0               \n",
       "101741 4.634969166666667   No Data               240000.0              \n",
       "101742 57.62157333333333   1620000.0             212948.0              \n",
       "101743 59.76207083333333   1620000.0             345285.0              \n",
       "101744 20.7                No Data               1200000.0             \n",
       "101745 16.404316666666666  420000.0              144259.0              \n",
       "101746 16.85               120000.0              720000.0              \n",
       "101747 26.3                480000.0              600000.0              \n",
       "101748 11.05               No Data               660000.0              \n",
       "101749 10.60896            No Data               584127.0              \n",
       "101750 16.2                No Data               900000.0              \n",
       "101751 16.4                No Data               960000.0              \n",
       "101752 94.7111225          2640000.0             400224.0              \n",
       "101753 14.3                No Data               840000.0              \n",
       "101754 72.83315583333334   2040000.0             287413.0              \n",
       "101755 72.90168750000001   2100000.0             170992.0              \n",
       "101756 72.90168750000001   2100000.0             170992.0              \n",
       "101757 72.41923333333332   2133052.0             76050.0               \n",
       "101758 26.4                No Data               1560000.0             \n",
       "101759 76.28969833333333   2040000.0             494739.0              \n",
       "101760 16.35               No Data               960000.0              \n",
       "101761 76.51169            2160000.0             269798.0              \n",
       "       Max.Heart.Rate..bpm. Average.Heart.Rate..bpm. Steps Calories\n",
       "1      140                  125                       1724  272    \n",
       "2      169                  150                       3587  419    \n",
       "3      156                  106                       2485  535    \n",
       "4      151                  124                        437  106    \n",
       "5      177                  156                       5483  601    \n",
       "6      123                   97                       1214  149    \n",
       "7      123                   86                       2533  242    \n",
       "8      178                  167                       5100  622    \n",
       "9      134                  122                       3311  289    \n",
       "10     121                   84                       1038  191    \n",
       "11     126                   94                        434  138    \n",
       "12     112                   87                        713  136    \n",
       "13     146                  134                       4402  415    \n",
       "14     125                   88                       1230  178    \n",
       "15     112                   91                        921  164    \n",
       "16     111                   95                        814  117    \n",
       "17     167                  150                       5061  538    \n",
       "18     113                   91                        913   77    \n",
       "19     149                  118                        224   94    \n",
       "20     118                  101                        195   82    \n",
       "21     105                   85                       1140  112    \n",
       "22     142                  116                       1412  201    \n",
       "23     170                  154                       9843 1145    \n",
       "24     140                  124                       4611  457    \n",
       "25     107                   96                        430   67    \n",
       "26     156                  143                       8185  866    \n",
       "27     130                   86                        753  147    \n",
       "28     119                  107                       3936  428    \n",
       "29     155                  147                       3921  439    \n",
       "30     170                  154                      10524 1238    \n",
       "<U+22EE>      <U+22EE>             <U+22EE>                 <U+22EE> <U+22EE>\n",
       "101732 182                  159                      4524  549     \n",
       "101733  83                   70                       656   36     \n",
       "101734 173                  150                      4658  500     \n",
       "101735 171                  108                       460  101     \n",
       "101736 174                  147                      4867  449     \n",
       "101737 164                  145                      4388  452     \n",
       "101738 117                   92                      1488  115     \n",
       "101739 109                   82                      1267   99     \n",
       "101740 101                   74                      1732   93     \n",
       "101741 112                   78                      1239   93     \n",
       "101742 165                  144                      4457  462     \n",
       "101743 153                  137                      4481  444     \n",
       "101744 121                   91                      1512  207     \n",
       "101745 160                  134                      1305  145     \n",
       "101746 139                   94                      1677  229     \n",
       "101747 149                  111                      2298  227     \n",
       "101748 134                  111                        27  103     \n",
       "101749 121                   94                      1609   94     \n",
       "101750 113                   91                      2089  152     \n",
       "101751 136                   98                       680   84     \n",
       "101752 166                  148                      7611  548     \n",
       "101753 111                   95                       718   76     \n",
       "101754 159                  143                      5680  396     \n",
       "101755 165                  147                      5740  412     \n",
       "101756 165                  147                      5740  412     \n",
       "101757 171                  148                      5685  400     \n",
       "101758 111                   97                       999  117     \n",
       "101759 172                  150                      6007  472     \n",
       "101760 120                   95                       421   82     \n",
       "101761 165                  143                      5979  413     \n",
       "       Software.Version Active.Time..ms. Total.Duration..ms. Date      \n",
       "1      1.0.118889       1375921          1375921             2022-07-10\n",
       "2      1.0.118889       1554623          1554623             2022-07-10\n",
       "3      1.0.118889       4320000          4320000             2022-07-10\n",
       "4      1.0.118889        660000           660000             2022-07-10\n",
       "5      1.0.118889       2152300          2152300             2022-07-10\n",
       "6      1.0.118889       1195809          1195809             2022-07-10\n",
       "7      1.0.118889       2450315          2450315             2022-07-10\n",
       "8      1.0.118889       1971171          1971171             2022-07-10\n",
       "9      1.0.114475       1433642          1433642             2022-07-10\n",
       "10     1.0.114475       2519064          2519064             2022-07-10\n",
       "11     1.0.114475       1860000          1860000             2022-07-10\n",
       "12     1.0.114475       1800000          1800000             2022-07-10\n",
       "13     1.0.114475       1791684          1791684             2022-07-10\n",
       "14     1.0.114475       2820000          2820000             2022-07-10\n",
       "15     1.0.114475       1860000          1860000             2022-07-10\n",
       "16     1.0.114475       1560000          1560000             2022-07-10\n",
       "17     1.0.114475       1971853          1971853             2022-07-10\n",
       "18     1.0.114475        657809           657809             2022-07-10\n",
       "19     1.0.114475        780000           780000             2022-07-10\n",
       "20     1.0.114475        900000           900000             2022-07-10\n",
       "21     1.0.114475       1135307          1135307             2022-07-10\n",
       "22     1.0.114475       1135239          1135239             2022-07-10\n",
       "23     1.0.114475       3822316          3822316             2022-07-10\n",
       "24     1.0.114475       2090263          2090263             2022-07-10\n",
       "25     1.0.113437        662184           662184             2022-07-10\n",
       "26     1.0.113437       3225077          3225077             2022-07-10\n",
       "27     1.0.113437       1740000          1740000             2022-07-10\n",
       "28     1.0.113437       2630507          2630507             2022-07-10\n",
       "29     1.0.113437       1553094          1553094             2022-07-10\n",
       "30     1.0.113437       4180296          4180296             2022-07-10\n",
       "<U+22EE>      <U+22EE>         <U+22EE>         <U+22EE>            <U+22EE>  \n",
       "101732 1.0.86939        1935392          1935392             2021-09-23\n",
       "101733 1.0.86939         605342           605342             2021-09-23\n",
       "101734 1.0.86939        1944366          1944366             2021-09-23\n",
       "101735 1.0.86939         840000           840000             2021-09-23\n",
       "101736 1.0.86939        1804365          1804365             2021-09-23\n",
       "101737 1.0.86939        1853037          1853037             2021-09-23\n",
       "101738 1.0.86939        1083180          1083180             2021-09-23\n",
       "101739 1.0.86939        1145189          1145189             2021-09-23\n",
       "101740 1.0.86939        1223204          1223204             2021-09-23\n",
       "101741 1.0.86939        1207495          1207495             2021-09-23\n",
       "101742 1.0.86939        1919876          1919876             2021-09-23\n",
       "101743 1.0.86939        1974070          1974070             2021-09-23\n",
       "101744 1.0.86939        2520000          2520000             2021-09-23\n",
       "101745 1.0.86939         655519           655519             2021-09-23\n",
       "101746 1.0.86939        2160000          2160000             2021-09-23\n",
       "101747 1.0.86939        1440000          1440000             2021-09-23\n",
       "101748 1.0.86939        1260000          1260000             2021-09-23\n",
       "101749 1.0.86939        1692339          1692339             2021-09-23\n",
       "101750 1.0.86939        2760000          2760000             2021-09-23\n",
       "101751 1.0.86939        1500000          1500000             2021-09-23\n",
       "101752 1.0.86939        3089091          3089091             2021-09-23\n",
       "101753 1.0.86939        1560000          1560000             2021-09-23\n",
       "101754 1.0.86939        2378940          2378940             2021-09-23\n",
       "101755 1.0.86939        2333177          2333177             2021-09-23\n",
       "101756 1.0.86939        2333177          2333177             2021-09-23\n",
       "101757 1.0.86939        2269102          2269102             2021-09-23\n",
       "101758 1.0.86939        2280000          2280000             2021-09-23\n",
       "101759 1.0.86939        2587597          2587597             2021-09-23\n",
       "101760 1.0.86939        1620000          1620000             2021-09-23\n",
       "101761 1.0.86939        2447866          2447866             2021-09-23"
      ]
     },
     "metadata": {},
     "output_type": "display_data"
    }
   ],
   "source": [
    "merge(cadf, dates)"
   ]
  },
  {
   "cell_type": "code",
   "execution_count": 743,
   "metadata": {
    "vscode": {
     "languageId": "r"
    }
   },
   "outputs": [],
   "source": [
    "#cadf %>% separate(Start.Time, c(Date, Time), \"T\")"
   ]
  },
  {
   "cell_type": "markdown",
   "metadata": {},
   "source": [
    "### Better date split option"
   ]
  },
  {
   "cell_type": "code",
   "execution_count": 744,
   "metadata": {
    "vscode": {
     "languageId": "r"
    }
   },
   "outputs": [],
   "source": [
    "library(dplyr)\n",
    "library(tidyr)\n",
    "cadf <- cadf %>% separate(Start.Time, c('Date', 'Time'), \"T\")"
   ]
  },
  {
   "cell_type": "code",
   "execution_count": 745,
   "metadata": {
    "vscode": {
     "languageId": "r"
    }
   },
   "outputs": [
    {
     "data": {
      "text/html": [
       "<table class=\"dataframe\">\n",
       "<caption>A data.frame: 2 × 17</caption>\n",
       "<thead>\n",
       "\t<tr><th></th><th scope=col>Date</th><th scope=col>Time</th><th scope=col>End.Time</th><th scope=col>Session.Type</th><th scope=col>Session.Subtype</th><th scope=col>Creation.Method</th><th scope=col>Local.Time.Zone.Offset</th><th scope=col>Activity.Score</th><th scope=col>Intense.Duration..ms.</th><th scope=col>Moderate.Duration..ms.</th><th scope=col>Max.Heart.Rate..bpm.</th><th scope=col>Average.Heart.Rate..bpm.</th><th scope=col>Steps</th><th scope=col>Calories</th><th scope=col>Software.Version</th><th scope=col>Active.Time..ms.</th><th scope=col>Total.Duration..ms.</th></tr>\n",
       "\t<tr><th></th><th scope=col>&lt;chr&gt;</th><th scope=col>&lt;chr&gt;</th><th scope=col>&lt;chr&gt;</th><th scope=col>&lt;chr&gt;</th><th scope=col>&lt;chr&gt;</th><th scope=col>&lt;chr&gt;</th><th scope=col>&lt;dbl&gt;</th><th scope=col>&lt;chr&gt;</th><th scope=col>&lt;chr&gt;</th><th scope=col>&lt;chr&gt;</th><th scope=col>&lt;dbl&gt;</th><th scope=col>&lt;dbl&gt;</th><th scope=col>&lt;dbl&gt;</th><th scope=col>&lt;dbl&gt;</th><th scope=col>&lt;chr&gt;</th><th scope=col>&lt;dbl&gt;</th><th scope=col>&lt;dbl&gt;</th></tr>\n",
       "</thead>\n",
       "<tbody>\n",
       "\t<tr><th scope=row>1</th><td>2022-07-10</td><td>17:12:25.443Z</td><td>2022-07-10T17:35:21.364Z</td><td>WORKOUT</td><td>WALKING</td><td>Automatic</td><td>-6</td><td>22.301899999999996</td><td>274557.0 </td><td>780000.0</td><td>140</td><td>125</td><td>1724</td><td>272</td><td>1.0.118889</td><td>1375921</td><td>1375921</td></tr>\n",
       "\t<tr><th scope=row>2</th><td>2022-07-10</td><td>16:46:30.782Z</td><td>2022-07-10T17:12:25.405Z</td><td>WORKOUT</td><td>RUNNING</td><td>Automatic</td><td>-6</td><td>47.92118166666667 </td><td>1405405.0</td><td>60000.0 </td><td>169</td><td>150</td><td>3587</td><td>419</td><td>1.0.118889</td><td>1554623</td><td>1554623</td></tr>\n",
       "</tbody>\n",
       "</table>\n"
      ],
      "text/latex": [
       "A data.frame: 2 × 17\n",
       "\\begin{tabular}{r|lllllllllllllllll}\n",
       "  & Date & Time & End.Time & Session.Type & Session.Subtype & Creation.Method & Local.Time.Zone.Offset & Activity.Score & Intense.Duration..ms. & Moderate.Duration..ms. & Max.Heart.Rate..bpm. & Average.Heart.Rate..bpm. & Steps & Calories & Software.Version & Active.Time..ms. & Total.Duration..ms.\\\\\n",
       "  & <chr> & <chr> & <chr> & <chr> & <chr> & <chr> & <dbl> & <chr> & <chr> & <chr> & <dbl> & <dbl> & <dbl> & <dbl> & <chr> & <dbl> & <dbl>\\\\\n",
       "\\hline\n",
       "\t1 & 2022-07-10 & 17:12:25.443Z & 2022-07-10T17:35:21.364Z & WORKOUT & WALKING & Automatic & -6 & 22.301899999999996 & 274557.0  & 780000.0 & 140 & 125 & 1724 & 272 & 1.0.118889 & 1375921 & 1375921\\\\\n",
       "\t2 & 2022-07-10 & 16:46:30.782Z & 2022-07-10T17:12:25.405Z & WORKOUT & RUNNING & Automatic & -6 & 47.92118166666667  & 1405405.0 & 60000.0  & 169 & 150 & 3587 & 419 & 1.0.118889 & 1554623 & 1554623\\\\\n",
       "\\end{tabular}\n"
      ],
      "text/markdown": [
       "\n",
       "A data.frame: 2 × 17\n",
       "\n",
       "| <!--/--> | Date &lt;chr&gt; | Time &lt;chr&gt; | End.Time &lt;chr&gt; | Session.Type &lt;chr&gt; | Session.Subtype &lt;chr&gt; | Creation.Method &lt;chr&gt; | Local.Time.Zone.Offset &lt;dbl&gt; | Activity.Score &lt;chr&gt; | Intense.Duration..ms. &lt;chr&gt; | Moderate.Duration..ms. &lt;chr&gt; | Max.Heart.Rate..bpm. &lt;dbl&gt; | Average.Heart.Rate..bpm. &lt;dbl&gt; | Steps &lt;dbl&gt; | Calories &lt;dbl&gt; | Software.Version &lt;chr&gt; | Active.Time..ms. &lt;dbl&gt; | Total.Duration..ms. &lt;dbl&gt; |\n",
       "|---|---|---|---|---|---|---|---|---|---|---|---|---|---|---|---|---|---|\n",
       "| 1 | 2022-07-10 | 17:12:25.443Z | 2022-07-10T17:35:21.364Z | WORKOUT | WALKING | Automatic | -6 | 22.301899999999996 | 274557.0  | 780000.0 | 140 | 125 | 1724 | 272 | 1.0.118889 | 1375921 | 1375921 |\n",
       "| 2 | 2022-07-10 | 16:46:30.782Z | 2022-07-10T17:12:25.405Z | WORKOUT | RUNNING | Automatic | -6 | 47.92118166666667  | 1405405.0 | 60000.0  | 169 | 150 | 3587 | 419 | 1.0.118889 | 1554623 | 1554623 |\n",
       "\n"
      ],
      "text/plain": [
       "  Date       Time          End.Time                 Session.Type\n",
       "1 2022-07-10 17:12:25.443Z 2022-07-10T17:35:21.364Z WORKOUT     \n",
       "2 2022-07-10 16:46:30.782Z 2022-07-10T17:12:25.405Z WORKOUT     \n",
       "  Session.Subtype Creation.Method Local.Time.Zone.Offset Activity.Score    \n",
       "1 WALKING         Automatic       -6                     22.301899999999996\n",
       "2 RUNNING         Automatic       -6                     47.92118166666667 \n",
       "  Intense.Duration..ms. Moderate.Duration..ms. Max.Heart.Rate..bpm.\n",
       "1 274557.0              780000.0               140                 \n",
       "2 1405405.0             60000.0                169                 \n",
       "  Average.Heart.Rate..bpm. Steps Calories Software.Version Active.Time..ms.\n",
       "1 125                      1724  272      1.0.118889       1375921         \n",
       "2 150                      3587  419      1.0.118889       1554623         \n",
       "  Total.Duration..ms.\n",
       "1 1375921            \n",
       "2 1554623            "
      ]
     },
     "metadata": {},
     "output_type": "display_data"
    }
   ],
   "source": [
    "head(cadf, 2)"
   ]
  },
  {
   "cell_type": "code",
   "execution_count": 746,
   "metadata": {
    "vscode": {
     "languageId": "r"
    }
   },
   "outputs": [],
   "source": [
    "cadf <- cadf %>% mutate(Date = as.Date(Date))"
   ]
  },
  {
   "cell_type": "code",
   "execution_count": 747,
   "metadata": {
    "vscode": {
     "languageId": "r"
    }
   },
   "outputs": [],
   "source": [
    "# mymerge <- merge(cadf, df, by = c(\"Date\"))"
   ]
  },
  {
   "cell_type": "code",
   "execution_count": 748,
   "metadata": {
    "vscode": {
     "languageId": "r"
    }
   },
   "outputs": [],
   "source": [
    "library(stringr)\n",
    "library(tidyr)\n",
    "cadf <- separate(cadf, Time, c('Times', 'Ms'), \"[.]\")"
   ]
  },
  {
   "cell_type": "code",
   "execution_count": 749,
   "metadata": {
    "vscode": {
     "languageId": "r"
    }
   },
   "outputs": [
    {
     "data": {
      "text/html": [
       "<table class=\"dataframe\">\n",
       "<caption>A data.frame: 1 × 18</caption>\n",
       "<thead>\n",
       "\t<tr><th></th><th scope=col>Date</th><th scope=col>Times</th><th scope=col>Ms</th><th scope=col>End.Time</th><th scope=col>Session.Type</th><th scope=col>Session.Subtype</th><th scope=col>Creation.Method</th><th scope=col>Local.Time.Zone.Offset</th><th scope=col>Activity.Score</th><th scope=col>Intense.Duration..ms.</th><th scope=col>Moderate.Duration..ms.</th><th scope=col>Max.Heart.Rate..bpm.</th><th scope=col>Average.Heart.Rate..bpm.</th><th scope=col>Steps</th><th scope=col>Calories</th><th scope=col>Software.Version</th><th scope=col>Active.Time..ms.</th><th scope=col>Total.Duration..ms.</th></tr>\n",
       "\t<tr><th></th><th scope=col>&lt;date&gt;</th><th scope=col>&lt;chr&gt;</th><th scope=col>&lt;chr&gt;</th><th scope=col>&lt;chr&gt;</th><th scope=col>&lt;chr&gt;</th><th scope=col>&lt;chr&gt;</th><th scope=col>&lt;chr&gt;</th><th scope=col>&lt;dbl&gt;</th><th scope=col>&lt;chr&gt;</th><th scope=col>&lt;chr&gt;</th><th scope=col>&lt;chr&gt;</th><th scope=col>&lt;dbl&gt;</th><th scope=col>&lt;dbl&gt;</th><th scope=col>&lt;dbl&gt;</th><th scope=col>&lt;dbl&gt;</th><th scope=col>&lt;chr&gt;</th><th scope=col>&lt;dbl&gt;</th><th scope=col>&lt;dbl&gt;</th></tr>\n",
       "</thead>\n",
       "<tbody>\n",
       "\t<tr><th scope=row>1</th><td>2022-07-10</td><td>17:12:25</td><td>443Z</td><td>2022-07-10T17:35:21.364Z</td><td>WORKOUT</td><td>WALKING</td><td>Automatic</td><td>-6</td><td>22.301899999999996</td><td>274557.0</td><td>780000.0</td><td>140</td><td>125</td><td>1724</td><td>272</td><td>1.0.118889</td><td>1375921</td><td>1375921</td></tr>\n",
       "</tbody>\n",
       "</table>\n"
      ],
      "text/latex": [
       "A data.frame: 1 × 18\n",
       "\\begin{tabular}{r|llllllllllllllllll}\n",
       "  & Date & Times & Ms & End.Time & Session.Type & Session.Subtype & Creation.Method & Local.Time.Zone.Offset & Activity.Score & Intense.Duration..ms. & Moderate.Duration..ms. & Max.Heart.Rate..bpm. & Average.Heart.Rate..bpm. & Steps & Calories & Software.Version & Active.Time..ms. & Total.Duration..ms.\\\\\n",
       "  & <date> & <chr> & <chr> & <chr> & <chr> & <chr> & <chr> & <dbl> & <chr> & <chr> & <chr> & <dbl> & <dbl> & <dbl> & <dbl> & <chr> & <dbl> & <dbl>\\\\\n",
       "\\hline\n",
       "\t1 & 2022-07-10 & 17:12:25 & 443Z & 2022-07-10T17:35:21.364Z & WORKOUT & WALKING & Automatic & -6 & 22.301899999999996 & 274557.0 & 780000.0 & 140 & 125 & 1724 & 272 & 1.0.118889 & 1375921 & 1375921\\\\\n",
       "\\end{tabular}\n"
      ],
      "text/markdown": [
       "\n",
       "A data.frame: 1 × 18\n",
       "\n",
       "| <!--/--> | Date &lt;date&gt; | Times &lt;chr&gt; | Ms &lt;chr&gt; | End.Time &lt;chr&gt; | Session.Type &lt;chr&gt; | Session.Subtype &lt;chr&gt; | Creation.Method &lt;chr&gt; | Local.Time.Zone.Offset &lt;dbl&gt; | Activity.Score &lt;chr&gt; | Intense.Duration..ms. &lt;chr&gt; | Moderate.Duration..ms. &lt;chr&gt; | Max.Heart.Rate..bpm. &lt;dbl&gt; | Average.Heart.Rate..bpm. &lt;dbl&gt; | Steps &lt;dbl&gt; | Calories &lt;dbl&gt; | Software.Version &lt;chr&gt; | Active.Time..ms. &lt;dbl&gt; | Total.Duration..ms. &lt;dbl&gt; |\n",
       "|---|---|---|---|---|---|---|---|---|---|---|---|---|---|---|---|---|---|---|\n",
       "| 1 | 2022-07-10 | 17:12:25 | 443Z | 2022-07-10T17:35:21.364Z | WORKOUT | WALKING | Automatic | -6 | 22.301899999999996 | 274557.0 | 780000.0 | 140 | 125 | 1724 | 272 | 1.0.118889 | 1375921 | 1375921 |\n",
       "\n"
      ],
      "text/plain": [
       "  Date       Times    Ms   End.Time                 Session.Type\n",
       "1 2022-07-10 17:12:25 443Z 2022-07-10T17:35:21.364Z WORKOUT     \n",
       "  Session.Subtype Creation.Method Local.Time.Zone.Offset Activity.Score    \n",
       "1 WALKING         Automatic       -6                     22.301899999999996\n",
       "  Intense.Duration..ms. Moderate.Duration..ms. Max.Heart.Rate..bpm.\n",
       "1 274557.0              780000.0               140                 \n",
       "  Average.Heart.Rate..bpm. Steps Calories Software.Version Active.Time..ms.\n",
       "1 125                      1724  272      1.0.118889       1375921         \n",
       "  Total.Duration..ms.\n",
       "1 1375921            "
      ]
     },
     "metadata": {},
     "output_type": "display_data"
    }
   ],
   "source": [
    "head(cadf, 1)"
   ]
  },
  {
   "cell_type": "code",
   "execution_count": 750,
   "metadata": {
    "vscode": {
     "languageId": "r"
    }
   },
   "outputs": [],
   "source": [
    "cadf$DTS <- with(cadf, ymd(Date) + hms(Times))"
   ]
  },
  {
   "cell_type": "code",
   "execution_count": 751,
   "metadata": {
    "vscode": {
     "languageId": "r"
    }
   },
   "outputs": [],
   "source": [
    "library(\"lubridate\")\n",
    "hours <- -3600 * cadf$Local.Time.Zone.Offset\n",
    "cadf$my_date_time1 <- cadf$DTS + (-3600 * cadf$Local.Time.Zone.Offset)"
   ]
  },
  {
   "cell_type": "code",
   "execution_count": 752,
   "metadata": {
    "vscode": {
     "languageId": "r"
    }
   },
   "outputs": [
    {
     "data": {
      "text/html": [
       "<table class=\"dataframe\">\n",
       "<caption>A data.frame: 1 × 20</caption>\n",
       "<thead>\n",
       "\t<tr><th></th><th scope=col>Date</th><th scope=col>Times</th><th scope=col>Ms</th><th scope=col>End.Time</th><th scope=col>Session.Type</th><th scope=col>Session.Subtype</th><th scope=col>Creation.Method</th><th scope=col>Local.Time.Zone.Offset</th><th scope=col>Activity.Score</th><th scope=col>Intense.Duration..ms.</th><th scope=col>Moderate.Duration..ms.</th><th scope=col>Max.Heart.Rate..bpm.</th><th scope=col>Average.Heart.Rate..bpm.</th><th scope=col>Steps</th><th scope=col>Calories</th><th scope=col>Software.Version</th><th scope=col>Active.Time..ms.</th><th scope=col>Total.Duration..ms.</th><th scope=col>DTS</th><th scope=col>my_date_time1</th></tr>\n",
       "\t<tr><th></th><th scope=col>&lt;date&gt;</th><th scope=col>&lt;chr&gt;</th><th scope=col>&lt;chr&gt;</th><th scope=col>&lt;chr&gt;</th><th scope=col>&lt;chr&gt;</th><th scope=col>&lt;chr&gt;</th><th scope=col>&lt;chr&gt;</th><th scope=col>&lt;dbl&gt;</th><th scope=col>&lt;chr&gt;</th><th scope=col>&lt;chr&gt;</th><th scope=col>&lt;chr&gt;</th><th scope=col>&lt;dbl&gt;</th><th scope=col>&lt;dbl&gt;</th><th scope=col>&lt;dbl&gt;</th><th scope=col>&lt;dbl&gt;</th><th scope=col>&lt;chr&gt;</th><th scope=col>&lt;dbl&gt;</th><th scope=col>&lt;dbl&gt;</th><th scope=col>&lt;dttm&gt;</th><th scope=col>&lt;dttm&gt;</th></tr>\n",
       "</thead>\n",
       "<tbody>\n",
       "\t<tr><th scope=row>1</th><td>2022-07-10</td><td>17:12:25</td><td>443Z</td><td>2022-07-10T17:35:21.364Z</td><td>WORKOUT</td><td>WALKING</td><td>Automatic</td><td>-6</td><td>22.301899999999996</td><td>274557.0</td><td>780000.0</td><td>140</td><td>125</td><td>1724</td><td>272</td><td>1.0.118889</td><td>1375921</td><td>1375921</td><td>2022-07-10 17:12:25</td><td>2022-07-10 23:12:25</td></tr>\n",
       "</tbody>\n",
       "</table>\n"
      ],
      "text/latex": [
       "A data.frame: 1 × 20\n",
       "\\begin{tabular}{r|llllllllllllllllllll}\n",
       "  & Date & Times & Ms & End.Time & Session.Type & Session.Subtype & Creation.Method & Local.Time.Zone.Offset & Activity.Score & Intense.Duration..ms. & Moderate.Duration..ms. & Max.Heart.Rate..bpm. & Average.Heart.Rate..bpm. & Steps & Calories & Software.Version & Active.Time..ms. & Total.Duration..ms. & DTS & my\\_date\\_time1\\\\\n",
       "  & <date> & <chr> & <chr> & <chr> & <chr> & <chr> & <chr> & <dbl> & <chr> & <chr> & <chr> & <dbl> & <dbl> & <dbl> & <dbl> & <chr> & <dbl> & <dbl> & <dttm> & <dttm>\\\\\n",
       "\\hline\n",
       "\t1 & 2022-07-10 & 17:12:25 & 443Z & 2022-07-10T17:35:21.364Z & WORKOUT & WALKING & Automatic & -6 & 22.301899999999996 & 274557.0 & 780000.0 & 140 & 125 & 1724 & 272 & 1.0.118889 & 1375921 & 1375921 & 2022-07-10 17:12:25 & 2022-07-10 23:12:25\\\\\n",
       "\\end{tabular}\n"
      ],
      "text/markdown": [
       "\n",
       "A data.frame: 1 × 20\n",
       "\n",
       "| <!--/--> | Date &lt;date&gt; | Times &lt;chr&gt; | Ms &lt;chr&gt; | End.Time &lt;chr&gt; | Session.Type &lt;chr&gt; | Session.Subtype &lt;chr&gt; | Creation.Method &lt;chr&gt; | Local.Time.Zone.Offset &lt;dbl&gt; | Activity.Score &lt;chr&gt; | Intense.Duration..ms. &lt;chr&gt; | Moderate.Duration..ms. &lt;chr&gt; | Max.Heart.Rate..bpm. &lt;dbl&gt; | Average.Heart.Rate..bpm. &lt;dbl&gt; | Steps &lt;dbl&gt; | Calories &lt;dbl&gt; | Software.Version &lt;chr&gt; | Active.Time..ms. &lt;dbl&gt; | Total.Duration..ms. &lt;dbl&gt; | DTS &lt;dttm&gt; | my_date_time1 &lt;dttm&gt; |\n",
       "|---|---|---|---|---|---|---|---|---|---|---|---|---|---|---|---|---|---|---|---|---|\n",
       "| 1 | 2022-07-10 | 17:12:25 | 443Z | 2022-07-10T17:35:21.364Z | WORKOUT | WALKING | Automatic | -6 | 22.301899999999996 | 274557.0 | 780000.0 | 140 | 125 | 1724 | 272 | 1.0.118889 | 1375921 | 1375921 | 2022-07-10 17:12:25 | 2022-07-10 23:12:25 |\n",
       "\n"
      ],
      "text/plain": [
       "  Date       Times    Ms   End.Time                 Session.Type\n",
       "1 2022-07-10 17:12:25 443Z 2022-07-10T17:35:21.364Z WORKOUT     \n",
       "  Session.Subtype Creation.Method Local.Time.Zone.Offset Activity.Score    \n",
       "1 WALKING         Automatic       -6                     22.301899999999996\n",
       "  Intense.Duration..ms. Moderate.Duration..ms. Max.Heart.Rate..bpm.\n",
       "1 274557.0              780000.0               140                 \n",
       "  Average.Heart.Rate..bpm. Steps Calories Software.Version Active.Time..ms.\n",
       "1 125                      1724  272      1.0.118889       1375921         \n",
       "  Total.Duration..ms. DTS                 my_date_time1      \n",
       "1 1375921             2022-07-10 17:12:25 2022-07-10 23:12:25"
      ]
     },
     "metadata": {},
     "output_type": "display_data"
    }
   ],
   "source": [
    "head(cadf, 1)"
   ]
  },
  {
   "cell_type": "code",
   "execution_count": 753,
   "metadata": {
    "vscode": {
     "languageId": "r"
    }
   },
   "outputs": [],
   "source": [
    "cadf <- separate(cadf, my_date_time1, c('Date 2', 'Time 2'), \" \")"
   ]
  },
  {
   "cell_type": "code",
   "execution_count": 754,
   "metadata": {
    "vscode": {
     "languageId": "r"
    }
   },
   "outputs": [
    {
     "data": {
      "text/html": [
       "<table class=\"dataframe\">\n",
       "<caption>A data.frame: 1 × 21</caption>\n",
       "<thead>\n",
       "\t<tr><th></th><th scope=col>Date</th><th scope=col>Times</th><th scope=col>Ms</th><th scope=col>End.Time</th><th scope=col>Session.Type</th><th scope=col>Session.Subtype</th><th scope=col>Creation.Method</th><th scope=col>Local.Time.Zone.Offset</th><th scope=col>Activity.Score</th><th scope=col>Intense.Duration..ms.</th><th scope=col>⋯</th><th scope=col>Max.Heart.Rate..bpm.</th><th scope=col>Average.Heart.Rate..bpm.</th><th scope=col>Steps</th><th scope=col>Calories</th><th scope=col>Software.Version</th><th scope=col>Active.Time..ms.</th><th scope=col>Total.Duration..ms.</th><th scope=col>DTS</th><th scope=col>Date 2</th><th scope=col>Time 2</th></tr>\n",
       "\t<tr><th></th><th scope=col>&lt;date&gt;</th><th scope=col>&lt;chr&gt;</th><th scope=col>&lt;chr&gt;</th><th scope=col>&lt;chr&gt;</th><th scope=col>&lt;chr&gt;</th><th scope=col>&lt;chr&gt;</th><th scope=col>&lt;chr&gt;</th><th scope=col>&lt;dbl&gt;</th><th scope=col>&lt;chr&gt;</th><th scope=col>&lt;chr&gt;</th><th scope=col>⋯</th><th scope=col>&lt;dbl&gt;</th><th scope=col>&lt;dbl&gt;</th><th scope=col>&lt;dbl&gt;</th><th scope=col>&lt;dbl&gt;</th><th scope=col>&lt;chr&gt;</th><th scope=col>&lt;dbl&gt;</th><th scope=col>&lt;dbl&gt;</th><th scope=col>&lt;dttm&gt;</th><th scope=col>&lt;chr&gt;</th><th scope=col>&lt;chr&gt;</th></tr>\n",
       "</thead>\n",
       "<tbody>\n",
       "\t<tr><th scope=row>1</th><td>2022-07-10</td><td>17:12:25</td><td>443Z</td><td>2022-07-10T17:35:21.364Z</td><td>WORKOUT</td><td>WALKING</td><td>Automatic</td><td>-6</td><td>22.301899999999996</td><td>274557.0</td><td>⋯</td><td>140</td><td>125</td><td>1724</td><td>272</td><td>1.0.118889</td><td>1375921</td><td>1375921</td><td>2022-07-10 17:12:25</td><td>2022-07-10</td><td>23:12:25</td></tr>\n",
       "</tbody>\n",
       "</table>\n"
      ],
      "text/latex": [
       "A data.frame: 1 × 21\n",
       "\\begin{tabular}{r|lllllllllllllllllllll}\n",
       "  & Date & Times & Ms & End.Time & Session.Type & Session.Subtype & Creation.Method & Local.Time.Zone.Offset & Activity.Score & Intense.Duration..ms. & ⋯ & Max.Heart.Rate..bpm. & Average.Heart.Rate..bpm. & Steps & Calories & Software.Version & Active.Time..ms. & Total.Duration..ms. & DTS & Date 2 & Time 2\\\\\n",
       "  & <date> & <chr> & <chr> & <chr> & <chr> & <chr> & <chr> & <dbl> & <chr> & <chr> & ⋯ & <dbl> & <dbl> & <dbl> & <dbl> & <chr> & <dbl> & <dbl> & <dttm> & <chr> & <chr>\\\\\n",
       "\\hline\n",
       "\t1 & 2022-07-10 & 17:12:25 & 443Z & 2022-07-10T17:35:21.364Z & WORKOUT & WALKING & Automatic & -6 & 22.301899999999996 & 274557.0 & ⋯ & 140 & 125 & 1724 & 272 & 1.0.118889 & 1375921 & 1375921 & 2022-07-10 17:12:25 & 2022-07-10 & 23:12:25\\\\\n",
       "\\end{tabular}\n"
      ],
      "text/markdown": [
       "\n",
       "A data.frame: 1 × 21\n",
       "\n",
       "| <!--/--> | Date &lt;date&gt; | Times &lt;chr&gt; | Ms &lt;chr&gt; | End.Time &lt;chr&gt; | Session.Type &lt;chr&gt; | Session.Subtype &lt;chr&gt; | Creation.Method &lt;chr&gt; | Local.Time.Zone.Offset &lt;dbl&gt; | Activity.Score &lt;chr&gt; | Intense.Duration..ms. &lt;chr&gt; | ⋯ ⋯ | Max.Heart.Rate..bpm. &lt;dbl&gt; | Average.Heart.Rate..bpm. &lt;dbl&gt; | Steps &lt;dbl&gt; | Calories &lt;dbl&gt; | Software.Version &lt;chr&gt; | Active.Time..ms. &lt;dbl&gt; | Total.Duration..ms. &lt;dbl&gt; | DTS &lt;dttm&gt; | Date 2 &lt;chr&gt; | Time 2 &lt;chr&gt; |\n",
       "|---|---|---|---|---|---|---|---|---|---|---|---|---|---|---|---|---|---|---|---|---|---|\n",
       "| 1 | 2022-07-10 | 17:12:25 | 443Z | 2022-07-10T17:35:21.364Z | WORKOUT | WALKING | Automatic | -6 | 22.301899999999996 | 274557.0 | ⋯ | 140 | 125 | 1724 | 272 | 1.0.118889 | 1375921 | 1375921 | 2022-07-10 17:12:25 | 2022-07-10 | 23:12:25 |\n",
       "\n"
      ],
      "text/plain": [
       "  Date       Times    Ms   End.Time                 Session.Type\n",
       "1 2022-07-10 17:12:25 443Z 2022-07-10T17:35:21.364Z WORKOUT     \n",
       "  Session.Subtype Creation.Method Local.Time.Zone.Offset Activity.Score    \n",
       "1 WALKING         Automatic       -6                     22.301899999999996\n",
       "  Intense.Duration..ms. <U+22EF>        Max.Heart.Rate..bpm. Average.Heart.Rate..bpm.\n",
       "1 274557.0              <U+22EF> 140                  125                     \n",
       "  Steps Calories Software.Version Active.Time..ms. Total.Duration..ms.\n",
       "1 1724  272      1.0.118889       1375921          1375921            \n",
       "  DTS                 Date 2     Time 2  \n",
       "1 2022-07-10 17:12:25 2022-07-10 23:12:25"
      ]
     },
     "metadata": {},
     "output_type": "display_data"
    }
   ],
   "source": [
    "head(cadf, 1)"
   ]
  },
  {
   "cell_type": "code",
   "execution_count": 755,
   "metadata": {
    "vscode": {
     "languageId": "r"
    }
   },
   "outputs": [],
   "source": [
    "cadf <- within(cadf, rm('Date', 'Time 2', 'Software.Version', 'Ms'))"
   ]
  },
  {
   "cell_type": "code",
   "execution_count": 756,
   "metadata": {
    "vscode": {
     "languageId": "r"
    }
   },
   "outputs": [
    {
     "data": {
      "text/html": [
       "<table class=\"dataframe\">\n",
       "<caption>A data.frame: 2 × 17</caption>\n",
       "<thead>\n",
       "\t<tr><th></th><th scope=col>Times</th><th scope=col>End.Time</th><th scope=col>Session.Type</th><th scope=col>Session.Subtype</th><th scope=col>Creation.Method</th><th scope=col>Local.Time.Zone.Offset</th><th scope=col>Activity.Score</th><th scope=col>Intense.Duration..ms.</th><th scope=col>Moderate.Duration..ms.</th><th scope=col>Max.Heart.Rate..bpm.</th><th scope=col>Average.Heart.Rate..bpm.</th><th scope=col>Steps</th><th scope=col>Calories</th><th scope=col>Active.Time..ms.</th><th scope=col>Total.Duration..ms.</th><th scope=col>DTS</th><th scope=col>Date 2</th></tr>\n",
       "\t<tr><th></th><th scope=col>&lt;chr&gt;</th><th scope=col>&lt;chr&gt;</th><th scope=col>&lt;chr&gt;</th><th scope=col>&lt;chr&gt;</th><th scope=col>&lt;chr&gt;</th><th scope=col>&lt;dbl&gt;</th><th scope=col>&lt;chr&gt;</th><th scope=col>&lt;chr&gt;</th><th scope=col>&lt;chr&gt;</th><th scope=col>&lt;dbl&gt;</th><th scope=col>&lt;dbl&gt;</th><th scope=col>&lt;dbl&gt;</th><th scope=col>&lt;dbl&gt;</th><th scope=col>&lt;dbl&gt;</th><th scope=col>&lt;dbl&gt;</th><th scope=col>&lt;dttm&gt;</th><th scope=col>&lt;chr&gt;</th></tr>\n",
       "</thead>\n",
       "<tbody>\n",
       "\t<tr><th scope=row>1</th><td>17:12:25</td><td>2022-07-10T17:35:21.364Z</td><td>WORKOUT</td><td>WALKING</td><td>Automatic</td><td>-6</td><td>22.301899999999996</td><td>274557.0 </td><td>780000.0</td><td>140</td><td>125</td><td>1724</td><td>272</td><td>1375921</td><td>1375921</td><td>2022-07-10 17:12:25</td><td>2022-07-10</td></tr>\n",
       "\t<tr><th scope=row>2</th><td>16:46:30</td><td>2022-07-10T17:12:25.405Z</td><td>WORKOUT</td><td>RUNNING</td><td>Automatic</td><td>-6</td><td>47.92118166666667 </td><td>1405405.0</td><td>60000.0 </td><td>169</td><td>150</td><td>3587</td><td>419</td><td>1554623</td><td>1554623</td><td>2022-07-10 16:46:30</td><td>2022-07-10</td></tr>\n",
       "</tbody>\n",
       "</table>\n"
      ],
      "text/latex": [
       "A data.frame: 2 × 17\n",
       "\\begin{tabular}{r|lllllllllllllllll}\n",
       "  & Times & End.Time & Session.Type & Session.Subtype & Creation.Method & Local.Time.Zone.Offset & Activity.Score & Intense.Duration..ms. & Moderate.Duration..ms. & Max.Heart.Rate..bpm. & Average.Heart.Rate..bpm. & Steps & Calories & Active.Time..ms. & Total.Duration..ms. & DTS & Date 2\\\\\n",
       "  & <chr> & <chr> & <chr> & <chr> & <chr> & <dbl> & <chr> & <chr> & <chr> & <dbl> & <dbl> & <dbl> & <dbl> & <dbl> & <dbl> & <dttm> & <chr>\\\\\n",
       "\\hline\n",
       "\t1 & 17:12:25 & 2022-07-10T17:35:21.364Z & WORKOUT & WALKING & Automatic & -6 & 22.301899999999996 & 274557.0  & 780000.0 & 140 & 125 & 1724 & 272 & 1375921 & 1375921 & 2022-07-10 17:12:25 & 2022-07-10\\\\\n",
       "\t2 & 16:46:30 & 2022-07-10T17:12:25.405Z & WORKOUT & RUNNING & Automatic & -6 & 47.92118166666667  & 1405405.0 & 60000.0  & 169 & 150 & 3587 & 419 & 1554623 & 1554623 & 2022-07-10 16:46:30 & 2022-07-10\\\\\n",
       "\\end{tabular}\n"
      ],
      "text/markdown": [
       "\n",
       "A data.frame: 2 × 17\n",
       "\n",
       "| <!--/--> | Times &lt;chr&gt; | End.Time &lt;chr&gt; | Session.Type &lt;chr&gt; | Session.Subtype &lt;chr&gt; | Creation.Method &lt;chr&gt; | Local.Time.Zone.Offset &lt;dbl&gt; | Activity.Score &lt;chr&gt; | Intense.Duration..ms. &lt;chr&gt; | Moderate.Duration..ms. &lt;chr&gt; | Max.Heart.Rate..bpm. &lt;dbl&gt; | Average.Heart.Rate..bpm. &lt;dbl&gt; | Steps &lt;dbl&gt; | Calories &lt;dbl&gt; | Active.Time..ms. &lt;dbl&gt; | Total.Duration..ms. &lt;dbl&gt; | DTS &lt;dttm&gt; | Date 2 &lt;chr&gt; |\n",
       "|---|---|---|---|---|---|---|---|---|---|---|---|---|---|---|---|---|---|\n",
       "| 1 | 17:12:25 | 2022-07-10T17:35:21.364Z | WORKOUT | WALKING | Automatic | -6 | 22.301899999999996 | 274557.0  | 780000.0 | 140 | 125 | 1724 | 272 | 1375921 | 1375921 | 2022-07-10 17:12:25 | 2022-07-10 |\n",
       "| 2 | 16:46:30 | 2022-07-10T17:12:25.405Z | WORKOUT | RUNNING | Automatic | -6 | 47.92118166666667  | 1405405.0 | 60000.0  | 169 | 150 | 3587 | 419 | 1554623 | 1554623 | 2022-07-10 16:46:30 | 2022-07-10 |\n",
       "\n"
      ],
      "text/plain": [
       "  Times    End.Time                 Session.Type Session.Subtype\n",
       "1 17:12:25 2022-07-10T17:35:21.364Z WORKOUT      WALKING        \n",
       "2 16:46:30 2022-07-10T17:12:25.405Z WORKOUT      RUNNING        \n",
       "  Creation.Method Local.Time.Zone.Offset Activity.Score    \n",
       "1 Automatic       -6                     22.301899999999996\n",
       "2 Automatic       -6                     47.92118166666667 \n",
       "  Intense.Duration..ms. Moderate.Duration..ms. Max.Heart.Rate..bpm.\n",
       "1 274557.0              780000.0               140                 \n",
       "2 1405405.0             60000.0                169                 \n",
       "  Average.Heart.Rate..bpm. Steps Calories Active.Time..ms. Total.Duration..ms.\n",
       "1 125                      1724  272      1375921          1375921            \n",
       "2 150                      3587  419      1554623          1554623            \n",
       "  DTS                 Date 2    \n",
       "1 2022-07-10 17:12:25 2022-07-10\n",
       "2 2022-07-10 16:46:30 2022-07-10"
      ]
     },
     "metadata": {},
     "output_type": "display_data"
    }
   ],
   "source": [
    "head(cadf, 2)"
   ]
  },
  {
   "cell_type": "code",
   "execution_count": 757,
   "metadata": {
    "vscode": {
     "languageId": "r"
    }
   },
   "outputs": [],
   "source": [
    "names(cadf)[17] <- 'Date'"
   ]
  },
  {
   "cell_type": "code",
   "execution_count": 758,
   "metadata": {
    "vscode": {
     "languageId": "r"
    }
   },
   "outputs": [
    {
     "data": {
      "text/html": [
       "<table class=\"dataframe\">\n",
       "<caption>A data.frame: 2 × 17</caption>\n",
       "<thead>\n",
       "\t<tr><th></th><th scope=col>Times</th><th scope=col>End.Time</th><th scope=col>Session.Type</th><th scope=col>Session.Subtype</th><th scope=col>Creation.Method</th><th scope=col>Local.Time.Zone.Offset</th><th scope=col>Activity.Score</th><th scope=col>Intense.Duration..ms.</th><th scope=col>Moderate.Duration..ms.</th><th scope=col>Max.Heart.Rate..bpm.</th><th scope=col>Average.Heart.Rate..bpm.</th><th scope=col>Steps</th><th scope=col>Calories</th><th scope=col>Active.Time..ms.</th><th scope=col>Total.Duration..ms.</th><th scope=col>DTS</th><th scope=col>Date</th></tr>\n",
       "\t<tr><th></th><th scope=col>&lt;chr&gt;</th><th scope=col>&lt;chr&gt;</th><th scope=col>&lt;chr&gt;</th><th scope=col>&lt;chr&gt;</th><th scope=col>&lt;chr&gt;</th><th scope=col>&lt;dbl&gt;</th><th scope=col>&lt;chr&gt;</th><th scope=col>&lt;chr&gt;</th><th scope=col>&lt;chr&gt;</th><th scope=col>&lt;dbl&gt;</th><th scope=col>&lt;dbl&gt;</th><th scope=col>&lt;dbl&gt;</th><th scope=col>&lt;dbl&gt;</th><th scope=col>&lt;dbl&gt;</th><th scope=col>&lt;dbl&gt;</th><th scope=col>&lt;dttm&gt;</th><th scope=col>&lt;chr&gt;</th></tr>\n",
       "</thead>\n",
       "<tbody>\n",
       "\t<tr><th scope=row>1</th><td>17:12:25</td><td>2022-07-10T17:35:21.364Z</td><td>WORKOUT</td><td>WALKING</td><td>Automatic</td><td>-6</td><td>22.301899999999996</td><td>274557.0 </td><td>780000.0</td><td>140</td><td>125</td><td>1724</td><td>272</td><td>1375921</td><td>1375921</td><td>2022-07-10 17:12:25</td><td>2022-07-10</td></tr>\n",
       "\t<tr><th scope=row>2</th><td>16:46:30</td><td>2022-07-10T17:12:25.405Z</td><td>WORKOUT</td><td>RUNNING</td><td>Automatic</td><td>-6</td><td>47.92118166666667 </td><td>1405405.0</td><td>60000.0 </td><td>169</td><td>150</td><td>3587</td><td>419</td><td>1554623</td><td>1554623</td><td>2022-07-10 16:46:30</td><td>2022-07-10</td></tr>\n",
       "</tbody>\n",
       "</table>\n"
      ],
      "text/latex": [
       "A data.frame: 2 × 17\n",
       "\\begin{tabular}{r|lllllllllllllllll}\n",
       "  & Times & End.Time & Session.Type & Session.Subtype & Creation.Method & Local.Time.Zone.Offset & Activity.Score & Intense.Duration..ms. & Moderate.Duration..ms. & Max.Heart.Rate..bpm. & Average.Heart.Rate..bpm. & Steps & Calories & Active.Time..ms. & Total.Duration..ms. & DTS & Date\\\\\n",
       "  & <chr> & <chr> & <chr> & <chr> & <chr> & <dbl> & <chr> & <chr> & <chr> & <dbl> & <dbl> & <dbl> & <dbl> & <dbl> & <dbl> & <dttm> & <chr>\\\\\n",
       "\\hline\n",
       "\t1 & 17:12:25 & 2022-07-10T17:35:21.364Z & WORKOUT & WALKING & Automatic & -6 & 22.301899999999996 & 274557.0  & 780000.0 & 140 & 125 & 1724 & 272 & 1375921 & 1375921 & 2022-07-10 17:12:25 & 2022-07-10\\\\\n",
       "\t2 & 16:46:30 & 2022-07-10T17:12:25.405Z & WORKOUT & RUNNING & Automatic & -6 & 47.92118166666667  & 1405405.0 & 60000.0  & 169 & 150 & 3587 & 419 & 1554623 & 1554623 & 2022-07-10 16:46:30 & 2022-07-10\\\\\n",
       "\\end{tabular}\n"
      ],
      "text/markdown": [
       "\n",
       "A data.frame: 2 × 17\n",
       "\n",
       "| <!--/--> | Times &lt;chr&gt; | End.Time &lt;chr&gt; | Session.Type &lt;chr&gt; | Session.Subtype &lt;chr&gt; | Creation.Method &lt;chr&gt; | Local.Time.Zone.Offset &lt;dbl&gt; | Activity.Score &lt;chr&gt; | Intense.Duration..ms. &lt;chr&gt; | Moderate.Duration..ms. &lt;chr&gt; | Max.Heart.Rate..bpm. &lt;dbl&gt; | Average.Heart.Rate..bpm. &lt;dbl&gt; | Steps &lt;dbl&gt; | Calories &lt;dbl&gt; | Active.Time..ms. &lt;dbl&gt; | Total.Duration..ms. &lt;dbl&gt; | DTS &lt;dttm&gt; | Date &lt;chr&gt; |\n",
       "|---|---|---|---|---|---|---|---|---|---|---|---|---|---|---|---|---|---|\n",
       "| 1 | 17:12:25 | 2022-07-10T17:35:21.364Z | WORKOUT | WALKING | Automatic | -6 | 22.301899999999996 | 274557.0  | 780000.0 | 140 | 125 | 1724 | 272 | 1375921 | 1375921 | 2022-07-10 17:12:25 | 2022-07-10 |\n",
       "| 2 | 16:46:30 | 2022-07-10T17:12:25.405Z | WORKOUT | RUNNING | Automatic | -6 | 47.92118166666667  | 1405405.0 | 60000.0  | 169 | 150 | 3587 | 419 | 1554623 | 1554623 | 2022-07-10 16:46:30 | 2022-07-10 |\n",
       "\n"
      ],
      "text/plain": [
       "  Times    End.Time                 Session.Type Session.Subtype\n",
       "1 17:12:25 2022-07-10T17:35:21.364Z WORKOUT      WALKING        \n",
       "2 16:46:30 2022-07-10T17:12:25.405Z WORKOUT      RUNNING        \n",
       "  Creation.Method Local.Time.Zone.Offset Activity.Score    \n",
       "1 Automatic       -6                     22.301899999999996\n",
       "2 Automatic       -6                     47.92118166666667 \n",
       "  Intense.Duration..ms. Moderate.Duration..ms. Max.Heart.Rate..bpm.\n",
       "1 274557.0              780000.0               140                 \n",
       "2 1405405.0             60000.0                169                 \n",
       "  Average.Heart.Rate..bpm. Steps Calories Active.Time..ms. Total.Duration..ms.\n",
       "1 125                      1724  272      1375921          1375921            \n",
       "2 150                      3587  419      1554623          1554623            \n",
       "  DTS                 Date      \n",
       "1 2022-07-10 17:12:25 2022-07-10\n",
       "2 2022-07-10 16:46:30 2022-07-10"
      ]
     },
     "metadata": {},
     "output_type": "display_data"
    }
   ],
   "source": [
    "head(cadf, 2)"
   ]
  },
  {
   "cell_type": "code",
   "execution_count": 759,
   "metadata": {
    "vscode": {
     "languageId": "r"
    }
   },
   "outputs": [],
   "source": [
    "df$Date <- as.Date(df$Date)\n",
    "cadf$Date <- as.Date(cadf$Date)"
   ]
  },
  {
   "cell_type": "code",
   "execution_count": 760,
   "metadata": {
    "vscode": {
     "languageId": "r"
    }
   },
   "outputs": [
    {
     "data": {
      "text/html": [
       "<table class=\"dataframe\">\n",
       "<caption>A data.frame: 2 × 17</caption>\n",
       "<thead>\n",
       "\t<tr><th></th><th scope=col>Date.Sub</th><th scope=col>Date</th><th scope=col>Activity</th><th scope=col>Cal.Burned</th><th scope=col>Distance</th><th scope=col>Duration</th><th scope=col>Avg.Pace</th><th scope=col>Max.Pace</th><th scope=col>Avg.Spd</th><th scope=col>Max.Spd</th><th scope=col>Avg.HR</th><th scope=col>Steps</th><th scope=col>duration</th><th scope=col>day</th><th scope=col>month</th><th scope=col>year</th><th scope=col>Miles</th></tr>\n",
       "\t<tr><th></th><th scope=col>&lt;date&gt;</th><th scope=col>&lt;date&gt;</th><th scope=col>&lt;chr&gt;</th><th scope=col>&lt;dbl&gt;</th><th scope=col>&lt;dbl&gt;</th><th scope=col>&lt;dbl&gt;</th><th scope=col>&lt;dbl&gt;</th><th scope=col>&lt;dbl&gt;</th><th scope=col>&lt;dbl&gt;</th><th scope=col>&lt;dbl&gt;</th><th scope=col>&lt;dbl&gt;</th><th scope=col>&lt;dbl&gt;</th><th scope=col>&lt;dbl&gt;</th><th scope=col>&lt;chr&gt;</th><th scope=col>&lt;chr&gt;</th><th scope=col>&lt;int&gt;</th><th scope=col>&lt;fct&gt;</th></tr>\n",
       "</thead>\n",
       "<tbody>\n",
       "\t<tr><th scope=row>1</th><td>2022-07-10</td><td>2022-07-10</td><td>Run</td><td>429</td><td>3.1</td><td>2301</td><td>12.37</td><td>0.99</td><td>4.85</td><td>60.41</td><td>149</td><td>5125</td><td>38.35</td><td>Sunday  </td><td>July</td><td>2022</td><td>(3.09,6.21]</td></tr>\n",
       "\t<tr><th scope=row>2</th><td>2022-07-09</td><td>2022-07-09</td><td>Run</td><td>430</td><td>3.1</td><td>2005</td><td>10.77</td><td>1.17</td><td>5.57</td><td>51.45</td><td>157</td><td>5261</td><td>33.42</td><td>Saturday</td><td>July</td><td>2022</td><td>(3.09,6.21]</td></tr>\n",
       "</tbody>\n",
       "</table>\n"
      ],
      "text/latex": [
       "A data.frame: 2 × 17\n",
       "\\begin{tabular}{r|lllllllllllllllll}\n",
       "  & Date.Sub & Date & Activity & Cal.Burned & Distance & Duration & Avg.Pace & Max.Pace & Avg.Spd & Max.Spd & Avg.HR & Steps & duration & day & month & year & Miles\\\\\n",
       "  & <date> & <date> & <chr> & <dbl> & <dbl> & <dbl> & <dbl> & <dbl> & <dbl> & <dbl> & <dbl> & <dbl> & <dbl> & <chr> & <chr> & <int> & <fct>\\\\\n",
       "\\hline\n",
       "\t1 & 2022-07-10 & 2022-07-10 & Run & 429 & 3.1 & 2301 & 12.37 & 0.99 & 4.85 & 60.41 & 149 & 5125 & 38.35 & Sunday   & July & 2022 & (3.09,6.21{]}\\\\\n",
       "\t2 & 2022-07-09 & 2022-07-09 & Run & 430 & 3.1 & 2005 & 10.77 & 1.17 & 5.57 & 51.45 & 157 & 5261 & 33.42 & Saturday & July & 2022 & (3.09,6.21{]}\\\\\n",
       "\\end{tabular}\n"
      ],
      "text/markdown": [
       "\n",
       "A data.frame: 2 × 17\n",
       "\n",
       "| <!--/--> | Date.Sub &lt;date&gt; | Date &lt;date&gt; | Activity &lt;chr&gt; | Cal.Burned &lt;dbl&gt; | Distance &lt;dbl&gt; | Duration &lt;dbl&gt; | Avg.Pace &lt;dbl&gt; | Max.Pace &lt;dbl&gt; | Avg.Spd &lt;dbl&gt; | Max.Spd &lt;dbl&gt; | Avg.HR &lt;dbl&gt; | Steps &lt;dbl&gt; | duration &lt;dbl&gt; | day &lt;chr&gt; | month &lt;chr&gt; | year &lt;int&gt; | Miles &lt;fct&gt; |\n",
       "|---|---|---|---|---|---|---|---|---|---|---|---|---|---|---|---|---|---|\n",
       "| 1 | 2022-07-10 | 2022-07-10 | Run | 429 | 3.1 | 2301 | 12.37 | 0.99 | 4.85 | 60.41 | 149 | 5125 | 38.35 | Sunday   | July | 2022 | (3.09,6.21] |\n",
       "| 2 | 2022-07-09 | 2022-07-09 | Run | 430 | 3.1 | 2005 | 10.77 | 1.17 | 5.57 | 51.45 | 157 | 5261 | 33.42 | Saturday | July | 2022 | (3.09,6.21] |\n",
       "\n"
      ],
      "text/plain": [
       "  Date.Sub   Date       Activity Cal.Burned Distance Duration Avg.Pace Max.Pace\n",
       "1 2022-07-10 2022-07-10 Run      429        3.1      2301     12.37    0.99    \n",
       "2 2022-07-09 2022-07-09 Run      430        3.1      2005     10.77    1.17    \n",
       "  Avg.Spd Max.Spd Avg.HR Steps duration day      month year Miles      \n",
       "1 4.85    60.41   149    5125  38.35    Sunday   July  2022 (3.09,6.21]\n",
       "2 5.57    51.45   157    5261  33.42    Saturday July  2022 (3.09,6.21]"
      ]
     },
     "metadata": {},
     "output_type": "display_data"
    }
   ],
   "source": [
    "head(df, 2)"
   ]
  },
  {
   "cell_type": "code",
   "execution_count": 761,
   "metadata": {
    "vscode": {
     "languageId": "r"
    }
   },
   "outputs": [],
   "source": [
    "cadf2 <- filter(cadf, Session.Subtype == 'RUNNING')"
   ]
  },
  {
   "cell_type": "code",
   "execution_count": 762,
   "metadata": {
    "vscode": {
     "languageId": "r"
    }
   },
   "outputs": [],
   "source": [
    "mymerge <-merge(x=cadf2,y=df,by='Date')"
   ]
  },
  {
   "cell_type": "code",
   "execution_count": 763,
   "metadata": {
    "vscode": {
     "languageId": "r"
    }
   },
   "outputs": [
    {
     "data": {
      "text/html": [
       "33"
      ],
      "text/latex": [
       "33"
      ],
      "text/markdown": [
       "33"
      ],
      "text/plain": [
       "[1] 33"
      ]
     },
     "metadata": {},
     "output_type": "display_data"
    },
    {
     "data": {
      "text/html": [
       "17"
      ],
      "text/latex": [
       "17"
      ],
      "text/markdown": [
       "17"
      ],
      "text/plain": [
       "[1] 17"
      ]
     },
     "metadata": {},
     "output_type": "display_data"
    },
    {
     "data": {
      "text/html": [
       "17"
      ],
      "text/latex": [
       "17"
      ],
      "text/markdown": [
       "17"
      ],
      "text/plain": [
       "[1] 17"
      ]
     },
     "metadata": {},
     "output_type": "display_data"
    },
    {
     "data": {
      "text/html": [
       "65"
      ],
      "text/latex": [
       "65"
      ],
      "text/markdown": [
       "65"
      ],
      "text/plain": [
       "[1] 65"
      ]
     },
     "metadata": {},
     "output_type": "display_data"
    },
    {
     "data": {
      "text/html": [
       "151"
      ],
      "text/latex": [
       "151"
      ],
      "text/markdown": [
       "151"
      ],
      "text/plain": [
       "[1] 151"
      ]
     },
     "metadata": {},
     "output_type": "display_data"
    },
    {
     "data": {
      "text/html": [
       "688"
      ],
      "text/latex": [
       "688"
      ],
      "text/markdown": [
       "688"
      ],
      "text/plain": [
       "[1] 688"
      ]
     },
     "metadata": {},
     "output_type": "display_data"
    }
   ],
   "source": [
    "length(mymerge)\n",
    "length(cadf2)\n",
    "length(df)\n",
    "nrow(mymerge)\n",
    "nrow(cadf2)\n",
    "nrow(df)"
   ]
  },
  {
   "cell_type": "code",
   "execution_count": 764,
   "metadata": {
    "vscode": {
     "languageId": "r"
    }
   },
   "outputs": [],
   "source": [
    "mymerge <- mymerge[order(mymerge$Date),]"
   ]
  },
  {
   "cell_type": "code",
   "execution_count": 765,
   "metadata": {
    "vscode": {
     "languageId": "r"
    }
   },
   "outputs": [
    {
     "data": {
      "text/html": [
       "<table class=\"dataframe\">\n",
       "<caption>A data.frame: 2 × 33</caption>\n",
       "<thead>\n",
       "\t<tr><th></th><th scope=col>Date</th><th scope=col>Times</th><th scope=col>End.Time</th><th scope=col>Session.Type</th><th scope=col>Session.Subtype</th><th scope=col>Creation.Method</th><th scope=col>Local.Time.Zone.Offset</th><th scope=col>Activity.Score</th><th scope=col>Intense.Duration..ms.</th><th scope=col>Moderate.Duration..ms.</th><th scope=col>⋯</th><th scope=col>Max.Pace</th><th scope=col>Avg.Spd</th><th scope=col>Max.Spd</th><th scope=col>Avg.HR</th><th scope=col>Steps.y</th><th scope=col>duration</th><th scope=col>day</th><th scope=col>month</th><th scope=col>year</th><th scope=col>Miles</th></tr>\n",
       "\t<tr><th></th><th scope=col>&lt;date&gt;</th><th scope=col>&lt;chr&gt;</th><th scope=col>&lt;chr&gt;</th><th scope=col>&lt;chr&gt;</th><th scope=col>&lt;chr&gt;</th><th scope=col>&lt;chr&gt;</th><th scope=col>&lt;dbl&gt;</th><th scope=col>&lt;chr&gt;</th><th scope=col>&lt;chr&gt;</th><th scope=col>&lt;chr&gt;</th><th scope=col>⋯</th><th scope=col>&lt;dbl&gt;</th><th scope=col>&lt;dbl&gt;</th><th scope=col>&lt;dbl&gt;</th><th scope=col>&lt;dbl&gt;</th><th scope=col>&lt;dbl&gt;</th><th scope=col>&lt;dbl&gt;</th><th scope=col>&lt;chr&gt;</th><th scope=col>&lt;chr&gt;</th><th scope=col>&lt;int&gt;</th><th scope=col>&lt;fct&gt;</th></tr>\n",
       "</thead>\n",
       "<tbody>\n",
       "\t<tr><th scope=row>1</th><td>2022-03-01</td><td>05:05:15</td><td>2022-03-01T07:01:04.823Z</td><td>WORKOUT</td><td>RUNNING</td><td>Automatic</td><td>-6</td><td>229.11739083333333</td><td>6840000.0</td><td>64823.0 </td><td>⋯</td><td>0</td><td>5.58</td><td>0</td><td>141.2874</td><td>18259</td><td>112.93</td><td>Tuesday </td><td>March</td><td>  NA</td><td>(6.21,13.1]</td></tr>\n",
       "\t<tr><th scope=row>2</th><td>2022-03-05</td><td>13:48:09</td><td>2022-03-05T14:00:03.783Z</td><td>WORKOUT</td><td>RUNNING</td><td>Automatic</td><td>-6</td><td>7.2455825         </td><td>No Data  </td><td>420000.0</td><td>⋯</td><td>0</td><td>5.92</td><td>0</td><td>141.2874</td><td> 4987</td><td> 31.43</td><td>Saturday</td><td>March</td><td>2022</td><td>(3.09,6.21]</td></tr>\n",
       "</tbody>\n",
       "</table>\n"
      ],
      "text/latex": [
       "A data.frame: 2 × 33\n",
       "\\begin{tabular}{r|lllllllllllllllllllll}\n",
       "  & Date & Times & End.Time & Session.Type & Session.Subtype & Creation.Method & Local.Time.Zone.Offset & Activity.Score & Intense.Duration..ms. & Moderate.Duration..ms. & ⋯ & Max.Pace & Avg.Spd & Max.Spd & Avg.HR & Steps.y & duration & day & month & year & Miles\\\\\n",
       "  & <date> & <chr> & <chr> & <chr> & <chr> & <chr> & <dbl> & <chr> & <chr> & <chr> & ⋯ & <dbl> & <dbl> & <dbl> & <dbl> & <dbl> & <dbl> & <chr> & <chr> & <int> & <fct>\\\\\n",
       "\\hline\n",
       "\t1 & 2022-03-01 & 05:05:15 & 2022-03-01T07:01:04.823Z & WORKOUT & RUNNING & Automatic & -6 & 229.11739083333333 & 6840000.0 & 64823.0  & ⋯ & 0 & 5.58 & 0 & 141.2874 & 18259 & 112.93 & Tuesday  & March &   NA & (6.21,13.1{]}\\\\\n",
       "\t2 & 2022-03-05 & 13:48:09 & 2022-03-05T14:00:03.783Z & WORKOUT & RUNNING & Automatic & -6 & 7.2455825          & No Data   & 420000.0 & ⋯ & 0 & 5.92 & 0 & 141.2874 &  4987 &  31.43 & Saturday & March & 2022 & (3.09,6.21{]}\\\\\n",
       "\\end{tabular}\n"
      ],
      "text/markdown": [
       "\n",
       "A data.frame: 2 × 33\n",
       "\n",
       "| <!--/--> | Date &lt;date&gt; | Times &lt;chr&gt; | End.Time &lt;chr&gt; | Session.Type &lt;chr&gt; | Session.Subtype &lt;chr&gt; | Creation.Method &lt;chr&gt; | Local.Time.Zone.Offset &lt;dbl&gt; | Activity.Score &lt;chr&gt; | Intense.Duration..ms. &lt;chr&gt; | Moderate.Duration..ms. &lt;chr&gt; | ⋯ ⋯ | Max.Pace &lt;dbl&gt; | Avg.Spd &lt;dbl&gt; | Max.Spd &lt;dbl&gt; | Avg.HR &lt;dbl&gt; | Steps.y &lt;dbl&gt; | duration &lt;dbl&gt; | day &lt;chr&gt; | month &lt;chr&gt; | year &lt;int&gt; | Miles &lt;fct&gt; |\n",
       "|---|---|---|---|---|---|---|---|---|---|---|---|---|---|---|---|---|---|---|---|---|---|\n",
       "| 1 | 2022-03-01 | 05:05:15 | 2022-03-01T07:01:04.823Z | WORKOUT | RUNNING | Automatic | -6 | 229.11739083333333 | 6840000.0 | 64823.0  | ⋯ | 0 | 5.58 | 0 | 141.2874 | 18259 | 112.93 | Tuesday  | March |   NA | (6.21,13.1] |\n",
       "| 2 | 2022-03-05 | 13:48:09 | 2022-03-05T14:00:03.783Z | WORKOUT | RUNNING | Automatic | -6 | 7.2455825          | No Data   | 420000.0 | ⋯ | 0 | 5.92 | 0 | 141.2874 |  4987 |  31.43 | Saturday | March | 2022 | (3.09,6.21] |\n",
       "\n"
      ],
      "text/plain": [
       "  Date       Times    End.Time                 Session.Type Session.Subtype\n",
       "1 2022-03-01 05:05:15 2022-03-01T07:01:04.823Z WORKOUT      RUNNING        \n",
       "2 2022-03-05 13:48:09 2022-03-05T14:00:03.783Z WORKOUT      RUNNING        \n",
       "  Creation.Method Local.Time.Zone.Offset Activity.Score    \n",
       "1 Automatic       -6                     229.11739083333333\n",
       "2 Automatic       -6                     7.2455825         \n",
       "  Intense.Duration..ms. Moderate.Duration..ms. <U+22EF>        Max.Pace Avg.Spd\n",
       "1 6840000.0             64823.0                <U+22EF> 0        5.58   \n",
       "2 No Data               420000.0               <U+22EF> 0        5.92   \n",
       "  Max.Spd Avg.HR   Steps.y duration day      month year Miles      \n",
       "1 0       141.2874 18259   112.93   Tuesday  March   NA (6.21,13.1]\n",
       "2 0       141.2874  4987    31.43   Saturday March 2022 (3.09,6.21]"
      ]
     },
     "metadata": {},
     "output_type": "display_data"
    }
   ],
   "source": [
    "head(mymerge, 2)"
   ]
  },
  {
   "cell_type": "markdown",
   "metadata": {},
   "source": [
    "#### Extra"
   ]
  },
  {
   "cell_type": "code",
   "execution_count": 766,
   "metadata": {
    "vscode": {
     "languageId": "r"
    }
   },
   "outputs": [],
   "source": [
    "# test <- read.csv(\"https://raw.githubusercontent.com/Cbhami/Coraline/master/Resources/csv%20data/user94403143_workout_history.csv\", header=TRUE)"
   ]
  },
  {
   "cell_type": "code",
   "execution_count": 767,
   "metadata": {
    "vscode": {
     "languageId": "r"
    }
   },
   "outputs": [],
   "source": [
    "# library(dplyr)\n",
    "# library(tidyr)\n",
    "# cadf <- cadf %>% separate(Start.Time, c('Date', 'Time'), \"T\")"
   ]
  },
  {
   "cell_type": "code",
   "execution_count": 768,
   "metadata": {
    "vscode": {
     "languageId": "r"
    }
   },
   "outputs": [],
   "source": [
    "# cadf <- cadf %>% mutate(Date = as.Date(Date))"
   ]
  },
  {
   "cell_type": "code",
   "execution_count": 769,
   "metadata": {
    "vscode": {
     "languageId": "r"
    }
   },
   "outputs": [],
   "source": [
    "# names(test)[names(test) == \"Workout.Date\"] <- \"Date\"\n"
   ]
  },
  {
   "cell_type": "code",
   "execution_count": 770,
   "metadata": {
    "vscode": {
     "languageId": "r"
    }
   },
   "outputs": [],
   "source": [
    "# test$Workout.Date <- as.Date(test$Workout.Date, format = \"%B %e, %Y\")"
   ]
  },
  {
   "cell_type": "code",
   "execution_count": 771,
   "metadata": {
    "vscode": {
     "languageId": "r"
    }
   },
   "outputs": [],
   "source": [
    "# mmerge2 <- merge(test, df, by = \"Date\", all.x=TRUE)"
   ]
  },
  {
   "cell_type": "code",
   "execution_count": 772,
   "metadata": {
    "vscode": {
     "languageId": "r"
    }
   },
   "outputs": [
    {
     "ename": "ERROR",
     "evalue": "Error in head(mmerge2, 2): object 'mmerge2' not found\n",
     "output_type": "error",
     "traceback": [
      "Error in head(mmerge2, 2): object 'mmerge2' not found\nTraceback:\n",
      "1. head(mmerge2, 2)"
     ]
    }
   ],
   "source": [
    "head(mmerge2, 2)\n",
    "mmerge2 <- as.data.frame(mmerge2)"
   ]
  },
  {
   "cell_type": "code",
   "execution_count": null,
   "metadata": {
    "vscode": {
     "languageId": "r"
    }
   },
   "outputs": [],
   "source": [
    "mmerge2 <- mmerge2[order(mmerge2$Date, decreasing = TRUE),]"
   ]
  },
  {
   "cell_type": "code",
   "execution_count": null,
   "metadata": {
    "vscode": {
     "languageId": "r"
    }
   },
   "outputs": [
    {
     "data": {
      "text/html": [
       "<table class=\"dataframe\">\n",
       "<caption>A data.frame: 995 × 28</caption>\n",
       "<thead>\n",
       "\t<tr><th></th><th scope=col>Date</th><th scope=col>Date.Submitted</th><th scope=col>Activity.Type</th><th scope=col>Calories.Burned..kCal.</th><th scope=col>Distance..mi.</th><th scope=col>Workout.Time..seconds.</th><th scope=col>Avg.Pace..min.mi.</th><th scope=col>Max.Pace..min.mi.</th><th scope=col>Avg.Speed..mi.h.</th><th scope=col>Max.Speed..mi.h.</th><th scope=col>⋯</th><th scope=col>Distance</th><th scope=col>Duration</th><th scope=col>Avg.Pace</th><th scope=col>Max.Pace</th><th scope=col>Avg.Spd</th><th scope=col>Max.Spd</th><th scope=col>Avg.HR</th><th scope=col>Steps.y</th><th scope=col>duration</th><th scope=col>year</th></tr>\n",
       "\t<tr><th></th><th scope=col>&lt;date&gt;</th><th scope=col>&lt;chr&gt;</th><th scope=col>&lt;chr&gt;</th><th scope=col>&lt;int&gt;</th><th scope=col>&lt;dbl&gt;</th><th scope=col>&lt;int&gt;</th><th scope=col>&lt;dbl&gt;</th><th scope=col>&lt;dbl&gt;</th><th scope=col>&lt;dbl&gt;</th><th scope=col>&lt;dbl&gt;</th><th scope=col>⋯</th><th scope=col>&lt;dbl&gt;</th><th scope=col>&lt;dbl&gt;</th><th scope=col>&lt;dbl&gt;</th><th scope=col>&lt;dbl&gt;</th><th scope=col>&lt;dbl&gt;</th><th scope=col>&lt;dbl&gt;</th><th scope=col>&lt;dbl&gt;</th><th scope=col>&lt;dbl&gt;</th><th scope=col>&lt;dbl&gt;</th><th scope=col>&lt;int&gt;</th></tr>\n",
       "</thead>\n",
       "<tbody>\n",
       "\t<tr><th scope=row>676</th><td>2022-07-10</td><td>July 10, 2022</td><td>Run </td><td>429</td><td>3.09815</td><td>2301</td><td>12.37320</td><td>0.993196</td><td>4.84920</td><td> 60.4110</td><td>⋯</td><td>3.10</td><td>2301</td><td>12.37</td><td>0.990</td><td>4.85</td><td> 60.41000</td><td>149.0000</td><td> 5125</td><td>38.35</td><td>2022</td></tr>\n",
       "\t<tr><th scope=row>675</th><td>2022-07-09</td><td>July 9, 2022 </td><td>Run </td><td>430</td><td>3.10009</td><td>2005</td><td>10.77380</td><td>1.166080</td><td>5.56904</td><td> 51.4543</td><td>⋯</td><td>3.10</td><td>2005</td><td>10.77</td><td>1.170</td><td>5.57</td><td> 51.45000</td><td>157.0000</td><td> 5261</td><td>33.42</td><td>2022</td></tr>\n",
       "\t<tr><th scope=row>674</th><td>2022-07-08</td><td>July 8, 2022 </td><td>Run </td><td>454</td><td>3.10995</td><td>1988</td><td>10.64940</td><td>3.878360</td><td>5.63410</td><td> 15.4704</td><td>⋯</td><td>3.11</td><td>1988</td><td>10.65</td><td>3.880</td><td>5.63</td><td> 15.47000</td><td>165.0000</td><td> 5202</td><td>33.13</td><td>2022</td></tr>\n",
       "\t<tr><th scope=row>673</th><td>2022-06-24</td><td>June 24, 2022</td><td>Run </td><td>400</td><td>3.10000</td><td>1554</td><td> 8.35484</td><td>0.000000</td><td>7.18147</td><td>  0.0000</td><td>⋯</td><td>3.10</td><td>1554</td><td> 8.35</td><td>4.026</td><td>7.18</td><td> 52.59158</td><td>140.5377</td><td> 4192</td><td>25.90</td><td>2022</td></tr>\n",
       "\t<tr><th scope=row>672</th><td>2022-06-23</td><td>June 23, 2022</td><td>Run </td><td>410</td><td>3.10000</td><td>1748</td><td> 9.39785</td><td>0.000000</td><td>6.38444</td><td>  0.0000</td><td>⋯</td><td>3.10</td><td>1748</td><td> 9.40</td><td>4.026</td><td>6.38</td><td> 52.59158</td><td>140.5377</td><td> 4656</td><td>29.13</td><td>2022</td></tr>\n",
       "\t<tr><th scope=row>671</th><td>2022-06-22</td><td>June 21, 2022</td><td>Run </td><td>403</td><td>3.10000</td><td>1665</td><td> 8.95161</td><td>0.000000</td><td>6.70270</td><td>  0.0000</td><td>⋯</td><td>3.10</td><td>1665</td><td> 8.95</td><td>4.026</td><td>6.70</td><td> 52.59158</td><td>140.5377</td><td> 4458</td><td>27.75</td><td>2022</td></tr>\n",
       "\t<tr><th scope=row>670</th><td>2022-06-19</td><td>June 19, 2022</td><td>Run </td><td>378</td><td>2.66000</td><td>1800</td><td>11.27820</td><td>0.000000</td><td>5.32000</td><td>  0.0000</td><td>⋯</td><td>2.66</td><td>1800</td><td>11.28</td><td>4.026</td><td>5.32</td><td> 52.59158</td><td>140.5377</td><td> 4713</td><td>30.00</td><td>2022</td></tr>\n",
       "\t<tr><th scope=row>669</th><td>2022-06-18</td><td>June 18, 2022</td><td>Run </td><td>370</td><td>2.57857</td><td>1698</td><td>10.96610</td><td>1.112400</td><td>5.47140</td><td> 53.9375</td><td>⋯</td><td>2.58</td><td>1698</td><td>10.97</td><td>1.110</td><td>5.47</td><td> 53.94000</td><td>159.0000</td><td> 4431</td><td>28.30</td><td>2022</td></tr>\n",
       "\t<tr><th scope=row>668</th><td>2022-06-17</td><td>June 16, 2022</td><td>Run </td><td>315</td><td>2.33000</td><td>1391</td><td> 9.94993</td><td>0.000000</td><td>6.03019</td><td>  0.0000</td><td>⋯</td><td>2.33</td><td>1391</td><td> 9.95</td><td>4.026</td><td>6.03</td><td> 52.59158</td><td>140.5377</td><td> 3684</td><td>23.18</td><td>2022</td></tr>\n",
       "\t<tr><th scope=row>667</th><td>2022-06-15</td><td>June 15, 2022</td><td>Run </td><td>405</td><td>3.10000</td><td>1691</td><td> 9.09140</td><td>0.000000</td><td>6.59965</td><td>  0.0000</td><td>⋯</td><td>3.10</td><td>1691</td><td> 9.09</td><td>4.026</td><td>6.60</td><td> 52.59158</td><td>140.5377</td><td> 4520</td><td>28.18</td><td>2022</td></tr>\n",
       "\t<tr><th scope=row>666</th><td>2022-06-12</td><td>June 12, 2022</td><td>Run </td><td>428</td><td>3.09762</td><td>1955</td><td>10.51630</td><td>3.008140</td><td>5.70545</td><td> 19.9459</td><td>⋯</td><td>3.10</td><td>1955</td><td>10.52</td><td>3.010</td><td>5.71</td><td> 19.95000</td><td>140.5377</td><td> 5052</td><td>32.58</td><td>2022</td></tr>\n",
       "\t<tr><th scope=row>665</th><td>2022-06-10</td><td>June 10, 2022</td><td>Run </td><td>881</td><td>6.20257</td><td>4182</td><td>11.23370</td><td>0.599692</td><td>5.34108</td><td>100.0510</td><td>⋯</td><td>6.20</td><td>4182</td><td>11.23</td><td>0.600</td><td>5.34</td><td>100.05000</td><td>153.0000</td><td>10479</td><td>69.70</td><td>2022</td></tr>\n",
       "\t<tr><th scope=row>664</th><td>2022-06-08</td><td>June 9, 2022 </td><td>Run </td><td>407</td><td>3.11000</td><td>1702</td><td> 9.12111</td><td>0.000000</td><td>6.57814</td><td>  0.0000</td><td>⋯</td><td>3.11</td><td>1702</td><td> 9.12</td><td>4.026</td><td>6.58</td><td> 52.59158</td><td>153.0000</td><td> 4548</td><td>28.37</td><td>2022</td></tr>\n",
       "\t<tr><th scope=row>663</th><td>2022-06-06</td><td>June 6, 2022 </td><td>Run </td><td>590</td><td>4.50165</td><td>2924</td><td>10.82230</td><td>1.146470</td><td>5.54409</td><td> 52.3344</td><td>⋯</td><td>4.50</td><td>2924</td><td>10.82</td><td>1.150</td><td>5.54</td><td> 52.33000</td><td>145.0000</td><td> 7739</td><td>48.73</td><td>2022</td></tr>\n",
       "\t<tr><th scope=row>659</th><td>2022-06-05</td><td>June 5, 2022 </td><td>Walk</td><td>253</td><td>1.88061</td><td>2402</td><td>21.27700</td><td>1.791470</td><td>2.81995</td><td> 33.4920</td><td>⋯</td><td>1.88</td><td>2402</td><td>21.28</td><td>1.790</td><td>2.82</td><td> 33.49000</td><td>109.0000</td><td> 3994</td><td>40.03</td><td>2022</td></tr>\n",
       "\t<tr><th scope=row>660</th><td>2022-06-05</td><td>June 5, 2022 </td><td>Walk</td><td>253</td><td>1.88061</td><td>2402</td><td>21.27700</td><td>1.791470</td><td>2.81995</td><td> 33.4920</td><td>⋯</td><td>2.44</td><td>1487</td><td>10.17</td><td>0.450</td><td>5.90</td><td>132.28000</td><td>148.0000</td><td> 3889</td><td>24.78</td><td>2022</td></tr>\n",
       "\t<tr><th scope=row>661</th><td>2022-06-05</td><td>June 5, 2022 </td><td>Run </td><td>302</td><td>2.43575</td><td>1487</td><td>10.17220</td><td>0.453587</td><td>5.89844</td><td>132.2790</td><td>⋯</td><td>1.88</td><td>2402</td><td>21.28</td><td>1.790</td><td>2.82</td><td> 33.49000</td><td>109.0000</td><td> 3994</td><td>40.03</td><td>2022</td></tr>\n",
       "\t<tr><th scope=row>662</th><td>2022-06-05</td><td>June 5, 2022 </td><td>Run </td><td>302</td><td>2.43575</td><td>1487</td><td>10.17220</td><td>0.453587</td><td>5.89844</td><td>132.2790</td><td>⋯</td><td>2.44</td><td>1487</td><td>10.17</td><td>0.450</td><td>5.90</td><td>132.28000</td><td>148.0000</td><td> 3889</td><td>24.78</td><td>2022</td></tr>\n",
       "\t<tr><th scope=row>658</th><td>2022-06-04</td><td>June 4, 2022 </td><td>Run </td><td>856</td><td>6.24228</td><td>3946</td><td>10.53330</td><td>1.068360</td><td>5.69620</td><td> 56.1607</td><td>⋯</td><td>6.24</td><td>3946</td><td>10.53</td><td>1.070</td><td>5.70</td><td> 56.16000</td><td>156.0000</td><td>10427</td><td>65.77</td><td>2022</td></tr>\n",
       "\t<tr><th scope=row>657</th><td>2022-06-03</td><td>June 3, 2022 </td><td>Run </td><td>397</td><td>3.10851</td><td>1864</td><td> 9.98908</td><td>0.951188</td><td>6.00656</td><td> 63.0790</td><td>⋯</td><td>3.11</td><td>1864</td><td> 9.99</td><td>0.950</td><td>6.01</td><td> 63.08000</td><td>152.0000</td><td> 4863</td><td>31.07</td><td>2022</td></tr>\n",
       "\t<tr><th scope=row>656</th><td>2022-06-01</td><td>May 31, 2022 </td><td>Run </td><td>416</td><td>3.10000</td><td>1817</td><td> 9.76882</td><td>0.000000</td><td>6.14199</td><td>  0.0000</td><td>⋯</td><td>3.10</td><td>1817</td><td> 9.77</td><td>4.026</td><td>6.14</td><td> 52.59158</td><td>140.5377</td><td> 4822</td><td>30.28</td><td>2022</td></tr>\n",
       "\t<tr><th scope=row>655</th><td>2022-05-31</td><td>May 31, 2022 </td><td>Run </td><td>546</td><td>4.08000</td><td>2377</td><td> 9.70997</td><td>1.282750</td><td>6.17922</td><td> 46.7746</td><td>⋯</td><td>4.08</td><td>2377</td><td> 9.71</td><td>1.280</td><td>6.18</td><td> 46.77000</td><td>145.0000</td><td> 4048</td><td>39.62</td><td>2022</td></tr>\n",
       "\t<tr><th scope=row>654</th><td>2022-05-30</td><td>May 30, 2022 </td><td>Run </td><td>418</td><td>3.10044</td><td>1873</td><td>10.05970</td><td>0.453169</td><td>5.96441</td><td>132.4010</td><td>⋯</td><td>3.10</td><td>1873</td><td>10.06</td><td>0.450</td><td>5.96</td><td>132.40000</td><td>159.0000</td><td> 4873</td><td>31.22</td><td>2022</td></tr>\n",
       "\t<tr><th scope=row>653</th><td>2022-05-28</td><td>May 28, 2022 </td><td>Run </td><td>426</td><td>3.10717</td><td>1852</td><td> 9.93269</td><td>2.824090</td><td>6.04066</td><td> 21.2457</td><td>⋯</td><td>3.11</td><td>1852</td><td> 9.93</td><td>2.820</td><td>6.04</td><td> 21.25000</td><td>162.0000</td><td> 4867</td><td>30.87</td><td>2022</td></tr>\n",
       "\t<tr><th scope=row>652</th><td>2022-05-27</td><td>May 27, 2022 </td><td>Run </td><td>405</td><td>3.10000</td><td>1691</td><td> 9.09140</td><td>0.000000</td><td>6.59965</td><td>  0.0000</td><td>⋯</td><td>3.10</td><td>1691</td><td> 9.09</td><td>4.026</td><td>6.60</td><td> 52.59158</td><td>140.5377</td><td> 4520</td><td>28.18</td><td>2022</td></tr>\n",
       "\t<tr><th scope=row>651</th><td>2022-05-25</td><td>May 25, 2022 </td><td>Run </td><td>801</td><td>6.20547</td><td>3735</td><td>10.03150</td><td>0.991277</td><td>5.98118</td><td> 60.5280</td><td>⋯</td><td>6.21</td><td>3735</td><td>10.03</td><td>0.990</td><td>5.98</td><td> 60.53000</td><td>150.0000</td><td> 9802</td><td>62.25</td><td>2022</td></tr>\n",
       "\t<tr><th scope=row>650</th><td>2022-05-24</td><td>May 24, 2022 </td><td>Run </td><td>408</td><td>3.10000</td><td>1731</td><td> 9.30645</td><td>0.000000</td><td>6.44714</td><td>  0.0000</td><td>⋯</td><td>3.10</td><td>1731</td><td> 9.31</td><td>4.026</td><td>6.45</td><td> 52.59158</td><td>140.5377</td><td> 4616</td><td>28.85</td><td>2022</td></tr>\n",
       "\t<tr><th scope=row>649</th><td>2022-05-22</td><td>May 22, 2022 </td><td>Run </td><td>420</td><td>3.10000</td><td>1865</td><td>10.02690</td><td>0.000000</td><td>5.98391</td><td>  0.0000</td><td>⋯</td><td>3.10</td><td>1865</td><td>10.03</td><td>4.026</td><td>5.98</td><td> 52.59158</td><td>140.5377</td><td> 4936</td><td>31.08</td><td>2022</td></tr>\n",
       "\t<tr><th scope=row>645</th><td>2022-05-20</td><td>May 20, 2022 </td><td>Run </td><td>394</td><td>3.10131</td><td>1839</td><td> 9.88125</td><td>1.318340</td><td>6.07211</td><td> 45.5119</td><td>⋯</td><td>3.10</td><td>1827</td><td> 9.82</td><td>4.026</td><td>6.11</td><td> 52.59158</td><td>140.5377</td><td> 4845</td><td>30.45</td><td>2022</td></tr>\n",
       "\t<tr><th scope=row>646</th><td>2022-05-20</td><td>May 20, 2022 </td><td>Run </td><td>394</td><td>3.10131</td><td>1839</td><td> 9.88125</td><td>1.318340</td><td>6.07211</td><td> 45.5119</td><td>⋯</td><td>3.10</td><td>1839</td><td> 9.88</td><td>1.320</td><td>6.07</td><td> 45.51000</td><td>149.0000</td><td> 4858</td><td>30.65</td><td>2022</td></tr>\n",
       "\t<tr><th scope=row>⋮</th><td>⋮</td><td>⋮</td><td>⋮</td><td>⋮</td><td>⋮</td><td>⋮</td><td>⋮</td><td>⋮</td><td>⋮</td><td>⋮</td><td>⋱</td><td>⋮</td><td>⋮</td><td>⋮</td><td>⋮</td><td>⋮</td><td>⋮</td><td>⋮</td><td>⋮</td><td>⋮</td><td>⋮</td></tr>\n",
       "\t<tr><th scope=row>966</th><td>NA</td><td>Aug. 2, 2020  </td><td>Run          </td><td>236</td><td>2.237600</td><td>1302</td><td> 9.69630</td><td>1.1225000</td><td>6.18793</td><td>  53.45210</td><td>⋯</td><td>NA</td><td>NA</td><td>NA</td><td>NA</td><td>NA</td><td>NA</td><td>NA</td><td>NA</td><td>NA</td><td>NA</td></tr>\n",
       "\t<tr><th scope=row>967</th><td>NA</td><td>Nov. 10, 2019 </td><td>Gym Workout  </td><td> 22</td><td>0.000000</td><td> 120</td><td> 0.00000</td><td>0.0000000</td><td>0.00000</td><td>   0.00000</td><td>⋯</td><td>NA</td><td>NA</td><td>NA</td><td>NA</td><td>NA</td><td>NA</td><td>NA</td><td>NA</td><td>NA</td><td>NA</td></tr>\n",
       "\t<tr><th scope=row>968</th><td>NA</td><td>Aug. 13, 2019 </td><td>Walk         </td><td> 66</td><td>0.553178</td><td>1066</td><td>32.09710</td><td>2.8510300</td><td>1.86933</td><td>  21.04500</td><td>⋯</td><td>NA</td><td>NA</td><td>NA</td><td>NA</td><td>NA</td><td>NA</td><td>NA</td><td>NA</td><td>NA</td><td>NA</td></tr>\n",
       "\t<tr><th scope=row>969</th><td>NA</td><td>Aug. 13, 2019 </td><td>Run          </td><td>403</td><td>3.100620</td><td>1636</td><td> 8.79706</td><td>0.8894460</td><td>6.82046</td><td>  67.45770</td><td>⋯</td><td>NA</td><td>NA</td><td>NA</td><td>NA</td><td>NA</td><td>NA</td><td>NA</td><td>NA</td><td>NA</td><td>NA</td></tr>\n",
       "\t<tr><th scope=row>970</th><td>NA</td><td>Sept. 15, 2019</td><td>Run          </td><td>118</td><td>0.907727</td><td> 476</td><td> 8.73148</td><td>0.7570850</td><td>6.87169</td><td>  79.25130</td><td>⋯</td><td>NA</td><td>NA</td><td>NA</td><td>NA</td><td>NA</td><td>NA</td><td>NA</td><td>NA</td><td>NA</td><td>NA</td></tr>\n",
       "\t<tr><th scope=row>971</th><td>NA</td><td>Sept. 14, 2019</td><td>Walk         </td><td>169</td><td>1.658950</td><td>1697</td><td>16.92350</td><td>1.3279300</td><td>3.54536</td><td>  45.18320</td><td>⋯</td><td>NA</td><td>NA</td><td>NA</td><td>NA</td><td>NA</td><td>NA</td><td>NA</td><td>NA</td><td>NA</td><td>NA</td></tr>\n",
       "\t<tr><th scope=row>972</th><td>NA</td><td>Aug. 22, 2019 </td><td>Walk         </td><td> 39</td><td>0.400536</td><td> 475</td><td>19.72990</td><td>1.4196400</td><td>3.04108</td><td>  42.26420</td><td>⋯</td><td>NA</td><td>NA</td><td>NA</td><td>NA</td><td>NA</td><td>NA</td><td>NA</td><td>NA</td><td>NA</td><td>NA</td></tr>\n",
       "\t<tr><th scope=row>973</th><td>NA</td><td>Aug. 21, 2019 </td><td>Run          </td><td>153</td><td>1.122820</td><td> 682</td><td>10.11180</td><td>1.0363600</td><td>5.93365</td><td>  57.89480</td><td>⋯</td><td>NA</td><td>NA</td><td>NA</td><td>NA</td><td>NA</td><td>NA</td><td>NA</td><td>NA</td><td>NA</td><td>NA</td></tr>\n",
       "\t<tr><th scope=row>974</th><td>NA</td><td>Aug. 21, 2019 </td><td>Walk         </td><td> 35</td><td>0.349678</td><td> 373</td><td>17.75600</td><td>1.8667900</td><td>3.37913</td><td>  32.14070</td><td>⋯</td><td>NA</td><td>NA</td><td>NA</td><td>NA</td><td>NA</td><td>NA</td><td>NA</td><td>NA</td><td>NA</td><td>NA</td></tr>\n",
       "\t<tr><th scope=row>975</th><td>NA</td><td>Aug. 21, 2019 </td><td>Run          </td><td>218</td><td>1.676180</td><td> 859</td><td> 8.54510</td><td>0.8335160</td><td>7.02157</td><td>  71.98430</td><td>⋯</td><td>NA</td><td>NA</td><td>NA</td><td>NA</td><td>NA</td><td>NA</td><td>NA</td><td>NA</td><td>NA</td><td>NA</td></tr>\n",
       "\t<tr><th scope=row>976</th><td>NA</td><td>Aug. 20, 2019 </td><td>Run          </td><td>506</td><td>3.680000</td><td>2649</td><td>11.99730</td><td>0.0000000</td><td>5.00113</td><td>   0.00000</td><td>⋯</td><td>NA</td><td>NA</td><td>NA</td><td>NA</td><td>NA</td><td>NA</td><td>NA</td><td>NA</td><td>NA</td><td>NA</td></tr>\n",
       "\t<tr><th scope=row>977</th><td>NA</td><td>Aug. 18, 2019 </td><td>Run          </td><td>131</td><td>1.004140</td><td> 523</td><td> 8.67137</td><td>6.0670800</td><td>6.91932</td><td>   9.88943</td><td>⋯</td><td>NA</td><td>NA</td><td>NA</td><td>NA</td><td>NA</td><td>NA</td><td>NA</td><td>NA</td><td>NA</td><td>NA</td></tr>\n",
       "\t<tr><th scope=row>978</th><td>NA</td><td>Aug. 30, 2019 </td><td>Walk         </td><td>118</td><td>1.170420</td><td>1258</td><td>17.79640</td><td>1.9997900</td><td>3.37147</td><td>  30.00310</td><td>⋯</td><td>NA</td><td>NA</td><td>NA</td><td>NA</td><td>NA</td><td>NA</td><td>NA</td><td>NA</td><td>NA</td><td>NA</td></tr>\n",
       "\t<tr><th scope=row>979</th><td>NA</td><td>Aug. 30, 2019 </td><td>Run          </td><td>193</td><td>1.505500</td><td> 739</td><td> 8.17480</td><td>0.0330683</td><td>7.33963</td><td>1814.43000</td><td>⋯</td><td>NA</td><td>NA</td><td>NA</td><td>NA</td><td>NA</td><td>NA</td><td>NA</td><td>NA</td><td>NA</td><td>NA</td></tr>\n",
       "\t<tr><th scope=row>980</th><td>NA</td><td>Aug. 25, 2019 </td><td>Run          </td><td>415</td><td>3.234560</td><td>2596</td><td>13.37390</td><td>0.8343760</td><td>4.48636</td><td>  71.91010</td><td>⋯</td><td>NA</td><td>NA</td><td>NA</td><td>NA</td><td>NA</td><td>NA</td><td>NA</td><td>NA</td><td>NA</td><td>NA</td></tr>\n",
       "\t<tr><th scope=row>981</th><td>NA</td><td>Aug. 24, 2019 </td><td>Run          </td><td>527</td><td>4.004390</td><td>2236</td><td> 9.30590</td><td>0.9217550</td><td>6.44752</td><td>  65.09320</td><td>⋯</td><td>NA</td><td>NA</td><td>NA</td><td>NA</td><td>NA</td><td>NA</td><td>NA</td><td>NA</td><td>NA</td><td>NA</td></tr>\n",
       "\t<tr><th scope=row>982</th><td>NA</td><td>Sept. 15, 2019</td><td>Walk         </td><td>105</td><td>1.021240</td><td> 979</td><td>15.94940</td><td>1.9200200</td><td>3.76189</td><td>  31.24970</td><td>⋯</td><td>NA</td><td>NA</td><td>NA</td><td>NA</td><td>NA</td><td>NA</td><td>NA</td><td>NA</td><td>NA</td><td>NA</td></tr>\n",
       "\t<tr><th scope=row>983</th><td>NA</td><td>Aug. 22, 2019 </td><td>Walk         </td><td>167</td><td>1.704590</td><td>2247</td><td>21.60970</td><td>1.3167400</td><td>2.77653</td><td>  45.56730</td><td>⋯</td><td>NA</td><td>NA</td><td>NA</td><td>NA</td><td>NA</td><td>NA</td><td>NA</td><td>NA</td><td>NA</td><td>NA</td></tr>\n",
       "\t<tr><th scope=row>984</th><td>NA</td><td>Aug. 22, 2019 </td><td>Run          </td><td>402</td><td>3.096160</td><td>1639</td><td> 8.81727</td><td>0.6575490</td><td>6.80483</td><td>  91.24790</td><td>⋯</td><td>NA</td><td>NA</td><td>NA</td><td>NA</td><td>NA</td><td>NA</td><td>NA</td><td>NA</td><td>NA</td><td>NA</td></tr>\n",
       "\t<tr><th scope=row>985</th><td>NA</td><td>Aug. 1, 2019  </td><td>Walk         </td><td>145</td><td>1.446200</td><td>1572</td><td>18.03760</td><td>1.7866400</td><td>3.32638</td><td>  33.58260</td><td>⋯</td><td>NA</td><td>NA</td><td>NA</td><td>NA</td><td>NA</td><td>NA</td><td>NA</td><td>NA</td><td>NA</td><td>NA</td></tr>\n",
       "\t<tr><th scope=row>986</th><td>NA</td><td>Aug. 1, 2020  </td><td>Run          </td><td>300</td><td>2.676520</td><td>1540</td><td> 9.57699</td><td>0.8917730</td><td>6.26502</td><td>  67.28170</td><td>⋯</td><td>NA</td><td>NA</td><td>NA</td><td>NA</td><td>NA</td><td>NA</td><td>NA</td><td>NA</td><td>NA</td><td>NA</td></tr>\n",
       "\t<tr><th scope=row>987</th><td>NA</td><td>Aug. 18, 2019 </td><td>Run          </td><td>130</td><td>1.003950</td><td> 503</td><td> 8.34428</td><td>1.5398300</td><td>7.19055</td><td>  38.96530</td><td>⋯</td><td>NA</td><td>NA</td><td>NA</td><td>NA</td><td>NA</td><td>NA</td><td>NA</td><td>NA</td><td>NA</td><td>NA</td></tr>\n",
       "\t<tr><th scope=row>988</th><td>NA</td><td>Aug. 15, 2019 </td><td>Walk         </td><td>152</td><td>0.961051</td><td>3201</td><td>55.42820</td><td>6.4950500</td><td>1.08248</td><td>   9.23780</td><td>⋯</td><td>NA</td><td>NA</td><td>NA</td><td>NA</td><td>NA</td><td>NA</td><td>NA</td><td>NA</td><td>NA</td><td>NA</td></tr>\n",
       "\t<tr><th scope=row>989</th><td>NA</td><td>Aug. 15, 2019 </td><td>Run          </td><td>342</td><td>2.625970</td><td>1351</td><td> 8.56540</td><td>2.4537300</td><td>7.00493</td><td>  24.45250</td><td>⋯</td><td>NA</td><td>NA</td><td>NA</td><td>NA</td><td>NA</td><td>NA</td><td>NA</td><td>NA</td><td>NA</td><td>NA</td></tr>\n",
       "\t<tr><th scope=row>990</th><td>NA</td><td>Oct. 19, 2016 </td><td>Class Workout</td><td>186</td><td>0.000000</td><td>3600</td><td> 0.00000</td><td>0.0000000</td><td>0.00000</td><td>   0.00000</td><td>⋯</td><td>NA</td><td>NA</td><td>NA</td><td>NA</td><td>NA</td><td>NA</td><td>NA</td><td>NA</td><td>NA</td><td>NA</td></tr>\n",
       "\t<tr><th scope=row>991</th><td>NA</td><td>Aug. 14, 2019 </td><td>Run          </td><td>405</td><td>3.098450</td><td>1698</td><td> 9.13308</td><td>0.8569260</td><td>6.56953</td><td>  70.01770</td><td>⋯</td><td>NA</td><td>NA</td><td>NA</td><td>NA</td><td>NA</td><td>NA</td><td>NA</td><td>NA</td><td>NA</td><td>NA</td></tr>\n",
       "\t<tr><th scope=row>992</th><td>NA</td><td>Aug. 12, 2016 </td><td>Class Workout</td><td>189</td><td>0.000000</td><td>3600</td><td> 0.00000</td><td>0.0000000</td><td>0.00000</td><td>   0.00000</td><td>⋯</td><td>NA</td><td>NA</td><td>NA</td><td>NA</td><td>NA</td><td>NA</td><td>NA</td><td>NA</td><td>NA</td><td>NA</td></tr>\n",
       "\t<tr><th scope=row>993</th><td>NA</td><td>Sept. 26, 2016</td><td>Class Workout</td><td>186</td><td>0.000000</td><td>3600</td><td> 0.00000</td><td>0.0000000</td><td>0.00000</td><td>   0.00000</td><td>⋯</td><td>NA</td><td>NA</td><td>NA</td><td>NA</td><td>NA</td><td>NA</td><td>NA</td><td>NA</td><td>NA</td><td>NA</td></tr>\n",
       "\t<tr><th scope=row>994</th><td>NA</td><td>Oct. 12, 2016 </td><td>Class Workout</td><td>183</td><td>0.000000</td><td>3600</td><td> 0.00000</td><td>0.0000000</td><td>0.00000</td><td>   0.00000</td><td>⋯</td><td>NA</td><td>NA</td><td>NA</td><td>NA</td><td>NA</td><td>NA</td><td>NA</td><td>NA</td><td>NA</td><td>NA</td></tr>\n",
       "\t<tr><th scope=row>995</th><td>NA</td><td>Aug. 14, 2019 </td><td>Walk         </td><td>111</td><td>1.119880</td><td>1262</td><td>18.74250</td><td>2.0637800</td><td>3.20128</td><td>  29.07280</td><td>⋯</td><td>NA</td><td>NA</td><td>NA</td><td>NA</td><td>NA</td><td>NA</td><td>NA</td><td>NA</td><td>NA</td><td>NA</td></tr>\n",
       "</tbody>\n",
       "</table>\n"
      ],
      "text/latex": [
       "A data.frame: 995 × 28\n",
       "\\begin{tabular}{r|lllllllllllllllllllll}\n",
       "  & Date & Date.Submitted & Activity.Type & Calories.Burned..kCal. & Distance..mi. & Workout.Time..seconds. & Avg.Pace..min.mi. & Max.Pace..min.mi. & Avg.Speed..mi.h. & Max.Speed..mi.h. & ⋯ & Distance & Duration & Avg.Pace & Max.Pace & Avg.Spd & Max.Spd & Avg.HR & Steps.y & duration & year\\\\\n",
       "  & <date> & <chr> & <chr> & <int> & <dbl> & <int> & <dbl> & <dbl> & <dbl> & <dbl> & ⋯ & <dbl> & <dbl> & <dbl> & <dbl> & <dbl> & <dbl> & <dbl> & <dbl> & <dbl> & <int>\\\\\n",
       "\\hline\n",
       "\t676 & 2022-07-10 & July 10, 2022 & Run  & 429 & 3.09815 & 2301 & 12.37320 & 0.993196 & 4.84920 &  60.4110 & ⋯ & 3.10 & 2301 & 12.37 & 0.990 & 4.85 &  60.41000 & 149.0000 &  5125 & 38.35 & 2022\\\\\n",
       "\t675 & 2022-07-09 & July 9, 2022  & Run  & 430 & 3.10009 & 2005 & 10.77380 & 1.166080 & 5.56904 &  51.4543 & ⋯ & 3.10 & 2005 & 10.77 & 1.170 & 5.57 &  51.45000 & 157.0000 &  5261 & 33.42 & 2022\\\\\n",
       "\t674 & 2022-07-08 & July 8, 2022  & Run  & 454 & 3.10995 & 1988 & 10.64940 & 3.878360 & 5.63410 &  15.4704 & ⋯ & 3.11 & 1988 & 10.65 & 3.880 & 5.63 &  15.47000 & 165.0000 &  5202 & 33.13 & 2022\\\\\n",
       "\t673 & 2022-06-24 & June 24, 2022 & Run  & 400 & 3.10000 & 1554 &  8.35484 & 0.000000 & 7.18147 &   0.0000 & ⋯ & 3.10 & 1554 &  8.35 & 4.026 & 7.18 &  52.59158 & 140.5377 &  4192 & 25.90 & 2022\\\\\n",
       "\t672 & 2022-06-23 & June 23, 2022 & Run  & 410 & 3.10000 & 1748 &  9.39785 & 0.000000 & 6.38444 &   0.0000 & ⋯ & 3.10 & 1748 &  9.40 & 4.026 & 6.38 &  52.59158 & 140.5377 &  4656 & 29.13 & 2022\\\\\n",
       "\t671 & 2022-06-22 & June 21, 2022 & Run  & 403 & 3.10000 & 1665 &  8.95161 & 0.000000 & 6.70270 &   0.0000 & ⋯ & 3.10 & 1665 &  8.95 & 4.026 & 6.70 &  52.59158 & 140.5377 &  4458 & 27.75 & 2022\\\\\n",
       "\t670 & 2022-06-19 & June 19, 2022 & Run  & 378 & 2.66000 & 1800 & 11.27820 & 0.000000 & 5.32000 &   0.0000 & ⋯ & 2.66 & 1800 & 11.28 & 4.026 & 5.32 &  52.59158 & 140.5377 &  4713 & 30.00 & 2022\\\\\n",
       "\t669 & 2022-06-18 & June 18, 2022 & Run  & 370 & 2.57857 & 1698 & 10.96610 & 1.112400 & 5.47140 &  53.9375 & ⋯ & 2.58 & 1698 & 10.97 & 1.110 & 5.47 &  53.94000 & 159.0000 &  4431 & 28.30 & 2022\\\\\n",
       "\t668 & 2022-06-17 & June 16, 2022 & Run  & 315 & 2.33000 & 1391 &  9.94993 & 0.000000 & 6.03019 &   0.0000 & ⋯ & 2.33 & 1391 &  9.95 & 4.026 & 6.03 &  52.59158 & 140.5377 &  3684 & 23.18 & 2022\\\\\n",
       "\t667 & 2022-06-15 & June 15, 2022 & Run  & 405 & 3.10000 & 1691 &  9.09140 & 0.000000 & 6.59965 &   0.0000 & ⋯ & 3.10 & 1691 &  9.09 & 4.026 & 6.60 &  52.59158 & 140.5377 &  4520 & 28.18 & 2022\\\\\n",
       "\t666 & 2022-06-12 & June 12, 2022 & Run  & 428 & 3.09762 & 1955 & 10.51630 & 3.008140 & 5.70545 &  19.9459 & ⋯ & 3.10 & 1955 & 10.52 & 3.010 & 5.71 &  19.95000 & 140.5377 &  5052 & 32.58 & 2022\\\\\n",
       "\t665 & 2022-06-10 & June 10, 2022 & Run  & 881 & 6.20257 & 4182 & 11.23370 & 0.599692 & 5.34108 & 100.0510 & ⋯ & 6.20 & 4182 & 11.23 & 0.600 & 5.34 & 100.05000 & 153.0000 & 10479 & 69.70 & 2022\\\\\n",
       "\t664 & 2022-06-08 & June 9, 2022  & Run  & 407 & 3.11000 & 1702 &  9.12111 & 0.000000 & 6.57814 &   0.0000 & ⋯ & 3.11 & 1702 &  9.12 & 4.026 & 6.58 &  52.59158 & 153.0000 &  4548 & 28.37 & 2022\\\\\n",
       "\t663 & 2022-06-06 & June 6, 2022  & Run  & 590 & 4.50165 & 2924 & 10.82230 & 1.146470 & 5.54409 &  52.3344 & ⋯ & 4.50 & 2924 & 10.82 & 1.150 & 5.54 &  52.33000 & 145.0000 &  7739 & 48.73 & 2022\\\\\n",
       "\t659 & 2022-06-05 & June 5, 2022  & Walk & 253 & 1.88061 & 2402 & 21.27700 & 1.791470 & 2.81995 &  33.4920 & ⋯ & 1.88 & 2402 & 21.28 & 1.790 & 2.82 &  33.49000 & 109.0000 &  3994 & 40.03 & 2022\\\\\n",
       "\t660 & 2022-06-05 & June 5, 2022  & Walk & 253 & 1.88061 & 2402 & 21.27700 & 1.791470 & 2.81995 &  33.4920 & ⋯ & 2.44 & 1487 & 10.17 & 0.450 & 5.90 & 132.28000 & 148.0000 &  3889 & 24.78 & 2022\\\\\n",
       "\t661 & 2022-06-05 & June 5, 2022  & Run  & 302 & 2.43575 & 1487 & 10.17220 & 0.453587 & 5.89844 & 132.2790 & ⋯ & 1.88 & 2402 & 21.28 & 1.790 & 2.82 &  33.49000 & 109.0000 &  3994 & 40.03 & 2022\\\\\n",
       "\t662 & 2022-06-05 & June 5, 2022  & Run  & 302 & 2.43575 & 1487 & 10.17220 & 0.453587 & 5.89844 & 132.2790 & ⋯ & 2.44 & 1487 & 10.17 & 0.450 & 5.90 & 132.28000 & 148.0000 &  3889 & 24.78 & 2022\\\\\n",
       "\t658 & 2022-06-04 & June 4, 2022  & Run  & 856 & 6.24228 & 3946 & 10.53330 & 1.068360 & 5.69620 &  56.1607 & ⋯ & 6.24 & 3946 & 10.53 & 1.070 & 5.70 &  56.16000 & 156.0000 & 10427 & 65.77 & 2022\\\\\n",
       "\t657 & 2022-06-03 & June 3, 2022  & Run  & 397 & 3.10851 & 1864 &  9.98908 & 0.951188 & 6.00656 &  63.0790 & ⋯ & 3.11 & 1864 &  9.99 & 0.950 & 6.01 &  63.08000 & 152.0000 &  4863 & 31.07 & 2022\\\\\n",
       "\t656 & 2022-06-01 & May 31, 2022  & Run  & 416 & 3.10000 & 1817 &  9.76882 & 0.000000 & 6.14199 &   0.0000 & ⋯ & 3.10 & 1817 &  9.77 & 4.026 & 6.14 &  52.59158 & 140.5377 &  4822 & 30.28 & 2022\\\\\n",
       "\t655 & 2022-05-31 & May 31, 2022  & Run  & 546 & 4.08000 & 2377 &  9.70997 & 1.282750 & 6.17922 &  46.7746 & ⋯ & 4.08 & 2377 &  9.71 & 1.280 & 6.18 &  46.77000 & 145.0000 &  4048 & 39.62 & 2022\\\\\n",
       "\t654 & 2022-05-30 & May 30, 2022  & Run  & 418 & 3.10044 & 1873 & 10.05970 & 0.453169 & 5.96441 & 132.4010 & ⋯ & 3.10 & 1873 & 10.06 & 0.450 & 5.96 & 132.40000 & 159.0000 &  4873 & 31.22 & 2022\\\\\n",
       "\t653 & 2022-05-28 & May 28, 2022  & Run  & 426 & 3.10717 & 1852 &  9.93269 & 2.824090 & 6.04066 &  21.2457 & ⋯ & 3.11 & 1852 &  9.93 & 2.820 & 6.04 &  21.25000 & 162.0000 &  4867 & 30.87 & 2022\\\\\n",
       "\t652 & 2022-05-27 & May 27, 2022  & Run  & 405 & 3.10000 & 1691 &  9.09140 & 0.000000 & 6.59965 &   0.0000 & ⋯ & 3.10 & 1691 &  9.09 & 4.026 & 6.60 &  52.59158 & 140.5377 &  4520 & 28.18 & 2022\\\\\n",
       "\t651 & 2022-05-25 & May 25, 2022  & Run  & 801 & 6.20547 & 3735 & 10.03150 & 0.991277 & 5.98118 &  60.5280 & ⋯ & 6.21 & 3735 & 10.03 & 0.990 & 5.98 &  60.53000 & 150.0000 &  9802 & 62.25 & 2022\\\\\n",
       "\t650 & 2022-05-24 & May 24, 2022  & Run  & 408 & 3.10000 & 1731 &  9.30645 & 0.000000 & 6.44714 &   0.0000 & ⋯ & 3.10 & 1731 &  9.31 & 4.026 & 6.45 &  52.59158 & 140.5377 &  4616 & 28.85 & 2022\\\\\n",
       "\t649 & 2022-05-22 & May 22, 2022  & Run  & 420 & 3.10000 & 1865 & 10.02690 & 0.000000 & 5.98391 &   0.0000 & ⋯ & 3.10 & 1865 & 10.03 & 4.026 & 5.98 &  52.59158 & 140.5377 &  4936 & 31.08 & 2022\\\\\n",
       "\t645 & 2022-05-20 & May 20, 2022  & Run  & 394 & 3.10131 & 1839 &  9.88125 & 1.318340 & 6.07211 &  45.5119 & ⋯ & 3.10 & 1827 &  9.82 & 4.026 & 6.11 &  52.59158 & 140.5377 &  4845 & 30.45 & 2022\\\\\n",
       "\t646 & 2022-05-20 & May 20, 2022  & Run  & 394 & 3.10131 & 1839 &  9.88125 & 1.318340 & 6.07211 &  45.5119 & ⋯ & 3.10 & 1839 &  9.88 & 1.320 & 6.07 &  45.51000 & 149.0000 &  4858 & 30.65 & 2022\\\\\n",
       "\t⋮ & ⋮ & ⋮ & ⋮ & ⋮ & ⋮ & ⋮ & ⋮ & ⋮ & ⋮ & ⋮ & ⋱ & ⋮ & ⋮ & ⋮ & ⋮ & ⋮ & ⋮ & ⋮ & ⋮ & ⋮ & ⋮\\\\\n",
       "\t966 & NA & Aug. 2, 2020   & Run           & 236 & 2.237600 & 1302 &  9.69630 & 1.1225000 & 6.18793 &   53.45210 & ⋯ & NA & NA & NA & NA & NA & NA & NA & NA & NA & NA\\\\\n",
       "\t967 & NA & Nov. 10, 2019  & Gym Workout   &  22 & 0.000000 &  120 &  0.00000 & 0.0000000 & 0.00000 &    0.00000 & ⋯ & NA & NA & NA & NA & NA & NA & NA & NA & NA & NA\\\\\n",
       "\t968 & NA & Aug. 13, 2019  & Walk          &  66 & 0.553178 & 1066 & 32.09710 & 2.8510300 & 1.86933 &   21.04500 & ⋯ & NA & NA & NA & NA & NA & NA & NA & NA & NA & NA\\\\\n",
       "\t969 & NA & Aug. 13, 2019  & Run           & 403 & 3.100620 & 1636 &  8.79706 & 0.8894460 & 6.82046 &   67.45770 & ⋯ & NA & NA & NA & NA & NA & NA & NA & NA & NA & NA\\\\\n",
       "\t970 & NA & Sept. 15, 2019 & Run           & 118 & 0.907727 &  476 &  8.73148 & 0.7570850 & 6.87169 &   79.25130 & ⋯ & NA & NA & NA & NA & NA & NA & NA & NA & NA & NA\\\\\n",
       "\t971 & NA & Sept. 14, 2019 & Walk          & 169 & 1.658950 & 1697 & 16.92350 & 1.3279300 & 3.54536 &   45.18320 & ⋯ & NA & NA & NA & NA & NA & NA & NA & NA & NA & NA\\\\\n",
       "\t972 & NA & Aug. 22, 2019  & Walk          &  39 & 0.400536 &  475 & 19.72990 & 1.4196400 & 3.04108 &   42.26420 & ⋯ & NA & NA & NA & NA & NA & NA & NA & NA & NA & NA\\\\\n",
       "\t973 & NA & Aug. 21, 2019  & Run           & 153 & 1.122820 &  682 & 10.11180 & 1.0363600 & 5.93365 &   57.89480 & ⋯ & NA & NA & NA & NA & NA & NA & NA & NA & NA & NA\\\\\n",
       "\t974 & NA & Aug. 21, 2019  & Walk          &  35 & 0.349678 &  373 & 17.75600 & 1.8667900 & 3.37913 &   32.14070 & ⋯ & NA & NA & NA & NA & NA & NA & NA & NA & NA & NA\\\\\n",
       "\t975 & NA & Aug. 21, 2019  & Run           & 218 & 1.676180 &  859 &  8.54510 & 0.8335160 & 7.02157 &   71.98430 & ⋯ & NA & NA & NA & NA & NA & NA & NA & NA & NA & NA\\\\\n",
       "\t976 & NA & Aug. 20, 2019  & Run           & 506 & 3.680000 & 2649 & 11.99730 & 0.0000000 & 5.00113 &    0.00000 & ⋯ & NA & NA & NA & NA & NA & NA & NA & NA & NA & NA\\\\\n",
       "\t977 & NA & Aug. 18, 2019  & Run           & 131 & 1.004140 &  523 &  8.67137 & 6.0670800 & 6.91932 &    9.88943 & ⋯ & NA & NA & NA & NA & NA & NA & NA & NA & NA & NA\\\\\n",
       "\t978 & NA & Aug. 30, 2019  & Walk          & 118 & 1.170420 & 1258 & 17.79640 & 1.9997900 & 3.37147 &   30.00310 & ⋯ & NA & NA & NA & NA & NA & NA & NA & NA & NA & NA\\\\\n",
       "\t979 & NA & Aug. 30, 2019  & Run           & 193 & 1.505500 &  739 &  8.17480 & 0.0330683 & 7.33963 & 1814.43000 & ⋯ & NA & NA & NA & NA & NA & NA & NA & NA & NA & NA\\\\\n",
       "\t980 & NA & Aug. 25, 2019  & Run           & 415 & 3.234560 & 2596 & 13.37390 & 0.8343760 & 4.48636 &   71.91010 & ⋯ & NA & NA & NA & NA & NA & NA & NA & NA & NA & NA\\\\\n",
       "\t981 & NA & Aug. 24, 2019  & Run           & 527 & 4.004390 & 2236 &  9.30590 & 0.9217550 & 6.44752 &   65.09320 & ⋯ & NA & NA & NA & NA & NA & NA & NA & NA & NA & NA\\\\\n",
       "\t982 & NA & Sept. 15, 2019 & Walk          & 105 & 1.021240 &  979 & 15.94940 & 1.9200200 & 3.76189 &   31.24970 & ⋯ & NA & NA & NA & NA & NA & NA & NA & NA & NA & NA\\\\\n",
       "\t983 & NA & Aug. 22, 2019  & Walk          & 167 & 1.704590 & 2247 & 21.60970 & 1.3167400 & 2.77653 &   45.56730 & ⋯ & NA & NA & NA & NA & NA & NA & NA & NA & NA & NA\\\\\n",
       "\t984 & NA & Aug. 22, 2019  & Run           & 402 & 3.096160 & 1639 &  8.81727 & 0.6575490 & 6.80483 &   91.24790 & ⋯ & NA & NA & NA & NA & NA & NA & NA & NA & NA & NA\\\\\n",
       "\t985 & NA & Aug. 1, 2019   & Walk          & 145 & 1.446200 & 1572 & 18.03760 & 1.7866400 & 3.32638 &   33.58260 & ⋯ & NA & NA & NA & NA & NA & NA & NA & NA & NA & NA\\\\\n",
       "\t986 & NA & Aug. 1, 2020   & Run           & 300 & 2.676520 & 1540 &  9.57699 & 0.8917730 & 6.26502 &   67.28170 & ⋯ & NA & NA & NA & NA & NA & NA & NA & NA & NA & NA\\\\\n",
       "\t987 & NA & Aug. 18, 2019  & Run           & 130 & 1.003950 &  503 &  8.34428 & 1.5398300 & 7.19055 &   38.96530 & ⋯ & NA & NA & NA & NA & NA & NA & NA & NA & NA & NA\\\\\n",
       "\t988 & NA & Aug. 15, 2019  & Walk          & 152 & 0.961051 & 3201 & 55.42820 & 6.4950500 & 1.08248 &    9.23780 & ⋯ & NA & NA & NA & NA & NA & NA & NA & NA & NA & NA\\\\\n",
       "\t989 & NA & Aug. 15, 2019  & Run           & 342 & 2.625970 & 1351 &  8.56540 & 2.4537300 & 7.00493 &   24.45250 & ⋯ & NA & NA & NA & NA & NA & NA & NA & NA & NA & NA\\\\\n",
       "\t990 & NA & Oct. 19, 2016  & Class Workout & 186 & 0.000000 & 3600 &  0.00000 & 0.0000000 & 0.00000 &    0.00000 & ⋯ & NA & NA & NA & NA & NA & NA & NA & NA & NA & NA\\\\\n",
       "\t991 & NA & Aug. 14, 2019  & Run           & 405 & 3.098450 & 1698 &  9.13308 & 0.8569260 & 6.56953 &   70.01770 & ⋯ & NA & NA & NA & NA & NA & NA & NA & NA & NA & NA\\\\\n",
       "\t992 & NA & Aug. 12, 2016  & Class Workout & 189 & 0.000000 & 3600 &  0.00000 & 0.0000000 & 0.00000 &    0.00000 & ⋯ & NA & NA & NA & NA & NA & NA & NA & NA & NA & NA\\\\\n",
       "\t993 & NA & Sept. 26, 2016 & Class Workout & 186 & 0.000000 & 3600 &  0.00000 & 0.0000000 & 0.00000 &    0.00000 & ⋯ & NA & NA & NA & NA & NA & NA & NA & NA & NA & NA\\\\\n",
       "\t994 & NA & Oct. 12, 2016  & Class Workout & 183 & 0.000000 & 3600 &  0.00000 & 0.0000000 & 0.00000 &    0.00000 & ⋯ & NA & NA & NA & NA & NA & NA & NA & NA & NA & NA\\\\\n",
       "\t995 & NA & Aug. 14, 2019  & Walk          & 111 & 1.119880 & 1262 & 18.74250 & 2.0637800 & 3.20128 &   29.07280 & ⋯ & NA & NA & NA & NA & NA & NA & NA & NA & NA & NA\\\\\n",
       "\\end{tabular}\n"
      ],
      "text/markdown": [
       "\n",
       "A data.frame: 995 × 28\n",
       "\n",
       "| <!--/--> | Date &lt;date&gt; | Date.Submitted &lt;chr&gt; | Activity.Type &lt;chr&gt; | Calories.Burned..kCal. &lt;int&gt; | Distance..mi. &lt;dbl&gt; | Workout.Time..seconds. &lt;int&gt; | Avg.Pace..min.mi. &lt;dbl&gt; | Max.Pace..min.mi. &lt;dbl&gt; | Avg.Speed..mi.h. &lt;dbl&gt; | Max.Speed..mi.h. &lt;dbl&gt; | ⋯ ⋯ | Distance &lt;dbl&gt; | Duration &lt;dbl&gt; | Avg.Pace &lt;dbl&gt; | Max.Pace &lt;dbl&gt; | Avg.Spd &lt;dbl&gt; | Max.Spd &lt;dbl&gt; | Avg.HR &lt;dbl&gt; | Steps.y &lt;dbl&gt; | duration &lt;dbl&gt; | year &lt;int&gt; |\n",
       "|---|---|---|---|---|---|---|---|---|---|---|---|---|---|---|---|---|---|---|---|---|---|\n",
       "| 676 | 2022-07-10 | July 10, 2022 | Run  | 429 | 3.09815 | 2301 | 12.37320 | 0.993196 | 4.84920 |  60.4110 | ⋯ | 3.10 | 2301 | 12.37 | 0.990 | 4.85 |  60.41000 | 149.0000 |  5125 | 38.35 | 2022 |\n",
       "| 675 | 2022-07-09 | July 9, 2022  | Run  | 430 | 3.10009 | 2005 | 10.77380 | 1.166080 | 5.56904 |  51.4543 | ⋯ | 3.10 | 2005 | 10.77 | 1.170 | 5.57 |  51.45000 | 157.0000 |  5261 | 33.42 | 2022 |\n",
       "| 674 | 2022-07-08 | July 8, 2022  | Run  | 454 | 3.10995 | 1988 | 10.64940 | 3.878360 | 5.63410 |  15.4704 | ⋯ | 3.11 | 1988 | 10.65 | 3.880 | 5.63 |  15.47000 | 165.0000 |  5202 | 33.13 | 2022 |\n",
       "| 673 | 2022-06-24 | June 24, 2022 | Run  | 400 | 3.10000 | 1554 |  8.35484 | 0.000000 | 7.18147 |   0.0000 | ⋯ | 3.10 | 1554 |  8.35 | 4.026 | 7.18 |  52.59158 | 140.5377 |  4192 | 25.90 | 2022 |\n",
       "| 672 | 2022-06-23 | June 23, 2022 | Run  | 410 | 3.10000 | 1748 |  9.39785 | 0.000000 | 6.38444 |   0.0000 | ⋯ | 3.10 | 1748 |  9.40 | 4.026 | 6.38 |  52.59158 | 140.5377 |  4656 | 29.13 | 2022 |\n",
       "| 671 | 2022-06-22 | June 21, 2022 | Run  | 403 | 3.10000 | 1665 |  8.95161 | 0.000000 | 6.70270 |   0.0000 | ⋯ | 3.10 | 1665 |  8.95 | 4.026 | 6.70 |  52.59158 | 140.5377 |  4458 | 27.75 | 2022 |\n",
       "| 670 | 2022-06-19 | June 19, 2022 | Run  | 378 | 2.66000 | 1800 | 11.27820 | 0.000000 | 5.32000 |   0.0000 | ⋯ | 2.66 | 1800 | 11.28 | 4.026 | 5.32 |  52.59158 | 140.5377 |  4713 | 30.00 | 2022 |\n",
       "| 669 | 2022-06-18 | June 18, 2022 | Run  | 370 | 2.57857 | 1698 | 10.96610 | 1.112400 | 5.47140 |  53.9375 | ⋯ | 2.58 | 1698 | 10.97 | 1.110 | 5.47 |  53.94000 | 159.0000 |  4431 | 28.30 | 2022 |\n",
       "| 668 | 2022-06-17 | June 16, 2022 | Run  | 315 | 2.33000 | 1391 |  9.94993 | 0.000000 | 6.03019 |   0.0000 | ⋯ | 2.33 | 1391 |  9.95 | 4.026 | 6.03 |  52.59158 | 140.5377 |  3684 | 23.18 | 2022 |\n",
       "| 667 | 2022-06-15 | June 15, 2022 | Run  | 405 | 3.10000 | 1691 |  9.09140 | 0.000000 | 6.59965 |   0.0000 | ⋯ | 3.10 | 1691 |  9.09 | 4.026 | 6.60 |  52.59158 | 140.5377 |  4520 | 28.18 | 2022 |\n",
       "| 666 | 2022-06-12 | June 12, 2022 | Run  | 428 | 3.09762 | 1955 | 10.51630 | 3.008140 | 5.70545 |  19.9459 | ⋯ | 3.10 | 1955 | 10.52 | 3.010 | 5.71 |  19.95000 | 140.5377 |  5052 | 32.58 | 2022 |\n",
       "| 665 | 2022-06-10 | June 10, 2022 | Run  | 881 | 6.20257 | 4182 | 11.23370 | 0.599692 | 5.34108 | 100.0510 | ⋯ | 6.20 | 4182 | 11.23 | 0.600 | 5.34 | 100.05000 | 153.0000 | 10479 | 69.70 | 2022 |\n",
       "| 664 | 2022-06-08 | June 9, 2022  | Run  | 407 | 3.11000 | 1702 |  9.12111 | 0.000000 | 6.57814 |   0.0000 | ⋯ | 3.11 | 1702 |  9.12 | 4.026 | 6.58 |  52.59158 | 153.0000 |  4548 | 28.37 | 2022 |\n",
       "| 663 | 2022-06-06 | June 6, 2022  | Run  | 590 | 4.50165 | 2924 | 10.82230 | 1.146470 | 5.54409 |  52.3344 | ⋯ | 4.50 | 2924 | 10.82 | 1.150 | 5.54 |  52.33000 | 145.0000 |  7739 | 48.73 | 2022 |\n",
       "| 659 | 2022-06-05 | June 5, 2022  | Walk | 253 | 1.88061 | 2402 | 21.27700 | 1.791470 | 2.81995 |  33.4920 | ⋯ | 1.88 | 2402 | 21.28 | 1.790 | 2.82 |  33.49000 | 109.0000 |  3994 | 40.03 | 2022 |\n",
       "| 660 | 2022-06-05 | June 5, 2022  | Walk | 253 | 1.88061 | 2402 | 21.27700 | 1.791470 | 2.81995 |  33.4920 | ⋯ | 2.44 | 1487 | 10.17 | 0.450 | 5.90 | 132.28000 | 148.0000 |  3889 | 24.78 | 2022 |\n",
       "| 661 | 2022-06-05 | June 5, 2022  | Run  | 302 | 2.43575 | 1487 | 10.17220 | 0.453587 | 5.89844 | 132.2790 | ⋯ | 1.88 | 2402 | 21.28 | 1.790 | 2.82 |  33.49000 | 109.0000 |  3994 | 40.03 | 2022 |\n",
       "| 662 | 2022-06-05 | June 5, 2022  | Run  | 302 | 2.43575 | 1487 | 10.17220 | 0.453587 | 5.89844 | 132.2790 | ⋯ | 2.44 | 1487 | 10.17 | 0.450 | 5.90 | 132.28000 | 148.0000 |  3889 | 24.78 | 2022 |\n",
       "| 658 | 2022-06-04 | June 4, 2022  | Run  | 856 | 6.24228 | 3946 | 10.53330 | 1.068360 | 5.69620 |  56.1607 | ⋯ | 6.24 | 3946 | 10.53 | 1.070 | 5.70 |  56.16000 | 156.0000 | 10427 | 65.77 | 2022 |\n",
       "| 657 | 2022-06-03 | June 3, 2022  | Run  | 397 | 3.10851 | 1864 |  9.98908 | 0.951188 | 6.00656 |  63.0790 | ⋯ | 3.11 | 1864 |  9.99 | 0.950 | 6.01 |  63.08000 | 152.0000 |  4863 | 31.07 | 2022 |\n",
       "| 656 | 2022-06-01 | May 31, 2022  | Run  | 416 | 3.10000 | 1817 |  9.76882 | 0.000000 | 6.14199 |   0.0000 | ⋯ | 3.10 | 1817 |  9.77 | 4.026 | 6.14 |  52.59158 | 140.5377 |  4822 | 30.28 | 2022 |\n",
       "| 655 | 2022-05-31 | May 31, 2022  | Run  | 546 | 4.08000 | 2377 |  9.70997 | 1.282750 | 6.17922 |  46.7746 | ⋯ | 4.08 | 2377 |  9.71 | 1.280 | 6.18 |  46.77000 | 145.0000 |  4048 | 39.62 | 2022 |\n",
       "| 654 | 2022-05-30 | May 30, 2022  | Run  | 418 | 3.10044 | 1873 | 10.05970 | 0.453169 | 5.96441 | 132.4010 | ⋯ | 3.10 | 1873 | 10.06 | 0.450 | 5.96 | 132.40000 | 159.0000 |  4873 | 31.22 | 2022 |\n",
       "| 653 | 2022-05-28 | May 28, 2022  | Run  | 426 | 3.10717 | 1852 |  9.93269 | 2.824090 | 6.04066 |  21.2457 | ⋯ | 3.11 | 1852 |  9.93 | 2.820 | 6.04 |  21.25000 | 162.0000 |  4867 | 30.87 | 2022 |\n",
       "| 652 | 2022-05-27 | May 27, 2022  | Run  | 405 | 3.10000 | 1691 |  9.09140 | 0.000000 | 6.59965 |   0.0000 | ⋯ | 3.10 | 1691 |  9.09 | 4.026 | 6.60 |  52.59158 | 140.5377 |  4520 | 28.18 | 2022 |\n",
       "| 651 | 2022-05-25 | May 25, 2022  | Run  | 801 | 6.20547 | 3735 | 10.03150 | 0.991277 | 5.98118 |  60.5280 | ⋯ | 6.21 | 3735 | 10.03 | 0.990 | 5.98 |  60.53000 | 150.0000 |  9802 | 62.25 | 2022 |\n",
       "| 650 | 2022-05-24 | May 24, 2022  | Run  | 408 | 3.10000 | 1731 |  9.30645 | 0.000000 | 6.44714 |   0.0000 | ⋯ | 3.10 | 1731 |  9.31 | 4.026 | 6.45 |  52.59158 | 140.5377 |  4616 | 28.85 | 2022 |\n",
       "| 649 | 2022-05-22 | May 22, 2022  | Run  | 420 | 3.10000 | 1865 | 10.02690 | 0.000000 | 5.98391 |   0.0000 | ⋯ | 3.10 | 1865 | 10.03 | 4.026 | 5.98 |  52.59158 | 140.5377 |  4936 | 31.08 | 2022 |\n",
       "| 645 | 2022-05-20 | May 20, 2022  | Run  | 394 | 3.10131 | 1839 |  9.88125 | 1.318340 | 6.07211 |  45.5119 | ⋯ | 3.10 | 1827 |  9.82 | 4.026 | 6.11 |  52.59158 | 140.5377 |  4845 | 30.45 | 2022 |\n",
       "| 646 | 2022-05-20 | May 20, 2022  | Run  | 394 | 3.10131 | 1839 |  9.88125 | 1.318340 | 6.07211 |  45.5119 | ⋯ | 3.10 | 1839 |  9.88 | 1.320 | 6.07 |  45.51000 | 149.0000 |  4858 | 30.65 | 2022 |\n",
       "| ⋮ | ⋮ | ⋮ | ⋮ | ⋮ | ⋮ | ⋮ | ⋮ | ⋮ | ⋮ | ⋮ | ⋱ | ⋮ | ⋮ | ⋮ | ⋮ | ⋮ | ⋮ | ⋮ | ⋮ | ⋮ | ⋮ |\n",
       "| 966 | NA | Aug. 2, 2020   | Run           | 236 | 2.237600 | 1302 |  9.69630 | 1.1225000 | 6.18793 |   53.45210 | ⋯ | NA | NA | NA | NA | NA | NA | NA | NA | NA | NA |\n",
       "| 967 | NA | Nov. 10, 2019  | Gym Workout   |  22 | 0.000000 |  120 |  0.00000 | 0.0000000 | 0.00000 |    0.00000 | ⋯ | NA | NA | NA | NA | NA | NA | NA | NA | NA | NA |\n",
       "| 968 | NA | Aug. 13, 2019  | Walk          |  66 | 0.553178 | 1066 | 32.09710 | 2.8510300 | 1.86933 |   21.04500 | ⋯ | NA | NA | NA | NA | NA | NA | NA | NA | NA | NA |\n",
       "| 969 | NA | Aug. 13, 2019  | Run           | 403 | 3.100620 | 1636 |  8.79706 | 0.8894460 | 6.82046 |   67.45770 | ⋯ | NA | NA | NA | NA | NA | NA | NA | NA | NA | NA |\n",
       "| 970 | NA | Sept. 15, 2019 | Run           | 118 | 0.907727 |  476 |  8.73148 | 0.7570850 | 6.87169 |   79.25130 | ⋯ | NA | NA | NA | NA | NA | NA | NA | NA | NA | NA |\n",
       "| 971 | NA | Sept. 14, 2019 | Walk          | 169 | 1.658950 | 1697 | 16.92350 | 1.3279300 | 3.54536 |   45.18320 | ⋯ | NA | NA | NA | NA | NA | NA | NA | NA | NA | NA |\n",
       "| 972 | NA | Aug. 22, 2019  | Walk          |  39 | 0.400536 |  475 | 19.72990 | 1.4196400 | 3.04108 |   42.26420 | ⋯ | NA | NA | NA | NA | NA | NA | NA | NA | NA | NA |\n",
       "| 973 | NA | Aug. 21, 2019  | Run           | 153 | 1.122820 |  682 | 10.11180 | 1.0363600 | 5.93365 |   57.89480 | ⋯ | NA | NA | NA | NA | NA | NA | NA | NA | NA | NA |\n",
       "| 974 | NA | Aug. 21, 2019  | Walk          |  35 | 0.349678 |  373 | 17.75600 | 1.8667900 | 3.37913 |   32.14070 | ⋯ | NA | NA | NA | NA | NA | NA | NA | NA | NA | NA |\n",
       "| 975 | NA | Aug. 21, 2019  | Run           | 218 | 1.676180 |  859 |  8.54510 | 0.8335160 | 7.02157 |   71.98430 | ⋯ | NA | NA | NA | NA | NA | NA | NA | NA | NA | NA |\n",
       "| 976 | NA | Aug. 20, 2019  | Run           | 506 | 3.680000 | 2649 | 11.99730 | 0.0000000 | 5.00113 |    0.00000 | ⋯ | NA | NA | NA | NA | NA | NA | NA | NA | NA | NA |\n",
       "| 977 | NA | Aug. 18, 2019  | Run           | 131 | 1.004140 |  523 |  8.67137 | 6.0670800 | 6.91932 |    9.88943 | ⋯ | NA | NA | NA | NA | NA | NA | NA | NA | NA | NA |\n",
       "| 978 | NA | Aug. 30, 2019  | Walk          | 118 | 1.170420 | 1258 | 17.79640 | 1.9997900 | 3.37147 |   30.00310 | ⋯ | NA | NA | NA | NA | NA | NA | NA | NA | NA | NA |\n",
       "| 979 | NA | Aug. 30, 2019  | Run           | 193 | 1.505500 |  739 |  8.17480 | 0.0330683 | 7.33963 | 1814.43000 | ⋯ | NA | NA | NA | NA | NA | NA | NA | NA | NA | NA |\n",
       "| 980 | NA | Aug. 25, 2019  | Run           | 415 | 3.234560 | 2596 | 13.37390 | 0.8343760 | 4.48636 |   71.91010 | ⋯ | NA | NA | NA | NA | NA | NA | NA | NA | NA | NA |\n",
       "| 981 | NA | Aug. 24, 2019  | Run           | 527 | 4.004390 | 2236 |  9.30590 | 0.9217550 | 6.44752 |   65.09320 | ⋯ | NA | NA | NA | NA | NA | NA | NA | NA | NA | NA |\n",
       "| 982 | NA | Sept. 15, 2019 | Walk          | 105 | 1.021240 |  979 | 15.94940 | 1.9200200 | 3.76189 |   31.24970 | ⋯ | NA | NA | NA | NA | NA | NA | NA | NA | NA | NA |\n",
       "| 983 | NA | Aug. 22, 2019  | Walk          | 167 | 1.704590 | 2247 | 21.60970 | 1.3167400 | 2.77653 |   45.56730 | ⋯ | NA | NA | NA | NA | NA | NA | NA | NA | NA | NA |\n",
       "| 984 | NA | Aug. 22, 2019  | Run           | 402 | 3.096160 | 1639 |  8.81727 | 0.6575490 | 6.80483 |   91.24790 | ⋯ | NA | NA | NA | NA | NA | NA | NA | NA | NA | NA |\n",
       "| 985 | NA | Aug. 1, 2019   | Walk          | 145 | 1.446200 | 1572 | 18.03760 | 1.7866400 | 3.32638 |   33.58260 | ⋯ | NA | NA | NA | NA | NA | NA | NA | NA | NA | NA |\n",
       "| 986 | NA | Aug. 1, 2020   | Run           | 300 | 2.676520 | 1540 |  9.57699 | 0.8917730 | 6.26502 |   67.28170 | ⋯ | NA | NA | NA | NA | NA | NA | NA | NA | NA | NA |\n",
       "| 987 | NA | Aug. 18, 2019  | Run           | 130 | 1.003950 |  503 |  8.34428 | 1.5398300 | 7.19055 |   38.96530 | ⋯ | NA | NA | NA | NA | NA | NA | NA | NA | NA | NA |\n",
       "| 988 | NA | Aug. 15, 2019  | Walk          | 152 | 0.961051 | 3201 | 55.42820 | 6.4950500 | 1.08248 |    9.23780 | ⋯ | NA | NA | NA | NA | NA | NA | NA | NA | NA | NA |\n",
       "| 989 | NA | Aug. 15, 2019  | Run           | 342 | 2.625970 | 1351 |  8.56540 | 2.4537300 | 7.00493 |   24.45250 | ⋯ | NA | NA | NA | NA | NA | NA | NA | NA | NA | NA |\n",
       "| 990 | NA | Oct. 19, 2016  | Class Workout | 186 | 0.000000 | 3600 |  0.00000 | 0.0000000 | 0.00000 |    0.00000 | ⋯ | NA | NA | NA | NA | NA | NA | NA | NA | NA | NA |\n",
       "| 991 | NA | Aug. 14, 2019  | Run           | 405 | 3.098450 | 1698 |  9.13308 | 0.8569260 | 6.56953 |   70.01770 | ⋯ | NA | NA | NA | NA | NA | NA | NA | NA | NA | NA |\n",
       "| 992 | NA | Aug. 12, 2016  | Class Workout | 189 | 0.000000 | 3600 |  0.00000 | 0.0000000 | 0.00000 |    0.00000 | ⋯ | NA | NA | NA | NA | NA | NA | NA | NA | NA | NA |\n",
       "| 993 | NA | Sept. 26, 2016 | Class Workout | 186 | 0.000000 | 3600 |  0.00000 | 0.0000000 | 0.00000 |    0.00000 | ⋯ | NA | NA | NA | NA | NA | NA | NA | NA | NA | NA |\n",
       "| 994 | NA | Oct. 12, 2016  | Class Workout | 183 | 0.000000 | 3600 |  0.00000 | 0.0000000 | 0.00000 |    0.00000 | ⋯ | NA | NA | NA | NA | NA | NA | NA | NA | NA | NA |\n",
       "| 995 | NA | Aug. 14, 2019  | Walk          | 111 | 1.119880 | 1262 | 18.74250 | 2.0637800 | 3.20128 |   29.07280 | ⋯ | NA | NA | NA | NA | NA | NA | NA | NA | NA | NA |\n",
       "\n"
      ],
      "text/plain": [
       "    Date       Date.Submitted Activity.Type Calories.Burned..kCal.\n",
       "676 2022-07-10 July 10, 2022  Run           429                   \n",
       "675 2022-07-09 July 9, 2022   Run           430                   \n",
       "674 2022-07-08 July 8, 2022   Run           454                   \n",
       "673 2022-06-24 June 24, 2022  Run           400                   \n",
       "672 2022-06-23 June 23, 2022  Run           410                   \n",
       "671 2022-06-22 June 21, 2022  Run           403                   \n",
       "670 2022-06-19 June 19, 2022  Run           378                   \n",
       "669 2022-06-18 June 18, 2022  Run           370                   \n",
       "668 2022-06-17 June 16, 2022  Run           315                   \n",
       "667 2022-06-15 June 15, 2022  Run           405                   \n",
       "666 2022-06-12 June 12, 2022  Run           428                   \n",
       "665 2022-06-10 June 10, 2022  Run           881                   \n",
       "664 2022-06-08 June 9, 2022   Run           407                   \n",
       "663 2022-06-06 June 6, 2022   Run           590                   \n",
       "659 2022-06-05 June 5, 2022   Walk          253                   \n",
       "660 2022-06-05 June 5, 2022   Walk          253                   \n",
       "661 2022-06-05 June 5, 2022   Run           302                   \n",
       "662 2022-06-05 June 5, 2022   Run           302                   \n",
       "658 2022-06-04 June 4, 2022   Run           856                   \n",
       "657 2022-06-03 June 3, 2022   Run           397                   \n",
       "656 2022-06-01 May 31, 2022   Run           416                   \n",
       "655 2022-05-31 May 31, 2022   Run           546                   \n",
       "654 2022-05-30 May 30, 2022   Run           418                   \n",
       "653 2022-05-28 May 28, 2022   Run           426                   \n",
       "652 2022-05-27 May 27, 2022   Run           405                   \n",
       "651 2022-05-25 May 25, 2022   Run           801                   \n",
       "650 2022-05-24 May 24, 2022   Run           408                   \n",
       "649 2022-05-22 May 22, 2022   Run           420                   \n",
       "645 2022-05-20 May 20, 2022   Run           394                   \n",
       "646 2022-05-20 May 20, 2022   Run           394                   \n",
       "<U+22EE>   <U+22EE>   <U+22EE>       <U+22EE>      <U+22EE>              \n",
       "966 <NA>       Aug. 2, 2020   Run           236                   \n",
       "967 <NA>       Nov. 10, 2019  Gym Workout    22                   \n",
       "968 <NA>       Aug. 13, 2019  Walk           66                   \n",
       "969 <NA>       Aug. 13, 2019  Run           403                   \n",
       "970 <NA>       Sept. 15, 2019 Run           118                   \n",
       "971 <NA>       Sept. 14, 2019 Walk          169                   \n",
       "972 <NA>       Aug. 22, 2019  Walk           39                   \n",
       "973 <NA>       Aug. 21, 2019  Run           153                   \n",
       "974 <NA>       Aug. 21, 2019  Walk           35                   \n",
       "975 <NA>       Aug. 21, 2019  Run           218                   \n",
       "976 <NA>       Aug. 20, 2019  Run           506                   \n",
       "977 <NA>       Aug. 18, 2019  Run           131                   \n",
       "978 <NA>       Aug. 30, 2019  Walk          118                   \n",
       "979 <NA>       Aug. 30, 2019  Run           193                   \n",
       "980 <NA>       Aug. 25, 2019  Run           415                   \n",
       "981 <NA>       Aug. 24, 2019  Run           527                   \n",
       "982 <NA>       Sept. 15, 2019 Walk          105                   \n",
       "983 <NA>       Aug. 22, 2019  Walk          167                   \n",
       "984 <NA>       Aug. 22, 2019  Run           402                   \n",
       "985 <NA>       Aug. 1, 2019   Walk          145                   \n",
       "986 <NA>       Aug. 1, 2020   Run           300                   \n",
       "987 <NA>       Aug. 18, 2019  Run           130                   \n",
       "988 <NA>       Aug. 15, 2019  Walk          152                   \n",
       "989 <NA>       Aug. 15, 2019  Run           342                   \n",
       "990 <NA>       Oct. 19, 2016  Class Workout 186                   \n",
       "991 <NA>       Aug. 14, 2019  Run           405                   \n",
       "992 <NA>       Aug. 12, 2016  Class Workout 189                   \n",
       "993 <NA>       Sept. 26, 2016 Class Workout 186                   \n",
       "994 <NA>       Oct. 12, 2016  Class Workout 183                   \n",
       "995 <NA>       Aug. 14, 2019  Walk          111                   \n",
       "    Distance..mi. Workout.Time..seconds. Avg.Pace..min.mi. Max.Pace..min.mi.\n",
       "676 3.09815       2301                   12.37320          0.993196         \n",
       "675 3.10009       2005                   10.77380          1.166080         \n",
       "674 3.10995       1988                   10.64940          3.878360         \n",
       "673 3.10000       1554                    8.35484          0.000000         \n",
       "672 3.10000       1748                    9.39785          0.000000         \n",
       "671 3.10000       1665                    8.95161          0.000000         \n",
       "670 2.66000       1800                   11.27820          0.000000         \n",
       "669 2.57857       1698                   10.96610          1.112400         \n",
       "668 2.33000       1391                    9.94993          0.000000         \n",
       "667 3.10000       1691                    9.09140          0.000000         \n",
       "666 3.09762       1955                   10.51630          3.008140         \n",
       "665 6.20257       4182                   11.23370          0.599692         \n",
       "664 3.11000       1702                    9.12111          0.000000         \n",
       "663 4.50165       2924                   10.82230          1.146470         \n",
       "659 1.88061       2402                   21.27700          1.791470         \n",
       "660 1.88061       2402                   21.27700          1.791470         \n",
       "661 2.43575       1487                   10.17220          0.453587         \n",
       "662 2.43575       1487                   10.17220          0.453587         \n",
       "658 6.24228       3946                   10.53330          1.068360         \n",
       "657 3.10851       1864                    9.98908          0.951188         \n",
       "656 3.10000       1817                    9.76882          0.000000         \n",
       "655 4.08000       2377                    9.70997          1.282750         \n",
       "654 3.10044       1873                   10.05970          0.453169         \n",
       "653 3.10717       1852                    9.93269          2.824090         \n",
       "652 3.10000       1691                    9.09140          0.000000         \n",
       "651 6.20547       3735                   10.03150          0.991277         \n",
       "650 3.10000       1731                    9.30645          0.000000         \n",
       "649 3.10000       1865                   10.02690          0.000000         \n",
       "645 3.10131       1839                    9.88125          1.318340         \n",
       "646 3.10131       1839                    9.88125          1.318340         \n",
       "<U+22EE>   <U+22EE>      <U+22EE>               <U+22EE>          <U+22EE>         \n",
       "966 2.237600      1302                    9.69630          1.1225000        \n",
       "967 0.000000       120                    0.00000          0.0000000        \n",
       "968 0.553178      1066                   32.09710          2.8510300        \n",
       "969 3.100620      1636                    8.79706          0.8894460        \n",
       "970 0.907727       476                    8.73148          0.7570850        \n",
       "971 1.658950      1697                   16.92350          1.3279300        \n",
       "972 0.400536       475                   19.72990          1.4196400        \n",
       "973 1.122820       682                   10.11180          1.0363600        \n",
       "974 0.349678       373                   17.75600          1.8667900        \n",
       "975 1.676180       859                    8.54510          0.8335160        \n",
       "976 3.680000      2649                   11.99730          0.0000000        \n",
       "977 1.004140       523                    8.67137          6.0670800        \n",
       "978 1.170420      1258                   17.79640          1.9997900        \n",
       "979 1.505500       739                    8.17480          0.0330683        \n",
       "980 3.234560      2596                   13.37390          0.8343760        \n",
       "981 4.004390      2236                    9.30590          0.9217550        \n",
       "982 1.021240       979                   15.94940          1.9200200        \n",
       "983 1.704590      2247                   21.60970          1.3167400        \n",
       "984 3.096160      1639                    8.81727          0.6575490        \n",
       "985 1.446200      1572                   18.03760          1.7866400        \n",
       "986 2.676520      1540                    9.57699          0.8917730        \n",
       "987 1.003950       503                    8.34428          1.5398300        \n",
       "988 0.961051      3201                   55.42820          6.4950500        \n",
       "989 2.625970      1351                    8.56540          2.4537300        \n",
       "990 0.000000      3600                    0.00000          0.0000000        \n",
       "991 3.098450      1698                    9.13308          0.8569260        \n",
       "992 0.000000      3600                    0.00000          0.0000000        \n",
       "993 0.000000      3600                    0.00000          0.0000000        \n",
       "994 0.000000      3600                    0.00000          0.0000000        \n",
       "995 1.119880      1262                   18.74250          2.0637800        \n",
       "    Avg.Speed..mi.h. Max.Speed..mi.h. <U+22EF>        Distance Duration Avg.Pace\n",
       "676 4.84920           60.4110         <U+22EF> 3.10     2301     12.37   \n",
       "675 5.56904           51.4543         <U+22EF> 3.10     2005     10.77   \n",
       "674 5.63410           15.4704         <U+22EF> 3.11     1988     10.65   \n",
       "673 7.18147            0.0000         <U+22EF> 3.10     1554      8.35   \n",
       "672 6.38444            0.0000         <U+22EF> 3.10     1748      9.40   \n",
       "671 6.70270            0.0000         <U+22EF> 3.10     1665      8.95   \n",
       "670 5.32000            0.0000         <U+22EF> 2.66     1800     11.28   \n",
       "669 5.47140           53.9375         <U+22EF> 2.58     1698     10.97   \n",
       "668 6.03019            0.0000         <U+22EF> 2.33     1391      9.95   \n",
       "667 6.59965            0.0000         <U+22EF> 3.10     1691      9.09   \n",
       "666 5.70545           19.9459         <U+22EF> 3.10     1955     10.52   \n",
       "665 5.34108          100.0510         <U+22EF> 6.20     4182     11.23   \n",
       "664 6.57814            0.0000         <U+22EF> 3.11     1702      9.12   \n",
       "663 5.54409           52.3344         <U+22EF> 4.50     2924     10.82   \n",
       "659 2.81995           33.4920         <U+22EF> 1.88     2402     21.28   \n",
       "660 2.81995           33.4920         <U+22EF> 2.44     1487     10.17   \n",
       "661 5.89844          132.2790         <U+22EF> 1.88     2402     21.28   \n",
       "662 5.89844          132.2790         <U+22EF> 2.44     1487     10.17   \n",
       "658 5.69620           56.1607         <U+22EF> 6.24     3946     10.53   \n",
       "657 6.00656           63.0790         <U+22EF> 3.11     1864      9.99   \n",
       "656 6.14199            0.0000         <U+22EF> 3.10     1817      9.77   \n",
       "655 6.17922           46.7746         <U+22EF> 4.08     2377      9.71   \n",
       "654 5.96441          132.4010         <U+22EF> 3.10     1873     10.06   \n",
       "653 6.04066           21.2457         <U+22EF> 3.11     1852      9.93   \n",
       "652 6.59965            0.0000         <U+22EF> 3.10     1691      9.09   \n",
       "651 5.98118           60.5280         <U+22EF> 6.21     3735     10.03   \n",
       "650 6.44714            0.0000         <U+22EF> 3.10     1731      9.31   \n",
       "649 5.98391            0.0000         <U+22EF> 3.10     1865     10.03   \n",
       "645 6.07211           45.5119         <U+22EF> 3.10     1827      9.82   \n",
       "646 6.07211           45.5119         <U+22EF> 3.10     1839      9.88   \n",
       "<U+22EE>   <U+22EE>         <U+22EE>         <U+22F1> <U+22EE> <U+22EE> <U+22EE>\n",
       "966 6.18793            53.45210       <U+22EF> NA       NA       NA      \n",
       "967 0.00000             0.00000       <U+22EF> NA       NA       NA      \n",
       "968 1.86933            21.04500       <U+22EF> NA       NA       NA      \n",
       "969 6.82046            67.45770       <U+22EF> NA       NA       NA      \n",
       "970 6.87169            79.25130       <U+22EF> NA       NA       NA      \n",
       "971 3.54536            45.18320       <U+22EF> NA       NA       NA      \n",
       "972 3.04108            42.26420       <U+22EF> NA       NA       NA      \n",
       "973 5.93365            57.89480       <U+22EF> NA       NA       NA      \n",
       "974 3.37913            32.14070       <U+22EF> NA       NA       NA      \n",
       "975 7.02157            71.98430       <U+22EF> NA       NA       NA      \n",
       "976 5.00113             0.00000       <U+22EF> NA       NA       NA      \n",
       "977 6.91932             9.88943       <U+22EF> NA       NA       NA      \n",
       "978 3.37147            30.00310       <U+22EF> NA       NA       NA      \n",
       "979 7.33963          1814.43000       <U+22EF> NA       NA       NA      \n",
       "980 4.48636            71.91010       <U+22EF> NA       NA       NA      \n",
       "981 6.44752            65.09320       <U+22EF> NA       NA       NA      \n",
       "982 3.76189            31.24970       <U+22EF> NA       NA       NA      \n",
       "983 2.77653            45.56730       <U+22EF> NA       NA       NA      \n",
       "984 6.80483            91.24790       <U+22EF> NA       NA       NA      \n",
       "985 3.32638            33.58260       <U+22EF> NA       NA       NA      \n",
       "986 6.26502            67.28170       <U+22EF> NA       NA       NA      \n",
       "987 7.19055            38.96530       <U+22EF> NA       NA       NA      \n",
       "988 1.08248             9.23780       <U+22EF> NA       NA       NA      \n",
       "989 7.00493            24.45250       <U+22EF> NA       NA       NA      \n",
       "990 0.00000             0.00000       <U+22EF> NA       NA       NA      \n",
       "991 6.56953            70.01770       <U+22EF> NA       NA       NA      \n",
       "992 0.00000             0.00000       <U+22EF> NA       NA       NA      \n",
       "993 0.00000             0.00000       <U+22EF> NA       NA       NA      \n",
       "994 0.00000             0.00000       <U+22EF> NA       NA       NA      \n",
       "995 3.20128            29.07280       <U+22EF> NA       NA       NA      \n",
       "    Max.Pace Avg.Spd Max.Spd   Avg.HR   Steps.y duration year\n",
       "676 0.990    4.85     60.41000 149.0000  5125   38.35    2022\n",
       "675 1.170    5.57     51.45000 157.0000  5261   33.42    2022\n",
       "674 3.880    5.63     15.47000 165.0000  5202   33.13    2022\n",
       "673 4.026    7.18     52.59158 140.5377  4192   25.90    2022\n",
       "672 4.026    6.38     52.59158 140.5377  4656   29.13    2022\n",
       "671 4.026    6.70     52.59158 140.5377  4458   27.75    2022\n",
       "670 4.026    5.32     52.59158 140.5377  4713   30.00    2022\n",
       "669 1.110    5.47     53.94000 159.0000  4431   28.30    2022\n",
       "668 4.026    6.03     52.59158 140.5377  3684   23.18    2022\n",
       "667 4.026    6.60     52.59158 140.5377  4520   28.18    2022\n",
       "666 3.010    5.71     19.95000 140.5377  5052   32.58    2022\n",
       "665 0.600    5.34    100.05000 153.0000 10479   69.70    2022\n",
       "664 4.026    6.58     52.59158 153.0000  4548   28.37    2022\n",
       "663 1.150    5.54     52.33000 145.0000  7739   48.73    2022\n",
       "659 1.790    2.82     33.49000 109.0000  3994   40.03    2022\n",
       "660 0.450    5.90    132.28000 148.0000  3889   24.78    2022\n",
       "661 1.790    2.82     33.49000 109.0000  3994   40.03    2022\n",
       "662 0.450    5.90    132.28000 148.0000  3889   24.78    2022\n",
       "658 1.070    5.70     56.16000 156.0000 10427   65.77    2022\n",
       "657 0.950    6.01     63.08000 152.0000  4863   31.07    2022\n",
       "656 4.026    6.14     52.59158 140.5377  4822   30.28    2022\n",
       "655 1.280    6.18     46.77000 145.0000  4048   39.62    2022\n",
       "654 0.450    5.96    132.40000 159.0000  4873   31.22    2022\n",
       "653 2.820    6.04     21.25000 162.0000  4867   30.87    2022\n",
       "652 4.026    6.60     52.59158 140.5377  4520   28.18    2022\n",
       "651 0.990    5.98     60.53000 150.0000  9802   62.25    2022\n",
       "650 4.026    6.45     52.59158 140.5377  4616   28.85    2022\n",
       "649 4.026    5.98     52.59158 140.5377  4936   31.08    2022\n",
       "645 4.026    6.11     52.59158 140.5377  4845   30.45    2022\n",
       "646 1.320    6.07     45.51000 149.0000  4858   30.65    2022\n",
       "<U+22EE>   <U+22EE> <U+22EE> <U+22EE>  <U+22EE> <U+22EE> <U+22EE> <U+22EE>\n",
       "966 NA       NA      NA        NA       NA      NA       NA  \n",
       "967 NA       NA      NA        NA       NA      NA       NA  \n",
       "968 NA       NA      NA        NA       NA      NA       NA  \n",
       "969 NA       NA      NA        NA       NA      NA       NA  \n",
       "970 NA       NA      NA        NA       NA      NA       NA  \n",
       "971 NA       NA      NA        NA       NA      NA       NA  \n",
       "972 NA       NA      NA        NA       NA      NA       NA  \n",
       "973 NA       NA      NA        NA       NA      NA       NA  \n",
       "974 NA       NA      NA        NA       NA      NA       NA  \n",
       "975 NA       NA      NA        NA       NA      NA       NA  \n",
       "976 NA       NA      NA        NA       NA      NA       NA  \n",
       "977 NA       NA      NA        NA       NA      NA       NA  \n",
       "978 NA       NA      NA        NA       NA      NA       NA  \n",
       "979 NA       NA      NA        NA       NA      NA       NA  \n",
       "980 NA       NA      NA        NA       NA      NA       NA  \n",
       "981 NA       NA      NA        NA       NA      NA       NA  \n",
       "982 NA       NA      NA        NA       NA      NA       NA  \n",
       "983 NA       NA      NA        NA       NA      NA       NA  \n",
       "984 NA       NA      NA        NA       NA      NA       NA  \n",
       "985 NA       NA      NA        NA       NA      NA       NA  \n",
       "986 NA       NA      NA        NA       NA      NA       NA  \n",
       "987 NA       NA      NA        NA       NA      NA       NA  \n",
       "988 NA       NA      NA        NA       NA      NA       NA  \n",
       "989 NA       NA      NA        NA       NA      NA       NA  \n",
       "990 NA       NA      NA        NA       NA      NA       NA  \n",
       "991 NA       NA      NA        NA       NA      NA       NA  \n",
       "992 NA       NA      NA        NA       NA      NA       NA  \n",
       "993 NA       NA      NA        NA       NA      NA       NA  \n",
       "994 NA       NA      NA        NA       NA      NA       NA  \n",
       "995 NA       NA      NA        NA       NA      NA       NA  "
      ]
     },
     "metadata": {},
     "output_type": "display_data"
    }
   ],
   "source": [
    "mmerge2"
   ]
  },
  {
   "cell_type": "code",
   "execution_count": null,
   "metadata": {
    "vscode": {
     "languageId": "r"
    }
   },
   "outputs": [],
   "source": [
    "library(tidyr)\n",
    "testdf2 <- mmerge2 %>% drop_na()"
   ]
  },
  {
   "cell_type": "code",
   "execution_count": null,
   "metadata": {
    "vscode": {
     "languageId": "r"
    }
   },
   "outputs": [
    {
     "data": {
      "text/html": [
       "<table class=\"dataframe\">\n",
       "<caption>A data.frame: 474 × 28</caption>\n",
       "<thead>\n",
       "\t<tr><th scope=col>Date</th><th scope=col>Date.Submitted</th><th scope=col>Activity.Type</th><th scope=col>Calories.Burned..kCal.</th><th scope=col>Distance..mi.</th><th scope=col>Workout.Time..seconds.</th><th scope=col>Avg.Pace..min.mi.</th><th scope=col>Max.Pace..min.mi.</th><th scope=col>Avg.Speed..mi.h.</th><th scope=col>Max.Speed..mi.h.</th><th scope=col>⋯</th><th scope=col>Distance</th><th scope=col>Duration</th><th scope=col>Avg.Pace</th><th scope=col>Max.Pace</th><th scope=col>Avg.Spd</th><th scope=col>Max.Spd</th><th scope=col>Avg.HR</th><th scope=col>Steps.y</th><th scope=col>duration</th><th scope=col>year</th></tr>\n",
       "\t<tr><th scope=col>&lt;date&gt;</th><th scope=col>&lt;chr&gt;</th><th scope=col>&lt;chr&gt;</th><th scope=col>&lt;int&gt;</th><th scope=col>&lt;dbl&gt;</th><th scope=col>&lt;int&gt;</th><th scope=col>&lt;dbl&gt;</th><th scope=col>&lt;dbl&gt;</th><th scope=col>&lt;dbl&gt;</th><th scope=col>&lt;dbl&gt;</th><th scope=col>⋯</th><th scope=col>&lt;dbl&gt;</th><th scope=col>&lt;dbl&gt;</th><th scope=col>&lt;dbl&gt;</th><th scope=col>&lt;dbl&gt;</th><th scope=col>&lt;dbl&gt;</th><th scope=col>&lt;dbl&gt;</th><th scope=col>&lt;dbl&gt;</th><th scope=col>&lt;dbl&gt;</th><th scope=col>&lt;dbl&gt;</th><th scope=col>&lt;int&gt;</th></tr>\n",
       "</thead>\n",
       "<tbody>\n",
       "\t<tr><td>2022-07-10</td><td>July 10, 2022</td><td>Run </td><td>429</td><td>3.09815</td><td>2301</td><td>12.37320</td><td>0.993196</td><td>4.84920</td><td> 60.4110</td><td>⋯</td><td>3.10</td><td>2301</td><td>12.37</td><td>0.990</td><td>4.85</td><td> 60.41000</td><td>149.0000</td><td> 5125</td><td>38.35</td><td>2022</td></tr>\n",
       "\t<tr><td>2022-07-09</td><td>July 9, 2022 </td><td>Run </td><td>430</td><td>3.10009</td><td>2005</td><td>10.77380</td><td>1.166080</td><td>5.56904</td><td> 51.4543</td><td>⋯</td><td>3.10</td><td>2005</td><td>10.77</td><td>1.170</td><td>5.57</td><td> 51.45000</td><td>157.0000</td><td> 5261</td><td>33.42</td><td>2022</td></tr>\n",
       "\t<tr><td>2022-07-08</td><td>July 8, 2022 </td><td>Run </td><td>454</td><td>3.10995</td><td>1988</td><td>10.64940</td><td>3.878360</td><td>5.63410</td><td> 15.4704</td><td>⋯</td><td>3.11</td><td>1988</td><td>10.65</td><td>3.880</td><td>5.63</td><td> 15.47000</td><td>165.0000</td><td> 5202</td><td>33.13</td><td>2022</td></tr>\n",
       "\t<tr><td>2022-06-18</td><td>June 18, 2022</td><td>Run </td><td>370</td><td>2.57857</td><td>1698</td><td>10.96610</td><td>1.112400</td><td>5.47140</td><td> 53.9375</td><td>⋯</td><td>2.58</td><td>1698</td><td>10.97</td><td>1.110</td><td>5.47</td><td> 53.94000</td><td>159.0000</td><td> 4431</td><td>28.30</td><td>2022</td></tr>\n",
       "\t<tr><td>2022-06-12</td><td>June 12, 2022</td><td>Run </td><td>428</td><td>3.09762</td><td>1955</td><td>10.51630</td><td>3.008140</td><td>5.70545</td><td> 19.9459</td><td>⋯</td><td>3.10</td><td>1955</td><td>10.52</td><td>3.010</td><td>5.71</td><td> 19.95000</td><td>140.5377</td><td> 5052</td><td>32.58</td><td>2022</td></tr>\n",
       "\t<tr><td>2022-06-10</td><td>June 10, 2022</td><td>Run </td><td>881</td><td>6.20257</td><td>4182</td><td>11.23370</td><td>0.599692</td><td>5.34108</td><td>100.0510</td><td>⋯</td><td>6.20</td><td>4182</td><td>11.23</td><td>0.600</td><td>5.34</td><td>100.05000</td><td>153.0000</td><td>10479</td><td>69.70</td><td>2022</td></tr>\n",
       "\t<tr><td>2022-06-08</td><td>June 9, 2022 </td><td>Run </td><td>407</td><td>3.11000</td><td>1702</td><td> 9.12111</td><td>0.000000</td><td>6.57814</td><td>  0.0000</td><td>⋯</td><td>3.11</td><td>1702</td><td> 9.12</td><td>4.026</td><td>6.58</td><td> 52.59158</td><td>153.0000</td><td> 4548</td><td>28.37</td><td>2022</td></tr>\n",
       "\t<tr><td>2022-06-06</td><td>June 6, 2022 </td><td>Run </td><td>590</td><td>4.50165</td><td>2924</td><td>10.82230</td><td>1.146470</td><td>5.54409</td><td> 52.3344</td><td>⋯</td><td>4.50</td><td>2924</td><td>10.82</td><td>1.150</td><td>5.54</td><td> 52.33000</td><td>145.0000</td><td> 7739</td><td>48.73</td><td>2022</td></tr>\n",
       "\t<tr><td>2022-06-05</td><td>June 5, 2022 </td><td>Walk</td><td>253</td><td>1.88061</td><td>2402</td><td>21.27700</td><td>1.791470</td><td>2.81995</td><td> 33.4920</td><td>⋯</td><td>1.88</td><td>2402</td><td>21.28</td><td>1.790</td><td>2.82</td><td> 33.49000</td><td>109.0000</td><td> 3994</td><td>40.03</td><td>2022</td></tr>\n",
       "\t<tr><td>2022-06-05</td><td>June 5, 2022 </td><td>Walk</td><td>253</td><td>1.88061</td><td>2402</td><td>21.27700</td><td>1.791470</td><td>2.81995</td><td> 33.4920</td><td>⋯</td><td>2.44</td><td>1487</td><td>10.17</td><td>0.450</td><td>5.90</td><td>132.28000</td><td>148.0000</td><td> 3889</td><td>24.78</td><td>2022</td></tr>\n",
       "\t<tr><td>2022-06-05</td><td>June 5, 2022 </td><td>Run </td><td>302</td><td>2.43575</td><td>1487</td><td>10.17220</td><td>0.453587</td><td>5.89844</td><td>132.2790</td><td>⋯</td><td>1.88</td><td>2402</td><td>21.28</td><td>1.790</td><td>2.82</td><td> 33.49000</td><td>109.0000</td><td> 3994</td><td>40.03</td><td>2022</td></tr>\n",
       "\t<tr><td>2022-06-05</td><td>June 5, 2022 </td><td>Run </td><td>302</td><td>2.43575</td><td>1487</td><td>10.17220</td><td>0.453587</td><td>5.89844</td><td>132.2790</td><td>⋯</td><td>2.44</td><td>1487</td><td>10.17</td><td>0.450</td><td>5.90</td><td>132.28000</td><td>148.0000</td><td> 3889</td><td>24.78</td><td>2022</td></tr>\n",
       "\t<tr><td>2022-06-04</td><td>June 4, 2022 </td><td>Run </td><td>856</td><td>6.24228</td><td>3946</td><td>10.53330</td><td>1.068360</td><td>5.69620</td><td> 56.1607</td><td>⋯</td><td>6.24</td><td>3946</td><td>10.53</td><td>1.070</td><td>5.70</td><td> 56.16000</td><td>156.0000</td><td>10427</td><td>65.77</td><td>2022</td></tr>\n",
       "\t<tr><td>2022-06-03</td><td>June 3, 2022 </td><td>Run </td><td>397</td><td>3.10851</td><td>1864</td><td> 9.98908</td><td>0.951188</td><td>6.00656</td><td> 63.0790</td><td>⋯</td><td>3.11</td><td>1864</td><td> 9.99</td><td>0.950</td><td>6.01</td><td> 63.08000</td><td>152.0000</td><td> 4863</td><td>31.07</td><td>2022</td></tr>\n",
       "\t<tr><td>2022-05-31</td><td>May 31, 2022 </td><td>Run </td><td>546</td><td>4.08000</td><td>2377</td><td> 9.70997</td><td>1.282750</td><td>6.17922</td><td> 46.7746</td><td>⋯</td><td>4.08</td><td>2377</td><td> 9.71</td><td>1.280</td><td>6.18</td><td> 46.77000</td><td>145.0000</td><td> 4048</td><td>39.62</td><td>2022</td></tr>\n",
       "\t<tr><td>2022-05-30</td><td>May 30, 2022 </td><td>Run </td><td>418</td><td>3.10044</td><td>1873</td><td>10.05970</td><td>0.453169</td><td>5.96441</td><td>132.4010</td><td>⋯</td><td>3.10</td><td>1873</td><td>10.06</td><td>0.450</td><td>5.96</td><td>132.40000</td><td>159.0000</td><td> 4873</td><td>31.22</td><td>2022</td></tr>\n",
       "\t<tr><td>2022-05-28</td><td>May 28, 2022 </td><td>Run </td><td>426</td><td>3.10717</td><td>1852</td><td> 9.93269</td><td>2.824090</td><td>6.04066</td><td> 21.2457</td><td>⋯</td><td>3.11</td><td>1852</td><td> 9.93</td><td>2.820</td><td>6.04</td><td> 21.25000</td><td>162.0000</td><td> 4867</td><td>30.87</td><td>2022</td></tr>\n",
       "\t<tr><td>2022-05-25</td><td>May 25, 2022 </td><td>Run </td><td>801</td><td>6.20547</td><td>3735</td><td>10.03150</td><td>0.991277</td><td>5.98118</td><td> 60.5280</td><td>⋯</td><td>6.21</td><td>3735</td><td>10.03</td><td>0.990</td><td>5.98</td><td> 60.53000</td><td>150.0000</td><td> 9802</td><td>62.25</td><td>2022</td></tr>\n",
       "\t<tr><td>2022-05-20</td><td>May 20, 2022 </td><td>Run </td><td>394</td><td>3.10131</td><td>1839</td><td> 9.88125</td><td>1.318340</td><td>6.07211</td><td> 45.5119</td><td>⋯</td><td>3.10</td><td>1827</td><td> 9.82</td><td>4.026</td><td>6.11</td><td> 52.59158</td><td>140.5377</td><td> 4845</td><td>30.45</td><td>2022</td></tr>\n",
       "\t<tr><td>2022-05-20</td><td>May 20, 2022 </td><td>Run </td><td>394</td><td>3.10131</td><td>1839</td><td> 9.88125</td><td>1.318340</td><td>6.07211</td><td> 45.5119</td><td>⋯</td><td>3.10</td><td>1839</td><td> 9.88</td><td>1.320</td><td>6.07</td><td> 45.51000</td><td>149.0000</td><td> 4858</td><td>30.65</td><td>2022</td></tr>\n",
       "\t<tr><td>2022-05-17</td><td>May 17, 2022 </td><td>Run </td><td>840</td><td>6.20338</td><td>3843</td><td>10.32430</td><td>1.037470</td><td>5.81153</td><td> 57.8333</td><td>⋯</td><td>6.20</td><td>3843</td><td>10.32</td><td>1.040</td><td>5.81</td><td> 57.83000</td><td>151.0000</td><td>10162</td><td>64.05</td><td>2022</td></tr>\n",
       "\t<tr><td>2022-05-16</td><td>May 16, 2022 </td><td>Run </td><td>395</td><td>3.10598</td><td>1777</td><td> 9.53134</td><td>0.968446</td><td>6.29502</td><td> 61.9549</td><td>⋯</td><td>3.11</td><td>1777</td><td> 9.53</td><td>0.970</td><td>6.30</td><td> 61.95000</td><td>145.0000</td><td> 4650</td><td>29.62</td><td>2022</td></tr>\n",
       "\t<tr><td>2022-05-13</td><td>May 13, 2022 </td><td>Run </td><td>814</td><td>6.20000</td><td>3430</td><td> 9.22043</td><td>0.000000</td><td>6.50729</td><td>  0.0000</td><td>⋯</td><td>6.20</td><td>3430</td><td> 9.22</td><td>4.026</td><td>6.51</td><td> 52.59158</td><td>149.0000</td><td> 9155</td><td>57.17</td><td>2022</td></tr>\n",
       "\t<tr><td>2022-05-11</td><td>May 11, 2022 </td><td>Run </td><td>656</td><td>5.00117</td><td>2989</td><td> 9.95615</td><td>1.083180</td><td>6.02642</td><td> 55.3924</td><td>⋯</td><td>5.00</td><td>2989</td><td> 9.96</td><td>1.080</td><td>6.03</td><td> 55.39000</td><td>146.0000</td><td> 7917</td><td>49.82</td><td>2022</td></tr>\n",
       "\t<tr><td>2022-05-09</td><td>May 9, 2022  </td><td>Run </td><td>391</td><td>3.10777</td><td>1802</td><td> 9.65751</td><td>0.935857</td><td>6.21278</td><td> 64.1124</td><td>⋯</td><td>3.11</td><td>1802</td><td> 9.66</td><td>0.940</td><td>6.21</td><td> 64.11000</td><td>140.0000</td><td> 4782</td><td>30.03</td><td>2022</td></tr>\n",
       "\t<tr><td>2022-05-08</td><td>May 8, 2022  </td><td>Run </td><td>313</td><td>2.35281</td><td>1376</td><td> 9.73759</td><td>1.029330</td><td>6.16169</td><td> 58.2904</td><td>⋯</td><td>2.35</td><td>1376</td><td> 9.74</td><td>1.030</td><td>6.16</td><td> 58.29000</td><td>156.0000</td><td> 3622</td><td>22.93</td><td>2022</td></tr>\n",
       "\t<tr><td>2022-05-07</td><td>May 7, 2022  </td><td>Run </td><td>348</td><td>2.59009</td><td>1516</td><td> 9.74739</td><td>0.425582</td><td>6.15549</td><td>140.9830</td><td>⋯</td><td>2.59</td><td>1516</td><td> 9.75</td><td>0.430</td><td>6.16</td><td>140.98000</td><td>154.0000</td><td> 4043</td><td>25.27</td><td>2022</td></tr>\n",
       "\t<tr><td>2022-05-07</td><td>May 7, 2022  </td><td>Run </td><td>348</td><td>2.59009</td><td>1516</td><td> 9.74739</td><td>0.425582</td><td>6.15549</td><td>140.9830</td><td>⋯</td><td>3.10</td><td>1974</td><td>10.61</td><td>4.026</td><td>5.65</td><td> 52.59158</td><td>140.5377</td><td> 5197</td><td>32.90</td><td>2022</td></tr>\n",
       "\t<tr><td>2022-05-06</td><td>May 6, 2022  </td><td>Run </td><td>796</td><td>6.20509</td><td>3701</td><td> 9.93786</td><td>0.430520</td><td>6.03752</td><td>139.3660</td><td>⋯</td><td>6.21</td><td>3701</td><td> 9.94</td><td>0.430</td><td>6.04</td><td>139.37000</td><td>148.0000</td><td> 9854</td><td>61.68</td><td>2022</td></tr>\n",
       "\t<tr><td>2022-05-05</td><td>May 5, 2022  </td><td>Run </td><td>605</td><td>4.51981</td><td>2670</td><td> 9.84503</td><td>1.075100</td><td>6.09445</td><td> 55.8089</td><td>⋯</td><td>4.52</td><td>2670</td><td> 9.85</td><td>1.080</td><td>6.09</td><td> 55.81000</td><td>151.0000</td><td> 7087</td><td>44.50</td><td>2022</td></tr>\n",
       "\t<tr><td>⋮</td><td>⋮</td><td>⋮</td><td>⋮</td><td>⋮</td><td>⋮</td><td>⋮</td><td>⋮</td><td>⋮</td><td>⋮</td><td>⋱</td><td>⋮</td><td>⋮</td><td>⋮</td><td>⋮</td><td>⋮</td><td>⋮</td><td>⋮</td><td>⋮</td><td>⋮</td><td>⋮</td></tr>\n",
       "\t<tr><td>2019-07-06</td><td>July 6, 2019 </td><td>Run             </td><td>164</td><td>1.5198100</td><td> 830</td><td> 9.08742</td><td> 0.872392</td><td>6.60254</td><td> 68.77640</td><td>⋯</td><td>1.52</td><td> 830</td><td> 9.09</td><td> 0.870</td><td>6.60</td><td> 68.78000</td><td>160.0000</td><td>2212</td><td>13.83</td><td>2019</td></tr>\n",
       "\t<tr><td>2019-07-05</td><td>July 5, 2019 </td><td>Walk            </td><td>153</td><td>1.6425600</td><td>1644</td><td>16.66740</td><td> 4.217670</td><td>3.59984</td><td> 14.22590</td><td>⋯</td><td>1.64</td><td>1644</td><td>16.67</td><td> 4.220</td><td>3.60</td><td> 14.23000</td><td>128.0000</td><td>3063</td><td>27.40</td><td>2019</td></tr>\n",
       "\t<tr><td>2019-07-05</td><td>July 5, 2019 </td><td>Walk            </td><td>153</td><td>1.6425600</td><td>1644</td><td>16.66740</td><td> 4.217670</td><td>3.59984</td><td> 14.22590</td><td>⋯</td><td>1.52</td><td> 843</td><td> 9.24</td><td> 0.850</td><td>6.49</td><td> 71.00000</td><td>160.0000</td><td>2313</td><td>14.05</td><td>2019</td></tr>\n",
       "\t<tr><td>2019-07-05</td><td>July 5, 2019 </td><td>Run             </td><td>156</td><td>1.5187900</td><td> 843</td><td> 9.24391</td><td> 0.845107</td><td>6.49076</td><td> 70.99690</td><td>⋯</td><td>1.64</td><td>1644</td><td>16.67</td><td> 4.220</td><td>3.60</td><td> 14.23000</td><td>128.0000</td><td>3063</td><td>27.40</td><td>2019</td></tr>\n",
       "\t<tr><td>2019-07-05</td><td>July 5, 2019 </td><td>Run             </td><td>156</td><td>1.5187900</td><td> 843</td><td> 9.24391</td><td> 0.845107</td><td>6.49076</td><td> 70.99690</td><td>⋯</td><td>1.52</td><td> 843</td><td> 9.24</td><td> 0.850</td><td>6.49</td><td> 71.00000</td><td>160.0000</td><td>2313</td><td>14.05</td><td>2019</td></tr>\n",
       "\t<tr><td>2019-07-04</td><td>Aug. 20, 2019</td><td>Walk            </td><td>161</td><td>1.6089400</td><td>1942</td><td>20.08260</td><td> 9.179960</td><td>2.98766</td><td>  6.53598</td><td>⋯</td><td>1.53</td><td> 816</td><td> 8.88</td><td> 0.990</td><td>6.76</td><td> 60.91000</td><td>159.0000</td><td>2215</td><td>13.60</td><td>2019</td></tr>\n",
       "\t<tr><td>2019-07-04</td><td>July 4, 2019 </td><td>Run             </td><td>156</td><td>1.5318500</td><td> 816</td><td> 8.87755</td><td> 0.985131</td><td>6.75862</td><td> 60.90560</td><td>⋯</td><td>1.53</td><td> 816</td><td> 8.88</td><td> 0.990</td><td>6.76</td><td> 60.91000</td><td>159.0000</td><td>2215</td><td>13.60</td><td>2019</td></tr>\n",
       "\t<tr><td>2019-07-02</td><td>July 2, 2019 </td><td>Walk            </td><td> 88</td><td>1.0044100</td><td>1121</td><td>18.52350</td><td> 8.593730</td><td>3.23912</td><td>  6.98183</td><td>⋯</td><td>1.00</td><td>1121</td><td>18.52</td><td> 8.590</td><td>3.24</td><td>  6.98000</td><td>118.0000</td><td>2007</td><td>18.68</td><td>2019</td></tr>\n",
       "\t<tr><td>2019-07-02</td><td>July 2, 2019 </td><td>Walk            </td><td> 88</td><td>1.0044100</td><td>1121</td><td>18.52350</td><td> 8.593730</td><td>3.23912</td><td>  6.98183</td><td>⋯</td><td>1.02</td><td> 552</td><td> 9.02</td><td> 0.340</td><td>6.65</td><td>174.52000</td><td>148.0000</td><td>1439</td><td> 9.20</td><td>2019</td></tr>\n",
       "\t<tr><td>2019-07-02</td><td>July 2, 2019 </td><td>Run             </td><td> 95</td><td>1.0180400</td><td> 552</td><td> 9.01609</td><td> 0.343802</td><td>6.65477</td><td>174.51900</td><td>⋯</td><td>1.00</td><td>1121</td><td>18.52</td><td> 8.590</td><td>3.24</td><td>  6.98000</td><td>118.0000</td><td>2007</td><td>18.68</td><td>2019</td></tr>\n",
       "\t<tr><td>2019-07-02</td><td>July 2, 2019 </td><td>Run             </td><td> 95</td><td>1.0180400</td><td> 552</td><td> 9.01609</td><td> 0.343802</td><td>6.65477</td><td>174.51900</td><td>⋯</td><td>1.02</td><td> 552</td><td> 9.02</td><td> 0.340</td><td>6.65</td><td>174.52000</td><td>148.0000</td><td>1439</td><td> 9.20</td><td>2019</td></tr>\n",
       "\t<tr><td>2019-06-29</td><td>June 29, 2019</td><td>Walk            </td><td>138</td><td>1.4728200</td><td>1966</td><td>22.16660</td><td> 7.361810</td><td>2.70677</td><td>  8.15016</td><td>⋯</td><td>1.47</td><td>1966</td><td>22.17</td><td> 7.360</td><td>2.71</td><td>  8.15000</td><td>123.0000</td><td>2363</td><td>32.77</td><td>2019</td></tr>\n",
       "\t<tr><td>2019-06-29</td><td>June 29, 2019</td><td>Walk            </td><td>138</td><td>1.4728200</td><td>1966</td><td>22.16660</td><td> 7.361810</td><td>2.70677</td><td>  8.15016</td><td>⋯</td><td>1.27</td><td> 693</td><td> 9.13</td><td> 3.320</td><td>6.57</td><td> 18.06000</td><td>150.0000</td><td>1824</td><td>11.55</td><td>2019</td></tr>\n",
       "\t<tr><td>2019-06-29</td><td>June 29, 2019</td><td>Run             </td><td>118</td><td>1.2650400</td><td> 693</td><td> 9.13247</td><td> 3.322760</td><td>6.56996</td><td> 18.05730</td><td>⋯</td><td>1.47</td><td>1966</td><td>22.17</td><td> 7.360</td><td>2.71</td><td>  8.15000</td><td>123.0000</td><td>2363</td><td>32.77</td><td>2019</td></tr>\n",
       "\t<tr><td>2019-06-29</td><td>June 29, 2019</td><td>Run             </td><td>118</td><td>1.2650400</td><td> 693</td><td> 9.13247</td><td> 3.322760</td><td>6.56996</td><td> 18.05730</td><td>⋯</td><td>1.27</td><td> 693</td><td> 9.13</td><td> 3.320</td><td>6.57</td><td> 18.06000</td><td>150.0000</td><td>1824</td><td>11.55</td><td>2019</td></tr>\n",
       "\t<tr><td>2019-06-12</td><td>June 12, 2019</td><td>Run             </td><td>215</td><td>2.0900000</td><td>1962</td><td>15.64590</td><td> 3.208230</td><td>3.83486</td><td> 18.70190</td><td>⋯</td><td>2.09</td><td>1962</td><td>15.65</td><td> 3.210</td><td>3.83</td><td> 18.70000</td><td>111.0000</td><td>3819</td><td>32.70</td><td>2019</td></tr>\n",
       "\t<tr><td>2019-06-10</td><td>June 10, 2019</td><td>Walk            </td><td>299</td><td>2.7786100</td><td>2458</td><td>14.73580</td><td> 5.711000</td><td>4.07172</td><td> 10.50600</td><td>⋯</td><td>2.78</td><td>2458</td><td>14.74</td><td> 5.710</td><td>4.07</td><td> 10.51000</td><td>140.5377</td><td>4676</td><td>40.97</td><td>2019</td></tr>\n",
       "\t<tr><td>2019-06-09</td><td>June 9, 2019 </td><td>Walk            </td><td>293</td><td>2.8800000</td><td>2986</td><td>17.28010</td><td> 0.000000</td><td>3.47220</td><td>  0.00000</td><td>⋯</td><td>2.88</td><td>2986</td><td>17.28</td><td> 4.026</td><td>3.47</td><td> 52.59158</td><td> 73.0000</td><td>5876</td><td>49.77</td><td>2019</td></tr>\n",
       "\t<tr><td>2019-06-08</td><td>June 8, 2019 </td><td>Run             </td><td>190</td><td>1.5728300</td><td>1307</td><td>13.84310</td><td> 1.250870</td><td>4.33429</td><td> 47.96650</td><td>⋯</td><td>1.57</td><td>1307</td><td>13.84</td><td> 1.250</td><td>4.33</td><td> 47.97000</td><td>116.0000</td><td>2729</td><td>21.78</td><td>2019</td></tr>\n",
       "\t<tr><td>2019-06-06</td><td>June 6, 2019 </td><td>Walk            </td><td>  2</td><td>0.0157305</td><td>  10</td><td> 9.74394</td><td>13.602100</td><td>6.15768</td><td>  4.41108</td><td>⋯</td><td>3.13</td><td>3064</td><td>16.32</td><td>14.810</td><td>3.68</td><td>  4.05000</td><td>140.5377</td><td>  55</td><td>51.07</td><td>2019</td></tr>\n",
       "\t<tr><td>2019-06-06</td><td>June 6, 2019 </td><td>Walk            </td><td>  2</td><td>0.0157305</td><td>  10</td><td> 9.74394</td><td>13.602100</td><td>6.15768</td><td>  4.41108</td><td>⋯</td><td>0.02</td><td>  10</td><td> 9.74</td><td>13.600</td><td>6.16</td><td>  4.41000</td><td>106.0000</td><td>  11</td><td> 0.17</td><td>2019</td></tr>\n",
       "\t<tr><td>2019-06-05</td><td>June 5, 2019 </td><td>Walk            </td><td>249</td><td>2.2173400</td><td>1921</td><td>14.43370</td><td>13.253900</td><td>4.15693</td><td>  4.52698</td><td>⋯</td><td>2.22</td><td>1921</td><td>14.43</td><td>13.250</td><td>4.16</td><td>  4.53000</td><td>110.0000</td><td>3887</td><td>32.02</td><td>2019</td></tr>\n",
       "\t<tr><td>2019-05-28</td><td>May 28, 2019 </td><td>Walk            </td><td>248</td><td>2.2209300</td><td>1886</td><td>14.15570</td><td> 1.401720</td><td>4.23856</td><td> 42.80460</td><td>⋯</td><td>2.22</td><td>1886</td><td>14.16</td><td> 1.400</td><td>4.24</td><td> 42.80000</td><td>102.0000</td><td>3708</td><td>31.43</td><td>2019</td></tr>\n",
       "\t<tr><td>2019-05-27</td><td>May 27, 2019 </td><td>Walk            </td><td>322</td><td>2.2186400</td><td>3541</td><td>26.36490</td><td> 4.209390</td><td>2.27575</td><td> 14.25390</td><td>⋯</td><td>2.22</td><td>3541</td><td>26.36</td><td> 4.210</td><td>2.28</td><td> 14.25000</td><td> 93.0000</td><td>6149</td><td>59.02</td><td>2019</td></tr>\n",
       "\t<tr><td>2019-05-23</td><td>May 27, 2019 </td><td>Walk            </td><td>266</td><td>2.6212200</td><td>1946</td><td>12.36260</td><td> 4.677640</td><td>4.85336</td><td> 12.82700</td><td>⋯</td><td>2.62</td><td>1946</td><td>12.36</td><td> 4.680</td><td>4.85</td><td> 12.83000</td><td>136.0000</td><td>4074</td><td>32.43</td><td>2019</td></tr>\n",
       "\t<tr><td>2019-05-19</td><td>May 19, 2019 </td><td>Run             </td><td>419</td><td>3.1107500</td><td>2197</td><td>11.69460</td><td> 2.057100</td><td>5.13058</td><td> 29.16730</td><td>⋯</td><td>3.11</td><td>2197</td><td>11.69</td><td> 2.060</td><td>5.13</td><td> 29.17000</td><td>139.0000</td><td>5295</td><td>36.62</td><td>2019</td></tr>\n",
       "\t<tr><td>2019-05-13</td><td>May 13, 2019 </td><td>Run             </td><td>258</td><td>1.9615500</td><td>1214</td><td>10.31690</td><td> 2.672990</td><td>5.81568</td><td> 22.44680</td><td>⋯</td><td>1.96</td><td>1214</td><td>10.32</td><td> 2.670</td><td>5.82</td><td> 22.45000</td><td>140.5377</td><td>3209</td><td>20.23</td><td>2019</td></tr>\n",
       "\t<tr><td>2019-05-13</td><td>May 13, 2019 </td><td>Run             </td><td>258</td><td>1.9615500</td><td>1214</td><td>10.31690</td><td> 2.672990</td><td>5.81568</td><td> 22.44680</td><td>⋯</td><td>1.42</td><td> 927</td><td>10.88</td><td>17.090</td><td>5.51</td><td>  3.51000</td><td>158.0000</td><td>  67</td><td>15.45</td><td>2019</td></tr>\n",
       "\t<tr><td>2019-05-13</td><td>May 13, 2019 </td><td>Indoor Run / Jog</td><td>191</td><td>1.4200000</td><td> 927</td><td>10.88030</td><td>17.088100</td><td>5.51456</td><td>  3.51122</td><td>⋯</td><td>1.96</td><td>1214</td><td>10.32</td><td> 2.670</td><td>5.82</td><td> 22.45000</td><td>140.5377</td><td>3209</td><td>20.23</td><td>2019</td></tr>\n",
       "\t<tr><td>2019-05-13</td><td>May 13, 2019 </td><td>Indoor Run / Jog</td><td>191</td><td>1.4200000</td><td> 927</td><td>10.88030</td><td>17.088100</td><td>5.51456</td><td>  3.51122</td><td>⋯</td><td>1.42</td><td> 927</td><td>10.88</td><td>17.090</td><td>5.51</td><td>  3.51000</td><td>158.0000</td><td>  67</td><td>15.45</td><td>2019</td></tr>\n",
       "</tbody>\n",
       "</table>\n"
      ],
      "text/latex": [
       "A data.frame: 474 × 28\n",
       "\\begin{tabular}{lllllllllllllllllllll}\n",
       " Date & Date.Submitted & Activity.Type & Calories.Burned..kCal. & Distance..mi. & Workout.Time..seconds. & Avg.Pace..min.mi. & Max.Pace..min.mi. & Avg.Speed..mi.h. & Max.Speed..mi.h. & ⋯ & Distance & Duration & Avg.Pace & Max.Pace & Avg.Spd & Max.Spd & Avg.HR & Steps.y & duration & year\\\\\n",
       " <date> & <chr> & <chr> & <int> & <dbl> & <int> & <dbl> & <dbl> & <dbl> & <dbl> & ⋯ & <dbl> & <dbl> & <dbl> & <dbl> & <dbl> & <dbl> & <dbl> & <dbl> & <dbl> & <int>\\\\\n",
       "\\hline\n",
       "\t 2022-07-10 & July 10, 2022 & Run  & 429 & 3.09815 & 2301 & 12.37320 & 0.993196 & 4.84920 &  60.4110 & ⋯ & 3.10 & 2301 & 12.37 & 0.990 & 4.85 &  60.41000 & 149.0000 &  5125 & 38.35 & 2022\\\\\n",
       "\t 2022-07-09 & July 9, 2022  & Run  & 430 & 3.10009 & 2005 & 10.77380 & 1.166080 & 5.56904 &  51.4543 & ⋯ & 3.10 & 2005 & 10.77 & 1.170 & 5.57 &  51.45000 & 157.0000 &  5261 & 33.42 & 2022\\\\\n",
       "\t 2022-07-08 & July 8, 2022  & Run  & 454 & 3.10995 & 1988 & 10.64940 & 3.878360 & 5.63410 &  15.4704 & ⋯ & 3.11 & 1988 & 10.65 & 3.880 & 5.63 &  15.47000 & 165.0000 &  5202 & 33.13 & 2022\\\\\n",
       "\t 2022-06-18 & June 18, 2022 & Run  & 370 & 2.57857 & 1698 & 10.96610 & 1.112400 & 5.47140 &  53.9375 & ⋯ & 2.58 & 1698 & 10.97 & 1.110 & 5.47 &  53.94000 & 159.0000 &  4431 & 28.30 & 2022\\\\\n",
       "\t 2022-06-12 & June 12, 2022 & Run  & 428 & 3.09762 & 1955 & 10.51630 & 3.008140 & 5.70545 &  19.9459 & ⋯ & 3.10 & 1955 & 10.52 & 3.010 & 5.71 &  19.95000 & 140.5377 &  5052 & 32.58 & 2022\\\\\n",
       "\t 2022-06-10 & June 10, 2022 & Run  & 881 & 6.20257 & 4182 & 11.23370 & 0.599692 & 5.34108 & 100.0510 & ⋯ & 6.20 & 4182 & 11.23 & 0.600 & 5.34 & 100.05000 & 153.0000 & 10479 & 69.70 & 2022\\\\\n",
       "\t 2022-06-08 & June 9, 2022  & Run  & 407 & 3.11000 & 1702 &  9.12111 & 0.000000 & 6.57814 &   0.0000 & ⋯ & 3.11 & 1702 &  9.12 & 4.026 & 6.58 &  52.59158 & 153.0000 &  4548 & 28.37 & 2022\\\\\n",
       "\t 2022-06-06 & June 6, 2022  & Run  & 590 & 4.50165 & 2924 & 10.82230 & 1.146470 & 5.54409 &  52.3344 & ⋯ & 4.50 & 2924 & 10.82 & 1.150 & 5.54 &  52.33000 & 145.0000 &  7739 & 48.73 & 2022\\\\\n",
       "\t 2022-06-05 & June 5, 2022  & Walk & 253 & 1.88061 & 2402 & 21.27700 & 1.791470 & 2.81995 &  33.4920 & ⋯ & 1.88 & 2402 & 21.28 & 1.790 & 2.82 &  33.49000 & 109.0000 &  3994 & 40.03 & 2022\\\\\n",
       "\t 2022-06-05 & June 5, 2022  & Walk & 253 & 1.88061 & 2402 & 21.27700 & 1.791470 & 2.81995 &  33.4920 & ⋯ & 2.44 & 1487 & 10.17 & 0.450 & 5.90 & 132.28000 & 148.0000 &  3889 & 24.78 & 2022\\\\\n",
       "\t 2022-06-05 & June 5, 2022  & Run  & 302 & 2.43575 & 1487 & 10.17220 & 0.453587 & 5.89844 & 132.2790 & ⋯ & 1.88 & 2402 & 21.28 & 1.790 & 2.82 &  33.49000 & 109.0000 &  3994 & 40.03 & 2022\\\\\n",
       "\t 2022-06-05 & June 5, 2022  & Run  & 302 & 2.43575 & 1487 & 10.17220 & 0.453587 & 5.89844 & 132.2790 & ⋯ & 2.44 & 1487 & 10.17 & 0.450 & 5.90 & 132.28000 & 148.0000 &  3889 & 24.78 & 2022\\\\\n",
       "\t 2022-06-04 & June 4, 2022  & Run  & 856 & 6.24228 & 3946 & 10.53330 & 1.068360 & 5.69620 &  56.1607 & ⋯ & 6.24 & 3946 & 10.53 & 1.070 & 5.70 &  56.16000 & 156.0000 & 10427 & 65.77 & 2022\\\\\n",
       "\t 2022-06-03 & June 3, 2022  & Run  & 397 & 3.10851 & 1864 &  9.98908 & 0.951188 & 6.00656 &  63.0790 & ⋯ & 3.11 & 1864 &  9.99 & 0.950 & 6.01 &  63.08000 & 152.0000 &  4863 & 31.07 & 2022\\\\\n",
       "\t 2022-05-31 & May 31, 2022  & Run  & 546 & 4.08000 & 2377 &  9.70997 & 1.282750 & 6.17922 &  46.7746 & ⋯ & 4.08 & 2377 &  9.71 & 1.280 & 6.18 &  46.77000 & 145.0000 &  4048 & 39.62 & 2022\\\\\n",
       "\t 2022-05-30 & May 30, 2022  & Run  & 418 & 3.10044 & 1873 & 10.05970 & 0.453169 & 5.96441 & 132.4010 & ⋯ & 3.10 & 1873 & 10.06 & 0.450 & 5.96 & 132.40000 & 159.0000 &  4873 & 31.22 & 2022\\\\\n",
       "\t 2022-05-28 & May 28, 2022  & Run  & 426 & 3.10717 & 1852 &  9.93269 & 2.824090 & 6.04066 &  21.2457 & ⋯ & 3.11 & 1852 &  9.93 & 2.820 & 6.04 &  21.25000 & 162.0000 &  4867 & 30.87 & 2022\\\\\n",
       "\t 2022-05-25 & May 25, 2022  & Run  & 801 & 6.20547 & 3735 & 10.03150 & 0.991277 & 5.98118 &  60.5280 & ⋯ & 6.21 & 3735 & 10.03 & 0.990 & 5.98 &  60.53000 & 150.0000 &  9802 & 62.25 & 2022\\\\\n",
       "\t 2022-05-20 & May 20, 2022  & Run  & 394 & 3.10131 & 1839 &  9.88125 & 1.318340 & 6.07211 &  45.5119 & ⋯ & 3.10 & 1827 &  9.82 & 4.026 & 6.11 &  52.59158 & 140.5377 &  4845 & 30.45 & 2022\\\\\n",
       "\t 2022-05-20 & May 20, 2022  & Run  & 394 & 3.10131 & 1839 &  9.88125 & 1.318340 & 6.07211 &  45.5119 & ⋯ & 3.10 & 1839 &  9.88 & 1.320 & 6.07 &  45.51000 & 149.0000 &  4858 & 30.65 & 2022\\\\\n",
       "\t 2022-05-17 & May 17, 2022  & Run  & 840 & 6.20338 & 3843 & 10.32430 & 1.037470 & 5.81153 &  57.8333 & ⋯ & 6.20 & 3843 & 10.32 & 1.040 & 5.81 &  57.83000 & 151.0000 & 10162 & 64.05 & 2022\\\\\n",
       "\t 2022-05-16 & May 16, 2022  & Run  & 395 & 3.10598 & 1777 &  9.53134 & 0.968446 & 6.29502 &  61.9549 & ⋯ & 3.11 & 1777 &  9.53 & 0.970 & 6.30 &  61.95000 & 145.0000 &  4650 & 29.62 & 2022\\\\\n",
       "\t 2022-05-13 & May 13, 2022  & Run  & 814 & 6.20000 & 3430 &  9.22043 & 0.000000 & 6.50729 &   0.0000 & ⋯ & 6.20 & 3430 &  9.22 & 4.026 & 6.51 &  52.59158 & 149.0000 &  9155 & 57.17 & 2022\\\\\n",
       "\t 2022-05-11 & May 11, 2022  & Run  & 656 & 5.00117 & 2989 &  9.95615 & 1.083180 & 6.02642 &  55.3924 & ⋯ & 5.00 & 2989 &  9.96 & 1.080 & 6.03 &  55.39000 & 146.0000 &  7917 & 49.82 & 2022\\\\\n",
       "\t 2022-05-09 & May 9, 2022   & Run  & 391 & 3.10777 & 1802 &  9.65751 & 0.935857 & 6.21278 &  64.1124 & ⋯ & 3.11 & 1802 &  9.66 & 0.940 & 6.21 &  64.11000 & 140.0000 &  4782 & 30.03 & 2022\\\\\n",
       "\t 2022-05-08 & May 8, 2022   & Run  & 313 & 2.35281 & 1376 &  9.73759 & 1.029330 & 6.16169 &  58.2904 & ⋯ & 2.35 & 1376 &  9.74 & 1.030 & 6.16 &  58.29000 & 156.0000 &  3622 & 22.93 & 2022\\\\\n",
       "\t 2022-05-07 & May 7, 2022   & Run  & 348 & 2.59009 & 1516 &  9.74739 & 0.425582 & 6.15549 & 140.9830 & ⋯ & 2.59 & 1516 &  9.75 & 0.430 & 6.16 & 140.98000 & 154.0000 &  4043 & 25.27 & 2022\\\\\n",
       "\t 2022-05-07 & May 7, 2022   & Run  & 348 & 2.59009 & 1516 &  9.74739 & 0.425582 & 6.15549 & 140.9830 & ⋯ & 3.10 & 1974 & 10.61 & 4.026 & 5.65 &  52.59158 & 140.5377 &  5197 & 32.90 & 2022\\\\\n",
       "\t 2022-05-06 & May 6, 2022   & Run  & 796 & 6.20509 & 3701 &  9.93786 & 0.430520 & 6.03752 & 139.3660 & ⋯ & 6.21 & 3701 &  9.94 & 0.430 & 6.04 & 139.37000 & 148.0000 &  9854 & 61.68 & 2022\\\\\n",
       "\t 2022-05-05 & May 5, 2022   & Run  & 605 & 4.51981 & 2670 &  9.84503 & 1.075100 & 6.09445 &  55.8089 & ⋯ & 4.52 & 2670 &  9.85 & 1.080 & 6.09 &  55.81000 & 151.0000 &  7087 & 44.50 & 2022\\\\\n",
       "\t ⋮ & ⋮ & ⋮ & ⋮ & ⋮ & ⋮ & ⋮ & ⋮ & ⋮ & ⋮ & ⋱ & ⋮ & ⋮ & ⋮ & ⋮ & ⋮ & ⋮ & ⋮ & ⋮ & ⋮ & ⋮\\\\\n",
       "\t 2019-07-06 & July 6, 2019  & Run              & 164 & 1.5198100 &  830 &  9.08742 &  0.872392 & 6.60254 &  68.77640 & ⋯ & 1.52 &  830 &  9.09 &  0.870 & 6.60 &  68.78000 & 160.0000 & 2212 & 13.83 & 2019\\\\\n",
       "\t 2019-07-05 & July 5, 2019  & Walk             & 153 & 1.6425600 & 1644 & 16.66740 &  4.217670 & 3.59984 &  14.22590 & ⋯ & 1.64 & 1644 & 16.67 &  4.220 & 3.60 &  14.23000 & 128.0000 & 3063 & 27.40 & 2019\\\\\n",
       "\t 2019-07-05 & July 5, 2019  & Walk             & 153 & 1.6425600 & 1644 & 16.66740 &  4.217670 & 3.59984 &  14.22590 & ⋯ & 1.52 &  843 &  9.24 &  0.850 & 6.49 &  71.00000 & 160.0000 & 2313 & 14.05 & 2019\\\\\n",
       "\t 2019-07-05 & July 5, 2019  & Run              & 156 & 1.5187900 &  843 &  9.24391 &  0.845107 & 6.49076 &  70.99690 & ⋯ & 1.64 & 1644 & 16.67 &  4.220 & 3.60 &  14.23000 & 128.0000 & 3063 & 27.40 & 2019\\\\\n",
       "\t 2019-07-05 & July 5, 2019  & Run              & 156 & 1.5187900 &  843 &  9.24391 &  0.845107 & 6.49076 &  70.99690 & ⋯ & 1.52 &  843 &  9.24 &  0.850 & 6.49 &  71.00000 & 160.0000 & 2313 & 14.05 & 2019\\\\\n",
       "\t 2019-07-04 & Aug. 20, 2019 & Walk             & 161 & 1.6089400 & 1942 & 20.08260 &  9.179960 & 2.98766 &   6.53598 & ⋯ & 1.53 &  816 &  8.88 &  0.990 & 6.76 &  60.91000 & 159.0000 & 2215 & 13.60 & 2019\\\\\n",
       "\t 2019-07-04 & July 4, 2019  & Run              & 156 & 1.5318500 &  816 &  8.87755 &  0.985131 & 6.75862 &  60.90560 & ⋯ & 1.53 &  816 &  8.88 &  0.990 & 6.76 &  60.91000 & 159.0000 & 2215 & 13.60 & 2019\\\\\n",
       "\t 2019-07-02 & July 2, 2019  & Walk             &  88 & 1.0044100 & 1121 & 18.52350 &  8.593730 & 3.23912 &   6.98183 & ⋯ & 1.00 & 1121 & 18.52 &  8.590 & 3.24 &   6.98000 & 118.0000 & 2007 & 18.68 & 2019\\\\\n",
       "\t 2019-07-02 & July 2, 2019  & Walk             &  88 & 1.0044100 & 1121 & 18.52350 &  8.593730 & 3.23912 &   6.98183 & ⋯ & 1.02 &  552 &  9.02 &  0.340 & 6.65 & 174.52000 & 148.0000 & 1439 &  9.20 & 2019\\\\\n",
       "\t 2019-07-02 & July 2, 2019  & Run              &  95 & 1.0180400 &  552 &  9.01609 &  0.343802 & 6.65477 & 174.51900 & ⋯ & 1.00 & 1121 & 18.52 &  8.590 & 3.24 &   6.98000 & 118.0000 & 2007 & 18.68 & 2019\\\\\n",
       "\t 2019-07-02 & July 2, 2019  & Run              &  95 & 1.0180400 &  552 &  9.01609 &  0.343802 & 6.65477 & 174.51900 & ⋯ & 1.02 &  552 &  9.02 &  0.340 & 6.65 & 174.52000 & 148.0000 & 1439 &  9.20 & 2019\\\\\n",
       "\t 2019-06-29 & June 29, 2019 & Walk             & 138 & 1.4728200 & 1966 & 22.16660 &  7.361810 & 2.70677 &   8.15016 & ⋯ & 1.47 & 1966 & 22.17 &  7.360 & 2.71 &   8.15000 & 123.0000 & 2363 & 32.77 & 2019\\\\\n",
       "\t 2019-06-29 & June 29, 2019 & Walk             & 138 & 1.4728200 & 1966 & 22.16660 &  7.361810 & 2.70677 &   8.15016 & ⋯ & 1.27 &  693 &  9.13 &  3.320 & 6.57 &  18.06000 & 150.0000 & 1824 & 11.55 & 2019\\\\\n",
       "\t 2019-06-29 & June 29, 2019 & Run              & 118 & 1.2650400 &  693 &  9.13247 &  3.322760 & 6.56996 &  18.05730 & ⋯ & 1.47 & 1966 & 22.17 &  7.360 & 2.71 &   8.15000 & 123.0000 & 2363 & 32.77 & 2019\\\\\n",
       "\t 2019-06-29 & June 29, 2019 & Run              & 118 & 1.2650400 &  693 &  9.13247 &  3.322760 & 6.56996 &  18.05730 & ⋯ & 1.27 &  693 &  9.13 &  3.320 & 6.57 &  18.06000 & 150.0000 & 1824 & 11.55 & 2019\\\\\n",
       "\t 2019-06-12 & June 12, 2019 & Run              & 215 & 2.0900000 & 1962 & 15.64590 &  3.208230 & 3.83486 &  18.70190 & ⋯ & 2.09 & 1962 & 15.65 &  3.210 & 3.83 &  18.70000 & 111.0000 & 3819 & 32.70 & 2019\\\\\n",
       "\t 2019-06-10 & June 10, 2019 & Walk             & 299 & 2.7786100 & 2458 & 14.73580 &  5.711000 & 4.07172 &  10.50600 & ⋯ & 2.78 & 2458 & 14.74 &  5.710 & 4.07 &  10.51000 & 140.5377 & 4676 & 40.97 & 2019\\\\\n",
       "\t 2019-06-09 & June 9, 2019  & Walk             & 293 & 2.8800000 & 2986 & 17.28010 &  0.000000 & 3.47220 &   0.00000 & ⋯ & 2.88 & 2986 & 17.28 &  4.026 & 3.47 &  52.59158 &  73.0000 & 5876 & 49.77 & 2019\\\\\n",
       "\t 2019-06-08 & June 8, 2019  & Run              & 190 & 1.5728300 & 1307 & 13.84310 &  1.250870 & 4.33429 &  47.96650 & ⋯ & 1.57 & 1307 & 13.84 &  1.250 & 4.33 &  47.97000 & 116.0000 & 2729 & 21.78 & 2019\\\\\n",
       "\t 2019-06-06 & June 6, 2019  & Walk             &   2 & 0.0157305 &   10 &  9.74394 & 13.602100 & 6.15768 &   4.41108 & ⋯ & 3.13 & 3064 & 16.32 & 14.810 & 3.68 &   4.05000 & 140.5377 &   55 & 51.07 & 2019\\\\\n",
       "\t 2019-06-06 & June 6, 2019  & Walk             &   2 & 0.0157305 &   10 &  9.74394 & 13.602100 & 6.15768 &   4.41108 & ⋯ & 0.02 &   10 &  9.74 & 13.600 & 6.16 &   4.41000 & 106.0000 &   11 &  0.17 & 2019\\\\\n",
       "\t 2019-06-05 & June 5, 2019  & Walk             & 249 & 2.2173400 & 1921 & 14.43370 & 13.253900 & 4.15693 &   4.52698 & ⋯ & 2.22 & 1921 & 14.43 & 13.250 & 4.16 &   4.53000 & 110.0000 & 3887 & 32.02 & 2019\\\\\n",
       "\t 2019-05-28 & May 28, 2019  & Walk             & 248 & 2.2209300 & 1886 & 14.15570 &  1.401720 & 4.23856 &  42.80460 & ⋯ & 2.22 & 1886 & 14.16 &  1.400 & 4.24 &  42.80000 & 102.0000 & 3708 & 31.43 & 2019\\\\\n",
       "\t 2019-05-27 & May 27, 2019  & Walk             & 322 & 2.2186400 & 3541 & 26.36490 &  4.209390 & 2.27575 &  14.25390 & ⋯ & 2.22 & 3541 & 26.36 &  4.210 & 2.28 &  14.25000 &  93.0000 & 6149 & 59.02 & 2019\\\\\n",
       "\t 2019-05-23 & May 27, 2019  & Walk             & 266 & 2.6212200 & 1946 & 12.36260 &  4.677640 & 4.85336 &  12.82700 & ⋯ & 2.62 & 1946 & 12.36 &  4.680 & 4.85 &  12.83000 & 136.0000 & 4074 & 32.43 & 2019\\\\\n",
       "\t 2019-05-19 & May 19, 2019  & Run              & 419 & 3.1107500 & 2197 & 11.69460 &  2.057100 & 5.13058 &  29.16730 & ⋯ & 3.11 & 2197 & 11.69 &  2.060 & 5.13 &  29.17000 & 139.0000 & 5295 & 36.62 & 2019\\\\\n",
       "\t 2019-05-13 & May 13, 2019  & Run              & 258 & 1.9615500 & 1214 & 10.31690 &  2.672990 & 5.81568 &  22.44680 & ⋯ & 1.96 & 1214 & 10.32 &  2.670 & 5.82 &  22.45000 & 140.5377 & 3209 & 20.23 & 2019\\\\\n",
       "\t 2019-05-13 & May 13, 2019  & Run              & 258 & 1.9615500 & 1214 & 10.31690 &  2.672990 & 5.81568 &  22.44680 & ⋯ & 1.42 &  927 & 10.88 & 17.090 & 5.51 &   3.51000 & 158.0000 &   67 & 15.45 & 2019\\\\\n",
       "\t 2019-05-13 & May 13, 2019  & Indoor Run / Jog & 191 & 1.4200000 &  927 & 10.88030 & 17.088100 & 5.51456 &   3.51122 & ⋯ & 1.96 & 1214 & 10.32 &  2.670 & 5.82 &  22.45000 & 140.5377 & 3209 & 20.23 & 2019\\\\\n",
       "\t 2019-05-13 & May 13, 2019  & Indoor Run / Jog & 191 & 1.4200000 &  927 & 10.88030 & 17.088100 & 5.51456 &   3.51122 & ⋯ & 1.42 &  927 & 10.88 & 17.090 & 5.51 &   3.51000 & 158.0000 &   67 & 15.45 & 2019\\\\\n",
       "\\end{tabular}\n"
      ],
      "text/markdown": [
       "\n",
       "A data.frame: 474 × 28\n",
       "\n",
       "| Date &lt;date&gt; | Date.Submitted &lt;chr&gt; | Activity.Type &lt;chr&gt; | Calories.Burned..kCal. &lt;int&gt; | Distance..mi. &lt;dbl&gt; | Workout.Time..seconds. &lt;int&gt; | Avg.Pace..min.mi. &lt;dbl&gt; | Max.Pace..min.mi. &lt;dbl&gt; | Avg.Speed..mi.h. &lt;dbl&gt; | Max.Speed..mi.h. &lt;dbl&gt; | ⋯ ⋯ | Distance &lt;dbl&gt; | Duration &lt;dbl&gt; | Avg.Pace &lt;dbl&gt; | Max.Pace &lt;dbl&gt; | Avg.Spd &lt;dbl&gt; | Max.Spd &lt;dbl&gt; | Avg.HR &lt;dbl&gt; | Steps.y &lt;dbl&gt; | duration &lt;dbl&gt; | year &lt;int&gt; |\n",
       "|---|---|---|---|---|---|---|---|---|---|---|---|---|---|---|---|---|---|---|---|---|\n",
       "| 2022-07-10 | July 10, 2022 | Run  | 429 | 3.09815 | 2301 | 12.37320 | 0.993196 | 4.84920 |  60.4110 | ⋯ | 3.10 | 2301 | 12.37 | 0.990 | 4.85 |  60.41000 | 149.0000 |  5125 | 38.35 | 2022 |\n",
       "| 2022-07-09 | July 9, 2022  | Run  | 430 | 3.10009 | 2005 | 10.77380 | 1.166080 | 5.56904 |  51.4543 | ⋯ | 3.10 | 2005 | 10.77 | 1.170 | 5.57 |  51.45000 | 157.0000 |  5261 | 33.42 | 2022 |\n",
       "| 2022-07-08 | July 8, 2022  | Run  | 454 | 3.10995 | 1988 | 10.64940 | 3.878360 | 5.63410 |  15.4704 | ⋯ | 3.11 | 1988 | 10.65 | 3.880 | 5.63 |  15.47000 | 165.0000 |  5202 | 33.13 | 2022 |\n",
       "| 2022-06-18 | June 18, 2022 | Run  | 370 | 2.57857 | 1698 | 10.96610 | 1.112400 | 5.47140 |  53.9375 | ⋯ | 2.58 | 1698 | 10.97 | 1.110 | 5.47 |  53.94000 | 159.0000 |  4431 | 28.30 | 2022 |\n",
       "| 2022-06-12 | June 12, 2022 | Run  | 428 | 3.09762 | 1955 | 10.51630 | 3.008140 | 5.70545 |  19.9459 | ⋯ | 3.10 | 1955 | 10.52 | 3.010 | 5.71 |  19.95000 | 140.5377 |  5052 | 32.58 | 2022 |\n",
       "| 2022-06-10 | June 10, 2022 | Run  | 881 | 6.20257 | 4182 | 11.23370 | 0.599692 | 5.34108 | 100.0510 | ⋯ | 6.20 | 4182 | 11.23 | 0.600 | 5.34 | 100.05000 | 153.0000 | 10479 | 69.70 | 2022 |\n",
       "| 2022-06-08 | June 9, 2022  | Run  | 407 | 3.11000 | 1702 |  9.12111 | 0.000000 | 6.57814 |   0.0000 | ⋯ | 3.11 | 1702 |  9.12 | 4.026 | 6.58 |  52.59158 | 153.0000 |  4548 | 28.37 | 2022 |\n",
       "| 2022-06-06 | June 6, 2022  | Run  | 590 | 4.50165 | 2924 | 10.82230 | 1.146470 | 5.54409 |  52.3344 | ⋯ | 4.50 | 2924 | 10.82 | 1.150 | 5.54 |  52.33000 | 145.0000 |  7739 | 48.73 | 2022 |\n",
       "| 2022-06-05 | June 5, 2022  | Walk | 253 | 1.88061 | 2402 | 21.27700 | 1.791470 | 2.81995 |  33.4920 | ⋯ | 1.88 | 2402 | 21.28 | 1.790 | 2.82 |  33.49000 | 109.0000 |  3994 | 40.03 | 2022 |\n",
       "| 2022-06-05 | June 5, 2022  | Walk | 253 | 1.88061 | 2402 | 21.27700 | 1.791470 | 2.81995 |  33.4920 | ⋯ | 2.44 | 1487 | 10.17 | 0.450 | 5.90 | 132.28000 | 148.0000 |  3889 | 24.78 | 2022 |\n",
       "| 2022-06-05 | June 5, 2022  | Run  | 302 | 2.43575 | 1487 | 10.17220 | 0.453587 | 5.89844 | 132.2790 | ⋯ | 1.88 | 2402 | 21.28 | 1.790 | 2.82 |  33.49000 | 109.0000 |  3994 | 40.03 | 2022 |\n",
       "| 2022-06-05 | June 5, 2022  | Run  | 302 | 2.43575 | 1487 | 10.17220 | 0.453587 | 5.89844 | 132.2790 | ⋯ | 2.44 | 1487 | 10.17 | 0.450 | 5.90 | 132.28000 | 148.0000 |  3889 | 24.78 | 2022 |\n",
       "| 2022-06-04 | June 4, 2022  | Run  | 856 | 6.24228 | 3946 | 10.53330 | 1.068360 | 5.69620 |  56.1607 | ⋯ | 6.24 | 3946 | 10.53 | 1.070 | 5.70 |  56.16000 | 156.0000 | 10427 | 65.77 | 2022 |\n",
       "| 2022-06-03 | June 3, 2022  | Run  | 397 | 3.10851 | 1864 |  9.98908 | 0.951188 | 6.00656 |  63.0790 | ⋯ | 3.11 | 1864 |  9.99 | 0.950 | 6.01 |  63.08000 | 152.0000 |  4863 | 31.07 | 2022 |\n",
       "| 2022-05-31 | May 31, 2022  | Run  | 546 | 4.08000 | 2377 |  9.70997 | 1.282750 | 6.17922 |  46.7746 | ⋯ | 4.08 | 2377 |  9.71 | 1.280 | 6.18 |  46.77000 | 145.0000 |  4048 | 39.62 | 2022 |\n",
       "| 2022-05-30 | May 30, 2022  | Run  | 418 | 3.10044 | 1873 | 10.05970 | 0.453169 | 5.96441 | 132.4010 | ⋯ | 3.10 | 1873 | 10.06 | 0.450 | 5.96 | 132.40000 | 159.0000 |  4873 | 31.22 | 2022 |\n",
       "| 2022-05-28 | May 28, 2022  | Run  | 426 | 3.10717 | 1852 |  9.93269 | 2.824090 | 6.04066 |  21.2457 | ⋯ | 3.11 | 1852 |  9.93 | 2.820 | 6.04 |  21.25000 | 162.0000 |  4867 | 30.87 | 2022 |\n",
       "| 2022-05-25 | May 25, 2022  | Run  | 801 | 6.20547 | 3735 | 10.03150 | 0.991277 | 5.98118 |  60.5280 | ⋯ | 6.21 | 3735 | 10.03 | 0.990 | 5.98 |  60.53000 | 150.0000 |  9802 | 62.25 | 2022 |\n",
       "| 2022-05-20 | May 20, 2022  | Run  | 394 | 3.10131 | 1839 |  9.88125 | 1.318340 | 6.07211 |  45.5119 | ⋯ | 3.10 | 1827 |  9.82 | 4.026 | 6.11 |  52.59158 | 140.5377 |  4845 | 30.45 | 2022 |\n",
       "| 2022-05-20 | May 20, 2022  | Run  | 394 | 3.10131 | 1839 |  9.88125 | 1.318340 | 6.07211 |  45.5119 | ⋯ | 3.10 | 1839 |  9.88 | 1.320 | 6.07 |  45.51000 | 149.0000 |  4858 | 30.65 | 2022 |\n",
       "| 2022-05-17 | May 17, 2022  | Run  | 840 | 6.20338 | 3843 | 10.32430 | 1.037470 | 5.81153 |  57.8333 | ⋯ | 6.20 | 3843 | 10.32 | 1.040 | 5.81 |  57.83000 | 151.0000 | 10162 | 64.05 | 2022 |\n",
       "| 2022-05-16 | May 16, 2022  | Run  | 395 | 3.10598 | 1777 |  9.53134 | 0.968446 | 6.29502 |  61.9549 | ⋯ | 3.11 | 1777 |  9.53 | 0.970 | 6.30 |  61.95000 | 145.0000 |  4650 | 29.62 | 2022 |\n",
       "| 2022-05-13 | May 13, 2022  | Run  | 814 | 6.20000 | 3430 |  9.22043 | 0.000000 | 6.50729 |   0.0000 | ⋯ | 6.20 | 3430 |  9.22 | 4.026 | 6.51 |  52.59158 | 149.0000 |  9155 | 57.17 | 2022 |\n",
       "| 2022-05-11 | May 11, 2022  | Run  | 656 | 5.00117 | 2989 |  9.95615 | 1.083180 | 6.02642 |  55.3924 | ⋯ | 5.00 | 2989 |  9.96 | 1.080 | 6.03 |  55.39000 | 146.0000 |  7917 | 49.82 | 2022 |\n",
       "| 2022-05-09 | May 9, 2022   | Run  | 391 | 3.10777 | 1802 |  9.65751 | 0.935857 | 6.21278 |  64.1124 | ⋯ | 3.11 | 1802 |  9.66 | 0.940 | 6.21 |  64.11000 | 140.0000 |  4782 | 30.03 | 2022 |\n",
       "| 2022-05-08 | May 8, 2022   | Run  | 313 | 2.35281 | 1376 |  9.73759 | 1.029330 | 6.16169 |  58.2904 | ⋯ | 2.35 | 1376 |  9.74 | 1.030 | 6.16 |  58.29000 | 156.0000 |  3622 | 22.93 | 2022 |\n",
       "| 2022-05-07 | May 7, 2022   | Run  | 348 | 2.59009 | 1516 |  9.74739 | 0.425582 | 6.15549 | 140.9830 | ⋯ | 2.59 | 1516 |  9.75 | 0.430 | 6.16 | 140.98000 | 154.0000 |  4043 | 25.27 | 2022 |\n",
       "| 2022-05-07 | May 7, 2022   | Run  | 348 | 2.59009 | 1516 |  9.74739 | 0.425582 | 6.15549 | 140.9830 | ⋯ | 3.10 | 1974 | 10.61 | 4.026 | 5.65 |  52.59158 | 140.5377 |  5197 | 32.90 | 2022 |\n",
       "| 2022-05-06 | May 6, 2022   | Run  | 796 | 6.20509 | 3701 |  9.93786 | 0.430520 | 6.03752 | 139.3660 | ⋯ | 6.21 | 3701 |  9.94 | 0.430 | 6.04 | 139.37000 | 148.0000 |  9854 | 61.68 | 2022 |\n",
       "| 2022-05-05 | May 5, 2022   | Run  | 605 | 4.51981 | 2670 |  9.84503 | 1.075100 | 6.09445 |  55.8089 | ⋯ | 4.52 | 2670 |  9.85 | 1.080 | 6.09 |  55.81000 | 151.0000 |  7087 | 44.50 | 2022 |\n",
       "| ⋮ | ⋮ | ⋮ | ⋮ | ⋮ | ⋮ | ⋮ | ⋮ | ⋮ | ⋮ | ⋱ | ⋮ | ⋮ | ⋮ | ⋮ | ⋮ | ⋮ | ⋮ | ⋮ | ⋮ | ⋮ |\n",
       "| 2019-07-06 | July 6, 2019  | Run              | 164 | 1.5198100 |  830 |  9.08742 |  0.872392 | 6.60254 |  68.77640 | ⋯ | 1.52 |  830 |  9.09 |  0.870 | 6.60 |  68.78000 | 160.0000 | 2212 | 13.83 | 2019 |\n",
       "| 2019-07-05 | July 5, 2019  | Walk             | 153 | 1.6425600 | 1644 | 16.66740 |  4.217670 | 3.59984 |  14.22590 | ⋯ | 1.64 | 1644 | 16.67 |  4.220 | 3.60 |  14.23000 | 128.0000 | 3063 | 27.40 | 2019 |\n",
       "| 2019-07-05 | July 5, 2019  | Walk             | 153 | 1.6425600 | 1644 | 16.66740 |  4.217670 | 3.59984 |  14.22590 | ⋯ | 1.52 |  843 |  9.24 |  0.850 | 6.49 |  71.00000 | 160.0000 | 2313 | 14.05 | 2019 |\n",
       "| 2019-07-05 | July 5, 2019  | Run              | 156 | 1.5187900 |  843 |  9.24391 |  0.845107 | 6.49076 |  70.99690 | ⋯ | 1.64 | 1644 | 16.67 |  4.220 | 3.60 |  14.23000 | 128.0000 | 3063 | 27.40 | 2019 |\n",
       "| 2019-07-05 | July 5, 2019  | Run              | 156 | 1.5187900 |  843 |  9.24391 |  0.845107 | 6.49076 |  70.99690 | ⋯ | 1.52 |  843 |  9.24 |  0.850 | 6.49 |  71.00000 | 160.0000 | 2313 | 14.05 | 2019 |\n",
       "| 2019-07-04 | Aug. 20, 2019 | Walk             | 161 | 1.6089400 | 1942 | 20.08260 |  9.179960 | 2.98766 |   6.53598 | ⋯ | 1.53 |  816 |  8.88 |  0.990 | 6.76 |  60.91000 | 159.0000 | 2215 | 13.60 | 2019 |\n",
       "| 2019-07-04 | July 4, 2019  | Run              | 156 | 1.5318500 |  816 |  8.87755 |  0.985131 | 6.75862 |  60.90560 | ⋯ | 1.53 |  816 |  8.88 |  0.990 | 6.76 |  60.91000 | 159.0000 | 2215 | 13.60 | 2019 |\n",
       "| 2019-07-02 | July 2, 2019  | Walk             |  88 | 1.0044100 | 1121 | 18.52350 |  8.593730 | 3.23912 |   6.98183 | ⋯ | 1.00 | 1121 | 18.52 |  8.590 | 3.24 |   6.98000 | 118.0000 | 2007 | 18.68 | 2019 |\n",
       "| 2019-07-02 | July 2, 2019  | Walk             |  88 | 1.0044100 | 1121 | 18.52350 |  8.593730 | 3.23912 |   6.98183 | ⋯ | 1.02 |  552 |  9.02 |  0.340 | 6.65 | 174.52000 | 148.0000 | 1439 |  9.20 | 2019 |\n",
       "| 2019-07-02 | July 2, 2019  | Run              |  95 | 1.0180400 |  552 |  9.01609 |  0.343802 | 6.65477 | 174.51900 | ⋯ | 1.00 | 1121 | 18.52 |  8.590 | 3.24 |   6.98000 | 118.0000 | 2007 | 18.68 | 2019 |\n",
       "| 2019-07-02 | July 2, 2019  | Run              |  95 | 1.0180400 |  552 |  9.01609 |  0.343802 | 6.65477 | 174.51900 | ⋯ | 1.02 |  552 |  9.02 |  0.340 | 6.65 | 174.52000 | 148.0000 | 1439 |  9.20 | 2019 |\n",
       "| 2019-06-29 | June 29, 2019 | Walk             | 138 | 1.4728200 | 1966 | 22.16660 |  7.361810 | 2.70677 |   8.15016 | ⋯ | 1.47 | 1966 | 22.17 |  7.360 | 2.71 |   8.15000 | 123.0000 | 2363 | 32.77 | 2019 |\n",
       "| 2019-06-29 | June 29, 2019 | Walk             | 138 | 1.4728200 | 1966 | 22.16660 |  7.361810 | 2.70677 |   8.15016 | ⋯ | 1.27 |  693 |  9.13 |  3.320 | 6.57 |  18.06000 | 150.0000 | 1824 | 11.55 | 2019 |\n",
       "| 2019-06-29 | June 29, 2019 | Run              | 118 | 1.2650400 |  693 |  9.13247 |  3.322760 | 6.56996 |  18.05730 | ⋯ | 1.47 | 1966 | 22.17 |  7.360 | 2.71 |   8.15000 | 123.0000 | 2363 | 32.77 | 2019 |\n",
       "| 2019-06-29 | June 29, 2019 | Run              | 118 | 1.2650400 |  693 |  9.13247 |  3.322760 | 6.56996 |  18.05730 | ⋯ | 1.27 |  693 |  9.13 |  3.320 | 6.57 |  18.06000 | 150.0000 | 1824 | 11.55 | 2019 |\n",
       "| 2019-06-12 | June 12, 2019 | Run              | 215 | 2.0900000 | 1962 | 15.64590 |  3.208230 | 3.83486 |  18.70190 | ⋯ | 2.09 | 1962 | 15.65 |  3.210 | 3.83 |  18.70000 | 111.0000 | 3819 | 32.70 | 2019 |\n",
       "| 2019-06-10 | June 10, 2019 | Walk             | 299 | 2.7786100 | 2458 | 14.73580 |  5.711000 | 4.07172 |  10.50600 | ⋯ | 2.78 | 2458 | 14.74 |  5.710 | 4.07 |  10.51000 | 140.5377 | 4676 | 40.97 | 2019 |\n",
       "| 2019-06-09 | June 9, 2019  | Walk             | 293 | 2.8800000 | 2986 | 17.28010 |  0.000000 | 3.47220 |   0.00000 | ⋯ | 2.88 | 2986 | 17.28 |  4.026 | 3.47 |  52.59158 |  73.0000 | 5876 | 49.77 | 2019 |\n",
       "| 2019-06-08 | June 8, 2019  | Run              | 190 | 1.5728300 | 1307 | 13.84310 |  1.250870 | 4.33429 |  47.96650 | ⋯ | 1.57 | 1307 | 13.84 |  1.250 | 4.33 |  47.97000 | 116.0000 | 2729 | 21.78 | 2019 |\n",
       "| 2019-06-06 | June 6, 2019  | Walk             |   2 | 0.0157305 |   10 |  9.74394 | 13.602100 | 6.15768 |   4.41108 | ⋯ | 3.13 | 3064 | 16.32 | 14.810 | 3.68 |   4.05000 | 140.5377 |   55 | 51.07 | 2019 |\n",
       "| 2019-06-06 | June 6, 2019  | Walk             |   2 | 0.0157305 |   10 |  9.74394 | 13.602100 | 6.15768 |   4.41108 | ⋯ | 0.02 |   10 |  9.74 | 13.600 | 6.16 |   4.41000 | 106.0000 |   11 |  0.17 | 2019 |\n",
       "| 2019-06-05 | June 5, 2019  | Walk             | 249 | 2.2173400 | 1921 | 14.43370 | 13.253900 | 4.15693 |   4.52698 | ⋯ | 2.22 | 1921 | 14.43 | 13.250 | 4.16 |   4.53000 | 110.0000 | 3887 | 32.02 | 2019 |\n",
       "| 2019-05-28 | May 28, 2019  | Walk             | 248 | 2.2209300 | 1886 | 14.15570 |  1.401720 | 4.23856 |  42.80460 | ⋯ | 2.22 | 1886 | 14.16 |  1.400 | 4.24 |  42.80000 | 102.0000 | 3708 | 31.43 | 2019 |\n",
       "| 2019-05-27 | May 27, 2019  | Walk             | 322 | 2.2186400 | 3541 | 26.36490 |  4.209390 | 2.27575 |  14.25390 | ⋯ | 2.22 | 3541 | 26.36 |  4.210 | 2.28 |  14.25000 |  93.0000 | 6149 | 59.02 | 2019 |\n",
       "| 2019-05-23 | May 27, 2019  | Walk             | 266 | 2.6212200 | 1946 | 12.36260 |  4.677640 | 4.85336 |  12.82700 | ⋯ | 2.62 | 1946 | 12.36 |  4.680 | 4.85 |  12.83000 | 136.0000 | 4074 | 32.43 | 2019 |\n",
       "| 2019-05-19 | May 19, 2019  | Run              | 419 | 3.1107500 | 2197 | 11.69460 |  2.057100 | 5.13058 |  29.16730 | ⋯ | 3.11 | 2197 | 11.69 |  2.060 | 5.13 |  29.17000 | 139.0000 | 5295 | 36.62 | 2019 |\n",
       "| 2019-05-13 | May 13, 2019  | Run              | 258 | 1.9615500 | 1214 | 10.31690 |  2.672990 | 5.81568 |  22.44680 | ⋯ | 1.96 | 1214 | 10.32 |  2.670 | 5.82 |  22.45000 | 140.5377 | 3209 | 20.23 | 2019 |\n",
       "| 2019-05-13 | May 13, 2019  | Run              | 258 | 1.9615500 | 1214 | 10.31690 |  2.672990 | 5.81568 |  22.44680 | ⋯ | 1.42 |  927 | 10.88 | 17.090 | 5.51 |   3.51000 | 158.0000 |   67 | 15.45 | 2019 |\n",
       "| 2019-05-13 | May 13, 2019  | Indoor Run / Jog | 191 | 1.4200000 |  927 | 10.88030 | 17.088100 | 5.51456 |   3.51122 | ⋯ | 1.96 | 1214 | 10.32 |  2.670 | 5.82 |  22.45000 | 140.5377 | 3209 | 20.23 | 2019 |\n",
       "| 2019-05-13 | May 13, 2019  | Indoor Run / Jog | 191 | 1.4200000 |  927 | 10.88030 | 17.088100 | 5.51456 |   3.51122 | ⋯ | 1.42 |  927 | 10.88 | 17.090 | 5.51 |   3.51000 | 158.0000 |   67 | 15.45 | 2019 |\n",
       "\n"
      ],
      "text/plain": [
       "    Date       Date.Submitted Activity.Type    Calories.Burned..kCal.\n",
       "1   2022-07-10 July 10, 2022  Run              429                   \n",
       "2   2022-07-09 July 9, 2022   Run              430                   \n",
       "3   2022-07-08 July 8, 2022   Run              454                   \n",
       "4   2022-06-18 June 18, 2022  Run              370                   \n",
       "5   2022-06-12 June 12, 2022  Run              428                   \n",
       "6   2022-06-10 June 10, 2022  Run              881                   \n",
       "7   2022-06-08 June 9, 2022   Run              407                   \n",
       "8   2022-06-06 June 6, 2022   Run              590                   \n",
       "9   2022-06-05 June 5, 2022   Walk             253                   \n",
       "10  2022-06-05 June 5, 2022   Walk             253                   \n",
       "11  2022-06-05 June 5, 2022   Run              302                   \n",
       "12  2022-06-05 June 5, 2022   Run              302                   \n",
       "13  2022-06-04 June 4, 2022   Run              856                   \n",
       "14  2022-06-03 June 3, 2022   Run              397                   \n",
       "15  2022-05-31 May 31, 2022   Run              546                   \n",
       "16  2022-05-30 May 30, 2022   Run              418                   \n",
       "17  2022-05-28 May 28, 2022   Run              426                   \n",
       "18  2022-05-25 May 25, 2022   Run              801                   \n",
       "19  2022-05-20 May 20, 2022   Run              394                   \n",
       "20  2022-05-20 May 20, 2022   Run              394                   \n",
       "21  2022-05-17 May 17, 2022   Run              840                   \n",
       "22  2022-05-16 May 16, 2022   Run              395                   \n",
       "23  2022-05-13 May 13, 2022   Run              814                   \n",
       "24  2022-05-11 May 11, 2022   Run              656                   \n",
       "25  2022-05-09 May 9, 2022    Run              391                   \n",
       "26  2022-05-08 May 8, 2022    Run              313                   \n",
       "27  2022-05-07 May 7, 2022    Run              348                   \n",
       "28  2022-05-07 May 7, 2022    Run              348                   \n",
       "29  2022-05-06 May 6, 2022    Run              796                   \n",
       "30  2022-05-05 May 5, 2022    Run              605                   \n",
       "<U+22EE>   <U+22EE>   <U+22EE>       <U+22EE>         <U+22EE>              \n",
       "445 2019-07-06 July 6, 2019   Run              164                   \n",
       "446 2019-07-05 July 5, 2019   Walk             153                   \n",
       "447 2019-07-05 July 5, 2019   Walk             153                   \n",
       "448 2019-07-05 July 5, 2019   Run              156                   \n",
       "449 2019-07-05 July 5, 2019   Run              156                   \n",
       "450 2019-07-04 Aug. 20, 2019  Walk             161                   \n",
       "451 2019-07-04 July 4, 2019   Run              156                   \n",
       "452 2019-07-02 July 2, 2019   Walk              88                   \n",
       "453 2019-07-02 July 2, 2019   Walk              88                   \n",
       "454 2019-07-02 July 2, 2019   Run               95                   \n",
       "455 2019-07-02 July 2, 2019   Run               95                   \n",
       "456 2019-06-29 June 29, 2019  Walk             138                   \n",
       "457 2019-06-29 June 29, 2019  Walk             138                   \n",
       "458 2019-06-29 June 29, 2019  Run              118                   \n",
       "459 2019-06-29 June 29, 2019  Run              118                   \n",
       "460 2019-06-12 June 12, 2019  Run              215                   \n",
       "461 2019-06-10 June 10, 2019  Walk             299                   \n",
       "462 2019-06-09 June 9, 2019   Walk             293                   \n",
       "463 2019-06-08 June 8, 2019   Run              190                   \n",
       "464 2019-06-06 June 6, 2019   Walk               2                   \n",
       "465 2019-06-06 June 6, 2019   Walk               2                   \n",
       "466 2019-06-05 June 5, 2019   Walk             249                   \n",
       "467 2019-05-28 May 28, 2019   Walk             248                   \n",
       "468 2019-05-27 May 27, 2019   Walk             322                   \n",
       "469 2019-05-23 May 27, 2019   Walk             266                   \n",
       "470 2019-05-19 May 19, 2019   Run              419                   \n",
       "471 2019-05-13 May 13, 2019   Run              258                   \n",
       "472 2019-05-13 May 13, 2019   Run              258                   \n",
       "473 2019-05-13 May 13, 2019   Indoor Run / Jog 191                   \n",
       "474 2019-05-13 May 13, 2019   Indoor Run / Jog 191                   \n",
       "    Distance..mi. Workout.Time..seconds. Avg.Pace..min.mi. Max.Pace..min.mi.\n",
       "1   3.09815       2301                   12.37320          0.993196         \n",
       "2   3.10009       2005                   10.77380          1.166080         \n",
       "3   3.10995       1988                   10.64940          3.878360         \n",
       "4   2.57857       1698                   10.96610          1.112400         \n",
       "5   3.09762       1955                   10.51630          3.008140         \n",
       "6   6.20257       4182                   11.23370          0.599692         \n",
       "7   3.11000       1702                    9.12111          0.000000         \n",
       "8   4.50165       2924                   10.82230          1.146470         \n",
       "9   1.88061       2402                   21.27700          1.791470         \n",
       "10  1.88061       2402                   21.27700          1.791470         \n",
       "11  2.43575       1487                   10.17220          0.453587         \n",
       "12  2.43575       1487                   10.17220          0.453587         \n",
       "13  6.24228       3946                   10.53330          1.068360         \n",
       "14  3.10851       1864                    9.98908          0.951188         \n",
       "15  4.08000       2377                    9.70997          1.282750         \n",
       "16  3.10044       1873                   10.05970          0.453169         \n",
       "17  3.10717       1852                    9.93269          2.824090         \n",
       "18  6.20547       3735                   10.03150          0.991277         \n",
       "19  3.10131       1839                    9.88125          1.318340         \n",
       "20  3.10131       1839                    9.88125          1.318340         \n",
       "21  6.20338       3843                   10.32430          1.037470         \n",
       "22  3.10598       1777                    9.53134          0.968446         \n",
       "23  6.20000       3430                    9.22043          0.000000         \n",
       "24  5.00117       2989                    9.95615          1.083180         \n",
       "25  3.10777       1802                    9.65751          0.935857         \n",
       "26  2.35281       1376                    9.73759          1.029330         \n",
       "27  2.59009       1516                    9.74739          0.425582         \n",
       "28  2.59009       1516                    9.74739          0.425582         \n",
       "29  6.20509       3701                    9.93786          0.430520         \n",
       "30  4.51981       2670                    9.84503          1.075100         \n",
       "<U+22EE>   <U+22EE>      <U+22EE>               <U+22EE>          <U+22EE>         \n",
       "445 1.5198100      830                    9.08742           0.872392        \n",
       "446 1.6425600     1644                   16.66740           4.217670        \n",
       "447 1.6425600     1644                   16.66740           4.217670        \n",
       "448 1.5187900      843                    9.24391           0.845107        \n",
       "449 1.5187900      843                    9.24391           0.845107        \n",
       "450 1.6089400     1942                   20.08260           9.179960        \n",
       "451 1.5318500      816                    8.87755           0.985131        \n",
       "452 1.0044100     1121                   18.52350           8.593730        \n",
       "453 1.0044100     1121                   18.52350           8.593730        \n",
       "454 1.0180400      552                    9.01609           0.343802        \n",
       "455 1.0180400      552                    9.01609           0.343802        \n",
       "456 1.4728200     1966                   22.16660           7.361810        \n",
       "457 1.4728200     1966                   22.16660           7.361810        \n",
       "458 1.2650400      693                    9.13247           3.322760        \n",
       "459 1.2650400      693                    9.13247           3.322760        \n",
       "460 2.0900000     1962                   15.64590           3.208230        \n",
       "461 2.7786100     2458                   14.73580           5.711000        \n",
       "462 2.8800000     2986                   17.28010           0.000000        \n",
       "463 1.5728300     1307                   13.84310           1.250870        \n",
       "464 0.0157305       10                    9.74394          13.602100        \n",
       "465 0.0157305       10                    9.74394          13.602100        \n",
       "466 2.2173400     1921                   14.43370          13.253900        \n",
       "467 2.2209300     1886                   14.15570           1.401720        \n",
       "468 2.2186400     3541                   26.36490           4.209390        \n",
       "469 2.6212200     1946                   12.36260           4.677640        \n",
       "470 3.1107500     2197                   11.69460           2.057100        \n",
       "471 1.9615500     1214                   10.31690           2.672990        \n",
       "472 1.9615500     1214                   10.31690           2.672990        \n",
       "473 1.4200000      927                   10.88030          17.088100        \n",
       "474 1.4200000      927                   10.88030          17.088100        \n",
       "    Avg.Speed..mi.h. Max.Speed..mi.h. <U+22EF>        Distance Duration Avg.Pace\n",
       "1   4.84920           60.4110         <U+22EF> 3.10     2301     12.37   \n",
       "2   5.56904           51.4543         <U+22EF> 3.10     2005     10.77   \n",
       "3   5.63410           15.4704         <U+22EF> 3.11     1988     10.65   \n",
       "4   5.47140           53.9375         <U+22EF> 2.58     1698     10.97   \n",
       "5   5.70545           19.9459         <U+22EF> 3.10     1955     10.52   \n",
       "6   5.34108          100.0510         <U+22EF> 6.20     4182     11.23   \n",
       "7   6.57814            0.0000         <U+22EF> 3.11     1702      9.12   \n",
       "8   5.54409           52.3344         <U+22EF> 4.50     2924     10.82   \n",
       "9   2.81995           33.4920         <U+22EF> 1.88     2402     21.28   \n",
       "10  2.81995           33.4920         <U+22EF> 2.44     1487     10.17   \n",
       "11  5.89844          132.2790         <U+22EF> 1.88     2402     21.28   \n",
       "12  5.89844          132.2790         <U+22EF> 2.44     1487     10.17   \n",
       "13  5.69620           56.1607         <U+22EF> 6.24     3946     10.53   \n",
       "14  6.00656           63.0790         <U+22EF> 3.11     1864      9.99   \n",
       "15  6.17922           46.7746         <U+22EF> 4.08     2377      9.71   \n",
       "16  5.96441          132.4010         <U+22EF> 3.10     1873     10.06   \n",
       "17  6.04066           21.2457         <U+22EF> 3.11     1852      9.93   \n",
       "18  5.98118           60.5280         <U+22EF> 6.21     3735     10.03   \n",
       "19  6.07211           45.5119         <U+22EF> 3.10     1827      9.82   \n",
       "20  6.07211           45.5119         <U+22EF> 3.10     1839      9.88   \n",
       "21  5.81153           57.8333         <U+22EF> 6.20     3843     10.32   \n",
       "22  6.29502           61.9549         <U+22EF> 3.11     1777      9.53   \n",
       "23  6.50729            0.0000         <U+22EF> 6.20     3430      9.22   \n",
       "24  6.02642           55.3924         <U+22EF> 5.00     2989      9.96   \n",
       "25  6.21278           64.1124         <U+22EF> 3.11     1802      9.66   \n",
       "26  6.16169           58.2904         <U+22EF> 2.35     1376      9.74   \n",
       "27  6.15549          140.9830         <U+22EF> 2.59     1516      9.75   \n",
       "28  6.15549          140.9830         <U+22EF> 3.10     1974     10.61   \n",
       "29  6.03752          139.3660         <U+22EF> 6.21     3701      9.94   \n",
       "30  6.09445           55.8089         <U+22EF> 4.52     2670      9.85   \n",
       "<U+22EE>   <U+22EE>         <U+22EE>         <U+22F1> <U+22EE> <U+22EE> <U+22EE>\n",
       "445 6.60254           68.77640        <U+22EF> 1.52      830      9.09   \n",
       "446 3.59984           14.22590        <U+22EF> 1.64     1644     16.67   \n",
       "447 3.59984           14.22590        <U+22EF> 1.52      843      9.24   \n",
       "448 6.49076           70.99690        <U+22EF> 1.64     1644     16.67   \n",
       "449 6.49076           70.99690        <U+22EF> 1.52      843      9.24   \n",
       "450 2.98766            6.53598        <U+22EF> 1.53      816      8.88   \n",
       "451 6.75862           60.90560        <U+22EF> 1.53      816      8.88   \n",
       "452 3.23912            6.98183        <U+22EF> 1.00     1121     18.52   \n",
       "453 3.23912            6.98183        <U+22EF> 1.02      552      9.02   \n",
       "454 6.65477          174.51900        <U+22EF> 1.00     1121     18.52   \n",
       "455 6.65477          174.51900        <U+22EF> 1.02      552      9.02   \n",
       "456 2.70677            8.15016        <U+22EF> 1.47     1966     22.17   \n",
       "457 2.70677            8.15016        <U+22EF> 1.27      693      9.13   \n",
       "458 6.56996           18.05730        <U+22EF> 1.47     1966     22.17   \n",
       "459 6.56996           18.05730        <U+22EF> 1.27      693      9.13   \n",
       "460 3.83486           18.70190        <U+22EF> 2.09     1962     15.65   \n",
       "461 4.07172           10.50600        <U+22EF> 2.78     2458     14.74   \n",
       "462 3.47220            0.00000        <U+22EF> 2.88     2986     17.28   \n",
       "463 4.33429           47.96650        <U+22EF> 1.57     1307     13.84   \n",
       "464 6.15768            4.41108        <U+22EF> 3.13     3064     16.32   \n",
       "465 6.15768            4.41108        <U+22EF> 0.02       10      9.74   \n",
       "466 4.15693            4.52698        <U+22EF> 2.22     1921     14.43   \n",
       "467 4.23856           42.80460        <U+22EF> 2.22     1886     14.16   \n",
       "468 2.27575           14.25390        <U+22EF> 2.22     3541     26.36   \n",
       "469 4.85336           12.82700        <U+22EF> 2.62     1946     12.36   \n",
       "470 5.13058           29.16730        <U+22EF> 3.11     2197     11.69   \n",
       "471 5.81568           22.44680        <U+22EF> 1.96     1214     10.32   \n",
       "472 5.81568           22.44680        <U+22EF> 1.42      927     10.88   \n",
       "473 5.51456            3.51122        <U+22EF> 1.96     1214     10.32   \n",
       "474 5.51456            3.51122        <U+22EF> 1.42      927     10.88   \n",
       "    Max.Pace Avg.Spd Max.Spd   Avg.HR   Steps.y duration year\n",
       "1   0.990    4.85     60.41000 149.0000  5125   38.35    2022\n",
       "2   1.170    5.57     51.45000 157.0000  5261   33.42    2022\n",
       "3   3.880    5.63     15.47000 165.0000  5202   33.13    2022\n",
       "4   1.110    5.47     53.94000 159.0000  4431   28.30    2022\n",
       "5   3.010    5.71     19.95000 140.5377  5052   32.58    2022\n",
       "6   0.600    5.34    100.05000 153.0000 10479   69.70    2022\n",
       "7   4.026    6.58     52.59158 153.0000  4548   28.37    2022\n",
       "8   1.150    5.54     52.33000 145.0000  7739   48.73    2022\n",
       "9   1.790    2.82     33.49000 109.0000  3994   40.03    2022\n",
       "10  0.450    5.90    132.28000 148.0000  3889   24.78    2022\n",
       "11  1.790    2.82     33.49000 109.0000  3994   40.03    2022\n",
       "12  0.450    5.90    132.28000 148.0000  3889   24.78    2022\n",
       "13  1.070    5.70     56.16000 156.0000 10427   65.77    2022\n",
       "14  0.950    6.01     63.08000 152.0000  4863   31.07    2022\n",
       "15  1.280    6.18     46.77000 145.0000  4048   39.62    2022\n",
       "16  0.450    5.96    132.40000 159.0000  4873   31.22    2022\n",
       "17  2.820    6.04     21.25000 162.0000  4867   30.87    2022\n",
       "18  0.990    5.98     60.53000 150.0000  9802   62.25    2022\n",
       "19  4.026    6.11     52.59158 140.5377  4845   30.45    2022\n",
       "20  1.320    6.07     45.51000 149.0000  4858   30.65    2022\n",
       "21  1.040    5.81     57.83000 151.0000 10162   64.05    2022\n",
       "22  0.970    6.30     61.95000 145.0000  4650   29.62    2022\n",
       "23  4.026    6.51     52.59158 149.0000  9155   57.17    2022\n",
       "24  1.080    6.03     55.39000 146.0000  7917   49.82    2022\n",
       "25  0.940    6.21     64.11000 140.0000  4782   30.03    2022\n",
       "26  1.030    6.16     58.29000 156.0000  3622   22.93    2022\n",
       "27  0.430    6.16    140.98000 154.0000  4043   25.27    2022\n",
       "28  4.026    5.65     52.59158 140.5377  5197   32.90    2022\n",
       "29  0.430    6.04    139.37000 148.0000  9854   61.68    2022\n",
       "30  1.080    6.09     55.81000 151.0000  7087   44.50    2022\n",
       "<U+22EE>   <U+22EE> <U+22EE> <U+22EE>  <U+22EE> <U+22EE> <U+22EE> <U+22EE>\n",
       "445  0.870   6.60     68.78000 160.0000 2212    13.83    2019\n",
       "446  4.220   3.60     14.23000 128.0000 3063    27.40    2019\n",
       "447  0.850   6.49     71.00000 160.0000 2313    14.05    2019\n",
       "448  4.220   3.60     14.23000 128.0000 3063    27.40    2019\n",
       "449  0.850   6.49     71.00000 160.0000 2313    14.05    2019\n",
       "450  0.990   6.76     60.91000 159.0000 2215    13.60    2019\n",
       "451  0.990   6.76     60.91000 159.0000 2215    13.60    2019\n",
       "452  8.590   3.24      6.98000 118.0000 2007    18.68    2019\n",
       "453  0.340   6.65    174.52000 148.0000 1439     9.20    2019\n",
       "454  8.590   3.24      6.98000 118.0000 2007    18.68    2019\n",
       "455  0.340   6.65    174.52000 148.0000 1439     9.20    2019\n",
       "456  7.360   2.71      8.15000 123.0000 2363    32.77    2019\n",
       "457  3.320   6.57     18.06000 150.0000 1824    11.55    2019\n",
       "458  7.360   2.71      8.15000 123.0000 2363    32.77    2019\n",
       "459  3.320   6.57     18.06000 150.0000 1824    11.55    2019\n",
       "460  3.210   3.83     18.70000 111.0000 3819    32.70    2019\n",
       "461  5.710   4.07     10.51000 140.5377 4676    40.97    2019\n",
       "462  4.026   3.47     52.59158  73.0000 5876    49.77    2019\n",
       "463  1.250   4.33     47.97000 116.0000 2729    21.78    2019\n",
       "464 14.810   3.68      4.05000 140.5377   55    51.07    2019\n",
       "465 13.600   6.16      4.41000 106.0000   11     0.17    2019\n",
       "466 13.250   4.16      4.53000 110.0000 3887    32.02    2019\n",
       "467  1.400   4.24     42.80000 102.0000 3708    31.43    2019\n",
       "468  4.210   2.28     14.25000  93.0000 6149    59.02    2019\n",
       "469  4.680   4.85     12.83000 136.0000 4074    32.43    2019\n",
       "470  2.060   5.13     29.17000 139.0000 5295    36.62    2019\n",
       "471  2.670   5.82     22.45000 140.5377 3209    20.23    2019\n",
       "472 17.090   5.51      3.51000 158.0000   67    15.45    2019\n",
       "473  2.670   5.82     22.45000 140.5377 3209    20.23    2019\n",
       "474 17.090   5.51      3.51000 158.0000   67    15.45    2019"
      ]
     },
     "metadata": {},
     "output_type": "display_data"
    }
   ],
   "source": [
    "testdf2"
   ]
  },
  {
   "cell_type": "code",
   "execution_count": null,
   "metadata": {
    "vscode": {
     "languageId": "r"
    }
   },
   "outputs": [],
   "source": [
    "library(tidyr)\n",
    "test <- separate(test, Time, c('Times', 'Ms'), \"[.]\")"
   ]
  },
  {
   "cell_type": "code",
   "execution_count": null,
   "metadata": {
    "vscode": {
     "languageId": "r"
    }
   },
   "outputs": [],
   "source": [
    "library(\"lubridate\")\n",
    "hours <- -3600 * mymerge$Local.Time.Zone.Offset\n",
    "mymerge$my_date_time1 <- mymerge$DTS + (-3600 * mymerge$Local.Time.Zone.Offset)"
   ]
  }
 ],
 "metadata": {
  "kernelspec": {
   "display_name": "R",
   "language": "R",
   "name": "ir"
  },
  "language_info": {
   "codemirror_mode": "r",
   "file_extension": ".r",
   "mimetype": "text/x-r-source",
   "name": "R",
   "pygments_lexer": "r",
   "version": "4.1.3"
  },
  "orig_nbformat": 4
 },
 "nbformat": 4,
 "nbformat_minor": 2
}
