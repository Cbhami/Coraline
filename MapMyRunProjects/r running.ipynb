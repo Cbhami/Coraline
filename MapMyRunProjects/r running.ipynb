{
 "cells": [
  {
   "cell_type": "markdown",
   "metadata": {},
   "source": [
    "# r book"
   ]
  },
  {
   "cell_type": "code",
   "execution_count": null,
   "metadata": {
    "vscode": {
     "languageId": "r"
    }
   },
   "outputs": [
    {
     "ename": "ERROR",
     "evalue": "Error in library(tidyverse): there is no package called ‘tidyverse’\n",
     "output_type": "error",
     "traceback": [
      "Error in library(tidyverse): there is no package called ‘tidyverse’\nTraceback:\n",
      "1. library(tidyverse)"
     ]
    }
   ],
   "source": [
    "library(lubridate)\n",
    "library(tidyverse)\n",
    "library(ggplot2)\n",
    "library(dplyr)"
   ]
  },
  {
   "cell_type": "code",
   "execution_count": 5,
   "metadata": {
    "vscode": {
     "languageId": "r"
    }
   },
   "outputs": [
    {
     "name": "stderr",
     "output_type": "stream",
     "text": [
      "also installing the dependencies ‘colorspace’, ‘farver’, ‘labeling’, ‘munsell’, ‘RColorBrewer’, ‘viridisLite’, ‘gtable’, ‘isoband’, ‘scales’\n",
      "\n",
      "\n"
     ]
    }
   ],
   "source": [
    "install.packages(\"ggplot2\")\n",
    "install.packages(\"dplyr\")"
   ]
  },
  {
   "cell_type": "code",
   "execution_count": 2,
   "metadata": {
    "vscode": {
     "languageId": "r"
    }
   },
   "outputs": [],
   "source": [
    "#df <- read.csv(\"https://raw.githubusercontent.com/Cbhami/Coraline/master/Resources/csv%20data/user94403143_workout_history.csv\", header=TRUE)\n",
    "df <- read.csv(\"C:/Users/coleb/OneDrive/Coraline/Resources/csv data/user94403143_workout_history.csv\", header=TRUE)"
   ]
  },
  {
   "cell_type": "code",
   "execution_count": 3,
   "metadata": {
    "vscode": {
     "languageId": "r"
    }
   },
   "outputs": [
    {
     "data": {
      "text/html": [
       "721"
      ],
      "text/latex": [
       "721"
      ],
      "text/markdown": [
       "721"
      ],
      "text/plain": [
       "[1] 721"
      ]
     },
     "metadata": {},
     "output_type": "display_data"
    }
   ],
   "source": [
    "nrow(df)"
   ]
  },
  {
   "cell_type": "code",
   "execution_count": 4,
   "metadata": {
    "vscode": {
     "languageId": "r"
    }
   },
   "outputs": [
    {
     "data": {
      "text/html": [
       "<table class=\"dataframe\">\n",
       "<caption>A data.frame: 1 × 15</caption>\n",
       "<thead>\n",
       "\t<tr><th></th><th scope=col>Date.Submitted</th><th scope=col>Workout.Date</th><th scope=col>Activity.Type</th><th scope=col>Calories.Burned..kCal.</th><th scope=col>Distance..mi.</th><th scope=col>Workout.Time..seconds.</th><th scope=col>Avg.Pace..min.mi.</th><th scope=col>Max.Pace..min.mi.</th><th scope=col>Avg.Speed..mi.h.</th><th scope=col>Max.Speed..mi.h.</th><th scope=col>Avg.Heart.Rate</th><th scope=col>Steps</th><th scope=col>Notes</th><th scope=col>Source</th><th scope=col>Link</th></tr>\n",
       "\t<tr><th></th><th scope=col>&lt;chr&gt;</th><th scope=col>&lt;chr&gt;</th><th scope=col>&lt;chr&gt;</th><th scope=col>&lt;int&gt;</th><th scope=col>&lt;dbl&gt;</th><th scope=col>&lt;int&gt;</th><th scope=col>&lt;dbl&gt;</th><th scope=col>&lt;dbl&gt;</th><th scope=col>&lt;dbl&gt;</th><th scope=col>&lt;dbl&gt;</th><th scope=col>&lt;int&gt;</th><th scope=col>&lt;int&gt;</th><th scope=col>&lt;chr&gt;</th><th scope=col>&lt;chr&gt;</th><th scope=col>&lt;chr&gt;</th></tr>\n",
       "</thead>\n",
       "<tbody>\n",
       "\t<tr><th scope=row>1</th><td>Aug. 27, 2022</td><td>Aug. 27, 2022</td><td>Run</td><td>610</td><td>4.73411</td><td>3953</td><td>13.9142</td><td>8.96704</td><td>4.31215</td><td>6.69117</td><td>119</td><td>8206</td><td>b''</td><td>Map My Fitness MapMyRun iPhone</td><td>http://www.mapmyfitness.com/workout/6807953053</td></tr>\n",
       "</tbody>\n",
       "</table>\n"
      ],
      "text/latex": [
       "A data.frame: 1 × 15\n",
       "\\begin{tabular}{r|lllllllllllllll}\n",
       "  & Date.Submitted & Workout.Date & Activity.Type & Calories.Burned..kCal. & Distance..mi. & Workout.Time..seconds. & Avg.Pace..min.mi. & Max.Pace..min.mi. & Avg.Speed..mi.h. & Max.Speed..mi.h. & Avg.Heart.Rate & Steps & Notes & Source & Link\\\\\n",
       "  & <chr> & <chr> & <chr> & <int> & <dbl> & <int> & <dbl> & <dbl> & <dbl> & <dbl> & <int> & <int> & <chr> & <chr> & <chr>\\\\\n",
       "\\hline\n",
       "\t1 & Aug. 27, 2022 & Aug. 27, 2022 & Run & 610 & 4.73411 & 3953 & 13.9142 & 8.96704 & 4.31215 & 6.69117 & 119 & 8206 & b'' & Map My Fitness MapMyRun iPhone & http://www.mapmyfitness.com/workout/6807953053\\\\\n",
       "\\end{tabular}\n"
      ],
      "text/markdown": [
       "\n",
       "A data.frame: 1 × 15\n",
       "\n",
       "| <!--/--> | Date.Submitted &lt;chr&gt; | Workout.Date &lt;chr&gt; | Activity.Type &lt;chr&gt; | Calories.Burned..kCal. &lt;int&gt; | Distance..mi. &lt;dbl&gt; | Workout.Time..seconds. &lt;int&gt; | Avg.Pace..min.mi. &lt;dbl&gt; | Max.Pace..min.mi. &lt;dbl&gt; | Avg.Speed..mi.h. &lt;dbl&gt; | Max.Speed..mi.h. &lt;dbl&gt; | Avg.Heart.Rate &lt;int&gt; | Steps &lt;int&gt; | Notes &lt;chr&gt; | Source &lt;chr&gt; | Link &lt;chr&gt; |\n",
       "|---|---|---|---|---|---|---|---|---|---|---|---|---|---|---|---|\n",
       "| 1 | Aug. 27, 2022 | Aug. 27, 2022 | Run | 610 | 4.73411 | 3953 | 13.9142 | 8.96704 | 4.31215 | 6.69117 | 119 | 8206 | b'' | Map My Fitness MapMyRun iPhone | http://www.mapmyfitness.com/workout/6807953053 |\n",
       "\n"
      ],
      "text/plain": [
       "  Date.Submitted Workout.Date  Activity.Type Calories.Burned..kCal.\n",
       "1 Aug. 27, 2022  Aug. 27, 2022 Run           610                   \n",
       "  Distance..mi. Workout.Time..seconds. Avg.Pace..min.mi. Max.Pace..min.mi.\n",
       "1 4.73411       3953                   13.9142           8.96704          \n",
       "  Avg.Speed..mi.h. Max.Speed..mi.h. Avg.Heart.Rate Steps Notes\n",
       "1 4.31215          6.69117          119            8206  b''  \n",
       "  Source                         Link                                          \n",
       "1 Map My Fitness MapMyRun iPhone http://www.mapmyfitness.com/workout/6807953053"
      ]
     },
     "metadata": {},
     "output_type": "display_data"
    }
   ],
   "source": [
    "head(df, 1)"
   ]
  },
  {
   "cell_type": "code",
   "execution_count": 5,
   "metadata": {
    "vscode": {
     "languageId": "r"
    }
   },
   "outputs": [],
   "source": [
    "# df <- separate(data = df, col = Date.Submitted, into = c(\"left\", \"middle\", \"right\"), sep = \" \")"
   ]
  },
  {
   "cell_type": "code",
   "execution_count": 6,
   "metadata": {
    "vscode": {
     "languageId": "r"
    }
   },
   "outputs": [],
   "source": [
    "#write.csv(df, \"user94403143_workout_history_clean.csv\")"
   ]
  },
  {
   "cell_type": "code",
   "execution_count": 7,
   "metadata": {
    "vscode": {
     "languageId": "r"
    }
   },
   "outputs": [
    {
     "data": {
      "text/plain": [
       " Date.Submitted     Workout.Date       Activity.Type     \n",
       " Length:721         Length:721         Length:721        \n",
       " Class :character   Class :character   Class :character  \n",
       " Mode  :character   Mode  :character   Mode  :character  \n",
       "                                                         \n",
       "                                                         \n",
       "                                                         \n",
       "                                                         \n",
       " Calories.Burned..kCal. Distance..mi.    Workout.Time..seconds.\n",
       " Min.   :   9.0         Min.   : 0.000   Min.   :   95         \n",
       " 1st Qu.: 240.0         1st Qu.: 2.010   1st Qu.: 1475         \n",
       " Median : 403.0         Median : 3.100   Median : 1800         \n",
       " Mean   : 399.4         Mean   : 3.158   Mean   : 2076         \n",
       " 3rd Qu.: 454.0         3rd Qu.: 3.559   3rd Qu.: 2344         \n",
       " Max.   :1928.0         Max.   :13.482   Max.   :11065         \n",
       "                                                               \n",
       " Avg.Pace..min.mi. Max.Pace..min.mi.  Avg.Speed..mi.h. Max.Speed..mi.h. \n",
       " Min.   :  0.000   Min.   :  0.0000   Min.   : 0.000   Min.   :   0.00  \n",
       " 1st Qu.:  9.079   1st Qu.:  0.0000   1st Qu.: 4.955   1st Qu.:   0.00  \n",
       " Median :  9.743   Median :  0.8684   Median : 6.106   Median :  15.95  \n",
       " Mean   : 11.442   Mean   :  2.1234   Mean   : 5.522   Mean   :  45.95  \n",
       " 3rd Qu.: 11.143   3rd Qu.:  1.6259   3rd Qu.: 6.553   3rd Qu.:  60.10  \n",
       " Max.   :123.477   Max.   :182.3960   Max.   :14.864   Max.   :1853.55  \n",
       "                                                                        \n",
       " Avg.Heart.Rate      Steps          Notes              Source         \n",
       " Min.   :  0.0   Min.   :    6   Length:721         Length:721        \n",
       " 1st Qu.: 94.0   1st Qu.: 3480   Class :character   Class :character  \n",
       " Median :143.0   Median : 4677   Mode  :character   Mode  :character  \n",
       " Mean   :109.2   Mean   : 5138                                        \n",
       " 3rd Qu.:153.0   3rd Qu.: 5805                                        \n",
       " Max.   :169.0   Max.   :23604                                        \n",
       " NA's   :240     NA's   :23                                           \n",
       "     Link          \n",
       " Length:721        \n",
       " Class :character  \n",
       " Mode  :character  \n",
       "                   \n",
       "                   \n",
       "                   \n",
       "                   "
      ]
     },
     "metadata": {},
     "output_type": "display_data"
    }
   ],
   "source": [
    "summary(df)"
   ]
  },
  {
   "cell_type": "code",
   "execution_count": 8,
   "metadata": {
    "vscode": {
     "languageId": "r"
    }
   },
   "outputs": [],
   "source": [
    "df <- data.frame(df)"
   ]
  },
  {
   "cell_type": "code",
   "execution_count": 9,
   "metadata": {
    "vscode": {
     "languageId": "r"
    }
   },
   "outputs": [
    {
     "data": {
      "text/html": [
       "721"
      ],
      "text/latex": [
       "721"
      ],
      "text/markdown": [
       "721"
      ],
      "text/plain": [
       "[1] 721"
      ]
     },
     "metadata": {},
     "output_type": "display_data"
    }
   ],
   "source": [
    "nrow(df)"
   ]
  },
  {
   "cell_type": "code",
   "execution_count": 10,
   "metadata": {
    "vscode": {
     "languageId": "r"
    }
   },
   "outputs": [],
   "source": [
    "df['duration'] <- df['Workout.Time..seconds.'] / 60"
   ]
  },
  {
   "cell_type": "code",
   "execution_count": 11,
   "metadata": {
    "vscode": {
     "languageId": "r"
    }
   },
   "outputs": [
    {
     "data": {
      "text/html": [
       "'c:/Users/coleb/OneDrive/Coraline/MapMyRunProjects'"
      ],
      "text/latex": [
       "'c:/Users/coleb/OneDrive/Coraline/MapMyRunProjects'"
      ],
      "text/markdown": [
       "'c:/Users/coleb/OneDrive/Coraline/MapMyRunProjects'"
      ],
      "text/plain": [
       "[1] \"c:/Users/coleb/OneDrive/Coraline/MapMyRunProjects\""
      ]
     },
     "metadata": {},
     "output_type": "display_data"
    }
   ],
   "source": [
    "#determine your working library\n",
    "getwd()"
   ]
  },
  {
   "cell_type": "code",
   "execution_count": 12,
   "metadata": {
    "vscode": {
     "languageId": "r"
    }
   },
   "outputs": [],
   "source": [
    "#download your file\n",
    "#download.file(\"https://raw.githubusercontent.com/Cbhami/Coraline/master/Resources/csv%20data/user94403143_workout_history.csv\", \"user94403143_workout_history.csv\")"
   ]
  },
  {
   "cell_type": "code",
   "execution_count": 13,
   "metadata": {
    "vscode": {
     "languageId": "r"
    }
   },
   "outputs": [],
   "source": [
    "#run_data <- read.csv(\"user94403143_workout_history.csv\", header=TRUE)\n",
    "run_data <- data.frame(df)"
   ]
  },
  {
   "cell_type": "code",
   "execution_count": 14,
   "metadata": {
    "vscode": {
     "languageId": "r"
    }
   },
   "outputs": [],
   "source": [
    "# df %>% mutate(Workout.date = Workout.Date %>% as.Date(\"%B %d, %Y\"), left = month(Workout.Date, abbr = FALSE, label = TRUE))"
   ]
  },
  {
   "cell_type": "code",
   "execution_count": 15,
   "metadata": {
    "vscode": {
     "languageId": "r"
    }
   },
   "outputs": [],
   "source": [
    "# #convert the datetime variables using the following logic:\n",
    "# #%B is a complete month name (November), %e is a day of the month (3) preceded by a space and followed by a comma and a space, and %Y is a four-digit year (2020).\n",
    "# df$Workout.Date <- as.Date(df$Workout.Date, format = \"%B %e, %Y\")\n",
    "# df$Date.Submitted <- as.Date(df$Date.Submitted, format = \"%B %e, %Y\")"
   ]
  },
  {
   "cell_type": "code",
   "execution_count": 16,
   "metadata": {
    "vscode": {
     "languageId": "r"
    }
   },
   "outputs": [
    {
     "name": "stderr",
     "output_type": "stream",
     "text": [
      "Warning message:\n",
      "\"All formats failed to parse. No formats found.\"\n",
      "Warning message:\n",
      "\"All formats failed to parse. No formats found.\"\n"
     ]
    }
   ],
   "source": [
    "require(lubridate)\n",
    "#library(tidyverse)\n",
    "\n",
    "df <- df %>% mutate(Workout.Date=ymd(Workout.Date))\n",
    "df <- df %>% mutate(Date.Submitted=ymd(Date.Submitted))\n",
    "df$day <- weekdays(as.Date(df$Workout.Date))\n",
    "df$dayofmonth <- day(as.Date(df$Workout.Date))\n",
    "df$month <- months(as.Date(df$Workout.Date))\n",
    "df$year <- format(as.Date(df$Workout.Date, format=\"%M/%d/%Y\"),\"%Y\")\n"
   ]
  },
  {
   "cell_type": "code",
   "execution_count": 17,
   "metadata": {
    "vscode": {
     "languageId": "r"
    }
   },
   "outputs": [
    {
     "data": {
      "text/html": [
       "<table class=\"dataframe\">\n",
       "<caption>A data.frame: 1 × 20</caption>\n",
       "<thead>\n",
       "\t<tr><th></th><th scope=col>Date.Submitted</th><th scope=col>Workout.Date</th><th scope=col>Activity.Type</th><th scope=col>Calories.Burned..kCal.</th><th scope=col>Distance..mi.</th><th scope=col>Workout.Time..seconds.</th><th scope=col>Avg.Pace..min.mi.</th><th scope=col>Max.Pace..min.mi.</th><th scope=col>Avg.Speed..mi.h.</th><th scope=col>Max.Speed..mi.h.</th><th scope=col>Avg.Heart.Rate</th><th scope=col>Steps</th><th scope=col>Notes</th><th scope=col>Source</th><th scope=col>Link</th><th scope=col>duration</th><th scope=col>day</th><th scope=col>dayofmonth</th><th scope=col>month</th><th scope=col>year</th></tr>\n",
       "\t<tr><th></th><th scope=col>&lt;date&gt;</th><th scope=col>&lt;date&gt;</th><th scope=col>&lt;chr&gt;</th><th scope=col>&lt;int&gt;</th><th scope=col>&lt;dbl&gt;</th><th scope=col>&lt;int&gt;</th><th scope=col>&lt;dbl&gt;</th><th scope=col>&lt;dbl&gt;</th><th scope=col>&lt;dbl&gt;</th><th scope=col>&lt;dbl&gt;</th><th scope=col>&lt;int&gt;</th><th scope=col>&lt;int&gt;</th><th scope=col>&lt;chr&gt;</th><th scope=col>&lt;chr&gt;</th><th scope=col>&lt;chr&gt;</th><th scope=col>&lt;dbl&gt;</th><th scope=col>&lt;chr&gt;</th><th scope=col>&lt;int&gt;</th><th scope=col>&lt;chr&gt;</th><th scope=col>&lt;chr&gt;</th></tr>\n",
       "</thead>\n",
       "<tbody>\n",
       "\t<tr><th scope=row>1</th><td>NA</td><td>NA</td><td>Run</td><td>610</td><td>4.73411</td><td>3953</td><td>13.9142</td><td>8.96704</td><td>4.31215</td><td>6.69117</td><td>119</td><td>8206</td><td>b''</td><td>Map My Fitness MapMyRun iPhone</td><td>http://www.mapmyfitness.com/workout/6807953053</td><td>65.88333</td><td>NA</td><td>NA</td><td>NA</td><td>NA</td></tr>\n",
       "</tbody>\n",
       "</table>\n"
      ],
      "text/latex": [
       "A data.frame: 1 × 20\n",
       "\\begin{tabular}{r|llllllllllllllllllll}\n",
       "  & Date.Submitted & Workout.Date & Activity.Type & Calories.Burned..kCal. & Distance..mi. & Workout.Time..seconds. & Avg.Pace..min.mi. & Max.Pace..min.mi. & Avg.Speed..mi.h. & Max.Speed..mi.h. & Avg.Heart.Rate & Steps & Notes & Source & Link & duration & day & dayofmonth & month & year\\\\\n",
       "  & <date> & <date> & <chr> & <int> & <dbl> & <int> & <dbl> & <dbl> & <dbl> & <dbl> & <int> & <int> & <chr> & <chr> & <chr> & <dbl> & <chr> & <int> & <chr> & <chr>\\\\\n",
       "\\hline\n",
       "\t1 & NA & NA & Run & 610 & 4.73411 & 3953 & 13.9142 & 8.96704 & 4.31215 & 6.69117 & 119 & 8206 & b'' & Map My Fitness MapMyRun iPhone & http://www.mapmyfitness.com/workout/6807953053 & 65.88333 & NA & NA & NA & NA\\\\\n",
       "\\end{tabular}\n"
      ],
      "text/markdown": [
       "\n",
       "A data.frame: 1 × 20\n",
       "\n",
       "| <!--/--> | Date.Submitted &lt;date&gt; | Workout.Date &lt;date&gt; | Activity.Type &lt;chr&gt; | Calories.Burned..kCal. &lt;int&gt; | Distance..mi. &lt;dbl&gt; | Workout.Time..seconds. &lt;int&gt; | Avg.Pace..min.mi. &lt;dbl&gt; | Max.Pace..min.mi. &lt;dbl&gt; | Avg.Speed..mi.h. &lt;dbl&gt; | Max.Speed..mi.h. &lt;dbl&gt; | Avg.Heart.Rate &lt;int&gt; | Steps &lt;int&gt; | Notes &lt;chr&gt; | Source &lt;chr&gt; | Link &lt;chr&gt; | duration &lt;dbl&gt; | day &lt;chr&gt; | dayofmonth &lt;int&gt; | month &lt;chr&gt; | year &lt;chr&gt; |\n",
       "|---|---|---|---|---|---|---|---|---|---|---|---|---|---|---|---|---|---|---|---|---|\n",
       "| 1 | NA | NA | Run | 610 | 4.73411 | 3953 | 13.9142 | 8.96704 | 4.31215 | 6.69117 | 119 | 8206 | b'' | Map My Fitness MapMyRun iPhone | http://www.mapmyfitness.com/workout/6807953053 | 65.88333 | NA | NA | NA | NA |\n",
       "\n"
      ],
      "text/plain": [
       "  Date.Submitted Workout.Date Activity.Type Calories.Burned..kCal.\n",
       "1 <NA>           <NA>         Run           610                   \n",
       "  Distance..mi. Workout.Time..seconds. Avg.Pace..min.mi. Max.Pace..min.mi.\n",
       "1 4.73411       3953                   13.9142           8.96704          \n",
       "  Avg.Speed..mi.h. Max.Speed..mi.h. Avg.Heart.Rate Steps Notes\n",
       "1 4.31215          6.69117          119            8206  b''  \n",
       "  Source                         Link                                          \n",
       "1 Map My Fitness MapMyRun iPhone http://www.mapmyfitness.com/workout/6807953053\n",
       "  duration day dayofmonth month year\n",
       "1 65.88333 NA  NA         NA    NA  "
      ]
     },
     "metadata": {},
     "output_type": "display_data"
    }
   ],
   "source": [
    "head(df, 1)"
   ]
  },
  {
   "cell_type": "code",
   "execution_count": 18,
   "metadata": {
    "vscode": {
     "languageId": "r"
    }
   },
   "outputs": [
    {
     "data": {
      "text/html": [
       "<table class=\"dataframe\">\n",
       "<caption>A data.frame: 2 × 16</caption>\n",
       "<thead>\n",
       "\t<tr><th></th><th scope=col>Date.Sub</th><th scope=col>Date</th><th scope=col>Activity</th><th scope=col>Cal.Burned</th><th scope=col>Distance</th><th scope=col>Duration</th><th scope=col>Avg.Pace</th><th scope=col>Max.Pace</th><th scope=col>Avg.Spd</th><th scope=col>Max.Spd</th><th scope=col>Avg.HR</th><th scope=col>Steps</th><th scope=col>Notes</th><th scope=col>Source</th><th scope=col>Link</th><th scope=col>Minutes</th></tr>\n",
       "\t<tr><th></th><th scope=col>&lt;chr&gt;</th><th scope=col>&lt;chr&gt;</th><th scope=col>&lt;chr&gt;</th><th scope=col>&lt;int&gt;</th><th scope=col>&lt;dbl&gt;</th><th scope=col>&lt;int&gt;</th><th scope=col>&lt;dbl&gt;</th><th scope=col>&lt;dbl&gt;</th><th scope=col>&lt;dbl&gt;</th><th scope=col>&lt;dbl&gt;</th><th scope=col>&lt;int&gt;</th><th scope=col>&lt;int&gt;</th><th scope=col>&lt;chr&gt;</th><th scope=col>&lt;chr&gt;</th><th scope=col>&lt;chr&gt;</th><th scope=col>&lt;dbl&gt;</th></tr>\n",
       "</thead>\n",
       "<tbody>\n",
       "\t<tr><th scope=row>1</th><td>Aug. 27, 2022</td><td>Aug. 27, 2022</td><td>Run             </td><td>610</td><td>4.73411</td><td>3953</td><td>13.9142</td><td>8.96704</td><td>4.31215</td><td>6.69117</td><td>119</td><td>8206</td><td>b''</td><td>Map My Fitness MapMyRun iPhone</td><td>http://www.mapmyfitness.com/workout/6807953053</td><td>65.88333</td></tr>\n",
       "\t<tr><th scope=row>2</th><td>Aug. 26, 2022</td><td>Aug. 26, 2022</td><td>Indoor Run / Jog</td><td>414</td><td>3.10000</td><td>1801</td><td> 9.6828</td><td>9.65946</td><td>6.19656</td><td>6.21153</td><td>142</td><td>4616</td><td>b''</td><td>Map My Fitness MapMyRun iPhone</td><td>http://www.mapmyfitness.com/workout/6806142556</td><td>30.01667</td></tr>\n",
       "</tbody>\n",
       "</table>\n"
      ],
      "text/latex": [
       "A data.frame: 2 × 16\n",
       "\\begin{tabular}{r|llllllllllllllll}\n",
       "  & Date.Sub & Date & Activity & Cal.Burned & Distance & Duration & Avg.Pace & Max.Pace & Avg.Spd & Max.Spd & Avg.HR & Steps & Notes & Source & Link & Minutes\\\\\n",
       "  & <chr> & <chr> & <chr> & <int> & <dbl> & <int> & <dbl> & <dbl> & <dbl> & <dbl> & <int> & <int> & <chr> & <chr> & <chr> & <dbl>\\\\\n",
       "\\hline\n",
       "\t1 & Aug. 27, 2022 & Aug. 27, 2022 & Run              & 610 & 4.73411 & 3953 & 13.9142 & 8.96704 & 4.31215 & 6.69117 & 119 & 8206 & b'' & Map My Fitness MapMyRun iPhone & http://www.mapmyfitness.com/workout/6807953053 & 65.88333\\\\\n",
       "\t2 & Aug. 26, 2022 & Aug. 26, 2022 & Indoor Run / Jog & 414 & 3.10000 & 1801 &  9.6828 & 9.65946 & 6.19656 & 6.21153 & 142 & 4616 & b'' & Map My Fitness MapMyRun iPhone & http://www.mapmyfitness.com/workout/6806142556 & 30.01667\\\\\n",
       "\\end{tabular}\n"
      ],
      "text/markdown": [
       "\n",
       "A data.frame: 2 × 16\n",
       "\n",
       "| <!--/--> | Date.Sub &lt;chr&gt; | Date &lt;chr&gt; | Activity &lt;chr&gt; | Cal.Burned &lt;int&gt; | Distance &lt;dbl&gt; | Duration &lt;int&gt; | Avg.Pace &lt;dbl&gt; | Max.Pace &lt;dbl&gt; | Avg.Spd &lt;dbl&gt; | Max.Spd &lt;dbl&gt; | Avg.HR &lt;int&gt; | Steps &lt;int&gt; | Notes &lt;chr&gt; | Source &lt;chr&gt; | Link &lt;chr&gt; | Minutes &lt;dbl&gt; |\n",
       "|---|---|---|---|---|---|---|---|---|---|---|---|---|---|---|---|---|\n",
       "| 1 | Aug. 27, 2022 | Aug. 27, 2022 | Run              | 610 | 4.73411 | 3953 | 13.9142 | 8.96704 | 4.31215 | 6.69117 | 119 | 8206 | b'' | Map My Fitness MapMyRun iPhone | http://www.mapmyfitness.com/workout/6807953053 | 65.88333 |\n",
       "| 2 | Aug. 26, 2022 | Aug. 26, 2022 | Indoor Run / Jog | 414 | 3.10000 | 1801 |  9.6828 | 9.65946 | 6.19656 | 6.21153 | 142 | 4616 | b'' | Map My Fitness MapMyRun iPhone | http://www.mapmyfitness.com/workout/6806142556 | 30.01667 |\n",
       "\n"
      ],
      "text/plain": [
       "  Date.Sub      Date          Activity         Cal.Burned Distance Duration\n",
       "1 Aug. 27, 2022 Aug. 27, 2022 Run              610        4.73411  3953    \n",
       "2 Aug. 26, 2022 Aug. 26, 2022 Indoor Run / Jog 414        3.10000  1801    \n",
       "  Avg.Pace Max.Pace Avg.Spd Max.Spd Avg.HR Steps Notes\n",
       "1 13.9142  8.96704  4.31215 6.69117 119    8206  b''  \n",
       "2  9.6828  9.65946  6.19656 6.21153 142    4616  b''  \n",
       "  Source                         Link                                          \n",
       "1 Map My Fitness MapMyRun iPhone http://www.mapmyfitness.com/workout/6807953053\n",
       "2 Map My Fitness MapMyRun iPhone http://www.mapmyfitness.com/workout/6806142556\n",
       "  Minutes \n",
       "1 65.88333\n",
       "2 30.01667"
      ]
     },
     "metadata": {},
     "output_type": "display_data"
    }
   ],
   "source": [
    "names(run_data)[names(run_data) == \"Workout.Date\"] <- \"Date\"\n",
    "names(run_data)[names(run_data) == \"Date.Submitted\"] <- \"Date.Sub\"\n",
    "names(run_data)[names(run_data) == \"Workout.Time..seconds.\"] <- \"Duration\"\n",
    "names(run_data)[names(run_data) == \"Distance..mi.\"] <- \"Distance\"\n",
    "names(run_data)[names(run_data) == \"minutes\"] <- \"minutes\"\n",
    "names(run_data)[names(run_data) == \"Activity.Type\"] <- \"Activity\"\n",
    "names(run_data)[names(run_data) == \"Avg.Pace..min.mi.\"] <- \"Avg.Pace\"\n",
    "names(run_data)[names(run_data) == \"Max.Pace..min.mi.\"] <- \"Max.Pace\"\n",
    "names(run_data)[names(run_data) == \"Avg.Speed..mi.h.\"] <- \"Avg.Spd\"\n",
    "names(run_data)[names(run_data) == \"Avg.Heart.Rate\"] <- \"Avg.HR\"\n",
    "names(run_data)[names(run_data) == \"Max.Speed..mi.h.\"] <- \"Max.Spd\"\n",
    "names(run_data)[names(run_data) == \"Calories.Burned..kCal.\"] <- \"Cal.Burned\"\n",
    "names(run_data)[names(run_data) == \"duration\"] <- \"Minutes\"\n",
    "head(run_data, 2)"
   ]
  },
  {
   "cell_type": "code",
   "execution_count": 19,
   "metadata": {
    "vscode": {
     "languageId": "r"
    }
   },
   "outputs": [],
   "source": [
    "df <- within(run_data, rm('Link', 'Notes', 'Source'))\n",
    "#df$minutes <- round(df$minutes, digits = 2)"
   ]
  },
  {
   "cell_type": "code",
   "execution_count": 20,
   "metadata": {
    "vscode": {
     "languageId": "r"
    }
   },
   "outputs": [
    {
     "data": {
      "text/html": [
       "<table class=\"dataframe\">\n",
       "<caption>A data.frame: 1 × 13</caption>\n",
       "<thead>\n",
       "\t<tr><th></th><th scope=col>Date.Sub</th><th scope=col>Date</th><th scope=col>Activity</th><th scope=col>Cal.Burned</th><th scope=col>Distance</th><th scope=col>Duration</th><th scope=col>Avg.Pace</th><th scope=col>Max.Pace</th><th scope=col>Avg.Spd</th><th scope=col>Max.Spd</th><th scope=col>Avg.HR</th><th scope=col>Steps</th><th scope=col>Minutes</th></tr>\n",
       "\t<tr><th></th><th scope=col>&lt;chr&gt;</th><th scope=col>&lt;chr&gt;</th><th scope=col>&lt;chr&gt;</th><th scope=col>&lt;int&gt;</th><th scope=col>&lt;dbl&gt;</th><th scope=col>&lt;int&gt;</th><th scope=col>&lt;dbl&gt;</th><th scope=col>&lt;dbl&gt;</th><th scope=col>&lt;dbl&gt;</th><th scope=col>&lt;dbl&gt;</th><th scope=col>&lt;int&gt;</th><th scope=col>&lt;int&gt;</th><th scope=col>&lt;dbl&gt;</th></tr>\n",
       "</thead>\n",
       "<tbody>\n",
       "\t<tr><th scope=row>1</th><td>Aug. 27, 2022</td><td>Aug. 27, 2022</td><td>Run</td><td>610</td><td>4.73411</td><td>3953</td><td>13.9142</td><td>8.96704</td><td>4.31215</td><td>6.69117</td><td>119</td><td>8206</td><td>65.88333</td></tr>\n",
       "</tbody>\n",
       "</table>\n"
      ],
      "text/latex": [
       "A data.frame: 1 × 13\n",
       "\\begin{tabular}{r|lllllllllllll}\n",
       "  & Date.Sub & Date & Activity & Cal.Burned & Distance & Duration & Avg.Pace & Max.Pace & Avg.Spd & Max.Spd & Avg.HR & Steps & Minutes\\\\\n",
       "  & <chr> & <chr> & <chr> & <int> & <dbl> & <int> & <dbl> & <dbl> & <dbl> & <dbl> & <int> & <int> & <dbl>\\\\\n",
       "\\hline\n",
       "\t1 & Aug. 27, 2022 & Aug. 27, 2022 & Run & 610 & 4.73411 & 3953 & 13.9142 & 8.96704 & 4.31215 & 6.69117 & 119 & 8206 & 65.88333\\\\\n",
       "\\end{tabular}\n"
      ],
      "text/markdown": [
       "\n",
       "A data.frame: 1 × 13\n",
       "\n",
       "| <!--/--> | Date.Sub &lt;chr&gt; | Date &lt;chr&gt; | Activity &lt;chr&gt; | Cal.Burned &lt;int&gt; | Distance &lt;dbl&gt; | Duration &lt;int&gt; | Avg.Pace &lt;dbl&gt; | Max.Pace &lt;dbl&gt; | Avg.Spd &lt;dbl&gt; | Max.Spd &lt;dbl&gt; | Avg.HR &lt;int&gt; | Steps &lt;int&gt; | Minutes &lt;dbl&gt; |\n",
       "|---|---|---|---|---|---|---|---|---|---|---|---|---|---|\n",
       "| 1 | Aug. 27, 2022 | Aug. 27, 2022 | Run | 610 | 4.73411 | 3953 | 13.9142 | 8.96704 | 4.31215 | 6.69117 | 119 | 8206 | 65.88333 |\n",
       "\n"
      ],
      "text/plain": [
       "  Date.Sub      Date          Activity Cal.Burned Distance Duration Avg.Pace\n",
       "1 Aug. 27, 2022 Aug. 27, 2022 Run      610        4.73411  3953     13.9142 \n",
       "  Max.Pace Avg.Spd Max.Spd Avg.HR Steps Minutes \n",
       "1 8.96704  4.31215 6.69117 119    8206  65.88333"
      ]
     },
     "metadata": {},
     "output_type": "display_data"
    }
   ],
   "source": [
    "head(df, 1)"
   ]
  },
  {
   "cell_type": "code",
   "execution_count": 21,
   "metadata": {
    "vscode": {
     "languageId": "r"
    }
   },
   "outputs": [
    {
     "name": "stderr",
     "output_type": "stream",
     "text": [
      "Warning message:\n",
      "\"All formats failed to parse. No formats found.\"\n",
      "Warning message:\n",
      "\"All formats failed to parse. No formats found.\"\n"
     ]
    }
   ],
   "source": [
    "require(lubridate)\n",
    "#library(tidyverse)\n",
    "\n",
    "df <- df %>% mutate(Date=ymd(Date))\n",
    "df <- df %>% mutate(Date.Sub=ymd(Date.Sub))\n",
    "\n",
    "df$day <- weekdays(as.Date(df$Date))\n",
    "df$dayofmonth <- day(as.Date(df$Date))\n",
    "df$month <- months(as.Date(df$Date))\n",
    "df$year <- format(as.Date(df$Date, format=\"%M/%d/%Y\"),\"%Y\")"
   ]
  },
  {
   "cell_type": "code",
   "execution_count": 22,
   "metadata": {
    "vscode": {
     "languageId": "r"
    }
   },
   "outputs": [],
   "source": [
    "#df$minutes <- as.numeric(as.character(df$minutes))\n",
    "df <- df %>% mutate_if(is.numeric, round, digits = 2)"
   ]
  },
  {
   "cell_type": "code",
   "execution_count": 23,
   "metadata": {
    "vscode": {
     "languageId": "r"
    }
   },
   "outputs": [
    {
     "data": {
      "text/html": [
       "<table class=\"dataframe\">\n",
       "<caption>A data.frame: 721 × 17</caption>\n",
       "<thead>\n",
       "\t<tr><th scope=col>Date.Sub</th><th scope=col>Date</th><th scope=col>Activity</th><th scope=col>Cal.Burned</th><th scope=col>Distance</th><th scope=col>Duration</th><th scope=col>Avg.Pace</th><th scope=col>Max.Pace</th><th scope=col>Avg.Spd</th><th scope=col>Max.Spd</th><th scope=col>Avg.HR</th><th scope=col>Steps</th><th scope=col>Minutes</th><th scope=col>day</th><th scope=col>dayofmonth</th><th scope=col>month</th><th scope=col>year</th></tr>\n",
       "\t<tr><th scope=col>&lt;date&gt;</th><th scope=col>&lt;date&gt;</th><th scope=col>&lt;chr&gt;</th><th scope=col>&lt;dbl&gt;</th><th scope=col>&lt;dbl&gt;</th><th scope=col>&lt;dbl&gt;</th><th scope=col>&lt;dbl&gt;</th><th scope=col>&lt;dbl&gt;</th><th scope=col>&lt;dbl&gt;</th><th scope=col>&lt;dbl&gt;</th><th scope=col>&lt;dbl&gt;</th><th scope=col>&lt;dbl&gt;</th><th scope=col>&lt;dbl&gt;</th><th scope=col>&lt;chr&gt;</th><th scope=col>&lt;dbl&gt;</th><th scope=col>&lt;chr&gt;</th><th scope=col>&lt;chr&gt;</th></tr>\n",
       "</thead>\n",
       "<tbody>\n",
       "\t<tr><td>NA</td><td>NA</td><td>Run             </td><td> 610</td><td> 4.73</td><td> 3953</td><td>13.91</td><td> 8.97</td><td>4.31</td><td>  6.69</td><td>119</td><td> 8206</td><td> 65.88</td><td>NA</td><td>NA</td><td>NA</td><td>NA</td></tr>\n",
       "\t<tr><td>NA</td><td>NA</td><td>Indoor Run / Jog</td><td> 414</td><td> 3.10</td><td> 1801</td><td> 9.68</td><td> 9.66</td><td>6.20</td><td>  6.21</td><td>142</td><td> 4616</td><td> 30.02</td><td>NA</td><td>NA</td><td>NA</td><td>NA</td></tr>\n",
       "\t<tr><td>NA</td><td>NA</td><td>Indoor Run / Jog</td><td> 414</td><td> 3.10</td><td> 1801</td><td> 9.68</td><td> 9.96</td><td>6.20</td><td>  6.03</td><td>144</td><td> 4599</td><td> 30.02</td><td>NA</td><td>NA</td><td>NA</td><td>NA</td></tr>\n",
       "\t<tr><td>NA</td><td>NA</td><td>Run             </td><td>1544</td><td>13.11</td><td>11065</td><td>14.07</td><td> 7.71</td><td>4.27</td><td>  7.78</td><td>140</td><td>22531</td><td>184.42</td><td>NA</td><td>NA</td><td>NA</td><td>NA</td></tr>\n",
       "\t<tr><td>NA</td><td>NA</td><td>Indoor Run / Jog</td><td> 859</td><td> 6.56</td><td> 3600</td><td> 9.15</td><td>10.37</td><td>6.56</td><td>  5.79</td><td>147</td><td> 9295</td><td> 60.00</td><td>NA</td><td>NA</td><td>NA</td><td>NA</td></tr>\n",
       "\t<tr><td>NA</td><td>NA</td><td>Indoor Run / Jog</td><td> 632</td><td> 4.74</td><td> 3600</td><td>12.66</td><td>10.42</td><td>4.74</td><td>  5.76</td><td>122</td><td> 8146</td><td> 60.00</td><td>NA</td><td>NA</td><td>NA</td><td>NA</td></tr>\n",
       "\t<tr><td>NA</td><td>NA</td><td>Run             </td><td> 618</td><td> 6.38</td><td> 4663</td><td>12.17</td><td> 8.82</td><td>4.93</td><td>  6.80</td><td>128</td><td>11001</td><td> 77.72</td><td>NA</td><td>NA</td><td>NA</td><td>NA</td></tr>\n",
       "\t<tr><td>NA</td><td>NA</td><td>Indoor Run / Jog</td><td> 831</td><td> 6.21</td><td> 3617</td><td> 9.71</td><td> 9.71</td><td>6.18</td><td>  6.18</td><td>144</td><td> 9306</td><td> 60.28</td><td>NA</td><td>NA</td><td>NA</td><td>NA</td></tr>\n",
       "\t<tr><td>NA</td><td>NA</td><td>Run             </td><td> 576</td><td> 4.63</td><td> 3712</td><td>13.37</td><td> 1.55</td><td>4.49</td><td> 38.80</td><td>116</td><td> 7878</td><td> 61.87</td><td>NA</td><td>NA</td><td>NA</td><td>NA</td></tr>\n",
       "\t<tr><td>NA</td><td>NA</td><td>Run             </td><td> 863</td><td> 7.02</td><td> 4441</td><td>10.54</td><td> 0.97</td><td>5.69</td><td> 62.01</td><td>144</td><td>11520</td><td> 74.02</td><td>NA</td><td>NA</td><td>NA</td><td>NA</td></tr>\n",
       "\t<tr><td>NA</td><td>NA</td><td>Run             </td><td> 626</td><td> 6.35</td><td> 4274</td><td>11.21</td><td> 1.05</td><td>5.35</td><td> 57.02</td><td>145</td><td>11074</td><td> 71.23</td><td>NA</td><td>NA</td><td>NA</td><td>NA</td></tr>\n",
       "\t<tr><td>NA</td><td>NA</td><td>Run             </td><td> 797</td><td> 6.35</td><td> 4013</td><td>10.53</td><td> 0.50</td><td>5.70</td><td>119.16</td><td>146</td><td>10360</td><td> 66.88</td><td>NA</td><td>NA</td><td>NA</td><td>NA</td></tr>\n",
       "\t<tr><td>NA</td><td>NA</td><td>Walk            </td><td> 290</td><td> 2.14</td><td> 2267</td><td>17.64</td><td> 2.31</td><td>3.40</td><td> 25.99</td><td>119</td><td> 4141</td><td> 37.78</td><td>NA</td><td>NA</td><td>NA</td><td>NA</td></tr>\n",
       "\t<tr><td>NA</td><td>NA</td><td>Run             </td><td> 311</td><td> 2.37</td><td> 1410</td><td> 9.91</td><td> 0.95</td><td>6.05</td><td> 62.99</td><td>152</td><td> 3639</td><td> 23.50</td><td>NA</td><td>NA</td><td>NA</td><td>NA</td></tr>\n",
       "\t<tr><td>NA</td><td>NA</td><td>Run             </td><td> 820</td><td> 6.09</td><td> 3600</td><td> 9.85</td><td> 0.00</td><td>6.09</td><td>  0.00</td><td> NA</td><td> 9545</td><td> 60.00</td><td>NA</td><td>NA</td><td>NA</td><td>NA</td></tr>\n",
       "\t<tr><td>NA</td><td>NA</td><td>Run             </td><td>1117</td><td> 8.00</td><td> 5187</td><td>10.81</td><td> 0.00</td><td>5.55</td><td>  0.00</td><td> NA</td><td>13634</td><td> 86.45</td><td>NA</td><td>NA</td><td>NA</td><td>NA</td></tr>\n",
       "\t<tr><td>NA</td><td>NA</td><td>Run             </td><td> 314</td><td> 3.16</td><td> 1905</td><td>10.06</td><td> 0.38</td><td>5.96</td><td>158.18</td><td>158</td><td> 5020</td><td> 31.75</td><td>NA</td><td>NA</td><td>NA</td><td>NA</td></tr>\n",
       "\t<tr><td>NA</td><td>NA</td><td>Run             </td><td> 430</td><td> 4.26</td><td> 6268</td><td>24.48</td><td> 0.83</td><td>2.45</td><td> 72.12</td><td> 87</td><td> 8227</td><td>104.47</td><td>NA</td><td>NA</td><td>NA</td><td>NA</td></tr>\n",
       "\t<tr><td>NA</td><td>NA</td><td>Run             </td><td> 415</td><td> 3.10</td><td> 1805</td><td> 9.70</td><td> 0.00</td><td>6.18</td><td>  0.00</td><td> NA</td><td> 4793</td><td> 30.08</td><td>NA</td><td>NA</td><td>NA</td><td>NA</td></tr>\n",
       "\t<tr><td>NA</td><td>NA</td><td>Walk            </td><td> 227</td><td> 1.60</td><td> 1657</td><td>17.21</td><td> 1.70</td><td>3.49</td><td> 35.29</td><td>131</td><td> 3001</td><td> 27.62</td><td>NA</td><td>NA</td><td>NA</td><td>NA</td></tr>\n",
       "\t<tr><td>NA</td><td>NA</td><td>Run             </td><td> 422</td><td> 3.10</td><td> 1857</td><td> 9.98</td><td> 1.21</td><td>6.01</td><td> 49.56</td><td>158</td><td> 4849</td><td> 30.95</td><td>NA</td><td>NA</td><td>NA</td><td>NA</td></tr>\n",
       "\t<tr><td>NA</td><td>NA</td><td>Run             </td><td> 836</td><td> 6.20</td><td> 3689</td><td> 9.92</td><td> 0.00</td><td>6.05</td><td>  0.00</td><td> NA</td><td> 9775</td><td> 61.48</td><td>NA</td><td>NA</td><td>NA</td><td>NA</td></tr>\n",
       "\t<tr><td>NA</td><td>NA</td><td>Run             </td><td>1175</td><td> 9.00</td><td> 5709</td><td>10.57</td><td> 0.46</td><td>5.68</td><td>130.30</td><td>143</td><td>14918</td><td> 95.15</td><td>NA</td><td>NA</td><td>NA</td><td>NA</td></tr>\n",
       "\t<tr><td>NA</td><td>NA</td><td>Run             </td><td> 404</td><td> 3.10</td><td> 1593</td><td> 8.56</td><td> 0.00</td><td>7.01</td><td>  0.00</td><td> NA</td><td> 4286</td><td> 26.55</td><td>NA</td><td>NA</td><td>NA</td><td>NA</td></tr>\n",
       "\t<tr><td>NA</td><td>NA</td><td>Run             </td><td> 405</td><td> 3.10</td><td> 1698</td><td> 9.13</td><td> 0.00</td><td>6.57</td><td>  0.00</td><td> NA</td><td> 4537</td><td> 28.30</td><td>NA</td><td>NA</td><td>NA</td><td>NA</td></tr>\n",
       "\t<tr><td>NA</td><td>NA</td><td>Run             </td><td> 452</td><td> 3.76</td><td> 2157</td><td> 9.56</td><td> 1.00</td><td>6.27</td><td> 59.92</td><td>148</td><td> 5684</td><td> 35.95</td><td>NA</td><td>NA</td><td>NA</td><td>NA</td></tr>\n",
       "\t<tr><td>NA</td><td>NA</td><td>Run             </td><td> 398</td><td> 3.11</td><td> 1912</td><td>10.25</td><td> 1.09</td><td>5.85</td><td> 54.80</td><td>150</td><td> 4991</td><td> 31.87</td><td>NA</td><td>NA</td><td>NA</td><td>NA</td></tr>\n",
       "\t<tr><td>NA</td><td>NA</td><td>Run             </td><td> 421</td><td> 3.11</td><td> 1968</td><td>10.55</td><td> 1.07</td><td>5.69</td><td> 56.08</td><td>155</td><td> 5134</td><td> 32.80</td><td>NA</td><td>NA</td><td>NA</td><td>NA</td></tr>\n",
       "\t<tr><td>NA</td><td>NA</td><td>Run             </td><td> 197</td><td> 2.00</td><td> 1409</td><td>11.74</td><td> 1.91</td><td>5.11</td><td> 31.34</td><td>145</td><td> 3302</td><td> 23.48</td><td>NA</td><td>NA</td><td>NA</td><td>NA</td></tr>\n",
       "\t<tr><td>NA</td><td>NA</td><td>Run             </td><td> 429</td><td> 3.10</td><td> 2301</td><td>12.37</td><td> 0.99</td><td>4.85</td><td> 60.41</td><td>149</td><td> 5125</td><td> 38.35</td><td>NA</td><td>NA</td><td>NA</td><td>NA</td></tr>\n",
       "\t<tr><td>...</td><td>...</td><td>...</td><td>...</td><td>...</td><td>...</td><td>...</td><td>...</td><td>...</td><td>...</td><td>...</td><td>...</td><td>...</td><td>...</td><td>...</td><td>...</td><td>...</td></tr>\n",
       "\t<tr><td>NA</td><td>NA</td><td>Weight Workout  </td><td>215</td><td>0.00</td><td>1560</td><td> 0.00</td><td>  0.00</td><td>0.00</td><td> 0.00</td><td>  0</td><td>  NA</td><td>26.00</td><td>NA</td><td>NA</td><td>NA</td><td>NA</td></tr>\n",
       "\t<tr><td>NA</td><td>NA</td><td>Run             </td><td>238</td><td>2.33</td><td>2307</td><td>16.50</td><td>  0.00</td><td>3.64</td><td> 0.00</td><td> NA</td><td>5811</td><td>38.45</td><td>NA</td><td>NA</td><td>NA</td><td>NA</td></tr>\n",
       "\t<tr><td>NA</td><td>NA</td><td>Weight Workout  </td><td>215</td><td>0.00</td><td>1560</td><td> 0.00</td><td>  0.00</td><td>0.00</td><td> 0.00</td><td>  0</td><td>  NA</td><td>26.00</td><td>NA</td><td>NA</td><td>NA</td><td>NA</td></tr>\n",
       "\t<tr><td>NA</td><td>NA</td><td>Walk            </td><td>323</td><td>3.15</td><td>3080</td><td>16.30</td><td>  0.00</td><td>3.68</td><td> 0.00</td><td> NA</td><td>6202</td><td>51.33</td><td>NA</td><td>NA</td><td>NA</td><td>NA</td></tr>\n",
       "\t<tr><td>NA</td><td>NA</td><td>Run             </td><td>215</td><td>2.09</td><td>1962</td><td>15.65</td><td>  3.21</td><td>3.83</td><td>18.70</td><td>111</td><td>3819</td><td>32.70</td><td>NA</td><td>NA</td><td>NA</td><td>NA</td></tr>\n",
       "\t<tr><td>NA</td><td>NA</td><td>Walk            </td><td>106</td><td>1.04</td><td>1045</td><td>16.75</td><td> 13.55</td><td>3.58</td><td> 4.43</td><td> NA</td><td>1831</td><td>17.42</td><td>NA</td><td>NA</td><td>NA</td><td>NA</td></tr>\n",
       "\t<tr><td>NA</td><td>NA</td><td>Weight Workout  </td><td>211</td><td>0.00</td><td>1526</td><td> 0.00</td><td> 57.79</td><td>0.00</td><td> 1.04</td><td> NA</td><td>  NA</td><td>25.43</td><td>NA</td><td>NA</td><td>NA</td><td>NA</td></tr>\n",
       "\t<tr><td>NA</td><td>NA</td><td>Walk            </td><td>299</td><td>2.78</td><td>2458</td><td>14.74</td><td>  5.71</td><td>4.07</td><td>10.51</td><td>  0</td><td>4676</td><td>40.97</td><td>NA</td><td>NA</td><td>NA</td><td>NA</td></tr>\n",
       "\t<tr><td>NA</td><td>NA</td><td>Walk            </td><td>293</td><td>2.88</td><td>2986</td><td>17.28</td><td>  0.00</td><td>3.47</td><td> 0.00</td><td> 73</td><td>5876</td><td>49.77</td><td>NA</td><td>NA</td><td>NA</td><td>NA</td></tr>\n",
       "\t<tr><td>NA</td><td>NA</td><td>Run             </td><td>190</td><td>1.57</td><td>1307</td><td>13.84</td><td>  1.25</td><td>4.33</td><td>47.97</td><td>116</td><td>2729</td><td>21.78</td><td>NA</td><td>NA</td><td>NA</td><td>NA</td></tr>\n",
       "\t<tr><td>NA</td><td>NA</td><td>Weight Workout  </td><td> 96</td><td>0.00</td><td> 692</td><td> 0.00</td><td>  0.00</td><td>0.00</td><td> 0.00</td><td> NA</td><td>  NA</td><td>11.53</td><td>NA</td><td>NA</td><td>NA</td><td>NA</td></tr>\n",
       "\t<tr><td>NA</td><td>NA</td><td>Walk            </td><td>321</td><td>3.13</td><td>3064</td><td>16.32</td><td> 14.81</td><td>3.68</td><td> 4.05</td><td> NA</td><td>  55</td><td>51.07</td><td>NA</td><td>NA</td><td>NA</td><td>NA</td></tr>\n",
       "\t<tr><td>NA</td><td>NA</td><td>Weight Workout  </td><td> 83</td><td>0.00</td><td> 600</td><td> 0.00</td><td>  0.00</td><td>0.00</td><td> 0.00</td><td> NA</td><td>  NA</td><td>10.00</td><td>NA</td><td>NA</td><td>NA</td><td>NA</td></tr>\n",
       "\t<tr><td>NA</td><td>NA</td><td>Walk            </td><td>249</td><td>2.22</td><td>1921</td><td>14.43</td><td> 13.25</td><td>4.16</td><td> 4.53</td><td>110</td><td>3887</td><td>32.02</td><td>NA</td><td>NA</td><td>NA</td><td>NA</td></tr>\n",
       "\t<tr><td>NA</td><td>NA</td><td>Walk            </td><td>309</td><td>2.99</td><td>2764</td><td>15.41</td><td>  0.00</td><td>3.89</td><td> 0.00</td><td> NA</td><td>5745</td><td>46.07</td><td>NA</td><td>NA</td><td>NA</td><td>NA</td></tr>\n",
       "\t<tr><td>NA</td><td>NA</td><td>Walk            </td><td>316</td><td>3.10</td><td>3180</td><td>17.10</td><td>  0.00</td><td>3.51</td><td> 0.00</td><td> NA</td><td>6289</td><td>53.00</td><td>NA</td><td>NA</td><td>NA</td><td>NA</td></tr>\n",
       "\t<tr><td>NA</td><td>NA</td><td>Weight Workout  </td><td> 79</td><td>0.00</td><td> 600</td><td> 0.00</td><td>  0.00</td><td>0.00</td><td> 0.00</td><td> NA</td><td>  NA</td><td>10.00</td><td>NA</td><td>NA</td><td>NA</td><td>NA</td></tr>\n",
       "\t<tr><td>NA</td><td>NA</td><td>Weight Workout  </td><td> 79</td><td>0.00</td><td> 600</td><td> 0.00</td><td>  0.00</td><td>0.00</td><td> 0.00</td><td> NA</td><td>  NA</td><td>10.00</td><td>NA</td><td>NA</td><td>NA</td><td>NA</td></tr>\n",
       "\t<tr><td>NA</td><td>NA</td><td>Walk            </td><td>307</td><td>3.10</td><td>2866</td><td>15.41</td><td>182.40</td><td>3.89</td><td> 0.33</td><td> NA</td><td>6104</td><td>47.77</td><td>NA</td><td>NA</td><td>NA</td><td>NA</td></tr>\n",
       "\t<tr><td>NA</td><td>NA</td><td>Walk            </td><td>248</td><td>2.22</td><td>1886</td><td>14.16</td><td>  1.40</td><td>4.24</td><td>42.80</td><td>102</td><td>3708</td><td>31.43</td><td>NA</td><td>NA</td><td>NA</td><td>NA</td></tr>\n",
       "\t<tr><td>NA</td><td>NA</td><td>Walk            </td><td>322</td><td>2.22</td><td>3541</td><td>26.36</td><td>  4.21</td><td>2.28</td><td>14.25</td><td> 93</td><td>6149</td><td>59.02</td><td>NA</td><td>NA</td><td>NA</td><td>NA</td></tr>\n",
       "\t<tr><td>NA</td><td>NA</td><td>Walk            </td><td>266</td><td>2.62</td><td>1946</td><td>12.36</td><td>  4.68</td><td>4.85</td><td>12.83</td><td>136</td><td>4074</td><td>32.43</td><td>NA</td><td>NA</td><td>NA</td><td>NA</td></tr>\n",
       "\t<tr><td>NA</td><td>NA</td><td>Run             </td><td>419</td><td>3.11</td><td>2197</td><td>11.69</td><td>  2.06</td><td>5.13</td><td>29.17</td><td>139</td><td>5295</td><td>36.62</td><td>NA</td><td>NA</td><td>NA</td><td>NA</td></tr>\n",
       "\t<tr><td>NA</td><td>NA</td><td>Indoor Run / Jog</td><td>403</td><td>3.13</td><td>2344</td><td>12.48</td><td>  0.00</td><td>4.81</td><td> 0.00</td><td> NA</td><td>6926</td><td>39.07</td><td>NA</td><td>NA</td><td>NA</td><td>NA</td></tr>\n",
       "\t<tr><td>NA</td><td>NA</td><td>Run             </td><td>258</td><td>1.96</td><td>1214</td><td>10.32</td><td>  2.67</td><td>5.82</td><td>22.45</td><td>  0</td><td>3209</td><td>20.23</td><td>NA</td><td>NA</td><td>NA</td><td>NA</td></tr>\n",
       "\t<tr><td>NA</td><td>NA</td><td>Indoor Run / Jog</td><td>191</td><td>1.42</td><td> 927</td><td>10.88</td><td> 17.09</td><td>5.51</td><td> 3.51</td><td>158</td><td>  67</td><td>15.45</td><td>NA</td><td>NA</td><td>NA</td><td>NA</td></tr>\n",
       "\t<tr><td>NA</td><td>NA</td><td>Class Workout   </td><td>186</td><td>0.00</td><td>3600</td><td> 0.00</td><td>  0.00</td><td>0.00</td><td> 0.00</td><td> NA</td><td>  NA</td><td>60.00</td><td>NA</td><td>NA</td><td>NA</td><td>NA</td></tr>\n",
       "\t<tr><td>NA</td><td>NA</td><td>Class Workout   </td><td>183</td><td>0.00</td><td>3600</td><td> 0.00</td><td>  0.00</td><td>0.00</td><td> 0.00</td><td> NA</td><td>  NA</td><td>60.00</td><td>NA</td><td>NA</td><td>NA</td><td>NA</td></tr>\n",
       "\t<tr><td>NA</td><td>NA</td><td>Class Workout   </td><td>186</td><td>0.00</td><td>3600</td><td> 0.00</td><td>  0.00</td><td>0.00</td><td> 0.00</td><td> NA</td><td>  NA</td><td>60.00</td><td>NA</td><td>NA</td><td>NA</td><td>NA</td></tr>\n",
       "\t<tr><td>NA</td><td>NA</td><td>Class Workout   </td><td>189</td><td>0.00</td><td>3600</td><td> 0.00</td><td>  0.00</td><td>0.00</td><td> 0.00</td><td> NA</td><td>  NA</td><td>60.00</td><td>NA</td><td>NA</td><td>NA</td><td>NA</td></tr>\n",
       "</tbody>\n",
       "</table>\n"
      ],
      "text/latex": [
       "A data.frame: 721 × 17\n",
       "\\begin{tabular}{lllllllllllllllll}\n",
       " Date.Sub & Date & Activity & Cal.Burned & Distance & Duration & Avg.Pace & Max.Pace & Avg.Spd & Max.Spd & Avg.HR & Steps & Minutes & day & dayofmonth & month & year\\\\\n",
       " <date> & <date> & <chr> & <dbl> & <dbl> & <dbl> & <dbl> & <dbl> & <dbl> & <dbl> & <dbl> & <dbl> & <dbl> & <chr> & <dbl> & <chr> & <chr>\\\\\n",
       "\\hline\n",
       "\t NA & NA & Run              &  610 &  4.73 &  3953 & 13.91 &  8.97 & 4.31 &   6.69 & 119 &  8206 &  65.88 & NA & NA & NA & NA\\\\\n",
       "\t NA & NA & Indoor Run / Jog &  414 &  3.10 &  1801 &  9.68 &  9.66 & 6.20 &   6.21 & 142 &  4616 &  30.02 & NA & NA & NA & NA\\\\\n",
       "\t NA & NA & Indoor Run / Jog &  414 &  3.10 &  1801 &  9.68 &  9.96 & 6.20 &   6.03 & 144 &  4599 &  30.02 & NA & NA & NA & NA\\\\\n",
       "\t NA & NA & Run              & 1544 & 13.11 & 11065 & 14.07 &  7.71 & 4.27 &   7.78 & 140 & 22531 & 184.42 & NA & NA & NA & NA\\\\\n",
       "\t NA & NA & Indoor Run / Jog &  859 &  6.56 &  3600 &  9.15 & 10.37 & 6.56 &   5.79 & 147 &  9295 &  60.00 & NA & NA & NA & NA\\\\\n",
       "\t NA & NA & Indoor Run / Jog &  632 &  4.74 &  3600 & 12.66 & 10.42 & 4.74 &   5.76 & 122 &  8146 &  60.00 & NA & NA & NA & NA\\\\\n",
       "\t NA & NA & Run              &  618 &  6.38 &  4663 & 12.17 &  8.82 & 4.93 &   6.80 & 128 & 11001 &  77.72 & NA & NA & NA & NA\\\\\n",
       "\t NA & NA & Indoor Run / Jog &  831 &  6.21 &  3617 &  9.71 &  9.71 & 6.18 &   6.18 & 144 &  9306 &  60.28 & NA & NA & NA & NA\\\\\n",
       "\t NA & NA & Run              &  576 &  4.63 &  3712 & 13.37 &  1.55 & 4.49 &  38.80 & 116 &  7878 &  61.87 & NA & NA & NA & NA\\\\\n",
       "\t NA & NA & Run              &  863 &  7.02 &  4441 & 10.54 &  0.97 & 5.69 &  62.01 & 144 & 11520 &  74.02 & NA & NA & NA & NA\\\\\n",
       "\t NA & NA & Run              &  626 &  6.35 &  4274 & 11.21 &  1.05 & 5.35 &  57.02 & 145 & 11074 &  71.23 & NA & NA & NA & NA\\\\\n",
       "\t NA & NA & Run              &  797 &  6.35 &  4013 & 10.53 &  0.50 & 5.70 & 119.16 & 146 & 10360 &  66.88 & NA & NA & NA & NA\\\\\n",
       "\t NA & NA & Walk             &  290 &  2.14 &  2267 & 17.64 &  2.31 & 3.40 &  25.99 & 119 &  4141 &  37.78 & NA & NA & NA & NA\\\\\n",
       "\t NA & NA & Run              &  311 &  2.37 &  1410 &  9.91 &  0.95 & 6.05 &  62.99 & 152 &  3639 &  23.50 & NA & NA & NA & NA\\\\\n",
       "\t NA & NA & Run              &  820 &  6.09 &  3600 &  9.85 &  0.00 & 6.09 &   0.00 &  NA &  9545 &  60.00 & NA & NA & NA & NA\\\\\n",
       "\t NA & NA & Run              & 1117 &  8.00 &  5187 & 10.81 &  0.00 & 5.55 &   0.00 &  NA & 13634 &  86.45 & NA & NA & NA & NA\\\\\n",
       "\t NA & NA & Run              &  314 &  3.16 &  1905 & 10.06 &  0.38 & 5.96 & 158.18 & 158 &  5020 &  31.75 & NA & NA & NA & NA\\\\\n",
       "\t NA & NA & Run              &  430 &  4.26 &  6268 & 24.48 &  0.83 & 2.45 &  72.12 &  87 &  8227 & 104.47 & NA & NA & NA & NA\\\\\n",
       "\t NA & NA & Run              &  415 &  3.10 &  1805 &  9.70 &  0.00 & 6.18 &   0.00 &  NA &  4793 &  30.08 & NA & NA & NA & NA\\\\\n",
       "\t NA & NA & Walk             &  227 &  1.60 &  1657 & 17.21 &  1.70 & 3.49 &  35.29 & 131 &  3001 &  27.62 & NA & NA & NA & NA\\\\\n",
       "\t NA & NA & Run              &  422 &  3.10 &  1857 &  9.98 &  1.21 & 6.01 &  49.56 & 158 &  4849 &  30.95 & NA & NA & NA & NA\\\\\n",
       "\t NA & NA & Run              &  836 &  6.20 &  3689 &  9.92 &  0.00 & 6.05 &   0.00 &  NA &  9775 &  61.48 & NA & NA & NA & NA\\\\\n",
       "\t NA & NA & Run              & 1175 &  9.00 &  5709 & 10.57 &  0.46 & 5.68 & 130.30 & 143 & 14918 &  95.15 & NA & NA & NA & NA\\\\\n",
       "\t NA & NA & Run              &  404 &  3.10 &  1593 &  8.56 &  0.00 & 7.01 &   0.00 &  NA &  4286 &  26.55 & NA & NA & NA & NA\\\\\n",
       "\t NA & NA & Run              &  405 &  3.10 &  1698 &  9.13 &  0.00 & 6.57 &   0.00 &  NA &  4537 &  28.30 & NA & NA & NA & NA\\\\\n",
       "\t NA & NA & Run              &  452 &  3.76 &  2157 &  9.56 &  1.00 & 6.27 &  59.92 & 148 &  5684 &  35.95 & NA & NA & NA & NA\\\\\n",
       "\t NA & NA & Run              &  398 &  3.11 &  1912 & 10.25 &  1.09 & 5.85 &  54.80 & 150 &  4991 &  31.87 & NA & NA & NA & NA\\\\\n",
       "\t NA & NA & Run              &  421 &  3.11 &  1968 & 10.55 &  1.07 & 5.69 &  56.08 & 155 &  5134 &  32.80 & NA & NA & NA & NA\\\\\n",
       "\t NA & NA & Run              &  197 &  2.00 &  1409 & 11.74 &  1.91 & 5.11 &  31.34 & 145 &  3302 &  23.48 & NA & NA & NA & NA\\\\\n",
       "\t NA & NA & Run              &  429 &  3.10 &  2301 & 12.37 &  0.99 & 4.85 &  60.41 & 149 &  5125 &  38.35 & NA & NA & NA & NA\\\\\n",
       "\t ... & ... & ... & ... & ... & ... & ... & ... & ... & ... & ... & ... & ... & ... & ... & ... & ...\\\\\n",
       "\t NA & NA & Weight Workout   & 215 & 0.00 & 1560 &  0.00 &   0.00 & 0.00 &  0.00 &   0 &   NA & 26.00 & NA & NA & NA & NA\\\\\n",
       "\t NA & NA & Run              & 238 & 2.33 & 2307 & 16.50 &   0.00 & 3.64 &  0.00 &  NA & 5811 & 38.45 & NA & NA & NA & NA\\\\\n",
       "\t NA & NA & Weight Workout   & 215 & 0.00 & 1560 &  0.00 &   0.00 & 0.00 &  0.00 &   0 &   NA & 26.00 & NA & NA & NA & NA\\\\\n",
       "\t NA & NA & Walk             & 323 & 3.15 & 3080 & 16.30 &   0.00 & 3.68 &  0.00 &  NA & 6202 & 51.33 & NA & NA & NA & NA\\\\\n",
       "\t NA & NA & Run              & 215 & 2.09 & 1962 & 15.65 &   3.21 & 3.83 & 18.70 & 111 & 3819 & 32.70 & NA & NA & NA & NA\\\\\n",
       "\t NA & NA & Walk             & 106 & 1.04 & 1045 & 16.75 &  13.55 & 3.58 &  4.43 &  NA & 1831 & 17.42 & NA & NA & NA & NA\\\\\n",
       "\t NA & NA & Weight Workout   & 211 & 0.00 & 1526 &  0.00 &  57.79 & 0.00 &  1.04 &  NA &   NA & 25.43 & NA & NA & NA & NA\\\\\n",
       "\t NA & NA & Walk             & 299 & 2.78 & 2458 & 14.74 &   5.71 & 4.07 & 10.51 &   0 & 4676 & 40.97 & NA & NA & NA & NA\\\\\n",
       "\t NA & NA & Walk             & 293 & 2.88 & 2986 & 17.28 &   0.00 & 3.47 &  0.00 &  73 & 5876 & 49.77 & NA & NA & NA & NA\\\\\n",
       "\t NA & NA & Run              & 190 & 1.57 & 1307 & 13.84 &   1.25 & 4.33 & 47.97 & 116 & 2729 & 21.78 & NA & NA & NA & NA\\\\\n",
       "\t NA & NA & Weight Workout   &  96 & 0.00 &  692 &  0.00 &   0.00 & 0.00 &  0.00 &  NA &   NA & 11.53 & NA & NA & NA & NA\\\\\n",
       "\t NA & NA & Walk             & 321 & 3.13 & 3064 & 16.32 &  14.81 & 3.68 &  4.05 &  NA &   55 & 51.07 & NA & NA & NA & NA\\\\\n",
       "\t NA & NA & Weight Workout   &  83 & 0.00 &  600 &  0.00 &   0.00 & 0.00 &  0.00 &  NA &   NA & 10.00 & NA & NA & NA & NA\\\\\n",
       "\t NA & NA & Walk             & 249 & 2.22 & 1921 & 14.43 &  13.25 & 4.16 &  4.53 & 110 & 3887 & 32.02 & NA & NA & NA & NA\\\\\n",
       "\t NA & NA & Walk             & 309 & 2.99 & 2764 & 15.41 &   0.00 & 3.89 &  0.00 &  NA & 5745 & 46.07 & NA & NA & NA & NA\\\\\n",
       "\t NA & NA & Walk             & 316 & 3.10 & 3180 & 17.10 &   0.00 & 3.51 &  0.00 &  NA & 6289 & 53.00 & NA & NA & NA & NA\\\\\n",
       "\t NA & NA & Weight Workout   &  79 & 0.00 &  600 &  0.00 &   0.00 & 0.00 &  0.00 &  NA &   NA & 10.00 & NA & NA & NA & NA\\\\\n",
       "\t NA & NA & Weight Workout   &  79 & 0.00 &  600 &  0.00 &   0.00 & 0.00 &  0.00 &  NA &   NA & 10.00 & NA & NA & NA & NA\\\\\n",
       "\t NA & NA & Walk             & 307 & 3.10 & 2866 & 15.41 & 182.40 & 3.89 &  0.33 &  NA & 6104 & 47.77 & NA & NA & NA & NA\\\\\n",
       "\t NA & NA & Walk             & 248 & 2.22 & 1886 & 14.16 &   1.40 & 4.24 & 42.80 & 102 & 3708 & 31.43 & NA & NA & NA & NA\\\\\n",
       "\t NA & NA & Walk             & 322 & 2.22 & 3541 & 26.36 &   4.21 & 2.28 & 14.25 &  93 & 6149 & 59.02 & NA & NA & NA & NA\\\\\n",
       "\t NA & NA & Walk             & 266 & 2.62 & 1946 & 12.36 &   4.68 & 4.85 & 12.83 & 136 & 4074 & 32.43 & NA & NA & NA & NA\\\\\n",
       "\t NA & NA & Run              & 419 & 3.11 & 2197 & 11.69 &   2.06 & 5.13 & 29.17 & 139 & 5295 & 36.62 & NA & NA & NA & NA\\\\\n",
       "\t NA & NA & Indoor Run / Jog & 403 & 3.13 & 2344 & 12.48 &   0.00 & 4.81 &  0.00 &  NA & 6926 & 39.07 & NA & NA & NA & NA\\\\\n",
       "\t NA & NA & Run              & 258 & 1.96 & 1214 & 10.32 &   2.67 & 5.82 & 22.45 &   0 & 3209 & 20.23 & NA & NA & NA & NA\\\\\n",
       "\t NA & NA & Indoor Run / Jog & 191 & 1.42 &  927 & 10.88 &  17.09 & 5.51 &  3.51 & 158 &   67 & 15.45 & NA & NA & NA & NA\\\\\n",
       "\t NA & NA & Class Workout    & 186 & 0.00 & 3600 &  0.00 &   0.00 & 0.00 &  0.00 &  NA &   NA & 60.00 & NA & NA & NA & NA\\\\\n",
       "\t NA & NA & Class Workout    & 183 & 0.00 & 3600 &  0.00 &   0.00 & 0.00 &  0.00 &  NA &   NA & 60.00 & NA & NA & NA & NA\\\\\n",
       "\t NA & NA & Class Workout    & 186 & 0.00 & 3600 &  0.00 &   0.00 & 0.00 &  0.00 &  NA &   NA & 60.00 & NA & NA & NA & NA\\\\\n",
       "\t NA & NA & Class Workout    & 189 & 0.00 & 3600 &  0.00 &   0.00 & 0.00 &  0.00 &  NA &   NA & 60.00 & NA & NA & NA & NA\\\\\n",
       "\\end{tabular}\n"
      ],
      "text/markdown": [
       "\n",
       "A data.frame: 721 × 17\n",
       "\n",
       "| Date.Sub &lt;date&gt; | Date &lt;date&gt; | Activity &lt;chr&gt; | Cal.Burned &lt;dbl&gt; | Distance &lt;dbl&gt; | Duration &lt;dbl&gt; | Avg.Pace &lt;dbl&gt; | Max.Pace &lt;dbl&gt; | Avg.Spd &lt;dbl&gt; | Max.Spd &lt;dbl&gt; | Avg.HR &lt;dbl&gt; | Steps &lt;dbl&gt; | Minutes &lt;dbl&gt; | day &lt;chr&gt; | dayofmonth &lt;dbl&gt; | month &lt;chr&gt; | year &lt;chr&gt; |\n",
       "|---|---|---|---|---|---|---|---|---|---|---|---|---|---|---|---|---|\n",
       "| NA | NA | Run              |  610 |  4.73 |  3953 | 13.91 |  8.97 | 4.31 |   6.69 | 119 |  8206 |  65.88 | NA | NA | NA | NA |\n",
       "| NA | NA | Indoor Run / Jog |  414 |  3.10 |  1801 |  9.68 |  9.66 | 6.20 |   6.21 | 142 |  4616 |  30.02 | NA | NA | NA | NA |\n",
       "| NA | NA | Indoor Run / Jog |  414 |  3.10 |  1801 |  9.68 |  9.96 | 6.20 |   6.03 | 144 |  4599 |  30.02 | NA | NA | NA | NA |\n",
       "| NA | NA | Run              | 1544 | 13.11 | 11065 | 14.07 |  7.71 | 4.27 |   7.78 | 140 | 22531 | 184.42 | NA | NA | NA | NA |\n",
       "| NA | NA | Indoor Run / Jog |  859 |  6.56 |  3600 |  9.15 | 10.37 | 6.56 |   5.79 | 147 |  9295 |  60.00 | NA | NA | NA | NA |\n",
       "| NA | NA | Indoor Run / Jog |  632 |  4.74 |  3600 | 12.66 | 10.42 | 4.74 |   5.76 | 122 |  8146 |  60.00 | NA | NA | NA | NA |\n",
       "| NA | NA | Run              |  618 |  6.38 |  4663 | 12.17 |  8.82 | 4.93 |   6.80 | 128 | 11001 |  77.72 | NA | NA | NA | NA |\n",
       "| NA | NA | Indoor Run / Jog |  831 |  6.21 |  3617 |  9.71 |  9.71 | 6.18 |   6.18 | 144 |  9306 |  60.28 | NA | NA | NA | NA |\n",
       "| NA | NA | Run              |  576 |  4.63 |  3712 | 13.37 |  1.55 | 4.49 |  38.80 | 116 |  7878 |  61.87 | NA | NA | NA | NA |\n",
       "| NA | NA | Run              |  863 |  7.02 |  4441 | 10.54 |  0.97 | 5.69 |  62.01 | 144 | 11520 |  74.02 | NA | NA | NA | NA |\n",
       "| NA | NA | Run              |  626 |  6.35 |  4274 | 11.21 |  1.05 | 5.35 |  57.02 | 145 | 11074 |  71.23 | NA | NA | NA | NA |\n",
       "| NA | NA | Run              |  797 |  6.35 |  4013 | 10.53 |  0.50 | 5.70 | 119.16 | 146 | 10360 |  66.88 | NA | NA | NA | NA |\n",
       "| NA | NA | Walk             |  290 |  2.14 |  2267 | 17.64 |  2.31 | 3.40 |  25.99 | 119 |  4141 |  37.78 | NA | NA | NA | NA |\n",
       "| NA | NA | Run              |  311 |  2.37 |  1410 |  9.91 |  0.95 | 6.05 |  62.99 | 152 |  3639 |  23.50 | NA | NA | NA | NA |\n",
       "| NA | NA | Run              |  820 |  6.09 |  3600 |  9.85 |  0.00 | 6.09 |   0.00 |  NA |  9545 |  60.00 | NA | NA | NA | NA |\n",
       "| NA | NA | Run              | 1117 |  8.00 |  5187 | 10.81 |  0.00 | 5.55 |   0.00 |  NA | 13634 |  86.45 | NA | NA | NA | NA |\n",
       "| NA | NA | Run              |  314 |  3.16 |  1905 | 10.06 |  0.38 | 5.96 | 158.18 | 158 |  5020 |  31.75 | NA | NA | NA | NA |\n",
       "| NA | NA | Run              |  430 |  4.26 |  6268 | 24.48 |  0.83 | 2.45 |  72.12 |  87 |  8227 | 104.47 | NA | NA | NA | NA |\n",
       "| NA | NA | Run              |  415 |  3.10 |  1805 |  9.70 |  0.00 | 6.18 |   0.00 |  NA |  4793 |  30.08 | NA | NA | NA | NA |\n",
       "| NA | NA | Walk             |  227 |  1.60 |  1657 | 17.21 |  1.70 | 3.49 |  35.29 | 131 |  3001 |  27.62 | NA | NA | NA | NA |\n",
       "| NA | NA | Run              |  422 |  3.10 |  1857 |  9.98 |  1.21 | 6.01 |  49.56 | 158 |  4849 |  30.95 | NA | NA | NA | NA |\n",
       "| NA | NA | Run              |  836 |  6.20 |  3689 |  9.92 |  0.00 | 6.05 |   0.00 |  NA |  9775 |  61.48 | NA | NA | NA | NA |\n",
       "| NA | NA | Run              | 1175 |  9.00 |  5709 | 10.57 |  0.46 | 5.68 | 130.30 | 143 | 14918 |  95.15 | NA | NA | NA | NA |\n",
       "| NA | NA | Run              |  404 |  3.10 |  1593 |  8.56 |  0.00 | 7.01 |   0.00 |  NA |  4286 |  26.55 | NA | NA | NA | NA |\n",
       "| NA | NA | Run              |  405 |  3.10 |  1698 |  9.13 |  0.00 | 6.57 |   0.00 |  NA |  4537 |  28.30 | NA | NA | NA | NA |\n",
       "| NA | NA | Run              |  452 |  3.76 |  2157 |  9.56 |  1.00 | 6.27 |  59.92 | 148 |  5684 |  35.95 | NA | NA | NA | NA |\n",
       "| NA | NA | Run              |  398 |  3.11 |  1912 | 10.25 |  1.09 | 5.85 |  54.80 | 150 |  4991 |  31.87 | NA | NA | NA | NA |\n",
       "| NA | NA | Run              |  421 |  3.11 |  1968 | 10.55 |  1.07 | 5.69 |  56.08 | 155 |  5134 |  32.80 | NA | NA | NA | NA |\n",
       "| NA | NA | Run              |  197 |  2.00 |  1409 | 11.74 |  1.91 | 5.11 |  31.34 | 145 |  3302 |  23.48 | NA | NA | NA | NA |\n",
       "| NA | NA | Run              |  429 |  3.10 |  2301 | 12.37 |  0.99 | 4.85 |  60.41 | 149 |  5125 |  38.35 | NA | NA | NA | NA |\n",
       "| ... | ... | ... | ... | ... | ... | ... | ... | ... | ... | ... | ... | ... | ... | ... | ... | ... |\n",
       "| NA | NA | Weight Workout   | 215 | 0.00 | 1560 |  0.00 |   0.00 | 0.00 |  0.00 |   0 |   NA | 26.00 | NA | NA | NA | NA |\n",
       "| NA | NA | Run              | 238 | 2.33 | 2307 | 16.50 |   0.00 | 3.64 |  0.00 |  NA | 5811 | 38.45 | NA | NA | NA | NA |\n",
       "| NA | NA | Weight Workout   | 215 | 0.00 | 1560 |  0.00 |   0.00 | 0.00 |  0.00 |   0 |   NA | 26.00 | NA | NA | NA | NA |\n",
       "| NA | NA | Walk             | 323 | 3.15 | 3080 | 16.30 |   0.00 | 3.68 |  0.00 |  NA | 6202 | 51.33 | NA | NA | NA | NA |\n",
       "| NA | NA | Run              | 215 | 2.09 | 1962 | 15.65 |   3.21 | 3.83 | 18.70 | 111 | 3819 | 32.70 | NA | NA | NA | NA |\n",
       "| NA | NA | Walk             | 106 | 1.04 | 1045 | 16.75 |  13.55 | 3.58 |  4.43 |  NA | 1831 | 17.42 | NA | NA | NA | NA |\n",
       "| NA | NA | Weight Workout   | 211 | 0.00 | 1526 |  0.00 |  57.79 | 0.00 |  1.04 |  NA |   NA | 25.43 | NA | NA | NA | NA |\n",
       "| NA | NA | Walk             | 299 | 2.78 | 2458 | 14.74 |   5.71 | 4.07 | 10.51 |   0 | 4676 | 40.97 | NA | NA | NA | NA |\n",
       "| NA | NA | Walk             | 293 | 2.88 | 2986 | 17.28 |   0.00 | 3.47 |  0.00 |  73 | 5876 | 49.77 | NA | NA | NA | NA |\n",
       "| NA | NA | Run              | 190 | 1.57 | 1307 | 13.84 |   1.25 | 4.33 | 47.97 | 116 | 2729 | 21.78 | NA | NA | NA | NA |\n",
       "| NA | NA | Weight Workout   |  96 | 0.00 |  692 |  0.00 |   0.00 | 0.00 |  0.00 |  NA |   NA | 11.53 | NA | NA | NA | NA |\n",
       "| NA | NA | Walk             | 321 | 3.13 | 3064 | 16.32 |  14.81 | 3.68 |  4.05 |  NA |   55 | 51.07 | NA | NA | NA | NA |\n",
       "| NA | NA | Weight Workout   |  83 | 0.00 |  600 |  0.00 |   0.00 | 0.00 |  0.00 |  NA |   NA | 10.00 | NA | NA | NA | NA |\n",
       "| NA | NA | Walk             | 249 | 2.22 | 1921 | 14.43 |  13.25 | 4.16 |  4.53 | 110 | 3887 | 32.02 | NA | NA | NA | NA |\n",
       "| NA | NA | Walk             | 309 | 2.99 | 2764 | 15.41 |   0.00 | 3.89 |  0.00 |  NA | 5745 | 46.07 | NA | NA | NA | NA |\n",
       "| NA | NA | Walk             | 316 | 3.10 | 3180 | 17.10 |   0.00 | 3.51 |  0.00 |  NA | 6289 | 53.00 | NA | NA | NA | NA |\n",
       "| NA | NA | Weight Workout   |  79 | 0.00 |  600 |  0.00 |   0.00 | 0.00 |  0.00 |  NA |   NA | 10.00 | NA | NA | NA | NA |\n",
       "| NA | NA | Weight Workout   |  79 | 0.00 |  600 |  0.00 |   0.00 | 0.00 |  0.00 |  NA |   NA | 10.00 | NA | NA | NA | NA |\n",
       "| NA | NA | Walk             | 307 | 3.10 | 2866 | 15.41 | 182.40 | 3.89 |  0.33 |  NA | 6104 | 47.77 | NA | NA | NA | NA |\n",
       "| NA | NA | Walk             | 248 | 2.22 | 1886 | 14.16 |   1.40 | 4.24 | 42.80 | 102 | 3708 | 31.43 | NA | NA | NA | NA |\n",
       "| NA | NA | Walk             | 322 | 2.22 | 3541 | 26.36 |   4.21 | 2.28 | 14.25 |  93 | 6149 | 59.02 | NA | NA | NA | NA |\n",
       "| NA | NA | Walk             | 266 | 2.62 | 1946 | 12.36 |   4.68 | 4.85 | 12.83 | 136 | 4074 | 32.43 | NA | NA | NA | NA |\n",
       "| NA | NA | Run              | 419 | 3.11 | 2197 | 11.69 |   2.06 | 5.13 | 29.17 | 139 | 5295 | 36.62 | NA | NA | NA | NA |\n",
       "| NA | NA | Indoor Run / Jog | 403 | 3.13 | 2344 | 12.48 |   0.00 | 4.81 |  0.00 |  NA | 6926 | 39.07 | NA | NA | NA | NA |\n",
       "| NA | NA | Run              | 258 | 1.96 | 1214 | 10.32 |   2.67 | 5.82 | 22.45 |   0 | 3209 | 20.23 | NA | NA | NA | NA |\n",
       "| NA | NA | Indoor Run / Jog | 191 | 1.42 |  927 | 10.88 |  17.09 | 5.51 |  3.51 | 158 |   67 | 15.45 | NA | NA | NA | NA |\n",
       "| NA | NA | Class Workout    | 186 | 0.00 | 3600 |  0.00 |   0.00 | 0.00 |  0.00 |  NA |   NA | 60.00 | NA | NA | NA | NA |\n",
       "| NA | NA | Class Workout    | 183 | 0.00 | 3600 |  0.00 |   0.00 | 0.00 |  0.00 |  NA |   NA | 60.00 | NA | NA | NA | NA |\n",
       "| NA | NA | Class Workout    | 186 | 0.00 | 3600 |  0.00 |   0.00 | 0.00 |  0.00 |  NA |   NA | 60.00 | NA | NA | NA | NA |\n",
       "| NA | NA | Class Workout    | 189 | 0.00 | 3600 |  0.00 |   0.00 | 0.00 |  0.00 |  NA |   NA | 60.00 | NA | NA | NA | NA |\n",
       "\n"
      ],
      "text/plain": [
       "    Date.Sub Date Activity         Cal.Burned Distance Duration Avg.Pace\n",
       "1   <NA>     <NA> Run               610        4.73     3953    13.91   \n",
       "2   <NA>     <NA> Indoor Run / Jog  414        3.10     1801     9.68   \n",
       "3   <NA>     <NA> Indoor Run / Jog  414        3.10     1801     9.68   \n",
       "4   <NA>     <NA> Run              1544       13.11    11065    14.07   \n",
       "5   <NA>     <NA> Indoor Run / Jog  859        6.56     3600     9.15   \n",
       "6   <NA>     <NA> Indoor Run / Jog  632        4.74     3600    12.66   \n",
       "7   <NA>     <NA> Run               618        6.38     4663    12.17   \n",
       "8   <NA>     <NA> Indoor Run / Jog  831        6.21     3617     9.71   \n",
       "9   <NA>     <NA> Run               576        4.63     3712    13.37   \n",
       "10  <NA>     <NA> Run               863        7.02     4441    10.54   \n",
       "11  <NA>     <NA> Run               626        6.35     4274    11.21   \n",
       "12  <NA>     <NA> Run               797        6.35     4013    10.53   \n",
       "13  <NA>     <NA> Walk              290        2.14     2267    17.64   \n",
       "14  <NA>     <NA> Run               311        2.37     1410     9.91   \n",
       "15  <NA>     <NA> Run               820        6.09     3600     9.85   \n",
       "16  <NA>     <NA> Run              1117        8.00     5187    10.81   \n",
       "17  <NA>     <NA> Run               314        3.16     1905    10.06   \n",
       "18  <NA>     <NA> Run               430        4.26     6268    24.48   \n",
       "19  <NA>     <NA> Run               415        3.10     1805     9.70   \n",
       "20  <NA>     <NA> Walk              227        1.60     1657    17.21   \n",
       "21  <NA>     <NA> Run               422        3.10     1857     9.98   \n",
       "22  <NA>     <NA> Run               836        6.20     3689     9.92   \n",
       "23  <NA>     <NA> Run              1175        9.00     5709    10.57   \n",
       "24  <NA>     <NA> Run               404        3.10     1593     8.56   \n",
       "25  <NA>     <NA> Run               405        3.10     1698     9.13   \n",
       "26  <NA>     <NA> Run               452        3.76     2157     9.56   \n",
       "27  <NA>     <NA> Run               398        3.11     1912    10.25   \n",
       "28  <NA>     <NA> Run               421        3.11     1968    10.55   \n",
       "29  <NA>     <NA> Run               197        2.00     1409    11.74   \n",
       "30  <NA>     <NA> Run               429        3.10     2301    12.37   \n",
       "... ...      ...  ...              ...        ...      ...      ...     \n",
       "692 <NA>     <NA> Weight Workout   215        0.00     1560      0.00   \n",
       "693 <NA>     <NA> Run              238        2.33     2307     16.50   \n",
       "694 <NA>     <NA> Weight Workout   215        0.00     1560      0.00   \n",
       "695 <NA>     <NA> Walk             323        3.15     3080     16.30   \n",
       "696 <NA>     <NA> Run              215        2.09     1962     15.65   \n",
       "697 <NA>     <NA> Walk             106        1.04     1045     16.75   \n",
       "698 <NA>     <NA> Weight Workout   211        0.00     1526      0.00   \n",
       "699 <NA>     <NA> Walk             299        2.78     2458     14.74   \n",
       "700 <NA>     <NA> Walk             293        2.88     2986     17.28   \n",
       "701 <NA>     <NA> Run              190        1.57     1307     13.84   \n",
       "702 <NA>     <NA> Weight Workout    96        0.00      692      0.00   \n",
       "703 <NA>     <NA> Walk             321        3.13     3064     16.32   \n",
       "704 <NA>     <NA> Weight Workout    83        0.00      600      0.00   \n",
       "705 <NA>     <NA> Walk             249        2.22     1921     14.43   \n",
       "706 <NA>     <NA> Walk             309        2.99     2764     15.41   \n",
       "707 <NA>     <NA> Walk             316        3.10     3180     17.10   \n",
       "708 <NA>     <NA> Weight Workout    79        0.00      600      0.00   \n",
       "709 <NA>     <NA> Weight Workout    79        0.00      600      0.00   \n",
       "710 <NA>     <NA> Walk             307        3.10     2866     15.41   \n",
       "711 <NA>     <NA> Walk             248        2.22     1886     14.16   \n",
       "712 <NA>     <NA> Walk             322        2.22     3541     26.36   \n",
       "713 <NA>     <NA> Walk             266        2.62     1946     12.36   \n",
       "714 <NA>     <NA> Run              419        3.11     2197     11.69   \n",
       "715 <NA>     <NA> Indoor Run / Jog 403        3.13     2344     12.48   \n",
       "716 <NA>     <NA> Run              258        1.96     1214     10.32   \n",
       "717 <NA>     <NA> Indoor Run / Jog 191        1.42      927     10.88   \n",
       "718 <NA>     <NA> Class Workout    186        0.00     3600      0.00   \n",
       "719 <NA>     <NA> Class Workout    183        0.00     3600      0.00   \n",
       "720 <NA>     <NA> Class Workout    186        0.00     3600      0.00   \n",
       "721 <NA>     <NA> Class Workout    189        0.00     3600      0.00   \n",
       "    Max.Pace Avg.Spd Max.Spd Avg.HR Steps Minutes day dayofmonth month year\n",
       "1    8.97    4.31      6.69  119     8206  65.88  NA  NA         NA    NA  \n",
       "2    9.66    6.20      6.21  142     4616  30.02  NA  NA         NA    NA  \n",
       "3    9.96    6.20      6.03  144     4599  30.02  NA  NA         NA    NA  \n",
       "4    7.71    4.27      7.78  140    22531 184.42  NA  NA         NA    NA  \n",
       "5   10.37    6.56      5.79  147     9295  60.00  NA  NA         NA    NA  \n",
       "6   10.42    4.74      5.76  122     8146  60.00  NA  NA         NA    NA  \n",
       "7    8.82    4.93      6.80  128    11001  77.72  NA  NA         NA    NA  \n",
       "8    9.71    6.18      6.18  144     9306  60.28  NA  NA         NA    NA  \n",
       "9    1.55    4.49     38.80  116     7878  61.87  NA  NA         NA    NA  \n",
       "10   0.97    5.69     62.01  144    11520  74.02  NA  NA         NA    NA  \n",
       "11   1.05    5.35     57.02  145    11074  71.23  NA  NA         NA    NA  \n",
       "12   0.50    5.70    119.16  146    10360  66.88  NA  NA         NA    NA  \n",
       "13   2.31    3.40     25.99  119     4141  37.78  NA  NA         NA    NA  \n",
       "14   0.95    6.05     62.99  152     3639  23.50  NA  NA         NA    NA  \n",
       "15   0.00    6.09      0.00   NA     9545  60.00  NA  NA         NA    NA  \n",
       "16   0.00    5.55      0.00   NA    13634  86.45  NA  NA         NA    NA  \n",
       "17   0.38    5.96    158.18  158     5020  31.75  NA  NA         NA    NA  \n",
       "18   0.83    2.45     72.12   87     8227 104.47  NA  NA         NA    NA  \n",
       "19   0.00    6.18      0.00   NA     4793  30.08  NA  NA         NA    NA  \n",
       "20   1.70    3.49     35.29  131     3001  27.62  NA  NA         NA    NA  \n",
       "21   1.21    6.01     49.56  158     4849  30.95  NA  NA         NA    NA  \n",
       "22   0.00    6.05      0.00   NA     9775  61.48  NA  NA         NA    NA  \n",
       "23   0.46    5.68    130.30  143    14918  95.15  NA  NA         NA    NA  \n",
       "24   0.00    7.01      0.00   NA     4286  26.55  NA  NA         NA    NA  \n",
       "25   0.00    6.57      0.00   NA     4537  28.30  NA  NA         NA    NA  \n",
       "26   1.00    6.27     59.92  148     5684  35.95  NA  NA         NA    NA  \n",
       "27   1.09    5.85     54.80  150     4991  31.87  NA  NA         NA    NA  \n",
       "28   1.07    5.69     56.08  155     5134  32.80  NA  NA         NA    NA  \n",
       "29   1.91    5.11     31.34  145     3302  23.48  NA  NA         NA    NA  \n",
       "30   0.99    4.85     60.41  149     5125  38.35  NA  NA         NA    NA  \n",
       "... ...      ...     ...     ...    ...   ...     ... ...        ...   ... \n",
       "692   0.00   0.00     0.00     0      NA  26.00   NA  NA         NA    NA  \n",
       "693   0.00   3.64     0.00    NA    5811  38.45   NA  NA         NA    NA  \n",
       "694   0.00   0.00     0.00     0      NA  26.00   NA  NA         NA    NA  \n",
       "695   0.00   3.68     0.00    NA    6202  51.33   NA  NA         NA    NA  \n",
       "696   3.21   3.83    18.70   111    3819  32.70   NA  NA         NA    NA  \n",
       "697  13.55   3.58     4.43    NA    1831  17.42   NA  NA         NA    NA  \n",
       "698  57.79   0.00     1.04    NA      NA  25.43   NA  NA         NA    NA  \n",
       "699   5.71   4.07    10.51     0    4676  40.97   NA  NA         NA    NA  \n",
       "700   0.00   3.47     0.00    73    5876  49.77   NA  NA         NA    NA  \n",
       "701   1.25   4.33    47.97   116    2729  21.78   NA  NA         NA    NA  \n",
       "702   0.00   0.00     0.00    NA      NA  11.53   NA  NA         NA    NA  \n",
       "703  14.81   3.68     4.05    NA      55  51.07   NA  NA         NA    NA  \n",
       "704   0.00   0.00     0.00    NA      NA  10.00   NA  NA         NA    NA  \n",
       "705  13.25   4.16     4.53   110    3887  32.02   NA  NA         NA    NA  \n",
       "706   0.00   3.89     0.00    NA    5745  46.07   NA  NA         NA    NA  \n",
       "707   0.00   3.51     0.00    NA    6289  53.00   NA  NA         NA    NA  \n",
       "708   0.00   0.00     0.00    NA      NA  10.00   NA  NA         NA    NA  \n",
       "709   0.00   0.00     0.00    NA      NA  10.00   NA  NA         NA    NA  \n",
       "710 182.40   3.89     0.33    NA    6104  47.77   NA  NA         NA    NA  \n",
       "711   1.40   4.24    42.80   102    3708  31.43   NA  NA         NA    NA  \n",
       "712   4.21   2.28    14.25    93    6149  59.02   NA  NA         NA    NA  \n",
       "713   4.68   4.85    12.83   136    4074  32.43   NA  NA         NA    NA  \n",
       "714   2.06   5.13    29.17   139    5295  36.62   NA  NA         NA    NA  \n",
       "715   0.00   4.81     0.00    NA    6926  39.07   NA  NA         NA    NA  \n",
       "716   2.67   5.82    22.45     0    3209  20.23   NA  NA         NA    NA  \n",
       "717  17.09   5.51     3.51   158      67  15.45   NA  NA         NA    NA  \n",
       "718   0.00   0.00     0.00    NA      NA  60.00   NA  NA         NA    NA  \n",
       "719   0.00   0.00     0.00    NA      NA  60.00   NA  NA         NA    NA  \n",
       "720   0.00   0.00     0.00    NA      NA  60.00   NA  NA         NA    NA  \n",
       "721   0.00   0.00     0.00    NA      NA  60.00   NA  NA         NA    NA  "
      ]
     },
     "metadata": {},
     "output_type": "display_data"
    }
   ],
   "source": [
    "library(dplyr); df %>% mutate_if(is.numeric, round, digits=2)"
   ]
  },
  {
   "cell_type": "code",
   "execution_count": 24,
   "metadata": {
    "vscode": {
     "languageId": "r"
    }
   },
   "outputs": [],
   "source": [
    "df <- df %>% drop_na(Date)\n",
    "# df <- df %>% drop_na(Date.Sub)"
   ]
  },
  {
   "cell_type": "code",
   "execution_count": 25,
   "metadata": {
    "vscode": {
     "languageId": "r"
    }
   },
   "outputs": [
    {
     "data": {
      "text/html": [
       "0"
      ],
      "text/latex": [
       "0"
      ],
      "text/markdown": [
       "0"
      ],
      "text/plain": [
       "[1] 0"
      ]
     },
     "metadata": {},
     "output_type": "display_data"
    }
   ],
   "source": [
    "nrow(df)"
   ]
  },
  {
   "cell_type": "code",
   "execution_count": 26,
   "metadata": {
    "vscode": {
     "languageId": "r"
    }
   },
   "outputs": [
    {
     "data": {
      "text/plain": [
       "    Date.Sub        Date       Activity           Cal.Burned     Distance  \n",
       " Min.   :NA    Min.   :NA    Length:0           Min.   : NA   Min.   : NA  \n",
       " 1st Qu.:NA    1st Qu.:NA    Class :character   1st Qu.: NA   1st Qu.: NA  \n",
       " Median :NA    Median :NA    Mode  :character   Median : NA   Median : NA  \n",
       " Mean   :NaN   Mean   :NaN                      Mean   :NaN   Mean   :NaN  \n",
       " 3rd Qu.:NA    3rd Qu.:NA                       3rd Qu.: NA   3rd Qu.: NA  \n",
       " Max.   :NA    Max.   :NA                       Max.   : NA   Max.   : NA  \n",
       "    Duration      Avg.Pace      Max.Pace      Avg.Spd       Max.Spd   \n",
       " Min.   : NA   Min.   : NA   Min.   : NA   Min.   : NA   Min.   : NA  \n",
       " 1st Qu.: NA   1st Qu.: NA   1st Qu.: NA   1st Qu.: NA   1st Qu.: NA  \n",
       " Median : NA   Median : NA   Median : NA   Median : NA   Median : NA  \n",
       " Mean   :NaN   Mean   :NaN   Mean   :NaN   Mean   :NaN   Mean   :NaN  \n",
       " 3rd Qu.: NA   3rd Qu.: NA   3rd Qu.: NA   3rd Qu.: NA   3rd Qu.: NA  \n",
       " Max.   : NA   Max.   : NA   Max.   : NA   Max.   : NA   Max.   : NA  \n",
       "     Avg.HR        Steps        Minutes        day              dayofmonth \n",
       " Min.   : NA   Min.   : NA   Min.   : NA   Length:0           Min.   : NA  \n",
       " 1st Qu.: NA   1st Qu.: NA   1st Qu.: NA   Class :character   1st Qu.: NA  \n",
       " Median : NA   Median : NA   Median : NA   Mode  :character   Median : NA  \n",
       " Mean   :NaN   Mean   :NaN   Mean   :NaN                      Mean   :NaN  \n",
       " 3rd Qu.: NA   3rd Qu.: NA   3rd Qu.: NA                      3rd Qu.: NA  \n",
       " Max.   : NA   Max.   : NA   Max.   : NA                      Max.   : NA  \n",
       "    month               year          \n",
       " Length:0           Length:0          \n",
       " Class :character   Class :character  \n",
       " Mode  :character   Mode  :character  \n",
       "                                      \n",
       "                                      \n",
       "                                      "
      ]
     },
     "metadata": {},
     "output_type": "display_data"
    }
   ],
   "source": [
    "summary(df)"
   ]
  },
  {
   "cell_type": "code",
   "execution_count": 27,
   "metadata": {
    "vscode": {
     "languageId": "r"
    }
   },
   "outputs": [
    {
     "name": "stderr",
     "output_type": "stream",
     "text": [
      "\n",
      "Attaching package: 'data.table'\n",
      "\n",
      "\n",
      "The following objects are masked from 'package:dplyr':\n",
      "\n",
      "    between, first, last\n",
      "\n",
      "\n",
      "The following object is masked from 'package:purrr':\n",
      "\n",
      "    transpose\n",
      "\n",
      "\n",
      "The following objects are masked from 'package:lubridate':\n",
      "\n",
      "    hour, isoweek, mday, minute, month, quarter, second, wday, week,\n",
      "    yday, year\n",
      "\n",
      "\n"
     ]
    }
   ],
   "source": [
    "library(data.table)\n",
    "#setDT(df)[value==0, value := NA,]\n",
    "#df[, value := replace(value, is.na(value), mean(value, na.rm = TRUE)) , by = .(year, age)]"
   ]
  },
  {
   "cell_type": "code",
   "execution_count": 28,
   "metadata": {
    "vscode": {
     "languageId": "r"
    }
   },
   "outputs": [],
   "source": [
    "HRmedian <- median(df$Avg.HR)\n",
    "Stepsmedian <- median(df$Steps)"
   ]
  },
  {
   "cell_type": "code",
   "execution_count": 29,
   "metadata": {
    "vscode": {
     "languageId": "r"
    }
   },
   "outputs": [],
   "source": [
    "# df[is.na(df)] = 0"
   ]
  },
  {
   "cell_type": "code",
   "execution_count": 30,
   "metadata": {
    "vscode": {
     "languageId": "r"
    }
   },
   "outputs": [
    {
     "data": {
      "text/html": [
       "<table class=\"dataframe\">\n",
       "<caption>A data.frame: 0 × 17</caption>\n",
       "<thead>\n",
       "\t<tr><th scope=col>Date.Sub</th><th scope=col>Date</th><th scope=col>Activity</th><th scope=col>Cal.Burned</th><th scope=col>Distance</th><th scope=col>Duration</th><th scope=col>Avg.Pace</th><th scope=col>Max.Pace</th><th scope=col>Avg.Spd</th><th scope=col>Max.Spd</th><th scope=col>Avg.HR</th><th scope=col>Steps</th><th scope=col>Minutes</th><th scope=col>day</th><th scope=col>dayofmonth</th><th scope=col>month</th><th scope=col>year</th></tr>\n",
       "\t<tr><th scope=col>&lt;date&gt;</th><th scope=col>&lt;date&gt;</th><th scope=col>&lt;chr&gt;</th><th scope=col>&lt;dbl&gt;</th><th scope=col>&lt;dbl&gt;</th><th scope=col>&lt;dbl&gt;</th><th scope=col>&lt;dbl&gt;</th><th scope=col>&lt;dbl&gt;</th><th scope=col>&lt;dbl&gt;</th><th scope=col>&lt;dbl&gt;</th><th scope=col>&lt;dbl&gt;</th><th scope=col>&lt;dbl&gt;</th><th scope=col>&lt;dbl&gt;</th><th scope=col>&lt;chr&gt;</th><th scope=col>&lt;dbl&gt;</th><th scope=col>&lt;chr&gt;</th><th scope=col>&lt;chr&gt;</th></tr>\n",
       "</thead>\n",
       "<tbody>\n",
       "</tbody>\n",
       "</table>\n"
      ],
      "text/latex": [
       "A data.frame: 0 × 17\n",
       "\\begin{tabular}{lllllllllllllllll}\n",
       " Date.Sub & Date & Activity & Cal.Burned & Distance & Duration & Avg.Pace & Max.Pace & Avg.Spd & Max.Spd & Avg.HR & Steps & Minutes & day & dayofmonth & month & year\\\\\n",
       " <date> & <date> & <chr> & <dbl> & <dbl> & <dbl> & <dbl> & <dbl> & <dbl> & <dbl> & <dbl> & <dbl> & <dbl> & <chr> & <dbl> & <chr> & <chr>\\\\\n",
       "\\hline\n",
       "\\end{tabular}\n"
      ],
      "text/markdown": [
       "\n",
       "A data.frame: 0 × 17\n",
       "\n",
       "| Date.Sub &lt;date&gt; | Date &lt;date&gt; | Activity &lt;chr&gt; | Cal.Burned &lt;dbl&gt; | Distance &lt;dbl&gt; | Duration &lt;dbl&gt; | Avg.Pace &lt;dbl&gt; | Max.Pace &lt;dbl&gt; | Avg.Spd &lt;dbl&gt; | Max.Spd &lt;dbl&gt; | Avg.HR &lt;dbl&gt; | Steps &lt;dbl&gt; | Minutes &lt;dbl&gt; | day &lt;chr&gt; | dayofmonth &lt;dbl&gt; | month &lt;chr&gt; | year &lt;chr&gt; |\n",
       "|---|---|---|---|---|---|---|---|---|---|---|---|---|---|---|---|---|\n",
       "\n"
      ],
      "text/plain": [
       "     Date.Sub Date Activity Cal.Burned Distance Duration Avg.Pace Max.Pace\n",
       "     Avg.Spd Max.Spd Avg.HR Steps Minutes day dayofmonth month year"
      ]
     },
     "metadata": {},
     "output_type": "display_data"
    }
   ],
   "source": [
    "head(df, 4)"
   ]
  },
  {
   "cell_type": "code",
   "execution_count": 31,
   "metadata": {
    "vscode": {
     "languageId": "r"
    }
   },
   "outputs": [],
   "source": [
    "df[is.na(df)] = 0"
   ]
  },
  {
   "cell_type": "code",
   "execution_count": 32,
   "metadata": {
    "vscode": {
     "languageId": "r"
    }
   },
   "outputs": [],
   "source": [
    "df <- df %>% dplyr::mutate(Avg.HR = ifelse(Avg.HR == 0, HRmedian, Avg.HR))\n",
    "# #df <- df %>% dplyr::mutate(Avg.HR = ifelse(Avg.HR == NA, HRmean, Avg.HR))\n",
    "df <- df %>% dplyr::mutate(Steps = ifelse(Steps == 0, Stepsmedian, Steps))\n",
    "# #df <- df %>% dplyr::mutate(Steps = ifelse(Steps == NA, Stepsmean, Steps))"
   ]
  },
  {
   "cell_type": "code",
   "execution_count": 33,
   "metadata": {
    "vscode": {
     "languageId": "r"
    }
   },
   "outputs": [],
   "source": [
    "# df[df == 0] = NA"
   ]
  },
  {
   "cell_type": "code",
   "execution_count": 34,
   "metadata": {
    "vscode": {
     "languageId": "r"
    }
   },
   "outputs": [],
   "source": [
    "df$Avg.HR[is.na(df$Avg.HR)] <- median(df$Avg.HR, na.rm = TRUE)\n",
    "df$Steps[is.na(df$Steps)] <- median(df$Steps, na.rm = TRUE)\n",
    "df$Max.Pace[is.na(df$Max.Pace)] <- median(df$Max.Pace, na.rm = TRUE)\n",
    "df$Avg.Pace[is.na(df$Avg.Pace)] <- median(df$Avg.Pace, na.rm = TRUE)\n",
    "df$Max.Spd[is.na(df$Max.Spd)] <- median(df$Max.Spd, na.rm = TRUE)\n",
    "df$Avg.Spd[is.na(df$Avg.Spd)] <- median(df$Avg.Spd, na.rm = TRUE)\n",
    "df$Cal.Burned[is.na(df$Cal.Burned)] <- median(df$Cal.Burned, na.rm = TRUE)"
   ]
  },
  {
   "cell_type": "code",
   "execution_count": 35,
   "metadata": {
    "vscode": {
     "languageId": "r"
    }
   },
   "outputs": [],
   "source": [
    "# library(lubridate)\n",
    "# df$day <- weekdays(as.Date(df$Date))\n",
    "# df$dayofmonth <- day(as.Date(df$Date))\n",
    "# df$month <- months(as.Date(df$Date))\n",
    "# df$year <- format(as.Date(df$Date, format=\"%M/%d/%Y\"),\"%Y\")"
   ]
  },
  {
   "cell_type": "code",
   "execution_count": 36,
   "metadata": {
    "vscode": {
     "languageId": "r"
    }
   },
   "outputs": [],
   "source": [
    "df <- df %>% mutate(mileage = cut(Distance, breaks=c(0, 3.09, 6.19, 9.99, 13.09, 20), labels=c(\"Short\", \"FiveK\", \"TenK\", \"TenM\", \"HalfMar\")))"
   ]
  },
  {
   "cell_type": "code",
   "execution_count": 37,
   "metadata": {
    "vscode": {
     "languageId": "r"
    }
   },
   "outputs": [
    {
     "data": {
      "text/html": [
       "<table class=\"dataframe\">\n",
       "<caption>A data.frame: 0 × 18</caption>\n",
       "<thead>\n",
       "\t<tr><th scope=col>Date.Sub</th><th scope=col>Date</th><th scope=col>Activity</th><th scope=col>Cal.Burned</th><th scope=col>Distance</th><th scope=col>Duration</th><th scope=col>Avg.Pace</th><th scope=col>Max.Pace</th><th scope=col>Avg.Spd</th><th scope=col>Max.Spd</th><th scope=col>Avg.HR</th><th scope=col>Steps</th><th scope=col>Minutes</th><th scope=col>day</th><th scope=col>dayofmonth</th><th scope=col>month</th><th scope=col>year</th><th scope=col>mileage</th></tr>\n",
       "\t<tr><th scope=col>&lt;date&gt;</th><th scope=col>&lt;date&gt;</th><th scope=col>&lt;chr&gt;</th><th scope=col>&lt;dbl&gt;</th><th scope=col>&lt;dbl&gt;</th><th scope=col>&lt;dbl&gt;</th><th scope=col>&lt;dbl&gt;</th><th scope=col>&lt;dbl&gt;</th><th scope=col>&lt;dbl&gt;</th><th scope=col>&lt;dbl&gt;</th><th scope=col>&lt;lgl&gt;</th><th scope=col>&lt;lgl&gt;</th><th scope=col>&lt;dbl&gt;</th><th scope=col>&lt;chr&gt;</th><th scope=col>&lt;dbl&gt;</th><th scope=col>&lt;chr&gt;</th><th scope=col>&lt;chr&gt;</th><th scope=col>&lt;fct&gt;</th></tr>\n",
       "</thead>\n",
       "<tbody>\n",
       "</tbody>\n",
       "</table>\n"
      ],
      "text/latex": [
       "A data.frame: 0 × 18\n",
       "\\begin{tabular}{llllllllllllllllll}\n",
       " Date.Sub & Date & Activity & Cal.Burned & Distance & Duration & Avg.Pace & Max.Pace & Avg.Spd & Max.Spd & Avg.HR & Steps & Minutes & day & dayofmonth & month & year & mileage\\\\\n",
       " <date> & <date> & <chr> & <dbl> & <dbl> & <dbl> & <dbl> & <dbl> & <dbl> & <dbl> & <lgl> & <lgl> & <dbl> & <chr> & <dbl> & <chr> & <chr> & <fct>\\\\\n",
       "\\hline\n",
       "\\end{tabular}\n"
      ],
      "text/markdown": [
       "\n",
       "A data.frame: 0 × 18\n",
       "\n",
       "| Date.Sub &lt;date&gt; | Date &lt;date&gt; | Activity &lt;chr&gt; | Cal.Burned &lt;dbl&gt; | Distance &lt;dbl&gt; | Duration &lt;dbl&gt; | Avg.Pace &lt;dbl&gt; | Max.Pace &lt;dbl&gt; | Avg.Spd &lt;dbl&gt; | Max.Spd &lt;dbl&gt; | Avg.HR &lt;lgl&gt; | Steps &lt;lgl&gt; | Minutes &lt;dbl&gt; | day &lt;chr&gt; | dayofmonth &lt;dbl&gt; | month &lt;chr&gt; | year &lt;chr&gt; | mileage &lt;fct&gt; |\n",
       "|---|---|---|---|---|---|---|---|---|---|---|---|---|---|---|---|---|---|\n",
       "\n"
      ],
      "text/plain": [
       "     Date.Sub Date Activity Cal.Burned Distance Duration Avg.Pace Max.Pace\n",
       "     Avg.Spd Max.Spd Avg.HR Steps Minutes day dayofmonth month year mileage"
      ]
     },
     "metadata": {},
     "output_type": "display_data"
    }
   ],
   "source": [
    "head(df, 4)"
   ]
  },
  {
   "cell_type": "code",
   "execution_count": 38,
   "metadata": {
    "vscode": {
     "languageId": "r"
    }
   },
   "outputs": [],
   "source": [
    "library(lubridate)\n",
    "#library(tidyverse)\n",
    "\n",
    "df <- df %>% mutate(Date=ymd(Date))\n",
    "df <- df %>% mutate(Date.Sub=ymd(Date.Sub))\n",
    "#df <- df %>% mutate(Date=mdy(Date))\n",
    "#df <- df %>% mutate(Date.Sub=mdy(Date.Sub))"
   ]
  },
  {
   "cell_type": "code",
   "execution_count": 39,
   "metadata": {
    "vscode": {
     "languageId": "r"
    }
   },
   "outputs": [],
   "source": [
    "df <- df[, c(\"Date\", \"Activity\", \"Duration\", \"Distance\", \"Avg.Pace\", \"Max.Pace\", \"Avg.Spd\", \"Cal.Burned\", \"Avg.HR\", \"Steps\", \"mileage\")]"
   ]
  },
  {
   "cell_type": "code",
   "execution_count": 40,
   "metadata": {
    "vscode": {
     "languageId": "r"
    }
   },
   "outputs": [],
   "source": [
    "df2 = df[sapply(df, is.numeric)]"
   ]
  },
  {
   "cell_type": "code",
   "execution_count": 41,
   "metadata": {
    "vscode": {
     "languageId": "r"
    }
   },
   "outputs": [],
   "source": [
    "library(ggplot2)"
   ]
  },
  {
   "cell_type": "code",
   "execution_count": 42,
   "metadata": {
    "vscode": {
     "languageId": "r"
    }
   },
   "outputs": [
    {
     "data": {
      "image/png": "[encoded data removed]",
      "text/plain": [
       "plot without title"
      ]
     },
     "metadata": {
      "image/png": {
       "height": 420,
       "width": 420
      }
     },
     "output_type": "display_data"
    }
   ],
   "source": [
    "ggplot(data = df2, mapping = aes(x = Distance, y = Duration)) + \n",
    "    geom_point()"
   ]
  },
  {
   "cell_type": "code",
   "execution_count": 43,
   "metadata": {
    "vscode": {
     "languageId": "r"
    }
   },
   "outputs": [
    {
     "data": {
      "text/html": [
       "<table class=\"dataframe\">\n",
       "<caption>A data.frame: 0 × 6</caption>\n",
       "<thead>\n",
       "\t<tr><th scope=col>Duration</th><th scope=col>Distance</th><th scope=col>Avg.Pace</th><th scope=col>Max.Pace</th><th scope=col>Avg.Spd</th><th scope=col>Cal.Burned</th></tr>\n",
       "\t<tr><th scope=col>&lt;dbl&gt;</th><th scope=col>&lt;dbl&gt;</th><th scope=col>&lt;dbl&gt;</th><th scope=col>&lt;dbl&gt;</th><th scope=col>&lt;dbl&gt;</th><th scope=col>&lt;dbl&gt;</th></tr>\n",
       "</thead>\n",
       "<tbody>\n",
       "</tbody>\n",
       "</table>\n"
      ],
      "text/latex": [
       "A data.frame: 0 × 6\n",
       "\\begin{tabular}{llllll}\n",
       " Duration & Distance & Avg.Pace & Max.Pace & Avg.Spd & Cal.Burned\\\\\n",
       " <dbl> & <dbl> & <dbl> & <dbl> & <dbl> & <dbl>\\\\\n",
       "\\hline\n",
       "\\end{tabular}\n"
      ],
      "text/markdown": [
       "\n",
       "A data.frame: 0 × 6\n",
       "\n",
       "| Duration &lt;dbl&gt; | Distance &lt;dbl&gt; | Avg.Pace &lt;dbl&gt; | Max.Pace &lt;dbl&gt; | Avg.Spd &lt;dbl&gt; | Cal.Burned &lt;dbl&gt; |\n",
       "|---|---|---|---|---|---|\n",
       "\n"
      ],
      "text/plain": [
       "     Duration Distance Avg.Pace Max.Pace Avg.Spd Cal.Burned"
      ]
     },
     "metadata": {},
     "output_type": "display_data"
    }
   ],
   "source": [
    "head(df2)"
   ]
  },
  {
   "cell_type": "code",
   "execution_count": 44,
   "metadata": {
    "vscode": {
     "languageId": "r"
    }
   },
   "outputs": [
    {
     "data": {
      "text/html": [
       "<table class=\"dataframe\">\n",
       "<caption>A data.frame: 0 × 11</caption>\n",
       "<thead>\n",
       "\t<tr><th scope=col>Date</th><th scope=col>Activity</th><th scope=col>Duration</th><th scope=col>Distance</th><th scope=col>Avg.Pace</th><th scope=col>Max.Pace</th><th scope=col>Avg.Spd</th><th scope=col>Cal.Burned</th><th scope=col>Avg.HR</th><th scope=col>Steps</th><th scope=col>mileage</th></tr>\n",
       "\t<tr><th scope=col>&lt;date&gt;</th><th scope=col>&lt;chr&gt;</th><th scope=col>&lt;dbl&gt;</th><th scope=col>&lt;dbl&gt;</th><th scope=col>&lt;dbl&gt;</th><th scope=col>&lt;dbl&gt;</th><th scope=col>&lt;dbl&gt;</th><th scope=col>&lt;dbl&gt;</th><th scope=col>&lt;lgl&gt;</th><th scope=col>&lt;lgl&gt;</th><th scope=col>&lt;fct&gt;</th></tr>\n",
       "</thead>\n",
       "<tbody>\n",
       "</tbody>\n",
       "</table>\n"
      ],
      "text/latex": [
       "A data.frame: 0 × 11\n",
       "\\begin{tabular}{lllllllllll}\n",
       " Date & Activity & Duration & Distance & Avg.Pace & Max.Pace & Avg.Spd & Cal.Burned & Avg.HR & Steps & mileage\\\\\n",
       " <date> & <chr> & <dbl> & <dbl> & <dbl> & <dbl> & <dbl> & <dbl> & <lgl> & <lgl> & <fct>\\\\\n",
       "\\hline\n",
       "\\end{tabular}\n"
      ],
      "text/markdown": [
       "\n",
       "A data.frame: 0 × 11\n",
       "\n",
       "| Date &lt;date&gt; | Activity &lt;chr&gt; | Duration &lt;dbl&gt; | Distance &lt;dbl&gt; | Avg.Pace &lt;dbl&gt; | Max.Pace &lt;dbl&gt; | Avg.Spd &lt;dbl&gt; | Cal.Burned &lt;dbl&gt; | Avg.HR &lt;lgl&gt; | Steps &lt;lgl&gt; | mileage &lt;fct&gt; |\n",
       "|---|---|---|---|---|---|---|---|---|---|---|\n",
       "\n"
      ],
      "text/plain": [
       "     Date Activity Duration Distance Avg.Pace Max.Pace Avg.Spd Cal.Burned\n",
       "     Avg.HR Steps mileage"
      ]
     },
     "metadata": {},
     "output_type": "display_data"
    }
   ],
   "source": [
    "head(df, 1)"
   ]
  },
  {
   "cell_type": "code",
   "execution_count": 45,
   "metadata": {
    "vscode": {
     "languageId": "r"
    }
   },
   "outputs": [],
   "source": [
    "library(dplyr)\n",
    "library(tidyverse)"
   ]
  },
  {
   "cell_type": "code",
   "execution_count": 46,
   "metadata": {
    "vscode": {
     "languageId": "r"
    }
   },
   "outputs": [],
   "source": [
    "df$minutes <- df$Duration / 60\n",
    "df$minutes <- round(df$minutes, digits = 2)"
   ]
  },
  {
   "cell_type": "code",
   "execution_count": 47,
   "metadata": {
    "vscode": {
     "languageId": "r"
    }
   },
   "outputs": [
    {
     "data": {
      "text/html": [
       "<table class=\"dataframe\">\n",
       "<caption>A data.frame: 0 × 12</caption>\n",
       "<thead>\n",
       "\t<tr><th scope=col>Date</th><th scope=col>Activity</th><th scope=col>Duration</th><th scope=col>Distance</th><th scope=col>Avg.Pace</th><th scope=col>Max.Pace</th><th scope=col>Avg.Spd</th><th scope=col>Cal.Burned</th><th scope=col>Avg.HR</th><th scope=col>Steps</th><th scope=col>mileage</th><th scope=col>minutes</th></tr>\n",
       "\t<tr><th scope=col>&lt;date&gt;</th><th scope=col>&lt;chr&gt;</th><th scope=col>&lt;dbl&gt;</th><th scope=col>&lt;dbl&gt;</th><th scope=col>&lt;dbl&gt;</th><th scope=col>&lt;dbl&gt;</th><th scope=col>&lt;dbl&gt;</th><th scope=col>&lt;dbl&gt;</th><th scope=col>&lt;lgl&gt;</th><th scope=col>&lt;lgl&gt;</th><th scope=col>&lt;fct&gt;</th><th scope=col>&lt;dbl&gt;</th></tr>\n",
       "</thead>\n",
       "<tbody>\n",
       "</tbody>\n",
       "</table>\n"
      ],
      "text/latex": [
       "A data.frame: 0 × 12\n",
       "\\begin{tabular}{llllllllllll}\n",
       " Date & Activity & Duration & Distance & Avg.Pace & Max.Pace & Avg.Spd & Cal.Burned & Avg.HR & Steps & mileage & minutes\\\\\n",
       " <date> & <chr> & <dbl> & <dbl> & <dbl> & <dbl> & <dbl> & <dbl> & <lgl> & <lgl> & <fct> & <dbl>\\\\\n",
       "\\hline\n",
       "\\end{tabular}\n"
      ],
      "text/markdown": [
       "\n",
       "A data.frame: 0 × 12\n",
       "\n",
       "| Date &lt;date&gt; | Activity &lt;chr&gt; | Duration &lt;dbl&gt; | Distance &lt;dbl&gt; | Avg.Pace &lt;dbl&gt; | Max.Pace &lt;dbl&gt; | Avg.Spd &lt;dbl&gt; | Cal.Burned &lt;dbl&gt; | Avg.HR &lt;lgl&gt; | Steps &lt;lgl&gt; | mileage &lt;fct&gt; | minutes &lt;dbl&gt; |\n",
       "|---|---|---|---|---|---|---|---|---|---|---|---|\n",
       "\n"
      ],
      "text/plain": [
       "     Date Activity Duration Distance Avg.Pace Max.Pace Avg.Spd Cal.Burned\n",
       "     Avg.HR Steps mileage minutes"
      ]
     },
     "metadata": {},
     "output_type": "display_data"
    }
   ],
   "source": [
    "df3 <- df[order(df$Duration),]\n",
    "tail(df3, 1)"
   ]
  },
  {
   "cell_type": "code",
   "execution_count": 48,
   "metadata": {
    "vscode": {
     "languageId": "r"
    }
   },
   "outputs": [],
   "source": [
    "#Remove erroneous data (I know I have not run anything over 170 minutes)\n",
    "#df2 <- df2[df2$minutes < 185,]\n",
    "df2 <- df2[df2$Avg.Spd < 10,]\n",
    "df2 <- df2[df2$Cal.Burned < 2000,]\n",
    "#df2 <- df[df$Date > '2019-01-01',]\n",
    "df <- df[df$minutes < 185,]\n",
    "df <- df[df$Avg.Spd < 10,]\n",
    "df <- df[df$Cal.Burned < 2000,]\n",
    "#df <- df[df$Date > '2019-01-01',]"
   ]
  },
  {
   "cell_type": "code",
   "execution_count": 49,
   "metadata": {
    "vscode": {
     "languageId": "r"
    }
   },
   "outputs": [
    {
     "data": {
      "text/html": [
       "0"
      ],
      "text/latex": [
       "0"
      ],
      "text/markdown": [
       "0"
      ],
      "text/plain": [
       "[1] 0"
      ]
     },
     "metadata": {},
     "output_type": "display_data"
    },
    {
     "data": {
      "text/html": [
       "0"
      ],
      "text/latex": [
       "0"
      ],
      "text/markdown": [
       "0"
      ],
      "text/plain": [
       "[1] 0"
      ]
     },
     "metadata": {},
     "output_type": "display_data"
    }
   ],
   "source": [
    "nrow(df2)\n",
    "nrow(df)"
   ]
  },
  {
   "cell_type": "code",
   "execution_count": 50,
   "metadata": {
    "vscode": {
     "languageId": "r"
    }
   },
   "outputs": [
    {
     "data": {
      "text/html": [
       "<table class=\"dataframe\">\n",
       "<caption>A data.frame: 0 × 12</caption>\n",
       "<thead>\n",
       "\t<tr><th scope=col>Date</th><th scope=col>Activity</th><th scope=col>Duration</th><th scope=col>Distance</th><th scope=col>Avg.Pace</th><th scope=col>Max.Pace</th><th scope=col>Avg.Spd</th><th scope=col>Cal.Burned</th><th scope=col>Avg.HR</th><th scope=col>Steps</th><th scope=col>mileage</th><th scope=col>minutes</th></tr>\n",
       "\t<tr><th scope=col>&lt;date&gt;</th><th scope=col>&lt;chr&gt;</th><th scope=col>&lt;dbl&gt;</th><th scope=col>&lt;dbl&gt;</th><th scope=col>&lt;dbl&gt;</th><th scope=col>&lt;dbl&gt;</th><th scope=col>&lt;dbl&gt;</th><th scope=col>&lt;dbl&gt;</th><th scope=col>&lt;lgl&gt;</th><th scope=col>&lt;lgl&gt;</th><th scope=col>&lt;fct&gt;</th><th scope=col>&lt;dbl&gt;</th></tr>\n",
       "</thead>\n",
       "<tbody>\n",
       "</tbody>\n",
       "</table>\n"
      ],
      "text/latex": [
       "A data.frame: 0 × 12\n",
       "\\begin{tabular}{llllllllllll}\n",
       " Date & Activity & Duration & Distance & Avg.Pace & Max.Pace & Avg.Spd & Cal.Burned & Avg.HR & Steps & mileage & minutes\\\\\n",
       " <date> & <chr> & <dbl> & <dbl> & <dbl> & <dbl> & <dbl> & <dbl> & <lgl> & <lgl> & <fct> & <dbl>\\\\\n",
       "\\hline\n",
       "\\end{tabular}\n"
      ],
      "text/markdown": [
       "\n",
       "A data.frame: 0 × 12\n",
       "\n",
       "| Date &lt;date&gt; | Activity &lt;chr&gt; | Duration &lt;dbl&gt; | Distance &lt;dbl&gt; | Avg.Pace &lt;dbl&gt; | Max.Pace &lt;dbl&gt; | Avg.Spd &lt;dbl&gt; | Cal.Burned &lt;dbl&gt; | Avg.HR &lt;lgl&gt; | Steps &lt;lgl&gt; | mileage &lt;fct&gt; | minutes &lt;dbl&gt; |\n",
       "|---|---|---|---|---|---|---|---|---|---|---|---|\n",
       "\n"
      ],
      "text/plain": [
       "     Date Activity Duration Distance Avg.Pace Max.Pace Avg.Spd Cal.Burned\n",
       "     Avg.HR Steps mileage minutes"
      ]
     },
     "metadata": {},
     "output_type": "display_data"
    }
   ],
   "source": [
    "head(df, 4)"
   ]
  },
  {
   "cell_type": "code",
   "execution_count": 51,
   "metadata": {
    "vscode": {
     "languageId": "r"
    }
   },
   "outputs": [
    {
     "data": {
      "text/html": [
       "<table class=\"dataframe\">\n",
       "<caption>A data.frame: 0 × 6</caption>\n",
       "<thead>\n",
       "\t<tr><th scope=col>Duration</th><th scope=col>Distance</th><th scope=col>Avg.Pace</th><th scope=col>Max.Pace</th><th scope=col>Avg.Spd</th><th scope=col>Cal.Burned</th></tr>\n",
       "\t<tr><th scope=col>&lt;dbl&gt;</th><th scope=col>&lt;dbl&gt;</th><th scope=col>&lt;dbl&gt;</th><th scope=col>&lt;dbl&gt;</th><th scope=col>&lt;dbl&gt;</th><th scope=col>&lt;dbl&gt;</th></tr>\n",
       "</thead>\n",
       "<tbody>\n",
       "</tbody>\n",
       "</table>\n"
      ],
      "text/latex": [
       "A data.frame: 0 × 6\n",
       "\\begin{tabular}{llllll}\n",
       " Duration & Distance & Avg.Pace & Max.Pace & Avg.Spd & Cal.Burned\\\\\n",
       " <dbl> & <dbl> & <dbl> & <dbl> & <dbl> & <dbl>\\\\\n",
       "\\hline\n",
       "\\end{tabular}\n"
      ],
      "text/markdown": [
       "\n",
       "A data.frame: 0 × 6\n",
       "\n",
       "| Duration &lt;dbl&gt; | Distance &lt;dbl&gt; | Avg.Pace &lt;dbl&gt; | Max.Pace &lt;dbl&gt; | Avg.Spd &lt;dbl&gt; | Cal.Burned &lt;dbl&gt; |\n",
       "|---|---|---|---|---|---|\n",
       "\n"
      ],
      "text/plain": [
       "     Duration Distance Avg.Pace Max.Pace Avg.Spd Cal.Burned"
      ]
     },
     "metadata": {},
     "output_type": "display_data"
    }
   ],
   "source": [
    "head(df2, 4)"
   ]
  },
  {
   "cell_type": "code",
   "execution_count": 52,
   "metadata": {
    "vscode": {
     "languageId": "r"
    }
   },
   "outputs": [],
   "source": [
    "#Create subsets for years 2021 and 2022\n",
    "df2022 <- df[df$Date >= \"2022-01-01\",]\n",
    "df2021 <- subset(df, Date < \"2022-01-01\" & Date >= \"2021-01-01\")"
   ]
  },
  {
   "cell_type": "code",
   "execution_count": 53,
   "metadata": {
    "vscode": {
     "languageId": "r"
    }
   },
   "outputs": [],
   "source": [
    "library(lubridate)"
   ]
  },
  {
   "cell_type": "code",
   "execution_count": 54,
   "metadata": {
    "vscode": {
     "languageId": "r"
    }
   },
   "outputs": [],
   "source": [
    "df$year <- format(df$Date, format = \"%Y\")\n",
    "df$year <- as.integer(df$year)"
   ]
  },
  {
   "cell_type": "code",
   "execution_count": 55,
   "metadata": {
    "vscode": {
     "languageId": "r"
    }
   },
   "outputs": [
    {
     "data": {
      "text/html": [
       "<table class=\"dataframe\">\n",
       "<caption>A data.frame: 0 × 13</caption>\n",
       "<thead>\n",
       "\t<tr><th scope=col>Date</th><th scope=col>Activity</th><th scope=col>Duration</th><th scope=col>Distance</th><th scope=col>Avg.Pace</th><th scope=col>Max.Pace</th><th scope=col>Avg.Spd</th><th scope=col>Cal.Burned</th><th scope=col>Avg.HR</th><th scope=col>Steps</th><th scope=col>mileage</th><th scope=col>minutes</th><th scope=col>year</th></tr>\n",
       "\t<tr><th scope=col>&lt;date&gt;</th><th scope=col>&lt;chr&gt;</th><th scope=col>&lt;dbl&gt;</th><th scope=col>&lt;dbl&gt;</th><th scope=col>&lt;dbl&gt;</th><th scope=col>&lt;dbl&gt;</th><th scope=col>&lt;dbl&gt;</th><th scope=col>&lt;dbl&gt;</th><th scope=col>&lt;lgl&gt;</th><th scope=col>&lt;lgl&gt;</th><th scope=col>&lt;fct&gt;</th><th scope=col>&lt;dbl&gt;</th><th scope=col>&lt;int&gt;</th></tr>\n",
       "</thead>\n",
       "<tbody>\n",
       "</tbody>\n",
       "</table>\n"
      ],
      "text/latex": [
       "A data.frame: 0 × 13\n",
       "\\begin{tabular}{lllllllllllll}\n",
       " Date & Activity & Duration & Distance & Avg.Pace & Max.Pace & Avg.Spd & Cal.Burned & Avg.HR & Steps & mileage & minutes & year\\\\\n",
       " <date> & <chr> & <dbl> & <dbl> & <dbl> & <dbl> & <dbl> & <dbl> & <lgl> & <lgl> & <fct> & <dbl> & <int>\\\\\n",
       "\\hline\n",
       "\\end{tabular}\n"
      ],
      "text/markdown": [
       "\n",
       "A data.frame: 0 × 13\n",
       "\n",
       "| Date &lt;date&gt; | Activity &lt;chr&gt; | Duration &lt;dbl&gt; | Distance &lt;dbl&gt; | Avg.Pace &lt;dbl&gt; | Max.Pace &lt;dbl&gt; | Avg.Spd &lt;dbl&gt; | Cal.Burned &lt;dbl&gt; | Avg.HR &lt;lgl&gt; | Steps &lt;lgl&gt; | mileage &lt;fct&gt; | minutes &lt;dbl&gt; | year &lt;int&gt; |\n",
       "|---|---|---|---|---|---|---|---|---|---|---|---|---|\n",
       "\n"
      ],
      "text/plain": [
       "     Date Activity Duration Distance Avg.Pace Max.Pace Avg.Spd Cal.Burned\n",
       "     Avg.HR Steps mileage minutes year"
      ]
     },
     "metadata": {},
     "output_type": "display_data"
    }
   ],
   "source": [
    "head(df, 4)"
   ]
  },
  {
   "cell_type": "code",
   "execution_count": 56,
   "metadata": {
    "vscode": {
     "languageId": "r"
    }
   },
   "outputs": [
    {
     "data": {
      "image/png": "[encoded data removed]",
      "text/plain": [
       "plot without title"
      ]
     },
     "metadata": {
      "image/png": {
       "height": 420,
       "width": 420
      }
     },
     "output_type": "display_data"
    }
   ],
   "source": [
    "ggplot(data = df, mapping = aes(x = Distance, y = Cal.Burned, color = mileage)) + \n",
    "    geom_point() + geom_smooth(aes(color = year))"
   ]
  },
  {
   "cell_type": "code",
   "execution_count": 57,
   "metadata": {
    "vscode": {
     "languageId": "r"
    }
   },
   "outputs": [
    {
     "name": "stderr",
     "output_type": "stream",
     "text": [
      "ERROR while rich displaying an object: \u001b[1m\u001b[33mError\u001b[39m in \u001b[1m\u001b[1m`combine_vars()`:\u001b[22m\n",
      "\u001b[33m!\u001b[39m Faceting variables must have at least one value\n",
      "\n",
      "Traceback:\n",
      "1. tryCatch(withCallingHandlers({\n",
      " .     if (!mime %in% names(repr::mime2repr)) \n",
      " .         stop(\"No repr_* for mimetype \", mime, \" in repr::mime2repr\")\n",
      " .     rpr <- repr::mime2repr[[mime]](obj)\n",
      " .     if (is.null(rpr)) \n",
      " .         return(NULL)\n",
      " .     prepare_content(is.raw(rpr), rpr)\n",
      " . }, error = error_handler), error = outer_handler)\n",
      "2. tryCatchList(expr, classes, parentenv, handlers)\n",
      "3. tryCatchOne(expr, names, parentenv, handlers[[1L]])\n",
      "4. doTryCatch(return(expr), name, parentenv, handler)\n",
      "5. withCallingHandlers({\n",
      " .     if (!mime %in% names(repr::mime2repr)) \n",
      " .         stop(\"No repr_* for mimetype \", mime, \" in repr::mime2repr\")\n",
      " .     rpr <- repr::mime2repr[[mime]](obj)\n",
      " .     if (is.null(rpr)) \n",
      " .         return(NULL)\n",
      " .     prepare_content(is.raw(rpr), rpr)\n",
      " . }, error = error_handler)\n",
      "6. repr::mime2repr[[mime]](obj)\n",
      "7. repr_text.default(obj)\n",
      "8. paste(capture.output(print(obj)), collapse = \"\\n\")\n",
      "9. capture.output(print(obj))\n",
      "10. withVisible(...elt(i))\n",
      "11. print(obj)\n",
      "12. print.ggplot(obj)\n",
      "13. ggplot_build(x)\n",
      "14. ggplot_build.ggplot(x)\n",
      "15. layout$setup(data, plot$data, plot$plot_env)\n",
      "16. f(..., self = self)\n",
      "17. self$facet$compute_layout(data, self$facet_params)\n",
      "18. f(...)\n",
      "19. unrowname(combine_vars(data, params$plot_env, vars, drop = params$drop))\n",
      "20. is.data.frame(x)\n",
      "21. combine_vars(data, params$plot_env, vars, drop = params$drop)\n",
      "22. abort(\"Faceting variables must have at least one value\")\n",
      "23. signal_abort(cnd, .file)\n"
     ]
    }
   ],
   "source": [
    "library(ggplot2)\n",
    "ggplot(data=df, aes(x=Distance)) +\n",
    "  geom_histogram(fill=\"steelblue\", color=\"black\") +\n",
    "  ggtitle(\"Histogram of Runs\") +\n",
    "  facet_wrap(~year) +\n",
    "  theme(axis.text.x = element_text(angle = 45, hjust = 1),\n",
    "  plot.background = element_rect(fill = \"#a3c5ff\"))"
   ]
  },
  {
   "cell_type": "code",
   "execution_count": 58,
   "metadata": {
    "vscode": {
     "languageId": "r"
    }
   },
   "outputs": [
    {
     "data": {
      "image/png": "[encoded data removed]",
      "text/plain": [
       "plot without title"
      ]
     },
     "metadata": {
      "image/png": {
       "height": 420,
       "width": 420
      }
     },
     "output_type": "display_data"
    }
   ],
   "source": [
    "ggplot(data=df, aes(x=Distance, y=Duration, color=year)) + \n",
    "  geom_point()"
   ]
  },
  {
   "cell_type": "code",
   "execution_count": 59,
   "metadata": {
    "vscode": {
     "languageId": "r"
    }
   },
   "outputs": [
    {
     "data": {
      "image/png": "[encoded data removed]",
      "text/plain": [
       "plot without title"
      ]
     },
     "metadata": {
      "image/png": {
       "height": 420,
       "width": 420
      }
     },
     "output_type": "display_data"
    }
   ],
   "source": [
    "ggplot(data=df, aes(x=Distance, y=year)) + \n",
    "  geom_boxplot(fill=\"steelblue\")"
   ]
  },
  {
   "cell_type": "code",
   "execution_count": 60,
   "metadata": {
    "vscode": {
     "languageId": "r"
    }
   },
   "outputs": [],
   "source": [
    "# df <- df %>% mutate(new_bin = cut(Distance, breaks=c(0, 3.09, 6.21, 13.09, 15)))\n"
   ]
  },
  {
   "cell_type": "code",
   "execution_count": 61,
   "metadata": {
    "vscode": {
     "languageId": "r"
    }
   },
   "outputs": [],
   "source": [
    "names(df)[names(df) == \"new_bin\"] <- \"Miles\""
   ]
  },
  {
   "cell_type": "code",
   "execution_count": 62,
   "metadata": {
    "vscode": {
     "languageId": "r"
    }
   },
   "outputs": [
    {
     "data": {
      "text/html": [
       "<table class=\"dataframe\">\n",
       "<caption>A data.frame: 0 × 13</caption>\n",
       "<thead>\n",
       "\t<tr><th scope=col>Date</th><th scope=col>Activity</th><th scope=col>Duration</th><th scope=col>Distance</th><th scope=col>Avg.Pace</th><th scope=col>Max.Pace</th><th scope=col>Avg.Spd</th><th scope=col>Cal.Burned</th><th scope=col>Avg.HR</th><th scope=col>Steps</th><th scope=col>mileage</th><th scope=col>minutes</th><th scope=col>year</th></tr>\n",
       "\t<tr><th scope=col>&lt;date&gt;</th><th scope=col>&lt;chr&gt;</th><th scope=col>&lt;dbl&gt;</th><th scope=col>&lt;dbl&gt;</th><th scope=col>&lt;dbl&gt;</th><th scope=col>&lt;dbl&gt;</th><th scope=col>&lt;dbl&gt;</th><th scope=col>&lt;dbl&gt;</th><th scope=col>&lt;lgl&gt;</th><th scope=col>&lt;lgl&gt;</th><th scope=col>&lt;fct&gt;</th><th scope=col>&lt;dbl&gt;</th><th scope=col>&lt;int&gt;</th></tr>\n",
       "</thead>\n",
       "<tbody>\n",
       "</tbody>\n",
       "</table>\n"
      ],
      "text/latex": [
       "A data.frame: 0 × 13\n",
       "\\begin{tabular}{lllllllllllll}\n",
       " Date & Activity & Duration & Distance & Avg.Pace & Max.Pace & Avg.Spd & Cal.Burned & Avg.HR & Steps & mileage & minutes & year\\\\\n",
       " <date> & <chr> & <dbl> & <dbl> & <dbl> & <dbl> & <dbl> & <dbl> & <lgl> & <lgl> & <fct> & <dbl> & <int>\\\\\n",
       "\\hline\n",
       "\\end{tabular}\n"
      ],
      "text/markdown": [
       "\n",
       "A data.frame: 0 × 13\n",
       "\n",
       "| Date &lt;date&gt; | Activity &lt;chr&gt; | Duration &lt;dbl&gt; | Distance &lt;dbl&gt; | Avg.Pace &lt;dbl&gt; | Max.Pace &lt;dbl&gt; | Avg.Spd &lt;dbl&gt; | Cal.Burned &lt;dbl&gt; | Avg.HR &lt;lgl&gt; | Steps &lt;lgl&gt; | mileage &lt;fct&gt; | minutes &lt;dbl&gt; | year &lt;int&gt; |\n",
       "|---|---|---|---|---|---|---|---|---|---|---|---|---|\n",
       "\n"
      ],
      "text/plain": [
       "     Date Activity Duration Distance Avg.Pace Max.Pace Avg.Spd Cal.Burned\n",
       "     Avg.HR Steps mileage minutes year"
      ]
     },
     "metadata": {},
     "output_type": "display_data"
    }
   ],
   "source": [
    "head(df, 1)"
   ]
  },
  {
   "cell_type": "code",
   "execution_count": 63,
   "metadata": {
    "vscode": {
     "languageId": "r"
    }
   },
   "outputs": [
    {
     "data": {
      "image/png": "[encoded data removed]",
      "text/plain": [
       "plot without title"
      ]
     },
     "metadata": {
      "image/png": {
       "height": 420,
       "width": 420
      }
     },
     "output_type": "display_data"
    }
   ],
   "source": [
    "ggplot(data=df, aes(x=Distance, y=Cal.Burned, color=mileage)) + \n",
    "  geom_point()"
   ]
  },
  {
   "cell_type": "code",
   "execution_count": 64,
   "metadata": {
    "vscode": {
     "languageId": "r"
    }
   },
   "outputs": [
    {
     "data": {
      "text/html": [
       "<style>\n",
       ".dl-inline {width: auto; margin:0; padding: 0}\n",
       ".dl-inline>dt, .dl-inline>dd {float: none; width: auto; display: inline-block}\n",
       ".dl-inline>dt::after {content: \":\\0020\"; padding-right: .5ex}\n",
       ".dl-inline>dt:not(:first-of-type) {padding-left: .5ex}\n",
       "</style><dl class=dl-inline><dt>Date</dt><dd>0</dd><dt>Activity</dt><dd>0</dd><dt>Duration</dt><dd>0</dd><dt>Distance</dt><dd>0</dd><dt>Avg.Pace</dt><dd>0</dd><dt>Max.Pace</dt><dd>0</dd><dt>Avg.Spd</dt><dd>0</dd><dt>Cal.Burned</dt><dd>0</dd><dt>Avg.HR</dt><dd>0</dd><dt>Steps</dt><dd>0</dd><dt>mileage</dt><dd>0</dd><dt>minutes</dt><dd>0</dd><dt>year</dt><dd>0</dd></dl>\n"
      ],
      "text/latex": [
       "\\begin{description*}\n",
       "\\item[Date] 0\n",
       "\\item[Activity] 0\n",
       "\\item[Duration] 0\n",
       "\\item[Distance] 0\n",
       "\\item[Avg.Pace] 0\n",
       "\\item[Max.Pace] 0\n",
       "\\item[Avg.Spd] 0\n",
       "\\item[Cal.Burned] 0\n",
       "\\item[Avg.HR] 0\n",
       "\\item[Steps] 0\n",
       "\\item[mileage] 0\n",
       "\\item[minutes] 0\n",
       "\\item[year] 0\n",
       "\\end{description*}\n"
      ],
      "text/markdown": [
       "Date\n",
       ":   0Activity\n",
       ":   0Duration\n",
       ":   0Distance\n",
       ":   0Avg.Pace\n",
       ":   0Max.Pace\n",
       ":   0Avg.Spd\n",
       ":   0Cal.Burned\n",
       ":   0Avg.HR\n",
       ":   0Steps\n",
       ":   0mileage\n",
       ":   0minutes\n",
       ":   0year\n",
       ":   0\n",
       "\n"
      ],
      "text/plain": [
       "      Date   Activity   Duration   Distance   Avg.Pace   Max.Pace    Avg.Spd \n",
       "         0          0          0          0          0          0          0 \n",
       "Cal.Burned     Avg.HR      Steps    mileage    minutes       year \n",
       "         0          0          0          0          0          0 "
      ]
     },
     "metadata": {},
     "output_type": "display_data"
    }
   ],
   "source": [
    "sapply(df, function(x) sum(is.na(x)))\n",
    "#sapply(df, function(x) sum(duplicated(x)))"
   ]
  },
  {
   "cell_type": "code",
   "execution_count": 65,
   "metadata": {
    "vscode": {
     "languageId": "r"
    }
   },
   "outputs": [
    {
     "data": {
      "text/html": [
       "<table class=\"dataframe\">\n",
       "<caption>A data.frame: 0 × 13</caption>\n",
       "<thead>\n",
       "\t<tr><th scope=col>Date</th><th scope=col>Activity</th><th scope=col>Duration</th><th scope=col>Distance</th><th scope=col>Avg.Pace</th><th scope=col>Max.Pace</th><th scope=col>Avg.Spd</th><th scope=col>Cal.Burned</th><th scope=col>Avg.HR</th><th scope=col>Steps</th><th scope=col>mileage</th><th scope=col>minutes</th><th scope=col>year</th></tr>\n",
       "\t<tr><th scope=col>&lt;date&gt;</th><th scope=col>&lt;chr&gt;</th><th scope=col>&lt;dbl&gt;</th><th scope=col>&lt;dbl&gt;</th><th scope=col>&lt;dbl&gt;</th><th scope=col>&lt;dbl&gt;</th><th scope=col>&lt;dbl&gt;</th><th scope=col>&lt;dbl&gt;</th><th scope=col>&lt;lgl&gt;</th><th scope=col>&lt;lgl&gt;</th><th scope=col>&lt;fct&gt;</th><th scope=col>&lt;dbl&gt;</th><th scope=col>&lt;int&gt;</th></tr>\n",
       "</thead>\n",
       "<tbody>\n",
       "</tbody>\n",
       "</table>\n"
      ],
      "text/latex": [
       "A data.frame: 0 × 13\n",
       "\\begin{tabular}{lllllllllllll}\n",
       " Date & Activity & Duration & Distance & Avg.Pace & Max.Pace & Avg.Spd & Cal.Burned & Avg.HR & Steps & mileage & minutes & year\\\\\n",
       " <date> & <chr> & <dbl> & <dbl> & <dbl> & <dbl> & <dbl> & <dbl> & <lgl> & <lgl> & <fct> & <dbl> & <int>\\\\\n",
       "\\hline\n",
       "\\end{tabular}\n"
      ],
      "text/markdown": [
       "\n",
       "A data.frame: 0 × 13\n",
       "\n",
       "| Date &lt;date&gt; | Activity &lt;chr&gt; | Duration &lt;dbl&gt; | Distance &lt;dbl&gt; | Avg.Pace &lt;dbl&gt; | Max.Pace &lt;dbl&gt; | Avg.Spd &lt;dbl&gt; | Cal.Burned &lt;dbl&gt; | Avg.HR &lt;lgl&gt; | Steps &lt;lgl&gt; | mileage &lt;fct&gt; | minutes &lt;dbl&gt; | year &lt;int&gt; |\n",
       "|---|---|---|---|---|---|---|---|---|---|---|---|---|\n",
       "\n"
      ],
      "text/plain": [
       "     Date Activity Duration Distance Avg.Pace Max.Pace Avg.Spd Cal.Burned\n",
       "     Avg.HR Steps mileage minutes year"
      ]
     },
     "metadata": {},
     "output_type": "display_data"
    }
   ],
   "source": [
    "head(df, 4)"
   ]
  },
  {
   "cell_type": "code",
   "execution_count": 66,
   "metadata": {
    "vscode": {
     "languageId": "r"
    }
   },
   "outputs": [
    {
     "data": {
      "text/html": [
       "0"
      ],
      "text/latex": [
       "0"
      ],
      "text/markdown": [
       "0"
      ],
      "text/plain": [
       "[1] 0"
      ]
     },
     "metadata": {},
     "output_type": "display_data"
    }
   ],
   "source": [
    "nrow(df)"
   ]
  },
  {
   "cell_type": "markdown",
   "metadata": {},
   "source": [
    "## Update my Google Data Studio Data File"
   ]
  },
  {
   "cell_type": "code",
   "execution_count": 67,
   "metadata": {
    "vscode": {
     "languageId": "r"
    }
   },
   "outputs": [],
   "source": [
    "#install.packages(\"reticulate\")\n",
    "library(reticulate)\n",
    "#use_python(\"C:/ProgramData/Anaconda3/python.exe\")\n",
    "use_python(\"C:/users/coleb/mambaforge/python.exe\")\n",
    "py_run_file(\"C:/Users/coleb/OneDrive/Coraline/MapMyRunProjects/csv to Google Sheets py script.py\")"
   ]
  },
  {
   "cell_type": "code",
   "execution_count": 182,
   "metadata": {
    "vscode": {
     "languageId": "r"
    }
   },
   "outputs": [],
   "source": [
    "# df4 <- googlesheets4::read_sheet(\"https://docs.google.com/spreadsheets/d/19EApq3X76jXNkxdsE3EEF2xvjBzS7RMxeMZAhniHCds/edit?usp=sharing\")"
   ]
  },
  {
   "cell_type": "markdown",
   "metadata": {},
   "source": [
    "## Amazon Halo Data"
   ]
  },
  {
   "cell_type": "code",
   "execution_count": 183,
   "metadata": {
    "vscode": {
     "languageId": "r"
    }
   },
   "outputs": [],
   "source": [
    "hdf <- read.csv(\"https://raw.githubusercontent.com/Cbhami/Coraline/master/Resources/csv%20data/Activity_Workouts_1970-01-01--2022-07-15_637a6b45-761f-4361-b9e9-13651fb7ee20.csv\")"
   ]
  },
  {
   "cell_type": "code",
   "execution_count": 184,
   "metadata": {
    "vscode": {
     "languageId": "r"
    }
   },
   "outputs": [
    {
     "data": {
      "text/html": [
       "<table class=\"dataframe\">\n",
       "<caption>A data.frame: 2 × 20</caption>\n",
       "<thead>\n",
       "\t<tr><th></th><th scope=col>Start.Time</th><th scope=col>End.Time</th><th scope=col>Session.Type</th><th scope=col>Session.Subtype</th><th scope=col>Creation.Method</th><th scope=col>Local.Time.Zone.Offset</th><th scope=col>Activity.Score</th><th scope=col>Intense.Duration..ms.</th><th scope=col>Moderate.Duration..ms.</th><th scope=col>Max.Heart.Rate..bpm.</th><th scope=col>Average.Heart.Rate..bpm.</th><th scope=col>Steps</th><th scope=col>Calories</th><th scope=col>Software.Version</th><th scope=col>Software.OS</th><th scope=col>Software.OS.Version</th><th scope=col>Active.Time..ms.</th><th scope=col>Total.Duration..ms.</th><th scope=col>Activity.Pause</th><th scope=col>Session.Source</th></tr>\n",
       "\t<tr><th></th><th scope=col>&lt;chr&gt;</th><th scope=col>&lt;chr&gt;</th><th scope=col>&lt;chr&gt;</th><th scope=col>&lt;chr&gt;</th><th scope=col>&lt;chr&gt;</th><th scope=col>&lt;dbl&gt;</th><th scope=col>&lt;chr&gt;</th><th scope=col>&lt;chr&gt;</th><th scope=col>&lt;chr&gt;</th><th scope=col>&lt;dbl&gt;</th><th scope=col>&lt;dbl&gt;</th><th scope=col>&lt;dbl&gt;</th><th scope=col>&lt;dbl&gt;</th><th scope=col>&lt;chr&gt;</th><th scope=col>&lt;chr&gt;</th><th scope=col>&lt;dbl&gt;</th><th scope=col>&lt;dbl&gt;</th><th scope=col>&lt;dbl&gt;</th><th scope=col>&lt;chr&gt;</th><th scope=col>&lt;chr&gt;</th></tr>\n",
       "</thead>\n",
       "<tbody>\n",
       "\t<tr><th scope=row>1</th><td>2022-07-20T20:01:25.436Z</td><td>2022-07-20T21:05:07.544Z</td><td>WORKOUT</td><td>RUNNING</td><td>Automatic</td><td>-6</td><td>125.15453666666666</td><td>3720000.0</td><td>67544.0</td><td>171</td><td>153</td><td>9664</td><td>1068</td><td>1.0.118889</td><td>ios</td><td>15.6</td><td>3822108</td><td>3822108</td><td>Not Applicable</td><td>User Logged</td></tr>\n",
       "\t<tr><th scope=row>2</th><td>2022-07-18T16:20:58.102Z</td><td>2022-07-18T16:31:55.423Z</td><td>WORKOUT</td><td>WALKING</td><td>Automatic</td><td>-6</td><td>0.5461858333333334</td><td>No Data  </td><td>No Data</td><td>111</td><td> 93</td><td> 830</td><td>  75</td><td>1.0.118889</td><td>ios</td><td>15.6</td><td> 657321</td><td> 657321</td><td>Not Applicable</td><td>User Logged</td></tr>\n",
       "</tbody>\n",
       "</table>\n"
      ],
      "text/latex": [
       "A data.frame: 2 × 20\n",
       "\\begin{tabular}{r|llllllllllllllllllll}\n",
       "  & Start.Time & End.Time & Session.Type & Session.Subtype & Creation.Method & Local.Time.Zone.Offset & Activity.Score & Intense.Duration..ms. & Moderate.Duration..ms. & Max.Heart.Rate..bpm. & Average.Heart.Rate..bpm. & Steps & Calories & Software.Version & Software.OS & Software.OS.Version & Active.Time..ms. & Total.Duration..ms. & Activity.Pause & Session.Source\\\\\n",
       "  & <chr> & <chr> & <chr> & <chr> & <chr> & <dbl> & <chr> & <chr> & <chr> & <dbl> & <dbl> & <dbl> & <dbl> & <chr> & <chr> & <dbl> & <dbl> & <dbl> & <chr> & <chr>\\\\\n",
       "\\hline\n",
       "\t1 & 2022-07-20T20:01:25.436Z & 2022-07-20T21:05:07.544Z & WORKOUT & RUNNING & Automatic & -6 & 125.15453666666666 & 3720000.0 & 67544.0 & 171 & 153 & 9664 & 1068 & 1.0.118889 & ios & 15.6 & 3822108 & 3822108 & Not Applicable & User Logged\\\\\n",
       "\t2 & 2022-07-18T16:20:58.102Z & 2022-07-18T16:31:55.423Z & WORKOUT & WALKING & Automatic & -6 & 0.5461858333333334 & No Data   & No Data & 111 &  93 &  830 &   75 & 1.0.118889 & ios & 15.6 &  657321 &  657321 & Not Applicable & User Logged\\\\\n",
       "\\end{tabular}\n"
      ],
      "text/markdown": [
       "\n",
       "A data.frame: 2 × 20\n",
       "\n",
       "| <!--/--> | Start.Time &lt;chr&gt; | End.Time &lt;chr&gt; | Session.Type &lt;chr&gt; | Session.Subtype &lt;chr&gt; | Creation.Method &lt;chr&gt; | Local.Time.Zone.Offset &lt;dbl&gt; | Activity.Score &lt;chr&gt; | Intense.Duration..ms. &lt;chr&gt; | Moderate.Duration..ms. &lt;chr&gt; | Max.Heart.Rate..bpm. &lt;dbl&gt; | Average.Heart.Rate..bpm. &lt;dbl&gt; | Steps &lt;dbl&gt; | Calories &lt;dbl&gt; | Software.Version &lt;chr&gt; | Software.OS &lt;chr&gt; | Software.OS.Version &lt;dbl&gt; | Active.Time..ms. &lt;dbl&gt; | Total.Duration..ms. &lt;dbl&gt; | Activity.Pause &lt;chr&gt; | Session.Source &lt;chr&gt; |\n",
       "|---|---|---|---|---|---|---|---|---|---|---|---|---|---|---|---|---|---|---|---|---|\n",
       "| 1 | 2022-07-20T20:01:25.436Z | 2022-07-20T21:05:07.544Z | WORKOUT | RUNNING | Automatic | -6 | 125.15453666666666 | 3720000.0 | 67544.0 | 171 | 153 | 9664 | 1068 | 1.0.118889 | ios | 15.6 | 3822108 | 3822108 | Not Applicable | User Logged |\n",
       "| 2 | 2022-07-18T16:20:58.102Z | 2022-07-18T16:31:55.423Z | WORKOUT | WALKING | Automatic | -6 | 0.5461858333333334 | No Data   | No Data | 111 |  93 |  830 |   75 | 1.0.118889 | ios | 15.6 |  657321 |  657321 | Not Applicable | User Logged |\n",
       "\n"
      ],
      "text/plain": [
       "  Start.Time               End.Time                 Session.Type\n",
       "1 2022-07-20T20:01:25.436Z 2022-07-20T21:05:07.544Z WORKOUT     \n",
       "2 2022-07-18T16:20:58.102Z 2022-07-18T16:31:55.423Z WORKOUT     \n",
       "  Session.Subtype Creation.Method Local.Time.Zone.Offset Activity.Score    \n",
       "1 RUNNING         Automatic       -6                     125.15453666666666\n",
       "2 WALKING         Automatic       -6                     0.5461858333333334\n",
       "  Intense.Duration..ms. Moderate.Duration..ms. Max.Heart.Rate..bpm.\n",
       "1 3720000.0             67544.0                171                 \n",
       "2 No Data               No Data                111                 \n",
       "  Average.Heart.Rate..bpm. Steps Calories Software.Version Software.OS\n",
       "1 153                      9664  1068     1.0.118889       ios        \n",
       "2  93                       830    75     1.0.118889       ios        \n",
       "  Software.OS.Version Active.Time..ms. Total.Duration..ms. Activity.Pause\n",
       "1 15.6                3822108          3822108             Not Applicable\n",
       "2 15.6                 657321           657321             Not Applicable\n",
       "  Session.Source\n",
       "1 User Logged   \n",
       "2 User Logged   "
      ]
     },
     "metadata": {},
     "output_type": "display_data"
    }
   ],
   "source": [
    "head(hdf, 2)"
   ]
  },
  {
   "cell_type": "code",
   "execution_count": 185,
   "metadata": {
    "vscode": {
     "languageId": "r"
    }
   },
   "outputs": [],
   "source": [
    "cadf <- within(hdf, rm('Activity.Pause', 'Session.Source', 'Software.OS.Version', 'Software.OS'))"
   ]
  },
  {
   "cell_type": "code",
   "execution_count": 186,
   "metadata": {
    "vscode": {
     "languageId": "r"
    }
   },
   "outputs": [
    {
     "data": {
      "text/html": [
       "<table class=\"dataframe\">\n",
       "<caption>A data.frame: 2 × 16</caption>\n",
       "<thead>\n",
       "\t<tr><th></th><th scope=col>Start.Time</th><th scope=col>End.Time</th><th scope=col>Session.Type</th><th scope=col>Session.Subtype</th><th scope=col>Creation.Method</th><th scope=col>Local.Time.Zone.Offset</th><th scope=col>Activity.Score</th><th scope=col>Intense.Duration..ms.</th><th scope=col>Moderate.Duration..ms.</th><th scope=col>Max.Heart.Rate..bpm.</th><th scope=col>Average.Heart.Rate..bpm.</th><th scope=col>Steps</th><th scope=col>Calories</th><th scope=col>Software.Version</th><th scope=col>Active.Time..ms.</th><th scope=col>Total.Duration..ms.</th></tr>\n",
       "\t<tr><th></th><th scope=col>&lt;chr&gt;</th><th scope=col>&lt;chr&gt;</th><th scope=col>&lt;chr&gt;</th><th scope=col>&lt;chr&gt;</th><th scope=col>&lt;chr&gt;</th><th scope=col>&lt;dbl&gt;</th><th scope=col>&lt;chr&gt;</th><th scope=col>&lt;chr&gt;</th><th scope=col>&lt;chr&gt;</th><th scope=col>&lt;dbl&gt;</th><th scope=col>&lt;dbl&gt;</th><th scope=col>&lt;dbl&gt;</th><th scope=col>&lt;dbl&gt;</th><th scope=col>&lt;chr&gt;</th><th scope=col>&lt;dbl&gt;</th><th scope=col>&lt;dbl&gt;</th></tr>\n",
       "</thead>\n",
       "<tbody>\n",
       "\t<tr><th scope=row>1</th><td>2022-07-20T20:01:25.436Z</td><td>2022-07-20T21:05:07.544Z</td><td>WORKOUT</td><td>RUNNING</td><td>Automatic</td><td>-6</td><td>125.15453666666666</td><td>3720000.0</td><td>67544.0</td><td>171</td><td>153</td><td>9664</td><td>1068</td><td>1.0.118889</td><td>3822108</td><td>3822108</td></tr>\n",
       "\t<tr><th scope=row>2</th><td>2022-07-18T16:20:58.102Z</td><td>2022-07-18T16:31:55.423Z</td><td>WORKOUT</td><td>WALKING</td><td>Automatic</td><td>-6</td><td>0.5461858333333334</td><td>No Data  </td><td>No Data</td><td>111</td><td> 93</td><td> 830</td><td>  75</td><td>1.0.118889</td><td> 657321</td><td> 657321</td></tr>\n",
       "</tbody>\n",
       "</table>\n"
      ],
      "text/latex": [
       "A data.frame: 2 × 16\n",
       "\\begin{tabular}{r|llllllllllllllll}\n",
       "  & Start.Time & End.Time & Session.Type & Session.Subtype & Creation.Method & Local.Time.Zone.Offset & Activity.Score & Intense.Duration..ms. & Moderate.Duration..ms. & Max.Heart.Rate..bpm. & Average.Heart.Rate..bpm. & Steps & Calories & Software.Version & Active.Time..ms. & Total.Duration..ms.\\\\\n",
       "  & <chr> & <chr> & <chr> & <chr> & <chr> & <dbl> & <chr> & <chr> & <chr> & <dbl> & <dbl> & <dbl> & <dbl> & <chr> & <dbl> & <dbl>\\\\\n",
       "\\hline\n",
       "\t1 & 2022-07-20T20:01:25.436Z & 2022-07-20T21:05:07.544Z & WORKOUT & RUNNING & Automatic & -6 & 125.15453666666666 & 3720000.0 & 67544.0 & 171 & 153 & 9664 & 1068 & 1.0.118889 & 3822108 & 3822108\\\\\n",
       "\t2 & 2022-07-18T16:20:58.102Z & 2022-07-18T16:31:55.423Z & WORKOUT & WALKING & Automatic & -6 & 0.5461858333333334 & No Data   & No Data & 111 &  93 &  830 &   75 & 1.0.118889 &  657321 &  657321\\\\\n",
       "\\end{tabular}\n"
      ],
      "text/markdown": [
       "\n",
       "A data.frame: 2 × 16\n",
       "\n",
       "| <!--/--> | Start.Time &lt;chr&gt; | End.Time &lt;chr&gt; | Session.Type &lt;chr&gt; | Session.Subtype &lt;chr&gt; | Creation.Method &lt;chr&gt; | Local.Time.Zone.Offset &lt;dbl&gt; | Activity.Score &lt;chr&gt; | Intense.Duration..ms. &lt;chr&gt; | Moderate.Duration..ms. &lt;chr&gt; | Max.Heart.Rate..bpm. &lt;dbl&gt; | Average.Heart.Rate..bpm. &lt;dbl&gt; | Steps &lt;dbl&gt; | Calories &lt;dbl&gt; | Software.Version &lt;chr&gt; | Active.Time..ms. &lt;dbl&gt; | Total.Duration..ms. &lt;dbl&gt; |\n",
       "|---|---|---|---|---|---|---|---|---|---|---|---|---|---|---|---|---|\n",
       "| 1 | 2022-07-20T20:01:25.436Z | 2022-07-20T21:05:07.544Z | WORKOUT | RUNNING | Automatic | -6 | 125.15453666666666 | 3720000.0 | 67544.0 | 171 | 153 | 9664 | 1068 | 1.0.118889 | 3822108 | 3822108 |\n",
       "| 2 | 2022-07-18T16:20:58.102Z | 2022-07-18T16:31:55.423Z | WORKOUT | WALKING | Automatic | -6 | 0.5461858333333334 | No Data   | No Data | 111 |  93 |  830 |   75 | 1.0.118889 |  657321 |  657321 |\n",
       "\n"
      ],
      "text/plain": [
       "  Start.Time               End.Time                 Session.Type\n",
       "1 2022-07-20T20:01:25.436Z 2022-07-20T21:05:07.544Z WORKOUT     \n",
       "2 2022-07-18T16:20:58.102Z 2022-07-18T16:31:55.423Z WORKOUT     \n",
       "  Session.Subtype Creation.Method Local.Time.Zone.Offset Activity.Score    \n",
       "1 RUNNING         Automatic       -6                     125.15453666666666\n",
       "2 WALKING         Automatic       -6                     0.5461858333333334\n",
       "  Intense.Duration..ms. Moderate.Duration..ms. Max.Heart.Rate..bpm.\n",
       "1 3720000.0             67544.0                171                 \n",
       "2 No Data               No Data                111                 \n",
       "  Average.Heart.Rate..bpm. Steps Calories Software.Version Active.Time..ms.\n",
       "1 153                      9664  1068     1.0.118889       3822108         \n",
       "2  93                       830    75     1.0.118889        657321         \n",
       "  Total.Duration..ms.\n",
       "1 3822108            \n",
       "2  657321            "
      ]
     },
     "metadata": {},
     "output_type": "display_data"
    }
   ],
   "source": [
    "head(cadf, 2)"
   ]
  },
  {
   "cell_type": "markdown",
   "metadata": {},
   "source": [
    "### Test Split Date"
   ]
  },
  {
   "cell_type": "code",
   "execution_count": 187,
   "metadata": {
    "vscode": {
     "languageId": "r"
    }
   },
   "outputs": [],
   "source": [
    "dtparts <- t(as.data.frame(str_split(cadf$Start.Time, \"T\")))"
   ]
  },
  {
   "cell_type": "code",
   "execution_count": 188,
   "metadata": {
    "vscode": {
     "languageId": "r"
    }
   },
   "outputs": [],
   "source": [
    "row.names(dtparts) = NULL"
   ]
  },
  {
   "cell_type": "code",
   "execution_count": 189,
   "metadata": {
    "vscode": {
     "languageId": "r"
    }
   },
   "outputs": [
    {
     "name": "stderr",
     "output_type": "stream",
     "text": [
      "Installing package into 'C:/Rpack/library'\n",
      "(as 'lib' is unspecified)\n",
      "\n"
     ]
    },
    {
     "name": "stdout",
     "output_type": "stream",
     "text": [
      "package 'chron' successfully unpacked and MD5 sums checked\n"
     ]
    },
    {
     "name": "stderr",
     "output_type": "stream",
     "text": [
      "Warning message:\n",
      "\"cannot remove prior installation of package 'chron'\"\n",
      "Warning message in file.copy(savedcopy, lib, recursive = TRUE):\n",
      "\"problem copying C:\\Rpack\\library\\00LOCK\\chron\\libs\\x64\\chron.dll to C:\\Rpack\\library\\chron\\libs\\x64\\chron.dll: Permission denied\"\n",
      "Warning message:\n",
      "\"restored 'chron'\"\n"
     ]
    },
    {
     "name": "stdout",
     "output_type": "stream",
     "text": [
      "\n",
      "The downloaded binary packages are in\n",
      "\tC:\\Users\\coleb\\AppData\\Local\\Temp\\RtmpwhJmq2\\downloaded_packages\n"
     ]
    },
    {
     "name": "stderr",
     "output_type": "stream",
     "text": [
      "\n",
      "Attaching package: 'chron'\n",
      "\n",
      "\n",
      "The following objects are masked from 'package:lubridate':\n",
      "\n",
      "    days, hours, minutes, seconds, years\n",
      "\n",
      "\n"
     ]
    }
   ],
   "source": [
    "install.packages(\"chron\")\n",
    "library(chron)"
   ]
  },
  {
   "cell_type": "code",
   "execution_count": 190,
   "metadata": {
    "vscode": {
     "languageId": "r"
    }
   },
   "outputs": [],
   "source": [
    "dates = dtparts[,1]\n",
    "times = dtparts[,2]"
   ]
  },
  {
   "cell_type": "code",
   "execution_count": 191,
   "metadata": {
    "vscode": {
     "languageId": "r"
    }
   },
   "outputs": [],
   "source": [
    "dates <- as.Date(dates)\n",
    "dates <- as.data.frame(dates)\n"
   ]
  },
  {
   "cell_type": "code",
   "execution_count": 192,
   "metadata": {
    "vscode": {
     "languageId": "r"
    }
   },
   "outputs": [],
   "source": [
    "names(dates)[names(dates) == \"dates\"] <- \"Date\""
   ]
  },
  {
   "cell_type": "code",
   "execution_count": 193,
   "metadata": {
    "vscode": {
     "languageId": "r"
    }
   },
   "outputs": [],
   "source": [
    "cadf <- as.data.frame(cadf)"
   ]
  },
  {
   "cell_type": "code",
   "execution_count": 194,
   "metadata": {
    "vscode": {
     "languageId": "r"
    }
   },
   "outputs": [
    {
     "data": {
      "text/html": [
       "<table class=\"dataframe\">\n",
       "<caption>A data.frame: 114244 × 17</caption>\n",
       "<thead>\n",
       "\t<tr><th scope=col>Start.Time</th><th scope=col>End.Time</th><th scope=col>Session.Type</th><th scope=col>Session.Subtype</th><th scope=col>Creation.Method</th><th scope=col>Local.Time.Zone.Offset</th><th scope=col>Activity.Score</th><th scope=col>Intense.Duration..ms.</th><th scope=col>Moderate.Duration..ms.</th><th scope=col>Max.Heart.Rate..bpm.</th><th scope=col>Average.Heart.Rate..bpm.</th><th scope=col>Steps</th><th scope=col>Calories</th><th scope=col>Software.Version</th><th scope=col>Active.Time..ms.</th><th scope=col>Total.Duration..ms.</th><th scope=col>Date</th></tr>\n",
       "\t<tr><th scope=col>&lt;chr&gt;</th><th scope=col>&lt;chr&gt;</th><th scope=col>&lt;chr&gt;</th><th scope=col>&lt;chr&gt;</th><th scope=col>&lt;chr&gt;</th><th scope=col>&lt;dbl&gt;</th><th scope=col>&lt;chr&gt;</th><th scope=col>&lt;chr&gt;</th><th scope=col>&lt;chr&gt;</th><th scope=col>&lt;dbl&gt;</th><th scope=col>&lt;dbl&gt;</th><th scope=col>&lt;dbl&gt;</th><th scope=col>&lt;dbl&gt;</th><th scope=col>&lt;chr&gt;</th><th scope=col>&lt;dbl&gt;</th><th scope=col>&lt;dbl&gt;</th><th scope=col>&lt;date&gt;</th></tr>\n",
       "</thead>\n",
       "<tbody>\n",
       "\t<tr><td>2022-07-20T20:01:25.436Z</td><td>2022-07-20T21:05:07.544Z</td><td>WORKOUT</td><td>RUNNING</td><td>Automatic</td><td>-6</td><td>125.15453666666666</td><td>3720000.0</td><td>67544.0  </td><td>171</td><td>153</td><td> 9664</td><td>1068</td><td>1.0.118889</td><td>3822108</td><td>3822108</td><td>2022-07-20</td></tr>\n",
       "\t<tr><td>2022-07-18T16:20:58.102Z</td><td>2022-07-18T16:31:55.423Z</td><td>WORKOUT</td><td>WALKING</td><td>Automatic</td><td>-6</td><td>0.5461858333333334</td><td>No Data  </td><td>No Data  </td><td>111</td><td> 93</td><td>  830</td><td>  75</td><td>1.0.118889</td><td> 657321</td><td> 657321</td><td>2022-07-20</td></tr>\n",
       "\t<tr><td>2022-07-18T15:49:05.877Z</td><td>2022-07-18T16:00:03.144Z</td><td>WORKOUT</td><td>WALKING</td><td>Automatic</td><td>-6</td><td>0.4977225         </td><td>No Data  </td><td>No Data  </td><td>110</td><td> 98</td><td>  733</td><td>  80</td><td>1.0.118889</td><td> 657267</td><td> 657267</td><td>2022-07-20</td></tr>\n",
       "\t<tr><td>2022-07-18T15:22:12.198Z</td><td>2022-07-18T15:34:09.457Z</td><td>WORKOUT</td><td>WALKING</td><td>Automatic</td><td>-6</td><td>1.35              </td><td>No Data  </td><td>60000.0  </td><td>111</td><td> 95</td><td>  743</td><td>  82</td><td>1.0.118889</td><td> 717259</td><td> 717259</td><td>2022-07-20</td></tr>\n",
       "\t<tr><td>2022-07-18T11:29:11.486Z</td><td>2022-07-18T13:11:43.104Z</td><td>WORKOUT</td><td>RUNNING</td><td>Automatic</td><td>-6</td><td>191.76713333333333</td><td>5568514.0</td><td>360000.0 </td><td>162</td><td>141</td><td>15064</td><td>1535</td><td>1.0.118889</td><td>6151618</td><td>6151618</td><td>2022-07-20</td></tr>\n",
       "\t<tr><td>2022-07-18T00:20:44.568Z</td><td>2022-07-18T00:54:35.062Z</td><td>WORKOUT</td><td>RUNNING</td><td>Automatic</td><td>-6</td><td>57.01286          </td><td>1560000.0</td><td>300000.0 </td><td>175</td><td>141</td><td> 4463</td><td> 496</td><td>1.0.118889</td><td>2030494</td><td>2030494</td><td>2022-07-20</td></tr>\n",
       "\t<tr><td>2022-07-16T18:57:19.226Z</td><td>2022-07-16T19:31:10.404Z</td><td>WORKOUT</td><td>RUNNING</td><td>Automatic</td><td>-6</td><td>58.679566666666666</td><td>1680000.0</td><td>160774.0 </td><td>148</td><td>130</td><td> 4521</td><td> 445</td><td>1.0.118889</td><td>2031178</td><td>2031178</td><td>2022-07-20</td></tr>\n",
       "\t<tr><td>2022-07-15T22:04:00.000Z</td><td>2022-07-15T22:34:00.000Z</td><td>WORKOUT</td><td>OTHER  </td><td>Automatic</td><td>-6</td><td>10.55             </td><td>No Data  </td><td>600000.0 </td><td>115</td><td> 92</td><td>  600</td><td> 168</td><td>1.0.118889</td><td>1800000</td><td>1800000</td><td>2022-07-20</td></tr>\n",
       "\t<tr><td>2022-07-14T12:50:31.751Z</td><td>2022-07-14T13:31:22.500Z</td><td>WORKOUT</td><td>RUNNING</td><td>Automatic</td><td>-6</td><td>74.44854083333334 </td><td>2100000.0</td><td>262500.0 </td><td>166</td><td>143</td><td> 6084</td><td> 622</td><td>1.0.118889</td><td>2450749</td><td>2450749</td><td>2022-07-20</td></tr>\n",
       "\t<tr><td>2022-07-13T17:12:44.344Z</td><td>2022-07-13T17:34:00.000Z</td><td>WORKOUT</td><td>OTHER  </td><td>Automatic</td><td>-6</td><td>8.910933333333334 </td><td>No Data  </td><td>495656.0 </td><td>122</td><td> 93</td><td>  794</td><td> 122</td><td>1.0.118889</td><td>1275656</td><td>1275656</td><td>2022-07-20</td></tr>\n",
       "\t<tr><td>2022-07-13T16:30:21.362Z</td><td>2022-07-13T17:11:12.440Z</td><td>WORKOUT</td><td>RUNNING</td><td>Automatic</td><td>-6</td><td>73.20733333333334 </td><td>1980000.0</td><td>432440.0 </td><td>172</td><td>143</td><td> 5199</td><td> 593</td><td>1.0.118889</td><td>2451078</td><td>2451078</td><td>2022-07-20</td></tr>\n",
       "\t<tr><td>2022-07-13T05:23:29.314Z</td><td>2022-07-13T05:37:25.906Z</td><td>WORKOUT</td><td>WALKING</td><td>Automatic</td><td>-6</td><td>0.5755716666666667</td><td>No Data  </td><td>No Data  </td><td>110</td><td> 87</td><td> 1125</td><td>  89</td><td>1.0.118889</td><td> 836592</td><td> 836592</td><td>2022-07-20</td></tr>\n",
       "\t<tr><td>2022-07-12T17:58:11.466Z</td><td>2022-07-12T18:09:08.976Z</td><td>WORKOUT</td><td>WALKING</td><td>Automatic</td><td>-6</td><td>1.4               </td><td>No Data  </td><td>60000.0  </td><td>104</td><td> 79</td><td>  775</td><td>  48</td><td>1.0.118889</td><td> 657510</td><td> 657510</td><td>2022-07-20</td></tr>\n",
       "\t<tr><td>2022-07-12T16:00:00.000Z</td><td>2022-07-12T16:10:00.000Z</td><td>WORKOUT</td><td>OTHER  </td><td>Automatic</td><td>-6</td><td>9.0               </td><td>No Data  </td><td>540000.0 </td><td>125</td><td>115</td><td>  674</td><td>  97</td><td>1.0.118889</td><td> 600000</td><td> 600000</td><td>2022-07-20</td></tr>\n",
       "\t<tr><td>2022-07-12T15:21:45.615Z</td><td>2022-07-12T15:59:37.701Z</td><td>WORKOUT</td><td>RUNNING</td><td>Automatic</td><td>-6</td><td>68.7403375        </td><td>1980000.0</td><td>157701.0 </td><td>172</td><td>149</td><td> 5533</td><td> 608</td><td>1.0.118889</td><td>2272086</td><td>2272086</td><td>2022-07-20</td></tr>\n",
       "\t<tr><td>2022-07-11T21:12:24.182Z</td><td>2022-07-11T21:33:19.401Z</td><td>WORKOUT</td><td>WALKING</td><td>Automatic</td><td>-6</td><td>4.646015833333333 </td><td>No Data  </td><td>240000.0 </td><td>114</td><td> 99</td><td> 1424</td><td> 162</td><td>1.0.118889</td><td>1255219</td><td>1255219</td><td>2022-07-20</td></tr>\n",
       "\t<tr><td>2022-07-11T19:27:00.000Z</td><td>2022-07-11T20:06:00.000Z</td><td>WORKOUT</td><td>OTHER  </td><td>Automatic</td><td>-6</td><td>26.4              </td><td>No Data  </td><td>1560000.0</td><td>132</td><td>100</td><td>  746</td><td> 304</td><td>1.0.118889</td><td>2340000</td><td>2340000</td><td>2022-07-20</td></tr>\n",
       "\t<tr><td>2022-07-11T18:55:00.000Z</td><td>2022-07-11T19:20:00.000Z</td><td>WORKOUT</td><td>OTHER  </td><td>Automatic</td><td>-6</td><td>22.05             </td><td>No Data  </td><td>1320000.0</td><td>125</td><td>104</td><td> 1160</td><td> 184</td><td>1.0.118889</td><td>1500000</td><td>1500000</td><td>2022-07-20</td></tr>\n",
       "\t<tr><td>2022-07-11T18:34:58.908Z</td><td>2022-07-11T18:54:54.799Z</td><td>WORKOUT</td><td>RUNNING</td><td>Automatic</td><td>-6</td><td>35.914226666666664</td><td>960000.0 </td><td>234799.0 </td><td>165</td><td>147</td><td> 2919</td><td> 316</td><td>1.0.118889</td><td>1195891</td><td>1195891</td><td>2022-07-20</td></tr>\n",
       "\t<tr><td>2022-07-10T17:12:25.443Z</td><td>2022-07-10T17:35:21.364Z</td><td>WORKOUT</td><td>WALKING</td><td>Automatic</td><td>-6</td><td>22.301899999999996</td><td>274557.0 </td><td>780000.0 </td><td>140</td><td>125</td><td> 1724</td><td> 272</td><td>1.0.118889</td><td>1375921</td><td>1375921</td><td>2022-07-20</td></tr>\n",
       "\t<tr><td>2022-07-10T16:46:30.782Z</td><td>2022-07-10T17:12:25.405Z</td><td>WORKOUT</td><td>RUNNING</td><td>Automatic</td><td>-6</td><td>47.92118166666667 </td><td>1405405.0</td><td>60000.0  </td><td>169</td><td>150</td><td> 3587</td><td> 419</td><td>1.0.118889</td><td>1554623</td><td>1554623</td><td>2022-07-20</td></tr>\n",
       "\t<tr><td>2022-07-09T17:37:00.000Z</td><td>2022-07-09T18:49:00.000Z</td><td>WORKOUT</td><td>OTHER  </td><td>Automatic</td><td>-6</td><td>51.95             </td><td>240000.0 </td><td>2580000.0</td><td>156</td><td>106</td><td> 2485</td><td> 535</td><td>1.0.118889</td><td>4320000</td><td>4320000</td><td>2022-07-20</td></tr>\n",
       "\t<tr><td>2022-07-09T16:52:00.000Z</td><td>2022-07-09T17:03:00.000Z</td><td>WORKOUT</td><td>OTHER  </td><td>Automatic</td><td>-6</td><td>11.05             </td><td>180000.0 </td><td>300000.0 </td><td>151</td><td>124</td><td>  437</td><td> 106</td><td>1.0.118889</td><td> 660000</td><td> 660000</td><td>2022-07-20</td></tr>\n",
       "\t<tr><td>2022-07-09T16:16:06.301Z</td><td>2022-07-09T16:51:58.601Z</td><td>WORKOUT</td><td>RUNNING</td><td>Automatic</td><td>-6</td><td>68.00336666666666 </td><td>2038601.0</td><td>No Data  </td><td>177</td><td>156</td><td> 5483</td><td> 601</td><td>1.0.118889</td><td>2152300</td><td>2152300</td><td>2022-07-20</td></tr>\n",
       "\t<tr><td>2022-07-08T20:35:43.703Z</td><td>2022-07-08T20:55:39.512Z</td><td>WORKOUT</td><td>WALKING</td><td>Automatic</td><td>-6</td><td>2.763580833333333 </td><td>No Data  </td><td>120000.0 </td><td>123</td><td> 97</td><td> 1214</td><td> 149</td><td>1.0.118889</td><td>1195809</td><td>1195809</td><td>2022-07-20</td></tr>\n",
       "\t<tr><td>2022-07-08T19:15:02.729Z</td><td>2022-07-08T19:55:53.044Z</td><td>WORKOUT</td><td>WALKING</td><td>Automatic</td><td>-6</td><td>6.547725833333334 </td><td>No Data  </td><td>300000.0 </td><td>123</td><td> 86</td><td> 2533</td><td> 242</td><td>1.0.118889</td><td>2450315</td><td>2450315</td><td>2022-07-20</td></tr>\n",
       "\t<tr><td>2022-07-08T16:34:41.433Z</td><td>2022-07-08T17:07:32.604Z</td><td>WORKOUT</td><td>RUNNING</td><td>Automatic</td><td>-6</td><td>65.7057           </td><td>1971171.0</td><td>No Data  </td><td>178</td><td>167</td><td> 5100</td><td> 622</td><td>1.0.118889</td><td>1971171</td><td>1971171</td><td>2022-07-20</td></tr>\n",
       "\t<tr><td>2022-06-17T04:54:10.702Z</td><td>2022-06-17T05:18:04.344Z</td><td>WORKOUT</td><td>RUNNING</td><td>Automatic</td><td>-5</td><td>41.16348166666667 </td><td>1140000.0</td><td>184344.0 </td><td>134</td><td>122</td><td> 3311</td><td> 289</td><td>1.0.114475</td><td>1433642</td><td>1433642</td><td>2022-07-20</td></tr>\n",
       "\t<tr><td>2022-06-16T23:48:00.936Z</td><td>2022-06-17T00:30:00.000Z</td><td>WORKOUT</td><td>OTHER  </td><td>Automatic</td><td>-5</td><td>14.99922          </td><td>No Data  </td><td>840000.0 </td><td>121</td><td> 84</td><td> 1038</td><td> 191</td><td>1.0.114475</td><td>2519064</td><td>2519064</td><td>2022-07-20</td></tr>\n",
       "\t<tr><td>2022-06-16T22:22:00.000Z</td><td>2022-06-16T22:53:00.000Z</td><td>WORKOUT</td><td>OTHER  </td><td>Automatic</td><td>-5</td><td>14.6              </td><td>No Data  </td><td>840000.0 </td><td>126</td><td> 94</td><td>  434</td><td> 138</td><td>1.0.114475</td><td>1860000</td><td>1860000</td><td>2022-07-20</td></tr>\n",
       "\t<tr><td>⋮</td><td>⋮</td><td>⋮</td><td>⋮</td><td>⋮</td><td>⋮</td><td>⋮</td><td>⋮</td><td>⋮</td><td>⋮</td><td>⋮</td><td>⋮</td><td>⋮</td><td>⋮</td><td>⋮</td><td>⋮</td><td>⋮</td></tr>\n",
       "\t<tr><td>2021-10-09T13:31:51.705Z</td><td>2021-10-09T14:04:07.097Z</td><td>WORKOUT</td><td>RUNNING</td><td>Automatic</td><td>-5</td><td>60.16828333333333  </td><td>1740000.0</td><td>127097.0 </td><td>182</td><td>159</td><td>4524</td><td>549</td><td>1.0.86939</td><td>1935392</td><td>1935392</td><td>2021-09-23</td></tr>\n",
       "\t<tr><td>2021-10-09T12:28:42.275Z</td><td>2021-10-09T12:38:47.617Z</td><td>WORKOUT</td><td>WALKING</td><td>Automatic</td><td>-5</td><td>0.43968083333333335</td><td>No Data  </td><td>No Data  </td><td> 83</td><td> 70</td><td> 656</td><td> 36</td><td>1.0.86939</td><td> 605342</td><td> 605342</td><td>2021-09-23</td></tr>\n",
       "\t<tr><td>2021-10-08T11:44:26.132Z</td><td>2021-10-08T12:16:50.498Z</td><td>WORKOUT</td><td>RUNNING</td><td>Automatic</td><td>-5</td><td>61.4061            </td><td>1740000.0</td><td>204366.0 </td><td>173</td><td>150</td><td>4658</td><td>500</td><td>1.0.86939</td><td>1944366</td><td>1944366</td><td>2021-09-23</td></tr>\n",
       "\t<tr><td>2021-10-06T12:17:00.000Z</td><td>2021-10-06T12:31:00.000Z</td><td>WORKOUT</td><td>OTHER  </td><td>Automatic</td><td>-5</td><td>13.15              </td><td>120000.0 </td><td>540000.0 </td><td>171</td><td>108</td><td> 460</td><td>101</td><td>1.0.86939</td><td> 840000</td><td> 840000</td><td>2021-09-23</td></tr>\n",
       "\t<tr><td>2021-10-06T11:46:51.974Z</td><td>2021-10-06T12:16:56.339Z</td><td>WORKOUT</td><td>RUNNING</td><td>Automatic</td><td>-5</td><td>57.934655          </td><td>1736339.0</td><td>No Data  </td><td>174</td><td>147</td><td>4867</td><td>449</td><td>1.0.86939</td><td>1804365</td><td>1804365</td><td>2021-09-23</td></tr>\n",
       "\t<tr><td>2021-10-06T11:46:51.974Z</td><td>2021-10-06T12:16:56.339Z</td><td>WORKOUT</td><td>RUNNING</td><td>Automatic</td><td>-5</td><td>57.934655          </td><td>1736339.0</td><td>No Data  </td><td>174</td><td>147</td><td>4867</td><td>449</td><td>1.0.86939</td><td>1804365</td><td>1804365</td><td>2021-09-23</td></tr>\n",
       "\t<tr><td>2021-10-04T23:36:45.606Z</td><td>2021-10-05T00:07:38.643Z</td><td>WORKOUT</td><td>RUNNING</td><td>Automatic</td><td>-5</td><td>55.0941975         </td><td>1560000.0</td><td>180000.0 </td><td>164</td><td>145</td><td>4388</td><td>452</td><td>1.0.86939</td><td>1853037</td><td>1853037</td><td>2021-09-23</td></tr>\n",
       "\t<tr><td>2021-10-03T20:20:23.161Z</td><td>2021-10-03T20:38:26.341Z</td><td>WORKOUT</td><td>WALKING</td><td>Automatic</td><td>-5</td><td>7.969715833333333  </td><td>No Data  </td><td>446341.0 </td><td>117</td><td> 92</td><td>1488</td><td>115</td><td>1.0.86939</td><td>1083180</td><td>1083180</td><td>2021-09-23</td></tr>\n",
       "\t<tr><td>2021-10-03T19:38:33.164Z</td><td>2021-10-03T19:57:38.353Z</td><td>WORKOUT</td><td>WALKING</td><td>Automatic</td><td>-5</td><td>2.8543241666666668 </td><td>No Data  </td><td>120000.0 </td><td>109</td><td> 82</td><td>1267</td><td> 99</td><td>1.0.86939</td><td>1145189</td><td>1145189</td><td>2021-09-23</td></tr>\n",
       "\t<tr><td>2021-10-03T17:30:35.474Z</td><td>2021-10-03T17:50:58.678Z</td><td>WORKOUT</td><td>WALKING</td><td>Automatic</td><td>-5</td><td>1.9                </td><td>No Data  </td><td>60000.0  </td><td>101</td><td> 74</td><td>1732</td><td> 93</td><td>1.0.86939</td><td>1223204</td><td>1223204</td><td>2021-09-23</td></tr>\n",
       "\t<tr><td>2021-10-03T16:56:18.037Z</td><td>2021-10-03T17:16:25.532Z</td><td>WORKOUT</td><td>WALKING</td><td>Automatic</td><td>-5</td><td>4.634969166666667  </td><td>No Data  </td><td>240000.0 </td><td>112</td><td> 78</td><td>1239</td><td> 93</td><td>1.0.86939</td><td>1207495</td><td>1207495</td><td>2021-09-23</td></tr>\n",
       "\t<tr><td>2021-10-03T13:36:33.072Z</td><td>2021-10-03T14:08:32.948Z</td><td>WORKOUT</td><td>RUNNING</td><td>Automatic</td><td>-5</td><td>57.62157333333333  </td><td>1620000.0</td><td>212948.0 </td><td>165</td><td>144</td><td>4457</td><td>462</td><td>1.0.86939</td><td>1919876</td><td>1919876</td><td>2021-09-23</td></tr>\n",
       "\t<tr><td>2021-10-02T20:01:51.215Z</td><td>2021-10-02T20:34:45.285Z</td><td>WORKOUT</td><td>RUNNING</td><td>Automatic</td><td>-5</td><td>59.76207083333333  </td><td>1620000.0</td><td>345285.0 </td><td>153</td><td>137</td><td>4481</td><td>444</td><td>1.0.86939</td><td>1974070</td><td>1974070</td><td>2021-09-23</td></tr>\n",
       "\t<tr><td>2021-09-29T13:14:00.000Z</td><td>2021-09-29T13:56:00.000Z</td><td>WORKOUT</td><td>OTHER  </td><td>Automatic</td><td>-5</td><td>20.7               </td><td>No Data  </td><td>1200000.0</td><td>121</td><td> 91</td><td>1512</td><td>207</td><td>1.0.86939</td><td>2520000</td><td>2520000</td><td>2021-09-23</td></tr>\n",
       "\t<tr><td>2021-09-29T11:58:35.741Z</td><td>2021-09-29T12:09:31.260Z</td><td>WORKOUT</td><td>RUNNING</td><td>Automatic</td><td>-5</td><td>16.404316666666666 </td><td>420000.0 </td><td>144259.0 </td><td>160</td><td>134</td><td>1305</td><td>145</td><td>1.0.86939</td><td> 655519</td><td> 655519</td><td>2021-09-23</td></tr>\n",
       "\t<tr><td>2021-09-29T11:24:00.000Z</td><td>2021-09-29T12:00:00.000Z</td><td>WORKOUT</td><td>OTHER  </td><td>Automatic</td><td>-5</td><td>16.85              </td><td>120000.0 </td><td>720000.0 </td><td>139</td><td> 94</td><td>1677</td><td>229</td><td>1.0.86939</td><td>2160000</td><td>2160000</td><td>2021-09-23</td></tr>\n",
       "\t<tr><td>2021-09-29T10:20:00.000Z</td><td>2021-09-29T10:44:00.000Z</td><td>WORKOUT</td><td>OTHER  </td><td>Automatic</td><td>-5</td><td>26.3               </td><td>480000.0 </td><td>600000.0 </td><td>149</td><td>111</td><td>2298</td><td>227</td><td>1.0.86939</td><td>1440000</td><td>1440000</td><td>2021-09-23</td></tr>\n",
       "\t<tr><td>2021-09-29T08:09:00.000Z</td><td>2021-09-29T08:30:00.000Z</td><td>WORKOUT</td><td>OTHER  </td><td>Automatic</td><td>-5</td><td>11.05              </td><td>No Data  </td><td>660000.0 </td><td>134</td><td>111</td><td>  27</td><td>103</td><td>1.0.86939</td><td>1260000</td><td>1260000</td><td>2021-09-23</td></tr>\n",
       "\t<tr><td>2021-09-28T12:57:15.873Z</td><td>2021-09-28T13:25:28.212Z</td><td>WORKOUT</td><td>WALKING</td><td>Automatic</td><td>-5</td><td>10.60896           </td><td>No Data  </td><td>584127.0 </td><td>121</td><td> 94</td><td>1609</td><td> 94</td><td>1.0.86939</td><td>1692339</td><td>1692339</td><td>2021-09-23</td></tr>\n",
       "\t<tr><td>2021-09-28T11:56:00.000Z</td><td>2021-09-28T12:42:00.000Z</td><td>WORKOUT</td><td>OTHER  </td><td>Automatic</td><td>-5</td><td>16.2               </td><td>No Data  </td><td>900000.0 </td><td>113</td><td> 91</td><td>2089</td><td>152</td><td>1.0.86939</td><td>2760000</td><td>2760000</td><td>2021-09-23</td></tr>\n",
       "\t<tr><td>2021-09-28T10:57:00.000Z</td><td>2021-09-28T11:22:00.000Z</td><td>WORKOUT</td><td>OTHER  </td><td>Automatic</td><td>-5</td><td>16.4               </td><td>No Data  </td><td>960000.0 </td><td>136</td><td> 98</td><td> 680</td><td> 84</td><td>1.0.86939</td><td>1500000</td><td>1500000</td><td>2021-09-23</td></tr>\n",
       "\t<tr><td>2021-09-28T10:05:11.133Z</td><td>2021-09-28T10:56:40.224Z</td><td>WORKOUT</td><td>RUNNING</td><td>Automatic</td><td>-5</td><td>94.7111225         </td><td>2640000.0</td><td>400224.0 </td><td>166</td><td>148</td><td>7611</td><td>548</td><td>1.0.86939</td><td>3089091</td><td>3089091</td><td>2021-09-23</td></tr>\n",
       "\t<tr><td>2021-09-27T12:59:00.000Z</td><td>2021-09-27T13:25:00.000Z</td><td>WORKOUT</td><td>OTHER  </td><td>Automatic</td><td>-5</td><td>14.3               </td><td>No Data  </td><td>840000.0 </td><td>111</td><td> 95</td><td> 718</td><td> 76</td><td>1.0.86939</td><td>1560000</td><td>1560000</td><td>2021-09-23</td></tr>\n",
       "\t<tr><td>2021-09-27T12:19:08.473Z</td><td>2021-09-27T12:58:47.413Z</td><td>WORKOUT</td><td>RUNNING</td><td>Automatic</td><td>-5</td><td>72.83315583333334  </td><td>2040000.0</td><td>287413.0 </td><td>159</td><td>143</td><td>5680</td><td>396</td><td>1.0.86939</td><td>2378940</td><td>2378940</td><td>2021-09-23</td></tr>\n",
       "\t<tr><td>2021-09-26T15:24:57.815Z</td><td>2021-09-26T16:03:50.992Z</td><td>WORKOUT</td><td>RUNNING</td><td>Automatic</td><td>-5</td><td>72.90168750000001  </td><td>2100000.0</td><td>170992.0 </td><td>165</td><td>147</td><td>5740</td><td>412</td><td>1.0.86939</td><td>2333177</td><td>2333177</td><td>2021-09-23</td></tr>\n",
       "\t<tr><td>2021-09-25T16:42:43.950Z</td><td>2021-09-25T17:20:33.052Z</td><td>WORKOUT</td><td>RUNNING</td><td>Automatic</td><td>-5</td><td>72.41923333333332  </td><td>2133052.0</td><td>76050.0  </td><td>171</td><td>148</td><td>5685</td><td>400</td><td>1.0.86939</td><td>2269102</td><td>2269102</td><td>2021-09-23</td></tr>\n",
       "\t<tr><td>2021-09-24T13:14:00.000Z</td><td>2021-09-24T13:52:00.000Z</td><td>WORKOUT</td><td>OTHER  </td><td>Automatic</td><td>-5</td><td>26.4               </td><td>No Data  </td><td>1560000.0</td><td>111</td><td> 97</td><td> 999</td><td>117</td><td>1.0.86939</td><td>2280000</td><td>2280000</td><td>2021-09-23</td></tr>\n",
       "\t<tr><td>2021-09-24T12:30:07.142Z</td><td>2021-09-24T13:13:14.739Z</td><td>WORKOUT</td><td>RUNNING</td><td>Automatic</td><td>-5</td><td>76.28969833333333  </td><td>2040000.0</td><td>494739.0 </td><td>172</td><td>150</td><td>6007</td><td>472</td><td>1.0.86939</td><td>2587597</td><td>2587597</td><td>2021-09-23</td></tr>\n",
       "\t<tr><td>2021-09-23T13:00:00.000Z</td><td>2021-09-23T13:27:00.000Z</td><td>WORKOUT</td><td>OTHER  </td><td>Automatic</td><td>-5</td><td>16.35              </td><td>No Data  </td><td>960000.0 </td><td>120</td><td> 95</td><td> 421</td><td> 82</td><td>1.0.86939</td><td>1620000</td><td>1620000</td><td>2021-09-23</td></tr>\n",
       "\t<tr><td>2021-09-23T12:18:41.932Z</td><td>2021-09-23T12:59:29.798Z</td><td>WORKOUT</td><td>RUNNING</td><td>Automatic</td><td>-5</td><td>76.51169           </td><td>2160000.0</td><td>269798.0 </td><td>165</td><td>143</td><td>5979</td><td>413</td><td>1.0.86939</td><td>2447866</td><td>2447866</td><td>2021-09-23</td></tr>\n",
       "</tbody>\n",
       "</table>\n"
      ],
      "text/latex": [
       "A data.frame: 114244 × 17\n",
       "\\begin{tabular}{lllllllllllllllll}\n",
       " Start.Time & End.Time & Session.Type & Session.Subtype & Creation.Method & Local.Time.Zone.Offset & Activity.Score & Intense.Duration..ms. & Moderate.Duration..ms. & Max.Heart.Rate..bpm. & Average.Heart.Rate..bpm. & Steps & Calories & Software.Version & Active.Time..ms. & Total.Duration..ms. & Date\\\\\n",
       " <chr> & <chr> & <chr> & <chr> & <chr> & <dbl> & <chr> & <chr> & <chr> & <dbl> & <dbl> & <dbl> & <dbl> & <chr> & <dbl> & <dbl> & <date>\\\\\n",
       "\\hline\n",
       "\t 2022-07-20T20:01:25.436Z & 2022-07-20T21:05:07.544Z & WORKOUT & RUNNING & Automatic & -6 & 125.15453666666666 & 3720000.0 & 67544.0   & 171 & 153 &  9664 & 1068 & 1.0.118889 & 3822108 & 3822108 & 2022-07-20\\\\\n",
       "\t 2022-07-18T16:20:58.102Z & 2022-07-18T16:31:55.423Z & WORKOUT & WALKING & Automatic & -6 & 0.5461858333333334 & No Data   & No Data   & 111 &  93 &   830 &   75 & 1.0.118889 &  657321 &  657321 & 2022-07-20\\\\\n",
       "\t 2022-07-18T15:49:05.877Z & 2022-07-18T16:00:03.144Z & WORKOUT & WALKING & Automatic & -6 & 0.4977225          & No Data   & No Data   & 110 &  98 &   733 &   80 & 1.0.118889 &  657267 &  657267 & 2022-07-20\\\\\n",
       "\t 2022-07-18T15:22:12.198Z & 2022-07-18T15:34:09.457Z & WORKOUT & WALKING & Automatic & -6 & 1.35               & No Data   & 60000.0   & 111 &  95 &   743 &   82 & 1.0.118889 &  717259 &  717259 & 2022-07-20\\\\\n",
       "\t 2022-07-18T11:29:11.486Z & 2022-07-18T13:11:43.104Z & WORKOUT & RUNNING & Automatic & -6 & 191.76713333333333 & 5568514.0 & 360000.0  & 162 & 141 & 15064 & 1535 & 1.0.118889 & 6151618 & 6151618 & 2022-07-20\\\\\n",
       "\t 2022-07-18T00:20:44.568Z & 2022-07-18T00:54:35.062Z & WORKOUT & RUNNING & Automatic & -6 & 57.01286           & 1560000.0 & 300000.0  & 175 & 141 &  4463 &  496 & 1.0.118889 & 2030494 & 2030494 & 2022-07-20\\\\\n",
       "\t 2022-07-16T18:57:19.226Z & 2022-07-16T19:31:10.404Z & WORKOUT & RUNNING & Automatic & -6 & 58.679566666666666 & 1680000.0 & 160774.0  & 148 & 130 &  4521 &  445 & 1.0.118889 & 2031178 & 2031178 & 2022-07-20\\\\\n",
       "\t 2022-07-15T22:04:00.000Z & 2022-07-15T22:34:00.000Z & WORKOUT & OTHER   & Automatic & -6 & 10.55              & No Data   & 600000.0  & 115 &  92 &   600 &  168 & 1.0.118889 & 1800000 & 1800000 & 2022-07-20\\\\\n",
       "\t 2022-07-14T12:50:31.751Z & 2022-07-14T13:31:22.500Z & WORKOUT & RUNNING & Automatic & -6 & 74.44854083333334  & 2100000.0 & 262500.0  & 166 & 143 &  6084 &  622 & 1.0.118889 & 2450749 & 2450749 & 2022-07-20\\\\\n",
       "\t 2022-07-13T17:12:44.344Z & 2022-07-13T17:34:00.000Z & WORKOUT & OTHER   & Automatic & -6 & 8.910933333333334  & No Data   & 495656.0  & 122 &  93 &   794 &  122 & 1.0.118889 & 1275656 & 1275656 & 2022-07-20\\\\\n",
       "\t 2022-07-13T16:30:21.362Z & 2022-07-13T17:11:12.440Z & WORKOUT & RUNNING & Automatic & -6 & 73.20733333333334  & 1980000.0 & 432440.0  & 172 & 143 &  5199 &  593 & 1.0.118889 & 2451078 & 2451078 & 2022-07-20\\\\\n",
       "\t 2022-07-13T05:23:29.314Z & 2022-07-13T05:37:25.906Z & WORKOUT & WALKING & Automatic & -6 & 0.5755716666666667 & No Data   & No Data   & 110 &  87 &  1125 &   89 & 1.0.118889 &  836592 &  836592 & 2022-07-20\\\\\n",
       "\t 2022-07-12T17:58:11.466Z & 2022-07-12T18:09:08.976Z & WORKOUT & WALKING & Automatic & -6 & 1.4                & No Data   & 60000.0   & 104 &  79 &   775 &   48 & 1.0.118889 &  657510 &  657510 & 2022-07-20\\\\\n",
       "\t 2022-07-12T16:00:00.000Z & 2022-07-12T16:10:00.000Z & WORKOUT & OTHER   & Automatic & -6 & 9.0                & No Data   & 540000.0  & 125 & 115 &   674 &   97 & 1.0.118889 &  600000 &  600000 & 2022-07-20\\\\\n",
       "\t 2022-07-12T15:21:45.615Z & 2022-07-12T15:59:37.701Z & WORKOUT & RUNNING & Automatic & -6 & 68.7403375         & 1980000.0 & 157701.0  & 172 & 149 &  5533 &  608 & 1.0.118889 & 2272086 & 2272086 & 2022-07-20\\\\\n",
       "\t 2022-07-11T21:12:24.182Z & 2022-07-11T21:33:19.401Z & WORKOUT & WALKING & Automatic & -6 & 4.646015833333333  & No Data   & 240000.0  & 114 &  99 &  1424 &  162 & 1.0.118889 & 1255219 & 1255219 & 2022-07-20\\\\\n",
       "\t 2022-07-11T19:27:00.000Z & 2022-07-11T20:06:00.000Z & WORKOUT & OTHER   & Automatic & -6 & 26.4               & No Data   & 1560000.0 & 132 & 100 &   746 &  304 & 1.0.118889 & 2340000 & 2340000 & 2022-07-20\\\\\n",
       "\t 2022-07-11T18:55:00.000Z & 2022-07-11T19:20:00.000Z & WORKOUT & OTHER   & Automatic & -6 & 22.05              & No Data   & 1320000.0 & 125 & 104 &  1160 &  184 & 1.0.118889 & 1500000 & 1500000 & 2022-07-20\\\\\n",
       "\t 2022-07-11T18:34:58.908Z & 2022-07-11T18:54:54.799Z & WORKOUT & RUNNING & Automatic & -6 & 35.914226666666664 & 960000.0  & 234799.0  & 165 & 147 &  2919 &  316 & 1.0.118889 & 1195891 & 1195891 & 2022-07-20\\\\\n",
       "\t 2022-07-10T17:12:25.443Z & 2022-07-10T17:35:21.364Z & WORKOUT & WALKING & Automatic & -6 & 22.301899999999996 & 274557.0  & 780000.0  & 140 & 125 &  1724 &  272 & 1.0.118889 & 1375921 & 1375921 & 2022-07-20\\\\\n",
       "\t 2022-07-10T16:46:30.782Z & 2022-07-10T17:12:25.405Z & WORKOUT & RUNNING & Automatic & -6 & 47.92118166666667  & 1405405.0 & 60000.0   & 169 & 150 &  3587 &  419 & 1.0.118889 & 1554623 & 1554623 & 2022-07-20\\\\\n",
       "\t 2022-07-09T17:37:00.000Z & 2022-07-09T18:49:00.000Z & WORKOUT & OTHER   & Automatic & -6 & 51.95              & 240000.0  & 2580000.0 & 156 & 106 &  2485 &  535 & 1.0.118889 & 4320000 & 4320000 & 2022-07-20\\\\\n",
       "\t 2022-07-09T16:52:00.000Z & 2022-07-09T17:03:00.000Z & WORKOUT & OTHER   & Automatic & -6 & 11.05              & 180000.0  & 300000.0  & 151 & 124 &   437 &  106 & 1.0.118889 &  660000 &  660000 & 2022-07-20\\\\\n",
       "\t 2022-07-09T16:16:06.301Z & 2022-07-09T16:51:58.601Z & WORKOUT & RUNNING & Automatic & -6 & 68.00336666666666  & 2038601.0 & No Data   & 177 & 156 &  5483 &  601 & 1.0.118889 & 2152300 & 2152300 & 2022-07-20\\\\\n",
       "\t 2022-07-08T20:35:43.703Z & 2022-07-08T20:55:39.512Z & WORKOUT & WALKING & Automatic & -6 & 2.763580833333333  & No Data   & 120000.0  & 123 &  97 &  1214 &  149 & 1.0.118889 & 1195809 & 1195809 & 2022-07-20\\\\\n",
       "\t 2022-07-08T19:15:02.729Z & 2022-07-08T19:55:53.044Z & WORKOUT & WALKING & Automatic & -6 & 6.547725833333334  & No Data   & 300000.0  & 123 &  86 &  2533 &  242 & 1.0.118889 & 2450315 & 2450315 & 2022-07-20\\\\\n",
       "\t 2022-07-08T16:34:41.433Z & 2022-07-08T17:07:32.604Z & WORKOUT & RUNNING & Automatic & -6 & 65.7057            & 1971171.0 & No Data   & 178 & 167 &  5100 &  622 & 1.0.118889 & 1971171 & 1971171 & 2022-07-20\\\\\n",
       "\t 2022-06-17T04:54:10.702Z & 2022-06-17T05:18:04.344Z & WORKOUT & RUNNING & Automatic & -5 & 41.16348166666667  & 1140000.0 & 184344.0  & 134 & 122 &  3311 &  289 & 1.0.114475 & 1433642 & 1433642 & 2022-07-20\\\\\n",
       "\t 2022-06-16T23:48:00.936Z & 2022-06-17T00:30:00.000Z & WORKOUT & OTHER   & Automatic & -5 & 14.99922           & No Data   & 840000.0  & 121 &  84 &  1038 &  191 & 1.0.114475 & 2519064 & 2519064 & 2022-07-20\\\\\n",
       "\t 2022-06-16T22:22:00.000Z & 2022-06-16T22:53:00.000Z & WORKOUT & OTHER   & Automatic & -5 & 14.6               & No Data   & 840000.0  & 126 &  94 &   434 &  138 & 1.0.114475 & 1860000 & 1860000 & 2022-07-20\\\\\n",
       "\t ⋮ & ⋮ & ⋮ & ⋮ & ⋮ & ⋮ & ⋮ & ⋮ & ⋮ & ⋮ & ⋮ & ⋮ & ⋮ & ⋮ & ⋮ & ⋮ & ⋮\\\\\n",
       "\t 2021-10-09T13:31:51.705Z & 2021-10-09T14:04:07.097Z & WORKOUT & RUNNING & Automatic & -5 & 60.16828333333333   & 1740000.0 & 127097.0  & 182 & 159 & 4524 & 549 & 1.0.86939 & 1935392 & 1935392 & 2021-09-23\\\\\n",
       "\t 2021-10-09T12:28:42.275Z & 2021-10-09T12:38:47.617Z & WORKOUT & WALKING & Automatic & -5 & 0.43968083333333335 & No Data   & No Data   &  83 &  70 &  656 &  36 & 1.0.86939 &  605342 &  605342 & 2021-09-23\\\\\n",
       "\t 2021-10-08T11:44:26.132Z & 2021-10-08T12:16:50.498Z & WORKOUT & RUNNING & Automatic & -5 & 61.4061             & 1740000.0 & 204366.0  & 173 & 150 & 4658 & 500 & 1.0.86939 & 1944366 & 1944366 & 2021-09-23\\\\\n",
       "\t 2021-10-06T12:17:00.000Z & 2021-10-06T12:31:00.000Z & WORKOUT & OTHER   & Automatic & -5 & 13.15               & 120000.0  & 540000.0  & 171 & 108 &  460 & 101 & 1.0.86939 &  840000 &  840000 & 2021-09-23\\\\\n",
       "\t 2021-10-06T11:46:51.974Z & 2021-10-06T12:16:56.339Z & WORKOUT & RUNNING & Automatic & -5 & 57.934655           & 1736339.0 & No Data   & 174 & 147 & 4867 & 449 & 1.0.86939 & 1804365 & 1804365 & 2021-09-23\\\\\n",
       "\t 2021-10-06T11:46:51.974Z & 2021-10-06T12:16:56.339Z & WORKOUT & RUNNING & Automatic & -5 & 57.934655           & 1736339.0 & No Data   & 174 & 147 & 4867 & 449 & 1.0.86939 & 1804365 & 1804365 & 2021-09-23\\\\\n",
       "\t 2021-10-04T23:36:45.606Z & 2021-10-05T00:07:38.643Z & WORKOUT & RUNNING & Automatic & -5 & 55.0941975          & 1560000.0 & 180000.0  & 164 & 145 & 4388 & 452 & 1.0.86939 & 1853037 & 1853037 & 2021-09-23\\\\\n",
       "\t 2021-10-03T20:20:23.161Z & 2021-10-03T20:38:26.341Z & WORKOUT & WALKING & Automatic & -5 & 7.969715833333333   & No Data   & 446341.0  & 117 &  92 & 1488 & 115 & 1.0.86939 & 1083180 & 1083180 & 2021-09-23\\\\\n",
       "\t 2021-10-03T19:38:33.164Z & 2021-10-03T19:57:38.353Z & WORKOUT & WALKING & Automatic & -5 & 2.8543241666666668  & No Data   & 120000.0  & 109 &  82 & 1267 &  99 & 1.0.86939 & 1145189 & 1145189 & 2021-09-23\\\\\n",
       "\t 2021-10-03T17:30:35.474Z & 2021-10-03T17:50:58.678Z & WORKOUT & WALKING & Automatic & -5 & 1.9                 & No Data   & 60000.0   & 101 &  74 & 1732 &  93 & 1.0.86939 & 1223204 & 1223204 & 2021-09-23\\\\\n",
       "\t 2021-10-03T16:56:18.037Z & 2021-10-03T17:16:25.532Z & WORKOUT & WALKING & Automatic & -5 & 4.634969166666667   & No Data   & 240000.0  & 112 &  78 & 1239 &  93 & 1.0.86939 & 1207495 & 1207495 & 2021-09-23\\\\\n",
       "\t 2021-10-03T13:36:33.072Z & 2021-10-03T14:08:32.948Z & WORKOUT & RUNNING & Automatic & -5 & 57.62157333333333   & 1620000.0 & 212948.0  & 165 & 144 & 4457 & 462 & 1.0.86939 & 1919876 & 1919876 & 2021-09-23\\\\\n",
       "\t 2021-10-02T20:01:51.215Z & 2021-10-02T20:34:45.285Z & WORKOUT & RUNNING & Automatic & -5 & 59.76207083333333   & 1620000.0 & 345285.0  & 153 & 137 & 4481 & 444 & 1.0.86939 & 1974070 & 1974070 & 2021-09-23\\\\\n",
       "\t 2021-09-29T13:14:00.000Z & 2021-09-29T13:56:00.000Z & WORKOUT & OTHER   & Automatic & -5 & 20.7                & No Data   & 1200000.0 & 121 &  91 & 1512 & 207 & 1.0.86939 & 2520000 & 2520000 & 2021-09-23\\\\\n",
       "\t 2021-09-29T11:58:35.741Z & 2021-09-29T12:09:31.260Z & WORKOUT & RUNNING & Automatic & -5 & 16.404316666666666  & 420000.0  & 144259.0  & 160 & 134 & 1305 & 145 & 1.0.86939 &  655519 &  655519 & 2021-09-23\\\\\n",
       "\t 2021-09-29T11:24:00.000Z & 2021-09-29T12:00:00.000Z & WORKOUT & OTHER   & Automatic & -5 & 16.85               & 120000.0  & 720000.0  & 139 &  94 & 1677 & 229 & 1.0.86939 & 2160000 & 2160000 & 2021-09-23\\\\\n",
       "\t 2021-09-29T10:20:00.000Z & 2021-09-29T10:44:00.000Z & WORKOUT & OTHER   & Automatic & -5 & 26.3                & 480000.0  & 600000.0  & 149 & 111 & 2298 & 227 & 1.0.86939 & 1440000 & 1440000 & 2021-09-23\\\\\n",
       "\t 2021-09-29T08:09:00.000Z & 2021-09-29T08:30:00.000Z & WORKOUT & OTHER   & Automatic & -5 & 11.05               & No Data   & 660000.0  & 134 & 111 &   27 & 103 & 1.0.86939 & 1260000 & 1260000 & 2021-09-23\\\\\n",
       "\t 2021-09-28T12:57:15.873Z & 2021-09-28T13:25:28.212Z & WORKOUT & WALKING & Automatic & -5 & 10.60896            & No Data   & 584127.0  & 121 &  94 & 1609 &  94 & 1.0.86939 & 1692339 & 1692339 & 2021-09-23\\\\\n",
       "\t 2021-09-28T11:56:00.000Z & 2021-09-28T12:42:00.000Z & WORKOUT & OTHER   & Automatic & -5 & 16.2                & No Data   & 900000.0  & 113 &  91 & 2089 & 152 & 1.0.86939 & 2760000 & 2760000 & 2021-09-23\\\\\n",
       "\t 2021-09-28T10:57:00.000Z & 2021-09-28T11:22:00.000Z & WORKOUT & OTHER   & Automatic & -5 & 16.4                & No Data   & 960000.0  & 136 &  98 &  680 &  84 & 1.0.86939 & 1500000 & 1500000 & 2021-09-23\\\\\n",
       "\t 2021-09-28T10:05:11.133Z & 2021-09-28T10:56:40.224Z & WORKOUT & RUNNING & Automatic & -5 & 94.7111225          & 2640000.0 & 400224.0  & 166 & 148 & 7611 & 548 & 1.0.86939 & 3089091 & 3089091 & 2021-09-23\\\\\n",
       "\t 2021-09-27T12:59:00.000Z & 2021-09-27T13:25:00.000Z & WORKOUT & OTHER   & Automatic & -5 & 14.3                & No Data   & 840000.0  & 111 &  95 &  718 &  76 & 1.0.86939 & 1560000 & 1560000 & 2021-09-23\\\\\n",
       "\t 2021-09-27T12:19:08.473Z & 2021-09-27T12:58:47.413Z & WORKOUT & RUNNING & Automatic & -5 & 72.83315583333334   & 2040000.0 & 287413.0  & 159 & 143 & 5680 & 396 & 1.0.86939 & 2378940 & 2378940 & 2021-09-23\\\\\n",
       "\t 2021-09-26T15:24:57.815Z & 2021-09-26T16:03:50.992Z & WORKOUT & RUNNING & Automatic & -5 & 72.90168750000001   & 2100000.0 & 170992.0  & 165 & 147 & 5740 & 412 & 1.0.86939 & 2333177 & 2333177 & 2021-09-23\\\\\n",
       "\t 2021-09-25T16:42:43.950Z & 2021-09-25T17:20:33.052Z & WORKOUT & RUNNING & Automatic & -5 & 72.41923333333332   & 2133052.0 & 76050.0   & 171 & 148 & 5685 & 400 & 1.0.86939 & 2269102 & 2269102 & 2021-09-23\\\\\n",
       "\t 2021-09-24T13:14:00.000Z & 2021-09-24T13:52:00.000Z & WORKOUT & OTHER   & Automatic & -5 & 26.4                & No Data   & 1560000.0 & 111 &  97 &  999 & 117 & 1.0.86939 & 2280000 & 2280000 & 2021-09-23\\\\\n",
       "\t 2021-09-24T12:30:07.142Z & 2021-09-24T13:13:14.739Z & WORKOUT & RUNNING & Automatic & -5 & 76.28969833333333   & 2040000.0 & 494739.0  & 172 & 150 & 6007 & 472 & 1.0.86939 & 2587597 & 2587597 & 2021-09-23\\\\\n",
       "\t 2021-09-23T13:00:00.000Z & 2021-09-23T13:27:00.000Z & WORKOUT & OTHER   & Automatic & -5 & 16.35               & No Data   & 960000.0  & 120 &  95 &  421 &  82 & 1.0.86939 & 1620000 & 1620000 & 2021-09-23\\\\\n",
       "\t 2021-09-23T12:18:41.932Z & 2021-09-23T12:59:29.798Z & WORKOUT & RUNNING & Automatic & -5 & 76.51169            & 2160000.0 & 269798.0  & 165 & 143 & 5979 & 413 & 1.0.86939 & 2447866 & 2447866 & 2021-09-23\\\\\n",
       "\\end{tabular}\n"
      ],
      "text/markdown": [
       "\n",
       "A data.frame: 114244 × 17\n",
       "\n",
       "| Start.Time &lt;chr&gt; | End.Time &lt;chr&gt; | Session.Type &lt;chr&gt; | Session.Subtype &lt;chr&gt; | Creation.Method &lt;chr&gt; | Local.Time.Zone.Offset &lt;dbl&gt; | Activity.Score &lt;chr&gt; | Intense.Duration..ms. &lt;chr&gt; | Moderate.Duration..ms. &lt;chr&gt; | Max.Heart.Rate..bpm. &lt;dbl&gt; | Average.Heart.Rate..bpm. &lt;dbl&gt; | Steps &lt;dbl&gt; | Calories &lt;dbl&gt; | Software.Version &lt;chr&gt; | Active.Time..ms. &lt;dbl&gt; | Total.Duration..ms. &lt;dbl&gt; | Date &lt;date&gt; |\n",
       "|---|---|---|---|---|---|---|---|---|---|---|---|---|---|---|---|---|\n",
       "| 2022-07-20T20:01:25.436Z | 2022-07-20T21:05:07.544Z | WORKOUT | RUNNING | Automatic | -6 | 125.15453666666666 | 3720000.0 | 67544.0   | 171 | 153 |  9664 | 1068 | 1.0.118889 | 3822108 | 3822108 | 2022-07-20 |\n",
       "| 2022-07-18T16:20:58.102Z | 2022-07-18T16:31:55.423Z | WORKOUT | WALKING | Automatic | -6 | 0.5461858333333334 | No Data   | No Data   | 111 |  93 |   830 |   75 | 1.0.118889 |  657321 |  657321 | 2022-07-20 |\n",
       "| 2022-07-18T15:49:05.877Z | 2022-07-18T16:00:03.144Z | WORKOUT | WALKING | Automatic | -6 | 0.4977225          | No Data   | No Data   | 110 |  98 |   733 |   80 | 1.0.118889 |  657267 |  657267 | 2022-07-20 |\n",
       "| 2022-07-18T15:22:12.198Z | 2022-07-18T15:34:09.457Z | WORKOUT | WALKING | Automatic | -6 | 1.35               | No Data   | 60000.0   | 111 |  95 |   743 |   82 | 1.0.118889 |  717259 |  717259 | 2022-07-20 |\n",
       "| 2022-07-18T11:29:11.486Z | 2022-07-18T13:11:43.104Z | WORKOUT | RUNNING | Automatic | -6 | 191.76713333333333 | 5568514.0 | 360000.0  | 162 | 141 | 15064 | 1535 | 1.0.118889 | 6151618 | 6151618 | 2022-07-20 |\n",
       "| 2022-07-18T00:20:44.568Z | 2022-07-18T00:54:35.062Z | WORKOUT | RUNNING | Automatic | -6 | 57.01286           | 1560000.0 | 300000.0  | 175 | 141 |  4463 |  496 | 1.0.118889 | 2030494 | 2030494 | 2022-07-20 |\n",
       "| 2022-07-16T18:57:19.226Z | 2022-07-16T19:31:10.404Z | WORKOUT | RUNNING | Automatic | -6 | 58.679566666666666 | 1680000.0 | 160774.0  | 148 | 130 |  4521 |  445 | 1.0.118889 | 2031178 | 2031178 | 2022-07-20 |\n",
       "| 2022-07-15T22:04:00.000Z | 2022-07-15T22:34:00.000Z | WORKOUT | OTHER   | Automatic | -6 | 10.55              | No Data   | 600000.0  | 115 |  92 |   600 |  168 | 1.0.118889 | 1800000 | 1800000 | 2022-07-20 |\n",
       "| 2022-07-14T12:50:31.751Z | 2022-07-14T13:31:22.500Z | WORKOUT | RUNNING | Automatic | -6 | 74.44854083333334  | 2100000.0 | 262500.0  | 166 | 143 |  6084 |  622 | 1.0.118889 | 2450749 | 2450749 | 2022-07-20 |\n",
       "| 2022-07-13T17:12:44.344Z | 2022-07-13T17:34:00.000Z | WORKOUT | OTHER   | Automatic | -6 | 8.910933333333334  | No Data   | 495656.0  | 122 |  93 |   794 |  122 | 1.0.118889 | 1275656 | 1275656 | 2022-07-20 |\n",
       "| 2022-07-13T16:30:21.362Z | 2022-07-13T17:11:12.440Z | WORKOUT | RUNNING | Automatic | -6 | 73.20733333333334  | 1980000.0 | 432440.0  | 172 | 143 |  5199 |  593 | 1.0.118889 | 2451078 | 2451078 | 2022-07-20 |\n",
       "| 2022-07-13T05:23:29.314Z | 2022-07-13T05:37:25.906Z | WORKOUT | WALKING | Automatic | -6 | 0.5755716666666667 | No Data   | No Data   | 110 |  87 |  1125 |   89 | 1.0.118889 |  836592 |  836592 | 2022-07-20 |\n",
       "| 2022-07-12T17:58:11.466Z | 2022-07-12T18:09:08.976Z | WORKOUT | WALKING | Automatic | -6 | 1.4                | No Data   | 60000.0   | 104 |  79 |   775 |   48 | 1.0.118889 |  657510 |  657510 | 2022-07-20 |\n",
       "| 2022-07-12T16:00:00.000Z | 2022-07-12T16:10:00.000Z | WORKOUT | OTHER   | Automatic | -6 | 9.0                | No Data   | 540000.0  | 125 | 115 |   674 |   97 | 1.0.118889 |  600000 |  600000 | 2022-07-20 |\n",
       "| 2022-07-12T15:21:45.615Z | 2022-07-12T15:59:37.701Z | WORKOUT | RUNNING | Automatic | -6 | 68.7403375         | 1980000.0 | 157701.0  | 172 | 149 |  5533 |  608 | 1.0.118889 | 2272086 | 2272086 | 2022-07-20 |\n",
       "| 2022-07-11T21:12:24.182Z | 2022-07-11T21:33:19.401Z | WORKOUT | WALKING | Automatic | -6 | 4.646015833333333  | No Data   | 240000.0  | 114 |  99 |  1424 |  162 | 1.0.118889 | 1255219 | 1255219 | 2022-07-20 |\n",
       "| 2022-07-11T19:27:00.000Z | 2022-07-11T20:06:00.000Z | WORKOUT | OTHER   | Automatic | -6 | 26.4               | No Data   | 1560000.0 | 132 | 100 |   746 |  304 | 1.0.118889 | 2340000 | 2340000 | 2022-07-20 |\n",
       "| 2022-07-11T18:55:00.000Z | 2022-07-11T19:20:00.000Z | WORKOUT | OTHER   | Automatic | -6 | 22.05              | No Data   | 1320000.0 | 125 | 104 |  1160 |  184 | 1.0.118889 | 1500000 | 1500000 | 2022-07-20 |\n",
       "| 2022-07-11T18:34:58.908Z | 2022-07-11T18:54:54.799Z | WORKOUT | RUNNING | Automatic | -6 | 35.914226666666664 | 960000.0  | 234799.0  | 165 | 147 |  2919 |  316 | 1.0.118889 | 1195891 | 1195891 | 2022-07-20 |\n",
       "| 2022-07-10T17:12:25.443Z | 2022-07-10T17:35:21.364Z | WORKOUT | WALKING | Automatic | -6 | 22.301899999999996 | 274557.0  | 780000.0  | 140 | 125 |  1724 |  272 | 1.0.118889 | 1375921 | 1375921 | 2022-07-20 |\n",
       "| 2022-07-10T16:46:30.782Z | 2022-07-10T17:12:25.405Z | WORKOUT | RUNNING | Automatic | -6 | 47.92118166666667  | 1405405.0 | 60000.0   | 169 | 150 |  3587 |  419 | 1.0.118889 | 1554623 | 1554623 | 2022-07-20 |\n",
       "| 2022-07-09T17:37:00.000Z | 2022-07-09T18:49:00.000Z | WORKOUT | OTHER   | Automatic | -6 | 51.95              | 240000.0  | 2580000.0 | 156 | 106 |  2485 |  535 | 1.0.118889 | 4320000 | 4320000 | 2022-07-20 |\n",
       "| 2022-07-09T16:52:00.000Z | 2022-07-09T17:03:00.000Z | WORKOUT | OTHER   | Automatic | -6 | 11.05              | 180000.0  | 300000.0  | 151 | 124 |   437 |  106 | 1.0.118889 |  660000 |  660000 | 2022-07-20 |\n",
       "| 2022-07-09T16:16:06.301Z | 2022-07-09T16:51:58.601Z | WORKOUT | RUNNING | Automatic | -6 | 68.00336666666666  | 2038601.0 | No Data   | 177 | 156 |  5483 |  601 | 1.0.118889 | 2152300 | 2152300 | 2022-07-20 |\n",
       "| 2022-07-08T20:35:43.703Z | 2022-07-08T20:55:39.512Z | WORKOUT | WALKING | Automatic | -6 | 2.763580833333333  | No Data   | 120000.0  | 123 |  97 |  1214 |  149 | 1.0.118889 | 1195809 | 1195809 | 2022-07-20 |\n",
       "| 2022-07-08T19:15:02.729Z | 2022-07-08T19:55:53.044Z | WORKOUT | WALKING | Automatic | -6 | 6.547725833333334  | No Data   | 300000.0  | 123 |  86 |  2533 |  242 | 1.0.118889 | 2450315 | 2450315 | 2022-07-20 |\n",
       "| 2022-07-08T16:34:41.433Z | 2022-07-08T17:07:32.604Z | WORKOUT | RUNNING | Automatic | -6 | 65.7057            | 1971171.0 | No Data   | 178 | 167 |  5100 |  622 | 1.0.118889 | 1971171 | 1971171 | 2022-07-20 |\n",
       "| 2022-06-17T04:54:10.702Z | 2022-06-17T05:18:04.344Z | WORKOUT | RUNNING | Automatic | -5 | 41.16348166666667  | 1140000.0 | 184344.0  | 134 | 122 |  3311 |  289 | 1.0.114475 | 1433642 | 1433642 | 2022-07-20 |\n",
       "| 2022-06-16T23:48:00.936Z | 2022-06-17T00:30:00.000Z | WORKOUT | OTHER   | Automatic | -5 | 14.99922           | No Data   | 840000.0  | 121 |  84 |  1038 |  191 | 1.0.114475 | 2519064 | 2519064 | 2022-07-20 |\n",
       "| 2022-06-16T22:22:00.000Z | 2022-06-16T22:53:00.000Z | WORKOUT | OTHER   | Automatic | -5 | 14.6               | No Data   | 840000.0  | 126 |  94 |   434 |  138 | 1.0.114475 | 1860000 | 1860000 | 2022-07-20 |\n",
       "| ⋮ | ⋮ | ⋮ | ⋮ | ⋮ | ⋮ | ⋮ | ⋮ | ⋮ | ⋮ | ⋮ | ⋮ | ⋮ | ⋮ | ⋮ | ⋮ | ⋮ |\n",
       "| 2021-10-09T13:31:51.705Z | 2021-10-09T14:04:07.097Z | WORKOUT | RUNNING | Automatic | -5 | 60.16828333333333   | 1740000.0 | 127097.0  | 182 | 159 | 4524 | 549 | 1.0.86939 | 1935392 | 1935392 | 2021-09-23 |\n",
       "| 2021-10-09T12:28:42.275Z | 2021-10-09T12:38:47.617Z | WORKOUT | WALKING | Automatic | -5 | 0.43968083333333335 | No Data   | No Data   |  83 |  70 |  656 |  36 | 1.0.86939 |  605342 |  605342 | 2021-09-23 |\n",
       "| 2021-10-08T11:44:26.132Z | 2021-10-08T12:16:50.498Z | WORKOUT | RUNNING | Automatic | -5 | 61.4061             | 1740000.0 | 204366.0  | 173 | 150 | 4658 | 500 | 1.0.86939 | 1944366 | 1944366 | 2021-09-23 |\n",
       "| 2021-10-06T12:17:00.000Z | 2021-10-06T12:31:00.000Z | WORKOUT | OTHER   | Automatic | -5 | 13.15               | 120000.0  | 540000.0  | 171 | 108 |  460 | 101 | 1.0.86939 |  840000 |  840000 | 2021-09-23 |\n",
       "| 2021-10-06T11:46:51.974Z | 2021-10-06T12:16:56.339Z | WORKOUT | RUNNING | Automatic | -5 | 57.934655           | 1736339.0 | No Data   | 174 | 147 | 4867 | 449 | 1.0.86939 | 1804365 | 1804365 | 2021-09-23 |\n",
       "| 2021-10-06T11:46:51.974Z | 2021-10-06T12:16:56.339Z | WORKOUT | RUNNING | Automatic | -5 | 57.934655           | 1736339.0 | No Data   | 174 | 147 | 4867 | 449 | 1.0.86939 | 1804365 | 1804365 | 2021-09-23 |\n",
       "| 2021-10-04T23:36:45.606Z | 2021-10-05T00:07:38.643Z | WORKOUT | RUNNING | Automatic | -5 | 55.0941975          | 1560000.0 | 180000.0  | 164 | 145 | 4388 | 452 | 1.0.86939 | 1853037 | 1853037 | 2021-09-23 |\n",
       "| 2021-10-03T20:20:23.161Z | 2021-10-03T20:38:26.341Z | WORKOUT | WALKING | Automatic | -5 | 7.969715833333333   | No Data   | 446341.0  | 117 |  92 | 1488 | 115 | 1.0.86939 | 1083180 | 1083180 | 2021-09-23 |\n",
       "| 2021-10-03T19:38:33.164Z | 2021-10-03T19:57:38.353Z | WORKOUT | WALKING | Automatic | -5 | 2.8543241666666668  | No Data   | 120000.0  | 109 |  82 | 1267 |  99 | 1.0.86939 | 1145189 | 1145189 | 2021-09-23 |\n",
       "| 2021-10-03T17:30:35.474Z | 2021-10-03T17:50:58.678Z | WORKOUT | WALKING | Automatic | -5 | 1.9                 | No Data   | 60000.0   | 101 |  74 | 1732 |  93 | 1.0.86939 | 1223204 | 1223204 | 2021-09-23 |\n",
       "| 2021-10-03T16:56:18.037Z | 2021-10-03T17:16:25.532Z | WORKOUT | WALKING | Automatic | -5 | 4.634969166666667   | No Data   | 240000.0  | 112 |  78 | 1239 |  93 | 1.0.86939 | 1207495 | 1207495 | 2021-09-23 |\n",
       "| 2021-10-03T13:36:33.072Z | 2021-10-03T14:08:32.948Z | WORKOUT | RUNNING | Automatic | -5 | 57.62157333333333   | 1620000.0 | 212948.0  | 165 | 144 | 4457 | 462 | 1.0.86939 | 1919876 | 1919876 | 2021-09-23 |\n",
       "| 2021-10-02T20:01:51.215Z | 2021-10-02T20:34:45.285Z | WORKOUT | RUNNING | Automatic | -5 | 59.76207083333333   | 1620000.0 | 345285.0  | 153 | 137 | 4481 | 444 | 1.0.86939 | 1974070 | 1974070 | 2021-09-23 |\n",
       "| 2021-09-29T13:14:00.000Z | 2021-09-29T13:56:00.000Z | WORKOUT | OTHER   | Automatic | -5 | 20.7                | No Data   | 1200000.0 | 121 |  91 | 1512 | 207 | 1.0.86939 | 2520000 | 2520000 | 2021-09-23 |\n",
       "| 2021-09-29T11:58:35.741Z | 2021-09-29T12:09:31.260Z | WORKOUT | RUNNING | Automatic | -5 | 16.404316666666666  | 420000.0  | 144259.0  | 160 | 134 | 1305 | 145 | 1.0.86939 |  655519 |  655519 | 2021-09-23 |\n",
       "| 2021-09-29T11:24:00.000Z | 2021-09-29T12:00:00.000Z | WORKOUT | OTHER   | Automatic | -5 | 16.85               | 120000.0  | 720000.0  | 139 |  94 | 1677 | 229 | 1.0.86939 | 2160000 | 2160000 | 2021-09-23 |\n",
       "| 2021-09-29T10:20:00.000Z | 2021-09-29T10:44:00.000Z | WORKOUT | OTHER   | Automatic | -5 | 26.3                | 480000.0  | 600000.0  | 149 | 111 | 2298 | 227 | 1.0.86939 | 1440000 | 1440000 | 2021-09-23 |\n",
       "| 2021-09-29T08:09:00.000Z | 2021-09-29T08:30:00.000Z | WORKOUT | OTHER   | Automatic | -5 | 11.05               | No Data   | 660000.0  | 134 | 111 |   27 | 103 | 1.0.86939 | 1260000 | 1260000 | 2021-09-23 |\n",
       "| 2021-09-28T12:57:15.873Z | 2021-09-28T13:25:28.212Z | WORKOUT | WALKING | Automatic | -5 | 10.60896            | No Data   | 584127.0  | 121 |  94 | 1609 |  94 | 1.0.86939 | 1692339 | 1692339 | 2021-09-23 |\n",
       "| 2021-09-28T11:56:00.000Z | 2021-09-28T12:42:00.000Z | WORKOUT | OTHER   | Automatic | -5 | 16.2                | No Data   | 900000.0  | 113 |  91 | 2089 | 152 | 1.0.86939 | 2760000 | 2760000 | 2021-09-23 |\n",
       "| 2021-09-28T10:57:00.000Z | 2021-09-28T11:22:00.000Z | WORKOUT | OTHER   | Automatic | -5 | 16.4                | No Data   | 960000.0  | 136 |  98 |  680 |  84 | 1.0.86939 | 1500000 | 1500000 | 2021-09-23 |\n",
       "| 2021-09-28T10:05:11.133Z | 2021-09-28T10:56:40.224Z | WORKOUT | RUNNING | Automatic | -5 | 94.7111225          | 2640000.0 | 400224.0  | 166 | 148 | 7611 | 548 | 1.0.86939 | 3089091 | 3089091 | 2021-09-23 |\n",
       "| 2021-09-27T12:59:00.000Z | 2021-09-27T13:25:00.000Z | WORKOUT | OTHER   | Automatic | -5 | 14.3                | No Data   | 840000.0  | 111 |  95 |  718 |  76 | 1.0.86939 | 1560000 | 1560000 | 2021-09-23 |\n",
       "| 2021-09-27T12:19:08.473Z | 2021-09-27T12:58:47.413Z | WORKOUT | RUNNING | Automatic | -5 | 72.83315583333334   | 2040000.0 | 287413.0  | 159 | 143 | 5680 | 396 | 1.0.86939 | 2378940 | 2378940 | 2021-09-23 |\n",
       "| 2021-09-26T15:24:57.815Z | 2021-09-26T16:03:50.992Z | WORKOUT | RUNNING | Automatic | -5 | 72.90168750000001   | 2100000.0 | 170992.0  | 165 | 147 | 5740 | 412 | 1.0.86939 | 2333177 | 2333177 | 2021-09-23 |\n",
       "| 2021-09-25T16:42:43.950Z | 2021-09-25T17:20:33.052Z | WORKOUT | RUNNING | Automatic | -5 | 72.41923333333332   | 2133052.0 | 76050.0   | 171 | 148 | 5685 | 400 | 1.0.86939 | 2269102 | 2269102 | 2021-09-23 |\n",
       "| 2021-09-24T13:14:00.000Z | 2021-09-24T13:52:00.000Z | WORKOUT | OTHER   | Automatic | -5 | 26.4                | No Data   | 1560000.0 | 111 |  97 |  999 | 117 | 1.0.86939 | 2280000 | 2280000 | 2021-09-23 |\n",
       "| 2021-09-24T12:30:07.142Z | 2021-09-24T13:13:14.739Z | WORKOUT | RUNNING | Automatic | -5 | 76.28969833333333   | 2040000.0 | 494739.0  | 172 | 150 | 6007 | 472 | 1.0.86939 | 2587597 | 2587597 | 2021-09-23 |\n",
       "| 2021-09-23T13:00:00.000Z | 2021-09-23T13:27:00.000Z | WORKOUT | OTHER   | Automatic | -5 | 16.35               | No Data   | 960000.0  | 120 |  95 |  421 |  82 | 1.0.86939 | 1620000 | 1620000 | 2021-09-23 |\n",
       "| 2021-09-23T12:18:41.932Z | 2021-09-23T12:59:29.798Z | WORKOUT | RUNNING | Automatic | -5 | 76.51169            | 2160000.0 | 269798.0  | 165 | 143 | 5979 | 413 | 1.0.86939 | 2447866 | 2447866 | 2021-09-23 |\n",
       "\n"
      ],
      "text/plain": [
       "       Start.Time               End.Time                 Session.Type\n",
       "1      2022-07-20T20:01:25.436Z 2022-07-20T21:05:07.544Z WORKOUT     \n",
       "2      2022-07-18T16:20:58.102Z 2022-07-18T16:31:55.423Z WORKOUT     \n",
       "3      2022-07-18T15:49:05.877Z 2022-07-18T16:00:03.144Z WORKOUT     \n",
       "4      2022-07-18T15:22:12.198Z 2022-07-18T15:34:09.457Z WORKOUT     \n",
       "5      2022-07-18T11:29:11.486Z 2022-07-18T13:11:43.104Z WORKOUT     \n",
       "6      2022-07-18T00:20:44.568Z 2022-07-18T00:54:35.062Z WORKOUT     \n",
       "7      2022-07-16T18:57:19.226Z 2022-07-16T19:31:10.404Z WORKOUT     \n",
       "8      2022-07-15T22:04:00.000Z 2022-07-15T22:34:00.000Z WORKOUT     \n",
       "9      2022-07-14T12:50:31.751Z 2022-07-14T13:31:22.500Z WORKOUT     \n",
       "10     2022-07-13T17:12:44.344Z 2022-07-13T17:34:00.000Z WORKOUT     \n",
       "11     2022-07-13T16:30:21.362Z 2022-07-13T17:11:12.440Z WORKOUT     \n",
       "12     2022-07-13T05:23:29.314Z 2022-07-13T05:37:25.906Z WORKOUT     \n",
       "13     2022-07-12T17:58:11.466Z 2022-07-12T18:09:08.976Z WORKOUT     \n",
       "14     2022-07-12T16:00:00.000Z 2022-07-12T16:10:00.000Z WORKOUT     \n",
       "15     2022-07-12T15:21:45.615Z 2022-07-12T15:59:37.701Z WORKOUT     \n",
       "16     2022-07-11T21:12:24.182Z 2022-07-11T21:33:19.401Z WORKOUT     \n",
       "17     2022-07-11T19:27:00.000Z 2022-07-11T20:06:00.000Z WORKOUT     \n",
       "18     2022-07-11T18:55:00.000Z 2022-07-11T19:20:00.000Z WORKOUT     \n",
       "19     2022-07-11T18:34:58.908Z 2022-07-11T18:54:54.799Z WORKOUT     \n",
       "20     2022-07-10T17:12:25.443Z 2022-07-10T17:35:21.364Z WORKOUT     \n",
       "21     2022-07-10T16:46:30.782Z 2022-07-10T17:12:25.405Z WORKOUT     \n",
       "22     2022-07-09T17:37:00.000Z 2022-07-09T18:49:00.000Z WORKOUT     \n",
       "23     2022-07-09T16:52:00.000Z 2022-07-09T17:03:00.000Z WORKOUT     \n",
       "24     2022-07-09T16:16:06.301Z 2022-07-09T16:51:58.601Z WORKOUT     \n",
       "25     2022-07-08T20:35:43.703Z 2022-07-08T20:55:39.512Z WORKOUT     \n",
       "26     2022-07-08T19:15:02.729Z 2022-07-08T19:55:53.044Z WORKOUT     \n",
       "27     2022-07-08T16:34:41.433Z 2022-07-08T17:07:32.604Z WORKOUT     \n",
       "28     2022-06-17T04:54:10.702Z 2022-06-17T05:18:04.344Z WORKOUT     \n",
       "29     2022-06-16T23:48:00.936Z 2022-06-17T00:30:00.000Z WORKOUT     \n",
       "30     2022-06-16T22:22:00.000Z 2022-06-16T22:53:00.000Z WORKOUT     \n",
       "⋮      ⋮                        ⋮                        ⋮           \n",
       "114215 2021-10-09T13:31:51.705Z 2021-10-09T14:04:07.097Z WORKOUT     \n",
       "114216 2021-10-09T12:28:42.275Z 2021-10-09T12:38:47.617Z WORKOUT     \n",
       "114217 2021-10-08T11:44:26.132Z 2021-10-08T12:16:50.498Z WORKOUT     \n",
       "114218 2021-10-06T12:17:00.000Z 2021-10-06T12:31:00.000Z WORKOUT     \n",
       "114219 2021-10-06T11:46:51.974Z 2021-10-06T12:16:56.339Z WORKOUT     \n",
       "114220 2021-10-06T11:46:51.974Z 2021-10-06T12:16:56.339Z WORKOUT     \n",
       "114221 2021-10-04T23:36:45.606Z 2021-10-05T00:07:38.643Z WORKOUT     \n",
       "114222 2021-10-03T20:20:23.161Z 2021-10-03T20:38:26.341Z WORKOUT     \n",
       "114223 2021-10-03T19:38:33.164Z 2021-10-03T19:57:38.353Z WORKOUT     \n",
       "114224 2021-10-03T17:30:35.474Z 2021-10-03T17:50:58.678Z WORKOUT     \n",
       "114225 2021-10-03T16:56:18.037Z 2021-10-03T17:16:25.532Z WORKOUT     \n",
       "114226 2021-10-03T13:36:33.072Z 2021-10-03T14:08:32.948Z WORKOUT     \n",
       "114227 2021-10-02T20:01:51.215Z 2021-10-02T20:34:45.285Z WORKOUT     \n",
       "114228 2021-09-29T13:14:00.000Z 2021-09-29T13:56:00.000Z WORKOUT     \n",
       "114229 2021-09-29T11:58:35.741Z 2021-09-29T12:09:31.260Z WORKOUT     \n",
       "114230 2021-09-29T11:24:00.000Z 2021-09-29T12:00:00.000Z WORKOUT     \n",
       "114231 2021-09-29T10:20:00.000Z 2021-09-29T10:44:00.000Z WORKOUT     \n",
       "114232 2021-09-29T08:09:00.000Z 2021-09-29T08:30:00.000Z WORKOUT     \n",
       "114233 2021-09-28T12:57:15.873Z 2021-09-28T13:25:28.212Z WORKOUT     \n",
       "114234 2021-09-28T11:56:00.000Z 2021-09-28T12:42:00.000Z WORKOUT     \n",
       "114235 2021-09-28T10:57:00.000Z 2021-09-28T11:22:00.000Z WORKOUT     \n",
       "114236 2021-09-28T10:05:11.133Z 2021-09-28T10:56:40.224Z WORKOUT     \n",
       "114237 2021-09-27T12:59:00.000Z 2021-09-27T13:25:00.000Z WORKOUT     \n",
       "114238 2021-09-27T12:19:08.473Z 2021-09-27T12:58:47.413Z WORKOUT     \n",
       "114239 2021-09-26T15:24:57.815Z 2021-09-26T16:03:50.992Z WORKOUT     \n",
       "114240 2021-09-25T16:42:43.950Z 2021-09-25T17:20:33.052Z WORKOUT     \n",
       "114241 2021-09-24T13:14:00.000Z 2021-09-24T13:52:00.000Z WORKOUT     \n",
       "114242 2021-09-24T12:30:07.142Z 2021-09-24T13:13:14.739Z WORKOUT     \n",
       "114243 2021-09-23T13:00:00.000Z 2021-09-23T13:27:00.000Z WORKOUT     \n",
       "114244 2021-09-23T12:18:41.932Z 2021-09-23T12:59:29.798Z WORKOUT     \n",
       "       Session.Subtype Creation.Method Local.Time.Zone.Offset\n",
       "1      RUNNING         Automatic       -6                    \n",
       "2      WALKING         Automatic       -6                    \n",
       "3      WALKING         Automatic       -6                    \n",
       "4      WALKING         Automatic       -6                    \n",
       "5      RUNNING         Automatic       -6                    \n",
       "6      RUNNING         Automatic       -6                    \n",
       "7      RUNNING         Automatic       -6                    \n",
       "8      OTHER           Automatic       -6                    \n",
       "9      RUNNING         Automatic       -6                    \n",
       "10     OTHER           Automatic       -6                    \n",
       "11     RUNNING         Automatic       -6                    \n",
       "12     WALKING         Automatic       -6                    \n",
       "13     WALKING         Automatic       -6                    \n",
       "14     OTHER           Automatic       -6                    \n",
       "15     RUNNING         Automatic       -6                    \n",
       "16     WALKING         Automatic       -6                    \n",
       "17     OTHER           Automatic       -6                    \n",
       "18     OTHER           Automatic       -6                    \n",
       "19     RUNNING         Automatic       -6                    \n",
       "20     WALKING         Automatic       -6                    \n",
       "21     RUNNING         Automatic       -6                    \n",
       "22     OTHER           Automatic       -6                    \n",
       "23     OTHER           Automatic       -6                    \n",
       "24     RUNNING         Automatic       -6                    \n",
       "25     WALKING         Automatic       -6                    \n",
       "26     WALKING         Automatic       -6                    \n",
       "27     RUNNING         Automatic       -6                    \n",
       "28     RUNNING         Automatic       -5                    \n",
       "29     OTHER           Automatic       -5                    \n",
       "30     OTHER           Automatic       -5                    \n",
       "⋮      ⋮               ⋮               ⋮                     \n",
       "114215 RUNNING         Automatic       -5                    \n",
       "114216 WALKING         Automatic       -5                    \n",
       "114217 RUNNING         Automatic       -5                    \n",
       "114218 OTHER           Automatic       -5                    \n",
       "114219 RUNNING         Automatic       -5                    \n",
       "114220 RUNNING         Automatic       -5                    \n",
       "114221 RUNNING         Automatic       -5                    \n",
       "114222 WALKING         Automatic       -5                    \n",
       "114223 WALKING         Automatic       -5                    \n",
       "114224 WALKING         Automatic       -5                    \n",
       "114225 WALKING         Automatic       -5                    \n",
       "114226 RUNNING         Automatic       -5                    \n",
       "114227 RUNNING         Automatic       -5                    \n",
       "114228 OTHER           Automatic       -5                    \n",
       "114229 RUNNING         Automatic       -5                    \n",
       "114230 OTHER           Automatic       -5                    \n",
       "114231 OTHER           Automatic       -5                    \n",
       "114232 OTHER           Automatic       -5                    \n",
       "114233 WALKING         Automatic       -5                    \n",
       "114234 OTHER           Automatic       -5                    \n",
       "114235 OTHER           Automatic       -5                    \n",
       "114236 RUNNING         Automatic       -5                    \n",
       "114237 OTHER           Automatic       -5                    \n",
       "114238 RUNNING         Automatic       -5                    \n",
       "114239 RUNNING         Automatic       -5                    \n",
       "114240 RUNNING         Automatic       -5                    \n",
       "114241 OTHER           Automatic       -5                    \n",
       "114242 RUNNING         Automatic       -5                    \n",
       "114243 OTHER           Automatic       -5                    \n",
       "114244 RUNNING         Automatic       -5                    \n",
       "       Activity.Score      Intense.Duration..ms. Moderate.Duration..ms.\n",
       "1      125.15453666666666  3720000.0             67544.0               \n",
       "2      0.5461858333333334  No Data               No Data               \n",
       "3      0.4977225           No Data               No Data               \n",
       "4      1.35                No Data               60000.0               \n",
       "5      191.76713333333333  5568514.0             360000.0              \n",
       "6      57.01286            1560000.0             300000.0              \n",
       "7      58.679566666666666  1680000.0             160774.0              \n",
       "8      10.55               No Data               600000.0              \n",
       "9      74.44854083333334   2100000.0             262500.0              \n",
       "10     8.910933333333334   No Data               495656.0              \n",
       "11     73.20733333333334   1980000.0             432440.0              \n",
       "12     0.5755716666666667  No Data               No Data               \n",
       "13     1.4                 No Data               60000.0               \n",
       "14     9.0                 No Data               540000.0              \n",
       "15     68.7403375          1980000.0             157701.0              \n",
       "16     4.646015833333333   No Data               240000.0              \n",
       "17     26.4                No Data               1560000.0             \n",
       "18     22.05               No Data               1320000.0             \n",
       "19     35.914226666666664  960000.0              234799.0              \n",
       "20     22.301899999999996  274557.0              780000.0              \n",
       "21     47.92118166666667   1405405.0             60000.0               \n",
       "22     51.95               240000.0              2580000.0             \n",
       "23     11.05               180000.0              300000.0              \n",
       "24     68.00336666666666   2038601.0             No Data               \n",
       "25     2.763580833333333   No Data               120000.0              \n",
       "26     6.547725833333334   No Data               300000.0              \n",
       "27     65.7057             1971171.0             No Data               \n",
       "28     41.16348166666667   1140000.0             184344.0              \n",
       "29     14.99922            No Data               840000.0              \n",
       "30     14.6                No Data               840000.0              \n",
       "⋮      ⋮                   ⋮                     ⋮                     \n",
       "114215 60.16828333333333   1740000.0             127097.0              \n",
       "114216 0.43968083333333335 No Data               No Data               \n",
       "114217 61.4061             1740000.0             204366.0              \n",
       "114218 13.15               120000.0              540000.0              \n",
       "114219 57.934655           1736339.0             No Data               \n",
       "114220 57.934655           1736339.0             No Data               \n",
       "114221 55.0941975          1560000.0             180000.0              \n",
       "114222 7.969715833333333   No Data               446341.0              \n",
       "114223 2.8543241666666668  No Data               120000.0              \n",
       "114224 1.9                 No Data               60000.0               \n",
       "114225 4.634969166666667   No Data               240000.0              \n",
       "114226 57.62157333333333   1620000.0             212948.0              \n",
       "114227 59.76207083333333   1620000.0             345285.0              \n",
       "114228 20.7                No Data               1200000.0             \n",
       "114229 16.404316666666666  420000.0              144259.0              \n",
       "114230 16.85               120000.0              720000.0              \n",
       "114231 26.3                480000.0              600000.0              \n",
       "114232 11.05               No Data               660000.0              \n",
       "114233 10.60896            No Data               584127.0              \n",
       "114234 16.2                No Data               900000.0              \n",
       "114235 16.4                No Data               960000.0              \n",
       "114236 94.7111225          2640000.0             400224.0              \n",
       "114237 14.3                No Data               840000.0              \n",
       "114238 72.83315583333334   2040000.0             287413.0              \n",
       "114239 72.90168750000001   2100000.0             170992.0              \n",
       "114240 72.41923333333332   2133052.0             76050.0               \n",
       "114241 26.4                No Data               1560000.0             \n",
       "114242 76.28969833333333   2040000.0             494739.0              \n",
       "114243 16.35               No Data               960000.0              \n",
       "114244 76.51169            2160000.0             269798.0              \n",
       "       Max.Heart.Rate..bpm. Average.Heart.Rate..bpm. Steps Calories\n",
       "1      171                  153                       9664 1068    \n",
       "2      111                   93                        830   75    \n",
       "3      110                   98                        733   80    \n",
       "4      111                   95                        743   82    \n",
       "5      162                  141                      15064 1535    \n",
       "6      175                  141                       4463  496    \n",
       "7      148                  130                       4521  445    \n",
       "8      115                   92                        600  168    \n",
       "9      166                  143                       6084  622    \n",
       "10     122                   93                        794  122    \n",
       "11     172                  143                       5199  593    \n",
       "12     110                   87                       1125   89    \n",
       "13     104                   79                        775   48    \n",
       "14     125                  115                        674   97    \n",
       "15     172                  149                       5533  608    \n",
       "16     114                   99                       1424  162    \n",
       "17     132                  100                        746  304    \n",
       "18     125                  104                       1160  184    \n",
       "19     165                  147                       2919  316    \n",
       "20     140                  125                       1724  272    \n",
       "21     169                  150                       3587  419    \n",
       "22     156                  106                       2485  535    \n",
       "23     151                  124                        437  106    \n",
       "24     177                  156                       5483  601    \n",
       "25     123                   97                       1214  149    \n",
       "26     123                   86                       2533  242    \n",
       "27     178                  167                       5100  622    \n",
       "28     134                  122                       3311  289    \n",
       "29     121                   84                       1038  191    \n",
       "30     126                   94                        434  138    \n",
       "⋮      ⋮                    ⋮                        ⋮     ⋮       \n",
       "114215 182                  159                      4524  549     \n",
       "114216  83                   70                       656   36     \n",
       "114217 173                  150                      4658  500     \n",
       "114218 171                  108                       460  101     \n",
       "114219 174                  147                      4867  449     \n",
       "114220 174                  147                      4867  449     \n",
       "114221 164                  145                      4388  452     \n",
       "114222 117                   92                      1488  115     \n",
       "114223 109                   82                      1267   99     \n",
       "114224 101                   74                      1732   93     \n",
       "114225 112                   78                      1239   93     \n",
       "114226 165                  144                      4457  462     \n",
       "114227 153                  137                      4481  444     \n",
       "114228 121                   91                      1512  207     \n",
       "114229 160                  134                      1305  145     \n",
       "114230 139                   94                      1677  229     \n",
       "114231 149                  111                      2298  227     \n",
       "114232 134                  111                        27  103     \n",
       "114233 121                   94                      1609   94     \n",
       "114234 113                   91                      2089  152     \n",
       "114235 136                   98                       680   84     \n",
       "114236 166                  148                      7611  548     \n",
       "114237 111                   95                       718   76     \n",
       "114238 159                  143                      5680  396     \n",
       "114239 165                  147                      5740  412     \n",
       "114240 171                  148                      5685  400     \n",
       "114241 111                   97                       999  117     \n",
       "114242 172                  150                      6007  472     \n",
       "114243 120                   95                       421   82     \n",
       "114244 165                  143                      5979  413     \n",
       "       Software.Version Active.Time..ms. Total.Duration..ms. Date      \n",
       "1      1.0.118889       3822108          3822108             2022-07-20\n",
       "2      1.0.118889        657321           657321             2022-07-20\n",
       "3      1.0.118889        657267           657267             2022-07-20\n",
       "4      1.0.118889        717259           717259             2022-07-20\n",
       "5      1.0.118889       6151618          6151618             2022-07-20\n",
       "6      1.0.118889       2030494          2030494             2022-07-20\n",
       "7      1.0.118889       2031178          2031178             2022-07-20\n",
       "8      1.0.118889       1800000          1800000             2022-07-20\n",
       "9      1.0.118889       2450749          2450749             2022-07-20\n",
       "10     1.0.118889       1275656          1275656             2022-07-20\n",
       "11     1.0.118889       2451078          2451078             2022-07-20\n",
       "12     1.0.118889        836592           836592             2022-07-20\n",
       "13     1.0.118889        657510           657510             2022-07-20\n",
       "14     1.0.118889        600000           600000             2022-07-20\n",
       "15     1.0.118889       2272086          2272086             2022-07-20\n",
       "16     1.0.118889       1255219          1255219             2022-07-20\n",
       "17     1.0.118889       2340000          2340000             2022-07-20\n",
       "18     1.0.118889       1500000          1500000             2022-07-20\n",
       "19     1.0.118889       1195891          1195891             2022-07-20\n",
       "20     1.0.118889       1375921          1375921             2022-07-20\n",
       "21     1.0.118889       1554623          1554623             2022-07-20\n",
       "22     1.0.118889       4320000          4320000             2022-07-20\n",
       "23     1.0.118889        660000           660000             2022-07-20\n",
       "24     1.0.118889       2152300          2152300             2022-07-20\n",
       "25     1.0.118889       1195809          1195809             2022-07-20\n",
       "26     1.0.118889       2450315          2450315             2022-07-20\n",
       "27     1.0.118889       1971171          1971171             2022-07-20\n",
       "28     1.0.114475       1433642          1433642             2022-07-20\n",
       "29     1.0.114475       2519064          2519064             2022-07-20\n",
       "30     1.0.114475       1860000          1860000             2022-07-20\n",
       "⋮      ⋮                ⋮                ⋮                   ⋮         \n",
       "114215 1.0.86939        1935392          1935392             2021-09-23\n",
       "114216 1.0.86939         605342           605342             2021-09-23\n",
       "114217 1.0.86939        1944366          1944366             2021-09-23\n",
       "114218 1.0.86939         840000           840000             2021-09-23\n",
       "114219 1.0.86939        1804365          1804365             2021-09-23\n",
       "114220 1.0.86939        1804365          1804365             2021-09-23\n",
       "114221 1.0.86939        1853037          1853037             2021-09-23\n",
       "114222 1.0.86939        1083180          1083180             2021-09-23\n",
       "114223 1.0.86939        1145189          1145189             2021-09-23\n",
       "114224 1.0.86939        1223204          1223204             2021-09-23\n",
       "114225 1.0.86939        1207495          1207495             2021-09-23\n",
       "114226 1.0.86939        1919876          1919876             2021-09-23\n",
       "114227 1.0.86939        1974070          1974070             2021-09-23\n",
       "114228 1.0.86939        2520000          2520000             2021-09-23\n",
       "114229 1.0.86939         655519           655519             2021-09-23\n",
       "114230 1.0.86939        2160000          2160000             2021-09-23\n",
       "114231 1.0.86939        1440000          1440000             2021-09-23\n",
       "114232 1.0.86939        1260000          1260000             2021-09-23\n",
       "114233 1.0.86939        1692339          1692339             2021-09-23\n",
       "114234 1.0.86939        2760000          2760000             2021-09-23\n",
       "114235 1.0.86939        1500000          1500000             2021-09-23\n",
       "114236 1.0.86939        3089091          3089091             2021-09-23\n",
       "114237 1.0.86939        1560000          1560000             2021-09-23\n",
       "114238 1.0.86939        2378940          2378940             2021-09-23\n",
       "114239 1.0.86939        2333177          2333177             2021-09-23\n",
       "114240 1.0.86939        2269102          2269102             2021-09-23\n",
       "114241 1.0.86939        2280000          2280000             2021-09-23\n",
       "114242 1.0.86939        2587597          2587597             2021-09-23\n",
       "114243 1.0.86939        1620000          1620000             2021-09-23\n",
       "114244 1.0.86939        2447866          2447866             2021-09-23"
      ]
     },
     "metadata": {},
     "output_type": "display_data"
    }
   ],
   "source": [
    "merge(cadf, dates)"
   ]
  },
  {
   "cell_type": "code",
   "execution_count": 195,
   "metadata": {
    "vscode": {
     "languageId": "r"
    }
   },
   "outputs": [],
   "source": [
    "#cadf %>% separate(Start.Time, c(Date, Time), \"T\")"
   ]
  },
  {
   "cell_type": "markdown",
   "metadata": {},
   "source": [
    "### Better date split option"
   ]
  },
  {
   "cell_type": "code",
   "execution_count": 196,
   "metadata": {
    "vscode": {
     "languageId": "r"
    }
   },
   "outputs": [],
   "source": [
    "library(dplyr)\n",
    "library(tidyr)\n",
    "cadf <- cadf %>% separate(Start.Time, c('Date', 'Time'), \"T\")"
   ]
  },
  {
   "cell_type": "code",
   "execution_count": 197,
   "metadata": {
    "vscode": {
     "languageId": "r"
    }
   },
   "outputs": [
    {
     "data": {
      "text/html": [
       "<table class=\"dataframe\">\n",
       "<caption>A data.frame: 2 × 17</caption>\n",
       "<thead>\n",
       "\t<tr><th></th><th scope=col>Date</th><th scope=col>Time</th><th scope=col>End.Time</th><th scope=col>Session.Type</th><th scope=col>Session.Subtype</th><th scope=col>Creation.Method</th><th scope=col>Local.Time.Zone.Offset</th><th scope=col>Activity.Score</th><th scope=col>Intense.Duration..ms.</th><th scope=col>Moderate.Duration..ms.</th><th scope=col>Max.Heart.Rate..bpm.</th><th scope=col>Average.Heart.Rate..bpm.</th><th scope=col>Steps</th><th scope=col>Calories</th><th scope=col>Software.Version</th><th scope=col>Active.Time..ms.</th><th scope=col>Total.Duration..ms.</th></tr>\n",
       "\t<tr><th></th><th scope=col>&lt;chr&gt;</th><th scope=col>&lt;chr&gt;</th><th scope=col>&lt;chr&gt;</th><th scope=col>&lt;chr&gt;</th><th scope=col>&lt;chr&gt;</th><th scope=col>&lt;chr&gt;</th><th scope=col>&lt;dbl&gt;</th><th scope=col>&lt;chr&gt;</th><th scope=col>&lt;chr&gt;</th><th scope=col>&lt;chr&gt;</th><th scope=col>&lt;dbl&gt;</th><th scope=col>&lt;dbl&gt;</th><th scope=col>&lt;dbl&gt;</th><th scope=col>&lt;dbl&gt;</th><th scope=col>&lt;chr&gt;</th><th scope=col>&lt;dbl&gt;</th><th scope=col>&lt;dbl&gt;</th></tr>\n",
       "</thead>\n",
       "<tbody>\n",
       "\t<tr><th scope=row>1</th><td>2022-07-20</td><td>20:01:25.436Z</td><td>2022-07-20T21:05:07.544Z</td><td>WORKOUT</td><td>RUNNING</td><td>Automatic</td><td>-6</td><td>125.15453666666666</td><td>3720000.0</td><td>67544.0</td><td>171</td><td>153</td><td>9664</td><td>1068</td><td>1.0.118889</td><td>3822108</td><td>3822108</td></tr>\n",
       "\t<tr><th scope=row>2</th><td>2022-07-18</td><td>16:20:58.102Z</td><td>2022-07-18T16:31:55.423Z</td><td>WORKOUT</td><td>WALKING</td><td>Automatic</td><td>-6</td><td>0.5461858333333334</td><td>No Data  </td><td>No Data</td><td>111</td><td> 93</td><td> 830</td><td>  75</td><td>1.0.118889</td><td> 657321</td><td> 657321</td></tr>\n",
       "</tbody>\n",
       "</table>\n"
      ],
      "text/latex": [
       "A data.frame: 2 × 17\n",
       "\\begin{tabular}{r|lllllllllllllllll}\n",
       "  & Date & Time & End.Time & Session.Type & Session.Subtype & Creation.Method & Local.Time.Zone.Offset & Activity.Score & Intense.Duration..ms. & Moderate.Duration..ms. & Max.Heart.Rate..bpm. & Average.Heart.Rate..bpm. & Steps & Calories & Software.Version & Active.Time..ms. & Total.Duration..ms.\\\\\n",
       "  & <chr> & <chr> & <chr> & <chr> & <chr> & <chr> & <dbl> & <chr> & <chr> & <chr> & <dbl> & <dbl> & <dbl> & <dbl> & <chr> & <dbl> & <dbl>\\\\\n",
       "\\hline\n",
       "\t1 & 2022-07-20 & 20:01:25.436Z & 2022-07-20T21:05:07.544Z & WORKOUT & RUNNING & Automatic & -6 & 125.15453666666666 & 3720000.0 & 67544.0 & 171 & 153 & 9664 & 1068 & 1.0.118889 & 3822108 & 3822108\\\\\n",
       "\t2 & 2022-07-18 & 16:20:58.102Z & 2022-07-18T16:31:55.423Z & WORKOUT & WALKING & Automatic & -6 & 0.5461858333333334 & No Data   & No Data & 111 &  93 &  830 &   75 & 1.0.118889 &  657321 &  657321\\\\\n",
       "\\end{tabular}\n"
      ],
      "text/markdown": [
       "\n",
       "A data.frame: 2 × 17\n",
       "\n",
       "| <!--/--> | Date &lt;chr&gt; | Time &lt;chr&gt; | End.Time &lt;chr&gt; | Session.Type &lt;chr&gt; | Session.Subtype &lt;chr&gt; | Creation.Method &lt;chr&gt; | Local.Time.Zone.Offset &lt;dbl&gt; | Activity.Score &lt;chr&gt; | Intense.Duration..ms. &lt;chr&gt; | Moderate.Duration..ms. &lt;chr&gt; | Max.Heart.Rate..bpm. &lt;dbl&gt; | Average.Heart.Rate..bpm. &lt;dbl&gt; | Steps &lt;dbl&gt; | Calories &lt;dbl&gt; | Software.Version &lt;chr&gt; | Active.Time..ms. &lt;dbl&gt; | Total.Duration..ms. &lt;dbl&gt; |\n",
       "|---|---|---|---|---|---|---|---|---|---|---|---|---|---|---|---|---|---|\n",
       "| 1 | 2022-07-20 | 20:01:25.436Z | 2022-07-20T21:05:07.544Z | WORKOUT | RUNNING | Automatic | -6 | 125.15453666666666 | 3720000.0 | 67544.0 | 171 | 153 | 9664 | 1068 | 1.0.118889 | 3822108 | 3822108 |\n",
       "| 2 | 2022-07-18 | 16:20:58.102Z | 2022-07-18T16:31:55.423Z | WORKOUT | WALKING | Automatic | -6 | 0.5461858333333334 | No Data   | No Data | 111 |  93 |  830 |   75 | 1.0.118889 |  657321 |  657321 |\n",
       "\n"
      ],
      "text/plain": [
       "  Date       Time          End.Time                 Session.Type\n",
       "1 2022-07-20 20:01:25.436Z 2022-07-20T21:05:07.544Z WORKOUT     \n",
       "2 2022-07-18 16:20:58.102Z 2022-07-18T16:31:55.423Z WORKOUT     \n",
       "  Session.Subtype Creation.Method Local.Time.Zone.Offset Activity.Score    \n",
       "1 RUNNING         Automatic       -6                     125.15453666666666\n",
       "2 WALKING         Automatic       -6                     0.5461858333333334\n",
       "  Intense.Duration..ms. Moderate.Duration..ms. Max.Heart.Rate..bpm.\n",
       "1 3720000.0             67544.0                171                 \n",
       "2 No Data               No Data                111                 \n",
       "  Average.Heart.Rate..bpm. Steps Calories Software.Version Active.Time..ms.\n",
       "1 153                      9664  1068     1.0.118889       3822108         \n",
       "2  93                       830    75     1.0.118889        657321         \n",
       "  Total.Duration..ms.\n",
       "1 3822108            \n",
       "2  657321            "
      ]
     },
     "metadata": {},
     "output_type": "display_data"
    }
   ],
   "source": [
    "head(cadf, 2)"
   ]
  },
  {
   "cell_type": "code",
   "execution_count": 198,
   "metadata": {
    "vscode": {
     "languageId": "r"
    }
   },
   "outputs": [],
   "source": [
    "cadf <- cadf %>% mutate(Date = as.Date(Date))"
   ]
  },
  {
   "cell_type": "code",
   "execution_count": 199,
   "metadata": {
    "vscode": {
     "languageId": "r"
    }
   },
   "outputs": [],
   "source": [
    "# mymerge <- merge(cadf, df, by = c(\"Date\"))"
   ]
  },
  {
   "cell_type": "code",
   "execution_count": 200,
   "metadata": {
    "vscode": {
     "languageId": "r"
    }
   },
   "outputs": [],
   "source": [
    "library(stringr)\n",
    "library(tidyr)\n",
    "cadf <- separate(cadf, Time, c('Times', 'Ms'), \"[.]\")"
   ]
  },
  {
   "cell_type": "code",
   "execution_count": 201,
   "metadata": {
    "vscode": {
     "languageId": "r"
    }
   },
   "outputs": [
    {
     "data": {
      "text/html": [
       "<table class=\"dataframe\">\n",
       "<caption>A data.frame: 1 × 18</caption>\n",
       "<thead>\n",
       "\t<tr><th></th><th scope=col>Date</th><th scope=col>Times</th><th scope=col>Ms</th><th scope=col>End.Time</th><th scope=col>Session.Type</th><th scope=col>Session.Subtype</th><th scope=col>Creation.Method</th><th scope=col>Local.Time.Zone.Offset</th><th scope=col>Activity.Score</th><th scope=col>Intense.Duration..ms.</th><th scope=col>Moderate.Duration..ms.</th><th scope=col>Max.Heart.Rate..bpm.</th><th scope=col>Average.Heart.Rate..bpm.</th><th scope=col>Steps</th><th scope=col>Calories</th><th scope=col>Software.Version</th><th scope=col>Active.Time..ms.</th><th scope=col>Total.Duration..ms.</th></tr>\n",
       "\t<tr><th></th><th scope=col>&lt;date&gt;</th><th scope=col>&lt;chr&gt;</th><th scope=col>&lt;chr&gt;</th><th scope=col>&lt;chr&gt;</th><th scope=col>&lt;chr&gt;</th><th scope=col>&lt;chr&gt;</th><th scope=col>&lt;chr&gt;</th><th scope=col>&lt;dbl&gt;</th><th scope=col>&lt;chr&gt;</th><th scope=col>&lt;chr&gt;</th><th scope=col>&lt;chr&gt;</th><th scope=col>&lt;dbl&gt;</th><th scope=col>&lt;dbl&gt;</th><th scope=col>&lt;dbl&gt;</th><th scope=col>&lt;dbl&gt;</th><th scope=col>&lt;chr&gt;</th><th scope=col>&lt;dbl&gt;</th><th scope=col>&lt;dbl&gt;</th></tr>\n",
       "</thead>\n",
       "<tbody>\n",
       "\t<tr><th scope=row>1</th><td>2022-07-20</td><td>20:01:25</td><td>436Z</td><td>2022-07-20T21:05:07.544Z</td><td>WORKOUT</td><td>RUNNING</td><td>Automatic</td><td>-6</td><td>125.15453666666666</td><td>3720000.0</td><td>67544.0</td><td>171</td><td>153</td><td>9664</td><td>1068</td><td>1.0.118889</td><td>3822108</td><td>3822108</td></tr>\n",
       "</tbody>\n",
       "</table>\n"
      ],
      "text/latex": [
       "A data.frame: 1 × 18\n",
       "\\begin{tabular}{r|llllllllllllllllll}\n",
       "  & Date & Times & Ms & End.Time & Session.Type & Session.Subtype & Creation.Method & Local.Time.Zone.Offset & Activity.Score & Intense.Duration..ms. & Moderate.Duration..ms. & Max.Heart.Rate..bpm. & Average.Heart.Rate..bpm. & Steps & Calories & Software.Version & Active.Time..ms. & Total.Duration..ms.\\\\\n",
       "  & <date> & <chr> & <chr> & <chr> & <chr> & <chr> & <chr> & <dbl> & <chr> & <chr> & <chr> & <dbl> & <dbl> & <dbl> & <dbl> & <chr> & <dbl> & <dbl>\\\\\n",
       "\\hline\n",
       "\t1 & 2022-07-20 & 20:01:25 & 436Z & 2022-07-20T21:05:07.544Z & WORKOUT & RUNNING & Automatic & -6 & 125.15453666666666 & 3720000.0 & 67544.0 & 171 & 153 & 9664 & 1068 & 1.0.118889 & 3822108 & 3822108\\\\\n",
       "\\end{tabular}\n"
      ],
      "text/markdown": [
       "\n",
       "A data.frame: 1 × 18\n",
       "\n",
       "| <!--/--> | Date &lt;date&gt; | Times &lt;chr&gt; | Ms &lt;chr&gt; | End.Time &lt;chr&gt; | Session.Type &lt;chr&gt; | Session.Subtype &lt;chr&gt; | Creation.Method &lt;chr&gt; | Local.Time.Zone.Offset &lt;dbl&gt; | Activity.Score &lt;chr&gt; | Intense.Duration..ms. &lt;chr&gt; | Moderate.Duration..ms. &lt;chr&gt; | Max.Heart.Rate..bpm. &lt;dbl&gt; | Average.Heart.Rate..bpm. &lt;dbl&gt; | Steps &lt;dbl&gt; | Calories &lt;dbl&gt; | Software.Version &lt;chr&gt; | Active.Time..ms. &lt;dbl&gt; | Total.Duration..ms. &lt;dbl&gt; |\n",
       "|---|---|---|---|---|---|---|---|---|---|---|---|---|---|---|---|---|---|---|\n",
       "| 1 | 2022-07-20 | 20:01:25 | 436Z | 2022-07-20T21:05:07.544Z | WORKOUT | RUNNING | Automatic | -6 | 125.15453666666666 | 3720000.0 | 67544.0 | 171 | 153 | 9664 | 1068 | 1.0.118889 | 3822108 | 3822108 |\n",
       "\n"
      ],
      "text/plain": [
       "  Date       Times    Ms   End.Time                 Session.Type\n",
       "1 2022-07-20 20:01:25 436Z 2022-07-20T21:05:07.544Z WORKOUT     \n",
       "  Session.Subtype Creation.Method Local.Time.Zone.Offset Activity.Score    \n",
       "1 RUNNING         Automatic       -6                     125.15453666666666\n",
       "  Intense.Duration..ms. Moderate.Duration..ms. Max.Heart.Rate..bpm.\n",
       "1 3720000.0             67544.0                171                 \n",
       "  Average.Heart.Rate..bpm. Steps Calories Software.Version Active.Time..ms.\n",
       "1 153                      9664  1068     1.0.118889       3822108         \n",
       "  Total.Duration..ms.\n",
       "1 3822108            "
      ]
     },
     "metadata": {},
     "output_type": "display_data"
    }
   ],
   "source": [
    "head(cadf, 1)"
   ]
  },
  {
   "cell_type": "code",
   "execution_count": 202,
   "metadata": {
    "vscode": {
     "languageId": "r"
    }
   },
   "outputs": [],
   "source": [
    "cadf$DTS <- with(cadf, ymd(Date) + hms(Times))"
   ]
  },
  {
   "cell_type": "code",
   "execution_count": 203,
   "metadata": {
    "vscode": {
     "languageId": "r"
    }
   },
   "outputs": [],
   "source": [
    "library(\"lubridate\")\n",
    "hours <- -3600 * cadf$Local.Time.Zone.Offset\n",
    "cadf$my_date_time1 <- cadf$DTS + (-3600 * cadf$Local.Time.Zone.Offset)"
   ]
  },
  {
   "cell_type": "code",
   "execution_count": 204,
   "metadata": {
    "vscode": {
     "languageId": "r"
    }
   },
   "outputs": [
    {
     "data": {
      "text/html": [
       "<table class=\"dataframe\">\n",
       "<caption>A data.frame: 1 × 20</caption>\n",
       "<thead>\n",
       "\t<tr><th></th><th scope=col>Date</th><th scope=col>Times</th><th scope=col>Ms</th><th scope=col>End.Time</th><th scope=col>Session.Type</th><th scope=col>Session.Subtype</th><th scope=col>Creation.Method</th><th scope=col>Local.Time.Zone.Offset</th><th scope=col>Activity.Score</th><th scope=col>Intense.Duration..ms.</th><th scope=col>Moderate.Duration..ms.</th><th scope=col>Max.Heart.Rate..bpm.</th><th scope=col>Average.Heart.Rate..bpm.</th><th scope=col>Steps</th><th scope=col>Calories</th><th scope=col>Software.Version</th><th scope=col>Active.Time..ms.</th><th scope=col>Total.Duration..ms.</th><th scope=col>DTS</th><th scope=col>my_date_time1</th></tr>\n",
       "\t<tr><th></th><th scope=col>&lt;date&gt;</th><th scope=col>&lt;chr&gt;</th><th scope=col>&lt;chr&gt;</th><th scope=col>&lt;chr&gt;</th><th scope=col>&lt;chr&gt;</th><th scope=col>&lt;chr&gt;</th><th scope=col>&lt;chr&gt;</th><th scope=col>&lt;dbl&gt;</th><th scope=col>&lt;chr&gt;</th><th scope=col>&lt;chr&gt;</th><th scope=col>&lt;chr&gt;</th><th scope=col>&lt;dbl&gt;</th><th scope=col>&lt;dbl&gt;</th><th scope=col>&lt;dbl&gt;</th><th scope=col>&lt;dbl&gt;</th><th scope=col>&lt;chr&gt;</th><th scope=col>&lt;dbl&gt;</th><th scope=col>&lt;dbl&gt;</th><th scope=col>&lt;dttm&gt;</th><th scope=col>&lt;dttm&gt;</th></tr>\n",
       "</thead>\n",
       "<tbody>\n",
       "\t<tr><th scope=row>1</th><td>2022-07-20</td><td>20:01:25</td><td>436Z</td><td>2022-07-20T21:05:07.544Z</td><td>WORKOUT</td><td>RUNNING</td><td>Automatic</td><td>-6</td><td>125.15453666666666</td><td>3720000.0</td><td>67544.0</td><td>171</td><td>153</td><td>9664</td><td>1068</td><td>1.0.118889</td><td>3822108</td><td>3822108</td><td>2022-07-20 20:01:25</td><td>2022-07-21 02:01:25</td></tr>\n",
       "</tbody>\n",
       "</table>\n"
      ],
      "text/latex": [
       "A data.frame: 1 × 20\n",
       "\\begin{tabular}{r|llllllllllllllllllll}\n",
       "  & Date & Times & Ms & End.Time & Session.Type & Session.Subtype & Creation.Method & Local.Time.Zone.Offset & Activity.Score & Intense.Duration..ms. & Moderate.Duration..ms. & Max.Heart.Rate..bpm. & Average.Heart.Rate..bpm. & Steps & Calories & Software.Version & Active.Time..ms. & Total.Duration..ms. & DTS & my\\_date\\_time1\\\\\n",
       "  & <date> & <chr> & <chr> & <chr> & <chr> & <chr> & <chr> & <dbl> & <chr> & <chr> & <chr> & <dbl> & <dbl> & <dbl> & <dbl> & <chr> & <dbl> & <dbl> & <dttm> & <dttm>\\\\\n",
       "\\hline\n",
       "\t1 & 2022-07-20 & 20:01:25 & 436Z & 2022-07-20T21:05:07.544Z & WORKOUT & RUNNING & Automatic & -6 & 125.15453666666666 & 3720000.0 & 67544.0 & 171 & 153 & 9664 & 1068 & 1.0.118889 & 3822108 & 3822108 & 2022-07-20 20:01:25 & 2022-07-21 02:01:25\\\\\n",
       "\\end{tabular}\n"
      ],
      "text/markdown": [
       "\n",
       "A data.frame: 1 × 20\n",
       "\n",
       "| <!--/--> | Date &lt;date&gt; | Times &lt;chr&gt; | Ms &lt;chr&gt; | End.Time &lt;chr&gt; | Session.Type &lt;chr&gt; | Session.Subtype &lt;chr&gt; | Creation.Method &lt;chr&gt; | Local.Time.Zone.Offset &lt;dbl&gt; | Activity.Score &lt;chr&gt; | Intense.Duration..ms. &lt;chr&gt; | Moderate.Duration..ms. &lt;chr&gt; | Max.Heart.Rate..bpm. &lt;dbl&gt; | Average.Heart.Rate..bpm. &lt;dbl&gt; | Steps &lt;dbl&gt; | Calories &lt;dbl&gt; | Software.Version &lt;chr&gt; | Active.Time..ms. &lt;dbl&gt; | Total.Duration..ms. &lt;dbl&gt; | DTS &lt;dttm&gt; | my_date_time1 &lt;dttm&gt; |\n",
       "|---|---|---|---|---|---|---|---|---|---|---|---|---|---|---|---|---|---|---|---|---|\n",
       "| 1 | 2022-07-20 | 20:01:25 | 436Z | 2022-07-20T21:05:07.544Z | WORKOUT | RUNNING | Automatic | -6 | 125.15453666666666 | 3720000.0 | 67544.0 | 171 | 153 | 9664 | 1068 | 1.0.118889 | 3822108 | 3822108 | 2022-07-20 20:01:25 | 2022-07-21 02:01:25 |\n",
       "\n"
      ],
      "text/plain": [
       "  Date       Times    Ms   End.Time                 Session.Type\n",
       "1 2022-07-20 20:01:25 436Z 2022-07-20T21:05:07.544Z WORKOUT     \n",
       "  Session.Subtype Creation.Method Local.Time.Zone.Offset Activity.Score    \n",
       "1 RUNNING         Automatic       -6                     125.15453666666666\n",
       "  Intense.Duration..ms. Moderate.Duration..ms. Max.Heart.Rate..bpm.\n",
       "1 3720000.0             67544.0                171                 \n",
       "  Average.Heart.Rate..bpm. Steps Calories Software.Version Active.Time..ms.\n",
       "1 153                      9664  1068     1.0.118889       3822108         \n",
       "  Total.Duration..ms. DTS                 my_date_time1      \n",
       "1 3822108             2022-07-20 20:01:25 2022-07-21 02:01:25"
      ]
     },
     "metadata": {},
     "output_type": "display_data"
    }
   ],
   "source": [
    "head(cadf, 1)"
   ]
  },
  {
   "cell_type": "code",
   "execution_count": 205,
   "metadata": {
    "vscode": {
     "languageId": "r"
    }
   },
   "outputs": [],
   "source": [
    "cadf <- separate(cadf, my_date_time1, c('Date 2', 'Time 2'), \" \")"
   ]
  },
  {
   "cell_type": "code",
   "execution_count": 206,
   "metadata": {
    "vscode": {
     "languageId": "r"
    }
   },
   "outputs": [
    {
     "data": {
      "text/html": [
       "<table class=\"dataframe\">\n",
       "<caption>A data.frame: 1 × 21</caption>\n",
       "<thead>\n",
       "\t<tr><th></th><th scope=col>Date</th><th scope=col>Times</th><th scope=col>Ms</th><th scope=col>End.Time</th><th scope=col>Session.Type</th><th scope=col>Session.Subtype</th><th scope=col>Creation.Method</th><th scope=col>Local.Time.Zone.Offset</th><th scope=col>Activity.Score</th><th scope=col>Intense.Duration..ms.</th><th scope=col>⋯</th><th scope=col>Max.Heart.Rate..bpm.</th><th scope=col>Average.Heart.Rate..bpm.</th><th scope=col>Steps</th><th scope=col>Calories</th><th scope=col>Software.Version</th><th scope=col>Active.Time..ms.</th><th scope=col>Total.Duration..ms.</th><th scope=col>DTS</th><th scope=col>Date 2</th><th scope=col>Time 2</th></tr>\n",
       "\t<tr><th></th><th scope=col>&lt;date&gt;</th><th scope=col>&lt;chr&gt;</th><th scope=col>&lt;chr&gt;</th><th scope=col>&lt;chr&gt;</th><th scope=col>&lt;chr&gt;</th><th scope=col>&lt;chr&gt;</th><th scope=col>&lt;chr&gt;</th><th scope=col>&lt;dbl&gt;</th><th scope=col>&lt;chr&gt;</th><th scope=col>&lt;chr&gt;</th><th scope=col>⋯</th><th scope=col>&lt;dbl&gt;</th><th scope=col>&lt;dbl&gt;</th><th scope=col>&lt;dbl&gt;</th><th scope=col>&lt;dbl&gt;</th><th scope=col>&lt;chr&gt;</th><th scope=col>&lt;dbl&gt;</th><th scope=col>&lt;dbl&gt;</th><th scope=col>&lt;dttm&gt;</th><th scope=col>&lt;chr&gt;</th><th scope=col>&lt;chr&gt;</th></tr>\n",
       "</thead>\n",
       "<tbody>\n",
       "\t<tr><th scope=row>1</th><td>2022-07-20</td><td>20:01:25</td><td>436Z</td><td>2022-07-20T21:05:07.544Z</td><td>WORKOUT</td><td>RUNNING</td><td>Automatic</td><td>-6</td><td>125.15453666666666</td><td>3720000.0</td><td>⋯</td><td>171</td><td>153</td><td>9664</td><td>1068</td><td>1.0.118889</td><td>3822108</td><td>3822108</td><td>2022-07-20 20:01:25</td><td>2022-07-21</td><td>02:01:25</td></tr>\n",
       "</tbody>\n",
       "</table>\n"
      ],
      "text/latex": [
       "A data.frame: 1 × 21\n",
       "\\begin{tabular}{r|lllllllllllllllllllll}\n",
       "  & Date & Times & Ms & End.Time & Session.Type & Session.Subtype & Creation.Method & Local.Time.Zone.Offset & Activity.Score & Intense.Duration..ms. & ⋯ & Max.Heart.Rate..bpm. & Average.Heart.Rate..bpm. & Steps & Calories & Software.Version & Active.Time..ms. & Total.Duration..ms. & DTS & Date 2 & Time 2\\\\\n",
       "  & <date> & <chr> & <chr> & <chr> & <chr> & <chr> & <chr> & <dbl> & <chr> & <chr> & ⋯ & <dbl> & <dbl> & <dbl> & <dbl> & <chr> & <dbl> & <dbl> & <dttm> & <chr> & <chr>\\\\\n",
       "\\hline\n",
       "\t1 & 2022-07-20 & 20:01:25 & 436Z & 2022-07-20T21:05:07.544Z & WORKOUT & RUNNING & Automatic & -6 & 125.15453666666666 & 3720000.0 & ⋯ & 171 & 153 & 9664 & 1068 & 1.0.118889 & 3822108 & 3822108 & 2022-07-20 20:01:25 & 2022-07-21 & 02:01:25\\\\\n",
       "\\end{tabular}\n"
      ],
      "text/markdown": [
       "\n",
       "A data.frame: 1 × 21\n",
       "\n",
       "| <!--/--> | Date &lt;date&gt; | Times &lt;chr&gt; | Ms &lt;chr&gt; | End.Time &lt;chr&gt; | Session.Type &lt;chr&gt; | Session.Subtype &lt;chr&gt; | Creation.Method &lt;chr&gt; | Local.Time.Zone.Offset &lt;dbl&gt; | Activity.Score &lt;chr&gt; | Intense.Duration..ms. &lt;chr&gt; | ⋯ ⋯ | Max.Heart.Rate..bpm. &lt;dbl&gt; | Average.Heart.Rate..bpm. &lt;dbl&gt; | Steps &lt;dbl&gt; | Calories &lt;dbl&gt; | Software.Version &lt;chr&gt; | Active.Time..ms. &lt;dbl&gt; | Total.Duration..ms. &lt;dbl&gt; | DTS &lt;dttm&gt; | Date 2 &lt;chr&gt; | Time 2 &lt;chr&gt; |\n",
       "|---|---|---|---|---|---|---|---|---|---|---|---|---|---|---|---|---|---|---|---|---|---|\n",
       "| 1 | 2022-07-20 | 20:01:25 | 436Z | 2022-07-20T21:05:07.544Z | WORKOUT | RUNNING | Automatic | -6 | 125.15453666666666 | 3720000.0 | ⋯ | 171 | 153 | 9664 | 1068 | 1.0.118889 | 3822108 | 3822108 | 2022-07-20 20:01:25 | 2022-07-21 | 02:01:25 |\n",
       "\n"
      ],
      "text/plain": [
       "  Date       Times    Ms   End.Time                 Session.Type\n",
       "1 2022-07-20 20:01:25 436Z 2022-07-20T21:05:07.544Z WORKOUT     \n",
       "  Session.Subtype Creation.Method Local.Time.Zone.Offset Activity.Score    \n",
       "1 RUNNING         Automatic       -6                     125.15453666666666\n",
       "  Intense.Duration..ms. ⋯ Max.Heart.Rate..bpm. Average.Heart.Rate..bpm. Steps\n",
       "1 3720000.0             ⋯ 171                  153                      9664 \n",
       "  Calories Software.Version Active.Time..ms. Total.Duration..ms.\n",
       "1 1068     1.0.118889       3822108          3822108            \n",
       "  DTS                 Date 2     Time 2  \n",
       "1 2022-07-20 20:01:25 2022-07-21 02:01:25"
      ]
     },
     "metadata": {},
     "output_type": "display_data"
    }
   ],
   "source": [
    "head(cadf, 1)"
   ]
  },
  {
   "cell_type": "code",
   "execution_count": 207,
   "metadata": {
    "vscode": {
     "languageId": "r"
    }
   },
   "outputs": [],
   "source": [
    "cadf <- within(cadf, rm('Date', 'Time 2', 'Software.Version', 'Ms'))"
   ]
  },
  {
   "cell_type": "code",
   "execution_count": 208,
   "metadata": {
    "vscode": {
     "languageId": "r"
    }
   },
   "outputs": [
    {
     "data": {
      "text/html": [
       "<table class=\"dataframe\">\n",
       "<caption>A data.frame: 2 × 17</caption>\n",
       "<thead>\n",
       "\t<tr><th></th><th scope=col>Times</th><th scope=col>End.Time</th><th scope=col>Session.Type</th><th scope=col>Session.Subtype</th><th scope=col>Creation.Method</th><th scope=col>Local.Time.Zone.Offset</th><th scope=col>Activity.Score</th><th scope=col>Intense.Duration..ms.</th><th scope=col>Moderate.Duration..ms.</th><th scope=col>Max.Heart.Rate..bpm.</th><th scope=col>Average.Heart.Rate..bpm.</th><th scope=col>Steps</th><th scope=col>Calories</th><th scope=col>Active.Time..ms.</th><th scope=col>Total.Duration..ms.</th><th scope=col>DTS</th><th scope=col>Date 2</th></tr>\n",
       "\t<tr><th></th><th scope=col>&lt;chr&gt;</th><th scope=col>&lt;chr&gt;</th><th scope=col>&lt;chr&gt;</th><th scope=col>&lt;chr&gt;</th><th scope=col>&lt;chr&gt;</th><th scope=col>&lt;dbl&gt;</th><th scope=col>&lt;chr&gt;</th><th scope=col>&lt;chr&gt;</th><th scope=col>&lt;chr&gt;</th><th scope=col>&lt;dbl&gt;</th><th scope=col>&lt;dbl&gt;</th><th scope=col>&lt;dbl&gt;</th><th scope=col>&lt;dbl&gt;</th><th scope=col>&lt;dbl&gt;</th><th scope=col>&lt;dbl&gt;</th><th scope=col>&lt;dttm&gt;</th><th scope=col>&lt;chr&gt;</th></tr>\n",
       "</thead>\n",
       "<tbody>\n",
       "\t<tr><th scope=row>1</th><td>20:01:25</td><td>2022-07-20T21:05:07.544Z</td><td>WORKOUT</td><td>RUNNING</td><td>Automatic</td><td>-6</td><td>125.15453666666666</td><td>3720000.0</td><td>67544.0</td><td>171</td><td>153</td><td>9664</td><td>1068</td><td>3822108</td><td>3822108</td><td>2022-07-20 20:01:25</td><td>2022-07-21</td></tr>\n",
       "\t<tr><th scope=row>2</th><td>16:20:58</td><td>2022-07-18T16:31:55.423Z</td><td>WORKOUT</td><td>WALKING</td><td>Automatic</td><td>-6</td><td>0.5461858333333334</td><td>No Data  </td><td>No Data</td><td>111</td><td> 93</td><td> 830</td><td>  75</td><td> 657321</td><td> 657321</td><td>2022-07-18 16:20:58</td><td>2022-07-18</td></tr>\n",
       "</tbody>\n",
       "</table>\n"
      ],
      "text/latex": [
       "A data.frame: 2 × 17\n",
       "\\begin{tabular}{r|lllllllllllllllll}\n",
       "  & Times & End.Time & Session.Type & Session.Subtype & Creation.Method & Local.Time.Zone.Offset & Activity.Score & Intense.Duration..ms. & Moderate.Duration..ms. & Max.Heart.Rate..bpm. & Average.Heart.Rate..bpm. & Steps & Calories & Active.Time..ms. & Total.Duration..ms. & DTS & Date 2\\\\\n",
       "  & <chr> & <chr> & <chr> & <chr> & <chr> & <dbl> & <chr> & <chr> & <chr> & <dbl> & <dbl> & <dbl> & <dbl> & <dbl> & <dbl> & <dttm> & <chr>\\\\\n",
       "\\hline\n",
       "\t1 & 20:01:25 & 2022-07-20T21:05:07.544Z & WORKOUT & RUNNING & Automatic & -6 & 125.15453666666666 & 3720000.0 & 67544.0 & 171 & 153 & 9664 & 1068 & 3822108 & 3822108 & 2022-07-20 20:01:25 & 2022-07-21\\\\\n",
       "\t2 & 16:20:58 & 2022-07-18T16:31:55.423Z & WORKOUT & WALKING & Automatic & -6 & 0.5461858333333334 & No Data   & No Data & 111 &  93 &  830 &   75 &  657321 &  657321 & 2022-07-18 16:20:58 & 2022-07-18\\\\\n",
       "\\end{tabular}\n"
      ],
      "text/markdown": [
       "\n",
       "A data.frame: 2 × 17\n",
       "\n",
       "| <!--/--> | Times &lt;chr&gt; | End.Time &lt;chr&gt; | Session.Type &lt;chr&gt; | Session.Subtype &lt;chr&gt; | Creation.Method &lt;chr&gt; | Local.Time.Zone.Offset &lt;dbl&gt; | Activity.Score &lt;chr&gt; | Intense.Duration..ms. &lt;chr&gt; | Moderate.Duration..ms. &lt;chr&gt; | Max.Heart.Rate..bpm. &lt;dbl&gt; | Average.Heart.Rate..bpm. &lt;dbl&gt; | Steps &lt;dbl&gt; | Calories &lt;dbl&gt; | Active.Time..ms. &lt;dbl&gt; | Total.Duration..ms. &lt;dbl&gt; | DTS &lt;dttm&gt; | Date 2 &lt;chr&gt; |\n",
       "|---|---|---|---|---|---|---|---|---|---|---|---|---|---|---|---|---|---|\n",
       "| 1 | 20:01:25 | 2022-07-20T21:05:07.544Z | WORKOUT | RUNNING | Automatic | -6 | 125.15453666666666 | 3720000.0 | 67544.0 | 171 | 153 | 9664 | 1068 | 3822108 | 3822108 | 2022-07-20 20:01:25 | 2022-07-21 |\n",
       "| 2 | 16:20:58 | 2022-07-18T16:31:55.423Z | WORKOUT | WALKING | Automatic | -6 | 0.5461858333333334 | No Data   | No Data | 111 |  93 |  830 |   75 |  657321 |  657321 | 2022-07-18 16:20:58 | 2022-07-18 |\n",
       "\n"
      ],
      "text/plain": [
       "  Times    End.Time                 Session.Type Session.Subtype\n",
       "1 20:01:25 2022-07-20T21:05:07.544Z WORKOUT      RUNNING        \n",
       "2 16:20:58 2022-07-18T16:31:55.423Z WORKOUT      WALKING        \n",
       "  Creation.Method Local.Time.Zone.Offset Activity.Score    \n",
       "1 Automatic       -6                     125.15453666666666\n",
       "2 Automatic       -6                     0.5461858333333334\n",
       "  Intense.Duration..ms. Moderate.Duration..ms. Max.Heart.Rate..bpm.\n",
       "1 3720000.0             67544.0                171                 \n",
       "2 No Data               No Data                111                 \n",
       "  Average.Heart.Rate..bpm. Steps Calories Active.Time..ms. Total.Duration..ms.\n",
       "1 153                      9664  1068     3822108          3822108            \n",
       "2  93                       830    75      657321           657321            \n",
       "  DTS                 Date 2    \n",
       "1 2022-07-20 20:01:25 2022-07-21\n",
       "2 2022-07-18 16:20:58 2022-07-18"
      ]
     },
     "metadata": {},
     "output_type": "display_data"
    }
   ],
   "source": [
    "head(cadf, 2)"
   ]
  },
  {
   "cell_type": "code",
   "execution_count": 209,
   "metadata": {
    "vscode": {
     "languageId": "r"
    }
   },
   "outputs": [],
   "source": [
    "names(cadf)[17] <- 'Date'"
   ]
  },
  {
   "cell_type": "code",
   "execution_count": 210,
   "metadata": {
    "vscode": {
     "languageId": "r"
    }
   },
   "outputs": [
    {
     "data": {
      "text/html": [
       "<table class=\"dataframe\">\n",
       "<caption>A data.frame: 2 × 17</caption>\n",
       "<thead>\n",
       "\t<tr><th></th><th scope=col>Times</th><th scope=col>End.Time</th><th scope=col>Session.Type</th><th scope=col>Session.Subtype</th><th scope=col>Creation.Method</th><th scope=col>Local.Time.Zone.Offset</th><th scope=col>Activity.Score</th><th scope=col>Intense.Duration..ms.</th><th scope=col>Moderate.Duration..ms.</th><th scope=col>Max.Heart.Rate..bpm.</th><th scope=col>Average.Heart.Rate..bpm.</th><th scope=col>Steps</th><th scope=col>Calories</th><th scope=col>Active.Time..ms.</th><th scope=col>Total.Duration..ms.</th><th scope=col>DTS</th><th scope=col>Date</th></tr>\n",
       "\t<tr><th></th><th scope=col>&lt;chr&gt;</th><th scope=col>&lt;chr&gt;</th><th scope=col>&lt;chr&gt;</th><th scope=col>&lt;chr&gt;</th><th scope=col>&lt;chr&gt;</th><th scope=col>&lt;dbl&gt;</th><th scope=col>&lt;chr&gt;</th><th scope=col>&lt;chr&gt;</th><th scope=col>&lt;chr&gt;</th><th scope=col>&lt;dbl&gt;</th><th scope=col>&lt;dbl&gt;</th><th scope=col>&lt;dbl&gt;</th><th scope=col>&lt;dbl&gt;</th><th scope=col>&lt;dbl&gt;</th><th scope=col>&lt;dbl&gt;</th><th scope=col>&lt;dttm&gt;</th><th scope=col>&lt;chr&gt;</th></tr>\n",
       "</thead>\n",
       "<tbody>\n",
       "\t<tr><th scope=row>1</th><td>20:01:25</td><td>2022-07-20T21:05:07.544Z</td><td>WORKOUT</td><td>RUNNING</td><td>Automatic</td><td>-6</td><td>125.15453666666666</td><td>3720000.0</td><td>67544.0</td><td>171</td><td>153</td><td>9664</td><td>1068</td><td>3822108</td><td>3822108</td><td>2022-07-20 20:01:25</td><td>2022-07-21</td></tr>\n",
       "\t<tr><th scope=row>2</th><td>16:20:58</td><td>2022-07-18T16:31:55.423Z</td><td>WORKOUT</td><td>WALKING</td><td>Automatic</td><td>-6</td><td>0.5461858333333334</td><td>No Data  </td><td>No Data</td><td>111</td><td> 93</td><td> 830</td><td>  75</td><td> 657321</td><td> 657321</td><td>2022-07-18 16:20:58</td><td>2022-07-18</td></tr>\n",
       "</tbody>\n",
       "</table>\n"
      ],
      "text/latex": [
       "A data.frame: 2 × 17\n",
       "\\begin{tabular}{r|lllllllllllllllll}\n",
       "  & Times & End.Time & Session.Type & Session.Subtype & Creation.Method & Local.Time.Zone.Offset & Activity.Score & Intense.Duration..ms. & Moderate.Duration..ms. & Max.Heart.Rate..bpm. & Average.Heart.Rate..bpm. & Steps & Calories & Active.Time..ms. & Total.Duration..ms. & DTS & Date\\\\\n",
       "  & <chr> & <chr> & <chr> & <chr> & <chr> & <dbl> & <chr> & <chr> & <chr> & <dbl> & <dbl> & <dbl> & <dbl> & <dbl> & <dbl> & <dttm> & <chr>\\\\\n",
       "\\hline\n",
       "\t1 & 20:01:25 & 2022-07-20T21:05:07.544Z & WORKOUT & RUNNING & Automatic & -6 & 125.15453666666666 & 3720000.0 & 67544.0 & 171 & 153 & 9664 & 1068 & 3822108 & 3822108 & 2022-07-20 20:01:25 & 2022-07-21\\\\\n",
       "\t2 & 16:20:58 & 2022-07-18T16:31:55.423Z & WORKOUT & WALKING & Automatic & -6 & 0.5461858333333334 & No Data   & No Data & 111 &  93 &  830 &   75 &  657321 &  657321 & 2022-07-18 16:20:58 & 2022-07-18\\\\\n",
       "\\end{tabular}\n"
      ],
      "text/markdown": [
       "\n",
       "A data.frame: 2 × 17\n",
       "\n",
       "| <!--/--> | Times &lt;chr&gt; | End.Time &lt;chr&gt; | Session.Type &lt;chr&gt; | Session.Subtype &lt;chr&gt; | Creation.Method &lt;chr&gt; | Local.Time.Zone.Offset &lt;dbl&gt; | Activity.Score &lt;chr&gt; | Intense.Duration..ms. &lt;chr&gt; | Moderate.Duration..ms. &lt;chr&gt; | Max.Heart.Rate..bpm. &lt;dbl&gt; | Average.Heart.Rate..bpm. &lt;dbl&gt; | Steps &lt;dbl&gt; | Calories &lt;dbl&gt; | Active.Time..ms. &lt;dbl&gt; | Total.Duration..ms. &lt;dbl&gt; | DTS &lt;dttm&gt; | Date &lt;chr&gt; |\n",
       "|---|---|---|---|---|---|---|---|---|---|---|---|---|---|---|---|---|---|\n",
       "| 1 | 20:01:25 | 2022-07-20T21:05:07.544Z | WORKOUT | RUNNING | Automatic | -6 | 125.15453666666666 | 3720000.0 | 67544.0 | 171 | 153 | 9664 | 1068 | 3822108 | 3822108 | 2022-07-20 20:01:25 | 2022-07-21 |\n",
       "| 2 | 16:20:58 | 2022-07-18T16:31:55.423Z | WORKOUT | WALKING | Automatic | -6 | 0.5461858333333334 | No Data   | No Data | 111 |  93 |  830 |   75 |  657321 |  657321 | 2022-07-18 16:20:58 | 2022-07-18 |\n",
       "\n"
      ],
      "text/plain": [
       "  Times    End.Time                 Session.Type Session.Subtype\n",
       "1 20:01:25 2022-07-20T21:05:07.544Z WORKOUT      RUNNING        \n",
       "2 16:20:58 2022-07-18T16:31:55.423Z WORKOUT      WALKING        \n",
       "  Creation.Method Local.Time.Zone.Offset Activity.Score    \n",
       "1 Automatic       -6                     125.15453666666666\n",
       "2 Automatic       -6                     0.5461858333333334\n",
       "  Intense.Duration..ms. Moderate.Duration..ms. Max.Heart.Rate..bpm.\n",
       "1 3720000.0             67544.0                171                 \n",
       "2 No Data               No Data                111                 \n",
       "  Average.Heart.Rate..bpm. Steps Calories Active.Time..ms. Total.Duration..ms.\n",
       "1 153                      9664  1068     3822108          3822108            \n",
       "2  93                       830    75      657321           657321            \n",
       "  DTS                 Date      \n",
       "1 2022-07-20 20:01:25 2022-07-21\n",
       "2 2022-07-18 16:20:58 2022-07-18"
      ]
     },
     "metadata": {},
     "output_type": "display_data"
    }
   ],
   "source": [
    "head(cadf, 2)"
   ]
  },
  {
   "cell_type": "code",
   "execution_count": 211,
   "metadata": {
    "vscode": {
     "languageId": "r"
    }
   },
   "outputs": [],
   "source": [
    "df$Date <- as.Date(df$Date)\n",
    "cadf$Date <- as.Date(cadf$Date)"
   ]
  },
  {
   "cell_type": "code",
   "execution_count": 212,
   "metadata": {
    "vscode": {
     "languageId": "r"
    }
   },
   "outputs": [
    {
     "data": {
      "text/html": [
       "<table class=\"dataframe\">\n",
       "<caption>A data.frame: 2 × 13</caption>\n",
       "<thead>\n",
       "\t<tr><th></th><th scope=col>Date</th><th scope=col>Activity</th><th scope=col>Duration</th><th scope=col>Distance</th><th scope=col>Avg.Pace</th><th scope=col>Max.Pace</th><th scope=col>Avg.Spd</th><th scope=col>Cal.Burned</th><th scope=col>Avg.HR</th><th scope=col>Steps</th><th scope=col>mileage</th><th scope=col>minutes</th><th scope=col>year</th></tr>\n",
       "\t<tr><th></th><th scope=col>&lt;date&gt;</th><th scope=col>&lt;chr&gt;</th><th scope=col>&lt;dbl&gt;</th><th scope=col>&lt;dbl&gt;</th><th scope=col>&lt;dbl&gt;</th><th scope=col>&lt;dbl&gt;</th><th scope=col>&lt;dbl&gt;</th><th scope=col>&lt;dbl&gt;</th><th scope=col>&lt;dbl&gt;</th><th scope=col>&lt;dbl&gt;</th><th scope=col>&lt;fct&gt;</th><th scope=col>&lt;dbl&gt;</th><th scope=col>&lt;int&gt;</th></tr>\n",
       "</thead>\n",
       "<tbody>\n",
       "\t<tr><th scope=row>1</th><td>2022-08-22</td><td>Indoor Run / Jog</td><td> 1801</td><td> 3.10</td><td> 9.68</td><td>9.96</td><td>6.20</td><td> 414</td><td>144</td><td> 4599</td><td>FiveK  </td><td> 30.02</td><td>2022</td></tr>\n",
       "\t<tr><th scope=row>2</th><td>2022-08-20</td><td>Run             </td><td>11065</td><td>13.11</td><td>14.07</td><td>7.71</td><td>4.27</td><td>1544</td><td>140</td><td>22531</td><td>HalfMar</td><td>184.42</td><td>2022</td></tr>\n",
       "</tbody>\n",
       "</table>\n"
      ],
      "text/latex": [
       "A data.frame: 2 × 13\n",
       "\\begin{tabular}{r|lllllllllllll}\n",
       "  & Date & Activity & Duration & Distance & Avg.Pace & Max.Pace & Avg.Spd & Cal.Burned & Avg.HR & Steps & mileage & minutes & year\\\\\n",
       "  & <date> & <chr> & <dbl> & <dbl> & <dbl> & <dbl> & <dbl> & <dbl> & <dbl> & <dbl> & <fct> & <dbl> & <int>\\\\\n",
       "\\hline\n",
       "\t1 & 2022-08-22 & Indoor Run / Jog &  1801 &  3.10 &  9.68 & 9.96 & 6.20 &  414 & 144 &  4599 & FiveK   &  30.02 & 2022\\\\\n",
       "\t2 & 2022-08-20 & Run              & 11065 & 13.11 & 14.07 & 7.71 & 4.27 & 1544 & 140 & 22531 & HalfMar & 184.42 & 2022\\\\\n",
       "\\end{tabular}\n"
      ],
      "text/markdown": [
       "\n",
       "A data.frame: 2 × 13\n",
       "\n",
       "| <!--/--> | Date &lt;date&gt; | Activity &lt;chr&gt; | Duration &lt;dbl&gt; | Distance &lt;dbl&gt; | Avg.Pace &lt;dbl&gt; | Max.Pace &lt;dbl&gt; | Avg.Spd &lt;dbl&gt; | Cal.Burned &lt;dbl&gt; | Avg.HR &lt;dbl&gt; | Steps &lt;dbl&gt; | mileage &lt;fct&gt; | minutes &lt;dbl&gt; | year &lt;int&gt; |\n",
       "|---|---|---|---|---|---|---|---|---|---|---|---|---|---|\n",
       "| 1 | 2022-08-22 | Indoor Run / Jog |  1801 |  3.10 |  9.68 | 9.96 | 6.20 |  414 | 144 |  4599 | FiveK   |  30.02 | 2022 |\n",
       "| 2 | 2022-08-20 | Run              | 11065 | 13.11 | 14.07 | 7.71 | 4.27 | 1544 | 140 | 22531 | HalfMar | 184.42 | 2022 |\n",
       "\n"
      ],
      "text/plain": [
       "  Date       Activity         Duration Distance Avg.Pace Max.Pace Avg.Spd\n",
       "1 2022-08-22 Indoor Run / Jog  1801     3.10     9.68    9.96     6.20   \n",
       "2 2022-08-20 Run              11065    13.11    14.07    7.71     4.27   \n",
       "  Cal.Burned Avg.HR Steps mileage minutes year\n",
       "1  414       144     4599 FiveK    30.02  2022\n",
       "2 1544       140    22531 HalfMar 184.42  2022"
      ]
     },
     "metadata": {},
     "output_type": "display_data"
    }
   ],
   "source": [
    "head(df, 2)"
   ]
  },
  {
   "cell_type": "code",
   "execution_count": 213,
   "metadata": {
    "vscode": {
     "languageId": "r"
    }
   },
   "outputs": [],
   "source": [
    "cadf2 <- filter(cadf, Session.Subtype == 'RUNNING')"
   ]
  },
  {
   "cell_type": "code",
   "execution_count": 214,
   "metadata": {
    "vscode": {
     "languageId": "r"
    }
   },
   "outputs": [],
   "source": [
    "mymerge <-merge(x=cadf2,y=df,by='Date')"
   ]
  },
  {
   "cell_type": "code",
   "execution_count": 215,
   "metadata": {
    "vscode": {
     "languageId": "r"
    }
   },
   "outputs": [
    {
     "data": {
      "text/html": [
       "29"
      ],
      "text/latex": [
       "29"
      ],
      "text/markdown": [
       "29"
      ],
      "text/plain": [
       "[1] 29"
      ]
     },
     "metadata": {},
     "output_type": "display_data"
    },
    {
     "data": {
      "text/html": [
       "17"
      ],
      "text/latex": [
       "17"
      ],
      "text/markdown": [
       "17"
      ],
      "text/plain": [
       "[1] 17"
      ]
     },
     "metadata": {},
     "output_type": "display_data"
    },
    {
     "data": {
      "text/html": [
       "13"
      ],
      "text/latex": [
       "13"
      ],
      "text/markdown": [
       "13"
      ],
      "text/plain": [
       "[1] 13"
      ]
     },
     "metadata": {},
     "output_type": "display_data"
    },
    {
     "data": {
      "text/html": [
       "151"
      ],
      "text/latex": [
       "151"
      ],
      "text/markdown": [
       "151"
      ],
      "text/plain": [
       "[1] 151"
      ]
     },
     "metadata": {},
     "output_type": "display_data"
    },
    {
     "data": {
      "text/html": [
       "159"
      ],
      "text/latex": [
       "159"
      ],
      "text/markdown": [
       "159"
      ],
      "text/plain": [
       "[1] 159"
      ]
     },
     "metadata": {},
     "output_type": "display_data"
    },
    {
     "data": {
      "text/html": [
       "718"
      ],
      "text/latex": [
       "718"
      ],
      "text/markdown": [
       "718"
      ],
      "text/plain": [
       "[1] 718"
      ]
     },
     "metadata": {},
     "output_type": "display_data"
    }
   ],
   "source": [
    "length(mymerge)\n",
    "length(cadf2)\n",
    "length(df)\n",
    "nrow(mymerge)\n",
    "nrow(cadf2)\n",
    "nrow(df)"
   ]
  },
  {
   "cell_type": "code",
   "execution_count": 216,
   "metadata": {
    "vscode": {
     "languageId": "r"
    }
   },
   "outputs": [],
   "source": [
    "mymerge <- mymerge[order(mymerge$Date),]"
   ]
  },
  {
   "cell_type": "code",
   "execution_count": 217,
   "metadata": {
    "vscode": {
     "languageId": "r"
    }
   },
   "outputs": [],
   "source": [
    "mymerge$year <- format(mymerge$Date, format = \"%Y\")"
   ]
  },
  {
   "cell_type": "code",
   "execution_count": 218,
   "metadata": {
    "vscode": {
     "languageId": "r"
    }
   },
   "outputs": [
    {
     "data": {
      "text/html": [
       "<table class=\"dataframe\">\n",
       "<caption>A data.frame: 2 × 29</caption>\n",
       "<thead>\n",
       "\t<tr><th></th><th scope=col>Date</th><th scope=col>Times</th><th scope=col>End.Time</th><th scope=col>Session.Type</th><th scope=col>Session.Subtype</th><th scope=col>Creation.Method</th><th scope=col>Local.Time.Zone.Offset</th><th scope=col>Activity.Score</th><th scope=col>Intense.Duration..ms.</th><th scope=col>Moderate.Duration..ms.</th><th scope=col>⋯</th><th scope=col>Distance</th><th scope=col>Avg.Pace</th><th scope=col>Max.Pace</th><th scope=col>Avg.Spd</th><th scope=col>Cal.Burned</th><th scope=col>Avg.HR</th><th scope=col>Steps.y</th><th scope=col>mileage</th><th scope=col>minutes</th><th scope=col>year</th></tr>\n",
       "\t<tr><th></th><th scope=col>&lt;date&gt;</th><th scope=col>&lt;chr&gt;</th><th scope=col>&lt;chr&gt;</th><th scope=col>&lt;chr&gt;</th><th scope=col>&lt;chr&gt;</th><th scope=col>&lt;chr&gt;</th><th scope=col>&lt;dbl&gt;</th><th scope=col>&lt;chr&gt;</th><th scope=col>&lt;chr&gt;</th><th scope=col>&lt;chr&gt;</th><th scope=col>⋯</th><th scope=col>&lt;dbl&gt;</th><th scope=col>&lt;dbl&gt;</th><th scope=col>&lt;dbl&gt;</th><th scope=col>&lt;dbl&gt;</th><th scope=col>&lt;dbl&gt;</th><th scope=col>&lt;dbl&gt;</th><th scope=col>&lt;dbl&gt;</th><th scope=col>&lt;fct&gt;</th><th scope=col>&lt;dbl&gt;</th><th scope=col>&lt;chr&gt;</th></tr>\n",
       "</thead>\n",
       "<tbody>\n",
       "\t<tr><th scope=row>1</th><td>2021-09-23</td><td>12:18:41</td><td>2021-09-23T12:59:29.798Z</td><td>WORKOUT</td><td>RUNNING</td><td>Automatic</td><td>-5</td><td>76.51169         </td><td>2160000.0</td><td>269798.0</td><td>⋯</td><td>3.56</td><td>10.04</td><td>2.40</td><td>5.98</td><td>469</td><td>146</td><td>5720</td><td>FiveK</td><td>35.72</td><td>2021</td></tr>\n",
       "\t<tr><th scope=row>2</th><td>2021-09-24</td><td>12:30:07</td><td>2021-09-24T13:13:14.739Z</td><td>WORKOUT</td><td>RUNNING</td><td>Automatic</td><td>-5</td><td>76.28969833333333</td><td>2040000.0</td><td>494739.0</td><td>⋯</td><td>3.56</td><td> 9.44</td><td>4.25</td><td>6.36</td><td>494</td><td>161</td><td>5340</td><td>FiveK</td><td>33.58</td><td>2021</td></tr>\n",
       "</tbody>\n",
       "</table>\n"
      ],
      "text/latex": [
       "A data.frame: 2 × 29\n",
       "\\begin{tabular}{r|lllllllllllllllllllll}\n",
       "  & Date & Times & End.Time & Session.Type & Session.Subtype & Creation.Method & Local.Time.Zone.Offset & Activity.Score & Intense.Duration..ms. & Moderate.Duration..ms. & ⋯ & Distance & Avg.Pace & Max.Pace & Avg.Spd & Cal.Burned & Avg.HR & Steps.y & mileage & minutes & year\\\\\n",
       "  & <date> & <chr> & <chr> & <chr> & <chr> & <chr> & <dbl> & <chr> & <chr> & <chr> & ⋯ & <dbl> & <dbl> & <dbl> & <dbl> & <dbl> & <dbl> & <dbl> & <fct> & <dbl> & <chr>\\\\\n",
       "\\hline\n",
       "\t1 & 2021-09-23 & 12:18:41 & 2021-09-23T12:59:29.798Z & WORKOUT & RUNNING & Automatic & -5 & 76.51169          & 2160000.0 & 269798.0 & ⋯ & 3.56 & 10.04 & 2.40 & 5.98 & 469 & 146 & 5720 & FiveK & 35.72 & 2021\\\\\n",
       "\t2 & 2021-09-24 & 12:30:07 & 2021-09-24T13:13:14.739Z & WORKOUT & RUNNING & Automatic & -5 & 76.28969833333333 & 2040000.0 & 494739.0 & ⋯ & 3.56 &  9.44 & 4.25 & 6.36 & 494 & 161 & 5340 & FiveK & 33.58 & 2021\\\\\n",
       "\\end{tabular}\n"
      ],
      "text/markdown": [
       "\n",
       "A data.frame: 2 × 29\n",
       "\n",
       "| <!--/--> | Date &lt;date&gt; | Times &lt;chr&gt; | End.Time &lt;chr&gt; | Session.Type &lt;chr&gt; | Session.Subtype &lt;chr&gt; | Creation.Method &lt;chr&gt; | Local.Time.Zone.Offset &lt;dbl&gt; | Activity.Score &lt;chr&gt; | Intense.Duration..ms. &lt;chr&gt; | Moderate.Duration..ms. &lt;chr&gt; | ⋯ ⋯ | Distance &lt;dbl&gt; | Avg.Pace &lt;dbl&gt; | Max.Pace &lt;dbl&gt; | Avg.Spd &lt;dbl&gt; | Cal.Burned &lt;dbl&gt; | Avg.HR &lt;dbl&gt; | Steps.y &lt;dbl&gt; | mileage &lt;fct&gt; | minutes &lt;dbl&gt; | year &lt;chr&gt; |\n",
       "|---|---|---|---|---|---|---|---|---|---|---|---|---|---|---|---|---|---|---|---|---|---|\n",
       "| 1 | 2021-09-23 | 12:18:41 | 2021-09-23T12:59:29.798Z | WORKOUT | RUNNING | Automatic | -5 | 76.51169          | 2160000.0 | 269798.0 | ⋯ | 3.56 | 10.04 | 2.40 | 5.98 | 469 | 146 | 5720 | FiveK | 35.72 | 2021 |\n",
       "| 2 | 2021-09-24 | 12:30:07 | 2021-09-24T13:13:14.739Z | WORKOUT | RUNNING | Automatic | -5 | 76.28969833333333 | 2040000.0 | 494739.0 | ⋯ | 3.56 |  9.44 | 4.25 | 6.36 | 494 | 161 | 5340 | FiveK | 33.58 | 2021 |\n",
       "\n"
      ],
      "text/plain": [
       "  Date       Times    End.Time                 Session.Type Session.Subtype\n",
       "1 2021-09-23 12:18:41 2021-09-23T12:59:29.798Z WORKOUT      RUNNING        \n",
       "2 2021-09-24 12:30:07 2021-09-24T13:13:14.739Z WORKOUT      RUNNING        \n",
       "  Creation.Method Local.Time.Zone.Offset Activity.Score   \n",
       "1 Automatic       -5                     76.51169         \n",
       "2 Automatic       -5                     76.28969833333333\n",
       "  Intense.Duration..ms. Moderate.Duration..ms. ⋯ Distance Avg.Pace Max.Pace\n",
       "1 2160000.0             269798.0               ⋯ 3.56     10.04    2.40    \n",
       "2 2040000.0             494739.0               ⋯ 3.56      9.44    4.25    \n",
       "  Avg.Spd Cal.Burned Avg.HR Steps.y mileage minutes year\n",
       "1 5.98    469        146    5720    FiveK   35.72   2021\n",
       "2 6.36    494        161    5340    FiveK   33.58   2021"
      ]
     },
     "metadata": {},
     "output_type": "display_data"
    }
   ],
   "source": [
    "head(mymerge, 2)"
   ]
  },
  {
   "cell_type": "markdown",
   "metadata": {},
   "source": [
    "## EDA with my merged data set"
   ]
  },
  {
   "cell_type": "code",
   "execution_count": 219,
   "metadata": {
    "vscode": {
     "languageId": "r"
    }
   },
   "outputs": [],
   "source": [
    "mm22 <- mymerge %>% select(c(\"Distance\", \"Duration\", \"Activity.Score\", \"Steps.y\", \"Avg.HR\", \"Avg.Spd\", \"Cal.Burned\"))"
   ]
  },
  {
   "cell_type": "code",
   "execution_count": 220,
   "metadata": {
    "vscode": {
     "languageId": "r"
    }
   },
   "outputs": [],
   "source": [
    "mm22 <- transform(mm22,\n",
    "                             Activity.Score = as.numeric(Activity.Score))"
   ]
  },
  {
   "cell_type": "code",
   "execution_count": 221,
   "metadata": {
    "vscode": {
     "languageId": "r"
    }
   },
   "outputs": [],
   "source": [
    "mm22 <- mm22 %>%\n",
    "\n",
    "  filter(!duplicated(cbind(Distance,  Duration, Cal.Burned)))"
   ]
  },
  {
   "cell_type": "code",
   "execution_count": 222,
   "metadata": {
    "vscode": {
     "languageId": "r"
    }
   },
   "outputs": [
    {
     "data": {
      "text/html": [
       "<table class=\"dataframe\">\n",
       "<caption>A data.frame: 20 × 7</caption>\n",
       "<thead>\n",
       "\t<tr><th></th><th scope=col>Distance</th><th scope=col>Duration</th><th scope=col>Activity.Score</th><th scope=col>Steps.y</th><th scope=col>Avg.HR</th><th scope=col>Avg.Spd</th><th scope=col>Cal.Burned</th></tr>\n",
       "\t<tr><th></th><th scope=col>&lt;dbl&gt;</th><th scope=col>&lt;dbl&gt;</th><th scope=col>&lt;dbl&gt;</th><th scope=col>&lt;dbl&gt;</th><th scope=col>&lt;dbl&gt;</th><th scope=col>&lt;dbl&gt;</th><th scope=col>&lt;dbl&gt;</th></tr>\n",
       "</thead>\n",
       "<tbody>\n",
       "\t<tr><th scope=row>1</th><td> 3.56</td><td>2143</td><td> 76.51169</td><td> 5720</td><td>146</td><td>5.98</td><td> 469</td></tr>\n",
       "\t<tr><th scope=row>2</th><td> 3.56</td><td>2015</td><td> 76.28970</td><td> 5340</td><td>161</td><td>6.36</td><td> 494</td></tr>\n",
       "\t<tr><th scope=row>3</th><td> 4.00</td><td>2164</td><td> 72.41923</td><td> 5790</td><td>149</td><td>6.65</td><td> 521</td></tr>\n",
       "\t<tr><th scope=row>4</th><td> 4.00</td><td>2135</td><td> 72.90169</td><td> 5720</td><td>149</td><td>6.74</td><td> 520</td></tr>\n",
       "\t<tr><th scope=row>5</th><td> 3.57</td><td>2012</td><td> 72.83316</td><td> 5405</td><td>150</td><td>6.38</td><td> 457</td></tr>\n",
       "\t<tr><th scope=row>6</th><td> 4.40</td><td>2573</td><td> 94.71112</td><td> 6816</td><td>153</td><td>6.16</td><td> 603</td></tr>\n",
       "\t<tr><th scope=row>7</th><td> 3.10</td><td>1581</td><td> 57.62157</td><td> 4257</td><td>149</td><td>7.06</td><td> 402</td></tr>\n",
       "\t<tr><th scope=row>8</th><td> 3.10</td><td>1557</td><td> 55.09420</td><td> 4200</td><td>149</td><td>7.17</td><td> 400</td></tr>\n",
       "\t<tr><th scope=row>9</th><td> 3.10</td><td>1800</td><td> 57.93465</td><td> 4796</td><td>148</td><td>6.21</td><td> 403</td></tr>\n",
       "\t<tr><th scope=row>10</th><td> 3.09</td><td>1572</td><td> 60.16828</td><td> 4217</td><td>165</td><td>7.07</td><td> 437</td></tr>\n",
       "\t<tr><th scope=row>11</th><td> 2.50</td><td>1450</td><td> 55.43495</td><td> 3876</td><td>154</td><td>6.21</td><td> 363</td></tr>\n",
       "\t<tr><th scope=row>12</th><td> 3.56</td><td>2072</td><td> 72.35735</td><td> 5526</td><td>146</td><td>6.19</td><td> 456</td></tr>\n",
       "\t<tr><th scope=row>13</th><td> 3.57</td><td>2081</td><td> 72.66768</td><td> 5598</td><td>143</td><td>6.17</td><td> 457</td></tr>\n",
       "\t<tr><th scope=row>14</th><td> 3.10</td><td>1577</td><td> 52.57202</td><td> 4247</td><td>149</td><td>7.08</td><td> 402</td></tr>\n",
       "\t<tr><th scope=row>15</th><td>10.00</td><td>5964</td><td>198.66892</td><td>16017</td><td>154</td><td>6.04</td><td>1351</td></tr>\n",
       "\t<tr><th scope=row>16</th><td> 3.10</td><td>1777</td><td> 63.04021</td><td> 4726</td><td>149</td><td>6.28</td><td> 412</td></tr>\n",
       "\t<tr><th scope=row>17</th><td> 3.10</td><td>1674</td><td> 56.36691</td><td> 4479</td><td>149</td><td>6.67</td><td> 403</td></tr>\n",
       "\t<tr><th scope=row>18</th><td> 3.10</td><td>1703</td><td> 66.30402</td><td> 4549</td><td>149</td><td>6.55</td><td> 406</td></tr>\n",
       "\t<tr><th scope=row>19</th><td> 3.14</td><td>1806</td><td> 66.30402</td><td> 4804</td><td>156</td><td>6.26</td><td> 403</td></tr>\n",
       "\t<tr><th scope=row>20</th><td> 5.00</td><td>2582</td><td> 85.37426</td><td> 6943</td><td>149</td><td>6.97</td><td> 651</td></tr>\n",
       "</tbody>\n",
       "</table>\n"
      ],
      "text/latex": [
       "A data.frame: 20 × 7\n",
       "\\begin{tabular}{r|lllllll}\n",
       "  & Distance & Duration & Activity.Score & Steps.y & Avg.HR & Avg.Spd & Cal.Burned\\\\\n",
       "  & <dbl> & <dbl> & <dbl> & <dbl> & <dbl> & <dbl> & <dbl>\\\\\n",
       "\\hline\n",
       "\t1 &  3.56 & 2143 &  76.51169 &  5720 & 146 & 5.98 &  469\\\\\n",
       "\t2 &  3.56 & 2015 &  76.28970 &  5340 & 161 & 6.36 &  494\\\\\n",
       "\t3 &  4.00 & 2164 &  72.41923 &  5790 & 149 & 6.65 &  521\\\\\n",
       "\t4 &  4.00 & 2135 &  72.90169 &  5720 & 149 & 6.74 &  520\\\\\n",
       "\t5 &  3.57 & 2012 &  72.83316 &  5405 & 150 & 6.38 &  457\\\\\n",
       "\t6 &  4.40 & 2573 &  94.71112 &  6816 & 153 & 6.16 &  603\\\\\n",
       "\t7 &  3.10 & 1581 &  57.62157 &  4257 & 149 & 7.06 &  402\\\\\n",
       "\t8 &  3.10 & 1557 &  55.09420 &  4200 & 149 & 7.17 &  400\\\\\n",
       "\t9 &  3.10 & 1800 &  57.93465 &  4796 & 148 & 6.21 &  403\\\\\n",
       "\t10 &  3.09 & 1572 &  60.16828 &  4217 & 165 & 7.07 &  437\\\\\n",
       "\t11 &  2.50 & 1450 &  55.43495 &  3876 & 154 & 6.21 &  363\\\\\n",
       "\t12 &  3.56 & 2072 &  72.35735 &  5526 & 146 & 6.19 &  456\\\\\n",
       "\t13 &  3.57 & 2081 &  72.66768 &  5598 & 143 & 6.17 &  457\\\\\n",
       "\t14 &  3.10 & 1577 &  52.57202 &  4247 & 149 & 7.08 &  402\\\\\n",
       "\t15 & 10.00 & 5964 & 198.66892 & 16017 & 154 & 6.04 & 1351\\\\\n",
       "\t16 &  3.10 & 1777 &  63.04021 &  4726 & 149 & 6.28 &  412\\\\\n",
       "\t17 &  3.10 & 1674 &  56.36691 &  4479 & 149 & 6.67 &  403\\\\\n",
       "\t18 &  3.10 & 1703 &  66.30402 &  4549 & 149 & 6.55 &  406\\\\\n",
       "\t19 &  3.14 & 1806 &  66.30402 &  4804 & 156 & 6.26 &  403\\\\\n",
       "\t20 &  5.00 & 2582 &  85.37426 &  6943 & 149 & 6.97 &  651\\\\\n",
       "\\end{tabular}\n"
      ],
      "text/markdown": [
       "\n",
       "A data.frame: 20 × 7\n",
       "\n",
       "| <!--/--> | Distance &lt;dbl&gt; | Duration &lt;dbl&gt; | Activity.Score &lt;dbl&gt; | Steps.y &lt;dbl&gt; | Avg.HR &lt;dbl&gt; | Avg.Spd &lt;dbl&gt; | Cal.Burned &lt;dbl&gt; |\n",
       "|---|---|---|---|---|---|---|---|\n",
       "| 1 |  3.56 | 2143 |  76.51169 |  5720 | 146 | 5.98 |  469 |\n",
       "| 2 |  3.56 | 2015 |  76.28970 |  5340 | 161 | 6.36 |  494 |\n",
       "| 3 |  4.00 | 2164 |  72.41923 |  5790 | 149 | 6.65 |  521 |\n",
       "| 4 |  4.00 | 2135 |  72.90169 |  5720 | 149 | 6.74 |  520 |\n",
       "| 5 |  3.57 | 2012 |  72.83316 |  5405 | 150 | 6.38 |  457 |\n",
       "| 6 |  4.40 | 2573 |  94.71112 |  6816 | 153 | 6.16 |  603 |\n",
       "| 7 |  3.10 | 1581 |  57.62157 |  4257 | 149 | 7.06 |  402 |\n",
       "| 8 |  3.10 | 1557 |  55.09420 |  4200 | 149 | 7.17 |  400 |\n",
       "| 9 |  3.10 | 1800 |  57.93465 |  4796 | 148 | 6.21 |  403 |\n",
       "| 10 |  3.09 | 1572 |  60.16828 |  4217 | 165 | 7.07 |  437 |\n",
       "| 11 |  2.50 | 1450 |  55.43495 |  3876 | 154 | 6.21 |  363 |\n",
       "| 12 |  3.56 | 2072 |  72.35735 |  5526 | 146 | 6.19 |  456 |\n",
       "| 13 |  3.57 | 2081 |  72.66768 |  5598 | 143 | 6.17 |  457 |\n",
       "| 14 |  3.10 | 1577 |  52.57202 |  4247 | 149 | 7.08 |  402 |\n",
       "| 15 | 10.00 | 5964 | 198.66892 | 16017 | 154 | 6.04 | 1351 |\n",
       "| 16 |  3.10 | 1777 |  63.04021 |  4726 | 149 | 6.28 |  412 |\n",
       "| 17 |  3.10 | 1674 |  56.36691 |  4479 | 149 | 6.67 |  403 |\n",
       "| 18 |  3.10 | 1703 |  66.30402 |  4549 | 149 | 6.55 |  406 |\n",
       "| 19 |  3.14 | 1806 |  66.30402 |  4804 | 156 | 6.26 |  403 |\n",
       "| 20 |  5.00 | 2582 |  85.37426 |  6943 | 149 | 6.97 |  651 |\n",
       "\n"
      ],
      "text/plain": [
       "   Distance Duration Activity.Score Steps.y Avg.HR Avg.Spd Cal.Burned\n",
       "1   3.56    2143      76.51169       5720   146    5.98     469      \n",
       "2   3.56    2015      76.28970       5340   161    6.36     494      \n",
       "3   4.00    2164      72.41923       5790   149    6.65     521      \n",
       "4   4.00    2135      72.90169       5720   149    6.74     520      \n",
       "5   3.57    2012      72.83316       5405   150    6.38     457      \n",
       "6   4.40    2573      94.71112       6816   153    6.16     603      \n",
       "7   3.10    1581      57.62157       4257   149    7.06     402      \n",
       "8   3.10    1557      55.09420       4200   149    7.17     400      \n",
       "9   3.10    1800      57.93465       4796   148    6.21     403      \n",
       "10  3.09    1572      60.16828       4217   165    7.07     437      \n",
       "11  2.50    1450      55.43495       3876   154    6.21     363      \n",
       "12  3.56    2072      72.35735       5526   146    6.19     456      \n",
       "13  3.57    2081      72.66768       5598   143    6.17     457      \n",
       "14  3.10    1577      52.57202       4247   149    7.08     402      \n",
       "15 10.00    5964     198.66892      16017   154    6.04    1351      \n",
       "16  3.10    1777      63.04021       4726   149    6.28     412      \n",
       "17  3.10    1674      56.36691       4479   149    6.67     403      \n",
       "18  3.10    1703      66.30402       4549   149    6.55     406      \n",
       "19  3.14    1806      66.30402       4804   156    6.26     403      \n",
       "20  5.00    2582      85.37426       6943   149    6.97     651      "
      ]
     },
     "metadata": {},
     "output_type": "display_data"
    }
   ],
   "source": [
    "head(mm22, 20)"
   ]
  },
  {
   "cell_type": "markdown",
   "metadata": {},
   "source": [
    "## Plot EDA"
   ]
  },
  {
   "cell_type": "code",
   "execution_count": 223,
   "metadata": {
    "vscode": {
     "languageId": "r"
    }
   },
   "outputs": [],
   "source": [
    "df2 = df[sapply(df, is.numeric)]"
   ]
  },
  {
   "cell_type": "code",
   "execution_count": 224,
   "metadata": {
    "vscode": {
     "languageId": "r"
    }
   },
   "outputs": [
    {
     "data": {
      "image/png": "[encoded data removed]",
      "text/plain": [
       "plot without title"
      ]
     },
     "metadata": {
      "image/png": {
       "height": 420,
       "width": 420
      }
     },
     "output_type": "display_data"
    }
   ],
   "source": [
    "ggplot(data = df2) +\n",
    "  geom_bar(mapping = aes(x = Distance))"
   ]
  },
  {
   "cell_type": "code",
   "execution_count": 225,
   "metadata": {
    "vscode": {
     "languageId": "r"
    }
   },
   "outputs": [
    {
     "data": {
      "image/png": "[encoded data removed]",
      "text/plain": [
       "plot without title"
      ]
     },
     "metadata": {
      "image/png": {
       "height": 420,
       "width": 420
      }
     },
     "output_type": "display_data"
    }
   ],
   "source": [
    "ggplot(data = df2, mapping = aes(x = Distance, colour = Duration)) +\n",
    "  geom_freqpoly(binwidth = 0.2)"
   ]
  },
  {
   "cell_type": "code",
   "execution_count": 226,
   "metadata": {
    "vscode": {
     "languageId": "r"
    }
   },
   "outputs": [
    {
     "data": {
      "image/png": "[encoded data removed]",
      "text/plain": [
       "plot without title"
      ]
     },
     "metadata": {
      "image/png": {
       "height": 420,
       "width": 420
      }
     },
     "output_type": "display_data"
    }
   ],
   "source": [
    "ggplot(data = df2, mapping = aes(x = Distance, y = Cal.Burned)) + \n",
    "  geom_point()"
   ]
  },
  {
   "cell_type": "code",
   "execution_count": 227,
   "metadata": {
    "vscode": {
     "languageId": "r"
    }
   },
   "outputs": [
    {
     "data": {
      "text/html": [
       "<table class=\"dataframe\">\n",
       "<caption>A matrix: 6 × 10 of type dbl</caption>\n",
       "<thead>\n",
       "\t<tr><th></th><th scope=col>Duration</th><th scope=col>Distance</th><th scope=col>Avg.Pace</th><th scope=col>Max.Pace</th><th scope=col>Avg.Spd</th><th scope=col>Cal.Burned</th><th scope=col>Avg.HR</th><th scope=col>Steps</th><th scope=col>minutes</th><th scope=col>year</th></tr>\n",
       "</thead>\n",
       "<tbody>\n",
       "\t<tr><th scope=row>Duration</th><td> 1.00</td><td> 0.87</td><td> 0.09</td><td>-0.04</td><td>-0.04</td><td> 0.87</td><td> 0.01</td><td> 0.91</td><td> 1.00</td><td> 0.21</td></tr>\n",
       "\t<tr><th scope=row>Distance</th><td> 0.87</td><td> 1.00</td><td>-0.16</td><td>-0.09</td><td> 0.37</td><td> 0.97</td><td> 0.21</td><td> 0.94</td><td> 0.87</td><td> 0.35</td></tr>\n",
       "\t<tr><th scope=row>Avg.Pace</th><td> 0.09</td><td>-0.16</td><td> 1.00</td><td> 0.09</td><td>-0.42</td><td>-0.18</td><td>-0.33</td><td>-0.15</td><td> 0.09</td><td>-0.08</td></tr>\n",
       "\t<tr><th scope=row>Max.Pace</th><td>-0.04</td><td>-0.09</td><td> 0.09</td><td> 1.00</td><td>-0.15</td><td>-0.10</td><td>-0.06</td><td>-0.08</td><td>-0.04</td><td>-0.09</td></tr>\n",
       "\t<tr><th scope=row>Avg.Spd</th><td>-0.04</td><td> 0.37</td><td>-0.42</td><td>-0.15</td><td> 1.00</td><td> 0.32</td><td> 0.41</td><td> 0.13</td><td>-0.04</td><td> 0.34</td></tr>\n",
       "\t<tr><th scope=row>Cal.Burned</th><td> 0.87</td><td> 0.97</td><td>-0.18</td><td>-0.10</td><td> 0.32</td><td> 1.00</td><td> 0.24</td><td> 0.93</td><td> 0.87</td><td> 0.38</td></tr>\n",
       "</tbody>\n",
       "</table>\n"
      ],
      "text/latex": [
       "A matrix: 6 × 10 of type dbl\n",
       "\\begin{tabular}{r|llllllllll}\n",
       "  & Duration & Distance & Avg.Pace & Max.Pace & Avg.Spd & Cal.Burned & Avg.HR & Steps & minutes & year\\\\\n",
       "\\hline\n",
       "\tDuration &  1.00 &  0.87 &  0.09 & -0.04 & -0.04 &  0.87 &  0.01 &  0.91 &  1.00 &  0.21\\\\\n",
       "\tDistance &  0.87 &  1.00 & -0.16 & -0.09 &  0.37 &  0.97 &  0.21 &  0.94 &  0.87 &  0.35\\\\\n",
       "\tAvg.Pace &  0.09 & -0.16 &  1.00 &  0.09 & -0.42 & -0.18 & -0.33 & -0.15 &  0.09 & -0.08\\\\\n",
       "\tMax.Pace & -0.04 & -0.09 &  0.09 &  1.00 & -0.15 & -0.10 & -0.06 & -0.08 & -0.04 & -0.09\\\\\n",
       "\tAvg.Spd & -0.04 &  0.37 & -0.42 & -0.15 &  1.00 &  0.32 &  0.41 &  0.13 & -0.04 &  0.34\\\\\n",
       "\tCal.Burned &  0.87 &  0.97 & -0.18 & -0.10 &  0.32 &  1.00 &  0.24 &  0.93 &  0.87 &  0.38\\\\\n",
       "\\end{tabular}\n"
      ],
      "text/markdown": [
       "\n",
       "A matrix: 6 × 10 of type dbl\n",
       "\n",
       "| <!--/--> | Duration | Distance | Avg.Pace | Max.Pace | Avg.Spd | Cal.Burned | Avg.HR | Steps | minutes | year |\n",
       "|---|---|---|---|---|---|---|---|---|---|---|\n",
       "| Duration |  1.00 |  0.87 |  0.09 | -0.04 | -0.04 |  0.87 |  0.01 |  0.91 |  1.00 |  0.21 |\n",
       "| Distance |  0.87 |  1.00 | -0.16 | -0.09 |  0.37 |  0.97 |  0.21 |  0.94 |  0.87 |  0.35 |\n",
       "| Avg.Pace |  0.09 | -0.16 |  1.00 |  0.09 | -0.42 | -0.18 | -0.33 | -0.15 |  0.09 | -0.08 |\n",
       "| Max.Pace | -0.04 | -0.09 |  0.09 |  1.00 | -0.15 | -0.10 | -0.06 | -0.08 | -0.04 | -0.09 |\n",
       "| Avg.Spd | -0.04 |  0.37 | -0.42 | -0.15 |  1.00 |  0.32 |  0.41 |  0.13 | -0.04 |  0.34 |\n",
       "| Cal.Burned |  0.87 |  0.97 | -0.18 | -0.10 |  0.32 |  1.00 |  0.24 |  0.93 |  0.87 |  0.38 |\n",
       "\n"
      ],
      "text/plain": [
       "           Duration Distance Avg.Pace Max.Pace Avg.Spd Cal.Burned Avg.HR Steps\n",
       "Duration    1.00     0.87     0.09    -0.04    -0.04    0.87       0.01   0.91\n",
       "Distance    0.87     1.00    -0.16    -0.09     0.37    0.97       0.21   0.94\n",
       "Avg.Pace    0.09    -0.16     1.00     0.09    -0.42   -0.18      -0.33  -0.15\n",
       "Max.Pace   -0.04    -0.09     0.09     1.00    -0.15   -0.10      -0.06  -0.08\n",
       "Avg.Spd    -0.04     0.37    -0.42    -0.15     1.00    0.32       0.41   0.13\n",
       "Cal.Burned  0.87     0.97    -0.18    -0.10     0.32    1.00       0.24   0.93\n",
       "           minutes year \n",
       "Duration    1.00    0.21\n",
       "Distance    0.87    0.35\n",
       "Avg.Pace    0.09   -0.08\n",
       "Max.Pace   -0.04   -0.09\n",
       "Avg.Spd    -0.04    0.34\n",
       "Cal.Burned  0.87    0.38"
      ]
     },
     "metadata": {},
     "output_type": "display_data"
    }
   ],
   "source": [
    "cormat <- round(cor(df2),2)\n",
    "head(cormat)\n"
   ]
  },
  {
   "cell_type": "code",
   "execution_count": 228,
   "metadata": {
    "vscode": {
     "languageId": "r"
    }
   },
   "outputs": [
    {
     "name": "stderr",
     "output_type": "stream",
     "text": [
      "Installing package into 'C:/Rpack/library'\n",
      "(as 'lib' is unspecified)\n",
      "\n",
      "also installing the dependency 'plyr'\n",
      "\n",
      "\n"
     ]
    },
    {
     "name": "stdout",
     "output_type": "stream",
     "text": [
      "package 'plyr' successfully unpacked and MD5 sums checked\n",
      "package 'reshape2' successfully unpacked and MD5 sums checked\n",
      "\n",
      "The downloaded binary packages are in\n",
      "\tC:\\Users\\coleb\\AppData\\Local\\Temp\\RtmpwhJmq2\\downloaded_packages\n"
     ]
    },
    {
     "name": "stderr",
     "output_type": "stream",
     "text": [
      "\n",
      "Attaching package: 'reshape2'\n",
      "\n",
      "\n",
      "The following objects are masked from 'package:data.table':\n",
      "\n",
      "    dcast, melt\n",
      "\n",
      "\n",
      "The following object is masked from 'package:tidyr':\n",
      "\n",
      "    smiths\n",
      "\n",
      "\n"
     ]
    },
    {
     "data": {
      "text/html": [
       "<table class=\"dataframe\">\n",
       "<caption>A data.frame: 6 × 3</caption>\n",
       "<thead>\n",
       "\t<tr><th></th><th scope=col>Var1</th><th scope=col>Var2</th><th scope=col>value</th></tr>\n",
       "\t<tr><th></th><th scope=col>&lt;fct&gt;</th><th scope=col>&lt;fct&gt;</th><th scope=col>&lt;dbl&gt;</th></tr>\n",
       "</thead>\n",
       "<tbody>\n",
       "\t<tr><th scope=row>1</th><td>Duration  </td><td>Duration</td><td> 1.00</td></tr>\n",
       "\t<tr><th scope=row>2</th><td>Distance  </td><td>Duration</td><td> 0.87</td></tr>\n",
       "\t<tr><th scope=row>3</th><td>Avg.Pace  </td><td>Duration</td><td> 0.09</td></tr>\n",
       "\t<tr><th scope=row>4</th><td>Max.Pace  </td><td>Duration</td><td>-0.04</td></tr>\n",
       "\t<tr><th scope=row>5</th><td>Avg.Spd   </td><td>Duration</td><td>-0.04</td></tr>\n",
       "\t<tr><th scope=row>6</th><td>Cal.Burned</td><td>Duration</td><td> 0.87</td></tr>\n",
       "</tbody>\n",
       "</table>\n"
      ],
      "text/latex": [
       "A data.frame: 6 × 3\n",
       "\\begin{tabular}{r|lll}\n",
       "  & Var1 & Var2 & value\\\\\n",
       "  & <fct> & <fct> & <dbl>\\\\\n",
       "\\hline\n",
       "\t1 & Duration   & Duration &  1.00\\\\\n",
       "\t2 & Distance   & Duration &  0.87\\\\\n",
       "\t3 & Avg.Pace   & Duration &  0.09\\\\\n",
       "\t4 & Max.Pace   & Duration & -0.04\\\\\n",
       "\t5 & Avg.Spd    & Duration & -0.04\\\\\n",
       "\t6 & Cal.Burned & Duration &  0.87\\\\\n",
       "\\end{tabular}\n"
      ],
      "text/markdown": [
       "\n",
       "A data.frame: 6 × 3\n",
       "\n",
       "| <!--/--> | Var1 &lt;fct&gt; | Var2 &lt;fct&gt; | value &lt;dbl&gt; |\n",
       "|---|---|---|---|\n",
       "| 1 | Duration   | Duration |  1.00 |\n",
       "| 2 | Distance   | Duration |  0.87 |\n",
       "| 3 | Avg.Pace   | Duration |  0.09 |\n",
       "| 4 | Max.Pace   | Duration | -0.04 |\n",
       "| 5 | Avg.Spd    | Duration | -0.04 |\n",
       "| 6 | Cal.Burned | Duration |  0.87 |\n",
       "\n"
      ],
      "text/plain": [
       "  Var1       Var2     value\n",
       "1 Duration   Duration  1.00\n",
       "2 Distance   Duration  0.87\n",
       "3 Avg.Pace   Duration  0.09\n",
       "4 Max.Pace   Duration -0.04\n",
       "5 Avg.Spd    Duration -0.04\n",
       "6 Cal.Burned Duration  0.87"
      ]
     },
     "metadata": {},
     "output_type": "display_data"
    }
   ],
   "source": [
    "install.packages(\"reshape2\")\n",
    "library(reshape2)\n",
    "melted_cormat <- melt(cormat)\n",
    "head(melted_cormat)"
   ]
  },
  {
   "cell_type": "code",
   "execution_count": 229,
   "metadata": {
    "vscode": {
     "languageId": "r"
    }
   },
   "outputs": [
    {
     "data": {
      "image/png": "[encoded data removed]",
      "text/plain": [
       "plot without title"
      ]
     },
     "metadata": {
      "image/png": {
       "height": 420,
       "width": 420
      }
     },
     "output_type": "display_data"
    }
   ],
   "source": [
    "library(ggplot2)\n",
    "ggplot(data = melted_cormat, aes(x=Var1, y=Var2, fill=value)) + \n",
    "  geom_tile()"
   ]
  },
  {
   "cell_type": "code",
   "execution_count": 230,
   "metadata": {
    "vscode": {
     "languageId": "r"
    }
   },
   "outputs": [],
   "source": [
    "linear_model <- lm(minutes ~ Distance, data = df2)"
   ]
  },
  {
   "cell_type": "code",
   "execution_count": 231,
   "metadata": {
    "vscode": {
     "languageId": "r"
    }
   },
   "outputs": [
    {
     "data": {
      "text/plain": [
       "\n",
       "Call:\n",
       "lm(formula = minutes ~ Distance, data = df2)\n",
       "\n",
       "Residuals:\n",
       "    Min      1Q  Median      3Q     Max \n",
       "-11.505  -5.612  -3.736   1.639  59.690 \n",
       "\n",
       "Coefficients:\n",
       "            Estimate Std. Error t value Pr(>|t|)    \n",
       "(Intercept)   5.1284     0.7239   7.084 3.36e-12 ***\n",
       "Distance      9.3411     0.1936  48.256  < 2e-16 ***\n",
       "---\n",
       "Signif. codes:  0 '***' 0.001 '**' 0.01 '*' 0.05 '.' 0.1 ' ' 1\n",
       "\n",
       "Residual standard error: 10.43 on 716 degrees of freedom\n",
       "Multiple R-squared:  0.7648,\tAdjusted R-squared:  0.7645 \n",
       "F-statistic:  2329 on 1 and 716 DF,  p-value: < 2.2e-16\n"
      ]
     },
     "metadata": {},
     "output_type": "display_data"
    }
   ],
   "source": [
    "summary(linear_model)"
   ]
  },
  {
   "cell_type": "code",
   "execution_count": 232,
   "metadata": {
    "vscode": {
     "languageId": "r"
    }
   },
   "outputs": [
    {
     "data": {
      "text/html": [
       "<table class=\"dataframe\">\n",
       "<caption>A matrix: 3 × 3 of type dbl</caption>\n",
       "<thead>\n",
       "\t<tr><th></th><th scope=col>fit</th><th scope=col>lwr</th><th scope=col>upr</th></tr>\n",
       "</thead>\n",
       "<tbody>\n",
       "\t<tr><th scope=row>1</th><td>145.2444</td><td>140.6777</td><td>149.8112</td></tr>\n",
       "\t<tr><th scope=row>2</th><td>191.9497</td><td>185.5018</td><td>198.3977</td></tr>\n",
       "\t<tr><th scope=row>3</th><td>249.8644</td><td>241.0723</td><td>258.6564</td></tr>\n",
       "</tbody>\n",
       "</table>\n"
      ],
      "text/latex": [
       "A matrix: 3 × 3 of type dbl\n",
       "\\begin{tabular}{r|lll}\n",
       "  & fit & lwr & upr\\\\\n",
       "\\hline\n",
       "\t1 & 145.2444 & 140.6777 & 149.8112\\\\\n",
       "\t2 & 191.9497 & 185.5018 & 198.3977\\\\\n",
       "\t3 & 249.8644 & 241.0723 & 258.6564\\\\\n",
       "\\end{tabular}\n"
      ],
      "text/markdown": [
       "\n",
       "A matrix: 3 × 3 of type dbl\n",
       "\n",
       "| <!--/--> | fit | lwr | upr |\n",
       "|---|---|---|---|\n",
       "| 1 | 145.2444 | 140.6777 | 149.8112 |\n",
       "| 2 | 191.9497 | 185.5018 | 198.3977 |\n",
       "| 3 | 249.8644 | 241.0723 | 258.6564 |\n",
       "\n"
      ],
      "text/plain": [
       "  fit      lwr      upr     \n",
       "1 145.2444 140.6777 149.8112\n",
       "2 191.9497 185.5018 198.3977\n",
       "3 249.8644 241.0723 258.6564"
      ]
     },
     "metadata": {},
     "output_type": "display_data"
    }
   ],
   "source": [
    "#Calories burned during a run (15 miles = 1, 20 miles = 2, etc.)\n",
    "\n",
    "new_distance <- data.frame(\n",
    "    Distance = c(15, 20, 26.2)   \n",
    ")\n",
    "\n",
    "pred <- predict(linear_model, new_distance, interval = \"confidence\")\n",
    "pred"
   ]
  },
  {
   "cell_type": "code",
   "execution_count": 233,
   "metadata": {
    "vscode": {
     "languageId": "r"
    }
   },
   "outputs": [],
   "source": [
    "halftimes <- df2[df2$Distance > 13.09,]\n",
    "#halftimes2 <- mm23[mm23$Distance > 13.09,]\n"
   ]
  },
  {
   "cell_type": "code",
   "execution_count": 234,
   "metadata": {
    "vscode": {
     "languageId": "r"
    }
   },
   "outputs": [
    {
     "data": {
      "text/html": [
       "<table class=\"dataframe\">\n",
       "<caption>A data.frame: 6 × 10</caption>\n",
       "<thead>\n",
       "\t<tr><th></th><th scope=col>Duration</th><th scope=col>Distance</th><th scope=col>Avg.Pace</th><th scope=col>Max.Pace</th><th scope=col>Avg.Spd</th><th scope=col>Cal.Burned</th><th scope=col>Avg.HR</th><th scope=col>Steps</th><th scope=col>minutes</th><th scope=col>year</th></tr>\n",
       "\t<tr><th></th><th scope=col>&lt;dbl&gt;</th><th scope=col>&lt;dbl&gt;</th><th scope=col>&lt;dbl&gt;</th><th scope=col>&lt;dbl&gt;</th><th scope=col>&lt;dbl&gt;</th><th scope=col>&lt;dbl&gt;</th><th scope=col>&lt;dbl&gt;</th><th scope=col>&lt;dbl&gt;</th><th scope=col>&lt;dbl&gt;</th><th scope=col>&lt;int&gt;</th></tr>\n",
       "</thead>\n",
       "<tbody>\n",
       "\t<tr><th scope=row>2</th><td>11065</td><td>13.11</td><td>14.07</td><td>7.71</td><td>4.27</td><td>1544</td><td>140</td><td>22531</td><td>184.42</td><td>2022</td></tr>\n",
       "\t<tr><th scope=row>99</th><td> 9189</td><td>13.10</td><td>11.69</td><td>0.68</td><td>5.13</td><td>1854</td><td>156</td><td>22087</td><td>153.15</td><td>2022</td></tr>\n",
       "\t<tr><th scope=row>152</th><td> 9540</td><td>13.13</td><td>12.11</td><td>1.35</td><td>4.96</td><td>1876</td><td>148</td><td>22488</td><td>159.00</td><td>2021</td></tr>\n",
       "\t<tr><th scope=row>269</th><td>10191</td><td>13.48</td><td>12.60</td><td>0.48</td><td>4.76</td><td>1928</td><td>144</td><td>22719</td><td>169.85</td><td>2021</td></tr>\n",
       "\t<tr><th scope=row>423</th><td> 8767</td><td>13.43</td><td>10.87</td><td>0.13</td><td>5.52</td><td>1508</td><td>145</td><td>23604</td><td>146.12</td><td>2020</td></tr>\n",
       "\t<tr><th scope=row>469</th><td> 7844</td><td>13.12</td><td> 9.96</td><td>1.10</td><td>6.02</td><td>1377</td><td>150</td><td>21427</td><td>130.73</td><td>2020</td></tr>\n",
       "</tbody>\n",
       "</table>\n"
      ],
      "text/latex": [
       "A data.frame: 6 × 10\n",
       "\\begin{tabular}{r|llllllllll}\n",
       "  & Duration & Distance & Avg.Pace & Max.Pace & Avg.Spd & Cal.Burned & Avg.HR & Steps & minutes & year\\\\\n",
       "  & <dbl> & <dbl> & <dbl> & <dbl> & <dbl> & <dbl> & <dbl> & <dbl> & <dbl> & <int>\\\\\n",
       "\\hline\n",
       "\t2 & 11065 & 13.11 & 14.07 & 7.71 & 4.27 & 1544 & 140 & 22531 & 184.42 & 2022\\\\\n",
       "\t99 &  9189 & 13.10 & 11.69 & 0.68 & 5.13 & 1854 & 156 & 22087 & 153.15 & 2022\\\\\n",
       "\t152 &  9540 & 13.13 & 12.11 & 1.35 & 4.96 & 1876 & 148 & 22488 & 159.00 & 2021\\\\\n",
       "\t269 & 10191 & 13.48 & 12.60 & 0.48 & 4.76 & 1928 & 144 & 22719 & 169.85 & 2021\\\\\n",
       "\t423 &  8767 & 13.43 & 10.87 & 0.13 & 5.52 & 1508 & 145 & 23604 & 146.12 & 2020\\\\\n",
       "\t469 &  7844 & 13.12 &  9.96 & 1.10 & 6.02 & 1377 & 150 & 21427 & 130.73 & 2020\\\\\n",
       "\\end{tabular}\n"
      ],
      "text/markdown": [
       "\n",
       "A data.frame: 6 × 10\n",
       "\n",
       "| <!--/--> | Duration &lt;dbl&gt; | Distance &lt;dbl&gt; | Avg.Pace &lt;dbl&gt; | Max.Pace &lt;dbl&gt; | Avg.Spd &lt;dbl&gt; | Cal.Burned &lt;dbl&gt; | Avg.HR &lt;dbl&gt; | Steps &lt;dbl&gt; | minutes &lt;dbl&gt; | year &lt;int&gt; |\n",
       "|---|---|---|---|---|---|---|---|---|---|---|\n",
       "| 2 | 11065 | 13.11 | 14.07 | 7.71 | 4.27 | 1544 | 140 | 22531 | 184.42 | 2022 |\n",
       "| 99 |  9189 | 13.10 | 11.69 | 0.68 | 5.13 | 1854 | 156 | 22087 | 153.15 | 2022 |\n",
       "| 152 |  9540 | 13.13 | 12.11 | 1.35 | 4.96 | 1876 | 148 | 22488 | 159.00 | 2021 |\n",
       "| 269 | 10191 | 13.48 | 12.60 | 0.48 | 4.76 | 1928 | 144 | 22719 | 169.85 | 2021 |\n",
       "| 423 |  8767 | 13.43 | 10.87 | 0.13 | 5.52 | 1508 | 145 | 23604 | 146.12 | 2020 |\n",
       "| 469 |  7844 | 13.12 |  9.96 | 1.10 | 6.02 | 1377 | 150 | 21427 | 130.73 | 2020 |\n",
       "\n"
      ],
      "text/plain": [
       "    Duration Distance Avg.Pace Max.Pace Avg.Spd Cal.Burned Avg.HR Steps minutes\n",
       "2   11065    13.11    14.07    7.71     4.27    1544       140    22531 184.42 \n",
       "99   9189    13.10    11.69    0.68     5.13    1854       156    22087 153.15 \n",
       "152  9540    13.13    12.11    1.35     4.96    1876       148    22488 159.00 \n",
       "269 10191    13.48    12.60    0.48     4.76    1928       144    22719 169.85 \n",
       "423  8767    13.43    10.87    0.13     5.52    1508       145    23604 146.12 \n",
       "469  7844    13.12     9.96    1.10     6.02    1377       150    21427 130.73 \n",
       "    year\n",
       "2   2022\n",
       "99  2022\n",
       "152 2021\n",
       "269 2021\n",
       "423 2020\n",
       "469 2020"
      ]
     },
     "metadata": {},
     "output_type": "display_data"
    }
   ],
   "source": [
    "head(halftimes, 20)"
   ]
  },
  {
   "cell_type": "code",
   "execution_count": 235,
   "metadata": {
    "vscode": {
     "languageId": "r"
    }
   },
   "outputs": [
    {
     "name": "stderr",
     "output_type": "stream",
     "text": [
      "`stat_bin()` using `bins = 30`. Pick better value with `binwidth`.\n",
      "\n"
     ]
    },
    {
     "data": {
      "image/png": "[encoded data removed]",
      "text/plain": [
       "plot without title"
      ]
     },
     "metadata": {
      "image/png": {
       "height": 420,
       "width": 420
      }
     },
     "output_type": "display_data"
    }
   ],
   "source": [
    "ggplot(halftimes, aes(x=minutes)) + \n",
    "  geom_histogram() + \n",
    "  facet_wrap(~year)"
   ]
  },
  {
   "cell_type": "code",
   "execution_count": 236,
   "metadata": {
    "vscode": {
     "languageId": "r"
    }
   },
   "outputs": [],
   "source": [
    "df3 <- df2 %>%\n",
    "\n",
    "  filter(!duplicated(cbind(Distance,  Duration, Cal.Burned)))"
   ]
  },
  {
   "cell_type": "code",
   "execution_count": 237,
   "metadata": {
    "vscode": {
     "languageId": "r"
    }
   },
   "outputs": [
    {
     "data": {
      "text/html": [
       "<table class=\"dataframe\">\n",
       "<caption>A data.frame: 20 × 10</caption>\n",
       "<thead>\n",
       "\t<tr><th></th><th scope=col>Duration</th><th scope=col>Distance</th><th scope=col>Avg.Pace</th><th scope=col>Max.Pace</th><th scope=col>Avg.Spd</th><th scope=col>Cal.Burned</th><th scope=col>Avg.HR</th><th scope=col>Steps</th><th scope=col>minutes</th><th scope=col>year</th></tr>\n",
       "\t<tr><th></th><th scope=col>&lt;dbl&gt;</th><th scope=col>&lt;dbl&gt;</th><th scope=col>&lt;dbl&gt;</th><th scope=col>&lt;dbl&gt;</th><th scope=col>&lt;dbl&gt;</th><th scope=col>&lt;dbl&gt;</th><th scope=col>&lt;dbl&gt;</th><th scope=col>&lt;dbl&gt;</th><th scope=col>&lt;dbl&gt;</th><th scope=col>&lt;int&gt;</th></tr>\n",
       "</thead>\n",
       "<tbody>\n",
       "\t<tr><th scope=row>1</th><td> 1801</td><td> 3.10</td><td> 9.68</td><td> 9.96</td><td>6.20</td><td> 414</td><td>144</td><td> 4599</td><td> 30.02</td><td>2022</td></tr>\n",
       "\t<tr><th scope=row>2</th><td>11065</td><td>13.11</td><td>14.07</td><td> 7.71</td><td>4.27</td><td>1544</td><td>140</td><td>22531</td><td>184.42</td><td>2022</td></tr>\n",
       "\t<tr><th scope=row>3</th><td> 3600</td><td> 6.56</td><td> 9.15</td><td>10.37</td><td>6.56</td><td> 859</td><td>147</td><td> 9295</td><td> 60.00</td><td>2022</td></tr>\n",
       "\t<tr><th scope=row>4</th><td> 3600</td><td> 4.74</td><td>12.66</td><td>10.42</td><td>4.74</td><td> 632</td><td>122</td><td> 8146</td><td> 60.00</td><td>2022</td></tr>\n",
       "\t<tr><th scope=row>5</th><td> 4663</td><td> 6.38</td><td>12.17</td><td> 8.82</td><td>4.93</td><td> 618</td><td>128</td><td>11001</td><td> 77.72</td><td>2022</td></tr>\n",
       "\t<tr><th scope=row>6</th><td> 3617</td><td> 6.21</td><td> 9.71</td><td> 9.71</td><td>6.18</td><td> 831</td><td>144</td><td> 9306</td><td> 60.28</td><td>2022</td></tr>\n",
       "\t<tr><th scope=row>7</th><td> 3712</td><td> 4.63</td><td>13.37</td><td> 1.55</td><td>4.49</td><td> 576</td><td>116</td><td> 7878</td><td> 61.87</td><td>2022</td></tr>\n",
       "\t<tr><th scope=row>8</th><td> 4441</td><td> 7.02</td><td>10.54</td><td> 0.97</td><td>5.69</td><td> 863</td><td>144</td><td>11520</td><td> 74.02</td><td>2022</td></tr>\n",
       "\t<tr><th scope=row>9</th><td> 4274</td><td> 6.35</td><td>11.21</td><td> 1.05</td><td>5.35</td><td> 626</td><td>145</td><td>11074</td><td> 71.23</td><td>2022</td></tr>\n",
       "\t<tr><th scope=row>10</th><td> 4013</td><td> 6.35</td><td>10.53</td><td> 0.50</td><td>5.70</td><td> 797</td><td>146</td><td>10360</td><td> 66.88</td><td>2022</td></tr>\n",
       "\t<tr><th scope=row>11</th><td> 2267</td><td> 2.14</td><td>17.64</td><td> 2.31</td><td>3.40</td><td> 290</td><td>119</td><td> 4141</td><td> 37.78</td><td>2022</td></tr>\n",
       "\t<tr><th scope=row>12</th><td> 1410</td><td> 2.37</td><td> 9.91</td><td> 0.95</td><td>6.05</td><td> 311</td><td>152</td><td> 3639</td><td> 23.50</td><td>2022</td></tr>\n",
       "\t<tr><th scope=row>13</th><td> 3600</td><td> 6.09</td><td> 9.85</td><td> 0.00</td><td>6.09</td><td> 820</td><td>149</td><td> 9545</td><td> 60.00</td><td>2022</td></tr>\n",
       "\t<tr><th scope=row>14</th><td> 5187</td><td> 8.00</td><td>10.81</td><td> 0.00</td><td>5.55</td><td>1117</td><td>149</td><td>13634</td><td> 86.45</td><td>2022</td></tr>\n",
       "\t<tr><th scope=row>15</th><td> 1905</td><td> 3.16</td><td>10.06</td><td> 0.38</td><td>5.96</td><td> 314</td><td>158</td><td> 5020</td><td> 31.75</td><td>2022</td></tr>\n",
       "\t<tr><th scope=row>16</th><td> 6268</td><td> 4.26</td><td>24.48</td><td> 0.83</td><td>2.45</td><td> 430</td><td> 87</td><td> 8227</td><td>104.47</td><td>2022</td></tr>\n",
       "\t<tr><th scope=row>17</th><td> 1805</td><td> 3.10</td><td> 9.70</td><td> 0.00</td><td>6.18</td><td> 415</td><td>149</td><td> 4793</td><td> 30.08</td><td>2022</td></tr>\n",
       "\t<tr><th scope=row>18</th><td> 1657</td><td> 1.60</td><td>17.21</td><td> 1.70</td><td>3.49</td><td> 227</td><td>131</td><td> 3001</td><td> 27.62</td><td>2022</td></tr>\n",
       "\t<tr><th scope=row>19</th><td> 1857</td><td> 3.10</td><td> 9.98</td><td> 1.21</td><td>6.01</td><td> 422</td><td>158</td><td> 4849</td><td> 30.95</td><td>2022</td></tr>\n",
       "\t<tr><th scope=row>20</th><td> 3689</td><td> 6.20</td><td> 9.92</td><td> 0.00</td><td>6.05</td><td> 836</td><td>149</td><td> 9775</td><td> 61.48</td><td>2022</td></tr>\n",
       "</tbody>\n",
       "</table>\n"
      ],
      "text/latex": [
       "A data.frame: 20 × 10\n",
       "\\begin{tabular}{r|llllllllll}\n",
       "  & Duration & Distance & Avg.Pace & Max.Pace & Avg.Spd & Cal.Burned & Avg.HR & Steps & minutes & year\\\\\n",
       "  & <dbl> & <dbl> & <dbl> & <dbl> & <dbl> & <dbl> & <dbl> & <dbl> & <dbl> & <int>\\\\\n",
       "\\hline\n",
       "\t1 &  1801 &  3.10 &  9.68 &  9.96 & 6.20 &  414 & 144 &  4599 &  30.02 & 2022\\\\\n",
       "\t2 & 11065 & 13.11 & 14.07 &  7.71 & 4.27 & 1544 & 140 & 22531 & 184.42 & 2022\\\\\n",
       "\t3 &  3600 &  6.56 &  9.15 & 10.37 & 6.56 &  859 & 147 &  9295 &  60.00 & 2022\\\\\n",
       "\t4 &  3600 &  4.74 & 12.66 & 10.42 & 4.74 &  632 & 122 &  8146 &  60.00 & 2022\\\\\n",
       "\t5 &  4663 &  6.38 & 12.17 &  8.82 & 4.93 &  618 & 128 & 11001 &  77.72 & 2022\\\\\n",
       "\t6 &  3617 &  6.21 &  9.71 &  9.71 & 6.18 &  831 & 144 &  9306 &  60.28 & 2022\\\\\n",
       "\t7 &  3712 &  4.63 & 13.37 &  1.55 & 4.49 &  576 & 116 &  7878 &  61.87 & 2022\\\\\n",
       "\t8 &  4441 &  7.02 & 10.54 &  0.97 & 5.69 &  863 & 144 & 11520 &  74.02 & 2022\\\\\n",
       "\t9 &  4274 &  6.35 & 11.21 &  1.05 & 5.35 &  626 & 145 & 11074 &  71.23 & 2022\\\\\n",
       "\t10 &  4013 &  6.35 & 10.53 &  0.50 & 5.70 &  797 & 146 & 10360 &  66.88 & 2022\\\\\n",
       "\t11 &  2267 &  2.14 & 17.64 &  2.31 & 3.40 &  290 & 119 &  4141 &  37.78 & 2022\\\\\n",
       "\t12 &  1410 &  2.37 &  9.91 &  0.95 & 6.05 &  311 & 152 &  3639 &  23.50 & 2022\\\\\n",
       "\t13 &  3600 &  6.09 &  9.85 &  0.00 & 6.09 &  820 & 149 &  9545 &  60.00 & 2022\\\\\n",
       "\t14 &  5187 &  8.00 & 10.81 &  0.00 & 5.55 & 1117 & 149 & 13634 &  86.45 & 2022\\\\\n",
       "\t15 &  1905 &  3.16 & 10.06 &  0.38 & 5.96 &  314 & 158 &  5020 &  31.75 & 2022\\\\\n",
       "\t16 &  6268 &  4.26 & 24.48 &  0.83 & 2.45 &  430 &  87 &  8227 & 104.47 & 2022\\\\\n",
       "\t17 &  1805 &  3.10 &  9.70 &  0.00 & 6.18 &  415 & 149 &  4793 &  30.08 & 2022\\\\\n",
       "\t18 &  1657 &  1.60 & 17.21 &  1.70 & 3.49 &  227 & 131 &  3001 &  27.62 & 2022\\\\\n",
       "\t19 &  1857 &  3.10 &  9.98 &  1.21 & 6.01 &  422 & 158 &  4849 &  30.95 & 2022\\\\\n",
       "\t20 &  3689 &  6.20 &  9.92 &  0.00 & 6.05 &  836 & 149 &  9775 &  61.48 & 2022\\\\\n",
       "\\end{tabular}\n"
      ],
      "text/markdown": [
       "\n",
       "A data.frame: 20 × 10\n",
       "\n",
       "| <!--/--> | Duration &lt;dbl&gt; | Distance &lt;dbl&gt; | Avg.Pace &lt;dbl&gt; | Max.Pace &lt;dbl&gt; | Avg.Spd &lt;dbl&gt; | Cal.Burned &lt;dbl&gt; | Avg.HR &lt;dbl&gt; | Steps &lt;dbl&gt; | minutes &lt;dbl&gt; | year &lt;int&gt; |\n",
       "|---|---|---|---|---|---|---|---|---|---|---|\n",
       "| 1 |  1801 |  3.10 |  9.68 |  9.96 | 6.20 |  414 | 144 |  4599 |  30.02 | 2022 |\n",
       "| 2 | 11065 | 13.11 | 14.07 |  7.71 | 4.27 | 1544 | 140 | 22531 | 184.42 | 2022 |\n",
       "| 3 |  3600 |  6.56 |  9.15 | 10.37 | 6.56 |  859 | 147 |  9295 |  60.00 | 2022 |\n",
       "| 4 |  3600 |  4.74 | 12.66 | 10.42 | 4.74 |  632 | 122 |  8146 |  60.00 | 2022 |\n",
       "| 5 |  4663 |  6.38 | 12.17 |  8.82 | 4.93 |  618 | 128 | 11001 |  77.72 | 2022 |\n",
       "| 6 |  3617 |  6.21 |  9.71 |  9.71 | 6.18 |  831 | 144 |  9306 |  60.28 | 2022 |\n",
       "| 7 |  3712 |  4.63 | 13.37 |  1.55 | 4.49 |  576 | 116 |  7878 |  61.87 | 2022 |\n",
       "| 8 |  4441 |  7.02 | 10.54 |  0.97 | 5.69 |  863 | 144 | 11520 |  74.02 | 2022 |\n",
       "| 9 |  4274 |  6.35 | 11.21 |  1.05 | 5.35 |  626 | 145 | 11074 |  71.23 | 2022 |\n",
       "| 10 |  4013 |  6.35 | 10.53 |  0.50 | 5.70 |  797 | 146 | 10360 |  66.88 | 2022 |\n",
       "| 11 |  2267 |  2.14 | 17.64 |  2.31 | 3.40 |  290 | 119 |  4141 |  37.78 | 2022 |\n",
       "| 12 |  1410 |  2.37 |  9.91 |  0.95 | 6.05 |  311 | 152 |  3639 |  23.50 | 2022 |\n",
       "| 13 |  3600 |  6.09 |  9.85 |  0.00 | 6.09 |  820 | 149 |  9545 |  60.00 | 2022 |\n",
       "| 14 |  5187 |  8.00 | 10.81 |  0.00 | 5.55 | 1117 | 149 | 13634 |  86.45 | 2022 |\n",
       "| 15 |  1905 |  3.16 | 10.06 |  0.38 | 5.96 |  314 | 158 |  5020 |  31.75 | 2022 |\n",
       "| 16 |  6268 |  4.26 | 24.48 |  0.83 | 2.45 |  430 |  87 |  8227 | 104.47 | 2022 |\n",
       "| 17 |  1805 |  3.10 |  9.70 |  0.00 | 6.18 |  415 | 149 |  4793 |  30.08 | 2022 |\n",
       "| 18 |  1657 |  1.60 | 17.21 |  1.70 | 3.49 |  227 | 131 |  3001 |  27.62 | 2022 |\n",
       "| 19 |  1857 |  3.10 |  9.98 |  1.21 | 6.01 |  422 | 158 |  4849 |  30.95 | 2022 |\n",
       "| 20 |  3689 |  6.20 |  9.92 |  0.00 | 6.05 |  836 | 149 |  9775 |  61.48 | 2022 |\n",
       "\n"
      ],
      "text/plain": [
       "   Duration Distance Avg.Pace Max.Pace Avg.Spd Cal.Burned Avg.HR Steps minutes\n",
       "1   1801     3.10     9.68     9.96    6.20     414       144     4599  30.02 \n",
       "2  11065    13.11    14.07     7.71    4.27    1544       140    22531 184.42 \n",
       "3   3600     6.56     9.15    10.37    6.56     859       147     9295  60.00 \n",
       "4   3600     4.74    12.66    10.42    4.74     632       122     8146  60.00 \n",
       "5   4663     6.38    12.17     8.82    4.93     618       128    11001  77.72 \n",
       "6   3617     6.21     9.71     9.71    6.18     831       144     9306  60.28 \n",
       "7   3712     4.63    13.37     1.55    4.49     576       116     7878  61.87 \n",
       "8   4441     7.02    10.54     0.97    5.69     863       144    11520  74.02 \n",
       "9   4274     6.35    11.21     1.05    5.35     626       145    11074  71.23 \n",
       "10  4013     6.35    10.53     0.50    5.70     797       146    10360  66.88 \n",
       "11  2267     2.14    17.64     2.31    3.40     290       119     4141  37.78 \n",
       "12  1410     2.37     9.91     0.95    6.05     311       152     3639  23.50 \n",
       "13  3600     6.09     9.85     0.00    6.09     820       149     9545  60.00 \n",
       "14  5187     8.00    10.81     0.00    5.55    1117       149    13634  86.45 \n",
       "15  1905     3.16    10.06     0.38    5.96     314       158     5020  31.75 \n",
       "16  6268     4.26    24.48     0.83    2.45     430        87     8227 104.47 \n",
       "17  1805     3.10     9.70     0.00    6.18     415       149     4793  30.08 \n",
       "18  1657     1.60    17.21     1.70    3.49     227       131     3001  27.62 \n",
       "19  1857     3.10     9.98     1.21    6.01     422       158     4849  30.95 \n",
       "20  3689     6.20     9.92     0.00    6.05     836       149     9775  61.48 \n",
       "   year\n",
       "1  2022\n",
       "2  2022\n",
       "3  2022\n",
       "4  2022\n",
       "5  2022\n",
       "6  2022\n",
       "7  2022\n",
       "8  2022\n",
       "9  2022\n",
       "10 2022\n",
       "11 2022\n",
       "12 2022\n",
       "13 2022\n",
       "14 2022\n",
       "15 2022\n",
       "16 2022\n",
       "17 2022\n",
       "18 2022\n",
       "19 2022\n",
       "20 2022"
      ]
     },
     "metadata": {},
     "output_type": "display_data"
    }
   ],
   "source": [
    "head(df3, 20)"
   ]
  },
  {
   "cell_type": "code",
   "execution_count": 238,
   "metadata": {
    "vscode": {
     "languageId": "r"
    }
   },
   "outputs": [
    {
     "data": {
      "text/html": [
       "<style>\n",
       ".dl-inline {width: auto; margin:0; padding: 0}\n",
       ".dl-inline>dt, .dl-inline>dd {float: none; width: auto; display: inline-block}\n",
       ".dl-inline>dt::after {content: \":\\0020\"; padding-right: .5ex}\n",
       ".dl-inline>dt:not(:first-of-type) {padding-left: .5ex}\n",
       "</style><dl class=dl-inline><dt>(Intercept)</dt><dd>5.12844382666377</dd><dt>Distance</dt><dd>9.3410652256779</dd></dl>\n"
      ],
      "text/latex": [
       "\\begin{description*}\n",
       "\\item[(Intercept)] 5.12844382666377\n",
       "\\item[Distance] 9.3410652256779\n",
       "\\end{description*}\n"
      ],
      "text/markdown": [
       "(Intercept)\n",
       ":   5.12844382666377Distance\n",
       ":   9.3410652256779\n",
       "\n"
      ],
      "text/plain": [
       "(Intercept)    Distance \n",
       "   5.128444    9.341065 "
      ]
     },
     "metadata": {},
     "output_type": "display_data"
    }
   ],
   "source": [
    "linear_model$coefficients"
   ]
  },
  {
   "cell_type": "code",
   "execution_count": 239,
   "metadata": {
    "vscode": {
     "languageId": "r"
    }
   },
   "outputs": [],
   "source": [
    "mlr <- lm(Distance ~ minutes + Avg.Spd, data = df2)"
   ]
  },
  {
   "cell_type": "code",
   "execution_count": 240,
   "metadata": {
    "vscode": {
     "languageId": "r"
    }
   },
   "outputs": [
    {
     "data": {
      "text/plain": [
       "\n",
       "Call:\n",
       "lm(formula = Distance ~ minutes + Avg.Spd, data = df2)\n",
       "\n",
       "Residuals:\n",
       "    Min      1Q  Median      3Q     Max \n",
       "-3.2228 -0.1441 -0.0139  0.1814  2.2341 \n",
       "\n",
       "Coefficients:\n",
       "              Estimate Std. Error t value Pr(>|t|)    \n",
       "(Intercept) -2.4004941  0.0789597  -30.40   <2e-16 ***\n",
       "minutes      0.0832157  0.0009515   87.45   <2e-16 ***\n",
       "Avg.Spd      0.4856219  0.0122773   39.55   <2e-16 ***\n",
       "---\n",
       "Signif. codes:  0 '***' 0.001 '**' 0.01 '*' 0.05 '.' 0.1 ' ' 1\n",
       "\n",
       "Residual standard error: 0.5474 on 715 degrees of freedom\n",
       "Multiple R-squared:  0.9262,\tAdjusted R-squared:  0.926 \n",
       "F-statistic:  4489 on 2 and 715 DF,  p-value: < 2.2e-16\n"
      ]
     },
     "metadata": {},
     "output_type": "display_data"
    }
   ],
   "source": [
    "summary(mlr)"
   ]
  },
  {
   "cell_type": "code",
   "execution_count": 241,
   "metadata": {
    "vscode": {
     "languageId": "r"
    }
   },
   "outputs": [
    {
     "data": {
      "text/html": [
       "<style>\n",
       ".dl-inline {width: auto; margin:0; padding: 0}\n",
       ".dl-inline>dt, .dl-inline>dd {float: none; width: auto; display: inline-block}\n",
       ".dl-inline>dt::after {content: \":\\0020\"; padding-right: .5ex}\n",
       ".dl-inline>dt:not(:first-of-type) {padding-left: .5ex}\n",
       "</style><dl class=dl-inline><dt>(Intercept)</dt><dd>-2.40049408170214</dd><dt>minutes</dt><dd>0.0832157298169108</dd><dt>Avg.Spd</dt><dd>0.485621879301839</dd></dl>\n"
      ],
      "text/latex": [
       "\\begin{description*}\n",
       "\\item[(Intercept)] -2.40049408170214\n",
       "\\item[minutes] 0.0832157298169108\n",
       "\\item[Avg.Spd] 0.485621879301839\n",
       "\\end{description*}\n"
      ],
      "text/markdown": [
       "(Intercept)\n",
       ":   -2.40049408170214minutes\n",
       ":   0.0832157298169108Avg.Spd\n",
       ":   0.485621879301839\n",
       "\n"
      ],
      "text/plain": [
       "(Intercept)     minutes     Avg.Spd \n",
       "-2.40049408  0.08321573  0.48562188 "
      ]
     },
     "metadata": {},
     "output_type": "display_data"
    }
   ],
   "source": [
    "mlr$coefficients"
   ]
  },
  {
   "cell_type": "code",
   "execution_count": 242,
   "metadata": {
    "vscode": {
     "languageId": "r"
    }
   },
   "outputs": [
    {
     "name": "stderr",
     "output_type": "stream",
     "text": [
      "Installing package into 'C:/Rpack/library'\n",
      "(as 'lib' is unspecified)\n",
      "\n"
     ]
    },
    {
     "name": "stdout",
     "output_type": "stream",
     "text": [
      "package 'mgcv' successfully unpacked and MD5 sums checked\n",
      "\n",
      "The downloaded binary packages are in\n",
      "\tC:\\Users\\coleb\\AppData\\Local\\Temp\\RtmpwhJmq2\\downloaded_packages\n"
     ]
    },
    {
     "name": "stderr",
     "output_type": "stream",
     "text": [
      "Loading required package: nlme\n",
      "\n",
      "\n",
      "Attaching package: 'nlme'\n",
      "\n",
      "\n",
      "The following object is masked from 'package:dplyr':\n",
      "\n",
      "    collapse\n",
      "\n",
      "\n",
      "This is mgcv 1.8-40. For overview type 'help(\"mgcv-package\")'.\n",
      "\n"
     ]
    }
   ],
   "source": [
    "install.packages('mgcv')\n",
    "library(mgcv)"
   ]
  },
  {
   "cell_type": "code",
   "execution_count": 243,
   "metadata": {
    "vscode": {
     "languageId": "r"
    }
   },
   "outputs": [
    {
     "name": "stderr",
     "output_type": "stream",
     "text": [
      "`geom_smooth()` using formula 'y ~ x'\n",
      "\n"
     ]
    },
    {
     "data": {
      "image/png": "[encoded data removed]",
      "text/plain": [
       "plot without title"
      ]
     },
     "metadata": {
      "image/png": {
       "height": 420,
       "width": 420
      }
     },
     "output_type": "display_data"
    }
   ],
   "source": [
    "ggplot(df2, aes(x = Distance, y = minutes)) +\n",
    "  geom_point() + \n",
    "  stat_smooth(method = \"lm\", col = \"#1900fa6e\")"
   ]
  },
  {
   "cell_type": "code",
   "execution_count": 244,
   "metadata": {
    "vscode": {
     "languageId": "r"
    }
   },
   "outputs": [],
   "source": [
    "# score_model <- lm(duration ~ Distance, data = mm22)\n",
    "# mm22$predicted_duration <- predict(score_model, mm22$Distance, interval = \"confidence\")\n",
    "\n",
    "# ggplot(mm22, aes(x = duration, y = Distance)) +\n",
    "#   geom_smooth(method = \"lm\", se = FALSE, color = \"red\") +  # Plot regression slope\n",
    "#   geom_segment(aes(xend = duration, yend = predicted_duration), alpha = .2) +  # alpha to fade lines\n",
    "#   geom_point() +\n",
    "#   geom_point(aes(y = predicted_duration), shape = 1) +\n",
    "#   theme_bw()  # Add theme for cleaner look"
   ]
  },
  {
   "cell_type": "code",
   "execution_count": 245,
   "metadata": {
    "vscode": {
     "languageId": "r"
    }
   },
   "outputs": [
    {
     "data": {
      "image/png": "[encoded data removed]",
      "text/plain": [
       "Plot with title \"\""
      ]
     },
     "metadata": {
      "image/png": {
       "height": 420,
       "width": 420
      }
     },
     "output_type": "display_data"
    },
    {
     "data": {
      "image/png": "[encoded data removed]",
      "text/plain": [
       "Plot with title \"\""
      ]
     },
     "metadata": {
      "image/png": {
       "height": 420,
       "width": 420
      }
     },
     "output_type": "display_data"
    },
    {
     "data": {
      "image/png": "[encoded data removed]",
      "text/plain": [
       "Plot with title \"\""
      ]
     },
     "metadata": {
      "image/png": {
       "height": 420,
       "width": 420
      }
     },
     "output_type": "display_data"
    },
    {
     "data": {
      "image/png": "[encoded data removed]",
      "text/plain": [
       "Plot with title \"\""
      ]
     },
     "metadata": {
      "image/png": {
       "height": 420,
       "width": 420
      }
     },
     "output_type": "display_data"
    }
   ],
   "source": [
    "linear_model <- lm(minutes ~ Distance, data = df2)\n",
    "plot(linear_model)"
   ]
  },
  {
   "cell_type": "markdown",
   "metadata": {},
   "source": [
    "## Extra"
   ]
  },
  {
   "cell_type": "code",
   "execution_count": 246,
   "metadata": {
    "vscode": {
     "languageId": "r"
    }
   },
   "outputs": [],
   "source": [
    "set.seed(20)\n",
    "x <- seq(from=0, to=20, by=0.1)\n",
    "\n",
    "# value to predict (y):\n",
    "y <- 500 + 0.4 * (x-10)^3\n",
    "\n",
    "# some noise is generated and added to the real signal (y):\n",
    "noise <- rnorm(length(x), mean=10, sd=80)\n",
    "noisy.y <- y + noise"
   ]
  },
  {
   "cell_type": "code",
   "execution_count": 247,
   "metadata": {
    "vscode": {
     "languageId": "r"
    }
   },
   "outputs": [
    {
     "name": "stderr",
     "output_type": "stream",
     "text": [
      "`geom_smooth()` using formula 'y ~ x'\n",
      "\n"
     ]
    },
    {
     "data": {
      "image/png": "[encoded data removed]",
      "text/plain": [
       "plot without title"
      ]
     },
     "metadata": {
      "image/png": {
       "height": 420,
       "width": 420
      }
     },
     "output_type": "display_data"
    }
   ],
   "source": [
    "# fit linear model\n",
    "ggplot(data=NULL,aes(x, noisy.y)) + \n",
    "    geom_point() + \n",
    "    geom_smooth(method = \"lm\")"
   ]
  },
  {
   "cell_type": "code",
   "execution_count": 248,
   "metadata": {
    "vscode": {
     "languageId": "r"
    }
   },
   "outputs": [
    {
     "data": {
      "image/png": "[encoded data removed]",
      "text/plain": [
       "plot without title"
      ]
     },
     "metadata": {
      "image/png": {
       "height": 420,
       "width": 420
      }
     },
     "output_type": "display_data"
    }
   ],
   "source": [
    "ggplot(data=NULL,aes(x, noisy.y)) + \n",
    "    geom_point() + \n",
    "    geom_smooth(method = \"lm\", formula = y ~ poly(x, 5))"
   ]
  },
  {
   "cell_type": "markdown",
   "metadata": {},
   "source": [
    "## Linear Model & Multiple Linear Model"
   ]
  },
  {
   "cell_type": "code",
   "execution_count": 249,
   "metadata": {
    "vscode": {
     "languageId": "r"
    }
   },
   "outputs": [],
   "source": [
    "linear_model <- lm(Duration ~ Distance, df2)"
   ]
  },
  {
   "cell_type": "code",
   "execution_count": 250,
   "metadata": {
    "vscode": {
     "languageId": "r"
    }
   },
   "outputs": [
    {
     "data": {
      "text/html": [
       "390716.328824022"
      ],
      "text/latex": [
       "390716.328824022"
      ],
      "text/markdown": [
       "390716.328824022"
      ],
      "text/plain": [
       "[1] 390716.3"
      ]
     },
     "metadata": {},
     "output_type": "display_data"
    }
   ],
   "source": [
    "mse <- mean(linear_model$residuals^2)\n",
    "mse"
   ]
  },
  {
   "cell_type": "code",
   "execution_count": 251,
   "metadata": {
    "vscode": {
     "languageId": "r"
    }
   },
   "outputs": [
    {
     "data": {
      "text/html": [
       "625.073058789148"
      ],
      "text/latex": [
       "625.073058789148"
      ],
      "text/markdown": [
       "625.073058789148"
      ],
      "text/plain": [
       "[1] 625.0731"
      ]
     },
     "metadata": {},
     "output_type": "display_data"
    }
   ],
   "source": [
    "rmse <- sqrt(mse)\n",
    "rmse"
   ]
  },
  {
   "cell_type": "code",
   "execution_count": 252,
   "metadata": {
    "vscode": {
     "languageId": "r"
    }
   },
   "outputs": [
    {
     "data": {
      "text/html": [
       "0.764840864240196"
      ],
      "text/latex": [
       "0.764840864240196"
      ],
      "text/markdown": [
       "0.764840864240196"
      ],
      "text/plain": [
       "[1] 0.7648409"
      ]
     },
     "metadata": {},
     "output_type": "display_data"
    }
   ],
   "source": [
    "summary(linear_model)$r.squared"
   ]
  },
  {
   "cell_type": "code",
   "execution_count": 253,
   "metadata": {
    "vscode": {
     "languageId": "r"
    }
   },
   "outputs": [
    {
     "data": {
      "text/html": [
       "<table class=\"dataframe\">\n",
       "<caption>A data.frame: 2 × 10</caption>\n",
       "<thead>\n",
       "\t<tr><th></th><th scope=col>Duration</th><th scope=col>Distance</th><th scope=col>Avg.Pace</th><th scope=col>Max.Pace</th><th scope=col>Avg.Spd</th><th scope=col>Cal.Burned</th><th scope=col>Avg.HR</th><th scope=col>Steps</th><th scope=col>minutes</th><th scope=col>year</th></tr>\n",
       "\t<tr><th></th><th scope=col>&lt;dbl&gt;</th><th scope=col>&lt;dbl&gt;</th><th scope=col>&lt;dbl&gt;</th><th scope=col>&lt;dbl&gt;</th><th scope=col>&lt;dbl&gt;</th><th scope=col>&lt;dbl&gt;</th><th scope=col>&lt;dbl&gt;</th><th scope=col>&lt;dbl&gt;</th><th scope=col>&lt;dbl&gt;</th><th scope=col>&lt;int&gt;</th></tr>\n",
       "</thead>\n",
       "<tbody>\n",
       "\t<tr><th scope=row>1</th><td> 1801</td><td> 3.10</td><td> 9.68</td><td>9.96</td><td>6.20</td><td> 414</td><td>144</td><td> 4599</td><td> 30.02</td><td>2022</td></tr>\n",
       "\t<tr><th scope=row>2</th><td>11065</td><td>13.11</td><td>14.07</td><td>7.71</td><td>4.27</td><td>1544</td><td>140</td><td>22531</td><td>184.42</td><td>2022</td></tr>\n",
       "</tbody>\n",
       "</table>\n"
      ],
      "text/latex": [
       "A data.frame: 2 × 10\n",
       "\\begin{tabular}{r|llllllllll}\n",
       "  & Duration & Distance & Avg.Pace & Max.Pace & Avg.Spd & Cal.Burned & Avg.HR & Steps & minutes & year\\\\\n",
       "  & <dbl> & <dbl> & <dbl> & <dbl> & <dbl> & <dbl> & <dbl> & <dbl> & <dbl> & <int>\\\\\n",
       "\\hline\n",
       "\t1 &  1801 &  3.10 &  9.68 & 9.96 & 6.20 &  414 & 144 &  4599 &  30.02 & 2022\\\\\n",
       "\t2 & 11065 & 13.11 & 14.07 & 7.71 & 4.27 & 1544 & 140 & 22531 & 184.42 & 2022\\\\\n",
       "\\end{tabular}\n"
      ],
      "text/markdown": [
       "\n",
       "A data.frame: 2 × 10\n",
       "\n",
       "| <!--/--> | Duration &lt;dbl&gt; | Distance &lt;dbl&gt; | Avg.Pace &lt;dbl&gt; | Max.Pace &lt;dbl&gt; | Avg.Spd &lt;dbl&gt; | Cal.Burned &lt;dbl&gt; | Avg.HR &lt;dbl&gt; | Steps &lt;dbl&gt; | minutes &lt;dbl&gt; | year &lt;int&gt; |\n",
       "|---|---|---|---|---|---|---|---|---|---|---|\n",
       "| 1 |  1801 |  3.10 |  9.68 | 9.96 | 6.20 |  414 | 144 |  4599 |  30.02 | 2022 |\n",
       "| 2 | 11065 | 13.11 | 14.07 | 7.71 | 4.27 | 1544 | 140 | 22531 | 184.42 | 2022 |\n",
       "\n"
      ],
      "text/plain": [
       "  Duration Distance Avg.Pace Max.Pace Avg.Spd Cal.Burned Avg.HR Steps minutes\n",
       "1  1801     3.10     9.68    9.96     6.20     414       144     4599  30.02 \n",
       "2 11065    13.11    14.07    7.71     4.27    1544       140    22531 184.42 \n",
       "  year\n",
       "1 2022\n",
       "2 2022"
      ]
     },
     "metadata": {},
     "output_type": "display_data"
    }
   ],
   "source": [
    "head(df2, 2)"
   ]
  },
  {
   "cell_type": "code",
   "execution_count": 254,
   "metadata": {
    "vscode": {
     "languageId": "r"
    }
   },
   "outputs": [],
   "source": [
    "mlr <- lm(Distance ~ minutes + Cal.Burned, data = df2)"
   ]
  },
  {
   "cell_type": "code",
   "execution_count": 255,
   "metadata": {
    "vscode": {
     "languageId": "r"
    }
   },
   "outputs": [
    {
     "data": {
      "text/html": [
       "0.2030314651045"
      ],
      "text/latex": [
       "0.2030314651045"
      ],
      "text/markdown": [
       "0.2030314651045"
      ],
      "text/plain": [
       "[1] 0.2030315"
      ]
     },
     "metadata": {},
     "output_type": "display_data"
    }
   ],
   "source": [
    "mse_mlr <- mean(mlr$residuals^2)\n",
    "mse_mlr"
   ]
  },
  {
   "cell_type": "code",
   "execution_count": 256,
   "metadata": {
    "vscode": {
     "languageId": "r"
    }
   },
   "outputs": [
    {
     "data": {
      "text/html": [
       "0.450590129834753"
      ],
      "text/latex": [
       "0.450590129834753"
      ],
      "text/markdown": [
       "0.450590129834753"
      ],
      "text/plain": [
       "[1] 0.4505901"
      ]
     },
     "metadata": {},
     "output_type": "display_data"
    }
   ],
   "source": [
    "rmse_mlr <- sqrt(mse_mlr)\n",
    "rmse_mlr"
   ]
  },
  {
   "cell_type": "code",
   "execution_count": 257,
   "metadata": {
    "vscode": {
     "languageId": "r"
    }
   },
   "outputs": [
    {
     "data": {
      "text/html": [
       "0.949813279254569"
      ],
      "text/latex": [
       "0.949813279254569"
      ],
      "text/markdown": [
       "0.949813279254569"
      ],
      "text/plain": [
       "[1] 0.9498133"
      ]
     },
     "metadata": {},
     "output_type": "display_data"
    }
   ],
   "source": [
    "summary(mlr)$r.squared"
   ]
  },
  {
   "cell_type": "code",
   "execution_count": 258,
   "metadata": {
    "vscode": {
     "languageId": "r"
    }
   },
   "outputs": [],
   "source": [
    "# head(predict(score_model))"
   ]
  },
  {
   "cell_type": "markdown",
   "metadata": {},
   "source": []
  },
  {
   "cell_type": "code",
   "execution_count": 259,
   "metadata": {
    "vscode": {
     "languageId": "r"
    }
   },
   "outputs": [],
   "source": [
    "#install.packages(\"rlang\")\n",
    "#install.packages(\"tidymodels\")\n",
    "#install.packages('devtools')\n",
    "#install.packages('Rtools')\n",
    "#devtools::install_github(\"r-lib/rlang\", build_vignettes = TRUE)"
   ]
  },
  {
   "cell_type": "code",
   "execution_count": 260,
   "metadata": {
    "vscode": {
     "languageId": "r"
    }
   },
   "outputs": [],
   "source": [
    "# # Library for modeling\n",
    "# library(tidymodels)\n",
    "\n",
    "# # Load tidyverse\n",
    "# library(tidyverse)"
   ]
  },
  {
   "cell_type": "code",
   "execution_count": 261,
   "metadata": {
    "vscode": {
     "languageId": "r"
    }
   },
   "outputs": [
    {
     "data": {
      "text/html": [
       "<table class=\"dataframe\">\n",
       "<caption>A data.frame: 6 × 29</caption>\n",
       "<thead>\n",
       "\t<tr><th></th><th scope=col>Date</th><th scope=col>Times</th><th scope=col>End.Time</th><th scope=col>Session.Type</th><th scope=col>Session.Subtype</th><th scope=col>Creation.Method</th><th scope=col>Local.Time.Zone.Offset</th><th scope=col>Activity.Score</th><th scope=col>Intense.Duration..ms.</th><th scope=col>Moderate.Duration..ms.</th><th scope=col>⋯</th><th scope=col>Distance</th><th scope=col>Avg.Pace</th><th scope=col>Max.Pace</th><th scope=col>Avg.Spd</th><th scope=col>Cal.Burned</th><th scope=col>Avg.HR</th><th scope=col>Steps.y</th><th scope=col>mileage</th><th scope=col>minutes</th><th scope=col>year</th></tr>\n",
       "\t<tr><th></th><th scope=col>&lt;date&gt;</th><th scope=col>&lt;chr&gt;</th><th scope=col>&lt;chr&gt;</th><th scope=col>&lt;chr&gt;</th><th scope=col>&lt;chr&gt;</th><th scope=col>&lt;chr&gt;</th><th scope=col>&lt;dbl&gt;</th><th scope=col>&lt;chr&gt;</th><th scope=col>&lt;chr&gt;</th><th scope=col>&lt;chr&gt;</th><th scope=col>⋯</th><th scope=col>&lt;dbl&gt;</th><th scope=col>&lt;dbl&gt;</th><th scope=col>&lt;dbl&gt;</th><th scope=col>&lt;dbl&gt;</th><th scope=col>&lt;dbl&gt;</th><th scope=col>&lt;dbl&gt;</th><th scope=col>&lt;dbl&gt;</th><th scope=col>&lt;fct&gt;</th><th scope=col>&lt;dbl&gt;</th><th scope=col>&lt;chr&gt;</th></tr>\n",
       "</thead>\n",
       "<tbody>\n",
       "\t<tr><th scope=row>1</th><td>2021-09-23</td><td>12:18:41</td><td>2021-09-23T12:59:29.798Z</td><td>WORKOUT</td><td>RUNNING</td><td>Automatic</td><td>-5</td><td>76.51169         </td><td>2160000.0</td><td>269798.0</td><td>⋯</td><td>3.56</td><td>10.04</td><td>2.40</td><td>5.98</td><td>469</td><td>146</td><td>5720</td><td>FiveK</td><td>35.72</td><td>2021</td></tr>\n",
       "\t<tr><th scope=row>2</th><td>2021-09-24</td><td>12:30:07</td><td>2021-09-24T13:13:14.739Z</td><td>WORKOUT</td><td>RUNNING</td><td>Automatic</td><td>-5</td><td>76.28969833333333</td><td>2040000.0</td><td>494739.0</td><td>⋯</td><td>3.56</td><td> 9.44</td><td>4.25</td><td>6.36</td><td>494</td><td>161</td><td>5340</td><td>FiveK</td><td>33.58</td><td>2021</td></tr>\n",
       "\t<tr><th scope=row>3</th><td>2021-09-25</td><td>16:42:43</td><td>2021-09-25T17:20:33.052Z</td><td>WORKOUT</td><td>RUNNING</td><td>Automatic</td><td>-5</td><td>72.41923333333332</td><td>2133052.0</td><td>76050.0 </td><td>⋯</td><td>4.00</td><td> 9.02</td><td>0.00</td><td>6.65</td><td>521</td><td>149</td><td>5790</td><td>FiveK</td><td>36.07</td><td>2021</td></tr>\n",
       "\t<tr><th scope=row>4</th><td>2021-09-26</td><td>15:24:57</td><td>2021-09-26T16:03:50.992Z</td><td>WORKOUT</td><td>RUNNING</td><td>Automatic</td><td>-5</td><td>72.90168750000001</td><td>2100000.0</td><td>170992.0</td><td>⋯</td><td>4.00</td><td> 8.90</td><td>0.00</td><td>6.74</td><td>520</td><td>149</td><td>5720</td><td>FiveK</td><td>35.58</td><td>2021</td></tr>\n",
       "\t<tr><th scope=row>5</th><td>2021-09-27</td><td>12:19:08</td><td>2021-09-27T12:58:47.413Z</td><td>WORKOUT</td><td>RUNNING</td><td>Automatic</td><td>-5</td><td>72.83315583333334</td><td>2040000.0</td><td>287413.0</td><td>⋯</td><td>3.57</td><td> 9.40</td><td>0.96</td><td>6.38</td><td>457</td><td>150</td><td>5405</td><td>FiveK</td><td>33.53</td><td>2021</td></tr>\n",
       "\t<tr><th scope=row>6</th><td>2021-09-28</td><td>10:05:11</td><td>2021-09-28T10:56:40.224Z</td><td>WORKOUT</td><td>RUNNING</td><td>Automatic</td><td>-5</td><td>94.7111225       </td><td>2640000.0</td><td>400224.0</td><td>⋯</td><td>4.40</td><td> 9.74</td><td>0.90</td><td>6.16</td><td>603</td><td>153</td><td>6816</td><td>FiveK</td><td>42.88</td><td>2021</td></tr>\n",
       "</tbody>\n",
       "</table>\n"
      ],
      "text/latex": [
       "A data.frame: 6 × 29\n",
       "\\begin{tabular}{r|lllllllllllllllllllll}\n",
       "  & Date & Times & End.Time & Session.Type & Session.Subtype & Creation.Method & Local.Time.Zone.Offset & Activity.Score & Intense.Duration..ms. & Moderate.Duration..ms. & ⋯ & Distance & Avg.Pace & Max.Pace & Avg.Spd & Cal.Burned & Avg.HR & Steps.y & mileage & minutes & year\\\\\n",
       "  & <date> & <chr> & <chr> & <chr> & <chr> & <chr> & <dbl> & <chr> & <chr> & <chr> & ⋯ & <dbl> & <dbl> & <dbl> & <dbl> & <dbl> & <dbl> & <dbl> & <fct> & <dbl> & <chr>\\\\\n",
       "\\hline\n",
       "\t1 & 2021-09-23 & 12:18:41 & 2021-09-23T12:59:29.798Z & WORKOUT & RUNNING & Automatic & -5 & 76.51169          & 2160000.0 & 269798.0 & ⋯ & 3.56 & 10.04 & 2.40 & 5.98 & 469 & 146 & 5720 & FiveK & 35.72 & 2021\\\\\n",
       "\t2 & 2021-09-24 & 12:30:07 & 2021-09-24T13:13:14.739Z & WORKOUT & RUNNING & Automatic & -5 & 76.28969833333333 & 2040000.0 & 494739.0 & ⋯ & 3.56 &  9.44 & 4.25 & 6.36 & 494 & 161 & 5340 & FiveK & 33.58 & 2021\\\\\n",
       "\t3 & 2021-09-25 & 16:42:43 & 2021-09-25T17:20:33.052Z & WORKOUT & RUNNING & Automatic & -5 & 72.41923333333332 & 2133052.0 & 76050.0  & ⋯ & 4.00 &  9.02 & 0.00 & 6.65 & 521 & 149 & 5790 & FiveK & 36.07 & 2021\\\\\n",
       "\t4 & 2021-09-26 & 15:24:57 & 2021-09-26T16:03:50.992Z & WORKOUT & RUNNING & Automatic & -5 & 72.90168750000001 & 2100000.0 & 170992.0 & ⋯ & 4.00 &  8.90 & 0.00 & 6.74 & 520 & 149 & 5720 & FiveK & 35.58 & 2021\\\\\n",
       "\t5 & 2021-09-27 & 12:19:08 & 2021-09-27T12:58:47.413Z & WORKOUT & RUNNING & Automatic & -5 & 72.83315583333334 & 2040000.0 & 287413.0 & ⋯ & 3.57 &  9.40 & 0.96 & 6.38 & 457 & 150 & 5405 & FiveK & 33.53 & 2021\\\\\n",
       "\t6 & 2021-09-28 & 10:05:11 & 2021-09-28T10:56:40.224Z & WORKOUT & RUNNING & Automatic & -5 & 94.7111225        & 2640000.0 & 400224.0 & ⋯ & 4.40 &  9.74 & 0.90 & 6.16 & 603 & 153 & 6816 & FiveK & 42.88 & 2021\\\\\n",
       "\\end{tabular}\n"
      ],
      "text/markdown": [
       "\n",
       "A data.frame: 6 × 29\n",
       "\n",
       "| <!--/--> | Date &lt;date&gt; | Times &lt;chr&gt; | End.Time &lt;chr&gt; | Session.Type &lt;chr&gt; | Session.Subtype &lt;chr&gt; | Creation.Method &lt;chr&gt; | Local.Time.Zone.Offset &lt;dbl&gt; | Activity.Score &lt;chr&gt; | Intense.Duration..ms. &lt;chr&gt; | Moderate.Duration..ms. &lt;chr&gt; | ⋯ ⋯ | Distance &lt;dbl&gt; | Avg.Pace &lt;dbl&gt; | Max.Pace &lt;dbl&gt; | Avg.Spd &lt;dbl&gt; | Cal.Burned &lt;dbl&gt; | Avg.HR &lt;dbl&gt; | Steps.y &lt;dbl&gt; | mileage &lt;fct&gt; | minutes &lt;dbl&gt; | year &lt;chr&gt; |\n",
       "|---|---|---|---|---|---|---|---|---|---|---|---|---|---|---|---|---|---|---|---|---|---|\n",
       "| 1 | 2021-09-23 | 12:18:41 | 2021-09-23T12:59:29.798Z | WORKOUT | RUNNING | Automatic | -5 | 76.51169          | 2160000.0 | 269798.0 | ⋯ | 3.56 | 10.04 | 2.40 | 5.98 | 469 | 146 | 5720 | FiveK | 35.72 | 2021 |\n",
       "| 2 | 2021-09-24 | 12:30:07 | 2021-09-24T13:13:14.739Z | WORKOUT | RUNNING | Automatic | -5 | 76.28969833333333 | 2040000.0 | 494739.0 | ⋯ | 3.56 |  9.44 | 4.25 | 6.36 | 494 | 161 | 5340 | FiveK | 33.58 | 2021 |\n",
       "| 3 | 2021-09-25 | 16:42:43 | 2021-09-25T17:20:33.052Z | WORKOUT | RUNNING | Automatic | -5 | 72.41923333333332 | 2133052.0 | 76050.0  | ⋯ | 4.00 |  9.02 | 0.00 | 6.65 | 521 | 149 | 5790 | FiveK | 36.07 | 2021 |\n",
       "| 4 | 2021-09-26 | 15:24:57 | 2021-09-26T16:03:50.992Z | WORKOUT | RUNNING | Automatic | -5 | 72.90168750000001 | 2100000.0 | 170992.0 | ⋯ | 4.00 |  8.90 | 0.00 | 6.74 | 520 | 149 | 5720 | FiveK | 35.58 | 2021 |\n",
       "| 5 | 2021-09-27 | 12:19:08 | 2021-09-27T12:58:47.413Z | WORKOUT | RUNNING | Automatic | -5 | 72.83315583333334 | 2040000.0 | 287413.0 | ⋯ | 3.57 |  9.40 | 0.96 | 6.38 | 457 | 150 | 5405 | FiveK | 33.53 | 2021 |\n",
       "| 6 | 2021-09-28 | 10:05:11 | 2021-09-28T10:56:40.224Z | WORKOUT | RUNNING | Automatic | -5 | 94.7111225        | 2640000.0 | 400224.0 | ⋯ | 4.40 |  9.74 | 0.90 | 6.16 | 603 | 153 | 6816 | FiveK | 42.88 | 2021 |\n",
       "\n"
      ],
      "text/plain": [
       "  Date       Times    End.Time                 Session.Type Session.Subtype\n",
       "1 2021-09-23 12:18:41 2021-09-23T12:59:29.798Z WORKOUT      RUNNING        \n",
       "2 2021-09-24 12:30:07 2021-09-24T13:13:14.739Z WORKOUT      RUNNING        \n",
       "3 2021-09-25 16:42:43 2021-09-25T17:20:33.052Z WORKOUT      RUNNING        \n",
       "4 2021-09-26 15:24:57 2021-09-26T16:03:50.992Z WORKOUT      RUNNING        \n",
       "5 2021-09-27 12:19:08 2021-09-27T12:58:47.413Z WORKOUT      RUNNING        \n",
       "6 2021-09-28 10:05:11 2021-09-28T10:56:40.224Z WORKOUT      RUNNING        \n",
       "  Creation.Method Local.Time.Zone.Offset Activity.Score   \n",
       "1 Automatic       -5                     76.51169         \n",
       "2 Automatic       -5                     76.28969833333333\n",
       "3 Automatic       -5                     72.41923333333332\n",
       "4 Automatic       -5                     72.90168750000001\n",
       "5 Automatic       -5                     72.83315583333334\n",
       "6 Automatic       -5                     94.7111225       \n",
       "  Intense.Duration..ms. Moderate.Duration..ms. ⋯ Distance Avg.Pace Max.Pace\n",
       "1 2160000.0             269798.0               ⋯ 3.56     10.04    2.40    \n",
       "2 2040000.0             494739.0               ⋯ 3.56      9.44    4.25    \n",
       "3 2133052.0             76050.0                ⋯ 4.00      9.02    0.00    \n",
       "4 2100000.0             170992.0               ⋯ 4.00      8.90    0.00    \n",
       "5 2040000.0             287413.0               ⋯ 3.57      9.40    0.96    \n",
       "6 2640000.0             400224.0               ⋯ 4.40      9.74    0.90    \n",
       "  Avg.Spd Cal.Burned Avg.HR Steps.y mileage minutes year\n",
       "1 5.98    469        146    5720    FiveK   35.72   2021\n",
       "2 6.36    494        161    5340    FiveK   33.58   2021\n",
       "3 6.65    521        149    5790    FiveK   36.07   2021\n",
       "4 6.74    520        149    5720    FiveK   35.58   2021\n",
       "5 6.38    457        150    5405    FiveK   33.53   2021\n",
       "6 6.16    603        153    6816    FiveK   42.88   2021"
      ]
     },
     "metadata": {},
     "output_type": "display_data"
    }
   ],
   "source": [
    "head(mymerge)"
   ]
  },
  {
   "cell_type": "code",
   "execution_count": 262,
   "metadata": {
    "vscode": {
     "languageId": "r"
    }
   },
   "outputs": [],
   "source": [
    "smmg <- mymerge %>% select(c(Distance, Duration, Activity.Score, Avg.HR, Steps.y))"
   ]
  },
  {
   "cell_type": "code",
   "execution_count": 263,
   "metadata": {
    "vscode": {
     "languageId": "r"
    }
   },
   "outputs": [
    {
     "data": {
      "text/html": [
       "<table class=\"dataframe\">\n",
       "<caption>A data.frame: 6 × 5</caption>\n",
       "<thead>\n",
       "\t<tr><th></th><th scope=col>Distance</th><th scope=col>Duration</th><th scope=col>Activity.Score</th><th scope=col>Avg.HR</th><th scope=col>Steps.y</th></tr>\n",
       "\t<tr><th></th><th scope=col>&lt;dbl&gt;</th><th scope=col>&lt;dbl&gt;</th><th scope=col>&lt;chr&gt;</th><th scope=col>&lt;dbl&gt;</th><th scope=col>&lt;dbl&gt;</th></tr>\n",
       "</thead>\n",
       "<tbody>\n",
       "\t<tr><th scope=row>1</th><td>3.56</td><td>2143</td><td>76.51169         </td><td>146</td><td>5720</td></tr>\n",
       "\t<tr><th scope=row>2</th><td>3.56</td><td>2015</td><td>76.28969833333333</td><td>161</td><td>5340</td></tr>\n",
       "\t<tr><th scope=row>3</th><td>4.00</td><td>2164</td><td>72.41923333333332</td><td>149</td><td>5790</td></tr>\n",
       "\t<tr><th scope=row>4</th><td>4.00</td><td>2135</td><td>72.90168750000001</td><td>149</td><td>5720</td></tr>\n",
       "\t<tr><th scope=row>5</th><td>3.57</td><td>2012</td><td>72.83315583333334</td><td>150</td><td>5405</td></tr>\n",
       "\t<tr><th scope=row>6</th><td>4.40</td><td>2573</td><td>94.7111225       </td><td>153</td><td>6816</td></tr>\n",
       "</tbody>\n",
       "</table>\n"
      ],
      "text/latex": [
       "A data.frame: 6 × 5\n",
       "\\begin{tabular}{r|lllll}\n",
       "  & Distance & Duration & Activity.Score & Avg.HR & Steps.y\\\\\n",
       "  & <dbl> & <dbl> & <chr> & <dbl> & <dbl>\\\\\n",
       "\\hline\n",
       "\t1 & 3.56 & 2143 & 76.51169          & 146 & 5720\\\\\n",
       "\t2 & 3.56 & 2015 & 76.28969833333333 & 161 & 5340\\\\\n",
       "\t3 & 4.00 & 2164 & 72.41923333333332 & 149 & 5790\\\\\n",
       "\t4 & 4.00 & 2135 & 72.90168750000001 & 149 & 5720\\\\\n",
       "\t5 & 3.57 & 2012 & 72.83315583333334 & 150 & 5405\\\\\n",
       "\t6 & 4.40 & 2573 & 94.7111225        & 153 & 6816\\\\\n",
       "\\end{tabular}\n"
      ],
      "text/markdown": [
       "\n",
       "A data.frame: 6 × 5\n",
       "\n",
       "| <!--/--> | Distance &lt;dbl&gt; | Duration &lt;dbl&gt; | Activity.Score &lt;chr&gt; | Avg.HR &lt;dbl&gt; | Steps.y &lt;dbl&gt; |\n",
       "|---|---|---|---|---|---|\n",
       "| 1 | 3.56 | 2143 | 76.51169          | 146 | 5720 |\n",
       "| 2 | 3.56 | 2015 | 76.28969833333333 | 161 | 5340 |\n",
       "| 3 | 4.00 | 2164 | 72.41923333333332 | 149 | 5790 |\n",
       "| 4 | 4.00 | 2135 | 72.90168750000001 | 149 | 5720 |\n",
       "| 5 | 3.57 | 2012 | 72.83315583333334 | 150 | 5405 |\n",
       "| 6 | 4.40 | 2573 | 94.7111225        | 153 | 6816 |\n",
       "\n"
      ],
      "text/plain": [
       "  Distance Duration Activity.Score    Avg.HR Steps.y\n",
       "1 3.56     2143     76.51169          146    5720   \n",
       "2 3.56     2015     76.28969833333333 161    5340   \n",
       "3 4.00     2164     72.41923333333332 149    5790   \n",
       "4 4.00     2135     72.90168750000001 149    5720   \n",
       "5 3.57     2012     72.83315583333334 150    5405   \n",
       "6 4.40     2573     94.7111225        153    6816   "
      ]
     },
     "metadata": {},
     "output_type": "display_data"
    }
   ],
   "source": [
    "head(smmg)"
   ]
  },
  {
   "cell_type": "code",
   "execution_count": 264,
   "metadata": {
    "vscode": {
     "languageId": "r"
    }
   },
   "outputs": [],
   "source": [
    "# set.seed(1234)\n",
    "# flight_split <- initial_split(smmg)\n",
    "# train_data <- training(flight_split)\n",
    "# test_data <- testing(flight_split)"
   ]
  },
  {
   "cell_type": "code",
   "execution_count": 265,
   "metadata": {
    "vscode": {
     "languageId": "r"
    }
   },
   "outputs": [],
   "source": [
    "# library(tidyverse)\n",
    "# # Pick linear regression\n",
    "# lm_spec <- linear_reg() %>%\n",
    "#   # Set engine\n",
    "#   set_engine(engine = \"lm\")\n",
    "\n",
    "# # Print the linear function\n",
    "# lm_spec"
   ]
  },
  {
   "cell_type": "markdown",
   "metadata": {},
   "source": [
    "## Extra"
   ]
  },
  {
   "cell_type": "code",
   "execution_count": 266,
   "metadata": {
    "vscode": {
     "languageId": "r"
    }
   },
   "outputs": [],
   "source": [
    "# test <- read.csv(\"https://raw.githubusercontent.com/Cbhami/Coraline/master/Resources/csv%20data/user94403143_workout_history.csv\", header=TRUE)"
   ]
  },
  {
   "cell_type": "code",
   "execution_count": 267,
   "metadata": {
    "vscode": {
     "languageId": "r"
    }
   },
   "outputs": [],
   "source": [
    "# library(dplyr)\n",
    "# library(tidyr)\n",
    "# cadf <- cadf %>% separate(Start.Time, c('Date', 'Time'), \"T\")"
   ]
  },
  {
   "cell_type": "code",
   "execution_count": 268,
   "metadata": {
    "vscode": {
     "languageId": "r"
    }
   },
   "outputs": [],
   "source": [
    "# cadf <- cadf %>% mutate(Date = as.Date(Date))"
   ]
  },
  {
   "cell_type": "code",
   "execution_count": 269,
   "metadata": {
    "vscode": {
     "languageId": "r"
    }
   },
   "outputs": [],
   "source": [
    "# names(test)[names(test) == \"Workout.Date\"] <- \"Date\"\n"
   ]
  },
  {
   "cell_type": "code",
   "execution_count": 270,
   "metadata": {
    "vscode": {
     "languageId": "r"
    }
   },
   "outputs": [],
   "source": [
    "# test$Workout.Date <- as.Date(test$Workout.Date, format = \"%B %e, %Y\")"
   ]
  },
  {
   "cell_type": "code",
   "execution_count": 271,
   "metadata": {
    "vscode": {
     "languageId": "r"
    }
   },
   "outputs": [],
   "source": [
    "# mmerge2 <- merge(test, df, by = \"Date\", all.x=TRUE)"
   ]
  },
  {
   "cell_type": "code",
   "execution_count": 272,
   "metadata": {
    "vscode": {
     "languageId": "r"
    }
   },
   "outputs": [],
   "source": [
    "# head(mmerge2, 2)\n",
    "# mmerge2 <- as.data.frame(mmerge2)"
   ]
  },
  {
   "cell_type": "code",
   "execution_count": 273,
   "metadata": {
    "vscode": {
     "languageId": "r"
    }
   },
   "outputs": [],
   "source": [
    "# mmerge2 <- mmerge2[order(mmerge2$Date, decreasing = TRUE),]"
   ]
  },
  {
   "cell_type": "code",
   "execution_count": 274,
   "metadata": {
    "vscode": {
     "languageId": "r"
    }
   },
   "outputs": [],
   "source": [
    "# mmerge2"
   ]
  },
  {
   "cell_type": "code",
   "execution_count": 275,
   "metadata": {
    "vscode": {
     "languageId": "r"
    }
   },
   "outputs": [],
   "source": [
    "# library(tidyr)\n",
    "# testdf2 <- mmerge2 %>% drop_na()"
   ]
  },
  {
   "cell_type": "code",
   "execution_count": 276,
   "metadata": {
    "vscode": {
     "languageId": "r"
    }
   },
   "outputs": [],
   "source": [
    "# testdf2"
   ]
  },
  {
   "cell_type": "code",
   "execution_count": 277,
   "metadata": {
    "vscode": {
     "languageId": "r"
    }
   },
   "outputs": [],
   "source": [
    "# library(tidyr)\n",
    "# test <- separate(test, Time, c('Times', 'Ms'), \"[.]\")"
   ]
  },
  {
   "cell_type": "code",
   "execution_count": 278,
   "metadata": {
    "vscode": {
     "languageId": "r"
    }
   },
   "outputs": [],
   "source": [
    "# library(\"lubridate\")\n",
    "# hours <- -3600 * mymerge$Local.Time.Zone.Offset\n",
    "# mymerge$my_date_time1 <- mymerge$DTS + (-3600 * mymerge$Local.Time.Zone.Offset)"
   ]
  },
  {
   "cell_type": "markdown",
   "metadata": {},
   "source": [
    "### Prep to upload to SQL database"
   ]
  },
  {
   "cell_type": "code",
   "execution_count": 279,
   "metadata": {
    "vscode": {
     "languageId": "r"
    }
   },
   "outputs": [
    {
     "data": {
      "text/html": [
       "<table class=\"dataframe\">\n",
       "<caption>A data.frame: 6 × 13</caption>\n",
       "<thead>\n",
       "\t<tr><th></th><th scope=col>Date</th><th scope=col>Activity</th><th scope=col>Duration</th><th scope=col>Distance</th><th scope=col>Avg.Pace</th><th scope=col>Max.Pace</th><th scope=col>Avg.Spd</th><th scope=col>Cal.Burned</th><th scope=col>Avg.HR</th><th scope=col>Steps</th><th scope=col>mileage</th><th scope=col>minutes</th><th scope=col>year</th></tr>\n",
       "\t<tr><th></th><th scope=col>&lt;date&gt;</th><th scope=col>&lt;chr&gt;</th><th scope=col>&lt;dbl&gt;</th><th scope=col>&lt;dbl&gt;</th><th scope=col>&lt;dbl&gt;</th><th scope=col>&lt;dbl&gt;</th><th scope=col>&lt;dbl&gt;</th><th scope=col>&lt;dbl&gt;</th><th scope=col>&lt;dbl&gt;</th><th scope=col>&lt;dbl&gt;</th><th scope=col>&lt;fct&gt;</th><th scope=col>&lt;dbl&gt;</th><th scope=col>&lt;int&gt;</th></tr>\n",
       "</thead>\n",
       "<tbody>\n",
       "\t<tr><th scope=row>1</th><td>2022-08-22</td><td>Indoor Run / Jog</td><td> 1801</td><td> 3.10</td><td> 9.68</td><td> 9.96</td><td>6.20</td><td> 414</td><td>144</td><td> 4599</td><td>FiveK  </td><td> 30.02</td><td>2022</td></tr>\n",
       "\t<tr><th scope=row>2</th><td>2022-08-20</td><td>Run             </td><td>11065</td><td>13.11</td><td>14.07</td><td> 7.71</td><td>4.27</td><td>1544</td><td>140</td><td>22531</td><td>HalfMar</td><td>184.42</td><td>2022</td></tr>\n",
       "\t<tr><th scope=row>3</th><td>2022-08-17</td><td>Indoor Run / Jog</td><td> 3600</td><td> 6.56</td><td> 9.15</td><td>10.37</td><td>6.56</td><td> 859</td><td>147</td><td> 9295</td><td>TenK   </td><td> 60.00</td><td>2022</td></tr>\n",
       "\t<tr><th scope=row>4</th><td>2022-08-15</td><td>Indoor Run / Jog</td><td> 3600</td><td> 4.74</td><td>12.66</td><td>10.42</td><td>4.74</td><td> 632</td><td>122</td><td> 8146</td><td>FiveK  </td><td> 60.00</td><td>2022</td></tr>\n",
       "\t<tr><th scope=row>5</th><td>2022-08-14</td><td>Run             </td><td> 4663</td><td> 6.38</td><td>12.17</td><td> 8.82</td><td>4.93</td><td> 618</td><td>128</td><td>11001</td><td>TenK   </td><td> 77.72</td><td>2022</td></tr>\n",
       "\t<tr><th scope=row>6</th><td>2022-08-12</td><td>Indoor Run / Jog</td><td> 3617</td><td> 6.21</td><td> 9.71</td><td> 9.71</td><td>6.18</td><td> 831</td><td>144</td><td> 9306</td><td>TenK   </td><td> 60.28</td><td>2022</td></tr>\n",
       "</tbody>\n",
       "</table>\n"
      ],
      "text/latex": [
       "A data.frame: 6 × 13\n",
       "\\begin{tabular}{r|lllllllllllll}\n",
       "  & Date & Activity & Duration & Distance & Avg.Pace & Max.Pace & Avg.Spd & Cal.Burned & Avg.HR & Steps & mileage & minutes & year\\\\\n",
       "  & <date> & <chr> & <dbl> & <dbl> & <dbl> & <dbl> & <dbl> & <dbl> & <dbl> & <dbl> & <fct> & <dbl> & <int>\\\\\n",
       "\\hline\n",
       "\t1 & 2022-08-22 & Indoor Run / Jog &  1801 &  3.10 &  9.68 &  9.96 & 6.20 &  414 & 144 &  4599 & FiveK   &  30.02 & 2022\\\\\n",
       "\t2 & 2022-08-20 & Run              & 11065 & 13.11 & 14.07 &  7.71 & 4.27 & 1544 & 140 & 22531 & HalfMar & 184.42 & 2022\\\\\n",
       "\t3 & 2022-08-17 & Indoor Run / Jog &  3600 &  6.56 &  9.15 & 10.37 & 6.56 &  859 & 147 &  9295 & TenK    &  60.00 & 2022\\\\\n",
       "\t4 & 2022-08-15 & Indoor Run / Jog &  3600 &  4.74 & 12.66 & 10.42 & 4.74 &  632 & 122 &  8146 & FiveK   &  60.00 & 2022\\\\\n",
       "\t5 & 2022-08-14 & Run              &  4663 &  6.38 & 12.17 &  8.82 & 4.93 &  618 & 128 & 11001 & TenK    &  77.72 & 2022\\\\\n",
       "\t6 & 2022-08-12 & Indoor Run / Jog &  3617 &  6.21 &  9.71 &  9.71 & 6.18 &  831 & 144 &  9306 & TenK    &  60.28 & 2022\\\\\n",
       "\\end{tabular}\n"
      ],
      "text/markdown": [
       "\n",
       "A data.frame: 6 × 13\n",
       "\n",
       "| <!--/--> | Date &lt;date&gt; | Activity &lt;chr&gt; | Duration &lt;dbl&gt; | Distance &lt;dbl&gt; | Avg.Pace &lt;dbl&gt; | Max.Pace &lt;dbl&gt; | Avg.Spd &lt;dbl&gt; | Cal.Burned &lt;dbl&gt; | Avg.HR &lt;dbl&gt; | Steps &lt;dbl&gt; | mileage &lt;fct&gt; | minutes &lt;dbl&gt; | year &lt;int&gt; |\n",
       "|---|---|---|---|---|---|---|---|---|---|---|---|---|---|\n",
       "| 1 | 2022-08-22 | Indoor Run / Jog |  1801 |  3.10 |  9.68 |  9.96 | 6.20 |  414 | 144 |  4599 | FiveK   |  30.02 | 2022 |\n",
       "| 2 | 2022-08-20 | Run              | 11065 | 13.11 | 14.07 |  7.71 | 4.27 | 1544 | 140 | 22531 | HalfMar | 184.42 | 2022 |\n",
       "| 3 | 2022-08-17 | Indoor Run / Jog |  3600 |  6.56 |  9.15 | 10.37 | 6.56 |  859 | 147 |  9295 | TenK    |  60.00 | 2022 |\n",
       "| 4 | 2022-08-15 | Indoor Run / Jog |  3600 |  4.74 | 12.66 | 10.42 | 4.74 |  632 | 122 |  8146 | FiveK   |  60.00 | 2022 |\n",
       "| 5 | 2022-08-14 | Run              |  4663 |  6.38 | 12.17 |  8.82 | 4.93 |  618 | 128 | 11001 | TenK    |  77.72 | 2022 |\n",
       "| 6 | 2022-08-12 | Indoor Run / Jog |  3617 |  6.21 |  9.71 |  9.71 | 6.18 |  831 | 144 |  9306 | TenK    |  60.28 | 2022 |\n",
       "\n"
      ],
      "text/plain": [
       "  Date       Activity         Duration Distance Avg.Pace Max.Pace Avg.Spd\n",
       "1 2022-08-22 Indoor Run / Jog  1801     3.10     9.68     9.96    6.20   \n",
       "2 2022-08-20 Run              11065    13.11    14.07     7.71    4.27   \n",
       "3 2022-08-17 Indoor Run / Jog  3600     6.56     9.15    10.37    6.56   \n",
       "4 2022-08-15 Indoor Run / Jog  3600     4.74    12.66    10.42    4.74   \n",
       "5 2022-08-14 Run               4663     6.38    12.17     8.82    4.93   \n",
       "6 2022-08-12 Indoor Run / Jog  3617     6.21     9.71     9.71    6.18   \n",
       "  Cal.Burned Avg.HR Steps mileage minutes year\n",
       "1  414       144     4599 FiveK    30.02  2022\n",
       "2 1544       140    22531 HalfMar 184.42  2022\n",
       "3  859       147     9295 TenK     60.00  2022\n",
       "4  632       122     8146 FiveK    60.00  2022\n",
       "5  618       128    11001 TenK     77.72  2022\n",
       "6  831       144     9306 TenK     60.28  2022"
      ]
     },
     "metadata": {},
     "output_type": "display_data"
    }
   ],
   "source": [
    "#head(mymerge)\n",
    "df2 <- df[order(df$Date, decreasing = TRUE),]\n",
    "head(df2)"
   ]
  },
  {
   "cell_type": "code",
   "execution_count": 280,
   "metadata": {
    "vscode": {
     "languageId": "r"
    }
   },
   "outputs": [],
   "source": [
    "df3 <- df %>% select(c(Date, Distance, Duration, Activity, Avg.HR, Steps, Cal.Burned)) \n"
   ]
  },
  {
   "cell_type": "code",
   "execution_count": 281,
   "metadata": {
    "vscode": {
     "languageId": "r"
    }
   },
   "outputs": [],
   "source": [
    "library(tidyverse)\n",
    "df4 <- df3 %>% filter(!duplicated(cbind(df3$Date, df3$duration)))\n",
    "df5 <- df4 [order(df4$Date, decreasing = TRUE), ]"
   ]
  },
  {
   "cell_type": "code",
   "execution_count": 282,
   "metadata": {
    "vscode": {
     "languageId": "r"
    }
   },
   "outputs": [],
   "source": [
    "# df5 <- df5 %>% rename(Date = \"Date\", Distance = \"Distance\", duration = \"duration\", Activity_Score = \"Activity.Score\", AvgHR = \"Avg.HR\", Stepsy = \"Steps.y\", CalBurned = \"Cal.Burned\")"
   ]
  },
  {
   "cell_type": "code",
   "execution_count": 283,
   "metadata": {
    "vscode": {
     "languageId": "r"
    }
   },
   "outputs": [
    {
     "data": {
      "text/html": [
       "<table class=\"dataframe\">\n",
       "<caption>A data.frame: 6 × 7</caption>\n",
       "<thead>\n",
       "\t<tr><th></th><th scope=col>Date</th><th scope=col>Distance</th><th scope=col>Duration</th><th scope=col>Activity</th><th scope=col>Avg.HR</th><th scope=col>Steps</th><th scope=col>Cal.Burned</th></tr>\n",
       "\t<tr><th></th><th scope=col>&lt;date&gt;</th><th scope=col>&lt;dbl&gt;</th><th scope=col>&lt;dbl&gt;</th><th scope=col>&lt;chr&gt;</th><th scope=col>&lt;dbl&gt;</th><th scope=col>&lt;dbl&gt;</th><th scope=col>&lt;dbl&gt;</th></tr>\n",
       "</thead>\n",
       "<tbody>\n",
       "\t<tr><th scope=row>1</th><td>2022-08-22</td><td> 3.10</td><td> 1801</td><td>Indoor Run / Jog</td><td>144</td><td> 4599</td><td> 414</td></tr>\n",
       "\t<tr><th scope=row>2</th><td>2022-08-20</td><td>13.11</td><td>11065</td><td>Run             </td><td>140</td><td>22531</td><td>1544</td></tr>\n",
       "\t<tr><th scope=row>3</th><td>2022-08-17</td><td> 6.56</td><td> 3600</td><td>Indoor Run / Jog</td><td>147</td><td> 9295</td><td> 859</td></tr>\n",
       "\t<tr><th scope=row>4</th><td>2022-08-15</td><td> 4.74</td><td> 3600</td><td>Indoor Run / Jog</td><td>122</td><td> 8146</td><td> 632</td></tr>\n",
       "\t<tr><th scope=row>5</th><td>2022-08-14</td><td> 6.38</td><td> 4663</td><td>Run             </td><td>128</td><td>11001</td><td> 618</td></tr>\n",
       "\t<tr><th scope=row>6</th><td>2022-08-12</td><td> 6.21</td><td> 3617</td><td>Indoor Run / Jog</td><td>144</td><td> 9306</td><td> 831</td></tr>\n",
       "</tbody>\n",
       "</table>\n"
      ],
      "text/latex": [
       "A data.frame: 6 × 7\n",
       "\\begin{tabular}{r|lllllll}\n",
       "  & Date & Distance & Duration & Activity & Avg.HR & Steps & Cal.Burned\\\\\n",
       "  & <date> & <dbl> & <dbl> & <chr> & <dbl> & <dbl> & <dbl>\\\\\n",
       "\\hline\n",
       "\t1 & 2022-08-22 &  3.10 &  1801 & Indoor Run / Jog & 144 &  4599 &  414\\\\\n",
       "\t2 & 2022-08-20 & 13.11 & 11065 & Run              & 140 & 22531 & 1544\\\\\n",
       "\t3 & 2022-08-17 &  6.56 &  3600 & Indoor Run / Jog & 147 &  9295 &  859\\\\\n",
       "\t4 & 2022-08-15 &  4.74 &  3600 & Indoor Run / Jog & 122 &  8146 &  632\\\\\n",
       "\t5 & 2022-08-14 &  6.38 &  4663 & Run              & 128 & 11001 &  618\\\\\n",
       "\t6 & 2022-08-12 &  6.21 &  3617 & Indoor Run / Jog & 144 &  9306 &  831\\\\\n",
       "\\end{tabular}\n"
      ],
      "text/markdown": [
       "\n",
       "A data.frame: 6 × 7\n",
       "\n",
       "| <!--/--> | Date &lt;date&gt; | Distance &lt;dbl&gt; | Duration &lt;dbl&gt; | Activity &lt;chr&gt; | Avg.HR &lt;dbl&gt; | Steps &lt;dbl&gt; | Cal.Burned &lt;dbl&gt; |\n",
       "|---|---|---|---|---|---|---|---|\n",
       "| 1 | 2022-08-22 |  3.10 |  1801 | Indoor Run / Jog | 144 |  4599 |  414 |\n",
       "| 2 | 2022-08-20 | 13.11 | 11065 | Run              | 140 | 22531 | 1544 |\n",
       "| 3 | 2022-08-17 |  6.56 |  3600 | Indoor Run / Jog | 147 |  9295 |  859 |\n",
       "| 4 | 2022-08-15 |  4.74 |  3600 | Indoor Run / Jog | 122 |  8146 |  632 |\n",
       "| 5 | 2022-08-14 |  6.38 |  4663 | Run              | 128 | 11001 |  618 |\n",
       "| 6 | 2022-08-12 |  6.21 |  3617 | Indoor Run / Jog | 144 |  9306 |  831 |\n",
       "\n"
      ],
      "text/plain": [
       "  Date       Distance Duration Activity         Avg.HR Steps Cal.Burned\n",
       "1 2022-08-22  3.10     1801    Indoor Run / Jog 144     4599  414      \n",
       "2 2022-08-20 13.11    11065    Run              140    22531 1544      \n",
       "3 2022-08-17  6.56     3600    Indoor Run / Jog 147     9295  859      \n",
       "4 2022-08-15  4.74     3600    Indoor Run / Jog 122     8146  632      \n",
       "5 2022-08-14  6.38     4663    Run              128    11001  618      \n",
       "6 2022-08-12  6.21     3617    Indoor Run / Jog 144     9306  831      "
      ]
     },
     "metadata": {},
     "output_type": "display_data"
    }
   ],
   "source": [
    "head(df5)"
   ]
  },
  {
   "cell_type": "code",
   "execution_count": 284,
   "metadata": {
    "vscode": {
     "languageId": "r"
    }
   },
   "outputs": [],
   "source": [
    "# #write.csv(df5, \"C:/Users/coleb/OneDrive/Cosmo/user94403143_workout_history_df3.csv\", row.names = FALSE)\n",
    "\n",
    "# write.csv(df5, '//Users//colehamilton//Library//CloudStorage//OneDrive-Personal//Coraline//MapMyRunProjects//df5.csv', row.names = FALSE, append = TRUE)"
   ]
  }
 ],
 "metadata": {
  "kernelspec": {
   "display_name": "R",
   "language": "R",
   "name": "ir"
  },
  "language_info": {
   "codemirror_mode": "r",
   "file_extension": ".r",
   "mimetype": "text/x-r-source",
   "name": "R",
   "pygments_lexer": "r",
   "version": "4.2.1"
  },
  "vscode": {
   "interpreter": {
    "hash": "9f357b62676163e453d3996bd7a23625b1faadc1b4915e4cbea894e22b2eb803"
   }
  }
 },
 "nbformat": 4,
 "nbformat_minor": 4
}
