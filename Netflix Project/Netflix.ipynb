{
 "cells": [
  {
   "cell_type": "markdown",
   "metadata": {
    "id": "VOvfHMS4Aq9j",
    "tags": []
   },
   "source": [
    "### MapMyRun Data\n",
    "\n",
    "Import Packages"
   ]
  },
  {
   "cell_type": "code",
   "execution_count": 1,
   "metadata": {
    "tags": []
   },
   "outputs": [],
   "source": [
    "import warnings \n",
    "warnings.filterwarnings('ignore')\n",
    "\n",
    "import pandas as pd\n",
    "import numpy as np \n",
    "\n",
    "import seaborn as sns \n",
    "import matplotlib.pylab as plt\n",
    "%matplotlib inline\n",
    "\n",
    "from sklearn.preprocessing import StandardScaler\n",
    "from sklearn.preprocessing import MinMaxScaler\n",
    "\n",
    "from scipy.stats import norm\n",
    "from scipy import stats"
   ]
  },
  {
   "cell_type": "code",
   "execution_count": 2,
   "metadata": {
    "colab": {
     "base_uri": "https://localhost:8080/"
    },
    "executionInfo": {
     "elapsed": 395,
     "status": "ok",
     "timestamp": 1648913508078,
     "user": {
      "displayName": "Cole Hamilton",
      "userId": "14058711568879253144"
     },
     "user_tz": 300
    },
    "id": "trpigggiAq9l",
    "outputId": "3b18f32d-0ef6-4edc-cb8e-a7f1e56eaabd",
    "tags": []
   },
   "outputs": [
    {
     "data": {
      "text/html": [
       "<div>\n",
       "<style scoped>\n",
       "    .dataframe tbody tr th:only-of-type {\n",
       "        vertical-align: middle;\n",
       "    }\n",
       "\n",
       "    .dataframe tbody tr th {\n",
       "        vertical-align: top;\n",
       "    }\n",
       "\n",
       "    .dataframe thead th {\n",
       "        text-align: right;\n",
       "    }\n",
       "</style>\n",
       "<table border=\"1\" class=\"dataframe\">\n",
       "  <thead>\n",
       "    <tr style=\"text-align: right;\">\n",
       "      <th></th>\n",
       "      <th>Profile Name</th>\n",
       "      <th>Start Time</th>\n",
       "      <th>Duration</th>\n",
       "      <th>Attributes</th>\n",
       "      <th>Title</th>\n",
       "      <th>Supplemental Video Type</th>\n",
       "      <th>Device Type</th>\n",
       "      <th>Bookmark</th>\n",
       "      <th>Latest Bookmark</th>\n",
       "      <th>Country</th>\n",
       "    </tr>\n",
       "  </thead>\n",
       "  <tbody>\n",
       "    <tr>\n",
       "      <th>0</th>\n",
       "      <td>Dad</td>\n",
       "      <td>2022-05-18 05:21:42</td>\n",
       "      <td>00:54:45</td>\n",
       "      <td>NaN</td>\n",
       "      <td>Ozark: Season 4: Mud (Episode 13)</td>\n",
       "      <td>NaN</td>\n",
       "      <td>Amazon FTVET31DOVI2020 Smart TV</td>\n",
       "      <td>00:54:50</td>\n",
       "      <td>00:54:50</td>\n",
       "      <td>US (United States)</td>\n",
       "    </tr>\n",
       "    <tr>\n",
       "      <th>1</th>\n",
       "      <td>Dad</td>\n",
       "      <td>2022-05-18 04:31:07</td>\n",
       "      <td>00:50:33</td>\n",
       "      <td>NaN</td>\n",
       "      <td>Ozark: Season 4: Trouble The Water (Episode 12)</td>\n",
       "      <td>NaN</td>\n",
       "      <td>Amazon FTVET31DOVI2020 Smart TV</td>\n",
       "      <td>00:50:38</td>\n",
       "      <td>00:50:38</td>\n",
       "      <td>US (United States)</td>\n",
       "    </tr>\n",
       "  </tbody>\n",
       "</table>\n",
       "</div>"
      ],
      "text/plain": [
       "  Profile Name           Start Time  Duration Attributes  \\\n",
       "0          Dad  2022-05-18 05:21:42  00:54:45        NaN   \n",
       "1          Dad  2022-05-18 04:31:07  00:50:33        NaN   \n",
       "\n",
       "                                             Title Supplemental Video Type  \\\n",
       "0                Ozark: Season 4: Mud (Episode 13)                     NaN   \n",
       "1  Ozark: Season 4: Trouble The Water (Episode 12)                     NaN   \n",
       "\n",
       "                       Device Type  Bookmark Latest Bookmark  \\\n",
       "0  Amazon FTVET31DOVI2020 Smart TV  00:54:50        00:54:50   \n",
       "1  Amazon FTVET31DOVI2020 Smart TV  00:50:38        00:50:38   \n",
       "\n",
       "              Country  \n",
       "0  US (United States)  \n",
       "1  US (United States)  "
      ]
     },
     "execution_count": 2,
     "metadata": {},
     "output_type": "execute_result"
    }
   ],
   "source": [
    "#read the data in from my public github account\n",
    "temp = pd.read_csv('https://raw.githubusercontent.com/Cbhami/Coraline/master/Netflix%20Project/Data/CONTENT_INTERACTION/ViewingActivity.csv')\n",
    "temp.head(2)"
   ]
  },
  {
   "cell_type": "code",
   "execution_count": 3,
   "metadata": {},
   "outputs": [
    {
     "name": "stdout",
     "output_type": "stream",
     "text": [
      "<class 'pandas.core.frame.DataFrame'>\n",
      "RangeIndex: 45266 entries, 0 to 45265\n",
      "Data columns (total 10 columns):\n",
      " #   Column                   Non-Null Count  Dtype \n",
      "---  ------                   --------------  ----- \n",
      " 0   Profile Name             45266 non-null  object\n",
      " 1   Start Time               45266 non-null  object\n",
      " 2   Duration                 45266 non-null  object\n",
      " 3   Attributes               12182 non-null  object\n",
      " 4   Title                    45266 non-null  object\n",
      " 5   Supplemental Video Type  1006 non-null   object\n",
      " 6   Device Type              45266 non-null  object\n",
      " 7   Bookmark                 45266 non-null  object\n",
      " 8   Latest Bookmark          45266 non-null  object\n",
      " 9   Country                  45266 non-null  object\n",
      "dtypes: object(10)\n",
      "memory usage: 3.5+ MB\n"
     ]
    }
   ],
   "source": [
    "temp.info()"
   ]
  },
  {
   "cell_type": "code",
   "execution_count": 4,
   "metadata": {},
   "outputs": [],
   "source": [
    "# #change my duration times integers\n",
    "# temp[\"Minutes\"]= temp[\"Duration\"].str.slice(3, 5).astype(int)\n",
    "# temp[\"Seconds\"] = ((temp[\"Duration\"].str.slice(6, 8)).astype(int) / 60) #* 100\n",
    "# temp[\"Duration2\"] = temp[\"Minutes\"] + temp[\"Seconds\"]"
   ]
  },
  {
   "cell_type": "code",
   "execution_count": 5,
   "metadata": {},
   "outputs": [
    {
     "data": {
      "text/html": [
       "<div>\n",
       "<style scoped>\n",
       "    .dataframe tbody tr th:only-of-type {\n",
       "        vertical-align: middle;\n",
       "    }\n",
       "\n",
       "    .dataframe tbody tr th {\n",
       "        vertical-align: top;\n",
       "    }\n",
       "\n",
       "    .dataframe thead th {\n",
       "        text-align: right;\n",
       "    }\n",
       "</style>\n",
       "<table border=\"1\" class=\"dataframe\">\n",
       "  <thead>\n",
       "    <tr style=\"text-align: right;\">\n",
       "      <th></th>\n",
       "      <th>Profile Name</th>\n",
       "      <th>Start Time</th>\n",
       "      <th>Duration</th>\n",
       "      <th>Attributes</th>\n",
       "      <th>Title</th>\n",
       "      <th>Supplemental Video Type</th>\n",
       "      <th>Device Type</th>\n",
       "      <th>Bookmark</th>\n",
       "      <th>Latest Bookmark</th>\n",
       "      <th>Country</th>\n",
       "    </tr>\n",
       "  </thead>\n",
       "  <tbody>\n",
       "    <tr>\n",
       "      <th>0</th>\n",
       "      <td>Dad</td>\n",
       "      <td>2022-05-18 05:21:42</td>\n",
       "      <td>00:54:45</td>\n",
       "      <td>NaN</td>\n",
       "      <td>Ozark: Season 4: Mud (Episode 13)</td>\n",
       "      <td>NaN</td>\n",
       "      <td>Amazon FTVET31DOVI2020 Smart TV</td>\n",
       "      <td>00:54:50</td>\n",
       "      <td>00:54:50</td>\n",
       "      <td>US (United States)</td>\n",
       "    </tr>\n",
       "  </tbody>\n",
       "</table>\n",
       "</div>"
      ],
      "text/plain": [
       "  Profile Name           Start Time  Duration Attributes  \\\n",
       "0          Dad  2022-05-18 05:21:42  00:54:45        NaN   \n",
       "\n",
       "                               Title Supplemental Video Type  \\\n",
       "0  Ozark: Season 4: Mud (Episode 13)                     NaN   \n",
       "\n",
       "                       Device Type  Bookmark Latest Bookmark  \\\n",
       "0  Amazon FTVET31DOVI2020 Smart TV  00:54:50        00:54:50   \n",
       "\n",
       "              Country  \n",
       "0  US (United States)  "
      ]
     },
     "execution_count": 5,
     "metadata": {},
     "output_type": "execute_result"
    }
   ],
   "source": [
    "temp.head(1)"
   ]
  },
  {
   "cell_type": "code",
   "execution_count": 7,
   "metadata": {},
   "outputs": [
    {
     "data": {
      "text/html": [
       "<div>\n",
       "<style scoped>\n",
       "    .dataframe tbody tr th:only-of-type {\n",
       "        vertical-align: middle;\n",
       "    }\n",
       "\n",
       "    .dataframe tbody tr th {\n",
       "        vertical-align: top;\n",
       "    }\n",
       "\n",
       "    .dataframe thead th {\n",
       "        text-align: right;\n",
       "    }\n",
       "</style>\n",
       "<table border=\"1\" class=\"dataframe\">\n",
       "  <thead>\n",
       "    <tr style=\"text-align: right;\">\n",
       "      <th></th>\n",
       "      <th>Profile Name</th>\n",
       "      <th>Start Time</th>\n",
       "      <th>Duration</th>\n",
       "      <th>Attributes</th>\n",
       "      <th>Title</th>\n",
       "      <th>Supplemental Video Type</th>\n",
       "      <th>Device Type</th>\n",
       "      <th>Bookmark</th>\n",
       "      <th>Latest Bookmark</th>\n",
       "      <th>Country</th>\n",
       "      <th>time</th>\n",
       "      <th>percent</th>\n",
       "      <th>Duration Minutes</th>\n",
       "    </tr>\n",
       "  </thead>\n",
       "  <tbody>\n",
       "    <tr>\n",
       "      <th>0</th>\n",
       "      <td>Dad</td>\n",
       "      <td>2022-05-18 05:21:42</td>\n",
       "      <td>00:54:45</td>\n",
       "      <td>NaN</td>\n",
       "      <td>Ozark: Season 4: Mud (Episode 13)</td>\n",
       "      <td>NaN</td>\n",
       "      <td>Amazon FTVET31DOVI2020 Smart TV</td>\n",
       "      <td>00:54:50</td>\n",
       "      <td>00:54:50</td>\n",
       "      <td>US (United States)</td>\n",
       "      <td>54:45</td>\n",
       "      <td>75</td>\n",
       "      <td>54.75</td>\n",
       "    </tr>\n",
       "  </tbody>\n",
       "</table>\n",
       "</div>"
      ],
      "text/plain": [
       "  Profile Name           Start Time  Duration Attributes  \\\n",
       "0          Dad  2022-05-18 05:21:42  00:54:45        NaN   \n",
       "\n",
       "                               Title Supplemental Video Type  \\\n",
       "0  Ozark: Season 4: Mud (Episode 13)                     NaN   \n",
       "\n",
       "                       Device Type  Bookmark Latest Bookmark  \\\n",
       "0  Amazon FTVET31DOVI2020 Smart TV  00:54:50        00:54:50   \n",
       "\n",
       "              Country   time  percent Duration Minutes  \n",
       "0  US (United States)  54:45       75            54.75  "
      ]
     },
     "execution_count": 7,
     "metadata": {},
     "output_type": "execute_result"
    }
   ],
   "source": [
    "# #change my watch times to date/time format\n",
    "df = temp\n",
    "df['time'] = df['Duration'].apply(lambda x : ''.join(x.split(':', 1)[1:]))\n",
    "df['percent'] = df['time'].apply(lambda x : x.split(':')[1])\n",
    "df['percent'] = (df['percent'].astype(int) / 60) * 100\n",
    "df['percent'] = df['percent'].astype(int)\n",
    "df['Duration Minutes'] = df['time'].apply(lambda x : str(x).split(':')[0]) + '.' + df['percent'].astype(str)\n",
    "df.head(1)"
   ]
  },
  {
   "cell_type": "code",
   "execution_count": 8,
   "metadata": {},
   "outputs": [
    {
     "data": {
      "text/html": [
       "<div>\n",
       "<style scoped>\n",
       "    .dataframe tbody tr th:only-of-type {\n",
       "        vertical-align: middle;\n",
       "    }\n",
       "\n",
       "    .dataframe tbody tr th {\n",
       "        vertical-align: top;\n",
       "    }\n",
       "\n",
       "    .dataframe thead th {\n",
       "        text-align: right;\n",
       "    }\n",
       "</style>\n",
       "<table border=\"1\" class=\"dataframe\">\n",
       "  <thead>\n",
       "    <tr style=\"text-align: right;\">\n",
       "      <th></th>\n",
       "      <th>Profile Name</th>\n",
       "      <th>Start Time</th>\n",
       "      <th>Duration</th>\n",
       "      <th>Attributes</th>\n",
       "      <th>Title</th>\n",
       "      <th>Supplemental Video Type</th>\n",
       "      <th>Device Type</th>\n",
       "      <th>Bookmark</th>\n",
       "      <th>Latest Bookmark</th>\n",
       "      <th>Country</th>\n",
       "      <th>time</th>\n",
       "      <th>percent</th>\n",
       "      <th>Duration Minutes</th>\n",
       "      <th>day_of_week</th>\n",
       "    </tr>\n",
       "  </thead>\n",
       "  <tbody>\n",
       "    <tr>\n",
       "      <th>0</th>\n",
       "      <td>Dad</td>\n",
       "      <td>2022-05-18 05:21:42</td>\n",
       "      <td>00:54:45</td>\n",
       "      <td>NaN</td>\n",
       "      <td>Ozark: Season 4: Mud (Episode 13)</td>\n",
       "      <td>NaN</td>\n",
       "      <td>Amazon FTVET31DOVI2020 Smart TV</td>\n",
       "      <td>00:54:50</td>\n",
       "      <td>00:54:50</td>\n",
       "      <td>US (United States)</td>\n",
       "      <td>54:45</td>\n",
       "      <td>75</td>\n",
       "      <td>54.75</td>\n",
       "      <td>Wednesday</td>\n",
       "    </tr>\n",
       "  </tbody>\n",
       "</table>\n",
       "</div>"
      ],
      "text/plain": [
       "  Profile Name          Start Time  Duration Attributes  \\\n",
       "0          Dad 2022-05-18 05:21:42  00:54:45        NaN   \n",
       "\n",
       "                               Title Supplemental Video Type  \\\n",
       "0  Ozark: Season 4: Mud (Episode 13)                     NaN   \n",
       "\n",
       "                       Device Type  Bookmark Latest Bookmark  \\\n",
       "0  Amazon FTVET31DOVI2020 Smart TV  00:54:50        00:54:50   \n",
       "\n",
       "              Country   time  percent  Duration Minutes day_of_week  \n",
       "0  US (United States)  54:45       75             54.75   Wednesday  "
      ]
     },
     "execution_count": 8,
     "metadata": {},
     "output_type": "execute_result"
    }
   ],
   "source": [
    "#temp['Minutes Watched'] = temp['Start Time'].astype(float)\n",
    "df['Duration Minutes'] = df['Duration Minutes'].astype(float)\n",
    "df['Start Time'] = pd.to_datetime(df['Start Time'])\n",
    "df['day_of_week']=df['Start Time'].dt.day_name()\n",
    "df['Duration'] = pd.to_datetime(df['Duration']).dt.time\n",
    "df.head(1)"
   ]
  },
  {
   "cell_type": "code",
   "execution_count": 9,
   "metadata": {},
   "outputs": [
    {
     "data": {
      "text/plain": [
       "Index(['Profile Name', 'Start Time', 'Duration', 'Attributes', 'Title',\n",
       "       'Supplemental Video Type', 'Device Type', 'Bookmark', 'Latest Bookmark',\n",
       "       'Country', 'time', 'percent', 'Duration Minutes', 'day_of_week'],\n",
       "      dtype='object')"
      ]
     },
     "execution_count": 9,
     "metadata": {},
     "output_type": "execute_result"
    }
   ],
   "source": [
    "df.columns"
   ]
  },
  {
   "cell_type": "code",
   "execution_count": 10,
   "metadata": {},
   "outputs": [],
   "source": [
    "df = df[['Profile Name', 'Start Time', 'Duration', 'Attributes', 'Title',\n",
    "       'Supplemental Video Type', 'Device Type', 'Bookmark', 'Latest Bookmark',\n",
    "       'Country', 'Duration Minutes','day_of_week']]"
   ]
  },
  {
   "cell_type": "code",
   "execution_count": 11,
   "metadata": {},
   "outputs": [
    {
     "data": {
      "text/plain": [
       "US (United States)           38436\n",
       "BE (Belgium)                  4837\n",
       "DE (Germany)                  1437\n",
       "MO (Macao)                     135\n",
       "AU (Australia)                 110\n",
       "FR (France)                     93\n",
       "IT (Italy)                      87\n",
       "GB (United Kingdom)             42\n",
       "IE (Ireland)                    34\n",
       "ZZ (Unknown Region)             30\n",
       "NL (Netherlands)                19\n",
       "CZ (Czech Republic)              5\n",
       "SY (Syrian Arab Republic)        1\n",
       "Name: Country, dtype: int64"
      ]
     },
     "execution_count": 11,
     "metadata": {},
     "output_type": "execute_result"
    }
   ],
   "source": [
    "df['Country'].value_counts()"
   ]
  },
  {
   "cell_type": "code",
   "execution_count": 12,
   "metadata": {},
   "outputs": [
    {
     "data": {
      "text/plain": [
       "US (United States)     38436\n",
       "BE (Belgium)            4837\n",
       "DE (Germany)            1437\n",
       "FR (France)               93\n",
       "IT (Italy)                87\n",
       "IE (Ireland)              34\n",
       "NL (Netherlands)          19\n",
       "CZ (Czech Republic)        5\n",
       "Name: Country, dtype: int64"
      ]
     },
     "execution_count": 12,
     "metadata": {},
     "output_type": "execute_result"
    }
   ],
   "source": [
    "df1 = df.loc[df['Country'].isin(['US (United States)', 'BE (Belgium)', 'DE (Germany)', 'FR (France)', 'IT (Italy)', 'NL (Netherlands)', 'IE (Ireland)', 'CZ (Czech Republic)'])]\n",
    "df1['Country'].value_counts()"
   ]
  },
  {
   "cell_type": "code",
   "execution_count": 13,
   "metadata": {},
   "outputs": [
    {
     "data": {
      "text/html": [
       "<div>\n",
       "<style scoped>\n",
       "    .dataframe tbody tr th:only-of-type {\n",
       "        vertical-align: middle;\n",
       "    }\n",
       "\n",
       "    .dataframe tbody tr th {\n",
       "        vertical-align: top;\n",
       "    }\n",
       "\n",
       "    .dataframe thead th {\n",
       "        text-align: right;\n",
       "    }\n",
       "</style>\n",
       "<table border=\"1\" class=\"dataframe\">\n",
       "  <thead>\n",
       "    <tr style=\"text-align: right;\">\n",
       "      <th></th>\n",
       "      <th>Profile Name</th>\n",
       "      <th>Start Time</th>\n",
       "      <th>Duration</th>\n",
       "      <th>Attributes</th>\n",
       "      <th>Title</th>\n",
       "      <th>Supplemental Video Type</th>\n",
       "      <th>Device Type</th>\n",
       "      <th>Bookmark</th>\n",
       "      <th>Latest Bookmark</th>\n",
       "      <th>Country</th>\n",
       "      <th>Duration Minutes</th>\n",
       "      <th>day_of_week</th>\n",
       "    </tr>\n",
       "  </thead>\n",
       "  <tbody>\n",
       "    <tr>\n",
       "      <th>0</th>\n",
       "      <td>Dad</td>\n",
       "      <td>2022-05-18 05:21:42</td>\n",
       "      <td>00:54:45</td>\n",
       "      <td>NaN</td>\n",
       "      <td>Ozark: Season 4: Mud (Episode 13)</td>\n",
       "      <td>NaN</td>\n",
       "      <td>Amazon FTVET31DOVI2020 Smart TV</td>\n",
       "      <td>00:54:50</td>\n",
       "      <td>00:54:50</td>\n",
       "      <td>US (United States)</td>\n",
       "      <td>54.75</td>\n",
       "      <td>Wednesday</td>\n",
       "    </tr>\n",
       "  </tbody>\n",
       "</table>\n",
       "</div>"
      ],
      "text/plain": [
       "  Profile Name          Start Time  Duration Attributes  \\\n",
       "0          Dad 2022-05-18 05:21:42  00:54:45        NaN   \n",
       "\n",
       "                               Title Supplemental Video Type  \\\n",
       "0  Ozark: Season 4: Mud (Episode 13)                     NaN   \n",
       "\n",
       "                       Device Type  Bookmark Latest Bookmark  \\\n",
       "0  Amazon FTVET31DOVI2020 Smart TV  00:54:50        00:54:50   \n",
       "\n",
       "              Country  Duration Minutes day_of_week  \n",
       "0  US (United States)             54.75   Wednesday  "
      ]
     },
     "execution_count": 13,
     "metadata": {},
     "output_type": "execute_result"
    }
   ],
   "source": [
    "df1.head(1)"
   ]
  },
  {
   "cell_type": "code",
   "execution_count": 14,
   "metadata": {},
   "outputs": [
    {
     "data": {
      "text/html": [
       "<div>\n",
       "<style scoped>\n",
       "    .dataframe tbody tr th:only-of-type {\n",
       "        vertical-align: middle;\n",
       "    }\n",
       "\n",
       "    .dataframe tbody tr th {\n",
       "        vertical-align: top;\n",
       "    }\n",
       "\n",
       "    .dataframe thead th {\n",
       "        text-align: right;\n",
       "    }\n",
       "</style>\n",
       "<table border=\"1\" class=\"dataframe\">\n",
       "  <thead>\n",
       "    <tr style=\"text-align: right;\">\n",
       "      <th></th>\n",
       "      <th>Duration Minutes</th>\n",
       "    </tr>\n",
       "  </thead>\n",
       "  <tbody>\n",
       "    <tr>\n",
       "      <th>count</th>\n",
       "      <td>44948.000000</td>\n",
       "    </tr>\n",
       "    <tr>\n",
       "      <th>mean</th>\n",
       "      <td>18.999430</td>\n",
       "    </tr>\n",
       "    <tr>\n",
       "      <th>std</th>\n",
       "      <td>13.782307</td>\n",
       "    </tr>\n",
       "    <tr>\n",
       "      <th>min</th>\n",
       "      <td>0.000000</td>\n",
       "    </tr>\n",
       "    <tr>\n",
       "      <th>25%</th>\n",
       "      <td>6.880000</td>\n",
       "    </tr>\n",
       "    <tr>\n",
       "      <th>50%</th>\n",
       "      <td>21.200000</td>\n",
       "    </tr>\n",
       "    <tr>\n",
       "      <th>75%</th>\n",
       "      <td>23.410000</td>\n",
       "    </tr>\n",
       "    <tr>\n",
       "      <th>max</th>\n",
       "      <td>59.980000</td>\n",
       "    </tr>\n",
       "  </tbody>\n",
       "</table>\n",
       "</div>"
      ],
      "text/plain": [
       "       Duration Minutes\n",
       "count      44948.000000\n",
       "mean          18.999430\n",
       "std           13.782307\n",
       "min            0.000000\n",
       "25%            6.880000\n",
       "50%           21.200000\n",
       "75%           23.410000\n",
       "max           59.980000"
      ]
     },
     "execution_count": 14,
     "metadata": {},
     "output_type": "execute_result"
    }
   ],
   "source": [
    "df1.describe()"
   ]
  },
  {
   "cell_type": "code",
   "execution_count": 15,
   "metadata": {},
   "outputs": [
    {
     "data": {
      "text/plain": [
       "Text(0.5, 1.0, 'Minutes by Country')"
      ]
     },
     "execution_count": 15,
     "metadata": {},
     "output_type": "execute_result"
    },
    {
     "data": {
      "image/png": "[encoded data removed]",
      "text/plain": [
       "<Figure size 432x288 with 1 Axes>"
      ]
     },
     "metadata": {
      "needs_background": "light"
     },
     "output_type": "display_data"
    }
   ],
   "source": [
    "sns.set_context(\"talk\")\n",
    "\n",
    "sns.barplot(y=('Duration Minutes'), x=\n",
    "    'Country',\n",
    "    data=df1, ci=None)\n",
    "\n",
    "plt.ylabel('Duration')\n",
    "plt.xlabel('Country')\n",
    "plt.xticks(rotation = 45)\n",
    "plt.title('Minutes by Country')"
   ]
  },
  {
   "cell_type": "code",
   "execution_count": 16,
   "metadata": {},
   "outputs": [
    {
     "data": {
      "text/html": [
       "<div>\n",
       "<style scoped>\n",
       "    .dataframe tbody tr th:only-of-type {\n",
       "        vertical-align: middle;\n",
       "    }\n",
       "\n",
       "    .dataframe tbody tr th {\n",
       "        vertical-align: top;\n",
       "    }\n",
       "\n",
       "    .dataframe thead th {\n",
       "        text-align: right;\n",
       "    }\n",
       "</style>\n",
       "<table border=\"1\" class=\"dataframe\">\n",
       "  <thead>\n",
       "    <tr style=\"text-align: right;\">\n",
       "      <th></th>\n",
       "      <th>Duration Minutes</th>\n",
       "    </tr>\n",
       "  </thead>\n",
       "  <tbody>\n",
       "    <tr>\n",
       "      <th>Duration Minutes</th>\n",
       "      <td>1.0</td>\n",
       "    </tr>\n",
       "  </tbody>\n",
       "</table>\n",
       "</div>"
      ],
      "text/plain": [
       "                  Duration Minutes\n",
       "Duration Minutes               1.0"
      ]
     },
     "execution_count": 16,
     "metadata": {},
     "output_type": "execute_result"
    }
   ],
   "source": [
    "df1.corr()"
   ]
  },
  {
   "cell_type": "code",
   "execution_count": null,
   "metadata": {},
   "outputs": [],
   "source": []
  }
 ],
 "metadata": {
  "celltoolbar": "Slideshow",
  "colab": {
   "name": "Running Regression.ipynb",
   "provenance": [
    {
     "file_id": "https://github.com/Cbhami/Cosmo/blob/master/DA%20590/Session%2028.ipynb",
     "timestamp": 1648769406675
    }
   ]
  },
  "interpreter": {
   "hash": "9f357b62676163e453d3996bd7a23625b1faadc1b4915e4cbea894e22b2eb803"
  },
  "kernelspec": {
   "display_name": "Python 3 (ipykernel)",
   "language": "python",
   "name": "python3"
  },
  "language_info": {
   "codemirror_mode": {
    "name": "ipython",
    "version": 3
   },
   "file_extension": ".py",
   "mimetype": "text/x-python",
   "name": "python",
   "nbconvert_exporter": "python",
   "pygments_lexer": "ipython3",
   "version": "3.9.7"
  }
 },
 "nbformat": 4,
 "nbformat_minor": 4
}
