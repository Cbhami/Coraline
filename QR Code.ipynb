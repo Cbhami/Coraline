{
 "cells": [
  {
   "cell_type": "markdown",
   "metadata": {},
   "source": [
    "%pip install pyqrcode"
   ]
  },
  {
   "cell_type": "code",
   "execution_count": 11,
   "metadata": {},
   "outputs": [
    {
     "name": "stdout",
     "output_type": "stream",
     "text": [
      "Requirement already satisfied: pypng in /Users/cole/miniconda/lib/python3.9/site-packages (0.20220715.0)\n",
      "Note: you may need to restart the kernel to use updated packages.\n",
      "Collecting pyqrcode\n",
      "  Using cached PyQRCode-1.2.1.zip (41 kB)\n",
      "Building wheels for collected packages: pyqrcode\n",
      "  Building wheel for pyqrcode (setup.py) ... \u001b[?25ldone\n",
      "\u001b[?25h  Created wheel for pyqrcode: filename=PyQRCode-1.2.1-py3-none-any.whl size=36247 sha256=2ff0d6d2d6cef14e1149bbced42fdba117c33c5931c5362cd8e6f5a2e39175a2\n",
      "  Stored in directory: /Users/cole/Library/Caches/pip/wheels/da/75/c0/38c7f82750de2725429b6b8571dca254249d73f6c882c5d9b1\n",
      "Successfully built pyqrcode\n",
      "Installing collected packages: pyqrcode\n",
      "Successfully installed pyqrcode-1.2.1\n",
      "Note: you may need to restart the kernel to use updated packages.\n",
      "zsh:1: no matches found: qrcode[pil]\n",
      "Note: you may need to restart the kernel to use updated packages.\n",
      "zsh:1: no matches found: qrcode[svg]\n",
      "Note: you may need to restart the kernel to use updated packages.\n",
      "zsh:1: no matches found: qrcode[terminal]\n",
      "Note: you may need to restart the kernel to use updated packages.\n",
      "zsh:1: no matches found: qrcode[all]\n",
      "Note: you may need to restart the kernel to use updated packages.\n"
     ]
    }
   ],
   "source": [
    "%pip install pypng\n",
    "%pip install pyqrcode\n",
    "%pip install qrcode[pil]\n",
    "%pip install qrcode[svg]\n",
    "%pip install qrcode[terminal]\n",
    "%pip install qrcode[all]\n"
   ]
  },
  {
   "cell_type": "code",
   "execution_count": 12,
   "metadata": {},
   "outputs": [],
   "source": [
    "\n",
    "# Import QRCode from pyqrcode\n",
    "import pyqrcode\n",
    "import png\n",
    "from pyqrcode import QRCode\n",
    "  \n",
    "  \n",
    "# String which represents the QR code\n",
    "s = \"www.geeksforgeeks.org\"\n",
    "  \n",
    "# Generate QR code\n",
    "url = pyqrcode.create(s)\n",
    "  \n",
    "# Create and save the svg file naming \"myqr.svg\"\n",
    "url.svg(\"myqr.svg\", scale = 8)\n",
    "  \n",
    "# Create and save the png file naming \"myqr.png\"\n",
    "url.png('myqr.png', scale = 6)"
   ]
  },
  {
   "cell_type": "code",
   "execution_count": 2,
   "metadata": {},
   "outputs": [
    {
     "name": "stdout",
     "output_type": "stream",
     "text": [
      "Requirement already satisfied: gspread in /Users/cole/miniconda/lib/python3.9/site-packages (5.5.0)\n",
      "Requirement already satisfied: google-auth-oauthlib>=0.4.1 in /Users/cole/miniconda/lib/python3.9/site-packages (from gspread) (0.5.2)\n",
      "Requirement already satisfied: google-auth>=1.12.0 in /Users/cole/miniconda/lib/python3.9/site-packages (from gspread) (2.11.0)\n",
      "Requirement already satisfied: cachetools<6.0,>=2.0.0 in /Users/cole/miniconda/lib/python3.9/site-packages (from google-auth>=1.12.0->gspread) (5.2.0)\n",
      "Requirement already satisfied: rsa<5,>=3.1.4 in /Users/cole/miniconda/lib/python3.9/site-packages (from google-auth>=1.12.0->gspread) (4.9)\n",
      "Requirement already satisfied: six>=1.9.0 in /Users/cole/miniconda/lib/python3.9/site-packages (from google-auth>=1.12.0->gspread) (1.16.0)\n",
      "Requirement already satisfied: pyasn1-modules>=0.2.1 in /Users/cole/miniconda/lib/python3.9/site-packages (from google-auth>=1.12.0->gspread) (0.2.8)\n",
      "Requirement already satisfied: requests-oauthlib>=0.7.0 in /Users/cole/miniconda/lib/python3.9/site-packages (from google-auth-oauthlib>=0.4.1->gspread) (1.3.1)\n",
      "Requirement already satisfied: pyasn1<0.5.0,>=0.4.6 in /Users/cole/miniconda/lib/python3.9/site-packages (from pyasn1-modules>=0.2.1->google-auth>=1.12.0->gspread) (0.4.8)\n",
      "Requirement already satisfied: oauthlib>=3.0.0 in /Users/cole/miniconda/lib/python3.9/site-packages (from requests-oauthlib>=0.7.0->google-auth-oauthlib>=0.4.1->gspread) (3.2.0)\n",
      "Requirement already satisfied: requests>=2.0.0 in /Users/cole/miniconda/lib/python3.9/site-packages (from requests-oauthlib>=0.7.0->google-auth-oauthlib>=0.4.1->gspread) (2.27.1)\n",
      "Requirement already satisfied: certifi>=2017.4.17 in /Users/cole/miniconda/lib/python3.9/site-packages (from requests>=2.0.0->requests-oauthlib>=0.7.0->google-auth-oauthlib>=0.4.1->gspread) (2022.6.15)\n",
      "Requirement already satisfied: idna<4,>=2.5 in /Users/cole/miniconda/lib/python3.9/site-packages (from requests>=2.0.0->requests-oauthlib>=0.7.0->google-auth-oauthlib>=0.4.1->gspread) (3.3)\n",
      "Requirement already satisfied: urllib3<1.27,>=1.21.1 in /Users/cole/miniconda/lib/python3.9/site-packages (from requests>=2.0.0->requests-oauthlib>=0.7.0->google-auth-oauthlib>=0.4.1->gspread) (1.26.8)\n",
      "Requirement already satisfied: charset-normalizer~=2.0.0 in /Users/cole/miniconda/lib/python3.9/site-packages (from requests>=2.0.0->requests-oauthlib>=0.7.0->google-auth-oauthlib>=0.4.1->gspread) (2.0.4)\n",
      "Note: you may need to restart the kernel to use updated packages.\n",
      "Requirement already satisfied: oauth2client in /Users/cole/miniconda/lib/python3.9/site-packages (4.1.3)\n",
      "Requirement already satisfied: pyasn1>=0.1.7 in /Users/cole/miniconda/lib/python3.9/site-packages (from oauth2client) (0.4.8)\n",
      "Requirement already satisfied: six>=1.6.1 in /Users/cole/miniconda/lib/python3.9/site-packages (from oauth2client) (1.16.0)\n",
      "Requirement already satisfied: httplib2>=0.9.1 in /Users/cole/miniconda/lib/python3.9/site-packages (from oauth2client) (0.20.4)\n",
      "Requirement already satisfied: pyasn1-modules>=0.0.5 in /Users/cole/miniconda/lib/python3.9/site-packages (from oauth2client) (0.2.8)\n",
      "Requirement already satisfied: rsa>=3.1.4 in /Users/cole/miniconda/lib/python3.9/site-packages (from oauth2client) (4.9)\n",
      "Requirement already satisfied: pyparsing!=3.0.0,!=3.0.1,!=3.0.2,!=3.0.3,<4,>=2.4.2 in /Users/cole/miniconda/lib/python3.9/site-packages (from httplib2>=0.9.1->oauth2client) (3.0.9)\n",
      "Note: you may need to restart the kernel to use updated packages.\n",
      "Requirement already satisfied: pandas in /Users/cole/miniconda/lib/python3.9/site-packages (1.4.4)\n",
      "Requirement already satisfied: numpy>=1.18.5 in /Users/cole/miniconda/lib/python3.9/site-packages (from pandas) (1.23.2)\n",
      "Requirement already satisfied: python-dateutil>=2.8.1 in /Users/cole/miniconda/lib/python3.9/site-packages (from pandas) (2.8.2)\n",
      "Requirement already satisfied: pytz>=2020.1 in /Users/cole/miniconda/lib/python3.9/site-packages (from pandas) (2022.2.1)\n",
      "Requirement already satisfied: six>=1.5 in /Users/cole/miniconda/lib/python3.9/site-packages (from python-dateutil>=2.8.1->pandas) (1.16.0)\n",
      "Note: you may need to restart the kernel to use updated packages.\n",
      "Requirement already satisfied: gspread-dataframe in /Users/cole/miniconda/lib/python3.9/site-packages (3.3.0)\n",
      "Requirement already satisfied: pandas>=0.24.0 in /Users/cole/miniconda/lib/python3.9/site-packages (from gspread-dataframe) (1.4.4)\n",
      "Requirement already satisfied: gspread>=3.0.0 in /Users/cole/miniconda/lib/python3.9/site-packages (from gspread-dataframe) (5.5.0)\n",
      "Requirement already satisfied: six>=1.12.0 in /Users/cole/miniconda/lib/python3.9/site-packages (from gspread-dataframe) (1.16.0)\n",
      "Requirement already satisfied: google-auth>=1.12.0 in /Users/cole/miniconda/lib/python3.9/site-packages (from gspread>=3.0.0->gspread-dataframe) (2.11.0)\n",
      "Requirement already satisfied: google-auth-oauthlib>=0.4.1 in /Users/cole/miniconda/lib/python3.9/site-packages (from gspread>=3.0.0->gspread-dataframe) (0.5.2)\n",
      "Requirement already satisfied: cachetools<6.0,>=2.0.0 in /Users/cole/miniconda/lib/python3.9/site-packages (from google-auth>=1.12.0->gspread>=3.0.0->gspread-dataframe) (5.2.0)\n",
      "Requirement already satisfied: pyasn1-modules>=0.2.1 in /Users/cole/miniconda/lib/python3.9/site-packages (from google-auth>=1.12.0->gspread>=3.0.0->gspread-dataframe) (0.2.8)\n",
      "Requirement already satisfied: rsa<5,>=3.1.4 in /Users/cole/miniconda/lib/python3.9/site-packages (from google-auth>=1.12.0->gspread>=3.0.0->gspread-dataframe) (4.9)\n",
      "Requirement already satisfied: requests-oauthlib>=0.7.0 in /Users/cole/miniconda/lib/python3.9/site-packages (from google-auth-oauthlib>=0.4.1->gspread>=3.0.0->gspread-dataframe) (1.3.1)\n",
      "Requirement already satisfied: python-dateutil>=2.8.1 in /Users/cole/miniconda/lib/python3.9/site-packages (from pandas>=0.24.0->gspread-dataframe) (2.8.2)\n",
      "Requirement already satisfied: numpy>=1.18.5 in /Users/cole/miniconda/lib/python3.9/site-packages (from pandas>=0.24.0->gspread-dataframe) (1.23.2)\n",
      "Requirement already satisfied: pytz>=2020.1 in /Users/cole/miniconda/lib/python3.9/site-packages (from pandas>=0.24.0->gspread-dataframe) (2022.2.1)\n",
      "Requirement already satisfied: pyasn1<0.5.0,>=0.4.6 in /Users/cole/miniconda/lib/python3.9/site-packages (from pyasn1-modules>=0.2.1->google-auth>=1.12.0->gspread>=3.0.0->gspread-dataframe) (0.4.8)\n",
      "Requirement already satisfied: oauthlib>=3.0.0 in /Users/cole/miniconda/lib/python3.9/site-packages (from requests-oauthlib>=0.7.0->google-auth-oauthlib>=0.4.1->gspread>=3.0.0->gspread-dataframe) (3.2.0)\n",
      "Requirement already satisfied: requests>=2.0.0 in /Users/cole/miniconda/lib/python3.9/site-packages (from requests-oauthlib>=0.7.0->google-auth-oauthlib>=0.4.1->gspread>=3.0.0->gspread-dataframe) (2.27.1)\n",
      "Requirement already satisfied: idna<4,>=2.5 in /Users/cole/miniconda/lib/python3.9/site-packages (from requests>=2.0.0->requests-oauthlib>=0.7.0->google-auth-oauthlib>=0.4.1->gspread>=3.0.0->gspread-dataframe) (3.3)\n",
      "Requirement already satisfied: certifi>=2017.4.17 in /Users/cole/miniconda/lib/python3.9/site-packages (from requests>=2.0.0->requests-oauthlib>=0.7.0->google-auth-oauthlib>=0.4.1->gspread>=3.0.0->gspread-dataframe) (2022.6.15)\n",
      "Requirement already satisfied: urllib3<1.27,>=1.21.1 in /Users/cole/miniconda/lib/python3.9/site-packages (from requests>=2.0.0->requests-oauthlib>=0.7.0->google-auth-oauthlib>=0.4.1->gspread>=3.0.0->gspread-dataframe) (1.26.8)\n",
      "Requirement already satisfied: charset-normalizer~=2.0.0 in /Users/cole/miniconda/lib/python3.9/site-packages (from requests>=2.0.0->requests-oauthlib>=0.7.0->google-auth-oauthlib>=0.4.1->gspread>=3.0.0->gspread-dataframe) (2.0.4)\n",
      "Note: you may need to restart the kernel to use updated packages.\n",
      "Requirement already satisfied: gspread-formatting in /Users/cole/miniconda/lib/python3.9/site-packages (1.1.2)\n",
      "Requirement already satisfied: gspread>=3.0.0 in /Users/cole/miniconda/lib/python3.9/site-packages (from gspread-formatting) (5.5.0)\n",
      "Requirement already satisfied: google-auth>=1.12.0 in /Users/cole/miniconda/lib/python3.9/site-packages (from gspread>=3.0.0->gspread-formatting) (2.11.0)\n",
      "Requirement already satisfied: google-auth-oauthlib>=0.4.1 in /Users/cole/miniconda/lib/python3.9/site-packages (from gspread>=3.0.0->gspread-formatting) (0.5.2)\n",
      "Requirement already satisfied: pyasn1-modules>=0.2.1 in /Users/cole/miniconda/lib/python3.9/site-packages (from google-auth>=1.12.0->gspread>=3.0.0->gspread-formatting) (0.2.8)\n",
      "Requirement already satisfied: cachetools<6.0,>=2.0.0 in /Users/cole/miniconda/lib/python3.9/site-packages (from google-auth>=1.12.0->gspread>=3.0.0->gspread-formatting) (5.2.0)\n",
      "Requirement already satisfied: rsa<5,>=3.1.4 in /Users/cole/miniconda/lib/python3.9/site-packages (from google-auth>=1.12.0->gspread>=3.0.0->gspread-formatting) (4.9)\n",
      "Requirement already satisfied: six>=1.9.0 in /Users/cole/miniconda/lib/python3.9/site-packages (from google-auth>=1.12.0->gspread>=3.0.0->gspread-formatting) (1.16.0)\n",
      "Requirement already satisfied: requests-oauthlib>=0.7.0 in /Users/cole/miniconda/lib/python3.9/site-packages (from google-auth-oauthlib>=0.4.1->gspread>=3.0.0->gspread-formatting) (1.3.1)\n",
      "Requirement already satisfied: pyasn1<0.5.0,>=0.4.6 in /Users/cole/miniconda/lib/python3.9/site-packages (from pyasn1-modules>=0.2.1->google-auth>=1.12.0->gspread>=3.0.0->gspread-formatting) (0.4.8)\n",
      "Requirement already satisfied: requests>=2.0.0 in /Users/cole/miniconda/lib/python3.9/site-packages (from requests-oauthlib>=0.7.0->google-auth-oauthlib>=0.4.1->gspread>=3.0.0->gspread-formatting) (2.27.1)\n",
      "Requirement already satisfied: oauthlib>=3.0.0 in /Users/cole/miniconda/lib/python3.9/site-packages (from requests-oauthlib>=0.7.0->google-auth-oauthlib>=0.4.1->gspread>=3.0.0->gspread-formatting) (3.2.0)\n",
      "Requirement already satisfied: certifi>=2017.4.17 in /Users/cole/miniconda/lib/python3.9/site-packages (from requests>=2.0.0->requests-oauthlib>=0.7.0->google-auth-oauthlib>=0.4.1->gspread>=3.0.0->gspread-formatting) (2022.6.15)\n",
      "Requirement already satisfied: charset-normalizer~=2.0.0 in /Users/cole/miniconda/lib/python3.9/site-packages (from requests>=2.0.0->requests-oauthlib>=0.7.0->google-auth-oauthlib>=0.4.1->gspread>=3.0.0->gspread-formatting) (2.0.4)\n",
      "Requirement already satisfied: urllib3<1.27,>=1.21.1 in /Users/cole/miniconda/lib/python3.9/site-packages (from requests>=2.0.0->requests-oauthlib>=0.7.0->google-auth-oauthlib>=0.4.1->gspread>=3.0.0->gspread-formatting) (1.26.8)\n",
      "Requirement already satisfied: idna<4,>=2.5 in /Users/cole/miniconda/lib/python3.9/site-packages (from requests>=2.0.0->requests-oauthlib>=0.7.0->google-auth-oauthlib>=0.4.1->gspread>=3.0.0->gspread-formatting) (3.3)\n",
      "Note: you may need to restart the kernel to use updated packages.\n",
      "\u001b[31mERROR: Could not find a version that satisfies the requirement oauth2client.service_account (from versions: none)\u001b[0m\n",
      "\u001b[31mERROR: No matching distribution found for oauth2client.service_account\u001b[0m\n",
      "Note: you may need to restart the kernel to use updated packages.\n"
     ]
    }
   ],
   "source": [
    "# %pip install gspread\n",
    "# %pip install oauth2client\n",
    "# %pip install pandas\n",
    "# %pip install gspread-dataframe\n",
    "# %pip install gspread-formatting\n",
    "# %pip install oauth2client.service_account"
   ]
  },
  {
   "cell_type": "code",
   "execution_count": null,
   "metadata": {},
   "outputs": [],
   "source": []
  }
 ],
 "metadata": {
  "kernelspec": {
   "display_name": "Python 3.9.12",
   "language": "python",
   "name": "python3"
  },
  "language_info": {
   "codemirror_mode": {
    "name": "ipython",
    "version": 3
   },
   "file_extension": ".py",
   "mimetype": "text/x-python",
   "name": "python",
   "nbconvert_exporter": "python",
   "pygments_lexer": "ipython3",
   "version": "3.9.12"
  },
  "orig_nbformat": 4,
  "vscode": {
   "interpreter": {
    "hash": "4b761eb5024ab4ac738c2327b216794a1ed65570150954fe97adc852d4211d20"
   }
  }
 },
 "nbformat": 4,
 "nbformat_minor": 2
}
