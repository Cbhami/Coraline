{
 "cells": [
  {
   "cell_type": "markdown",
   "metadata": {},
   "source": [
    "%pip install pyqrcode"
   ]
  },
  {
   "cell_type": "code",
   "execution_count": 1,
   "metadata": {},
   "outputs": [],
   "source": [
    "#%pip install pypng"
   ]
  },
  {
   "cell_type": "code",
   "execution_count": 10,
   "metadata": {},
   "outputs": [],
   "source": [
    "\n",
    "# Import QRCode from pyqrcode\n",
    "import pyqrcode\n",
    "import png\n",
    "from pyqrcode import QRCode\n",
    "  \n",
    "  \n",
    "# String which represents the QR code\n",
    "s = \"www.geeksforgeeks.org\"\n",
    "  \n",
    "# Generate QR code\n",
    "url = pyqrcode.create(s)\n",
    "  \n",
    "# Create and save the svg file naming \"myqr.svg\"\n",
    "url.svg(\"myqr.svg\", scale = 8)\n",
    "  \n",
    "# Create and save the png file naming \"myqr.png\"\n",
    "url.png('myqr.png', scale = 6)"
   ]
  },
  {
   "cell_type": "code",
   "execution_count": null,
   "metadata": {},
   "outputs": [],
   "source": []
  }
 ],
 "metadata": {
  "kernelspec": {
   "display_name": "Python 3",
   "language": "python",
   "name": "python3"
  },
  "language_info": {
   "codemirror_mode": {
    "name": "ipython",
    "version": 3
   },
   "file_extension": ".py",
   "mimetype": "text/x-python",
   "name": "python",
   "nbconvert_exporter": "python",
   "pygments_lexer": "ipython3",
   "version": "3.11.0"
  },
  "orig_nbformat": 4,
  "vscode": {
   "interpreter": {
    "hash": "aee8b7b246df8f9039afb4144a1f6fd8d2ca17a180786b69acc140d282b71a49"
   }
  }
 },
 "nbformat": 4,
 "nbformat_minor": 2
}
