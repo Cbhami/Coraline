{
 "cells": [
  {
   "cell_type": "markdown",
   "metadata": {
    "id": "oBbsbRoH7U4W"
   },
   "source": [
    "# Personal Information"
   ]
  },
  {
   "cell_type": "markdown",
   "metadata": {
    "id": "Dn-UaWlXV44G"
   },
   "source": [
    "Cole B. Hamilton \n",
    "\n",
    "Senior Data Analyst \n",
    "\n",
    "San Antonio, TX \n",
    "\n",
    "cbhami02@louisville.edu\n",
    "\n",
    "www.linkedin.com/in/hamiltoncole/\n",
    "\n",
    "www.github.com/cbhami/Coraline/"
   ]
  },
  {
   "cell_type": "markdown",
   "metadata": {
    "id": "8A2eIC9OV_JZ"
   },
   "source": [
    "Self-driven professional with excellent writing skills with mastery in managing analysts, recruitment training, and agile team building in the United States Army. Flexible and devoted professional used to a fast-paced environment where problem-solving is crucial. Well-versed in using statistical and data analysis to identify underperforming areas and manage courses to increase junior members. Self starter with a passion for learning, exploring, and working on a team."
   ]
  },
  {
   "cell_type": "markdown",
   "metadata": {},
   "source": [
    "## *Resources*"
   ]
  },
  {
   "cell_type": "markdown",
   "metadata": {},
   "source": [
    "●\tComplete list of certifications found here: https://bit.ly/3Prq7g7\n",
    "\n",
    "●\tSelf-development data analytic courses found here: https://bit.ly/3w6ZeqK\n",
    "\n",
    "●\tGitHub portfolio: https://github.com/Cbhami/Coraline\n",
    "\n",
    "●\tPublished work: https://bit.ly/3NmK0nx \n"
   ]
  },
  {
   "cell_type": "markdown",
   "metadata": {
    "id": "wL2uQIqhWKKd"
   },
   "source": [
    "## *Skills* \n",
    "\n",
    "---\n"
   ]
  },
  {
   "cell_type": "markdown",
   "metadata": {
    "id": "61UfYdKOYKB9"
   },
   "source": [
    "●\tMaster in Agile Project Management, Human Resources, Leadership, and Staff Development.\n",
    " \n",
    "●\tHighly advanced skills in data cleaning, data visualization, and report construction. \n",
    "\n",
    "●\tExperienced in content design, virtual teaching, and development. Expert in MS Teams.\n",
    " \n",
    "●\tProficient in R, Python, M, DBA, and DAX programming languages.\n"
   ]
  },
  {
   "cell_type": "markdown",
   "metadata": {
    "id": "dpQTkK2uWasY"
   },
   "source": [
    "## *Professional Experience* \n",
    "\n",
    "---\n",
    "\n"
   ]
  },
  {
   "cell_type": "markdown",
   "metadata": {},
   "source": [
    "\n",
    "### ***Sergeants Major Academy Student - \t\t\t\t\tAug 2022 - Present*** \n",
    "\n",
    "---\n",
    "\n",
    "\n",
    "\n",
    "●\tStudent at the distinguished Sergeants Major Academy. Selected as one of sixty-five eligible Master Sergeants to attend the SGM-A and progress to earn the highest enlisted rank in the United States Army (E-9 / Sergeant Major)."
   ]
  },
  {
   "cell_type": "markdown",
   "metadata": {
    "id": "0ctMpg5FXw2v"
   },
   "source": [
    "\n",
    "### ***Senior Data Analyst - \t\t\t\t\tJuly 2020 - Aug 2022*** \n",
    "\n",
    "---\n",
    "\n",
    "\n",
    "\n",
    "●\tSenior Data Analyst for the largest regional headquarters within the United States Army Recruiting Command. Architected and maintained data analytics models, reports, and dashboards for senior leadership and regularly briefed trends and insights. \n",
    "\n",
    "●\tEnabled senior leaders to make data-driven decisions through statistical and strategic business analysis. Gathered insights from data sources and presented findings to senior leaders.\n",
    "\n",
    "●\tDesigned and facilitated analytical tools, primarily Power Bi, r Studio, and Microsoft Excel. Executed query scripts and established tools for a team of 2,400 business stakeholders to utilize and enable them to enlist over 17,000 Soldiers into the U.S. Army.\n",
    "\n",
    "●\tManages millions of data points using SQL and database connections to provide data analytics to senior Army leaders; improved production efficiencies and analytical skills across 250 recruiting stations.\n",
    "\n",
    "●\tTrained a staff of seven operations analysts and five training professionals to transform the regional headquarters in advanced Microsoft Excel and Power Bi report development. \n",
    "\n",
    "●\tEstablished the 8-page Mission Report - updated and published daily with code pulled from Open Database Connectivity through R, SQL, M, and DAX scripting languages. Articulated regular benchmark achievements and performance through presentations while articulating insights to senior leaders.\n",
    "\n",
    "●\tCollaborated with regional developers and data engineers to produce data road maps to develop over two-hundred successful business intelligence reports and products delivered to the general.\n",
    "\n"
   ]
  },
  {
   "cell_type": "markdown",
   "metadata": {
    "id": "JsegAN9eWwuW"
   },
   "source": [
    "## *Leadership and Training Management Experience* \n",
    "\n",
    "\n",
    "---"
   ]
  },
  {
   "cell_type": "markdown",
   "metadata": {
    "id": "W0aa3Ht5XALh"
   },
   "source": [
    "### ***District Recruiting Manager\t\t\t\t\t\t\tMay 2018 - July 2020*** \n",
    "\n",
    "---\n",
    "\n",
    "\n",
    "\n",
    "●\tServed as the Senior Enlisted Advisor facilitating one of three companies covering all enlisted accessions and officer commissioning in Iowa. Led a geographically dispersed team to contact, interview, and enlist over 400 new Soldiers into the U.S. Army.\n",
    "\n",
    "●\tAdvised the commander on briefings, public engagements, marketing opportunities, and onboarding processes for a team of 30 Soldiers. \n",
    "\n",
    "●\tUpskilled over 30 senior army leaders in business solutions and business decision making through managing annual evaluations, awards and commendations, counseling, and mentoring. \n",
    "\n",
    "●\tGenerated business insights through data exploration and business intelligence methods. Used data and business intelligence to train new team members and increase enlistments by 130% over a two-year period.\n",
    "\n"
   ]
  },
  {
   "cell_type": "markdown",
   "metadata": {
    "id": "TLxWgwDlZlKz"
   },
   "source": [
    "### ***Senior Noncommissioned Officer\t\t\t\t\tOctober 2004 - May 2018*** \n",
    "\n",
    "---\n",
    "\n",
    "\n",
    "\n",
    "●\tLed as a senior human resources manager focusing on technical teams and process improvements in Army recruiting methods for over 200 direct and indirect reports.\n",
    "\n",
    "●\tProven skills in executing tasks in a team environment and rise as a leader amongst peers.\n",
    "\n",
    "●\tSkilled, tactful, and adaptable leader who interacted with over 20 NATO, U.N., and DOD component installations and with 5 U.S. Embassies worldwide. Motivated a geographically dispersed team to collaborate and problem solve to achieve business requirements.\n",
    "\n",
    "●\tPerformed as a Paratrooper and Engineer with the 82nd Airborne Division in Operation Enduring and Operation Iraqi Freedom. \n",
    "\n",
    "●\tFormed and managed teams with diverse people through effective communication, conflict management, and social intelligence. Displayed skills in leadership and people management while planning special projects.\n",
    "\n"
   ]
  },
  {
   "cell_type": "markdown",
   "metadata": {
    "id": "6Xrmg2CjZ4aH"
   },
   "source": [
    "## *Education*"
   ]
  },
  {
   "cell_type": "markdown",
   "metadata": {
    "id": "ShcmdIgUaDMR"
   },
   "source": [
    "Graduate Certificate in Data Science (Est May 2023)\n",
    "\n",
    "- University of Louisville, KY\n",
    "\n",
    "Doctor of Philosophy, Human Resource Management (GPA 3.77) \n",
    "- Northcentral University, La Jolla, CA \n",
    "\n",
    "Master of Arts, Leadership and Management (GPA 3.5) \n",
    "- Liberty University, Lynchburg, VA \n",
    "\n",
    "Master of Business Administration in Finance (GPA 3.82) \n",
    "- Post University, Waterbury, CT \n"
   ]
  },
  {
   "cell_type": "markdown",
   "metadata": {
    "id": "oz_ThLrValyd"
   },
   "source": [
    "## *Top Certifications*"
   ]
  },
  {
   "cell_type": "markdown",
   "metadata": {
    "id": "JHPHCCYyazZc"
   },
   "source": [
    "SHRM-SCP Society for Human Resource Management – Senior Certified Professional\n",
    "\n",
    "PMI-DASSM Disciplined Agile Senior Scrum Master\n",
    "\n",
    "Lean Six Sigma Master Black Belt \n",
    "\n",
    "PL-300 Microsoft Power Bi Data Analyst Certification \n"
   ]
  },
  {
   "cell_type": "markdown",
   "metadata": {
    "id": "kc1LCzj2cIf1"
   },
   "source": [
    "### *Certification Tracker Link*"
   ]
  },
  {
   "cell_type": "code",
   "execution_count": 4,
   "metadata": {
    "colab": {
     "base_uri": "https://localhost:8080/",
     "height": 272
    },
    "executionInfo": {
     "elapsed": 634,
     "status": "ok",
     "timestamp": 1650701016614,
     "user": {
      "displayName": "",
      "userId": ""
     },
     "user_tz": 300
    },
    "id": "hgMVyoGVcUSV",
    "outputId": "dbcda459-bfc4-47ba-9696-8d5d9728e712"
   },
   "outputs": [
    {
     "data": {
      "text/html": [
       "<div>\n",
       "<style scoped>\n",
       "    .dataframe tbody tr th:only-of-type {\n",
       "        vertical-align: middle;\n",
       "    }\n",
       "\n",
       "    .dataframe tbody tr th {\n",
       "        vertical-align: top;\n",
       "    }\n",
       "\n",
       "    .dataframe thead th {\n",
       "        text-align: right;\n",
       "    }\n",
       "</style>\n",
       "<table border=\"1\" class=\"dataframe\">\n",
       "  <thead>\n",
       "    <tr style=\"text-align: right;\">\n",
       "      <th></th>\n",
       "      <th>My Certifications</th>\n",
       "      <th>Organization</th>\n",
       "      <th>Concentration</th>\n",
       "      <th>Skill 1</th>\n",
       "      <th>Skill 2</th>\n",
       "      <th>Organization URL</th>\n",
       "      <th>Type</th>\n",
       "      <th>START DATE</th>\n",
       "      <th>FINISH DATE</th>\n",
       "      <th>FINISH Date Goal</th>\n",
       "      <th>...</th>\n",
       "      <th>Exam/Training Cost</th>\n",
       "      <th>Exam Attempts</th>\n",
       "      <th>Total Costs</th>\n",
       "      <th>Funding Source</th>\n",
       "      <th>Additional Study Expenses</th>\n",
       "      <th>Best Study Resource</th>\n",
       "      <th>Personal Expenses</th>\n",
       "      <th>NOTES</th>\n",
       "      <th>Additional Study Resource</th>\n",
       "      <th>Additional Study Resource2</th>\n",
       "    </tr>\n",
       "  </thead>\n",
       "  <tbody>\n",
       "    <tr>\n",
       "      <th>2</th>\n",
       "      <td>Google Project Management</td>\n",
       "      <td>Google</td>\n",
       "      <td>Project Management</td>\n",
       "      <td>Project Management</td>\n",
       "      <td>NaN</td>\n",
       "      <td>https://www.coursera.org/learn/applying-projec...</td>\n",
       "      <td>Professional Certificate</td>\n",
       "      <td>11/1/2021</td>\n",
       "      <td>2022-05-12</td>\n",
       "      <td>4/1/2022</td>\n",
       "      <td>...</td>\n",
       "      <td>$300.00</td>\n",
       "      <td>1.0</td>\n",
       "      <td>$300.00</td>\n",
       "      <td>Vetjobs</td>\n",
       "      <td>NaN</td>\n",
       "      <td>NaN</td>\n",
       "      <td>NaN</td>\n",
       "      <td>NaN</td>\n",
       "      <td>NaN</td>\n",
       "      <td>NaN</td>\n",
       "    </tr>\n",
       "    <tr>\n",
       "      <th>3</th>\n",
       "      <td>IBM Data Science</td>\n",
       "      <td>IBM</td>\n",
       "      <td>Data Analysis</td>\n",
       "      <td>Python</td>\n",
       "      <td>Microsoft Excel</td>\n",
       "      <td>https://www.coursera.org/learn/machine-learnin...</td>\n",
       "      <td>Professional Certificate</td>\n",
       "      <td>10/1/2022</td>\n",
       "      <td>2022-05-06</td>\n",
       "      <td>7/1/2022</td>\n",
       "      <td>...</td>\n",
       "      <td>$300.00</td>\n",
       "      <td>1.0</td>\n",
       "      <td>$300.00</td>\n",
       "      <td>Vetjobs</td>\n",
       "      <td>NaN</td>\n",
       "      <td>NaN</td>\n",
       "      <td>NaN</td>\n",
       "      <td>NaN</td>\n",
       "      <td>NaN</td>\n",
       "      <td>NaN</td>\n",
       "    </tr>\n",
       "    <tr>\n",
       "      <th>4</th>\n",
       "      <td>PMI-DASSM</td>\n",
       "      <td>PMI</td>\n",
       "      <td>Agile</td>\n",
       "      <td>Agile</td>\n",
       "      <td>NaN</td>\n",
       "      <td>https://www.pmi.org/</td>\n",
       "      <td>Certification</td>\n",
       "      <td>2/26/2022</td>\n",
       "      <td>2022-04-09</td>\n",
       "      <td>5/1/2022</td>\n",
       "      <td>...</td>\n",
       "      <td>$270.00</td>\n",
       "      <td>1.0</td>\n",
       "      <td>$270.00</td>\n",
       "      <td>ArmyIgnited</td>\n",
       "      <td>NaN</td>\n",
       "      <td>NaN</td>\n",
       "      <td>NaN</td>\n",
       "      <td>ArmyIgnited Approval Pending 2/26</td>\n",
       "      <td>NaN</td>\n",
       "      <td>NaN</td>\n",
       "    </tr>\n",
       "    <tr>\n",
       "      <th>5</th>\n",
       "      <td>Azure Fundamentals</td>\n",
       "      <td>Microsoft</td>\n",
       "      <td>Azure</td>\n",
       "      <td>Microsoft Data Platforms</td>\n",
       "      <td>NaN</td>\n",
       "      <td>https://docs.microsoft.com/en-us/learn/</td>\n",
       "      <td>Certification</td>\n",
       "      <td>3/26/2022</td>\n",
       "      <td>2022-03-27</td>\n",
       "      <td>3/27/2022</td>\n",
       "      <td>...</td>\n",
       "      <td>$99.00</td>\n",
       "      <td>1.0</td>\n",
       "      <td>$99.00</td>\n",
       "      <td>ESI</td>\n",
       "      <td>NaN</td>\n",
       "      <td>NaN</td>\n",
       "      <td>NaN</td>\n",
       "      <td>NaN</td>\n",
       "      <td>NaN</td>\n",
       "      <td>NaN</td>\n",
       "    </tr>\n",
       "    <tr>\n",
       "      <th>6</th>\n",
       "      <td>Intermediate Data Analytics Certificate</td>\n",
       "      <td>University of South Carolina</td>\n",
       "      <td>Data Analysis</td>\n",
       "      <td>Power Bi</td>\n",
       "      <td>Microsoft Excel</td>\n",
       "      <td>https://armyeitaas.sharepoint-mil.us/teams/FCS...</td>\n",
       "      <td>Professional Certificate</td>\n",
       "      <td>3/14/2022</td>\n",
       "      <td>2022-03-25</td>\n",
       "      <td>3/25/2022</td>\n",
       "      <td>...</td>\n",
       "      <td>$6,000.00</td>\n",
       "      <td>1.0</td>\n",
       "      <td>$6,000.00</td>\n",
       "      <td>Proponent Funded</td>\n",
       "      <td>$-</td>\n",
       "      <td>NaN</td>\n",
       "      <td>NaN</td>\n",
       "      <td>Moved to virtual due to budget</td>\n",
       "      <td>NaN</td>\n",
       "      <td>NaN</td>\n",
       "    </tr>\n",
       "  </tbody>\n",
       "</table>\n",
       "<p>5 rows × 24 columns</p>\n",
       "</div>"
      ],
      "text/plain": [
       "                         My Certifications                  Organization  \\\n",
       "2                Google Project Management                        Google   \n",
       "3                         IBM Data Science                           IBM   \n",
       "4                                PMI-DASSM                           PMI   \n",
       "5                       Azure Fundamentals                    Microsoft    \n",
       "6  Intermediate Data Analytics Certificate  University of South Carolina   \n",
       "\n",
       "        Concentration                   Skill 1          Skill 2  \\\n",
       "2  Project Management        Project Management              NaN   \n",
       "3       Data Analysis                    Python  Microsoft Excel   \n",
       "4               Agile                     Agile              NaN   \n",
       "5               Azure  Microsoft Data Platforms              NaN   \n",
       "6       Data Analysis                  Power Bi  Microsoft Excel   \n",
       "\n",
       "                                    Organization URL  \\\n",
       "2  https://www.coursera.org/learn/applying-projec...   \n",
       "3  https://www.coursera.org/learn/machine-learnin...   \n",
       "4                               https://www.pmi.org/   \n",
       "5            https://docs.microsoft.com/en-us/learn/   \n",
       "6  https://armyeitaas.sharepoint-mil.us/teams/FCS...   \n",
       "\n",
       "                       Type START DATE FINISH DATE FINISH Date Goal  ...  \\\n",
       "2  Professional Certificate  11/1/2021  2022-05-12         4/1/2022  ...   \n",
       "3  Professional Certificate  10/1/2022  2022-05-06         7/1/2022  ...   \n",
       "4             Certification  2/26/2022  2022-04-09         5/1/2022  ...   \n",
       "5             Certification  3/26/2022  2022-03-27        3/27/2022  ...   \n",
       "6  Professional Certificate  3/14/2022  2022-03-25        3/25/2022  ...   \n",
       "\n",
       "  Exam/Training Cost Exam Attempts  Total Costs    Funding Source  \\\n",
       "2           $300.00            1.0     $300.00            Vetjobs   \n",
       "3           $300.00            1.0     $300.00            Vetjobs   \n",
       "4           $270.00            1.0     $270.00        ArmyIgnited   \n",
       "5            $99.00            1.0      $99.00                ESI   \n",
       "6         $6,000.00            1.0   $6,000.00   Proponent Funded   \n",
       "\n",
       "  Additional Study Expenses  Best Study Resource Personal Expenses  \\\n",
       "2                       NaN                  NaN               NaN   \n",
       "3                       NaN                  NaN               NaN   \n",
       "4                       NaN                  NaN               NaN   \n",
       "5                       NaN                  NaN               NaN   \n",
       "6                     $-                     NaN               NaN   \n",
       "\n",
       "                               NOTES Additional Study Resource  \\\n",
       "2                                NaN                       NaN   \n",
       "3                                NaN                       NaN   \n",
       "4  ArmyIgnited Approval Pending 2/26                       NaN   \n",
       "5                                NaN                       NaN   \n",
       "6     Moved to virtual due to budget                       NaN   \n",
       "\n",
       "  Additional Study Resource2  \n",
       "2                        NaN  \n",
       "3                        NaN  \n",
       "4                        NaN  \n",
       "5                        NaN  \n",
       "6                        NaN  \n",
       "\n",
       "[5 rows x 24 columns]"
      ]
     },
     "execution_count": 4,
     "metadata": {},
     "output_type": "execute_result"
    }
   ],
   "source": [
    "import pandas as pd\n",
    "import warnings\n",
    "def warn(*args, **kwargs):\n",
    "    pass\n",
    "warnings.warn = warn\n",
    "df = pd.read_csv('https://raw.githubusercontent.com/Cbhami/Coraline/master/Resume%20Resources/Certifications/Certification%20Tracker%20Public.csv')\n",
    "df.fillna(0)\n",
    "df = df.rename(columns=lambda x: x.strip())\n",
    "df = pd.DataFrame(df)\n",
    "df1 = df.iloc[0:37, :]\n",
    "df1['FINISH DATE'] = pd.to_datetime(df['FINISH DATE'])\n",
    "#df1.dropna(inplace=True)\n",
    "#df1 = df1.astype(str) #convert back to string format to remove date.time and just keep the date\n",
    "df1.sort_values(by='FINISH DATE', inplace = True, ascending=False)\n",
    "df1.dropna(subset=['FINISH DATE', 'FINISH DATE'], inplace=True)\n",
    "df1.head()"
   ]
  },
  {
   "cell_type": "code",
   "execution_count": 5,
   "metadata": {},
   "outputs": [],
   "source": [
    "df1['Exam/Training Cost'] = df1['Exam/Training Cost'].str.replace('$','')\n",
    "df1['Exam/Training Cost'] = df1['Exam/Training Cost'].str.replace(',','')\n",
    "df1['Exam/Training Cost'] = df1['Exam/Training Cost'].str.replace('-','')\n",
    "df1['Exam/Training Cost'] = df1['Exam/Training Cost'].str.strip()\n",
    "df1['Exam/Training Cost'] = pd.to_numeric(df1['Exam/Training Cost'])"
   ]
  },
  {
   "cell_type": "code",
   "execution_count": 6,
   "metadata": {},
   "outputs": [
    {
     "data": {
      "text/html": [
       "<div>\n",
       "<style scoped>\n",
       "    .dataframe tbody tr th:only-of-type {\n",
       "        vertical-align: middle;\n",
       "    }\n",
       "\n",
       "    .dataframe tbody tr th {\n",
       "        vertical-align: top;\n",
       "    }\n",
       "\n",
       "    .dataframe thead th {\n",
       "        text-align: right;\n",
       "    }\n",
       "</style>\n",
       "<table border=\"1\" class=\"dataframe\">\n",
       "  <thead>\n",
       "    <tr style=\"text-align: right;\">\n",
       "      <th></th>\n",
       "      <th>My Certifications</th>\n",
       "      <th>Organization</th>\n",
       "      <th>Concentration</th>\n",
       "      <th>Skill 1</th>\n",
       "      <th>Skill 2</th>\n",
       "      <th>Organization URL</th>\n",
       "      <th>Type</th>\n",
       "      <th>START DATE</th>\n",
       "      <th>FINISH DATE</th>\n",
       "      <th>FINISH Date Goal</th>\n",
       "      <th>...</th>\n",
       "      <th>Exam/Training Cost</th>\n",
       "      <th>Exam Attempts</th>\n",
       "      <th>Total Costs</th>\n",
       "      <th>Funding Source</th>\n",
       "      <th>Additional Study Expenses</th>\n",
       "      <th>Best Study Resource</th>\n",
       "      <th>Personal Expenses</th>\n",
       "      <th>NOTES</th>\n",
       "      <th>Additional Study Resource</th>\n",
       "      <th>Additional Study Resource2</th>\n",
       "    </tr>\n",
       "  </thead>\n",
       "  <tbody>\n",
       "    <tr>\n",
       "      <th>2</th>\n",
       "      <td>Google Project Management</td>\n",
       "      <td>Google</td>\n",
       "      <td>Project Management</td>\n",
       "      <td>Project Management</td>\n",
       "      <td>NaN</td>\n",
       "      <td>https://www.coursera.org/learn/applying-projec...</td>\n",
       "      <td>Professional Certificate</td>\n",
       "      <td>11/1/2021</td>\n",
       "      <td>2022-05-12</td>\n",
       "      <td>4/1/2022</td>\n",
       "      <td>...</td>\n",
       "      <td>300.0</td>\n",
       "      <td>1.0</td>\n",
       "      <td>$300.00</td>\n",
       "      <td>Vetjobs</td>\n",
       "      <td>NaN</td>\n",
       "      <td>NaN</td>\n",
       "      <td>NaN</td>\n",
       "      <td>NaN</td>\n",
       "      <td>NaN</td>\n",
       "      <td>NaN</td>\n",
       "    </tr>\n",
       "  </tbody>\n",
       "</table>\n",
       "<p>1 rows × 24 columns</p>\n",
       "</div>"
      ],
      "text/plain": [
       "           My Certifications Organization       Concentration  \\\n",
       "2  Google Project Management       Google  Project Management   \n",
       "\n",
       "              Skill 1 Skill 2  \\\n",
       "2  Project Management     NaN   \n",
       "\n",
       "                                    Organization URL  \\\n",
       "2  https://www.coursera.org/learn/applying-projec...   \n",
       "\n",
       "                       Type START DATE FINISH DATE FINISH Date Goal  ...  \\\n",
       "2  Professional Certificate  11/1/2021  2022-05-12         4/1/2022  ...   \n",
       "\n",
       "  Exam/Training Cost Exam Attempts Total Costs Funding Source  \\\n",
       "2              300.0           1.0    $300.00         Vetjobs   \n",
       "\n",
       "   Additional Study Expenses  Best Study Resource Personal Expenses NOTES  \\\n",
       "2                        NaN                  NaN               NaN   NaN   \n",
       "\n",
       "  Additional Study Resource Additional Study Resource2  \n",
       "2                       NaN                        NaN  \n",
       "\n",
       "[1 rows x 24 columns]"
      ]
     },
     "execution_count": 6,
     "metadata": {},
     "output_type": "execute_result"
    }
   ],
   "source": [
    "df1.head(1)"
   ]
  },
  {
   "cell_type": "code",
   "execution_count": 8,
   "metadata": {
    "colab": {
     "base_uri": "https://localhost:8080/",
     "height": 38
    },
    "executionInfo": {
     "elapsed": 167,
     "status": "ok",
     "timestamp": 1650701029145,
     "user": {
      "displayName": "",
      "userId": ""
     },
     "user_tz": 300
    },
    "id": "cHHf45n4jPrU",
    "outputId": "0e4575ef-9b47-4d52-8516-804c043a0285"
   },
   "outputs": [
    {
     "data": {
      "text/plain": [
       "Timestamp('2022-04-09 00:00:00')"
      ]
     },
     "execution_count": 8,
     "metadata": {},
     "output_type": "execute_result"
    }
   ],
   "source": [
    "Certlist = [] #create my empty list\n",
    "Certdate = [] #create my empty list\n",
    "Certcount = []\n",
    "for a in df1['My Certifications']:\n",
    "  Certlist.append(a)\n",
    "for b in df1['FINISH DATE']:\n",
    "  Certdate.append(b)\n",
    "for c in df1['Concentration']:\n",
    "  Certcount.append(c)\n",
    "\n",
    "Cert_dict = dict(zip(Certlist, Certdate)) #Here is my dictionary of certifications\n",
    "#print(Cert_dict)\n",
    "Cert_dict.get('PMI-DASSM')"
   ]
  },
  {
   "cell_type": "code",
   "execution_count": 9,
   "metadata": {},
   "outputs": [
    {
     "name": "stdout",
     "output_type": "stream",
     "text": [
      "{2: 'Project Management', 3: 'Data Analysis', 4: 'Agile', 5: 'Azure', 6: 'Data Analysis', 7: 'Agile', 8: 'Lean Six Sigma', 9: 'Lean Six Sigma', 10: 'Agile', 11: 'Microsoft Excel', 12: 'Microsoft Excel', 13: 'Microsoft Excel', 14: 'Microsoft Excel', 15: 'Human Resources ', 16: 'Data Analysis', 17: 'Data Analysis', 18: 'Data Analysis', 19: 'Microsoft Excel', 20: 'Data Analysis', 21: 'Azure', 22: 'Microsoft Excel', 23: 'Training', 24: 'Microsoft Power Platforms', 25: 'Lean Six Sigma', 26: 'Lean Six Sigma', 27: 'Microsoft Teams', 28: 'Microsoft Office ', 29: 'Human Resources '}\n"
     ]
    }
   ],
   "source": [
    "con_dict = df1['Concentration'].to_dict()\n",
    "print(con_dict)"
   ]
  },
  {
   "cell_type": "code",
   "execution_count": 4,
   "metadata": {},
   "outputs": [
    {
     "data": {
      "text/plain": [
       "Text(0.5, 1.0, 'Count by Concentration')"
      ]
     },
     "execution_count": 4,
     "metadata": {},
     "output_type": "execute_result"
    },
    {
     "data": {
      "image/png": "[encoded data removed]",
      "text/plain": [
       "<Figure size 1000x500 with 1 Axes>"
      ]
     },
     "metadata": {
      "image/png": {
       "height": 612,
       "width": 853
      }
     },
     "output_type": "display_data"
    }
   ],
   "source": [
    "import matplotlib.pyplot as plt\n",
    "import seaborn as sns\n",
    "sns.set()\n",
    "fig = plt.figure(figsize=(10, 5))\n",
    "plt.hist(df1['Concentration'], width = 0.4)\n",
    "plt.xticks(rotation = 45)\n",
    "plt.xlabel(\"Concentration\")\n",
    "plt.ylabel(\"Count\")\n",
    "plt.title(\"Count by Concentration\")"
   ]
  },
  {
   "cell_type": "code",
   "execution_count": 10,
   "metadata": {
    "colab": {
     "base_uri": "https://localhost:8080/",
     "height": 542
    },
    "executionInfo": {
     "elapsed": 155,
     "status": "ok",
     "timestamp": 1650701041456,
     "user": {
      "displayName": "",
      "userId": ""
     },
     "user_tz": 300
    },
    "id": "FAoXLqQzcChN",
    "outputId": "2bc3ba4f-0bf3-42f6-dda8-62cb6e3ad6ff"
   },
   "outputs": [
    {
     "data": {
      "image/png": "[encoded data removed]",
      "text/plain": [
       "<Figure size 720x360 with 1 Axes>"
      ]
     },
     "metadata": {
      "needs_background": "light"
     },
     "output_type": "display_data"
    }
   ],
   "source": [
    "import numpy as np\n",
    "import matplotlib.pyplot as plt\n",
    "data = df1['Organization']\n",
    "cost = df1['Exam/Training Cost']\n",
    "fig = plt.figure(figsize = (10, 5))\n",
    "plt.bar(data, cost, color ='maroon',\n",
    "        width = 0.4)\n",
    "plt.xlabel(\"Organization\")\n",
    "plt.ylabel(\"Cost\")\n",
    "plt.title(\"Cost by Organization\")\n",
    "plt.tick_params(axis='x', rotation=45)\n",
    "plt.show()"
   ]
  },
  {
   "cell_type": "code",
   "execution_count": 11,
   "metadata": {
    "id": "OIlMbfoncChO",
    "outputId": "3c254701-7888-4c70-ee6d-95ae9b9867cb"
   },
   "outputs": [
    {
     "data": {
      "application/vnd.plotly.v1+json": {
       "config": {
        "plotlyServerURL": "https://plot.ly"
       },
       "data": [
        {
         "alignmentgroup": "True",
         "hovertemplate": "Skill=%{x}<br>count=%{y}<extra></extra>",
         "legendgroup": "",
         "marker": {
          "color": "#636efa",
          "pattern": {
           "shape": ""
          }
         },
         "name": "",
         "offsetgroup": "",
         "orientation": "v",
         "showlegend": false,
         "textposition": "auto",
         "type": "bar",
         "x": [
          "Project Management",
          "Python",
          "Agile",
          "Microsoft Data Platforms",
          "Power Bi",
          "Agile",
          "Lean Six Sigma",
          "Lean Six Sigma",
          "Agile",
          "Microsoft Excel",
          "Microsoft Excel",
          "Microsoft Excel",
          "Microsoft Excel",
          "Human Resources",
          "Python",
          "R",
          "R",
          "Microsoft Excel",
          "Power Bi",
          "Microsoft Data Platforms",
          "Microsoft Excel",
          "Training",
          "Microsoft Power Platforms",
          "Lean Six Sigma",
          "Lean Six Sigma",
          "Microsoft Teams",
          "Microsoft Office",
          "Human Resources"
         ],
         "xaxis": "x",
         "y": [
          1,
          1,
          1,
          1,
          1,
          1,
          1,
          1,
          1,
          1,
          1,
          1,
          1,
          1,
          1,
          1,
          1,
          1,
          1,
          1,
          1,
          1,
          1,
          1,
          1,
          1,
          1,
          1
         ],
         "yaxis": "y"
        }
       ],
       "layout": {
        "barmode": "relative",
        "legend": {
         "tracegroupgap": 0
        },
        "margin": {
         "t": 60
        },
        "template": {
         "data": {
          "bar": [
           {
            "error_x": {
             "color": "#2a3f5f"
            },
            "error_y": {
             "color": "#2a3f5f"
            },
            "marker": {
             "line": {
              "color": "#E5ECF6",
              "width": 0.5
             },
             "pattern": {
              "fillmode": "overlay",
              "size": 10,
              "solidity": 0.2
             }
            },
            "type": "bar"
           }
          ],
          "barpolar": [
           {
            "marker": {
             "line": {
              "color": "#E5ECF6",
              "width": 0.5
             },
             "pattern": {
              "fillmode": "overlay",
              "size": 10,
              "solidity": 0.2
             }
            },
            "type": "barpolar"
           }
          ],
          "carpet": [
           {
            "aaxis": {
             "endlinecolor": "#2a3f5f",
             "gridcolor": "white",
             "linecolor": "white",
             "minorgridcolor": "white",
             "startlinecolor": "#2a3f5f"
            },
            "baxis": {
             "endlinecolor": "#2a3f5f",
             "gridcolor": "white",
             "linecolor": "white",
             "minorgridcolor": "white",
             "startlinecolor": "#2a3f5f"
            },
            "type": "carpet"
           }
          ],
          "choropleth": [
           {
            "colorbar": {
             "outlinewidth": 0,
             "ticks": ""
            },
            "type": "choropleth"
           }
          ],
          "contour": [
           {
            "colorbar": {
             "outlinewidth": 0,
             "ticks": ""
            },
            "colorscale": [
             [
              0,
              "#0d0887"
             ],
             [
              0.1111111111111111,
              "#46039f"
             ],
             [
              0.2222222222222222,
              "#7201a8"
             ],
             [
              0.3333333333333333,
              "#9c179e"
             ],
             [
              0.4444444444444444,
              "#bd3786"
             ],
             [
              0.5555555555555556,
              "#d8576b"
             ],
             [
              0.6666666666666666,
              "#ed7953"
             ],
             [
              0.7777777777777778,
              "#fb9f3a"
             ],
             [
              0.8888888888888888,
              "#fdca26"
             ],
             [
              1,
              "#f0f921"
             ]
            ],
            "type": "contour"
           }
          ],
          "contourcarpet": [
           {
            "colorbar": {
             "outlinewidth": 0,
             "ticks": ""
            },
            "type": "contourcarpet"
           }
          ],
          "heatmap": [
           {
            "colorbar": {
             "outlinewidth": 0,
             "ticks": ""
            },
            "colorscale": [
             [
              0,
              "#0d0887"
             ],
             [
              0.1111111111111111,
              "#46039f"
             ],
             [
              0.2222222222222222,
              "#7201a8"
             ],
             [
              0.3333333333333333,
              "#9c179e"
             ],
             [
              0.4444444444444444,
              "#bd3786"
             ],
             [
              0.5555555555555556,
              "#d8576b"
             ],
             [
              0.6666666666666666,
              "#ed7953"
             ],
             [
              0.7777777777777778,
              "#fb9f3a"
             ],
             [
              0.8888888888888888,
              "#fdca26"
             ],
             [
              1,
              "#f0f921"
             ]
            ],
            "type": "heatmap"
           }
          ],
          "heatmapgl": [
           {
            "colorbar": {
             "outlinewidth": 0,
             "ticks": ""
            },
            "colorscale": [
             [
              0,
              "#0d0887"
             ],
             [
              0.1111111111111111,
              "#46039f"
             ],
             [
              0.2222222222222222,
              "#7201a8"
             ],
             [
              0.3333333333333333,
              "#9c179e"
             ],
             [
              0.4444444444444444,
              "#bd3786"
             ],
             [
              0.5555555555555556,
              "#d8576b"
             ],
             [
              0.6666666666666666,
              "#ed7953"
             ],
             [
              0.7777777777777778,
              "#fb9f3a"
             ],
             [
              0.8888888888888888,
              "#fdca26"
             ],
             [
              1,
              "#f0f921"
             ]
            ],
            "type": "heatmapgl"
           }
          ],
          "histogram": [
           {
            "marker": {
             "pattern": {
              "fillmode": "overlay",
              "size": 10,
              "solidity": 0.2
             }
            },
            "type": "histogram"
           }
          ],
          "histogram2d": [
           {
            "colorbar": {
             "outlinewidth": 0,
             "ticks": ""
            },
            "colorscale": [
             [
              0,
              "#0d0887"
             ],
             [
              0.1111111111111111,
              "#46039f"
             ],
             [
              0.2222222222222222,
              "#7201a8"
             ],
             [
              0.3333333333333333,
              "#9c179e"
             ],
             [
              0.4444444444444444,
              "#bd3786"
             ],
             [
              0.5555555555555556,
              "#d8576b"
             ],
             [
              0.6666666666666666,
              "#ed7953"
             ],
             [
              0.7777777777777778,
              "#fb9f3a"
             ],
             [
              0.8888888888888888,
              "#fdca26"
             ],
             [
              1,
              "#f0f921"
             ]
            ],
            "type": "histogram2d"
           }
          ],
          "histogram2dcontour": [
           {
            "colorbar": {
             "outlinewidth": 0,
             "ticks": ""
            },
            "colorscale": [
             [
              0,
              "#0d0887"
             ],
             [
              0.1111111111111111,
              "#46039f"
             ],
             [
              0.2222222222222222,
              "#7201a8"
             ],
             [
              0.3333333333333333,
              "#9c179e"
             ],
             [
              0.4444444444444444,
              "#bd3786"
             ],
             [
              0.5555555555555556,
              "#d8576b"
             ],
             [
              0.6666666666666666,
              "#ed7953"
             ],
             [
              0.7777777777777778,
              "#fb9f3a"
             ],
             [
              0.8888888888888888,
              "#fdca26"
             ],
             [
              1,
              "#f0f921"
             ]
            ],
            "type": "histogram2dcontour"
           }
          ],
          "mesh3d": [
           {
            "colorbar": {
             "outlinewidth": 0,
             "ticks": ""
            },
            "type": "mesh3d"
           }
          ],
          "parcoords": [
           {
            "line": {
             "colorbar": {
              "outlinewidth": 0,
              "ticks": ""
             }
            },
            "type": "parcoords"
           }
          ],
          "pie": [
           {
            "automargin": true,
            "type": "pie"
           }
          ],
          "scatter": [
           {
            "marker": {
             "colorbar": {
              "outlinewidth": 0,
              "ticks": ""
             }
            },
            "type": "scatter"
           }
          ],
          "scatter3d": [
           {
            "line": {
             "colorbar": {
              "outlinewidth": 0,
              "ticks": ""
             }
            },
            "marker": {
             "colorbar": {
              "outlinewidth": 0,
              "ticks": ""
             }
            },
            "type": "scatter3d"
           }
          ],
          "scattercarpet": [
           {
            "marker": {
             "colorbar": {
              "outlinewidth": 0,
              "ticks": ""
             }
            },
            "type": "scattercarpet"
           }
          ],
          "scattergeo": [
           {
            "marker": {
             "colorbar": {
              "outlinewidth": 0,
              "ticks": ""
             }
            },
            "type": "scattergeo"
           }
          ],
          "scattergl": [
           {
            "marker": {
             "colorbar": {
              "outlinewidth": 0,
              "ticks": ""
             }
            },
            "type": "scattergl"
           }
          ],
          "scattermapbox": [
           {
            "marker": {
             "colorbar": {
              "outlinewidth": 0,
              "ticks": ""
             }
            },
            "type": "scattermapbox"
           }
          ],
          "scatterpolar": [
           {
            "marker": {
             "colorbar": {
              "outlinewidth": 0,
              "ticks": ""
             }
            },
            "type": "scatterpolar"
           }
          ],
          "scatterpolargl": [
           {
            "marker": {
             "colorbar": {
              "outlinewidth": 0,
              "ticks": ""
             }
            },
            "type": "scatterpolargl"
           }
          ],
          "scatterternary": [
           {
            "marker": {
             "colorbar": {
              "outlinewidth": 0,
              "ticks": ""
             }
            },
            "type": "scatterternary"
           }
          ],
          "surface": [
           {
            "colorbar": {
             "outlinewidth": 0,
             "ticks": ""
            },
            "colorscale": [
             [
              0,
              "#0d0887"
             ],
             [
              0.1111111111111111,
              "#46039f"
             ],
             [
              0.2222222222222222,
              "#7201a8"
             ],
             [
              0.3333333333333333,
              "#9c179e"
             ],
             [
              0.4444444444444444,
              "#bd3786"
             ],
             [
              0.5555555555555556,
              "#d8576b"
             ],
             [
              0.6666666666666666,
              "#ed7953"
             ],
             [
              0.7777777777777778,
              "#fb9f3a"
             ],
             [
              0.8888888888888888,
              "#fdca26"
             ],
             [
              1,
              "#f0f921"
             ]
            ],
            "type": "surface"
           }
          ],
          "table": [
           {
            "cells": {
             "fill": {
              "color": "#EBF0F8"
             },
             "line": {
              "color": "white"
             }
            },
            "header": {
             "fill": {
              "color": "#C8D4E3"
             },
             "line": {
              "color": "white"
             }
            },
            "type": "table"
           }
          ]
         },
         "layout": {
          "annotationdefaults": {
           "arrowcolor": "#2a3f5f",
           "arrowhead": 0,
           "arrowwidth": 1
          },
          "autotypenumbers": "strict",
          "coloraxis": {
           "colorbar": {
            "outlinewidth": 0,
            "ticks": ""
           }
          },
          "colorscale": {
           "diverging": [
            [
             0,
             "#8e0152"
            ],
            [
             0.1,
             "#c51b7d"
            ],
            [
             0.2,
             "#de77ae"
            ],
            [
             0.3,
             "#f1b6da"
            ],
            [
             0.4,
             "#fde0ef"
            ],
            [
             0.5,
             "#f7f7f7"
            ],
            [
             0.6,
             "#e6f5d0"
            ],
            [
             0.7,
             "#b8e186"
            ],
            [
             0.8,
             "#7fbc41"
            ],
            [
             0.9,
             "#4d9221"
            ],
            [
             1,
             "#276419"
            ]
           ],
           "sequential": [
            [
             0,
             "#0d0887"
            ],
            [
             0.1111111111111111,
             "#46039f"
            ],
            [
             0.2222222222222222,
             "#7201a8"
            ],
            [
             0.3333333333333333,
             "#9c179e"
            ],
            [
             0.4444444444444444,
             "#bd3786"
            ],
            [
             0.5555555555555556,
             "#d8576b"
            ],
            [
             0.6666666666666666,
             "#ed7953"
            ],
            [
             0.7777777777777778,
             "#fb9f3a"
            ],
            [
             0.8888888888888888,
             "#fdca26"
            ],
            [
             1,
             "#f0f921"
            ]
           ],
           "sequentialminus": [
            [
             0,
             "#0d0887"
            ],
            [
             0.1111111111111111,
             "#46039f"
            ],
            [
             0.2222222222222222,
             "#7201a8"
            ],
            [
             0.3333333333333333,
             "#9c179e"
            ],
            [
             0.4444444444444444,
             "#bd3786"
            ],
            [
             0.5555555555555556,
             "#d8576b"
            ],
            [
             0.6666666666666666,
             "#ed7953"
            ],
            [
             0.7777777777777778,
             "#fb9f3a"
            ],
            [
             0.8888888888888888,
             "#fdca26"
            ],
            [
             1,
             "#f0f921"
            ]
           ]
          },
          "colorway": [
           "#636efa",
           "#EF553B",
           "#00cc96",
           "#ab63fa",
           "#FFA15A",
           "#19d3f3",
           "#FF6692",
           "#B6E880",
           "#FF97FF",
           "#FECB52"
          ],
          "font": {
           "color": "#2a3f5f"
          },
          "geo": {
           "bgcolor": "white",
           "lakecolor": "white",
           "landcolor": "#E5ECF6",
           "showlakes": true,
           "showland": true,
           "subunitcolor": "white"
          },
          "hoverlabel": {
           "align": "left"
          },
          "hovermode": "closest",
          "mapbox": {
           "style": "light"
          },
          "paper_bgcolor": "white",
          "plot_bgcolor": "#E5ECF6",
          "polar": {
           "angularaxis": {
            "gridcolor": "white",
            "linecolor": "white",
            "ticks": ""
           },
           "bgcolor": "#E5ECF6",
           "radialaxis": {
            "gridcolor": "white",
            "linecolor": "white",
            "ticks": ""
           }
          },
          "scene": {
           "xaxis": {
            "backgroundcolor": "#E5ECF6",
            "gridcolor": "white",
            "gridwidth": 2,
            "linecolor": "white",
            "showbackground": true,
            "ticks": "",
            "zerolinecolor": "white"
           },
           "yaxis": {
            "backgroundcolor": "#E5ECF6",
            "gridcolor": "white",
            "gridwidth": 2,
            "linecolor": "white",
            "showbackground": true,
            "ticks": "",
            "zerolinecolor": "white"
           },
           "zaxis": {
            "backgroundcolor": "#E5ECF6",
            "gridcolor": "white",
            "gridwidth": 2,
            "linecolor": "white",
            "showbackground": true,
            "ticks": "",
            "zerolinecolor": "white"
           }
          },
          "shapedefaults": {
           "line": {
            "color": "#2a3f5f"
           }
          },
          "ternary": {
           "aaxis": {
            "gridcolor": "white",
            "linecolor": "white",
            "ticks": ""
           },
           "baxis": {
            "gridcolor": "white",
            "linecolor": "white",
            "ticks": ""
           },
           "bgcolor": "#E5ECF6",
           "caxis": {
            "gridcolor": "white",
            "linecolor": "white",
            "ticks": ""
           }
          },
          "title": {
           "x": 0.05
          },
          "xaxis": {
           "automargin": true,
           "gridcolor": "white",
           "linecolor": "white",
           "ticks": "",
           "title": {
            "standoff": 15
           },
           "zerolinecolor": "white",
           "zerolinewidth": 2
          },
          "yaxis": {
           "automargin": true,
           "gridcolor": "white",
           "linecolor": "white",
           "ticks": "",
           "title": {
            "standoff": 15
           },
           "zerolinecolor": "white",
           "zerolinewidth": 2
          }
         }
        },
        "xaxis": {
         "anchor": "y",
         "domain": [
          0,
          1
         ],
         "title": {
          "text": "Skill"
         },
         "type": "category"
        },
        "yaxis": {
         "anchor": "x",
         "domain": [
          0,
          1
         ],
         "title": {
          "text": "count"
         }
        }
       }
      }
     },
     "metadata": {},
     "output_type": "display_data"
    }
   ],
   "source": [
    "#%pip install plotly\n",
    "import plotly.express as px\n",
    "\n",
    "fig = px.bar(\n",
    "    x = df1['Skill 1'],\n",
    "    labels=dict(\n",
    "    x=\"Skill\",\n",
    "    y=\"Count\")\n",
    ")\n",
    "fig.update_xaxes(type='category')\n",
    "fig.show()"
   ]
  }
 ],
 "metadata": {
  "accelerator": "GPU",
  "colab": {
   "name": "Copy of Cole's Resume.ipynb",
   "provenance": [
    {
     "file_id": "https://github.com/Cbhami/Coraline/blob/main/Cole's_Resume.ipynb",
     "timestamp": 1650701252166
    }
   ]
  },
  "interpreter": {
   "hash": "9f357b62676163e453d3996bd7a23625b1faadc1b4915e4cbea894e22b2eb803"
  },
  "kernelspec": {
   "display_name": "Python 3",
   "language": "python",
   "name": "python3"
  },
  "language_info": {
   "codemirror_mode": {
    "name": "ipython",
    "version": 3
   },
   "file_extension": ".py",
   "mimetype": "text/x-python",
   "name": "python",
   "nbconvert_exporter": "python",
   "pygments_lexer": "ipython3",
   "version": "3.9.7"
  }
 },
 "nbformat": 4,
 "nbformat_minor": 4
}
