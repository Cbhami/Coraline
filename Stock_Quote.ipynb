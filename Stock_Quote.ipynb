{
 "cells": [
  {
   "cell_type": "code",
   "execution_count": 1,
   "metadata": {},
   "outputs": [
    {
     "name": "stdout",
     "output_type": "stream",
     "text": [
      "Requirement already satisfied: beautifulsoup4 in /Users/cole/miniconda/lib/python3.9/site-packages (4.11.1)\n",
      "Requirement already satisfied: soupsieve>1.2 in /Users/cole/miniconda/lib/python3.9/site-packages (from beautifulsoup4) (2.3.2.post1)\n",
      "Note: you may need to restart the kernel to use updated packages.\n"
     ]
    }
   ],
   "source": [
    "%pip install beautifulsoup4"
   ]
  },
  {
   "cell_type": "code",
   "execution_count": 2,
   "metadata": {},
   "outputs": [
    {
     "data": {
      "text/html": [
       "<div>\n",
       "<style scoped>\n",
       "    .dataframe tbody tr th:only-of-type {\n",
       "        vertical-align: middle;\n",
       "    }\n",
       "\n",
       "    .dataframe tbody tr th {\n",
       "        vertical-align: top;\n",
       "    }\n",
       "\n",
       "    .dataframe thead th {\n",
       "        text-align: right;\n",
       "    }\n",
       "</style>\n",
       "<table border=\"1\" class=\"dataframe\">\n",
       "  <thead>\n",
       "    <tr style=\"text-align: right;\">\n",
       "      <th></th>\n",
       "      <th>Open</th>\n",
       "      <th>High</th>\n",
       "      <th>Low</th>\n",
       "      <th>Close</th>\n",
       "      <th>Volume</th>\n",
       "      <th>Dividends</th>\n",
       "      <th>Stock Splits</th>\n",
       "    </tr>\n",
       "    <tr>\n",
       "      <th>Date</th>\n",
       "      <th></th>\n",
       "      <th></th>\n",
       "      <th></th>\n",
       "      <th></th>\n",
       "      <th></th>\n",
       "      <th></th>\n",
       "      <th></th>\n",
       "    </tr>\n",
       "  </thead>\n",
       "  <tbody>\n",
       "    <tr>\n",
       "      <th>2022-10-21 00:00:00+00:00</th>\n",
       "      <td>0.059526</td>\n",
       "      <td>0.059526</td>\n",
       "      <td>0.057418</td>\n",
       "      <td>0.059334</td>\n",
       "      <td>224787600</td>\n",
       "      <td>0</td>\n",
       "      <td>0</td>\n",
       "    </tr>\n",
       "    <tr>\n",
       "      <th>2022-10-22 00:00:00+00:00</th>\n",
       "      <td>0.059337</td>\n",
       "      <td>0.059846</td>\n",
       "      <td>0.059184</td>\n",
       "      <td>0.059694</td>\n",
       "      <td>159431212</td>\n",
       "      <td>0</td>\n",
       "      <td>0</td>\n",
       "    </tr>\n",
       "    <tr>\n",
       "      <th>2022-10-23 00:00:00+00:00</th>\n",
       "      <td>0.059683</td>\n",
       "      <td>0.060379</td>\n",
       "      <td>0.058927</td>\n",
       "      <td>0.060347</td>\n",
       "      <td>182523575</td>\n",
       "      <td>0</td>\n",
       "      <td>0</td>\n",
       "    </tr>\n",
       "    <tr>\n",
       "      <th>2022-10-24 00:00:00+00:00</th>\n",
       "      <td>0.060341</td>\n",
       "      <td>0.060814</td>\n",
       "      <td>0.058858</td>\n",
       "      <td>0.059506</td>\n",
       "      <td>226574582</td>\n",
       "      <td>0</td>\n",
       "      <td>0</td>\n",
       "    </tr>\n",
       "    <tr>\n",
       "      <th>2022-10-25 00:00:00+00:00</th>\n",
       "      <td>0.059502</td>\n",
       "      <td>0.064049</td>\n",
       "      <td>0.059227</td>\n",
       "      <td>0.062882</td>\n",
       "      <td>475512798</td>\n",
       "      <td>0</td>\n",
       "      <td>0</td>\n",
       "    </tr>\n",
       "    <tr>\n",
       "      <th>2022-10-26 00:00:00+00:00</th>\n",
       "      <td>0.062856</td>\n",
       "      <td>0.073274</td>\n",
       "      <td>0.062760</td>\n",
       "      <td>0.072800</td>\n",
       "      <td>1357027720</td>\n",
       "      <td>0</td>\n",
       "      <td>0</td>\n",
       "    </tr>\n",
       "    <tr>\n",
       "      <th>2022-10-27 00:00:00+00:00</th>\n",
       "      <td>0.072799</td>\n",
       "      <td>0.084825</td>\n",
       "      <td>0.072033</td>\n",
       "      <td>0.077018</td>\n",
       "      <td>2652784687</td>\n",
       "      <td>0</td>\n",
       "      <td>0</td>\n",
       "    </tr>\n",
       "    <tr>\n",
       "      <th>2022-10-28 00:00:00+00:00</th>\n",
       "      <td>0.077028</td>\n",
       "      <td>0.087901</td>\n",
       "      <td>0.072930</td>\n",
       "      <td>0.083897</td>\n",
       "      <td>3172500998</td>\n",
       "      <td>0</td>\n",
       "      <td>0</td>\n",
       "    </tr>\n",
       "    <tr>\n",
       "      <th>2022-10-29 00:00:00+00:00</th>\n",
       "      <td>0.083933</td>\n",
       "      <td>0.149392</td>\n",
       "      <td>0.083387</td>\n",
       "      <td>0.121603</td>\n",
       "      <td>12157642295</td>\n",
       "      <td>0</td>\n",
       "      <td>0</td>\n",
       "    </tr>\n",
       "    <tr>\n",
       "      <th>2022-10-30 00:00:00+00:00</th>\n",
       "      <td>0.121644</td>\n",
       "      <td>0.141657</td>\n",
       "      <td>0.112892</td>\n",
       "      <td>0.117802</td>\n",
       "      <td>7908593943</td>\n",
       "      <td>0</td>\n",
       "      <td>0</td>\n",
       "    </tr>\n",
       "  </tbody>\n",
       "</table>\n",
       "</div>"
      ],
      "text/plain": [
       "                               Open      High       Low     Close  \\\n",
       "Date                                                                \n",
       "2022-10-21 00:00:00+00:00  0.059526  0.059526  0.057418  0.059334   \n",
       "2022-10-22 00:00:00+00:00  0.059337  0.059846  0.059184  0.059694   \n",
       "2022-10-23 00:00:00+00:00  0.059683  0.060379  0.058927  0.060347   \n",
       "2022-10-24 00:00:00+00:00  0.060341  0.060814  0.058858  0.059506   \n",
       "2022-10-25 00:00:00+00:00  0.059502  0.064049  0.059227  0.062882   \n",
       "2022-10-26 00:00:00+00:00  0.062856  0.073274  0.062760  0.072800   \n",
       "2022-10-27 00:00:00+00:00  0.072799  0.084825  0.072033  0.077018   \n",
       "2022-10-28 00:00:00+00:00  0.077028  0.087901  0.072930  0.083897   \n",
       "2022-10-29 00:00:00+00:00  0.083933  0.149392  0.083387  0.121603   \n",
       "2022-10-30 00:00:00+00:00  0.121644  0.141657  0.112892  0.117802   \n",
       "\n",
       "                                Volume  Dividends  Stock Splits  \n",
       "Date                                                             \n",
       "2022-10-21 00:00:00+00:00    224787600          0             0  \n",
       "2022-10-22 00:00:00+00:00    159431212          0             0  \n",
       "2022-10-23 00:00:00+00:00    182523575          0             0  \n",
       "2022-10-24 00:00:00+00:00    226574582          0             0  \n",
       "2022-10-25 00:00:00+00:00    475512798          0             0  \n",
       "2022-10-26 00:00:00+00:00   1357027720          0             0  \n",
       "2022-10-27 00:00:00+00:00   2652784687          0             0  \n",
       "2022-10-28 00:00:00+00:00   3172500998          0             0  \n",
       "2022-10-29 00:00:00+00:00  12157642295          0             0  \n",
       "2022-10-30 00:00:00+00:00   7908593943          0             0  "
      ]
     },
     "execution_count": 2,
     "metadata": {},
     "output_type": "execute_result"
    }
   ],
   "source": [
    "import yfinance as yf\n",
    "\n",
    "#define the ticker symbol\n",
    "tickerSymbol = 'DOGE-USD'\n",
    "\n",
    "#get data on this ticker\n",
    "tickerData = yf.Ticker(tickerSymbol)\n",
    "\n",
    "#get the historical prices for this ticker\n",
    "tickerDf = tickerData.history(period='1d', start='2022-10-21', end='2022-10-31')\n",
    "\n",
    "#see your data\n",
    "tickerDf"
   ]
  },
  {
   "cell_type": "code",
   "execution_count": 3,
   "metadata": {},
   "outputs": [],
   "source": [
    "import requests\n",
    "from bs4 import BeautifulSoup"
   ]
  },
  {
   "cell_type": "code",
   "execution_count": 4,
   "metadata": {},
   "outputs": [
    {
     "name": "stdout",
     "output_type": "stream",
     "text": [
      "<!DOCTYPE html>\n",
      "<html lang=\"en-us\">\n",
      " <head>\n",
      "  <meta content=\"text/html; charset=utf-8\" http-equiv=\"content-type\"/>\n",
      "  <meta charset=\"utf-8\"/>\n",
      "  <title>\n",
      "   Yahoo\n",
      "  </title>\n",
      "  <meta content=\"width=device-width,initial-scale=1,minimal-ui\" name=\"viewport\"/>\n",
      "  <meta content=\"IE=edge,chrome=1\" http-equiv=\"X-UA-Compatible\"/>\n",
      "  <style>\n",
      "   html {\n",
      "      height: 100%;\n",
      "  }\n",
      "  body {\n",
      "      background: #fafafc url(https://s.yimg.com/nn/img/sad-panda-201402200631.png) 50% 50%;\n",
      "      background-size: cover;\n",
      "      height: 100%;\n",
      "      text-align: center;\n",
      "      font: 300 18px \"helvetica neue\", helvetica, verdana, tahoma, arial, sans-serif;\n",
      "  }\n",
      "  table {\n",
      "      height: 100%;\n",
      "      width: 100%;\n",
      "      table-layout: fixed;\n",
      "      border-collapse: collapse;\n",
      "      border-spacing: 0;\n",
      "      border: none;\n",
      "  }\n",
      "  h1 {\n",
      "      font-size: 42px;\n",
      "      font-weight: 400;\n",
      "      color: #400090;\n",
      "  }\n",
      "  p {\n",
      "      color: #1A1A1A;\n",
      "  }\n",
      "  #message-1 {\n",
      "      font-weight: bold;\n",
      "      margin: 0;\n",
      "  }\n",
      "  #message-2 {\n",
      "      display: inline-block;\n",
      "      *display: inline;\n",
      "      zoom: 1;\n",
      "      max-width: 17em;\n",
      "      _width: 17em;\n",
      "  }\n",
      "  </style>\n",
      "  <script>\n",
      "   document.write('<img src=\"//geo.yahoo.com/b?s=1197757129&t='+new Date().getTime()+'&src=aws&err_url='+encodeURIComponent(document.URL)+'&err=%<pssc>&test='+encodeURIComponent('%<{Bucket}cqh[:200]>')+'\" width=\"0px\" height=\"0px\"/>');var beacon = new Image();beacon.src=\"//bcn.fp.yahoo.com/p?s=1197757129&t=\"+new Date().getTime()+\"&src=aws&err_url=\"+encodeURIComponent(document.URL)+\"&err=%<pssc>&test=\"+encodeURIComponent('%<{Bucket}cqh[:200]>');\n",
      "  </script>\n",
      " </head>\n",
      " <body>\n",
      "  <!-- status code : 404 -->\n",
      "  <!-- Not Found on Server -->\n",
      "  <table>\n",
      "   <tbody>\n",
      "    <tr>\n",
      "     <td>\n",
      "      <img alt=\"Yahoo Logo\" src=\"https://s.yimg.com/rz/p/yahoo_frontpage_en-US_s_f_p_205x58_frontpage.png\"/>\n",
      "      <h1 style=\"margin-top:20px;\">\n",
      "       Will be right back...\n",
      "      </h1>\n",
      "      <p id=\"message-1\">\n",
      "       Thank you for your patience.\n",
      "      </p>\n",
      "      <p id=\"message-2\">\n",
      "       Our engineers are working quickly to resolve the issue.\n",
      "      </p>\n",
      "     </td>\n",
      "    </tr>\n",
      "   </tbody>\n",
      "  </table>\n",
      " </body>\n",
      "</html>\n"
     ]
    }
   ],
   "source": [
    "url = f'https://finance.yahoo.com/quote/DOGE-USD'\n",
    "page = requests.get(url)\n",
    "soup = BeautifulSoup(page.content, 'html.parser')\n",
    "#soup = BeautifulSoup(response.text, 'html.parser')\n",
    "print(soup.prettify())"
   ]
  },
  {
   "cell_type": "code",
   "execution_count": 5,
   "metadata": {},
   "outputs": [
    {
     "name": "stdout",
     "output_type": "stream",
     "text": [
      "Requirement already satisfied: yahoo_fin in /Users/cole/miniconda/lib/python3.9/site-packages (0.8.9.1)\n",
      "Requirement already satisfied: requests-html in /Users/cole/miniconda/lib/python3.9/site-packages (from yahoo_fin) (0.10.0)\n",
      "Requirement already satisfied: feedparser in /Users/cole/miniconda/lib/python3.9/site-packages (from yahoo_fin) (6.0.10)\n",
      "Requirement already satisfied: pandas in /Users/cole/miniconda/lib/python3.9/site-packages (from yahoo_fin) (1.4.4)\n",
      "Requirement already satisfied: requests in /Users/cole/miniconda/lib/python3.9/site-packages (from yahoo_fin) (2.27.1)\n",
      "Requirement already satisfied: sgmllib3k in /Users/cole/miniconda/lib/python3.9/site-packages (from feedparser->yahoo_fin) (1.0.0)\n",
      "Requirement already satisfied: python-dateutil>=2.8.1 in /Users/cole/miniconda/lib/python3.9/site-packages (from pandas->yahoo_fin) (2.8.2)\n",
      "Requirement already satisfied: numpy>=1.18.5 in /Users/cole/miniconda/lib/python3.9/site-packages (from pandas->yahoo_fin) (1.23.2)\n",
      "Requirement already satisfied: pytz>=2020.1 in /Users/cole/miniconda/lib/python3.9/site-packages (from pandas->yahoo_fin) (2022.2.1)\n",
      "Requirement already satisfied: six>=1.5 in /Users/cole/miniconda/lib/python3.9/site-packages (from python-dateutil>=2.8.1->pandas->yahoo_fin) (1.16.0)\n",
      "Requirement already satisfied: charset-normalizer~=2.0.0 in /Users/cole/miniconda/lib/python3.9/site-packages (from requests->yahoo_fin) (2.0.4)\n",
      "Requirement already satisfied: certifi>=2017.4.17 in /Users/cole/miniconda/lib/python3.9/site-packages (from requests->yahoo_fin) (2022.6.15)\n",
      "Requirement already satisfied: idna<4,>=2.5 in /Users/cole/miniconda/lib/python3.9/site-packages (from requests->yahoo_fin) (3.3)\n",
      "Requirement already satisfied: urllib3<1.27,>=1.21.1 in /Users/cole/miniconda/lib/python3.9/site-packages (from requests->yahoo_fin) (1.26.8)\n",
      "Requirement already satisfied: pyppeteer>=0.0.14 in /Users/cole/miniconda/lib/python3.9/site-packages (from requests-html->yahoo_fin) (1.0.2)\n",
      "Requirement already satisfied: w3lib in /Users/cole/miniconda/lib/python3.9/site-packages (from requests-html->yahoo_fin) (2.0.1)\n",
      "Requirement already satisfied: bs4 in /Users/cole/miniconda/lib/python3.9/site-packages (from requests-html->yahoo_fin) (0.0.1)\n",
      "Requirement already satisfied: parse in /Users/cole/miniconda/lib/python3.9/site-packages (from requests-html->yahoo_fin) (1.19.0)\n",
      "Requirement already satisfied: pyquery in /Users/cole/miniconda/lib/python3.9/site-packages (from requests-html->yahoo_fin) (1.4.3)\n",
      "Requirement already satisfied: fake-useragent in /Users/cole/miniconda/lib/python3.9/site-packages (from requests-html->yahoo_fin) (0.1.11)\n",
      "Requirement already satisfied: importlib-metadata>=1.4 in /Users/cole/miniconda/lib/python3.9/site-packages (from pyppeteer>=0.0.14->requests-html->yahoo_fin) (5.0.0)\n",
      "Requirement already satisfied: appdirs<2.0.0,>=1.4.3 in /Users/cole/miniconda/lib/python3.9/site-packages (from pyppeteer>=0.0.14->requests-html->yahoo_fin) (1.4.4)\n",
      "Requirement already satisfied: websockets<11.0,>=10.0 in /Users/cole/miniconda/lib/python3.9/site-packages (from pyppeteer>=0.0.14->requests-html->yahoo_fin) (10.4)\n",
      "Requirement already satisfied: tqdm<5.0.0,>=4.42.1 in /Users/cole/miniconda/lib/python3.9/site-packages (from pyppeteer>=0.0.14->requests-html->yahoo_fin) (4.63.0)\n",
      "Requirement already satisfied: pyee<9.0.0,>=8.1.0 in /Users/cole/miniconda/lib/python3.9/site-packages (from pyppeteer>=0.0.14->requests-html->yahoo_fin) (8.2.2)\n",
      "Requirement already satisfied: zipp>=0.5 in /Users/cole/miniconda/lib/python3.9/site-packages (from importlib-metadata>=1.4->pyppeteer>=0.0.14->requests-html->yahoo_fin) (3.10.0)\n",
      "Requirement already satisfied: beautifulsoup4 in /Users/cole/miniconda/lib/python3.9/site-packages (from bs4->requests-html->yahoo_fin) (4.11.1)\n",
      "Requirement already satisfied: soupsieve>1.2 in /Users/cole/miniconda/lib/python3.9/site-packages (from beautifulsoup4->bs4->requests-html->yahoo_fin) (2.3.2.post1)\n",
      "Requirement already satisfied: cssselect>0.7.9 in /Users/cole/miniconda/lib/python3.9/site-packages (from pyquery->requests-html->yahoo_fin) (1.2.0)\n",
      "Requirement already satisfied: lxml>=2.1 in /Users/cole/miniconda/lib/python3.9/site-packages (from pyquery->requests-html->yahoo_fin) (4.9.1)\n",
      "Note: you may need to restart the kernel to use updated packages.\n"
     ]
    }
   ],
   "source": [
    "%pip install yahoo_fin\n"
   ]
  },
  {
   "cell_type": "code",
   "execution_count": 7,
   "metadata": {},
   "outputs": [],
   "source": [
    "from yahoo_fin import stock_info as si"
   ]
  },
  {
   "cell_type": "code",
   "execution_count": 8,
   "metadata": {},
   "outputs": [
    {
     "data": {
      "text/plain": [
       "0.12357109040021896"
      ]
     },
     "execution_count": 8,
     "metadata": {},
     "output_type": "execute_result"
    }
   ],
   "source": [
    "si.get_live_price(\"DOGE-USD\")"
   ]
  },
  {
   "cell_type": "code",
   "execution_count": 9,
   "metadata": {},
   "outputs": [
    {
     "data": {
      "text/plain": [
       "{'language': 'en-US',\n",
       " 'region': 'US',\n",
       " 'quoteType': 'CRYPTOCURRENCY',\n",
       " 'typeDisp': 'Cryptocurrency',\n",
       " 'quoteSourceName': 'CoinMarketCap',\n",
       " 'triggerable': True,\n",
       " 'customPriceAlertConfidence': 'HIGH',\n",
       " 'currency': 'USD',\n",
       " 'regularMarketChangePercent': -6.266593,\n",
       " 'regularMarketPrice': 0.12357109,\n",
       " 'marketState': 'REGULAR',\n",
       " 'shortName': 'Dogecoin USD',\n",
       " 'messageBoardId': 'finmb_DOGE_CCC',\n",
       " 'exchangeTimezoneName': 'UTC',\n",
       " 'exchangeTimezoneShortName': 'UTC',\n",
       " 'exchange': 'CCC',\n",
       " 'gmtOffSetMilliseconds': 0,\n",
       " 'market': 'ccc_market',\n",
       " 'esgPopulated': False,\n",
       " 'fiftyDayAverage': 0.06825986,\n",
       " 'fiftyDayAverageChange': 0.055311233,\n",
       " 'fiftyDayAverageChangePercent': 0.810304,\n",
       " 'twoHundredDayAverage': 0.07748944,\n",
       " 'twoHundredDayAverageChange': 0.046081647,\n",
       " 'twoHundredDayAverageChangePercent': 0.59468293,\n",
       " 'marketCap': 16394271744,\n",
       " 'sourceInterval': 15,\n",
       " 'exchangeDataDelayedBy': 0,\n",
       " 'tradeable': False,\n",
       " 'cryptoTradeable': True,\n",
       " 'regularMarketChange': -0.008261405,\n",
       " 'regularMarketTime': 1667543280,\n",
       " 'regularMarketDayHigh': 0.12385937,\n",
       " 'regularMarketDayRange': '0.1164449 - 0.12385937',\n",
       " 'regularMarketDayLow': 0.1164449,\n",
       " 'regularMarketVolume': 2812799232,\n",
       " 'regularMarketPreviousClose': 0.12241955,\n",
       " 'fullExchangeName': 'CCC',\n",
       " 'regularMarketOpen': 0.12241955,\n",
       " 'averageDailyVolume3Month': 876684564,\n",
       " 'fiftyTwoWeekLowChange': 0.07385109,\n",
       " 'fiftyTwoWeekLowChangePercent': 1.4853398,\n",
       " 'fiftyTwoWeekRange': '0.04972 - 0.296532',\n",
       " 'fiftyTwoWeekHighChange': -0.1729609,\n",
       " 'fiftyTwoWeekHighChangePercent': -0.5832791,\n",
       " 'fiftyTwoWeekLow': 0.04972,\n",
       " 'fiftyTwoWeekHigh': 0.296532,\n",
       " 'averageDailyVolume10Day': 4631782498,\n",
       " 'startDate': 1387065600,\n",
       " 'coinImageUrl': 'https://s2.coinmarketcap.com/static/img/coins/64x64/74.png',\n",
       " 'logoUrl': 'https://s2.coinmarketcap.com/static/img/coins/64x64/74.png',\n",
       " 'firstTradeDateMilliseconds': 1410912000000,\n",
       " 'priceHint': 6,\n",
       " 'circulatingSupply': 132670767104,\n",
       " 'lastMarket': 'CoinMarketCap',\n",
       " 'volume24Hr': 2812799232,\n",
       " 'volumeAllCurrencies': 2812799232,\n",
       " 'fromCurrency': 'DOGE',\n",
       " 'toCurrency': 'USD=X',\n",
       " 'coinMarketCapLink': 'https://coinmarketcap.com/currencies/dogecoin',\n",
       " 'symbol': 'DOGE-USD'}"
      ]
     },
     "execution_count": 9,
     "metadata": {},
     "output_type": "execute_result"
    }
   ],
   "source": [
    "si.get_quote_data(\"DOGE-USD\")"
   ]
  },
  {
   "cell_type": "code",
   "execution_count": 10,
   "metadata": {},
   "outputs": [
    {
     "name": "stderr",
     "output_type": "stream",
     "text": [
      "/Users/cole/miniconda/lib/python3.9/site-packages/yahoo_fin/stock_info.py:295: FutureWarning: The frame.append method is deprecated and will be removed from pandas in a future version. Use pandas.concat instead.\n",
      "  data = tables[0].append(tables[1])\n",
      "/Users/cole/miniconda/lib/python3.9/site-packages/yahoo_fin/stock_info.py:302: FutureWarning: The frame.append method is deprecated and will be removed from pandas in a future version. Use pandas.concat instead.\n",
      "  data = data.append(quote_price)\n"
     ]
    },
    {
     "data": {
      "text/plain": [
       "{'52 Week Range': '0.049720 - 0.296532',\n",
       " 'Algorithm': nan,\n",
       " 'Circulating Supply': '132.67B',\n",
       " \"Day's Range\": '0.116445 - 0.123859',\n",
       " 'Market Cap': '16.394B',\n",
       " 'Max Supply': nan,\n",
       " 'Open': 0.12242,\n",
       " 'Previous Close': 0.12242,\n",
       " 'Quote Price': 0.12357109040021896,\n",
       " 'Start Date': '2013-12-15',\n",
       " 'Volume': 2812799232.0,\n",
       " 'Volume (24hr)': '2.81B',\n",
       " 'Volume (24hr) All Currencies': '2.81B'}"
      ]
     },
     "execution_count": 10,
     "metadata": {},
     "output_type": "execute_result"
    }
   ],
   "source": [
    "si.get_quote_table(\"DOGE-USD\")"
   ]
  },
  {
   "cell_type": "code",
   "execution_count": 11,
   "metadata": {},
   "outputs": [],
   "source": [
    "df = si.get_data(\"DOGE-USD\", start_date = \"10/21/2021\", end_date = \"10/31/2021\", index_as_date = True, interval=\"1d\")"
   ]
  },
  {
   "cell_type": "code",
   "execution_count": 12,
   "metadata": {},
   "outputs": [],
   "source": [
    "import pandas as pd"
   ]
  },
  {
   "cell_type": "code",
   "execution_count": 29,
   "metadata": {},
   "outputs": [
    {
     "name": "stderr",
     "output_type": "stream",
     "text": [
      "/Users/cole/miniconda/lib/python3.9/site-packages/yahoo_fin/stock_info.py:295: FutureWarning: The frame.append method is deprecated and will be removed from pandas in a future version. Use pandas.concat instead.\n",
      "  data = tables[0].append(tables[1])\n",
      "/Users/cole/miniconda/lib/python3.9/site-packages/yahoo_fin/stock_info.py:302: FutureWarning: The frame.append method is deprecated and will be removed from pandas in a future version. Use pandas.concat instead.\n",
      "  data = data.append(quote_price)\n"
     ]
    },
    {
     "data": {
      "text/html": [
       "<div>\n",
       "<style scoped>\n",
       "    .dataframe tbody tr th:only-of-type {\n",
       "        vertical-align: middle;\n",
       "    }\n",
       "\n",
       "    .dataframe tbody tr th {\n",
       "        vertical-align: top;\n",
       "    }\n",
       "\n",
       "    .dataframe thead th {\n",
       "        text-align: right;\n",
       "    }\n",
       "</style>\n",
       "<table border=\"1\" class=\"dataframe\">\n",
       "  <thead>\n",
       "    <tr style=\"text-align: right;\">\n",
       "      <th></th>\n",
       "      <th>Quote Price</th>\n",
       "      <th>Amount</th>\n",
       "    </tr>\n",
       "  </thead>\n",
       "  <tbody>\n",
       "    <tr>\n",
       "      <th>0</th>\n",
       "      <td>0.123</td>\n",
       "      <td>31982.101</td>\n",
       "    </tr>\n",
       "  </tbody>\n",
       "</table>\n",
       "</div>"
      ],
      "text/plain": [
       "   Quote Price     Amount\n",
       "0        0.123  31982.101"
      ]
     },
     "execution_count": 29,
     "metadata": {},
     "output_type": "execute_result"
    }
   ],
   "source": [
    "df = si.get_quote_table(\"DOGE-USD\", dict_result=True)\n",
    "df = pd.DataFrame(df, index=[0])\n",
    "#df['Quote Price'] = df['Quote Price'](1)\n",
    "list(df.columns.values)\n",
    "df = df[['Quote Price', '52 Week Range',\n",
    " 'Algorithm',\n",
    " 'Circulating Supply',\n",
    " \"Day's Range\",\n",
    " 'Market Cap',\n",
    " 'Max Supply',\n",
    " 'Open',\n",
    " 'Previous Close',\n",
    " 'Start Date',\n",
    " 'Volume',\n",
    " 'Volume (24hr)',\n",
    " 'Volume (24hr) All Currencies']]\n",
    "\n",
    "df['Amount'] = df['Quote Price'] * 260000 \n",
    "df = df.round(3)\n",
    "df = df[['Quote Price', 'Amount']]\n",
    "df"
   ]
  },
  {
   "cell_type": "code",
   "execution_count": null,
   "metadata": {},
   "outputs": [],
   "source": []
  }
 ],
 "metadata": {
  "kernelspec": {
   "display_name": "Python 3",
   "language": "python",
   "name": "python3"
  },
  "language_info": {
   "codemirror_mode": {
    "name": "ipython",
    "version": 3
   },
   "file_extension": ".py",
   "mimetype": "text/x-python",
   "name": "python",
   "nbconvert_exporter": "python",
   "pygments_lexer": "ipython3",
   "version": "3.9.12 (main, Apr  5 2022, 01:53:17) \n[Clang 12.0.0 ]"
  },
  "orig_nbformat": 4,
  "vscode": {
   "interpreter": {
    "hash": "4b761eb5024ab4ac738c2327b216794a1ed65570150954fe97adc852d4211d20"
   }
  }
 },
 "nbformat": 4,
 "nbformat_minor": 2
}
