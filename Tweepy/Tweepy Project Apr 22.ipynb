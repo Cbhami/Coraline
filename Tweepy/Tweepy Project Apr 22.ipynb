{
 "cells": [
  {
   "cell_type": "markdown",
   "metadata": {},
   "source": [
    "# **2 (Option I). (Trends, Searches, and Sentiment)** \n",
    "2 (Option I). (Trends, Searches, and Sentiment)** <br>a. Use the Twitter Trends API to determine the available trending topics for a city of your choice, assigning a tweet volume of 5000 to any trend with no volume provided.\n",
    "\n",
    " <br>b. After sorting the trends in descending order by volume, create a bar graph with each (sorted) trend on the x-axis against its volume on the y-axis. \n",
    " \n",
    " <br>c. Use the Twitter Search API to find 20 tweets for each of the three most popular trends in the chosen city, and preprocess their associated tweet text (preferring extended tweet text, if available) in a manner appropriate for tweets. \n",
    " \n",
    " <br>d. Use `TextBlob` to determine the sentiment for each set of 20 tweets.  \n",
    " \n",
    " <br> i. Do you notice a substantial difference in the proportion of positive and negative sentiment for the three trends?  Try to theorize why or why not.  \n",
    " \n",
    " <br> ii. Do you believe the sentiment analysis to be reliable for any or all of the trend?  Explain why or why not.\n"
   ]
  },
  {
   "cell_type": "markdown",
   "metadata": {},
   "source": [
    "\n",
    "## Twitter Trends, Searches, and Sentiment"
   ]
  },
  {
   "cell_type": "markdown",
   "metadata": {
    "jp-MarkdownHeadingCollapsed": true,
    "tags": []
   },
   "source": [
    "### Load API Keys\n",
    " \n"
   ]
  },
  {
   "cell_type": "code",
   "execution_count": 77,
   "metadata": {},
   "outputs": [],
   "source": [
    "import tweepy\n",
    "import os\n",
    "APIK = os.environ.get('APIK')\n",
    "APISK = os.environ.get('APISK')\n",
    "ACCTO = os.environ.get('ACCTO')\n",
    "ACCTOS = os.environ.get('ACCTOS')\n",
    "auth = tweepy.OAuthHandler(APIK, APISK) #Set up the app keys\n",
    "auth.set_access_token(ACCTO,\n",
    "                      ACCTOS) #set up your user tokens\n",
    "api = tweepy.API(auth, wait_on_rate_limit=True, \n",
    "                 wait_on_rate_limit_notify=True)\n"
   ]
  },
  {
   "cell_type": "markdown",
   "metadata": {
    "jp-MarkdownHeadingCollapsed": true,
    "tags": []
   },
   "source": [
    "### Basic Tweepy Commands"
   ]
  },
  {
   "cell_type": "code",
   "execution_count": 78,
   "metadata": {},
   "outputs": [],
   "source": [
    "cbhami02 = api.get_user('cbhami02')"
   ]
  },
  {
   "cell_type": "code",
   "execution_count": 79,
   "metadata": {},
   "outputs": [],
   "source": [
    "api = tweepy.API(auth)\n"
   ]
  },
  {
   "cell_type": "code",
   "execution_count": 80,
   "metadata": {
    "tags": []
   },
   "outputs": [
    {
     "name": "stdout",
     "output_type": "stream",
     "text": [
      "User(_api=<tweepy.api.API object at 0x0000024B5E786A60>, _json={'id': 1515682874837643269, 'id_str': '1515682874837643269', 'name': 'Cole Hamilton', 'screen_name': 'Cbhami02', 'location': 'San Antonio, TX', 'profile_location': {'id': '3df4f427b5a60fea', 'url': 'https://api.twitter.com/1.1/geo/id/3df4f427b5a60fea.json', 'place_type': 'unknown', 'name': 'San Antonio, TX', 'full_name': 'San Antonio, TX', 'country_code': '', 'country': '', 'contained_within': [], 'bounding_box': None, 'attributes': {}}, 'description': 'My Developer Account. Just for fun and sharing fascinating topics! Data Enthusiast, Fortniter, Robloxer, and a little bit of nerd.', 'url': None, 'entities': {'description': {'urls': []}}, 'protected': False, 'followers_count': 1, 'friends_count': 90, 'listed_count': 0, 'created_at': 'Sun Apr 17 13:25:44 +0000 2022', 'favourites_count': 0, 'utc_offset': None, 'time_zone': None, 'geo_enabled': False, 'verified': False, 'statuses_count': 13, 'lang': None, 'status': {'created_at': 'Wed May 11 23:15:22 +0000 2022', 'id': 1524528622719184896, 'id_str': '1524528622719184896', 'text': '“Complete Exploratory Data Analysis using Python” by Uğur Savcı\\nhttps://t.co/Vp44o2jQTU https://t.co/bEf5HBRtt8', 'truncated': False, 'entities': {'hashtags': [], 'symbols': [], 'user_mentions': [], 'urls': [{'url': 'https://t.co/Vp44o2jQTU', 'expanded_url': 'https://link.medium.com/IobrYt5fXpb', 'display_url': 'link.medium.com/IobrYt5fXpb', 'indices': [64, 87]}], 'media': [{'id': 1524528618034106370, 'id_str': '1524528618034106370', 'indices': [88, 111], 'media_url': 'http://pbs.twimg.com/media/FSg2s2fXEAIom5R.jpg', 'media_url_https': 'https://pbs.twimg.com/media/FSg2s2fXEAIom5R.jpg', 'url': 'https://t.co/bEf5HBRtt8', 'display_url': 'pic.twitter.com/bEf5HBRtt8', 'expanded_url': 'https://twitter.com/Cbhami02/status/1524528622719184896/photo/1', 'type': 'photo', 'sizes': {'thumb': {'w': 150, 'h': 150, 'resize': 'crop'}, 'large': {'w': 700, 'h': 1245, 'resize': 'fit'}, 'medium': {'w': 675, 'h': 1200, 'resize': 'fit'}, 'small': {'w': 382, 'h': 680, 'resize': 'fit'}}}]}, 'extended_entities': {'media': [{'id': 1524528618034106370, 'id_str': '1524528618034106370', 'indices': [88, 111], 'media_url': 'http://pbs.twimg.com/media/FSg2s2fXEAIom5R.jpg', 'media_url_https': 'https://pbs.twimg.com/media/FSg2s2fXEAIom5R.jpg', 'url': 'https://t.co/bEf5HBRtt8', 'display_url': 'pic.twitter.com/bEf5HBRtt8', 'expanded_url': 'https://twitter.com/Cbhami02/status/1524528622719184896/photo/1', 'type': 'photo', 'sizes': {'thumb': {'w': 150, 'h': 150, 'resize': 'crop'}, 'large': {'w': 700, 'h': 1245, 'resize': 'fit'}, 'medium': {'w': 675, 'h': 1200, 'resize': 'fit'}, 'small': {'w': 382, 'h': 680, 'resize': 'fit'}}}]}, 'source': '<a href=\"http://twitter.com/download/iphone\" rel=\"nofollow\">Twitter for iPhone</a>', 'in_reply_to_status_id': None, 'in_reply_to_status_id_str': None, 'in_reply_to_user_id': None, 'in_reply_to_user_id_str': None, 'in_reply_to_screen_name': None, 'geo': None, 'coordinates': None, 'place': None, 'contributors': None, 'is_quote_status': False, 'retweet_count': 0, 'favorite_count': 0, 'favorited': False, 'retweeted': False, 'possibly_sensitive': False, 'lang': 'fi'}, 'contributors_enabled': False, 'is_translator': False, 'is_translation_enabled': False, 'profile_background_color': 'F5F8FA', 'profile_background_image_url': None, 'profile_background_image_url_https': None, 'profile_background_tile': False, 'profile_image_url': 'http://pbs.twimg.com/profile_images/1515683341609099277/zHYTKTwd_normal.jpg', 'profile_image_url_https': 'https://pbs.twimg.com/profile_images/1515683341609099277/zHYTKTwd_normal.jpg', 'profile_link_color': '1DA1F2', 'profile_sidebar_border_color': 'C0DEED', 'profile_sidebar_fill_color': 'DDEEF6', 'profile_text_color': '333333', 'profile_use_background_image': True, 'has_extended_profile': True, 'default_profile': True, 'default_profile_image': False, 'following': False, 'follow_request_sent': False, 'notifications': False, 'translator_type': 'none', 'withheld_in_countries': []}, id=1515682874837643269, id_str='1515682874837643269', name='Cole Hamilton', screen_name='Cbhami02', location='San Antonio, TX', profile_location={'id': '3df4f427b5a60fea', 'url': 'https://api.twitter.com/1.1/geo/id/3df4f427b5a60fea.json', 'place_type': 'unknown', 'name': 'San Antonio, TX', 'full_name': 'San Antonio, TX', 'country_code': '', 'country': '', 'contained_within': [], 'bounding_box': None, 'attributes': {}}, description='My Developer Account. Just for fun and sharing fascinating topics! Data Enthusiast, Fortniter, Robloxer, and a little bit of nerd.', url=None, entities={'description': {'urls': []}}, protected=False, followers_count=1, friends_count=90, listed_count=0, created_at=datetime.datetime(2022, 4, 17, 13, 25, 44), favourites_count=0, utc_offset=None, time_zone=None, geo_enabled=False, verified=False, statuses_count=13, lang=None, status=Status(_api=<tweepy.api.API object at 0x0000024B5E786A60>, _json={'created_at': 'Wed May 11 23:15:22 +0000 2022', 'id': 1524528622719184896, 'id_str': '1524528622719184896', 'text': '“Complete Exploratory Data Analysis using Python” by Uğur Savcı\\nhttps://t.co/Vp44o2jQTU https://t.co/bEf5HBRtt8', 'truncated': False, 'entities': {'hashtags': [], 'symbols': [], 'user_mentions': [], 'urls': [{'url': 'https://t.co/Vp44o2jQTU', 'expanded_url': 'https://link.medium.com/IobrYt5fXpb', 'display_url': 'link.medium.com/IobrYt5fXpb', 'indices': [64, 87]}], 'media': [{'id': 1524528618034106370, 'id_str': '1524528618034106370', 'indices': [88, 111], 'media_url': 'http://pbs.twimg.com/media/FSg2s2fXEAIom5R.jpg', 'media_url_https': 'https://pbs.twimg.com/media/FSg2s2fXEAIom5R.jpg', 'url': 'https://t.co/bEf5HBRtt8', 'display_url': 'pic.twitter.com/bEf5HBRtt8', 'expanded_url': 'https://twitter.com/Cbhami02/status/1524528622719184896/photo/1', 'type': 'photo', 'sizes': {'thumb': {'w': 150, 'h': 150, 'resize': 'crop'}, 'large': {'w': 700, 'h': 1245, 'resize': 'fit'}, 'medium': {'w': 675, 'h': 1200, 'resize': 'fit'}, 'small': {'w': 382, 'h': 680, 'resize': 'fit'}}}]}, 'extended_entities': {'media': [{'id': 1524528618034106370, 'id_str': '1524528618034106370', 'indices': [88, 111], 'media_url': 'http://pbs.twimg.com/media/FSg2s2fXEAIom5R.jpg', 'media_url_https': 'https://pbs.twimg.com/media/FSg2s2fXEAIom5R.jpg', 'url': 'https://t.co/bEf5HBRtt8', 'display_url': 'pic.twitter.com/bEf5HBRtt8', 'expanded_url': 'https://twitter.com/Cbhami02/status/1524528622719184896/photo/1', 'type': 'photo', 'sizes': {'thumb': {'w': 150, 'h': 150, 'resize': 'crop'}, 'large': {'w': 700, 'h': 1245, 'resize': 'fit'}, 'medium': {'w': 675, 'h': 1200, 'resize': 'fit'}, 'small': {'w': 382, 'h': 680, 'resize': 'fit'}}}]}, 'source': '<a href=\"http://twitter.com/download/iphone\" rel=\"nofollow\">Twitter for iPhone</a>', 'in_reply_to_status_id': None, 'in_reply_to_status_id_str': None, 'in_reply_to_user_id': None, 'in_reply_to_user_id_str': None, 'in_reply_to_screen_name': None, 'geo': None, 'coordinates': None, 'place': None, 'contributors': None, 'is_quote_status': False, 'retweet_count': 0, 'favorite_count': 0, 'favorited': False, 'retweeted': False, 'possibly_sensitive': False, 'lang': 'fi'}, created_at=datetime.datetime(2022, 5, 11, 23, 15, 22), id=1524528622719184896, id_str='1524528622719184896', text='“Complete Exploratory Data Analysis using Python” by Uğur Savcı\\nhttps://t.co/Vp44o2jQTU https://t.co/bEf5HBRtt8', truncated=False, entities={'hashtags': [], 'symbols': [], 'user_mentions': [], 'urls': [{'url': 'https://t.co/Vp44o2jQTU', 'expanded_url': 'https://link.medium.com/IobrYt5fXpb', 'display_url': 'link.medium.com/IobrYt5fXpb', 'indices': [64, 87]}], 'media': [{'id': 1524528618034106370, 'id_str': '1524528618034106370', 'indices': [88, 111], 'media_url': 'http://pbs.twimg.com/media/FSg2s2fXEAIom5R.jpg', 'media_url_https': 'https://pbs.twimg.com/media/FSg2s2fXEAIom5R.jpg', 'url': 'https://t.co/bEf5HBRtt8', 'display_url': 'pic.twitter.com/bEf5HBRtt8', 'expanded_url': 'https://twitter.com/Cbhami02/status/1524528622719184896/photo/1', 'type': 'photo', 'sizes': {'thumb': {'w': 150, 'h': 150, 'resize': 'crop'}, 'large': {'w': 700, 'h': 1245, 'resize': 'fit'}, 'medium': {'w': 675, 'h': 1200, 'resize': 'fit'}, 'small': {'w': 382, 'h': 680, 'resize': 'fit'}}}]}, extended_entities={'media': [{'id': 1524528618034106370, 'id_str': '1524528618034106370', 'indices': [88, 111], 'media_url': 'http://pbs.twimg.com/media/FSg2s2fXEAIom5R.jpg', 'media_url_https': 'https://pbs.twimg.com/media/FSg2s2fXEAIom5R.jpg', 'url': 'https://t.co/bEf5HBRtt8', 'display_url': 'pic.twitter.com/bEf5HBRtt8', 'expanded_url': 'https://twitter.com/Cbhami02/status/1524528622719184896/photo/1', 'type': 'photo', 'sizes': {'thumb': {'w': 150, 'h': 150, 'resize': 'crop'}, 'large': {'w': 700, 'h': 1245, 'resize': 'fit'}, 'medium': {'w': 675, 'h': 1200, 'resize': 'fit'}, 'small': {'w': 382, 'h': 680, 'resize': 'fit'}}}]}, source='Twitter for iPhone', source_url='http://twitter.com/download/iphone', in_reply_to_status_id=None, in_reply_to_status_id_str=None, in_reply_to_user_id=None, in_reply_to_user_id_str=None, in_reply_to_screen_name=None, geo=None, coordinates=None, place=None, contributors=None, is_quote_status=False, retweet_count=0, favorite_count=0, favorited=False, retweeted=False, possibly_sensitive=False, lang='fi'), contributors_enabled=False, is_translator=False, is_translation_enabled=False, profile_background_color='F5F8FA', profile_background_image_url=None, profile_background_image_url_https=None, profile_background_tile=False, profile_image_url='http://pbs.twimg.com/profile_images/1515683341609099277/zHYTKTwd_normal.jpg', profile_image_url_https='https://pbs.twimg.com/profile_images/1515683341609099277/zHYTKTwd_normal.jpg', profile_link_color='1DA1F2', profile_sidebar_border_color='C0DEED', profile_sidebar_fill_color='DDEEF6', profile_text_color='333333', profile_use_background_image=True, has_extended_profile=True, default_profile=True, default_profile_image=False, following=False, follow_request_sent=False, notifications=False, translator_type='none', withheld_in_countries=[])\n"
     ]
    }
   ],
   "source": [
    "user_info = api.get_user(screen_name='cbhami02')\n",
    "print(user_info)"
   ]
  },
  {
   "cell_type": "code",
   "execution_count": 81,
   "metadata": {},
   "outputs": [
    {
     "name": "stdout",
     "output_type": "stream",
     "text": [
      "1 users are following Cbhami02.\n"
     ]
    }
   ],
   "source": [
    "print(f'{user_info.followers_count} users are following {user_info.screen_name}.')"
   ]
  },
  {
   "cell_type": "code",
   "execution_count": 82,
   "metadata": {
    "jupyter": {
     "source_hidden": true
    },
    "tags": []
   },
   "outputs": [
    {
     "data": {
      "text/plain": [
       "'Cole Hamilton'"
      ]
     },
     "execution_count": 82,
     "metadata": {},
     "output_type": "execute_result"
    }
   ],
   "source": [
    "user_info.name  # name associated with the user’s account"
   ]
  },
  {
   "cell_type": "code",
   "execution_count": 83,
   "metadata": {},
   "outputs": [
    {
     "data": {
      "text/plain": [
       "'Cbhami02'"
      ]
     },
     "execution_count": 83,
     "metadata": {},
     "output_type": "execute_result"
    }
   ],
   "source": [
    "user_info.screen_name  # user’s Twitter handle"
   ]
  },
  {
   "cell_type": "code",
   "execution_count": 84,
   "metadata": {},
   "outputs": [
    {
     "data": {
      "text/plain": [
       "'My Developer Account. Just for fun and sharing fascinating topics! Data Enthusiast, Fortniter, Robloxer, and a little bit of nerd.'"
      ]
     },
     "execution_count": 84,
     "metadata": {},
     "output_type": "execute_result"
    }
   ],
   "source": [
    "user_info.description  # description from the user’s profile"
   ]
  },
  {
   "cell_type": "code",
   "execution_count": 85,
   "metadata": {
    "tags": []
   },
   "outputs": [
    {
     "data": {
      "text/plain": [
       "Status(_api=<tweepy.api.API object at 0x0000024B5E786A60>, _json={'created_at': 'Wed May 11 23:15:22 +0000 2022', 'id': 1524528622719184896, 'id_str': '1524528622719184896', 'text': '“Complete Exploratory Data Analysis using Python” by Uğur Savcı\\nhttps://t.co/Vp44o2jQTU https://t.co/bEf5HBRtt8', 'truncated': False, 'entities': {'hashtags': [], 'symbols': [], 'user_mentions': [], 'urls': [{'url': 'https://t.co/Vp44o2jQTU', 'expanded_url': 'https://link.medium.com/IobrYt5fXpb', 'display_url': 'link.medium.com/IobrYt5fXpb', 'indices': [64, 87]}], 'media': [{'id': 1524528618034106370, 'id_str': '1524528618034106370', 'indices': [88, 111], 'media_url': 'http://pbs.twimg.com/media/FSg2s2fXEAIom5R.jpg', 'media_url_https': 'https://pbs.twimg.com/media/FSg2s2fXEAIom5R.jpg', 'url': 'https://t.co/bEf5HBRtt8', 'display_url': 'pic.twitter.com/bEf5HBRtt8', 'expanded_url': 'https://twitter.com/Cbhami02/status/1524528622719184896/photo/1', 'type': 'photo', 'sizes': {'thumb': {'w': 150, 'h': 150, 'resize': 'crop'}, 'large': {'w': 700, 'h': 1245, 'resize': 'fit'}, 'medium': {'w': 675, 'h': 1200, 'resize': 'fit'}, 'small': {'w': 382, 'h': 680, 'resize': 'fit'}}}]}, 'extended_entities': {'media': [{'id': 1524528618034106370, 'id_str': '1524528618034106370', 'indices': [88, 111], 'media_url': 'http://pbs.twimg.com/media/FSg2s2fXEAIom5R.jpg', 'media_url_https': 'https://pbs.twimg.com/media/FSg2s2fXEAIom5R.jpg', 'url': 'https://t.co/bEf5HBRtt8', 'display_url': 'pic.twitter.com/bEf5HBRtt8', 'expanded_url': 'https://twitter.com/Cbhami02/status/1524528622719184896/photo/1', 'type': 'photo', 'sizes': {'thumb': {'w': 150, 'h': 150, 'resize': 'crop'}, 'large': {'w': 700, 'h': 1245, 'resize': 'fit'}, 'medium': {'w': 675, 'h': 1200, 'resize': 'fit'}, 'small': {'w': 382, 'h': 680, 'resize': 'fit'}}}]}, 'source': '<a href=\"http://twitter.com/download/iphone\" rel=\"nofollow\">Twitter for iPhone</a>', 'in_reply_to_status_id': None, 'in_reply_to_status_id_str': None, 'in_reply_to_user_id': None, 'in_reply_to_user_id_str': None, 'in_reply_to_screen_name': None, 'geo': None, 'coordinates': None, 'place': None, 'contributors': None, 'is_quote_status': False, 'retweet_count': 0, 'favorite_count': 0, 'favorited': False, 'retweeted': False, 'possibly_sensitive': False, 'lang': 'fi'}, created_at=datetime.datetime(2022, 5, 11, 23, 15, 22), id=1524528622719184896, id_str='1524528622719184896', text='“Complete Exploratory Data Analysis using Python” by Uğur Savcı\\nhttps://t.co/Vp44o2jQTU https://t.co/bEf5HBRtt8', truncated=False, entities={'hashtags': [], 'symbols': [], 'user_mentions': [], 'urls': [{'url': 'https://t.co/Vp44o2jQTU', 'expanded_url': 'https://link.medium.com/IobrYt5fXpb', 'display_url': 'link.medium.com/IobrYt5fXpb', 'indices': [64, 87]}], 'media': [{'id': 1524528618034106370, 'id_str': '1524528618034106370', 'indices': [88, 111], 'media_url': 'http://pbs.twimg.com/media/FSg2s2fXEAIom5R.jpg', 'media_url_https': 'https://pbs.twimg.com/media/FSg2s2fXEAIom5R.jpg', 'url': 'https://t.co/bEf5HBRtt8', 'display_url': 'pic.twitter.com/bEf5HBRtt8', 'expanded_url': 'https://twitter.com/Cbhami02/status/1524528622719184896/photo/1', 'type': 'photo', 'sizes': {'thumb': {'w': 150, 'h': 150, 'resize': 'crop'}, 'large': {'w': 700, 'h': 1245, 'resize': 'fit'}, 'medium': {'w': 675, 'h': 1200, 'resize': 'fit'}, 'small': {'w': 382, 'h': 680, 'resize': 'fit'}}}]}, extended_entities={'media': [{'id': 1524528618034106370, 'id_str': '1524528618034106370', 'indices': [88, 111], 'media_url': 'http://pbs.twimg.com/media/FSg2s2fXEAIom5R.jpg', 'media_url_https': 'https://pbs.twimg.com/media/FSg2s2fXEAIom5R.jpg', 'url': 'https://t.co/bEf5HBRtt8', 'display_url': 'pic.twitter.com/bEf5HBRtt8', 'expanded_url': 'https://twitter.com/Cbhami02/status/1524528622719184896/photo/1', 'type': 'photo', 'sizes': {'thumb': {'w': 150, 'h': 150, 'resize': 'crop'}, 'large': {'w': 700, 'h': 1245, 'resize': 'fit'}, 'medium': {'w': 675, 'h': 1200, 'resize': 'fit'}, 'small': {'w': 382, 'h': 680, 'resize': 'fit'}}}]}, source='Twitter for iPhone', source_url='http://twitter.com/download/iphone', in_reply_to_status_id=None, in_reply_to_status_id_str=None, in_reply_to_user_id=None, in_reply_to_user_id_str=None, in_reply_to_screen_name=None, geo=None, coordinates=None, place=None, contributors=None, is_quote_status=False, retweet_count=0, favorite_count=0, favorited=False, retweeted=False, possibly_sensitive=False, lang='fi')"
      ]
     },
     "execution_count": 85,
     "metadata": {},
     "output_type": "execute_result"
    }
   ],
   "source": [
    "user_info.status  # most recent tweet's text"
   ]
  },
  {
   "cell_type": "code",
   "execution_count": 86,
   "metadata": {},
   "outputs": [
    {
     "name": "stdout",
     "output_type": "stream",
     "text": [
      "Cbhami02 is following 90 users.\n"
     ]
    }
   ],
   "source": [
    "print(f'{user_info.screen_name} is following {user_info.friends_count} users.')"
   ]
  },
  {
   "cell_type": "markdown",
   "metadata": {
    "jp-MarkdownHeadingCollapsed": true,
    "tags": []
   },
   "source": [
    "### Tweepy API User Info"
   ]
  },
  {
   "cell_type": "code",
   "execution_count": 87,
   "metadata": {},
   "outputs": [],
   "source": [
    "api = tweepy.API(auth)"
   ]
  },
  {
   "cell_type": "code",
   "execution_count": 88,
   "metadata": {},
   "outputs": [],
   "source": [
    "me = api.verify_credentials()"
   ]
  },
  {
   "cell_type": "code",
   "execution_count": 89,
   "metadata": {},
   "outputs": [
    {
     "data": {
      "text/plain": [
       "'Cole'"
      ]
     },
     "execution_count": 89,
     "metadata": {},
     "output_type": "execute_result"
    }
   ],
   "source": [
    "me.name"
   ]
  },
  {
   "cell_type": "code",
   "execution_count": 90,
   "metadata": {},
   "outputs": [
    {
     "name": "stdout",
     "output_type": "stream",
     "text": [
      "I have 20 follower.\n",
      "I am following 164 users.\n"
     ]
    }
   ],
   "source": [
    "print(f'I have {me.followers_count} follower.')\n",
    "print(f'I am following {me.friends_count} users.')"
   ]
  },
  {
   "cell_type": "markdown",
   "metadata": {
    "jp-MarkdownHeadingCollapsed": true,
    "tags": []
   },
   "source": [
    "### Rate Limits"
   ]
  },
  {
   "cell_type": "code",
   "execution_count": 91,
   "metadata": {
    "tags": []
   },
   "outputs": [
    {
     "data": {
      "text/plain": [
       "{'rate_limit_context': {'access_token': '2777419660-hIblVunw1TwIbGqiNE9HWcogMx3OaxTtRe0YxJN'},\n",
       " 'resources': {'lists': {'/lists/list': {'limit': 15,\n",
       "    'remaining': 15,\n",
       "    'reset': 1652504867},\n",
       "   '/lists/:id/tweets&GET': {'limit': 900,\n",
       "    'remaining': 900,\n",
       "    'reset': 1652504867},\n",
       "   '/lists/:id/followers&GET': {'limit': 180,\n",
       "    'remaining': 180,\n",
       "    'reset': 1652504867},\n",
       "   '/lists/memberships': {'limit': 75, 'remaining': 75, 'reset': 1652504867},\n",
       "   '/lists/:id&DELETE': {'limit': 300, 'remaining': 300, 'reset': 1652504867},\n",
       "   '/lists/subscriptions': {'limit': 15, 'remaining': 15, 'reset': 1652504867},\n",
       "   '/lists/members': {'limit': 900, 'remaining': 900, 'reset': 1652504867},\n",
       "   '/lists/:id&GET': {'limit': 75, 'remaining': 75, 'reset': 1652504867},\n",
       "   '/lists/subscribers/show': {'limit': 15,\n",
       "    'remaining': 15,\n",
       "    'reset': 1652504867},\n",
       "   '/lists/:id&PUT': {'limit': 300, 'remaining': 300, 'reset': 1652504867},\n",
       "   '/lists/show': {'limit': 75, 'remaining': 75, 'reset': 1652504867},\n",
       "   '/lists/ownerships': {'limit': 15, 'remaining': 15, 'reset': 1652504867},\n",
       "   '/lists/:id/members/:user_id&DELETE': {'limit': 300,\n",
       "    'remaining': 300,\n",
       "    'reset': 1652504867},\n",
       "   '/lists/subscribers': {'limit': 180, 'remaining': 180, 'reset': 1652504867},\n",
       "   '/lists/:id/members&POST': {'limit': 300,\n",
       "    'remaining': 300,\n",
       "    'reset': 1652504867},\n",
       "   '/lists/:id/members&GET': {'limit': 900,\n",
       "    'remaining': 900,\n",
       "    'reset': 1652504867},\n",
       "   '/lists/members/show': {'limit': 15, 'remaining': 15, 'reset': 1652504867},\n",
       "   '/lists/statuses': {'limit': 900, 'remaining': 900, 'reset': 1652504867}},\n",
       "  'application': {'/application/rate_limit_status': {'limit': 180,\n",
       "    'remaining': 180,\n",
       "    'reset': 1652504867}},\n",
       "  'mutes': {'/mutes/users/list': {'limit': 15,\n",
       "    'remaining': 15,\n",
       "    'reset': 1652504867},\n",
       "   '/mutes/users/ids': {'limit': 15, 'remaining': 15, 'reset': 1652504867}},\n",
       "  'verify': {'/verify/:version/badge-violation': {'limit': 15,\n",
       "    'remaining': 15,\n",
       "    'reset': 1652504867},\n",
       "   '/verify/:version/badge-violation/violations': {'limit': 15,\n",
       "    'remaining': 15,\n",
       "    'reset': 1652504867},\n",
       "   '/verify/:version/intake': {'limit': 15,\n",
       "    'remaining': 15,\n",
       "    'reset': 1652504867},\n",
       "   '/verify/:version/document-formats': {'limit': 15,\n",
       "    'remaining': 15,\n",
       "    'reset': 1652504867},\n",
       "   '/verify/:version/id-document&GET': {'limit': 1000,\n",
       "    'remaining': 1000,\n",
       "    'reset': 1652504867},\n",
       "   '/verify/:version/id-document&POST': {'limit': 15,\n",
       "    'remaining': 15,\n",
       "    'reset': 1652504867},\n",
       "   '/verify/:version/access': {'limit': 15,\n",
       "    'remaining': 15,\n",
       "    'reset': 1652504867},\n",
       "   '/verify/:version/account-eligibility': {'limit': 15,\n",
       "    'remaining': 15,\n",
       "    'reset': 1652504867}},\n",
       "  'admin_users': {'/admin_users': {'limit': 2000,\n",
       "    'remaining': 2000,\n",
       "    'reset': 1652504867}},\n",
       "  'live_video_stream': {'/live_video_stream/status/:id': {'limit': 1000,\n",
       "    'remaining': 1000,\n",
       "    'reset': 1652504867}},\n",
       "  'friendships': {'/friendships/outgoing': {'limit': 15,\n",
       "    'remaining': 15,\n",
       "    'reset': 1652504867},\n",
       "   '/friendships/list': {'limit': 200, 'remaining': 200, 'reset': 1652504867},\n",
       "   '/friendships/no_retweets/ids': {'limit': 15,\n",
       "    'remaining': 15,\n",
       "    'reset': 1652504867},\n",
       "   '/friendships/lookup': {'limit': 15, 'remaining': 15, 'reset': 1652504867},\n",
       "   '/friendships/incoming': {'limit': 15,\n",
       "    'remaining': 15,\n",
       "    'reset': 1652504867},\n",
       "   '/friendships/show': {'limit': 180, 'remaining': 180, 'reset': 1652504867}},\n",
       "  'guide': {'/guide': {'limit': 180, 'remaining': 180, 'reset': 1652504867},\n",
       "   '/guide/get_explore_locations': {'limit': 100,\n",
       "    'remaining': 100,\n",
       "    'reset': 1652504867},\n",
       "   '/guide/explore_locations_with_autocomplete': {'limit': 200,\n",
       "    'remaining': 200,\n",
       "    'reset': 1652504867}},\n",
       "  'auth': {'/auth/csrf_token': {'limit': 15,\n",
       "    'remaining': 15,\n",
       "    'reset': 1652504867}},\n",
       "  'compliance': {'/compliance/jobs&POST': {'limit': 150,\n",
       "    'remaining': 150,\n",
       "    'reset': 1652504867},\n",
       "   '/compliance/jobs&GET': {'limit': 150,\n",
       "    'remaining': 150,\n",
       "    'reset': 1652504867},\n",
       "   '/compliance/jobs/:job_id': {'limit': 150,\n",
       "    'remaining': 150,\n",
       "    'reset': 1652504867}},\n",
       "  'paseto': {'/paseto/token': {'limit': 100,\n",
       "    'remaining': 100,\n",
       "    'reset': 1652504867}},\n",
       "  'blocks': {'/blocks/list': {'limit': 15,\n",
       "    'remaining': 15,\n",
       "    'reset': 1652504867},\n",
       "   '/blocks/ids': {'limit': 15, 'remaining': 15, 'reset': 1652504867}},\n",
       "  'geo': {'/geo/similar_places': {'limit': 15,\n",
       "    'remaining': 15,\n",
       "    'reset': 1652504867},\n",
       "   '/geo/place_page': {'limit': 75, 'remaining': 75, 'reset': 1652504867},\n",
       "   '/geo/id/:place_id': {'limit': 75, 'remaining': 75, 'reset': 1652504867},\n",
       "   '/geo/reverse_geocode': {'limit': 15, 'remaining': 15, 'reset': 1652504867},\n",
       "   '/geo/search': {'limit': 15, 'remaining': 15, 'reset': 1652504867}},\n",
       "  'users': {'/users/': {'limit': 900, 'remaining': 900, 'reset': 1652504867},\n",
       "   '/users/:id/list_memberships&GET': {'limit': 75,\n",
       "    'remaining': 75,\n",
       "    'reset': 1652504867},\n",
       "   '/users/:id': {'limit': 900, 'remaining': 898, 'reset': 1652504866},\n",
       "   '/users/:id/muting&POST': {'limit': 50,\n",
       "    'remaining': 50,\n",
       "    'reset': 1652504867},\n",
       "   '/users/report_spam': {'limit': 15, 'remaining': 15, 'reset': 1652504867},\n",
       "   '/users/:id/pinned_lists/:list_id&DELETE': {'limit': 50,\n",
       "    'remaining': 50,\n",
       "    'reset': 1652504867},\n",
       "   '/users/:source_user_id/blocking/:target_user_id&DELETE': {'limit': 50,\n",
       "    'remaining': 50,\n",
       "    'reset': 1652504867},\n",
       "   '/users/contributors/pending': {'limit': 2000,\n",
       "    'remaining': 2000,\n",
       "    'reset': 1652504867},\n",
       "   '/users/show/:id': {'limit': 900, 'remaining': 900, 'reset': 1652504867},\n",
       "   '/users/:source_user_id/following&POST': {'limit': 50,\n",
       "    'remaining': 50,\n",
       "    'reset': 1652504867},\n",
       "   '/users/:id/tweets': {'limit': 900, 'remaining': 900, 'reset': 1652504867},\n",
       "   '/users/:id/retweets/:source_tweet_id&DELETE': {'limit': 50,\n",
       "    'remaining': 50,\n",
       "    'reset': 1652504867},\n",
       "   '/users/search': {'limit': 900, 'remaining': 900, 'reset': 1652504867},\n",
       "   '/users/:id/likes&POST': {'limit': 50,\n",
       "    'remaining': 50,\n",
       "    'reset': 1652504867},\n",
       "   '/users/suggestions/:slug': {'limit': 15,\n",
       "    'remaining': 15,\n",
       "    'reset': 1652504867},\n",
       "   '/users/contributees/pending': {'limit': 200,\n",
       "    'remaining': 200,\n",
       "    'reset': 1652504867},\n",
       "   '/users/:id/retweets&POST': {'limit': 50,\n",
       "    'remaining': 50,\n",
       "    'reset': 1652504867},\n",
       "   '/users/profile_banner': {'limit': 180,\n",
       "    'remaining': 180,\n",
       "    'reset': 1652504867},\n",
       "   '/users/by/username/:source_username/following/:target_user_name&DELETE': {'limit': 50,\n",
       "    'remaining': 50,\n",
       "    'reset': 1652504867},\n",
       "   '/users/by/username/:handle/tweets': {'limit': 900,\n",
       "    'remaining': 900,\n",
       "    'reset': 1652504867},\n",
       "   '/users/derived_info': {'limit': 15, 'remaining': 15, 'reset': 1652504867},\n",
       "   '/users/:id/blocking&POST': {'limit': 50,\n",
       "    'remaining': 50,\n",
       "    'reset': 1652504867},\n",
       "   '/users/by/username/:source_username/following&POST': {'limit': 50,\n",
       "    'remaining': 50,\n",
       "    'reset': 1652504867},\n",
       "   '/users/:id/followers': {'limit': 15, 'remaining': 15, 'reset': 1652504867},\n",
       "   '/users/suggestions/:slug/members': {'limit': 15,\n",
       "    'remaining': 15,\n",
       "    'reset': 1652504867},\n",
       "   '/users/:id/muting': {'limit': 15, 'remaining': 15, 'reset': 1652504867},\n",
       "   '/users/:id/pinned_lists&GET': {'limit': 15,\n",
       "    'remaining': 15,\n",
       "    'reset': 1652504867},\n",
       "   '/users/:id/mentions': {'limit': 180,\n",
       "    'remaining': 180,\n",
       "    'reset': 1652504867},\n",
       "   '/users/:id/following': {'limit': 15, 'remaining': 15, 'reset': 1652504867},\n",
       "   '/users/:id/pinned_lists&POST': {'limit': 50,\n",
       "    'remaining': 50,\n",
       "    'reset': 1652504867},\n",
       "   '/users/:source_user_id/following/:target_user_id&DELETE': {'limit': 50,\n",
       "    'remaining': 50,\n",
       "    'reset': 1652504867},\n",
       "   '/users/by/username/:username': {'limit': 900,\n",
       "    'remaining': 900,\n",
       "    'reset': 1652504867},\n",
       "   '/users/:id/owned_lists&GET': {'limit': 15,\n",
       "    'remaining': 15,\n",
       "    'reset': 1652504867},\n",
       "   '/users/:id/followed_lists&POST': {'limit': 50,\n",
       "    'remaining': 50,\n",
       "    'reset': 1652504867},\n",
       "   '/users/by/username/:username/followers': {'limit': 15,\n",
       "    'remaining': 15,\n",
       "    'reset': 1652504867},\n",
       "   '/users/lookup': {'limit': 900, 'remaining': 900, 'reset': 1652504867},\n",
       "   '/users/:id/followed_lists/:list_id&DELETE': {'limit': 50,\n",
       "    'remaining': 50,\n",
       "    'reset': 1652504867},\n",
       "   '/users/:id/blocking': {'limit': 15, 'remaining': 15, 'reset': 1652504867},\n",
       "   '/users/suggestions': {'limit': 15, 'remaining': 15, 'reset': 1652504867},\n",
       "   '/users/:id/likes/:tweet_id&DELETE': {'limit': 50,\n",
       "    'remaining': 50,\n",
       "    'reset': 1652504867},\n",
       "   '/users/by/username/:username/following': {'limit': 15,\n",
       "    'remaining': 15,\n",
       "    'reset': 1652504867},\n",
       "   '/users/by/username/:handle/mentions': {'limit': 180,\n",
       "    'remaining': 180,\n",
       "    'reset': 1652504867},\n",
       "   '/users/by': {'limit': 900, 'remaining': 900, 'reset': 1652504867},\n",
       "   '/users/:source_user_id/muting/:target_user_id&DELETE': {'limit': 50,\n",
       "    'remaining': 50,\n",
       "    'reset': 1652504867},\n",
       "   '/users/:id/followed_lists&GET': {'limit': 15,\n",
       "    'remaining': 15,\n",
       "    'reset': 1652504867},\n",
       "   '/users/:id/liked_tweets': {'limit': 75,\n",
       "    'remaining': 75,\n",
       "    'reset': 1652504867}},\n",
       "  'teams': {'/teams/authorize': {'limit': 15,\n",
       "    'remaining': 15,\n",
       "    'reset': 1652504867}},\n",
       "  'followers': {'/followers/ids': {'limit': 15,\n",
       "    'remaining': 15,\n",
       "    'reset': 1652504867},\n",
       "   '/followers/list': {'limit': 15, 'remaining': 15, 'reset': 1652504867}},\n",
       "  'collections': {'/collections/list': {'limit': 1000,\n",
       "    'remaining': 1000,\n",
       "    'reset': 1652504867},\n",
       "   '/collections/entries': {'limit': 1000,\n",
       "    'remaining': 1000,\n",
       "    'reset': 1652504867},\n",
       "   '/collections/show': {'limit': 1000,\n",
       "    'remaining': 1000,\n",
       "    'reset': 1652504867}},\n",
       "  'permissions': {'/permissions/user_permissions/admin_email_verification': {'limit': 3,\n",
       "    'remaining': 3,\n",
       "    'reset': 1652504867},\n",
       "   '/permissions/user_permissions': {'limit': 3,\n",
       "    'remaining': 3,\n",
       "    'reset': 1652504867}},\n",
       "  'tweets&POST': {'/tweets&POST': {'limit': 200,\n",
       "    'remaining': 200,\n",
       "    'reset': 1652504867}},\n",
       "  'statuses': {'/statuses/retweeters/ids': {'limit': 75,\n",
       "    'remaining': 75,\n",
       "    'reset': 1652504867},\n",
       "   '/statuses/retweets_of_me': {'limit': 75,\n",
       "    'remaining': 75,\n",
       "    'reset': 1652504867},\n",
       "   '/statuses/home_timeline': {'limit': 15,\n",
       "    'remaining': 15,\n",
       "    'reset': 1652504867},\n",
       "   '/statuses/show/:id': {'limit': 900, 'remaining': 900, 'reset': 1652504867},\n",
       "   '/statuses/user_timeline': {'limit': 900,\n",
       "    'remaining': 900,\n",
       "    'reset': 1652504867},\n",
       "   '/statuses/friends': {'limit': 15, 'remaining': 15, 'reset': 1652504867},\n",
       "   '/statuses/retweets/:id': {'limit': 75,\n",
       "    'remaining': 75,\n",
       "    'reset': 1652504867},\n",
       "   '/statuses/mentions_timeline': {'limit': 75,\n",
       "    'remaining': 75,\n",
       "    'reset': 1652504867},\n",
       "   '/statuses/oembed': {'limit': 180, 'remaining': 180, 'reset': 1652504867},\n",
       "   '/statuses/lookup': {'limit': 900, 'remaining': 900, 'reset': 1652504867}},\n",
       "  'custom_profiles': {'/custom_profiles/list': {'limit': 180,\n",
       "    'remaining': 180,\n",
       "    'reset': 1652504867},\n",
       "   '/custom_profiles/show': {'limit': 180,\n",
       "    'remaining': 180,\n",
       "    'reset': 1652504867}},\n",
       "  'webhooks': {'/webhooks/subscriptions/direct_messages': {'limit': 15,\n",
       "    'remaining': 15,\n",
       "    'reset': 1652504867},\n",
       "   '/webhooks': {'limit': 15, 'remaining': 15, 'reset': 1652504867}},\n",
       "  'contacts': {'/contacts/uploaded_by': {'limit': 300,\n",
       "    'remaining': 300,\n",
       "    'reset': 1652504867},\n",
       "   '/contacts/users': {'limit': 300, 'remaining': 300, 'reset': 1652504867},\n",
       "   '/contacts/addressbook': {'limit': 300,\n",
       "    'remaining': 300,\n",
       "    'reset': 1652504867},\n",
       "   '/contacts/users_and_uploaded_by': {'limit': 300,\n",
       "    'remaining': 300,\n",
       "    'reset': 1652504867},\n",
       "   '/contacts/delete/status': {'limit': 300,\n",
       "    'remaining': 300,\n",
       "    'reset': 1652504867}},\n",
       "  'labs': {'/labs/2/platform_manipulation/reports': {'limit': 5,\n",
       "    'remaining': 5,\n",
       "    'reset': 1652504867},\n",
       "   '/labs/:version/tweets/:id/hidden&PUT': {'limit': 10,\n",
       "    'remaining': 10,\n",
       "    'reset': 1652504867},\n",
       "   '/labs/:version/tweets/stream/filter/': {'limit': 50,\n",
       "    'remaining': 50,\n",
       "    'reset': 1652504867},\n",
       "   '/labs/:version/users/:id/tweets': {'limit': 225,\n",
       "    'remaining': 225,\n",
       "    'reset': 1652504867},\n",
       "   '/labs/2/reports': {'limit': 5, 'remaining': 5, 'reset': 1652504867},\n",
       "   '/labs/:version/tweets/stream/filter/rules&POST': {'limit': 450,\n",
       "    'remaining': 450,\n",
       "    'reset': 1652504867},\n",
       "   '/labs/:version/tweets/stream/sample': {'limit': 50,\n",
       "    'remaining': 50,\n",
       "    'reset': 1652504867},\n",
       "   '/labs/:version/users/by/username/:handle/tweets': {'limit': 225,\n",
       "    'remaining': 225,\n",
       "    'reset': 1652504867},\n",
       "   '/labs/:version/tweets/metrics/private': {'limit': 15,\n",
       "    'remaining': 15,\n",
       "    'reset': 1652504867},\n",
       "   '/labs/:version/tweets/stream/filter/rules/:instance_name': {'limit': 450,\n",
       "    'remaining': 450,\n",
       "    'reset': 1652504867},\n",
       "   '/labs/:version/tweets/*': {'limit': 900,\n",
       "    'remaining': 900,\n",
       "    'reset': 1652504867},\n",
       "   '/labs/:version/users/*': {'limit': 900,\n",
       "    'remaining': 900,\n",
       "    'reset': 1652504867},\n",
       "   '/labs/:version/tweets/stream/filter/:instance_name': {'limit': 50,\n",
       "    'remaining': 50,\n",
       "    'reset': 1652504867},\n",
       "   '/labs/:version/tweets/stream/filter/rules/': {'limit': 450,\n",
       "    'remaining': 450,\n",
       "    'reset': 1652504867},\n",
       "   '/labs/:version/tweets/stream/compliance': {'limit': 500,\n",
       "    'remaining': 500,\n",
       "    'reset': 1652504867},\n",
       "   '/labs/:version/tweets/search': {'limit': 225,\n",
       "    'remaining': 225,\n",
       "    'reset': 1652504867}},\n",
       "  'i': {'/i/config': {'limit': 15, 'remaining': 15, 'reset': 1652504867},\n",
       "   '/i/tfb/v1/smb/web/:account_id/payment/save': {'limit': 15,\n",
       "    'remaining': 15,\n",
       "    'reset': 1652504867}},\n",
       "  'tweet_prompts': {'/tweet_prompts/report_interaction': {'limit': 180,\n",
       "    'remaining': 180,\n",
       "    'reset': 1652504867},\n",
       "   '/tweet_prompts/show': {'limit': 180,\n",
       "    'remaining': 180,\n",
       "    'reset': 1652504867}},\n",
       "  'moments': {'/moments/statuses/update': {'limit': 5,\n",
       "    'remaining': 5,\n",
       "    'reset': 1652504867},\n",
       "   '/moments/create': {'limit': 15, 'remaining': 15, 'reset': 1652504867},\n",
       "   '/moments/permissions': {'limit': 300,\n",
       "    'remaining': 300,\n",
       "    'reset': 1652504867}},\n",
       "  'limiter_scalding_report_creation': {'/limiter_scalding_report_creation': {'limit': 4500,\n",
       "    'remaining': 4500,\n",
       "    'reset': 1652504867}},\n",
       "  'fleets': {'/fleets/:version/mutes/create': {'limit': 100,\n",
       "    'remaining': 100,\n",
       "    'reset': 1652504867},\n",
       "   '/fleets/:version/viewers': {'limit': 100,\n",
       "    'remaining': 100,\n",
       "    'reset': 1652504867},\n",
       "   '/fleets/:version/delete': {'limit': 50,\n",
       "    'remaining': 50,\n",
       "    'reset': 1652504867},\n",
       "   '/fleets/:version/avatar_content': {'limit': 100,\n",
       "    'remaining': 100,\n",
       "    'reset': 1652504867},\n",
       "   '/fleets/:version/create': {'limit': 50,\n",
       "    'remaining': 50,\n",
       "    'reset': 1652504867},\n",
       "   '/fleets/:version/user_fleets': {'limit': 180,\n",
       "    'remaining': 180,\n",
       "    'reset': 1652504867},\n",
       "   '/fleets/:version/fleetline': {'limit': 100,\n",
       "    'remaining': 100,\n",
       "    'reset': 1652504867},\n",
       "   '/fleets/:version/track_events': {'limit': 100,\n",
       "    'remaining': 100,\n",
       "    'reset': 1652504867},\n",
       "   '/fleets/:version/update': {'limit': 50,\n",
       "    'remaining': 50,\n",
       "    'reset': 1652504867},\n",
       "   '/fleets/:version/fleet_threads': {'limit': 1000,\n",
       "    'remaining': 1000,\n",
       "    'reset': 1652504867},\n",
       "   '/fleets/:version/mutes/list': {'limit': 100,\n",
       "    'remaining': 100,\n",
       "    'reset': 1652504867},\n",
       "   '/fleets/:version/mutes/destroy': {'limit': 100,\n",
       "    'remaining': 100,\n",
       "    'reset': 1652504867},\n",
       "   '/fleets/:version/home_timeline': {'limit': 100,\n",
       "    'remaining': 100,\n",
       "    'reset': 1652504867},\n",
       "   '/fleets/:version/feedback/create': {'limit': 500,\n",
       "    'remaining': 500,\n",
       "    'reset': 1652504867},\n",
       "   '/fleets/:version/mark_read': {'limit': 1000,\n",
       "    'remaining': 1000,\n",
       "    'reset': 1652504867}},\n",
       "  'help': {'/help/tos': {'limit': 15, 'remaining': 15, 'reset': 1652504867},\n",
       "   '/help/configuration': {'limit': 15, 'remaining': 15, 'reset': 1652504867},\n",
       "   '/help/settings': {'limit': 15, 'remaining': 15, 'reset': 1652504867},\n",
       "   '/help/privacy': {'limit': 15, 'remaining': 15, 'reset': 1652504867},\n",
       "   '/help/languages': {'limit': 15, 'remaining': 15, 'reset': 1652504867}},\n",
       "  'feedback': {'/feedback/show/:id': {'limit': 180,\n",
       "    'remaining': 180,\n",
       "    'reset': 1652504867},\n",
       "   '/feedback/events': {'limit': 1000,\n",
       "    'remaining': 1000,\n",
       "    'reset': 1652504867}},\n",
       "  'business_experience': {'/business_experience/dashboard_settings/destroy': {'limit': 450,\n",
       "    'remaining': 450,\n",
       "    'reset': 1652504867},\n",
       "   '/business_experience/dashboard_features': {'limit': 450,\n",
       "    'remaining': 450,\n",
       "    'reset': 1652504867},\n",
       "   '/business_experience/keywords': {'limit': 450,\n",
       "    'remaining': 450,\n",
       "    'reset': 1652504867},\n",
       "   '/business_experience/dashboard_settings/update': {'limit': 450,\n",
       "    'remaining': 450,\n",
       "    'reset': 1652504867},\n",
       "   '/business_experience/dashboard_settings/show': {'limit': 450,\n",
       "    'remaining': 450,\n",
       "    'reset': 1652504867}},\n",
       "  'graphql&POST': {'/graphql&POST': {'limit': 15,\n",
       "    'remaining': 15,\n",
       "    'reset': 1652504867}},\n",
       "  'friends': {'/friends/following/ids': {'limit': 15,\n",
       "    'remaining': 15,\n",
       "    'reset': 1652504867},\n",
       "   '/friends/following/list': {'limit': 15,\n",
       "    'remaining': 15,\n",
       "    'reset': 1652504867},\n",
       "   '/friends/list': {'limit': 15, 'remaining': 15, 'reset': 1652504867},\n",
       "   '/friends/ids': {'limit': 15, 'remaining': 15, 'reset': 1652504867}},\n",
       "  'sandbox': {'/sandbox/account_activity/webhooks/:id/subscriptions': {'limit': 500,\n",
       "    'remaining': 500,\n",
       "    'reset': 1652504867}},\n",
       "  'drafts': {'/drafts/statuses/update': {'limit': 450,\n",
       "    'remaining': 450,\n",
       "    'reset': 1652504867},\n",
       "   '/drafts/statuses/destroy': {'limit': 450,\n",
       "    'remaining': 450,\n",
       "    'reset': 1652504867},\n",
       "   '/drafts/statuses/ids': {'limit': 450,\n",
       "    'remaining': 450,\n",
       "    'reset': 1652504867},\n",
       "   '/drafts/statuses/list': {'limit': 450,\n",
       "    'remaining': 450,\n",
       "    'reset': 1652504867},\n",
       "   '/drafts/statuses/show': {'limit': 450,\n",
       "    'remaining': 450,\n",
       "    'reset': 1652504867},\n",
       "   '/drafts/statuses/create': {'limit': 450,\n",
       "    'remaining': 450,\n",
       "    'reset': 1652504867}},\n",
       "  'direct_messages': {'/direct_messages/sent': {'limit': 300,\n",
       "    'remaining': 300,\n",
       "    'reset': 1652504867},\n",
       "   '/direct_messages/broadcasts/list': {'limit': 60,\n",
       "    'remaining': 60,\n",
       "    'reset': 1652504867},\n",
       "   '/direct_messages/subscribers/lists/members/show': {'limit': 1000,\n",
       "    'remaining': 1000,\n",
       "    'reset': 1652504867},\n",
       "   '/direct_messages/mark_read': {'limit': 1000,\n",
       "    'remaining': 1000,\n",
       "    'reset': 1652504867},\n",
       "   '/direct_messages/subscribers/ids': {'limit': 180,\n",
       "    'remaining': 180,\n",
       "    'reset': 1652504867},\n",
       "   '/direct_messages/sent_and_received': {'limit': 300,\n",
       "    'remaining': 300,\n",
       "    'reset': 1652504867},\n",
       "   '/direct_messages/broadcasts/statuses/list': {'limit': 60,\n",
       "    'remaining': 60,\n",
       "    'reset': 1652504867},\n",
       "   '/direct_messages': {'limit': 300, 'remaining': 300, 'reset': 1652504867},\n",
       "   '/direct_messages/subscribers/lists/members/ids': {'limit': 180,\n",
       "    'remaining': 180,\n",
       "    'reset': 1652504867},\n",
       "   '/direct_messages/subscribers/show': {'limit': 180,\n",
       "    'remaining': 180,\n",
       "    'reset': 1652504867},\n",
       "   '/direct_messages/broadcasts/show': {'limit': 60,\n",
       "    'remaining': 60,\n",
       "    'reset': 1652504867},\n",
       "   '/direct_messages/broadcasts/statuses/show': {'limit': 60,\n",
       "    'remaining': 60,\n",
       "    'reset': 1652504867},\n",
       "   '/direct_messages/subscribers/lists/list': {'limit': 180,\n",
       "    'remaining': 180,\n",
       "    'reset': 1652504867},\n",
       "   '/direct_messages/show': {'limit': 300,\n",
       "    'remaining': 300,\n",
       "    'reset': 1652504867},\n",
       "   '/direct_messages/events/list': {'limit': 15,\n",
       "    'remaining': 15,\n",
       "    'reset': 1652504867},\n",
       "   '/direct_messages/subscribers/lists/show': {'limit': 180,\n",
       "    'remaining': 180,\n",
       "    'reset': 1652504867},\n",
       "   '/direct_messages/events/show': {'limit': 15,\n",
       "    'remaining': 15,\n",
       "    'reset': 1652504867}},\n",
       "  'media': {'/media/upload': {'limit': 500,\n",
       "    'remaining': 500,\n",
       "    'reset': 1652504867}},\n",
       "  'traffic': {'/traffic/map': {'limit': 15,\n",
       "    'remaining': 15,\n",
       "    'reset': 1652504867}},\n",
       "  'strato': {'/strato/column/None/:id/cms/*': {'limit': 150,\n",
       "    'remaining': 150,\n",
       "    'reset': 1652504867}},\n",
       "  'account_activity': {'/account_activity/all/webhooks': {'limit': 15,\n",
       "    'remaining': 15,\n",
       "    'reset': 1652504867},\n",
       "   '/account_activity/all/:instance_name/subscriptions': {'limit': 500,\n",
       "    'remaining': 500,\n",
       "    'reset': 1652504867},\n",
       "   '/account_activity/direct_messages/webhooks': {'limit': 15,\n",
       "    'remaining': 15,\n",
       "    'reset': 1652504867},\n",
       "   '/account_activity/webhooks/:id/subscriptions/direct_messages/list': {'limit': 15,\n",
       "    'remaining': 15,\n",
       "    'reset': 1652504867},\n",
       "   '/account_activity/webhooks/:id/subscriptions/all': {'limit': 500,\n",
       "    'remaining': 500,\n",
       "    'reset': 1652504867},\n",
       "   '/account_activity/direct_messages/:instance_name/webhooks': {'limit': 15,\n",
       "    'remaining': 15,\n",
       "    'reset': 1652504867},\n",
       "   '/account_activity/webhooks/:id/subscriptions/all/list': {'limit': 15,\n",
       "    'remaining': 15,\n",
       "    'reset': 1652504867},\n",
       "   '/account_activity/webhooks/:id/subscriptions/direct_messages': {'limit': 500,\n",
       "    'remaining': 500,\n",
       "    'reset': 1652504867},\n",
       "   '/account_activity/webhooks': {'limit': 15,\n",
       "    'remaining': 15,\n",
       "    'reset': 1652504867},\n",
       "   '/account_activity/direct_messages/:instance_name/subscriptions': {'limit': 15,\n",
       "    'remaining': 15,\n",
       "    'reset': 1652504867},\n",
       "   '/account_activity/webhooks/:id/subscriptions': {'limit': 500,\n",
       "    'remaining': 500,\n",
       "    'reset': 1652504867},\n",
       "   '/account_activity/all/:instance_name/webhooks': {'limit': 15,\n",
       "    'remaining': 15,\n",
       "    'reset': 1652504867}},\n",
       "  'account': {'/account/login_verification_enrollment': {'limit': 15,\n",
       "    'remaining': 15,\n",
       "    'reset': 1652504867},\n",
       "   '/account/update_profile': {'limit': 15,\n",
       "    'remaining': 15,\n",
       "    'reset': 1652504867},\n",
       "   '/account/authenticate_web_view': {'limit': 50,\n",
       "    'remaining': 50,\n",
       "    'reset': 1652504867},\n",
       "   '/account/verify_credentials': {'limit': 75,\n",
       "    'remaining': 74,\n",
       "    'reset': 1652504866},\n",
       "   '/account/settings': {'limit': 15, 'remaining': 15, 'reset': 1652504867},\n",
       "   '/account/personalization/p13n_preferences': {'limit': 200,\n",
       "    'remaining': 200,\n",
       "    'reset': 1652504867},\n",
       "   '/account/change_password': {'limit': 15,\n",
       "    'remaining': 15,\n",
       "    'reset': 1652504867}},\n",
       "  'safety': {'/safety/detection_feedback': {'limit': 450000,\n",
       "    'remaining': 450000,\n",
       "    'reset': 1652504867}},\n",
       "  'favorites': {'/favorites/list': {'limit': 75,\n",
       "    'remaining': 75,\n",
       "    'reset': 1652504867}},\n",
       "  'lists&POST': {'/lists&POST': {'limit': 300,\n",
       "    'remaining': 300,\n",
       "    'reset': 1652504867}},\n",
       "  'device': {'/device/token': {'limit': 15,\n",
       "    'remaining': 15,\n",
       "    'reset': 1652504867}},\n",
       "  'tweets': {'/tweets/search/all': {'limit': 900,\n",
       "    'remaining': 900,\n",
       "    'reset': 1652504867},\n",
       "   '/tweets/search/stream/rules': {'limit': 450,\n",
       "    'remaining': 450,\n",
       "    'reset': 1652504867},\n",
       "   '/tweets/search/recent': {'limit': 180,\n",
       "    'remaining': 180,\n",
       "    'reset': 1652504867},\n",
       "   '/tweets/sample/stream': {'limit': 50,\n",
       "    'remaining': 50,\n",
       "    'reset': 1652504867},\n",
       "   '/tweets/:id&DELETE': {'limit': 50, 'remaining': 50, 'reset': 1652504867},\n",
       "   '/tweets/': {'limit': 900, 'remaining': 900, 'reset': 1652504867},\n",
       "   '/tweets/counts/all': {'limit': 900, 'remaining': 900, 'reset': 1652504867},\n",
       "   '/tweets/search/stream': {'limit': 50,\n",
       "    'remaining': 50,\n",
       "    'reset': 1652504867},\n",
       "   '/tweets/search/:product/:label': {'limit': 1800,\n",
       "    'remaining': 1800,\n",
       "    'reset': 1652504867},\n",
       "   '/tweets/search/stream/rules/validation&POST': {'limit': 450,\n",
       "    'remaining': 450,\n",
       "    'reset': 1652504867},\n",
       "   '/tweets/search/:product/:instance/counts': {'limit': 900,\n",
       "    'remaining': 900,\n",
       "    'reset': 1652504867},\n",
       "   '/tweets/:id/retweeted_by': {'limit': 75,\n",
       "    'remaining': 75,\n",
       "    'reset': 1652504867},\n",
       "   '/tweets/:tweet_id/liking_users': {'limit': 75,\n",
       "    'remaining': 75,\n",
       "    'reset': 1652504867},\n",
       "   '/tweets/:id': {'limit': 900, 'remaining': 900, 'reset': 1652504867},\n",
       "   '/tweets/search/stream/rules&DELETE': {'limit': 450,\n",
       "    'remaining': 450,\n",
       "    'reset': 1652504867},\n",
       "   '/tweets/counts/recent': {'limit': 900,\n",
       "    'remaining': 900,\n",
       "    'reset': 1652504867},\n",
       "   '/tweets/search/stream/rules&POST': {'limit': 450,\n",
       "    'remaining': 450,\n",
       "    'reset': 1652504867},\n",
       "   '/tweets/:id/hidden&PUT': {'limit': 50,\n",
       "    'remaining': 50,\n",
       "    'reset': 1652504867}},\n",
       "  'saved_searches': {'/saved_searches/destroy/:id': {'limit': 15,\n",
       "    'remaining': 15,\n",
       "    'reset': 1652504867},\n",
       "   '/saved_searches/show/:id': {'limit': 15,\n",
       "    'remaining': 15,\n",
       "    'reset': 1652504867},\n",
       "   '/saved_searches/list': {'limit': 15,\n",
       "    'remaining': 15,\n",
       "    'reset': 1652504867}},\n",
       "  'oauth': {'/oauth/revoke': {'limit': 15,\n",
       "    'remaining': 15,\n",
       "    'reset': 1652504867},\n",
       "   '/oauth/invalidate_token': {'limit': 450,\n",
       "    'remaining': 450,\n",
       "    'reset': 1652504867},\n",
       "   '/oauth/revoke_html': {'limit': 15, 'remaining': 15, 'reset': 1652504867}},\n",
       "  'search': {'/search/tweets': {'limit': 180,\n",
       "    'remaining': 180,\n",
       "    'reset': 1652504867}},\n",
       "  'trends': {'/trends/closest': {'limit': 75,\n",
       "    'remaining': 75,\n",
       "    'reset': 1652504867},\n",
       "   '/trends/available': {'limit': 75, 'remaining': 75, 'reset': 1652504867},\n",
       "   '/trends/place': {'limit': 75, 'remaining': 75, 'reset': 1652504867}},\n",
       "  'live_pipeline': {'/live_pipeline/events': {'limit': 180,\n",
       "    'remaining': 180,\n",
       "    'reset': 1652504867}},\n",
       "  'graphql': {'/graphql': {'limit': 15,\n",
       "    'remaining': 15,\n",
       "    'reset': 1652504867}}}}"
      ]
     },
     "execution_count": 91,
     "metadata": {},
     "output_type": "execute_result"
    }
   ],
   "source": [
    "api.rate_limit_status()"
   ]
  },
  {
   "cell_type": "code",
   "execution_count": 92,
   "metadata": {},
   "outputs": [],
   "source": [
    "cbhami02=api.get_user(screen_name='cbhami02')\n"
   ]
  },
  {
   "cell_type": "code",
   "execution_count": 93,
   "metadata": {},
   "outputs": [
    {
     "name": "stdout",
     "output_type": "stream",
     "text": [
      "{'limit': 900, 'remaining': 897, 'reset': 1652504866}\n"
     ]
    }
   ],
   "source": [
    "print(api.rate_limit_status()['resources']['users']['/users/:id'])"
   ]
  },
  {
   "cell_type": "code",
   "execution_count": 94,
   "metadata": {},
   "outputs": [
    {
     "name": "stdout",
     "output_type": "stream",
     "text": [
      "{'limit': 180, 'remaining': 180, 'reset': 1652504867}\n"
     ]
    }
   ],
   "source": [
    "print(api.rate_limit_status()['resources']['application']['/application/rate_limit_status'])"
   ]
  },
  {
   "cell_type": "markdown",
   "metadata": {
    "jp-MarkdownHeadingCollapsed": true,
    "tags": []
   },
   "source": [
    "### Followers"
   ]
  },
  {
   "cell_type": "code",
   "execution_count": 95,
   "metadata": {
    "tags": []
   },
   "outputs": [],
   "source": [
    "cursor = tweepy.Cursor(api.followers)"
   ]
  },
  {
   "cell_type": "code",
   "execution_count": 96,
   "metadata": {},
   "outputs": [],
   "source": [
    "followers = []  # for storing followers' User objects\n",
    "for account in cursor.items(15):  # request only 10 results (10 most recent followers in this case)\n",
    "    followers.append(account.screen_name)"
   ]
  },
  {
   "cell_type": "code",
   "execution_count": 97,
   "metadata": {},
   "outputs": [
    {
     "name": "stdout",
     "output_type": "stream",
     "text": [
      "Followers: 1SG_Hamilton adore_myBitches BrockCline ChildsSherry GucciManeNtail HamptonRFinest mwyattea OrderUpFayville PjCarl porge10 sayedabdulqadee shefferba49 soldiersofpaint VA_HomeLoan yongkuansima\n"
     ]
    }
   ],
   "source": [
    "print('Followers:', \n",
    "      ' '.join(sorted(followers, key=lambda s: s.lower())))"
   ]
  },
  {
   "cell_type": "code",
   "execution_count": 98,
   "metadata": {},
   "outputs": [
    {
     "name": "stdout",
     "output_type": "stream",
     "text": [
      "['Chrisbo1515', 'On85601372', 'Lx100hht', 'borasi_madhu', 'CakicLidija', 'hon_yara_dou', '4UJyy_', 'MatthewBurleig6', 'flanelbiru', 'DeadlyHunter37']\n"
     ]
    }
   ],
   "source": [
    "cursor = tweepy.Cursor(api.followers, screen_name='nasa', count=200)\n",
    "followers = []\n",
    "for account in cursor.items(10):  # request 2 pages of followers\n",
    "    followers.append(account.screen_name)\n",
    "\n",
    "print(followers)"
   ]
  },
  {
   "cell_type": "code",
   "execution_count": 99,
   "metadata": {},
   "outputs": [],
   "source": [
    "cursor = tweepy.Cursor(api.followers_ids, screen_name='nasa', count=5000)\n",
    "followers_ids = []\n",
    "for accountid in cursor.items(5000): #request 1 page of follower_ids\n",
    "    followers_ids.append(accountid)"
   ]
  },
  {
   "cell_type": "code",
   "execution_count": 100,
   "metadata": {
    "tags": []
   },
   "outputs": [
    {
     "name": "stdout",
     "output_type": "stream",
     "text": [
      "[1525337600780693505, 1525337828388913155, 1486409584306757636, 1525338129841786882, 1525338025969930240, 1525335342194511872, 1525333095171375106, 1110801046442381318, 1525337596741689344, 1525337457134166018, 1525337344697860096, 1467453330209140736, 1525337996249010177, 1525337349755912196, 1525337304448917504, 1525336891842764800, 1525337492194459650, 1333770431569022979, 1525326964864729089, 1525336050042032128, 1525337664702058498, 1525337424293171201, 916314153069039616, 1525315140811300865, 1525336672606355457, 1525334406667325440, 1525337481570295808, 1500308345722310656, 1525336074364526595, 1439166790408409092, 1525337806750777344, 1525337014853177345, 1525337413157019648, 1525337496103505920, 1525337383503376384, 1525335599795814408, 1525336872288935944, 1525332973607739393, 1525337533047099392, 1385041619238363136, 1525337608250961922, 1525336607418732544, 1525329841595244545, 1525337625959272449, 1519907590020292608, 1525337494853591040, 1503506525796679684, 1525326904521158656, 1525337131253637120, 1525336463851790336, 1525337475245346816, 1525337753239822336, 1477971118577557506, 1363087578958761984, 1497658254003896320, 1525337831182585856, 1525337294089367552, 1525337437651619840, 1525337833954844672, 1525337653432000512, 1525336772682477570, 1525337357653749760, 1517579239700148224, 1503953994603020289, 1525337647643643904, 1525337721778016256, 1525337658788134912, 1525337416533303297, 1525337232655405061, 1525337298086285312, 262095061, 1348021075997765633, 1525336082803527681, 1525336791112613889, 1523541901479096322, 1525337469583077376, 1525337309922881537, 1452177293770518534, 1519363137451229184, 1525337452113698816, 1525337398619643910, 1525336278207590400, 1525337615662059521, 1525336828848418816, 1525335766255149056, 1525333852230627328, 1525335770126782464, 1525336458676273160, 1525335621719695365, 1525227625609928705, 1525335374503071748, 1525336300118999040, 1525337514357280768, 1525335124119900160, 1477174077580316677, 1525334103339458560, 1525335662240706561, 1525337555428085762, 1525336870816972800, 1525337487782031361]\n"
     ]
    }
   ],
   "source": [
    "followers_ids_fragments = [followers_ids[i * 100:(i + 1) * 100] for i in range((len(followers_ids) + 100 - 1) // 100 )] \n",
    "print (followers_ids_fragments[0])"
   ]
  },
  {
   "cell_type": "markdown",
   "metadata": {
    "jp-MarkdownHeadingCollapsed": true,
    "tags": []
   },
   "source": [
    "### Rate Limits"
   ]
  },
  {
   "cell_type": "code",
   "execution_count": 101,
   "metadata": {},
   "outputs": [
    {
     "name": "stdout",
     "output_type": "stream",
     "text": [
      "{'limit': 15, 'remaining': 14, 'reset': 1652504869}\n"
     ]
    }
   ],
   "source": [
    "print(api.rate_limit_status()['resources']['followers']['/followers/ids'])\n"
   ]
  },
  {
   "cell_type": "code",
   "execution_count": 102,
   "metadata": {},
   "outputs": [
    {
     "name": "stdout",
     "output_type": "stream",
     "text": [
      "{'limit': 900, 'remaining': 900, 'reset': 1652504869}\n"
     ]
    }
   ],
   "source": [
    "print(api.rate_limit_status()['resources']['users']['/users/lookup'])"
   ]
  },
  {
   "cell_type": "markdown",
   "metadata": {
    "jp-MarkdownHeadingCollapsed": true,
    "tags": []
   },
   "source": [
    "### Search Tweets by Topic"
   ]
  },
  {
   "cell_type": "code",
   "execution_count": 103,
   "metadata": {},
   "outputs": [],
   "source": [
    "def print_tweets(tweets):\n",
    "    \"\"\"For each Tweepy Status object in tweets, display the \n",
    "    user's screen_name and tweet text. If the language is not\n",
    "    English, translate the text with TextBlob.\"\"\"\n",
    "    for tweet in tweets:\n",
    "        print(f'{tweet.user.screen_name}:', end=' ')\n",
    "    \n",
    "        if 'en' in tweet.lang:\n",
    "            print(f'{tweet.text}\\n')\n",
    "        elif 'und' not in tweet.lang:  # translate to English first\n",
    "            print(f'\\n  ORIGINAL: {tweet.text}')\n",
    "            try:\n",
    "                print(f'TRANSLATED: {TextBlob(tweet.text).translate()}\\n')\n",
    "            except:\n",
    "                print('Unable to translate tweet')"
   ]
  },
  {
   "cell_type": "code",
   "execution_count": 104,
   "metadata": {},
   "outputs": [],
   "source": [
    "tweets = api.search(q='Johnny Depp', count=3)"
   ]
  },
  {
   "cell_type": "code",
   "execution_count": 105,
   "metadata": {},
   "outputs": [
    {
     "name": "stdout",
     "output_type": "stream",
     "text": [
      "aundrias: RT @Rebeca29736893: WE LOVE YOU JOHNNY DEPP !!!\n",
      "#JohnnyDepp #JusticeForJohnnyDepp #WELOVEYOUJOHNNYDEPP #WeAreWithYouJohnnyDepp 💓♥️❤️💝🐢🐢🐢🐢🐰🐇…\n",
      "\n",
      "themoviesseries: If there is a trend I wish #johnnydepp sees above all is this one 💞💞💞\n",
      "WE LOVE YOU JOHNNY DEPP.\n",
      "We know you aren't p… https://t.co/UW5nPfZPCb\n",
      "\n",
      "13claudia_: \n",
      "  ORIGINAL: RT @westenthu: wst Johnny Depp &amp; Winona Ryder  \n",
      " https://t.co/uvEmYuAWwJ\n",
      "Unable to translate tweet\n"
     ]
    }
   ],
   "source": [
    "print_tweets(tweets) "
   ]
  },
  {
   "cell_type": "code",
   "execution_count": 106,
   "metadata": {},
   "outputs": [],
   "source": [
    "tweets = api.search(q='Johnny Depp :)', count=3) #Only \"positive sentiment tweets involving basketball\""
   ]
  },
  {
   "cell_type": "code",
   "execution_count": 107,
   "metadata": {},
   "outputs": [],
   "source": [
    "tweets = api.search(q='#Heard', count=5)"
   ]
  },
  {
   "cell_type": "code",
   "execution_count": 108,
   "metadata": {},
   "outputs": [
    {
     "name": "stdout",
     "output_type": "stream",
     "text": [
      "gloxgoldnchildr: RT @gloxgoldnchildr: #Seriously though 🤔 I am a #bit #concerned 🇯🇲💯 at how #inhumane our #citizens have #become with #one another! The #cri…\n",
      "\n",
      "hephaistos_ai: RT @theTACpodcast: Thanks to @TheHumanResolve for sharing his story of #courage for the micro-series! In the 1st episode, Savio and a few o…\n",
      "\n",
      "theTACpodcast: Thanks to @TheHumanResolve for sharing his story of #courage for the micro-series! In the 1st episode, Savio and a… https://t.co/YKZqsktfvx\n",
      "\n",
      "SvetaDoronina2: RT @SarahJReports: What are people saying about #seen &amp; #heard? #underreportednews song by @MilesMinnick #NativeTwitter #DisabilityTwitter…\n",
      "\n"
     ]
    }
   ],
   "source": [
    "print_tweets(tweets)"
   ]
  },
  {
   "cell_type": "markdown",
   "metadata": {
    "jp-MarkdownHeadingCollapsed": true,
    "tags": []
   },
   "source": [
    "### Trends Available"
   ]
  },
  {
   "cell_type": "code",
   "execution_count": 109,
   "metadata": {},
   "outputs": [],
   "source": [
    "trends_available = api.trends_available()"
   ]
  },
  {
   "cell_type": "code",
   "execution_count": 110,
   "metadata": {},
   "outputs": [
    {
     "data": {
      "text/plain": [
       "467"
      ]
     },
     "execution_count": 110,
     "metadata": {},
     "output_type": "execute_result"
    }
   ],
   "source": [
    "len(trends_available)"
   ]
  },
  {
   "cell_type": "code",
   "execution_count": 111,
   "metadata": {},
   "outputs": [
    {
     "data": {
      "text/plain": [
       "{'name': 'Worldwide',\n",
       " 'placeType': {'code': 19, 'name': 'Supername'},\n",
       " 'url': 'http://where.yahooapis.com/v1/place/1',\n",
       " 'parentid': 0,\n",
       " 'country': '',\n",
       " 'woeid': 1,\n",
       " 'countryCode': None}"
      ]
     },
     "execution_count": 111,
     "metadata": {},
     "output_type": "execute_result"
    }
   ],
   "source": [
    "trends_available[0]"
   ]
  },
  {
   "cell_type": "code",
   "execution_count": 112,
   "metadata": {},
   "outputs": [
    {
     "data": {
      "text/plain": [
       "{'name': 'Winnipeg',\n",
       " 'placeType': {'code': 7, 'name': 'Town'},\n",
       " 'url': 'http://where.yahooapis.com/v1/place/2972',\n",
       " 'parentid': 23424775,\n",
       " 'country': 'Canada',\n",
       " 'woeid': 2972,\n",
       " 'countryCode': 'CA'}"
      ]
     },
     "execution_count": 112,
     "metadata": {},
     "output_type": "execute_result"
    }
   ],
   "source": [
    "trends_available[1]"
   ]
  },
  {
   "cell_type": "code",
   "execution_count": 113,
   "metadata": {},
   "outputs": [],
   "source": [
    "world_trends_comp = api.trends_place(id=1)  # Worldwide trending topics (list containing one dictionary)"
   ]
  },
  {
   "cell_type": "code",
   "execution_count": 114,
   "metadata": {},
   "outputs": [],
   "source": [
    "world_trends = world_trends_comp[0]['trends'] # The 'trends' key is tied to the info about the actual trending topics"
   ]
  },
  {
   "cell_type": "code",
   "execution_count": 115,
   "metadata": {},
   "outputs": [
    {
     "data": {
      "text/plain": [
       "{'name': 'Curry',\n",
       " 'url': 'http://twitter.com/search?q=Curry',\n",
       " 'promoted_content': None,\n",
       " 'query': 'Curry',\n",
       " 'tweet_volume': 58441}"
      ]
     },
     "execution_count": 115,
     "metadata": {},
     "output_type": "execute_result"
    }
   ],
   "source": [
    "world_trends[4]"
   ]
  },
  {
   "cell_type": "code",
   "execution_count": 116,
   "metadata": {},
   "outputs": [
    {
     "name": "stdout",
     "output_type": "stream",
     "text": [
      "{'name': 'Klay', 'url': 'http://twitter.com/search?q=Klay', 'promoted_content': None, 'query': 'Klay', 'tweet_volume': 72842}\n",
      "{'name': 'Warriors', 'url': 'http://twitter.com/search?q=Warriors', 'promoted_content': None, 'query': 'Warriors', 'tweet_volume': 181735}\n",
      "{'name': 'Tatum', 'url': 'http://twitter.com/search?q=Tatum', 'promoted_content': None, 'query': 'Tatum', 'tweet_volume': 110068}\n"
     ]
    }
   ],
   "source": [
    "for iter in range(3):\n",
    "    print(world_trends[iter])"
   ]
  },
  {
   "cell_type": "code",
   "execution_count": 117,
   "metadata": {},
   "outputs": [
    {
     "name": "stdout",
     "output_type": "stream",
     "text": [
      "Total world trends: 50\n",
      "Total world trends >10k volume: 23\n",
      "Total world trends >100k volume: 5\n"
     ]
    }
   ],
   "source": [
    "world_trends_baseline = [t for t in world_trends if t['tweet_volume']]\n",
    "world_trends_high_volume = [t for t in world_trends if (t['tweet_volume']) and(t['tweet_volume']>100000)]\n",
    "print(f'Total world trends: {len(world_trends)}') #Remember that the cap of returned trends is 50!\n",
    "print(f'Total world trends >10k volume: {len(world_trends_baseline)}')\n",
    "print(f'Total world trends >100k volume: {len(world_trends_high_volume)}')\n"
   ]
  },
  {
   "cell_type": "markdown",
   "metadata": {
    "jp-MarkdownHeadingCollapsed": true,
    "tags": []
   },
   "source": [
    "### World_Trends"
   ]
  },
  {
   "cell_type": "code",
   "execution_count": 118,
   "metadata": {},
   "outputs": [],
   "source": [
    "from operator import itemgetter "
   ]
  },
  {
   "cell_type": "code",
   "execution_count": 119,
   "metadata": {},
   "outputs": [
    {
     "name": "stdout",
     "output_type": "stream",
     "text": [
      "Total World trends >15k volume: 23\n"
     ]
    }
   ],
   "source": [
    "World_trends_w_volume = [t for t in world_trends if (t['tweet_volume'])]\n",
    "print(f'Total World trends >15k volume: {len(World_trends_w_volume)}')\n"
   ]
  },
  {
   "cell_type": "code",
   "execution_count": 120,
   "metadata": {},
   "outputs": [],
   "source": [
    "world_trends_baseline.sort(key=itemgetter('tweet_volume'), reverse=True) #sort world trends by descending volume"
   ]
  },
  {
   "cell_type": "code",
   "execution_count": 121,
   "metadata": {},
   "outputs": [
    {
     "name": "stdout",
     "output_type": "stream",
     "text": [
      "#PULLUPwithMarkTuan\n",
      "Nacional Nacional\n",
      "Warriors\n",
      "Celtics\n",
      "Tatum\n",
      "#Sialkot\n",
      "Bucks\n",
      "Giannis\n",
      "Klay\n",
      "#ずっとJUMPもっとJUMP\n"
     ]
    }
   ],
   "source": [
    "for trend in world_trends_baseline[:10]: #Display the top 5 topics by volume\n",
    "    print(trend['name'])"
   ]
  },
  {
   "cell_type": "markdown",
   "metadata": {},
   "source": [
    "### SA_Trends"
   ]
  },
  {
   "cell_type": "code",
   "execution_count": 122,
   "metadata": {},
   "outputs": [],
   "source": [
    "SA_trends_comp = api.trends_place(id=2487796)"
   ]
  },
  {
   "cell_type": "code",
   "execution_count": 123,
   "metadata": {},
   "outputs": [],
   "source": [
    "SA_trends = SA_trends_comp[0]['trends']"
   ]
  },
  {
   "cell_type": "code",
   "execution_count": 124,
   "metadata": {},
   "outputs": [],
   "source": [
    "SA_trends_baseline = [t for t in SA_trends if t['tweet_volume']]"
   ]
  },
  {
   "cell_type": "code",
   "execution_count": 125,
   "metadata": {
    "collapsed": true,
    "jupyter": {
     "outputs_hidden": true
    },
    "tags": []
   },
   "outputs": [
    {
     "name": "stdout",
     "output_type": "stream",
     "text": [
      "{'name': 'Miro', 'url': 'http://twitter.com/search?q=Miro', 'promoted_content': None, 'query': 'Miro', 'tweet_volume': 23954}\n",
      "{'name': 'Milwaukee', 'url': 'http://twitter.com/search?q=Milwaukee', 'promoted_content': None, 'query': 'Milwaukee', 'tweet_volume': 22274}\n",
      "{'name': 'Nationals', 'url': 'http://twitter.com/search?q=Nationals', 'promoted_content': None, 'query': 'Nationals', 'tweet_volume': 13901}\n",
      "{'name': 'olivia rodrigo', 'url': 'http://twitter.com/search?q=%22olivia+rodrigo%22', 'promoted_content': None, 'query': '%22olivia+rodrigo%22', 'tweet_volume': 14393}\n",
      "{'name': 'Klay', 'url': 'http://twitter.com/search?q=Klay', 'promoted_content': None, 'query': 'Klay', 'tweet_volume': 72222}\n",
      "{'name': 'Warriors', 'url': 'http://twitter.com/search?q=Warriors', 'promoted_content': None, 'query': 'Warriors', 'tweet_volume': 180248}\n",
      "{'name': 'Looney', 'url': 'http://twitter.com/search?q=Looney', 'promoted_content': None, 'query': 'Looney', 'tweet_volume': 28984}\n",
      "{'name': 'Tatum', 'url': 'http://twitter.com/search?q=Tatum', 'promoted_content': None, 'query': 'Tatum', 'tweet_volume': 110149}\n",
      "{'name': 'Dillon Brooks', 'url': 'http://twitter.com/search?q=%22Dillon+Brooks%22', 'promoted_content': None, 'query': '%22Dillon+Brooks%22', 'tweet_volume': 15118}\n",
      "{'name': 'Steph', 'url': 'http://twitter.com/search?q=Steph', 'promoted_content': None, 'query': 'Steph', 'tweet_volume': 46491}\n",
      "{'name': '#DubNation', 'url': 'http://twitter.com/search?q=%23DubNation', 'promoted_content': None, 'query': '%23DubNation', 'tweet_volume': 11764}\n",
      "{'name': 'Curry', 'url': 'http://twitter.com/search?q=Curry', 'promoted_content': None, 'query': 'Curry', 'tweet_volume': 58441}\n",
      "{'name': 'Celtics', 'url': 'http://twitter.com/search?q=Celtics', 'promoted_content': None, 'query': 'Celtics', 'tweet_volume': 111844}\n",
      "{'name': 'TOH SPOILERS', 'url': 'http://twitter.com/search?q=%22TOH+SPOILERS%22', 'promoted_content': None, 'query': '%22TOH+SPOILERS%22', 'tweet_volume': 10905}\n",
      "{'name': 'Panthers', 'url': 'http://twitter.com/search?q=Panthers', 'promoted_content': None, 'query': 'Panthers', 'tweet_volume': 28471}\n",
      "{'name': 'ERCOT', 'url': 'http://twitter.com/search?q=ERCOT', 'promoted_content': None, 'query': 'ERCOT', 'tweet_volume': 25384}\n"
     ]
    }
   ],
   "source": [
    "for trend in SA_trends_baseline:\n",
    "    print(trend)"
   ]
  },
  {
   "cell_type": "code",
   "execution_count": 126,
   "metadata": {},
   "outputs": [
    {
     "name": "stdout",
     "output_type": "stream",
     "text": [
      "SA trends >15k volume: 16\n"
     ]
    }
   ],
   "source": [
    "print(f'SA trends >15k volume: {len(SA_trends_baseline)}')\n"
   ]
  },
  {
   "cell_type": "code",
   "execution_count": 127,
   "metadata": {},
   "outputs": [],
   "source": [
    "SA_trends_baseline.sort(key=itemgetter('tweet_volume'), reverse=True) "
   ]
  },
  {
   "cell_type": "code",
   "execution_count": 128,
   "metadata": {},
   "outputs": [
    {
     "name": "stdout",
     "output_type": "stream",
     "text": [
      "Warriors\n",
      "Celtics\n",
      "Tatum\n",
      "Klay\n",
      "Curry\n",
      "Steph\n",
      "Looney\n",
      "Panthers\n",
      "ERCOT\n",
      "Miro\n",
      "Milwaukee\n",
      "Dillon Brooks\n",
      "olivia rodrigo\n",
      "Nationals\n",
      "#DubNation\n",
      "TOH SPOILERS\n"
     ]
    }
   ],
   "source": [
    "for trend in SA_trends_baseline[:20]:\n",
    "    print(trend['name'])"
   ]
  },
  {
   "cell_type": "code",
   "execution_count": 129,
   "metadata": {},
   "outputs": [],
   "source": [
    "SA_topics = {}  # dictionary to store trend names and volumes for San Antonio\n"
   ]
  },
  {
   "cell_type": "code",
   "execution_count": 130,
   "metadata": {},
   "outputs": [
    {
     "name": "stdout",
     "output_type": "stream",
     "text": [
      "{}\n"
     ]
    }
   ],
   "source": [
    "print(SA_topics)"
   ]
  },
  {
   "cell_type": "code",
   "execution_count": 131,
   "metadata": {},
   "outputs": [],
   "source": [
    "for trend in SA_trends_baseline:\n",
    "    SA_topics[trend['name']] = trend['tweet_volume']"
   ]
  },
  {
   "cell_type": "code",
   "execution_count": 132,
   "metadata": {},
   "outputs": [],
   "source": [
    "import pandas as pd\n",
    "\n",
    "SAdf = pd.DataFrame(SA_topics, index = [0]) "
   ]
  },
  {
   "cell_type": "code",
   "execution_count": 133,
   "metadata": {},
   "outputs": [
    {
     "data": {
      "text/html": [
       "<div>\n",
       "<style scoped>\n",
       "    .dataframe tbody tr th:only-of-type {\n",
       "        vertical-align: middle;\n",
       "    }\n",
       "\n",
       "    .dataframe tbody tr th {\n",
       "        vertical-align: top;\n",
       "    }\n",
       "\n",
       "    .dataframe thead th {\n",
       "        text-align: right;\n",
       "    }\n",
       "</style>\n",
       "<table border=\"1\" class=\"dataframe\">\n",
       "  <thead>\n",
       "    <tr style=\"text-align: right;\">\n",
       "      <th></th>\n",
       "      <th>Warriors</th>\n",
       "      <th>Celtics</th>\n",
       "      <th>Tatum</th>\n",
       "      <th>Klay</th>\n",
       "      <th>Curry</th>\n",
       "      <th>Steph</th>\n",
       "      <th>Looney</th>\n",
       "      <th>Panthers</th>\n",
       "      <th>ERCOT</th>\n",
       "      <th>Miro</th>\n",
       "      <th>Milwaukee</th>\n",
       "      <th>Dillon Brooks</th>\n",
       "      <th>olivia rodrigo</th>\n",
       "      <th>Nationals</th>\n",
       "      <th>#DubNation</th>\n",
       "      <th>TOH SPOILERS</th>\n",
       "    </tr>\n",
       "  </thead>\n",
       "  <tbody>\n",
       "    <tr>\n",
       "      <th>0</th>\n",
       "      <td>180248</td>\n",
       "      <td>111844</td>\n",
       "      <td>110149</td>\n",
       "      <td>72222</td>\n",
       "      <td>58441</td>\n",
       "      <td>46491</td>\n",
       "      <td>28984</td>\n",
       "      <td>28471</td>\n",
       "      <td>25384</td>\n",
       "      <td>23954</td>\n",
       "      <td>22274</td>\n",
       "      <td>15118</td>\n",
       "      <td>14393</td>\n",
       "      <td>13901</td>\n",
       "      <td>11764</td>\n",
       "      <td>10905</td>\n",
       "    </tr>\n",
       "  </tbody>\n",
       "</table>\n",
       "</div>"
      ],
      "text/plain": [
       "   Warriors  Celtics   Tatum   Klay  Curry  Steph  Looney  Panthers  ERCOT  \\\n",
       "0    180248   111844  110149  72222  58441  46491   28984     28471  25384   \n",
       "\n",
       "    Miro  Milwaukee  Dillon Brooks  olivia rodrigo  Nationals  #DubNation  \\\n",
       "0  23954      22274          15118           14393      13901       11764   \n",
       "\n",
       "   TOH SPOILERS  \n",
       "0         10905  "
      ]
     },
     "execution_count": 133,
     "metadata": {},
     "output_type": "execute_result"
    }
   ],
   "source": [
    "SAdf.head()"
   ]
  },
  {
   "cell_type": "code",
   "execution_count": 134,
   "metadata": {},
   "outputs": [
    {
     "data": {
      "text/plain": [
       "<AxesSubplot:title={'center':'Twitter Trends in San Antonio'}, xlabel='Trends', ylabel='Count'>"
      ]
     },
     "execution_count": 134,
     "metadata": {},
     "output_type": "execute_result"
    },
    {
     "data": {
      "image/png": "[encoded data removed]",
      "text/plain": [
       "<Figure size 720x648 with 1 Axes>"
      ]
     },
     "metadata": {
      "needs_background": "light"
     },
     "output_type": "display_data"
    }
   ],
   "source": [
    "#Plot Descending\n",
    "SAdf.plot(kind=\"bar\",\n",
    " figsize=(10, 9),\n",
    "  xlabel=\"Trends\",\n",
    "   ylabel=\"Count\",\n",
    "    title=\"Twitter Trends in San Antonio\")"
   ]
  },
  {
   "cell_type": "markdown",
   "metadata": {
    "jp-MarkdownHeadingCollapsed": true,
    "tags": []
   },
   "source": [
    "### WordCloud for SA_Trends"
   ]
  },
  {
   "cell_type": "code",
   "execution_count": 135,
   "metadata": {},
   "outputs": [],
   "source": [
    "from wordcloud import WordCloud\n",
    "import matplotlib.pyplot as plt"
   ]
  },
  {
   "cell_type": "code",
   "execution_count": 136,
   "metadata": {},
   "outputs": [],
   "source": [
    "from PIL import Image\n",
    "import matplotlib.pyplot as plt\n",
    "import numpy as np\n",
    "mask = np.array(Image.open('Texas.jpg'))\n",
    "\n",
    "wordcloud_SA = WordCloud(mask=mask, width=1800, height=900,\n",
    "    prefer_horizontal=0.5, min_font_size=10, colormap='prism', \n",
    "    background_color='white')"
   ]
  },
  {
   "cell_type": "code",
   "execution_count": 137,
   "metadata": {},
   "outputs": [],
   "source": [
    "wordcloud_SA = wordcloud_SA.fit_words(SA_topics)"
   ]
  },
  {
   "cell_type": "code",
   "execution_count": 138,
   "metadata": {},
   "outputs": [
    {
     "data": {
      "image/png": "[encoded data removed]",
      "text/plain": [
       "<Figure size 1152x576 with 1 Axes>"
      ]
     },
     "metadata": {
      "needs_background": "light"
     },
     "output_type": "display_data"
    }
   ],
   "source": [
    "\n",
    "from PIL import Image\n",
    "import matplotlib.pyplot as plt\n",
    "import numpy as np\n",
    "mask = np.array(Image.open('Texas.jpg'))\n",
    "plt.figure(figsize=(16,8))\n",
    "plt.imshow(wordcloud_SA)\n",
    "plt.axis(\"off\")\n",
    "plt.show()"
   ]
  },
  {
   "cell_type": "markdown",
   "metadata": {},
   "source": [
    "## Tweet Listener"
   ]
  },
  {
   "cell_type": "markdown",
   "metadata": {},
   "source": [
    "### Load Packages"
   ]
  },
  {
   "cell_type": "code",
   "execution_count": 139,
   "metadata": {},
   "outputs": [],
   "source": [
    "from tweetlistener import TweetListener\n",
    "from tweepy import Stream\n",
    "from tweepy import OAuthHandler\n",
    "from tweepy import API\n",
    "import preprocessor as p\n",
    "from prepsubjecttweets import prepsubject"
   ]
  },
  {
   "cell_type": "markdown",
   "metadata": {},
   "source": [
    "### Test Tweet Listener and Clean Tweet"
   ]
  },
  {
   "cell_type": "code",
   "execution_count": 140,
   "metadata": {},
   "outputs": [],
   "source": [
    "tweet_text = 'RT #NASA A sample retweet with a URL https://nasa.gov'"
   ]
  },
  {
   "cell_type": "code",
   "execution_count": 141,
   "metadata": {},
   "outputs": [
    {
     "data": {
      "text/plain": [
       "'#NASA A sample retweet with a URL'"
      ]
     },
     "execution_count": 141,
     "metadata": {},
     "output_type": "execute_result"
    }
   ],
   "source": [
    "p.clean(tweet_text)"
   ]
  },
  {
   "cell_type": "markdown",
   "metadata": {},
   "source": [
    "### Tweet Listener - Load Top Three Trends"
   ]
  },
  {
   "cell_type": "code",
   "execution_count": 142,
   "metadata": {},
   "outputs": [],
   "source": [
    "tweetlistraw1,tweetlistprep1 = prepsubject('Macron',20)\n",
    "tweetlistraw2,tweetlistprep2 = prepsubject('Ranboo',20)\n",
    "tweetlistraw3,tweetlistprep3 = prepsubject('Publix',20)"
   ]
  },
  {
   "cell_type": "markdown",
   "metadata": {},
   "source": [
    "### Number 1 Tweet Topic"
   ]
  },
  {
   "cell_type": "code",
   "execution_count": 143,
   "metadata": {},
   "outputs": [
    {
     "data": {
      "text/plain": [
       "['@visegrad24 Agree... let´s give the Russians the Champagne region in France. Then Putin will save his face because… https://t.co/Wyhl4Poli6',\n",
       " 'RT @EerikNKross: Zelensky revealing that Macron suggested he concedes to Putin on Ukrainian sovreignity, Austin calling Shoigu to ask for a…',\n",
       " 'RT @expatua: Macron and Scholz\\'s idea of giving up territory as to \"not humiliate Putin\" is fine.\\n\\nWe just need to decide which parts of Fr…',\n",
       " 'RT @expatua: Macron and Scholz\\'s idea of giving up territory as to \"not humiliate Putin\" is fine.\\n\\nWe just need to decide which parts of Fr…',\n",
       " 'Out of 230 player official contingent why 98 applications in embassy of France in Delhi got delayed and they  ignor… https://t.co/hvcObtB6FV',\n",
       " 'RT @KyivIndependent: “(Emmanuel Macron) has always said that it was up to the Ukrainians to decide the terms of their negotiations with the…',\n",
       " 'RT @visegrad24: So which part of France is Macron willing to give up then?',\n",
       " 'RT @irinatsukerman_: #France is stuck with Macron for another 5 years!',\n",
       " \"RT @dszeligowski: Zelensky in an interview with Italian TV Rai1 has confirmed that Macron had proposed him to make concessions to Ukraine's…\",\n",
       " 'RT @expatua: Macron and Scholz\\'s idea of giving up territory as to \"not humiliate Putin\" is fine.\\n\\nWe just need to decide which parts of Fr…',\n",
       " 'RT @KyivIndependent: ⚡️France denies Zelensky’s allegations over concessions to Russia. \\n\\nThe Elysee Palace said French President Emmanuel…',\n",
       " 'RT @visegrad24: Interviewed by Italian TV Rai1, Zelensky confirmed that Macron has proposed for Ukraine to give up some territory to Russia…',\n",
       " 'RT @visegrad24: Interviewed by Italian TV Rai1, Zelensky confirmed that Macron has proposed for Ukraine to give up some territory to Russia…',\n",
       " '@medopfe8 @mizginalptekinn @SecBlinken Weird how U chose based thing like Vaccine passport to get mad about\\n\\nOne ca… https://t.co/nK3Olffp1J',\n",
       " \"RT @SamRamani2: Lithuania's President Gitanas Nauseda blasts Macron's comments on a decades-long EU accession process for Ukraine: \\n\\n“My im…\",\n",
       " 'RT @visegrad24: Interviewed by Italian TV Rai1, Zelensky confirmed that Macron has proposed for Ukraine to give up some territory to Russia…',\n",
       " '@irinatsukerman_ Thanks for post, shame on Macron EVIL #COVID1979 Appeaser \\nEVIL Putin must be forced to resign by… https://t.co/26fQ5o2p4D',\n",
       " '@mhmck #macron got it wrong too that Putin would not invade. And #Zelensky did not believe Putin would invade. US a… https://t.co/oWm4YM4whU',\n",
       " \"RT @andersostlund: Macron's and Scholz statements have Minsk III written all over them. Sell out Ukraine and let a few million Ukrainians l…\",\n",
       " 'RT @TristanSnell: Macron proposed Ukraine give up territory to Russia to let Putin save face.\\n\\nThis would be like France giving up territor…']"
      ]
     },
     "execution_count": 143,
     "metadata": {},
     "output_type": "execute_result"
    }
   ],
   "source": [
    "tweetlistraw1"
   ]
  },
  {
   "cell_type": "code",
   "execution_count": 144,
   "metadata": {},
   "outputs": [
    {
     "data": {
      "text/plain": [
       "['@visegrad24 Agree... let´s give the Russians the Champagne region in France. Then Putin will save his face because…',\n",
       " '@EerikNKross: Zelensky revealing that Macron suggested he concedes to Putin on Ukrainian sovreignity, Austin calling Shoigu to ask for a…',\n",
       " '@expatua: Macron and Scholz\\'s idea of giving up territory as to \"not humiliate Putin\" is fine. We just need to decide which parts of Fr…',\n",
       " '@expatua: Macron and Scholz\\'s idea of giving up territory as to \"not humiliate Putin\" is fine. We just need to decide which parts of Fr…',\n",
       " 'Out of 230 player official contingent why 98 applications in embassy of France in Delhi got delayed and they ignor…',\n",
       " '@KyivIndependent: “(Emmanuel Macron) has always said that it was up to the Ukrainians to decide the terms of their negotiations with the…',\n",
       " '@visegrad24: So which part of France is Macron willing to give up then?',\n",
       " '@irinatsukerman_: #France is stuck with Macron for another 5 years!',\n",
       " \"@dszeligowski: Zelensky in an interview with Italian TV Rai1 has confirmed that Macron had proposed him to make concessions to Ukraine's…\",\n",
       " '@expatua: Macron and Scholz\\'s idea of giving up territory as to \"not humiliate Putin\" is fine. We just need to decide which parts of Fr…',\n",
       " '@KyivIndependent: ⚡️France denies Zelensky’s allegations over concessions to Russia. The Elysee Palace said French President Emmanuel…',\n",
       " '@visegrad24: Interviewed by Italian TV Rai1, Zelensky confirmed that Macron has proposed for Ukraine to give up some territory to Russia…',\n",
       " '@visegrad24: Interviewed by Italian TV Rai1, Zelensky confirmed that Macron has proposed for Ukraine to give up some territory to Russia…',\n",
       " '@medopfe8 @mizginalptekinn @SecBlinken Weird how U chose based thing like Vaccine passport to get mad about One ca…',\n",
       " \"@SamRamani2: Lithuania's President Gitanas Nauseda blasts Macron's comments on a decades-long EU accession process for Ukraine: “My im…\",\n",
       " '@visegrad24: Interviewed by Italian TV Rai1, Zelensky confirmed that Macron has proposed for Ukraine to give up some territory to Russia…',\n",
       " '@irinatsukerman_ Thanks for post, shame on Macron EVIL #COVID1979 Appeaser EVIL Putin must be forced to resign by…',\n",
       " '@mhmck #macron got it wrong too that Putin would not invade. And #Zelensky did not believe Putin would invade. US a…',\n",
       " \"@andersostlund: Macron's and Scholz statements have Minsk III written all over them. Sell out Ukraine and let a few million Ukrainians l…\",\n",
       " '@TristanSnell: Macron proposed Ukraine give up territory to Russia to let Putin save face. This would be like France giving up territor…']"
      ]
     },
     "execution_count": 144,
     "metadata": {},
     "output_type": "execute_result"
    }
   ],
   "source": [
    "tweetlistprep1"
   ]
  },
  {
   "cell_type": "markdown",
   "metadata": {},
   "source": [
    "### Number 2 Tweet Topic"
   ]
  },
  {
   "cell_type": "code",
   "execution_count": 145,
   "metadata": {},
   "outputs": [
    {
     "data": {
      "text/plain": [
       "['RT @maxggstwo: Ranboo you said tyler is ruining it but atleast Michael is actually into him, unlike the guy u had a crush on',\n",
       " 'RT @Forsakenmoons: ranboo nightlight \\n#ranboofanart https://t.co/ZgYlAA2Qwf',\n",
       " 'RT @alliumupdate: Ranboo was in offline chat! https://t.co/hQF9SWGlMt',\n",
       " 'RT @Forsakenmoons: ranboo nightlight \\n#ranboofanart https://t.co/ZgYlAA2Qwf',\n",
       " 'RT @Forsakenmoons: ranboo nightlight \\n#ranboofanart https://t.co/ZgYlAA2Qwf',\n",
       " 'RT @PlantOnSpace: // blood\\nFind Him\\n#generationloss #generationlossfanart #ranboo #ranboofanart https://t.co/3JYIXGmhAM',\n",
       " 'RT @bootwt: Ranboo hosted a space earlier! You can find the recording here!\\nhttps://t.co/emuoCpl5lG',\n",
       " 'RT @bootwt: Ranboo posted on his Instagram story! https://t.co/Vj9nSje4fA',\n",
       " 'RT @elohour: ranboo’s the type of guy to eat straight butter',\n",
       " 'RT @princessranboo: i’m so Sory but ranboo dinky little old mask makes me giggle https://t.co/EOUwyZfiip',\n",
       " 'RT @Dakotafoxart: glowduo ✨\\n\\n[ #Ranboo #Aimsey #Glowduo #Ranbooart #AimseyFanart #Ranboofanart #bootwt @ranbooart @Ranboosaysstuff @ranaltb…',\n",
       " 'RT @Dakotafoxart: glowduo ✨\\n\\n[ #Ranboo #Aimsey #Glowduo #Ranbooart #AimseyFanart #Ranboofanart #bootwt @ranbooart @Ranboosaysstuff @ranaltb…',\n",
       " 'RT @RanbooUpdates: Ranboo posted on his Instagram story! https://t.co/EcLU469kgl',\n",
       " 'RT @thelorebitch: RANBOO DID NOT JUST FALL BECAUSE A GUY IN A VIDEO GAME SAID “i usually dont have such good looking company back here” LIK…',\n",
       " 'RT @itz_sunfallz: i hope ranboo and tubbo never publicly interact again. i hope their friendship is strictly off camera for the rest of tim…',\n",
       " 'I really am missing every single piece of ranboo content in the past day and probably tomorrow too,,, https://t.co/xlmv9uSJsL',\n",
       " 'RT @SketchEhm: Bump! Retweets appreciated :D\\nIf it gets enough attention, might do a ranboo version :&gt;\\n#tommyinnitfanart',\n",
       " 'ranboo changed me i used to h scared of this shit now i’m happy',\n",
       " 'RT @Dakotafoxart: glowduo ✨\\n\\n[ #Ranboo #Aimsey #Glowduo #Ranbooart #AimseyFanart #Ranboofanart #bootwt @ranbooart @Ranboosaysstuff @ranaltb…',\n",
       " 'RT @Snirtsnirkarts: Ranboo and his round friend, who I cannot remember the name of rn\\n\\n#ranboofanart #ranboo #boobers https://t.co/2C8ssJf9…']"
      ]
     },
     "execution_count": 145,
     "metadata": {},
     "output_type": "execute_result"
    }
   ],
   "source": [
    "tweetlistraw2"
   ]
  },
  {
   "cell_type": "code",
   "execution_count": 146,
   "metadata": {},
   "outputs": [
    {
     "data": {
      "text/plain": [
       "['@maxggstwo: Ranboo you said tyler is ruining it but atleast Michael is actually into him, unlike the guy u had a crush on',\n",
       " '@Forsakenmoons: ranboo nightlight #ranboofanart',\n",
       " '@alliumupdate: Ranboo was in offline chat!',\n",
       " '@Forsakenmoons: ranboo nightlight #ranboofanart',\n",
       " '@Forsakenmoons: ranboo nightlight #ranboofanart',\n",
       " '@PlantOnSpace: // blood Find Him #generationloss #generationlossfanart #ranboo #ranboofanart',\n",
       " '@bootwt: Ranboo hosted a space earlier! You can find the recording here!',\n",
       " '@bootwt: Ranboo posted on his Instagram story!',\n",
       " '@elohour: ranboo’s the type of guy to eat straight butter',\n",
       " '@princessranboo: i’m so Sory but ranboo dinky little old mask makes me giggle',\n",
       " '@Dakotafoxart: glowduo ✨ [ #Ranboo #Aimsey #Glowduo #Ranbooart #AimseyFanart #Ranboofanart #bootwt @ranbooart @Ranboosaysstuff @ranaltb…',\n",
       " '@Dakotafoxart: glowduo ✨ [ #Ranboo #Aimsey #Glowduo #Ranbooart #AimseyFanart #Ranboofanart #bootwt @ranbooart @Ranboosaysstuff @ranaltb…',\n",
       " '@RanbooUpdates: Ranboo posted on his Instagram story!',\n",
       " '@thelorebitch: RANBOO DID NOT JUST FALL BECAUSE A GUY IN A VIDEO GAME SAID “i usually dont have such good looking company back here” LIK…',\n",
       " '@itz_sunfallz: i hope ranboo and tubbo never publicly interact again. i hope their friendship is strictly off camera for the rest of tim…',\n",
       " 'I really am missing every single piece of ranboo content in the past day and probably tomorrow too,,,',\n",
       " '@SketchEhm: Bump! Retweets appreciated :D If it gets enough attention, might do a ranboo version :&gt; #tommyinnitfanart',\n",
       " 'ranboo changed me i used to h scared of this shit now i’m happy',\n",
       " '@Dakotafoxart: glowduo ✨ [ #Ranboo #Aimsey #Glowduo #Ranbooart #AimseyFanart #Ranboofanart #bootwt @ranbooart @Ranboosaysstuff @ranaltb…',\n",
       " '@Snirtsnirkarts: Ranboo and his round friend, who I cannot remember the name of rn #ranboofanart #ranboo #boobers']"
      ]
     },
     "execution_count": 146,
     "metadata": {},
     "output_type": "execute_result"
    }
   ],
   "source": [
    "tweetlistprep2"
   ]
  },
  {
   "cell_type": "markdown",
   "metadata": {},
   "source": [
    "### Number 3 Tweet Topic"
   ]
  },
  {
   "cell_type": "code",
   "execution_count": 147,
   "metadata": {},
   "outputs": [
    {
     "data": {
      "text/plain": [
       "[\"Could really go for a Pub Sub from the 'Lix @Publix\",\n",
       " 'In Publix today a probably 80 year old woman leaned in really close and said \"I really like that\" and pointed to my… https://t.co/QJ9MAtEipR',\n",
       " 'im going to publix in the morning and buying cookies I will not be seen bringing putussy to a party https://t.co/RZDuIYHSsa',\n",
       " '@CFunkFSU @Wegmans Meanwhile people in Florida out here cutting the roof of their mouths on that hard Publix bread… https://t.co/l53h5kWTv2',\n",
       " 'RT @pleb_ian2: I would pay a lot of money rn for a @Publix sub to be made for me in Chicago',\n",
       " \"@PotluckLauren @eyeamsushmita Look, don't be mad at me bc I'm not bringing the entire grocery aisle at Publix with… https://t.co/zq3FMpnlh5\",\n",
       " \"@GSmokesweed1 I had a roast beef wrap from Publix...spinach wrap, Boar's Head roast beef (double meat*), scant amou… https://t.co/mDkAP13P2J\",\n",
       " \"My pops said he saw Dennis Rodman at publix the other day. Q\\nAnother thing about South Florida. You're bound to run… https://t.co/B011RQNBIz\",\n",
       " \"also i'm out of cheerwine, shit\\n\\nreally need to see if kroger has cases of it here, publix just has the glass bottle 4 packs\",\n",
       " '@Publix Dutch!',\n",
       " '@leiakanani It’s there popular gas station. Here in Texas, we have Buc-ee’s…people from all over come like tourist.… https://t.co/VcUtOCG6hr',\n",
       " \"@newsmax Where's the shortage at though, which states? I was in a Publix here in the greatest State and they had a… https://t.co/QVbrFUTkbt\",\n",
       " 'Wait just long enough for It to cool off, then pour It in a Publix bag and just put It in the garbage lmfao … least… https://t.co/eLNBXeRlT6',\n",
       " '@ccliffnyc Like you’re in a Publix what do you mean you don’t have onions?!',\n",
       " 'I would pay a lot of money rn for a @Publix sub to be made for me in Chicago',\n",
       " 'We are live in the publix! Come check out the live event in Houston! #VR\\n\\n#MadeWithVRChat https://t.co/B4e6TllDOh',\n",
       " '@CFunkFSU @Wegmans The one I went to is like the size of two Publix put together and had a coffee shop, pizza kitch… https://t.co/xCGneunH1W',\n",
       " 'Or, like my 80-something yo grandmother, you could go to the doctor for your second booster this week and get told,… https://t.co/DRdFxxhVow',\n",
       " '@RivalsWoody @Wegmans Spent 36 years in north Florida and the last 4 here in PA. I was a huge Publix stan. Wegmans &gt;&gt;&gt;&gt;&gt; Publix',\n",
       " '@PanthersPolls Living in Unincorporated Broward and going to BCC and working at Publix']"
      ]
     },
     "execution_count": 147,
     "metadata": {},
     "output_type": "execute_result"
    }
   ],
   "source": [
    "tweetlistraw3"
   ]
  },
  {
   "cell_type": "code",
   "execution_count": 148,
   "metadata": {},
   "outputs": [
    {
     "data": {
      "text/plain": [
       "[\"Could really go for a Pub Sub from the 'Lix @Publix\",\n",
       " 'In Publix today a probably 80 year old woman leaned in really close and said \"I really like that\" and pointed to my…',\n",
       " 'im going to publix in the morning and buying cookies I will not be seen bringing putussy to a party',\n",
       " '@CFunkFSU @Wegmans Meanwhile people in Florida out here cutting the roof of their mouths on that hard Publix bread…',\n",
       " '@pleb_ian2: I would pay a lot of money rn for a @Publix sub to be made for me in Chicago',\n",
       " \"@PotluckLauren @eyeamsushmita Look, don't be mad at me bc I'm not bringing the entire grocery aisle at Publix with…\",\n",
       " \"@GSmokesweed1 I had a roast beef wrap from Publix...spinach wrap, Boar's Head roast beef (double meat*), scant amou…\",\n",
       " \"My pops said he saw Dennis Rodman at publix the other day. Q Another thing about South Florida. You're bound to run…\",\n",
       " \"also i'm out of cheerwine, shit really need to see if kroger has cases of it here, publix just has the glass bottle 4 packs\",\n",
       " '@Publix Dutch!',\n",
       " '@leiakanani It’s there popular gas station. Here in Texas, we have Buc-ee’s…people from all over come like tourist.…',\n",
       " \"@newsmax Where's the shortage at though, which states? I was in a Publix here in the greatest State and they had a…\",\n",
       " 'Wait just long enough for It to cool off, then pour It in a Publix bag and just put It in the garbage lmfao … least…',\n",
       " '@ccliffnyc Like you’re in a Publix what do you mean you don’t have onions?!',\n",
       " 'I would pay a lot of money rn for a @Publix sub to be made for me in Chicago',\n",
       " 'We are live in the publix! Come check out the live event in Houston! #VR #MadeWithVRChat',\n",
       " '@CFunkFSU @Wegmans The one I went to is like the size of two Publix put together and had a coffee shop, pizza kitch…',\n",
       " 'Or, like my 80-something yo grandmother, you could go to the doctor for your second booster this week and get told,…',\n",
       " '@RivalsWoody @Wegmans Spent 36 years in north Florida and the last 4 here in PA. I was a huge Publix stan. Wegmans &gt;&gt;&gt;&gt;&gt; Publix',\n",
       " '@PanthersPolls Living in Unincorporated Broward and going to BCC and working at Publix']"
      ]
     },
     "execution_count": 148,
     "metadata": {},
     "output_type": "execute_result"
    }
   ],
   "source": [
    "tweetlistprep3"
   ]
  },
  {
   "cell_type": "markdown",
   "metadata": {},
   "source": [
    "## Stream"
   ]
  },
  {
   "cell_type": "markdown",
   "metadata": {},
   "source": [
    "### Load Packages"
   ]
  },
  {
   "cell_type": "code",
   "execution_count": 149,
   "metadata": {},
   "outputs": [],
   "source": [
    "from tweepy.streaming import Stream\n",
    "from tweepy import OAuthHandler\n",
    "from tweepy import Stream\n",
    "from textblob import TextBlob"
   ]
  },
  {
   "cell_type": "markdown",
   "metadata": {},
   "source": [
    "### Sentiment Listener Topic 1"
   ]
  },
  {
   "cell_type": "code",
   "execution_count": 150,
   "metadata": {},
   "outputs": [
    {
     "name": "stdout",
     "output_type": "stream",
     "text": [
      "  DividedStatesO4: @KyivPost #macron should never.. every speak.. he is a twat\n",
      "\n",
      "  Gawiesnr: @KyivIndependent oh so France owns #Ukraine? who does #macron think he is\n",
      "\n",
      "  Resistance2017: 🤣🤣🤣 and so us #Macron. !!\n",
      "\n",
      "+ skingers: @moutet He's your kind of apologist not their kind of antagonist... #Macron #putin #Ukraine\n",
      "\n",
      "  BKrede: @elonmusk @Twitter Begin by the account of #macron.. he has a lot!!\n",
      "\n",
      "  EgoCaecilius: If we’re trying to isolate #Putin why is #Macron and #Scholz constantly giving him a call ?\n",
      "\n",
      "+ Claire00207142: #Macron says #Ukraine should provide a face-saving deal for #putin... Can this face still be saved? Is it worth sav…\n",
      "\n",
      "  OregonJoyce: #Macron should stop placating #Putin. #LoseLose\n",
      "\n",
      "+ QualtrakPam: @NikaMelkozerova Understood. A wise call. #Macron is not 🇫🇷. For better or worse #Macron is his own person &amp; perha…\n",
      "\n",
      "+ technomedia: The latest Technomedia, le Journal! Thanks to @lemondefr @marcendeweld @izahardy #ukraine #macron\n",
      "\n",
      "+ mdtoorder: #Macron slipped, IMHO. Let @ZelenskyyUa decide for himself. Kind of like women should decide for themselves here. 🇺🇸\n",
      "\n",
      "+ WorldNewsMedia4: @visegrad24 #Putin: Hey #Macron, how about you give #Russia that nice Champagne province so that we can call the sp…\n",
      "\n",
      "+ u2ralph: @andersostlund „Minsk III“ intentions sound like plausible reasons for the recent phone calls of #Macron and…\n",
      "\n",
      "  WokinghamTory: Emmanuel #Macron is trying \"in vain\" to talk to Vladimir Putin, Ukrainian President Volodymyr #Zelensky said, deemi…\n",
      "\n",
      "- _Alexander_EV: #Macron is an idiot.\n",
      "\n",
      "  LinkeviciusL: According to #Zelensky, #Macron offered concessions on Ukraine's sovereignty to help #Putin save face. Putin expect…\n",
      "\n",
      "  WorldNewsMedia4: @EerikNKross It is #Macron and #Scholz that feel uneasy about the fact the #Russian nukes in #Kaliningrad are so cl…\n",
      "\n",
      "  keinegewalt: 😶🧐🤔 #Macron has published the audio of a phone call between him and #Zelensky (please see thread). It is totall…\n",
      "\n",
      "  EgoCaecilius: #Scholz &amp; #Macron need to stop being so needy and stop calling Putin. Even Russian TV is laughing at them.\n",
      "\n",
      "- rkhmelyuk: I remember how @EmmanuelMacron was promising to get people out of Mariupol, but failed. putin ignored #Macron|s req…\n",
      "\n",
      "Tweet sentiment for \"#Macron\"\n",
      "Positive: 7\n",
      " Neutral: 11\n",
      "Negative: 2\n"
     ]
    }
   ],
   "source": [
    "run sentimentlistener.py \"#Macron\" 20"
   ]
  },
  {
   "cell_type": "markdown",
   "metadata": {},
   "source": [
    "### Sentiment Listener Topic 2"
   ]
  },
  {
   "cell_type": "code",
   "execution_count": 151,
   "metadata": {},
   "outputs": [
    {
     "name": "stdout",
     "output_type": "stream",
     "text": [
      "+ Moosh_Moox: me:it is 2 am, I have nothing better to do, might as well catch up on Ranboo vods :] also me: FIVE AND A HALF HOUR…\n",
      "\n",
      "+ tubbo3091: ranboo listened to teenage dirtbag through out high school #ranboo #ranbooedit\n",
      "\n",
      "- FletchaYaBetcha: @soph_froggy I miss my pink princess peach ranboo\n",
      "\n",
      "  finn_is_fish: I've decided to somewhat project myself onto c!Ranboo in this\n",
      "\n",
      "  YeetCry: @RetroDubsVA Ranboo\n",
      "\n",
      "  beetaunt: ranboo has big ibs energy\n",
      "\n",
      "  heartsranboo: like if ranboo is streamjng yeah id drop everything to watch him if i could\n",
      "\n",
      "+ ranb0ozld: // childhood trauma watching ranboo's vod and my god am i on edge haha the childhood trauma oh no-\n",
      "\n",
      "+ quackzuzzy: @manhuntvids my twitch is m1xb0nn3t7 and i would really love a sub to ranboo, tubbo or aimsey :D\n",
      "\n",
      "  Inez_H9: Ranboo and Wilbur on the same team&gt;&gt;&gt;&gt;&gt;&gt;&gt;&gt;\n",
      "\n",
      "  pxpillon7: officially a year of having ranboo themed nails!! do i continue 🤪\n",
      "\n",
      "- Haru_the_gay_: im just drawing a really tall blind ranboo\n",
      "\n",
      "+ ManifoldBot: I do NOT think that Ranboo is nice\n",
      "\n",
      "+ ranb0ozld: lmao ranboo was reacting to the \"strawberries in november??!\" and someone in chat said \"you are a fruit born in november\" 💀\n",
      "\n",
      "+ cBeeduoQuote: T: Ranboo, I would never do anything to intentionally hurt you! We need to build up a better reputation of trust. R…\n",
      "\n",
      "  Snow_The_Human: @DakuSelestal ranboo\n",
      "\n",
      "- KieraDuggan: Ranboo i am lactose intolerant what the fuck\n",
      "\n",
      "+ bunnoroll: ranboo really needs to do miku or rosalina cosplay for mcc\n",
      "\n",
      "  bunnoroll: i’m still drawing him as both regardless but ranboo please i’m counting on you\n",
      "\n",
      "  mangoesandhoney: ranboo likes candy corn..? how do i double sub\n",
      "\n",
      "Tweet sentiment for \"Ranboo\"\n",
      "Positive: 8\n",
      " Neutral: 9\n",
      "Negative: 3\n"
     ]
    }
   ],
   "source": [
    "run sentimentlistener.py \"Ranboo\" 20"
   ]
  },
  {
   "cell_type": "markdown",
   "metadata": {},
   "source": [
    "### Sentiment Listener Topic 3"
   ]
  },
  {
   "cell_type": "code",
   "execution_count": 152,
   "metadata": {},
   "outputs": [
    {
     "name": "stdout",
     "output_type": "stream",
     "text": [
      "+ DevinRo45860608: @newsmax @IvankaTrump Yo Kayleigh your superior has landed. Just show up at the publix. I don't know you creatures owned condo here.\n",
      "\n",
      "  HIGHIMHXN: gotta get another one from publix.\n",
      "\n",
      "+ Miami_matt: I’m not able to go to my local Publix to get the best boiled peanuts in the game but I can get them shipped to me i…\n",
      "\n",
      "  mormondancer1: Untitled — I'm at Publix!\n",
      "\n",
      "  mormondancer1: Untitled — I'm at Publix!\n",
      "\n",
      "  mormondancer1: I'm at Publix!\n",
      "\n",
      "- HungryGames16: I was making sushi when I realized I didn't have fish. I went to Publix, and slowly grabbed what I needed. Only to…\n",
      "\n",
      "  daryleehbee: @3mo_princss Pegging, humiliation, Publix, praise,\n",
      "\n",
      "  _ShinyXenon_: wanna hold hands in the publix deli?\n",
      "\n",
      "- nellefanacct: @ky3onidas If even that i cried in Publix today I’m literally a mess 😭\n",
      "\n",
      "+ vanderrwaals: the best thing florida has is publix. if you get it you get it\n",
      "\n",
      "  adkinsjlance: @Publix So you show support by raising prices on a pack of hotdogs by 40%? I understand some increases but you guys…\n",
      "\n",
      "  lastbornphoenix: @RilleyJacob @Publix You do though\n",
      "\n",
      "  profstan72: @catperson8 Have no idea what it’s like. Was on sale at Publix this week and when I saw the display, I literally c…\n",
      "\n",
      "  MaureenDeal: @LilDisFan Have you tried this with your Publix cakes? 😀\n",
      "\n",
      "- Good4Her_Health: I hate grocery shopping now , instacart from publix please 😂\n",
      "\n",
      "- dhakarsujeet: 20 of the Worst Foods at Publix #shoppingtips #groceryshopping #healthyeating #healthy #groceries #grocerystores\n",
      "\n",
      "  Thatfloridafeel: Check out the episode this week on @Publix and why people wish they were in every state! Giving the produce departm…\n",
      "\n",
      "  CreepsteryPod: Wish Publix was in my state\n",
      "\n",
      "  LuqueMeatSauce: @SharpFootball I thought his passion was stealing lobsters from Publix.\n",
      "\n",
      "Tweet sentiment for \"Publix\"\n",
      "Positive: 3\n",
      " Neutral: 13\n",
      "Negative: 4\n"
     ]
    }
   ],
   "source": [
    "run sentimentlistener.py \"Publix\" 20"
   ]
  },
  {
   "cell_type": "code",
   "execution_count": 153,
   "metadata": {},
   "outputs": [
    {
     "data": {
      "text/html": [
       "<div>\n",
       "<style scoped>\n",
       "    .dataframe tbody tr th:only-of-type {\n",
       "        vertical-align: middle;\n",
       "    }\n",
       "\n",
       "    .dataframe tbody tr th {\n",
       "        vertical-align: top;\n",
       "    }\n",
       "\n",
       "    .dataframe thead th {\n",
       "        text-align: right;\n",
       "    }\n",
       "</style>\n",
       "<table border=\"1\" class=\"dataframe\">\n",
       "  <thead>\n",
       "    <tr style=\"text-align: right;\">\n",
       "      <th></th>\n",
       "      <th>Positive</th>\n",
       "      <th>Neutral</th>\n",
       "      <th>Negative</th>\n",
       "    </tr>\n",
       "  </thead>\n",
       "  <tbody>\n",
       "    <tr>\n",
       "      <th>0</th>\n",
       "      <td>15</td>\n",
       "      <td>4</td>\n",
       "      <td>1</td>\n",
       "    </tr>\n",
       "  </tbody>\n",
       "</table>\n",
       "</div>"
      ],
      "text/plain": [
       "   Positive  Neutral  Negative\n",
       "0        15        4         1"
      ]
     },
     "execution_count": 153,
     "metadata": {},
     "output_type": "execute_result"
    }
   ],
   "source": [
    "dftrend1 = pd.DataFrame({'Positive' : [15],\n",
    "'Neutral' : [4],\n",
    "'Negative' : [1]})\n",
    "dftrend1.head()\n"
   ]
  },
  {
   "cell_type": "code",
   "execution_count": 154,
   "metadata": {},
   "outputs": [
    {
     "data": {
      "text/html": [
       "<div>\n",
       "<style scoped>\n",
       "    .dataframe tbody tr th:only-of-type {\n",
       "        vertical-align: middle;\n",
       "    }\n",
       "\n",
       "    .dataframe tbody tr th {\n",
       "        vertical-align: top;\n",
       "    }\n",
       "\n",
       "    .dataframe thead th {\n",
       "        text-align: right;\n",
       "    }\n",
       "</style>\n",
       "<table border=\"1\" class=\"dataframe\">\n",
       "  <thead>\n",
       "    <tr style=\"text-align: right;\">\n",
       "      <th></th>\n",
       "      <th>Positive</th>\n",
       "      <th>Neutral</th>\n",
       "      <th>Negative</th>\n",
       "    </tr>\n",
       "  </thead>\n",
       "  <tbody>\n",
       "    <tr>\n",
       "      <th>0</th>\n",
       "      <td>11</td>\n",
       "      <td>6</td>\n",
       "      <td>3</td>\n",
       "    </tr>\n",
       "  </tbody>\n",
       "</table>\n",
       "</div>"
      ],
      "text/plain": [
       "   Positive  Neutral  Negative\n",
       "0        11        6         3"
      ]
     },
     "execution_count": 154,
     "metadata": {},
     "output_type": "execute_result"
    }
   ],
   "source": [
    "dftrend2 = pd.DataFrame({'Positive' : [11],\n",
    "'Neutral' : [6],\n",
    "'Negative' : [3]})\n",
    "dftrend2.head()\n"
   ]
  },
  {
   "cell_type": "code",
   "execution_count": 155,
   "metadata": {},
   "outputs": [
    {
     "data": {
      "text/html": [
       "<div>\n",
       "<style scoped>\n",
       "    .dataframe tbody tr th:only-of-type {\n",
       "        vertical-align: middle;\n",
       "    }\n",
       "\n",
       "    .dataframe tbody tr th {\n",
       "        vertical-align: top;\n",
       "    }\n",
       "\n",
       "    .dataframe thead th {\n",
       "        text-align: right;\n",
       "    }\n",
       "</style>\n",
       "<table border=\"1\" class=\"dataframe\">\n",
       "  <thead>\n",
       "    <tr style=\"text-align: right;\">\n",
       "      <th></th>\n",
       "      <th>Positive</th>\n",
       "      <th>Neutral</th>\n",
       "      <th>Negative</th>\n",
       "    </tr>\n",
       "  </thead>\n",
       "  <tbody>\n",
       "    <tr>\n",
       "      <th>0</th>\n",
       "      <td>7</td>\n",
       "      <td>11</td>\n",
       "      <td>2</td>\n",
       "    </tr>\n",
       "  </tbody>\n",
       "</table>\n",
       "</div>"
      ],
      "text/plain": [
       "   Positive  Neutral  Negative\n",
       "0         7       11         2"
      ]
     },
     "execution_count": 155,
     "metadata": {},
     "output_type": "execute_result"
    }
   ],
   "source": [
    "dftrend3 = pd.DataFrame({'Positive' : [7],\n",
    "'Neutral' : [11],\n",
    "'Negative' : [2]})\n",
    "dftrend3.head()\n",
    "#dftrend1.to_csv('dfs.csv', index = False)"
   ]
  },
  {
   "cell_type": "code",
   "execution_count": 156,
   "metadata": {},
   "outputs": [
    {
     "data": {
      "text/plain": [
       "<AxesSubplot:title={'center':'#1 Trend in San Antonio'}, xlabel='Trends', ylabel='Count'>"
      ]
     },
     "execution_count": 156,
     "metadata": {},
     "output_type": "execute_result"
    },
    {
     "data": {
      "image/png": "[encoded data removed]",
      "text/plain": [
       "<Figure size 720x648 with 1 Axes>"
      ]
     },
     "metadata": {
      "needs_background": "light"
     },
     "output_type": "display_data"
    }
   ],
   "source": [
    "dftrend1.plot(kind=\"bar\",\n",
    " figsize=(10, 9),\n",
    "  xlabel=\"Trends\",\n",
    "   ylabel=\"Count\",\n",
    "    title=\"#1 Trend in San Antonio\")"
   ]
  },
  {
   "cell_type": "code",
   "execution_count": 157,
   "metadata": {},
   "outputs": [
    {
     "data": {
      "text/plain": [
       "<AxesSubplot:title={'center':'#2 Trend in San Antonio'}, xlabel='Trends', ylabel='Count'>"
      ]
     },
     "execution_count": 157,
     "metadata": {},
     "output_type": "execute_result"
    },
    {
     "data": {
      "image/png": "[encoded data removed]",
      "text/plain": [
       "<Figure size 720x648 with 1 Axes>"
      ]
     },
     "metadata": {
      "needs_background": "light"
     },
     "output_type": "display_data"
    }
   ],
   "source": [
    "dftrend2.plot(kind=\"bar\",\n",
    " figsize=(10, 9),\n",
    "  xlabel=\"Trends\",\n",
    "   ylabel=\"Count\",\n",
    "    title=\"#2 Trend in San Antonio\")"
   ]
  },
  {
   "cell_type": "code",
   "execution_count": 158,
   "metadata": {},
   "outputs": [
    {
     "data": {
      "text/plain": [
       "<AxesSubplot:title={'center':'#3 Trend in San Antonio'}, xlabel='Trends', ylabel='Count'>"
      ]
     },
     "execution_count": 158,
     "metadata": {},
     "output_type": "execute_result"
    },
    {
     "data": {
      "image/png": "[encoded data removed]",
      "text/plain": [
       "<Figure size 720x648 with 1 Axes>"
      ]
     },
     "metadata": {
      "needs_background": "light"
     },
     "output_type": "display_data"
    }
   ],
   "source": [
    "dftrend3.plot(kind=\"bar\",\n",
    " figsize=(10, 9),\n",
    "  xlabel=\"Trends\",\n",
    "   ylabel=\"Count\",\n",
    "    title=\"#3 Trend in San Antonio\")"
   ]
  },
  {
   "cell_type": "markdown",
   "metadata": {},
   "source": [
    "## Geocoding"
   ]
  },
  {
   "cell_type": "code",
   "execution_count": 159,
   "metadata": {},
   "outputs": [],
   "source": [
    "import os\n",
    "from geopy import OpenMapQuest"
   ]
  },
  {
   "cell_type": "code",
   "execution_count": 160,
   "metadata": {},
   "outputs": [],
   "source": [
    "geo = OpenMapQuest(api_key=os.environ['GeoCK'])\n",
    "locations = ['222 Eastern Pkwy, Louisville, KY 40208',\n",
    "             '440 N Whittington Pkwy, Louisville, KY 40222',\n",
    "             'El Alamein، Egypt']\n",
    "geo_locations = []\n",
    "for loc in locations:\n",
    "    geo_locations.append(geo.geocode(loc))"
   ]
  },
  {
   "cell_type": "code",
   "execution_count": 161,
   "metadata": {},
   "outputs": [
    {
     "data": {
      "text/plain": [
       "[Location(Duthie Center for Engineering, 222, Eastern Parkway, Louisville, Jefferson County, Kentucky, 40208, United States of America, (38.21264035, -85.7608605714874, 0.0)),\n",
       " Location(Burhans Hall, 440, North Whittington Parkway, Hurstbourne, Jefferson County, Kentucky, 40222, United States of America, (38.25334785, -85.5843224594185, 0.0)),\n",
       " Location(العلمين, مطروح, مصر, (30.833944, 28.949268, 0.0))]"
      ]
     },
     "execution_count": 161,
     "metadata": {},
     "output_type": "execute_result"
    }
   ],
   "source": [
    "geo_locations"
   ]
  },
  {
   "cell_type": "code",
   "execution_count": 162,
   "metadata": {},
   "outputs": [],
   "source": [
    "from tweetutilities import get_tweepy_API"
   ]
  },
  {
   "cell_type": "code",
   "execution_count": 163,
   "metadata": {},
   "outputs": [],
   "source": [
    "api = get_tweepy_API()"
   ]
  },
  {
   "cell_type": "code",
   "execution_count": 164,
   "metadata": {},
   "outputs": [],
   "source": [
    "tweets = [] \n",
    "counts = {'total_tweets': 0, 'locations': 0}\n"
   ]
  },
  {
   "cell_type": "markdown",
   "metadata": {},
   "source": [
    "### Location Listener"
   ]
  },
  {
   "cell_type": "code",
   "execution_count": 165,
   "metadata": {},
   "outputs": [],
   "source": [
    "from locationlistener import LocationListener"
   ]
  },
  {
   "cell_type": "code",
   "execution_count": 166,
   "metadata": {},
   "outputs": [],
   "source": [
    "location_listener = LocationListener(api, counts_dict=counts, \n",
    "    tweets_list=tweets, topic='Will Smith', limit=150)"
   ]
  },
  {
   "cell_type": "code",
   "execution_count": 167,
   "metadata": {},
   "outputs": [],
   "source": [
    "stream = tweepy.Stream(auth=api.auth, listener=location_listener)"
   ]
  },
  {
   "cell_type": "code",
   "execution_count": 168,
   "metadata": {},
   "outputs": [
    {
     "name": "stdout",
     "output_type": "stream",
     "text": [
      "EndinStealth: @padrejeremyh Someone needs to face swap Will Smith in here.\n",
      "\n",
      "DanielN61841575: @DividendExp @PensionCraft Is Will Smith not available?\n",
      "\n",
      "jpwan08: Chris Rock takes a dig at Will Smith's Oscars slap https://t.co/mTWw1HIalW https://t.co/k7Vtn6Y3Vz\n",
      "\n",
      "Helmut_Zemo123: @nypost You got your heating back and yet Weakass Will Smith still hasn’t gotten his balls back from @jadapsmith 😂\n",
      "\n",
      "robotfromhell: Chris Pratt is playing King K. Rule in the movie Princess Peachdeep in  Will Smith\n",
      "\n",
      "Helmut_Zemo123: @nypost You got your hearing back and yet weakass Will Smith still hasn’t gotten his balls back from @jadapsmith 😂\n",
      "\n",
      "AshleyHings: @DarrenHarriott I'd tell will smith. He'll sort it\n",
      "\n",
      "gman_kings: 👑 Working With Will Smith 👑\n",
      "\n",
      "We painted the VIP after party rooms for the #suicidesquad cast &amp; friends.\n",
      "\n",
      "The next d… https://t.co/RQ3dVf7N0n\n",
      "\n",
      "keivan47: Chris Rock’s Mother Blasts Will Smith: “He Really Slapped Me” https://t.co/4PxCsjw9Sh\n",
      "\n",
      "mkamirali087: Some Americans were probably more traumatized by Will Smith’s slap than what Israel has done and continues to do in… https://t.co/6CU0ARejIE\n",
      "\n",
      "relishedmin: If Will Smith did a spinning slap Tim and Eric style on Chris Rock at the Emmys then people wouldnt have been so mad\n",
      "\n",
      "BradleyVoigt: @PopCrave Will Smith a fuckboi for the slap but the reactions by these celebs are so dumb\n",
      "\n",
      "Tru1drflRegina: @inborn_bookworm Hasn’t he (Will Smith) been punished enough and still being punished? He’s married to Jada Pickett… https://t.co/8iYzSSjffz\n",
      "\n",
      "KingSammy600: @KELVIN_BAYAH @nazornnadi @jon_d_doe See how far it brought Will Smith\n",
      "\n",
      "RokotoNet: Chris Rock jokes about infamous Will Smith Oscars slap: ‘Got most of my hearing back’ https://t.co/weQkzwDPGu\n",
      "\n",
      "pwanaduku: What a shame!\n",
      "Most importantly, in my best Will Smith voice \"Keep the name of my Faith (Christianity) out of your m… https://t.co/IoSla49lRG\n",
      "\n",
      "KillaThrilla_YT: Will Smith Will Smith Will Smith Will Smith Will Smith Will Smith Will Smith Will Smith Will Smith Will Smith Will… https://t.co/Ak3w3ZDxwR\n",
      "\n",
      "PeaceAndFades: Will Smith really smacked Chris Rock in the face….at the Grammys\n",
      "\n",
      "PeaceAndFades: Will Smith really smacked Chris Rock in the face….at the Oscars……\n",
      "\n",
      "WestsideMurph: It’s 630 am and we’re on an hour drive to graduation and they’re talking about Will Smith. Old people are just…\n",
      "\n",
      "markcobbcobb1: Call me paranoid er whatever but I think the Will Smith Oscar slap was a CIA psyop to get our attention from the wars.\n",
      "\n",
      "khzqx59fxx: @shoe0nhead “will smith don't gotta cuss in his raps to sell records. well i do, so fuck him and fuck you too.”\n",
      "\n",
      "Zooted_Ghost420: niggas b tuff w they dogs in the hood , i love animals but nobody scared do them dogs like Will Smith 😭😤 #iamlegemd\n",
      "\n",
      "maxoulek: @shadow_sonic123 jokes aside, i like this image of will smith\n",
      "\n",
      "loathesomely: I'm worried bout will smith\n",
      "\n",
      "GriffKohout: Dave Chappelle fails to mention that Will Smith slapped Chris Rock BECAUSE Wifey Jada Pinkett caught him laughing a… https://t.co/ofKnrh7RHQ\n",
      "\n",
      "loathesomely: @itschauu Nothing I just like will Smith\n",
      "\n",
      "HealthChief_: Ok wait... @TelevisionAcad\n",
      "Can we please forgive Will Smith?\n",
      "@willsmith\n",
      "\n",
      "BullinsMarissa: @nypost One of the most irritating aspects of that night is Will Smith wasn’t even upset over the joke. Everyone sa… https://t.co/LmgOQf46x7\n",
      "\n",
      "FemaleLeninist: I always supported will Smith\n",
      "\n",
      "BestReviewin: Chris Rock takes a dig at Will Smith’s Oscars slap https://t.co/cDkn2OOsq0\n",
      "\n",
      "news89com: Chris Rock takes a dig at Will Smith’s Oscars slap https://t.co/EWuXuQ4AKV\n",
      "\n",
      "elnathan_john: Throwback to when I did this video with the help of the fabulous @fatuogwuche and Will Smith picked up on it. Smith… https://t.co/acancCJguc\n",
      "\n",
      "wrbdradio: Joyner Lucas &amp; Will Smith - Will (Remix) https://t.co/9svcIKiOWY\n",
      "\n",
      "Saika00___: There should be a level 3 in an FG where it's a Will Smith into Ezra Miller combo\n",
      "\n",
      "MICOLITHE_TXT: Yea yea why didnt will smith been the past 20 years ago we didnt even have fares.\n",
      "\n",
      "ramfrancisuk: This Just Solved Your Smart Home's BIGGEST Problem https://t.co/YnYvY0hnZI via @YouTube - Is @hibberthometech Will Smith - \"The Slap\"?\n",
      "\n",
      "4png_: Watch the uncensored moment Will Smith smacks Chris Rock on stage at the... https://t.co/4K60It8Rv6 @YouTubeより\n",
      "\n",
      "THABAGLADYY: Lmao no I do Not wanna hear Will Smith Rapping ever…\n",
      "\n",
      "medicinehelp: What ‘Traumatized’ Wanda Sykes Was Thinking When Will Smith Slapped Chris Rock https://t.co/DzjwOHur7p\n",
      "\n",
      "beatbandito: @Q_Review Two different schools kids got stabbed outside my homeroom by will smith.\n",
      "\n",
      "MickeyJohnson07: chris rock seems to think people cares that will smith slapped him? Not me sir!\n",
      "\n",
      "cartisSky: i wna slap smbdy like will smith did\n",
      "\n",
      "TheRavensGirl: @Mompreneur_of_3 The entire world watched Will Smith do what he did but so far, no roles lost.\n",
      "Stop oppressing your… https://t.co/LU0nGYnqe5\n",
      "\n",
      "misael_maisced0: pode entrar Will Smith\n",
      "\n",
      "AnaamadeyaManav: @delhichatter @ashutosh83B bhai sach mei black people like will smith are winning oscars so you dont have belittle ashu\n",
      "\n",
      "gala_food: Chris Rock Jokes About The Infamous Will Smith Slap Yet AGAIN! https://t.co/Znawjf7vtf\n",
      "\n",
      "peacefmonline: Chris Rock Jokes About Will Smith's Oscars Slap During Standup Set .... https://t.co/0Vq2l9pToH\n",
      "\n",
      "Jaybdan: I feel like people blew the whole Will Smith situation waaay out of proportion and are just trying to demonize the fuck outta him\n",
      "\n",
      "spacexsamurai: @LAxFLAME Does Will Smith count ? 💀\n",
      "\n",
      "princebest__: @_HYPHYWIFEY thats will smith 👽👽\n",
      "\n",
      "RecRouen: #NowPlaying Will Smith - Gettin' Jiggy Wit It\n",
      "\n",
      "SamSpence2d: Jake Paul offers Will Smith and Chris Rock $30 Million https://t.co/x6ZZ3je6yD\n",
      "\n",
      "bhakt_always: @delhichatter @ashutosh83B Will smith 144p       Will smith1080p https://t.co/6vapaZUnSb\n",
      "\n",
      "ItisSamhere: @JohnsonAwalle @MichShoxen Yeah I have also forgiven Will Smith.\n",
      "\n",
      "palaceintrigue1: Review: Stand-up legend Chris Rock jokes about Will Smith slap seven seconds into Birmingham gig https://t.co/AXaesCR5co #royalfamily\n",
      "\n",
      "lilbrownivixen: @LizTVLiz1 Hey Will Smith did you see this?  BTW Will you should totally pursue your ex Sheree\n",
      "\n",
      "suirates: i wish will smith put that motherfucker in a headlock\n",
      "\n",
      "ImG_O_Odi: this morning i want to will smith one of those old men with their KKK MAGA hats at one oh#f those diners . then spi… https://t.co/2DT02riq4x\n",
      "\n",
      "kato_rmari: Will Smith noticed US! + featured in 24 Oras https://t.co/NYewZBjg58 via @YouTube wow\n",
      "\n",
      "LeratoN_: Soon as Will Smith gets canceled ,they blame Hollywood(white people)\n",
      "\n",
      "But these are the people(black celebrities) a… https://t.co/tPFGDOjuKJ\n",
      "\n",
      "SJ_AV81: @DarrenHarriott No wonder Will Smith slapped him\n",
      "\n",
      "LeratoN_: @PopCrave No one is tryna cancel Will Smith like black celebrities \n",
      "\n",
      "And soon as he get canceled they will be the f… https://t.co/zBgqU5453W\n",
      "\n",
      "muuuugz: 😂🤣🤣🤣A will smith slap will Smother you a good one.\n",
      "\n",
      "vishwatej006: Will Smith\n",
      "The rock\n",
      "\n",
      "Amina110979: @AtlantaDemocrat No screw you and Chris Rock. No one is saying what Will Smith did was right, but it’s been two mon… https://t.co/c4anoxoJnf\n",
      "\n",
      "JohnnyMo12: @dcrponline @DonJBacon @janekleeb To be fair, her Will Smith take was even worse if you want to be nit picky.\n",
      "\n",
      "munchhmoney: Ezra Miller and will Smith are both libras\n",
      "\n",
      "bree_shanelle: No! Fr!? Don’t tell me it’s canceled because of the Will Smith situation\n",
      "\n",
      "TorrentArmy: @ashwsbreal I'll hit like and life if it hits $1.  I'll also pay to smack Will Smith! 😅\n",
      "\n",
      "noeljossant: Will Smith - Men In Black https://t.co/x4YRiEF7Hf\n",
      "\n",
      "01velvetandstee: Please don't replace Will Smith in Aladdin #Disney\n",
      "\n",
      "4melvyn: Samuel jackson-Denzel\n",
      "Will smith\n",
      "Godfather d'Harlem la\n",
      "\n",
      "achibaat007: BAFTAs 2022 Host Made Fun of Will Smith’s Slap https://t.co/8Ski24hSEw\n",
      "\n",
      "Anewsgroup100: BAFTAs 2022 Host Made Fun of Will Smith’s Slap https://t.co/EfoBbePTnD\n",
      "\n",
      "SamSpence2d: WILL SMITH SLAPS CHRIS ROCK!!! Was It Righteously Justified? Short https://t.co/rNvzFmqnUP\n",
      "\n",
      "TeeMichelle57: Chris Rock Jokes He Has 'Most of My Hearing Back' After Will Smith Oscars Slap\n",
      "\n",
      "https://t.co/oFaJSEtCM0\n",
      "\n",
      "WaversThe: Wavers on Will Smith VS Chris Rock 😯🤯\n",
      "\n",
      "Video From: \"Are High-School Romance worth it!? EP5 \n",
      "\n",
      "FULL CLIP 👇… https://t.co/l6U2cyTJ2N\n",
      "\n",
      "grandtheftporn: @KylieMareeKJMX Well Chris rock got abused globally by will smith, yet he still doesn't believe a word amber Heard… https://t.co/KqcdhmbhBp\n",
      "\n",
      "WaversThe: Wavers on Will Smith VS Chris Rock 😯🤯\n",
      "\n",
      "Video From: \"Are High-School Romance worth it!? EP5 \n",
      "\n",
      "FULL CLIP 👇… https://t.co/Y6WvAiwAxa\n",
      "\n",
      "frankominsora: Our u with me boy Cote net flix and desney bring back will smith ppl https://t.co/9JiXP1Krz0\n",
      "\n",
      "PacoHatesYou: Now why couldn’t this woman just make a post about the formula shortage and not include will smith, the yt DV trial and the covid vaccine??\n",
      "\n",
      "ValhallAwaits77: @Actually_Tina “Traumatising” 😂 wise the fuck up \n",
      "\n",
      "Fucking hell you would think that Will Smith beheaded Chris Rock on stage or something\n",
      "\n",
      "ChrisArtist11: @Clark1995Clark @rickygervais Will Smith should host, part of his community service.\n",
      "\n",
      "gocomshukurself: @PopCrave is the will smith slap in the room with us right now? https://t.co/qpXvtFKVT4\n",
      "\n",
      "KatyBunny228: Who cares\n",
      "\n",
      "I was more traumatized by the rest of the Oscars and the Will Smith and Chris Rock was the only thing th… https://t.co/88ZcIxBr45\n",
      "\n",
      "Thadvdking: @vladtv Chris Rock shouldn't be saying nothing about nothing until he fights  Will Smith. #WillSmith #ChrisRock\n",
      "\n",
      "NightRaydes: @Deppgirl2 Chris Rock is awesome lol. Luckily Will Smith wasn't around to give him a cuck-slap on her behalf lol.\n",
      "\n",
      "itsjaiden147: People acting like will smith pulled out a gun and shot chris rock\n",
      "\n",
      "medicinehelp: What ‘Traumatized’ Wanda Sykes Was Thinking When Will Smith Slapped Chris Rock https://t.co/WPnqIlKz2r\n",
      "\n",
      "Critapocalypse: @MDthrice @Booker4KY You mean Gene Hackman or Will Smith?\n",
      "\n",
      "medicinehelp: What ‘Traumatized’ Wanda Sykes Was Thinking When Will Smith Slapped Chris Rock https://t.co/yWgTwMn0zu\n",
      "\n",
      "owlgoddess24: the will smith slap in reality / what celebrities think the will smith slap was https://t.co/sSTdTQtwd8\n",
      "\n",
      "yudhairfans_: @christaline_ INI PASTI WILL SMITH\n",
      "\n",
      "DerikNovvaj23ii: @twizzlytee Ain’t this the same bitch that tried to blame Will Smith for some dude trying t tackle Dave Chapelle on… https://t.co/wX5pUGnMuJ\n",
      "\n",
      "100__points: They done took will smith off everything that’s crazy\n",
      "\n",
      "Onionbagmenace: I think Will Smith is a cloet Celtics fan #LovetheCelts\n",
      "\n",
      "JoshuaMeshackJ2: People seriously need to leave Will Smith alone he said it was a accident for slapping Chris rock at the Oscars and… https://t.co/ft1zRMZXby\n",
      "\n",
      "iMDRW: I have 2: “Bubbly” by Colbie Caillat and “Summertime” by Will Smith\n",
      "\n",
      "Onionbagmenace: I think Will Smith is a closet Celtics fan. #Celticsin7\n",
      "\n",
      "RotoBallerMLB: Will Smith Dealing With A Pectoral Issue, Will Return Saturday https://t.co/WiG4EG9hCr\n",
      "\n",
      "asherdgreat: @CLTgirl82 Will Smith don't got to curse in his records, well I do so fuck him and fuck you too.\n",
      "\n",
      "What did poor will do to deserve that 😂.\n",
      "\n",
      "Scott_Roberts89: Maybe Will Smith was right to slap him..\n",
      "\n",
      "_theopeyemi: @ba_tunde1 @Labisiiiii @IamDoctorFood Wish I can find that will Smith meme where he was slapping sense into the dud… https://t.co/4p0fOeK6Up\n",
      "\n",
      "Gangstaville247: Nowplaying -AUDIODJDROPS - WILL SMITH WDAV Davilleradiocom - Happy Holidays!\n",
      "\n",
      "kaylawithouthek: My monthly tweet about how will smith's just the two of us makes me sob every single time\n",
      "\n",
      "lawofthinking: @wealth_director \"Talent you have naturally. Skill is only developed by hours and hours and hours of beating on your craft.\" \n",
      "\n",
      "~ Will Smith\n",
      "\n",
      "ErinMPeyton: Will Smith is not Chris Brown when Chris was out here wildin.\n",
      "\n",
      "This Wanda bitch on some fuck shit\n",
      "\n",
      "mikemalter: @WendyRogersAZ @Kathy4Truth Free speech does not mean freedom from consequences.\n",
      "\n",
      "You supported Will Smith slapping… https://t.co/saZH2g6GGf\n",
      "\n",
      "AyuMegaAndhini: Will Smith slapped Chris Rock at the @TheAcademy is pretty much his best act so far! Great! #willsmithchrisrock #WillSmith\n",
      "\n",
      "justgacheru: I wanna direct Will Smith in a movie one day\n",
      "\n",
      "funnyfuturist: Q: WHO SUCKS MORE AMBER HEARD OR WILL SMITH?\n",
      " #amberheard #willsmith #willsmithslap #johnnydepp #kevinspacey… https://t.co/xPplM4PEoi\n",
      "\n",
      "Bryanthedude98: @PopCrave I don't approve of what will smith did. Pretty lame move but traumatized...come on now let's move on from… https://t.co/o9nxOtzScI\n",
      "\n",
      "jabbarrants: Traumatized? \n",
      "Was it a shootout that happened?\n",
      "Or will smith beat up Chris rock and broke his bones while chris scr… https://t.co/lwDvYjjgDl\n",
      "\n",
      "nakiafleming654: Chris Rock Jokes About Will Smith's Oscars Slap During Standup Set: 'Got Most of My Hear...https://t.co/cLYd3zmhIw\n",
      "\n",
      "kidhottakes: New Disney+ show features Cassie Lang  played by Will Smith\n",
      "\n",
      "metalrockmusic2: R.I.P. Trevor Strnad, Will Smith on Ozzfest, and More of the Top Stories of the Week  Truly the worst week ever.\n",
      "The post R.I.P. Trevor\n",
      "\n",
      "metalsucks: R.I.P. Trevor Strnad, Will Smith on Ozzfest, and More of the Top Stories of the Week https://t.co/cmbhk6OhDQ\n",
      "\n",
      "SwartGaming2: @stractic2 @DavidBHayter @Tesla @elonmusk Almost as bad as the will smith slap and el*n buying twitter. Shocked the entire nation.\n",
      "\n",
      "mlovu_yongama: @iamsoloh_s @ReeceCentre Will Smith and Jaden Smith are two different people\n",
      "\n",
      "ccmarce_writes: @plumcredit was that the one with will smith?? didn't that get panned?\n",
      "\n",
      "KushKid__: I hate when our age group act like 2000-present is the only era with wack rappers lol\n",
      "\n",
      "Didn’t Will Smith drop a album in the 90’s? Stop it\n",
      "\n",
      "nbascribectx: ⁦@IAmSteveHarvey⁩, Wanda Sykes and other black Hollywood royalty are quietly cancelling Will Smith. And Black Ameri… https://t.co/glk2Wa4Uq3\n",
      "\n",
      "ritaj_twt: BOOO shes acting like will smith killed chris rock or something\n",
      "\n",
      "cacabware: You can do anything, but never go against the family. \n",
      "\n",
      "A blessed weekend to all my fellow will smith respecters. https://t.co/iLNxWv51Oj\n",
      "\n",
      "VelvetRJones: @itsagentnico @BlackerTheGary You disrespectful bruh. Bruh got that rank and went Will Smith on everything\n",
      "\n",
      "whooUlooking4: Sorry but Kendrick as Kanye was hilarious!  On the other hand.. the will smith face was Apt!\n",
      "\n",
      "TomJohn15394888: @Madisontx76 Independence Day with Will Smith.\n",
      "\n",
      "supergrli: will smith was right\n",
      "\n",
      "MaxLechner2: Will Smith Just Shared His Weight-Loss Progress In New Video Post\n",
      "\n",
      "#diet #weightloss #celebrityweightloss #news… https://t.co/7zpJSt2Gu8\n",
      "\n",
      "kLeb_stonehands: Will Smith does one thing arguably wrong and it gets taken to the next level\n",
      "These over reaction articles that have… https://t.co/egxiLcwPkO\n",
      "\n",
      "513VsTheWorld: @PopCrave Will Smith got these comedians shook. Goddamn\n",
      "\n",
      "listenmansays: Dave Chappelle on Will Smith's Slap https://t.co/jkBAu45FqT via @YouTube\n",
      "\n",
      "1EMOANHATARON: Bro, WHAT… Will Smith, then Kevin dies, then Dave Chappell’s attempted murder or whatever that was supposed to be,… https://t.co/q3iocl0upm\n",
      "\n",
      "Shawnaah: A young Will Smith was honestly handsome af\n",
      "\n",
      "gimli281164: @DarrenHarriott Mutter loudly under breath how \"Will Smith would be nicer\".\n",
      "\n",
      "mariewill07: @writerlyai_bot @liles_frances Then again, maybe they need to caught up with Will Smith......\n",
      "\n",
      "KidRehabJr: Will Smith smacked Chris Rock five years ago, let that shit go already\n",
      "\n",
      "Mr10acity_: Acting like Will Smith blew Chris' brains out with a fucking shotgun on live TV it was literally just a slap 💀\n",
      "\n",
      "silayin25: Chris Rock says he has his ‘hearing back’ after being ‘punched in the face’ by Will Smith at Oscars https://t.co/N1AdQI44wi\n",
      "\n",
      "MikeHun68537113: @Mompreneur_of_3 Will Smith got a standing ovation, what do you mean?\n",
      "\n",
      "xyznews_com_ng: Chris Rock Teases Fans With ‘Will Smith’ Joke At Ego Death Comedy Tour — Guardian Life — The Guardian Nigeria News… https://t.co/qEaaLUQqNe\n",
      "\n",
      "Oluwaferanmi231: @Vanburger5 @Honest__001 @big__derah Lmao 🤣 epele oo Will smith eyan Jada Pinkett 😂\n",
      "\n",
      "boomslangfangs: @NeoGameSpark The guy who jumped Chapelle is a PoS but Will Smith is great? Like why didn’t a group of people take… https://t.co/FrJgVl3TlG\n",
      "\n",
      "THEBLACKWlDOW: years-long career as a comedian and the funniest thing he’s done is get slapped by will smith\n",
      "\n",
      "RaymondBrown__: If you're absent during my struggle, don't expect to be present during my success. - Will Smith #quote https://t.co/UoLBeUtjU2\n",
      "\n",
      "joshie_6666: @9gagceo @reicannon @ernestyu9988 @projectPXN Will smith protecting this thats why its so expensive 🔐\n",
      "\n",
      "MsAJF: Colin Kaepernick &amp; Will Smith walk into a bar … #WillSmith #ColinKaepernick #Slammed #WHYDFML\n",
      "\n",
      "goldloveiv: @phuuuury @MindOfSteel__ @gospelbae @Such_Ally @Ryuzakku @EricaJo44088127 @dejadehaan will smith slaps chris rock,… https://t.co/hFfLXNAuwy\n",
      "\n",
      "MsAJF: Colin Kaepernick, Will Smith &amp; Amber Heard walk into a bar … #WillSmith #ColinKaepernick #AmberHeard #Slap #Slammed #WHYDFML #Bye\n",
      "\n"
     ]
    }
   ],
   "source": [
    "stream.filter(track=['Will Smith'], languages=['en'], is_async=False)"
   ]
  },
  {
   "cell_type": "code",
   "execution_count": 169,
   "metadata": {},
   "outputs": [
    {
     "data": {
      "text/plain": [
       "247"
      ]
     },
     "execution_count": 169,
     "metadata": {},
     "output_type": "execute_result"
    }
   ],
   "source": [
    "counts['total_tweets'] #total tweets examined"
   ]
  },
  {
   "cell_type": "code",
   "execution_count": 170,
   "metadata": {},
   "outputs": [
    {
     "data": {
      "text/plain": [
       "150"
      ]
     },
     "execution_count": 170,
     "metadata": {},
     "output_type": "execute_result"
    }
   ],
   "source": [
    "counts['locations'] #tweets kept (should match # for LocationListener limit UNLESS there was a timeout)"
   ]
  },
  {
   "cell_type": "code",
   "execution_count": 171,
   "metadata": {},
   "outputs": [
    {
     "name": "stdout",
     "output_type": "stream",
     "text": [
      "60.7%\n"
     ]
    }
   ],
   "source": [
    "print(f'{counts[\"locations\"] / counts[\"total_tweets\"]:.1%}') # % tweets that had locations"
   ]
  },
  {
   "cell_type": "code",
   "execution_count": 172,
   "metadata": {},
   "outputs": [],
   "source": [
    "from tweetutilities import get_geocodes"
   ]
  },
  {
   "cell_type": "code",
   "execution_count": 173,
   "metadata": {},
   "outputs": [
    {
     "name": "stdout",
     "output_type": "stream",
     "text": [
      "Getting coordinates for tweet locations...\n",
      "OpenMapQuest service timed out. Waiting.\n",
      "OpenMapQuest service timed out. Waiting.\n",
      "Done geocoding\n"
     ]
    }
   ],
   "source": [
    "tweet_locations_fail = get_geocodes(tweets)"
   ]
  },
  {
   "cell_type": "code",
   "execution_count": 174,
   "metadata": {},
   "outputs": [
    {
     "data": {
      "text/plain": [
       "33"
      ]
     },
     "execution_count": 174,
     "metadata": {},
     "output_type": "execute_result"
    }
   ],
   "source": [
    "tweet_locations_fail"
   ]
  },
  {
   "cell_type": "code",
   "execution_count": 175,
   "metadata": {},
   "outputs": [
    {
     "name": "stdout",
     "output_type": "stream",
     "text": [
      "22.0% of the locations could not be deciphered.\n"
     ]
    }
   ],
   "source": [
    "print(f'{tweet_locations_fail / counts[\"locations\"]:.1%} of the locations could not be deciphered.')"
   ]
  },
  {
   "cell_type": "markdown",
   "metadata": {},
   "source": [
    "### Location Listener DataFrame"
   ]
  },
  {
   "cell_type": "code",
   "execution_count": 176,
   "metadata": {},
   "outputs": [],
   "source": [
    "import pandas as pd"
   ]
  },
  {
   "cell_type": "code",
   "execution_count": 177,
   "metadata": {},
   "outputs": [],
   "source": [
    "dft2 = pd.DataFrame(tweets)\n",
    "dft = pd.DataFrame(tweets)"
   ]
  },
  {
   "cell_type": "code",
   "execution_count": 178,
   "metadata": {},
   "outputs": [
    {
     "name": "stdout",
     "output_type": "stream",
     "text": [
      "<class 'pandas.core.frame.DataFrame'>\n",
      "RangeIndex: 150 entries, 0 to 149\n",
      "Data columns (total 5 columns):\n",
      " #   Column       Non-Null Count  Dtype  \n",
      "---  ------       --------------  -----  \n",
      " 0   screen_name  150 non-null    object \n",
      " 1   text         150 non-null    object \n",
      " 2   location     150 non-null    object \n",
      " 3   latitude     117 non-null    float64\n",
      " 4   longitude    117 non-null    float64\n",
      "dtypes: float64(2), object(3)\n",
      "memory usage: 6.0+ KB\n"
     ]
    }
   ],
   "source": [
    "dft.info()"
   ]
  },
  {
   "cell_type": "code",
   "execution_count": 179,
   "metadata": {},
   "outputs": [
    {
     "data": {
      "text/html": [
       "<div>\n",
       "<style scoped>\n",
       "    .dataframe tbody tr th:only-of-type {\n",
       "        vertical-align: middle;\n",
       "    }\n",
       "\n",
       "    .dataframe tbody tr th {\n",
       "        vertical-align: top;\n",
       "    }\n",
       "\n",
       "    .dataframe thead th {\n",
       "        text-align: right;\n",
       "    }\n",
       "</style>\n",
       "<table border=\"1\" class=\"dataframe\">\n",
       "  <thead>\n",
       "    <tr style=\"text-align: right;\">\n",
       "      <th></th>\n",
       "      <th>screen_name</th>\n",
       "      <th>text</th>\n",
       "      <th>location</th>\n",
       "      <th>latitude</th>\n",
       "      <th>longitude</th>\n",
       "    </tr>\n",
       "  </thead>\n",
       "  <tbody>\n",
       "    <tr>\n",
       "      <th>0</th>\n",
       "      <td>EndinStealth</td>\n",
       "      <td>@padrejeremyh Someone needs to face swap Will ...</td>\n",
       "      <td>Lemay, MO</td>\n",
       "      <td>38.533386</td>\n",
       "      <td>-90.279281</td>\n",
       "    </tr>\n",
       "    <tr>\n",
       "      <th>1</th>\n",
       "      <td>DanielN61841575</td>\n",
       "      <td>@DividendExp @PensionCraft Is Will Smith not a...</td>\n",
       "      <td>Area 52</td>\n",
       "      <td>43.692287</td>\n",
       "      <td>-7.574163</td>\n",
       "    </tr>\n",
       "    <tr>\n",
       "      <th>2</th>\n",
       "      <td>jpwan08</td>\n",
       "      <td>Chris Rock takes a dig at Will Smith's Oscars ...</td>\n",
       "      <td>Hyderabad, India</td>\n",
       "      <td>17.388607</td>\n",
       "      <td>78.460810</td>\n",
       "    </tr>\n",
       "    <tr>\n",
       "      <th>3</th>\n",
       "      <td>Helmut_Zemo123</td>\n",
       "      <td>@nypost You got your heating back and yet Weak...</td>\n",
       "      <td>Florida, USA</td>\n",
       "      <td>27.756767</td>\n",
       "      <td>-81.463983</td>\n",
       "    </tr>\n",
       "    <tr>\n",
       "      <th>4</th>\n",
       "      <td>robotfromhell</td>\n",
       "      <td>Chris Pratt is playing King K. Rule in the mov...</td>\n",
       "      <td>Alderan, Exploded</td>\n",
       "      <td>NaN</td>\n",
       "      <td>NaN</td>\n",
       "    </tr>\n",
       "  </tbody>\n",
       "</table>\n",
       "</div>"
      ],
      "text/plain": [
       "       screen_name                                               text  \\\n",
       "0     EndinStealth  @padrejeremyh Someone needs to face swap Will ...   \n",
       "1  DanielN61841575  @DividendExp @PensionCraft Is Will Smith not a...   \n",
       "2          jpwan08  Chris Rock takes a dig at Will Smith's Oscars ...   \n",
       "3   Helmut_Zemo123  @nypost You got your heating back and yet Weak...   \n",
       "4    robotfromhell  Chris Pratt is playing King K. Rule in the mov...   \n",
       "\n",
       "            location   latitude  longitude  \n",
       "0          Lemay, MO  38.533386 -90.279281  \n",
       "1            Area 52  43.692287  -7.574163  \n",
       "2   Hyderabad, India  17.388607  78.460810  \n",
       "3       Florida, USA  27.756767 -81.463983  \n",
       "4  Alderan, Exploded        NaN        NaN  "
      ]
     },
     "execution_count": 179,
     "metadata": {},
     "output_type": "execute_result"
    }
   ],
   "source": [
    "dft.head()"
   ]
  },
  {
   "cell_type": "code",
   "execution_count": 180,
   "metadata": {},
   "outputs": [],
   "source": [
    "dft = dft.dropna()"
   ]
  },
  {
   "cell_type": "code",
   "execution_count": 181,
   "metadata": {},
   "outputs": [
    {
     "data": {
      "text/html": [
       "<div>\n",
       "<style scoped>\n",
       "    .dataframe tbody tr th:only-of-type {\n",
       "        vertical-align: middle;\n",
       "    }\n",
       "\n",
       "    .dataframe tbody tr th {\n",
       "        vertical-align: top;\n",
       "    }\n",
       "\n",
       "    .dataframe thead th {\n",
       "        text-align: right;\n",
       "    }\n",
       "</style>\n",
       "<table border=\"1\" class=\"dataframe\">\n",
       "  <thead>\n",
       "    <tr style=\"text-align: right;\">\n",
       "      <th></th>\n",
       "      <th>screen_name</th>\n",
       "      <th>text</th>\n",
       "      <th>location</th>\n",
       "      <th>latitude</th>\n",
       "      <th>longitude</th>\n",
       "    </tr>\n",
       "  </thead>\n",
       "  <tbody>\n",
       "    <tr>\n",
       "      <th>0</th>\n",
       "      <td>EndinStealth</td>\n",
       "      <td>@padrejeremyh Someone needs to face swap Will ...</td>\n",
       "      <td>Lemay, MO</td>\n",
       "      <td>38.533386</td>\n",
       "      <td>-90.279281</td>\n",
       "    </tr>\n",
       "    <tr>\n",
       "      <th>1</th>\n",
       "      <td>DanielN61841575</td>\n",
       "      <td>@DividendExp @PensionCraft Is Will Smith not a...</td>\n",
       "      <td>Area 52</td>\n",
       "      <td>43.692287</td>\n",
       "      <td>-7.574163</td>\n",
       "    </tr>\n",
       "    <tr>\n",
       "      <th>2</th>\n",
       "      <td>jpwan08</td>\n",
       "      <td>Chris Rock takes a dig at Will Smith's Oscars ...</td>\n",
       "      <td>Hyderabad, India</td>\n",
       "      <td>17.388607</td>\n",
       "      <td>78.460810</td>\n",
       "    </tr>\n",
       "    <tr>\n",
       "      <th>3</th>\n",
       "      <td>Helmut_Zemo123</td>\n",
       "      <td>@nypost You got your heating back and yet Weak...</td>\n",
       "      <td>Florida, USA</td>\n",
       "      <td>27.756767</td>\n",
       "      <td>-81.463983</td>\n",
       "    </tr>\n",
       "    <tr>\n",
       "      <th>5</th>\n",
       "      <td>Helmut_Zemo123</td>\n",
       "      <td>@nypost You got your hearing back and yet weak...</td>\n",
       "      <td>Florida, USA</td>\n",
       "      <td>27.756767</td>\n",
       "      <td>-81.463983</td>\n",
       "    </tr>\n",
       "  </tbody>\n",
       "</table>\n",
       "</div>"
      ],
      "text/plain": [
       "       screen_name                                               text  \\\n",
       "0     EndinStealth  @padrejeremyh Someone needs to face swap Will ...   \n",
       "1  DanielN61841575  @DividendExp @PensionCraft Is Will Smith not a...   \n",
       "2          jpwan08  Chris Rock takes a dig at Will Smith's Oscars ...   \n",
       "3   Helmut_Zemo123  @nypost You got your heating back and yet Weak...   \n",
       "5   Helmut_Zemo123  @nypost You got your hearing back and yet weak...   \n",
       "\n",
       "           location   latitude  longitude  \n",
       "0         Lemay, MO  38.533386 -90.279281  \n",
       "1           Area 52  43.692287  -7.574163  \n",
       "2  Hyderabad, India  17.388607  78.460810  \n",
       "3      Florida, USA  27.756767 -81.463983  \n",
       "5      Florida, USA  27.756767 -81.463983  "
      ]
     },
     "execution_count": 181,
     "metadata": {},
     "output_type": "execute_result"
    }
   ],
   "source": [
    "dft.head()"
   ]
  },
  {
   "cell_type": "code",
   "execution_count": 182,
   "metadata": {},
   "outputs": [
    {
     "name": "stdout",
     "output_type": "stream",
     "text": [
      "<class 'pandas.core.frame.DataFrame'>\n",
      "RangeIndex: 150 entries, 0 to 149\n",
      "Data columns (total 5 columns):\n",
      " #   Column       Non-Null Count  Dtype  \n",
      "---  ------       --------------  -----  \n",
      " 0   screen_name  150 non-null    object \n",
      " 1   text         150 non-null    object \n",
      " 2   location     150 non-null    object \n",
      " 3   latitude     117 non-null    float64\n",
      " 4   longitude    117 non-null    float64\n",
      "dtypes: float64(2), object(3)\n",
      "memory usage: 6.0+ KB\n"
     ]
    }
   ],
   "source": [
    "dft2.info()"
   ]
  },
  {
   "cell_type": "code",
   "execution_count": 183,
   "metadata": {},
   "outputs": [
    {
     "data": {
      "text/plain": [
       "(150, 5)"
      ]
     },
     "execution_count": 183,
     "metadata": {},
     "output_type": "execute_result"
    }
   ],
   "source": [
    "dft2.shape"
   ]
  },
  {
   "cell_type": "code",
   "execution_count": 184,
   "metadata": {},
   "outputs": [],
   "source": [
    "dft.to_csv('dft.csv', index = False)\n",
    "dft2.to_csv('dft2.csv', index = False)"
   ]
  },
  {
   "cell_type": "markdown",
   "metadata": {},
   "source": [
    "### Map the Tweets"
   ]
  },
  {
   "cell_type": "code",
   "execution_count": 185,
   "metadata": {},
   "outputs": [],
   "source": [
    "import folium"
   ]
  },
  {
   "cell_type": "code",
   "execution_count": 186,
   "metadata": {},
   "outputs": [],
   "source": [
    "usmap = folium.Map(location=[39.8283, -98.5795],  # center of U.S.\n",
    "                   tiles='Stamen Terrain',\n",
    "                   zoom_start=4, detect_retina=True)"
   ]
  },
  {
   "cell_type": "code",
   "execution_count": 187,
   "metadata": {},
   "outputs": [],
   "source": [
    "usmap.save('base_map.html')"
   ]
  },
  {
   "cell_type": "code",
   "execution_count": 188,
   "metadata": {},
   "outputs": [],
   "source": [
    "for t in dft.itertuples():\n",
    "    text = ': '.join([t.screen_name, t.text])\n",
    "    popup = folium.Popup(text, parse_html=True)\n",
    "    marker = folium.Marker((t.latitude, t.longitude), \n",
    "                           popup=popup)\n",
    "    marker.add_to(usmap)"
   ]
  },
  {
   "cell_type": "code",
   "execution_count": 189,
   "metadata": {},
   "outputs": [],
   "source": [
    "usmap.save('tweet_map.html')"
   ]
  },
  {
   "cell_type": "code",
   "execution_count": 190,
   "metadata": {},
   "outputs": [
    {
     "data": {
      "text/html": [
       "<div style=\"width:100%;\"><div style=\"position:relative;width:100%;height:0;padding-bottom:60%;\"><span style=\"color:#565656\">Make this Notebook Trusted to load map: File -> Trust Notebook</span><iframe src=\"about:blank\" style=\"position:absolute;width:100%;height:100%;left:0;top:0;border:none !important;\" data-html=%3C%21DOCTYPE%20html%3E%0A%3Chead%3E%20%20%20%20%0A%20%20%20%20%3Cmeta%20http-equiv%3D%22content-type%22%20content%3D%22text/html%3B%20charset%3DUTF-8%22%20/%3E%0A%20%20%20%20%0A%20%20%20%20%20%20%20%20%3Cscript%3E%0A%20%20%20%20%20%20%20%20%20%20%20%20L_NO_TOUCH%20%3D%20false%3B%0A%20%20%20%20%20%20%20%20%20%20%20%20L_DISABLE_3D%20%3D%20false%3B%0A%20%20%20%20%20%20%20%20%3C/script%3E%0A%20%20%20%20%0A%20%20%20%20%3Cstyle%3Ehtml%2C%20body%20%7Bwidth%3A%20100%25%3Bheight%3A%20100%25%3Bmargin%3A%200%3Bpadding%3A%200%3B%7D%3C/style%3E%0A%20%20%20%20%3Cstyle%3E%23map%20%7Bposition%3Aabsolute%3Btop%3A0%3Bbottom%3A0%3Bright%3A0%3Bleft%3A0%3B%7D%3C/style%3E%0A%20%20%20%20%3Cscript%20src%3D%22https%3A//cdn.jsdelivr.net/npm/leaflet%401.6.0/dist/leaflet.js%22%3E%3C/script%3E%0A%20%20%20%20%3Cscript%20src%3D%22https%3A//code.jquery.com/jquery-1.12.4.min.js%22%3E%3C/script%3E%0A%20%20%20%20%3Cscript%20src%3D%22https%3A//maxcdn.bootstrapcdn.com/bootstrap/3.2.0/js/bootstrap.min.js%22%3E%3C/script%3E%0A%20%20%20%20%3Cscript%20src%3D%22https%3A//cdnjs.cloudflare.com/ajax/libs/Leaflet.awesome-markers/2.0.2/leaflet.awesome-markers.js%22%3E%3C/script%3E%0A%20%20%20%20%3Clink%20rel%3D%22stylesheet%22%20href%3D%22https%3A//cdn.jsdelivr.net/npm/leaflet%401.6.0/dist/leaflet.css%22/%3E%0A%20%20%20%20%3Clink%20rel%3D%22stylesheet%22%20href%3D%22https%3A//maxcdn.bootstrapcdn.com/bootstrap/3.2.0/css/bootstrap.min.css%22/%3E%0A%20%20%20%20%3Clink%20rel%3D%22stylesheet%22%20href%3D%22https%3A//maxcdn.bootstrapcdn.com/bootstrap/3.2.0/css/bootstrap-theme.min.css%22/%3E%0A%20%20%20%20%3Clink%20rel%3D%22stylesheet%22%20href%3D%22https%3A//maxcdn.bootstrapcdn.com/font-awesome/4.6.3/css/font-awesome.min.css%22/%3E%0A%20%20%20%20%3Clink%20rel%3D%22stylesheet%22%20href%3D%22https%3A//cdnjs.cloudflare.com/ajax/libs/Leaflet.awesome-markers/2.0.2/leaflet.awesome-markers.css%22/%3E%0A%20%20%20%20%3Clink%20rel%3D%22stylesheet%22%20href%3D%22https%3A//cdn.jsdelivr.net/gh/python-visualization/folium/folium/templates/leaflet.awesome.rotate.min.css%22/%3E%0A%20%20%20%20%0A%20%20%20%20%20%20%20%20%20%20%20%20%3Cmeta%20name%3D%22viewport%22%20content%3D%22width%3Ddevice-width%2C%0A%20%20%20%20%20%20%20%20%20%20%20%20%20%20%20%20initial-scale%3D1.0%2C%20maximum-scale%3D1.0%2C%20user-scalable%3Dno%22%20/%3E%0A%20%20%20%20%20%20%20%20%20%20%20%20%3Cstyle%3E%0A%20%20%20%20%20%20%20%20%20%20%20%20%20%20%20%20%23map_1945d0934a8c4394a11efd24f769cfc4%20%7B%0A%20%20%20%20%20%20%20%20%20%20%20%20%20%20%20%20%20%20%20%20position%3A%20relative%3B%0A%20%20%20%20%20%20%20%20%20%20%20%20%20%20%20%20%20%20%20%20width%3A%20100.0%25%3B%0A%20%20%20%20%20%20%20%20%20%20%20%20%20%20%20%20%20%20%20%20height%3A%20100.0%25%3B%0A%20%20%20%20%20%20%20%20%20%20%20%20%20%20%20%20%20%20%20%20left%3A%200.0%25%3B%0A%20%20%20%20%20%20%20%20%20%20%20%20%20%20%20%20%20%20%20%20top%3A%200.0%25%3B%0A%20%20%20%20%20%20%20%20%20%20%20%20%20%20%20%20%7D%0A%20%20%20%20%20%20%20%20%20%20%20%20%3C/style%3E%0A%20%20%20%20%20%20%20%20%0A%3C/head%3E%0A%3Cbody%3E%20%20%20%20%0A%20%20%20%20%0A%20%20%20%20%20%20%20%20%20%20%20%20%3Cdiv%20class%3D%22folium-map%22%20id%3D%22map_1945d0934a8c4394a11efd24f769cfc4%22%20%3E%3C/div%3E%0A%20%20%20%20%20%20%20%20%0A%3C/body%3E%0A%3Cscript%3E%20%20%20%20%0A%20%20%20%20%0A%20%20%20%20%20%20%20%20%20%20%20%20var%20map_1945d0934a8c4394a11efd24f769cfc4%20%3D%20L.map%28%0A%20%20%20%20%20%20%20%20%20%20%20%20%20%20%20%20%22map_1945d0934a8c4394a11efd24f769cfc4%22%2C%0A%20%20%20%20%20%20%20%20%20%20%20%20%20%20%20%20%7B%0A%20%20%20%20%20%20%20%20%20%20%20%20%20%20%20%20%20%20%20%20center%3A%20%5B39.8283%2C%20-98.5795%5D%2C%0A%20%20%20%20%20%20%20%20%20%20%20%20%20%20%20%20%20%20%20%20crs%3A%20L.CRS.EPSG3857%2C%0A%20%20%20%20%20%20%20%20%20%20%20%20%20%20%20%20%20%20%20%20zoom%3A%204%2C%0A%20%20%20%20%20%20%20%20%20%20%20%20%20%20%20%20%20%20%20%20zoomControl%3A%20true%2C%0A%20%20%20%20%20%20%20%20%20%20%20%20%20%20%20%20%20%20%20%20preferCanvas%3A%20false%2C%0A%20%20%20%20%20%20%20%20%20%20%20%20%20%20%20%20%20%20%20%20detectRetina%3A%20true%2C%0A%20%20%20%20%20%20%20%20%20%20%20%20%20%20%20%20%7D%0A%20%20%20%20%20%20%20%20%20%20%20%20%29%3B%0A%0A%20%20%20%20%20%20%20%20%20%20%20%20%0A%0A%20%20%20%20%20%20%20%20%0A%20%20%20%20%0A%20%20%20%20%20%20%20%20%20%20%20%20var%20tile_layer_9586376f003b47029e8cd52c4e344a76%20%3D%20L.tileLayer%28%0A%20%20%20%20%20%20%20%20%20%20%20%20%20%20%20%20%22https%3A//stamen-tiles-%7Bs%7D.a.ssl.fastly.net/terrain/%7Bz%7D/%7Bx%7D/%7By%7D.jpg%22%2C%0A%20%20%20%20%20%20%20%20%20%20%20%20%20%20%20%20%7B%22attribution%22%3A%20%22Map%20tiles%20by%20%5Cu003ca%20href%3D%5C%22http%3A//stamen.com%5C%22%5Cu003eStamen%20Design%5Cu003c/a%5Cu003e%2C%20under%20%5Cu003ca%20href%3D%5C%22http%3A//creativecommons.org/licenses/by/3.0%5C%22%5Cu003eCC%20BY%203.0%5Cu003c/a%5Cu003e.%20Data%20by%20%5Cu0026copy%3B%20%5Cu003ca%20href%3D%5C%22http%3A//openstreetmap.org%5C%22%5Cu003eOpenStreetMap%5Cu003c/a%5Cu003e%2C%20under%20%5Cu003ca%20href%3D%5C%22http%3A//creativecommons.org/licenses/by-sa/3.0%5C%22%5Cu003eCC%20BY%20SA%5Cu003c/a%5Cu003e.%22%2C%20%22detectRetina%22%3A%20false%2C%20%22maxNativeZoom%22%3A%2018%2C%20%22maxZoom%22%3A%2018%2C%20%22minZoom%22%3A%200%2C%20%22noWrap%22%3A%20false%2C%20%22opacity%22%3A%201%2C%20%22subdomains%22%3A%20%22abc%22%2C%20%22tms%22%3A%20false%7D%0A%20%20%20%20%20%20%20%20%20%20%20%20%29.addTo%28map_1945d0934a8c4394a11efd24f769cfc4%29%3B%0A%20%20%20%20%20%20%20%20%0A%20%20%20%20%0A%20%20%20%20%20%20%20%20%20%20%20%20var%20marker_fe7baadc91004412837276bbe4f29985%20%3D%20L.marker%28%0A%20%20%20%20%20%20%20%20%20%20%20%20%20%20%20%20%5B38.533386%2C%20-90.2792814%5D%2C%0A%20%20%20%20%20%20%20%20%20%20%20%20%20%20%20%20%7B%7D%0A%20%20%20%20%20%20%20%20%20%20%20%20%29.addTo%28map_1945d0934a8c4394a11efd24f769cfc4%29%3B%0A%20%20%20%20%20%20%20%20%0A%20%20%20%20%0A%20%20%20%20%20%20%20%20var%20popup_6a983043c1e948fc9a31293d3f715e89%20%3D%20L.popup%28%7B%22maxWidth%22%3A%20%22100%25%22%7D%29%3B%0A%0A%20%20%20%20%20%20%20%20%0A%20%20%20%20%20%20%20%20%20%20%20%20var%20html_21a113c965ef4e49a38807d782f5f479%20%3D%20%24%28%60%3Cdiv%20id%3D%22html_21a113c965ef4e49a38807d782f5f479%22%20style%3D%22width%3A%20100.0%25%3B%20height%3A%20100.0%25%3B%22%3EEndinStealth%3A%20%40padrejeremyh%20Someone%20needs%20to%20face%20swap%20Will%20Smith%20in%20here.%3C/div%3E%60%29%5B0%5D%3B%0A%20%20%20%20%20%20%20%20%20%20%20%20popup_6a983043c1e948fc9a31293d3f715e89.setContent%28html_21a113c965ef4e49a38807d782f5f479%29%3B%0A%20%20%20%20%20%20%20%20%0A%0A%20%20%20%20%20%20%20%20marker_fe7baadc91004412837276bbe4f29985.bindPopup%28popup_6a983043c1e948fc9a31293d3f715e89%29%0A%20%20%20%20%20%20%20%20%3B%0A%0A%20%20%20%20%20%20%20%20%0A%20%20%20%20%0A%20%20%20%20%0A%20%20%20%20%20%20%20%20%20%20%20%20var%20marker_cd609e0408cd44cb9ca1b6bb78ae2cfa%20%3D%20L.marker%28%0A%20%20%20%20%20%20%20%20%20%20%20%20%20%20%20%20%5B43.6922873%2C%20-7.5741628%5D%2C%0A%20%20%20%20%20%20%20%20%20%20%20%20%20%20%20%20%7B%7D%0A%20%20%20%20%20%20%20%20%20%20%20%20%29.addTo%28map_1945d0934a8c4394a11efd24f769cfc4%29%3B%0A%20%20%20%20%20%20%20%20%0A%20%20%20%20%0A%20%20%20%20%20%20%20%20var%20popup_1f7cf6abab1a429499daa779542a1024%20%3D%20L.popup%28%7B%22maxWidth%22%3A%20%22100%25%22%7D%29%3B%0A%0A%20%20%20%20%20%20%20%20%0A%20%20%20%20%20%20%20%20%20%20%20%20var%20html_2592d306e389437ea99e0f0275d61fce%20%3D%20%24%28%60%3Cdiv%20id%3D%22html_2592d306e389437ea99e0f0275d61fce%22%20style%3D%22width%3A%20100.0%25%3B%20height%3A%20100.0%25%3B%22%3EDanielN61841575%3A%20%40DividendExp%20%40PensionCraft%20Is%20Will%20Smith%20not%20available%3F%3C/div%3E%60%29%5B0%5D%3B%0A%20%20%20%20%20%20%20%20%20%20%20%20popup_1f7cf6abab1a429499daa779542a1024.setContent%28html_2592d306e389437ea99e0f0275d61fce%29%3B%0A%20%20%20%20%20%20%20%20%0A%0A%20%20%20%20%20%20%20%20marker_cd609e0408cd44cb9ca1b6bb78ae2cfa.bindPopup%28popup_1f7cf6abab1a429499daa779542a1024%29%0A%20%20%20%20%20%20%20%20%3B%0A%0A%20%20%20%20%20%20%20%20%0A%20%20%20%20%0A%20%20%20%20%0A%20%20%20%20%20%20%20%20%20%20%20%20var%20marker_479c6b4910954f36987982555221b249%20%3D%20L.marker%28%0A%20%20%20%20%20%20%20%20%20%20%20%20%20%20%20%20%5B17.3886068%2C%2078.4608095675926%5D%2C%0A%20%20%20%20%20%20%20%20%20%20%20%20%20%20%20%20%7B%7D%0A%20%20%20%20%20%20%20%20%20%20%20%20%29.addTo%28map_1945d0934a8c4394a11efd24f769cfc4%29%3B%0A%20%20%20%20%20%20%20%20%0A%20%20%20%20%0A%20%20%20%20%20%20%20%20var%20popup_ea068b4d3dd84f7db68db7e1a1e6aa9c%20%3D%20L.popup%28%7B%22maxWidth%22%3A%20%22100%25%22%7D%29%3B%0A%0A%20%20%20%20%20%20%20%20%0A%20%20%20%20%20%20%20%20%20%20%20%20var%20html_5d5ba513b37b4e5c965fb6743e4b4308%20%3D%20%24%28%60%3Cdiv%20id%3D%22html_5d5ba513b37b4e5c965fb6743e4b4308%22%20style%3D%22width%3A%20100.0%25%3B%20height%3A%20100.0%25%3B%22%3Ejpwan08%3A%20Chris%20Rock%20takes%20a%20dig%20at%20Will%20Smith%26%2339%3Bs%20Oscars%20slap%20https%3A//t.co/mTWw1HIalW%20https%3A//t.co/k7Vtn6Y3Vz%3C/div%3E%60%29%5B0%5D%3B%0A%20%20%20%20%20%20%20%20%20%20%20%20popup_ea068b4d3dd84f7db68db7e1a1e6aa9c.setContent%28html_5d5ba513b37b4e5c965fb6743e4b4308%29%3B%0A%20%20%20%20%20%20%20%20%0A%0A%20%20%20%20%20%20%20%20marker_479c6b4910954f36987982555221b249.bindPopup%28popup_ea068b4d3dd84f7db68db7e1a1e6aa9c%29%0A%20%20%20%20%20%20%20%20%3B%0A%0A%20%20%20%20%20%20%20%20%0A%20%20%20%20%0A%20%20%20%20%0A%20%20%20%20%20%20%20%20%20%20%20%20var%20marker_8f200f953f714e86855d1f6aace8c6b3%20%3D%20L.marker%28%0A%20%20%20%20%20%20%20%20%20%20%20%20%20%20%20%20%5B27.7567667%2C%20-81.4639835%5D%2C%0A%20%20%20%20%20%20%20%20%20%20%20%20%20%20%20%20%7B%7D%0A%20%20%20%20%20%20%20%20%20%20%20%20%29.addTo%28map_1945d0934a8c4394a11efd24f769cfc4%29%3B%0A%20%20%20%20%20%20%20%20%0A%20%20%20%20%0A%20%20%20%20%20%20%20%20var%20popup_50cfb528e550445e84eabe2f319aa05c%20%3D%20L.popup%28%7B%22maxWidth%22%3A%20%22100%25%22%7D%29%3B%0A%0A%20%20%20%20%20%20%20%20%0A%20%20%20%20%20%20%20%20%20%20%20%20var%20html_4cb993363b954c59b6a02c80a73970e6%20%3D%20%24%28%60%3Cdiv%20id%3D%22html_4cb993363b954c59b6a02c80a73970e6%22%20style%3D%22width%3A%20100.0%25%3B%20height%3A%20100.0%25%3B%22%3EHelmut_Zemo123%3A%20%40nypost%20You%20got%20your%20heating%20back%20and%20yet%20Weakass%20Will%20Smith%20still%20hasn%E2%80%99t%20gotten%20his%20balls%20back%20from%20%40jadapsmith%20%F0%9F%98%82%3C/div%3E%60%29%5B0%5D%3B%0A%20%20%20%20%20%20%20%20%20%20%20%20popup_50cfb528e550445e84eabe2f319aa05c.setContent%28html_4cb993363b954c59b6a02c80a73970e6%29%3B%0A%20%20%20%20%20%20%20%20%0A%0A%20%20%20%20%20%20%20%20marker_8f200f953f714e86855d1f6aace8c6b3.bindPopup%28popup_50cfb528e550445e84eabe2f319aa05c%29%0A%20%20%20%20%20%20%20%20%3B%0A%0A%20%20%20%20%20%20%20%20%0A%20%20%20%20%0A%20%20%20%20%0A%20%20%20%20%20%20%20%20%20%20%20%20var%20marker_6058a281af63484b82c3dc287a548ae4%20%3D%20L.marker%28%0A%20%20%20%20%20%20%20%20%20%20%20%20%20%20%20%20%5B27.7567667%2C%20-81.4639835%5D%2C%0A%20%20%20%20%20%20%20%20%20%20%20%20%20%20%20%20%7B%7D%0A%20%20%20%20%20%20%20%20%20%20%20%20%29.addTo%28map_1945d0934a8c4394a11efd24f769cfc4%29%3B%0A%20%20%20%20%20%20%20%20%0A%20%20%20%20%0A%20%20%20%20%20%20%20%20var%20popup_b98c8aeed78947a2bf11f1d5e65fa316%20%3D%20L.popup%28%7B%22maxWidth%22%3A%20%22100%25%22%7D%29%3B%0A%0A%20%20%20%20%20%20%20%20%0A%20%20%20%20%20%20%20%20%20%20%20%20var%20html_c7c57b3e21e44b86845dbece8a933dd0%20%3D%20%24%28%60%3Cdiv%20id%3D%22html_c7c57b3e21e44b86845dbece8a933dd0%22%20style%3D%22width%3A%20100.0%25%3B%20height%3A%20100.0%25%3B%22%3EHelmut_Zemo123%3A%20%40nypost%20You%20got%20your%20hearing%20back%20and%20yet%20weakass%20Will%20Smith%20still%20hasn%E2%80%99t%20gotten%20his%20balls%20back%20from%20%40jadapsmith%20%F0%9F%98%82%3C/div%3E%60%29%5B0%5D%3B%0A%20%20%20%20%20%20%20%20%20%20%20%20popup_b98c8aeed78947a2bf11f1d5e65fa316.setContent%28html_c7c57b3e21e44b86845dbece8a933dd0%29%3B%0A%20%20%20%20%20%20%20%20%0A%0A%20%20%20%20%20%20%20%20marker_6058a281af63484b82c3dc287a548ae4.bindPopup%28popup_b98c8aeed78947a2bf11f1d5e65fa316%29%0A%20%20%20%20%20%20%20%20%3B%0A%0A%20%20%20%20%20%20%20%20%0A%20%20%20%20%0A%20%20%20%20%0A%20%20%20%20%20%20%20%20%20%20%20%20var%20marker_1767b35bce744f9ab8a9c7dcaa37672c%20%3D%20L.marker%28%0A%20%20%20%20%20%20%20%20%20%20%20%20%20%20%20%20%5B52.6361398%2C%20-1.1330789%5D%2C%0A%20%20%20%20%20%20%20%20%20%20%20%20%20%20%20%20%7B%7D%0A%20%20%20%20%20%20%20%20%20%20%20%20%29.addTo%28map_1945d0934a8c4394a11efd24f769cfc4%29%3B%0A%20%20%20%20%20%20%20%20%0A%20%20%20%20%0A%20%20%20%20%20%20%20%20var%20popup_c52f39792e30456493028b5ce18474b6%20%3D%20L.popup%28%7B%22maxWidth%22%3A%20%22100%25%22%7D%29%3B%0A%0A%20%20%20%20%20%20%20%20%0A%20%20%20%20%20%20%20%20%20%20%20%20var%20html_ecff62f3f6ee4c1295d70d16b259bc76%20%3D%20%24%28%60%3Cdiv%20id%3D%22html_ecff62f3f6ee4c1295d70d16b259bc76%22%20style%3D%22width%3A%20100.0%25%3B%20height%3A%20100.0%25%3B%22%3EAshleyHings%3A%20%40DarrenHarriott%20I%26%2339%3Bd%20tell%20will%20smith.%20He%26%2339%3Bll%20sort%20it%3C/div%3E%60%29%5B0%5D%3B%0A%20%20%20%20%20%20%20%20%20%20%20%20popup_c52f39792e30456493028b5ce18474b6.setContent%28html_ecff62f3f6ee4c1295d70d16b259bc76%29%3B%0A%20%20%20%20%20%20%20%20%0A%0A%20%20%20%20%20%20%20%20marker_1767b35bce744f9ab8a9c7dcaa37672c.bindPopup%28popup_c52f39792e30456493028b5ce18474b6%29%0A%20%20%20%20%20%20%20%20%3B%0A%0A%20%20%20%20%20%20%20%20%0A%20%20%20%20%0A%20%20%20%20%0A%20%20%20%20%20%20%20%20%20%20%20%20var%20marker_df03c423964648cda3f345e28f301338%20%3D%20L.marker%28%0A%20%20%20%20%20%20%20%20%20%20%20%20%20%20%20%20%5B-24.7761086%2C%20134.755%5D%2C%0A%20%20%20%20%20%20%20%20%20%20%20%20%20%20%20%20%7B%7D%0A%20%20%20%20%20%20%20%20%20%20%20%20%29.addTo%28map_1945d0934a8c4394a11efd24f769cfc4%29%3B%0A%20%20%20%20%20%20%20%20%0A%20%20%20%20%0A%20%20%20%20%20%20%20%20var%20popup_193898c099824eff986dee08eeef7604%20%3D%20L.popup%28%7B%22maxWidth%22%3A%20%22100%25%22%7D%29%3B%0A%0A%20%20%20%20%20%20%20%20%0A%20%20%20%20%20%20%20%20%20%20%20%20var%20html_8fc9e990686c4766af7273da7014c73e%20%3D%20%24%28%60%3Cdiv%20id%3D%22html_8fc9e990686c4766af7273da7014c73e%22%20style%3D%22width%3A%20100.0%25%3B%20height%3A%20100.0%25%3B%22%3Ekeivan47%3A%20Chris%20Rock%E2%80%99s%20Mother%20Blasts%20Will%20Smith%3A%20%E2%80%9CHe%20Really%20Slapped%20Me%E2%80%9D%20https%3A//t.co/4PxCsjw9Sh%3C/div%3E%60%29%5B0%5D%3B%0A%20%20%20%20%20%20%20%20%20%20%20%20popup_193898c099824eff986dee08eeef7604.setContent%28html_8fc9e990686c4766af7273da7014c73e%29%3B%0A%20%20%20%20%20%20%20%20%0A%0A%20%20%20%20%20%20%20%20marker_df03c423964648cda3f345e28f301338.bindPopup%28popup_193898c099824eff986dee08eeef7604%29%0A%20%20%20%20%20%20%20%20%3B%0A%0A%20%20%20%20%20%20%20%20%0A%20%20%20%20%0A%20%20%20%20%0A%20%20%20%20%20%20%20%20%20%20%20%20var%20marker_ad081526cd1e44af81201ff4fb7ed8ab%20%3D%20L.marker%28%0A%20%20%20%20%20%20%20%20%20%20%20%20%20%20%20%20%5B32.844017%2C%20-97.1430671%5D%2C%0A%20%20%20%20%20%20%20%20%20%20%20%20%20%20%20%20%7B%7D%0A%20%20%20%20%20%20%20%20%20%20%20%20%29.addTo%28map_1945d0934a8c4394a11efd24f769cfc4%29%3B%0A%20%20%20%20%20%20%20%20%0A%20%20%20%20%0A%20%20%20%20%20%20%20%20var%20popup_64303373e40545afae6bf44b50ef16b1%20%3D%20L.popup%28%7B%22maxWidth%22%3A%20%22100%25%22%7D%29%3B%0A%0A%20%20%20%20%20%20%20%20%0A%20%20%20%20%20%20%20%20%20%20%20%20var%20html_c4000f84444947d58b19a3852025b572%20%3D%20%24%28%60%3Cdiv%20id%3D%22html_c4000f84444947d58b19a3852025b572%22%20style%3D%22width%3A%20100.0%25%3B%20height%3A%20100.0%25%3B%22%3Emkamirali087%3A%20Some%20Americans%20were%20probably%20more%20traumatized%20by%20Will%20Smith%E2%80%99s%20slap%20than%20what%20Israel%20has%20done%20and%20continues%20to%20do%20in%E2%80%A6%20https%3A//t.co/6CU0ARejIE%3C/div%3E%60%29%5B0%5D%3B%0A%20%20%20%20%20%20%20%20%20%20%20%20popup_64303373e40545afae6bf44b50ef16b1.setContent%28html_c4000f84444947d58b19a3852025b572%29%3B%0A%20%20%20%20%20%20%20%20%0A%0A%20%20%20%20%20%20%20%20marker_ad081526cd1e44af81201ff4fb7ed8ab.bindPopup%28popup_64303373e40545afae6bf44b50ef16b1%29%0A%20%20%20%20%20%20%20%20%3B%0A%0A%20%20%20%20%20%20%20%20%0A%20%20%20%20%0A%20%20%20%20%0A%20%20%20%20%20%20%20%20%20%20%20%20var%20marker_35a52ea3b2ad47beb130c5d42afb9959%20%3D%20L.marker%28%0A%20%20%20%20%20%20%20%20%20%20%20%20%20%20%20%20%5B-14.30063095%2C%20-170.695974791655%5D%2C%0A%20%20%20%20%20%20%20%20%20%20%20%20%20%20%20%20%7B%7D%0A%20%20%20%20%20%20%20%20%20%20%20%20%29.addTo%28map_1945d0934a8c4394a11efd24f769cfc4%29%3B%0A%20%20%20%20%20%20%20%20%0A%20%20%20%20%0A%20%20%20%20%20%20%20%20var%20popup_6ccc1af77ff549fbb5a35e8107b970aa%20%3D%20L.popup%28%7B%22maxWidth%22%3A%20%22100%25%22%7D%29%3B%0A%0A%20%20%20%20%20%20%20%20%0A%20%20%20%20%20%20%20%20%20%20%20%20var%20html_f4f628d2e15b4a39b14dcd54ad6c77dc%20%3D%20%24%28%60%3Cdiv%20id%3D%22html_f4f628d2e15b4a39b14dcd54ad6c77dc%22%20style%3D%22width%3A%20100.0%25%3B%20height%3A%20100.0%25%3B%22%3EBradleyVoigt%3A%20%40PopCrave%20Will%20Smith%20a%20fuckboi%20for%20the%20slap%20but%20the%20reactions%20by%20these%20celebs%20are%20so%20dumb%3C/div%3E%60%29%5B0%5D%3B%0A%20%20%20%20%20%20%20%20%20%20%20%20popup_6ccc1af77ff549fbb5a35e8107b970aa.setContent%28html_f4f628d2e15b4a39b14dcd54ad6c77dc%29%3B%0A%20%20%20%20%20%20%20%20%0A%0A%20%20%20%20%20%20%20%20marker_35a52ea3b2ad47beb130c5d42afb9959.bindPopup%28popup_6ccc1af77ff549fbb5a35e8107b970aa%29%0A%20%20%20%20%20%20%20%20%3B%0A%0A%20%20%20%20%20%20%20%20%0A%20%20%20%20%0A%20%20%20%20%0A%20%20%20%20%20%20%20%20%20%20%20%20var%20marker_84c24193955549e4baa07e4d7710e5ff%20%3D%20L.marker%28%0A%20%20%20%20%20%20%20%20%20%20%20%20%20%20%20%20%5B41.38265205%2C%20-74.6378413145929%5D%2C%0A%20%20%20%20%20%20%20%20%20%20%20%20%20%20%20%20%7B%7D%0A%20%20%20%20%20%20%20%20%20%20%20%20%29.addTo%28map_1945d0934a8c4394a11efd24f769cfc4%29%3B%0A%20%20%20%20%20%20%20%20%0A%20%20%20%20%0A%20%20%20%20%20%20%20%20var%20popup_c11fb44a06624e4fb3a965c6df7b2ec0%20%3D%20L.popup%28%7B%22maxWidth%22%3A%20%22100%25%22%7D%29%3B%0A%0A%20%20%20%20%20%20%20%20%0A%20%20%20%20%20%20%20%20%20%20%20%20var%20html_2430fb3730ed49ee96d3732e72cc84d5%20%3D%20%24%28%60%3Cdiv%20id%3D%22html_2430fb3730ed49ee96d3732e72cc84d5%22%20style%3D%22width%3A%20100.0%25%3B%20height%3A%20100.0%25%3B%22%3ETru1drflRegina%3A%20%40inborn_bookworm%20Hasn%E2%80%99t%20he%20%28Will%20Smith%29%20been%20punished%20enough%20and%20still%20being%20punished%3F%20He%E2%80%99s%20married%20to%20Jada%20Pickett%E2%80%A6%20https%3A//t.co/8iYzSSjffz%3C/div%3E%60%29%5B0%5D%3B%0A%20%20%20%20%20%20%20%20%20%20%20%20popup_c11fb44a06624e4fb3a965c6df7b2ec0.setContent%28html_2430fb3730ed49ee96d3732e72cc84d5%29%3B%0A%20%20%20%20%20%20%20%20%0A%0A%20%20%20%20%20%20%20%20marker_84c24193955549e4baa07e4d7710e5ff.bindPopup%28popup_c11fb44a06624e4fb3a965c6df7b2ec0%29%0A%20%20%20%20%20%20%20%20%3B%0A%0A%20%20%20%20%20%20%20%20%0A%20%20%20%20%0A%20%20%20%20%0A%20%20%20%20%20%20%20%20%20%20%20%20var%20marker_90e6587f3bc04c0da60fb0163e975402%20%3D%20L.marker%28%0A%20%20%20%20%20%20%20%20%20%20%20%20%20%20%20%20%5B5.5600141%2C%20-0.2057437%5D%2C%0A%20%20%20%20%20%20%20%20%20%20%20%20%20%20%20%20%7B%7D%0A%20%20%20%20%20%20%20%20%20%20%20%20%29.addTo%28map_1945d0934a8c4394a11efd24f769cfc4%29%3B%0A%20%20%20%20%20%20%20%20%0A%20%20%20%20%0A%20%20%20%20%20%20%20%20var%20popup_3bbf3af399944173b68e93c81aeaa7f9%20%3D%20L.popup%28%7B%22maxWidth%22%3A%20%22100%25%22%7D%29%3B%0A%0A%20%20%20%20%20%20%20%20%0A%20%20%20%20%20%20%20%20%20%20%20%20var%20html_9871aefd3a4a46bd999f5c7a4eee58aa%20%3D%20%24%28%60%3Cdiv%20id%3D%22html_9871aefd3a4a46bd999f5c7a4eee58aa%22%20style%3D%22width%3A%20100.0%25%3B%20height%3A%20100.0%25%3B%22%3ERokotoNet%3A%20Chris%20Rock%20jokes%20about%20infamous%20Will%20Smith%20Oscars%20slap%3A%20%E2%80%98Got%20most%20of%20my%20hearing%C2%A0back%E2%80%99%20https%3A//t.co/weQkzwDPGu%3C/div%3E%60%29%5B0%5D%3B%0A%20%20%20%20%20%20%20%20%20%20%20%20popup_3bbf3af399944173b68e93c81aeaa7f9.setContent%28html_9871aefd3a4a46bd999f5c7a4eee58aa%29%3B%0A%20%20%20%20%20%20%20%20%0A%0A%20%20%20%20%20%20%20%20marker_90e6587f3bc04c0da60fb0163e975402.bindPopup%28popup_3bbf3af399944173b68e93c81aeaa7f9%29%0A%20%20%20%20%20%20%20%20%3B%0A%0A%20%20%20%20%20%20%20%20%0A%20%20%20%20%0A%20%20%20%20%0A%20%20%20%20%20%20%20%20%20%20%20%20var%20marker_f80ad88fbf9145a4862c2e30a109936a%20%3D%20L.marker%28%0A%20%20%20%20%20%20%20%20%20%20%20%20%20%20%20%20%5B9.6000359%2C%207.9999721%5D%2C%0A%20%20%20%20%20%20%20%20%20%20%20%20%20%20%20%20%7B%7D%0A%20%20%20%20%20%20%20%20%20%20%20%20%29.addTo%28map_1945d0934a8c4394a11efd24f769cfc4%29%3B%0A%20%20%20%20%20%20%20%20%0A%20%20%20%20%0A%20%20%20%20%20%20%20%20var%20popup_47435abc098f4c8a8413da6b68c77186%20%3D%20L.popup%28%7B%22maxWidth%22%3A%20%22100%25%22%7D%29%3B%0A%0A%20%20%20%20%20%20%20%20%0A%20%20%20%20%20%20%20%20%20%20%20%20var%20html_b456694d87fb41d985355393a7bb101d%20%3D%20%24%28%60%3Cdiv%20id%3D%22html_b456694d87fb41d985355393a7bb101d%22%20style%3D%22width%3A%20100.0%25%3B%20height%3A%20100.0%25%3B%22%3Epwanaduku%3A%20What%20a%20shame%21%20Most%20importantly%2C%20in%20my%20best%20Will%20Smith%20voice%20%26%2334%3BKeep%20the%20name%20of%20my%20Faith%20%28Christianity%29%20out%20of%20your%20m%E2%80%A6%20https%3A//t.co/IoSla49lRG%3C/div%3E%60%29%5B0%5D%3B%0A%20%20%20%20%20%20%20%20%20%20%20%20popup_47435abc098f4c8a8413da6b68c77186.setContent%28html_b456694d87fb41d985355393a7bb101d%29%3B%0A%20%20%20%20%20%20%20%20%0A%0A%20%20%20%20%20%20%20%20marker_f80ad88fbf9145a4862c2e30a109936a.bindPopup%28popup_47435abc098f4c8a8413da6b68c77186%29%0A%20%20%20%20%20%20%20%20%3B%0A%0A%20%20%20%20%20%20%20%20%0A%20%20%20%20%0A%20%20%20%20%0A%20%20%20%20%20%20%20%20%20%20%20%20var%20marker_f652282e225a49758d966f0c52a04468%20%3D%20L.marker%28%0A%20%20%20%20%20%20%20%20%20%20%20%20%20%20%20%20%5B55.947877%2C%20-4.7591972%5D%2C%0A%20%20%20%20%20%20%20%20%20%20%20%20%20%20%20%20%7B%7D%0A%20%20%20%20%20%20%20%20%20%20%20%20%29.addTo%28map_1945d0934a8c4394a11efd24f769cfc4%29%3B%0A%20%20%20%20%20%20%20%20%0A%20%20%20%20%0A%20%20%20%20%20%20%20%20var%20popup_88f82dfd2efe4ee98e38cfaa9edfdb3f%20%3D%20L.popup%28%7B%22maxWidth%22%3A%20%22100%25%22%7D%29%3B%0A%0A%20%20%20%20%20%20%20%20%0A%20%20%20%20%20%20%20%20%20%20%20%20var%20html_486ba4308db14416b486e4b50e9c708c%20%3D%20%24%28%60%3Cdiv%20id%3D%22html_486ba4308db14416b486e4b50e9c708c%22%20style%3D%22width%3A%20100.0%25%3B%20height%3A%20100.0%25%3B%22%3EKillaThrilla_YT%3A%20Will%20Smith%20Will%20Smith%20Will%20Smith%20Will%20Smith%20Will%20Smith%20Will%20Smith%20Will%20Smith%20Will%20Smith%20Will%20Smith%20Will%20Smith%20Will%E2%80%A6%20https%3A//t.co/Ak3w3ZDxwR%3C/div%3E%60%29%5B0%5D%3B%0A%20%20%20%20%20%20%20%20%20%20%20%20popup_88f82dfd2efe4ee98e38cfaa9edfdb3f.setContent%28html_486ba4308db14416b486e4b50e9c708c%29%3B%0A%20%20%20%20%20%20%20%20%0A%0A%20%20%20%20%20%20%20%20marker_f652282e225a49758d966f0c52a04468.bindPopup%28popup_88f82dfd2efe4ee98e38cfaa9edfdb3f%29%0A%20%20%20%20%20%20%20%20%3B%0A%0A%20%20%20%20%20%20%20%20%0A%20%20%20%20%0A%20%20%20%20%0A%20%20%20%20%20%20%20%20%20%20%20%20var%20marker_ca1148dfbfde4e8fb11ff3167280f8ce%20%3D%20L.marker%28%0A%20%20%20%20%20%20%20%20%20%20%20%20%20%20%20%20%5B30.0419%2C%20-90.0281%5D%2C%0A%20%20%20%20%20%20%20%20%20%20%20%20%20%20%20%20%7B%7D%0A%20%20%20%20%20%20%20%20%20%20%20%20%29.addTo%28map_1945d0934a8c4394a11efd24f769cfc4%29%3B%0A%20%20%20%20%20%20%20%20%0A%20%20%20%20%0A%20%20%20%20%20%20%20%20var%20popup_d02a1e2c5a0a4422821ad5c47792ae15%20%3D%20L.popup%28%7B%22maxWidth%22%3A%20%22100%25%22%7D%29%3B%0A%0A%20%20%20%20%20%20%20%20%0A%20%20%20%20%20%20%20%20%20%20%20%20var%20html_6cf402fc37a8472c8be31282ace42413%20%3D%20%24%28%60%3Cdiv%20id%3D%22html_6cf402fc37a8472c8be31282ace42413%22%20style%3D%22width%3A%20100.0%25%3B%20height%3A%20100.0%25%3B%22%3EPeaceAndFades%3A%20Will%20Smith%20really%20smacked%20Chris%20Rock%20in%20the%20face%E2%80%A6.at%20the%20Grammys%3C/div%3E%60%29%5B0%5D%3B%0A%20%20%20%20%20%20%20%20%20%20%20%20popup_d02a1e2c5a0a4422821ad5c47792ae15.setContent%28html_6cf402fc37a8472c8be31282ace42413%29%3B%0A%20%20%20%20%20%20%20%20%0A%0A%20%20%20%20%20%20%20%20marker_ca1148dfbfde4e8fb11ff3167280f8ce.bindPopup%28popup_d02a1e2c5a0a4422821ad5c47792ae15%29%0A%20%20%20%20%20%20%20%20%3B%0A%0A%20%20%20%20%20%20%20%20%0A%20%20%20%20%0A%20%20%20%20%0A%20%20%20%20%20%20%20%20%20%20%20%20var%20marker_e7b24468540c408da8fe8dea1597e50b%20%3D%20L.marker%28%0A%20%20%20%20%20%20%20%20%20%20%20%20%20%20%20%20%5B30.0419%2C%20-90.0281%5D%2C%0A%20%20%20%20%20%20%20%20%20%20%20%20%20%20%20%20%7B%7D%0A%20%20%20%20%20%20%20%20%20%20%20%20%29.addTo%28map_1945d0934a8c4394a11efd24f769cfc4%29%3B%0A%20%20%20%20%20%20%20%20%0A%20%20%20%20%0A%20%20%20%20%20%20%20%20var%20popup_6785d26fcf2246ea8fddf3a0847ac569%20%3D%20L.popup%28%7B%22maxWidth%22%3A%20%22100%25%22%7D%29%3B%0A%0A%20%20%20%20%20%20%20%20%0A%20%20%20%20%20%20%20%20%20%20%20%20var%20html_fe1b919250b24f1fa12d1fc29f98deef%20%3D%20%24%28%60%3Cdiv%20id%3D%22html_fe1b919250b24f1fa12d1fc29f98deef%22%20style%3D%22width%3A%20100.0%25%3B%20height%3A%20100.0%25%3B%22%3EPeaceAndFades%3A%20Will%20Smith%20really%20smacked%20Chris%20Rock%20in%20the%20face%E2%80%A6.at%20the%20Oscars%E2%80%A6%E2%80%A6%3C/div%3E%60%29%5B0%5D%3B%0A%20%20%20%20%20%20%20%20%20%20%20%20popup_6785d26fcf2246ea8fddf3a0847ac569.setContent%28html_fe1b919250b24f1fa12d1fc29f98deef%29%3B%0A%20%20%20%20%20%20%20%20%0A%0A%20%20%20%20%20%20%20%20marker_e7b24468540c408da8fe8dea1597e50b.bindPopup%28popup_6785d26fcf2246ea8fddf3a0847ac569%29%0A%20%20%20%20%20%20%20%20%3B%0A%0A%20%20%20%20%20%20%20%20%0A%20%20%20%20%0A%20%20%20%20%0A%20%20%20%20%20%20%20%20%20%20%20%20var%20marker_70d832a394614dad98a87de2980e9ecb%20%3D%20L.marker%28%0A%20%20%20%20%20%20%20%20%20%20%20%20%20%20%20%20%5B34.054935%2C%20-118.244476%5D%2C%0A%20%20%20%20%20%20%20%20%20%20%20%20%20%20%20%20%7B%7D%0A%20%20%20%20%20%20%20%20%20%20%20%20%29.addTo%28map_1945d0934a8c4394a11efd24f769cfc4%29%3B%0A%20%20%20%20%20%20%20%20%0A%20%20%20%20%0A%20%20%20%20%20%20%20%20var%20popup_7fba59d2d1de4ebbab6bf9deb44c94fd%20%3D%20L.popup%28%7B%22maxWidth%22%3A%20%22100%25%22%7D%29%3B%0A%0A%20%20%20%20%20%20%20%20%0A%20%20%20%20%20%20%20%20%20%20%20%20var%20html_12a2a1f54b9d414291460cae159e0206%20%3D%20%24%28%60%3Cdiv%20id%3D%22html_12a2a1f54b9d414291460cae159e0206%22%20style%3D%22width%3A%20100.0%25%3B%20height%3A%20100.0%25%3B%22%3EWestsideMurph%3A%20It%E2%80%99s%20630%20am%20and%20we%E2%80%99re%20on%20an%20hour%20drive%20to%20graduation%20and%20they%E2%80%99re%20talking%20about%20Will%20Smith.%20Old%20people%20are%20just%E2%80%A6%3C/div%3E%60%29%5B0%5D%3B%0A%20%20%20%20%20%20%20%20%20%20%20%20popup_7fba59d2d1de4ebbab6bf9deb44c94fd.setContent%28html_12a2a1f54b9d414291460cae159e0206%29%3B%0A%20%20%20%20%20%20%20%20%0A%0A%20%20%20%20%20%20%20%20marker_70d832a394614dad98a87de2980e9ecb.bindPopup%28popup_7fba59d2d1de4ebbab6bf9deb44c94fd%29%0A%20%20%20%20%20%20%20%20%3B%0A%0A%20%20%20%20%20%20%20%20%0A%20%20%20%20%0A%20%20%20%20%0A%20%20%20%20%20%20%20%20%20%20%20%20var%20marker_31864c7ab67e402db27d4ec300a9562d%20%3D%20L.marker%28%0A%20%20%20%20%20%20%20%20%20%20%20%20%20%20%20%20%5B38.2542376%2C%20-85.759407%5D%2C%0A%20%20%20%20%20%20%20%20%20%20%20%20%20%20%20%20%7B%7D%0A%20%20%20%20%20%20%20%20%20%20%20%20%29.addTo%28map_1945d0934a8c4394a11efd24f769cfc4%29%3B%0A%20%20%20%20%20%20%20%20%0A%20%20%20%20%0A%20%20%20%20%20%20%20%20var%20popup_15a3eca7c2e147479a67e28f87a7463b%20%3D%20L.popup%28%7B%22maxWidth%22%3A%20%22100%25%22%7D%29%3B%0A%0A%20%20%20%20%20%20%20%20%0A%20%20%20%20%20%20%20%20%20%20%20%20var%20html_f3d4564e342748c5b48e357daf6472fb%20%3D%20%24%28%60%3Cdiv%20id%3D%22html_f3d4564e342748c5b48e357daf6472fb%22%20style%3D%22width%3A%20100.0%25%3B%20height%3A%20100.0%25%3B%22%3Emarkcobbcobb1%3A%20Call%20me%20paranoid%20er%20whatever%20but%20I%20think%20the%20Will%20Smith%20Oscar%20slap%20was%20a%20CIA%20psyop%20to%20get%20our%20attention%20from%20the%20wars.%3C/div%3E%60%29%5B0%5D%3B%0A%20%20%20%20%20%20%20%20%20%20%20%20popup_15a3eca7c2e147479a67e28f87a7463b.setContent%28html_f3d4564e342748c5b48e357daf6472fb%29%3B%0A%20%20%20%20%20%20%20%20%0A%0A%20%20%20%20%20%20%20%20marker_31864c7ab67e402db27d4ec300a9562d.bindPopup%28popup_15a3eca7c2e147479a67e28f87a7463b%29%0A%20%20%20%20%20%20%20%20%3B%0A%0A%20%20%20%20%20%20%20%20%0A%20%20%20%20%0A%20%20%20%20%0A%20%20%20%20%20%20%20%20%20%20%20%20var%20marker_bc9714b71dbb438ebd489ed1733838e3%20%3D%20L.marker%28%0A%20%20%20%20%20%20%20%20%20%20%20%20%20%20%20%20%5B27.7886375%2C%20-82.7523234%5D%2C%0A%20%20%20%20%20%20%20%20%20%20%20%20%20%20%20%20%7B%7D%0A%20%20%20%20%20%20%20%20%20%20%20%20%29.addTo%28map_1945d0934a8c4394a11efd24f769cfc4%29%3B%0A%20%20%20%20%20%20%20%20%0A%20%20%20%20%0A%20%20%20%20%20%20%20%20var%20popup_6103914e2baa42539416a9faab9d60ee%20%3D%20L.popup%28%7B%22maxWidth%22%3A%20%22100%25%22%7D%29%3B%0A%0A%20%20%20%20%20%20%20%20%0A%20%20%20%20%20%20%20%20%20%20%20%20var%20html_ffa1b715029146ecaf09d1eac1c4c2da%20%3D%20%24%28%60%3Cdiv%20id%3D%22html_ffa1b715029146ecaf09d1eac1c4c2da%22%20style%3D%22width%3A%20100.0%25%3B%20height%3A%20100.0%25%3B%22%3Ekhzqx59fxx%3A%20%40shoe0nhead%20%E2%80%9Cwill%20smith%20don%26%2339%3Bt%20gotta%20cuss%20in%20his%20raps%20to%20sell%20records.%20well%20i%20do%2C%20so%20fuck%20him%20and%20fuck%20you%20too.%E2%80%9D%3C/div%3E%60%29%5B0%5D%3B%0A%20%20%20%20%20%20%20%20%20%20%20%20popup_6103914e2baa42539416a9faab9d60ee.setContent%28html_ffa1b715029146ecaf09d1eac1c4c2da%29%3B%0A%20%20%20%20%20%20%20%20%0A%0A%20%20%20%20%20%20%20%20marker_bc9714b71dbb438ebd489ed1733838e3.bindPopup%28popup_6103914e2baa42539416a9faab9d60ee%29%0A%20%20%20%20%20%20%20%20%3B%0A%0A%20%20%20%20%20%20%20%20%0A%20%20%20%20%0A%20%20%20%20%0A%20%20%20%20%20%20%20%20%20%20%20%20var%20marker_bcd78a0177c0496daa0153787ab69678%20%3D%20L.marker%28%0A%20%20%20%20%20%20%20%20%20%20%20%20%20%20%20%20%5B42.3788774%2C%20-72.032366%5D%2C%0A%20%20%20%20%20%20%20%20%20%20%20%20%20%20%20%20%7B%7D%0A%20%20%20%20%20%20%20%20%20%20%20%20%29.addTo%28map_1945d0934a8c4394a11efd24f769cfc4%29%3B%0A%20%20%20%20%20%20%20%20%0A%20%20%20%20%0A%20%20%20%20%20%20%20%20var%20popup_725c9bda0d854ea3887cc42a98b00b43%20%3D%20L.popup%28%7B%22maxWidth%22%3A%20%22100%25%22%7D%29%3B%0A%0A%20%20%20%20%20%20%20%20%0A%20%20%20%20%20%20%20%20%20%20%20%20var%20html_06aece89c6e841069cc9647ee6c6b238%20%3D%20%24%28%60%3Cdiv%20id%3D%22html_06aece89c6e841069cc9647ee6c6b238%22%20style%3D%22width%3A%20100.0%25%3B%20height%3A%20100.0%25%3B%22%3EZooted_Ghost420%3A%20niggas%20b%20tuff%20w%20they%20dogs%20in%20the%20hood%20%2C%20i%20love%20animals%20but%20nobody%20scared%20do%20them%20dogs%20like%20Will%20Smith%20%F0%9F%98%AD%F0%9F%98%A4%20%23iamlegemd%3C/div%3E%60%29%5B0%5D%3B%0A%20%20%20%20%20%20%20%20%20%20%20%20popup_725c9bda0d854ea3887cc42a98b00b43.setContent%28html_06aece89c6e841069cc9647ee6c6b238%29%3B%0A%20%20%20%20%20%20%20%20%0A%0A%20%20%20%20%20%20%20%20marker_bcd78a0177c0496daa0153787ab69678.bindPopup%28popup_725c9bda0d854ea3887cc42a98b00b43%29%0A%20%20%20%20%20%20%20%20%3B%0A%0A%20%20%20%20%20%20%20%20%0A%20%20%20%20%0A%20%20%20%20%0A%20%20%20%20%20%20%20%20%20%20%20%20var%20marker_8bbcbf728ed64ec88f0868042648b60e%20%3D%20L.marker%28%0A%20%20%20%20%20%20%20%20%20%20%20%20%20%20%20%20%5B45.6151016%2C%2025.72409885%5D%2C%0A%20%20%20%20%20%20%20%20%20%20%20%20%20%20%20%20%7B%7D%0A%20%20%20%20%20%20%20%20%20%20%20%20%29.addTo%28map_1945d0934a8c4394a11efd24f769cfc4%29%3B%0A%20%20%20%20%20%20%20%20%0A%20%20%20%20%0A%20%20%20%20%20%20%20%20var%20popup_fffb744fe5424a17ba0ebd1d88c38c83%20%3D%20L.popup%28%7B%22maxWidth%22%3A%20%22100%25%22%7D%29%3B%0A%0A%20%20%20%20%20%20%20%20%0A%20%20%20%20%20%20%20%20%20%20%20%20var%20html_f9bd0dc1091d4c6294a76735e789d287%20%3D%20%24%28%60%3Cdiv%20id%3D%22html_f9bd0dc1091d4c6294a76735e789d287%22%20style%3D%22width%3A%20100.0%25%3B%20height%3A%20100.0%25%3B%22%3Emaxoulek%3A%20%40shadow_sonic123%20jokes%20aside%2C%20i%20like%20this%20image%20of%20will%20smith%3C/div%3E%60%29%5B0%5D%3B%0A%20%20%20%20%20%20%20%20%20%20%20%20popup_fffb744fe5424a17ba0ebd1d88c38c83.setContent%28html_f9bd0dc1091d4c6294a76735e789d287%29%3B%0A%20%20%20%20%20%20%20%20%0A%0A%20%20%20%20%20%20%20%20marker_8bbcbf728ed64ec88f0868042648b60e.bindPopup%28popup_fffb744fe5424a17ba0ebd1d88c38c83%29%0A%20%20%20%20%20%20%20%20%3B%0A%0A%20%20%20%20%20%20%20%20%0A%20%20%20%20%0A%20%20%20%20%0A%20%20%20%20%20%20%20%20%20%20%20%20var%20marker_3e53607419d542cba021abb0fd657753%20%3D%20L.marker%28%0A%20%20%20%20%20%20%20%20%20%20%20%20%20%20%20%20%5B51.76025475%2C%205.7338862339303%5D%2C%0A%20%20%20%20%20%20%20%20%20%20%20%20%20%20%20%20%7B%7D%0A%20%20%20%20%20%20%20%20%20%20%20%20%29.addTo%28map_1945d0934a8c4394a11efd24f769cfc4%29%3B%0A%20%20%20%20%20%20%20%20%0A%20%20%20%20%0A%20%20%20%20%20%20%20%20var%20popup_3c898da6243d4c0da1f8ad0dc5010d83%20%3D%20L.popup%28%7B%22maxWidth%22%3A%20%22100%25%22%7D%29%3B%0A%0A%20%20%20%20%20%20%20%20%0A%20%20%20%20%20%20%20%20%20%20%20%20var%20html_7fb77d522ed143cdb64448287d3f66f5%20%3D%20%24%28%60%3Cdiv%20id%3D%22html_7fb77d522ed143cdb64448287d3f66f5%22%20style%3D%22width%3A%20100.0%25%3B%20height%3A%20100.0%25%3B%22%3Eloathesomely%3A%20I%26%2339%3Bm%20worried%20bout%20will%20smith%3C/div%3E%60%29%5B0%5D%3B%0A%20%20%20%20%20%20%20%20%20%20%20%20popup_3c898da6243d4c0da1f8ad0dc5010d83.setContent%28html_7fb77d522ed143cdb64448287d3f66f5%29%3B%0A%20%20%20%20%20%20%20%20%0A%0A%20%20%20%20%20%20%20%20marker_3e53607419d542cba021abb0fd657753.bindPopup%28popup_3c898da6243d4c0da1f8ad0dc5010d83%29%0A%20%20%20%20%20%20%20%20%3B%0A%0A%20%20%20%20%20%20%20%20%0A%20%20%20%20%0A%20%20%20%20%0A%20%20%20%20%20%20%20%20%20%20%20%20var%20marker_13b8c9e61c8f4a4489fa5ce4cf9f3fec%20%3D%20L.marker%28%0A%20%20%20%20%20%20%20%20%20%20%20%20%20%20%20%20%5B51.76025475%2C%205.7338862339303%5D%2C%0A%20%20%20%20%20%20%20%20%20%20%20%20%20%20%20%20%7B%7D%0A%20%20%20%20%20%20%20%20%20%20%20%20%29.addTo%28map_1945d0934a8c4394a11efd24f769cfc4%29%3B%0A%20%20%20%20%20%20%20%20%0A%20%20%20%20%0A%20%20%20%20%20%20%20%20var%20popup_94d4b285f80b4610b7255ed552c7f363%20%3D%20L.popup%28%7B%22maxWidth%22%3A%20%22100%25%22%7D%29%3B%0A%0A%20%20%20%20%20%20%20%20%0A%20%20%20%20%20%20%20%20%20%20%20%20var%20html_426e10182c5a4ed7b6cd1d2d11ae89fc%20%3D%20%24%28%60%3Cdiv%20id%3D%22html_426e10182c5a4ed7b6cd1d2d11ae89fc%22%20style%3D%22width%3A%20100.0%25%3B%20height%3A%20100.0%25%3B%22%3Eloathesomely%3A%20%40itschauu%20Nothing%20I%20just%20like%20will%20Smith%3C/div%3E%60%29%5B0%5D%3B%0A%20%20%20%20%20%20%20%20%20%20%20%20popup_94d4b285f80b4610b7255ed552c7f363.setContent%28html_426e10182c5a4ed7b6cd1d2d11ae89fc%29%3B%0A%20%20%20%20%20%20%20%20%0A%0A%20%20%20%20%20%20%20%20marker_13b8c9e61c8f4a4489fa5ce4cf9f3fec.bindPopup%28popup_94d4b285f80b4610b7255ed552c7f363%29%0A%20%20%20%20%20%20%20%20%3B%0A%0A%20%20%20%20%20%20%20%20%0A%20%20%20%20%0A%20%20%20%20%0A%20%20%20%20%20%20%20%20%20%20%20%20var%20marker_8697a9adec8841adabc2447c7b81985f%20%3D%20L.marker%28%0A%20%20%20%20%20%20%20%20%20%20%20%20%20%20%20%20%5B36.0998131%2C%20-80.2440518%5D%2C%0A%20%20%20%20%20%20%20%20%20%20%20%20%20%20%20%20%7B%7D%0A%20%20%20%20%20%20%20%20%20%20%20%20%29.addTo%28map_1945d0934a8c4394a11efd24f769cfc4%29%3B%0A%20%20%20%20%20%20%20%20%0A%20%20%20%20%0A%20%20%20%20%20%20%20%20var%20popup_3ddc9666edfb4f2f9ef2b6512383343b%20%3D%20L.popup%28%7B%22maxWidth%22%3A%20%22100%25%22%7D%29%3B%0A%0A%20%20%20%20%20%20%20%20%0A%20%20%20%20%20%20%20%20%20%20%20%20var%20html_b373964113b249ae91563b289e0045ac%20%3D%20%24%28%60%3Cdiv%20id%3D%22html_b373964113b249ae91563b289e0045ac%22%20style%3D%22width%3A%20100.0%25%3B%20height%3A%20100.0%25%3B%22%3EBullinsMarissa%3A%20%40nypost%20One%20of%20the%20most%20irritating%20aspects%20of%20that%20night%20is%20Will%20Smith%20wasn%E2%80%99t%20even%20upset%20over%20the%20joke.%20Everyone%20sa%E2%80%A6%20https%3A//t.co/LmgOQf46x7%3C/div%3E%60%29%5B0%5D%3B%0A%20%20%20%20%20%20%20%20%20%20%20%20popup_3ddc9666edfb4f2f9ef2b6512383343b.setContent%28html_b373964113b249ae91563b289e0045ac%29%3B%0A%20%20%20%20%20%20%20%20%0A%0A%20%20%20%20%20%20%20%20marker_8697a9adec8841adabc2447c7b81985f.bindPopup%28popup_3ddc9666edfb4f2f9ef2b6512383343b%29%0A%20%20%20%20%20%20%20%20%3B%0A%0A%20%20%20%20%20%20%20%20%0A%20%20%20%20%0A%20%20%20%20%0A%20%20%20%20%20%20%20%20%20%20%20%20var%20marker_1bdf0034f36f42e8ac57c455f8c620f0%20%3D%20L.marker%28%0A%20%20%20%20%20%20%20%20%20%20%20%20%20%20%20%20%5B25.0750095%2C%2055.1887608818332%5D%2C%0A%20%20%20%20%20%20%20%20%20%20%20%20%20%20%20%20%7B%7D%0A%20%20%20%20%20%20%20%20%20%20%20%20%29.addTo%28map_1945d0934a8c4394a11efd24f769cfc4%29%3B%0A%20%20%20%20%20%20%20%20%0A%20%20%20%20%0A%20%20%20%20%20%20%20%20var%20popup_9e996a89ee664adc8217fc0587214092%20%3D%20L.popup%28%7B%22maxWidth%22%3A%20%22100%25%22%7D%29%3B%0A%0A%20%20%20%20%20%20%20%20%0A%20%20%20%20%20%20%20%20%20%20%20%20var%20html_5c2cfcd0cac14f4582989249e8c5855e%20%3D%20%24%28%60%3Cdiv%20id%3D%22html_5c2cfcd0cac14f4582989249e8c5855e%22%20style%3D%22width%3A%20100.0%25%3B%20height%3A%20100.0%25%3B%22%3EBestReviewin%3A%20Chris%20Rock%20takes%20a%20dig%20at%20Will%20Smith%E2%80%99s%20Oscars%C2%A0slap%20https%3A//t.co/cDkn2OOsq0%3C/div%3E%60%29%5B0%5D%3B%0A%20%20%20%20%20%20%20%20%20%20%20%20popup_9e996a89ee664adc8217fc0587214092.setContent%28html_5c2cfcd0cac14f4582989249e8c5855e%29%3B%0A%20%20%20%20%20%20%20%20%0A%0A%20%20%20%20%20%20%20%20marker_1bdf0034f36f42e8ac57c455f8c620f0.bindPopup%28popup_9e996a89ee664adc8217fc0587214092%29%0A%20%20%20%20%20%20%20%20%3B%0A%0A%20%20%20%20%20%20%20%20%0A%20%20%20%20%0A%20%20%20%20%0A%20%20%20%20%20%20%20%20%20%20%20%20var%20marker_a81f91b20d48437bb9d10f2c889ac084%20%3D%20L.marker%28%0A%20%20%20%20%20%20%20%20%20%20%20%20%20%20%20%20%5B52.5170365%2C%2013.3888599%5D%2C%0A%20%20%20%20%20%20%20%20%20%20%20%20%20%20%20%20%7B%7D%0A%20%20%20%20%20%20%20%20%20%20%20%20%29.addTo%28map_1945d0934a8c4394a11efd24f769cfc4%29%3B%0A%20%20%20%20%20%20%20%20%0A%20%20%20%20%0A%20%20%20%20%20%20%20%20var%20popup_55345f2000e04c76bfee1873cf876dfa%20%3D%20L.popup%28%7B%22maxWidth%22%3A%20%22100%25%22%7D%29%3B%0A%0A%20%20%20%20%20%20%20%20%0A%20%20%20%20%20%20%20%20%20%20%20%20var%20html_e7adfefa7e47470992855a617a36362c%20%3D%20%24%28%60%3Cdiv%20id%3D%22html_e7adfefa7e47470992855a617a36362c%22%20style%3D%22width%3A%20100.0%25%3B%20height%3A%20100.0%25%3B%22%3Eelnathan_john%3A%20Throwback%20to%20when%20I%20did%20this%20video%20with%20the%20help%20of%20the%20fabulous%20%40fatuogwuche%20and%20Will%20Smith%20picked%20up%20on%20it.%20Smith%E2%80%A6%20https%3A//t.co/acancCJguc%3C/div%3E%60%29%5B0%5D%3B%0A%20%20%20%20%20%20%20%20%20%20%20%20popup_55345f2000e04c76bfee1873cf876dfa.setContent%28html_e7adfefa7e47470992855a617a36362c%29%3B%0A%20%20%20%20%20%20%20%20%0A%0A%20%20%20%20%20%20%20%20marker_a81f91b20d48437bb9d10f2c889ac084.bindPopup%28popup_55345f2000e04c76bfee1873cf876dfa%29%0A%20%20%20%20%20%20%20%20%3B%0A%0A%20%20%20%20%20%20%20%20%0A%20%20%20%20%0A%20%20%20%20%0A%20%20%20%20%20%20%20%20%20%20%20%20var%20marker_6c2cfdb20e224c26983456eef49a5f25%20%3D%20L.marker%28%0A%20%20%20%20%20%20%20%20%20%20%20%20%20%20%20%20%5B26.1223084%2C%20-80.1433786%5D%2C%0A%20%20%20%20%20%20%20%20%20%20%20%20%20%20%20%20%7B%7D%0A%20%20%20%20%20%20%20%20%20%20%20%20%29.addTo%28map_1945d0934a8c4394a11efd24f769cfc4%29%3B%0A%20%20%20%20%20%20%20%20%0A%20%20%20%20%0A%20%20%20%20%20%20%20%20var%20popup_3380ec097b6c4b878e13f402ea73625d%20%3D%20L.popup%28%7B%22maxWidth%22%3A%20%22100%25%22%7D%29%3B%0A%0A%20%20%20%20%20%20%20%20%0A%20%20%20%20%20%20%20%20%20%20%20%20var%20html_67e8e6a36ec747d582fdae6057e12279%20%3D%20%24%28%60%3Cdiv%20id%3D%22html_67e8e6a36ec747d582fdae6057e12279%22%20style%3D%22width%3A%20100.0%25%3B%20height%3A%20100.0%25%3B%22%3Ewrbdradio%3A%20Joyner%20Lucas%20%26amp%3Bamp%3B%20Will%20Smith%20-%20Will%20%28Remix%29%20https%3A//t.co/9svcIKiOWY%3C/div%3E%60%29%5B0%5D%3B%0A%20%20%20%20%20%20%20%20%20%20%20%20popup_3380ec097b6c4b878e13f402ea73625d.setContent%28html_67e8e6a36ec747d582fdae6057e12279%29%3B%0A%20%20%20%20%20%20%20%20%0A%0A%20%20%20%20%20%20%20%20marker_6c2cfdb20e224c26983456eef49a5f25.bindPopup%28popup_3380ec097b6c4b878e13f402ea73625d%29%0A%20%20%20%20%20%20%20%20%3B%0A%0A%20%20%20%20%20%20%20%20%0A%20%20%20%20%0A%20%20%20%20%0A%20%20%20%20%20%20%20%20%20%20%20%20var%20marker_c524f5acd04d4e16bf85eaf64893e963%20%3D%20L.marker%28%0A%20%20%20%20%20%20%20%20%20%20%20%20%20%20%20%20%5B41.8755546%2C%20-87.6244212%5D%2C%0A%20%20%20%20%20%20%20%20%20%20%20%20%20%20%20%20%7B%7D%0A%20%20%20%20%20%20%20%20%20%20%20%20%29.addTo%28map_1945d0934a8c4394a11efd24f769cfc4%29%3B%0A%20%20%20%20%20%20%20%20%0A%20%20%20%20%0A%20%20%20%20%20%20%20%20var%20popup_1ada6a4cddd74d539431ae38a647d1db%20%3D%20L.popup%28%7B%22maxWidth%22%3A%20%22100%25%22%7D%29%3B%0A%0A%20%20%20%20%20%20%20%20%0A%20%20%20%20%20%20%20%20%20%20%20%20var%20html_7243662d08554b348686671996da03ec%20%3D%20%24%28%60%3Cdiv%20id%3D%22html_7243662d08554b348686671996da03ec%22%20style%3D%22width%3A%20100.0%25%3B%20height%3A%20100.0%25%3B%22%3ESaika00___%3A%20There%20should%20be%20a%20level%203%20in%20an%20FG%20where%20it%26%2339%3Bs%20a%20Will%20Smith%20into%20Ezra%20Miller%20combo%3C/div%3E%60%29%5B0%5D%3B%0A%20%20%20%20%20%20%20%20%20%20%20%20popup_1ada6a4cddd74d539431ae38a647d1db.setContent%28html_7243662d08554b348686671996da03ec%29%3B%0A%20%20%20%20%20%20%20%20%0A%0A%20%20%20%20%20%20%20%20marker_c524f5acd04d4e16bf85eaf64893e963.bindPopup%28popup_1ada6a4cddd74d539431ae38a647d1db%29%0A%20%20%20%20%20%20%20%20%3B%0A%0A%20%20%20%20%20%20%20%20%0A%20%20%20%20%0A%20%20%20%20%0A%20%20%20%20%20%20%20%20%20%20%20%20var%20marker_a85e5154e21d4fe188953f8b88dd24ea%20%3D%20L.marker%28%0A%20%20%20%20%20%20%20%20%20%20%20%20%20%20%20%20%5B51.0243858%2C%204.4817947%5D%2C%0A%20%20%20%20%20%20%20%20%20%20%20%20%20%20%20%20%7B%7D%0A%20%20%20%20%20%20%20%20%20%20%20%20%29.addTo%28map_1945d0934a8c4394a11efd24f769cfc4%29%3B%0A%20%20%20%20%20%20%20%20%0A%20%20%20%20%0A%20%20%20%20%20%20%20%20var%20popup_d10a19709d824f19932db8ba95e362ca%20%3D%20L.popup%28%7B%22maxWidth%22%3A%20%22100%25%22%7D%29%3B%0A%0A%20%20%20%20%20%20%20%20%0A%20%20%20%20%20%20%20%20%20%20%20%20var%20html_1b4a0ad5614c4fe29c0ef71cde38434d%20%3D%20%24%28%60%3Cdiv%20id%3D%22html_1b4a0ad5614c4fe29c0ef71cde38434d%22%20style%3D%22width%3A%20100.0%25%3B%20height%3A%20100.0%25%3B%22%3EMICOLITHE_TXT%3A%20Yea%20yea%20why%20didnt%20will%20smith%20been%20the%20past%2020%20years%20ago%20we%20didnt%20even%20have%20fares.%3C/div%3E%60%29%5B0%5D%3B%0A%20%20%20%20%20%20%20%20%20%20%20%20popup_d10a19709d824f19932db8ba95e362ca.setContent%28html_1b4a0ad5614c4fe29c0ef71cde38434d%29%3B%0A%20%20%20%20%20%20%20%20%0A%0A%20%20%20%20%20%20%20%20marker_a85e5154e21d4fe188953f8b88dd24ea.bindPopup%28popup_d10a19709d824f19932db8ba95e362ca%29%0A%20%20%20%20%20%20%20%20%3B%0A%0A%20%20%20%20%20%20%20%20%0A%20%20%20%20%0A%20%20%20%20%0A%20%20%20%20%20%20%20%20%20%20%20%20var%20marker_9951f4055eca4ebca3d8d30efd01d1e4%20%3D%20L.marker%28%0A%20%20%20%20%20%20%20%20%20%20%20%20%20%20%20%20%5B25.2232283%2C%2055.1594933008754%5D%2C%0A%20%20%20%20%20%20%20%20%20%20%20%20%20%20%20%20%7B%7D%0A%20%20%20%20%20%20%20%20%20%20%20%20%29.addTo%28map_1945d0934a8c4394a11efd24f769cfc4%29%3B%0A%20%20%20%20%20%20%20%20%0A%20%20%20%20%0A%20%20%20%20%20%20%20%20var%20popup_5a5e259ae5ef489592e4eb6e0d4b72cc%20%3D%20L.popup%28%7B%22maxWidth%22%3A%20%22100%25%22%7D%29%3B%0A%0A%20%20%20%20%20%20%20%20%0A%20%20%20%20%20%20%20%20%20%20%20%20var%20html_b09c20e689f04cea9b0c55c7f59ed4d6%20%3D%20%24%28%60%3Cdiv%20id%3D%22html_b09c20e689f04cea9b0c55c7f59ed4d6%22%20style%3D%22width%3A%20100.0%25%3B%20height%3A%20100.0%25%3B%22%3Eramfrancisuk%3A%20This%20Just%20Solved%20Your%20Smart%20Home%26%2339%3Bs%20BIGGEST%20Problem%20https%3A//t.co/YnYvY0hnZI%20via%20%40YouTube%20-%20Is%20%40hibberthometech%20Will%20Smith%20-%20%26%2334%3BThe%20Slap%26%2334%3B%3F%3C/div%3E%60%29%5B0%5D%3B%0A%20%20%20%20%20%20%20%20%20%20%20%20popup_5a5e259ae5ef489592e4eb6e0d4b72cc.setContent%28html_b09c20e689f04cea9b0c55c7f59ed4d6%29%3B%0A%20%20%20%20%20%20%20%20%0A%0A%20%20%20%20%20%20%20%20marker_9951f4055eca4ebca3d8d30efd01d1e4.bindPopup%28popup_5a5e259ae5ef489592e4eb6e0d4b72cc%29%0A%20%20%20%20%20%20%20%20%3B%0A%0A%20%20%20%20%20%20%20%20%0A%20%20%20%20%0A%20%20%20%20%0A%20%20%20%20%20%20%20%20%20%20%20%20var%20marker_e9bfe113c9864ccfba278526ab697321%20%3D%20L.marker%28%0A%20%20%20%20%20%20%20%20%20%20%20%20%20%20%20%20%5B35.6828387%2C%20139.7594549%5D%2C%0A%20%20%20%20%20%20%20%20%20%20%20%20%20%20%20%20%7B%7D%0A%20%20%20%20%20%20%20%20%20%20%20%20%29.addTo%28map_1945d0934a8c4394a11efd24f769cfc4%29%3B%0A%20%20%20%20%20%20%20%20%0A%20%20%20%20%0A%20%20%20%20%20%20%20%20var%20popup_a496f5b7bf464884a26185d6527aee4f%20%3D%20L.popup%28%7B%22maxWidth%22%3A%20%22100%25%22%7D%29%3B%0A%0A%20%20%20%20%20%20%20%20%0A%20%20%20%20%20%20%20%20%20%20%20%20var%20html_ab5845be4fcf4775ae91a0e64aeb7fdb%20%3D%20%24%28%60%3Cdiv%20id%3D%22html_ab5845be4fcf4775ae91a0e64aeb7fdb%22%20style%3D%22width%3A%20100.0%25%3B%20height%3A%20100.0%25%3B%22%3E4png_%3A%20Watch%20the%20uncensored%20moment%20Will%20Smith%20smacks%20Chris%20Rock%20on%20stage%20at%20the...%20https%3A//t.co/4K60It8Rv6%20%40YouTube%E3%82%88%E3%82%8A%3C/div%3E%60%29%5B0%5D%3B%0A%20%20%20%20%20%20%20%20%20%20%20%20popup_a496f5b7bf464884a26185d6527aee4f.setContent%28html_ab5845be4fcf4775ae91a0e64aeb7fdb%29%3B%0A%20%20%20%20%20%20%20%20%0A%0A%20%20%20%20%20%20%20%20marker_e9bfe113c9864ccfba278526ab697321.bindPopup%28popup_a496f5b7bf464884a26185d6527aee4f%29%0A%20%20%20%20%20%20%20%20%3B%0A%0A%20%20%20%20%20%20%20%20%0A%20%20%20%20%0A%20%20%20%20%0A%20%20%20%20%20%20%20%20%20%20%20%20var%20marker_33413785c33e4717b91b391f6ac30e28%20%3D%20L.marker%28%0A%20%20%20%20%20%20%20%20%20%20%20%20%20%20%20%20%5B33.7490987%2C%20-84.3901849%5D%2C%0A%20%20%20%20%20%20%20%20%20%20%20%20%20%20%20%20%7B%7D%0A%20%20%20%20%20%20%20%20%20%20%20%20%29.addTo%28map_1945d0934a8c4394a11efd24f769cfc4%29%3B%0A%20%20%20%20%20%20%20%20%0A%20%20%20%20%0A%20%20%20%20%20%20%20%20var%20popup_2010f7fe355140fbaecbf656810422e1%20%3D%20L.popup%28%7B%22maxWidth%22%3A%20%22100%25%22%7D%29%3B%0A%0A%20%20%20%20%20%20%20%20%0A%20%20%20%20%20%20%20%20%20%20%20%20var%20html_2642fb2a494e4fdbbc629daa43cb9996%20%3D%20%24%28%60%3Cdiv%20id%3D%22html_2642fb2a494e4fdbbc629daa43cb9996%22%20style%3D%22width%3A%20100.0%25%3B%20height%3A%20100.0%25%3B%22%3Emedicinehelp%3A%20What%20%E2%80%98Traumatized%E2%80%99%20Wanda%20Sykes%20Was%20Thinking%20When%20Will%20Smith%20Slapped%20Chris%C2%A0Rock%20https%3A//t.co/DzjwOHur7p%3C/div%3E%60%29%5B0%5D%3B%0A%20%20%20%20%20%20%20%20%20%20%20%20popup_2010f7fe355140fbaecbf656810422e1.setContent%28html_2642fb2a494e4fdbbc629daa43cb9996%29%3B%0A%20%20%20%20%20%20%20%20%0A%0A%20%20%20%20%20%20%20%20marker_33413785c33e4717b91b391f6ac30e28.bindPopup%28popup_2010f7fe355140fbaecbf656810422e1%29%0A%20%20%20%20%20%20%20%20%3B%0A%0A%20%20%20%20%20%20%20%20%0A%20%20%20%20%0A%20%20%20%20%0A%20%20%20%20%20%20%20%20%20%20%20%20var%20marker_5fd1d202b62c4deb8558b51c85e1ce89%20%3D%20L.marker%28%0A%20%20%20%20%20%20%20%20%20%20%20%20%20%20%20%20%5B51.5621086%2C%20-0.0744617%5D%2C%0A%20%20%20%20%20%20%20%20%20%20%20%20%20%20%20%20%7B%7D%0A%20%20%20%20%20%20%20%20%20%20%20%20%29.addTo%28map_1945d0934a8c4394a11efd24f769cfc4%29%3B%0A%20%20%20%20%20%20%20%20%0A%20%20%20%20%0A%20%20%20%20%20%20%20%20var%20popup_c725aba0270e4760add392cf0da5c8bf%20%3D%20L.popup%28%7B%22maxWidth%22%3A%20%22100%25%22%7D%29%3B%0A%0A%20%20%20%20%20%20%20%20%0A%20%20%20%20%20%20%20%20%20%20%20%20var%20html_f59fac6206b34f7b93eb7548255194f8%20%3D%20%24%28%60%3Cdiv%20id%3D%22html_f59fac6206b34f7b93eb7548255194f8%22%20style%3D%22width%3A%20100.0%25%3B%20height%3A%20100.0%25%3B%22%3Ebeatbandito%3A%20%40Q_Review%20Two%20different%20schools%20kids%20got%20stabbed%20outside%20my%20homeroom%20by%20will%20smith.%3C/div%3E%60%29%5B0%5D%3B%0A%20%20%20%20%20%20%20%20%20%20%20%20popup_c725aba0270e4760add392cf0da5c8bf.setContent%28html_f59fac6206b34f7b93eb7548255194f8%29%3B%0A%20%20%20%20%20%20%20%20%0A%0A%20%20%20%20%20%20%20%20marker_5fd1d202b62c4deb8558b51c85e1ce89.bindPopup%28popup_c725aba0270e4760add392cf0da5c8bf%29%0A%20%20%20%20%20%20%20%20%3B%0A%0A%20%20%20%20%20%20%20%20%0A%20%20%20%20%0A%20%20%20%20%0A%20%20%20%20%20%20%20%20%20%20%20%20var%20marker_6f06b43c08a2435ba43ad531d60fb2b9%20%3D%20L.marker%28%0A%20%20%20%20%20%20%20%20%20%20%20%20%20%20%20%20%5B21.304547%2C%20-157.8556764%5D%2C%0A%20%20%20%20%20%20%20%20%20%20%20%20%20%20%20%20%7B%7D%0A%20%20%20%20%20%20%20%20%20%20%20%20%29.addTo%28map_1945d0934a8c4394a11efd24f769cfc4%29%3B%0A%20%20%20%20%20%20%20%20%0A%20%20%20%20%0A%20%20%20%20%20%20%20%20var%20popup_6b3b4af6df334042832846592d05bcbd%20%3D%20L.popup%28%7B%22maxWidth%22%3A%20%22100%25%22%7D%29%3B%0A%0A%20%20%20%20%20%20%20%20%0A%20%20%20%20%20%20%20%20%20%20%20%20var%20html_c67f19048bb442c3ba3ac9a62f173f88%20%3D%20%24%28%60%3Cdiv%20id%3D%22html_c67f19048bb442c3ba3ac9a62f173f88%22%20style%3D%22width%3A%20100.0%25%3B%20height%3A%20100.0%25%3B%22%3EMickeyJohnson07%3A%20chris%20rock%20seems%20to%20think%20people%20cares%20that%20will%20smith%20slapped%20him%3F%20Not%20me%20sir%21%3C/div%3E%60%29%5B0%5D%3B%0A%20%20%20%20%20%20%20%20%20%20%20%20popup_6b3b4af6df334042832846592d05bcbd.setContent%28html_c67f19048bb442c3ba3ac9a62f173f88%29%3B%0A%20%20%20%20%20%20%20%20%0A%0A%20%20%20%20%20%20%20%20marker_6f06b43c08a2435ba43ad531d60fb2b9.bindPopup%28popup_6b3b4af6df334042832846592d05bcbd%29%0A%20%20%20%20%20%20%20%20%3B%0A%0A%20%20%20%20%20%20%20%20%0A%20%20%20%20%0A%20%20%20%20%0A%20%20%20%20%20%20%20%20%20%20%20%20var%20marker_8a57234870b7438a9483f8644f8d0ddb%20%3D%20L.marker%28%0A%20%20%20%20%20%20%20%20%20%20%20%20%20%20%20%20%5B35.1172406%2C%20-89.9132695%5D%2C%0A%20%20%20%20%20%20%20%20%20%20%20%20%20%20%20%20%7B%7D%0A%20%20%20%20%20%20%20%20%20%20%20%20%29.addTo%28map_1945d0934a8c4394a11efd24f769cfc4%29%3B%0A%20%20%20%20%20%20%20%20%0A%20%20%20%20%0A%20%20%20%20%20%20%20%20var%20popup_618cfe14d4f44d22bce76397673c91e9%20%3D%20L.popup%28%7B%22maxWidth%22%3A%20%22100%25%22%7D%29%3B%0A%0A%20%20%20%20%20%20%20%20%0A%20%20%20%20%20%20%20%20%20%20%20%20var%20html_6a811bf0b5e1495f9ab2843ca20f3999%20%3D%20%24%28%60%3Cdiv%20id%3D%22html_6a811bf0b5e1495f9ab2843ca20f3999%22%20style%3D%22width%3A%20100.0%25%3B%20height%3A%20100.0%25%3B%22%3EcartisSky%3A%20i%20wna%20slap%20smbdy%20like%20will%20smith%20did%3C/div%3E%60%29%5B0%5D%3B%0A%20%20%20%20%20%20%20%20%20%20%20%20popup_618cfe14d4f44d22bce76397673c91e9.setContent%28html_6a811bf0b5e1495f9ab2843ca20f3999%29%3B%0A%20%20%20%20%20%20%20%20%0A%0A%20%20%20%20%20%20%20%20marker_8a57234870b7438a9483f8644f8d0ddb.bindPopup%28popup_618cfe14d4f44d22bce76397673c91e9%29%0A%20%20%20%20%20%20%20%20%3B%0A%0A%20%20%20%20%20%20%20%20%0A%20%20%20%20%0A%20%20%20%20%0A%20%20%20%20%20%20%20%20%20%20%20%20var%20marker_f9959570a5454e29818ddd765d676e45%20%3D%20L.marker%28%0A%20%20%20%20%20%20%20%20%20%20%20%20%20%20%20%20%5B39.7837304%2C%20-100.4458825%5D%2C%0A%20%20%20%20%20%20%20%20%20%20%20%20%20%20%20%20%7B%7D%0A%20%20%20%20%20%20%20%20%20%20%20%20%29.addTo%28map_1945d0934a8c4394a11efd24f769cfc4%29%3B%0A%20%20%20%20%20%20%20%20%0A%20%20%20%20%0A%20%20%20%20%20%20%20%20var%20popup_b6ab52ea0b7a459c98d2c800ceb24c28%20%3D%20L.popup%28%7B%22maxWidth%22%3A%20%22100%25%22%7D%29%3B%0A%0A%20%20%20%20%20%20%20%20%0A%20%20%20%20%20%20%20%20%20%20%20%20var%20html_5b7216052ab14e7d8abf026c3fc6289f%20%3D%20%24%28%60%3Cdiv%20id%3D%22html_5b7216052ab14e7d8abf026c3fc6289f%22%20style%3D%22width%3A%20100.0%25%3B%20height%3A%20100.0%25%3B%22%3ETheRavensGirl%3A%20%40Mompreneur_of_3%20The%20entire%20world%20watched%20Will%20Smith%20do%20what%20he%20did%20but%20so%20far%2C%20no%20roles%20lost.%20Stop%20oppressing%20your%E2%80%A6%20https%3A//t.co/LU0nGYnqe5%3C/div%3E%60%29%5B0%5D%3B%0A%20%20%20%20%20%20%20%20%20%20%20%20popup_b6ab52ea0b7a459c98d2c800ceb24c28.setContent%28html_5b7216052ab14e7d8abf026c3fc6289f%29%3B%0A%20%20%20%20%20%20%20%20%0A%0A%20%20%20%20%20%20%20%20marker_f9959570a5454e29818ddd765d676e45.bindPopup%28popup_b6ab52ea0b7a459c98d2c800ceb24c28%29%0A%20%20%20%20%20%20%20%20%3B%0A%0A%20%20%20%20%20%20%20%20%0A%20%20%20%20%0A%20%20%20%20%0A%20%20%20%20%20%20%20%20%20%20%20%20var%20marker_c7c74247cb5349a7a89ebaae444d09d3%20%3D%20L.marker%28%0A%20%20%20%20%20%20%20%20%20%20%20%20%20%20%20%20%5B-21.9549806%2C%20-49.0232348%5D%2C%0A%20%20%20%20%20%20%20%20%20%20%20%20%20%20%20%20%7B%7D%0A%20%20%20%20%20%20%20%20%20%20%20%20%29.addTo%28map_1945d0934a8c4394a11efd24f769cfc4%29%3B%0A%20%20%20%20%20%20%20%20%0A%20%20%20%20%0A%20%20%20%20%20%20%20%20var%20popup_eb4681ac19a047c294240b0ebef83af2%20%3D%20L.popup%28%7B%22maxWidth%22%3A%20%22100%25%22%7D%29%3B%0A%0A%20%20%20%20%20%20%20%20%0A%20%20%20%20%20%20%20%20%20%20%20%20var%20html_b3da7c151d3342d6b3135bcb3b14773d%20%3D%20%24%28%60%3Cdiv%20id%3D%22html_b3da7c151d3342d6b3135bcb3b14773d%22%20style%3D%22width%3A%20100.0%25%3B%20height%3A%20100.0%25%3B%22%3Emisael_maisced0%3A%20pode%20entrar%20Will%20Smith%3C/div%3E%60%29%5B0%5D%3B%0A%20%20%20%20%20%20%20%20%20%20%20%20popup_eb4681ac19a047c294240b0ebef83af2.setContent%28html_b3da7c151d3342d6b3135bcb3b14773d%29%3B%0A%20%20%20%20%20%20%20%20%0A%0A%20%20%20%20%20%20%20%20marker_c7c74247cb5349a7a89ebaae444d09d3.bindPopup%28popup_eb4681ac19a047c294240b0ebef83af2%29%0A%20%20%20%20%20%20%20%20%3B%0A%0A%20%20%20%20%20%20%20%20%0A%20%20%20%20%0A%20%20%20%20%0A%20%20%20%20%20%20%20%20%20%20%20%20var%20marker_4824a1c34cfc44d99be0512a9b1ac7fd%20%3D%20L.marker%28%0A%20%20%20%20%20%20%20%20%20%20%20%20%20%20%20%20%5B34.5594418%2C%2076.1255982%5D%2C%0A%20%20%20%20%20%20%20%20%20%20%20%20%20%20%20%20%7B%7D%0A%20%20%20%20%20%20%20%20%20%20%20%20%29.addTo%28map_1945d0934a8c4394a11efd24f769cfc4%29%3B%0A%20%20%20%20%20%20%20%20%0A%20%20%20%20%0A%20%20%20%20%20%20%20%20var%20popup_933509df5e684514aadb85f220d938e4%20%3D%20L.popup%28%7B%22maxWidth%22%3A%20%22100%25%22%7D%29%3B%0A%0A%20%20%20%20%20%20%20%20%0A%20%20%20%20%20%20%20%20%20%20%20%20var%20html_268b3abf38414ed4acce6dae507eb925%20%3D%20%24%28%60%3Cdiv%20id%3D%22html_268b3abf38414ed4acce6dae507eb925%22%20style%3D%22width%3A%20100.0%25%3B%20height%3A%20100.0%25%3B%22%3EAnaamadeyaManav%3A%20%40delhichatter%20%40ashutosh83B%20bhai%20sach%20mei%20black%20people%20like%20will%20smith%20are%20winning%20oscars%20so%20you%20dont%20have%20belittle%20ashu%3C/div%3E%60%29%5B0%5D%3B%0A%20%20%20%20%20%20%20%20%20%20%20%20popup_933509df5e684514aadb85f220d938e4.setContent%28html_268b3abf38414ed4acce6dae507eb925%29%3B%0A%20%20%20%20%20%20%20%20%0A%0A%20%20%20%20%20%20%20%20marker_4824a1c34cfc44d99be0512a9b1ac7fd.bindPopup%28popup_933509df5e684514aadb85f220d938e4%29%0A%20%20%20%20%20%20%20%20%3B%0A%0A%20%20%20%20%20%20%20%20%0A%20%20%20%20%0A%20%20%20%20%0A%20%20%20%20%20%20%20%20%20%20%20%20var%20marker_f165e253318c4bf49855ee422c0e8a9e%20%3D%20L.marker%28%0A%20%20%20%20%20%20%20%20%20%20%20%20%20%20%20%20%5B39.7837304%2C%20-100.4458825%5D%2C%0A%20%20%20%20%20%20%20%20%20%20%20%20%20%20%20%20%7B%7D%0A%20%20%20%20%20%20%20%20%20%20%20%20%29.addTo%28map_1945d0934a8c4394a11efd24f769cfc4%29%3B%0A%20%20%20%20%20%20%20%20%0A%20%20%20%20%0A%20%20%20%20%20%20%20%20var%20popup_1de5c8e034164f8aa8a2b4e82a6838f8%20%3D%20L.popup%28%7B%22maxWidth%22%3A%20%22100%25%22%7D%29%3B%0A%0A%20%20%20%20%20%20%20%20%0A%20%20%20%20%20%20%20%20%20%20%20%20var%20html_a488e676d9b9426fb7d05f23cbbc5b3d%20%3D%20%24%28%60%3Cdiv%20id%3D%22html_a488e676d9b9426fb7d05f23cbbc5b3d%22%20style%3D%22width%3A%20100.0%25%3B%20height%3A%20100.0%25%3B%22%3Egala_food%3A%20Chris%20Rock%20Jokes%20About%20The%20Infamous%20Will%20Smith%20Slap%20Yet%C2%A0AGAIN%21%20https%3A//t.co/Znawjf7vtf%3C/div%3E%60%29%5B0%5D%3B%0A%20%20%20%20%20%20%20%20%20%20%20%20popup_1de5c8e034164f8aa8a2b4e82a6838f8.setContent%28html_a488e676d9b9426fb7d05f23cbbc5b3d%29%3B%0A%20%20%20%20%20%20%20%20%0A%0A%20%20%20%20%20%20%20%20marker_f165e253318c4bf49855ee422c0e8a9e.bindPopup%28popup_1de5c8e034164f8aa8a2b4e82a6838f8%29%0A%20%20%20%20%20%20%20%20%3B%0A%0A%20%20%20%20%20%20%20%20%0A%20%20%20%20%0A%20%20%20%20%0A%20%20%20%20%20%20%20%20%20%20%20%20var%20marker_afe5709d383c4d03a786d7d346a7bc98%20%3D%20L.marker%28%0A%20%20%20%20%20%20%20%20%20%20%20%20%20%20%20%20%5B8.0300284%2C%20-1.0800271%5D%2C%0A%20%20%20%20%20%20%20%20%20%20%20%20%20%20%20%20%7B%7D%0A%20%20%20%20%20%20%20%20%20%20%20%20%29.addTo%28map_1945d0934a8c4394a11efd24f769cfc4%29%3B%0A%20%20%20%20%20%20%20%20%0A%20%20%20%20%0A%20%20%20%20%20%20%20%20var%20popup_2547dfd726534ae3ba800de33f42a1ec%20%3D%20L.popup%28%7B%22maxWidth%22%3A%20%22100%25%22%7D%29%3B%0A%0A%20%20%20%20%20%20%20%20%0A%20%20%20%20%20%20%20%20%20%20%20%20var%20html_718cd2b02413458db9c20781719e1383%20%3D%20%24%28%60%3Cdiv%20id%3D%22html_718cd2b02413458db9c20781719e1383%22%20style%3D%22width%3A%20100.0%25%3B%20height%3A%20100.0%25%3B%22%3Epeacefmonline%3A%20Chris%20Rock%20Jokes%20About%20Will%20Smith%26%2339%3Bs%20Oscars%20Slap%20During%20Standup%20Set%20....%20https%3A//t.co/0Vq2l9pToH%3C/div%3E%60%29%5B0%5D%3B%0A%20%20%20%20%20%20%20%20%20%20%20%20popup_2547dfd726534ae3ba800de33f42a1ec.setContent%28html_718cd2b02413458db9c20781719e1383%29%3B%0A%20%20%20%20%20%20%20%20%0A%0A%20%20%20%20%20%20%20%20marker_afe5709d383c4d03a786d7d346a7bc98.bindPopup%28popup_2547dfd726534ae3ba800de33f42a1ec%29%0A%20%20%20%20%20%20%20%20%3B%0A%0A%20%20%20%20%20%20%20%20%0A%20%20%20%20%0A%20%20%20%20%0A%20%20%20%20%20%20%20%20%20%20%20%20var%20marker_a2b77a023bcc488990f5e49ebc672a53%20%3D%20L.marker%28%0A%20%20%20%20%20%20%20%20%20%20%20%20%20%20%20%20%5B26.9266939%2C%20-80.1220891180725%5D%2C%0A%20%20%20%20%20%20%20%20%20%20%20%20%20%20%20%20%7B%7D%0A%20%20%20%20%20%20%20%20%20%20%20%20%29.addTo%28map_1945d0934a8c4394a11efd24f769cfc4%29%3B%0A%20%20%20%20%20%20%20%20%0A%20%20%20%20%0A%20%20%20%20%20%20%20%20var%20popup_5a164246d94546a8986d69cbf4cc5658%20%3D%20L.popup%28%7B%22maxWidth%22%3A%20%22100%25%22%7D%29%3B%0A%0A%20%20%20%20%20%20%20%20%0A%20%20%20%20%20%20%20%20%20%20%20%20var%20html_d855f083f6f34ac685655e31707326cd%20%3D%20%24%28%60%3Cdiv%20id%3D%22html_d855f083f6f34ac685655e31707326cd%22%20style%3D%22width%3A%20100.0%25%3B%20height%3A%20100.0%25%3B%22%3Eprincebest__%3A%20%40_HYPHYWIFEY%20thats%20will%20smith%20%F0%9F%91%BD%F0%9F%91%BD%3C/div%3E%60%29%5B0%5D%3B%0A%20%20%20%20%20%20%20%20%20%20%20%20popup_5a164246d94546a8986d69cbf4cc5658.setContent%28html_d855f083f6f34ac685655e31707326cd%29%3B%0A%20%20%20%20%20%20%20%20%0A%0A%20%20%20%20%20%20%20%20marker_a2b77a023bcc488990f5e49ebc672a53.bindPopup%28popup_5a164246d94546a8986d69cbf4cc5658%29%0A%20%20%20%20%20%20%20%20%3B%0A%0A%20%20%20%20%20%20%20%20%0A%20%20%20%20%0A%20%20%20%20%0A%20%20%20%20%20%20%20%20%20%20%20%20var%20marker_b573634e131c4ea785515b31ebdb0fe1%20%3D%20L.marker%28%0A%20%20%20%20%20%20%20%20%20%20%20%20%20%20%20%20%5B49.4404591%2C%201.0939658%5D%2C%0A%20%20%20%20%20%20%20%20%20%20%20%20%20%20%20%20%7B%7D%0A%20%20%20%20%20%20%20%20%20%20%20%20%29.addTo%28map_1945d0934a8c4394a11efd24f769cfc4%29%3B%0A%20%20%20%20%20%20%20%20%0A%20%20%20%20%0A%20%20%20%20%20%20%20%20var%20popup_abd408619bd44486a6cbca677769fb69%20%3D%20L.popup%28%7B%22maxWidth%22%3A%20%22100%25%22%7D%29%3B%0A%0A%20%20%20%20%20%20%20%20%0A%20%20%20%20%20%20%20%20%20%20%20%20var%20html_338e90e7076345139660a8f5018f2931%20%3D%20%24%28%60%3Cdiv%20id%3D%22html_338e90e7076345139660a8f5018f2931%22%20style%3D%22width%3A%20100.0%25%3B%20height%3A%20100.0%25%3B%22%3ERecRouen%3A%20%23NowPlaying%20Will%20Smith%20-%20Gettin%26%2339%3B%20Jiggy%20Wit%20It%3C/div%3E%60%29%5B0%5D%3B%0A%20%20%20%20%20%20%20%20%20%20%20%20popup_abd408619bd44486a6cbca677769fb69.setContent%28html_338e90e7076345139660a8f5018f2931%29%3B%0A%20%20%20%20%20%20%20%20%0A%0A%20%20%20%20%20%20%20%20marker_b573634e131c4ea785515b31ebdb0fe1.bindPopup%28popup_abd408619bd44486a6cbca677769fb69%29%0A%20%20%20%20%20%20%20%20%3B%0A%0A%20%20%20%20%20%20%20%20%0A%20%20%20%20%0A%20%20%20%20%0A%20%20%20%20%20%20%20%20%20%20%20%20var%20marker_cfa847fbf2e047ca9dfc89a316f264eb%20%3D%20L.marker%28%0A%20%20%20%20%20%20%20%20%20%20%20%20%20%20%20%20%5B30.6253463%2C%20-96.3271538%5D%2C%0A%20%20%20%20%20%20%20%20%20%20%20%20%20%20%20%20%7B%7D%0A%20%20%20%20%20%20%20%20%20%20%20%20%29.addTo%28map_1945d0934a8c4394a11efd24f769cfc4%29%3B%0A%20%20%20%20%20%20%20%20%0A%20%20%20%20%0A%20%20%20%20%20%20%20%20var%20popup_4d896dbf47bc4abaa1bd3c8564387a5f%20%3D%20L.popup%28%7B%22maxWidth%22%3A%20%22100%25%22%7D%29%3B%0A%0A%20%20%20%20%20%20%20%20%0A%20%20%20%20%20%20%20%20%20%20%20%20var%20html_5faf0c76289d4f0b9162784b16236f6d%20%3D%20%24%28%60%3Cdiv%20id%3D%22html_5faf0c76289d4f0b9162784b16236f6d%22%20style%3D%22width%3A%20100.0%25%3B%20height%3A%20100.0%25%3B%22%3ESamSpence2d%3A%20Jake%20Paul%20offers%20Will%20Smith%20and%20Chris%20Rock%20%2430%C2%A0Million%20https%3A//t.co/x6ZZ3je6yD%3C/div%3E%60%29%5B0%5D%3B%0A%20%20%20%20%20%20%20%20%20%20%20%20popup_4d896dbf47bc4abaa1bd3c8564387a5f.setContent%28html_5faf0c76289d4f0b9162784b16236f6d%29%3B%0A%20%20%20%20%20%20%20%20%0A%0A%20%20%20%20%20%20%20%20marker_cfa847fbf2e047ca9dfc89a316f264eb.bindPopup%28popup_4d896dbf47bc4abaa1bd3c8564387a5f%29%0A%20%20%20%20%20%20%20%20%3B%0A%0A%20%20%20%20%20%20%20%20%0A%20%20%20%20%0A%20%20%20%20%0A%20%20%20%20%20%20%20%20%20%20%20%20var%20marker_4ebafbf581c54d2095c7790eb131ac27%20%3D%20L.marker%28%0A%20%20%20%20%20%20%20%20%20%20%20%20%20%20%20%20%5B-26.205%2C%2028.049722%5D%2C%0A%20%20%20%20%20%20%20%20%20%20%20%20%20%20%20%20%7B%7D%0A%20%20%20%20%20%20%20%20%20%20%20%20%29.addTo%28map_1945d0934a8c4394a11efd24f769cfc4%29%3B%0A%20%20%20%20%20%20%20%20%0A%20%20%20%20%0A%20%20%20%20%20%20%20%20var%20popup_e3bebff412fb49929fa94de9a21444f2%20%3D%20L.popup%28%7B%22maxWidth%22%3A%20%22100%25%22%7D%29%3B%0A%0A%20%20%20%20%20%20%20%20%0A%20%20%20%20%20%20%20%20%20%20%20%20var%20html_1e8d3f8ce5144ba5ac4fede6f0acbb21%20%3D%20%24%28%60%3Cdiv%20id%3D%22html_1e8d3f8ce5144ba5ac4fede6f0acbb21%22%20style%3D%22width%3A%20100.0%25%3B%20height%3A%20100.0%25%3B%22%3EItisSamhere%3A%20%40JohnsonAwalle%20%40MichShoxen%20Yeah%20I%20have%20also%20forgiven%20Will%20Smith.%3C/div%3E%60%29%5B0%5D%3B%0A%20%20%20%20%20%20%20%20%20%20%20%20popup_e3bebff412fb49929fa94de9a21444f2.setContent%28html_1e8d3f8ce5144ba5ac4fede6f0acbb21%29%3B%0A%20%20%20%20%20%20%20%20%0A%0A%20%20%20%20%20%20%20%20marker_4ebafbf581c54d2095c7790eb131ac27.bindPopup%28popup_e3bebff412fb49929fa94de9a21444f2%29%0A%20%20%20%20%20%20%20%20%3B%0A%0A%20%20%20%20%20%20%20%20%0A%20%20%20%20%0A%20%20%20%20%0A%20%20%20%20%20%20%20%20%20%20%20%20var%20marker_6a60a51b96df4aea86c6bba5b3d062b9%20%3D%20L.marker%28%0A%20%20%20%20%20%20%20%20%20%20%20%20%20%20%20%20%5B51.5073219%2C%20-0.1276474%5D%2C%0A%20%20%20%20%20%20%20%20%20%20%20%20%20%20%20%20%7B%7D%0A%20%20%20%20%20%20%20%20%20%20%20%20%29.addTo%28map_1945d0934a8c4394a11efd24f769cfc4%29%3B%0A%20%20%20%20%20%20%20%20%0A%20%20%20%20%0A%20%20%20%20%20%20%20%20var%20popup_48754925ca064faa93428296fd17aeb4%20%3D%20L.popup%28%7B%22maxWidth%22%3A%20%22100%25%22%7D%29%3B%0A%0A%20%20%20%20%20%20%20%20%0A%20%20%20%20%20%20%20%20%20%20%20%20var%20html_2ee09a6ca3f14f7f9da18ddf5e1999cf%20%3D%20%24%28%60%3Cdiv%20id%3D%22html_2ee09a6ca3f14f7f9da18ddf5e1999cf%22%20style%3D%22width%3A%20100.0%25%3B%20height%3A%20100.0%25%3B%22%3Epalaceintrigue1%3A%20Review%3A%20Stand-up%20legend%20Chris%20Rock%20jokes%20about%20Will%20Smith%20slap%20seven%20seconds%20into%20Birmingham%20gig%20https%3A//t.co/AXaesCR5co%20%23royalfamily%3C/div%3E%60%29%5B0%5D%3B%0A%20%20%20%20%20%20%20%20%20%20%20%20popup_48754925ca064faa93428296fd17aeb4.setContent%28html_2ee09a6ca3f14f7f9da18ddf5e1999cf%29%3B%0A%20%20%20%20%20%20%20%20%0A%0A%20%20%20%20%20%20%20%20marker_6a60a51b96df4aea86c6bba5b3d062b9.bindPopup%28popup_48754925ca064faa93428296fd17aeb4%29%0A%20%20%20%20%20%20%20%20%3B%0A%0A%20%20%20%20%20%20%20%20%0A%20%20%20%20%0A%20%20%20%20%0A%20%20%20%20%20%20%20%20%20%20%20%20var%20marker_687fa69d34ee45feb88f9ccdc48eb59c%20%3D%20L.marker%28%0A%20%20%20%20%20%20%20%20%20%20%20%20%20%20%20%20%5B37.1232245%2C%20-78.4927721%5D%2C%0A%20%20%20%20%20%20%20%20%20%20%20%20%20%20%20%20%7B%7D%0A%20%20%20%20%20%20%20%20%20%20%20%20%29.addTo%28map_1945d0934a8c4394a11efd24f769cfc4%29%3B%0A%20%20%20%20%20%20%20%20%0A%20%20%20%20%0A%20%20%20%20%20%20%20%20var%20popup_c222e2514c0c48c28f374127b148e41b%20%3D%20L.popup%28%7B%22maxWidth%22%3A%20%22100%25%22%7D%29%3B%0A%0A%20%20%20%20%20%20%20%20%0A%20%20%20%20%20%20%20%20%20%20%20%20var%20html_b6d825adb8204b4daeeaaea1736f9e51%20%3D%20%24%28%60%3Cdiv%20id%3D%22html_b6d825adb8204b4daeeaaea1736f9e51%22%20style%3D%22width%3A%20100.0%25%3B%20height%3A%20100.0%25%3B%22%3Elilbrownivixen%3A%20%40LizTVLiz1%20Hey%20Will%20Smith%20did%20you%20see%20this%3F%20%20BTW%20Will%20you%20should%20totally%20pursue%20your%20ex%20Sheree%3C/div%3E%60%29%5B0%5D%3B%0A%20%20%20%20%20%20%20%20%20%20%20%20popup_c222e2514c0c48c28f374127b148e41b.setContent%28html_b6d825adb8204b4daeeaaea1736f9e51%29%3B%0A%20%20%20%20%20%20%20%20%0A%0A%20%20%20%20%20%20%20%20marker_687fa69d34ee45feb88f9ccdc48eb59c.bindPopup%28popup_c222e2514c0c48c28f374127b148e41b%29%0A%20%20%20%20%20%20%20%20%3B%0A%0A%20%20%20%20%20%20%20%20%0A%20%20%20%20%0A%20%20%20%20%0A%20%20%20%20%20%20%20%20%20%20%20%20var%20marker_80bab32b09d9405eb96a03f5aaceb137%20%3D%20L.marker%28%0A%20%20%20%20%20%20%20%20%20%20%20%20%20%20%20%20%5B28.5421097%2C%20-81.3790388%5D%2C%0A%20%20%20%20%20%20%20%20%20%20%20%20%20%20%20%20%7B%7D%0A%20%20%20%20%20%20%20%20%20%20%20%20%29.addTo%28map_1945d0934a8c4394a11efd24f769cfc4%29%3B%0A%20%20%20%20%20%20%20%20%0A%20%20%20%20%0A%20%20%20%20%20%20%20%20var%20popup_eed5300204a44dd293ec40029b1f18a3%20%3D%20L.popup%28%7B%22maxWidth%22%3A%20%22100%25%22%7D%29%3B%0A%0A%20%20%20%20%20%20%20%20%0A%20%20%20%20%20%20%20%20%20%20%20%20var%20html_b11f224f414143f48f10064e6b2e3eef%20%3D%20%24%28%60%3Cdiv%20id%3D%22html_b11f224f414143f48f10064e6b2e3eef%22%20style%3D%22width%3A%20100.0%25%3B%20height%3A%20100.0%25%3B%22%3EImG_O_Odi%3A%20this%20morning%20i%20want%20to%20will%20smith%20one%20of%20those%20old%20men%20with%20their%20KKK%20MAGA%20hats%20at%20one%20oh%23f%20those%20diners%20.%20then%20spi%E2%80%A6%20https%3A//t.co/2DT02riq4x%3C/div%3E%60%29%5B0%5D%3B%0A%20%20%20%20%20%20%20%20%20%20%20%20popup_eed5300204a44dd293ec40029b1f18a3.setContent%28html_b11f224f414143f48f10064e6b2e3eef%29%3B%0A%20%20%20%20%20%20%20%20%0A%0A%20%20%20%20%20%20%20%20marker_80bab32b09d9405eb96a03f5aaceb137.bindPopup%28popup_eed5300204a44dd293ec40029b1f18a3%29%0A%20%20%20%20%20%20%20%20%3B%0A%0A%20%20%20%20%20%20%20%20%0A%20%20%20%20%0A%20%20%20%20%0A%20%20%20%20%20%20%20%20%20%20%20%20var%20marker_5146e20e19014ae89ba003bd29b94fb1%20%3D%20L.marker%28%0A%20%20%20%20%20%20%20%20%20%20%20%20%20%20%20%20%5B35.4094858%2C%20136.7569769%5D%2C%0A%20%20%20%20%20%20%20%20%20%20%20%20%20%20%20%20%7B%7D%0A%20%20%20%20%20%20%20%20%20%20%20%20%29.addTo%28map_1945d0934a8c4394a11efd24f769cfc4%29%3B%0A%20%20%20%20%20%20%20%20%0A%20%20%20%20%0A%20%20%20%20%20%20%20%20var%20popup_b155943d89de4d1294e7aaddd2ab360f%20%3D%20L.popup%28%7B%22maxWidth%22%3A%20%22100%25%22%7D%29%3B%0A%0A%20%20%20%20%20%20%20%20%0A%20%20%20%20%20%20%20%20%20%20%20%20var%20html_938c70a2d0e7418da3ddf0c56c3b4876%20%3D%20%24%28%60%3Cdiv%20id%3D%22html_938c70a2d0e7418da3ddf0c56c3b4876%22%20style%3D%22width%3A%20100.0%25%3B%20height%3A%20100.0%25%3B%22%3Ekato_rmari%3A%20Will%20Smith%20noticed%20US%21%20%2B%20featured%20in%2024%20Oras%20https%3A//t.co/NYewZBjg58%20via%20%40YouTube%20wow%3C/div%3E%60%29%5B0%5D%3B%0A%20%20%20%20%20%20%20%20%20%20%20%20popup_b155943d89de4d1294e7aaddd2ab360f.setContent%28html_938c70a2d0e7418da3ddf0c56c3b4876%29%3B%0A%20%20%20%20%20%20%20%20%0A%0A%20%20%20%20%20%20%20%20marker_5146e20e19014ae89ba003bd29b94fb1.bindPopup%28popup_b155943d89de4d1294e7aaddd2ab360f%29%0A%20%20%20%20%20%20%20%20%3B%0A%0A%20%20%20%20%20%20%20%20%0A%20%20%20%20%0A%20%20%20%20%0A%20%20%20%20%20%20%20%20%20%20%20%20var%20marker_242a5b14a8f7469bb605b4b076dd080c%20%3D%20L.marker%28%0A%20%20%20%20%20%20%20%20%20%20%20%20%20%20%20%20%5B-23.9058333%2C%2029.4613889%5D%2C%0A%20%20%20%20%20%20%20%20%20%20%20%20%20%20%20%20%7B%7D%0A%20%20%20%20%20%20%20%20%20%20%20%20%29.addTo%28map_1945d0934a8c4394a11efd24f769cfc4%29%3B%0A%20%20%20%20%20%20%20%20%0A%20%20%20%20%0A%20%20%20%20%20%20%20%20var%20popup_474bf6bbcb7240fc9f74ac529db33771%20%3D%20L.popup%28%7B%22maxWidth%22%3A%20%22100%25%22%7D%29%3B%0A%0A%20%20%20%20%20%20%20%20%0A%20%20%20%20%20%20%20%20%20%20%20%20var%20html_08df91d5309b4efb83d59ea002370d60%20%3D%20%24%28%60%3Cdiv%20id%3D%22html_08df91d5309b4efb83d59ea002370d60%22%20style%3D%22width%3A%20100.0%25%3B%20height%3A%20100.0%25%3B%22%3ELeratoN_%3A%20Soon%20as%20Will%20Smith%20gets%20canceled%20%2Cthey%20blame%20Hollywood%28white%20people%29%20%20But%20these%20are%20the%20people%28black%20celebrities%29%20a%E2%80%A6%20https%3A//t.co/tPFGDOjuKJ%3C/div%3E%60%29%5B0%5D%3B%0A%20%20%20%20%20%20%20%20%20%20%20%20popup_474bf6bbcb7240fc9f74ac529db33771.setContent%28html_08df91d5309b4efb83d59ea002370d60%29%3B%0A%20%20%20%20%20%20%20%20%0A%0A%20%20%20%20%20%20%20%20marker_242a5b14a8f7469bb605b4b076dd080c.bindPopup%28popup_474bf6bbcb7240fc9f74ac529db33771%29%0A%20%20%20%20%20%20%20%20%3B%0A%0A%20%20%20%20%20%20%20%20%0A%20%20%20%20%0A%20%20%20%20%0A%20%20%20%20%20%20%20%20%20%20%20%20var%20marker_98e1fbef6b7049ac9f787258a745c9c1%20%3D%20L.marker%28%0A%20%20%20%20%20%20%20%20%20%20%20%20%20%20%20%20%5B51.3201891%2C%20-0.5564726%5D%2C%0A%20%20%20%20%20%20%20%20%20%20%20%20%20%20%20%20%7B%7D%0A%20%20%20%20%20%20%20%20%20%20%20%20%29.addTo%28map_1945d0934a8c4394a11efd24f769cfc4%29%3B%0A%20%20%20%20%20%20%20%20%0A%20%20%20%20%0A%20%20%20%20%20%20%20%20var%20popup_1cb5dc31760242a2abcdd23d9f286bec%20%3D%20L.popup%28%7B%22maxWidth%22%3A%20%22100%25%22%7D%29%3B%0A%0A%20%20%20%20%20%20%20%20%0A%20%20%20%20%20%20%20%20%20%20%20%20var%20html_e50f18e53c90401a9c4c0ad9f66a7867%20%3D%20%24%28%60%3Cdiv%20id%3D%22html_e50f18e53c90401a9c4c0ad9f66a7867%22%20style%3D%22width%3A%20100.0%25%3B%20height%3A%20100.0%25%3B%22%3ESJ_AV81%3A%20%40DarrenHarriott%20No%20wonder%20Will%20Smith%20slapped%20him%3C/div%3E%60%29%5B0%5D%3B%0A%20%20%20%20%20%20%20%20%20%20%20%20popup_1cb5dc31760242a2abcdd23d9f286bec.setContent%28html_e50f18e53c90401a9c4c0ad9f66a7867%29%3B%0A%20%20%20%20%20%20%20%20%0A%0A%20%20%20%20%20%20%20%20marker_98e1fbef6b7049ac9f787258a745c9c1.bindPopup%28popup_1cb5dc31760242a2abcdd23d9f286bec%29%0A%20%20%20%20%20%20%20%20%3B%0A%0A%20%20%20%20%20%20%20%20%0A%20%20%20%20%0A%20%20%20%20%0A%20%20%20%20%20%20%20%20%20%20%20%20var%20marker_0e070405006d42a5ad88f33f6c5867e2%20%3D%20L.marker%28%0A%20%20%20%20%20%20%20%20%20%20%20%20%20%20%20%20%5B-23.9058333%2C%2029.4613889%5D%2C%0A%20%20%20%20%20%20%20%20%20%20%20%20%20%20%20%20%7B%7D%0A%20%20%20%20%20%20%20%20%20%20%20%20%29.addTo%28map_1945d0934a8c4394a11efd24f769cfc4%29%3B%0A%20%20%20%20%20%20%20%20%0A%20%20%20%20%0A%20%20%20%20%20%20%20%20var%20popup_2dae23cc7d1047f784198d39b953ef06%20%3D%20L.popup%28%7B%22maxWidth%22%3A%20%22100%25%22%7D%29%3B%0A%0A%20%20%20%20%20%20%20%20%0A%20%20%20%20%20%20%20%20%20%20%20%20var%20html_d34f0025c6c1445aa1549abddb0e03ef%20%3D%20%24%28%60%3Cdiv%20id%3D%22html_d34f0025c6c1445aa1549abddb0e03ef%22%20style%3D%22width%3A%20100.0%25%3B%20height%3A%20100.0%25%3B%22%3ELeratoN_%3A%20%40PopCrave%20No%20one%20is%20tryna%20cancel%20Will%20Smith%20like%20black%20celebrities%20%20%20And%20soon%20as%20he%20get%20canceled%20they%20will%20be%20the%20f%E2%80%A6%20https%3A//t.co/zBgqU5453W%3C/div%3E%60%29%5B0%5D%3B%0A%20%20%20%20%20%20%20%20%20%20%20%20popup_2dae23cc7d1047f784198d39b953ef06.setContent%28html_d34f0025c6c1445aa1549abddb0e03ef%29%3B%0A%20%20%20%20%20%20%20%20%0A%0A%20%20%20%20%20%20%20%20marker_0e070405006d42a5ad88f33f6c5867e2.bindPopup%28popup_2dae23cc7d1047f784198d39b953ef06%29%0A%20%20%20%20%20%20%20%20%3B%0A%0A%20%20%20%20%20%20%20%20%0A%20%20%20%20%0A%20%20%20%20%0A%20%20%20%20%20%20%20%20%20%20%20%20var%20marker_b7e082459fc94097a15a3cba71e8edc5%20%3D%20L.marker%28%0A%20%20%20%20%20%20%20%20%20%20%20%20%20%20%20%20%5B1.4419683%2C%2038.4313975%5D%2C%0A%20%20%20%20%20%20%20%20%20%20%20%20%20%20%20%20%7B%7D%0A%20%20%20%20%20%20%20%20%20%20%20%20%29.addTo%28map_1945d0934a8c4394a11efd24f769cfc4%29%3B%0A%20%20%20%20%20%20%20%20%0A%20%20%20%20%0A%20%20%20%20%20%20%20%20var%20popup_47430293d3574191b14fd497f589cd69%20%3D%20L.popup%28%7B%22maxWidth%22%3A%20%22100%25%22%7D%29%3B%0A%0A%20%20%20%20%20%20%20%20%0A%20%20%20%20%20%20%20%20%20%20%20%20var%20html_bf3d2ac421cc4e70a0a7657cffe67db0%20%3D%20%24%28%60%3Cdiv%20id%3D%22html_bf3d2ac421cc4e70a0a7657cffe67db0%22%20style%3D%22width%3A%20100.0%25%3B%20height%3A%20100.0%25%3B%22%3Emuuuugz%3A%20%F0%9F%98%82%F0%9F%A4%A3%F0%9F%A4%A3%F0%9F%A4%A3A%20will%20smith%20slap%20will%20Smother%20you%20a%20good%20one.%3C/div%3E%60%29%5B0%5D%3B%0A%20%20%20%20%20%20%20%20%20%20%20%20popup_47430293d3574191b14fd497f589cd69.setContent%28html_bf3d2ac421cc4e70a0a7657cffe67db0%29%3B%0A%20%20%20%20%20%20%20%20%0A%0A%20%20%20%20%20%20%20%20marker_b7e082459fc94097a15a3cba71e8edc5.bindPopup%28popup_47430293d3574191b14fd497f589cd69%29%0A%20%20%20%20%20%20%20%20%3B%0A%0A%20%20%20%20%20%20%20%20%0A%20%20%20%20%0A%20%20%20%20%0A%20%20%20%20%20%20%20%20%20%20%20%20var%20marker_cb2727e962cf44d19366392ead457d64%20%3D%20L.marker%28%0A%20%20%20%20%20%20%20%20%20%20%20%20%20%20%20%20%5B39.7837304%2C%20-100.4458825%5D%2C%0A%20%20%20%20%20%20%20%20%20%20%20%20%20%20%20%20%7B%7D%0A%20%20%20%20%20%20%20%20%20%20%20%20%29.addTo%28map_1945d0934a8c4394a11efd24f769cfc4%29%3B%0A%20%20%20%20%20%20%20%20%0A%20%20%20%20%0A%20%20%20%20%20%20%20%20var%20popup_7ce95ab7976f421882aba4f117b3e880%20%3D%20L.popup%28%7B%22maxWidth%22%3A%20%22100%25%22%7D%29%3B%0A%0A%20%20%20%20%20%20%20%20%0A%20%20%20%20%20%20%20%20%20%20%20%20var%20html_06dfc25e023649158eabeb0b7e8bd000%20%3D%20%24%28%60%3Cdiv%20id%3D%22html_06dfc25e023649158eabeb0b7e8bd000%22%20style%3D%22width%3A%20100.0%25%3B%20height%3A%20100.0%25%3B%22%3EAmina110979%3A%20%40AtlantaDemocrat%20No%20screw%20you%20and%20Chris%20Rock.%20No%20one%20is%20saying%20what%20Will%20Smith%20did%20was%20right%2C%20but%20it%E2%80%99s%20been%20two%20mon%E2%80%A6%20https%3A//t.co/c4anoxoJnf%3C/div%3E%60%29%5B0%5D%3B%0A%20%20%20%20%20%20%20%20%20%20%20%20popup_7ce95ab7976f421882aba4f117b3e880.setContent%28html_06dfc25e023649158eabeb0b7e8bd000%29%3B%0A%20%20%20%20%20%20%20%20%0A%0A%20%20%20%20%20%20%20%20marker_cb2727e962cf44d19366392ead457d64.bindPopup%28popup_7ce95ab7976f421882aba4f117b3e880%29%0A%20%20%20%20%20%20%20%20%3B%0A%0A%20%20%20%20%20%20%20%20%0A%20%20%20%20%0A%20%20%20%20%0A%20%20%20%20%20%20%20%20%20%20%20%20var%20marker_bf820dc64c08445ca3c6ad1a8cc65fcd%20%3D%20L.marker%28%0A%20%20%20%20%20%20%20%20%20%20%20%20%20%20%20%20%5B40.8%2C%20-96.667821%5D%2C%0A%20%20%20%20%20%20%20%20%20%20%20%20%20%20%20%20%7B%7D%0A%20%20%20%20%20%20%20%20%20%20%20%20%29.addTo%28map_1945d0934a8c4394a11efd24f769cfc4%29%3B%0A%20%20%20%20%20%20%20%20%0A%20%20%20%20%0A%20%20%20%20%20%20%20%20var%20popup_4636ffce243c461db1c341c9a3f3d02d%20%3D%20L.popup%28%7B%22maxWidth%22%3A%20%22100%25%22%7D%29%3B%0A%0A%20%20%20%20%20%20%20%20%0A%20%20%20%20%20%20%20%20%20%20%20%20var%20html_d40f613ec66c4b6d8caf8ba6f5b80389%20%3D%20%24%28%60%3Cdiv%20id%3D%22html_d40f613ec66c4b6d8caf8ba6f5b80389%22%20style%3D%22width%3A%20100.0%25%3B%20height%3A%20100.0%25%3B%22%3EJohnnyMo12%3A%20%40dcrponline%20%40DonJBacon%20%40janekleeb%20To%20be%20fair%2C%20her%20Will%20Smith%20take%20was%20even%20worse%20if%20you%20want%20to%20be%20nit%20picky.%3C/div%3E%60%29%5B0%5D%3B%0A%20%20%20%20%20%20%20%20%20%20%20%20popup_4636ffce243c461db1c341c9a3f3d02d.setContent%28html_d40f613ec66c4b6d8caf8ba6f5b80389%29%3B%0A%20%20%20%20%20%20%20%20%0A%0A%20%20%20%20%20%20%20%20marker_bf820dc64c08445ca3c6ad1a8cc65fcd.bindPopup%28popup_4636ffce243c461db1c341c9a3f3d02d%29%0A%20%20%20%20%20%20%20%20%3B%0A%0A%20%20%20%20%20%20%20%20%0A%20%20%20%20%0A%20%20%20%20%0A%20%20%20%20%20%20%20%20%20%20%20%20var%20marker_cb1fd0a1d1e6422989ee3edf766d3861%20%3D%20L.marker%28%0A%20%20%20%20%20%20%20%20%20%20%20%20%20%20%20%20%5B43.653963%2C%20-79.387207%5D%2C%0A%20%20%20%20%20%20%20%20%20%20%20%20%20%20%20%20%7B%7D%0A%20%20%20%20%20%20%20%20%20%20%20%20%29.addTo%28map_1945d0934a8c4394a11efd24f769cfc4%29%3B%0A%20%20%20%20%20%20%20%20%0A%20%20%20%20%0A%20%20%20%20%20%20%20%20var%20popup_d0725a718c1a4156bbc0f6ff7959eea8%20%3D%20L.popup%28%7B%22maxWidth%22%3A%20%22100%25%22%7D%29%3B%0A%0A%20%20%20%20%20%20%20%20%0A%20%20%20%20%20%20%20%20%20%20%20%20var%20html_1ba3fc1b971443b9a4e99fa2bf92fb0f%20%3D%20%24%28%60%3Cdiv%20id%3D%22html_1ba3fc1b971443b9a4e99fa2bf92fb0f%22%20style%3D%22width%3A%20100.0%25%3B%20height%3A%20100.0%25%3B%22%3Ebree_shanelle%3A%20No%21%20Fr%21%3F%20Don%E2%80%99t%20tell%20me%20it%E2%80%99s%20canceled%20because%20of%20the%20Will%20Smith%20situation%3C/div%3E%60%29%5B0%5D%3B%0A%20%20%20%20%20%20%20%20%20%20%20%20popup_d0725a718c1a4156bbc0f6ff7959eea8.setContent%28html_1ba3fc1b971443b9a4e99fa2bf92fb0f%29%3B%0A%20%20%20%20%20%20%20%20%0A%0A%20%20%20%20%20%20%20%20marker_cb1fd0a1d1e6422989ee3edf766d3861.bindPopup%28popup_d0725a718c1a4156bbc0f6ff7959eea8%29%0A%20%20%20%20%20%20%20%20%3B%0A%0A%20%20%20%20%20%20%20%20%0A%20%20%20%20%0A%20%20%20%20%0A%20%20%20%20%20%20%20%20%20%20%20%20var%20marker_1ceb28ec90004cc7a14dd2a419d16d2a%20%3D%20L.marker%28%0A%20%20%20%20%20%20%20%20%20%20%20%20%20%20%20%20%5B40.2239981%2C%20-74.0478216%5D%2C%0A%20%20%20%20%20%20%20%20%20%20%20%20%20%20%20%20%7B%7D%0A%20%20%20%20%20%20%20%20%20%20%20%20%29.addTo%28map_1945d0934a8c4394a11efd24f769cfc4%29%3B%0A%20%20%20%20%20%20%20%20%0A%20%20%20%20%0A%20%20%20%20%20%20%20%20var%20popup_1b3f8c56acfc4ad7bc57f9128d61e14c%20%3D%20L.popup%28%7B%22maxWidth%22%3A%20%22100%25%22%7D%29%3B%0A%0A%20%20%20%20%20%20%20%20%0A%20%20%20%20%20%20%20%20%20%20%20%20var%20html_4931f0a220324ffd81522cfaa01c0993%20%3D%20%24%28%60%3Cdiv%20id%3D%22html_4931f0a220324ffd81522cfaa01c0993%22%20style%3D%22width%3A%20100.0%25%3B%20height%3A%20100.0%25%3B%22%3ETorrentArmy%3A%20%40ashwsbreal%20I%26%2339%3Bll%20hit%20like%20and%20life%20if%20it%20hits%20%241.%20%20I%26%2339%3Bll%20also%20pay%20to%20smack%20Will%20Smith%21%20%F0%9F%98%85%3C/div%3E%60%29%5B0%5D%3B%0A%20%20%20%20%20%20%20%20%20%20%20%20popup_1b3f8c56acfc4ad7bc57f9128d61e14c.setContent%28html_4931f0a220324ffd81522cfaa01c0993%29%3B%0A%20%20%20%20%20%20%20%20%0A%0A%20%20%20%20%20%20%20%20marker_1ceb28ec90004cc7a14dd2a419d16d2a.bindPopup%28popup_1b3f8c56acfc4ad7bc57f9128d61e14c%29%0A%20%20%20%20%20%20%20%20%3B%0A%0A%20%20%20%20%20%20%20%20%0A%20%20%20%20%0A%20%20%20%20%0A%20%20%20%20%20%20%20%20%20%20%20%20var%20marker_fc4573b453a445b6a06dbe18cb1e3071%20%3D%20L.marker%28%0A%20%20%20%20%20%20%20%20%20%20%20%20%20%20%20%20%5B48.8566101%2C%202.3514992%5D%2C%0A%20%20%20%20%20%20%20%20%20%20%20%20%20%20%20%20%7B%7D%0A%20%20%20%20%20%20%20%20%20%20%20%20%29.addTo%28map_1945d0934a8c4394a11efd24f769cfc4%29%3B%0A%20%20%20%20%20%20%20%20%0A%20%20%20%20%0A%20%20%20%20%20%20%20%20var%20popup_efa945810b994a26a59eb4417a9cb368%20%3D%20L.popup%28%7B%22maxWidth%22%3A%20%22100%25%22%7D%29%3B%0A%0A%20%20%20%20%20%20%20%20%0A%20%20%20%20%20%20%20%20%20%20%20%20var%20html_ebccb2c02eb14152b5a70e118df1e930%20%3D%20%24%28%60%3Cdiv%20id%3D%22html_ebccb2c02eb14152b5a70e118df1e930%22%20style%3D%22width%3A%20100.0%25%3B%20height%3A%20100.0%25%3B%22%3Enoeljossant%3A%20Will%20Smith%20-%20Men%20In%20Black%20https%3A//t.co/x4YRiEF7Hf%3C/div%3E%60%29%5B0%5D%3B%0A%20%20%20%20%20%20%20%20%20%20%20%20popup_efa945810b994a26a59eb4417a9cb368.setContent%28html_ebccb2c02eb14152b5a70e118df1e930%29%3B%0A%20%20%20%20%20%20%20%20%0A%0A%20%20%20%20%20%20%20%20marker_fc4573b453a445b6a06dbe18cb1e3071.bindPopup%28popup_efa945810b994a26a59eb4417a9cb368%29%0A%20%20%20%20%20%20%20%20%3B%0A%0A%20%20%20%20%20%20%20%20%0A%20%20%20%20%0A%20%20%20%20%0A%20%20%20%20%20%20%20%20%20%20%20%20var%20marker_ec383980e3ef4c6bb55e97733f1b363e%20%3D%20L.marker%28%0A%20%20%20%20%20%20%20%20%20%20%20%20%20%20%20%20%5B39.4225192%2C%20-111.7143584%5D%2C%0A%20%20%20%20%20%20%20%20%20%20%20%20%20%20%20%20%7B%7D%0A%20%20%20%20%20%20%20%20%20%20%20%20%29.addTo%28map_1945d0934a8c4394a11efd24f769cfc4%29%3B%0A%20%20%20%20%20%20%20%20%0A%20%20%20%20%0A%20%20%20%20%20%20%20%20var%20popup_2632a772a38c4b2b9882658f3f605564%20%3D%20L.popup%28%7B%22maxWidth%22%3A%20%22100%25%22%7D%29%3B%0A%0A%20%20%20%20%20%20%20%20%0A%20%20%20%20%20%20%20%20%20%20%20%20var%20html_b5aef1369bce456d9554f0f04e2728de%20%3D%20%24%28%60%3Cdiv%20id%3D%22html_b5aef1369bce456d9554f0f04e2728de%22%20style%3D%22width%3A%20100.0%25%3B%20height%3A%20100.0%25%3B%22%3E01velvetandstee%3A%20Please%20don%26%2339%3Bt%20replace%20Will%20Smith%20in%20Aladdin%20%23Disney%3C/div%3E%60%29%5B0%5D%3B%0A%20%20%20%20%20%20%20%20%20%20%20%20popup_2632a772a38c4b2b9882658f3f605564.setContent%28html_b5aef1369bce456d9554f0f04e2728de%29%3B%0A%20%20%20%20%20%20%20%20%0A%0A%20%20%20%20%20%20%20%20marker_ec383980e3ef4c6bb55e97733f1b363e.bindPopup%28popup_2632a772a38c4b2b9882658f3f605564%29%0A%20%20%20%20%20%20%20%20%3B%0A%0A%20%20%20%20%20%20%20%20%0A%20%20%20%20%0A%20%20%20%20%0A%20%20%20%20%20%20%20%20%20%20%20%20var%20marker_32de005099644cb3859039c3b098802f%20%3D%20L.marker%28%0A%20%20%20%20%20%20%20%20%20%20%20%20%20%20%20%20%5B40.2184039%2C%20-79.4878157%5D%2C%0A%20%20%20%20%20%20%20%20%20%20%20%20%20%20%20%20%7B%7D%0A%20%20%20%20%20%20%20%20%20%20%20%20%29.addTo%28map_1945d0934a8c4394a11efd24f769cfc4%29%3B%0A%20%20%20%20%20%20%20%20%0A%20%20%20%20%0A%20%20%20%20%20%20%20%20var%20popup_c1a6242735b143d185045baed72161aa%20%3D%20L.popup%28%7B%22maxWidth%22%3A%20%22100%25%22%7D%29%3B%0A%0A%20%20%20%20%20%20%20%20%0A%20%20%20%20%20%20%20%20%20%20%20%20var%20html_3299a4d71d9e4fad9dbf8d96b237a98b%20%3D%20%24%28%60%3Cdiv%20id%3D%22html_3299a4d71d9e4fad9dbf8d96b237a98b%22%20style%3D%22width%3A%20100.0%25%3B%20height%3A%20100.0%25%3B%22%3Eachibaat007%3A%20BAFTAs%202022%20Host%20Made%20Fun%20of%20Will%20Smith%E2%80%99s%C2%A0Slap%20https%3A//t.co/8Ski24hSEw%3C/div%3E%60%29%5B0%5D%3B%0A%20%20%20%20%20%20%20%20%20%20%20%20popup_c1a6242735b143d185045baed72161aa.setContent%28html_3299a4d71d9e4fad9dbf8d96b237a98b%29%3B%0A%20%20%20%20%20%20%20%20%0A%0A%20%20%20%20%20%20%20%20marker_32de005099644cb3859039c3b098802f.bindPopup%28popup_c1a6242735b143d185045baed72161aa%29%0A%20%20%20%20%20%20%20%20%3B%0A%0A%20%20%20%20%20%20%20%20%0A%20%20%20%20%0A%20%20%20%20%0A%20%20%20%20%20%20%20%20%20%20%20%20var%20marker_cb630a1abc9a495d81fdc081cd93b20d%20%3D%20L.marker%28%0A%20%20%20%20%20%20%20%20%20%20%20%20%20%20%20%20%5B39.7837304%2C%20-100.4458825%5D%2C%0A%20%20%20%20%20%20%20%20%20%20%20%20%20%20%20%20%7B%7D%0A%20%20%20%20%20%20%20%20%20%20%20%20%29.addTo%28map_1945d0934a8c4394a11efd24f769cfc4%29%3B%0A%20%20%20%20%20%20%20%20%0A%20%20%20%20%0A%20%20%20%20%20%20%20%20var%20popup_1f6eb1a755464e20bc604658c05d6db6%20%3D%20L.popup%28%7B%22maxWidth%22%3A%20%22100%25%22%7D%29%3B%0A%0A%20%20%20%20%20%20%20%20%0A%20%20%20%20%20%20%20%20%20%20%20%20var%20html_5da49a99d7384a2cb1c35711dc7e8522%20%3D%20%24%28%60%3Cdiv%20id%3D%22html_5da49a99d7384a2cb1c35711dc7e8522%22%20style%3D%22width%3A%20100.0%25%3B%20height%3A%20100.0%25%3B%22%3EAnewsgroup100%3A%20BAFTAs%202022%20Host%20Made%20Fun%20of%20Will%20Smith%E2%80%99s%C2%A0Slap%20https%3A//t.co/EfoBbePTnD%3C/div%3E%60%29%5B0%5D%3B%0A%20%20%20%20%20%20%20%20%20%20%20%20popup_1f6eb1a755464e20bc604658c05d6db6.setContent%28html_5da49a99d7384a2cb1c35711dc7e8522%29%3B%0A%20%20%20%20%20%20%20%20%0A%0A%20%20%20%20%20%20%20%20marker_cb630a1abc9a495d81fdc081cd93b20d.bindPopup%28popup_1f6eb1a755464e20bc604658c05d6db6%29%0A%20%20%20%20%20%20%20%20%3B%0A%0A%20%20%20%20%20%20%20%20%0A%20%20%20%20%0A%20%20%20%20%0A%20%20%20%20%20%20%20%20%20%20%20%20var%20marker_92cbb7b5a6bb40bbb7a6e3707f214976%20%3D%20L.marker%28%0A%20%20%20%20%20%20%20%20%20%20%20%20%20%20%20%20%5B30.6253463%2C%20-96.3271538%5D%2C%0A%20%20%20%20%20%20%20%20%20%20%20%20%20%20%20%20%7B%7D%0A%20%20%20%20%20%20%20%20%20%20%20%20%29.addTo%28map_1945d0934a8c4394a11efd24f769cfc4%29%3B%0A%20%20%20%20%20%20%20%20%0A%20%20%20%20%0A%20%20%20%20%20%20%20%20var%20popup_a03932ba6a844809a43375cacf9c7ea0%20%3D%20L.popup%28%7B%22maxWidth%22%3A%20%22100%25%22%7D%29%3B%0A%0A%20%20%20%20%20%20%20%20%0A%20%20%20%20%20%20%20%20%20%20%20%20var%20html_1af9cfbdafd945f48af600e9dc554b4c%20%3D%20%24%28%60%3Cdiv%20id%3D%22html_1af9cfbdafd945f48af600e9dc554b4c%22%20style%3D%22width%3A%20100.0%25%3B%20height%3A%20100.0%25%3B%22%3ESamSpence2d%3A%20WILL%20SMITH%20SLAPS%20CHRIS%20ROCK%21%21%21%20Was%20It%20Righteously%20Justified%3F%C2%A0Short%20https%3A//t.co/rNvzFmqnUP%3C/div%3E%60%29%5B0%5D%3B%0A%20%20%20%20%20%20%20%20%20%20%20%20popup_a03932ba6a844809a43375cacf9c7ea0.setContent%28html_1af9cfbdafd945f48af600e9dc554b4c%29%3B%0A%20%20%20%20%20%20%20%20%0A%0A%20%20%20%20%20%20%20%20marker_92cbb7b5a6bb40bbb7a6e3707f214976.bindPopup%28popup_a03932ba6a844809a43375cacf9c7ea0%29%0A%20%20%20%20%20%20%20%20%3B%0A%0A%20%20%20%20%20%20%20%20%0A%20%20%20%20%0A%20%20%20%20%0A%20%20%20%20%20%20%20%20%20%20%20%20var%20marker_3ce77c523ba64f0cb1bc8665deeaed57%20%3D%20L.marker%28%0A%20%20%20%20%20%20%20%20%20%20%20%20%20%20%20%20%5B27.7567667%2C%20-81.4639835%5D%2C%0A%20%20%20%20%20%20%20%20%20%20%20%20%20%20%20%20%7B%7D%0A%20%20%20%20%20%20%20%20%20%20%20%20%29.addTo%28map_1945d0934a8c4394a11efd24f769cfc4%29%3B%0A%20%20%20%20%20%20%20%20%0A%20%20%20%20%0A%20%20%20%20%20%20%20%20var%20popup_0acee0f92bff41c5a0adda67570a4783%20%3D%20L.popup%28%7B%22maxWidth%22%3A%20%22100%25%22%7D%29%3B%0A%0A%20%20%20%20%20%20%20%20%0A%20%20%20%20%20%20%20%20%20%20%20%20var%20html_c2fd1b25c0fd4ed3a28172e783aca883%20%3D%20%24%28%60%3Cdiv%20id%3D%22html_c2fd1b25c0fd4ed3a28172e783aca883%22%20style%3D%22width%3A%20100.0%25%3B%20height%3A%20100.0%25%3B%22%3ETeeMichelle57%3A%20Chris%20Rock%20Jokes%20He%20Has%20%26%2339%3BMost%20of%20My%20Hearing%20Back%26%2339%3B%20After%20Will%20Smith%20Oscars%20Slap%20%20https%3A//t.co/oFaJSEtCM0%3C/div%3E%60%29%5B0%5D%3B%0A%20%20%20%20%20%20%20%20%20%20%20%20popup_0acee0f92bff41c5a0adda67570a4783.setContent%28html_c2fd1b25c0fd4ed3a28172e783aca883%29%3B%0A%20%20%20%20%20%20%20%20%0A%0A%20%20%20%20%20%20%20%20marker_3ce77c523ba64f0cb1bc8665deeaed57.bindPopup%28popup_0acee0f92bff41c5a0adda67570a4783%29%0A%20%20%20%20%20%20%20%20%3B%0A%0A%20%20%20%20%20%20%20%20%0A%20%20%20%20%0A%20%20%20%20%0A%20%20%20%20%20%20%20%20%20%20%20%20var%20marker_e932e2513858479ab83355417af3b159%20%3D%20L.marker%28%0A%20%20%20%20%20%20%20%20%20%20%20%20%20%20%20%20%5B2.3923759%2C%20112.8471939%5D%2C%0A%20%20%20%20%20%20%20%20%20%20%20%20%20%20%20%20%7B%7D%0A%20%20%20%20%20%20%20%20%20%20%20%20%29.addTo%28map_1945d0934a8c4394a11efd24f769cfc4%29%3B%0A%20%20%20%20%20%20%20%20%0A%20%20%20%20%0A%20%20%20%20%20%20%20%20var%20popup_4b19c85a7ec44d3a86062640017d80dd%20%3D%20L.popup%28%7B%22maxWidth%22%3A%20%22100%25%22%7D%29%3B%0A%0A%20%20%20%20%20%20%20%20%0A%20%20%20%20%20%20%20%20%20%20%20%20var%20html_970d41813eea495a82e261f5e7ffa3b8%20%3D%20%24%28%60%3Cdiv%20id%3D%22html_970d41813eea495a82e261f5e7ffa3b8%22%20style%3D%22width%3A%20100.0%25%3B%20height%3A%20100.0%25%3B%22%3EWaversThe%3A%20Wavers%20on%20Will%20Smith%20VS%20Chris%20Rock%20%F0%9F%98%AF%F0%9F%A4%AF%20%20Video%20From%3A%20%26%2334%3BAre%20High-School%20Romance%20worth%20it%21%3F%20EP5%20%20%20FULL%20CLIP%20%F0%9F%91%87%E2%80%A6%20https%3A//t.co/l6U2cyTJ2N%3C/div%3E%60%29%5B0%5D%3B%0A%20%20%20%20%20%20%20%20%20%20%20%20popup_4b19c85a7ec44d3a86062640017d80dd.setContent%28html_970d41813eea495a82e261f5e7ffa3b8%29%3B%0A%20%20%20%20%20%20%20%20%0A%0A%20%20%20%20%20%20%20%20marker_e932e2513858479ab83355417af3b159.bindPopup%28popup_4b19c85a7ec44d3a86062640017d80dd%29%0A%20%20%20%20%20%20%20%20%3B%0A%0A%20%20%20%20%20%20%20%20%0A%20%20%20%20%0A%20%20%20%20%0A%20%20%20%20%20%20%20%20%20%20%20%20var%20marker_27aa21208c8443bca9793ad7a576ff5a%20%3D%20L.marker%28%0A%20%20%20%20%20%20%20%20%20%20%20%20%20%20%20%20%5B2.3923759%2C%20112.8471939%5D%2C%0A%20%20%20%20%20%20%20%20%20%20%20%20%20%20%20%20%7B%7D%0A%20%20%20%20%20%20%20%20%20%20%20%20%29.addTo%28map_1945d0934a8c4394a11efd24f769cfc4%29%3B%0A%20%20%20%20%20%20%20%20%0A%20%20%20%20%0A%20%20%20%20%20%20%20%20var%20popup_a1bb3653005b4b6c8c9d77e03ee2738d%20%3D%20L.popup%28%7B%22maxWidth%22%3A%20%22100%25%22%7D%29%3B%0A%0A%20%20%20%20%20%20%20%20%0A%20%20%20%20%20%20%20%20%20%20%20%20var%20html_20540cfe86ac4e46a4ecd3c07a40efb8%20%3D%20%24%28%60%3Cdiv%20id%3D%22html_20540cfe86ac4e46a4ecd3c07a40efb8%22%20style%3D%22width%3A%20100.0%25%3B%20height%3A%20100.0%25%3B%22%3EWaversThe%3A%20Wavers%20on%20Will%20Smith%20VS%20Chris%20Rock%20%F0%9F%98%AF%F0%9F%A4%AF%20%20Video%20From%3A%20%26%2334%3BAre%20High-School%20Romance%20worth%20it%21%3F%20EP5%20%20%20FULL%20CLIP%20%F0%9F%91%87%E2%80%A6%20https%3A//t.co/Y6WvAiwAxa%3C/div%3E%60%29%5B0%5D%3B%0A%20%20%20%20%20%20%20%20%20%20%20%20popup_a1bb3653005b4b6c8c9d77e03ee2738d.setContent%28html_20540cfe86ac4e46a4ecd3c07a40efb8%29%3B%0A%20%20%20%20%20%20%20%20%0A%0A%20%20%20%20%20%20%20%20marker_27aa21208c8443bca9793ad7a576ff5a.bindPopup%28popup_a1bb3653005b4b6c8c9d77e03ee2738d%29%0A%20%20%20%20%20%20%20%20%3B%0A%0A%20%20%20%20%20%20%20%20%0A%20%20%20%20%0A%20%20%20%20%0A%20%20%20%20%20%20%20%20%20%20%20%20var%20marker_67d74de6c6ec40968501ef4479f78d7b%20%3D%20L.marker%28%0A%20%20%20%20%20%20%20%20%20%20%20%20%20%20%20%20%5B-1.45056%2C%20-48.4682453%5D%2C%0A%20%20%20%20%20%20%20%20%20%20%20%20%20%20%20%20%7B%7D%0A%20%20%20%20%20%20%20%20%20%20%20%20%29.addTo%28map_1945d0934a8c4394a11efd24f769cfc4%29%3B%0A%20%20%20%20%20%20%20%20%0A%20%20%20%20%0A%20%20%20%20%20%20%20%20var%20popup_2ac9337dc28048298b16aa3efc862631%20%3D%20L.popup%28%7B%22maxWidth%22%3A%20%22100%25%22%7D%29%3B%0A%0A%20%20%20%20%20%20%20%20%0A%20%20%20%20%20%20%20%20%20%20%20%20var%20html_b61f5055d7964ecba9cc7cdc96be7ae5%20%3D%20%24%28%60%3Cdiv%20id%3D%22html_b61f5055d7964ecba9cc7cdc96be7ae5%22%20style%3D%22width%3A%20100.0%25%3B%20height%3A%20100.0%25%3B%22%3Efrankominsora%3A%20Our%20u%20with%20me%20boy%20Cote%20net%20flix%20and%20desney%20bring%20back%20will%20smith%20ppl%20https%3A//t.co/9JiXP1Krz0%3C/div%3E%60%29%5B0%5D%3B%0A%20%20%20%20%20%20%20%20%20%20%20%20popup_2ac9337dc28048298b16aa3efc862631.setContent%28html_b61f5055d7964ecba9cc7cdc96be7ae5%29%3B%0A%20%20%20%20%20%20%20%20%0A%0A%20%20%20%20%20%20%20%20marker_67d74de6c6ec40968501ef4479f78d7b.bindPopup%28popup_2ac9337dc28048298b16aa3efc862631%29%0A%20%20%20%20%20%20%20%20%3B%0A%0A%20%20%20%20%20%20%20%20%0A%20%20%20%20%0A%20%20%20%20%0A%20%20%20%20%20%20%20%20%20%20%20%20var%20marker_e44c914cc8674210b481e9d728156f12%20%3D%20L.marker%28%0A%20%20%20%20%20%20%20%20%20%20%20%20%20%20%20%20%5B50.121994%2C%208.6997648%5D%2C%0A%20%20%20%20%20%20%20%20%20%20%20%20%20%20%20%20%7B%7D%0A%20%20%20%20%20%20%20%20%20%20%20%20%29.addTo%28map_1945d0934a8c4394a11efd24f769cfc4%29%3B%0A%20%20%20%20%20%20%20%20%0A%20%20%20%20%0A%20%20%20%20%20%20%20%20var%20popup_4046aaf0471543edbb7c379da1d296ca%20%3D%20L.popup%28%7B%22maxWidth%22%3A%20%22100%25%22%7D%29%3B%0A%0A%20%20%20%20%20%20%20%20%0A%20%20%20%20%20%20%20%20%20%20%20%20var%20html_73ee7cf7b04c408ea6939c4d1b6db67c%20%3D%20%24%28%60%3Cdiv%20id%3D%22html_73ee7cf7b04c408ea6939c4d1b6db67c%22%20style%3D%22width%3A%20100.0%25%3B%20height%3A%20100.0%25%3B%22%3EPacoHatesYou%3A%20Now%20why%20couldn%E2%80%99t%20this%20woman%20just%20make%20a%20post%20about%20the%20formula%20shortage%20and%20not%20include%20will%20smith%2C%20the%20yt%20DV%20trial%20and%20the%20covid%20vaccine%3F%3F%3C/div%3E%60%29%5B0%5D%3B%0A%20%20%20%20%20%20%20%20%20%20%20%20popup_4046aaf0471543edbb7c379da1d296ca.setContent%28html_73ee7cf7b04c408ea6939c4d1b6db67c%29%3B%0A%20%20%20%20%20%20%20%20%0A%0A%20%20%20%20%20%20%20%20marker_e44c914cc8674210b481e9d728156f12.bindPopup%28popup_4046aaf0471543edbb7c379da1d296ca%29%0A%20%20%20%20%20%20%20%20%3B%0A%0A%20%20%20%20%20%20%20%20%0A%20%20%20%20%0A%20%20%20%20%0A%20%20%20%20%20%20%20%20%20%20%20%20var%20marker_4e9f96525e05475ba461918d0dda456d%20%3D%20L.marker%28%0A%20%20%20%20%20%20%20%20%20%20%20%20%20%20%20%20%5B54.6294982%2C%20-6.7654416%5D%2C%0A%20%20%20%20%20%20%20%20%20%20%20%20%20%20%20%20%7B%7D%0A%20%20%20%20%20%20%20%20%20%20%20%20%29.addTo%28map_1945d0934a8c4394a11efd24f769cfc4%29%3B%0A%20%20%20%20%20%20%20%20%0A%20%20%20%20%0A%20%20%20%20%20%20%20%20var%20popup_f5dfe08b79974b2582dfb9d54c5e16fc%20%3D%20L.popup%28%7B%22maxWidth%22%3A%20%22100%25%22%7D%29%3B%0A%0A%20%20%20%20%20%20%20%20%0A%20%20%20%20%20%20%20%20%20%20%20%20var%20html_02eb8f9f6b8f480984675f3d1f56e947%20%3D%20%24%28%60%3Cdiv%20id%3D%22html_02eb8f9f6b8f480984675f3d1f56e947%22%20style%3D%22width%3A%20100.0%25%3B%20height%3A%20100.0%25%3B%22%3EValhallAwaits77%3A%20%40Actually_Tina%20%E2%80%9CTraumatising%E2%80%9D%20%F0%9F%98%82%20wise%20the%20fuck%20up%20%20%20Fucking%20hell%20you%20would%20think%20that%20Will%20Smith%20beheaded%20Chris%20Rock%20on%20stage%20or%20something%3C/div%3E%60%29%5B0%5D%3B%0A%20%20%20%20%20%20%20%20%20%20%20%20popup_f5dfe08b79974b2582dfb9d54c5e16fc.setContent%28html_02eb8f9f6b8f480984675f3d1f56e947%29%3B%0A%20%20%20%20%20%20%20%20%0A%0A%20%20%20%20%20%20%20%20marker_4e9f96525e05475ba461918d0dda456d.bindPopup%28popup_f5dfe08b79974b2582dfb9d54c5e16fc%29%0A%20%20%20%20%20%20%20%20%3B%0A%0A%20%20%20%20%20%20%20%20%0A%20%20%20%20%0A%20%20%20%20%0A%20%20%20%20%20%20%20%20%20%20%20%20var%20marker_6c0921f9948241239dddbeb8b9f83f24%20%3D%20L.marker%28%0A%20%20%20%20%20%20%20%20%20%20%20%20%20%20%20%20%5B52.7954791%2C%20-0.540240286617432%5D%2C%0A%20%20%20%20%20%20%20%20%20%20%20%20%20%20%20%20%7B%7D%0A%20%20%20%20%20%20%20%20%20%20%20%20%29.addTo%28map_1945d0934a8c4394a11efd24f769cfc4%29%3B%0A%20%20%20%20%20%20%20%20%0A%20%20%20%20%0A%20%20%20%20%20%20%20%20var%20popup_3931140a157645a99d4538f0f07d9484%20%3D%20L.popup%28%7B%22maxWidth%22%3A%20%22100%25%22%7D%29%3B%0A%0A%20%20%20%20%20%20%20%20%0A%20%20%20%20%20%20%20%20%20%20%20%20var%20html_667cee24a74a4abfa043817d5a98a157%20%3D%20%24%28%60%3Cdiv%20id%3D%22html_667cee24a74a4abfa043817d5a98a157%22%20style%3D%22width%3A%20100.0%25%3B%20height%3A%20100.0%25%3B%22%3EChrisArtist11%3A%20%40Clark1995Clark%20%40rickygervais%20Will%20Smith%20should%20host%2C%20part%20of%20his%20community%20service.%3C/div%3E%60%29%5B0%5D%3B%0A%20%20%20%20%20%20%20%20%20%20%20%20popup_3931140a157645a99d4538f0f07d9484.setContent%28html_667cee24a74a4abfa043817d5a98a157%29%3B%0A%20%20%20%20%20%20%20%20%0A%0A%20%20%20%20%20%20%20%20marker_6c0921f9948241239dddbeb8b9f83f24.bindPopup%28popup_3931140a157645a99d4538f0f07d9484%29%0A%20%20%20%20%20%20%20%20%3B%0A%0A%20%20%20%20%20%20%20%20%0A%20%20%20%20%0A%20%20%20%20%0A%20%20%20%20%20%20%20%20%20%20%20%20var%20marker_563ab3a7b0fc4e4a9e70c7ac346d6190%20%3D%20L.marker%28%0A%20%20%20%20%20%20%20%20%20%20%20%20%20%20%20%20%5B40.7306458%2C%20-73.9866136%5D%2C%0A%20%20%20%20%20%20%20%20%20%20%20%20%20%20%20%20%7B%7D%0A%20%20%20%20%20%20%20%20%20%20%20%20%29.addTo%28map_1945d0934a8c4394a11efd24f769cfc4%29%3B%0A%20%20%20%20%20%20%20%20%0A%20%20%20%20%0A%20%20%20%20%20%20%20%20var%20popup_a62db18fbc554005b78a13460ee8fc12%20%3D%20L.popup%28%7B%22maxWidth%22%3A%20%22100%25%22%7D%29%3B%0A%0A%20%20%20%20%20%20%20%20%0A%20%20%20%20%20%20%20%20%20%20%20%20var%20html_a7340d2960e146d7a80960fb60547737%20%3D%20%24%28%60%3Cdiv%20id%3D%22html_a7340d2960e146d7a80960fb60547737%22%20style%3D%22width%3A%20100.0%25%3B%20height%3A%20100.0%25%3B%22%3Egocomshukurself%3A%20%40PopCrave%20is%20the%20will%20smith%20slap%20in%20the%20room%20with%20us%20right%20now%3F%20https%3A//t.co/qpXvtFKVT4%3C/div%3E%60%29%5B0%5D%3B%0A%20%20%20%20%20%20%20%20%20%20%20%20popup_a62db18fbc554005b78a13460ee8fc12.setContent%28html_a7340d2960e146d7a80960fb60547737%29%3B%0A%20%20%20%20%20%20%20%20%0A%0A%20%20%20%20%20%20%20%20marker_563ab3a7b0fc4e4a9e70c7ac346d6190.bindPopup%28popup_a62db18fbc554005b78a13460ee8fc12%29%0A%20%20%20%20%20%20%20%20%3B%0A%0A%20%20%20%20%20%20%20%20%0A%20%20%20%20%0A%20%20%20%20%0A%20%20%20%20%20%20%20%20%20%20%20%20var%20marker_b21b1037967b41c6b77183fcb395af74%20%3D%20L.marker%28%0A%20%20%20%20%20%20%20%20%20%20%20%20%20%20%20%20%5B39.2908816%2C%20-76.610759%5D%2C%0A%20%20%20%20%20%20%20%20%20%20%20%20%20%20%20%20%7B%7D%0A%20%20%20%20%20%20%20%20%20%20%20%20%29.addTo%28map_1945d0934a8c4394a11efd24f769cfc4%29%3B%0A%20%20%20%20%20%20%20%20%0A%20%20%20%20%0A%20%20%20%20%20%20%20%20var%20popup_bf0bee9d8da94999b59d6c5609f1303c%20%3D%20L.popup%28%7B%22maxWidth%22%3A%20%22100%25%22%7D%29%3B%0A%0A%20%20%20%20%20%20%20%20%0A%20%20%20%20%20%20%20%20%20%20%20%20var%20html_cc3a676d96e64f5eb6b99259e151f915%20%3D%20%24%28%60%3Cdiv%20id%3D%22html_cc3a676d96e64f5eb6b99259e151f915%22%20style%3D%22width%3A%20100.0%25%3B%20height%3A%20100.0%25%3B%22%3EThadvdking%3A%20%40vladtv%20Chris%20Rock%20shouldn%26%2339%3Bt%20be%20saying%20nothing%20about%20nothing%20until%20he%20fights%20%20Will%20Smith.%20%23WillSmith%20%23ChrisRock%3C/div%3E%60%29%5B0%5D%3B%0A%20%20%20%20%20%20%20%20%20%20%20%20popup_bf0bee9d8da94999b59d6c5609f1303c.setContent%28html_cc3a676d96e64f5eb6b99259e151f915%29%3B%0A%20%20%20%20%20%20%20%20%0A%0A%20%20%20%20%20%20%20%20marker_b21b1037967b41c6b77183fcb395af74.bindPopup%28popup_bf0bee9d8da94999b59d6c5609f1303c%29%0A%20%20%20%20%20%20%20%20%3B%0A%0A%20%20%20%20%20%20%20%20%0A%20%20%20%20%0A%20%20%20%20%0A%20%20%20%20%20%20%20%20%20%20%20%20var%20marker_0c241751572e48aeb2a889e5e0b917af%20%3D%20L.marker%28%0A%20%20%20%20%20%20%20%20%20%20%20%20%20%20%20%20%5B34.2331373%2C%20-102.4107493%5D%2C%0A%20%20%20%20%20%20%20%20%20%20%20%20%20%20%20%20%7B%7D%0A%20%20%20%20%20%20%20%20%20%20%20%20%29.addTo%28map_1945d0934a8c4394a11efd24f769cfc4%29%3B%0A%20%20%20%20%20%20%20%20%0A%20%20%20%20%0A%20%20%20%20%20%20%20%20var%20popup_f50b5b028e084e27a5db9f916f91a94c%20%3D%20L.popup%28%7B%22maxWidth%22%3A%20%22100%25%22%7D%29%3B%0A%0A%20%20%20%20%20%20%20%20%0A%20%20%20%20%20%20%20%20%20%20%20%20var%20html_b8eb3073126b48f387a63aa22a843210%20%3D%20%24%28%60%3Cdiv%20id%3D%22html_b8eb3073126b48f387a63aa22a843210%22%20style%3D%22width%3A%20100.0%25%3B%20height%3A%20100.0%25%3B%22%3ENightRaydes%3A%20%40Deppgirl2%20Chris%20Rock%20is%20awesome%20lol.%20Luckily%20Will%20Smith%20wasn%26%2339%3Bt%20around%20to%20give%20him%20a%20cuck-slap%20on%20her%20behalf%20lol.%3C/div%3E%60%29%5B0%5D%3B%0A%20%20%20%20%20%20%20%20%20%20%20%20popup_f50b5b028e084e27a5db9f916f91a94c.setContent%28html_b8eb3073126b48f387a63aa22a843210%29%3B%0A%20%20%20%20%20%20%20%20%0A%0A%20%20%20%20%20%20%20%20marker_0c241751572e48aeb2a889e5e0b917af.bindPopup%28popup_f50b5b028e084e27a5db9f916f91a94c%29%0A%20%20%20%20%20%20%20%20%3B%0A%0A%20%20%20%20%20%20%20%20%0A%20%20%20%20%0A%20%20%20%20%0A%20%20%20%20%20%20%20%20%20%20%20%20var%20marker_a154223eb2af4d0e9f331598e6e95d42%20%3D%20L.marker%28%0A%20%20%20%20%20%20%20%20%20%20%20%20%20%20%20%20%5B33.7490987%2C%20-84.3901849%5D%2C%0A%20%20%20%20%20%20%20%20%20%20%20%20%20%20%20%20%7B%7D%0A%20%20%20%20%20%20%20%20%20%20%20%20%29.addTo%28map_1945d0934a8c4394a11efd24f769cfc4%29%3B%0A%20%20%20%20%20%20%20%20%0A%20%20%20%20%0A%20%20%20%20%20%20%20%20var%20popup_7262dc12cc0645368b76e076e576f538%20%3D%20L.popup%28%7B%22maxWidth%22%3A%20%22100%25%22%7D%29%3B%0A%0A%20%20%20%20%20%20%20%20%0A%20%20%20%20%20%20%20%20%20%20%20%20var%20html_3fe8f716e4434bc4aee8d555c5a60a65%20%3D%20%24%28%60%3Cdiv%20id%3D%22html_3fe8f716e4434bc4aee8d555c5a60a65%22%20style%3D%22width%3A%20100.0%25%3B%20height%3A%20100.0%25%3B%22%3Emedicinehelp%3A%20What%20%E2%80%98Traumatized%E2%80%99%20Wanda%20Sykes%20Was%20Thinking%20When%20Will%20Smith%20Slapped%20Chris%C2%A0Rock%20https%3A//t.co/WPnqIlKz2r%3C/div%3E%60%29%5B0%5D%3B%0A%20%20%20%20%20%20%20%20%20%20%20%20popup_7262dc12cc0645368b76e076e576f538.setContent%28html_3fe8f716e4434bc4aee8d555c5a60a65%29%3B%0A%20%20%20%20%20%20%20%20%0A%0A%20%20%20%20%20%20%20%20marker_a154223eb2af4d0e9f331598e6e95d42.bindPopup%28popup_7262dc12cc0645368b76e076e576f538%29%0A%20%20%20%20%20%20%20%20%3B%0A%0A%20%20%20%20%20%20%20%20%0A%20%20%20%20%0A%20%20%20%20%0A%20%20%20%20%20%20%20%20%20%20%20%20var%20marker_b96a5fec5edd4a3aaae10a7fecd2aaae%20%3D%20L.marker%28%0A%20%20%20%20%20%20%20%20%20%20%20%20%20%20%20%20%5B52.7954791%2C%20-0.540240286617432%5D%2C%0A%20%20%20%20%20%20%20%20%20%20%20%20%20%20%20%20%7B%7D%0A%20%20%20%20%20%20%20%20%20%20%20%20%29.addTo%28map_1945d0934a8c4394a11efd24f769cfc4%29%3B%0A%20%20%20%20%20%20%20%20%0A%20%20%20%20%0A%20%20%20%20%20%20%20%20var%20popup_701eb82329de42af9daab746c769cb9b%20%3D%20L.popup%28%7B%22maxWidth%22%3A%20%22100%25%22%7D%29%3B%0A%0A%20%20%20%20%20%20%20%20%0A%20%20%20%20%20%20%20%20%20%20%20%20var%20html_76069274ed71400f944ff7fa1e1effe9%20%3D%20%24%28%60%3Cdiv%20id%3D%22html_76069274ed71400f944ff7fa1e1effe9%22%20style%3D%22width%3A%20100.0%25%3B%20height%3A%20100.0%25%3B%22%3ECritapocalypse%3A%20%40MDthrice%20%40Booker4KY%20You%20mean%20Gene%20Hackman%20or%20Will%20Smith%3F%3C/div%3E%60%29%5B0%5D%3B%0A%20%20%20%20%20%20%20%20%20%20%20%20popup_701eb82329de42af9daab746c769cb9b.setContent%28html_76069274ed71400f944ff7fa1e1effe9%29%3B%0A%20%20%20%20%20%20%20%20%0A%0A%20%20%20%20%20%20%20%20marker_b96a5fec5edd4a3aaae10a7fecd2aaae.bindPopup%28popup_701eb82329de42af9daab746c769cb9b%29%0A%20%20%20%20%20%20%20%20%3B%0A%0A%20%20%20%20%20%20%20%20%0A%20%20%20%20%0A%20%20%20%20%0A%20%20%20%20%20%20%20%20%20%20%20%20var%20marker_a7bf5961f08a4107b66c53a70fc8888e%20%3D%20L.marker%28%0A%20%20%20%20%20%20%20%20%20%20%20%20%20%20%20%20%5B33.7490987%2C%20-84.3901849%5D%2C%0A%20%20%20%20%20%20%20%20%20%20%20%20%20%20%20%20%7B%7D%0A%20%20%20%20%20%20%20%20%20%20%20%20%29.addTo%28map_1945d0934a8c4394a11efd24f769cfc4%29%3B%0A%20%20%20%20%20%20%20%20%0A%20%20%20%20%0A%20%20%20%20%20%20%20%20var%20popup_b0a65d4833054e47ad017278fa26e4ab%20%3D%20L.popup%28%7B%22maxWidth%22%3A%20%22100%25%22%7D%29%3B%0A%0A%20%20%20%20%20%20%20%20%0A%20%20%20%20%20%20%20%20%20%20%20%20var%20html_cf7e04b153b94742a8b7ad0689a9e1c8%20%3D%20%24%28%60%3Cdiv%20id%3D%22html_cf7e04b153b94742a8b7ad0689a9e1c8%22%20style%3D%22width%3A%20100.0%25%3B%20height%3A%20100.0%25%3B%22%3Emedicinehelp%3A%20What%20%E2%80%98Traumatized%E2%80%99%20Wanda%20Sykes%20Was%20Thinking%20When%20Will%20Smith%20Slapped%20Chris%C2%A0Rock%20https%3A//t.co/yWgTwMn0zu%3C/div%3E%60%29%5B0%5D%3B%0A%20%20%20%20%20%20%20%20%20%20%20%20popup_b0a65d4833054e47ad017278fa26e4ab.setContent%28html_cf7e04b153b94742a8b7ad0689a9e1c8%29%3B%0A%20%20%20%20%20%20%20%20%0A%0A%20%20%20%20%20%20%20%20marker_a7bf5961f08a4107b66c53a70fc8888e.bindPopup%28popup_b0a65d4833054e47ad017278fa26e4ab%29%0A%20%20%20%20%20%20%20%20%3B%0A%0A%20%20%20%20%20%20%20%20%0A%20%20%20%20%0A%20%20%20%20%0A%20%20%20%20%20%20%20%20%20%20%20%20var%20marker_2cc7fa5553b4463589f6043772ceba0b%20%3D%20L.marker%28%0A%20%20%20%20%20%20%20%20%20%20%20%20%20%20%20%20%5B38.89366125%2C%20-76.987883253882%5D%2C%0A%20%20%20%20%20%20%20%20%20%20%20%20%20%20%20%20%7B%7D%0A%20%20%20%20%20%20%20%20%20%20%20%20%29.addTo%28map_1945d0934a8c4394a11efd24f769cfc4%29%3B%0A%20%20%20%20%20%20%20%20%0A%20%20%20%20%0A%20%20%20%20%20%20%20%20var%20popup_6d99fb82d30d42b9a0388b7afa343b10%20%3D%20L.popup%28%7B%22maxWidth%22%3A%20%22100%25%22%7D%29%3B%0A%0A%20%20%20%20%20%20%20%20%0A%20%20%20%20%20%20%20%20%20%20%20%20var%20html_e32c05dcb2f84d6e805411149e418083%20%3D%20%24%28%60%3Cdiv%20id%3D%22html_e32c05dcb2f84d6e805411149e418083%22%20style%3D%22width%3A%20100.0%25%3B%20height%3A%20100.0%25%3B%22%3EDerikNovvaj23ii%3A%20%40twizzlytee%20Ain%E2%80%99t%20this%20the%20same%20bitch%20that%20tried%20to%20blame%20Will%20Smith%20for%20some%20dude%20trying%20t%20tackle%20Dave%20Chapelle%20on%E2%80%A6%20https%3A//t.co/wX5pUGnMuJ%3C/div%3E%60%29%5B0%5D%3B%0A%20%20%20%20%20%20%20%20%20%20%20%20popup_6d99fb82d30d42b9a0388b7afa343b10.setContent%28html_e32c05dcb2f84d6e805411149e418083%29%3B%0A%20%20%20%20%20%20%20%20%0A%0A%20%20%20%20%20%20%20%20marker_2cc7fa5553b4463589f6043772ceba0b.bindPopup%28popup_6d99fb82d30d42b9a0388b7afa343b10%29%0A%20%20%20%20%20%20%20%20%3B%0A%0A%20%20%20%20%20%20%20%20%0A%20%20%20%20%0A%20%20%20%20%0A%20%20%20%20%20%20%20%20%20%20%20%20var%20marker_567f688964ab40a1bfd18c259e655fd1%20%3D%20L.marker%28%0A%20%20%20%20%20%20%20%20%20%20%20%20%20%20%20%20%5B-33.3383691%2C%20151.5028639%5D%2C%0A%20%20%20%20%20%20%20%20%20%20%20%20%20%20%20%20%7B%7D%0A%20%20%20%20%20%20%20%20%20%20%20%20%29.addTo%28map_1945d0934a8c4394a11efd24f769cfc4%29%3B%0A%20%20%20%20%20%20%20%20%0A%20%20%20%20%0A%20%20%20%20%20%20%20%20var%20popup_f8a326fd4c0c4918aadadf46256126a0%20%3D%20L.popup%28%7B%22maxWidth%22%3A%20%22100%25%22%7D%29%3B%0A%0A%20%20%20%20%20%20%20%20%0A%20%20%20%20%20%20%20%20%20%20%20%20var%20html_e8241b89f4764fafb1fe9e57b4cc27c3%20%3D%20%24%28%60%3Cdiv%20id%3D%22html_e8241b89f4764fafb1fe9e57b4cc27c3%22%20style%3D%22width%3A%20100.0%25%3B%20height%3A%20100.0%25%3B%22%3E100__points%3A%20They%20done%20took%20will%20smith%20off%20everything%20that%E2%80%99s%20crazy%3C/div%3E%60%29%5B0%5D%3B%0A%20%20%20%20%20%20%20%20%20%20%20%20popup_f8a326fd4c0c4918aadadf46256126a0.setContent%28html_e8241b89f4764fafb1fe9e57b4cc27c3%29%3B%0A%20%20%20%20%20%20%20%20%0A%0A%20%20%20%20%20%20%20%20marker_567f688964ab40a1bfd18c259e655fd1.bindPopup%28popup_f8a326fd4c0c4918aadadf46256126a0%29%0A%20%20%20%20%20%20%20%20%3B%0A%0A%20%20%20%20%20%20%20%20%0A%20%20%20%20%0A%20%20%20%20%0A%20%20%20%20%20%20%20%20%20%20%20%20var%20marker_81cd6052da434a2fbd82349f5f86bce3%20%3D%20L.marker%28%0A%20%20%20%20%20%20%20%20%20%20%20%20%20%20%20%20%5B41.6105983%2C%20-86.7225227%5D%2C%0A%20%20%20%20%20%20%20%20%20%20%20%20%20%20%20%20%7B%7D%0A%20%20%20%20%20%20%20%20%20%20%20%20%29.addTo%28map_1945d0934a8c4394a11efd24f769cfc4%29%3B%0A%20%20%20%20%20%20%20%20%0A%20%20%20%20%0A%20%20%20%20%20%20%20%20var%20popup_b5786fb90a754a7796f48b0cafa28eca%20%3D%20L.popup%28%7B%22maxWidth%22%3A%20%22100%25%22%7D%29%3B%0A%0A%20%20%20%20%20%20%20%20%0A%20%20%20%20%20%20%20%20%20%20%20%20var%20html_e2eb6496281d4e789319d2409be75bb0%20%3D%20%24%28%60%3Cdiv%20id%3D%22html_e2eb6496281d4e789319d2409be75bb0%22%20style%3D%22width%3A%20100.0%25%3B%20height%3A%20100.0%25%3B%22%3EJoshuaMeshackJ2%3A%20People%20seriously%20need%20to%20leave%20Will%20Smith%20alone%20he%20said%20it%20was%20a%20accident%20for%20slapping%20Chris%20rock%20at%20the%20Oscars%20and%E2%80%A6%20https%3A//t.co/ft1zRMZXby%3C/div%3E%60%29%5B0%5D%3B%0A%20%20%20%20%20%20%20%20%20%20%20%20popup_b5786fb90a754a7796f48b0cafa28eca.setContent%28html_e2eb6496281d4e789319d2409be75bb0%29%3B%0A%20%20%20%20%20%20%20%20%0A%0A%20%20%20%20%20%20%20%20marker_81cd6052da434a2fbd82349f5f86bce3.bindPopup%28popup_b5786fb90a754a7796f48b0cafa28eca%29%0A%20%20%20%20%20%20%20%20%3B%0A%0A%20%20%20%20%20%20%20%20%0A%20%20%20%20%0A%20%20%20%20%0A%20%20%20%20%20%20%20%20%20%20%20%20var%20marker_314d0bef074b41479efcb43d83a944ff%20%3D%20L.marker%28%0A%20%20%20%20%20%20%20%20%20%20%20%20%20%20%20%20%5B54.7023545%2C%20-3.2765753%5D%2C%0A%20%20%20%20%20%20%20%20%20%20%20%20%20%20%20%20%7B%7D%0A%20%20%20%20%20%20%20%20%20%20%20%20%29.addTo%28map_1945d0934a8c4394a11efd24f769cfc4%29%3B%0A%20%20%20%20%20%20%20%20%0A%20%20%20%20%0A%20%20%20%20%20%20%20%20var%20popup_cecfc82a47ad40fab0d4cba950d1cf24%20%3D%20L.popup%28%7B%22maxWidth%22%3A%20%22100%25%22%7D%29%3B%0A%0A%20%20%20%20%20%20%20%20%0A%20%20%20%20%20%20%20%20%20%20%20%20var%20html_4728740c66d842ce93e012e5f484dcfd%20%3D%20%24%28%60%3Cdiv%20id%3D%22html_4728740c66d842ce93e012e5f484dcfd%22%20style%3D%22width%3A%20100.0%25%3B%20height%3A%20100.0%25%3B%22%3Easherdgreat%3A%20%40CLTgirl82%20Will%20Smith%20don%26%2339%3Bt%20got%20to%20curse%20in%20his%20records%2C%20well%20I%20do%20so%20fuck%20him%20and%20fuck%20you%20too.%20%20What%20did%20poor%20will%20do%20to%20deserve%20that%20%F0%9F%98%82.%3C/div%3E%60%29%5B0%5D%3B%0A%20%20%20%20%20%20%20%20%20%20%20%20popup_cecfc82a47ad40fab0d4cba950d1cf24.setContent%28html_4728740c66d842ce93e012e5f484dcfd%29%3B%0A%20%20%20%20%20%20%20%20%0A%0A%20%20%20%20%20%20%20%20marker_314d0bef074b41479efcb43d83a944ff.bindPopup%28popup_cecfc82a47ad40fab0d4cba950d1cf24%29%0A%20%20%20%20%20%20%20%20%3B%0A%0A%20%20%20%20%20%20%20%20%0A%20%20%20%20%0A%20%20%20%20%0A%20%20%20%20%20%20%20%20%20%20%20%20var%20marker_b3ab012c19d141f58008410f7e2c1799%20%3D%20L.marker%28%0A%20%20%20%20%20%20%20%20%20%20%20%20%20%20%20%20%5B53.0465068%2C%20-2.9938137%5D%2C%0A%20%20%20%20%20%20%20%20%20%20%20%20%20%20%20%20%7B%7D%0A%20%20%20%20%20%20%20%20%20%20%20%20%29.addTo%28map_1945d0934a8c4394a11efd24f769cfc4%29%3B%0A%20%20%20%20%20%20%20%20%0A%20%20%20%20%0A%20%20%20%20%20%20%20%20var%20popup_e7cf58befd194d8dae57da08fc4b0155%20%3D%20L.popup%28%7B%22maxWidth%22%3A%20%22100%25%22%7D%29%3B%0A%0A%20%20%20%20%20%20%20%20%0A%20%20%20%20%20%20%20%20%20%20%20%20var%20html_0068a1b533654534bfe1084195e7fe94%20%3D%20%24%28%60%3Cdiv%20id%3D%22html_0068a1b533654534bfe1084195e7fe94%22%20style%3D%22width%3A%20100.0%25%3B%20height%3A%20100.0%25%3B%22%3EScott_Roberts89%3A%20Maybe%20Will%20Smith%20was%20right%20to%20slap%20him..%3C/div%3E%60%29%5B0%5D%3B%0A%20%20%20%20%20%20%20%20%20%20%20%20popup_e7cf58befd194d8dae57da08fc4b0155.setContent%28html_0068a1b533654534bfe1084195e7fe94%29%3B%0A%20%20%20%20%20%20%20%20%0A%0A%20%20%20%20%20%20%20%20marker_b3ab012c19d141f58008410f7e2c1799.bindPopup%28popup_e7cf58befd194d8dae57da08fc4b0155%29%0A%20%20%20%20%20%20%20%20%3B%0A%0A%20%20%20%20%20%20%20%20%0A%20%20%20%20%0A%20%20%20%20%0A%20%20%20%20%20%20%20%20%20%20%20%20var%20marker_d9bd249d5621458c9ec9cb2ea7ed9d27%20%3D%20L.marker%28%0A%20%20%20%20%20%20%20%20%20%20%20%20%20%20%20%20%5B7.161%2C%203.348%5D%2C%0A%20%20%20%20%20%20%20%20%20%20%20%20%20%20%20%20%7B%7D%0A%20%20%20%20%20%20%20%20%20%20%20%20%29.addTo%28map_1945d0934a8c4394a11efd24f769cfc4%29%3B%0A%20%20%20%20%20%20%20%20%0A%20%20%20%20%0A%20%20%20%20%20%20%20%20var%20popup_9e7fc6a0a6b7407981d77e43ba05418b%20%3D%20L.popup%28%7B%22maxWidth%22%3A%20%22100%25%22%7D%29%3B%0A%0A%20%20%20%20%20%20%20%20%0A%20%20%20%20%20%20%20%20%20%20%20%20var%20html_c6cbbb4048c6432db59f69ff69482d1f%20%3D%20%24%28%60%3Cdiv%20id%3D%22html_c6cbbb4048c6432db59f69ff69482d1f%22%20style%3D%22width%3A%20100.0%25%3B%20height%3A%20100.0%25%3B%22%3E_theopeyemi%3A%20%40ba_tunde1%20%40Labisiiiii%20%40IamDoctorFood%20Wish%20I%20can%20find%20that%20will%20Smith%20meme%20where%20he%20was%20slapping%20sense%20into%20the%20dud%E2%80%A6%20https%3A//t.co/4p0fOeK6Up%3C/div%3E%60%29%5B0%5D%3B%0A%20%20%20%20%20%20%20%20%20%20%20%20popup_9e7fc6a0a6b7407981d77e43ba05418b.setContent%28html_c6cbbb4048c6432db59f69ff69482d1f%29%3B%0A%20%20%20%20%20%20%20%20%0A%0A%20%20%20%20%20%20%20%20marker_d9bd249d5621458c9ec9cb2ea7ed9d27.bindPopup%28popup_9e7fc6a0a6b7407981d77e43ba05418b%29%0A%20%20%20%20%20%20%20%20%3B%0A%0A%20%20%20%20%20%20%20%20%0A%20%20%20%20%0A%20%20%20%20%0A%20%20%20%20%20%20%20%20%20%20%20%20var%20marker_bd416af3a5d94c898a1f2852ead07df3%20%3D%20L.marker%28%0A%20%20%20%20%20%20%20%20%20%20%20%20%20%20%20%20%5B32.2990384%2C%20-90.1847691%5D%2C%0A%20%20%20%20%20%20%20%20%20%20%20%20%20%20%20%20%7B%7D%0A%20%20%20%20%20%20%20%20%20%20%20%20%29.addTo%28map_1945d0934a8c4394a11efd24f769cfc4%29%3B%0A%20%20%20%20%20%20%20%20%0A%20%20%20%20%0A%20%20%20%20%20%20%20%20var%20popup_f75630d5d7c44767b816c5403f60a829%20%3D%20L.popup%28%7B%22maxWidth%22%3A%20%22100%25%22%7D%29%3B%0A%0A%20%20%20%20%20%20%20%20%0A%20%20%20%20%20%20%20%20%20%20%20%20var%20html_a56c3e98b6b44aeaad75b71508fd4659%20%3D%20%24%28%60%3Cdiv%20id%3D%22html_a56c3e98b6b44aeaad75b71508fd4659%22%20style%3D%22width%3A%20100.0%25%3B%20height%3A%20100.0%25%3B%22%3Ekaylawithouthek%3A%20My%20monthly%20tweet%20about%20how%20will%20smith%26%2339%3Bs%20just%20the%20two%20of%20us%20makes%20me%20sob%20every%20single%20time%3C/div%3E%60%29%5B0%5D%3B%0A%20%20%20%20%20%20%20%20%20%20%20%20popup_f75630d5d7c44767b816c5403f60a829.setContent%28html_a56c3e98b6b44aeaad75b71508fd4659%29%3B%0A%20%20%20%20%20%20%20%20%0A%0A%20%20%20%20%20%20%20%20marker_bd416af3a5d94c898a1f2852ead07df3.bindPopup%28popup_f75630d5d7c44767b816c5403f60a829%29%0A%20%20%20%20%20%20%20%20%3B%0A%0A%20%20%20%20%20%20%20%20%0A%20%20%20%20%0A%20%20%20%20%0A%20%20%20%20%20%20%20%20%20%20%20%20var%20marker_c3afd6a4fa434bb7ba7961210ebd563c%20%3D%20L.marker%28%0A%20%20%20%20%20%20%20%20%20%20%20%20%20%20%20%20%5B39.7837304%2C%20-100.4458825%5D%2C%0A%20%20%20%20%20%20%20%20%20%20%20%20%20%20%20%20%7B%7D%0A%20%20%20%20%20%20%20%20%20%20%20%20%29.addTo%28map_1945d0934a8c4394a11efd24f769cfc4%29%3B%0A%20%20%20%20%20%20%20%20%0A%20%20%20%20%0A%20%20%20%20%20%20%20%20var%20popup_d45f8c0fd3444026b498a11c227395ff%20%3D%20L.popup%28%7B%22maxWidth%22%3A%20%22100%25%22%7D%29%3B%0A%0A%20%20%20%20%20%20%20%20%0A%20%20%20%20%20%20%20%20%20%20%20%20var%20html_ac6ceb5fdb7740288ac53180f3f8ead4%20%3D%20%24%28%60%3Cdiv%20id%3D%22html_ac6ceb5fdb7740288ac53180f3f8ead4%22%20style%3D%22width%3A%20100.0%25%3B%20height%3A%20100.0%25%3B%22%3Elawofthinking%3A%20%40wealth_director%20%26%2334%3BTalent%20you%20have%20naturally.%20Skill%20is%20only%20developed%20by%20hours%20and%20hours%20and%20hours%20of%20beating%20on%20your%20craft.%26%2334%3B%20%20%20~%20Will%20Smith%3C/div%3E%60%29%5B0%5D%3B%0A%20%20%20%20%20%20%20%20%20%20%20%20popup_d45f8c0fd3444026b498a11c227395ff.setContent%28html_ac6ceb5fdb7740288ac53180f3f8ead4%29%3B%0A%20%20%20%20%20%20%20%20%0A%0A%20%20%20%20%20%20%20%20marker_c3afd6a4fa434bb7ba7961210ebd563c.bindPopup%28popup_d45f8c0fd3444026b498a11c227395ff%29%0A%20%20%20%20%20%20%20%20%3B%0A%0A%20%20%20%20%20%20%20%20%0A%20%20%20%20%0A%20%20%20%20%0A%20%20%20%20%20%20%20%20%20%20%20%20var%20marker_9a6ccdbea2f34b5ca7287f112244fc63%20%3D%20L.marker%28%0A%20%20%20%20%20%20%20%20%20%20%20%20%20%20%20%20%5B38.8949549%2C%20-77.0366456%5D%2C%0A%20%20%20%20%20%20%20%20%20%20%20%20%20%20%20%20%7B%7D%0A%20%20%20%20%20%20%20%20%20%20%20%20%29.addTo%28map_1945d0934a8c4394a11efd24f769cfc4%29%3B%0A%20%20%20%20%20%20%20%20%0A%20%20%20%20%0A%20%20%20%20%20%20%20%20var%20popup_2e3f0ec657034457b36d4e8c0b56f1c4%20%3D%20L.popup%28%7B%22maxWidth%22%3A%20%22100%25%22%7D%29%3B%0A%0A%20%20%20%20%20%20%20%20%0A%20%20%20%20%20%20%20%20%20%20%20%20var%20html_61c08714cb6249b78f4d8c3ec0e966c6%20%3D%20%24%28%60%3Cdiv%20id%3D%22html_61c08714cb6249b78f4d8c3ec0e966c6%22%20style%3D%22width%3A%20100.0%25%3B%20height%3A%20100.0%25%3B%22%3EErinMPeyton%3A%20Will%20Smith%20is%20not%20Chris%20Brown%20when%20Chris%20was%20out%20here%20wildin.%20%20This%20Wanda%20bitch%20on%20some%20fuck%20shit%3C/div%3E%60%29%5B0%5D%3B%0A%20%20%20%20%20%20%20%20%20%20%20%20popup_2e3f0ec657034457b36d4e8c0b56f1c4.setContent%28html_61c08714cb6249b78f4d8c3ec0e966c6%29%3B%0A%20%20%20%20%20%20%20%20%0A%0A%20%20%20%20%20%20%20%20marker_9a6ccdbea2f34b5ca7287f112244fc63.bindPopup%28popup_2e3f0ec657034457b36d4e8c0b56f1c4%29%0A%20%20%20%20%20%20%20%20%3B%0A%0A%20%20%20%20%20%20%20%20%0A%20%20%20%20%0A%20%20%20%20%0A%20%20%20%20%20%20%20%20%20%20%20%20var%20marker_f8e12fc605cc495588f5486f6cdd0027%20%3D%20L.marker%28%0A%20%20%20%20%20%20%20%20%20%20%20%20%20%20%20%20%5B34.5402813%2C%20-112.469518%5D%2C%0A%20%20%20%20%20%20%20%20%20%20%20%20%20%20%20%20%7B%7D%0A%20%20%20%20%20%20%20%20%20%20%20%20%29.addTo%28map_1945d0934a8c4394a11efd24f769cfc4%29%3B%0A%20%20%20%20%20%20%20%20%0A%20%20%20%20%0A%20%20%20%20%20%20%20%20var%20popup_2d14d4bc9d2d4b17827f1b7c314417ed%20%3D%20L.popup%28%7B%22maxWidth%22%3A%20%22100%25%22%7D%29%3B%0A%0A%20%20%20%20%20%20%20%20%0A%20%20%20%20%20%20%20%20%20%20%20%20var%20html_8269b198b13641b1bc3865e9c616d6a9%20%3D%20%24%28%60%3Cdiv%20id%3D%22html_8269b198b13641b1bc3865e9c616d6a9%22%20style%3D%22width%3A%20100.0%25%3B%20height%3A%20100.0%25%3B%22%3Emikemalter%3A%20%40WendyRogersAZ%20%40Kathy4Truth%20Free%20speech%20does%20not%20mean%20freedom%20from%20consequences.%20%20You%20supported%20Will%20Smith%20slapping%E2%80%A6%20https%3A//t.co/saZH2g6GGf%3C/div%3E%60%29%5B0%5D%3B%0A%20%20%20%20%20%20%20%20%20%20%20%20popup_2d14d4bc9d2d4b17827f1b7c314417ed.setContent%28html_8269b198b13641b1bc3865e9c616d6a9%29%3B%0A%20%20%20%20%20%20%20%20%0A%0A%20%20%20%20%20%20%20%20marker_f8e12fc605cc495588f5486f6cdd0027.bindPopup%28popup_2d14d4bc9d2d4b17827f1b7c314417ed%29%0A%20%20%20%20%20%20%20%20%3B%0A%0A%20%20%20%20%20%20%20%20%0A%20%20%20%20%0A%20%20%20%20%0A%20%20%20%20%20%20%20%20%20%20%20%20var%20marker_9a66c34ebfa448a9a13b6f81c685e32d%20%3D%20L.marker%28%0A%20%20%20%20%20%20%20%20%20%20%20%20%20%20%20%20%5B-8.4560181%2C%20115.270385511912%5D%2C%0A%20%20%20%20%20%20%20%20%20%20%20%20%20%20%20%20%7B%7D%0A%20%20%20%20%20%20%20%20%20%20%20%20%29.addTo%28map_1945d0934a8c4394a11efd24f769cfc4%29%3B%0A%20%20%20%20%20%20%20%20%0A%20%20%20%20%0A%20%20%20%20%20%20%20%20var%20popup_4a2e9800fd8f45fba743849e9ac60969%20%3D%20L.popup%28%7B%22maxWidth%22%3A%20%22100%25%22%7D%29%3B%0A%0A%20%20%20%20%20%20%20%20%0A%20%20%20%20%20%20%20%20%20%20%20%20var%20html_57588779705a4c219620a971378566e8%20%3D%20%24%28%60%3Cdiv%20id%3D%22html_57588779705a4c219620a971378566e8%22%20style%3D%22width%3A%20100.0%25%3B%20height%3A%20100.0%25%3B%22%3EAyuMegaAndhini%3A%20Will%20Smith%20slapped%20Chris%20Rock%20at%20the%20%40TheAcademy%20is%20pretty%20much%20his%20best%20act%20so%20far%21%20Great%21%20%23willsmithchrisrock%20%23WillSmith%3C/div%3E%60%29%5B0%5D%3B%0A%20%20%20%20%20%20%20%20%20%20%20%20popup_4a2e9800fd8f45fba743849e9ac60969.setContent%28html_57588779705a4c219620a971378566e8%29%3B%0A%20%20%20%20%20%20%20%20%0A%0A%20%20%20%20%20%20%20%20marker_9a66c34ebfa448a9a13b6f81c685e32d.bindPopup%28popup_4a2e9800fd8f45fba743849e9ac60969%29%0A%20%20%20%20%20%20%20%20%3B%0A%0A%20%20%20%20%20%20%20%20%0A%20%20%20%20%0A%20%20%20%20%0A%20%20%20%20%20%20%20%20%20%20%20%20var%20marker_08bee36565624c78b53d0df037c4d540%20%3D%20L.marker%28%0A%20%20%20%20%20%20%20%20%20%20%20%20%20%20%20%20%5B-1.2832533%2C%2036.8172449%5D%2C%0A%20%20%20%20%20%20%20%20%20%20%20%20%20%20%20%20%7B%7D%0A%20%20%20%20%20%20%20%20%20%20%20%20%29.addTo%28map_1945d0934a8c4394a11efd24f769cfc4%29%3B%0A%20%20%20%20%20%20%20%20%0A%20%20%20%20%0A%20%20%20%20%20%20%20%20var%20popup_a63d0542f1d3480c80e770f8e7380387%20%3D%20L.popup%28%7B%22maxWidth%22%3A%20%22100%25%22%7D%29%3B%0A%0A%20%20%20%20%20%20%20%20%0A%20%20%20%20%20%20%20%20%20%20%20%20var%20html_99a03d69f72d4474a5bf365f3d74eaf8%20%3D%20%24%28%60%3Cdiv%20id%3D%22html_99a03d69f72d4474a5bf365f3d74eaf8%22%20style%3D%22width%3A%20100.0%25%3B%20height%3A%20100.0%25%3B%22%3Ejustgacheru%3A%20I%20wanna%20direct%20Will%20Smith%20in%20a%20movie%20one%20day%3C/div%3E%60%29%5B0%5D%3B%0A%20%20%20%20%20%20%20%20%20%20%20%20popup_a63d0542f1d3480c80e770f8e7380387.setContent%28html_99a03d69f72d4474a5bf365f3d74eaf8%29%3B%0A%20%20%20%20%20%20%20%20%0A%0A%20%20%20%20%20%20%20%20marker_08bee36565624c78b53d0df037c4d540.bindPopup%28popup_a63d0542f1d3480c80e770f8e7380387%29%0A%20%20%20%20%20%20%20%20%3B%0A%0A%20%20%20%20%20%20%20%20%0A%20%20%20%20%0A%20%20%20%20%0A%20%20%20%20%20%20%20%20%20%20%20%20var%20marker_34b594d301424cc5a449aa196cfd7390%20%3D%20L.marker%28%0A%20%20%20%20%20%20%20%20%20%20%20%20%20%20%20%20%5B51.4481993%2C%205.4564811%5D%2C%0A%20%20%20%20%20%20%20%20%20%20%20%20%20%20%20%20%7B%7D%0A%20%20%20%20%20%20%20%20%20%20%20%20%29.addTo%28map_1945d0934a8c4394a11efd24f769cfc4%29%3B%0A%20%20%20%20%20%20%20%20%0A%20%20%20%20%0A%20%20%20%20%20%20%20%20var%20popup_5dc3688a980f4591bae2c66d42008b19%20%3D%20L.popup%28%7B%22maxWidth%22%3A%20%22100%25%22%7D%29%3B%0A%0A%20%20%20%20%20%20%20%20%0A%20%20%20%20%20%20%20%20%20%20%20%20var%20html_2bbf509666634205bdf043c73735c79a%20%3D%20%24%28%60%3Cdiv%20id%3D%22html_2bbf509666634205bdf043c73735c79a%22%20style%3D%22width%3A%20100.0%25%3B%20height%3A%20100.0%25%3B%22%3Efunnyfuturist%3A%20Q%3A%20WHO%20SUCKS%20MORE%20AMBER%20HEARD%20OR%20WILL%20SMITH%3F%20%20%23amberheard%20%23willsmith%20%23willsmithslap%20%23johnnydepp%20%23kevinspacey%E2%80%A6%20https%3A//t.co/xPplM4PEoi%3C/div%3E%60%29%5B0%5D%3B%0A%20%20%20%20%20%20%20%20%20%20%20%20popup_5dc3688a980f4591bae2c66d42008b19.setContent%28html_2bbf509666634205bdf043c73735c79a%29%3B%0A%20%20%20%20%20%20%20%20%0A%0A%20%20%20%20%20%20%20%20marker_34b594d301424cc5a449aa196cfd7390.bindPopup%28popup_5dc3688a980f4591bae2c66d42008b19%29%0A%20%20%20%20%20%20%20%20%3B%0A%0A%20%20%20%20%20%20%20%20%0A%20%20%20%20%0A%20%20%20%20%0A%20%20%20%20%20%20%20%20%20%20%20%20var%20marker_1ab784e79bf5408eb6bff54e52244985%20%3D%20L.marker%28%0A%20%20%20%20%20%20%20%20%20%20%20%20%20%20%20%20%5B39.7837304%2C%20-100.4458825%5D%2C%0A%20%20%20%20%20%20%20%20%20%20%20%20%20%20%20%20%7B%7D%0A%20%20%20%20%20%20%20%20%20%20%20%20%29.addTo%28map_1945d0934a8c4394a11efd24f769cfc4%29%3B%0A%20%20%20%20%20%20%20%20%0A%20%20%20%20%0A%20%20%20%20%20%20%20%20var%20popup_8f18c26ba4674c45939cd582f48e324d%20%3D%20L.popup%28%7B%22maxWidth%22%3A%20%22100%25%22%7D%29%3B%0A%0A%20%20%20%20%20%20%20%20%0A%20%20%20%20%20%20%20%20%20%20%20%20var%20html_3e989e5522ba404ca483ef66020a7c39%20%3D%20%24%28%60%3Cdiv%20id%3D%22html_3e989e5522ba404ca483ef66020a7c39%22%20style%3D%22width%3A%20100.0%25%3B%20height%3A%20100.0%25%3B%22%3EBryanthedude98%3A%20%40PopCrave%20I%20don%26%2339%3Bt%20approve%20of%20what%20will%20smith%20did.%20Pretty%20lame%20move%20but%20traumatized...come%20on%20now%20let%26%2339%3Bs%20move%20on%20from%E2%80%A6%20https%3A//t.co/o9nxOtzScI%3C/div%3E%60%29%5B0%5D%3B%0A%20%20%20%20%20%20%20%20%20%20%20%20popup_8f18c26ba4674c45939cd582f48e324d.setContent%28html_3e989e5522ba404ca483ef66020a7c39%29%3B%0A%20%20%20%20%20%20%20%20%0A%0A%20%20%20%20%20%20%20%20marker_1ab784e79bf5408eb6bff54e52244985.bindPopup%28popup_8f18c26ba4674c45939cd582f48e324d%29%0A%20%20%20%20%20%20%20%20%3B%0A%0A%20%20%20%20%20%20%20%20%0A%20%20%20%20%0A%20%20%20%20%0A%20%20%20%20%20%20%20%20%20%20%20%20var%20marker_7346b8a184724c3cacf46f3510f5ee4b%20%3D%20L.marker%28%0A%20%20%20%20%20%20%20%20%20%20%20%20%20%20%20%20%5B10.3401377%2C%20-9.1816279%5D%2C%0A%20%20%20%20%20%20%20%20%20%20%20%20%20%20%20%20%7B%7D%0A%20%20%20%20%20%20%20%20%20%20%20%20%29.addTo%28map_1945d0934a8c4394a11efd24f769cfc4%29%3B%0A%20%20%20%20%20%20%20%20%0A%20%20%20%20%0A%20%20%20%20%20%20%20%20var%20popup_977e61d058134665ac0f320f16191542%20%3D%20L.popup%28%7B%22maxWidth%22%3A%20%22100%25%22%7D%29%3B%0A%0A%20%20%20%20%20%20%20%20%0A%20%20%20%20%20%20%20%20%20%20%20%20var%20html_d814f05965524f75b66412062f1b2296%20%3D%20%24%28%60%3Cdiv%20id%3D%22html_d814f05965524f75b66412062f1b2296%22%20style%3D%22width%3A%20100.0%25%3B%20height%3A%20100.0%25%3B%22%3Ejabbarrants%3A%20Traumatized%3F%20%20Was%20it%20a%20shootout%20that%20happened%3F%20Or%20will%20smith%20beat%20up%20Chris%20rock%20and%20broke%20his%20bones%20while%20chris%20scr%E2%80%A6%20https%3A//t.co/lwDvYjjgDl%3C/div%3E%60%29%5B0%5D%3B%0A%20%20%20%20%20%20%20%20%20%20%20%20popup_977e61d058134665ac0f320f16191542.setContent%28html_d814f05965524f75b66412062f1b2296%29%3B%0A%20%20%20%20%20%20%20%20%0A%0A%20%20%20%20%20%20%20%20marker_7346b8a184724c3cacf46f3510f5ee4b.bindPopup%28popup_977e61d058134665ac0f320f16191542%29%0A%20%20%20%20%20%20%20%20%3B%0A%0A%20%20%20%20%20%20%20%20%0A%20%20%20%20%0A%20%20%20%20%0A%20%20%20%20%20%20%20%20%20%20%20%20var%20marker_182a79fa40b645ed9c6a5e7ffec08528%20%3D%20L.marker%28%0A%20%20%20%20%20%20%20%20%20%20%20%20%20%20%20%20%5B30.3321838%2C%20-81.655651%5D%2C%0A%20%20%20%20%20%20%20%20%20%20%20%20%20%20%20%20%7B%7D%0A%20%20%20%20%20%20%20%20%20%20%20%20%29.addTo%28map_1945d0934a8c4394a11efd24f769cfc4%29%3B%0A%20%20%20%20%20%20%20%20%0A%20%20%20%20%0A%20%20%20%20%20%20%20%20var%20popup_84a7e611d83f4ec2b418da38c035f21c%20%3D%20L.popup%28%7B%22maxWidth%22%3A%20%22100%25%22%7D%29%3B%0A%0A%20%20%20%20%20%20%20%20%0A%20%20%20%20%20%20%20%20%20%20%20%20var%20html_a4278c9d164a4c128562ab923e016046%20%3D%20%24%28%60%3Cdiv%20id%3D%22html_a4278c9d164a4c128562ab923e016046%22%20style%3D%22width%3A%20100.0%25%3B%20height%3A%20100.0%25%3B%22%3Enakiafleming654%3A%20Chris%20Rock%20Jokes%20About%20Will%20Smith%26%2339%3Bs%20Oscars%20Slap%20During%20Standup%20Set%3A%20%26%2339%3BGot%20Most%20of%20My%20Hear...https%3A//t.co/cLYd3zmhIw%3C/div%3E%60%29%5B0%5D%3B%0A%20%20%20%20%20%20%20%20%20%20%20%20popup_84a7e611d83f4ec2b418da38c035f21c.setContent%28html_a4278c9d164a4c128562ab923e016046%29%3B%0A%20%20%20%20%20%20%20%20%0A%0A%20%20%20%20%20%20%20%20marker_182a79fa40b645ed9c6a5e7ffec08528.bindPopup%28popup_84a7e611d83f4ec2b418da38c035f21c%29%0A%20%20%20%20%20%20%20%20%3B%0A%0A%20%20%20%20%20%20%20%20%0A%20%20%20%20%0A%20%20%20%20%0A%20%20%20%20%20%20%20%20%20%20%20%20var%20marker_cd703e920a0a4b6892a4a72c338f07d0%20%3D%20L.marker%28%0A%20%20%20%20%20%20%20%20%20%20%20%20%20%20%20%20%5B53.0644651%2C%2026.6380477%5D%2C%0A%20%20%20%20%20%20%20%20%20%20%20%20%20%20%20%20%7B%7D%0A%20%20%20%20%20%20%20%20%20%20%20%20%29.addTo%28map_1945d0934a8c4394a11efd24f769cfc4%29%3B%0A%20%20%20%20%20%20%20%20%0A%20%20%20%20%0A%20%20%20%20%20%20%20%20var%20popup_5068befff5fb4ab0b4c3e25a181dbecf%20%3D%20L.popup%28%7B%22maxWidth%22%3A%20%22100%25%22%7D%29%3B%0A%0A%20%20%20%20%20%20%20%20%0A%20%20%20%20%20%20%20%20%20%20%20%20var%20html_e68f2d2df5af4895ab78f2cc0dac524a%20%3D%20%24%28%60%3Cdiv%20id%3D%22html_e68f2d2df5af4895ab78f2cc0dac524a%22%20style%3D%22width%3A%20100.0%25%3B%20height%3A%20100.0%25%3B%22%3Ekidhottakes%3A%20New%20Disney%2B%20show%20features%20Cassie%20Lang%20%20played%20by%20Will%20Smith%3C/div%3E%60%29%5B0%5D%3B%0A%20%20%20%20%20%20%20%20%20%20%20%20popup_5068befff5fb4ab0b4c3e25a181dbecf.setContent%28html_e68f2d2df5af4895ab78f2cc0dac524a%29%3B%0A%20%20%20%20%20%20%20%20%0A%0A%20%20%20%20%20%20%20%20marker_cd703e920a0a4b6892a4a72c338f07d0.bindPopup%28popup_5068befff5fb4ab0b4c3e25a181dbecf%29%0A%20%20%20%20%20%20%20%20%3B%0A%0A%20%20%20%20%20%20%20%20%0A%20%20%20%20%0A%20%20%20%20%0A%20%20%20%20%20%20%20%20%20%20%20%20var%20marker_e1d2ff449aad4e0189cc3fe8ccc27d5f%20%3D%20L.marker%28%0A%20%20%20%20%20%20%20%20%20%20%20%20%20%20%20%20%5B27.7567667%2C%20-81.4639835%5D%2C%0A%20%20%20%20%20%20%20%20%20%20%20%20%20%20%20%20%7B%7D%0A%20%20%20%20%20%20%20%20%20%20%20%20%29.addTo%28map_1945d0934a8c4394a11efd24f769cfc4%29%3B%0A%20%20%20%20%20%20%20%20%0A%20%20%20%20%0A%20%20%20%20%20%20%20%20var%20popup_0faaa26c1c6e405cbea4ce98fe482e1b%20%3D%20L.popup%28%7B%22maxWidth%22%3A%20%22100%25%22%7D%29%3B%0A%0A%20%20%20%20%20%20%20%20%0A%20%20%20%20%20%20%20%20%20%20%20%20var%20html_4af0565e065941d884ab858a1740a74d%20%3D%20%24%28%60%3Cdiv%20id%3D%22html_4af0565e065941d884ab858a1740a74d%22%20style%3D%22width%3A%20100.0%25%3B%20height%3A%20100.0%25%3B%22%3Emetalrockmusic2%3A%20R.I.P.%20Trevor%20Strnad%2C%20Will%20Smith%20on%20Ozzfest%2C%20and%20More%20of%20the%20Top%20Stories%20of%20the%20Week%20%20Truly%20the%20worst%20week%20ever.%20The%20post%20R.I.P.%20Trevor%3C/div%3E%60%29%5B0%5D%3B%0A%20%20%20%20%20%20%20%20%20%20%20%20popup_0faaa26c1c6e405cbea4ce98fe482e1b.setContent%28html_4af0565e065941d884ab858a1740a74d%29%3B%0A%20%20%20%20%20%20%20%20%0A%0A%20%20%20%20%20%20%20%20marker_e1d2ff449aad4e0189cc3fe8ccc27d5f.bindPopup%28popup_0faaa26c1c6e405cbea4ce98fe482e1b%29%0A%20%20%20%20%20%20%20%20%3B%0A%0A%20%20%20%20%20%20%20%20%0A%20%20%20%20%0A%20%20%20%20%0A%20%20%20%20%20%20%20%20%20%20%20%20var%20marker_8872517442574d42b6cc77f260c809e4%20%3D%20L.marker%28%0A%20%20%20%20%20%20%20%20%20%20%20%20%20%20%20%20%5B40.7306458%2C%20-73.9866136%5D%2C%0A%20%20%20%20%20%20%20%20%20%20%20%20%20%20%20%20%7B%7D%0A%20%20%20%20%20%20%20%20%20%20%20%20%29.addTo%28map_1945d0934a8c4394a11efd24f769cfc4%29%3B%0A%20%20%20%20%20%20%20%20%0A%20%20%20%20%0A%20%20%20%20%20%20%20%20var%20popup_282af22beb874dcb9c722a9dcfe46369%20%3D%20L.popup%28%7B%22maxWidth%22%3A%20%22100%25%22%7D%29%3B%0A%0A%20%20%20%20%20%20%20%20%0A%20%20%20%20%20%20%20%20%20%20%20%20var%20html_13c0edec54c64a52b216ef97e79a7cdf%20%3D%20%24%28%60%3Cdiv%20id%3D%22html_13c0edec54c64a52b216ef97e79a7cdf%22%20style%3D%22width%3A%20100.0%25%3B%20height%3A%20100.0%25%3B%22%3Emetalsucks%3A%20R.I.P.%20Trevor%20Strnad%2C%20Will%20Smith%20on%20Ozzfest%2C%20and%20More%20of%20the%20Top%20Stories%20of%20the%C2%A0Week%20https%3A//t.co/cmbhk6OhDQ%3C/div%3E%60%29%5B0%5D%3B%0A%20%20%20%20%20%20%20%20%20%20%20%20popup_282af22beb874dcb9c722a9dcfe46369.setContent%28html_13c0edec54c64a52b216ef97e79a7cdf%29%3B%0A%20%20%20%20%20%20%20%20%0A%0A%20%20%20%20%20%20%20%20marker_8872517442574d42b6cc77f260c809e4.bindPopup%28popup_282af22beb874dcb9c722a9dcfe46369%29%0A%20%20%20%20%20%20%20%20%3B%0A%0A%20%20%20%20%20%20%20%20%0A%20%20%20%20%0A%20%20%20%20%0A%20%20%20%20%20%20%20%20%20%20%20%20var%20marker_fbf96780229840ab8a5b3e141ec79c91%20%3D%20L.marker%28%0A%20%20%20%20%20%20%20%20%20%20%20%20%20%20%20%20%5B-33.0191604%2C%2027.8998573%5D%2C%0A%20%20%20%20%20%20%20%20%20%20%20%20%20%20%20%20%7B%7D%0A%20%20%20%20%20%20%20%20%20%20%20%20%29.addTo%28map_1945d0934a8c4394a11efd24f769cfc4%29%3B%0A%20%20%20%20%20%20%20%20%0A%20%20%20%20%0A%20%20%20%20%20%20%20%20var%20popup_6c53da9ae48d4abd943077cd9d3def3a%20%3D%20L.popup%28%7B%22maxWidth%22%3A%20%22100%25%22%7D%29%3B%0A%0A%20%20%20%20%20%20%20%20%0A%20%20%20%20%20%20%20%20%20%20%20%20var%20html_72cbe348ce9d42c9a17382c7f4232699%20%3D%20%24%28%60%3Cdiv%20id%3D%22html_72cbe348ce9d42c9a17382c7f4232699%22%20style%3D%22width%3A%20100.0%25%3B%20height%3A%20100.0%25%3B%22%3Emlovu_yongama%3A%20%40iamsoloh_s%20%40ReeceCentre%20Will%20Smith%20and%20Jaden%20Smith%20are%20two%20different%20people%3C/div%3E%60%29%5B0%5D%3B%0A%20%20%20%20%20%20%20%20%20%20%20%20popup_6c53da9ae48d4abd943077cd9d3def3a.setContent%28html_72cbe348ce9d42c9a17382c7f4232699%29%3B%0A%20%20%20%20%20%20%20%20%0A%0A%20%20%20%20%20%20%20%20marker_fbf96780229840ab8a5b3e141ec79c91.bindPopup%28popup_6c53da9ae48d4abd943077cd9d3def3a%29%0A%20%20%20%20%20%20%20%20%3B%0A%0A%20%20%20%20%20%20%20%20%0A%20%20%20%20%0A%20%20%20%20%0A%20%20%20%20%20%20%20%20%20%20%20%20var%20marker_6cc0c3b62f9d4361be4d2432c8c967eb%20%3D%20L.marker%28%0A%20%20%20%20%20%20%20%20%20%20%20%20%20%20%20%20%5B34.708413%2C%20135.510632%5D%2C%0A%20%20%20%20%20%20%20%20%20%20%20%20%20%20%20%20%7B%7D%0A%20%20%20%20%20%20%20%20%20%20%20%20%29.addTo%28map_1945d0934a8c4394a11efd24f769cfc4%29%3B%0A%20%20%20%20%20%20%20%20%0A%20%20%20%20%0A%20%20%20%20%20%20%20%20var%20popup_78a0125eab7448c1a0757f7ec428a96e%20%3D%20L.popup%28%7B%22maxWidth%22%3A%20%22100%25%22%7D%29%3B%0A%0A%20%20%20%20%20%20%20%20%0A%20%20%20%20%20%20%20%20%20%20%20%20var%20html_63625e577a624fea9cb7a047b2095f7f%20%3D%20%24%28%60%3Cdiv%20id%3D%22html_63625e577a624fea9cb7a047b2095f7f%22%20style%3D%22width%3A%20100.0%25%3B%20height%3A%20100.0%25%3B%22%3EKushKid__%3A%20I%20hate%20when%20our%20age%20group%20act%20like%202000-present%20is%20the%20only%20era%20with%20wack%20rappers%20lol%20%20Didn%E2%80%99t%20Will%20Smith%20drop%20a%20album%20in%20the%2090%E2%80%99s%3F%20Stop%20it%3C/div%3E%60%29%5B0%5D%3B%0A%20%20%20%20%20%20%20%20%20%20%20%20popup_78a0125eab7448c1a0757f7ec428a96e.setContent%28html_63625e577a624fea9cb7a047b2095f7f%29%3B%0A%20%20%20%20%20%20%20%20%0A%0A%20%20%20%20%20%20%20%20marker_6cc0c3b62f9d4361be4d2432c8c967eb.bindPopup%28popup_78a0125eab7448c1a0757f7ec428a96e%29%0A%20%20%20%20%20%20%20%20%3B%0A%0A%20%20%20%20%20%20%20%20%0A%20%20%20%20%0A%20%20%20%20%0A%20%20%20%20%20%20%20%20%20%20%20%20var%20marker_850d0b5dcc474c7692b33d60918cdb4b%20%3D%20L.marker%28%0A%20%20%20%20%20%20%20%20%20%20%20%20%20%20%20%20%5B32.9481789%2C%20-96.7297206%5D%2C%0A%20%20%20%20%20%20%20%20%20%20%20%20%20%20%20%20%7B%7D%0A%20%20%20%20%20%20%20%20%20%20%20%20%29.addTo%28map_1945d0934a8c4394a11efd24f769cfc4%29%3B%0A%20%20%20%20%20%20%20%20%0A%20%20%20%20%0A%20%20%20%20%20%20%20%20var%20popup_9834fa9497c143278317256f44de0b38%20%3D%20L.popup%28%7B%22maxWidth%22%3A%20%22100%25%22%7D%29%3B%0A%0A%20%20%20%20%20%20%20%20%0A%20%20%20%20%20%20%20%20%20%20%20%20var%20html_a9b59e8d436f4b7fb32ed74c14ffae99%20%3D%20%24%28%60%3Cdiv%20id%3D%22html_a9b59e8d436f4b7fb32ed74c14ffae99%22%20style%3D%22width%3A%20100.0%25%3B%20height%3A%20100.0%25%3B%22%3Enbascribectx%3A%20%E2%81%A6%40IAmSteveHarvey%E2%81%A9%2C%20Wanda%20Sykes%20and%20other%20black%20Hollywood%20royalty%20are%20quietly%20cancelling%20Will%20Smith.%20And%20Black%20Ameri%E2%80%A6%20https%3A//t.co/glk2Wa4Uq3%3C/div%3E%60%29%5B0%5D%3B%0A%20%20%20%20%20%20%20%20%20%20%20%20popup_9834fa9497c143278317256f44de0b38.setContent%28html_a9b59e8d436f4b7fb32ed74c14ffae99%29%3B%0A%20%20%20%20%20%20%20%20%0A%0A%20%20%20%20%20%20%20%20marker_850d0b5dcc474c7692b33d60918cdb4b.bindPopup%28popup_9834fa9497c143278317256f44de0b38%29%0A%20%20%20%20%20%20%20%20%3B%0A%0A%20%20%20%20%20%20%20%20%0A%20%20%20%20%0A%20%20%20%20%0A%20%20%20%20%20%20%20%20%20%20%20%20var%20marker_d85898176cd74258974004473798b353%20%3D%20L.marker%28%0A%20%20%20%20%20%20%20%20%20%20%20%20%20%20%20%20%5B29.8635777%2C%20118.4101129%5D%2C%0A%20%20%20%20%20%20%20%20%20%20%20%20%20%20%20%20%7B%7D%0A%20%20%20%20%20%20%20%20%20%20%20%20%29.addTo%28map_1945d0934a8c4394a11efd24f769cfc4%29%3B%0A%20%20%20%20%20%20%20%20%0A%20%20%20%20%0A%20%20%20%20%20%20%20%20var%20popup_41a695a3369f4ccebd8359dfa732845f%20%3D%20L.popup%28%7B%22maxWidth%22%3A%20%22100%25%22%7D%29%3B%0A%0A%20%20%20%20%20%20%20%20%0A%20%20%20%20%20%20%20%20%20%20%20%20var%20html_87da403884dc49f98e4efc620035a4ea%20%3D%20%24%28%60%3Cdiv%20id%3D%22html_87da403884dc49f98e4efc620035a4ea%22%20style%3D%22width%3A%20100.0%25%3B%20height%3A%20100.0%25%3B%22%3Eritaj_twt%3A%20BOOO%20shes%20acting%20like%20will%20smith%20killed%20chris%20rock%20or%20something%3C/div%3E%60%29%5B0%5D%3B%0A%20%20%20%20%20%20%20%20%20%20%20%20popup_41a695a3369f4ccebd8359dfa732845f.setContent%28html_87da403884dc49f98e4efc620035a4ea%29%3B%0A%20%20%20%20%20%20%20%20%0A%0A%20%20%20%20%20%20%20%20marker_d85898176cd74258974004473798b353.bindPopup%28popup_41a695a3369f4ccebd8359dfa732845f%29%0A%20%20%20%20%20%20%20%20%3B%0A%0A%20%20%20%20%20%20%20%20%0A%20%20%20%20%0A%20%20%20%20%0A%20%20%20%20%20%20%20%20%20%20%20%20var%20marker_6794c61e70cf4320b9ff41ffc845a2c4%20%3D%20L.marker%28%0A%20%20%20%20%20%20%20%20%20%20%20%20%20%20%20%20%5B42.3602534%2C%20-71.0582912%5D%2C%0A%20%20%20%20%20%20%20%20%20%20%20%20%20%20%20%20%7B%7D%0A%20%20%20%20%20%20%20%20%20%20%20%20%29.addTo%28map_1945d0934a8c4394a11efd24f769cfc4%29%3B%0A%20%20%20%20%20%20%20%20%0A%20%20%20%20%0A%20%20%20%20%20%20%20%20var%20popup_689bac4649104b02807fd6aade06bbd2%20%3D%20L.popup%28%7B%22maxWidth%22%3A%20%22100%25%22%7D%29%3B%0A%0A%20%20%20%20%20%20%20%20%0A%20%20%20%20%20%20%20%20%20%20%20%20var%20html_9e98dac83a08406ea7d8bfd1a883d476%20%3D%20%24%28%60%3Cdiv%20id%3D%22html_9e98dac83a08406ea7d8bfd1a883d476%22%20style%3D%22width%3A%20100.0%25%3B%20height%3A%20100.0%25%3B%22%3Ecacabware%3A%20You%20can%20do%20anything%2C%20but%20never%20go%20against%20the%20family.%20%20%20A%20blessed%20weekend%20to%20all%20my%20fellow%20will%20smith%20respecters.%20https%3A//t.co/iLNxWv51Oj%3C/div%3E%60%29%5B0%5D%3B%0A%20%20%20%20%20%20%20%20%20%20%20%20popup_689bac4649104b02807fd6aade06bbd2.setContent%28html_9e98dac83a08406ea7d8bfd1a883d476%29%3B%0A%20%20%20%20%20%20%20%20%0A%0A%20%20%20%20%20%20%20%20marker_6794c61e70cf4320b9ff41ffc845a2c4.bindPopup%28popup_689bac4649104b02807fd6aade06bbd2%29%0A%20%20%20%20%20%20%20%20%3B%0A%0A%20%20%20%20%20%20%20%20%0A%20%20%20%20%0A%20%20%20%20%0A%20%20%20%20%20%20%20%20%20%20%20%20var%20marker_941d8a681d374b638ac1f4df9c3e3822%20%3D%20L.marker%28%0A%20%20%20%20%20%20%20%20%20%20%20%20%20%20%20%20%5B51.5073219%2C%20-0.1276474%5D%2C%0A%20%20%20%20%20%20%20%20%20%20%20%20%20%20%20%20%7B%7D%0A%20%20%20%20%20%20%20%20%20%20%20%20%29.addTo%28map_1945d0934a8c4394a11efd24f769cfc4%29%3B%0A%20%20%20%20%20%20%20%20%0A%20%20%20%20%0A%20%20%20%20%20%20%20%20var%20popup_8a4c052a297d494e98d8a69111da557d%20%3D%20L.popup%28%7B%22maxWidth%22%3A%20%22100%25%22%7D%29%3B%0A%0A%20%20%20%20%20%20%20%20%0A%20%20%20%20%20%20%20%20%20%20%20%20var%20html_907e4f224679485390b86e92db797e61%20%3D%20%24%28%60%3Cdiv%20id%3D%22html_907e4f224679485390b86e92db797e61%22%20style%3D%22width%3A%20100.0%25%3B%20height%3A%20100.0%25%3B%22%3EwhooUlooking4%3A%20Sorry%20but%20Kendrick%20as%20Kanye%20was%20hilarious%21%20%20On%20the%20other%20hand..%20the%20will%20smith%20face%20was%20Apt%21%3C/div%3E%60%29%5B0%5D%3B%0A%20%20%20%20%20%20%20%20%20%20%20%20popup_8a4c052a297d494e98d8a69111da557d.setContent%28html_907e4f224679485390b86e92db797e61%29%3B%0A%20%20%20%20%20%20%20%20%0A%0A%20%20%20%20%20%20%20%20marker_941d8a681d374b638ac1f4df9c3e3822.bindPopup%28popup_8a4c052a297d494e98d8a69111da557d%29%0A%20%20%20%20%20%20%20%20%3B%0A%0A%20%20%20%20%20%20%20%20%0A%20%20%20%20%0A%20%20%20%20%0A%20%20%20%20%20%20%20%20%20%20%20%20var%20marker_6a2fa4b376814ebf88a2506183d9fa4c%20%3D%20L.marker%28%0A%20%20%20%20%20%20%20%20%20%20%20%20%20%20%20%20%5B34.2331373%2C%20-102.4107493%5D%2C%0A%20%20%20%20%20%20%20%20%20%20%20%20%20%20%20%20%7B%7D%0A%20%20%20%20%20%20%20%20%20%20%20%20%29.addTo%28map_1945d0934a8c4394a11efd24f769cfc4%29%3B%0A%20%20%20%20%20%20%20%20%0A%20%20%20%20%0A%20%20%20%20%20%20%20%20var%20popup_d9ffae3702844a41845b4b65e75aa3a1%20%3D%20L.popup%28%7B%22maxWidth%22%3A%20%22100%25%22%7D%29%3B%0A%0A%20%20%20%20%20%20%20%20%0A%20%20%20%20%20%20%20%20%20%20%20%20var%20html_2ab6308ddc4f45d78bb5013d215f1fa0%20%3D%20%24%28%60%3Cdiv%20id%3D%22html_2ab6308ddc4f45d78bb5013d215f1fa0%22%20style%3D%22width%3A%20100.0%25%3B%20height%3A%20100.0%25%3B%22%3ETomJohn15394888%3A%20%40Madisontx76%20Independence%20Day%20with%20Will%20Smith.%3C/div%3E%60%29%5B0%5D%3B%0A%20%20%20%20%20%20%20%20%20%20%20%20popup_d9ffae3702844a41845b4b65e75aa3a1.setContent%28html_2ab6308ddc4f45d78bb5013d215f1fa0%29%3B%0A%20%20%20%20%20%20%20%20%0A%0A%20%20%20%20%20%20%20%20marker_6a2fa4b376814ebf88a2506183d9fa4c.bindPopup%28popup_d9ffae3702844a41845b4b65e75aa3a1%29%0A%20%20%20%20%20%20%20%20%3B%0A%0A%20%20%20%20%20%20%20%20%0A%20%20%20%20%0A%20%20%20%20%0A%20%20%20%20%20%20%20%20%20%20%20%20var%20marker_bcb7a2faf37b42b1bffabfc3025ce0c5%20%3D%20L.marker%28%0A%20%20%20%20%20%20%20%20%20%20%20%20%20%20%20%20%5B19.5584043%2C%20-99.0277414%5D%2C%0A%20%20%20%20%20%20%20%20%20%20%20%20%20%20%20%20%7B%7D%0A%20%20%20%20%20%20%20%20%20%20%20%20%29.addTo%28map_1945d0934a8c4394a11efd24f769cfc4%29%3B%0A%20%20%20%20%20%20%20%20%0A%20%20%20%20%0A%20%20%20%20%20%20%20%20var%20popup_f7b654a0e36644a49c2bffa90426cecf%20%3D%20L.popup%28%7B%22maxWidth%22%3A%20%22100%25%22%7D%29%3B%0A%0A%20%20%20%20%20%20%20%20%0A%20%20%20%20%20%20%20%20%20%20%20%20var%20html_aac20614546342ae84de363997b1e5d6%20%3D%20%24%28%60%3Cdiv%20id%3D%22html_aac20614546342ae84de363997b1e5d6%22%20style%3D%22width%3A%20100.0%25%3B%20height%3A%20100.0%25%3B%22%3EMaxLechner2%3A%20Will%20Smith%20Just%20Shared%20His%20Weight-Loss%20Progress%20In%20New%20Video%20Post%20%20%23diet%20%23weightloss%20%23celebrityweightloss%20%23news%E2%80%A6%20https%3A//t.co/7zpJSt2Gu8%3C/div%3E%60%29%5B0%5D%3B%0A%20%20%20%20%20%20%20%20%20%20%20%20popup_f7b654a0e36644a49c2bffa90426cecf.setContent%28html_aac20614546342ae84de363997b1e5d6%29%3B%0A%20%20%20%20%20%20%20%20%0A%0A%20%20%20%20%20%20%20%20marker_bcb7a2faf37b42b1bffabfc3025ce0c5.bindPopup%28popup_f7b654a0e36644a49c2bffa90426cecf%29%0A%20%20%20%20%20%20%20%20%3B%0A%0A%20%20%20%20%20%20%20%20%0A%20%20%20%20%0A%20%20%20%20%0A%20%20%20%20%20%20%20%20%20%20%20%20var%20marker_0e455b6f7ab74694a744497235048b19%20%3D%20L.marker%28%0A%20%20%20%20%20%20%20%20%20%20%20%20%20%20%20%20%5B-31.9527121%2C%20115.8604796%5D%2C%0A%20%20%20%20%20%20%20%20%20%20%20%20%20%20%20%20%7B%7D%0A%20%20%20%20%20%20%20%20%20%20%20%20%29.addTo%28map_1945d0934a8c4394a11efd24f769cfc4%29%3B%0A%20%20%20%20%20%20%20%20%0A%20%20%20%20%0A%20%20%20%20%20%20%20%20var%20popup_9118aef2153f4173a76d04d887bd67ac%20%3D%20L.popup%28%7B%22maxWidth%22%3A%20%22100%25%22%7D%29%3B%0A%0A%20%20%20%20%20%20%20%20%0A%20%20%20%20%20%20%20%20%20%20%20%20var%20html_0f27ba399ff04482b08f8dc5a6e9b727%20%3D%20%24%28%60%3Cdiv%20id%3D%22html_0f27ba399ff04482b08f8dc5a6e9b727%22%20style%3D%22width%3A%20100.0%25%3B%20height%3A%20100.0%25%3B%22%3EkLeb_stonehands%3A%20Will%20Smith%20does%20one%20thing%20arguably%20wrong%20and%20it%20gets%20taken%20to%20the%20next%20level%20These%20over%20reaction%20articles%20that%20have%E2%80%A6%20https%3A//t.co/egxiLcwPkO%3C/div%3E%60%29%5B0%5D%3B%0A%20%20%20%20%20%20%20%20%20%20%20%20popup_9118aef2153f4173a76d04d887bd67ac.setContent%28html_0f27ba399ff04482b08f8dc5a6e9b727%29%3B%0A%20%20%20%20%20%20%20%20%0A%0A%20%20%20%20%20%20%20%20marker_0e455b6f7ab74694a744497235048b19.bindPopup%28popup_9118aef2153f4173a76d04d887bd67ac%29%0A%20%20%20%20%20%20%20%20%3B%0A%0A%20%20%20%20%20%20%20%20%0A%20%20%20%20%0A%20%20%20%20%0A%20%20%20%20%20%20%20%20%20%20%20%20var%20marker_4beb82b197bc4dbc9a6a8f04f64c90bb%20%3D%20L.marker%28%0A%20%20%20%20%20%20%20%20%20%20%20%20%20%20%20%20%5B52.1366141%2C%20-0.4694972%5D%2C%0A%20%20%20%20%20%20%20%20%20%20%20%20%20%20%20%20%7B%7D%0A%20%20%20%20%20%20%20%20%20%20%20%20%29.addTo%28map_1945d0934a8c4394a11efd24f769cfc4%29%3B%0A%20%20%20%20%20%20%20%20%0A%20%20%20%20%0A%20%20%20%20%20%20%20%20var%20popup_dd6758708caa4d6da1169c2b32ce2a6a%20%3D%20L.popup%28%7B%22maxWidth%22%3A%20%22100%25%22%7D%29%3B%0A%0A%20%20%20%20%20%20%20%20%0A%20%20%20%20%20%20%20%20%20%20%20%20var%20html_70fdc22cca9a45ba896237893856e94b%20%3D%20%24%28%60%3Cdiv%20id%3D%22html_70fdc22cca9a45ba896237893856e94b%22%20style%3D%22width%3A%20100.0%25%3B%20height%3A%20100.0%25%3B%22%3E513VsTheWorld%3A%20%40PopCrave%20Will%20Smith%20got%20these%20comedians%20shook.%20Goddamn%3C/div%3E%60%29%5B0%5D%3B%0A%20%20%20%20%20%20%20%20%20%20%20%20popup_dd6758708caa4d6da1169c2b32ce2a6a.setContent%28html_70fdc22cca9a45ba896237893856e94b%29%3B%0A%20%20%20%20%20%20%20%20%0A%0A%20%20%20%20%20%20%20%20marker_4beb82b197bc4dbc9a6a8f04f64c90bb.bindPopup%28popup_dd6758708caa4d6da1169c2b32ce2a6a%29%0A%20%20%20%20%20%20%20%20%3B%0A%0A%20%20%20%20%20%20%20%20%0A%20%20%20%20%0A%20%20%20%20%0A%20%20%20%20%20%20%20%20%20%20%20%20var%20marker_4f3b8a84e3684c46af90802afff7e8eb%20%3D%20L.marker%28%0A%20%20%20%20%20%20%20%20%20%20%20%20%20%20%20%20%5B38.89366125%2C%20-76.987883253882%5D%2C%0A%20%20%20%20%20%20%20%20%20%20%20%20%20%20%20%20%7B%7D%0A%20%20%20%20%20%20%20%20%20%20%20%20%29.addTo%28map_1945d0934a8c4394a11efd24f769cfc4%29%3B%0A%20%20%20%20%20%20%20%20%0A%20%20%20%20%0A%20%20%20%20%20%20%20%20var%20popup_7e8739ef05114dfb8f272bfef2b9b44c%20%3D%20L.popup%28%7B%22maxWidth%22%3A%20%22100%25%22%7D%29%3B%0A%0A%20%20%20%20%20%20%20%20%0A%20%20%20%20%20%20%20%20%20%20%20%20var%20html_245d71a00ec9451e80e78bf45f59fb11%20%3D%20%24%28%60%3Cdiv%20id%3D%22html_245d71a00ec9451e80e78bf45f59fb11%22%20style%3D%22width%3A%20100.0%25%3B%20height%3A%20100.0%25%3B%22%3Elistenmansays%3A%20Dave%20Chappelle%20on%20Will%20Smith%26%2339%3Bs%20Slap%20https%3A//t.co/jkBAu45FqT%20via%20%40YouTube%3C/div%3E%60%29%5B0%5D%3B%0A%20%20%20%20%20%20%20%20%20%20%20%20popup_7e8739ef05114dfb8f272bfef2b9b44c.setContent%28html_245d71a00ec9451e80e78bf45f59fb11%29%3B%0A%20%20%20%20%20%20%20%20%0A%0A%20%20%20%20%20%20%20%20marker_4f3b8a84e3684c46af90802afff7e8eb.bindPopup%28popup_7e8739ef05114dfb8f272bfef2b9b44c%29%0A%20%20%20%20%20%20%20%20%3B%0A%0A%20%20%20%20%20%20%20%20%0A%20%20%20%20%0A%20%20%20%20%0A%20%20%20%20%20%20%20%20%20%20%20%20var%20marker_e6f489883ddc40e3bf2121466b09ebb6%20%3D%20L.marker%28%0A%20%20%20%20%20%20%20%20%20%20%20%20%20%20%20%20%5B48.39428415%2C%20-122.333303749894%5D%2C%0A%20%20%20%20%20%20%20%20%20%20%20%20%20%20%20%20%7B%7D%0A%20%20%20%20%20%20%20%20%20%20%20%20%29.addTo%28map_1945d0934a8c4394a11efd24f769cfc4%29%3B%0A%20%20%20%20%20%20%20%20%0A%20%20%20%20%0A%20%20%20%20%20%20%20%20var%20popup_e6f34347bd254c59ab6cb31592c46c43%20%3D%20L.popup%28%7B%22maxWidth%22%3A%20%22100%25%22%7D%29%3B%0A%0A%20%20%20%20%20%20%20%20%0A%20%20%20%20%20%20%20%20%20%20%20%20var%20html_e52ab94d0edc449c914d8d81b9899ffb%20%3D%20%24%28%60%3Cdiv%20id%3D%22html_e52ab94d0edc449c914d8d81b9899ffb%22%20style%3D%22width%3A%20100.0%25%3B%20height%3A%20100.0%25%3B%22%3EShawnaah%3A%20A%20young%20Will%20Smith%20was%20honestly%20handsome%20af%3C/div%3E%60%29%5B0%5D%3B%0A%20%20%20%20%20%20%20%20%20%20%20%20popup_e6f34347bd254c59ab6cb31592c46c43.setContent%28html_e52ab94d0edc449c914d8d81b9899ffb%29%3B%0A%20%20%20%20%20%20%20%20%0A%0A%20%20%20%20%20%20%20%20marker_e6f489883ddc40e3bf2121466b09ebb6.bindPopup%28popup_e6f34347bd254c59ab6cb31592c46c43%29%0A%20%20%20%20%20%20%20%20%3B%0A%0A%20%20%20%20%20%20%20%20%0A%20%20%20%20%0A%20%20%20%20%0A%20%20%20%20%20%20%20%20%20%20%20%20var%20marker_1a5e2b980590467fa8690d5eb6196698%20%3D%20L.marker%28%0A%20%20%20%20%20%20%20%20%20%20%20%20%20%20%20%20%5B33.9602093%2C%20-6.87923991187826%5D%2C%0A%20%20%20%20%20%20%20%20%20%20%20%20%20%20%20%20%7B%7D%0A%20%20%20%20%20%20%20%20%20%20%20%20%29.addTo%28map_1945d0934a8c4394a11efd24f769cfc4%29%3B%0A%20%20%20%20%20%20%20%20%0A%20%20%20%20%0A%20%20%20%20%20%20%20%20var%20popup_d5521f822e7a4545b647846b743374a3%20%3D%20L.popup%28%7B%22maxWidth%22%3A%20%22100%25%22%7D%29%3B%0A%0A%20%20%20%20%20%20%20%20%0A%20%20%20%20%20%20%20%20%20%20%20%20var%20html_3fca547cbe9b42aab749164ac1ab2ddf%20%3D%20%24%28%60%3Cdiv%20id%3D%22html_3fca547cbe9b42aab749164ac1ab2ddf%22%20style%3D%22width%3A%20100.0%25%3B%20height%3A%20100.0%25%3B%22%3Egimli281164%3A%20%40DarrenHarriott%20Mutter%20loudly%20under%20breath%20how%20%26%2334%3BWill%20Smith%20would%20be%20nicer%26%2334%3B.%3C/div%3E%60%29%5B0%5D%3B%0A%20%20%20%20%20%20%20%20%20%20%20%20popup_d5521f822e7a4545b647846b743374a3.setContent%28html_3fca547cbe9b42aab749164ac1ab2ddf%29%3B%0A%20%20%20%20%20%20%20%20%0A%0A%20%20%20%20%20%20%20%20marker_1a5e2b980590467fa8690d5eb6196698.bindPopup%28popup_d5521f822e7a4545b647846b743374a3%29%0A%20%20%20%20%20%20%20%20%3B%0A%0A%20%20%20%20%20%20%20%20%0A%20%20%20%20%0A%20%20%20%20%0A%20%20%20%20%20%20%20%20%20%20%20%20var%20marker_51c71939a7a3436195fc0129123e2d59%20%3D%20L.marker%28%0A%20%20%20%20%20%20%20%20%20%20%20%20%20%20%20%20%5B29.7589382%2C%20-95.3676974%5D%2C%0A%20%20%20%20%20%20%20%20%20%20%20%20%20%20%20%20%7B%7D%0A%20%20%20%20%20%20%20%20%20%20%20%20%29.addTo%28map_1945d0934a8c4394a11efd24f769cfc4%29%3B%0A%20%20%20%20%20%20%20%20%0A%20%20%20%20%0A%20%20%20%20%20%20%20%20var%20popup_25f8644828504eeca179c8c5e3cfa76e%20%3D%20L.popup%28%7B%22maxWidth%22%3A%20%22100%25%22%7D%29%3B%0A%0A%20%20%20%20%20%20%20%20%0A%20%20%20%20%20%20%20%20%20%20%20%20var%20html_acc12ba70aec4f24a60d6486e4ae5422%20%3D%20%24%28%60%3Cdiv%20id%3D%22html_acc12ba70aec4f24a60d6486e4ae5422%22%20style%3D%22width%3A%20100.0%25%3B%20height%3A%20100.0%25%3B%22%3Emariewill07%3A%20%40writerlyai_bot%20%40liles_frances%20Then%20again%2C%20maybe%20they%20need%20to%20caught%20up%20with%20Will%20Smith......%3C/div%3E%60%29%5B0%5D%3B%0A%20%20%20%20%20%20%20%20%20%20%20%20popup_25f8644828504eeca179c8c5e3cfa76e.setContent%28html_acc12ba70aec4f24a60d6486e4ae5422%29%3B%0A%20%20%20%20%20%20%20%20%0A%0A%20%20%20%20%20%20%20%20marker_51c71939a7a3436195fc0129123e2d59.bindPopup%28popup_25f8644828504eeca179c8c5e3cfa76e%29%0A%20%20%20%20%20%20%20%20%3B%0A%0A%20%20%20%20%20%20%20%20%0A%20%20%20%20%0A%20%20%20%20%0A%20%20%20%20%20%20%20%20%20%20%20%20var%20marker_983ac47700b048188d1acd93a6ac2a27%20%3D%20L.marker%28%0A%20%20%20%20%20%20%20%20%20%20%20%20%20%20%20%20%5B52.3892212%2C%209.73064510870302%5D%2C%0A%20%20%20%20%20%20%20%20%20%20%20%20%20%20%20%20%7B%7D%0A%20%20%20%20%20%20%20%20%20%20%20%20%29.addTo%28map_1945d0934a8c4394a11efd24f769cfc4%29%3B%0A%20%20%20%20%20%20%20%20%0A%20%20%20%20%0A%20%20%20%20%20%20%20%20var%20popup_50c3c04fc40e4eacbd900734e15c2617%20%3D%20L.popup%28%7B%22maxWidth%22%3A%20%22100%25%22%7D%29%3B%0A%0A%20%20%20%20%20%20%20%20%0A%20%20%20%20%20%20%20%20%20%20%20%20var%20html_ca71593d5126411586a2c1984a816528%20%3D%20%24%28%60%3Cdiv%20id%3D%22html_ca71593d5126411586a2c1984a816528%22%20style%3D%22width%3A%20100.0%25%3B%20height%3A%20100.0%25%3B%22%3EKidRehabJr%3A%20Will%20Smith%20smacked%20Chris%20Rock%20five%20years%20ago%2C%20let%20that%20shit%20go%20already%3C/div%3E%60%29%5B0%5D%3B%0A%20%20%20%20%20%20%20%20%20%20%20%20popup_50c3c04fc40e4eacbd900734e15c2617.setContent%28html_ca71593d5126411586a2c1984a816528%29%3B%0A%20%20%20%20%20%20%20%20%0A%0A%20%20%20%20%20%20%20%20marker_983ac47700b048188d1acd93a6ac2a27.bindPopup%28popup_50c3c04fc40e4eacbd900734e15c2617%29%0A%20%20%20%20%20%20%20%20%3B%0A%0A%20%20%20%20%20%20%20%20%0A%20%20%20%20%0A%20%20%20%20%0A%20%20%20%20%20%20%20%20%20%20%20%20var%20marker_76d9a294173d47f1aef6b4342afc925d%20%3D%20L.marker%28%0A%20%20%20%20%20%20%20%20%20%20%20%20%20%20%20%20%5B7.016667%2C%208.866667%5D%2C%0A%20%20%20%20%20%20%20%20%20%20%20%20%20%20%20%20%7B%7D%0A%20%20%20%20%20%20%20%20%20%20%20%20%29.addTo%28map_1945d0934a8c4394a11efd24f769cfc4%29%3B%0A%20%20%20%20%20%20%20%20%0A%20%20%20%20%0A%20%20%20%20%20%20%20%20var%20popup_ce27a7d42fea4deda9d4e4a33b1524ad%20%3D%20L.popup%28%7B%22maxWidth%22%3A%20%22100%25%22%7D%29%3B%0A%0A%20%20%20%20%20%20%20%20%0A%20%20%20%20%20%20%20%20%20%20%20%20var%20html_b5d5e7ba081d4250845d8e496fe53313%20%3D%20%24%28%60%3Cdiv%20id%3D%22html_b5d5e7ba081d4250845d8e496fe53313%22%20style%3D%22width%3A%20100.0%25%3B%20height%3A%20100.0%25%3B%22%3EMr10acity_%3A%20Acting%20like%20Will%20Smith%20blew%20Chris%26%2339%3B%20brains%20out%20with%20a%20fucking%20shotgun%20on%20live%20TV%20it%20was%20literally%20just%20a%20slap%20%F0%9F%92%80%3C/div%3E%60%29%5B0%5D%3B%0A%20%20%20%20%20%20%20%20%20%20%20%20popup_ce27a7d42fea4deda9d4e4a33b1524ad.setContent%28html_b5d5e7ba081d4250845d8e496fe53313%29%3B%0A%20%20%20%20%20%20%20%20%0A%0A%20%20%20%20%20%20%20%20marker_76d9a294173d47f1aef6b4342afc925d.bindPopup%28popup_ce27a7d42fea4deda9d4e4a33b1524ad%29%0A%20%20%20%20%20%20%20%20%3B%0A%0A%20%20%20%20%20%20%20%20%0A%20%20%20%20%0A%20%20%20%20%0A%20%20%20%20%20%20%20%20%20%20%20%20var%20marker_21dadd64961c400fb953be2440c26f51%20%3D%20L.marker%28%0A%20%20%20%20%20%20%20%20%20%20%20%20%20%20%20%20%5B39.7837304%2C%20-100.4458825%5D%2C%0A%20%20%20%20%20%20%20%20%20%20%20%20%20%20%20%20%7B%7D%0A%20%20%20%20%20%20%20%20%20%20%20%20%29.addTo%28map_1945d0934a8c4394a11efd24f769cfc4%29%3B%0A%20%20%20%20%20%20%20%20%0A%20%20%20%20%0A%20%20%20%20%20%20%20%20var%20popup_e02fd09326cd4376897f9baa930f17ff%20%3D%20L.popup%28%7B%22maxWidth%22%3A%20%22100%25%22%7D%29%3B%0A%0A%20%20%20%20%20%20%20%20%0A%20%20%20%20%20%20%20%20%20%20%20%20var%20html_db29b73e782142879cf1879fc448aa94%20%3D%20%24%28%60%3Cdiv%20id%3D%22html_db29b73e782142879cf1879fc448aa94%22%20style%3D%22width%3A%20100.0%25%3B%20height%3A%20100.0%25%3B%22%3Esilayin25%3A%20Chris%20Rock%20says%20he%20has%20his%20%E2%80%98hearing%20back%E2%80%99%20after%20being%20%E2%80%98punched%20in%20the%20face%E2%80%99%20by%20Will%20Smith%20at%C2%A0Oscars%20https%3A//t.co/N1AdQI44wi%3C/div%3E%60%29%5B0%5D%3B%0A%20%20%20%20%20%20%20%20%20%20%20%20popup_e02fd09326cd4376897f9baa930f17ff.setContent%28html_db29b73e782142879cf1879fc448aa94%29%3B%0A%20%20%20%20%20%20%20%20%0A%0A%20%20%20%20%20%20%20%20marker_21dadd64961c400fb953be2440c26f51.bindPopup%28popup_e02fd09326cd4376897f9baa930f17ff%29%0A%20%20%20%20%20%20%20%20%3B%0A%0A%20%20%20%20%20%20%20%20%0A%20%20%20%20%0A%20%20%20%20%0A%20%20%20%20%20%20%20%20%20%20%20%20var%20marker_5aca4db0841845f3a2e12b638d7e81c5%20%3D%20L.marker%28%0A%20%20%20%20%20%20%20%20%20%20%20%20%20%20%20%20%5B51.5073219%2C%20-0.1276474%5D%2C%0A%20%20%20%20%20%20%20%20%20%20%20%20%20%20%20%20%7B%7D%0A%20%20%20%20%20%20%20%20%20%20%20%20%29.addTo%28map_1945d0934a8c4394a11efd24f769cfc4%29%3B%0A%20%20%20%20%20%20%20%20%0A%20%20%20%20%0A%20%20%20%20%20%20%20%20var%20popup_3aa551f6065d4b229edaa21ab4645622%20%3D%20L.popup%28%7B%22maxWidth%22%3A%20%22100%25%22%7D%29%3B%0A%0A%20%20%20%20%20%20%20%20%0A%20%20%20%20%20%20%20%20%20%20%20%20var%20html_85b0cbddd49d46f284c1133ade25c7b8%20%3D%20%24%28%60%3Cdiv%20id%3D%22html_85b0cbddd49d46f284c1133ade25c7b8%22%20style%3D%22width%3A%20100.0%25%3B%20height%3A%20100.0%25%3B%22%3EMikeHun68537113%3A%20%40Mompreneur_of_3%20Will%20Smith%20got%20a%20standing%20ovation%2C%20what%20do%20you%20mean%3F%3C/div%3E%60%29%5B0%5D%3B%0A%20%20%20%20%20%20%20%20%20%20%20%20popup_3aa551f6065d4b229edaa21ab4645622.setContent%28html_85b0cbddd49d46f284c1133ade25c7b8%29%3B%0A%20%20%20%20%20%20%20%20%0A%0A%20%20%20%20%20%20%20%20marker_5aca4db0841845f3a2e12b638d7e81c5.bindPopup%28popup_3aa551f6065d4b229edaa21ab4645622%29%0A%20%20%20%20%20%20%20%20%3B%0A%0A%20%20%20%20%20%20%20%20%0A%20%20%20%20%0A%20%20%20%20%0A%20%20%20%20%20%20%20%20%20%20%20%20var%20marker_f8250e3b639b42e9b7443ddfed31e12f%20%3D%20L.marker%28%0A%20%20%20%20%20%20%20%20%20%20%20%20%20%20%20%20%5B9.6000359%2C%207.9999721%5D%2C%0A%20%20%20%20%20%20%20%20%20%20%20%20%20%20%20%20%7B%7D%0A%20%20%20%20%20%20%20%20%20%20%20%20%29.addTo%28map_1945d0934a8c4394a11efd24f769cfc4%29%3B%0A%20%20%20%20%20%20%20%20%0A%20%20%20%20%0A%20%20%20%20%20%20%20%20var%20popup_7301d73821374cf3934481fd03144b27%20%3D%20L.popup%28%7B%22maxWidth%22%3A%20%22100%25%22%7D%29%3B%0A%0A%20%20%20%20%20%20%20%20%0A%20%20%20%20%20%20%20%20%20%20%20%20var%20html_be3df41550e941a48c575bf02840a560%20%3D%20%24%28%60%3Cdiv%20id%3D%22html_be3df41550e941a48c575bf02840a560%22%20style%3D%22width%3A%20100.0%25%3B%20height%3A%20100.0%25%3B%22%3Exyznews_com_ng%3A%20Chris%20Rock%20Teases%20Fans%20With%20%E2%80%98Will%20Smith%E2%80%99%20Joke%20At%20Ego%20Death%20Comedy%20Tour%20%E2%80%94%20Guardian%20Life%20%E2%80%94%20The%20Guardian%20Nigeria%20News%E2%80%A6%20https%3A//t.co/qEaaLUQqNe%3C/div%3E%60%29%5B0%5D%3B%0A%20%20%20%20%20%20%20%20%20%20%20%20popup_7301d73821374cf3934481fd03144b27.setContent%28html_be3df41550e941a48c575bf02840a560%29%3B%0A%20%20%20%20%20%20%20%20%0A%0A%20%20%20%20%20%20%20%20marker_f8250e3b639b42e9b7443ddfed31e12f.bindPopup%28popup_7301d73821374cf3934481fd03144b27%29%0A%20%20%20%20%20%20%20%20%3B%0A%0A%20%20%20%20%20%20%20%20%0A%20%20%20%20%0A%20%20%20%20%0A%20%20%20%20%20%20%20%20%20%20%20%20var%20marker_7e48523b2e6a45b6b811244fc41f14f5%20%3D%20L.marker%28%0A%20%20%20%20%20%20%20%20%20%20%20%20%20%20%20%20%5B6.4550575%2C%203.3941795%5D%2C%0A%20%20%20%20%20%20%20%20%20%20%20%20%20%20%20%20%7B%7D%0A%20%20%20%20%20%20%20%20%20%20%20%20%29.addTo%28map_1945d0934a8c4394a11efd24f769cfc4%29%3B%0A%20%20%20%20%20%20%20%20%0A%20%20%20%20%0A%20%20%20%20%20%20%20%20var%20popup_ff90d98e90824928b711c79f7b03d517%20%3D%20L.popup%28%7B%22maxWidth%22%3A%20%22100%25%22%7D%29%3B%0A%0A%20%20%20%20%20%20%20%20%0A%20%20%20%20%20%20%20%20%20%20%20%20var%20html_95ee2f644623403e9b64fb9e925b53e9%20%3D%20%24%28%60%3Cdiv%20id%3D%22html_95ee2f644623403e9b64fb9e925b53e9%22%20style%3D%22width%3A%20100.0%25%3B%20height%3A%20100.0%25%3B%22%3EOluwaferanmi231%3A%20%40Vanburger5%20%40Honest__001%20%40big__derah%20Lmao%20%F0%9F%A4%A3%20epele%20oo%20Will%20smith%20eyan%20Jada%20Pinkett%20%F0%9F%98%82%3C/div%3E%60%29%5B0%5D%3B%0A%20%20%20%20%20%20%20%20%20%20%20%20popup_ff90d98e90824928b711c79f7b03d517.setContent%28html_95ee2f644623403e9b64fb9e925b53e9%29%3B%0A%20%20%20%20%20%20%20%20%0A%0A%20%20%20%20%20%20%20%20marker_7e48523b2e6a45b6b811244fc41f14f5.bindPopup%28popup_ff90d98e90824928b711c79f7b03d517%29%0A%20%20%20%20%20%20%20%20%3B%0A%0A%20%20%20%20%20%20%20%20%0A%20%20%20%20%0A%20%20%20%20%0A%20%20%20%20%20%20%20%20%20%20%20%20var%20marker_0a7467f0f6344531bddda14f8eaaec56%20%3D%20L.marker%28%0A%20%20%20%20%20%20%20%20%20%20%20%20%20%20%20%20%5B40.7306458%2C%20-73.9866136%5D%2C%0A%20%20%20%20%20%20%20%20%20%20%20%20%20%20%20%20%7B%7D%0A%20%20%20%20%20%20%20%20%20%20%20%20%29.addTo%28map_1945d0934a8c4394a11efd24f769cfc4%29%3B%0A%20%20%20%20%20%20%20%20%0A%20%20%20%20%0A%20%20%20%20%20%20%20%20var%20popup_32a64632dfdb465fb7cb64a96cd6066a%20%3D%20L.popup%28%7B%22maxWidth%22%3A%20%22100%25%22%7D%29%3B%0A%0A%20%20%20%20%20%20%20%20%0A%20%20%20%20%20%20%20%20%20%20%20%20var%20html_79d1b17c37214ab4a69bb8d8bbbb24a5%20%3D%20%24%28%60%3Cdiv%20id%3D%22html_79d1b17c37214ab4a69bb8d8bbbb24a5%22%20style%3D%22width%3A%20100.0%25%3B%20height%3A%20100.0%25%3B%22%3Eboomslangfangs%3A%20%40NeoGameSpark%20The%20guy%20who%20jumped%20Chapelle%20is%20a%20PoS%20but%20Will%20Smith%20is%20great%3F%20Like%20why%20didn%E2%80%99t%20a%20group%20of%20people%20take%E2%80%A6%20https%3A//t.co/FrJgVl3TlG%3C/div%3E%60%29%5B0%5D%3B%0A%20%20%20%20%20%20%20%20%20%20%20%20popup_32a64632dfdb465fb7cb64a96cd6066a.setContent%28html_79d1b17c37214ab4a69bb8d8bbbb24a5%29%3B%0A%20%20%20%20%20%20%20%20%0A%0A%20%20%20%20%20%20%20%20marker_0a7467f0f6344531bddda14f8eaaec56.bindPopup%28popup_32a64632dfdb465fb7cb64a96cd6066a%29%0A%20%20%20%20%20%20%20%20%3B%0A%0A%20%20%20%20%20%20%20%20%0A%20%20%20%20%0A%20%20%20%20%0A%20%20%20%20%20%20%20%20%20%20%20%20var%20marker_78b5dbde978f47b98a02da7974ac3d19%20%3D%20L.marker%28%0A%20%20%20%20%20%20%20%20%20%20%20%20%20%20%20%20%5B31.8160381%2C%20-99.5120986%5D%2C%0A%20%20%20%20%20%20%20%20%20%20%20%20%20%20%20%20%7B%7D%0A%20%20%20%20%20%20%20%20%20%20%20%20%29.addTo%28map_1945d0934a8c4394a11efd24f769cfc4%29%3B%0A%20%20%20%20%20%20%20%20%0A%20%20%20%20%0A%20%20%20%20%20%20%20%20var%20popup_1d78b5dc2bb74505be1395f85e2a00d3%20%3D%20L.popup%28%7B%22maxWidth%22%3A%20%22100%25%22%7D%29%3B%0A%0A%20%20%20%20%20%20%20%20%0A%20%20%20%20%20%20%20%20%20%20%20%20var%20html_412d03458e7b4cbe88c2e7d03680a086%20%3D%20%24%28%60%3Cdiv%20id%3D%22html_412d03458e7b4cbe88c2e7d03680a086%22%20style%3D%22width%3A%20100.0%25%3B%20height%3A%20100.0%25%3B%22%3ERaymondBrown__%3A%20If%20you%26%2339%3Bre%20absent%20during%20my%20struggle%2C%20don%26%2339%3Bt%20expect%20to%20be%20present%20during%20my%20success.%20-%20Will%20Smith%20%23quote%20https%3A//t.co/UoLBeUtjU2%3C/div%3E%60%29%5B0%5D%3B%0A%20%20%20%20%20%20%20%20%20%20%20%20popup_1d78b5dc2bb74505be1395f85e2a00d3.setContent%28html_412d03458e7b4cbe88c2e7d03680a086%29%3B%0A%20%20%20%20%20%20%20%20%0A%0A%20%20%20%20%20%20%20%20marker_78b5dbde978f47b98a02da7974ac3d19.bindPopup%28popup_1d78b5dc2bb74505be1395f85e2a00d3%29%0A%20%20%20%20%20%20%20%20%3B%0A%0A%20%20%20%20%20%20%20%20%0A%20%20%20%20%0A%20%20%20%20%0A%20%20%20%20%20%20%20%20%20%20%20%20var%20marker_a2d4426e08bf4d52869fcac6787a045c%20%3D%20L.marker%28%0A%20%20%20%20%20%20%20%20%20%20%20%20%20%20%20%20%5B18.1850507%2C%20-77.3947693%5D%2C%0A%20%20%20%20%20%20%20%20%20%20%20%20%20%20%20%20%7B%7D%0A%20%20%20%20%20%20%20%20%20%20%20%20%29.addTo%28map_1945d0934a8c4394a11efd24f769cfc4%29%3B%0A%20%20%20%20%20%20%20%20%0A%20%20%20%20%0A%20%20%20%20%20%20%20%20var%20popup_6ca04da0f98141288df4018fc5dcc71c%20%3D%20L.popup%28%7B%22maxWidth%22%3A%20%22100%25%22%7D%29%3B%0A%0A%20%20%20%20%20%20%20%20%0A%20%20%20%20%20%20%20%20%20%20%20%20var%20html_c54d24c98cc04345941f4e6cd71cb9c4%20%3D%20%24%28%60%3Cdiv%20id%3D%22html_c54d24c98cc04345941f4e6cd71cb9c4%22%20style%3D%22width%3A%20100.0%25%3B%20height%3A%20100.0%25%3B%22%3Ejoshie_6666%3A%20%409gagceo%20%40reicannon%20%40ernestyu9988%20%40projectPXN%20Will%20smith%20protecting%20this%20thats%20why%20its%20so%20expensive%20%F0%9F%94%90%3C/div%3E%60%29%5B0%5D%3B%0A%20%20%20%20%20%20%20%20%20%20%20%20popup_6ca04da0f98141288df4018fc5dcc71c.setContent%28html_c54d24c98cc04345941f4e6cd71cb9c4%29%3B%0A%20%20%20%20%20%20%20%20%0A%0A%20%20%20%20%20%20%20%20marker_a2d4426e08bf4d52869fcac6787a045c.bindPopup%28popup_6ca04da0f98141288df4018fc5dcc71c%29%0A%20%20%20%20%20%20%20%20%3B%0A%0A%20%20%20%20%20%20%20%20%0A%20%20%20%20%0A%20%20%20%20%0A%20%20%20%20%20%20%20%20%20%20%20%20var%20marker_19cc9deb2322437ba2922dffc5757670%20%3D%20L.marker%28%0A%20%20%20%20%20%20%20%20%20%20%20%20%20%20%20%20%5B37.5726028%2C%20-85.1551411%5D%2C%0A%20%20%20%20%20%20%20%20%20%20%20%20%20%20%20%20%7B%7D%0A%20%20%20%20%20%20%20%20%20%20%20%20%29.addTo%28map_1945d0934a8c4394a11efd24f769cfc4%29%3B%0A%20%20%20%20%20%20%20%20%0A%20%20%20%20%0A%20%20%20%20%20%20%20%20var%20popup_0db7dc39c31c429c82822271fbfcd2ca%20%3D%20L.popup%28%7B%22maxWidth%22%3A%20%22100%25%22%7D%29%3B%0A%0A%20%20%20%20%20%20%20%20%0A%20%20%20%20%20%20%20%20%20%20%20%20var%20html_6e5180d4db234b5ab2610a652d80749a%20%3D%20%24%28%60%3Cdiv%20id%3D%22html_6e5180d4db234b5ab2610a652d80749a%22%20style%3D%22width%3A%20100.0%25%3B%20height%3A%20100.0%25%3B%22%3EMsAJF%3A%20Colin%20Kaepernick%20%26amp%3Bamp%3B%20Will%20Smith%20walk%20into%20a%20bar%20%E2%80%A6%20%23WillSmith%20%23ColinKaepernick%20%23Slammed%20%23WHYDFML%3C/div%3E%60%29%5B0%5D%3B%0A%20%20%20%20%20%20%20%20%20%20%20%20popup_0db7dc39c31c429c82822271fbfcd2ca.setContent%28html_6e5180d4db234b5ab2610a652d80749a%29%3B%0A%20%20%20%20%20%20%20%20%0A%0A%20%20%20%20%20%20%20%20marker_19cc9deb2322437ba2922dffc5757670.bindPopup%28popup_0db7dc39c31c429c82822271fbfcd2ca%29%0A%20%20%20%20%20%20%20%20%3B%0A%0A%20%20%20%20%20%20%20%20%0A%20%20%20%20%0A%20%20%20%20%0A%20%20%20%20%20%20%20%20%20%20%20%20var%20marker_0e112d80a9224536ac59819361c836f9%20%3D%20L.marker%28%0A%20%20%20%20%20%20%20%20%20%20%20%20%20%20%20%20%5B37.5726028%2C%20-85.1551411%5D%2C%0A%20%20%20%20%20%20%20%20%20%20%20%20%20%20%20%20%7B%7D%0A%20%20%20%20%20%20%20%20%20%20%20%20%29.addTo%28map_1945d0934a8c4394a11efd24f769cfc4%29%3B%0A%20%20%20%20%20%20%20%20%0A%20%20%20%20%0A%20%20%20%20%20%20%20%20var%20popup_ce34879fbcc249e894b21bd9e7c9243c%20%3D%20L.popup%28%7B%22maxWidth%22%3A%20%22100%25%22%7D%29%3B%0A%0A%20%20%20%20%20%20%20%20%0A%20%20%20%20%20%20%20%20%20%20%20%20var%20html_c77a6db0457745cf83bcadf1bc3ec9f5%20%3D%20%24%28%60%3Cdiv%20id%3D%22html_c77a6db0457745cf83bcadf1bc3ec9f5%22%20style%3D%22width%3A%20100.0%25%3B%20height%3A%20100.0%25%3B%22%3EMsAJF%3A%20Colin%20Kaepernick%2C%20Will%20Smith%20%26amp%3Bamp%3B%20Amber%20Heard%20walk%20into%20a%20bar%20%E2%80%A6%20%23WillSmith%20%23ColinKaepernick%20%23AmberHeard%20%23Slap%20%23Slammed%20%23WHYDFML%20%23Bye%3C/div%3E%60%29%5B0%5D%3B%0A%20%20%20%20%20%20%20%20%20%20%20%20popup_ce34879fbcc249e894b21bd9e7c9243c.setContent%28html_c77a6db0457745cf83bcadf1bc3ec9f5%29%3B%0A%20%20%20%20%20%20%20%20%0A%0A%20%20%20%20%20%20%20%20marker_0e112d80a9224536ac59819361c836f9.bindPopup%28popup_ce34879fbcc249e894b21bd9e7c9243c%29%0A%20%20%20%20%20%20%20%20%3B%0A%0A%20%20%20%20%20%20%20%20%0A%20%20%20%20%0A%3C/script%3E onload=\"this.contentDocument.open();this.contentDocument.write(    decodeURIComponent(this.getAttribute('data-html')));this.contentDocument.close();\" allowfullscreen webkitallowfullscreen mozallowfullscreen></iframe></div></div>"
      ],
      "text/plain": [
       "<folium.folium.Map at 0x24b5ecfb400>"
      ]
     },
     "execution_count": 190,
     "metadata": {},
     "output_type": "execute_result"
    }
   ],
   "source": [
    "usmap"
   ]
  },
  {
   "cell_type": "code",
   "execution_count": 191,
   "metadata": {},
   "outputs": [],
   "source": [
    "accounts_dict = {'accounts': [\n",
    "    {'account': 100, 'name': 'Jones', 'balance': 24.98},\n",
    "    {'account': 200, 'name': 'Doe', 'balance': 345.67}]}"
   ]
  },
  {
   "cell_type": "code",
   "execution_count": 192,
   "metadata": {},
   "outputs": [],
   "source": [
    "import json\n",
    "with open('accounts.json', 'w') as accounts:\n",
    "    json.dump(accounts_dict, accounts)"
   ]
  },
  {
   "cell_type": "code",
   "execution_count": 193,
   "metadata": {},
   "outputs": [],
   "source": [
    "with open('accounts.json', 'r') as accounts:\n",
    "    accounts_from_json = json.load(accounts)"
   ]
  },
  {
   "cell_type": "code",
   "execution_count": 194,
   "metadata": {},
   "outputs": [
    {
     "name": "stdout",
     "output_type": "stream",
     "text": [
      "{'accounts': [{'account': 100, 'name': 'Jones', 'balance': 24.98}, {'account': 200, 'name': 'Doe', 'balance': 345.67}]}\n",
      "<class 'dict'>\n"
     ]
    }
   ],
   "source": [
    "print(accounts_from_json) #The one-key-to-one-value dictionary object\n",
    "print(type(accounts_from_json))"
   ]
  },
  {
   "cell_type": "code",
   "execution_count": 195,
   "metadata": {},
   "outputs": [
    {
     "name": "stdout",
     "output_type": "stream",
     "text": [
      "[{'account': 100, 'name': 'Jones', 'balance': 24.98}, {'account': 200, 'name': 'Doe', 'balance': 345.67}]\n"
     ]
    }
   ],
   "source": [
    "print(accounts_from_json['accounts']) #The individual dictionaries per account"
   ]
  },
  {
   "cell_type": "code",
   "execution_count": 196,
   "metadata": {},
   "outputs": [
    {
     "name": "stdout",
     "output_type": "stream",
     "text": [
      "{'account': 100, 'name': 'Jones', 'balance': 24.98}\n",
      "{'account': 200, 'name': 'Doe', 'balance': 345.67}\n"
     ]
    }
   ],
   "source": [
    "print(accounts_from_json['accounts'][0]) #The first dictionary/account \n",
    "print(accounts_from_json['accounts'][1]) #The second dictionary/account "
   ]
  },
  {
   "cell_type": "code",
   "execution_count": 197,
   "metadata": {},
   "outputs": [],
   "source": [
    "import json"
   ]
  },
  {
   "cell_type": "code",
   "execution_count": 198,
   "metadata": {},
   "outputs": [],
   "source": [
    "with open('savedtweets.json', 'w') as outfile:\n",
    "    json.dump(tweets, outfile, indent=4)"
   ]
  },
  {
   "cell_type": "code",
   "execution_count": 199,
   "metadata": {},
   "outputs": [],
   "source": [
    "with open('savedtweets.json') as json_file:\n",
    "    tweets_from_json = json.load(json_file)\n"
   ]
  },
  {
   "cell_type": "code",
   "execution_count": 200,
   "metadata": {},
   "outputs": [
    {
     "data": {
      "text/plain": [
       "[{'screen_name': 'EndinStealth',\n",
       "  'text': '@padrejeremyh Someone needs to face swap Will Smith in here.',\n",
       "  'location': 'Lemay, MO',\n",
       "  'latitude': 38.533386,\n",
       "  'longitude': -90.2792814},\n",
       " {'screen_name': 'DanielN61841575',\n",
       "  'text': '@DividendExp @PensionCraft Is Will Smith not available?',\n",
       "  'location': 'Area 52',\n",
       "  'latitude': 43.6922873,\n",
       "  'longitude': -7.5741628},\n",
       " {'screen_name': 'jpwan08',\n",
       "  'text': \"Chris Rock takes a dig at Will Smith's Oscars slap https://t.co/mTWw1HIalW https://t.co/k7Vtn6Y3Vz\",\n",
       "  'location': 'Hyderabad, India',\n",
       "  'latitude': 17.3886068,\n",
       "  'longitude': 78.4608095675926},\n",
       " {'screen_name': 'Helmut_Zemo123',\n",
       "  'text': '@nypost You got your heating back and yet Weakass Will Smith still hasn’t gotten his balls back from @jadapsmith 😂',\n",
       "  'location': 'Florida, USA',\n",
       "  'latitude': 27.7567667,\n",
       "  'longitude': -81.4639835},\n",
       " {'screen_name': 'robotfromhell',\n",
       "  'text': 'Chris Pratt is playing King K. Rule in the movie Princess Peachdeep in  Will Smith',\n",
       "  'location': 'Alderan, Exploded'},\n",
       " {'screen_name': 'Helmut_Zemo123',\n",
       "  'text': '@nypost You got your hearing back and yet weakass Will Smith still hasn’t gotten his balls back from @jadapsmith 😂',\n",
       "  'location': 'Florida, USA',\n",
       "  'latitude': 27.7567667,\n",
       "  'longitude': -81.4639835},\n",
       " {'screen_name': 'AshleyHings',\n",
       "  'text': \"@DarrenHarriott I'd tell will smith. He'll sort it\",\n",
       "  'location': 'Leicester, England',\n",
       "  'latitude': 52.6361398,\n",
       "  'longitude': -1.1330789},\n",
       " {'screen_name': 'gman_kings',\n",
       "  'text': '👑 Working With Will Smith 👑\\n\\nWe painted the VIP after party rooms for the #suicidesquad cast &amp; friends.\\n\\nThe next d… https://t.co/RQ3dVf7N0n',\n",
       "  'location': 'Metaverse 🕶 GraFFiti Bo$$ 🥂'},\n",
       " {'screen_name': 'keivan47',\n",
       "  'text': 'Chris Rock’s Mother Blasts Will Smith: “He Really Slapped Me” https://t.co/4PxCsjw9Sh',\n",
       "  'location': 'Australia',\n",
       "  'latitude': -24.7761086,\n",
       "  'longitude': 134.755},\n",
       " {'screen_name': 'mkamirali087',\n",
       "  'text': 'Some Americans were probably more traumatized by Will Smith’s slap than what Israel has done and continues to do in… https://t.co/6CU0ARejIE',\n",
       "  'location': 'Bedford, TX',\n",
       "  'latitude': 32.844017,\n",
       "  'longitude': -97.1430671},\n",
       " {'screen_name': 'relishedmin',\n",
       "  'text': 'If Will Smith did a spinning slap Tim and Eric style on Chris Rock at the Emmys then people wouldnt have been so mad',\n",
       "  'location': 'ChiddyPog Q8 '},\n",
       " {'screen_name': 'BradleyVoigt',\n",
       "  'text': '@PopCrave Will Smith a fuckboi for the slap but the reactions by these celebs are so dumb',\n",
       "  'location': 'American Samoa',\n",
       "  'latitude': -14.30063095,\n",
       "  'longitude': -170.695974791655},\n",
       " {'screen_name': 'Tru1drflRegina',\n",
       "  'text': '@inborn_bookworm Hasn’t he (Will Smith) been punished enough and still being punished? He’s married to Jada Pickett… https://t.co/8iYzSSjffz',\n",
       "  'location': 'NY/NJ',\n",
       "  'latitude': 41.38265205,\n",
       "  'longitude': -74.6378413145929},\n",
       " {'screen_name': 'KingSammy600',\n",
       "  'text': '@KELVIN_BAYAH @nazornnadi @jon_d_doe See how far it brought Will Smith',\n",
       "  'location': 'Federal Capital Territory, Nig'},\n",
       " {'screen_name': 'RokotoNet',\n",
       "  'text': 'Chris Rock jokes about infamous Will Smith Oscars slap: ‘Got most of my hearing\\xa0back’ https://t.co/weQkzwDPGu',\n",
       "  'location': 'Accra, Ghana',\n",
       "  'latitude': 5.5600141,\n",
       "  'longitude': -0.2057437},\n",
       " {'screen_name': 'pwanaduku',\n",
       "  'text': 'What a shame!\\nMost importantly, in my best Will Smith voice \"Keep the name of my Faith (Christianity) out of your m… https://t.co/IoSla49lRG',\n",
       "  'location': 'Nigeria',\n",
       "  'latitude': 9.6000359,\n",
       "  'longitude': 7.9999721},\n",
       " {'screen_name': 'KillaThrilla_YT',\n",
       "  'text': 'Will Smith Will Smith Will Smith Will Smith Will Smith Will Smith Will Smith Will Smith Will Smith Will Smith Will… https://t.co/Ak3w3ZDxwR',\n",
       "  'location': 'Greenock, Scotland',\n",
       "  'latitude': 55.947877,\n",
       "  'longitude': -4.7591972},\n",
       " {'screen_name': 'PeaceAndFades',\n",
       "  'text': 'Will Smith really smacked Chris Rock in the face….at the Grammys',\n",
       "  'location': 'New Orleans, New Orleans',\n",
       "  'latitude': 30.0419,\n",
       "  'longitude': -90.0281},\n",
       " {'screen_name': 'PeaceAndFades',\n",
       "  'text': 'Will Smith really smacked Chris Rock in the face….at the Oscars……',\n",
       "  'location': 'New Orleans, New Orleans',\n",
       "  'latitude': 30.0419,\n",
       "  'longitude': -90.0281},\n",
       " {'screen_name': 'WestsideMurph',\n",
       "  'text': 'It’s 630 am and we’re on an hour drive to graduation and they’re talking about Will Smith. Old people are just…',\n",
       "  'location': 'Los Angeles, CA',\n",
       "  'latitude': 34.054935,\n",
       "  'longitude': -118.244476},\n",
       " {'screen_name': 'markcobbcobb1',\n",
       "  'text': 'Call me paranoid er whatever but I think the Will Smith Oscar slap was a CIA psyop to get our attention from the wars.',\n",
       "  'location': 'Louisville, KY',\n",
       "  'latitude': 38.2542376,\n",
       "  'longitude': -85.759407},\n",
       " {'screen_name': 'khzqx59fxx',\n",
       "  'text': \"@shoe0nhead “will smith don't gotta cuss in his raps to sell records. well i do, so fuck him and fuck you too.”\",\n",
       "  'location': 'the jungle',\n",
       "  'latitude': 27.7886375,\n",
       "  'longitude': -82.7523234},\n",
       " {'screen_name': 'Zooted_Ghost420',\n",
       "  'text': 'niggas b tuff w they dogs in the hood , i love animals but nobody scared do them dogs like Will Smith 😭😤 #iamlegemd',\n",
       "  'location': 'Massachusetts ',\n",
       "  'latitude': 42.3788774,\n",
       "  'longitude': -72.032366},\n",
       " {'screen_name': 'maxoulek',\n",
       "  'text': '@shadow_sonic123 jokes aside, i like this image of will smith',\n",
       "  'location': 'Not Romania',\n",
       "  'latitude': 45.6151016,\n",
       "  'longitude': 25.72409885},\n",
       " {'screen_name': 'loathesomely',\n",
       "  'text': \"I'm worried bout will smith\",\n",
       "  'location': 'the grave ',\n",
       "  'latitude': 51.76025475,\n",
       "  'longitude': 5.7338862339303},\n",
       " {'screen_name': 'GriffKohout',\n",
       "  'text': 'Dave Chappelle fails to mention that Will Smith slapped Chris Rock BECAUSE Wifey Jada Pinkett caught him laughing a… https://t.co/ofKnrh7RHQ',\n",
       "  'location': '#Doorstown LA VENICE BEACH USA'},\n",
       " {'screen_name': 'loathesomely',\n",
       "  'text': '@itschauu Nothing I just like will Smith',\n",
       "  'location': 'the grave ',\n",
       "  'latitude': 51.76025475,\n",
       "  'longitude': 5.7338862339303},\n",
       " {'screen_name': 'HealthChief_',\n",
       "  'text': 'Ok wait... @TelevisionAcad\\nCan we please forgive Will Smith?\\n@willsmith',\n",
       "  'location': 'Nig Innocent & Rights Project'},\n",
       " {'screen_name': 'BullinsMarissa',\n",
       "  'text': '@nypost One of the most irritating aspects of that night is Will Smith wasn’t even upset over the joke. Everyone sa… https://t.co/LmgOQf46x7',\n",
       "  'location': 'Winston Salem, North Carolina ',\n",
       "  'latitude': 36.0998131,\n",
       "  'longitude': -80.2440518},\n",
       " {'screen_name': 'FemaleLeninist',\n",
       "  'text': 'I always supported will Smith',\n",
       "  'location': \"militant women's world\"},\n",
       " {'screen_name': 'BestReviewin',\n",
       "  'text': 'Chris Rock takes a dig at Will Smith’s Oscars\\xa0slap https://t.co/cDkn2OOsq0',\n",
       "  'location': 'Dubai, UAE',\n",
       "  'latitude': 25.0750095,\n",
       "  'longitude': 55.1887608818332},\n",
       " {'screen_name': 'news89com',\n",
       "  'text': 'Chris Rock takes a dig at Will Smith’s Oscars\\xa0slap https://t.co/EWuXuQ4AKV',\n",
       "  'location': 'India, UAE, Kuwait, Qatar'},\n",
       " {'screen_name': 'elnathan_john',\n",
       "  'text': 'Throwback to when I did this video with the help of the fabulous @fatuogwuche and Will Smith picked up on it. Smith… https://t.co/acancCJguc',\n",
       "  'location': 'Berlin, Germany',\n",
       "  'latitude': 52.5170365,\n",
       "  'longitude': 13.3888599},\n",
       " {'screen_name': 'wrbdradio',\n",
       "  'text': 'Joyner Lucas &amp; Will Smith - Will (Remix) https://t.co/9svcIKiOWY',\n",
       "  'location': 'Ft Lauderdale, Fl',\n",
       "  'latitude': 26.1223084,\n",
       "  'longitude': -80.1433786},\n",
       " {'screen_name': 'Saika00___',\n",
       "  'text': \"There should be a level 3 in an FG where it's a Will Smith into Ezra Miller combo\",\n",
       "  'location': 'Chicago, IL',\n",
       "  'latitude': 41.8755546,\n",
       "  'longitude': -87.6244212},\n",
       " {'screen_name': 'MICOLITHE_TXT',\n",
       "  'text': 'Yea yea why didnt will smith been the past 20 years ago we didnt even have fares.',\n",
       "  'location': 'online.',\n",
       "  'latitude': 51.0243858,\n",
       "  'longitude': 4.4817947},\n",
       " {'screen_name': 'ramfrancisuk',\n",
       "  'text': 'This Just Solved Your Smart Home\\'s BIGGEST Problem https://t.co/YnYvY0hnZI via @YouTube - Is @hibberthometech Will Smith - \"The Slap\"?',\n",
       "  'location': 'United Kingdom',\n",
       "  'latitude': 25.2232283,\n",
       "  'longitude': 55.1594933008754},\n",
       " {'screen_name': '4png_',\n",
       "  'text': 'Watch the uncensored moment Will Smith smacks Chris Rock on stage at the... https://t.co/4K60It8Rv6 @YouTubeより',\n",
       "  'location': '東京 千代田区',\n",
       "  'latitude': 35.6828387,\n",
       "  'longitude': 139.7594549},\n",
       " {'screen_name': 'THABAGLADYY',\n",
       "  'text': 'Lmao no I do Not wanna hear Will Smith Rapping ever…',\n",
       "  'location': 'MADE IN FLAWDA'},\n",
       " {'screen_name': 'medicinehelp',\n",
       "  'text': 'What ‘Traumatized’ Wanda Sykes Was Thinking When Will Smith Slapped Chris\\xa0Rock https://t.co/DzjwOHur7p',\n",
       "  'location': 'Atlanta,GA',\n",
       "  'latitude': 33.7490987,\n",
       "  'longitude': -84.3901849},\n",
       " {'screen_name': 'beatbandito',\n",
       "  'text': '@Q_Review Two different schools kids got stabbed outside my homeroom by will smith.',\n",
       "  'location': 'Location Location Location',\n",
       "  'latitude': 51.5621086,\n",
       "  'longitude': -0.0744617},\n",
       " {'screen_name': 'MickeyJohnson07',\n",
       "  'text': 'chris rock seems to think people cares that will smith slapped him? Not me sir!',\n",
       "  'location': 'Honolulu Hawaii',\n",
       "  'latitude': 21.304547,\n",
       "  'longitude': -157.8556764},\n",
       " {'screen_name': 'cartisSky',\n",
       "  'text': 'i wna slap smbdy like will smith did',\n",
       "  'location': 'she / her ',\n",
       "  'latitude': 35.1172406,\n",
       "  'longitude': -89.9132695},\n",
       " {'screen_name': 'TheRavensGirl',\n",
       "  'text': '@Mompreneur_of_3 The entire world watched Will Smith do what he did but so far, no roles lost.\\nStop oppressing your… https://t.co/LU0nGYnqe5',\n",
       "  'location': 'United States',\n",
       "  'latitude': 39.7837304,\n",
       "  'longitude': -100.4458825},\n",
       " {'screen_name': 'misael_maisced0',\n",
       "  'text': 'pode entrar Will Smith',\n",
       "  'location': 'SP',\n",
       "  'latitude': -21.9549806,\n",
       "  'longitude': -49.0232348},\n",
       " {'screen_name': 'AnaamadeyaManav',\n",
       "  'text': '@delhichatter @ashutosh83B bhai sach mei black people like will smith are winning oscars so you dont have belittle ashu',\n",
       "  'location': 'Kargil',\n",
       "  'latitude': 34.5594418,\n",
       "  'longitude': 76.1255982},\n",
       " {'screen_name': 'gala_food',\n",
       "  'text': 'Chris Rock Jokes About The Infamous Will Smith Slap Yet\\xa0AGAIN! https://t.co/Znawjf7vtf',\n",
       "  'location': 'United States',\n",
       "  'latitude': 39.7837304,\n",
       "  'longitude': -100.4458825},\n",
       " {'screen_name': 'peacefmonline',\n",
       "  'text': \"Chris Rock Jokes About Will Smith's Oscars Slap During Standup Set .... https://t.co/0Vq2l9pToH\",\n",
       "  'location': 'Ghana',\n",
       "  'latitude': 8.0300284,\n",
       "  'longitude': -1.0800271},\n",
       " {'screen_name': 'Jaybdan',\n",
       "  'text': 'I feel like people blew the whole Will Smith situation waaay out of proportion and are just trying to demonize the fuck outta him',\n",
       "  'location': '👁👁'},\n",
       " {'screen_name': 'spacexsamurai',\n",
       "  'text': '@LAxFLAME Does Will Smith count ? 💀',\n",
       "  'location': 'Some where in the hills '},\n",
       " {'screen_name': 'princebest__',\n",
       "  'text': '@_HYPHYWIFEY thats will smith 👽👽',\n",
       "  'location': 'Jupiter, FL',\n",
       "  'latitude': 26.9266939,\n",
       "  'longitude': -80.1220891180725},\n",
       " {'screen_name': 'RecRouen',\n",
       "  'text': \"#NowPlaying Will Smith - Gettin' Jiggy Wit It\",\n",
       "  'location': 'Rouen, France',\n",
       "  'latitude': 49.4404591,\n",
       "  'longitude': 1.0939658},\n",
       " {'screen_name': 'SamSpence2d',\n",
       "  'text': 'Jake Paul offers Will Smith and Chris Rock $30\\xa0Million https://t.co/x6ZZ3je6yD',\n",
       "  'location': 'College Station, TX',\n",
       "  'latitude': 30.6253463,\n",
       "  'longitude': -96.3271538},\n",
       " {'screen_name': 'bhakt_always',\n",
       "  'text': '@delhichatter @ashutosh83B Will smith 144p       Will smith1080p https://t.co/6vapaZUnSb',\n",
       "  'location': 'श्री राम की नगरी '},\n",
       " {'screen_name': 'ItisSamhere',\n",
       "  'text': '@JohnsonAwalle @MichShoxen Yeah I have also forgiven Will Smith.',\n",
       "  'location': 'Johannesburg, South Africa',\n",
       "  'latitude': -26.205,\n",
       "  'longitude': 28.049722},\n",
       " {'screen_name': 'palaceintrigue1',\n",
       "  'text': 'Review: Stand-up legend Chris Rock jokes about Will Smith slap seven seconds into Birmingham gig https://t.co/AXaesCR5co #royalfamily',\n",
       "  'location': 'London, UK',\n",
       "  'latitude': 51.5073219,\n",
       "  'longitude': -0.1276474},\n",
       " {'screen_name': 'lilbrownivixen',\n",
       "  'text': '@LizTVLiz1 Hey Will Smith did you see this?  BTW Will you should totally pursue your ex Sheree',\n",
       "  'location': 'Virginia, USA',\n",
       "  'latitude': 37.1232245,\n",
       "  'longitude': -78.4927721},\n",
       " {'screen_name': 'suirates',\n",
       "  'text': 'i wish will smith put that motherfucker in a headlock',\n",
       "  'location': 'it/silly/scum any4 any 4 close'},\n",
       " {'screen_name': 'ImG_O_Odi',\n",
       "  'text': 'this morning i want to will smith one of those old men with their KKK MAGA hats at one oh#f those diners . then spi… https://t.co/2DT02riq4x',\n",
       "  'location': 'Orlando, FL',\n",
       "  'latitude': 28.5421097,\n",
       "  'longitude': -81.3790388},\n",
       " {'screen_name': 'kato_rmari',\n",
       "  'text': 'Will Smith noticed US! + featured in 24 Oras https://t.co/NYewZBjg58 via @YouTube wow',\n",
       "  'location': 'Gifu-shi, Gifu',\n",
       "  'latitude': 35.4094858,\n",
       "  'longitude': 136.7569769},\n",
       " {'screen_name': 'LeratoN_',\n",
       "  'text': 'Soon as Will Smith gets canceled ,they blame Hollywood(white people)\\n\\nBut these are the people(black celebrities) a… https://t.co/tPFGDOjuKJ',\n",
       "  'location': 'Polokwane, South Africa',\n",
       "  'latitude': -23.9058333,\n",
       "  'longitude': 29.4613889},\n",
       " {'screen_name': 'SJ_AV81',\n",
       "  'text': '@DarrenHarriott No wonder Will Smith slapped him',\n",
       "  'location': 'Woking, South East',\n",
       "  'latitude': 51.3201891,\n",
       "  'longitude': -0.5564726},\n",
       " {'screen_name': 'LeratoN_',\n",
       "  'text': '@PopCrave No one is tryna cancel Will Smith like black celebrities \\n\\nAnd soon as he get canceled they will be the f… https://t.co/zBgqU5453W',\n",
       "  'location': 'Polokwane, South Africa',\n",
       "  'latitude': -23.9058333,\n",
       "  'longitude': 29.4613889},\n",
       " {'screen_name': 'muuuugz',\n",
       "  'text': '😂🤣🤣🤣A will smith slap will Smother you a good one.',\n",
       "  'location': 'kenya',\n",
       "  'latitude': 1.4419683,\n",
       "  'longitude': 38.4313975},\n",
       " {'screen_name': 'vishwatej006',\n",
       "  'text': 'Will Smith\\nThe rock',\n",
       "  'location': 'Girlsheart'},\n",
       " {'screen_name': 'Amina110979',\n",
       "  'text': '@AtlantaDemocrat No screw you and Chris Rock. No one is saying what Will Smith did was right, but it’s been two mon… https://t.co/c4anoxoJnf',\n",
       "  'location': 'United States',\n",
       "  'latitude': 39.7837304,\n",
       "  'longitude': -100.4458825},\n",
       " {'screen_name': 'JohnnyMo12',\n",
       "  'text': '@dcrponline @DonJBacon @janekleeb To be fair, her Will Smith take was even worse if you want to be nit picky.',\n",
       "  'location': 'Lincoln, NE',\n",
       "  'latitude': 40.8,\n",
       "  'longitude': -96.667821},\n",
       " {'screen_name': 'munchhmoney',\n",
       "  'text': 'Ezra Miller and will Smith are both libras',\n",
       "  'location': 'Ordering takeout '},\n",
       " {'screen_name': 'bree_shanelle',\n",
       "  'text': 'No! Fr!? Don’t tell me it’s canceled because of the Will Smith situation',\n",
       "  'location': 'Toronto ',\n",
       "  'latitude': 43.653963,\n",
       "  'longitude': -79.387207},\n",
       " {'screen_name': 'TorrentArmy',\n",
       "  'text': \"@ashwsbreal I'll hit like and life if it hits $1.  I'll also pay to smack Will Smith! 😅\",\n",
       "  'location': 'Neptune',\n",
       "  'latitude': 40.2239981,\n",
       "  'longitude': -74.0478216},\n",
       " {'screen_name': 'noeljossant',\n",
       "  'text': 'Will Smith - Men In Black https://t.co/x4YRiEF7Hf',\n",
       "  'location': 'Paris',\n",
       "  'latitude': 48.8566101,\n",
       "  'longitude': 2.3514992},\n",
       " {'screen_name': '01velvetandstee',\n",
       "  'text': \"Please don't replace Will Smith in Aladdin #Disney\",\n",
       "  'location': 'Utah, USA',\n",
       "  'latitude': 39.4225192,\n",
       "  'longitude': -111.7143584},\n",
       " {'screen_name': '4melvyn',\n",
       "  'text': \"Samuel jackson-Denzel\\nWill smith\\nGodfather d'Harlem la\",\n",
       "  'location': '?'},\n",
       " {'screen_name': 'achibaat007',\n",
       "  'text': 'BAFTAs 2022 Host Made Fun of Will Smith’s\\xa0Slap https://t.co/8Ski24hSEw',\n",
       "  'location': 'UNITED STATE',\n",
       "  'latitude': 40.2184039,\n",
       "  'longitude': -79.4878157},\n",
       " {'screen_name': 'Anewsgroup100',\n",
       "  'text': 'BAFTAs 2022 Host Made Fun of Will Smith’s\\xa0Slap https://t.co/EfoBbePTnD',\n",
       "  'location': 'United States',\n",
       "  'latitude': 39.7837304,\n",
       "  'longitude': -100.4458825},\n",
       " {'screen_name': 'SamSpence2d',\n",
       "  'text': 'WILL SMITH SLAPS CHRIS ROCK!!! Was It Righteously Justified?\\xa0Short https://t.co/rNvzFmqnUP',\n",
       "  'location': 'College Station, TX',\n",
       "  'latitude': 30.6253463,\n",
       "  'longitude': -96.3271538},\n",
       " {'screen_name': 'TeeMichelle57',\n",
       "  'text': \"Chris Rock Jokes He Has 'Most of My Hearing Back' After Will Smith Oscars Slap\\n\\nhttps://t.co/oFaJSEtCM0\",\n",
       "  'location': 'Florida, US',\n",
       "  'latitude': 27.7567667,\n",
       "  'longitude': -81.4639835},\n",
       " {'screen_name': 'WaversThe',\n",
       "  'text': 'Wavers on Will Smith VS Chris Rock 😯🤯\\n\\nVideo From: \"Are High-School Romance worth it!? EP5 \\n\\nFULL CLIP 👇… https://t.co/l6U2cyTJ2N',\n",
       "  'location': 'Malaysia',\n",
       "  'latitude': 2.3923759,\n",
       "  'longitude': 112.8471939},\n",
       " {'screen_name': 'grandtheftporn',\n",
       "  'text': \"@KylieMareeKJMX Well Chris rock got abused globally by will smith, yet he still doesn't believe a word amber Heard… https://t.co/KqcdhmbhBp\",\n",
       "  'location': 'Irithyll of the boreal valley'},\n",
       " {'screen_name': 'WaversThe',\n",
       "  'text': 'Wavers on Will Smith VS Chris Rock 😯🤯\\n\\nVideo From: \"Are High-School Romance worth it!? EP5 \\n\\nFULL CLIP 👇… https://t.co/Y6WvAiwAxa',\n",
       "  'location': 'Malaysia',\n",
       "  'latitude': 2.3923759,\n",
       "  'longitude': 112.8471939},\n",
       " {'screen_name': 'frankominsora',\n",
       "  'text': 'Our u with me boy Cote net flix and desney bring back will smith ppl https://t.co/9JiXP1Krz0',\n",
       "  'location': 'bethlehem pa',\n",
       "  'latitude': -1.45056,\n",
       "  'longitude': -48.4682453},\n",
       " {'screen_name': 'PacoHatesYou',\n",
       "  'text': 'Now why couldn’t this woman just make a post about the formula shortage and not include will smith, the yt DV trial and the covid vaccine??',\n",
       "  'location': 'Incognito',\n",
       "  'latitude': 50.121994,\n",
       "  'longitude': 8.6997648},\n",
       " {'screen_name': 'ValhallAwaits77',\n",
       "  'text': '@Actually_Tina “Traumatising” 😂 wise the fuck up \\n\\nFucking hell you would think that Will Smith beheaded Chris Rock on stage or something',\n",
       "  'location': 'Northern Ireland',\n",
       "  'latitude': 54.6294982,\n",
       "  'longitude': -6.7654416},\n",
       " {'screen_name': 'ChrisArtist11',\n",
       "  'text': '@Clark1995Clark @rickygervais Will Smith should host, part of his community service.',\n",
       "  'location': 'England, United Kingdom',\n",
       "  'latitude': 52.7954791,\n",
       "  'longitude': -0.540240286617432},\n",
       " {'screen_name': 'gocomshukurself',\n",
       "  'text': '@PopCrave is the will smith slap in the room with us right now? https://t.co/qpXvtFKVT4',\n",
       "  'location': 'New York',\n",
       "  'latitude': 40.7306458,\n",
       "  'longitude': -73.9866136},\n",
       " {'screen_name': 'KatyBunny228',\n",
       "  'text': 'Who cares\\n\\nI was more traumatized by the rest of the Oscars and the Will Smith and Chris Rock was the only thing th… https://t.co/88ZcIxBr45',\n",
       "  'location': 'Portugal, Your Mom'},\n",
       " {'screen_name': 'Thadvdking',\n",
       "  'text': \"@vladtv Chris Rock shouldn't be saying nothing about nothing until he fights  Will Smith. #WillSmith #ChrisRock\",\n",
       "  'location': 'Baltimore, MD',\n",
       "  'latitude': 39.2908816,\n",
       "  'longitude': -76.610759},\n",
       " {'screen_name': 'NightRaydes',\n",
       "  'text': \"@Deppgirl2 Chris Rock is awesome lol. Luckily Will Smith wasn't around to give him a cuck-slap on her behalf lol.\",\n",
       "  'location': 'Earth',\n",
       "  'latitude': 34.2331373,\n",
       "  'longitude': -102.4107493},\n",
       " {'screen_name': 'itsjaiden147',\n",
       "  'text': 'People acting like will smith pulled out a gun and shot chris rock',\n",
       "  'location': 'she/her 🏳️\\u200d⚧️'},\n",
       " {'screen_name': 'medicinehelp',\n",
       "  'text': 'What ‘Traumatized’ Wanda Sykes Was Thinking When Will Smith Slapped Chris\\xa0Rock https://t.co/WPnqIlKz2r',\n",
       "  'location': 'Atlanta,GA',\n",
       "  'latitude': 33.7490987,\n",
       "  'longitude': -84.3901849},\n",
       " {'screen_name': 'Critapocalypse',\n",
       "  'text': '@MDthrice @Booker4KY You mean Gene Hackman or Will Smith?',\n",
       "  'location': 'England, United Kingdom',\n",
       "  'latitude': 52.7954791,\n",
       "  'longitude': -0.540240286617432},\n",
       " {'screen_name': 'medicinehelp',\n",
       "  'text': 'What ‘Traumatized’ Wanda Sykes Was Thinking When Will Smith Slapped Chris\\xa0Rock https://t.co/yWgTwMn0zu',\n",
       "  'location': 'Atlanta,GA',\n",
       "  'latitude': 33.7490987,\n",
       "  'longitude': -84.3901849},\n",
       " {'screen_name': 'owlgoddess24',\n",
       "  'text': 'the will smith slap in reality / what celebrities think the will smith slap was https://t.co/sSTdTQtwd8',\n",
       "  'location': 'she/her | 16'},\n",
       " {'screen_name': 'yudhairfans_',\n",
       "  'text': '@christaline_ INI PASTI WILL SMITH',\n",
       "  'location': '🇮🇩'},\n",
       " {'screen_name': 'DerikNovvaj23ii',\n",
       "  'text': '@twizzlytee Ain’t this the same bitch that tried to blame Will Smith for some dude trying t tackle Dave Chapelle on… https://t.co/wX5pUGnMuJ',\n",
       "  'location': 'DC',\n",
       "  'latitude': 38.89366125,\n",
       "  'longitude': -76.987883253882},\n",
       " {'screen_name': '100__points',\n",
       "  'text': 'They done took will smith off everything that’s crazy',\n",
       "  'location': 'Millionaire’s Row',\n",
       "  'latitude': -33.3383691,\n",
       "  'longitude': 151.5028639},\n",
       " {'screen_name': 'Onionbagmenace',\n",
       "  'text': 'I think Will Smith is a cloet Celtics fan #LovetheCelts',\n",
       "  'location': 'LUK MONTE CARLO'},\n",
       " {'screen_name': 'JoshuaMeshackJ2',\n",
       "  'text': 'People seriously need to leave Will Smith alone he said it was a accident for slapping Chris rock at the Oscars and… https://t.co/ft1zRMZXby',\n",
       "  'location': 'Laporte Indiana',\n",
       "  'latitude': 41.6105983,\n",
       "  'longitude': -86.7225227},\n",
       " {'screen_name': 'iMDRW',\n",
       "  'text': 'I have 2: “Bubbly” by Colbie Caillat and “Summertime” by Will Smith',\n",
       "  'location': 'iPhone: To your left.'},\n",
       " {'screen_name': 'Onionbagmenace',\n",
       "  'text': 'I think Will Smith is a closet Celtics fan. #Celticsin7',\n",
       "  'location': 'LUK MONTE CARLO'},\n",
       " {'screen_name': 'RotoBallerMLB',\n",
       "  'text': 'Will Smith Dealing With A Pectoral Issue, Will Return Saturday https://t.co/WiG4EG9hCr',\n",
       "  'location': 'Listen in on SiriusXM 87 🎙'},\n",
       " {'screen_name': 'asherdgreat',\n",
       "  'text': \"@CLTgirl82 Will Smith don't got to curse in his records, well I do so fuck him and fuck you too.\\n\\nWhat did poor will do to deserve that 😂.\",\n",
       "  'location': 'UK',\n",
       "  'latitude': 54.7023545,\n",
       "  'longitude': -3.2765753},\n",
       " {'screen_name': 'Scott_Roberts89',\n",
       "  'text': 'Maybe Will Smith was right to slap him..',\n",
       "  'location': 'Wrecsam',\n",
       "  'latitude': 53.0465068,\n",
       "  'longitude': -2.9938137},\n",
       " {'screen_name': '_theopeyemi',\n",
       "  'text': '@ba_tunde1 @Labisiiiii @IamDoctorFood Wish I can find that will Smith meme where he was slapping sense into the dud… https://t.co/4p0fOeK6Up',\n",
       "  'location': 'Abeokuta Ogun state',\n",
       "  'latitude': 7.161,\n",
       "  'longitude': 3.348},\n",
       " {'screen_name': 'Gangstaville247',\n",
       "  'text': 'Nowplaying -AUDIODJDROPS - WILL SMITH WDAV Davilleradiocom - Happy Holidays!',\n",
       "  'location': 'Miami, ATL, Ny and Worldwide'},\n",
       " {'screen_name': 'kaylawithouthek',\n",
       "  'text': \"My monthly tweet about how will smith's just the two of us makes me sob every single time\",\n",
       "  'location': 'Jackson, MS',\n",
       "  'latitude': 32.2990384,\n",
       "  'longitude': -90.1847691},\n",
       " {'screen_name': 'lawofthinking',\n",
       "  'text': '@wealth_director \"Talent you have naturally. Skill is only developed by hours and hours and hours of beating on your craft.\" \\n\\n~ Will Smith',\n",
       "  'location': 'United States',\n",
       "  'latitude': 39.7837304,\n",
       "  'longitude': -100.4458825},\n",
       " {'screen_name': 'ErinMPeyton',\n",
       "  'text': 'Will Smith is not Chris Brown when Chris was out here wildin.\\n\\nThis Wanda bitch on some fuck shit',\n",
       "  'location': 'Washington, DC',\n",
       "  'latitude': 38.8949549,\n",
       "  'longitude': -77.0366456},\n",
       " {'screen_name': 'mikemalter',\n",
       "  'text': '@WendyRogersAZ @Kathy4Truth Free speech does not mean freedom from consequences.\\n\\nYou supported Will Smith slapping… https://t.co/saZH2g6GGf',\n",
       "  'location': 'Prescott, AZ',\n",
       "  'latitude': 34.5402813,\n",
       "  'longitude': -112.469518},\n",
       " {'screen_name': 'AyuMegaAndhini',\n",
       "  'text': 'Will Smith slapped Chris Rock at the @TheAcademy is pretty much his best act so far! Great! #willsmithchrisrock #WillSmith',\n",
       "  'location': 'Bali - Indonesia',\n",
       "  'latitude': -8.4560181,\n",
       "  'longitude': 115.270385511912},\n",
       " {'screen_name': 'justgacheru',\n",
       "  'text': 'I wanna direct Will Smith in a movie one day',\n",
       "  'location': 'Nairobi,Kenya',\n",
       "  'latitude': -1.2832533,\n",
       "  'longitude': 36.8172449},\n",
       " {'screen_name': 'funnyfuturist',\n",
       "  'text': 'Q: WHO SUCKS MORE AMBER HEARD OR WILL SMITH?\\n #amberheard #willsmith #willsmithslap #johnnydepp #kevinspacey… https://t.co/xPplM4PEoi',\n",
       "  'location': 'Area 51',\n",
       "  'latitude': 51.4481993,\n",
       "  'longitude': 5.4564811},\n",
       " {'screen_name': 'Bryanthedude98',\n",
       "  'text': \"@PopCrave I don't approve of what will smith did. Pretty lame move but traumatized...come on now let's move on from… https://t.co/o9nxOtzScI\",\n",
       "  'location': 'United States',\n",
       "  'latitude': 39.7837304,\n",
       "  'longitude': -100.4458825},\n",
       " {'screen_name': 'jabbarrants',\n",
       "  'text': 'Traumatized? \\nWas it a shootout that happened?\\nOr will smith beat up Chris rock and broke his bones while chris scr… https://t.co/lwDvYjjgDl',\n",
       "  'location': 'Limbo ',\n",
       "  'latitude': 10.3401377,\n",
       "  'longitude': -9.1816279},\n",
       " {'screen_name': 'nakiafleming654',\n",
       "  'text': \"Chris Rock Jokes About Will Smith's Oscars Slap During Standup Set: 'Got Most of My Hear...https://t.co/cLYd3zmhIw\",\n",
       "  'location': 'Jacksonville, Fl.',\n",
       "  'latitude': 30.3321838,\n",
       "  'longitude': -81.655651},\n",
       " {'screen_name': 'kidhottakes',\n",
       "  'text': 'New Disney+ show features Cassie Lang  played by Will Smith',\n",
       "  'location': 'run by ⇨',\n",
       "  'latitude': 53.0644651,\n",
       "  'longitude': 26.6380477},\n",
       " {'screen_name': 'metalrockmusic2',\n",
       "  'text': 'R.I.P. Trevor Strnad, Will Smith on Ozzfest, and More of the Top Stories of the Week  Truly the worst week ever.\\nThe post R.I.P. Trevor',\n",
       "  'location': 'Florida, USA',\n",
       "  'latitude': 27.7567667,\n",
       "  'longitude': -81.4639835},\n",
       " {'screen_name': 'metalsucks',\n",
       "  'text': 'R.I.P. Trevor Strnad, Will Smith on Ozzfest, and More of the Top Stories of the\\xa0Week https://t.co/cmbhk6OhDQ',\n",
       "  'location': 'New York, USA',\n",
       "  'latitude': 40.7306458,\n",
       "  'longitude': -73.9866136},\n",
       " {'screen_name': 'SwartGaming2',\n",
       "  'text': '@stractic2 @DavidBHayter @Tesla @elonmusk Almost as bad as the will smith slap and el*n buying twitter. Shocked the entire nation.',\n",
       "  'location': 'what is a pronounce '},\n",
       " {'screen_name': 'mlovu_yongama',\n",
       "  'text': '@iamsoloh_s @ReeceCentre Will Smith and Jaden Smith are two different people',\n",
       "  'location': 'East London, South Africa',\n",
       "  'latitude': -33.0191604,\n",
       "  'longitude': 27.8998573},\n",
       " {'screen_name': 'ccmarce_writes',\n",
       "  'text': \"@plumcredit was that the one with will smith?? didn't that get panned?\",\n",
       "  'location': 'Moon Crystal Palace'},\n",
       " {'screen_name': 'KushKid__',\n",
       "  'text': 'I hate when our age group act like 2000-present is the only era with wack rappers lol\\n\\nDidn’t Will Smith drop a album in the 90’s? Stop it',\n",
       "  'location': 'Da Plugs House',\n",
       "  'latitude': 34.708413,\n",
       "  'longitude': 135.510632},\n",
       " {'screen_name': 'nbascribectx',\n",
       "  'text': '\\u2066@IAmSteveHarvey\\u2069, Wanda Sykes and other black Hollywood royalty are quietly cancelling Will Smith. And Black Ameri… https://t.co/glk2Wa4Uq3',\n",
       "  'location': 'Richardson, TX',\n",
       "  'latitude': 32.9481789,\n",
       "  'longitude': -96.7297206},\n",
       " {'screen_name': 'ritaj_twt',\n",
       "  'text': 'BOOO shes acting like will smith killed chris rock or something',\n",
       "  'location': 'she 17',\n",
       "  'latitude': 29.8635777,\n",
       "  'longitude': 118.4101129},\n",
       " {'screen_name': 'cacabware',\n",
       "  'text': 'You can do anything, but never go against the family. \\n\\nA blessed weekend to all my fellow will smith respecters. https://t.co/iLNxWv51Oj',\n",
       "  'location': 'boston',\n",
       "  'latitude': 42.3602534,\n",
       "  'longitude': -71.0582912},\n",
       " {'screen_name': 'VelvetRJones',\n",
       "  'text': '@itsagentnico @BlackerTheGary You disrespectful bruh. Bruh got that rank and went Will Smith on everything',\n",
       "  'location': 'ÜT: 33.862023,-84.623194'},\n",
       " {'screen_name': 'whooUlooking4',\n",
       "  'text': 'Sorry but Kendrick as Kanye was hilarious!  On the other hand.. the will smith face was Apt!',\n",
       "  'location': 'London',\n",
       "  'latitude': 51.5073219,\n",
       "  'longitude': -0.1276474},\n",
       " {'screen_name': 'TomJohn15394888',\n",
       "  'text': '@Madisontx76 Independence Day with Will Smith.',\n",
       "  'location': 'Earth',\n",
       "  'latitude': 34.2331373,\n",
       "  'longitude': -102.4107493},\n",
       " {'screen_name': 'supergrli',\n",
       "  'text': 'will smith was right',\n",
       "  'location': 'gone girl (2014) ⚢'},\n",
       " {'screen_name': 'MaxLechner2',\n",
       "  'text': 'Will Smith Just Shared His Weight-Loss Progress In New Video Post\\n\\n#diet #weightloss #celebrityweightloss #news… https://t.co/7zpJSt2Gu8',\n",
       "  'location': 'U.S.A',\n",
       "  'latitude': 19.5584043,\n",
       "  'longitude': -99.0277414},\n",
       " {'screen_name': 'kLeb_stonehands',\n",
       "  'text': 'Will Smith does one thing arguably wrong and it gets taken to the next level\\nThese over reaction articles that have… https://t.co/egxiLcwPkO',\n",
       "  'location': 'Perth, Western Australia',\n",
       "  'latitude': -31.9527121,\n",
       "  'longitude': 115.8604796},\n",
       " {'screen_name': '513VsTheWorld',\n",
       "  'text': '@PopCrave Will Smith got these comedians shook. Goddamn',\n",
       "  'location': 'Everywhere ',\n",
       "  'latitude': 52.1366141,\n",
       "  'longitude': -0.4694972},\n",
       " {'screen_name': 'listenmansays',\n",
       "  'text': \"Dave Chappelle on Will Smith's Slap https://t.co/jkBAu45FqT via @YouTube\",\n",
       "  'location': 'DC',\n",
       "  'latitude': 38.89366125,\n",
       "  'longitude': -76.987883253882},\n",
       " {'screen_name': '1EMOANHATARON',\n",
       "  'text': 'Bro, WHAT… Will Smith, then Kevin dies, then Dave Chappell’s attempted murder or whatever that was supposed to be,… https://t.co/q3iocl0upm',\n",
       "  'location': '📍The Ruined City of Atlanta.'},\n",
       " {'screen_name': 'Shawnaah',\n",
       "  'text': 'A young Will Smith was honestly handsome af',\n",
       "  'location': 'under the jail',\n",
       "  'latitude': 48.39428415,\n",
       "  'longitude': -122.333303749894},\n",
       " {'screen_name': 'gimli281164',\n",
       "  'text': '@DarrenHarriott Mutter loudly under breath how \"Will Smith would be nicer\".',\n",
       "  'location': 'Rabat - Salé - Zemmour - Zaër,',\n",
       "  'latitude': 33.9602093,\n",
       "  'longitude': -6.87923991187826},\n",
       " {'screen_name': 'mariewill07',\n",
       "  'text': '@writerlyai_bot @liles_frances Then again, maybe they need to caught up with Will Smith......',\n",
       "  'location': 'Houston  Texas',\n",
       "  'latitude': 29.7589382,\n",
       "  'longitude': -95.3676974},\n",
       " {'screen_name': 'KidRehabJr',\n",
       "  'text': 'Will Smith smacked Chris Rock five years ago, let that shit go already',\n",
       "  'location': 'The Continental ',\n",
       "  'latitude': 52.3892212,\n",
       "  'longitude': 9.73064510870302},\n",
       " {'screen_name': 'Mr10acity_',\n",
       "  'text': \"Acting like Will Smith blew Chris' brains out with a fucking shotgun on live TV it was literally just a slap 💀\",\n",
       "  'location': 'he/him',\n",
       "  'latitude': 7.016667,\n",
       "  'longitude': 8.866667},\n",
       " {'screen_name': 'silayin25',\n",
       "  'text': 'Chris Rock says he has his ‘hearing back’ after being ‘punched in the face’ by Will Smith at\\xa0Oscars https://t.co/N1AdQI44wi',\n",
       "  'location': 'USA',\n",
       "  'latitude': 39.7837304,\n",
       "  'longitude': -100.4458825},\n",
       " {'screen_name': 'MikeHun68537113',\n",
       "  'text': '@Mompreneur_of_3 Will Smith got a standing ovation, what do you mean?',\n",
       "  'location': 'London, England',\n",
       "  'latitude': 51.5073219,\n",
       "  'longitude': -0.1276474},\n",
       " {'screen_name': 'xyznews_com_ng',\n",
       "  'text': 'Chris Rock Teases Fans With ‘Will Smith’ Joke At Ego Death Comedy Tour — Guardian Life — The Guardian Nigeria News… https://t.co/qEaaLUQqNe',\n",
       "  'location': 'Nigeria',\n",
       "  'latitude': 9.6000359,\n",
       "  'longitude': 7.9999721},\n",
       " {'screen_name': 'Oluwaferanmi231',\n",
       "  'text': '@Vanburger5 @Honest__001 @big__derah Lmao 🤣 epele oo Will smith eyan Jada Pinkett 😂',\n",
       "  'location': 'Lagos, Nigeria',\n",
       "  'latitude': 6.4550575,\n",
       "  'longitude': 3.3941795},\n",
       " {'screen_name': 'boomslangfangs',\n",
       "  'text': '@NeoGameSpark The guy who jumped Chapelle is a PoS but Will Smith is great? Like why didn’t a group of people take… https://t.co/FrJgVl3TlG',\n",
       "  'location': 'New York, NY',\n",
       "  'latitude': 40.7306458,\n",
       "  'longitude': -73.9866136},\n",
       " {'screen_name': 'THEBLACKWlDOW',\n",
       "  'text': 'years-long career as a comedian and the funniest thing he’s done is get slapped by will smith',\n",
       "  'location': 'she/they, 24'},\n",
       " {'screen_name': 'RaymondBrown__',\n",
       "  'text': \"If you're absent during my struggle, don't expect to be present during my success. - Will Smith #quote https://t.co/UoLBeUtjU2\",\n",
       "  'location': 'Texas, USA',\n",
       "  'latitude': 31.8160381,\n",
       "  'longitude': -99.5120986},\n",
       " {'screen_name': 'joshie_6666',\n",
       "  'text': '@9gagceo @reicannon @ernestyu9988 @projectPXN Will smith protecting this thats why its so expensive 🔐',\n",
       "  'location': 'Jamaica',\n",
       "  'latitude': 18.1850507,\n",
       "  'longitude': -77.3947693},\n",
       " {'screen_name': 'MsAJF',\n",
       "  'text': 'Colin Kaepernick &amp; Will Smith walk into a bar … #WillSmith #ColinKaepernick #Slammed #WHYDFML',\n",
       "  'location': 'Kentucky USA',\n",
       "  'latitude': 37.5726028,\n",
       "  'longitude': -85.1551411},\n",
       " {'screen_name': 'goldloveiv',\n",
       "  'text': '@phuuuury @MindOfSteel__ @gospelbae @Such_Ally @Ryuzakku @EricaJo44088127 @dejadehaan will smith slaps chris rock,… https://t.co/hFfLXNAuwy',\n",
       "  'location': 'eva01'},\n",
       " {'screen_name': 'MsAJF',\n",
       "  'text': 'Colin Kaepernick, Will Smith &amp; Amber Heard walk into a bar … #WillSmith #ColinKaepernick #AmberHeard #Slap #Slammed #WHYDFML #Bye',\n",
       "  'location': 'Kentucky USA',\n",
       "  'latitude': 37.5726028,\n",
       "  'longitude': -85.1551411}]"
      ]
     },
     "execution_count": 200,
     "metadata": {},
     "output_type": "execute_result"
    }
   ],
   "source": [
    "tweets_from_json"
   ]
  },
  {
   "cell_type": "code",
   "execution_count": 201,
   "metadata": {},
   "outputs": [
    {
     "ename": "NameError",
     "evalue": "name 'sns' is not defined",
     "output_type": "error",
     "traceback": [
      "\u001b[1;31m---------------------------------------------------------------------------\u001b[0m",
      "\u001b[1;31mNameError\u001b[0m                                 Traceback (most recent call last)",
      "\u001b[1;32mg:\\My Drive\\Coraline\\Tweepy\\Tweepy Project Apr 22.ipynb Cell 154'\u001b[0m in \u001b[0;36m<module>\u001b[1;34m\u001b[0m\n\u001b[0;32m      <a href='vscode-notebook-cell:/g%3A/My%20Drive/Coraline/Tweepy/Tweepy%20Project%20Apr%2022.ipynb#ch0000153?line=0'>1</a>\u001b[0m \u001b[39mfor\u001b[39;00m column \u001b[39min\u001b[39;00m dft:\n\u001b[1;32m----> <a href='vscode-notebook-cell:/g%3A/My%20Drive/Coraline/Tweepy/Tweepy%20Project%20Apr%2022.ipynb#ch0000153?line=1'>2</a>\u001b[0m     sns\u001b[39m.\u001b[39mdisplot(x\u001b[39m=\u001b[39mcolumn, data\u001b[39m=\u001b[39mdft)\n",
      "\u001b[1;31mNameError\u001b[0m: name 'sns' is not defined"
     ]
    }
   ],
   "source": [
    "for column in dft:\n",
    "    sns.displot(x=column, data=dft)"
   ]
  },
  {
   "cell_type": "code",
   "execution_count": null,
   "metadata": {},
   "outputs": [
    {
     "data": {
      "text/html": [
       "<div>\n",
       "<style scoped>\n",
       "    .dataframe tbody tr th:only-of-type {\n",
       "        vertical-align: middle;\n",
       "    }\n",
       "\n",
       "    .dataframe tbody tr th {\n",
       "        vertical-align: top;\n",
       "    }\n",
       "\n",
       "    .dataframe thead th {\n",
       "        text-align: right;\n",
       "    }\n",
       "</style>\n",
       "<table border=\"1\" class=\"dataframe\">\n",
       "  <thead>\n",
       "    <tr style=\"text-align: right;\">\n",
       "      <th></th>\n",
       "      <th>latitude</th>\n",
       "      <th>longitude</th>\n",
       "    </tr>\n",
       "  </thead>\n",
       "  <tbody>\n",
       "    <tr>\n",
       "      <th>latitude</th>\n",
       "      <td>1.000000</td>\n",
       "      <td>-0.996873</td>\n",
       "    </tr>\n",
       "    <tr>\n",
       "      <th>longitude</th>\n",
       "      <td>-0.996873</td>\n",
       "      <td>1.000000</td>\n",
       "    </tr>\n",
       "  </tbody>\n",
       "</table>\n",
       "</div>"
      ],
      "text/plain": [
       "           latitude  longitude\n",
       "latitude   1.000000  -0.996873\n",
       "longitude -0.996873   1.000000"
      ]
     },
     "execution_count": 537,
     "metadata": {},
     "output_type": "execute_result"
    }
   ],
   "source": [
    "dft.corr()"
   ]
  },
  {
   "cell_type": "code",
   "execution_count": null,
   "metadata": {},
   "outputs": [
    {
     "data": {
      "text/html": [
       "<div>\n",
       "<style scoped>\n",
       "    .dataframe tbody tr th:only-of-type {\n",
       "        vertical-align: middle;\n",
       "    }\n",
       "\n",
       "    .dataframe tbody tr th {\n",
       "        vertical-align: top;\n",
       "    }\n",
       "\n",
       "    .dataframe thead th {\n",
       "        text-align: right;\n",
       "    }\n",
       "</style>\n",
       "<table border=\"1\" class=\"dataframe\">\n",
       "  <thead>\n",
       "    <tr style=\"text-align: right;\">\n",
       "      <th></th>\n",
       "      <th>latitude</th>\n",
       "      <th>longitude</th>\n",
       "    </tr>\n",
       "  </thead>\n",
       "  <tbody>\n",
       "    <tr>\n",
       "      <th>count</th>\n",
       "      <td>3.000000</td>\n",
       "      <td>3.000000</td>\n",
       "    </tr>\n",
       "    <tr>\n",
       "      <th>mean</th>\n",
       "      <td>34.794549</td>\n",
       "      <td>-22.656662</td>\n",
       "    </tr>\n",
       "    <tr>\n",
       "      <th>std</th>\n",
       "      <td>8.210207</td>\n",
       "      <td>91.514389</td>\n",
       "    </tr>\n",
       "    <tr>\n",
       "      <th>min</th>\n",
       "      <td>25.335649</td>\n",
       "      <td>-76.573454</td>\n",
       "    </tr>\n",
       "    <tr>\n",
       "      <th>25%</th>\n",
       "      <td>32.153954</td>\n",
       "      <td>-75.488808</td>\n",
       "    </tr>\n",
       "    <tr>\n",
       "      <th>50%</th>\n",
       "      <td>38.972258</td>\n",
       "      <td>-74.404162</td>\n",
       "    </tr>\n",
       "    <tr>\n",
       "      <th>75%</th>\n",
       "      <td>39.523998</td>\n",
       "      <td>4.301733</td>\n",
       "    </tr>\n",
       "    <tr>\n",
       "      <th>max</th>\n",
       "      <td>40.075738</td>\n",
       "      <td>83.007629</td>\n",
       "    </tr>\n",
       "  </tbody>\n",
       "</table>\n",
       "</div>"
      ],
      "text/plain": [
       "        latitude  longitude\n",
       "count   3.000000   3.000000\n",
       "mean   34.794549 -22.656662\n",
       "std     8.210207  91.514389\n",
       "min    25.335649 -76.573454\n",
       "25%    32.153954 -75.488808\n",
       "50%    38.972258 -74.404162\n",
       "75%    39.523998   4.301733\n",
       "max    40.075738  83.007629"
      ]
     },
     "execution_count": 538,
     "metadata": {},
     "output_type": "execute_result"
    }
   ],
   "source": [
    "dft.describe()"
   ]
  },
  {
   "cell_type": "code",
   "execution_count": null,
   "metadata": {},
   "outputs": [
    {
     "data": {
      "text/plain": [
       "<seaborn.axisgrid.PairGrid at 0x22b08771b80>"
      ]
     },
     "execution_count": 539,
     "metadata": {},
     "output_type": "execute_result"
    },
    {
     "data": {
      "image/png": "[encoded data removed]",
      "text/plain": [
       "<Figure size 360x360 with 6 Axes>"
      ]
     },
     "metadata": {},
     "output_type": "display_data"
    }
   ],
   "source": [
    "sns.pairplot(dft)"
   ]
  }
 ],
 "metadata": {
  "interpreter": {
   "hash": "9f357b62676163e453d3996bd7a23625b1faadc1b4915e4cbea894e22b2eb803"
  },
  "kernelspec": {
   "display_name": "Python 3.9.10",
   "language": "python",
   "name": "python3"
  },
  "language_info": {
   "codemirror_mode": {
    "name": "ipython",
    "version": 3
   },
   "file_extension": ".py",
   "mimetype": "text/x-python",
   "name": "python",
   "nbconvert_exporter": "python",
   "pygments_lexer": "ipython3",
   "version": "3.9.10"
  }
 },
 "nbformat": 4,
 "nbformat_minor": 4
}
