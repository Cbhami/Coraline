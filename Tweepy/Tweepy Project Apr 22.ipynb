{
 "cells": [
  {
   "cell_type": "markdown",
   "metadata": {},
   "source": [
    "# **2 (Option I). (Trends, Searches, and Sentiment)** \n",
    "2 (Option I). (Trends, Searches, and Sentiment)** <br>a. Use the Twitter Trends API to determine the available trending topics for a city of your choice, assigning a tweet volume of 5000 to any trend with no volume provided.\n",
    "\n",
    " <br>b. After sorting the trends in descending order by volume, create a bar graph with each (sorted) trend on the x-axis against its volume on the y-axis. \n",
    " \n",
    " <br>c. Use the Twitter Search API to find 20 tweets for each of the three most popular trends in the chosen city, and preprocess their associated tweet text (preferring extended tweet text, if available) in a manner appropriate for tweets. \n",
    " \n",
    " <br>d. Use `TextBlob` to determine the sentiment for each set of 20 tweets.  \n",
    " \n",
    " <br> i. Do you notice a substantial difference in the proportion of positive and negative sentiment for the three trends?  Try to theorize why or why not.  \n",
    " \n",
    " <br> ii. Do you believe the sentiment analysis to be reliable for any or all of the trend?  Explain why or why not.\n"
   ]
  },
  {
   "cell_type": "markdown",
   "metadata": {},
   "source": [
    "\n",
    "## Twitter Trends, Searches, and Sentiment"
   ]
  },
  {
   "cell_type": "markdown",
   "metadata": {
    "jp-MarkdownHeadingCollapsed": true,
    "tags": []
   },
   "source": [
    "### Load API Keys\n",
    " \n"
   ]
  },
  {
   "cell_type": "code",
   "execution_count": 1,
   "metadata": {},
   "outputs": [],
   "source": [
    "import tweepy\n",
    "import os\n",
    "APIK = os.environ.get('APIK')\n",
    "APISK = os.environ.get('APISK')\n",
    "ACCTO = os.environ.get('ACCTO')\n",
    "ACCTOS = os.environ.get('ACCTOS')\n",
    "auth = tweepy.OAuthHandler(APIK, APISK) #Set up the app keys\n",
    "auth.set_access_token(ACCTO,\n",
    "                      ACCTOS) #set up your user tokens\n",
    "api = tweepy.API(auth, wait_on_rate_limit=True, \n",
    "                 wait_on_rate_limit_notify=True)\n"
   ]
  },
  {
   "cell_type": "markdown",
   "metadata": {
    "jp-MarkdownHeadingCollapsed": true,
    "tags": []
   },
   "source": [
    "### Basic Tweepy Commands"
   ]
  },
  {
   "cell_type": "code",
   "execution_count": 2,
   "metadata": {},
   "outputs": [],
   "source": [
    "cbhami02 = api.get_user('cbhami02')"
   ]
  },
  {
   "cell_type": "code",
   "execution_count": 3,
   "metadata": {},
   "outputs": [],
   "source": [
    "api = tweepy.API(auth)\n"
   ]
  },
  {
   "cell_type": "code",
   "execution_count": 4,
   "metadata": {
    "tags": []
   },
   "outputs": [
    {
     "name": "stdout",
     "output_type": "stream",
     "text": [
      "User(_api=<tweepy.api.API object at 0x0000024B3B55A580>, _json={'id': 1515682874837643269, 'id_str': '1515682874837643269', 'name': 'Cole Hamilton', 'screen_name': 'Cbhami02', 'location': 'San Antonio, TX', 'profile_location': None, 'description': 'My Developer Account. Just for fun and sharing fascinating topics! Data Enthusiast, Fortniter, Robloxer, and a little bit of nerd.', 'url': None, 'entities': {'description': {'urls': []}}, 'protected': False, 'followers_count': 1, 'friends_count': 90, 'listed_count': 0, 'created_at': 'Sun Apr 17 13:25:44 +0000 2022', 'favourites_count': 0, 'utc_offset': None, 'time_zone': None, 'geo_enabled': False, 'verified': False, 'statuses_count': 13, 'lang': None, 'status': {'created_at': 'Wed May 11 23:15:22 +0000 2022', 'id': 1524528622719184896, 'id_str': '1524528622719184896', 'text': '“Complete Exploratory Data Analysis using Python” by Uğur Savcı\\nhttps://t.co/Vp44o2jQTU https://t.co/bEf5HBRtt8', 'truncated': False, 'entities': {'hashtags': [], 'symbols': [], 'user_mentions': [], 'urls': [{'url': 'https://t.co/Vp44o2jQTU', 'expanded_url': 'https://link.medium.com/IobrYt5fXpb', 'display_url': 'link.medium.com/IobrYt5fXpb', 'indices': [64, 87]}], 'media': [{'id': 1524528618034106370, 'id_str': '1524528618034106370', 'indices': [88, 111], 'media_url': 'http://pbs.twimg.com/media/FSg2s2fXEAIom5R.jpg', 'media_url_https': 'https://pbs.twimg.com/media/FSg2s2fXEAIom5R.jpg', 'url': 'https://t.co/bEf5HBRtt8', 'display_url': 'pic.twitter.com/bEf5HBRtt8', 'expanded_url': 'https://twitter.com/Cbhami02/status/1524528622719184896/photo/1', 'type': 'photo', 'sizes': {'thumb': {'w': 150, 'h': 150, 'resize': 'crop'}, 'large': {'w': 700, 'h': 1245, 'resize': 'fit'}, 'medium': {'w': 675, 'h': 1200, 'resize': 'fit'}, 'small': {'w': 382, 'h': 680, 'resize': 'fit'}}}]}, 'extended_entities': {'media': [{'id': 1524528618034106370, 'id_str': '1524528618034106370', 'indices': [88, 111], 'media_url': 'http://pbs.twimg.com/media/FSg2s2fXEAIom5R.jpg', 'media_url_https': 'https://pbs.twimg.com/media/FSg2s2fXEAIom5R.jpg', 'url': 'https://t.co/bEf5HBRtt8', 'display_url': 'pic.twitter.com/bEf5HBRtt8', 'expanded_url': 'https://twitter.com/Cbhami02/status/1524528622719184896/photo/1', 'type': 'photo', 'sizes': {'thumb': {'w': 150, 'h': 150, 'resize': 'crop'}, 'large': {'w': 700, 'h': 1245, 'resize': 'fit'}, 'medium': {'w': 675, 'h': 1200, 'resize': 'fit'}, 'small': {'w': 382, 'h': 680, 'resize': 'fit'}}}]}, 'source': '<a href=\"http://twitter.com/download/iphone\" rel=\"nofollow\">Twitter for iPhone</a>', 'in_reply_to_status_id': None, 'in_reply_to_status_id_str': None, 'in_reply_to_user_id': None, 'in_reply_to_user_id_str': None, 'in_reply_to_screen_name': None, 'geo': None, 'coordinates': None, 'place': None, 'contributors': None, 'is_quote_status': False, 'retweet_count': 0, 'favorite_count': 0, 'favorited': False, 'retweeted': False, 'possibly_sensitive': False, 'lang': 'fi'}, 'contributors_enabled': False, 'is_translator': False, 'is_translation_enabled': False, 'profile_background_color': 'F5F8FA', 'profile_background_image_url': None, 'profile_background_image_url_https': None, 'profile_background_tile': False, 'profile_image_url': 'http://pbs.twimg.com/profile_images/1515683341609099277/zHYTKTwd_normal.jpg', 'profile_image_url_https': 'https://pbs.twimg.com/profile_images/1515683341609099277/zHYTKTwd_normal.jpg', 'profile_link_color': '1DA1F2', 'profile_sidebar_border_color': 'C0DEED', 'profile_sidebar_fill_color': 'DDEEF6', 'profile_text_color': '333333', 'profile_use_background_image': True, 'has_extended_profile': True, 'default_profile': True, 'default_profile_image': False, 'following': False, 'follow_request_sent': False, 'notifications': False, 'translator_type': 'none', 'withheld_in_countries': []}, id=1515682874837643269, id_str='1515682874837643269', name='Cole Hamilton', screen_name='Cbhami02', location='San Antonio, TX', profile_location=None, description='My Developer Account. Just for fun and sharing fascinating topics! Data Enthusiast, Fortniter, Robloxer, and a little bit of nerd.', url=None, entities={'description': {'urls': []}}, protected=False, followers_count=1, friends_count=90, listed_count=0, created_at=datetime.datetime(2022, 4, 17, 13, 25, 44), favourites_count=0, utc_offset=None, time_zone=None, geo_enabled=False, verified=False, statuses_count=13, lang=None, status=Status(_api=<tweepy.api.API object at 0x0000024B3B55A580>, _json={'created_at': 'Wed May 11 23:15:22 +0000 2022', 'id': 1524528622719184896, 'id_str': '1524528622719184896', 'text': '“Complete Exploratory Data Analysis using Python” by Uğur Savcı\\nhttps://t.co/Vp44o2jQTU https://t.co/bEf5HBRtt8', 'truncated': False, 'entities': {'hashtags': [], 'symbols': [], 'user_mentions': [], 'urls': [{'url': 'https://t.co/Vp44o2jQTU', 'expanded_url': 'https://link.medium.com/IobrYt5fXpb', 'display_url': 'link.medium.com/IobrYt5fXpb', 'indices': [64, 87]}], 'media': [{'id': 1524528618034106370, 'id_str': '1524528618034106370', 'indices': [88, 111], 'media_url': 'http://pbs.twimg.com/media/FSg2s2fXEAIom5R.jpg', 'media_url_https': 'https://pbs.twimg.com/media/FSg2s2fXEAIom5R.jpg', 'url': 'https://t.co/bEf5HBRtt8', 'display_url': 'pic.twitter.com/bEf5HBRtt8', 'expanded_url': 'https://twitter.com/Cbhami02/status/1524528622719184896/photo/1', 'type': 'photo', 'sizes': {'thumb': {'w': 150, 'h': 150, 'resize': 'crop'}, 'large': {'w': 700, 'h': 1245, 'resize': 'fit'}, 'medium': {'w': 675, 'h': 1200, 'resize': 'fit'}, 'small': {'w': 382, 'h': 680, 'resize': 'fit'}}}]}, 'extended_entities': {'media': [{'id': 1524528618034106370, 'id_str': '1524528618034106370', 'indices': [88, 111], 'media_url': 'http://pbs.twimg.com/media/FSg2s2fXEAIom5R.jpg', 'media_url_https': 'https://pbs.twimg.com/media/FSg2s2fXEAIom5R.jpg', 'url': 'https://t.co/bEf5HBRtt8', 'display_url': 'pic.twitter.com/bEf5HBRtt8', 'expanded_url': 'https://twitter.com/Cbhami02/status/1524528622719184896/photo/1', 'type': 'photo', 'sizes': {'thumb': {'w': 150, 'h': 150, 'resize': 'crop'}, 'large': {'w': 700, 'h': 1245, 'resize': 'fit'}, 'medium': {'w': 675, 'h': 1200, 'resize': 'fit'}, 'small': {'w': 382, 'h': 680, 'resize': 'fit'}}}]}, 'source': '<a href=\"http://twitter.com/download/iphone\" rel=\"nofollow\">Twitter for iPhone</a>', 'in_reply_to_status_id': None, 'in_reply_to_status_id_str': None, 'in_reply_to_user_id': None, 'in_reply_to_user_id_str': None, 'in_reply_to_screen_name': None, 'geo': None, 'coordinates': None, 'place': None, 'contributors': None, 'is_quote_status': False, 'retweet_count': 0, 'favorite_count': 0, 'favorited': False, 'retweeted': False, 'possibly_sensitive': False, 'lang': 'fi'}, created_at=datetime.datetime(2022, 5, 11, 23, 15, 22), id=1524528622719184896, id_str='1524528622719184896', text='“Complete Exploratory Data Analysis using Python” by Uğur Savcı\\nhttps://t.co/Vp44o2jQTU https://t.co/bEf5HBRtt8', truncated=False, entities={'hashtags': [], 'symbols': [], 'user_mentions': [], 'urls': [{'url': 'https://t.co/Vp44o2jQTU', 'expanded_url': 'https://link.medium.com/IobrYt5fXpb', 'display_url': 'link.medium.com/IobrYt5fXpb', 'indices': [64, 87]}], 'media': [{'id': 1524528618034106370, 'id_str': '1524528618034106370', 'indices': [88, 111], 'media_url': 'http://pbs.twimg.com/media/FSg2s2fXEAIom5R.jpg', 'media_url_https': 'https://pbs.twimg.com/media/FSg2s2fXEAIom5R.jpg', 'url': 'https://t.co/bEf5HBRtt8', 'display_url': 'pic.twitter.com/bEf5HBRtt8', 'expanded_url': 'https://twitter.com/Cbhami02/status/1524528622719184896/photo/1', 'type': 'photo', 'sizes': {'thumb': {'w': 150, 'h': 150, 'resize': 'crop'}, 'large': {'w': 700, 'h': 1245, 'resize': 'fit'}, 'medium': {'w': 675, 'h': 1200, 'resize': 'fit'}, 'small': {'w': 382, 'h': 680, 'resize': 'fit'}}}]}, extended_entities={'media': [{'id': 1524528618034106370, 'id_str': '1524528618034106370', 'indices': [88, 111], 'media_url': 'http://pbs.twimg.com/media/FSg2s2fXEAIom5R.jpg', 'media_url_https': 'https://pbs.twimg.com/media/FSg2s2fXEAIom5R.jpg', 'url': 'https://t.co/bEf5HBRtt8', 'display_url': 'pic.twitter.com/bEf5HBRtt8', 'expanded_url': 'https://twitter.com/Cbhami02/status/1524528622719184896/photo/1', 'type': 'photo', 'sizes': {'thumb': {'w': 150, 'h': 150, 'resize': 'crop'}, 'large': {'w': 700, 'h': 1245, 'resize': 'fit'}, 'medium': {'w': 675, 'h': 1200, 'resize': 'fit'}, 'small': {'w': 382, 'h': 680, 'resize': 'fit'}}}]}, source='Twitter for iPhone', source_url='http://twitter.com/download/iphone', in_reply_to_status_id=None, in_reply_to_status_id_str=None, in_reply_to_user_id=None, in_reply_to_user_id_str=None, in_reply_to_screen_name=None, geo=None, coordinates=None, place=None, contributors=None, is_quote_status=False, retweet_count=0, favorite_count=0, favorited=False, retweeted=False, possibly_sensitive=False, lang='fi'), contributors_enabled=False, is_translator=False, is_translation_enabled=False, profile_background_color='F5F8FA', profile_background_image_url=None, profile_background_image_url_https=None, profile_background_tile=False, profile_image_url='http://pbs.twimg.com/profile_images/1515683341609099277/zHYTKTwd_normal.jpg', profile_image_url_https='https://pbs.twimg.com/profile_images/1515683341609099277/zHYTKTwd_normal.jpg', profile_link_color='1DA1F2', profile_sidebar_border_color='C0DEED', profile_sidebar_fill_color='DDEEF6', profile_text_color='333333', profile_use_background_image=True, has_extended_profile=True, default_profile=True, default_profile_image=False, following=False, follow_request_sent=False, notifications=False, translator_type='none', withheld_in_countries=[])\n"
     ]
    }
   ],
   "source": [
    "user_info = api.get_user(screen_name='cbhami02')\n",
    "print(user_info)"
   ]
  },
  {
   "cell_type": "code",
   "execution_count": 5,
   "metadata": {},
   "outputs": [
    {
     "name": "stdout",
     "output_type": "stream",
     "text": [
      "1 users are following Cbhami02.\n"
     ]
    }
   ],
   "source": [
    "print(f'{user_info.followers_count} users are following {user_info.screen_name}.')"
   ]
  },
  {
   "cell_type": "code",
   "execution_count": 6,
   "metadata": {
    "jupyter": {
     "source_hidden": true
    },
    "tags": []
   },
   "outputs": [
    {
     "data": {
      "text/plain": [
       "'Cole Hamilton'"
      ]
     },
     "execution_count": 6,
     "metadata": {},
     "output_type": "execute_result"
    }
   ],
   "source": [
    "user_info.name  # name associated with the user’s account"
   ]
  },
  {
   "cell_type": "code",
   "execution_count": 7,
   "metadata": {},
   "outputs": [
    {
     "data": {
      "text/plain": [
       "'Cbhami02'"
      ]
     },
     "execution_count": 7,
     "metadata": {},
     "output_type": "execute_result"
    }
   ],
   "source": [
    "user_info.screen_name  # user’s Twitter handle"
   ]
  },
  {
   "cell_type": "code",
   "execution_count": 8,
   "metadata": {},
   "outputs": [
    {
     "data": {
      "text/plain": [
       "'My Developer Account. Just for fun and sharing fascinating topics! Data Enthusiast, Fortniter, Robloxer, and a little bit of nerd.'"
      ]
     },
     "execution_count": 8,
     "metadata": {},
     "output_type": "execute_result"
    }
   ],
   "source": [
    "user_info.description  # description from the user’s profile"
   ]
  },
  {
   "cell_type": "code",
   "execution_count": 9,
   "metadata": {
    "tags": []
   },
   "outputs": [
    {
     "data": {
      "text/plain": [
       "Status(_api=<tweepy.api.API object at 0x0000024B3B55A580>, _json={'created_at': 'Wed May 11 23:15:22 +0000 2022', 'id': 1524528622719184896, 'id_str': '1524528622719184896', 'text': '“Complete Exploratory Data Analysis using Python” by Uğur Savcı\\nhttps://t.co/Vp44o2jQTU https://t.co/bEf5HBRtt8', 'truncated': False, 'entities': {'hashtags': [], 'symbols': [], 'user_mentions': [], 'urls': [{'url': 'https://t.co/Vp44o2jQTU', 'expanded_url': 'https://link.medium.com/IobrYt5fXpb', 'display_url': 'link.medium.com/IobrYt5fXpb', 'indices': [64, 87]}], 'media': [{'id': 1524528618034106370, 'id_str': '1524528618034106370', 'indices': [88, 111], 'media_url': 'http://pbs.twimg.com/media/FSg2s2fXEAIom5R.jpg', 'media_url_https': 'https://pbs.twimg.com/media/FSg2s2fXEAIom5R.jpg', 'url': 'https://t.co/bEf5HBRtt8', 'display_url': 'pic.twitter.com/bEf5HBRtt8', 'expanded_url': 'https://twitter.com/Cbhami02/status/1524528622719184896/photo/1', 'type': 'photo', 'sizes': {'thumb': {'w': 150, 'h': 150, 'resize': 'crop'}, 'large': {'w': 700, 'h': 1245, 'resize': 'fit'}, 'medium': {'w': 675, 'h': 1200, 'resize': 'fit'}, 'small': {'w': 382, 'h': 680, 'resize': 'fit'}}}]}, 'extended_entities': {'media': [{'id': 1524528618034106370, 'id_str': '1524528618034106370', 'indices': [88, 111], 'media_url': 'http://pbs.twimg.com/media/FSg2s2fXEAIom5R.jpg', 'media_url_https': 'https://pbs.twimg.com/media/FSg2s2fXEAIom5R.jpg', 'url': 'https://t.co/bEf5HBRtt8', 'display_url': 'pic.twitter.com/bEf5HBRtt8', 'expanded_url': 'https://twitter.com/Cbhami02/status/1524528622719184896/photo/1', 'type': 'photo', 'sizes': {'thumb': {'w': 150, 'h': 150, 'resize': 'crop'}, 'large': {'w': 700, 'h': 1245, 'resize': 'fit'}, 'medium': {'w': 675, 'h': 1200, 'resize': 'fit'}, 'small': {'w': 382, 'h': 680, 'resize': 'fit'}}}]}, 'source': '<a href=\"http://twitter.com/download/iphone\" rel=\"nofollow\">Twitter for iPhone</a>', 'in_reply_to_status_id': None, 'in_reply_to_status_id_str': None, 'in_reply_to_user_id': None, 'in_reply_to_user_id_str': None, 'in_reply_to_screen_name': None, 'geo': None, 'coordinates': None, 'place': None, 'contributors': None, 'is_quote_status': False, 'retweet_count': 0, 'favorite_count': 0, 'favorited': False, 'retweeted': False, 'possibly_sensitive': False, 'lang': 'fi'}, created_at=datetime.datetime(2022, 5, 11, 23, 15, 22), id=1524528622719184896, id_str='1524528622719184896', text='“Complete Exploratory Data Analysis using Python” by Uğur Savcı\\nhttps://t.co/Vp44o2jQTU https://t.co/bEf5HBRtt8', truncated=False, entities={'hashtags': [], 'symbols': [], 'user_mentions': [], 'urls': [{'url': 'https://t.co/Vp44o2jQTU', 'expanded_url': 'https://link.medium.com/IobrYt5fXpb', 'display_url': 'link.medium.com/IobrYt5fXpb', 'indices': [64, 87]}], 'media': [{'id': 1524528618034106370, 'id_str': '1524528618034106370', 'indices': [88, 111], 'media_url': 'http://pbs.twimg.com/media/FSg2s2fXEAIom5R.jpg', 'media_url_https': 'https://pbs.twimg.com/media/FSg2s2fXEAIom5R.jpg', 'url': 'https://t.co/bEf5HBRtt8', 'display_url': 'pic.twitter.com/bEf5HBRtt8', 'expanded_url': 'https://twitter.com/Cbhami02/status/1524528622719184896/photo/1', 'type': 'photo', 'sizes': {'thumb': {'w': 150, 'h': 150, 'resize': 'crop'}, 'large': {'w': 700, 'h': 1245, 'resize': 'fit'}, 'medium': {'w': 675, 'h': 1200, 'resize': 'fit'}, 'small': {'w': 382, 'h': 680, 'resize': 'fit'}}}]}, extended_entities={'media': [{'id': 1524528618034106370, 'id_str': '1524528618034106370', 'indices': [88, 111], 'media_url': 'http://pbs.twimg.com/media/FSg2s2fXEAIom5R.jpg', 'media_url_https': 'https://pbs.twimg.com/media/FSg2s2fXEAIom5R.jpg', 'url': 'https://t.co/bEf5HBRtt8', 'display_url': 'pic.twitter.com/bEf5HBRtt8', 'expanded_url': 'https://twitter.com/Cbhami02/status/1524528622719184896/photo/1', 'type': 'photo', 'sizes': {'thumb': {'w': 150, 'h': 150, 'resize': 'crop'}, 'large': {'w': 700, 'h': 1245, 'resize': 'fit'}, 'medium': {'w': 675, 'h': 1200, 'resize': 'fit'}, 'small': {'w': 382, 'h': 680, 'resize': 'fit'}}}]}, source='Twitter for iPhone', source_url='http://twitter.com/download/iphone', in_reply_to_status_id=None, in_reply_to_status_id_str=None, in_reply_to_user_id=None, in_reply_to_user_id_str=None, in_reply_to_screen_name=None, geo=None, coordinates=None, place=None, contributors=None, is_quote_status=False, retweet_count=0, favorite_count=0, favorited=False, retweeted=False, possibly_sensitive=False, lang='fi')"
      ]
     },
     "execution_count": 9,
     "metadata": {},
     "output_type": "execute_result"
    }
   ],
   "source": [
    "user_info.status  # most recent tweet's text"
   ]
  },
  {
   "cell_type": "code",
   "execution_count": 10,
   "metadata": {},
   "outputs": [
    {
     "name": "stdout",
     "output_type": "stream",
     "text": [
      "Cbhami02 is following 90 users.\n"
     ]
    }
   ],
   "source": [
    "print(f'{user_info.screen_name} is following {user_info.friends_count} users.')"
   ]
  },
  {
   "cell_type": "markdown",
   "metadata": {
    "jp-MarkdownHeadingCollapsed": true,
    "tags": []
   },
   "source": [
    "### Tweepy API User Info"
   ]
  },
  {
   "cell_type": "code",
   "execution_count": 11,
   "metadata": {},
   "outputs": [],
   "source": [
    "api = tweepy.API(auth)"
   ]
  },
  {
   "cell_type": "code",
   "execution_count": 12,
   "metadata": {},
   "outputs": [],
   "source": [
    "me = api.verify_credentials()"
   ]
  },
  {
   "cell_type": "code",
   "execution_count": 13,
   "metadata": {},
   "outputs": [
    {
     "data": {
      "text/plain": [
       "'Cole'"
      ]
     },
     "execution_count": 13,
     "metadata": {},
     "output_type": "execute_result"
    }
   ],
   "source": [
    "me.name"
   ]
  },
  {
   "cell_type": "code",
   "execution_count": 14,
   "metadata": {},
   "outputs": [
    {
     "name": "stdout",
     "output_type": "stream",
     "text": [
      "I have 20 follower.\n",
      "I am following 164 users.\n"
     ]
    }
   ],
   "source": [
    "print(f'I have {me.followers_count} follower.')\n",
    "print(f'I am following {me.friends_count} users.')"
   ]
  },
  {
   "cell_type": "markdown",
   "metadata": {
    "jp-MarkdownHeadingCollapsed": true,
    "tags": []
   },
   "source": [
    "### Rate Limits"
   ]
  },
  {
   "cell_type": "code",
   "execution_count": 15,
   "metadata": {
    "tags": []
   },
   "outputs": [
    {
     "data": {
      "text/plain": [
       "{'rate_limit_context': {'access_token': '2777419660-hIblVunw1TwIbGqiNE9HWcogMx3OaxTtRe0YxJN'},\n",
       " 'resources': {'lists': {'/lists/list': {'limit': 15,\n",
       "    'remaining': 15,\n",
       "    'reset': 1652407251},\n",
       "   '/lists/:id/tweets&GET': {'limit': 900,\n",
       "    'remaining': 900,\n",
       "    'reset': 1652407251},\n",
       "   '/lists/:id/followers&GET': {'limit': 180,\n",
       "    'remaining': 180,\n",
       "    'reset': 1652407251},\n",
       "   '/lists/memberships': {'limit': 75, 'remaining': 75, 'reset': 1652407251},\n",
       "   '/lists/:id&DELETE': {'limit': 300, 'remaining': 300, 'reset': 1652407251},\n",
       "   '/lists/subscriptions': {'limit': 15, 'remaining': 15, 'reset': 1652407251},\n",
       "   '/lists/members': {'limit': 900, 'remaining': 900, 'reset': 1652407251},\n",
       "   '/lists/:id&GET': {'limit': 75, 'remaining': 75, 'reset': 1652407251},\n",
       "   '/lists/subscribers/show': {'limit': 15,\n",
       "    'remaining': 15,\n",
       "    'reset': 1652407251},\n",
       "   '/lists/:id&PUT': {'limit': 300, 'remaining': 300, 'reset': 1652407251},\n",
       "   '/lists/show': {'limit': 75, 'remaining': 75, 'reset': 1652407251},\n",
       "   '/lists/ownerships': {'limit': 15, 'remaining': 15, 'reset': 1652407251},\n",
       "   '/lists/:id/members/:user_id&DELETE': {'limit': 300,\n",
       "    'remaining': 300,\n",
       "    'reset': 1652407251},\n",
       "   '/lists/subscribers': {'limit': 180, 'remaining': 180, 'reset': 1652407251},\n",
       "   '/lists/:id/members&POST': {'limit': 300,\n",
       "    'remaining': 300,\n",
       "    'reset': 1652407251},\n",
       "   '/lists/:id/members&GET': {'limit': 900,\n",
       "    'remaining': 900,\n",
       "    'reset': 1652407251},\n",
       "   '/lists/members/show': {'limit': 15, 'remaining': 15, 'reset': 1652407251},\n",
       "   '/lists/statuses': {'limit': 900, 'remaining': 900, 'reset': 1652407251}},\n",
       "  'application': {'/application/rate_limit_status': {'limit': 180,\n",
       "    'remaining': 180,\n",
       "    'reset': 1652407251}},\n",
       "  'mutes': {'/mutes/users/list': {'limit': 15,\n",
       "    'remaining': 15,\n",
       "    'reset': 1652407251},\n",
       "   '/mutes/users/ids': {'limit': 15, 'remaining': 15, 'reset': 1652407251}},\n",
       "  'verify': {'/verify/:version/badge-violation': {'limit': 15,\n",
       "    'remaining': 15,\n",
       "    'reset': 1652407251},\n",
       "   '/verify/:version/badge-violation/violations': {'limit': 15,\n",
       "    'remaining': 15,\n",
       "    'reset': 1652407251},\n",
       "   '/verify/:version/intake': {'limit': 15,\n",
       "    'remaining': 15,\n",
       "    'reset': 1652407251},\n",
       "   '/verify/:version/document-formats': {'limit': 15,\n",
       "    'remaining': 15,\n",
       "    'reset': 1652407251},\n",
       "   '/verify/:version/id-document&GET': {'limit': 1000,\n",
       "    'remaining': 1000,\n",
       "    'reset': 1652407251},\n",
       "   '/verify/:version/id-document&POST': {'limit': 15,\n",
       "    'remaining': 15,\n",
       "    'reset': 1652407251},\n",
       "   '/verify/:version/access': {'limit': 15,\n",
       "    'remaining': 15,\n",
       "    'reset': 1652407251},\n",
       "   '/verify/:version/account-eligibility': {'limit': 15,\n",
       "    'remaining': 15,\n",
       "    'reset': 1652407251}},\n",
       "  'admin_users': {'/admin_users': {'limit': 2000,\n",
       "    'remaining': 2000,\n",
       "    'reset': 1652407251}},\n",
       "  'live_video_stream': {'/live_video_stream/status/:id': {'limit': 1000,\n",
       "    'remaining': 1000,\n",
       "    'reset': 1652407251}},\n",
       "  'friendships': {'/friendships/outgoing': {'limit': 15,\n",
       "    'remaining': 15,\n",
       "    'reset': 1652407251},\n",
       "   '/friendships/list': {'limit': 200, 'remaining': 200, 'reset': 1652407251},\n",
       "   '/friendships/no_retweets/ids': {'limit': 15,\n",
       "    'remaining': 15,\n",
       "    'reset': 1652407251},\n",
       "   '/friendships/lookup': {'limit': 15, 'remaining': 15, 'reset': 1652407251},\n",
       "   '/friendships/incoming': {'limit': 15,\n",
       "    'remaining': 15,\n",
       "    'reset': 1652407251},\n",
       "   '/friendships/show': {'limit': 180, 'remaining': 180, 'reset': 1652407251}},\n",
       "  'guide': {'/guide': {'limit': 180, 'remaining': 180, 'reset': 1652407251},\n",
       "   '/guide/get_explore_locations': {'limit': 100,\n",
       "    'remaining': 100,\n",
       "    'reset': 1652407251},\n",
       "   '/guide/explore_locations_with_autocomplete': {'limit': 200,\n",
       "    'remaining': 200,\n",
       "    'reset': 1652407251}},\n",
       "  'auth': {'/auth/csrf_token': {'limit': 15,\n",
       "    'remaining': 15,\n",
       "    'reset': 1652407251}},\n",
       "  'compliance': {'/compliance/jobs&POST': {'limit': 150,\n",
       "    'remaining': 150,\n",
       "    'reset': 1652407251},\n",
       "   '/compliance/jobs&GET': {'limit': 150,\n",
       "    'remaining': 150,\n",
       "    'reset': 1652407251},\n",
       "   '/compliance/jobs/:job_id': {'limit': 150,\n",
       "    'remaining': 150,\n",
       "    'reset': 1652407251}},\n",
       "  'paseto': {'/paseto/token': {'limit': 100,\n",
       "    'remaining': 100,\n",
       "    'reset': 1652407251}},\n",
       "  'blocks': {'/blocks/list': {'limit': 15,\n",
       "    'remaining': 15,\n",
       "    'reset': 1652407251},\n",
       "   '/blocks/ids': {'limit': 15, 'remaining': 15, 'reset': 1652407251}},\n",
       "  'geo': {'/geo/similar_places': {'limit': 15,\n",
       "    'remaining': 15,\n",
       "    'reset': 1652407251},\n",
       "   '/geo/place_page': {'limit': 75, 'remaining': 75, 'reset': 1652407251},\n",
       "   '/geo/id/:place_id': {'limit': 75, 'remaining': 75, 'reset': 1652407251},\n",
       "   '/geo/reverse_geocode': {'limit': 15, 'remaining': 15, 'reset': 1652407251},\n",
       "   '/geo/search': {'limit': 15, 'remaining': 15, 'reset': 1652407251}},\n",
       "  'users': {'/users/': {'limit': 900, 'remaining': 900, 'reset': 1652407251},\n",
       "   '/users/:id/list_memberships&GET': {'limit': 75,\n",
       "    'remaining': 75,\n",
       "    'reset': 1652407251},\n",
       "   '/users/:id': {'limit': 900, 'remaining': 898, 'reset': 1652407249},\n",
       "   '/users/:id/muting&POST': {'limit': 50,\n",
       "    'remaining': 50,\n",
       "    'reset': 1652407251},\n",
       "   '/users/report_spam': {'limit': 15, 'remaining': 15, 'reset': 1652407251},\n",
       "   '/users/:id/pinned_lists/:list_id&DELETE': {'limit': 50,\n",
       "    'remaining': 50,\n",
       "    'reset': 1652407251},\n",
       "   '/users/:source_user_id/blocking/:target_user_id&DELETE': {'limit': 50,\n",
       "    'remaining': 50,\n",
       "    'reset': 1652407251},\n",
       "   '/users/contributors/pending': {'limit': 2000,\n",
       "    'remaining': 2000,\n",
       "    'reset': 1652407251},\n",
       "   '/users/show/:id': {'limit': 900, 'remaining': 900, 'reset': 1652407251},\n",
       "   '/users/:source_user_id/following&POST': {'limit': 50,\n",
       "    'remaining': 50,\n",
       "    'reset': 1652407251},\n",
       "   '/users/:id/tweets': {'limit': 900, 'remaining': 900, 'reset': 1652407251},\n",
       "   '/users/:id/retweets/:source_tweet_id&DELETE': {'limit': 50,\n",
       "    'remaining': 50,\n",
       "    'reset': 1652407251},\n",
       "   '/users/search': {'limit': 900, 'remaining': 900, 'reset': 1652407251},\n",
       "   '/users/:id/likes&POST': {'limit': 50,\n",
       "    'remaining': 50,\n",
       "    'reset': 1652407251},\n",
       "   '/users/suggestions/:slug': {'limit': 15,\n",
       "    'remaining': 15,\n",
       "    'reset': 1652407251},\n",
       "   '/users/contributees/pending': {'limit': 200,\n",
       "    'remaining': 200,\n",
       "    'reset': 1652407251},\n",
       "   '/users/:id/retweets&POST': {'limit': 50,\n",
       "    'remaining': 50,\n",
       "    'reset': 1652407251},\n",
       "   '/users/profile_banner': {'limit': 180,\n",
       "    'remaining': 180,\n",
       "    'reset': 1652407251},\n",
       "   '/users/by/username/:source_username/following/:target_user_name&DELETE': {'limit': 50,\n",
       "    'remaining': 50,\n",
       "    'reset': 1652407251},\n",
       "   '/users/by/username/:handle/tweets': {'limit': 900,\n",
       "    'remaining': 900,\n",
       "    'reset': 1652407251},\n",
       "   '/users/derived_info': {'limit': 15, 'remaining': 15, 'reset': 1652407251},\n",
       "   '/users/:id/blocking&POST': {'limit': 50,\n",
       "    'remaining': 50,\n",
       "    'reset': 1652407251},\n",
       "   '/users/by/username/:source_username/following&POST': {'limit': 50,\n",
       "    'remaining': 50,\n",
       "    'reset': 1652407251},\n",
       "   '/users/:id/followers': {'limit': 15, 'remaining': 15, 'reset': 1652407251},\n",
       "   '/users/suggestions/:slug/members': {'limit': 15,\n",
       "    'remaining': 15,\n",
       "    'reset': 1652407251},\n",
       "   '/users/:id/muting': {'limit': 15, 'remaining': 15, 'reset': 1652407251},\n",
       "   '/users/:id/pinned_lists&GET': {'limit': 15,\n",
       "    'remaining': 15,\n",
       "    'reset': 1652407251},\n",
       "   '/users/:id/mentions': {'limit': 180,\n",
       "    'remaining': 180,\n",
       "    'reset': 1652407251},\n",
       "   '/users/:id/following': {'limit': 15, 'remaining': 15, 'reset': 1652407251},\n",
       "   '/users/:id/pinned_lists&POST': {'limit': 50,\n",
       "    'remaining': 50,\n",
       "    'reset': 1652407251},\n",
       "   '/users/:source_user_id/following/:target_user_id&DELETE': {'limit': 50,\n",
       "    'remaining': 50,\n",
       "    'reset': 1652407251},\n",
       "   '/users/by/username/:username': {'limit': 900,\n",
       "    'remaining': 900,\n",
       "    'reset': 1652407251},\n",
       "   '/users/:id/owned_lists&GET': {'limit': 15,\n",
       "    'remaining': 15,\n",
       "    'reset': 1652407251},\n",
       "   '/users/:id/followed_lists&POST': {'limit': 50,\n",
       "    'remaining': 50,\n",
       "    'reset': 1652407251},\n",
       "   '/users/by/username/:username/followers': {'limit': 15,\n",
       "    'remaining': 15,\n",
       "    'reset': 1652407251},\n",
       "   '/users/lookup': {'limit': 900, 'remaining': 900, 'reset': 1652407251},\n",
       "   '/users/:id/followed_lists/:list_id&DELETE': {'limit': 50,\n",
       "    'remaining': 50,\n",
       "    'reset': 1652407251},\n",
       "   '/users/:id/blocking': {'limit': 15, 'remaining': 15, 'reset': 1652407251},\n",
       "   '/users/suggestions': {'limit': 15, 'remaining': 15, 'reset': 1652407251},\n",
       "   '/users/:id/likes/:tweet_id&DELETE': {'limit': 50,\n",
       "    'remaining': 50,\n",
       "    'reset': 1652407251},\n",
       "   '/users/by/username/:username/following': {'limit': 15,\n",
       "    'remaining': 15,\n",
       "    'reset': 1652407251},\n",
       "   '/users/by/username/:handle/mentions': {'limit': 180,\n",
       "    'remaining': 180,\n",
       "    'reset': 1652407251},\n",
       "   '/users/by': {'limit': 900, 'remaining': 900, 'reset': 1652407251},\n",
       "   '/users/:source_user_id/muting/:target_user_id&DELETE': {'limit': 50,\n",
       "    'remaining': 50,\n",
       "    'reset': 1652407251},\n",
       "   '/users/:id/followed_lists&GET': {'limit': 15,\n",
       "    'remaining': 15,\n",
       "    'reset': 1652407251},\n",
       "   '/users/:id/liked_tweets': {'limit': 75,\n",
       "    'remaining': 75,\n",
       "    'reset': 1652407251}},\n",
       "  'teams': {'/teams/authorize': {'limit': 15,\n",
       "    'remaining': 15,\n",
       "    'reset': 1652407251}},\n",
       "  'followers': {'/followers/ids': {'limit': 15,\n",
       "    'remaining': 15,\n",
       "    'reset': 1652407251},\n",
       "   '/followers/list': {'limit': 15, 'remaining': 15, 'reset': 1652407251}},\n",
       "  'collections': {'/collections/list': {'limit': 1000,\n",
       "    'remaining': 1000,\n",
       "    'reset': 1652407251},\n",
       "   '/collections/entries': {'limit': 1000,\n",
       "    'remaining': 1000,\n",
       "    'reset': 1652407251},\n",
       "   '/collections/show': {'limit': 1000,\n",
       "    'remaining': 1000,\n",
       "    'reset': 1652407251}},\n",
       "  'permissions': {'/permissions/user_permissions/admin_email_verification': {'limit': 3,\n",
       "    'remaining': 3,\n",
       "    'reset': 1652407251},\n",
       "   '/permissions/user_permissions': {'limit': 3,\n",
       "    'remaining': 3,\n",
       "    'reset': 1652407251}},\n",
       "  'tweets&POST': {'/tweets&POST': {'limit': 200,\n",
       "    'remaining': 200,\n",
       "    'reset': 1652407251}},\n",
       "  'statuses': {'/statuses/retweeters/ids': {'limit': 75,\n",
       "    'remaining': 75,\n",
       "    'reset': 1652407251},\n",
       "   '/statuses/retweets_of_me': {'limit': 75,\n",
       "    'remaining': 75,\n",
       "    'reset': 1652407251},\n",
       "   '/statuses/home_timeline': {'limit': 15,\n",
       "    'remaining': 15,\n",
       "    'reset': 1652407251},\n",
       "   '/statuses/show/:id': {'limit': 900, 'remaining': 900, 'reset': 1652407251},\n",
       "   '/statuses/user_timeline': {'limit': 900,\n",
       "    'remaining': 900,\n",
       "    'reset': 1652407251},\n",
       "   '/statuses/friends': {'limit': 15, 'remaining': 15, 'reset': 1652407251},\n",
       "   '/statuses/retweets/:id': {'limit': 75,\n",
       "    'remaining': 75,\n",
       "    'reset': 1652407251},\n",
       "   '/statuses/mentions_timeline': {'limit': 75,\n",
       "    'remaining': 75,\n",
       "    'reset': 1652407251},\n",
       "   '/statuses/oembed': {'limit': 180, 'remaining': 180, 'reset': 1652407251},\n",
       "   '/statuses/lookup': {'limit': 900, 'remaining': 900, 'reset': 1652407251}},\n",
       "  'custom_profiles': {'/custom_profiles/list': {'limit': 180,\n",
       "    'remaining': 180,\n",
       "    'reset': 1652407251},\n",
       "   '/custom_profiles/show': {'limit': 180,\n",
       "    'remaining': 180,\n",
       "    'reset': 1652407251}},\n",
       "  'webhooks': {'/webhooks/subscriptions/direct_messages': {'limit': 15,\n",
       "    'remaining': 15,\n",
       "    'reset': 1652407251},\n",
       "   '/webhooks': {'limit': 15, 'remaining': 15, 'reset': 1652407251}},\n",
       "  'contacts': {'/contacts/uploaded_by': {'limit': 300,\n",
       "    'remaining': 300,\n",
       "    'reset': 1652407251},\n",
       "   '/contacts/users': {'limit': 300, 'remaining': 300, 'reset': 1652407251},\n",
       "   '/contacts/addressbook': {'limit': 300,\n",
       "    'remaining': 300,\n",
       "    'reset': 1652407251},\n",
       "   '/contacts/users_and_uploaded_by': {'limit': 300,\n",
       "    'remaining': 300,\n",
       "    'reset': 1652407251},\n",
       "   '/contacts/delete/status': {'limit': 300,\n",
       "    'remaining': 300,\n",
       "    'reset': 1652407251}},\n",
       "  'labs': {'/labs/2/platform_manipulation/reports': {'limit': 5,\n",
       "    'remaining': 5,\n",
       "    'reset': 1652407251},\n",
       "   '/labs/:version/tweets/:id/hidden&PUT': {'limit': 10,\n",
       "    'remaining': 10,\n",
       "    'reset': 1652407251},\n",
       "   '/labs/:version/tweets/stream/filter/': {'limit': 50,\n",
       "    'remaining': 50,\n",
       "    'reset': 1652407251},\n",
       "   '/labs/:version/users/:id/tweets': {'limit': 225,\n",
       "    'remaining': 225,\n",
       "    'reset': 1652407251},\n",
       "   '/labs/2/reports': {'limit': 5, 'remaining': 5, 'reset': 1652407251},\n",
       "   '/labs/:version/tweets/stream/filter/rules&POST': {'limit': 450,\n",
       "    'remaining': 450,\n",
       "    'reset': 1652407251},\n",
       "   '/labs/:version/tweets/stream/sample': {'limit': 50,\n",
       "    'remaining': 50,\n",
       "    'reset': 1652407251},\n",
       "   '/labs/:version/users/by/username/:handle/tweets': {'limit': 225,\n",
       "    'remaining': 225,\n",
       "    'reset': 1652407251},\n",
       "   '/labs/:version/tweets/metrics/private': {'limit': 15,\n",
       "    'remaining': 15,\n",
       "    'reset': 1652407251},\n",
       "   '/labs/:version/tweets/stream/filter/rules/:instance_name': {'limit': 450,\n",
       "    'remaining': 450,\n",
       "    'reset': 1652407251},\n",
       "   '/labs/:version/tweets/*': {'limit': 900,\n",
       "    'remaining': 900,\n",
       "    'reset': 1652407251},\n",
       "   '/labs/:version/users/*': {'limit': 900,\n",
       "    'remaining': 900,\n",
       "    'reset': 1652407251},\n",
       "   '/labs/:version/tweets/stream/filter/:instance_name': {'limit': 50,\n",
       "    'remaining': 50,\n",
       "    'reset': 1652407251},\n",
       "   '/labs/:version/tweets/stream/filter/rules/': {'limit': 450,\n",
       "    'remaining': 450,\n",
       "    'reset': 1652407251},\n",
       "   '/labs/:version/tweets/stream/compliance': {'limit': 500,\n",
       "    'remaining': 500,\n",
       "    'reset': 1652407251},\n",
       "   '/labs/:version/tweets/search': {'limit': 225,\n",
       "    'remaining': 225,\n",
       "    'reset': 1652407251}},\n",
       "  'i': {'/i/config': {'limit': 15, 'remaining': 15, 'reset': 1652407251},\n",
       "   '/i/tfb/v1/smb/web/:account_id/payment/save': {'limit': 15,\n",
       "    'remaining': 15,\n",
       "    'reset': 1652407251}},\n",
       "  'tweet_prompts': {'/tweet_prompts/report_interaction': {'limit': 180,\n",
       "    'remaining': 180,\n",
       "    'reset': 1652407251},\n",
       "   '/tweet_prompts/show': {'limit': 180,\n",
       "    'remaining': 180,\n",
       "    'reset': 1652407251}},\n",
       "  'moments': {'/moments/statuses/update': {'limit': 5,\n",
       "    'remaining': 5,\n",
       "    'reset': 1652407251},\n",
       "   '/moments/create': {'limit': 15, 'remaining': 15, 'reset': 1652407251},\n",
       "   '/moments/permissions': {'limit': 300,\n",
       "    'remaining': 300,\n",
       "    'reset': 1652407251}},\n",
       "  'limiter_scalding_report_creation': {'/limiter_scalding_report_creation': {'limit': 4500,\n",
       "    'remaining': 4500,\n",
       "    'reset': 1652407251}},\n",
       "  'fleets': {'/fleets/:version/mutes/create': {'limit': 100,\n",
       "    'remaining': 100,\n",
       "    'reset': 1652407251},\n",
       "   '/fleets/:version/viewers': {'limit': 100,\n",
       "    'remaining': 100,\n",
       "    'reset': 1652407251},\n",
       "   '/fleets/:version/delete': {'limit': 50,\n",
       "    'remaining': 50,\n",
       "    'reset': 1652407251},\n",
       "   '/fleets/:version/avatar_content': {'limit': 100,\n",
       "    'remaining': 100,\n",
       "    'reset': 1652407251},\n",
       "   '/fleets/:version/create': {'limit': 50,\n",
       "    'remaining': 50,\n",
       "    'reset': 1652407251},\n",
       "   '/fleets/:version/user_fleets': {'limit': 180,\n",
       "    'remaining': 180,\n",
       "    'reset': 1652407251},\n",
       "   '/fleets/:version/fleetline': {'limit': 100,\n",
       "    'remaining': 100,\n",
       "    'reset': 1652407251},\n",
       "   '/fleets/:version/track_events': {'limit': 100,\n",
       "    'remaining': 100,\n",
       "    'reset': 1652407251},\n",
       "   '/fleets/:version/update': {'limit': 50,\n",
       "    'remaining': 50,\n",
       "    'reset': 1652407251},\n",
       "   '/fleets/:version/fleet_threads': {'limit': 1000,\n",
       "    'remaining': 1000,\n",
       "    'reset': 1652407251},\n",
       "   '/fleets/:version/mutes/list': {'limit': 100,\n",
       "    'remaining': 100,\n",
       "    'reset': 1652407251},\n",
       "   '/fleets/:version/mutes/destroy': {'limit': 100,\n",
       "    'remaining': 100,\n",
       "    'reset': 1652407251},\n",
       "   '/fleets/:version/home_timeline': {'limit': 100,\n",
       "    'remaining': 100,\n",
       "    'reset': 1652407251},\n",
       "   '/fleets/:version/feedback/create': {'limit': 500,\n",
       "    'remaining': 500,\n",
       "    'reset': 1652407251},\n",
       "   '/fleets/:version/mark_read': {'limit': 1000,\n",
       "    'remaining': 1000,\n",
       "    'reset': 1652407251}},\n",
       "  'help': {'/help/tos': {'limit': 15, 'remaining': 15, 'reset': 1652407251},\n",
       "   '/help/configuration': {'limit': 15, 'remaining': 15, 'reset': 1652407251},\n",
       "   '/help/settings': {'limit': 15, 'remaining': 15, 'reset': 1652407251},\n",
       "   '/help/privacy': {'limit': 15, 'remaining': 15, 'reset': 1652407251},\n",
       "   '/help/languages': {'limit': 15, 'remaining': 15, 'reset': 1652407251}},\n",
       "  'feedback': {'/feedback/show/:id': {'limit': 180,\n",
       "    'remaining': 180,\n",
       "    'reset': 1652407251},\n",
       "   '/feedback/events': {'limit': 1000,\n",
       "    'remaining': 1000,\n",
       "    'reset': 1652407251}},\n",
       "  'business_experience': {'/business_experience/dashboard_settings/destroy': {'limit': 450,\n",
       "    'remaining': 450,\n",
       "    'reset': 1652407251},\n",
       "   '/business_experience/dashboard_features': {'limit': 450,\n",
       "    'remaining': 450,\n",
       "    'reset': 1652407251},\n",
       "   '/business_experience/keywords': {'limit': 450,\n",
       "    'remaining': 450,\n",
       "    'reset': 1652407251},\n",
       "   '/business_experience/dashboard_settings/update': {'limit': 450,\n",
       "    'remaining': 450,\n",
       "    'reset': 1652407251},\n",
       "   '/business_experience/dashboard_settings/show': {'limit': 450,\n",
       "    'remaining': 450,\n",
       "    'reset': 1652407251}},\n",
       "  'graphql&POST': {'/graphql&POST': {'limit': 15,\n",
       "    'remaining': 15,\n",
       "    'reset': 1652407251}},\n",
       "  'friends': {'/friends/following/ids': {'limit': 15,\n",
       "    'remaining': 15,\n",
       "    'reset': 1652407251},\n",
       "   '/friends/following/list': {'limit': 15,\n",
       "    'remaining': 15,\n",
       "    'reset': 1652407251},\n",
       "   '/friends/list': {'limit': 15, 'remaining': 15, 'reset': 1652407251},\n",
       "   '/friends/ids': {'limit': 15, 'remaining': 15, 'reset': 1652407251}},\n",
       "  'sandbox': {'/sandbox/account_activity/webhooks/:id/subscriptions': {'limit': 500,\n",
       "    'remaining': 500,\n",
       "    'reset': 1652407251}},\n",
       "  'drafts': {'/drafts/statuses/update': {'limit': 450,\n",
       "    'remaining': 450,\n",
       "    'reset': 1652407251},\n",
       "   '/drafts/statuses/destroy': {'limit': 450,\n",
       "    'remaining': 450,\n",
       "    'reset': 1652407251},\n",
       "   '/drafts/statuses/ids': {'limit': 450,\n",
       "    'remaining': 450,\n",
       "    'reset': 1652407251},\n",
       "   '/drafts/statuses/list': {'limit': 450,\n",
       "    'remaining': 450,\n",
       "    'reset': 1652407251},\n",
       "   '/drafts/statuses/show': {'limit': 450,\n",
       "    'remaining': 450,\n",
       "    'reset': 1652407251},\n",
       "   '/drafts/statuses/create': {'limit': 450,\n",
       "    'remaining': 450,\n",
       "    'reset': 1652407251}},\n",
       "  'direct_messages': {'/direct_messages/sent': {'limit': 300,\n",
       "    'remaining': 300,\n",
       "    'reset': 1652407251},\n",
       "   '/direct_messages/broadcasts/list': {'limit': 60,\n",
       "    'remaining': 60,\n",
       "    'reset': 1652407251},\n",
       "   '/direct_messages/subscribers/lists/members/show': {'limit': 1000,\n",
       "    'remaining': 1000,\n",
       "    'reset': 1652407251},\n",
       "   '/direct_messages/mark_read': {'limit': 1000,\n",
       "    'remaining': 1000,\n",
       "    'reset': 1652407251},\n",
       "   '/direct_messages/subscribers/ids': {'limit': 180,\n",
       "    'remaining': 180,\n",
       "    'reset': 1652407251},\n",
       "   '/direct_messages/sent_and_received': {'limit': 300,\n",
       "    'remaining': 300,\n",
       "    'reset': 1652407251},\n",
       "   '/direct_messages/broadcasts/statuses/list': {'limit': 60,\n",
       "    'remaining': 60,\n",
       "    'reset': 1652407251},\n",
       "   '/direct_messages': {'limit': 300, 'remaining': 300, 'reset': 1652407251},\n",
       "   '/direct_messages/subscribers/lists/members/ids': {'limit': 180,\n",
       "    'remaining': 180,\n",
       "    'reset': 1652407251},\n",
       "   '/direct_messages/subscribers/show': {'limit': 180,\n",
       "    'remaining': 180,\n",
       "    'reset': 1652407251},\n",
       "   '/direct_messages/broadcasts/show': {'limit': 60,\n",
       "    'remaining': 60,\n",
       "    'reset': 1652407251},\n",
       "   '/direct_messages/broadcasts/statuses/show': {'limit': 60,\n",
       "    'remaining': 60,\n",
       "    'reset': 1652407251},\n",
       "   '/direct_messages/subscribers/lists/list': {'limit': 180,\n",
       "    'remaining': 180,\n",
       "    'reset': 1652407251},\n",
       "   '/direct_messages/show': {'limit': 300,\n",
       "    'remaining': 300,\n",
       "    'reset': 1652407251},\n",
       "   '/direct_messages/events/list': {'limit': 15,\n",
       "    'remaining': 15,\n",
       "    'reset': 1652407251},\n",
       "   '/direct_messages/subscribers/lists/show': {'limit': 180,\n",
       "    'remaining': 180,\n",
       "    'reset': 1652407251},\n",
       "   '/direct_messages/events/show': {'limit': 15,\n",
       "    'remaining': 15,\n",
       "    'reset': 1652407251}},\n",
       "  'media': {'/media/upload': {'limit': 500,\n",
       "    'remaining': 500,\n",
       "    'reset': 1652407251}},\n",
       "  'traffic': {'/traffic/map': {'limit': 15,\n",
       "    'remaining': 15,\n",
       "    'reset': 1652407251}},\n",
       "  'strato': {'/strato/column/None/:id/cms/*': {'limit': 150,\n",
       "    'remaining': 150,\n",
       "    'reset': 1652407251}},\n",
       "  'account_activity': {'/account_activity/all/webhooks': {'limit': 15,\n",
       "    'remaining': 15,\n",
       "    'reset': 1652407251},\n",
       "   '/account_activity/all/:instance_name/subscriptions': {'limit': 500,\n",
       "    'remaining': 500,\n",
       "    'reset': 1652407251},\n",
       "   '/account_activity/direct_messages/webhooks': {'limit': 15,\n",
       "    'remaining': 15,\n",
       "    'reset': 1652407251},\n",
       "   '/account_activity/webhooks/:id/subscriptions/direct_messages/list': {'limit': 15,\n",
       "    'remaining': 15,\n",
       "    'reset': 1652407251},\n",
       "   '/account_activity/webhooks/:id/subscriptions/all': {'limit': 500,\n",
       "    'remaining': 500,\n",
       "    'reset': 1652407251},\n",
       "   '/account_activity/direct_messages/:instance_name/webhooks': {'limit': 15,\n",
       "    'remaining': 15,\n",
       "    'reset': 1652407251},\n",
       "   '/account_activity/webhooks/:id/subscriptions/all/list': {'limit': 15,\n",
       "    'remaining': 15,\n",
       "    'reset': 1652407251},\n",
       "   '/account_activity/webhooks/:id/subscriptions/direct_messages': {'limit': 500,\n",
       "    'remaining': 500,\n",
       "    'reset': 1652407251},\n",
       "   '/account_activity/webhooks': {'limit': 15,\n",
       "    'remaining': 15,\n",
       "    'reset': 1652407251},\n",
       "   '/account_activity/direct_messages/:instance_name/subscriptions': {'limit': 15,\n",
       "    'remaining': 15,\n",
       "    'reset': 1652407251},\n",
       "   '/account_activity/webhooks/:id/subscriptions': {'limit': 500,\n",
       "    'remaining': 500,\n",
       "    'reset': 1652407251},\n",
       "   '/account_activity/all/:instance_name/webhooks': {'limit': 15,\n",
       "    'remaining': 15,\n",
       "    'reset': 1652407251}},\n",
       "  'account': {'/account/login_verification_enrollment': {'limit': 15,\n",
       "    'remaining': 15,\n",
       "    'reset': 1652407251},\n",
       "   '/account/update_profile': {'limit': 15,\n",
       "    'remaining': 15,\n",
       "    'reset': 1652407251},\n",
       "   '/account/authenticate_web_view': {'limit': 50,\n",
       "    'remaining': 50,\n",
       "    'reset': 1652407251},\n",
       "   '/account/verify_credentials': {'limit': 75,\n",
       "    'remaining': 74,\n",
       "    'reset': 1652407250},\n",
       "   '/account/settings': {'limit': 15, 'remaining': 15, 'reset': 1652407251},\n",
       "   '/account/personalization/p13n_preferences': {'limit': 200,\n",
       "    'remaining': 200,\n",
       "    'reset': 1652407251},\n",
       "   '/account/change_password': {'limit': 15,\n",
       "    'remaining': 15,\n",
       "    'reset': 1652407251}},\n",
       "  'safety': {'/safety/detection_feedback': {'limit': 450000,\n",
       "    'remaining': 450000,\n",
       "    'reset': 1652407251}},\n",
       "  'favorites': {'/favorites/list': {'limit': 75,\n",
       "    'remaining': 75,\n",
       "    'reset': 1652407251}},\n",
       "  'lists&POST': {'/lists&POST': {'limit': 300,\n",
       "    'remaining': 300,\n",
       "    'reset': 1652407251}},\n",
       "  'device': {'/device/token': {'limit': 15,\n",
       "    'remaining': 15,\n",
       "    'reset': 1652407251}},\n",
       "  'tweets': {'/tweets/search/all': {'limit': 900,\n",
       "    'remaining': 900,\n",
       "    'reset': 1652407251},\n",
       "   '/tweets/search/stream/rules': {'limit': 450,\n",
       "    'remaining': 450,\n",
       "    'reset': 1652407251},\n",
       "   '/tweets/search/recent': {'limit': 180,\n",
       "    'remaining': 180,\n",
       "    'reset': 1652407251},\n",
       "   '/tweets/sample/stream': {'limit': 50,\n",
       "    'remaining': 50,\n",
       "    'reset': 1652407251},\n",
       "   '/tweets/:id&DELETE': {'limit': 50, 'remaining': 50, 'reset': 1652407251},\n",
       "   '/tweets/': {'limit': 900, 'remaining': 900, 'reset': 1652407251},\n",
       "   '/tweets/counts/all': {'limit': 900, 'remaining': 900, 'reset': 1652407251},\n",
       "   '/tweets/search/stream': {'limit': 50,\n",
       "    'remaining': 50,\n",
       "    'reset': 1652407251},\n",
       "   '/tweets/search/:product/:label': {'limit': 1800,\n",
       "    'remaining': 1800,\n",
       "    'reset': 1652407251},\n",
       "   '/tweets/search/stream/rules/validation&POST': {'limit': 450,\n",
       "    'remaining': 450,\n",
       "    'reset': 1652407251},\n",
       "   '/tweets/search/:product/:instance/counts': {'limit': 900,\n",
       "    'remaining': 900,\n",
       "    'reset': 1652407251},\n",
       "   '/tweets/:id/retweeted_by': {'limit': 75,\n",
       "    'remaining': 75,\n",
       "    'reset': 1652407251},\n",
       "   '/tweets/:tweet_id/liking_users': {'limit': 75,\n",
       "    'remaining': 75,\n",
       "    'reset': 1652407251},\n",
       "   '/tweets/:id': {'limit': 900, 'remaining': 900, 'reset': 1652407251},\n",
       "   '/tweets/search/stream/rules&DELETE': {'limit': 450,\n",
       "    'remaining': 450,\n",
       "    'reset': 1652407251},\n",
       "   '/tweets/counts/recent': {'limit': 900,\n",
       "    'remaining': 900,\n",
       "    'reset': 1652407251},\n",
       "   '/tweets/search/stream/rules&POST': {'limit': 450,\n",
       "    'remaining': 450,\n",
       "    'reset': 1652407251},\n",
       "   '/tweets/:id/hidden&PUT': {'limit': 50,\n",
       "    'remaining': 50,\n",
       "    'reset': 1652407251}},\n",
       "  'saved_searches': {'/saved_searches/destroy/:id': {'limit': 15,\n",
       "    'remaining': 15,\n",
       "    'reset': 1652407251},\n",
       "   '/saved_searches/show/:id': {'limit': 15,\n",
       "    'remaining': 15,\n",
       "    'reset': 1652407251},\n",
       "   '/saved_searches/list': {'limit': 15,\n",
       "    'remaining': 15,\n",
       "    'reset': 1652407251}},\n",
       "  'oauth': {'/oauth/revoke': {'limit': 15,\n",
       "    'remaining': 15,\n",
       "    'reset': 1652407251},\n",
       "   '/oauth/invalidate_token': {'limit': 450,\n",
       "    'remaining': 450,\n",
       "    'reset': 1652407251},\n",
       "   '/oauth/revoke_html': {'limit': 15, 'remaining': 15, 'reset': 1652407251}},\n",
       "  'search': {'/search/tweets': {'limit': 180,\n",
       "    'remaining': 180,\n",
       "    'reset': 1652407251}},\n",
       "  'trends': {'/trends/closest': {'limit': 75,\n",
       "    'remaining': 75,\n",
       "    'reset': 1652407251},\n",
       "   '/trends/available': {'limit': 75, 'remaining': 75, 'reset': 1652407251},\n",
       "   '/trends/place': {'limit': 75, 'remaining': 75, 'reset': 1652407251}},\n",
       "  'live_pipeline': {'/live_pipeline/events': {'limit': 180,\n",
       "    'remaining': 180,\n",
       "    'reset': 1652407251}},\n",
       "  'graphql': {'/graphql': {'limit': 15,\n",
       "    'remaining': 15,\n",
       "    'reset': 1652407251}}}}"
      ]
     },
     "execution_count": 15,
     "metadata": {},
     "output_type": "execute_result"
    }
   ],
   "source": [
    "api.rate_limit_status()"
   ]
  },
  {
   "cell_type": "code",
   "execution_count": 16,
   "metadata": {},
   "outputs": [],
   "source": [
    "cbhami02=api.get_user(screen_name='cbhami02')\n"
   ]
  },
  {
   "cell_type": "code",
   "execution_count": 17,
   "metadata": {},
   "outputs": [
    {
     "name": "stdout",
     "output_type": "stream",
     "text": [
      "{'limit': 900, 'remaining': 897, 'reset': 1652407249}\n"
     ]
    }
   ],
   "source": [
    "print(api.rate_limit_status()['resources']['users']['/users/:id'])"
   ]
  },
  {
   "cell_type": "code",
   "execution_count": 18,
   "metadata": {},
   "outputs": [
    {
     "name": "stdout",
     "output_type": "stream",
     "text": [
      "{'limit': 180, 'remaining': 180, 'reset': 1652407252}\n"
     ]
    }
   ],
   "source": [
    "print(api.rate_limit_status()['resources']['application']['/application/rate_limit_status'])"
   ]
  },
  {
   "cell_type": "markdown",
   "metadata": {
    "jp-MarkdownHeadingCollapsed": true,
    "tags": []
   },
   "source": [
    "### Followers"
   ]
  },
  {
   "cell_type": "code",
   "execution_count": 19,
   "metadata": {
    "tags": []
   },
   "outputs": [],
   "source": [
    "cursor = tweepy.Cursor(api.followers)"
   ]
  },
  {
   "cell_type": "code",
   "execution_count": 20,
   "metadata": {},
   "outputs": [],
   "source": [
    "followers = []  # for storing followers' User objects\n",
    "for account in cursor.items(15):  # request only 10 results (10 most recent followers in this case)\n",
    "    followers.append(account.screen_name)"
   ]
  },
  {
   "cell_type": "code",
   "execution_count": 21,
   "metadata": {},
   "outputs": [
    {
     "name": "stdout",
     "output_type": "stream",
     "text": [
      "Followers: 1SG_Hamilton adore_myBitches BrockCline ChildsSherry GucciManeNtail HamptonRFinest mwyattea OrderUpFayville PjCarl porge10 sayedabdulqadee shefferba49 soldiersofpaint VA_HomeLoan yongkuansima\n"
     ]
    }
   ],
   "source": [
    "print('Followers:', \n",
    "      ' '.join(sorted(followers, key=lambda s: s.lower())))"
   ]
  },
  {
   "cell_type": "code",
   "execution_count": 22,
   "metadata": {},
   "outputs": [
    {
     "name": "stdout",
     "output_type": "stream",
     "text": [
      "['Air19Javi', 'felipejfmg', 'liusiyu50658233', 'artho7', 'Brandon14005766', 'DarrellFuglseth', 'Blockhead_29', 'sshugaa', '_ianst', 'AugustoSena1234']\n"
     ]
    }
   ],
   "source": [
    "cursor = tweepy.Cursor(api.followers, screen_name='nasa', count=200)\n",
    "followers = []\n",
    "for account in cursor.items(10):  # request 2 pages of followers\n",
    "    followers.append(account.screen_name)\n",
    "\n",
    "print(followers)"
   ]
  },
  {
   "cell_type": "code",
   "execution_count": 23,
   "metadata": {},
   "outputs": [],
   "source": [
    "cursor = tweepy.Cursor(api.followers_ids, screen_name='nasa', count=5000)\n",
    "followers_ids = []\n",
    "for accountid in cursor.items(5000): #request 1 page of follower_ids\n",
    "    followers_ids.append(accountid)"
   ]
  },
  {
   "cell_type": "code",
   "execution_count": 24,
   "metadata": {
    "tags": []
   },
   "outputs": [
    {
     "name": "stdout",
     "output_type": "stream",
     "text": [
      "[1208080393544622081, 852914851, 1524928634754314245, 1297513748, 1524924163542089738, 1524927386717921282, 1524927309085659136, 133139159, 1524927003710787584, 1524926429535805461, 1524928518505009152, 1524928513358307328, 1524928349914574849, 1524927862478086144, 1524927186549239809, 1524925187312975875, 1523463328672190464, 1524928036054847488, 1524927708114853905, 1524928063477260288, 1423700295326961666, 1459368348962242560, 1524928607327494148, 1368322923568726017, 1524928454642216960, 1524928447369269249, 1524925021088624641, 1506191677404463108, 1524926765168111617, 1524927822812172288, 1524927525398388741, 186625635, 1524928557540986880, 1524927111328325632, 1445386791255687170, 1499663391413047300, 1524928467208482816, 1524927393026154505, 1524927048363352064, 1524748609928847360, 306000351, 1524928173019897861, 1480678001322901510, 1524925010724388871, 1524928523575922688, 2762982193, 1524925868446982302, 1524926615821910016, 1524926251592712192, 1524927262683955200, 1524927388110712832, 1524928334517489664, 1524928228523028480, 1524927165816782848, 1524923756027707396, 1198454046430023683, 243346887, 1524927977250664448, 1524927268467769345, 1524927576120115200, 439971982, 1524928209808130049, 1429081810009423878, 1524927826150957064, 1235508884791365632, 1524927565047410688, 1524927013521334288, 1524926976800063488, 1524926603880439814, 1519156646609567746, 1524927905976922112, 1524927374369751040, 1524928367220314113, 1167805562542645250, 1524927894966902785, 1524927183180861442, 1524925880287772672, 1524928054350360576, 1524927676108120069, 1524925007180201997, 1524928212681236490, 1524928156397969408, 1524924131174645779, 1524928243278675968, 1524928199947427840, 1524927600061292544, 1484574798848356353, 1524877208505966592, 1524926768007757824, 1427708970651856903, 1396898737931304962, 1524928060360998912, 1501655126695677955, 1524921000126709771, 764057607724265472, 1524928002944999424, 1524927910347427840, 1226201315799334918, 1524927576468508672, 1524928159699054592]\n"
     ]
    }
   ],
   "source": [
    "followers_ids_fragments = [followers_ids[i * 100:(i + 1) * 100] for i in range((len(followers_ids) + 100 - 1) // 100 )] \n",
    "print (followers_ids_fragments[0])"
   ]
  },
  {
   "cell_type": "markdown",
   "metadata": {
    "jp-MarkdownHeadingCollapsed": true,
    "tags": []
   },
   "source": [
    "### Rate Limits"
   ]
  },
  {
   "cell_type": "code",
   "execution_count": 25,
   "metadata": {},
   "outputs": [
    {
     "name": "stdout",
     "output_type": "stream",
     "text": [
      "{'limit': 15, 'remaining': 14, 'reset': 1652407254}\n"
     ]
    }
   ],
   "source": [
    "print(api.rate_limit_status()['resources']['followers']['/followers/ids'])\n"
   ]
  },
  {
   "cell_type": "code",
   "execution_count": 26,
   "metadata": {},
   "outputs": [
    {
     "name": "stdout",
     "output_type": "stream",
     "text": [
      "{'limit': 900, 'remaining': 900, 'reset': 1652407254}\n"
     ]
    }
   ],
   "source": [
    "print(api.rate_limit_status()['resources']['users']['/users/lookup'])"
   ]
  },
  {
   "cell_type": "markdown",
   "metadata": {
    "jp-MarkdownHeadingCollapsed": true,
    "tags": []
   },
   "source": [
    "### Search Tweets by Topic"
   ]
  },
  {
   "cell_type": "code",
   "execution_count": 27,
   "metadata": {},
   "outputs": [],
   "source": [
    "def print_tweets(tweets):\n",
    "    \"\"\"For each Tweepy Status object in tweets, display the \n",
    "    user's screen_name and tweet text. If the language is not\n",
    "    English, translate the text with TextBlob.\"\"\"\n",
    "    for tweet in tweets:\n",
    "        print(f'{tweet.user.screen_name}:', end=' ')\n",
    "    \n",
    "        if 'en' in tweet.lang:\n",
    "            print(f'{tweet.text}\\n')\n",
    "        elif 'und' not in tweet.lang:  # translate to English first\n",
    "            print(f'\\n  ORIGINAL: {tweet.text}')\n",
    "            try:\n",
    "                print(f'TRANSLATED: {TextBlob(tweet.text).translate()}\\n')\n",
    "            except:\n",
    "                print('Unable to translate tweet')"
   ]
  },
  {
   "cell_type": "code",
   "execution_count": 28,
   "metadata": {},
   "outputs": [],
   "source": [
    "tweets = api.search(q='Johnny Depp', count=3)"
   ]
  },
  {
   "cell_type": "code",
   "execution_count": 29,
   "metadata": {},
   "outputs": [
    {
     "name": "stdout",
     "output_type": "stream",
     "text": [
      "Dlmoodyfan77: We stand with Johnny Depp, not Marilyn Manson! #amberheard PR team is behind this! #justiceforJohnnyDepp… https://t.co/7IpkEHfIMP\n",
      "\n",
      "TopKat04767754: All Audio Recordings Played in Johnny Depp &amp; Amber Heard Defamation Tria... https://t.co/BJyHVl7TA8 via @YouTube\n",
      "\n",
      "carolzinhvarga: \n",
      "  ORIGINAL: RT @parkgirl_: O que a mídia não mostra e você deveria saber sobre o caso de Amber Heard x Johnny Depp  - a thread \n",
      "\n",
      "#IStandWithAmberHeard…\n",
      "Unable to translate tweet\n"
     ]
    }
   ],
   "source": [
    "print_tweets(tweets) "
   ]
  },
  {
   "cell_type": "code",
   "execution_count": 30,
   "metadata": {},
   "outputs": [],
   "source": [
    "tweets = api.search(q='Johnny Depp :)', count=3) #Only \"positive sentiment tweets involving basketball\""
   ]
  },
  {
   "cell_type": "code",
   "execution_count": 31,
   "metadata": {},
   "outputs": [],
   "source": [
    "tweets = api.search(q='#Heard', count=5)"
   ]
  },
  {
   "cell_type": "code",
   "execution_count": 32,
   "metadata": {},
   "outputs": [
    {
     "name": "stdout",
     "output_type": "stream",
     "text": [
      "SichuanDaily: Morning🌿🌿\n",
      "Have you ever #heard about #Epiphyllum?\n",
      "A photographer who #lived in #Chengdu recorded this beautiful… https://t.co/PFZe1nWLZY\n",
      "\n",
      "ElHorizontemx: \n",
      "  ORIGINAL: En redes sociales se ha hecho viral un test sobre la famosa y aquí te decimos cuál es 👇👇👇\n",
      "\n",
      "¡No olvides decirnos cóm… https://t.co/33LQoao6P5\n",
      "Unable to translate tweet\n",
      "LakotaScientist: The perfect domestic violence victim is a dead one.\n",
      "That's why you make fun of #AmberHeard.\n",
      "You wan't to torture he… https://t.co/HveTj4HjZO\n",
      "\n",
      "Gee_McK: Who did it better #Depp #Heard #Rooney #Vardy\n",
      "\n",
      "therealpabloalf: Amber Heard pushes The Innocent Pirate to ‘tell the world’ he’s a victim of domestic violence on taped phone call… https://t.co/zKL0dX7iwz\n",
      "\n"
     ]
    }
   ],
   "source": [
    "print_tweets(tweets)"
   ]
  },
  {
   "cell_type": "markdown",
   "metadata": {
    "jp-MarkdownHeadingCollapsed": true,
    "tags": []
   },
   "source": [
    "### Trends Available"
   ]
  },
  {
   "cell_type": "code",
   "execution_count": 33,
   "metadata": {},
   "outputs": [],
   "source": [
    "trends_available = api.trends_available()"
   ]
  },
  {
   "cell_type": "code",
   "execution_count": 34,
   "metadata": {},
   "outputs": [
    {
     "data": {
      "text/plain": [
       "467"
      ]
     },
     "execution_count": 34,
     "metadata": {},
     "output_type": "execute_result"
    }
   ],
   "source": [
    "len(trends_available)"
   ]
  },
  {
   "cell_type": "code",
   "execution_count": 35,
   "metadata": {},
   "outputs": [
    {
     "data": {
      "text/plain": [
       "{'name': 'Worldwide',\n",
       " 'placeType': {'code': 19, 'name': 'Supername'},\n",
       " 'url': 'http://where.yahooapis.com/v1/place/1',\n",
       " 'parentid': 0,\n",
       " 'country': '',\n",
       " 'woeid': 1,\n",
       " 'countryCode': None}"
      ]
     },
     "execution_count": 35,
     "metadata": {},
     "output_type": "execute_result"
    }
   ],
   "source": [
    "trends_available[0]"
   ]
  },
  {
   "cell_type": "code",
   "execution_count": 36,
   "metadata": {},
   "outputs": [
    {
     "data": {
      "text/plain": [
       "{'name': 'Winnipeg',\n",
       " 'placeType': {'code': 7, 'name': 'Town'},\n",
       " 'url': 'http://where.yahooapis.com/v1/place/2972',\n",
       " 'parentid': 23424775,\n",
       " 'country': 'Canada',\n",
       " 'woeid': 2972,\n",
       " 'countryCode': 'CA'}"
      ]
     },
     "execution_count": 36,
     "metadata": {},
     "output_type": "execute_result"
    }
   ],
   "source": [
    "trends_available[1]"
   ]
  },
  {
   "cell_type": "code",
   "execution_count": 37,
   "metadata": {},
   "outputs": [],
   "source": [
    "world_trends_comp = api.trends_place(id=1)  # Worldwide trending topics (list containing one dictionary)"
   ]
  },
  {
   "cell_type": "code",
   "execution_count": 38,
   "metadata": {},
   "outputs": [],
   "source": [
    "world_trends = world_trends_comp[0]['trends'] # The 'trends' key is tied to the info about the actual trending topics"
   ]
  },
  {
   "cell_type": "code",
   "execution_count": 39,
   "metadata": {},
   "outputs": [
    {
     "data": {
      "text/plain": [
       "{'name': 'Doc Rivers',\n",
       " 'url': 'http://twitter.com/search?q=%22Doc+Rivers%22',\n",
       " 'promoted_content': None,\n",
       " 'query': '%22Doc+Rivers%22',\n",
       " 'tweet_volume': None}"
      ]
     },
     "execution_count": 39,
     "metadata": {},
     "output_type": "execute_result"
    }
   ],
   "source": [
    "world_trends[4]"
   ]
  },
  {
   "cell_type": "code",
   "execution_count": 40,
   "metadata": {},
   "outputs": [
    {
     "name": "stdout",
     "output_type": "stream",
     "text": [
      "{'name': 'Harden', 'url': 'http://twitter.com/search?q=Harden', 'promoted_content': None, 'query': 'Harden', 'tweet_volume': 67309}\n",
      "{'name': 'Sixers', 'url': 'http://twitter.com/search?q=Sixers', 'promoted_content': None, 'query': 'Sixers', 'tweet_volume': 55231}\n",
      "{'name': 'Cruzeiro', 'url': 'http://twitter.com/search?q=Cruzeiro', 'promoted_content': None, 'query': 'Cruzeiro', 'tweet_volume': 93487}\n"
     ]
    }
   ],
   "source": [
    "for iter in range(3):\n",
    "    print(world_trends[iter])"
   ]
  },
  {
   "cell_type": "code",
   "execution_count": 41,
   "metadata": {},
   "outputs": [
    {
     "name": "stdout",
     "output_type": "stream",
     "text": [
      "Total world trends: 50\n",
      "Total world trends >10k volume: 31\n",
      "Total world trends >100k volume: 4\n"
     ]
    }
   ],
   "source": [
    "world_trends_baseline = [t for t in world_trends if t['tweet_volume']]\n",
    "world_trends_high_volume = [t for t in world_trends if (t['tweet_volume']) and(t['tweet_volume']>100000)]\n",
    "print(f'Total world trends: {len(world_trends)}') #Remember that the cap of returned trends is 50!\n",
    "print(f'Total world trends >10k volume: {len(world_trends_baseline)}')\n",
    "print(f'Total world trends >100k volume: {len(world_trends_high_volume)}')\n"
   ]
  },
  {
   "cell_type": "markdown",
   "metadata": {
    "jp-MarkdownHeadingCollapsed": true,
    "tags": []
   },
   "source": [
    "### World_Trends"
   ]
  },
  {
   "cell_type": "code",
   "execution_count": 42,
   "metadata": {},
   "outputs": [],
   "source": [
    "from operator import itemgetter "
   ]
  },
  {
   "cell_type": "code",
   "execution_count": 43,
   "metadata": {},
   "outputs": [
    {
     "name": "stdout",
     "output_type": "stream",
     "text": [
      "Total World trends >15k volume: 31\n"
     ]
    }
   ],
   "source": [
    "World_trends_w_volume = [t for t in world_trends if (t['tweet_volume'])]\n",
    "print(f'Total World trends >15k volume: {len(World_trends_w_volume)}')\n"
   ]
  },
  {
   "cell_type": "code",
   "execution_count": 44,
   "metadata": {},
   "outputs": [],
   "source": [
    "world_trends_baseline.sort(key=itemgetter('tweet_volume'), reverse=True) #sort world trends by descending volume"
   ]
  },
  {
   "cell_type": "code",
   "execution_count": 45,
   "metadata": {},
   "outputs": [
    {
     "name": "stdout",
     "output_type": "stream",
     "text": [
      "#Eurovision\n",
      "Arsenal\n",
      "Kendrick\n",
      "My Chemical Romance\n",
      "Cruzeiro\n",
      "Rand Paul\n",
      "Harden\n",
      "Sixers\n",
      "Burna\n",
      "Chargers\n"
     ]
    }
   ],
   "source": [
    "for trend in world_trends_baseline[:10]: #Display the top 5 topics by volume\n",
    "    print(trend['name'])"
   ]
  },
  {
   "cell_type": "markdown",
   "metadata": {},
   "source": [
    "### SA_Trends"
   ]
  },
  {
   "cell_type": "code",
   "execution_count": 46,
   "metadata": {},
   "outputs": [],
   "source": [
    "SA_trends_comp = api.trends_place(id=2487796)"
   ]
  },
  {
   "cell_type": "code",
   "execution_count": 47,
   "metadata": {},
   "outputs": [],
   "source": [
    "SA_trends = SA_trends_comp[0]['trends']"
   ]
  },
  {
   "cell_type": "code",
   "execution_count": 48,
   "metadata": {},
   "outputs": [],
   "source": [
    "SA_trends_baseline = [t for t in SA_trends if t['tweet_volume']]"
   ]
  },
  {
   "cell_type": "code",
   "execution_count": 49,
   "metadata": {
    "collapsed": true,
    "jupyter": {
     "outputs_hidden": true
    },
    "tags": []
   },
   "outputs": [
    {
     "name": "stdout",
     "output_type": "stream",
     "text": [
      "{'name': 'Stephen A', 'url': 'http://twitter.com/search?q=%22Stephen+A%22', 'promoted_content': None, 'query': '%22Stephen+A%22', 'tweet_volume': 22916}\n",
      "{'name': 'Packers', 'url': 'http://twitter.com/search?q=Packers', 'promoted_content': None, 'query': 'Packers', 'tweet_volume': 19137}\n",
      "{'name': 'Sean', 'url': 'http://twitter.com/search?q=Sean', 'promoted_content': None, 'query': 'Sean', 'tweet_volume': 136293}\n",
      "{'name': 'Friday the 13th', 'url': 'http://twitter.com/search?q=%22Friday+the+13th%22', 'promoted_content': None, 'query': '%22Friday+the+13th%22', 'tweet_volume': 47859}\n",
      "{'name': 'Arsenal', 'url': 'http://twitter.com/search?q=Arsenal', 'promoted_content': None, 'query': 'Arsenal', 'tweet_volume': 350902}\n",
      "{'name': 'Bears', 'url': 'http://twitter.com/search?q=Bears', 'promoted_content': None, 'query': 'Bears', 'tweet_volume': 49412}\n",
      "{'name': 'Ezra Miller', 'url': 'http://twitter.com/search?q=%22Ezra+Miller%22', 'promoted_content': None, 'query': '%22Ezra+Miller%22', 'tweet_volume': 25880}\n",
      "{'name': '#COYS', 'url': 'http://twitter.com/search?q=%23COYS', 'promoted_content': None, 'query': '%23COYS', 'tweet_volume': 25044}\n",
      "{'name': 'Twins', 'url': 'http://twitter.com/search?q=Twins', 'promoted_content': None, 'query': 'Twins', 'tweet_volume': 47101}\n",
      "{'name': 'Babies', 'url': 'http://twitter.com/search?q=Babies', 'promoted_content': None, 'query': 'Babies', 'tweet_volume': 298794}\n",
      "{'name': 'Greg', 'url': 'http://twitter.com/search?q=Greg', 'promoted_content': None, 'query': 'Greg', 'tweet_volume': 61905}\n",
      "{'name': 'Finland', 'url': 'http://twitter.com/search?q=Finland', 'promoted_content': None, 'query': 'Finland', 'tweet_volume': 169219}\n",
      "{'name': 'Harden', 'url': 'http://twitter.com/search?q=Harden', 'promoted_content': None, 'query': 'Harden', 'tweet_volume': 65938}\n",
      "{'name': 'Sixers', 'url': 'http://twitter.com/search?q=Sixers', 'promoted_content': None, 'query': 'Sixers', 'tweet_volume': 55231}\n",
      "{'name': 'Embiid', 'url': 'http://twitter.com/search?q=Embiid', 'promoted_content': None, 'query': 'Embiid', 'tweet_volume': 39370}\n",
      "{'name': 'Philly', 'url': 'http://twitter.com/search?q=Philly', 'promoted_content': None, 'query': 'Philly', 'tweet_volume': 37510}\n",
      "{'name': '76ers', 'url': 'http://twitter.com/search?q=76ers', 'promoted_content': None, 'query': '76ers', 'tweet_volume': 17708}\n",
      "{'name': 'Jimmy Butler', 'url': 'http://twitter.com/search?q=%22Jimmy+Butler%22', 'promoted_content': None, 'query': '%22Jimmy+Butler%22', 'tweet_volume': 12633}\n",
      "{'name': 'Chargers', 'url': 'http://twitter.com/search?q=Chargers', 'promoted_content': None, 'query': 'Chargers', 'tweet_volume': 52834}\n",
      "{'name': 'Rand Paul', 'url': 'http://twitter.com/search?q=%22Rand+Paul%22', 'promoted_content': None, 'query': '%22Rand+Paul%22', 'tweet_volume': 78807}\n",
      "{'name': 'My Chemical Romance', 'url': 'http://twitter.com/search?q=%22My+Chemical+Romance%22', 'promoted_content': None, 'query': '%22My+Chemical+Romance%22', 'tweet_volume': 101835}\n",
      "{'name': 'New MCR', 'url': 'http://twitter.com/search?q=%22New+MCR%22', 'promoted_content': None, 'query': '%22New+MCR%22', 'tweet_volume': 25073}\n",
      "{'name': 'Gerard', 'url': 'http://twitter.com/search?q=Gerard', 'promoted_content': None, 'query': 'Gerard', 'tweet_volume': 22392}\n",
      "{'name': 'Raiders', 'url': 'http://twitter.com/search?q=Raiders', 'promoted_content': None, 'query': 'Raiders', 'tweet_volume': 24258}\n",
      "{'name': 'Eastern Conference Finals', 'url': 'http://twitter.com/search?q=%22Eastern+Conference+Finals%22', 'promoted_content': None, 'query': '%22Eastern+Conference+Finals%22', 'tweet_volume': 12391}\n",
      "{'name': 'Game 7', 'url': 'http://twitter.com/search?q=%22Game+7%22', 'promoted_content': None, 'query': '%22Game+7%22', 'tweet_volume': 38689}\n",
      "{'name': 'Rams', 'url': 'http://twitter.com/search?q=Rams', 'promoted_content': None, 'query': 'Rams', 'tweet_volume': 16082}\n",
      "{'name': 'Hannity', 'url': 'http://twitter.com/search?q=Hannity', 'promoted_content': None, 'query': 'Hannity', 'tweet_volume': 35127}\n",
      "{'name': 'Cowboys', 'url': 'http://twitter.com/search?q=Cowboys', 'promoted_content': None, 'query': 'Cowboys', 'tweet_volume': 21878}\n"
     ]
    }
   ],
   "source": [
    "for trend in SA_trends_baseline:\n",
    "    print(trend)"
   ]
  },
  {
   "cell_type": "code",
   "execution_count": 50,
   "metadata": {},
   "outputs": [
    {
     "name": "stdout",
     "output_type": "stream",
     "text": [
      "SA trends >15k volume: 29\n"
     ]
    }
   ],
   "source": [
    "print(f'SA trends >15k volume: {len(SA_trends_baseline)}')\n"
   ]
  },
  {
   "cell_type": "code",
   "execution_count": 51,
   "metadata": {},
   "outputs": [],
   "source": [
    "SA_trends_baseline.sort(key=itemgetter('tweet_volume'), reverse=True) "
   ]
  },
  {
   "cell_type": "code",
   "execution_count": 52,
   "metadata": {},
   "outputs": [
    {
     "name": "stdout",
     "output_type": "stream",
     "text": [
      "Arsenal\n",
      "Babies\n",
      "Finland\n",
      "Sean\n",
      "My Chemical Romance\n",
      "Rand Paul\n",
      "Harden\n",
      "Greg\n",
      "Sixers\n",
      "Chargers\n",
      "Bears\n",
      "Friday the 13th\n",
      "Twins\n",
      "Embiid\n",
      "Game 7\n",
      "Philly\n",
      "Hannity\n",
      "Ezra Miller\n",
      "New MCR\n",
      "#COYS\n"
     ]
    }
   ],
   "source": [
    "for trend in SA_trends_baseline[:20]:\n",
    "    print(trend['name'])"
   ]
  },
  {
   "cell_type": "code",
   "execution_count": 53,
   "metadata": {},
   "outputs": [],
   "source": [
    "SA_topics = {}  # dictionary to store trend names and volumes for San Antonio\n"
   ]
  },
  {
   "cell_type": "code",
   "execution_count": 54,
   "metadata": {},
   "outputs": [
    {
     "name": "stdout",
     "output_type": "stream",
     "text": [
      "{}\n"
     ]
    }
   ],
   "source": [
    "print(SA_topics)"
   ]
  },
  {
   "cell_type": "code",
   "execution_count": 55,
   "metadata": {},
   "outputs": [],
   "source": [
    "for trend in SA_trends_baseline:\n",
    "    SA_topics[trend['name']] = trend['tweet_volume']"
   ]
  },
  {
   "cell_type": "code",
   "execution_count": 56,
   "metadata": {},
   "outputs": [],
   "source": [
    "import pandas as pd\n",
    "\n",
    "SAdf = pd.DataFrame(SA_topics, index = [0]) "
   ]
  },
  {
   "cell_type": "code",
   "execution_count": 57,
   "metadata": {},
   "outputs": [
    {
     "data": {
      "text/html": [
       "<div>\n",
       "<style scoped>\n",
       "    .dataframe tbody tr th:only-of-type {\n",
       "        vertical-align: middle;\n",
       "    }\n",
       "\n",
       "    .dataframe tbody tr th {\n",
       "        vertical-align: top;\n",
       "    }\n",
       "\n",
       "    .dataframe thead th {\n",
       "        text-align: right;\n",
       "    }\n",
       "</style>\n",
       "<table border=\"1\" class=\"dataframe\">\n",
       "  <thead>\n",
       "    <tr style=\"text-align: right;\">\n",
       "      <th></th>\n",
       "      <th>Arsenal</th>\n",
       "      <th>Babies</th>\n",
       "      <th>Finland</th>\n",
       "      <th>Sean</th>\n",
       "      <th>My Chemical Romance</th>\n",
       "      <th>Rand Paul</th>\n",
       "      <th>Harden</th>\n",
       "      <th>Greg</th>\n",
       "      <th>Sixers</th>\n",
       "      <th>Chargers</th>\n",
       "      <th>...</th>\n",
       "      <th>#COYS</th>\n",
       "      <th>Raiders</th>\n",
       "      <th>Stephen A</th>\n",
       "      <th>Gerard</th>\n",
       "      <th>Cowboys</th>\n",
       "      <th>Packers</th>\n",
       "      <th>76ers</th>\n",
       "      <th>Rams</th>\n",
       "      <th>Jimmy Butler</th>\n",
       "      <th>Eastern Conference Finals</th>\n",
       "    </tr>\n",
       "  </thead>\n",
       "  <tbody>\n",
       "    <tr>\n",
       "      <th>0</th>\n",
       "      <td>350902</td>\n",
       "      <td>298794</td>\n",
       "      <td>169219</td>\n",
       "      <td>136293</td>\n",
       "      <td>101835</td>\n",
       "      <td>78807</td>\n",
       "      <td>65938</td>\n",
       "      <td>61905</td>\n",
       "      <td>55231</td>\n",
       "      <td>52834</td>\n",
       "      <td>...</td>\n",
       "      <td>25044</td>\n",
       "      <td>24258</td>\n",
       "      <td>22916</td>\n",
       "      <td>22392</td>\n",
       "      <td>21878</td>\n",
       "      <td>19137</td>\n",
       "      <td>17708</td>\n",
       "      <td>16082</td>\n",
       "      <td>12633</td>\n",
       "      <td>12391</td>\n",
       "    </tr>\n",
       "  </tbody>\n",
       "</table>\n",
       "<p>1 rows × 29 columns</p>\n",
       "</div>"
      ],
      "text/plain": [
       "   Arsenal  Babies  Finland    Sean  My Chemical Romance  Rand Paul  Harden  \\\n",
       "0   350902  298794   169219  136293               101835      78807   65938   \n",
       "\n",
       "    Greg  Sixers  Chargers  ...  #COYS  Raiders  Stephen A  Gerard  Cowboys  \\\n",
       "0  61905   55231     52834  ...  25044    24258      22916   22392    21878   \n",
       "\n",
       "   Packers  76ers   Rams  Jimmy Butler  Eastern Conference Finals  \n",
       "0    19137  17708  16082         12633                      12391  \n",
       "\n",
       "[1 rows x 29 columns]"
      ]
     },
     "execution_count": 57,
     "metadata": {},
     "output_type": "execute_result"
    }
   ],
   "source": [
    "SAdf.head()"
   ]
  },
  {
   "cell_type": "code",
   "execution_count": 58,
   "metadata": {},
   "outputs": [
    {
     "data": {
      "text/plain": [
       "<AxesSubplot:title={'center':'Twitter Trends in San Antonio'}, xlabel='Trends', ylabel='Count'>"
      ]
     },
     "execution_count": 58,
     "metadata": {},
     "output_type": "execute_result"
    },
    {
     "data": {
      "image/png": "[encoded data removed]",
      "text/plain": [
       "<Figure size 720x648 with 1 Axes>"
      ]
     },
     "metadata": {
      "needs_background": "light"
     },
     "output_type": "display_data"
    }
   ],
   "source": [
    "#Plot Descending\n",
    "SAdf.plot(kind=\"bar\",\n",
    " figsize=(10, 9),\n",
    "  xlabel=\"Trends\",\n",
    "   ylabel=\"Count\",\n",
    "    title=\"Twitter Trends in San Antonio\")"
   ]
  },
  {
   "cell_type": "markdown",
   "metadata": {
    "jp-MarkdownHeadingCollapsed": true,
    "tags": []
   },
   "source": [
    "### WordCloud for SA_Trends"
   ]
  },
  {
   "cell_type": "code",
   "execution_count": 59,
   "metadata": {},
   "outputs": [],
   "source": [
    "from wordcloud import WordCloud\n",
    "import matplotlib.pyplot as plt"
   ]
  },
  {
   "cell_type": "code",
   "execution_count": 60,
   "metadata": {},
   "outputs": [],
   "source": [
    "from PIL import Image\n",
    "import matplotlib.pyplot as plt\n",
    "import numpy as np\n",
    "mask = np.array(Image.open('Texas.jpg'))\n",
    "\n",
    "wordcloud_SA = WordCloud(mask=mask, width=1800, height=900,\n",
    "    prefer_horizontal=0.5, min_font_size=10, colormap='prism', \n",
    "    background_color='white')"
   ]
  },
  {
   "cell_type": "code",
   "execution_count": 61,
   "metadata": {},
   "outputs": [],
   "source": [
    "wordcloud_SA = wordcloud_SA.fit_words(SA_topics)"
   ]
  },
  {
   "cell_type": "code",
   "execution_count": 62,
   "metadata": {},
   "outputs": [
    {
     "data": {
      "image/png": "[encoded data removed]",
      "text/plain": [
       "<Figure size 1152x576 with 1 Axes>"
      ]
     },
     "metadata": {
      "needs_background": "light"
     },
     "output_type": "display_data"
    }
   ],
   "source": [
    "\n",
    "from PIL import Image\n",
    "import matplotlib.pyplot as plt\n",
    "import numpy as np\n",
    "mask = np.array(Image.open('Texas.jpg'))\n",
    "plt.figure(figsize=(16,8))\n",
    "plt.imshow(wordcloud_SA)\n",
    "plt.axis(\"off\")\n",
    "plt.show()"
   ]
  },
  {
   "cell_type": "markdown",
   "metadata": {},
   "source": [
    "## Tweet Listener"
   ]
  },
  {
   "cell_type": "markdown",
   "metadata": {},
   "source": [
    "### Load Packages"
   ]
  },
  {
   "cell_type": "code",
   "execution_count": 63,
   "metadata": {},
   "outputs": [],
   "source": [
    "from tweetlistener import TweetListener\n",
    "from tweepy import Stream\n",
    "from tweepy import OAuthHandler\n",
    "from tweepy import API\n",
    "import preprocessor as p\n",
    "from prepsubjecttweets import prepsubject"
   ]
  },
  {
   "cell_type": "markdown",
   "metadata": {},
   "source": [
    "### Test Tweet Listener and Clean Tweet"
   ]
  },
  {
   "cell_type": "code",
   "execution_count": 64,
   "metadata": {},
   "outputs": [],
   "source": [
    "tweet_text = 'RT #NASA A sample retweet with a URL https://nasa.gov'"
   ]
  },
  {
   "cell_type": "code",
   "execution_count": 65,
   "metadata": {},
   "outputs": [
    {
     "data": {
      "text/plain": [
       "'A sample retweet with a URL'"
      ]
     },
     "execution_count": 65,
     "metadata": {},
     "output_type": "execute_result"
    }
   ],
   "source": [
    "p.clean(tweet_text)"
   ]
  },
  {
   "cell_type": "markdown",
   "metadata": {},
   "source": [
    "### Tweet Listener - Load Top Three Trends"
   ]
  },
  {
   "cell_type": "code",
   "execution_count": 66,
   "metadata": {},
   "outputs": [],
   "source": [
    "tweetlistraw1,tweetlistprep1 = prepsubject('Macron',20)\n",
    "tweetlistraw2,tweetlistprep2 = prepsubject('Ranboo',20)\n",
    "tweetlistraw3,tweetlistprep3 = prepsubject('Publix',20)"
   ]
  },
  {
   "cell_type": "markdown",
   "metadata": {},
   "source": [
    "### Number 1 Tweet Topic"
   ]
  },
  {
   "cell_type": "code",
   "execution_count": 67,
   "metadata": {},
   "outputs": [
    {
     "data": {
      "text/plain": [
       "['@OfBritons @guardian If that were true, why would he be giving masses of lethal weapons to Ukraine. Look at the fac… https://t.co/8aDVfI8q5U',\n",
       " \"RT @SamRamani2: Full details on the EU's plans to assess Ukraine's application here. Emmanuel Macron admitted this week that Ukraine is unl…\",\n",
       " 'RT @mhmck: French President Emmanuel Macron says \"don\\'t humiliate Russia\".\\n\\nI say don\\'t humiliate Ukraine, as France did in 1919 when the T…',\n",
       " '2/3🧵#POV important to understand, including #German delusion that trade prevents #war, thus justifying #NordStream2… https://t.co/8OLPgxR6tP',\n",
       " 'RT @glhermine: 🇫🇷 The change in the Macron vote since 2017 generally shows gains in traditionally right-wing areas, and loses in left-wing…',\n",
       " '@JanGilb33464730 To do a macron 😂😭',\n",
       " 'RT @JustinTrudeau: We also discussed the war in Ukraine, and the impacts it is having on energy prices and food security. We agreed to cont…',\n",
       " \"@mcr_lb @guardian They had close relations Russian oligarchs with before the war too. They love Boris. He's shown b… https://t.co/bFEgUryDUL\",\n",
       " 'https://t.co/cJyGYQButs #RejoinEU #EFTA #Macron #BorisJohnson #Brexit \\n\\n\"There is little need for another over-arch… https://t.co/iOQLQJWAYc',\n",
       " \"RT @RodWag14: 🇫🇷🇺🇦🇺🇸#Macron welcomed Bill Gates to Paris, expressing gratitude to the oligarch for accepting the EU's offer to globally ove…\",\n",
       " \"RT @glhermine: 🇫🇷 Macron's vote fell by 7.5% from 2017, though his losses varied by department - with huge loses overseas (except low-turno…\",\n",
       " \"RT @SamRamani2: Full details on the EU's plans to assess Ukraine's application here. Emmanuel Macron admitted this week that Ukraine is unl…\",\n",
       " 'RT @L_MacAulay: Juno Beach and the Juno Beach Centre are vital to the story of 🇨🇦‘s contribution during the Second World War.\\n\\nToday, Prime…',\n",
       " \"RT @glhermine: Some key determinants in vote choice include socioprofessional category, income/class and education/diploma. Macron's voters…\",\n",
       " \"RT @glhermine: 🇫🇷 #Macron reelected with 58.5%, a significant but narrower margin than 5 years ago, and on a 'low' turnout of 78%. Here's t…\",\n",
       " 'RT @mdmitri91: 8. There will be no Minsk-3. Claims by Macron regarding Ukraine’s slowdown in admittance to EU may display an attempt by Rus…',\n",
       " \"RT @glhermine: 🇫🇷 Map of Macron, Le Pen and Mélenchon's vote in the first round. #Elections2022 #presidentielles2022 https://t.co/IjuUqTj3Uk\",\n",
       " \"RT @SamRamani2: Full details on the EU's plans to assess Ukraine's application here. Emmanuel Macron admitted this week that Ukraine is unl…\",\n",
       " 'RT @mdmitri91: 8. There will be no Minsk-3. Claims by Macron regarding Ukraine’s slowdown in admittance to EU may display an attempt by Rus…',\n",
       " 'RT @China_Amb_India: President #XiJinping and French President Emmanuel Macron agreed in a phone conversation to push for more progress in…']"
      ]
     },
     "execution_count": 67,
     "metadata": {},
     "output_type": "execute_result"
    }
   ],
   "source": [
    "tweetlistraw1"
   ]
  },
  {
   "cell_type": "code",
   "execution_count": 68,
   "metadata": {},
   "outputs": [
    {
     "data": {
      "text/plain": [
       "['If that were true, why would he be giving masses of lethal weapons to Ukraine. Look at the fac',\n",
       " \": Full details on the EU's plans to assess Ukraine's application here. Emmanuel Macron admitted this week that Ukraine is unl\",\n",
       " ': French President Emmanuel Macron says \"don\\'t humiliate Russia\".I say don\\'t humiliate Ukraine, as France did in when the T',\n",
       " '/3 important to understand, including delusion that trade prevents , thus justifying',\n",
       " ': The change in the Macron vote since generally shows gains in traditionally right-wing areas, and loses in left-wing',\n",
       " 'To do a macron',\n",
       " ': We also discussed the war in Ukraine, and the impacts it is having on energy prices and food security. We agreed to cont',\n",
       " \"They had close relations Russian oligarchs with before the war too. They love Boris. He's shown b\",\n",
       " '\"There is little need for another over-arch',\n",
       " \": welcomed Bill Gates to Paris, expressing gratitude to the oligarch for accepting the EU's offer to globally ove\",\n",
       " \": Macron's vote fell by % from , though his losses varied by department - with huge loses overseas (except low-turno\",\n",
       " \": Full details on the EU's plans to assess Ukraine's application here. Emmanuel Macron admitted this week that Ukraine is unl\",\n",
       " ': Juno Beach and the Juno Beach Centre are vital to the story of s contribution during the Second World War.Today, Prime',\n",
       " \": Some key determinants in vote choice include socioprofessional category, income/class and education/diploma. Macron's voters\",\n",
       " \": reelected with %, a significant but narrower margin than years ago, and on a 'low' turnout of %. Here's t\",\n",
       " ': . There will be no Minsk-3. Claims by Macron regarding Ukraines slowdown in admittance to EU may display an attempt by Rus',\n",
       " \": Map of Macron, Le Pen and Mlenchon's vote in the first round.\",\n",
       " \": Full details on the EU's plans to assess Ukraine's application here. Emmanuel Macron admitted this week that Ukraine is unl\",\n",
       " ': . There will be no Minsk-3. Claims by Macron regarding Ukraines slowdown in admittance to EU may display an attempt by Rus',\n",
       " ': President and French President Emmanuel Macron agreed in a phone conversation to push for more progress in']"
      ]
     },
     "execution_count": 68,
     "metadata": {},
     "output_type": "execute_result"
    }
   ],
   "source": [
    "tweetlistprep1"
   ]
  },
  {
   "cell_type": "markdown",
   "metadata": {},
   "source": [
    "### Number 2 Tweet Topic"
   ]
  },
  {
   "cell_type": "code",
   "execution_count": 69,
   "metadata": {},
   "outputs": [
    {
     "data": {
      "text/plain": [
       "['RT @LoopyMinecraft: WILBUR GRIAN SCAR RANBOO MCC TEAM \\n                   🕯️\\n            🕯              🕯\\n      🕯…',\n",
       " 'ranboo should get a shirt like that',\n",
       " 'RT @CreatesCupcake: Daily doodle of Ranboo day 53!\\n\\nNew friends :D\\n\\n#ranboofanart https://t.co/NU0351WxKF',\n",
       " 'RT @bunnoroll: @Lynx_does_stuff hi i’m clem i’m a black artist that mostly draws ranboo and other stuff like my sona https://t.co/yk8lQZNvMr',\n",
       " 'RT @valeria_pryanik: // eyestrain \\n\\nglitchy ranboo \\n#ranboofanart @ranbooart https://t.co/YmB1cQnCHy',\n",
       " 'RT @MolochnijOtaku: aaaand its finally done! \\nboober cosplay :D\\nthis cosplay is very heavily based on @xMaruu11 ranboo design!!! :]]\\n\\nthank…',\n",
       " 'RT @ne0neclipse: @webble_jsc // blood in first two\\nYAYAYAY HAPPY BIRTHDAY YOINK !!!!\\nhi im katie and i draw mostly ranboo and some other cc…',\n",
       " 'RT @MCYTanything: Tubbo just got a tattoo of Ranboo! https://t.co/AMw3EY4Y0i',\n",
       " 'RT @LoopyMinecraft: WILBUR GRIAN SCAR RANBOO MCC TEAM \\n                   🕯️\\n            🕯              🕯\\n      🕯…',\n",
       " 'RT @CreatesCupcake: Daily doodle of Ranboo day 53!\\n\\nNew friends :D\\n\\n#ranboofanart https://t.co/NU0351WxKF',\n",
       " '@yeahsleepi sleepi do you like my original ranboo fanart https://t.co/rkMkZHPvnm',\n",
       " 'RT @Ao707_: 🦋\\n@ranbooart \\n#ranbooart #ranboofanart #Ranboo #dsmpfanart \\n(rts are appreciated) https://t.co/mFTT21NtBN',\n",
       " \"RT @kachaww_: Holy shit it's a quirked up white boy with a little bit of swag!!\\n\\n#ranboo #ranboofanart https://t.co/QMfqFg4zUE\",\n",
       " '@corpsehoodie I MIGHT CHANGE JUNOS FC TO RANBOO',\n",
       " 'WHY ARE THEY STILL USING RANBOO’s 2020 PICTURE??????',\n",
       " 'RT @Ao707_: 🦋\\n@ranbooart \\n#ranbooart #ranboofanart #Ranboo #dsmpfanart \\n(rts are appreciated) https://t.co/mFTT21NtBN',\n",
       " 'RT @LoopyMinecraft: WILBUR GRIAN SCAR RANBOO MCC TEAM \\n                   🕯️\\n            🕯              🕯\\n      🕯…',\n",
       " \"RT @RanbooUpdates: Ranboo is on Aimsey's instagram story! :D https://t.co/mycrOY0prq\",\n",
       " \"RT @spapacedsdsed: @webble_jsc HAPPY BORTH YOINK !!!!!! \\nI'm spaced and I drrrrraw \\nmostly ranboo n friends atm!\\ncoolest moots @akrumbs @Ge…\",\n",
       " \"RT @RanbooUpdates: Ranboo is on Aimsey's instagram stories! :D https://t.co/ur8bosdSaf\"]"
      ]
     },
     "execution_count": 69,
     "metadata": {},
     "output_type": "execute_result"
    }
   ],
   "source": [
    "tweetlistraw2"
   ]
  },
  {
   "cell_type": "code",
   "execution_count": 70,
   "metadata": {},
   "outputs": [
    {
     "data": {
      "text/plain": [
       "[': WILBUR GRIAN SCAR RANBOO MCC TEAM',\n",
       " 'ranboo should get a shirt like that',\n",
       " ': Daily doodle of Ranboo day !New friends',\n",
       " ': hi im clem im a black artist that mostly draws ranboo and other stuff like my sona',\n",
       " ': // eyestrain glitchy ranboo',\n",
       " ': aaaand its finally done! boober cosplay this cosplay is very heavily based on ranboo design!!! :]]thank',\n",
       " ': // blood in first twoYAYAYAY HAPPY BIRTHDAY YOINK !!!!hi im katie and i draw mostly ranboo and some other cc',\n",
       " ': Tubbo just got a tattoo of Ranboo!',\n",
       " ': WILBUR GRIAN SCAR RANBOO MCC TEAM',\n",
       " ': Daily doodle of Ranboo day !New friends',\n",
       " 'sleepi do you like my original ranboo fanart',\n",
       " ': (rts are appreciated)',\n",
       " \": Holy shit it's a quirked up white boy with a little bit of swag!!\",\n",
       " 'I MIGHT CHANGE JUNOS FC TO RANBOO',\n",
       " 'WHY ARE THEY STILL USING RANBOOs PICTURE??????',\n",
       " ': (rts are appreciated)',\n",
       " ': WILBUR GRIAN SCAR RANBOO MCC TEAM',\n",
       " \": Ranboo is on Aimsey's instagram story!\",\n",
       " \": HAPPY BORTH YOINK !!!!!! I'm spaced and I drrrrraw mostly ranboo n friends atm!coolest moots\",\n",
       " \": Ranboo is on Aimsey's instagram stories!\"]"
      ]
     },
     "execution_count": 70,
     "metadata": {},
     "output_type": "execute_result"
    }
   ],
   "source": [
    "tweetlistprep2"
   ]
  },
  {
   "cell_type": "markdown",
   "metadata": {},
   "source": [
    "### Number 3 Tweet Topic"
   ]
  },
  {
   "cell_type": "code",
   "execution_count": 71,
   "metadata": {},
   "outputs": [
    {
     "data": {
      "text/plain": [
       "['@IckyWoodz @_TonyHilfiger Ummm.... I had chipotle mayo.  Shiiitt Publix still open https://t.co/cA5M7ydXmA',\n",
       " 'I fucking miss being 7 years old, weighing myself on the scale at Publix and seeing I was 42 lbs',\n",
       " '@WimminsRea Buddy of mine looooved Sundays at Publix because it was filled with single momma honeys who were grocer… https://t.co/gYavS78Lbo',\n",
       " '@smcroasters Publix SR 44 in NSB was looking half or more empty today.',\n",
       " '@Jackie_Muzikar @Super70sSports BTW I am in Central Florida.... do they sell at Publix or Walmart, or do I have to order it online?',\n",
       " 'diego at this publix deli can get it',\n",
       " 'If I see a little overgrown succulent in need of a home at Publix I will always buy them',\n",
       " 'otis at publix !!!!!! https://t.co/3KD3LhvukR',\n",
       " '@Siefe @TmarTn They’ve been in Publix’s for a while mr. Siefe. Even got tall boy versions!',\n",
       " '@fuwur_ @LaundryMaggots Cakeeeee 🤤 I want Publix cake rn so bad',\n",
       " 'Today in Publix a 45 year old man came up to me and started showing me the houses he liked in a “mountain living” magazine',\n",
       " 'RT @Cannabis_Cane: One of the main reasons I love shopping in Publix here. Some older folks are on limited income and we sometimes get to h…',\n",
       " '@verwetti @itssunnyxo U better be at publix',\n",
       " '@KetoBeejay No need to feel like an asshole. \\n\\nWe were staying with friends in Florida and they lived in a neighbor… https://t.co/Maons5mItC',\n",
       " \"I'm at Publix 503 Altamonte Dr in Altamonte Springs, FL https://t.co/c1fhBrKtkh\",\n",
       " \"@fuwur_ I shall pick up the essentials. And a cake from Publix, just to buy a cake. Because it's cake.\",\n",
       " 'Dear diary... visited Publix 3x today .....',\n",
       " 'RT @Alvaroidz: @WPBF25News God bless our troops and God bless our Publix employees https://t.co/N1OgXLWNa0',\n",
       " '@AaronTheDataGuy @BobPagesports @Publix I was outside a convenience store in my hometown in Michigan - summer 2020.… https://t.co/hfnx1QsXHK',\n",
       " \"@MrKnightman_ @emily_banister @Publix I'll have to check it out\"]"
      ]
     },
     "execution_count": 71,
     "metadata": {},
     "output_type": "execute_result"
    }
   ],
   "source": [
    "tweetlistraw3"
   ]
  },
  {
   "cell_type": "code",
   "execution_count": 72,
   "metadata": {},
   "outputs": [
    {
     "data": {
      "text/plain": [
       "['Ummm.... I had chipotle mayo. Shiiitt Publix still open',\n",
       " 'I fucking miss being years old, weighing myself on the scale at Publix and seeing I was lbs',\n",
       " 'Buddy of mine looooved Sundays at Publix because it was filled with single momma honeys who were grocer',\n",
       " 'Publix SR in NSB was looking half or more empty today.',\n",
       " 'BTW I am in Central Florida.... do they sell at Publix or Walmart, or do I have to order it online?',\n",
       " 'diego at this publix deli can get it',\n",
       " 'If I see a little overgrown succulent in need of a home at Publix I will always buy them',\n",
       " 'otis at publix !!!!!!',\n",
       " 'Theyve been in Publixs for a while mr. Siefe. Even got tall boy versions!',\n",
       " 'Cakeeeee I want Publix cake rn so bad',\n",
       " 'Today in Publix a year old man came up to me and started showing me the houses he liked in a mountain living magazine',\n",
       " ': One of the main reasons I love shopping in Publix here. Some older folks are on limited income and we sometimes get to h',\n",
       " 'U better be at publix',\n",
       " 'No need to feel like an asshole. We were staying with friends in Florida and they lived in a neighbor',\n",
       " \"I'm at Publix Altamonte Dr in Altamonte Springs, FL\",\n",
       " \"I shall pick up the essentials. And a cake from Publix, just to buy a cake. Because it's cake.\",\n",
       " 'Dear diary... visited Publix x today .....',\n",
       " ': God bless our troops and God bless our Publix employees',\n",
       " 'I was outside a convenience store in my hometown in Michigan - summer .',\n",
       " \"I'll have to check it out\"]"
      ]
     },
     "execution_count": 72,
     "metadata": {},
     "output_type": "execute_result"
    }
   ],
   "source": [
    "tweetlistprep3"
   ]
  },
  {
   "cell_type": "markdown",
   "metadata": {},
   "source": [
    "## Stream"
   ]
  },
  {
   "cell_type": "markdown",
   "metadata": {},
   "source": [
    "### Load Packages"
   ]
  },
  {
   "cell_type": "code",
   "execution_count": 73,
   "metadata": {},
   "outputs": [],
   "source": [
    "from tweepy.streaming import Stream\n",
    "from tweepy import OAuthHandler\n",
    "from tweepy import Stream\n",
    "from textblob import TextBlob"
   ]
  },
  {
   "cell_type": "markdown",
   "metadata": {},
   "source": [
    "### Sentiment Listener Topic 1"
   ]
  },
  {
   "cell_type": "code",
   "execution_count": 74,
   "metadata": {},
   "outputs": [],
   "source": [
    "run sentimentlistener.py \"#Macron\" 20"
   ]
  },
  {
   "cell_type": "markdown",
   "metadata": {},
   "source": [
    "### Sentiment Listener Topic 2"
   ]
  },
  {
   "cell_type": "code",
   "execution_count": null,
   "metadata": {},
   "outputs": [
    {
     "name": "stdout",
     "output_type": "stream",
     "text": [
      "+ mellohayl: dream saying that ranboo talking about being unlabeled was really validating LET ME GO CRY\n",
      "\n",
      "  beloved_natalia: DREAM AND RANBOO CRUMBS\n",
      "\n",
      "- bbygnf: dream saying he felt validated by ranboo excuse me while i SOB MY FUCKING EYES OUT 😭💗💗💗\n",
      "\n",
      "  Mistoazt: @Rosemybeloved_ RANBOO CAME OUT\n",
      "\n",
      "+ patito4k: what a great day to be unlabeled. SO PROUD OF YOU RANBOO 💗\n",
      "\n",
      "+ dogIove24: @dreamsecretclub SO TRUE!! im so proud of ranboo\n",
      "\n",
      "+ karlseuphoria: I MISSED THE ANNOUNCEMENT BUT IM SO PROUD OF RANBOO OHMMYOGD\n",
      "\n",
      "  gnfs4k: RANBOO AND DREAM 🥹🥹🥹🥹❤️❤️❤️❤️❤️\n",
      "\n",
      "  purple_sockss: @dreamsecretclub go ranboo go\n",
      "\n",
      "+ incelbr: ranboo Coming out gave me whiplash like I completely forgot LGBTQ's were real\n",
      "\n",
      "+ kaylaXcorpse: @dreamsecretclub Love for ranboo &lt;33\n",
      "\n",
      "- euthymiapIane: MCYT DSMP RANBOO IS GAY IM SORRY I DONT REALLY CARE BUT THATS CRAZY\n",
      "\n",
      "+ darlenedytee: i am fucking sobbing dream you whore i lovw you so much how could you do tihs to me i am so proud of you and ranboo…\n",
      "\n",
      "+ planet_marss_: OH RANBOO LIKE ACTUALLY CAME OUT?? HOLY SHIT THATS AWESOME SO PROUD OF HIM !!\n",
      "\n",
      "  outroquack: DID RANBOO COME OUT GUYS?)3$:?\n",
      "\n",
      "  itsguila: ranboo is trending what did i miss?\n",
      "\n",
      "+ perfumedwt: @dreamsecretclub we love you and ranboo 💖💖 unlabeledduo\n",
      "\n",
      "+ boosophboo: @dreamsecretclub you and ranboo are so awesome and valid, much love &lt;3\n",
      "\n",
      "+ notsimpnap: @dreamsecretclub you deserve the same love and support ranboo is getting always proud of you king\n",
      "\n",
      "- finnislive: Dreams responce to Ranboo coming out :,( i’m so sad but like /pos if that makes sense\n",
      "\n",
      "Tweet sentiment for \"Ranboo\"\n",
      "Positive: 11\n",
      " Neutral: 6\n",
      "Negative: 3\n"
     ]
    }
   ],
   "source": [
    "run sentimentlistener.py \"Ranboo\" 20"
   ]
  },
  {
   "cell_type": "markdown",
   "metadata": {},
   "source": [
    "### Sentiment Listener Topic 3"
   ]
  },
  {
   "cell_type": "code",
   "execution_count": null,
   "metadata": {},
   "outputs": [
    {
     "name": "stdout",
     "output_type": "stream",
     "text": [
      "  AVR19741: @MiaCathell @JZubosky @Jack_Petocz @Publix Oh please. You demeaned his work, just take the L on this and move on.\n",
      "\n",
      "+ DalyKenan: @Jack_Petocz @Publix It’s not the Dint say gay bill, that is a fiction.\n",
      "\n",
      "  Lorigoldst: @Jack_Petocz @grampage_on @Publix I stopped shopping at Publix when I saw they were big contributors for 2nd Amendm…\n",
      "\n",
      "  trudy_mcquiston: @klmcgee1978 @ProudTwinkie @TaylorLorenz Publix hires at 14.\n",
      "\n",
      "  red_nov3: @AdamSchiavone @TimRunsHisMouth @Jack_Petocz @Publix “The party of working people?” So workers belong to one party…\n",
      "\n",
      "+ SharkeyTim: @Jack_Petocz @Publix So brave. Yet so ignorant.\n",
      "\n",
      "+ CircusHypocrisy: @Jack_Petocz @Publix Public is great. They’ll figure out a way to hire another $10 per hour overly sensitive and fragile cashier boy.\n",
      "\n",
      "  JerseyMade93: Oh Publix racists\n",
      "\n",
      "  Garyknowsitall: @davidhogg111 @ChristinaPushaw Jack started working at Publix when he was 13? Doubt it. Either way, youth is no fre…\n",
      "\n",
      "  AdamMathisFL: @exjon Have it had their sammiches? Publix could rule the world if they had enough bread.\n",
      "\n",
      "  TNJeffro: @yaluus @deekotheweek @wagner_rob @DearAuntCrabby @Publix While I don't necessarily disagree with that assessment,…\n",
      "\n",
      "+ AVR19741: @RealJacobPerry @Jack_Petocz @Publix What’s wrong with that kind of job?\n",
      "\n",
      "- zoeellemadison: @Jack_Petocz @Publix You are a high school student. I find this tweet hard to believe. Did you start working there…\n",
      "\n",
      "+ DickWolfU: @cary_cary6 @TexasToe @Diaboli20287766 @TimRunsHisMouth @Jack_Petocz @Publix Wow, you're really wrong, and so confident about it.\n",
      "\n",
      "- SoggyMoss11: @Jack_Petocz @Publix There is no such named Bill so..... you are an idiot.\n",
      "\n",
      "+ nunleymitch: @Jack_Petocz @Publix Thanks for letting us know. I’ll go by and spend even more money at Publix as soon as possible. #DeSantis2024\n",
      "\n",
      "  AVR19741: @SarcasticCupcak @RealJacobPerry @Jack_Petocz @Publix There’s 3.6% unemployment man, he can get another job in a second.\n",
      "\n",
      "  dammitkarma: @TimRunsHisMouth @benshapiro @Jack_Petocz @Publix im thankful for rice krispies\n",
      "\n",
      "  ElctrcTrtleLnd: @ChristinaPushaw Publix isn't publicly traded though\n",
      "\n",
      "+ dddonnnaaa: @dajohns13 @AdamInHTownTX @Jack_Petocz @Publix I really don’t think the problem is what republicans are making it o…\n",
      "\n",
      "Tweet sentiment for \"Publix\"\n",
      "Positive: 7\n",
      " Neutral: 11\n",
      "Negative: 2\n"
     ]
    }
   ],
   "source": [
    "run sentimentlistener.py \"Publix\" 20"
   ]
  },
  {
   "cell_type": "code",
   "execution_count": null,
   "metadata": {},
   "outputs": [
    {
     "data": {
      "text/html": [
       "<div>\n",
       "<style scoped>\n",
       "    .dataframe tbody tr th:only-of-type {\n",
       "        vertical-align: middle;\n",
       "    }\n",
       "\n",
       "    .dataframe tbody tr th {\n",
       "        vertical-align: top;\n",
       "    }\n",
       "\n",
       "    .dataframe thead th {\n",
       "        text-align: right;\n",
       "    }\n",
       "</style>\n",
       "<table border=\"1\" class=\"dataframe\">\n",
       "  <thead>\n",
       "    <tr style=\"text-align: right;\">\n",
       "      <th></th>\n",
       "      <th>Positive</th>\n",
       "      <th>Neutral</th>\n",
       "      <th>Negative</th>\n",
       "    </tr>\n",
       "  </thead>\n",
       "  <tbody>\n",
       "    <tr>\n",
       "      <th>0</th>\n",
       "      <td>15</td>\n",
       "      <td>4</td>\n",
       "      <td>1</td>\n",
       "    </tr>\n",
       "  </tbody>\n",
       "</table>\n",
       "</div>"
      ],
      "text/plain": [
       "   Positive  Neutral  Negative\n",
       "0        15        4         1"
      ]
     },
     "execution_count": 502,
     "metadata": {},
     "output_type": "execute_result"
    }
   ],
   "source": [
    "dftrend1 = pd.DataFrame({'Positive' : [15],\n",
    "'Neutral' : [4],\n",
    "'Negative' : [1]})\n",
    "dftrend1.head()\n"
   ]
  },
  {
   "cell_type": "code",
   "execution_count": null,
   "metadata": {},
   "outputs": [
    {
     "data": {
      "text/html": [
       "<div>\n",
       "<style scoped>\n",
       "    .dataframe tbody tr th:only-of-type {\n",
       "        vertical-align: middle;\n",
       "    }\n",
       "\n",
       "    .dataframe tbody tr th {\n",
       "        vertical-align: top;\n",
       "    }\n",
       "\n",
       "    .dataframe thead th {\n",
       "        text-align: right;\n",
       "    }\n",
       "</style>\n",
       "<table border=\"1\" class=\"dataframe\">\n",
       "  <thead>\n",
       "    <tr style=\"text-align: right;\">\n",
       "      <th></th>\n",
       "      <th>Positive</th>\n",
       "      <th>Neutral</th>\n",
       "      <th>Negative</th>\n",
       "    </tr>\n",
       "  </thead>\n",
       "  <tbody>\n",
       "    <tr>\n",
       "      <th>0</th>\n",
       "      <td>11</td>\n",
       "      <td>6</td>\n",
       "      <td>3</td>\n",
       "    </tr>\n",
       "  </tbody>\n",
       "</table>\n",
       "</div>"
      ],
      "text/plain": [
       "   Positive  Neutral  Negative\n",
       "0        11        6         3"
      ]
     },
     "execution_count": 503,
     "metadata": {},
     "output_type": "execute_result"
    }
   ],
   "source": [
    "dftrend2 = pd.DataFrame({'Positive' : [11],\n",
    "'Neutral' : [6],\n",
    "'Negative' : [3]})\n",
    "dftrend2.head()\n"
   ]
  },
  {
   "cell_type": "code",
   "execution_count": null,
   "metadata": {},
   "outputs": [
    {
     "data": {
      "text/html": [
       "<div>\n",
       "<style scoped>\n",
       "    .dataframe tbody tr th:only-of-type {\n",
       "        vertical-align: middle;\n",
       "    }\n",
       "\n",
       "    .dataframe tbody tr th {\n",
       "        vertical-align: top;\n",
       "    }\n",
       "\n",
       "    .dataframe thead th {\n",
       "        text-align: right;\n",
       "    }\n",
       "</style>\n",
       "<table border=\"1\" class=\"dataframe\">\n",
       "  <thead>\n",
       "    <tr style=\"text-align: right;\">\n",
       "      <th></th>\n",
       "      <th>Positive</th>\n",
       "      <th>Neutral</th>\n",
       "      <th>Negative</th>\n",
       "    </tr>\n",
       "  </thead>\n",
       "  <tbody>\n",
       "    <tr>\n",
       "      <th>0</th>\n",
       "      <td>7</td>\n",
       "      <td>11</td>\n",
       "      <td>2</td>\n",
       "    </tr>\n",
       "  </tbody>\n",
       "</table>\n",
       "</div>"
      ],
      "text/plain": [
       "   Positive  Neutral  Negative\n",
       "0         7       11         2"
      ]
     },
     "execution_count": 504,
     "metadata": {},
     "output_type": "execute_result"
    }
   ],
   "source": [
    "dftrend3 = pd.DataFrame({'Positive' : [7],\n",
    "'Neutral' : [11],\n",
    "'Negative' : [2]})\n",
    "dftrend3.head()\n",
    "#dftrend1.to_csv('dfs.csv', index = False)"
   ]
  },
  {
   "cell_type": "code",
   "execution_count": null,
   "metadata": {},
   "outputs": [
    {
     "data": {
      "text/plain": [
       "<AxesSubplot:title={'center':'#1 Trend in San Antonio'}, xlabel='Trends', ylabel='Count'>"
      ]
     },
     "execution_count": 505,
     "metadata": {},
     "output_type": "execute_result"
    },
    {
     "data": {
      "image/png": "[encoded data removed]",
      "text/plain": [
       "<Figure size 720x648 with 1 Axes>"
      ]
     },
     "metadata": {},
     "output_type": "display_data"
    }
   ],
   "source": [
    "dftrend1.plot(kind=\"bar\",\n",
    " figsize=(10, 9),\n",
    "  xlabel=\"Trends\",\n",
    "   ylabel=\"Count\",\n",
    "    title=\"#1 Trend in San Antonio\")"
   ]
  },
  {
   "cell_type": "code",
   "execution_count": null,
   "metadata": {},
   "outputs": [
    {
     "data": {
      "text/plain": [
       "<AxesSubplot:title={'center':'#2 Trend in San Antonio'}, xlabel='Trends', ylabel='Count'>"
      ]
     },
     "execution_count": 506,
     "metadata": {},
     "output_type": "execute_result"
    },
    {
     "data": {
      "image/png": "[encoded data removed]",
      "text/plain": [
       "<Figure size 720x648 with 1 Axes>"
      ]
     },
     "metadata": {},
     "output_type": "display_data"
    }
   ],
   "source": [
    "dftrend2.plot(kind=\"bar\",\n",
    " figsize=(10, 9),\n",
    "  xlabel=\"Trends\",\n",
    "   ylabel=\"Count\",\n",
    "    title=\"#2 Trend in San Antonio\")"
   ]
  },
  {
   "cell_type": "code",
   "execution_count": null,
   "metadata": {},
   "outputs": [
    {
     "data": {
      "text/plain": [
       "<AxesSubplot:title={'center':'#3 Trend in San Antonio'}, xlabel='Trends', ylabel='Count'>"
      ]
     },
     "execution_count": 507,
     "metadata": {},
     "output_type": "execute_result"
    },
    {
     "data": {
      "image/png": "[encoded data removed]",
      "text/plain": [
       "<Figure size 720x648 with 1 Axes>"
      ]
     },
     "metadata": {},
     "output_type": "display_data"
    }
   ],
   "source": [
    "dftrend3.plot(kind=\"bar\",\n",
    " figsize=(10, 9),\n",
    "  xlabel=\"Trends\",\n",
    "   ylabel=\"Count\",\n",
    "    title=\"#3 Trend in San Antonio\")"
   ]
  },
  {
   "cell_type": "markdown",
   "metadata": {},
   "source": [
    "## Geocoding"
   ]
  },
  {
   "cell_type": "code",
   "execution_count": null,
   "metadata": {},
   "outputs": [],
   "source": [
    "import os\n",
    "from geopy import OpenMapQuest"
   ]
  },
  {
   "cell_type": "code",
   "execution_count": null,
   "metadata": {},
   "outputs": [],
   "source": [
    "geo = OpenMapQuest(api_key=os.environ['GeoCK'])\n",
    "locations = ['222 Eastern Pkwy, Louisville, KY 40208',\n",
    "             '440 N Whittington Pkwy, Louisville, KY 40222',\n",
    "             'El Alamein، Egypt']\n",
    "geo_locations = []\n",
    "for loc in locations:\n",
    "    geo_locations.append(geo.geocode(loc))"
   ]
  },
  {
   "cell_type": "code",
   "execution_count": null,
   "metadata": {},
   "outputs": [
    {
     "data": {
      "text/plain": [
       "[Location(Duthie Center for Engineering, 222, Eastern Parkway, Louisville, Jefferson County, Kentucky, 40208, United States of America, (38.21264035, -85.7608605714874, 0.0)),\n",
       " Location(Burhans Hall, 440, North Whittington Parkway, Hurstbourne, Jefferson County, Kentucky, 40222, United States of America, (38.25334785, -85.5843224594185, 0.0)),\n",
       " Location(العلمين, مطروح, مصر, (30.833944, 28.949268, 0.0))]"
      ]
     },
     "execution_count": 86,
     "metadata": {},
     "output_type": "execute_result"
    }
   ],
   "source": [
    "geo_locations"
   ]
  },
  {
   "cell_type": "code",
   "execution_count": null,
   "metadata": {},
   "outputs": [],
   "source": [
    "from tweetutilities import get_tweepy_API"
   ]
  },
  {
   "cell_type": "code",
   "execution_count": null,
   "metadata": {},
   "outputs": [],
   "source": [
    "api = get_tweepy_API()"
   ]
  },
  {
   "cell_type": "code",
   "execution_count": null,
   "metadata": {},
   "outputs": [],
   "source": [
    "tweets = [] \n",
    "counts = {'total_tweets': 0, 'locations': 0}\n"
   ]
  },
  {
   "cell_type": "markdown",
   "metadata": {},
   "source": [
    "### Location Listener"
   ]
  },
  {
   "cell_type": "code",
   "execution_count": null,
   "metadata": {},
   "outputs": [],
   "source": [
    "from locationlistener import LocationListener"
   ]
  },
  {
   "cell_type": "code",
   "execution_count": null,
   "metadata": {},
   "outputs": [],
   "source": [
    "location_listener = LocationListener(api, counts_dict=counts, \n",
    "    tweets_list=tweets, topic='Will Smith', limit=150)"
   ]
  },
  {
   "cell_type": "code",
   "execution_count": null,
   "metadata": {},
   "outputs": [],
   "source": [
    "stream = tweepy.Stream(auth=api.auth, listener=location_listener)"
   ]
  },
  {
   "cell_type": "code",
   "execution_count": null,
   "metadata": {},
   "outputs": [
    {
     "name": "stdout",
     "output_type": "stream",
     "text": [
      "rmossconti: being able to recall various hilarious Will Smith rap lines is both a gift and a curse but can proudly say I’ve got… https://t.co/ehyZctJ2Ad\n",
      "\n",
      "Mangakiko12: Steve Harvey has choice words for Will Smith after he slapped Chris Rock at the Oscars https://t.co/B1zWhNzJx6\n",
      "\n",
      "balogunjide1: OK, Will Smith went too far, slapping Chris Rock with the whole world watching. But should he continue to be punish… https://t.co/5UPSt34c5Z\n",
      "\n"
     ]
    }
   ],
   "source": [
    "stream.filter(track=['Will Smith'], languages=['en'], is_async=False)"
   ]
  },
  {
   "cell_type": "code",
   "execution_count": null,
   "metadata": {},
   "outputs": [
    {
     "data": {
      "text/plain": [
       "8"
      ]
     },
     "execution_count": 322,
     "metadata": {},
     "output_type": "execute_result"
    }
   ],
   "source": [
    "counts['total_tweets'] #total tweets examined"
   ]
  },
  {
   "cell_type": "code",
   "execution_count": null,
   "metadata": {},
   "outputs": [
    {
     "data": {
      "text/plain": [
       "4"
      ]
     },
     "execution_count": 323,
     "metadata": {},
     "output_type": "execute_result"
    }
   ],
   "source": [
    "counts['locations'] #tweets kept (should match # for LocationListener limit UNLESS there was a timeout)"
   ]
  },
  {
   "cell_type": "code",
   "execution_count": null,
   "metadata": {},
   "outputs": [
    {
     "name": "stdout",
     "output_type": "stream",
     "text": [
      "50.0%\n"
     ]
    }
   ],
   "source": [
    "print(f'{counts[\"locations\"] / counts[\"total_tweets\"]:.1%}') # % tweets that had locations"
   ]
  },
  {
   "cell_type": "code",
   "execution_count": null,
   "metadata": {},
   "outputs": [],
   "source": [
    "from tweetutilities import get_geocodes"
   ]
  },
  {
   "cell_type": "code",
   "execution_count": null,
   "metadata": {},
   "outputs": [
    {
     "name": "stdout",
     "output_type": "stream",
     "text": [
      "Getting coordinates for tweet locations...\n",
      "Done geocoding\n"
     ]
    }
   ],
   "source": [
    "tweet_locations_fail = get_geocodes(tweets)"
   ]
  },
  {
   "cell_type": "code",
   "execution_count": null,
   "metadata": {},
   "outputs": [
    {
     "data": {
      "text/plain": [
       "1"
      ]
     },
     "execution_count": 471,
     "metadata": {},
     "output_type": "execute_result"
    }
   ],
   "source": [
    "tweet_locations_fail"
   ]
  },
  {
   "cell_type": "code",
   "execution_count": null,
   "metadata": {},
   "outputs": [
    {
     "name": "stdout",
     "output_type": "stream",
     "text": [
      "25.0% of the locations could not be deciphered.\n"
     ]
    }
   ],
   "source": [
    "print(f'{tweet_locations_fail / counts[\"locations\"]:.1%} of the locations could not be deciphered.')"
   ]
  },
  {
   "cell_type": "markdown",
   "metadata": {},
   "source": [
    "### Location Listener DataFrame"
   ]
  },
  {
   "cell_type": "code",
   "execution_count": null,
   "metadata": {},
   "outputs": [],
   "source": [
    "import pandas as pd"
   ]
  },
  {
   "cell_type": "code",
   "execution_count": null,
   "metadata": {},
   "outputs": [],
   "source": [
    "dft2 = pd.DataFrame(tweets)\n",
    "dft = pd.DataFrame(tweets)"
   ]
  },
  {
   "cell_type": "code",
   "execution_count": null,
   "metadata": {},
   "outputs": [
    {
     "name": "stdout",
     "output_type": "stream",
     "text": [
      "<class 'pandas.core.frame.DataFrame'>\n",
      "RangeIndex: 4 entries, 0 to 3\n",
      "Data columns (total 3 columns):\n",
      " #   Column       Non-Null Count  Dtype \n",
      "---  ------       --------------  ----- \n",
      " 0   screen_name  4 non-null      object\n",
      " 1   text         4 non-null      object\n",
      " 2   location     4 non-null      object\n",
      "dtypes: object(3)\n",
      "memory usage: 224.0+ bytes\n"
     ]
    }
   ],
   "source": [
    "dft.info()"
   ]
  },
  {
   "cell_type": "code",
   "execution_count": null,
   "metadata": {},
   "outputs": [
    {
     "data": {
      "text/html": [
       "<div>\n",
       "<style scoped>\n",
       "    .dataframe tbody tr th:only-of-type {\n",
       "        vertical-align: middle;\n",
       "    }\n",
       "\n",
       "    .dataframe tbody tr th {\n",
       "        vertical-align: top;\n",
       "    }\n",
       "\n",
       "    .dataframe thead th {\n",
       "        text-align: right;\n",
       "    }\n",
       "</style>\n",
       "<table border=\"1\" class=\"dataframe\">\n",
       "  <thead>\n",
       "    <tr style=\"text-align: right;\">\n",
       "      <th></th>\n",
       "      <th>screen_name</th>\n",
       "      <th>text</th>\n",
       "      <th>location</th>\n",
       "    </tr>\n",
       "  </thead>\n",
       "  <tbody>\n",
       "    <tr>\n",
       "      <th>0</th>\n",
       "      <td>therealjayber</td>\n",
       "      <td>Imagine the kind of spellbinding power that Ja...</td>\n",
       "      <td>Tweet Smarter. Grow Faster. 👉</td>\n",
       "    </tr>\n",
       "    <tr>\n",
       "      <th>1</th>\n",
       "      <td>chomps443</td>\n",
       "      <td>@LeafyIsHere Will Smith should be white</td>\n",
       "      <td>The motion of the Ocean</td>\n",
       "    </tr>\n",
       "    <tr>\n",
       "      <th>2</th>\n",
       "      <td>biplov_jha</td>\n",
       "      <td>What have we learned from Will Smith and Johnn...</td>\n",
       "      <td>Nepal</td>\n",
       "    </tr>\n",
       "    <tr>\n",
       "      <th>3</th>\n",
       "      <td>KassAssassin</td>\n",
       "      <td>I know his is ridiculous, but what upsets me t...</td>\n",
       "      <td>Brooklyn, NY</td>\n",
       "    </tr>\n",
       "  </tbody>\n",
       "</table>\n",
       "</div>"
      ],
      "text/plain": [
       "     screen_name                                               text  \\\n",
       "0  therealjayber  Imagine the kind of spellbinding power that Ja...   \n",
       "1      chomps443            @LeafyIsHere Will Smith should be white   \n",
       "2     biplov_jha  What have we learned from Will Smith and Johnn...   \n",
       "3   KassAssassin  I know his is ridiculous, but what upsets me t...   \n",
       "\n",
       "                        location  \n",
       "0  Tweet Smarter. Grow Faster. 👉  \n",
       "1        The motion of the Ocean  \n",
       "2                          Nepal  \n",
       "3                   Brooklyn, NY  "
      ]
     },
     "execution_count": 577,
     "metadata": {},
     "output_type": "execute_result"
    }
   ],
   "source": [
    "dft.head()"
   ]
  },
  {
   "cell_type": "code",
   "execution_count": null,
   "metadata": {},
   "outputs": [],
   "source": [
    "dft = dft.dropna()"
   ]
  },
  {
   "cell_type": "code",
   "execution_count": null,
   "metadata": {},
   "outputs": [
    {
     "data": {
      "text/html": [
       "<div>\n",
       "<style scoped>\n",
       "    .dataframe tbody tr th:only-of-type {\n",
       "        vertical-align: middle;\n",
       "    }\n",
       "\n",
       "    .dataframe tbody tr th {\n",
       "        vertical-align: top;\n",
       "    }\n",
       "\n",
       "    .dataframe thead th {\n",
       "        text-align: right;\n",
       "    }\n",
       "</style>\n",
       "<table border=\"1\" class=\"dataframe\">\n",
       "  <thead>\n",
       "    <tr style=\"text-align: right;\">\n",
       "      <th></th>\n",
       "      <th>screen_name</th>\n",
       "      <th>text</th>\n",
       "      <th>location</th>\n",
       "    </tr>\n",
       "  </thead>\n",
       "  <tbody>\n",
       "    <tr>\n",
       "      <th>0</th>\n",
       "      <td>therealjayber</td>\n",
       "      <td>Imagine the kind of spellbinding power that Ja...</td>\n",
       "      <td>Tweet Smarter. Grow Faster. 👉</td>\n",
       "    </tr>\n",
       "    <tr>\n",
       "      <th>1</th>\n",
       "      <td>chomps443</td>\n",
       "      <td>@LeafyIsHere Will Smith should be white</td>\n",
       "      <td>The motion of the Ocean</td>\n",
       "    </tr>\n",
       "    <tr>\n",
       "      <th>2</th>\n",
       "      <td>biplov_jha</td>\n",
       "      <td>What have we learned from Will Smith and Johnn...</td>\n",
       "      <td>Nepal</td>\n",
       "    </tr>\n",
       "    <tr>\n",
       "      <th>3</th>\n",
       "      <td>KassAssassin</td>\n",
       "      <td>I know his is ridiculous, but what upsets me t...</td>\n",
       "      <td>Brooklyn, NY</td>\n",
       "    </tr>\n",
       "  </tbody>\n",
       "</table>\n",
       "</div>"
      ],
      "text/plain": [
       "     screen_name                                               text  \\\n",
       "0  therealjayber  Imagine the kind of spellbinding power that Ja...   \n",
       "1      chomps443            @LeafyIsHere Will Smith should be white   \n",
       "2     biplov_jha  What have we learned from Will Smith and Johnn...   \n",
       "3   KassAssassin  I know his is ridiculous, but what upsets me t...   \n",
       "\n",
       "                        location  \n",
       "0  Tweet Smarter. Grow Faster. 👉  \n",
       "1        The motion of the Ocean  \n",
       "2                          Nepal  \n",
       "3                   Brooklyn, NY  "
      ]
     },
     "execution_count": 579,
     "metadata": {},
     "output_type": "execute_result"
    }
   ],
   "source": [
    "dft.head()"
   ]
  },
  {
   "cell_type": "code",
   "execution_count": null,
   "metadata": {},
   "outputs": [
    {
     "name": "stdout",
     "output_type": "stream",
     "text": [
      "<class 'pandas.core.frame.DataFrame'>\n",
      "RangeIndex: 4 entries, 0 to 3\n",
      "Data columns (total 3 columns):\n",
      " #   Column       Non-Null Count  Dtype \n",
      "---  ------       --------------  ----- \n",
      " 0   screen_name  4 non-null      object\n",
      " 1   text         4 non-null      object\n",
      " 2   location     4 non-null      object\n",
      "dtypes: object(3)\n",
      "memory usage: 224.0+ bytes\n"
     ]
    }
   ],
   "source": [
    "dft2.info()"
   ]
  },
  {
   "cell_type": "code",
   "execution_count": null,
   "metadata": {},
   "outputs": [
    {
     "data": {
      "text/plain": [
       "(4, 3)"
      ]
     },
     "execution_count": 581,
     "metadata": {},
     "output_type": "execute_result"
    }
   ],
   "source": [
    "dft2.shape"
   ]
  },
  {
   "cell_type": "code",
   "execution_count": null,
   "metadata": {},
   "outputs": [],
   "source": [
    "dft.to_csv('dft.csv', index = False)\n",
    "dft2.to_csv('dft2.csv', index = False)"
   ]
  },
  {
   "cell_type": "markdown",
   "metadata": {},
   "source": [
    "### Map the Tweets"
   ]
  },
  {
   "cell_type": "code",
   "execution_count": null,
   "metadata": {},
   "outputs": [],
   "source": [
    "import folium"
   ]
  },
  {
   "cell_type": "code",
   "execution_count": null,
   "metadata": {},
   "outputs": [],
   "source": [
    "usmap = folium.Map(location=[39.8283, -98.5795],  # center of U.S.\n",
    "                   tiles='Stamen Terrain',\n",
    "                   zoom_start=4, detect_retina=True)"
   ]
  },
  {
   "cell_type": "code",
   "execution_count": null,
   "metadata": {},
   "outputs": [],
   "source": [
    "usmap.save('base_map.html')"
   ]
  },
  {
   "cell_type": "code",
   "execution_count": null,
   "metadata": {},
   "outputs": [
    {
     "ename": "AttributeError",
     "evalue": "'Pandas' object has no attribute 'latitude'",
     "output_type": "error",
     "traceback": [
      "\u001b[1;31m---------------------------------------------------------------------------\u001b[0m",
      "\u001b[1;31mAttributeError\u001b[0m                            Traceback (most recent call last)",
      "\u001b[1;32mg:\\My Drive\\Elvis2\\Homework Four\\CSE 590 -- Hamilton Assignment 4.ipynb Cell 303'\u001b[0m in \u001b[0;36m<module>\u001b[1;34m\u001b[0m\n\u001b[0;32m      <a href='vscode-notebook-cell:/g%3A/My%20Drive/Elvis2/Homework%20Four/CSE%20590%20--%20Hamilton%20Assignment%204.ipynb#ch0000308?line=1'>2</a>\u001b[0m text \u001b[39m=\u001b[39m \u001b[39m'\u001b[39m\u001b[39m: \u001b[39m\u001b[39m'\u001b[39m\u001b[39m.\u001b[39mjoin([t\u001b[39m.\u001b[39mscreen_name, t\u001b[39m.\u001b[39mtext])\n\u001b[0;32m      <a href='vscode-notebook-cell:/g%3A/My%20Drive/Elvis2/Homework%20Four/CSE%20590%20--%20Hamilton%20Assignment%204.ipynb#ch0000308?line=2'>3</a>\u001b[0m popup \u001b[39m=\u001b[39m folium\u001b[39m.\u001b[39mPopup(text, parse_html\u001b[39m=\u001b[39m\u001b[39mTrue\u001b[39;00m)\n\u001b[1;32m----> <a href='vscode-notebook-cell:/g%3A/My%20Drive/Elvis2/Homework%20Four/CSE%20590%20--%20Hamilton%20Assignment%204.ipynb#ch0000308?line=3'>4</a>\u001b[0m marker \u001b[39m=\u001b[39m folium\u001b[39m.\u001b[39mMarker((t\u001b[39m.\u001b[39;49mlatitude, t\u001b[39m.\u001b[39mlongitude), \n\u001b[0;32m      <a href='vscode-notebook-cell:/g%3A/My%20Drive/Elvis2/Homework%20Four/CSE%20590%20--%20Hamilton%20Assignment%204.ipynb#ch0000308?line=4'>5</a>\u001b[0m                        popup\u001b[39m=\u001b[39mpopup)\n\u001b[0;32m      <a href='vscode-notebook-cell:/g%3A/My%20Drive/Elvis2/Homework%20Four/CSE%20590%20--%20Hamilton%20Assignment%204.ipynb#ch0000308?line=5'>6</a>\u001b[0m marker\u001b[39m.\u001b[39madd_to(usmap)\n",
      "\u001b[1;31mAttributeError\u001b[0m: 'Pandas' object has no attribute 'latitude'"
     ]
    }
   ],
   "source": [
    "for t in dft.itertuples():\n",
    "    text = ': '.join([t.screen_name, t.text])\n",
    "    popup = folium.Popup(text, parse_html=True)\n",
    "    marker = folium.Marker((t.latitude, t.longitude), \n",
    "                           popup=popup)\n",
    "    marker.add_to(usmap)"
   ]
  },
  {
   "cell_type": "code",
   "execution_count": null,
   "metadata": {},
   "outputs": [],
   "source": [
    "usmap.save('tweet_map.html')"
   ]
  },
  {
   "cell_type": "code",
   "execution_count": null,
   "metadata": {},
   "outputs": [
    {
     "data": {
      "text/html": [
       "<div style=\"width:100%;\"><div style=\"position:relative;width:100%;height:0;padding-bottom:60%;\"><span style=\"color:#565656\">Make this Notebook Trusted to load map: File -> Trust Notebook</span><iframe src=\"about:blank\" style=\"position:absolute;width:100%;height:100%;left:0;top:0;border:none !important;\" data-html=%3C%21DOCTYPE%20html%3E%0A%3Chead%3E%20%20%20%20%0A%20%20%20%20%3Cmeta%20http-equiv%3D%22content-type%22%20content%3D%22text/html%3B%20charset%3DUTF-8%22%20/%3E%0A%20%20%20%20%0A%20%20%20%20%20%20%20%20%3Cscript%3E%0A%20%20%20%20%20%20%20%20%20%20%20%20L_NO_TOUCH%20%3D%20false%3B%0A%20%20%20%20%20%20%20%20%20%20%20%20L_DISABLE_3D%20%3D%20false%3B%0A%20%20%20%20%20%20%20%20%3C/script%3E%0A%20%20%20%20%0A%20%20%20%20%3Cstyle%3Ehtml%2C%20body%20%7Bwidth%3A%20100%25%3Bheight%3A%20100%25%3Bmargin%3A%200%3Bpadding%3A%200%3B%7D%3C/style%3E%0A%20%20%20%20%3Cstyle%3E%23map%20%7Bposition%3Aabsolute%3Btop%3A0%3Bbottom%3A0%3Bright%3A0%3Bleft%3A0%3B%7D%3C/style%3E%0A%20%20%20%20%3Cscript%20src%3D%22https%3A//cdn.jsdelivr.net/npm/leaflet%401.6.0/dist/leaflet.js%22%3E%3C/script%3E%0A%20%20%20%20%3Cscript%20src%3D%22https%3A//code.jquery.com/jquery-1.12.4.min.js%22%3E%3C/script%3E%0A%20%20%20%20%3Cscript%20src%3D%22https%3A//maxcdn.bootstrapcdn.com/bootstrap/3.2.0/js/bootstrap.min.js%22%3E%3C/script%3E%0A%20%20%20%20%3Cscript%20src%3D%22https%3A//cdnjs.cloudflare.com/ajax/libs/Leaflet.awesome-markers/2.0.2/leaflet.awesome-markers.js%22%3E%3C/script%3E%0A%20%20%20%20%3Clink%20rel%3D%22stylesheet%22%20href%3D%22https%3A//cdn.jsdelivr.net/npm/leaflet%401.6.0/dist/leaflet.css%22/%3E%0A%20%20%20%20%3Clink%20rel%3D%22stylesheet%22%20href%3D%22https%3A//maxcdn.bootstrapcdn.com/bootstrap/3.2.0/css/bootstrap.min.css%22/%3E%0A%20%20%20%20%3Clink%20rel%3D%22stylesheet%22%20href%3D%22https%3A//maxcdn.bootstrapcdn.com/bootstrap/3.2.0/css/bootstrap-theme.min.css%22/%3E%0A%20%20%20%20%3Clink%20rel%3D%22stylesheet%22%20href%3D%22https%3A//maxcdn.bootstrapcdn.com/font-awesome/4.6.3/css/font-awesome.min.css%22/%3E%0A%20%20%20%20%3Clink%20rel%3D%22stylesheet%22%20href%3D%22https%3A//cdnjs.cloudflare.com/ajax/libs/Leaflet.awesome-markers/2.0.2/leaflet.awesome-markers.css%22/%3E%0A%20%20%20%20%3Clink%20rel%3D%22stylesheet%22%20href%3D%22https%3A//cdn.jsdelivr.net/gh/python-visualization/folium/folium/templates/leaflet.awesome.rotate.min.css%22/%3E%0A%20%20%20%20%0A%20%20%20%20%20%20%20%20%20%20%20%20%3Cmeta%20name%3D%22viewport%22%20content%3D%22width%3Ddevice-width%2C%0A%20%20%20%20%20%20%20%20%20%20%20%20%20%20%20%20initial-scale%3D1.0%2C%20maximum-scale%3D1.0%2C%20user-scalable%3Dno%22%20/%3E%0A%20%20%20%20%20%20%20%20%20%20%20%20%3Cstyle%3E%0A%20%20%20%20%20%20%20%20%20%20%20%20%20%20%20%20%23map_15adbad4fdfc4f9fb188eb63bbc59f1e%20%7B%0A%20%20%20%20%20%20%20%20%20%20%20%20%20%20%20%20%20%20%20%20position%3A%20relative%3B%0A%20%20%20%20%20%20%20%20%20%20%20%20%20%20%20%20%20%20%20%20width%3A%20100.0%25%3B%0A%20%20%20%20%20%20%20%20%20%20%20%20%20%20%20%20%20%20%20%20height%3A%20100.0%25%3B%0A%20%20%20%20%20%20%20%20%20%20%20%20%20%20%20%20%20%20%20%20left%3A%200.0%25%3B%0A%20%20%20%20%20%20%20%20%20%20%20%20%20%20%20%20%20%20%20%20top%3A%200.0%25%3B%0A%20%20%20%20%20%20%20%20%20%20%20%20%20%20%20%20%7D%0A%20%20%20%20%20%20%20%20%20%20%20%20%3C/style%3E%0A%20%20%20%20%20%20%20%20%0A%3C/head%3E%0A%3Cbody%3E%20%20%20%20%0A%20%20%20%20%0A%20%20%20%20%20%20%20%20%20%20%20%20%3Cdiv%20class%3D%22folium-map%22%20id%3D%22map_15adbad4fdfc4f9fb188eb63bbc59f1e%22%20%3E%3C/div%3E%0A%20%20%20%20%20%20%20%20%0A%3C/body%3E%0A%3Cscript%3E%20%20%20%20%0A%20%20%20%20%0A%20%20%20%20%20%20%20%20%20%20%20%20var%20map_15adbad4fdfc4f9fb188eb63bbc59f1e%20%3D%20L.map%28%0A%20%20%20%20%20%20%20%20%20%20%20%20%20%20%20%20%22map_15adbad4fdfc4f9fb188eb63bbc59f1e%22%2C%0A%20%20%20%20%20%20%20%20%20%20%20%20%20%20%20%20%7B%0A%20%20%20%20%20%20%20%20%20%20%20%20%20%20%20%20%20%20%20%20center%3A%20%5B39.8283%2C%20-98.5795%5D%2C%0A%20%20%20%20%20%20%20%20%20%20%20%20%20%20%20%20%20%20%20%20crs%3A%20L.CRS.EPSG3857%2C%0A%20%20%20%20%20%20%20%20%20%20%20%20%20%20%20%20%20%20%20%20zoom%3A%204%2C%0A%20%20%20%20%20%20%20%20%20%20%20%20%20%20%20%20%20%20%20%20zoomControl%3A%20true%2C%0A%20%20%20%20%20%20%20%20%20%20%20%20%20%20%20%20%20%20%20%20preferCanvas%3A%20false%2C%0A%20%20%20%20%20%20%20%20%20%20%20%20%20%20%20%20%20%20%20%20detectRetina%3A%20true%2C%0A%20%20%20%20%20%20%20%20%20%20%20%20%20%20%20%20%7D%0A%20%20%20%20%20%20%20%20%20%20%20%20%29%3B%0A%0A%20%20%20%20%20%20%20%20%20%20%20%20%0A%0A%20%20%20%20%20%20%20%20%0A%20%20%20%20%0A%20%20%20%20%20%20%20%20%20%20%20%20var%20tile_layer_767db9b311654887b61dcc538d19be86%20%3D%20L.tileLayer%28%0A%20%20%20%20%20%20%20%20%20%20%20%20%20%20%20%20%22https%3A//stamen-tiles-%7Bs%7D.a.ssl.fastly.net/terrain/%7Bz%7D/%7Bx%7D/%7By%7D.jpg%22%2C%0A%20%20%20%20%20%20%20%20%20%20%20%20%20%20%20%20%7B%22attribution%22%3A%20%22Map%20tiles%20by%20%5Cu003ca%20href%3D%5C%22http%3A//stamen.com%5C%22%5Cu003eStamen%20Design%5Cu003c/a%5Cu003e%2C%20under%20%5Cu003ca%20href%3D%5C%22http%3A//creativecommons.org/licenses/by/3.0%5C%22%5Cu003eCC%20BY%203.0%5Cu003c/a%5Cu003e.%20Data%20by%20%5Cu0026copy%3B%20%5Cu003ca%20href%3D%5C%22http%3A//openstreetmap.org%5C%22%5Cu003eOpenStreetMap%5Cu003c/a%5Cu003e%2C%20under%20%5Cu003ca%20href%3D%5C%22http%3A//creativecommons.org/licenses/by-sa/3.0%5C%22%5Cu003eCC%20BY%20SA%5Cu003c/a%5Cu003e.%22%2C%20%22detectRetina%22%3A%20false%2C%20%22maxNativeZoom%22%3A%2018%2C%20%22maxZoom%22%3A%2018%2C%20%22minZoom%22%3A%200%2C%20%22noWrap%22%3A%20false%2C%20%22opacity%22%3A%201%2C%20%22subdomains%22%3A%20%22abc%22%2C%20%22tms%22%3A%20false%7D%0A%20%20%20%20%20%20%20%20%20%20%20%20%29.addTo%28map_15adbad4fdfc4f9fb188eb63bbc59f1e%29%3B%0A%20%20%20%20%20%20%20%20%0A%20%20%20%20%0A%20%20%20%20%20%20%20%20%20%20%20%20var%20marker_c5469d39413e4bc6b01a9daf8276e508%20%3D%20L.marker%28%0A%20%20%20%20%20%20%20%20%20%20%20%20%20%20%20%20%5B38.9722583%2C%20-76.573454%5D%2C%0A%20%20%20%20%20%20%20%20%20%20%20%20%20%20%20%20%7B%7D%0A%20%20%20%20%20%20%20%20%20%20%20%20%29.addTo%28map_15adbad4fdfc4f9fb188eb63bbc59f1e%29%3B%0A%20%20%20%20%20%20%20%20%0A%20%20%20%20%0A%20%20%20%20%20%20%20%20var%20popup_7e17f7d1869e40ae8612f6f7f167b7c2%20%3D%20L.popup%28%7B%22maxWidth%22%3A%20%22100%25%22%7D%29%3B%0A%0A%20%20%20%20%20%20%20%20%0A%20%20%20%20%20%20%20%20%20%20%20%20var%20html_8d9ff05cb04a4b649c03f5fc9429b720%20%3D%20%24%28%60%3Cdiv%20id%3D%22html_8d9ff05cb04a4b649c03f5fc9429b720%22%20style%3D%22width%3A%20100.0%25%3B%20height%3A%20100.0%25%3B%22%3EAuntLiz171822%3A%20Will%20Smith%20Makes%20First%20Public%20Appearance%20In%20India%20Following%20His%20Infamous%20Oscars%20Slap%20https%3A//t.co/7Qhk3XBgkO%3C/div%3E%60%29%5B0%5D%3B%0A%20%20%20%20%20%20%20%20%20%20%20%20popup_7e17f7d1869e40ae8612f6f7f167b7c2.setContent%28html_8d9ff05cb04a4b649c03f5fc9429b720%29%3B%0A%20%20%20%20%20%20%20%20%0A%0A%20%20%20%20%20%20%20%20marker_c5469d39413e4bc6b01a9daf8276e508.bindPopup%28popup_7e17f7d1869e40ae8612f6f7f167b7c2%29%0A%20%20%20%20%20%20%20%20%3B%0A%0A%20%20%20%20%20%20%20%20%0A%20%20%20%20%0A%20%20%20%20%0A%20%20%20%20%20%20%20%20%20%20%20%20var%20marker_08137a98c7354c3286100653e826ff12%20%3D%20L.marker%28%0A%20%20%20%20%20%20%20%20%20%20%20%20%20%20%20%20%5B40.0757384%2C%20-74.4041622%5D%2C%0A%20%20%20%20%20%20%20%20%20%20%20%20%20%20%20%20%7B%7D%0A%20%20%20%20%20%20%20%20%20%20%20%20%29.addTo%28map_15adbad4fdfc4f9fb188eb63bbc59f1e%29%3B%0A%20%20%20%20%20%20%20%20%0A%20%20%20%20%0A%20%20%20%20%20%20%20%20var%20popup_5975fac031ca491abcf327a07b63c7dc%20%3D%20L.popup%28%7B%22maxWidth%22%3A%20%22100%25%22%7D%29%3B%0A%0A%20%20%20%20%20%20%20%20%0A%20%20%20%20%20%20%20%20%20%20%20%20var%20html_7c49a7b701774b5d808373391599e583%20%3D%20%24%28%60%3Cdiv%20id%3D%22html_7c49a7b701774b5d808373391599e583%22%20style%3D%22width%3A%20100.0%25%3B%20height%3A%20100.0%25%3B%22%3EXboxMurda%3A%20%40nojumper%20Will%20Smith%20the%20Legend%3C/div%3E%60%29%5B0%5D%3B%0A%20%20%20%20%20%20%20%20%20%20%20%20popup_5975fac031ca491abcf327a07b63c7dc.setContent%28html_7c49a7b701774b5d808373391599e583%29%3B%0A%20%20%20%20%20%20%20%20%0A%0A%20%20%20%20%20%20%20%20marker_08137a98c7354c3286100653e826ff12.bindPopup%28popup_5975fac031ca491abcf327a07b63c7dc%29%0A%20%20%20%20%20%20%20%20%3B%0A%0A%20%20%20%20%20%20%20%20%0A%20%20%20%20%0A%20%20%20%20%0A%20%20%20%20%20%20%20%20%20%20%20%20var%20marker_2156962a2efe4cc1889b87492272f561%20%3D%20L.marker%28%0A%20%20%20%20%20%20%20%20%20%20%20%20%20%20%20%20%5B25.3356491%2C%2083.0076292%5D%2C%0A%20%20%20%20%20%20%20%20%20%20%20%20%20%20%20%20%7B%7D%0A%20%20%20%20%20%20%20%20%20%20%20%20%29.addTo%28map_15adbad4fdfc4f9fb188eb63bbc59f1e%29%3B%0A%20%20%20%20%20%20%20%20%0A%20%20%20%20%0A%20%20%20%20%20%20%20%20var%20popup_657bed453db94d939fc34b67aaa8d3e2%20%3D%20L.popup%28%7B%22maxWidth%22%3A%20%22100%25%22%7D%29%3B%0A%0A%20%20%20%20%20%20%20%20%0A%20%20%20%20%20%20%20%20%20%20%20%20var%20html_ed564b55f70245fbb0eaeea4de761786%20%3D%20%24%28%60%3Cdiv%20id%3D%22html_ed564b55f70245fbb0eaeea4de761786%22%20style%3D%22width%3A%20100.0%25%3B%20height%3A%20100.0%25%3B%22%3EHinduSamvaad%3A%20Will%20Smith%20to%20meet%20Sadhguru%3A%20Julia%20Roberts%2C%20Salma%20Hayek%20and%20more%20Hollywood%20celebs%20who%20believe%20in%20Indian%20spirituality%20https%3A//t.co/J6eYy9Ue2a%3C/div%3E%60%29%5B0%5D%3B%0A%20%20%20%20%20%20%20%20%20%20%20%20popup_657bed453db94d939fc34b67aaa8d3e2.setContent%28html_ed564b55f70245fbb0eaeea4de761786%29%3B%0A%20%20%20%20%20%20%20%20%0A%0A%20%20%20%20%20%20%20%20marker_2156962a2efe4cc1889b87492272f561.bindPopup%28popup_657bed453db94d939fc34b67aaa8d3e2%29%0A%20%20%20%20%20%20%20%20%3B%0A%0A%20%20%20%20%20%20%20%20%0A%20%20%20%20%0A%3C/script%3E onload=\"this.contentDocument.open();this.contentDocument.write(    decodeURIComponent(this.getAttribute('data-html')));this.contentDocument.close();\" allowfullscreen webkitallowfullscreen mozallowfullscreen></iframe></div></div>"
      ],
      "text/plain": [
       "<folium.folium.Map at 0x22b1646cc40>"
      ]
     },
     "execution_count": 525,
     "metadata": {},
     "output_type": "execute_result"
    }
   ],
   "source": [
    "usmap"
   ]
  },
  {
   "cell_type": "code",
   "execution_count": null,
   "metadata": {},
   "outputs": [],
   "source": [
    "accounts_dict = {'accounts': [\n",
    "    {'account': 100, 'name': 'Jones', 'balance': 24.98},\n",
    "    {'account': 200, 'name': 'Doe', 'balance': 345.67}]}"
   ]
  },
  {
   "cell_type": "code",
   "execution_count": null,
   "metadata": {},
   "outputs": [],
   "source": [
    "import json\n",
    "with open('accounts.json', 'w') as accounts:\n",
    "    json.dump(accounts_dict, accounts)"
   ]
  },
  {
   "cell_type": "code",
   "execution_count": null,
   "metadata": {},
   "outputs": [],
   "source": [
    "with open('accounts.json', 'r') as accounts:\n",
    "    accounts_from_json = json.load(accounts)"
   ]
  },
  {
   "cell_type": "code",
   "execution_count": null,
   "metadata": {},
   "outputs": [
    {
     "name": "stdout",
     "output_type": "stream",
     "text": [
      "{'accounts': [{'account': 100, 'name': 'Jones', 'balance': 24.98}, {'account': 200, 'name': 'Doe', 'balance': 345.67}]}\n",
      "<class 'dict'>\n"
     ]
    }
   ],
   "source": [
    "print(accounts_from_json) #The one-key-to-one-value dictionary object\n",
    "print(type(accounts_from_json))"
   ]
  },
  {
   "cell_type": "code",
   "execution_count": null,
   "metadata": {},
   "outputs": [
    {
     "name": "stdout",
     "output_type": "stream",
     "text": [
      "[{'account': 100, 'name': 'Jones', 'balance': 24.98}, {'account': 200, 'name': 'Doe', 'balance': 345.67}]\n"
     ]
    }
   ],
   "source": [
    "print(accounts_from_json['accounts']) #The individual dictionaries per account"
   ]
  },
  {
   "cell_type": "code",
   "execution_count": null,
   "metadata": {},
   "outputs": [
    {
     "name": "stdout",
     "output_type": "stream",
     "text": [
      "{'account': 100, 'name': 'Jones', 'balance': 24.98}\n",
      "{'account': 200, 'name': 'Doe', 'balance': 345.67}\n"
     ]
    }
   ],
   "source": [
    "print(accounts_from_json['accounts'][0]) #The first dictionary/account \n",
    "print(accounts_from_json['accounts'][1]) #The second dictionary/account "
   ]
  },
  {
   "cell_type": "code",
   "execution_count": null,
   "metadata": {},
   "outputs": [],
   "source": [
    "import json"
   ]
  },
  {
   "cell_type": "code",
   "execution_count": null,
   "metadata": {},
   "outputs": [],
   "source": [
    "with open('savedtweets.json', 'w') as outfile:\n",
    "    json.dump(tweets, outfile, indent=4)"
   ]
  },
  {
   "cell_type": "code",
   "execution_count": null,
   "metadata": {},
   "outputs": [],
   "source": [
    "with open('savedtweets.json') as json_file:\n",
    "    tweets_from_json = json.load(json_file)\n"
   ]
  },
  {
   "cell_type": "code",
   "execution_count": null,
   "metadata": {},
   "outputs": [
    {
     "data": {
      "text/plain": [
       "[{'screen_name': 'therealjayber',\n",
       "  'text': 'Imagine the kind of spellbinding power that Jada wields over Will Smith.\\n\\nOne unhappy look, and Will was immediatel… https://t.co/lOkKii20KH',\n",
       "  'location': 'Tweet Smarter. Grow Faster. 👉'},\n",
       " {'screen_name': 'chomps443',\n",
       "  'text': '@LeafyIsHere Will Smith should be white',\n",
       "  'location': 'The motion of the Ocean'},\n",
       " {'screen_name': 'biplov_jha',\n",
       "  'text': 'What have we learned from Will Smith and Johnny Depp?',\n",
       "  'location': 'Nepal'},\n",
       " {'screen_name': 'KassAssassin',\n",
       "  'text': 'I know his is ridiculous, but what upsets me the most about the Will Smith thing is, after getting slapped, Chris R… https://t.co/G3oxLaZ7ta',\n",
       "  'location': 'Brooklyn, NY'}]"
      ]
     },
     "execution_count": 535,
     "metadata": {},
     "output_type": "execute_result"
    }
   ],
   "source": [
    "tweets_from_json"
   ]
  },
  {
   "cell_type": "code",
   "execution_count": null,
   "metadata": {},
   "outputs": [
    {
     "name": "stderr",
     "output_type": "stream",
     "text": [
      "C:\\Users\\coleb\\mambaforge\\lib\\site-packages\\seaborn\\axisgrid.py:88: UserWarning: Tight layout not applied. The left and right margins cannot be made large enough to accommodate all axes decorations.\n",
      "  self._figure.tight_layout(*args, **kwargs)\n"
     ]
    },
    {
     "data": {
      "image/png": "[encoded data removed]",
      "text/plain": [
       "<Figure size 360x360 with 1 Axes>"
      ]
     },
     "metadata": {},
     "output_type": "display_data"
    },
    {
     "data": {
      "image/png": "[encoded data removed]",
      "text/plain": [
       "<Figure size 360x360 with 1 Axes>"
      ]
     },
     "metadata": {},
     "output_type": "display_data"
    },
    {
     "data": {
      "image/png": "[encoded data removed]",
      "text/plain": [
       "<Figure size 360x360 with 1 Axes>"
      ]
     },
     "metadata": {},
     "output_type": "display_data"
    },
    {
     "data": {
      "image/png": "[encoded data removed]",
      "text/plain": [
       "<Figure size 360x360 with 1 Axes>"
      ]
     },
     "metadata": {},
     "output_type": "display_data"
    },
    {
     "data": {
      "image/png": "[encoded data removed]",
      "text/plain": [
       "<Figure size 360x360 with 1 Axes>"
      ]
     },
     "metadata": {},
     "output_type": "display_data"
    }
   ],
   "source": [
    "for column in dft:\n",
    "    sns.displot(x=column, data=dft)"
   ]
  },
  {
   "cell_type": "code",
   "execution_count": null,
   "metadata": {},
   "outputs": [
    {
     "data": {
      "text/html": [
       "<div>\n",
       "<style scoped>\n",
       "    .dataframe tbody tr th:only-of-type {\n",
       "        vertical-align: middle;\n",
       "    }\n",
       "\n",
       "    .dataframe tbody tr th {\n",
       "        vertical-align: top;\n",
       "    }\n",
       "\n",
       "    .dataframe thead th {\n",
       "        text-align: right;\n",
       "    }\n",
       "</style>\n",
       "<table border=\"1\" class=\"dataframe\">\n",
       "  <thead>\n",
       "    <tr style=\"text-align: right;\">\n",
       "      <th></th>\n",
       "      <th>latitude</th>\n",
       "      <th>longitude</th>\n",
       "    </tr>\n",
       "  </thead>\n",
       "  <tbody>\n",
       "    <tr>\n",
       "      <th>latitude</th>\n",
       "      <td>1.000000</td>\n",
       "      <td>-0.996873</td>\n",
       "    </tr>\n",
       "    <tr>\n",
       "      <th>longitude</th>\n",
       "      <td>-0.996873</td>\n",
       "      <td>1.000000</td>\n",
       "    </tr>\n",
       "  </tbody>\n",
       "</table>\n",
       "</div>"
      ],
      "text/plain": [
       "           latitude  longitude\n",
       "latitude   1.000000  -0.996873\n",
       "longitude -0.996873   1.000000"
      ]
     },
     "execution_count": 537,
     "metadata": {},
     "output_type": "execute_result"
    }
   ],
   "source": [
    "dft.corr()"
   ]
  },
  {
   "cell_type": "code",
   "execution_count": null,
   "metadata": {},
   "outputs": [
    {
     "data": {
      "text/html": [
       "<div>\n",
       "<style scoped>\n",
       "    .dataframe tbody tr th:only-of-type {\n",
       "        vertical-align: middle;\n",
       "    }\n",
       "\n",
       "    .dataframe tbody tr th {\n",
       "        vertical-align: top;\n",
       "    }\n",
       "\n",
       "    .dataframe thead th {\n",
       "        text-align: right;\n",
       "    }\n",
       "</style>\n",
       "<table border=\"1\" class=\"dataframe\">\n",
       "  <thead>\n",
       "    <tr style=\"text-align: right;\">\n",
       "      <th></th>\n",
       "      <th>latitude</th>\n",
       "      <th>longitude</th>\n",
       "    </tr>\n",
       "  </thead>\n",
       "  <tbody>\n",
       "    <tr>\n",
       "      <th>count</th>\n",
       "      <td>3.000000</td>\n",
       "      <td>3.000000</td>\n",
       "    </tr>\n",
       "    <tr>\n",
       "      <th>mean</th>\n",
       "      <td>34.794549</td>\n",
       "      <td>-22.656662</td>\n",
       "    </tr>\n",
       "    <tr>\n",
       "      <th>std</th>\n",
       "      <td>8.210207</td>\n",
       "      <td>91.514389</td>\n",
       "    </tr>\n",
       "    <tr>\n",
       "      <th>min</th>\n",
       "      <td>25.335649</td>\n",
       "      <td>-76.573454</td>\n",
       "    </tr>\n",
       "    <tr>\n",
       "      <th>25%</th>\n",
       "      <td>32.153954</td>\n",
       "      <td>-75.488808</td>\n",
       "    </tr>\n",
       "    <tr>\n",
       "      <th>50%</th>\n",
       "      <td>38.972258</td>\n",
       "      <td>-74.404162</td>\n",
       "    </tr>\n",
       "    <tr>\n",
       "      <th>75%</th>\n",
       "      <td>39.523998</td>\n",
       "      <td>4.301733</td>\n",
       "    </tr>\n",
       "    <tr>\n",
       "      <th>max</th>\n",
       "      <td>40.075738</td>\n",
       "      <td>83.007629</td>\n",
       "    </tr>\n",
       "  </tbody>\n",
       "</table>\n",
       "</div>"
      ],
      "text/plain": [
       "        latitude  longitude\n",
       "count   3.000000   3.000000\n",
       "mean   34.794549 -22.656662\n",
       "std     8.210207  91.514389\n",
       "min    25.335649 -76.573454\n",
       "25%    32.153954 -75.488808\n",
       "50%    38.972258 -74.404162\n",
       "75%    39.523998   4.301733\n",
       "max    40.075738  83.007629"
      ]
     },
     "execution_count": 538,
     "metadata": {},
     "output_type": "execute_result"
    }
   ],
   "source": [
    "dft.describe()"
   ]
  },
  {
   "cell_type": "code",
   "execution_count": null,
   "metadata": {},
   "outputs": [
    {
     "data": {
      "text/plain": [
       "<seaborn.axisgrid.PairGrid at 0x22b08771b80>"
      ]
     },
     "execution_count": 539,
     "metadata": {},
     "output_type": "execute_result"
    },
    {
     "data": {
      "image/png": "[encoded data removed]",
      "text/plain": [
       "<Figure size 360x360 with 6 Axes>"
      ]
     },
     "metadata": {},
     "output_type": "display_data"
    }
   ],
   "source": [
    "sns.pairplot(dft)"
   ]
  }
 ],
 "metadata": {
  "interpreter": {
   "hash": "9f357b62676163e453d3996bd7a23625b1faadc1b4915e4cbea894e22b2eb803"
  },
  "kernelspec": {
   "display_name": "Python 3.9.10",
   "language": "python",
   "name": "python3"
  },
  "language_info": {
   "codemirror_mode": {
    "name": "ipython",
    "version": 3
   },
   "file_extension": ".py",
   "mimetype": "text/x-python",
   "name": "python",
   "nbconvert_exporter": "python",
   "pygments_lexer": "ipython3",
   "version": "3.9.10"
  }
 },
 "nbformat": 4,
 "nbformat_minor": 4
}
