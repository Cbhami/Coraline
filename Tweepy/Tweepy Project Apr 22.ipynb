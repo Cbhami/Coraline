{
 "cells": [
  {
   "cell_type": "markdown",
   "metadata": {},
   "source": [
    "# **2 (Option I). (Trends, Searches, and Sentiment)** \n",
    "2 (Option I). (Trends, Searches, and Sentiment)** <br>a. Use the Twitter Trends API to determine the available trending topics for a city of your choice, assigning a tweet volume of 5000 to any trend with no volume provided.\n",
    "\n",
    " <br>b. After sorting the trends in descending order by volume, create a bar graph with each (sorted) trend on the x-axis against its volume on the y-axis. \n",
    " \n",
    " <br>c. Use the Twitter Search API to find 20 tweets for each of the three most popular trends in the chosen city, and preprocess their associated tweet text (preferring extended tweet text, if available) in a manner appropriate for tweets. \n",
    " \n",
    " <br>d. Use `TextBlob` to determine the sentiment for each set of 20 tweets.  \n",
    " \n",
    " <br> i. Do you notice a substantial difference in the proportion of positive and negative sentiment for the three trends?  Try to theorize why or why not.  \n",
    " \n",
    " <br> ii. Do you believe the sentiment analysis to be reliable for any or all of the trend?  Explain why or why not.\n"
   ]
  },
  {
   "cell_type": "markdown",
   "metadata": {},
   "source": [
    "\n",
    "## Twitter Trends, Searches, and Sentiment"
   ]
  },
  {
   "cell_type": "markdown",
   "metadata": {
    "jp-MarkdownHeadingCollapsed": true,
    "tags": []
   },
   "source": [
    "### Load API Keys\n",
    " \n"
   ]
  },
  {
   "cell_type": "code",
   "execution_count": 2,
   "metadata": {},
   "outputs": [],
   "source": [
    "import tweepy\n",
    "import os\n",
    "APIK = os.environ.get('APIK')\n",
    "APISK = os.environ.get('APISK')\n",
    "ACCTO = os.environ.get('ACCTO')\n",
    "ACCTOS = os.environ.get('ACCTOS')\n",
    "auth = tweepy.OAuthHandler(APIK, APISK) #Set up the app keys\n",
    "auth.set_access_token(ACCTO,\n",
    "                      ACCTOS) #set up your user tokens\n",
    "api = tweepy.API(auth, wait_on_rate_limit=True, \n",
    "                 wait_on_rate_limit_notify=True)\n"
   ]
  },
  {
   "cell_type": "markdown",
   "metadata": {
    "jp-MarkdownHeadingCollapsed": true,
    "tags": []
   },
   "source": [
    "### Basic Tweepy Commands"
   ]
  },
  {
   "cell_type": "code",
   "execution_count": 3,
   "metadata": {},
   "outputs": [],
   "source": [
    "cbhami02 = api.get_user('cbhami02')"
   ]
  },
  {
   "cell_type": "code",
   "execution_count": 4,
   "metadata": {},
   "outputs": [],
   "source": [
    "api = tweepy.API(auth)\n"
   ]
  },
  {
   "cell_type": "code",
   "execution_count": 5,
   "metadata": {
    "tags": []
   },
   "outputs": [
    {
     "name": "stdout",
     "output_type": "stream",
     "text": [
      "User(_api=<tweepy.api.API object at 0x000001B65E949FA0>, _json={'id': 1515682874837643269, 'id_str': '1515682874837643269', 'name': 'Cole Hamilton', 'screen_name': 'Cbhami02', 'location': 'San Antonio, TX', 'profile_location': {'id': '3df4f427b5a60fea', 'url': 'https://api.twitter.com/1.1/geo/id/3df4f427b5a60fea.json', 'place_type': 'unknown', 'name': 'San Antonio, TX', 'full_name': 'San Antonio, TX', 'country_code': '', 'country': '', 'contained_within': [], 'bounding_box': None, 'attributes': {}}, 'description': 'My Developer Account. Just for fun and sharing fascinating topics! Data Enthusiast, Fortniter, Robloxer, and a little bit of nerd.', 'url': None, 'entities': {'description': {'urls': []}}, 'protected': False, 'followers_count': 1, 'friends_count': 90, 'listed_count': 0, 'created_at': 'Sun Apr 17 13:25:44 +0000 2022', 'favourites_count': 0, 'utc_offset': None, 'time_zone': None, 'geo_enabled': False, 'verified': False, 'statuses_count': 12, 'lang': None, 'status': {'created_at': 'Sun May 08 17:12:29 +0000 2022', 'id': 1523350136771911681, 'id_str': '1523350136771911681', 'text': '“Data exploration and vizualization on COVID-19 with SQL\\xa0, R, and Tableau— PART I” by Rym Bouchetara… https://t.co/iktoEG2xnu', 'truncated': True, 'entities': {'hashtags': [], 'symbols': [], 'user_mentions': [], 'urls': [{'url': 'https://t.co/iktoEG2xnu', 'expanded_url': 'https://twitter.com/i/web/status/1523350136771911681', 'display_url': 'twitter.com/i/web/status/1…', 'indices': [102, 125]}]}, 'source': '<a href=\"http://twitter.com/download/iphone\" rel=\"nofollow\">Twitter for iPhone</a>', 'in_reply_to_status_id': None, 'in_reply_to_status_id_str': None, 'in_reply_to_user_id': None, 'in_reply_to_user_id_str': None, 'in_reply_to_screen_name': None, 'geo': None, 'coordinates': None, 'place': None, 'contributors': None, 'is_quote_status': False, 'retweet_count': 0, 'favorite_count': 0, 'favorited': False, 'retweeted': False, 'possibly_sensitive': False, 'lang': 'en'}, 'contributors_enabled': False, 'is_translator': False, 'is_translation_enabled': False, 'profile_background_color': 'F5F8FA', 'profile_background_image_url': None, 'profile_background_image_url_https': None, 'profile_background_tile': False, 'profile_image_url': 'http://pbs.twimg.com/profile_images/1515683341609099277/zHYTKTwd_normal.jpg', 'profile_image_url_https': 'https://pbs.twimg.com/profile_images/1515683341609099277/zHYTKTwd_normal.jpg', 'profile_link_color': '1DA1F2', 'profile_sidebar_border_color': 'C0DEED', 'profile_sidebar_fill_color': 'DDEEF6', 'profile_text_color': '333333', 'profile_use_background_image': True, 'has_extended_profile': True, 'default_profile': True, 'default_profile_image': False, 'following': False, 'follow_request_sent': False, 'notifications': False, 'translator_type': 'none', 'withheld_in_countries': []}, id=1515682874837643269, id_str='1515682874837643269', name='Cole Hamilton', screen_name='Cbhami02', location='San Antonio, TX', profile_location={'id': '3df4f427b5a60fea', 'url': 'https://api.twitter.com/1.1/geo/id/3df4f427b5a60fea.json', 'place_type': 'unknown', 'name': 'San Antonio, TX', 'full_name': 'San Antonio, TX', 'country_code': '', 'country': '', 'contained_within': [], 'bounding_box': None, 'attributes': {}}, description='My Developer Account. Just for fun and sharing fascinating topics! Data Enthusiast, Fortniter, Robloxer, and a little bit of nerd.', url=None, entities={'description': {'urls': []}}, protected=False, followers_count=1, friends_count=90, listed_count=0, created_at=datetime.datetime(2022, 4, 17, 13, 25, 44), favourites_count=0, utc_offset=None, time_zone=None, geo_enabled=False, verified=False, statuses_count=12, lang=None, status=Status(_api=<tweepy.api.API object at 0x000001B65E949FA0>, _json={'created_at': 'Sun May 08 17:12:29 +0000 2022', 'id': 1523350136771911681, 'id_str': '1523350136771911681', 'text': '“Data exploration and vizualization on COVID-19 with SQL\\xa0, R, and Tableau— PART I” by Rym Bouchetara… https://t.co/iktoEG2xnu', 'truncated': True, 'entities': {'hashtags': [], 'symbols': [], 'user_mentions': [], 'urls': [{'url': 'https://t.co/iktoEG2xnu', 'expanded_url': 'https://twitter.com/i/web/status/1523350136771911681', 'display_url': 'twitter.com/i/web/status/1…', 'indices': [102, 125]}]}, 'source': '<a href=\"http://twitter.com/download/iphone\" rel=\"nofollow\">Twitter for iPhone</a>', 'in_reply_to_status_id': None, 'in_reply_to_status_id_str': None, 'in_reply_to_user_id': None, 'in_reply_to_user_id_str': None, 'in_reply_to_screen_name': None, 'geo': None, 'coordinates': None, 'place': None, 'contributors': None, 'is_quote_status': False, 'retweet_count': 0, 'favorite_count': 0, 'favorited': False, 'retweeted': False, 'possibly_sensitive': False, 'lang': 'en'}, created_at=datetime.datetime(2022, 5, 8, 17, 12, 29), id=1523350136771911681, id_str='1523350136771911681', text='“Data exploration and vizualization on COVID-19 with SQL\\xa0, R, and Tableau— PART I” by Rym Bouchetara… https://t.co/iktoEG2xnu', truncated=True, entities={'hashtags': [], 'symbols': [], 'user_mentions': [], 'urls': [{'url': 'https://t.co/iktoEG2xnu', 'expanded_url': 'https://twitter.com/i/web/status/1523350136771911681', 'display_url': 'twitter.com/i/web/status/1…', 'indices': [102, 125]}]}, source='Twitter for iPhone', source_url='http://twitter.com/download/iphone', in_reply_to_status_id=None, in_reply_to_status_id_str=None, in_reply_to_user_id=None, in_reply_to_user_id_str=None, in_reply_to_screen_name=None, geo=None, coordinates=None, place=None, contributors=None, is_quote_status=False, retweet_count=0, favorite_count=0, favorited=False, retweeted=False, possibly_sensitive=False, lang='en'), contributors_enabled=False, is_translator=False, is_translation_enabled=False, profile_background_color='F5F8FA', profile_background_image_url=None, profile_background_image_url_https=None, profile_background_tile=False, profile_image_url='http://pbs.twimg.com/profile_images/1515683341609099277/zHYTKTwd_normal.jpg', profile_image_url_https='https://pbs.twimg.com/profile_images/1515683341609099277/zHYTKTwd_normal.jpg', profile_link_color='1DA1F2', profile_sidebar_border_color='C0DEED', profile_sidebar_fill_color='DDEEF6', profile_text_color='333333', profile_use_background_image=True, has_extended_profile=True, default_profile=True, default_profile_image=False, following=False, follow_request_sent=False, notifications=False, translator_type='none', withheld_in_countries=[])\n"
     ]
    }
   ],
   "source": [
    "user_info = api.get_user(screen_name='cbhami02')\n",
    "print(user_info)"
   ]
  },
  {
   "cell_type": "code",
   "execution_count": 6,
   "metadata": {},
   "outputs": [
    {
     "name": "stdout",
     "output_type": "stream",
     "text": [
      "1 users are following Cbhami02.\n"
     ]
    }
   ],
   "source": [
    "print(f'{user_info.followers_count} users are following {user_info.screen_name}.')"
   ]
  },
  {
   "cell_type": "code",
   "execution_count": 7,
   "metadata": {
    "jupyter": {
     "source_hidden": true
    },
    "tags": []
   },
   "outputs": [
    {
     "data": {
      "text/plain": [
       "'Cole Hamilton'"
      ]
     },
     "execution_count": 7,
     "metadata": {},
     "output_type": "execute_result"
    }
   ],
   "source": [
    "user_info.name  # name associated with the user’s account"
   ]
  },
  {
   "cell_type": "code",
   "execution_count": 8,
   "metadata": {},
   "outputs": [
    {
     "data": {
      "text/plain": [
       "'Cbhami02'"
      ]
     },
     "execution_count": 8,
     "metadata": {},
     "output_type": "execute_result"
    }
   ],
   "source": [
    "user_info.screen_name  # user’s Twitter handle"
   ]
  },
  {
   "cell_type": "code",
   "execution_count": 9,
   "metadata": {},
   "outputs": [
    {
     "data": {
      "text/plain": [
       "'My Developer Account. Just for fun and sharing fascinating topics! Data Enthusiast, Fortniter, Robloxer, and a little bit of nerd.'"
      ]
     },
     "execution_count": 9,
     "metadata": {},
     "output_type": "execute_result"
    }
   ],
   "source": [
    "user_info.description  # description from the user’s profile"
   ]
  },
  {
   "cell_type": "code",
   "execution_count": 10,
   "metadata": {
    "tags": []
   },
   "outputs": [
    {
     "data": {
      "text/plain": [
       "Status(_api=<tweepy.api.API object at 0x000001B65E949FA0>, _json={'created_at': 'Sun May 08 17:12:29 +0000 2022', 'id': 1523350136771911681, 'id_str': '1523350136771911681', 'text': '“Data exploration and vizualization on COVID-19 with SQL\\xa0, R, and Tableau— PART I” by Rym Bouchetara… https://t.co/iktoEG2xnu', 'truncated': True, 'entities': {'hashtags': [], 'symbols': [], 'user_mentions': [], 'urls': [{'url': 'https://t.co/iktoEG2xnu', 'expanded_url': 'https://twitter.com/i/web/status/1523350136771911681', 'display_url': 'twitter.com/i/web/status/1…', 'indices': [102, 125]}]}, 'source': '<a href=\"http://twitter.com/download/iphone\" rel=\"nofollow\">Twitter for iPhone</a>', 'in_reply_to_status_id': None, 'in_reply_to_status_id_str': None, 'in_reply_to_user_id': None, 'in_reply_to_user_id_str': None, 'in_reply_to_screen_name': None, 'geo': None, 'coordinates': None, 'place': None, 'contributors': None, 'is_quote_status': False, 'retweet_count': 0, 'favorite_count': 0, 'favorited': False, 'retweeted': False, 'possibly_sensitive': False, 'lang': 'en'}, created_at=datetime.datetime(2022, 5, 8, 17, 12, 29), id=1523350136771911681, id_str='1523350136771911681', text='“Data exploration and vizualization on COVID-19 with SQL\\xa0, R, and Tableau— PART I” by Rym Bouchetara… https://t.co/iktoEG2xnu', truncated=True, entities={'hashtags': [], 'symbols': [], 'user_mentions': [], 'urls': [{'url': 'https://t.co/iktoEG2xnu', 'expanded_url': 'https://twitter.com/i/web/status/1523350136771911681', 'display_url': 'twitter.com/i/web/status/1…', 'indices': [102, 125]}]}, source='Twitter for iPhone', source_url='http://twitter.com/download/iphone', in_reply_to_status_id=None, in_reply_to_status_id_str=None, in_reply_to_user_id=None, in_reply_to_user_id_str=None, in_reply_to_screen_name=None, geo=None, coordinates=None, place=None, contributors=None, is_quote_status=False, retweet_count=0, favorite_count=0, favorited=False, retweeted=False, possibly_sensitive=False, lang='en')"
      ]
     },
     "execution_count": 10,
     "metadata": {},
     "output_type": "execute_result"
    }
   ],
   "source": [
    "user_info.status  # most recent tweet's text"
   ]
  },
  {
   "cell_type": "code",
   "execution_count": 11,
   "metadata": {},
   "outputs": [
    {
     "name": "stdout",
     "output_type": "stream",
     "text": [
      "Cbhami02 is following 90 users.\n"
     ]
    }
   ],
   "source": [
    "print(f'{user_info.screen_name} is following {user_info.friends_count} users.')"
   ]
  },
  {
   "cell_type": "markdown",
   "metadata": {
    "jp-MarkdownHeadingCollapsed": true,
    "tags": []
   },
   "source": [
    "### Tweepy API User Info"
   ]
  },
  {
   "cell_type": "code",
   "execution_count": 12,
   "metadata": {},
   "outputs": [],
   "source": [
    "api = tweepy.API(auth)"
   ]
  },
  {
   "cell_type": "code",
   "execution_count": 13,
   "metadata": {},
   "outputs": [],
   "source": [
    "me = api.verify_credentials()"
   ]
  },
  {
   "cell_type": "code",
   "execution_count": 14,
   "metadata": {},
   "outputs": [
    {
     "data": {
      "text/plain": [
       "'Cole'"
      ]
     },
     "execution_count": 14,
     "metadata": {},
     "output_type": "execute_result"
    }
   ],
   "source": [
    "me.name"
   ]
  },
  {
   "cell_type": "code",
   "execution_count": 15,
   "metadata": {},
   "outputs": [
    {
     "name": "stdout",
     "output_type": "stream",
     "text": [
      "I have 20 follower.\n",
      "I am following 164 users.\n"
     ]
    }
   ],
   "source": [
    "print(f'I have {me.followers_count} follower.')\n",
    "print(f'I am following {me.friends_count} users.')"
   ]
  },
  {
   "cell_type": "markdown",
   "metadata": {
    "jp-MarkdownHeadingCollapsed": true,
    "tags": []
   },
   "source": [
    "### Rate Limits"
   ]
  },
  {
   "cell_type": "code",
   "execution_count": 16,
   "metadata": {
    "tags": []
   },
   "outputs": [
    {
     "data": {
      "text/plain": [
       "{'rate_limit_context': {'access_token': '2777419660-hIblVunw1TwIbGqiNE9HWcogMx3OaxTtRe0YxJN'},\n",
       " 'resources': {'lists': {'/lists/list': {'limit': 15,\n",
       "    'remaining': 15,\n",
       "    'reset': 1652229691},\n",
       "   '/lists/:id/tweets&GET': {'limit': 900,\n",
       "    'remaining': 900,\n",
       "    'reset': 1652229691},\n",
       "   '/lists/:id/followers&GET': {'limit': 180,\n",
       "    'remaining': 180,\n",
       "    'reset': 1652229691},\n",
       "   '/lists/memberships': {'limit': 75, 'remaining': 75, 'reset': 1652229691},\n",
       "   '/lists/:id&DELETE': {'limit': 300, 'remaining': 300, 'reset': 1652229691},\n",
       "   '/lists/subscriptions': {'limit': 15, 'remaining': 15, 'reset': 1652229691},\n",
       "   '/lists/members': {'limit': 900, 'remaining': 900, 'reset': 1652229691},\n",
       "   '/lists/:id&GET': {'limit': 75, 'remaining': 75, 'reset': 1652229691},\n",
       "   '/lists/subscribers/show': {'limit': 15,\n",
       "    'remaining': 15,\n",
       "    'reset': 1652229691},\n",
       "   '/lists/:id&PUT': {'limit': 300, 'remaining': 300, 'reset': 1652229691},\n",
       "   '/lists/show': {'limit': 75, 'remaining': 75, 'reset': 1652229691},\n",
       "   '/lists/ownerships': {'limit': 15, 'remaining': 15, 'reset': 1652229691},\n",
       "   '/lists/:id/members/:user_id&DELETE': {'limit': 300,\n",
       "    'remaining': 300,\n",
       "    'reset': 1652229691},\n",
       "   '/lists/subscribers': {'limit': 180, 'remaining': 180, 'reset': 1652229691},\n",
       "   '/lists/:id/members&POST': {'limit': 300,\n",
       "    'remaining': 300,\n",
       "    'reset': 1652229691},\n",
       "   '/lists/:id/members&GET': {'limit': 900,\n",
       "    'remaining': 900,\n",
       "    'reset': 1652229691},\n",
       "   '/lists/members/show': {'limit': 15, 'remaining': 15, 'reset': 1652229691},\n",
       "   '/lists/statuses': {'limit': 900, 'remaining': 900, 'reset': 1652229691}},\n",
       "  'application': {'/application/rate_limit_status': {'limit': 180,\n",
       "    'remaining': 180,\n",
       "    'reset': 1652229691}},\n",
       "  'mutes': {'/mutes/users/list': {'limit': 15,\n",
       "    'remaining': 15,\n",
       "    'reset': 1652229691},\n",
       "   '/mutes/users/ids': {'limit': 15, 'remaining': 15, 'reset': 1652229691}},\n",
       "  'verify': {'/verify/:version/badge-violation': {'limit': 15,\n",
       "    'remaining': 15,\n",
       "    'reset': 1652229691},\n",
       "   '/verify/:version/badge-violation/violations': {'limit': 15,\n",
       "    'remaining': 15,\n",
       "    'reset': 1652229691},\n",
       "   '/verify/:version/intake': {'limit': 15,\n",
       "    'remaining': 15,\n",
       "    'reset': 1652229691},\n",
       "   '/verify/:version/document-formats': {'limit': 15,\n",
       "    'remaining': 15,\n",
       "    'reset': 1652229691},\n",
       "   '/verify/:version/id-document&GET': {'limit': 1000,\n",
       "    'remaining': 1000,\n",
       "    'reset': 1652229691},\n",
       "   '/verify/:version/id-document&POST': {'limit': 15,\n",
       "    'remaining': 15,\n",
       "    'reset': 1652229691},\n",
       "   '/verify/:version/access': {'limit': 15,\n",
       "    'remaining': 15,\n",
       "    'reset': 1652229691},\n",
       "   '/verify/:version/account-eligibility': {'limit': 15,\n",
       "    'remaining': 15,\n",
       "    'reset': 1652229691}},\n",
       "  'admin_users': {'/admin_users': {'limit': 2000,\n",
       "    'remaining': 2000,\n",
       "    'reset': 1652229691}},\n",
       "  'live_video_stream': {'/live_video_stream/status/:id': {'limit': 1000,\n",
       "    'remaining': 1000,\n",
       "    'reset': 1652229691}},\n",
       "  'friendships': {'/friendships/outgoing': {'limit': 15,\n",
       "    'remaining': 15,\n",
       "    'reset': 1652229691},\n",
       "   '/friendships/list': {'limit': 200, 'remaining': 200, 'reset': 1652229691},\n",
       "   '/friendships/no_retweets/ids': {'limit': 15,\n",
       "    'remaining': 15,\n",
       "    'reset': 1652229691},\n",
       "   '/friendships/lookup': {'limit': 15, 'remaining': 15, 'reset': 1652229691},\n",
       "   '/friendships/incoming': {'limit': 15,\n",
       "    'remaining': 15,\n",
       "    'reset': 1652229691},\n",
       "   '/friendships/show': {'limit': 180, 'remaining': 180, 'reset': 1652229691}},\n",
       "  'guide': {'/guide': {'limit': 180, 'remaining': 180, 'reset': 1652229691},\n",
       "   '/guide/get_explore_locations': {'limit': 100,\n",
       "    'remaining': 100,\n",
       "    'reset': 1652229691},\n",
       "   '/guide/explore_locations_with_autocomplete': {'limit': 200,\n",
       "    'remaining': 200,\n",
       "    'reset': 1652229691}},\n",
       "  'auth': {'/auth/csrf_token': {'limit': 15,\n",
       "    'remaining': 15,\n",
       "    'reset': 1652229691}},\n",
       "  'compliance': {'/compliance/jobs&POST': {'limit': 150,\n",
       "    'remaining': 150,\n",
       "    'reset': 1652229691},\n",
       "   '/compliance/jobs&GET': {'limit': 150,\n",
       "    'remaining': 150,\n",
       "    'reset': 1652229691},\n",
       "   '/compliance/jobs/:job_id': {'limit': 150,\n",
       "    'remaining': 150,\n",
       "    'reset': 1652229691}},\n",
       "  'paseto': {'/paseto/token': {'limit': 100,\n",
       "    'remaining': 100,\n",
       "    'reset': 1652229691}},\n",
       "  'blocks': {'/blocks/list': {'limit': 15,\n",
       "    'remaining': 15,\n",
       "    'reset': 1652229691},\n",
       "   '/blocks/ids': {'limit': 15, 'remaining': 15, 'reset': 1652229691}},\n",
       "  'geo': {'/geo/similar_places': {'limit': 15,\n",
       "    'remaining': 15,\n",
       "    'reset': 1652229691},\n",
       "   '/geo/place_page': {'limit': 75, 'remaining': 75, 'reset': 1652229691},\n",
       "   '/geo/id/:place_id': {'limit': 75, 'remaining': 75, 'reset': 1652229691},\n",
       "   '/geo/reverse_geocode': {'limit': 15, 'remaining': 15, 'reset': 1652229691},\n",
       "   '/geo/search': {'limit': 15, 'remaining': 15, 'reset': 1652229691}},\n",
       "  'users': {'/users/': {'limit': 900, 'remaining': 900, 'reset': 1652229691},\n",
       "   '/users/:id/list_memberships&GET': {'limit': 75,\n",
       "    'remaining': 75,\n",
       "    'reset': 1652229691},\n",
       "   '/users/:id': {'limit': 900, 'remaining': 898, 'reset': 1652229679},\n",
       "   '/users/:id/muting&POST': {'limit': 50,\n",
       "    'remaining': 50,\n",
       "    'reset': 1652229691},\n",
       "   '/users/report_spam': {'limit': 15, 'remaining': 15, 'reset': 1652229691},\n",
       "   '/users/:id/pinned_lists/:list_id&DELETE': {'limit': 50,\n",
       "    'remaining': 50,\n",
       "    'reset': 1652229691},\n",
       "   '/users/:source_user_id/blocking/:target_user_id&DELETE': {'limit': 50,\n",
       "    'remaining': 50,\n",
       "    'reset': 1652229691},\n",
       "   '/users/contributors/pending': {'limit': 2000,\n",
       "    'remaining': 2000,\n",
       "    'reset': 1652229691},\n",
       "   '/users/show/:id': {'limit': 900, 'remaining': 900, 'reset': 1652229691},\n",
       "   '/users/:source_user_id/following&POST': {'limit': 50,\n",
       "    'remaining': 50,\n",
       "    'reset': 1652229691},\n",
       "   '/users/:id/tweets': {'limit': 900, 'remaining': 900, 'reset': 1652229691},\n",
       "   '/users/:id/retweets/:source_tweet_id&DELETE': {'limit': 50,\n",
       "    'remaining': 50,\n",
       "    'reset': 1652229691},\n",
       "   '/users/search': {'limit': 900, 'remaining': 900, 'reset': 1652229691},\n",
       "   '/users/:id/likes&POST': {'limit': 50,\n",
       "    'remaining': 50,\n",
       "    'reset': 1652229691},\n",
       "   '/users/suggestions/:slug': {'limit': 15,\n",
       "    'remaining': 15,\n",
       "    'reset': 1652229691},\n",
       "   '/users/contributees/pending': {'limit': 200,\n",
       "    'remaining': 200,\n",
       "    'reset': 1652229691},\n",
       "   '/users/:id/retweets&POST': {'limit': 50,\n",
       "    'remaining': 50,\n",
       "    'reset': 1652229691},\n",
       "   '/users/profile_banner': {'limit': 180,\n",
       "    'remaining': 180,\n",
       "    'reset': 1652229691},\n",
       "   '/users/by/username/:source_username/following/:target_user_name&DELETE': {'limit': 50,\n",
       "    'remaining': 50,\n",
       "    'reset': 1652229691},\n",
       "   '/users/by/username/:handle/tweets': {'limit': 900,\n",
       "    'remaining': 900,\n",
       "    'reset': 1652229691},\n",
       "   '/users/derived_info': {'limit': 15, 'remaining': 15, 'reset': 1652229691},\n",
       "   '/users/:id/blocking&POST': {'limit': 50,\n",
       "    'remaining': 50,\n",
       "    'reset': 1652229691},\n",
       "   '/users/by/username/:source_username/following&POST': {'limit': 50,\n",
       "    'remaining': 50,\n",
       "    'reset': 1652229691},\n",
       "   '/users/:id/followers': {'limit': 15, 'remaining': 15, 'reset': 1652229691},\n",
       "   '/users/suggestions/:slug/members': {'limit': 15,\n",
       "    'remaining': 15,\n",
       "    'reset': 1652229691},\n",
       "   '/users/:id/muting': {'limit': 15, 'remaining': 15, 'reset': 1652229691},\n",
       "   '/users/:id/pinned_lists&GET': {'limit': 15,\n",
       "    'remaining': 15,\n",
       "    'reset': 1652229691},\n",
       "   '/users/:id/mentions': {'limit': 180,\n",
       "    'remaining': 180,\n",
       "    'reset': 1652229691},\n",
       "   '/users/:id/following': {'limit': 15, 'remaining': 15, 'reset': 1652229691},\n",
       "   '/users/:id/pinned_lists&POST': {'limit': 50,\n",
       "    'remaining': 50,\n",
       "    'reset': 1652229691},\n",
       "   '/users/:source_user_id/following/:target_user_id&DELETE': {'limit': 50,\n",
       "    'remaining': 50,\n",
       "    'reset': 1652229691},\n",
       "   '/users/by/username/:username': {'limit': 900,\n",
       "    'remaining': 900,\n",
       "    'reset': 1652229691},\n",
       "   '/users/:id/owned_lists&GET': {'limit': 15,\n",
       "    'remaining': 15,\n",
       "    'reset': 1652229691},\n",
       "   '/users/:id/followed_lists&POST': {'limit': 50,\n",
       "    'remaining': 50,\n",
       "    'reset': 1652229691},\n",
       "   '/users/by/username/:username/followers': {'limit': 15,\n",
       "    'remaining': 15,\n",
       "    'reset': 1652229691},\n",
       "   '/users/lookup': {'limit': 900, 'remaining': 900, 'reset': 1652229691},\n",
       "   '/users/:id/followed_lists/:list_id&DELETE': {'limit': 50,\n",
       "    'remaining': 50,\n",
       "    'reset': 1652229691},\n",
       "   '/users/:id/blocking': {'limit': 15, 'remaining': 15, 'reset': 1652229691},\n",
       "   '/users/suggestions': {'limit': 15, 'remaining': 15, 'reset': 1652229691},\n",
       "   '/users/:id/likes/:tweet_id&DELETE': {'limit': 50,\n",
       "    'remaining': 50,\n",
       "    'reset': 1652229691},\n",
       "   '/users/by/username/:username/following': {'limit': 15,\n",
       "    'remaining': 15,\n",
       "    'reset': 1652229691},\n",
       "   '/users/by/username/:handle/mentions': {'limit': 180,\n",
       "    'remaining': 180,\n",
       "    'reset': 1652229691},\n",
       "   '/users/by': {'limit': 900, 'remaining': 900, 'reset': 1652229691},\n",
       "   '/users/:source_user_id/muting/:target_user_id&DELETE': {'limit': 50,\n",
       "    'remaining': 50,\n",
       "    'reset': 1652229691},\n",
       "   '/users/:id/followed_lists&GET': {'limit': 15,\n",
       "    'remaining': 15,\n",
       "    'reset': 1652229691},\n",
       "   '/users/:id/liked_tweets': {'limit': 75,\n",
       "    'remaining': 75,\n",
       "    'reset': 1652229691}},\n",
       "  'teams': {'/teams/authorize': {'limit': 15,\n",
       "    'remaining': 15,\n",
       "    'reset': 1652229691}},\n",
       "  'followers': {'/followers/ids': {'limit': 15,\n",
       "    'remaining': 15,\n",
       "    'reset': 1652229691},\n",
       "   '/followers/list': {'limit': 15, 'remaining': 15, 'reset': 1652229691}},\n",
       "  'collections': {'/collections/list': {'limit': 1000,\n",
       "    'remaining': 1000,\n",
       "    'reset': 1652229691},\n",
       "   '/collections/entries': {'limit': 1000,\n",
       "    'remaining': 1000,\n",
       "    'reset': 1652229691},\n",
       "   '/collections/show': {'limit': 1000,\n",
       "    'remaining': 1000,\n",
       "    'reset': 1652229691}},\n",
       "  'permissions': {'/permissions/user_permissions/admin_email_verification': {'limit': 3,\n",
       "    'remaining': 3,\n",
       "    'reset': 1652229691},\n",
       "   '/permissions/user_permissions': {'limit': 3,\n",
       "    'remaining': 3,\n",
       "    'reset': 1652229691}},\n",
       "  'tweets&POST': {'/tweets&POST': {'limit': 200,\n",
       "    'remaining': 200,\n",
       "    'reset': 1652229691}},\n",
       "  'statuses': {'/statuses/retweeters/ids': {'limit': 75,\n",
       "    'remaining': 75,\n",
       "    'reset': 1652229691},\n",
       "   '/statuses/retweets_of_me': {'limit': 75,\n",
       "    'remaining': 75,\n",
       "    'reset': 1652229691},\n",
       "   '/statuses/home_timeline': {'limit': 15,\n",
       "    'remaining': 15,\n",
       "    'reset': 1652229691},\n",
       "   '/statuses/show/:id': {'limit': 900, 'remaining': 900, 'reset': 1652229691},\n",
       "   '/statuses/user_timeline': {'limit': 900,\n",
       "    'remaining': 900,\n",
       "    'reset': 1652229691},\n",
       "   '/statuses/friends': {'limit': 15, 'remaining': 15, 'reset': 1652229691},\n",
       "   '/statuses/retweets/:id': {'limit': 75,\n",
       "    'remaining': 75,\n",
       "    'reset': 1652229691},\n",
       "   '/statuses/mentions_timeline': {'limit': 75,\n",
       "    'remaining': 75,\n",
       "    'reset': 1652229691},\n",
       "   '/statuses/oembed': {'limit': 180, 'remaining': 180, 'reset': 1652229691},\n",
       "   '/statuses/lookup': {'limit': 900, 'remaining': 900, 'reset': 1652229691}},\n",
       "  'custom_profiles': {'/custom_profiles/list': {'limit': 180,\n",
       "    'remaining': 180,\n",
       "    'reset': 1652229691},\n",
       "   '/custom_profiles/show': {'limit': 180,\n",
       "    'remaining': 180,\n",
       "    'reset': 1652229691}},\n",
       "  'webhooks': {'/webhooks/subscriptions/direct_messages': {'limit': 15,\n",
       "    'remaining': 15,\n",
       "    'reset': 1652229691},\n",
       "   '/webhooks': {'limit': 15, 'remaining': 15, 'reset': 1652229691}},\n",
       "  'contacts': {'/contacts/uploaded_by': {'limit': 300,\n",
       "    'remaining': 300,\n",
       "    'reset': 1652229691},\n",
       "   '/contacts/users': {'limit': 300, 'remaining': 300, 'reset': 1652229691},\n",
       "   '/contacts/addressbook': {'limit': 300,\n",
       "    'remaining': 300,\n",
       "    'reset': 1652229691},\n",
       "   '/contacts/users_and_uploaded_by': {'limit': 300,\n",
       "    'remaining': 300,\n",
       "    'reset': 1652229691},\n",
       "   '/contacts/delete/status': {'limit': 300,\n",
       "    'remaining': 300,\n",
       "    'reset': 1652229691}},\n",
       "  'labs': {'/labs/2/platform_manipulation/reports': {'limit': 5,\n",
       "    'remaining': 5,\n",
       "    'reset': 1652229691},\n",
       "   '/labs/:version/tweets/:id/hidden&PUT': {'limit': 10,\n",
       "    'remaining': 10,\n",
       "    'reset': 1652229691},\n",
       "   '/labs/:version/tweets/stream/filter/': {'limit': 50,\n",
       "    'remaining': 50,\n",
       "    'reset': 1652229691},\n",
       "   '/labs/:version/users/:id/tweets': {'limit': 225,\n",
       "    'remaining': 225,\n",
       "    'reset': 1652229691},\n",
       "   '/labs/2/reports': {'limit': 5, 'remaining': 5, 'reset': 1652229691},\n",
       "   '/labs/:version/tweets/stream/filter/rules&POST': {'limit': 450,\n",
       "    'remaining': 450,\n",
       "    'reset': 1652229691},\n",
       "   '/labs/:version/tweets/stream/sample': {'limit': 50,\n",
       "    'remaining': 50,\n",
       "    'reset': 1652229691},\n",
       "   '/labs/:version/users/by/username/:handle/tweets': {'limit': 225,\n",
       "    'remaining': 225,\n",
       "    'reset': 1652229691},\n",
       "   '/labs/:version/tweets/metrics/private': {'limit': 15,\n",
       "    'remaining': 15,\n",
       "    'reset': 1652229691},\n",
       "   '/labs/:version/tweets/stream/filter/rules/:instance_name': {'limit': 450,\n",
       "    'remaining': 450,\n",
       "    'reset': 1652229691},\n",
       "   '/labs/:version/tweets/*': {'limit': 900,\n",
       "    'remaining': 900,\n",
       "    'reset': 1652229691},\n",
       "   '/labs/:version/users/*': {'limit': 900,\n",
       "    'remaining': 900,\n",
       "    'reset': 1652229691},\n",
       "   '/labs/:version/tweets/stream/filter/:instance_name': {'limit': 50,\n",
       "    'remaining': 50,\n",
       "    'reset': 1652229691},\n",
       "   '/labs/:version/tweets/stream/filter/rules/': {'limit': 450,\n",
       "    'remaining': 450,\n",
       "    'reset': 1652229691},\n",
       "   '/labs/:version/tweets/stream/compliance': {'limit': 500,\n",
       "    'remaining': 500,\n",
       "    'reset': 1652229691},\n",
       "   '/labs/:version/tweets/search': {'limit': 225,\n",
       "    'remaining': 225,\n",
       "    'reset': 1652229691}},\n",
       "  'i': {'/i/config': {'limit': 15, 'remaining': 15, 'reset': 1652229691},\n",
       "   '/i/tfb/v1/smb/web/:account_id/payment/save': {'limit': 15,\n",
       "    'remaining': 15,\n",
       "    'reset': 1652229691}},\n",
       "  'tweet_prompts': {'/tweet_prompts/report_interaction': {'limit': 180,\n",
       "    'remaining': 180,\n",
       "    'reset': 1652229691},\n",
       "   '/tweet_prompts/show': {'limit': 180,\n",
       "    'remaining': 180,\n",
       "    'reset': 1652229691}},\n",
       "  'moments': {'/moments/statuses/update': {'limit': 5,\n",
       "    'remaining': 5,\n",
       "    'reset': 1652229691},\n",
       "   '/moments/create': {'limit': 15, 'remaining': 15, 'reset': 1652229691},\n",
       "   '/moments/permissions': {'limit': 300,\n",
       "    'remaining': 300,\n",
       "    'reset': 1652229691}},\n",
       "  'limiter_scalding_report_creation': {'/limiter_scalding_report_creation': {'limit': 4500,\n",
       "    'remaining': 4500,\n",
       "    'reset': 1652229691}},\n",
       "  'fleets': {'/fleets/:version/mutes/create': {'limit': 100,\n",
       "    'remaining': 100,\n",
       "    'reset': 1652229691},\n",
       "   '/fleets/:version/viewers': {'limit': 100,\n",
       "    'remaining': 100,\n",
       "    'reset': 1652229691},\n",
       "   '/fleets/:version/delete': {'limit': 50,\n",
       "    'remaining': 50,\n",
       "    'reset': 1652229691},\n",
       "   '/fleets/:version/avatar_content': {'limit': 100,\n",
       "    'remaining': 100,\n",
       "    'reset': 1652229691},\n",
       "   '/fleets/:version/create': {'limit': 50,\n",
       "    'remaining': 50,\n",
       "    'reset': 1652229691},\n",
       "   '/fleets/:version/user_fleets': {'limit': 180,\n",
       "    'remaining': 180,\n",
       "    'reset': 1652229691},\n",
       "   '/fleets/:version/fleetline': {'limit': 100,\n",
       "    'remaining': 100,\n",
       "    'reset': 1652229691},\n",
       "   '/fleets/:version/track_events': {'limit': 100,\n",
       "    'remaining': 100,\n",
       "    'reset': 1652229691},\n",
       "   '/fleets/:version/update': {'limit': 50,\n",
       "    'remaining': 50,\n",
       "    'reset': 1652229691},\n",
       "   '/fleets/:version/fleet_threads': {'limit': 1000,\n",
       "    'remaining': 1000,\n",
       "    'reset': 1652229691},\n",
       "   '/fleets/:version/mutes/list': {'limit': 100,\n",
       "    'remaining': 100,\n",
       "    'reset': 1652229691},\n",
       "   '/fleets/:version/mutes/destroy': {'limit': 100,\n",
       "    'remaining': 100,\n",
       "    'reset': 1652229691},\n",
       "   '/fleets/:version/home_timeline': {'limit': 100,\n",
       "    'remaining': 100,\n",
       "    'reset': 1652229691},\n",
       "   '/fleets/:version/feedback/create': {'limit': 500,\n",
       "    'remaining': 500,\n",
       "    'reset': 1652229691},\n",
       "   '/fleets/:version/mark_read': {'limit': 1000,\n",
       "    'remaining': 1000,\n",
       "    'reset': 1652229691}},\n",
       "  'help': {'/help/tos': {'limit': 15, 'remaining': 15, 'reset': 1652229691},\n",
       "   '/help/configuration': {'limit': 15, 'remaining': 15, 'reset': 1652229691},\n",
       "   '/help/settings': {'limit': 15, 'remaining': 15, 'reset': 1652229691},\n",
       "   '/help/privacy': {'limit': 15, 'remaining': 15, 'reset': 1652229691},\n",
       "   '/help/languages': {'limit': 15, 'remaining': 15, 'reset': 1652229691}},\n",
       "  'feedback': {'/feedback/show/:id': {'limit': 180,\n",
       "    'remaining': 180,\n",
       "    'reset': 1652229691},\n",
       "   '/feedback/events': {'limit': 1000,\n",
       "    'remaining': 1000,\n",
       "    'reset': 1652229691}},\n",
       "  'business_experience': {'/business_experience/dashboard_settings/destroy': {'limit': 450,\n",
       "    'remaining': 450,\n",
       "    'reset': 1652229691},\n",
       "   '/business_experience/dashboard_features': {'limit': 450,\n",
       "    'remaining': 450,\n",
       "    'reset': 1652229691},\n",
       "   '/business_experience/keywords': {'limit': 450,\n",
       "    'remaining': 450,\n",
       "    'reset': 1652229691},\n",
       "   '/business_experience/dashboard_settings/update': {'limit': 450,\n",
       "    'remaining': 450,\n",
       "    'reset': 1652229691},\n",
       "   '/business_experience/dashboard_settings/show': {'limit': 450,\n",
       "    'remaining': 450,\n",
       "    'reset': 1652229691}},\n",
       "  'graphql&POST': {'/graphql&POST': {'limit': 15,\n",
       "    'remaining': 15,\n",
       "    'reset': 1652229691}},\n",
       "  'friends': {'/friends/following/ids': {'limit': 15,\n",
       "    'remaining': 15,\n",
       "    'reset': 1652229691},\n",
       "   '/friends/following/list': {'limit': 15,\n",
       "    'remaining': 15,\n",
       "    'reset': 1652229691},\n",
       "   '/friends/list': {'limit': 15, 'remaining': 15, 'reset': 1652229691},\n",
       "   '/friends/ids': {'limit': 15, 'remaining': 15, 'reset': 1652229691}},\n",
       "  'sandbox': {'/sandbox/account_activity/webhooks/:id/subscriptions': {'limit': 500,\n",
       "    'remaining': 500,\n",
       "    'reset': 1652229691}},\n",
       "  'drafts': {'/drafts/statuses/update': {'limit': 450,\n",
       "    'remaining': 450,\n",
       "    'reset': 1652229691},\n",
       "   '/drafts/statuses/destroy': {'limit': 450,\n",
       "    'remaining': 450,\n",
       "    'reset': 1652229691},\n",
       "   '/drafts/statuses/ids': {'limit': 450,\n",
       "    'remaining': 450,\n",
       "    'reset': 1652229691},\n",
       "   '/drafts/statuses/list': {'limit': 450,\n",
       "    'remaining': 450,\n",
       "    'reset': 1652229691},\n",
       "   '/drafts/statuses/show': {'limit': 450,\n",
       "    'remaining': 450,\n",
       "    'reset': 1652229691},\n",
       "   '/drafts/statuses/create': {'limit': 450,\n",
       "    'remaining': 450,\n",
       "    'reset': 1652229691}},\n",
       "  'direct_messages': {'/direct_messages/sent': {'limit': 300,\n",
       "    'remaining': 300,\n",
       "    'reset': 1652229691},\n",
       "   '/direct_messages/broadcasts/list': {'limit': 60,\n",
       "    'remaining': 60,\n",
       "    'reset': 1652229691},\n",
       "   '/direct_messages/subscribers/lists/members/show': {'limit': 1000,\n",
       "    'remaining': 1000,\n",
       "    'reset': 1652229691},\n",
       "   '/direct_messages/mark_read': {'limit': 1000,\n",
       "    'remaining': 1000,\n",
       "    'reset': 1652229691},\n",
       "   '/direct_messages/subscribers/ids': {'limit': 180,\n",
       "    'remaining': 180,\n",
       "    'reset': 1652229691},\n",
       "   '/direct_messages/sent_and_received': {'limit': 300,\n",
       "    'remaining': 300,\n",
       "    'reset': 1652229691},\n",
       "   '/direct_messages/broadcasts/statuses/list': {'limit': 60,\n",
       "    'remaining': 60,\n",
       "    'reset': 1652229691},\n",
       "   '/direct_messages': {'limit': 300, 'remaining': 300, 'reset': 1652229691},\n",
       "   '/direct_messages/subscribers/lists/members/ids': {'limit': 180,\n",
       "    'remaining': 180,\n",
       "    'reset': 1652229691},\n",
       "   '/direct_messages/subscribers/show': {'limit': 180,\n",
       "    'remaining': 180,\n",
       "    'reset': 1652229691},\n",
       "   '/direct_messages/broadcasts/show': {'limit': 60,\n",
       "    'remaining': 60,\n",
       "    'reset': 1652229691},\n",
       "   '/direct_messages/broadcasts/statuses/show': {'limit': 60,\n",
       "    'remaining': 60,\n",
       "    'reset': 1652229691},\n",
       "   '/direct_messages/subscribers/lists/list': {'limit': 180,\n",
       "    'remaining': 180,\n",
       "    'reset': 1652229691},\n",
       "   '/direct_messages/show': {'limit': 300,\n",
       "    'remaining': 300,\n",
       "    'reset': 1652229691},\n",
       "   '/direct_messages/events/list': {'limit': 15,\n",
       "    'remaining': 15,\n",
       "    'reset': 1652229691},\n",
       "   '/direct_messages/subscribers/lists/show': {'limit': 180,\n",
       "    'remaining': 180,\n",
       "    'reset': 1652229691},\n",
       "   '/direct_messages/events/show': {'limit': 15,\n",
       "    'remaining': 15,\n",
       "    'reset': 1652229691}},\n",
       "  'media': {'/media/upload': {'limit': 500,\n",
       "    'remaining': 500,\n",
       "    'reset': 1652229691}},\n",
       "  'traffic': {'/traffic/map': {'limit': 15,\n",
       "    'remaining': 15,\n",
       "    'reset': 1652229691}},\n",
       "  'strato': {'/strato/column/None/:id/cms/*': {'limit': 150,\n",
       "    'remaining': 150,\n",
       "    'reset': 1652229691}},\n",
       "  'account_activity': {'/account_activity/all/webhooks': {'limit': 15,\n",
       "    'remaining': 15,\n",
       "    'reset': 1652229691},\n",
       "   '/account_activity/all/:instance_name/subscriptions': {'limit': 500,\n",
       "    'remaining': 500,\n",
       "    'reset': 1652229691},\n",
       "   '/account_activity/direct_messages/webhooks': {'limit': 15,\n",
       "    'remaining': 15,\n",
       "    'reset': 1652229691},\n",
       "   '/account_activity/webhooks/:id/subscriptions/direct_messages/list': {'limit': 15,\n",
       "    'remaining': 15,\n",
       "    'reset': 1652229691},\n",
       "   '/account_activity/webhooks/:id/subscriptions/all': {'limit': 500,\n",
       "    'remaining': 500,\n",
       "    'reset': 1652229691},\n",
       "   '/account_activity/direct_messages/:instance_name/webhooks': {'limit': 15,\n",
       "    'remaining': 15,\n",
       "    'reset': 1652229691},\n",
       "   '/account_activity/webhooks/:id/subscriptions/all/list': {'limit': 15,\n",
       "    'remaining': 15,\n",
       "    'reset': 1652229691},\n",
       "   '/account_activity/webhooks/:id/subscriptions/direct_messages': {'limit': 500,\n",
       "    'remaining': 500,\n",
       "    'reset': 1652229691},\n",
       "   '/account_activity/webhooks': {'limit': 15,\n",
       "    'remaining': 15,\n",
       "    'reset': 1652229691},\n",
       "   '/account_activity/direct_messages/:instance_name/subscriptions': {'limit': 15,\n",
       "    'remaining': 15,\n",
       "    'reset': 1652229691},\n",
       "   '/account_activity/webhooks/:id/subscriptions': {'limit': 500,\n",
       "    'remaining': 500,\n",
       "    'reset': 1652229691},\n",
       "   '/account_activity/all/:instance_name/webhooks': {'limit': 15,\n",
       "    'remaining': 15,\n",
       "    'reset': 1652229691}},\n",
       "  'account': {'/account/login_verification_enrollment': {'limit': 15,\n",
       "    'remaining': 15,\n",
       "    'reset': 1652229691},\n",
       "   '/account/update_profile': {'limit': 15,\n",
       "    'remaining': 15,\n",
       "    'reset': 1652229691},\n",
       "   '/account/authenticate_web_view': {'limit': 50,\n",
       "    'remaining': 50,\n",
       "    'reset': 1652229691},\n",
       "   '/account/verify_credentials': {'limit': 75,\n",
       "    'remaining': 74,\n",
       "    'reset': 1652229691},\n",
       "   '/account/settings': {'limit': 15, 'remaining': 15, 'reset': 1652229691},\n",
       "   '/account/personalization/p13n_preferences': {'limit': 200,\n",
       "    'remaining': 200,\n",
       "    'reset': 1652229691},\n",
       "   '/account/change_password': {'limit': 15,\n",
       "    'remaining': 15,\n",
       "    'reset': 1652229691}},\n",
       "  'safety': {'/safety/detection_feedback': {'limit': 450000,\n",
       "    'remaining': 450000,\n",
       "    'reset': 1652229691}},\n",
       "  'favorites': {'/favorites/list': {'limit': 75,\n",
       "    'remaining': 75,\n",
       "    'reset': 1652229691}},\n",
       "  'lists&POST': {'/lists&POST': {'limit': 300,\n",
       "    'remaining': 300,\n",
       "    'reset': 1652229691}},\n",
       "  'device': {'/device/token': {'limit': 15,\n",
       "    'remaining': 15,\n",
       "    'reset': 1652229691}},\n",
       "  'tweets': {'/tweets/search/all': {'limit': 900,\n",
       "    'remaining': 900,\n",
       "    'reset': 1652229691},\n",
       "   '/tweets/search/stream/rules': {'limit': 450,\n",
       "    'remaining': 450,\n",
       "    'reset': 1652229691},\n",
       "   '/tweets/search/recent': {'limit': 180,\n",
       "    'remaining': 180,\n",
       "    'reset': 1652229691},\n",
       "   '/tweets/sample/stream': {'limit': 50,\n",
       "    'remaining': 50,\n",
       "    'reset': 1652229691},\n",
       "   '/tweets/:id&DELETE': {'limit': 50, 'remaining': 50, 'reset': 1652229691},\n",
       "   '/tweets/': {'limit': 900, 'remaining': 900, 'reset': 1652229691},\n",
       "   '/tweets/counts/all': {'limit': 900, 'remaining': 900, 'reset': 1652229691},\n",
       "   '/tweets/search/stream': {'limit': 50,\n",
       "    'remaining': 50,\n",
       "    'reset': 1652229691},\n",
       "   '/tweets/search/:product/:label': {'limit': 1800,\n",
       "    'remaining': 1800,\n",
       "    'reset': 1652229691},\n",
       "   '/tweets/search/stream/rules/validation&POST': {'limit': 450,\n",
       "    'remaining': 450,\n",
       "    'reset': 1652229691},\n",
       "   '/tweets/search/:product/:instance/counts': {'limit': 900,\n",
       "    'remaining': 900,\n",
       "    'reset': 1652229691},\n",
       "   '/tweets/:id/retweeted_by': {'limit': 75,\n",
       "    'remaining': 75,\n",
       "    'reset': 1652229691},\n",
       "   '/tweets/:tweet_id/liking_users': {'limit': 75,\n",
       "    'remaining': 75,\n",
       "    'reset': 1652229691},\n",
       "   '/tweets/:id': {'limit': 900, 'remaining': 900, 'reset': 1652229691},\n",
       "   '/tweets/search/stream/rules&DELETE': {'limit': 450,\n",
       "    'remaining': 450,\n",
       "    'reset': 1652229691},\n",
       "   '/tweets/counts/recent': {'limit': 900,\n",
       "    'remaining': 900,\n",
       "    'reset': 1652229691},\n",
       "   '/tweets/search/stream/rules&POST': {'limit': 450,\n",
       "    'remaining': 450,\n",
       "    'reset': 1652229691},\n",
       "   '/tweets/:id/hidden&PUT': {'limit': 50,\n",
       "    'remaining': 50,\n",
       "    'reset': 1652229691}},\n",
       "  'saved_searches': {'/saved_searches/destroy/:id': {'limit': 15,\n",
       "    'remaining': 15,\n",
       "    'reset': 1652229691},\n",
       "   '/saved_searches/show/:id': {'limit': 15,\n",
       "    'remaining': 15,\n",
       "    'reset': 1652229691},\n",
       "   '/saved_searches/list': {'limit': 15,\n",
       "    'remaining': 15,\n",
       "    'reset': 1652229691}},\n",
       "  'oauth': {'/oauth/revoke': {'limit': 15,\n",
       "    'remaining': 15,\n",
       "    'reset': 1652229691},\n",
       "   '/oauth/invalidate_token': {'limit': 450,\n",
       "    'remaining': 450,\n",
       "    'reset': 1652229691},\n",
       "   '/oauth/revoke_html': {'limit': 15, 'remaining': 15, 'reset': 1652229691}},\n",
       "  'search': {'/search/tweets': {'limit': 180,\n",
       "    'remaining': 177,\n",
       "    'reset': 1652228820}},\n",
       "  'trends': {'/trends/closest': {'limit': 75,\n",
       "    'remaining': 75,\n",
       "    'reset': 1652229691},\n",
       "   '/trends/available': {'limit': 75, 'remaining': 75, 'reset': 1652229691},\n",
       "   '/trends/place': {'limit': 75, 'remaining': 75, 'reset': 1652229691}},\n",
       "  'live_pipeline': {'/live_pipeline/events': {'limit': 180,\n",
       "    'remaining': 180,\n",
       "    'reset': 1652229691}},\n",
       "  'graphql': {'/graphql': {'limit': 15,\n",
       "    'remaining': 15,\n",
       "    'reset': 1652229691}}}}"
      ]
     },
     "execution_count": 16,
     "metadata": {},
     "output_type": "execute_result"
    }
   ],
   "source": [
    "api.rate_limit_status()"
   ]
  },
  {
   "cell_type": "code",
   "execution_count": 17,
   "metadata": {},
   "outputs": [],
   "source": [
    "cbhami02=api.get_user(screen_name='cbhami02')\n"
   ]
  },
  {
   "cell_type": "code",
   "execution_count": 18,
   "metadata": {},
   "outputs": [
    {
     "name": "stdout",
     "output_type": "stream",
     "text": [
      "{'limit': 900, 'remaining': 897, 'reset': 1652229679}\n"
     ]
    }
   ],
   "source": [
    "print(api.rate_limit_status()['resources']['users']['/users/:id'])"
   ]
  },
  {
   "cell_type": "code",
   "execution_count": 19,
   "metadata": {},
   "outputs": [
    {
     "name": "stdout",
     "output_type": "stream",
     "text": [
      "{'limit': 180, 'remaining': 180, 'reset': 1652229692}\n"
     ]
    }
   ],
   "source": [
    "print(api.rate_limit_status()['resources']['application']['/application/rate_limit_status'])"
   ]
  },
  {
   "cell_type": "markdown",
   "metadata": {
    "jp-MarkdownHeadingCollapsed": true,
    "tags": []
   },
   "source": [
    "### Followers"
   ]
  },
  {
   "cell_type": "code",
   "execution_count": 20,
   "metadata": {
    "tags": []
   },
   "outputs": [],
   "source": [
    "cursor = tweepy.Cursor(api.followers)"
   ]
  },
  {
   "cell_type": "code",
   "execution_count": 21,
   "metadata": {},
   "outputs": [],
   "source": [
    "followers = []  # for storing followers' User objects\n",
    "for account in cursor.items(15):  # request only 10 results (10 most recent followers in this case)\n",
    "    followers.append(account.screen_name)"
   ]
  },
  {
   "cell_type": "code",
   "execution_count": 22,
   "metadata": {},
   "outputs": [
    {
     "name": "stdout",
     "output_type": "stream",
     "text": [
      "Followers: 1SG_Hamilton adore_myBitches BrockCline ChildsSherry GucciManeNtail HamptonRFinest mwyattea OrderUpFayville PjCarl porge10 sayedabdulqadee shefferba49 soldiersofpaint VA_HomeLoan yongkuansima\n"
     ]
    }
   ],
   "source": [
    "print('Followers:', \n",
    "      ' '.join(sorted(followers, key=lambda s: s.lower())))"
   ]
  },
  {
   "cell_type": "code",
   "execution_count": 23,
   "metadata": {},
   "outputs": [
    {
     "name": "stdout",
     "output_type": "stream",
     "text": [
      "['HadiHousseini2', 'alexsandraped10', 'vluiz04', 'TranTra01463289', 'Dannydoo44', 'House59174989', 'Ubaldopvtos', 'Dan64118697', 'mshollychesnut', 'Titogualtieri']\n"
     ]
    }
   ],
   "source": [
    "cursor = tweepy.Cursor(api.followers, screen_name='nasa', count=200)\n",
    "followers = []\n",
    "for account in cursor.items(10):  # request 2 pages of followers\n",
    "    followers.append(account.screen_name)\n",
    "\n",
    "print(followers)"
   ]
  },
  {
   "cell_type": "code",
   "execution_count": 24,
   "metadata": {},
   "outputs": [],
   "source": [
    "cursor = tweepy.Cursor(api.followers_ids, screen_name='nasa', count=5000)\n",
    "followers_ids = []\n",
    "for accountid in cursor.items(5000): #request 1 page of follower_ids\n",
    "    followers_ids.append(accountid)"
   ]
  },
  {
   "cell_type": "code",
   "execution_count": 25,
   "metadata": {
    "tags": []
   },
   "outputs": [
    {
     "name": "stdout",
     "output_type": "stream",
     "text": [
      "[1357511781434806272, 1283861283792658447, 1524182377605611523, 1524183292978896897, 1524183924615704576, 1524183907771555841, 1524183015227858944, 1524183097733832704, 1524183947999076359, 1524180191211368449, 1524168330420142081, 1524183402211069953, 1524183335773351938, 1524183580565405698, 1524182868838256640, 1524183698328985601, 1524183216831311872, 1213859921038430209, 1524180727109140480, 1524183462277783553, 1083257426906730496, 1198384893480329216, 1524183752062160903, 1524183673666473986, 1524182777754697728, 1510578030036586500, 1524183532855255043, 1524183672999616515, 1524181703933243392, 1524180968722116610, 1346483194133061634, 1508370180896075779, 1524183599871844352, 1524182085627518978, 1524183694424129538, 1524182141797609474, 1524181535502524416, 1524180902238113793, 1524183527390167040, 1524183434104508417, 1523849074163675136, 1505567091428143110, 1444466489684201477, 1524181189413777408, 1524183109549232128, 1524183017786429442, 1524179596043767809, 1524179786431664128, 1524183440643526662, 1522023755232743424, 1524182476901568513, 1524180193115574273, 1524183616141594624, 1488708649929560065, 1524182917416914944, 1524182915826946049, 1524183435715092486, 1524183135684292608, 1523506307122089991, 1524182365458812929, 1524183523451670528, 1524182122923442177, 1524182841034219520, 1524183539213864960, 1524182557075509249, 1524183548869099522, 1524183430442864640, 1524176741559848961, 941133630415437824, 1524183349169987584, 1524183477448585217, 1524182987998388225, 1524183164075323393, 1524180674990780419, 1524183315208622083, 124931505, 1524183368367235072, 1524179601106288641, 1267630020585050112, 61275155, 497640153, 1524183158538784772, 1018698741035905024, 1524183439360016384, 1524182162404085760, 1524182666970599424, 1442030603625381893, 1524181275216646144, 1524182806431076354, 1524181927284166657, 1524183346871508993, 1308021198249394176, 1524183124367847430, 1524182182113300480, 1524181739157045248, 1524164039730941952, 1524182627405684736, 1524181909936484352, 807017505453527041, 1478977045468266497]\n"
     ]
    }
   ],
   "source": [
    "followers_ids_fragments = [followers_ids[i * 100:(i + 1) * 100] for i in range((len(followers_ids) + 100 - 1) // 100 )] \n",
    "print (followers_ids_fragments[0])"
   ]
  },
  {
   "cell_type": "markdown",
   "metadata": {
    "jp-MarkdownHeadingCollapsed": true,
    "tags": []
   },
   "source": [
    "### Rate Limits"
   ]
  },
  {
   "cell_type": "code",
   "execution_count": 26,
   "metadata": {},
   "outputs": [
    {
     "name": "stdout",
     "output_type": "stream",
     "text": [
      "{'limit': 15, 'remaining': 14, 'reset': 1652229694}\n"
     ]
    }
   ],
   "source": [
    "print(api.rate_limit_status()['resources']['followers']['/followers/ids'])\n"
   ]
  },
  {
   "cell_type": "code",
   "execution_count": 27,
   "metadata": {},
   "outputs": [
    {
     "name": "stdout",
     "output_type": "stream",
     "text": [
      "{'limit': 900, 'remaining': 900, 'reset': 1652229695}\n"
     ]
    }
   ],
   "source": [
    "print(api.rate_limit_status()['resources']['users']['/users/lookup'])"
   ]
  },
  {
   "cell_type": "markdown",
   "metadata": {
    "jp-MarkdownHeadingCollapsed": true,
    "tags": []
   },
   "source": [
    "### Search Tweets by Topic"
   ]
  },
  {
   "cell_type": "code",
   "execution_count": 28,
   "metadata": {},
   "outputs": [],
   "source": [
    "def print_tweets(tweets):\n",
    "    \"\"\"For each Tweepy Status object in tweets, display the \n",
    "    user's screen_name and tweet text. If the language is not\n",
    "    English, translate the text with TextBlob.\"\"\"\n",
    "    for tweet in tweets:\n",
    "        print(f'{tweet.user.screen_name}:', end=' ')\n",
    "    \n",
    "        if 'en' in tweet.lang:\n",
    "            print(f'{tweet.text}\\n')\n",
    "        elif 'und' not in tweet.lang:  # translate to English first\n",
    "            print(f'\\n  ORIGINAL: {tweet.text}')\n",
    "            try:\n",
    "                print(f'TRANSLATED: {TextBlob(tweet.text).translate()}\\n')\n",
    "            except:\n",
    "                print('Unable to translate tweet')"
   ]
  },
  {
   "cell_type": "code",
   "execution_count": 29,
   "metadata": {},
   "outputs": [],
   "source": [
    "tweets = api.search(q='Johnny Depp', count=3)"
   ]
  },
  {
   "cell_type": "code",
   "execution_count": 30,
   "metadata": {},
   "outputs": [
    {
     "name": "stdout",
     "output_type": "stream",
     "text": [
      "rain_hay: RT @bee_papaya: Amber Heard's biggest fear amid the false allegations against Johnny Depp was to be called a liar. Let that sink in.\n",
      "\n",
      "#Just…\n",
      "\n",
      "chosirian: RT @bee_papaya: Amber Heard tarnished Johnny Depp's good name, abused him, and made him re-live the nightmares of his childhood and adult l…\n",
      "\n",
      "Rose53233: I'm calling bullshit on this one:\n",
      "\n",
      "REAL abuse victims know the difference between actual abuse and a scammer trying… https://t.co/W88Grjls0v\n",
      "\n"
     ]
    }
   ],
   "source": [
    "print_tweets(tweets) "
   ]
  },
  {
   "cell_type": "code",
   "execution_count": 31,
   "metadata": {},
   "outputs": [],
   "source": [
    "tweets = api.search(q='Johnny Depp :)', count=3) #Only \"positive sentiment tweets involving basketball\""
   ]
  },
  {
   "cell_type": "code",
   "execution_count": 32,
   "metadata": {},
   "outputs": [],
   "source": [
    "tweets = api.search(q='#Heard', count=5)"
   ]
  },
  {
   "cell_type": "code",
   "execution_count": 33,
   "metadata": {},
   "outputs": [
    {
     "name": "stdout",
     "output_type": "stream",
     "text": [
      "cturtleemmers: WesternWoke: I know people feel extremely divided right now, but if I can hit pause for just a second on the bickering… If the j… https://t.co/WwSKhbA5M5\n",
      "\n",
      "spaethon: #DeppVsHeard Day 15\n",
      "7.\n",
      "#Heard said there was blood everywhere, all over the pillow, she had a broken nose and maybe… https://t.co/aabGqTQoB9\n",
      "\n",
      "DrSeldaYildiz: @DrProudman OMG!Can we(u) please stop polarizing, blaming ppl 4 seeing the truth. Instead focus on the evidence tha… https://t.co/8QgUQrPb00\n",
      "\n",
      "spaethon: ...he's punching her still. #Heard lost her memory after than and then woke up. When she woke up, part of the bed w… https://t.co/BUib3vrx9q\n",
      "\n"
     ]
    }
   ],
   "source": [
    "print_tweets(tweets)"
   ]
  },
  {
   "cell_type": "markdown",
   "metadata": {
    "jp-MarkdownHeadingCollapsed": true,
    "tags": []
   },
   "source": [
    "### Trends Available"
   ]
  },
  {
   "cell_type": "code",
   "execution_count": 34,
   "metadata": {},
   "outputs": [],
   "source": [
    "trends_available = api.trends_available()"
   ]
  },
  {
   "cell_type": "code",
   "execution_count": 35,
   "metadata": {},
   "outputs": [
    {
     "data": {
      "text/plain": [
       "467"
      ]
     },
     "execution_count": 35,
     "metadata": {},
     "output_type": "execute_result"
    }
   ],
   "source": [
    "len(trends_available)"
   ]
  },
  {
   "cell_type": "code",
   "execution_count": 36,
   "metadata": {},
   "outputs": [
    {
     "data": {
      "text/plain": [
       "{'name': 'Worldwide',\n",
       " 'placeType': {'code': 19, 'name': 'Supername'},\n",
       " 'url': 'http://where.yahooapis.com/v1/place/1',\n",
       " 'parentid': 0,\n",
       " 'country': '',\n",
       " 'woeid': 1,\n",
       " 'countryCode': None}"
      ]
     },
     "execution_count": 36,
     "metadata": {},
     "output_type": "execute_result"
    }
   ],
   "source": [
    "trends_available[0]"
   ]
  },
  {
   "cell_type": "code",
   "execution_count": 37,
   "metadata": {},
   "outputs": [
    {
     "data": {
      "text/plain": [
       "{'name': 'Winnipeg',\n",
       " 'placeType': {'code': 7, 'name': 'Town'},\n",
       " 'url': 'http://where.yahooapis.com/v1/place/2972',\n",
       " 'parentid': 23424775,\n",
       " 'country': 'Canada',\n",
       " 'woeid': 2972,\n",
       " 'countryCode': 'CA'}"
      ]
     },
     "execution_count": 37,
     "metadata": {},
     "output_type": "execute_result"
    }
   ],
   "source": [
    "trends_available[1]"
   ]
  },
  {
   "cell_type": "code",
   "execution_count": 38,
   "metadata": {},
   "outputs": [],
   "source": [
    "world_trends_comp = api.trends_place(id=1)  # Worldwide trending topics (list containing one dictionary)"
   ]
  },
  {
   "cell_type": "code",
   "execution_count": 39,
   "metadata": {},
   "outputs": [],
   "source": [
    "world_trends = world_trends_comp[0]['trends'] # The 'trends' key is tied to the info about the actual trending topics"
   ]
  },
  {
   "cell_type": "code",
   "execution_count": 40,
   "metadata": {},
   "outputs": [
    {
     "data": {
      "text/plain": [
       "{'name': '竜ちゃん',\n",
       " 'url': 'http://twitter.com/search?q=%E7%AB%9C%E3%81%A1%E3%82%83%E3%82%93',\n",
       " 'promoted_content': None,\n",
       " 'query': '%E7%AB%9C%E3%81%A1%E3%82%83%E3%82%93',\n",
       " 'tweet_volume': 28565}"
      ]
     },
     "execution_count": 40,
     "metadata": {},
     "output_type": "execute_result"
    }
   ],
   "source": [
    "world_trends[4]"
   ]
  },
  {
   "cell_type": "code",
   "execution_count": 41,
   "metadata": {},
   "outputs": [
    {
     "name": "stdout",
     "output_type": "stream",
     "text": [
      "{'name': '上島さん', 'url': 'http://twitter.com/search?q=%E4%B8%8A%E5%B3%B6%E3%81%95%E3%82%93', 'promoted_content': None, 'query': '%E4%B8%8A%E5%B3%B6%E3%81%95%E3%82%93', 'tweet_volume': 278821}\n",
      "{'name': 'ショック', 'url': 'http://twitter.com/search?q=%E3%82%B7%E3%83%A7%E3%83%83%E3%82%AF', 'promoted_content': None, 'query': '%E3%82%B7%E3%83%A7%E3%83%83%E3%82%AF', 'tweet_volume': 65567}\n",
      "{'name': '#SalarioRosaVePorMas', 'url': 'http://twitter.com/search?q=%23SalarioRosaVePorMas', 'promoted_content': None, 'query': '%23SalarioRosaVePorMas', 'tweet_volume': 63980}\n"
     ]
    }
   ],
   "source": [
    "for iter in range(3):\n",
    "    print(world_trends[iter])"
   ]
  },
  {
   "cell_type": "code",
   "execution_count": 42,
   "metadata": {},
   "outputs": [
    {
     "name": "stdout",
     "output_type": "stream",
     "text": [
      "Total world trends: 50\n",
      "Total world trends >10k volume: 24\n",
      "Total world trends >100k volume: 3\n"
     ]
    }
   ],
   "source": [
    "world_trends_baseline = [t for t in world_trends if t['tweet_volume']]\n",
    "world_trends_high_volume = [t for t in world_trends if (t['tweet_volume']) and(t['tweet_volume']>100000)]\n",
    "print(f'Total world trends: {len(world_trends)}') #Remember that the cap of returned trends is 50!\n",
    "print(f'Total world trends >10k volume: {len(world_trends_baseline)}')\n",
    "print(f'Total world trends >100k volume: {len(world_trends_high_volume)}')\n"
   ]
  },
  {
   "cell_type": "markdown",
   "metadata": {
    "jp-MarkdownHeadingCollapsed": true,
    "tags": []
   },
   "source": [
    "### World_Trends"
   ]
  },
  {
   "cell_type": "code",
   "execution_count": 43,
   "metadata": {},
   "outputs": [],
   "source": [
    "from operator import itemgetter "
   ]
  },
  {
   "cell_type": "code",
   "execution_count": 44,
   "metadata": {},
   "outputs": [
    {
     "name": "stdout",
     "output_type": "stream",
     "text": [
      "Total World trends >15k volume: 24\n"
     ]
    }
   ],
   "source": [
    "World_trends_w_volume = [t for t in world_trends if (t['tweet_volume'])]\n",
    "print(f'Total World trends >15k volume: {len(World_trends_w_volume)}')\n"
   ]
  },
  {
   "cell_type": "code",
   "execution_count": 45,
   "metadata": {},
   "outputs": [],
   "source": [
    "world_trends_baseline.sort(key=itemgetter('tweet_volume'), reverse=True) #sort world trends by descending volume"
   ]
  },
  {
   "cell_type": "code",
   "execution_count": 46,
   "metadata": {},
   "outputs": [
    {
     "name": "stdout",
     "output_type": "stream",
     "text": [
      "#CafStinks\n",
      "#Eurovision\n",
      "上島さん\n",
      "芸人さん\n",
      "ショック\n",
      "Rick Scott\n",
      "#SalarioRosaVePorMas\n",
      "Araujo\n",
      "iPod\n",
      "Gago\n"
     ]
    }
   ],
   "source": [
    "for trend in world_trends_baseline[:10]: #Display the top 5 topics by volume\n",
    "    print(trend['name'])"
   ]
  },
  {
   "cell_type": "markdown",
   "metadata": {},
   "source": [
    "### SA_Trends"
   ]
  },
  {
   "cell_type": "code",
   "execution_count": 47,
   "metadata": {},
   "outputs": [],
   "source": [
    "SA_trends_comp = api.trends_place(id=2487796)"
   ]
  },
  {
   "cell_type": "code",
   "execution_count": 48,
   "metadata": {},
   "outputs": [],
   "source": [
    "SA_trends = SA_trends_comp[0]['trends']"
   ]
  },
  {
   "cell_type": "code",
   "execution_count": 49,
   "metadata": {},
   "outputs": [],
   "source": [
    "SA_trends_baseline = [t for t in SA_trends if t['tweet_volume']]"
   ]
  },
  {
   "cell_type": "code",
   "execution_count": 50,
   "metadata": {
    "collapsed": true,
    "jupyter": {
     "outputs_hidden": true
    },
    "tags": []
   },
   "outputs": [
    {
     "name": "stdout",
     "output_type": "stream",
     "text": [
      "{'name': 'TONY MONTANA', 'url': 'http://twitter.com/search?q=%22TONY+MONTANA%22', 'promoted_content': None, 'query': '%22TONY+MONTANA%22', 'tweet_volume': 397425}\n",
      "{'name': 'Cruz', 'url': 'http://twitter.com/search?q=Cruz', 'promoted_content': None, 'query': 'Cruz', 'tweet_volume': 84515}\n",
      "{'name': 'Correa', 'url': 'http://twitter.com/search?q=Correa', 'promoted_content': None, 'query': 'Correa', 'tweet_volume': 21488}\n",
      "{'name': '#LeahisOurAnnabeth', 'url': 'http://twitter.com/search?q=%23LeahisOurAnnabeth', 'promoted_content': None, 'query': '%23LeahisOurAnnabeth', 'tweet_volume': 47825}\n",
      "{'name': '#Bidenflation', 'url': 'http://twitter.com/search?q=%23Bidenflation', 'promoted_content': None, 'query': '%23Bidenflation', 'tweet_volume': 21908}\n",
      "{'name': 'Jessica', 'url': 'http://twitter.com/search?q=Jessica', 'promoted_content': None, 'query': 'Jessica', 'tweet_volume': 88608}\n",
      "{'name': 'Azuki', 'url': 'http://twitter.com/search?q=Azuki', 'promoted_content': None, 'query': 'Azuki', 'tweet_volume': 106628}\n",
      "{'name': 'Wayne', 'url': 'http://twitter.com/search?q=Wayne', 'promoted_content': None, 'query': 'Wayne', 'tweet_volume': 34194}\n",
      "{'name': '#inflation', 'url': 'http://twitter.com/search?q=%23inflation', 'promoted_content': None, 'query': '%23inflation', 'tweet_volume': 12066}\n",
      "{'name': 'Rick Scott', 'url': 'http://twitter.com/search?q=%22Rick+Scott%22', 'promoted_content': None, 'query': '%22Rick+Scott%22', 'tweet_volume': 64054}\n",
      "{'name': 'iPod', 'url': 'http://twitter.com/search?q=iPod', 'promoted_content': None, 'query': 'iPod', 'tweet_volume': 57942}\n",
      "{'name': 'Hurricane Gun', 'url': 'http://twitter.com/search?q=%22Hurricane+Gun%22', 'promoted_content': None, 'query': '%22Hurricane+Gun%22', 'tweet_volume': 10316}\n",
      "{'name': 'Ultra MAGA', 'url': 'http://twitter.com/search?q=%22Ultra+MAGA%22', 'promoted_content': None, 'query': '%22Ultra+MAGA%22', 'tweet_volume': 35887}\n",
      "{'name': 'Hilary Duff', 'url': 'http://twitter.com/search?q=%22Hilary+Duff%22', 'promoted_content': None, 'query': '%22Hilary+Duff%22', 'tweet_volume': 11626}\n",
      "{'name': 'Devils', 'url': 'http://twitter.com/search?q=Devils', 'promoted_content': None, 'query': 'Devils', 'tweet_volume': 13514}\n",
      "{'name': 'Carti', 'url': 'http://twitter.com/search?q=Carti', 'promoted_content': None, 'query': 'Carti', 'tweet_volume': 10629}\n",
      "{'name': 'Medicare', 'url': 'http://twitter.com/search?q=Medicare', 'promoted_content': None, 'query': 'Medicare', 'tweet_volume': 60673}\n",
      "{'name': 'Wallo', 'url': 'http://twitter.com/search?q=Wallo', 'promoted_content': None, 'query': 'Wallo', 'tweet_volume': 15708}\n",
      "{'name': 'Montreal', 'url': 'http://twitter.com/search?q=Montreal', 'promoted_content': None, 'query': 'Montreal', 'tweet_volume': 12671}\n",
      "{'name': 'Duncan', 'url': 'http://twitter.com/search?q=Duncan', 'promoted_content': None, 'query': 'Duncan', 'tweet_volume': 11196}\n"
     ]
    }
   ],
   "source": [
    "for trend in SA_trends_baseline:\n",
    "    print(trend)"
   ]
  },
  {
   "cell_type": "code",
   "execution_count": 51,
   "metadata": {},
   "outputs": [
    {
     "name": "stdout",
     "output_type": "stream",
     "text": [
      "SA trends >15k volume: 20\n"
     ]
    }
   ],
   "source": [
    "print(f'SA trends >15k volume: {len(SA_trends_baseline)}')\n"
   ]
  },
  {
   "cell_type": "code",
   "execution_count": 52,
   "metadata": {},
   "outputs": [],
   "source": [
    "SA_trends_baseline.sort(key=itemgetter('tweet_volume'), reverse=True) "
   ]
  },
  {
   "cell_type": "code",
   "execution_count": 53,
   "metadata": {},
   "outputs": [
    {
     "name": "stdout",
     "output_type": "stream",
     "text": [
      "TONY MONTANA\n",
      "Azuki\n",
      "Jessica\n",
      "Cruz\n",
      "Rick Scott\n",
      "Medicare\n",
      "iPod\n",
      "#LeahisOurAnnabeth\n",
      "Ultra MAGA\n",
      "Wayne\n",
      "#Bidenflation\n",
      "Correa\n",
      "Wallo\n",
      "Devils\n",
      "Montreal\n",
      "#inflation\n",
      "Hilary Duff\n",
      "Duncan\n",
      "Carti\n",
      "Hurricane Gun\n"
     ]
    }
   ],
   "source": [
    "for trend in SA_trends_baseline[:20]:\n",
    "    print(trend['name'])"
   ]
  },
  {
   "cell_type": "code",
   "execution_count": 54,
   "metadata": {},
   "outputs": [],
   "source": [
    "SA_topics = {}  # dictionary to store trend names and volumes for San Antonio\n"
   ]
  },
  {
   "cell_type": "code",
   "execution_count": 55,
   "metadata": {},
   "outputs": [
    {
     "name": "stdout",
     "output_type": "stream",
     "text": [
      "{}\n"
     ]
    }
   ],
   "source": [
    "print(SA_topics)"
   ]
  },
  {
   "cell_type": "code",
   "execution_count": 56,
   "metadata": {},
   "outputs": [],
   "source": [
    "for trend in SA_trends_baseline:\n",
    "    SA_topics[trend['name']] = trend['tweet_volume']"
   ]
  },
  {
   "cell_type": "code",
   "execution_count": 57,
   "metadata": {},
   "outputs": [],
   "source": [
    "import pandas as pd\n",
    "\n",
    "SAdf = pd.DataFrame(SA_topics, index = [0]) "
   ]
  },
  {
   "cell_type": "code",
   "execution_count": 58,
   "metadata": {},
   "outputs": [
    {
     "data": {
      "text/html": [
       "<div>\n",
       "<style scoped>\n",
       "    .dataframe tbody tr th:only-of-type {\n",
       "        vertical-align: middle;\n",
       "    }\n",
       "\n",
       "    .dataframe tbody tr th {\n",
       "        vertical-align: top;\n",
       "    }\n",
       "\n",
       "    .dataframe thead th {\n",
       "        text-align: right;\n",
       "    }\n",
       "</style>\n",
       "<table border=\"1\" class=\"dataframe\">\n",
       "  <thead>\n",
       "    <tr style=\"text-align: right;\">\n",
       "      <th></th>\n",
       "      <th>TONY MONTANA</th>\n",
       "      <th>Azuki</th>\n",
       "      <th>Jessica</th>\n",
       "      <th>Cruz</th>\n",
       "      <th>Rick Scott</th>\n",
       "      <th>Medicare</th>\n",
       "      <th>iPod</th>\n",
       "      <th>#LeahisOurAnnabeth</th>\n",
       "      <th>Ultra MAGA</th>\n",
       "      <th>Wayne</th>\n",
       "      <th>#Bidenflation</th>\n",
       "      <th>Correa</th>\n",
       "      <th>Wallo</th>\n",
       "      <th>Devils</th>\n",
       "      <th>Montreal</th>\n",
       "      <th>#inflation</th>\n",
       "      <th>Hilary Duff</th>\n",
       "      <th>Duncan</th>\n",
       "      <th>Carti</th>\n",
       "      <th>Hurricane Gun</th>\n",
       "    </tr>\n",
       "  </thead>\n",
       "  <tbody>\n",
       "    <tr>\n",
       "      <th>0</th>\n",
       "      <td>397425</td>\n",
       "      <td>106628</td>\n",
       "      <td>88608</td>\n",
       "      <td>84515</td>\n",
       "      <td>64054</td>\n",
       "      <td>60673</td>\n",
       "      <td>57942</td>\n",
       "      <td>47825</td>\n",
       "      <td>35887</td>\n",
       "      <td>34194</td>\n",
       "      <td>21908</td>\n",
       "      <td>21488</td>\n",
       "      <td>15708</td>\n",
       "      <td>13514</td>\n",
       "      <td>12671</td>\n",
       "      <td>12066</td>\n",
       "      <td>11626</td>\n",
       "      <td>11196</td>\n",
       "      <td>10629</td>\n",
       "      <td>10316</td>\n",
       "    </tr>\n",
       "  </tbody>\n",
       "</table>\n",
       "</div>"
      ],
      "text/plain": [
       "   TONY MONTANA   Azuki  Jessica   Cruz  Rick Scott  Medicare   iPod  \\\n",
       "0        397425  106628    88608  84515       64054     60673  57942   \n",
       "\n",
       "   #LeahisOurAnnabeth  Ultra MAGA  Wayne  #Bidenflation  Correa  Wallo  \\\n",
       "0               47825       35887  34194          21908   21488  15708   \n",
       "\n",
       "   Devils  Montreal  #inflation  Hilary Duff  Duncan  Carti  Hurricane Gun  \n",
       "0   13514     12671       12066        11626   11196  10629          10316  "
      ]
     },
     "execution_count": 58,
     "metadata": {},
     "output_type": "execute_result"
    }
   ],
   "source": [
    "SAdf.head()"
   ]
  },
  {
   "cell_type": "code",
   "execution_count": 59,
   "metadata": {},
   "outputs": [
    {
     "data": {
      "text/plain": [
       "<AxesSubplot:title={'center':'Trends in San Antonio'}, xlabel='Trends', ylabel='Count'>"
      ]
     },
     "execution_count": 59,
     "metadata": {},
     "output_type": "execute_result"
    },
    {
     "data": {
      "image/png": "[encoded data removed]",
      "text/plain": [
       "<Figure size 720x648 with 1 Axes>"
      ]
     },
     "metadata": {
      "needs_background": "light"
     },
     "output_type": "display_data"
    }
   ],
   "source": [
    "#Plot Descending\n",
    "SAdf.plot(kind=\"bar\",\n",
    " figsize=(10, 9),\n",
    "  xlabel=\"Trends\",\n",
    "   ylabel=\"Count\",\n",
    "    title=\"Trends in San Antonio\")"
   ]
  },
  {
   "cell_type": "markdown",
   "metadata": {
    "jp-MarkdownHeadingCollapsed": true,
    "tags": []
   },
   "source": [
    "### WordCloud for SA_Trends"
   ]
  },
  {
   "cell_type": "code",
   "execution_count": 60,
   "metadata": {},
   "outputs": [],
   "source": [
    "from wordcloud import WordCloud\n",
    "import matplotlib.pyplot as plt"
   ]
  },
  {
   "cell_type": "code",
   "execution_count": 61,
   "metadata": {},
   "outputs": [],
   "source": [
    "from PIL import Image\n",
    "import matplotlib.pyplot as plt\n",
    "import numpy as np\n",
    "mask = np.array(Image.open('Texas.jpg'))\n",
    "\n",
    "wordcloud_SA = WordCloud(mask=mask, width=1800, height=900,\n",
    "    prefer_horizontal=0.5, min_font_size=10, colormap='prism', \n",
    "    background_color='white')"
   ]
  },
  {
   "cell_type": "code",
   "execution_count": 62,
   "metadata": {},
   "outputs": [],
   "source": [
    "wordcloud_SA = wordcloud_SA.fit_words(SA_topics)"
   ]
  },
  {
   "cell_type": "code",
   "execution_count": 63,
   "metadata": {},
   "outputs": [
    {
     "data": {
      "image/png": "[encoded data removed]",
      "text/plain": [
       "<Figure size 1152x576 with 1 Axes>"
      ]
     },
     "metadata": {
      "needs_background": "light"
     },
     "output_type": "display_data"
    }
   ],
   "source": [
    "\n",
    "from PIL import Image\n",
    "import matplotlib.pyplot as plt\n",
    "import numpy as np\n",
    "mask = np.array(Image.open('Texas.jpg'))\n",
    "plt.figure(figsize=(16,8))\n",
    "plt.imshow(wordcloud_SA)\n",
    "plt.axis(\"off\")\n",
    "plt.show()"
   ]
  },
  {
   "cell_type": "markdown",
   "metadata": {},
   "source": [
    "## Tweet Listener"
   ]
  },
  {
   "cell_type": "markdown",
   "metadata": {},
   "source": [
    "### Load Packages"
   ]
  },
  {
   "cell_type": "code",
   "execution_count": 64,
   "metadata": {},
   "outputs": [],
   "source": [
    "from tweetlistener import TweetListener\n",
    "from tweepy import Stream\n",
    "from tweepy import OAuthHandler\n",
    "from tweepy import API\n",
    "import preprocessor as p\n",
    "from prepsubjecttweets import prepsubject"
   ]
  },
  {
   "cell_type": "markdown",
   "metadata": {},
   "source": [
    "### Test Tweet Listener and Clean Tweet"
   ]
  },
  {
   "cell_type": "code",
   "execution_count": 67,
   "metadata": {},
   "outputs": [],
   "source": [
    "tweet_text = 'RT #NASA A sample retweet with a URL https://nasa.gov'"
   ]
  },
  {
   "cell_type": "code",
   "execution_count": 68,
   "metadata": {},
   "outputs": [
    {
     "data": {
      "text/plain": [
       "'A sample retweet with a URL'"
      ]
     },
     "execution_count": 68,
     "metadata": {},
     "output_type": "execute_result"
    }
   ],
   "source": [
    "p.clean(tweet_text)"
   ]
  },
  {
   "cell_type": "markdown",
   "metadata": {},
   "source": [
    "### Tweet Listener - Load Top Three Trends"
   ]
  },
  {
   "cell_type": "code",
   "execution_count": 70,
   "metadata": {},
   "outputs": [],
   "source": [
    "tweetlistraw1,tweetlistprep1 = prepsubject('Macron',20)\n",
    "tweetlistraw2,tweetlistprep2 = prepsubject('Ranboo',20)\n",
    "tweetlistraw3,tweetlistprep3 = prepsubject('Publix',20)"
   ]
  },
  {
   "cell_type": "markdown",
   "metadata": {},
   "source": [
    "### Number 1 Tweet Topic"
   ]
  },
  {
   "cell_type": "code",
   "execution_count": 71,
   "metadata": {},
   "outputs": [
    {
     "data": {
      "text/plain": [
       "['RT @mhmck: French President Emmanuel Macron says \"don\\'t humiliate Russia\".\\n\\nI say don\\'t humiliate Ukraine, as France did in 1919 when the T…',\n",
       " 'RT @Fatassinari: ATM Macron’s proposal suspiciously resembles the EU’s moribund Neighbourhood Policy. That can be summarised by Prodi’s 20…',\n",
       " 'RT @mhmck: Ukraine is the only fighting defender of Europe. Emmanuel Macron says it will take \"decades\" for Ukraine to join the EU.\\n\\nThe Ru…',\n",
       " \"@BobRuth12 @thetimes Didn't #Putin already fool #Macron by saying there was never going to be an invasion of… https://t.co/5fjozM56q1\",\n",
       " \"RT @KyleWOrton: #France's President Macron digging in on the mistakes with #Russia and expanding them to #China https://t.co/TtZBWOtZqu\",\n",
       " 'RT @mhmck: Ukraine is the only fighting defender of Europe. Emmanuel Macron says it will take \"decades\" for Ukraine to join the EU.\\n\\nThe Ru…',\n",
       " '@EerikNKross On the other hand it must be extremely patronizing and humiliating for Putin to hear Macron treating h… https://t.co/M4F3CrL9i4',\n",
       " 'RT @EerikNKross: Macron clearly has a wrong address for his \"don\\'t humiliate Russia\" call. This should be told to Putin, his gang and the R…',\n",
       " 'RT @EerikNKross: Macron clearly has a wrong address for his \"don\\'t humiliate Russia\" call. This should be told to Putin, his gang and the R…',\n",
       " 'RT @EerikNKross: Macron clearly has a wrong address for his \"don\\'t humiliate Russia\" call. This should be told to Putin, his gang and the R…',\n",
       " 'RT @EerikNKross: Macron clearly has a wrong address for his \"don\\'t humiliate Russia\" call. This should be told to Putin, his gang and the R…',\n",
       " '@KyivIndependent They both gonna say how their with Russia now, guarantee. That fruit macron has shown he sucks putins dick from day 1',\n",
       " '@EerikNKross I now understand why a percentage of the French population dislike Macron. I used to but he had shown… https://t.co/H5ukwKoAmL',\n",
       " 'RT @ianbremmer: i agree that putin should not be gratuitously humiliated. but macron saying it publicly is a mistake, macron promoting hims…',\n",
       " 'RT @saint61793: Macron did not win the latest election in France any more than Biden was elected here.',\n",
       " 'RT @EerikNKross: Macron clearly has a wrong address for his \"don\\'t humiliate Russia\" call. This should be told to Putin, his gang and the R…',\n",
       " '@Scump344 @Tvali11 @macaroni_bit @EndGameWW3 So #NATO must make very clear that any units entering Ukraine will NOT… https://t.co/gEzXnDdCoq',\n",
       " \"RT @ivanastradner: Macron asks Europe to stop 'humiliating' Putin. There is a reason why France has a 'middle power' status in internationa…\",\n",
       " 'RT @mhmck: French President Emmanuel Macron says \"don\\'t humiliate Russia\".\\n\\nI say don\\'t humiliate Ukraine, as France did in 1919 when the T…',\n",
       " 'Macron is an idiot. Typical Frenchman, kissing German butt. https://t.co/mhMP3bwzi0']"
      ]
     },
     "execution_count": 71,
     "metadata": {},
     "output_type": "execute_result"
    }
   ],
   "source": [
    "tweetlistraw1"
   ]
  },
  {
   "cell_type": "code",
   "execution_count": 72,
   "metadata": {},
   "outputs": [
    {
     "data": {
      "text/plain": [
       "[': French President Emmanuel Macron says \"don\\'t humiliate Russia\".I say don\\'t humiliate Ukraine, as France did in when the T',\n",
       " ': ATM Macrons proposal suspiciously resembles the EUs moribund Neighbourhood Policy. That can be summarised by Prodis',\n",
       " ': Ukraine is the only fighting defender of Europe. Emmanuel Macron says it will take \"decades\" for Ukraine to join the EU.The Ru',\n",
       " \"Didn't already fool by saying there was never going to be an invasion of\",\n",
       " \": 's President Macron digging in on the mistakes with and expanding them to\",\n",
       " ': Ukraine is the only fighting defender of Europe. Emmanuel Macron says it will take \"decades\" for Ukraine to join the EU.The Ru',\n",
       " 'On the other hand it must be extremely patronizing and humiliating for Putin to hear Macron treating h',\n",
       " ': Macron clearly has a wrong address for his \"don\\'t humiliate Russia\" call. This should be told to Putin, his gang and the R',\n",
       " ': Macron clearly has a wrong address for his \"don\\'t humiliate Russia\" call. This should be told to Putin, his gang and the R',\n",
       " ': Macron clearly has a wrong address for his \"don\\'t humiliate Russia\" call. This should be told to Putin, his gang and the R',\n",
       " ': Macron clearly has a wrong address for his \"don\\'t humiliate Russia\" call. This should be told to Putin, his gang and the R',\n",
       " 'They both gonna say how their with Russia now, guarantee. That fruit macron has shown he sucks putins dick from day',\n",
       " 'I now understand why a percentage of the French population dislike Macron. I used to but he had shown',\n",
       " ': i agree that putin should not be gratuitously humiliated. but macron saying it publicly is a mistake, macron promoting hims',\n",
       " ': Macron did not win the latest election in France any more than Biden was elected here.',\n",
       " ': Macron clearly has a wrong address for his \"don\\'t humiliate Russia\" call. This should be told to Putin, his gang and the R',\n",
       " 'So must make very clear that any units entering Ukraine will NOT',\n",
       " \": Macron asks Europe to stop 'humiliating' Putin. There is a reason why France has a 'middle power' status in internationa\",\n",
       " ': French President Emmanuel Macron says \"don\\'t humiliate Russia\".I say don\\'t humiliate Ukraine, as France did in when the T',\n",
       " 'Macron is an idiot. Typical Frenchman, kissing German butt.']"
      ]
     },
     "execution_count": 72,
     "metadata": {},
     "output_type": "execute_result"
    }
   ],
   "source": [
    "tweetlistprep1"
   ]
  },
  {
   "cell_type": "markdown",
   "metadata": {},
   "source": [
    "### Number 2 Tweet Topic"
   ]
  },
  {
   "cell_type": "code",
   "execution_count": 73,
   "metadata": {},
   "outputs": [
    {
     "data": {
      "text/plain": [
       "['RT @hankgreen: @hichewchao Ranboo is definitely part T-rex.',\n",
       " 'RT @hankgreen: @hichewchao Ranboo is definitely part T-rex.',\n",
       " 'RT @hankgreen: @hichewchao Ranboo is definitely part T-rex.',\n",
       " 'RT @hankgreen: @hichewchao Ranboo is definitely part T-rex.',\n",
       " 'RT @hankgreen: @hichewchao Ranboo is definitely part T-rex.',\n",
       " 'i feel like ranboo would love the sci guys',\n",
       " '#ranboospace\\nRanboo do you know any Kevins? I have this theory that all the Kevins are going feral /hj https://t.co/FFcZzH75Fr',\n",
       " 'RT @PlantOnSpace: He is king of the birds\\n#ranboo #ranboofanart https://t.co/OCupXInjRK',\n",
       " 'RT @hankgreen: @hichewchao Ranboo is definitely part T-rex.',\n",
       " 'RT @hankgreen: @hichewchao Ranboo is definitely part T-rex.',\n",
       " 'RANBOO DID A SPACE??',\n",
       " 'RT @hankgreen: @hichewchao Ranboo is definitely part T-rex.',\n",
       " 'RT @hankgreen: @hichewchao Ranboo is definitely part T-rex.',\n",
       " 'RT @RanbooUpdates: Ranboo posted on his Instagram Story! :D https://t.co/NLpmgrahaX',\n",
       " 'Why do I have a sense that Ranboo was somehow in ISWM (in space with Markiplier) and we never knew 🤔 #ranboospace',\n",
       " 'RT @phoenixblair00: #ranboospace\\n        Markiplier 🤝Ranboo\\nThinks that space is really cool',\n",
       " 'RT @ANIIRINN: XIAOBOO \\n\\n#ranboofanart #mcytfanart #ranboo \\n@artists_mcyt \\n[ rts appreciated ] https://t.co/6GGSHx0D7K',\n",
       " 'just chilling with hank green listenting to ranboo talking about lobotomy #ranboospace https://t.co/PGSPJPCrOM',\n",
       " 'OH ITS IN THE RANBOO SPACE\\nIM SMART',\n",
       " 'Listening to a ranboo space is so confusing because one minute we are talking about pigeons , then death , then spa… https://t.co/pxVUcMwfiz']"
      ]
     },
     "execution_count": 73,
     "metadata": {},
     "output_type": "execute_result"
    }
   ],
   "source": [
    "tweetlistraw2"
   ]
  },
  {
   "cell_type": "code",
   "execution_count": 74,
   "metadata": {},
   "outputs": [
    {
     "data": {
      "text/plain": [
       "[': Ranboo is definitely part T-rex.',\n",
       " ': Ranboo is definitely part T-rex.',\n",
       " ': Ranboo is definitely part T-rex.',\n",
       " ': Ranboo is definitely part T-rex.',\n",
       " ': Ranboo is definitely part T-rex.',\n",
       " 'i feel like ranboo would love the sci guys',\n",
       " 'do you know any Kevins? I have this theory that all the Kevins are going feral /hj',\n",
       " ': He is king of the birds',\n",
       " ': Ranboo is definitely part T-rex.',\n",
       " ': Ranboo is definitely part T-rex.',\n",
       " 'RANBOO DID A SPACE??',\n",
       " ': Ranboo is definitely part T-rex.',\n",
       " ': Ranboo is definitely part T-rex.',\n",
       " ': Ranboo posted on his Instagram Story!',\n",
       " 'Why do I have a sense that Ranboo was somehow in ISWM (in space with Markiplier) and we never knew',\n",
       " ': Markiplier RanbooThinks that space is really cool',\n",
       " ': XIAOBOO [ rts appreciated ]',\n",
       " 'just chilling with hank green listenting to ranboo talking about lobotomy',\n",
       " 'OH ITS IN THE RANBOO SPACEIM SMART',\n",
       " 'Listening to a ranboo space is so confusing because one minute we are talking about pigeons , then death , then spa']"
      ]
     },
     "execution_count": 74,
     "metadata": {},
     "output_type": "execute_result"
    }
   ],
   "source": [
    "tweetlistprep2"
   ]
  },
  {
   "cell_type": "markdown",
   "metadata": {},
   "source": [
    "### Number 3 Tweet Topic"
   ]
  },
  {
   "cell_type": "code",
   "execution_count": 75,
   "metadata": {},
   "outputs": [
    {
     "data": {
      "text/plain": [
       "['@ACatNamedMo what was the name of that wine at Publix you raves about?',\n",
       " '@nandorvila In the same vein, I was in a little Havana Publix yesterday and one of my fellow Cubans was just casual… https://t.co/YThjangR2r',\n",
       " 'I confidently shop at Publix now. Inflation is everywhere .. minus well.',\n",
       " 'RT @overtime: Bro was so disappointed in himself 😭\\n(via publix.ale/TT) https://t.co/mcPfeiRzbg',\n",
       " \"@Marla_Knits @Franktheshank88 It's been a little different the last couple of years.\\nCan't tell you how many Publix… https://t.co/bZzCvtdQ31\",\n",
       " '@marcodupa If nana can be fully alive working at Publix throwin subs together you can manage.',\n",
       " '@PublixHelps Thank you.His name is Jorge Espinel at the Hallandale beach FL 402 liquor store.He’s always so nice to… https://t.co/Y14vyXJJ01',\n",
       " 'Proud of myself today. I Walked through the entire Publix bakery section &amp; made it through without a single treat i… https://t.co/a4hhFvjt0T',\n",
       " 'Publix put a piece of chicken in my potato wedge bag they tried to murder me',\n",
       " \"#vegan #plantbased - James Cromwell's #Starbucks protest is interesting. Vegan milk used to be more expensive. Now… https://t.co/Dg4D4O3fr8\",\n",
       " 'i love publix',\n",
       " 'I always want a Publix chicken tender wrap. The only time I don’t want a Publix chicken tender wrap is if I’m eatin… https://t.co/mavlFAQwRZ',\n",
       " 'RT @overtime: Bro was so disappointed in himself 😭\\n(via publix.ale/TT) https://t.co/mcPfeiRzbg',\n",
       " '@alexx_nc If you can Instacart from Publix I recommend this shot.. But also spoonful of honey if your throat hurts… https://t.co/obhvxTuqAf',\n",
       " 'Rotisserie chicken from Publix with yesterdays left over sides. Ioun have time',\n",
       " 'Lmfao I got them at my Publix in FL https://t.co/2IggFXnVNJ https://t.co/bGsGVxOyhq',\n",
       " '@stoolpresidente I love the fact that you can get #Nooners here in Fl right at Publix.  @highnoonsunsips',\n",
       " \"@TransCinderella @Publix Five o'clock shadow &gt; moobs\",\n",
       " 'Is it a possibility to get a large amount of the gay community to all enter publix at the same time in retaliation… https://t.co/acBSzVS4Oc',\n",
       " 'I better hurry before Publix close 😩']"
      ]
     },
     "execution_count": 75,
     "metadata": {},
     "output_type": "execute_result"
    }
   ],
   "source": [
    "tweetlistraw3"
   ]
  },
  {
   "cell_type": "code",
   "execution_count": 76,
   "metadata": {},
   "outputs": [
    {
     "data": {
      "text/plain": [
       "['what was the name of that wine at Publix you raves about?',\n",
       " 'In the same vein, I was in a little Havana Publix yesterday and one of my fellow Cubans was just casual',\n",
       " 'I confidently shop at Publix now. Inflation is everywhere .. minus well.',\n",
       " ': Bro was so disappointed in himself (via publix.ale/TT)',\n",
       " \"It's been a little different the last couple of years.Can't tell you how many Publix\",\n",
       " 'If nana can be fully alive working at Publix throwin subs together you can manage.',\n",
       " 'Thank you.His name is Jorge Espinel at the Hallandale beach FL liquor store.Hes always so nice to',\n",
       " 'Proud of myself today. I Walked through the entire Publix bakery section &amp; made it through without a single treat i',\n",
       " 'Publix put a piece of chicken in my potato wedge bag they tried to murder me',\n",
       " \"- James Cromwell's protest is interesting. Vegan milk used to be more expensive. Now\",\n",
       " 'i love publix',\n",
       " 'I always want a Publix chicken tender wrap. The only time I dont want a Publix chicken tender wrap is if Im eatin',\n",
       " ': Bro was so disappointed in himself (via publix.ale/TT)',\n",
       " 'If you can Instacart from Publix I recommend this shot.. But also spoonful of honey if your throat hurts',\n",
       " 'Rotisserie chicken from Publix with yesterdays left over sides. Ioun have time',\n",
       " 'Lmfao I got them at my Publix in FL',\n",
       " 'I love the fact that you can get here in Fl right at Publix.',\n",
       " \"Five o'clock shadow &gt; moobs\",\n",
       " 'Is it a possibility to get a large amount of the gay community to all enter publix at the same time in retaliation',\n",
       " 'I better hurry before Publix close']"
      ]
     },
     "execution_count": 76,
     "metadata": {},
     "output_type": "execute_result"
    }
   ],
   "source": [
    "tweetlistprep3"
   ]
  },
  {
   "cell_type": "markdown",
   "metadata": {},
   "source": [
    "## Stream"
   ]
  },
  {
   "cell_type": "markdown",
   "metadata": {},
   "source": [
    "### Load Packages"
   ]
  },
  {
   "cell_type": "code",
   "execution_count": 77,
   "metadata": {},
   "outputs": [],
   "source": [
    "from tweepy.streaming import Stream\n",
    "from tweepy import OAuthHandler\n",
    "from tweepy import Stream\n",
    "from textblob import TextBlob"
   ]
  },
  {
   "cell_type": "markdown",
   "metadata": {},
   "source": [
    "### Sentiment Listener Topic 1"
   ]
  },
  {
   "cell_type": "code",
   "execution_count": 78,
   "metadata": {},
   "outputs": [
    {
     "ename": "KeyboardInterrupt",
     "evalue": "",
     "output_type": "error",
     "traceback": [
      "\u001b[1;31m---------------------------------------------------------------------------\u001b[0m",
      "\u001b[1;31mKeyboardInterrupt\u001b[0m                         Traceback (most recent call last)",
      "File \u001b[1;32mG:\\My Drive\\Coraline\\Tweepy\\sentimentlistener.py:91\u001b[0m, in \u001b[0;36m<module>\u001b[1;34m\u001b[0m\n\u001b[0;32m     <a href='file:///g%3A/My%20Drive/Coraline/Tweepy/sentimentlistener.py?line=88'>89</a>\u001b[0m \u001b[39m# call main if this file is executed as a script\u001b[39;00m\n\u001b[0;32m     <a href='file:///g%3A/My%20Drive/Coraline/Tweepy/sentimentlistener.py?line=89'>90</a>\u001b[0m \u001b[39mif\u001b[39;00m \u001b[39m__name__\u001b[39m \u001b[39m==\u001b[39m \u001b[39m'\u001b[39m\u001b[39m__main__\u001b[39m\u001b[39m'\u001b[39m:\n\u001b[1;32m---> <a href='file:///g%3A/My%20Drive/Coraline/Tweepy/sentimentlistener.py?line=90'>91</a>\u001b[0m     main()\n",
      "File \u001b[1;32mG:\\My Drive\\Coraline\\Tweepy\\sentimentlistener.py:82\u001b[0m, in \u001b[0;36mmain\u001b[1;34m()\u001b[0m\n\u001b[0;32m     <a href='file:///g%3A/My%20Drive/Coraline/Tweepy/sentimentlistener.py?line=78'>79</a>\u001b[0m stream \u001b[39m=\u001b[39m tweepy\u001b[39m.\u001b[39mStream(auth\u001b[39m=\u001b[39mapi\u001b[39m.\u001b[39mauth, listener\u001b[39m=\u001b[39msentiment_listener)\n\u001b[0;32m     <a href='file:///g%3A/My%20Drive/Coraline/Tweepy/sentimentlistener.py?line=80'>81</a>\u001b[0m \u001b[39m# start filtering English tweets containing search_key\u001b[39;00m\n\u001b[1;32m---> <a href='file:///g%3A/My%20Drive/Coraline/Tweepy/sentimentlistener.py?line=81'>82</a>\u001b[0m stream\u001b[39m.\u001b[39;49mfilter(track\u001b[39m=\u001b[39;49m[search_key], languages\u001b[39m=\u001b[39;49m[\u001b[39m'\u001b[39;49m\u001b[39men\u001b[39;49m\u001b[39m'\u001b[39;49m], is_async\u001b[39m=\u001b[39;49m\u001b[39mFalse\u001b[39;49;00m)  \n\u001b[0;32m     <a href='file:///g%3A/My%20Drive/Coraline/Tweepy/sentimentlistener.py?line=83'>84</a>\u001b[0m \u001b[39mprint\u001b[39m(\u001b[39mf\u001b[39m\u001b[39m'\u001b[39m\u001b[39mTweet sentiment for \u001b[39m\u001b[39m\"\u001b[39m\u001b[39m{\u001b[39;00msearch_key\u001b[39m}\u001b[39;00m\u001b[39m\"\u001b[39m\u001b[39m'\u001b[39m)\n\u001b[0;32m     <a href='file:///g%3A/My%20Drive/Coraline/Tweepy/sentimentlistener.py?line=84'>85</a>\u001b[0m \u001b[39mprint\u001b[39m(\u001b[39m'\u001b[39m\u001b[39mPositive:\u001b[39m\u001b[39m'\u001b[39m, sentiment_dict[\u001b[39m'\u001b[39m\u001b[39mpositive\u001b[39m\u001b[39m'\u001b[39m])\n",
      "File \u001b[1;32mc:\\Users\\coleb\\mambaforge\\lib\\site-packages\\tweepy\\streaming.py:474\u001b[0m, in \u001b[0;36mStream.filter\u001b[1;34m(self, follow, track, is_async, locations, stall_warnings, languages, encoding, filter_level)\u001b[0m\n\u001b[0;32m    <a href='file:///c%3A/Users/coleb/mambaforge/lib/site-packages/tweepy/streaming.py?line=471'>472</a>\u001b[0m     \u001b[39mself\u001b[39m\u001b[39m.\u001b[39mbody[\u001b[39m'\u001b[39m\u001b[39mfilter_level\u001b[39m\u001b[39m'\u001b[39m] \u001b[39m=\u001b[39m filter_level\u001b[39m.\u001b[39mencode(encoding)\n\u001b[0;32m    <a href='file:///c%3A/Users/coleb/mambaforge/lib/site-packages/tweepy/streaming.py?line=472'>473</a>\u001b[0m \u001b[39mself\u001b[39m\u001b[39m.\u001b[39msession\u001b[39m.\u001b[39mparams \u001b[39m=\u001b[39m {\u001b[39m'\u001b[39m\u001b[39mdelimited\u001b[39m\u001b[39m'\u001b[39m: \u001b[39m'\u001b[39m\u001b[39mlength\u001b[39m\u001b[39m'\u001b[39m}\n\u001b[1;32m--> <a href='file:///c%3A/Users/coleb/mambaforge/lib/site-packages/tweepy/streaming.py?line=473'>474</a>\u001b[0m \u001b[39mself\u001b[39;49m\u001b[39m.\u001b[39;49m_start(is_async)\n",
      "File \u001b[1;32mc:\\Users\\coleb\\mambaforge\\lib\\site-packages\\tweepy\\streaming.py:389\u001b[0m, in \u001b[0;36mStream._start\u001b[1;34m(self, is_async)\u001b[0m\n\u001b[0;32m    <a href='file:///c%3A/Users/coleb/mambaforge/lib/site-packages/tweepy/streaming.py?line=386'>387</a>\u001b[0m     \u001b[39mself\u001b[39m\u001b[39m.\u001b[39m_thread\u001b[39m.\u001b[39mstart()\n\u001b[0;32m    <a href='file:///c%3A/Users/coleb/mambaforge/lib/site-packages/tweepy/streaming.py?line=387'>388</a>\u001b[0m \u001b[39melse\u001b[39;00m:\n\u001b[1;32m--> <a href='file:///c%3A/Users/coleb/mambaforge/lib/site-packages/tweepy/streaming.py?line=388'>389</a>\u001b[0m     \u001b[39mself\u001b[39;49m\u001b[39m.\u001b[39;49m_run()\n",
      "File \u001b[1;32mc:\\Users\\coleb\\mambaforge\\lib\\site-packages\\tweepy\\streaming.py:289\u001b[0m, in \u001b[0;36mStream._run\u001b[1;34m(self)\u001b[0m\n\u001b[0;32m    <a href='file:///c%3A/Users/coleb/mambaforge/lib/site-packages/tweepy/streaming.py?line=286'>287</a>\u001b[0m         \u001b[39mself\u001b[39m\u001b[39m.\u001b[39msnooze_time \u001b[39m=\u001b[39m \u001b[39mself\u001b[39m\u001b[39m.\u001b[39msnooze_time_step\n\u001b[0;32m    <a href='file:///c%3A/Users/coleb/mambaforge/lib/site-packages/tweepy/streaming.py?line=287'>288</a>\u001b[0m         \u001b[39mself\u001b[39m\u001b[39m.\u001b[39mlistener\u001b[39m.\u001b[39mon_connect()\n\u001b[1;32m--> <a href='file:///c%3A/Users/coleb/mambaforge/lib/site-packages/tweepy/streaming.py?line=288'>289</a>\u001b[0m         \u001b[39mself\u001b[39;49m\u001b[39m.\u001b[39;49m_read_loop(resp)\n\u001b[0;32m    <a href='file:///c%3A/Users/coleb/mambaforge/lib/site-packages/tweepy/streaming.py?line=289'>290</a>\u001b[0m \u001b[39mexcept\u001b[39;00m (Timeout, ssl\u001b[39m.\u001b[39mSSLError) \u001b[39mas\u001b[39;00m exc:\n\u001b[0;32m    <a href='file:///c%3A/Users/coleb/mambaforge/lib/site-packages/tweepy/streaming.py?line=290'>291</a>\u001b[0m     \u001b[39m# This is still necessary, as a SSLError can actually be\u001b[39;00m\n\u001b[0;32m    <a href='file:///c%3A/Users/coleb/mambaforge/lib/site-packages/tweepy/streaming.py?line=291'>292</a>\u001b[0m     \u001b[39m# thrown when using Requests\u001b[39;00m\n\u001b[0;32m    <a href='file:///c%3A/Users/coleb/mambaforge/lib/site-packages/tweepy/streaming.py?line=292'>293</a>\u001b[0m     \u001b[39m# If it's not time out treat it like any other exception\u001b[39;00m\n\u001b[0;32m    <a href='file:///c%3A/Users/coleb/mambaforge/lib/site-packages/tweepy/streaming.py?line=293'>294</a>\u001b[0m     \u001b[39mif\u001b[39;00m \u001b[39misinstance\u001b[39m(exc, ssl\u001b[39m.\u001b[39mSSLError):\n",
      "File \u001b[1;32mc:\\Users\\coleb\\mambaforge\\lib\\site-packages\\tweepy\\streaming.py:339\u001b[0m, in \u001b[0;36mStream._read_loop\u001b[1;34m(self, resp)\u001b[0m\n\u001b[0;32m    <a href='file:///c%3A/Users/coleb/mambaforge/lib/site-packages/tweepy/streaming.py?line=336'>337</a>\u001b[0m length \u001b[39m=\u001b[39m \u001b[39m0\u001b[39m\n\u001b[0;32m    <a href='file:///c%3A/Users/coleb/mambaforge/lib/site-packages/tweepy/streaming.py?line=337'>338</a>\u001b[0m \u001b[39mwhile\u001b[39;00m \u001b[39mnot\u001b[39;00m resp\u001b[39m.\u001b[39mraw\u001b[39m.\u001b[39mclosed:\n\u001b[1;32m--> <a href='file:///c%3A/Users/coleb/mambaforge/lib/site-packages/tweepy/streaming.py?line=338'>339</a>\u001b[0m     line \u001b[39m=\u001b[39m buf\u001b[39m.\u001b[39;49mread_line()\n\u001b[0;32m    <a href='file:///c%3A/Users/coleb/mambaforge/lib/site-packages/tweepy/streaming.py?line=339'>340</a>\u001b[0m     stripped_line \u001b[39m=\u001b[39m line\u001b[39m.\u001b[39mstrip() \u001b[39mif\u001b[39;00m line \u001b[39melse\u001b[39;00m line \u001b[39m# line is sometimes None so we need to check here\u001b[39;00m\n\u001b[0;32m    <a href='file:///c%3A/Users/coleb/mambaforge/lib/site-packages/tweepy/streaming.py?line=340'>341</a>\u001b[0m     \u001b[39mif\u001b[39;00m \u001b[39mnot\u001b[39;00m stripped_line:\n",
      "File \u001b[1;32mc:\\Users\\coleb\\mambaforge\\lib\\site-packages\\tweepy\\streaming.py:200\u001b[0m, in \u001b[0;36mReadBuffer.read_line\u001b[1;34m(self, sep)\u001b[0m\n\u001b[0;32m    <a href='file:///c%3A/Users/coleb/mambaforge/lib/site-packages/tweepy/streaming.py?line=197'>198</a>\u001b[0m     \u001b[39melse\u001b[39;00m:\n\u001b[0;32m    <a href='file:///c%3A/Users/coleb/mambaforge/lib/site-packages/tweepy/streaming.py?line=198'>199</a>\u001b[0m         start \u001b[39m=\u001b[39m \u001b[39mlen\u001b[39m(\u001b[39mself\u001b[39m\u001b[39m.\u001b[39m_buffer)\n\u001b[1;32m--> <a href='file:///c%3A/Users/coleb/mambaforge/lib/site-packages/tweepy/streaming.py?line=199'>200</a>\u001b[0m     \u001b[39mself\u001b[39m\u001b[39m.\u001b[39m_buffer \u001b[39m+\u001b[39m\u001b[39m=\u001b[39m \u001b[39mself\u001b[39;49m\u001b[39m.\u001b[39;49m_stream\u001b[39m.\u001b[39;49mread(\u001b[39mself\u001b[39;49m\u001b[39m.\u001b[39;49m_chunk_size)\n\u001b[0;32m    <a href='file:///c%3A/Users/coleb/mambaforge/lib/site-packages/tweepy/streaming.py?line=200'>201</a>\u001b[0m \u001b[39mreturn\u001b[39;00m six\u001b[39m.\u001b[39mb(\u001b[39m'\u001b[39m\u001b[39m'\u001b[39m)\n",
      "File \u001b[1;32mc:\\Users\\coleb\\mambaforge\\lib\\site-packages\\urllib3\\response.py:519\u001b[0m, in \u001b[0;36mHTTPResponse.read\u001b[1;34m(self, amt, decode_content, cache_content)\u001b[0m\n\u001b[0;32m    <a href='file:///c%3A/Users/coleb/mambaforge/lib/site-packages/urllib3/response.py?line=516'>517</a>\u001b[0m \u001b[39melse\u001b[39;00m:\n\u001b[0;32m    <a href='file:///c%3A/Users/coleb/mambaforge/lib/site-packages/urllib3/response.py?line=517'>518</a>\u001b[0m     cache_content \u001b[39m=\u001b[39m \u001b[39mFalse\u001b[39;00m\n\u001b[1;32m--> <a href='file:///c%3A/Users/coleb/mambaforge/lib/site-packages/urllib3/response.py?line=518'>519</a>\u001b[0m     data \u001b[39m=\u001b[39m \u001b[39mself\u001b[39;49m\u001b[39m.\u001b[39;49m_fp\u001b[39m.\u001b[39;49mread(amt) \u001b[39mif\u001b[39;00m \u001b[39mnot\u001b[39;00m fp_closed \u001b[39melse\u001b[39;00m \u001b[39mb\u001b[39m\u001b[39m\"\u001b[39m\u001b[39m\"\u001b[39m\n\u001b[0;32m    <a href='file:///c%3A/Users/coleb/mambaforge/lib/site-packages/urllib3/response.py?line=519'>520</a>\u001b[0m     \u001b[39mif\u001b[39;00m (\n\u001b[0;32m    <a href='file:///c%3A/Users/coleb/mambaforge/lib/site-packages/urllib3/response.py?line=520'>521</a>\u001b[0m         amt \u001b[39m!=\u001b[39m \u001b[39m0\u001b[39m \u001b[39mand\u001b[39;00m \u001b[39mnot\u001b[39;00m data\n\u001b[0;32m    <a href='file:///c%3A/Users/coleb/mambaforge/lib/site-packages/urllib3/response.py?line=521'>522</a>\u001b[0m     ):  \u001b[39m# Platform-specific: Buggy versions of Python.\u001b[39;00m\n\u001b[1;32m   (...)\u001b[0m\n\u001b[0;32m    <a href='file:///c%3A/Users/coleb/mambaforge/lib/site-packages/urllib3/response.py?line=527'>528</a>\u001b[0m         \u001b[39m# not properly close the connection in all cases. There is\u001b[39;00m\n\u001b[0;32m    <a href='file:///c%3A/Users/coleb/mambaforge/lib/site-packages/urllib3/response.py?line=528'>529</a>\u001b[0m         \u001b[39m# no harm in redundantly calling close.\u001b[39;00m\n\u001b[0;32m    <a href='file:///c%3A/Users/coleb/mambaforge/lib/site-packages/urllib3/response.py?line=529'>530</a>\u001b[0m         \u001b[39mself\u001b[39m\u001b[39m.\u001b[39m_fp\u001b[39m.\u001b[39mclose()\n",
      "File \u001b[1;32mc:\\Users\\coleb\\mambaforge\\lib\\http\\client.py:463\u001b[0m, in \u001b[0;36mHTTPResponse.read\u001b[1;34m(self, amt)\u001b[0m\n\u001b[0;32m    <a href='file:///c%3A/Users/coleb/mambaforge/lib/http/client.py?line=459'>460</a>\u001b[0m \u001b[39mif\u001b[39;00m amt \u001b[39mis\u001b[39;00m \u001b[39mnot\u001b[39;00m \u001b[39mNone\u001b[39;00m:\n\u001b[0;32m    <a href='file:///c%3A/Users/coleb/mambaforge/lib/http/client.py?line=460'>461</a>\u001b[0m     \u001b[39m# Amount is given, implement using readinto\u001b[39;00m\n\u001b[0;32m    <a href='file:///c%3A/Users/coleb/mambaforge/lib/http/client.py?line=461'>462</a>\u001b[0m     b \u001b[39m=\u001b[39m \u001b[39mbytearray\u001b[39m(amt)\n\u001b[1;32m--> <a href='file:///c%3A/Users/coleb/mambaforge/lib/http/client.py?line=462'>463</a>\u001b[0m     n \u001b[39m=\u001b[39m \u001b[39mself\u001b[39;49m\u001b[39m.\u001b[39;49mreadinto(b)\n\u001b[0;32m    <a href='file:///c%3A/Users/coleb/mambaforge/lib/http/client.py?line=463'>464</a>\u001b[0m     \u001b[39mreturn\u001b[39;00m \u001b[39mmemoryview\u001b[39m(b)[:n]\u001b[39m.\u001b[39mtobytes()\n\u001b[0;32m    <a href='file:///c%3A/Users/coleb/mambaforge/lib/http/client.py?line=464'>465</a>\u001b[0m \u001b[39melse\u001b[39;00m:\n\u001b[0;32m    <a href='file:///c%3A/Users/coleb/mambaforge/lib/http/client.py?line=465'>466</a>\u001b[0m     \u001b[39m# Amount is not given (unbounded read) so we must check self.length\u001b[39;00m\n\u001b[0;32m    <a href='file:///c%3A/Users/coleb/mambaforge/lib/http/client.py?line=466'>467</a>\u001b[0m     \u001b[39m# and self.chunked\u001b[39;00m\n",
      "File \u001b[1;32mc:\\Users\\coleb\\mambaforge\\lib\\http\\client.py:497\u001b[0m, in \u001b[0;36mHTTPResponse.readinto\u001b[1;34m(self, b)\u001b[0m\n\u001b[0;32m    <a href='file:///c%3A/Users/coleb/mambaforge/lib/http/client.py?line=493'>494</a>\u001b[0m     \u001b[39mreturn\u001b[39;00m \u001b[39m0\u001b[39m\n\u001b[0;32m    <a href='file:///c%3A/Users/coleb/mambaforge/lib/http/client.py?line=495'>496</a>\u001b[0m \u001b[39mif\u001b[39;00m \u001b[39mself\u001b[39m\u001b[39m.\u001b[39mchunked:\n\u001b[1;32m--> <a href='file:///c%3A/Users/coleb/mambaforge/lib/http/client.py?line=496'>497</a>\u001b[0m     \u001b[39mreturn\u001b[39;00m \u001b[39mself\u001b[39;49m\u001b[39m.\u001b[39;49m_readinto_chunked(b)\n\u001b[0;32m    <a href='file:///c%3A/Users/coleb/mambaforge/lib/http/client.py?line=498'>499</a>\u001b[0m \u001b[39mif\u001b[39;00m \u001b[39mself\u001b[39m\u001b[39m.\u001b[39mlength \u001b[39mis\u001b[39;00m \u001b[39mnot\u001b[39;00m \u001b[39mNone\u001b[39;00m:\n\u001b[0;32m    <a href='file:///c%3A/Users/coleb/mambaforge/lib/http/client.py?line=499'>500</a>\u001b[0m     \u001b[39mif\u001b[39;00m \u001b[39mlen\u001b[39m(b) \u001b[39m>\u001b[39m \u001b[39mself\u001b[39m\u001b[39m.\u001b[39mlength:\n\u001b[0;32m    <a href='file:///c%3A/Users/coleb/mambaforge/lib/http/client.py?line=500'>501</a>\u001b[0m         \u001b[39m# clip the read to the \"end of response\"\u001b[39;00m\n",
      "File \u001b[1;32mc:\\Users\\coleb\\mambaforge\\lib\\http\\client.py:592\u001b[0m, in \u001b[0;36mHTTPResponse._readinto_chunked\u001b[1;34m(self, b)\u001b[0m\n\u001b[0;32m    <a href='file:///c%3A/Users/coleb/mambaforge/lib/http/client.py?line=589'>590</a>\u001b[0m \u001b[39mtry\u001b[39;00m:\n\u001b[0;32m    <a href='file:///c%3A/Users/coleb/mambaforge/lib/http/client.py?line=590'>591</a>\u001b[0m     \u001b[39mwhile\u001b[39;00m \u001b[39mTrue\u001b[39;00m:\n\u001b[1;32m--> <a href='file:///c%3A/Users/coleb/mambaforge/lib/http/client.py?line=591'>592</a>\u001b[0m         chunk_left \u001b[39m=\u001b[39m \u001b[39mself\u001b[39;49m\u001b[39m.\u001b[39;49m_get_chunk_left()\n\u001b[0;32m    <a href='file:///c%3A/Users/coleb/mambaforge/lib/http/client.py?line=592'>593</a>\u001b[0m         \u001b[39mif\u001b[39;00m chunk_left \u001b[39mis\u001b[39;00m \u001b[39mNone\u001b[39;00m:\n\u001b[0;32m    <a href='file:///c%3A/Users/coleb/mambaforge/lib/http/client.py?line=593'>594</a>\u001b[0m             \u001b[39mreturn\u001b[39;00m total_bytes\n",
      "File \u001b[1;32mc:\\Users\\coleb\\mambaforge\\lib\\http\\client.py:560\u001b[0m, in \u001b[0;36mHTTPResponse._get_chunk_left\u001b[1;34m(self)\u001b[0m\n\u001b[0;32m    <a href='file:///c%3A/Users/coleb/mambaforge/lib/http/client.py?line=557'>558</a>\u001b[0m     \u001b[39mself\u001b[39m\u001b[39m.\u001b[39m_safe_read(\u001b[39m2\u001b[39m)  \u001b[39m# toss the CRLF at the end of the chunk\u001b[39;00m\n\u001b[0;32m    <a href='file:///c%3A/Users/coleb/mambaforge/lib/http/client.py?line=558'>559</a>\u001b[0m \u001b[39mtry\u001b[39;00m:\n\u001b[1;32m--> <a href='file:///c%3A/Users/coleb/mambaforge/lib/http/client.py?line=559'>560</a>\u001b[0m     chunk_left \u001b[39m=\u001b[39m \u001b[39mself\u001b[39;49m\u001b[39m.\u001b[39;49m_read_next_chunk_size()\n\u001b[0;32m    <a href='file:///c%3A/Users/coleb/mambaforge/lib/http/client.py?line=560'>561</a>\u001b[0m \u001b[39mexcept\u001b[39;00m \u001b[39mValueError\u001b[39;00m:\n\u001b[0;32m    <a href='file:///c%3A/Users/coleb/mambaforge/lib/http/client.py?line=561'>562</a>\u001b[0m     \u001b[39mraise\u001b[39;00m IncompleteRead(\u001b[39mb\u001b[39m\u001b[39m'\u001b[39m\u001b[39m'\u001b[39m)\n",
      "File \u001b[1;32mc:\\Users\\coleb\\mambaforge\\lib\\http\\client.py:520\u001b[0m, in \u001b[0;36mHTTPResponse._read_next_chunk_size\u001b[1;34m(self)\u001b[0m\n\u001b[0;32m    <a href='file:///c%3A/Users/coleb/mambaforge/lib/http/client.py?line=517'>518</a>\u001b[0m \u001b[39mdef\u001b[39;00m \u001b[39m_read_next_chunk_size\u001b[39m(\u001b[39mself\u001b[39m):\n\u001b[0;32m    <a href='file:///c%3A/Users/coleb/mambaforge/lib/http/client.py?line=518'>519</a>\u001b[0m     \u001b[39m# Read the next chunk size from the file\u001b[39;00m\n\u001b[1;32m--> <a href='file:///c%3A/Users/coleb/mambaforge/lib/http/client.py?line=519'>520</a>\u001b[0m     line \u001b[39m=\u001b[39m \u001b[39mself\u001b[39;49m\u001b[39m.\u001b[39;49mfp\u001b[39m.\u001b[39;49mreadline(_MAXLINE \u001b[39m+\u001b[39;49m \u001b[39m1\u001b[39;49m)\n\u001b[0;32m    <a href='file:///c%3A/Users/coleb/mambaforge/lib/http/client.py?line=520'>521</a>\u001b[0m     \u001b[39mif\u001b[39;00m \u001b[39mlen\u001b[39m(line) \u001b[39m>\u001b[39m _MAXLINE:\n\u001b[0;32m    <a href='file:///c%3A/Users/coleb/mambaforge/lib/http/client.py?line=521'>522</a>\u001b[0m         \u001b[39mraise\u001b[39;00m LineTooLong(\u001b[39m\"\u001b[39m\u001b[39mchunk size\u001b[39m\u001b[39m\"\u001b[39m)\n",
      "File \u001b[1;32mc:\\Users\\coleb\\mambaforge\\lib\\socket.py:704\u001b[0m, in \u001b[0;36mSocketIO.readinto\u001b[1;34m(self, b)\u001b[0m\n\u001b[0;32m    <a href='file:///c%3A/Users/coleb/mambaforge/lib/socket.py?line=701'>702</a>\u001b[0m \u001b[39mwhile\u001b[39;00m \u001b[39mTrue\u001b[39;00m:\n\u001b[0;32m    <a href='file:///c%3A/Users/coleb/mambaforge/lib/socket.py?line=702'>703</a>\u001b[0m     \u001b[39mtry\u001b[39;00m:\n\u001b[1;32m--> <a href='file:///c%3A/Users/coleb/mambaforge/lib/socket.py?line=703'>704</a>\u001b[0m         \u001b[39mreturn\u001b[39;00m \u001b[39mself\u001b[39;49m\u001b[39m.\u001b[39;49m_sock\u001b[39m.\u001b[39;49mrecv_into(b)\n\u001b[0;32m    <a href='file:///c%3A/Users/coleb/mambaforge/lib/socket.py?line=704'>705</a>\u001b[0m     \u001b[39mexcept\u001b[39;00m timeout:\n\u001b[0;32m    <a href='file:///c%3A/Users/coleb/mambaforge/lib/socket.py?line=705'>706</a>\u001b[0m         \u001b[39mself\u001b[39m\u001b[39m.\u001b[39m_timeout_occurred \u001b[39m=\u001b[39m \u001b[39mTrue\u001b[39;00m\n",
      "File \u001b[1;32mc:\\Users\\coleb\\mambaforge\\lib\\ssl.py:1241\u001b[0m, in \u001b[0;36mSSLSocket.recv_into\u001b[1;34m(self, buffer, nbytes, flags)\u001b[0m\n\u001b[0;32m   <a href='file:///c%3A/Users/coleb/mambaforge/lib/ssl.py?line=1236'>1237</a>\u001b[0m     \u001b[39mif\u001b[39;00m flags \u001b[39m!=\u001b[39m \u001b[39m0\u001b[39m:\n\u001b[0;32m   <a href='file:///c%3A/Users/coleb/mambaforge/lib/ssl.py?line=1237'>1238</a>\u001b[0m         \u001b[39mraise\u001b[39;00m \u001b[39mValueError\u001b[39;00m(\n\u001b[0;32m   <a href='file:///c%3A/Users/coleb/mambaforge/lib/ssl.py?line=1238'>1239</a>\u001b[0m           \u001b[39m\"\u001b[39m\u001b[39mnon-zero flags not allowed in calls to recv_into() on \u001b[39m\u001b[39m%s\u001b[39;00m\u001b[39m\"\u001b[39m \u001b[39m%\u001b[39m\n\u001b[0;32m   <a href='file:///c%3A/Users/coleb/mambaforge/lib/ssl.py?line=1239'>1240</a>\u001b[0m           \u001b[39mself\u001b[39m\u001b[39m.\u001b[39m\u001b[39m__class__\u001b[39m)\n\u001b[1;32m-> <a href='file:///c%3A/Users/coleb/mambaforge/lib/ssl.py?line=1240'>1241</a>\u001b[0m     \u001b[39mreturn\u001b[39;00m \u001b[39mself\u001b[39;49m\u001b[39m.\u001b[39;49mread(nbytes, buffer)\n\u001b[0;32m   <a href='file:///c%3A/Users/coleb/mambaforge/lib/ssl.py?line=1241'>1242</a>\u001b[0m \u001b[39melse\u001b[39;00m:\n\u001b[0;32m   <a href='file:///c%3A/Users/coleb/mambaforge/lib/ssl.py?line=1242'>1243</a>\u001b[0m     \u001b[39mreturn\u001b[39;00m \u001b[39msuper\u001b[39m()\u001b[39m.\u001b[39mrecv_into(buffer, nbytes, flags)\n",
      "File \u001b[1;32mc:\\Users\\coleb\\mambaforge\\lib\\ssl.py:1099\u001b[0m, in \u001b[0;36mSSLSocket.read\u001b[1;34m(self, len, buffer)\u001b[0m\n\u001b[0;32m   <a href='file:///c%3A/Users/coleb/mambaforge/lib/ssl.py?line=1096'>1097</a>\u001b[0m \u001b[39mtry\u001b[39;00m:\n\u001b[0;32m   <a href='file:///c%3A/Users/coleb/mambaforge/lib/ssl.py?line=1097'>1098</a>\u001b[0m     \u001b[39mif\u001b[39;00m buffer \u001b[39mis\u001b[39;00m \u001b[39mnot\u001b[39;00m \u001b[39mNone\u001b[39;00m:\n\u001b[1;32m-> <a href='file:///c%3A/Users/coleb/mambaforge/lib/ssl.py?line=1098'>1099</a>\u001b[0m         \u001b[39mreturn\u001b[39;00m \u001b[39mself\u001b[39;49m\u001b[39m.\u001b[39;49m_sslobj\u001b[39m.\u001b[39;49mread(\u001b[39mlen\u001b[39;49m, buffer)\n\u001b[0;32m   <a href='file:///c%3A/Users/coleb/mambaforge/lib/ssl.py?line=1099'>1100</a>\u001b[0m     \u001b[39melse\u001b[39;00m:\n\u001b[0;32m   <a href='file:///c%3A/Users/coleb/mambaforge/lib/ssl.py?line=1100'>1101</a>\u001b[0m         \u001b[39mreturn\u001b[39;00m \u001b[39mself\u001b[39m\u001b[39m.\u001b[39m_sslobj\u001b[39m.\u001b[39mread(\u001b[39mlen\u001b[39m)\n",
      "\u001b[1;31mKeyboardInterrupt\u001b[0m: "
     ]
    }
   ],
   "source": [
    "run sentimentlistener.py \"#Macron\" 20"
   ]
  },
  {
   "cell_type": "markdown",
   "metadata": {},
   "source": [
    "### Sentiment Listener Topic 2"
   ]
  },
  {
   "cell_type": "code",
   "execution_count": null,
   "metadata": {},
   "outputs": [
    {
     "name": "stdout",
     "output_type": "stream",
     "text": [
      "+ mellohayl: dream saying that ranboo talking about being unlabeled was really validating LET ME GO CRY\n",
      "\n",
      "  beloved_natalia: DREAM AND RANBOO CRUMBS\n",
      "\n",
      "- bbygnf: dream saying he felt validated by ranboo excuse me while i SOB MY FUCKING EYES OUT 😭💗💗💗\n",
      "\n",
      "  Mistoazt: @Rosemybeloved_ RANBOO CAME OUT\n",
      "\n",
      "+ patito4k: what a great day to be unlabeled. SO PROUD OF YOU RANBOO 💗\n",
      "\n",
      "+ dogIove24: @dreamsecretclub SO TRUE!! im so proud of ranboo\n",
      "\n",
      "+ karlseuphoria: I MISSED THE ANNOUNCEMENT BUT IM SO PROUD OF RANBOO OHMMYOGD\n",
      "\n",
      "  gnfs4k: RANBOO AND DREAM 🥹🥹🥹🥹❤️❤️❤️❤️❤️\n",
      "\n",
      "  purple_sockss: @dreamsecretclub go ranboo go\n",
      "\n",
      "+ incelbr: ranboo Coming out gave me whiplash like I completely forgot LGBTQ's were real\n",
      "\n",
      "+ kaylaXcorpse: @dreamsecretclub Love for ranboo &lt;33\n",
      "\n",
      "- euthymiapIane: MCYT DSMP RANBOO IS GAY IM SORRY I DONT REALLY CARE BUT THATS CRAZY\n",
      "\n",
      "+ darlenedytee: i am fucking sobbing dream you whore i lovw you so much how could you do tihs to me i am so proud of you and ranboo…\n",
      "\n",
      "+ planet_marss_: OH RANBOO LIKE ACTUALLY CAME OUT?? HOLY SHIT THATS AWESOME SO PROUD OF HIM !!\n",
      "\n",
      "  outroquack: DID RANBOO COME OUT GUYS?)3$:?\n",
      "\n",
      "  itsguila: ranboo is trending what did i miss?\n",
      "\n",
      "+ perfumedwt: @dreamsecretclub we love you and ranboo 💖💖 unlabeledduo\n",
      "\n",
      "+ boosophboo: @dreamsecretclub you and ranboo are so awesome and valid, much love &lt;3\n",
      "\n",
      "+ notsimpnap: @dreamsecretclub you deserve the same love and support ranboo is getting always proud of you king\n",
      "\n",
      "- finnislive: Dreams responce to Ranboo coming out :,( i’m so sad but like /pos if that makes sense\n",
      "\n",
      "Tweet sentiment for \"Ranboo\"\n",
      "Positive: 11\n",
      " Neutral: 6\n",
      "Negative: 3\n"
     ]
    }
   ],
   "source": [
    "run sentimentlistener.py \"Ranboo\" 20"
   ]
  },
  {
   "cell_type": "markdown",
   "metadata": {},
   "source": [
    "### Sentiment Listener Topic 3"
   ]
  },
  {
   "cell_type": "code",
   "execution_count": null,
   "metadata": {},
   "outputs": [
    {
     "name": "stdout",
     "output_type": "stream",
     "text": [
      "  AVR19741: @MiaCathell @JZubosky @Jack_Petocz @Publix Oh please. You demeaned his work, just take the L on this and move on.\n",
      "\n",
      "+ DalyKenan: @Jack_Petocz @Publix It’s not the Dint say gay bill, that is a fiction.\n",
      "\n",
      "  Lorigoldst: @Jack_Petocz @grampage_on @Publix I stopped shopping at Publix when I saw they were big contributors for 2nd Amendm…\n",
      "\n",
      "  trudy_mcquiston: @klmcgee1978 @ProudTwinkie @TaylorLorenz Publix hires at 14.\n",
      "\n",
      "  red_nov3: @AdamSchiavone @TimRunsHisMouth @Jack_Petocz @Publix “The party of working people?” So workers belong to one party…\n",
      "\n",
      "+ SharkeyTim: @Jack_Petocz @Publix So brave. Yet so ignorant.\n",
      "\n",
      "+ CircusHypocrisy: @Jack_Petocz @Publix Public is great. They’ll figure out a way to hire another $10 per hour overly sensitive and fragile cashier boy.\n",
      "\n",
      "  JerseyMade93: Oh Publix racists\n",
      "\n",
      "  Garyknowsitall: @davidhogg111 @ChristinaPushaw Jack started working at Publix when he was 13? Doubt it. Either way, youth is no fre…\n",
      "\n",
      "  AdamMathisFL: @exjon Have it had their sammiches? Publix could rule the world if they had enough bread.\n",
      "\n",
      "  TNJeffro: @yaluus @deekotheweek @wagner_rob @DearAuntCrabby @Publix While I don't necessarily disagree with that assessment,…\n",
      "\n",
      "+ AVR19741: @RealJacobPerry @Jack_Petocz @Publix What’s wrong with that kind of job?\n",
      "\n",
      "- zoeellemadison: @Jack_Petocz @Publix You are a high school student. I find this tweet hard to believe. Did you start working there…\n",
      "\n",
      "+ DickWolfU: @cary_cary6 @TexasToe @Diaboli20287766 @TimRunsHisMouth @Jack_Petocz @Publix Wow, you're really wrong, and so confident about it.\n",
      "\n",
      "- SoggyMoss11: @Jack_Petocz @Publix There is no such named Bill so..... you are an idiot.\n",
      "\n",
      "+ nunleymitch: @Jack_Petocz @Publix Thanks for letting us know. I’ll go by and spend even more money at Publix as soon as possible. #DeSantis2024\n",
      "\n",
      "  AVR19741: @SarcasticCupcak @RealJacobPerry @Jack_Petocz @Publix There’s 3.6% unemployment man, he can get another job in a second.\n",
      "\n",
      "  dammitkarma: @TimRunsHisMouth @benshapiro @Jack_Petocz @Publix im thankful for rice krispies\n",
      "\n",
      "  ElctrcTrtleLnd: @ChristinaPushaw Publix isn't publicly traded though\n",
      "\n",
      "+ dddonnnaaa: @dajohns13 @AdamInHTownTX @Jack_Petocz @Publix I really don’t think the problem is what republicans are making it o…\n",
      "\n",
      "Tweet sentiment for \"Publix\"\n",
      "Positive: 7\n",
      " Neutral: 11\n",
      "Negative: 2\n"
     ]
    }
   ],
   "source": [
    "run sentimentlistener.py \"Publix\" 20"
   ]
  },
  {
   "cell_type": "code",
   "execution_count": null,
   "metadata": {},
   "outputs": [
    {
     "data": {
      "text/html": [
       "<div>\n",
       "<style scoped>\n",
       "    .dataframe tbody tr th:only-of-type {\n",
       "        vertical-align: middle;\n",
       "    }\n",
       "\n",
       "    .dataframe tbody tr th {\n",
       "        vertical-align: top;\n",
       "    }\n",
       "\n",
       "    .dataframe thead th {\n",
       "        text-align: right;\n",
       "    }\n",
       "</style>\n",
       "<table border=\"1\" class=\"dataframe\">\n",
       "  <thead>\n",
       "    <tr style=\"text-align: right;\">\n",
       "      <th></th>\n",
       "      <th>Positive</th>\n",
       "      <th>Neutral</th>\n",
       "      <th>Negative</th>\n",
       "    </tr>\n",
       "  </thead>\n",
       "  <tbody>\n",
       "    <tr>\n",
       "      <th>0</th>\n",
       "      <td>15</td>\n",
       "      <td>4</td>\n",
       "      <td>1</td>\n",
       "    </tr>\n",
       "  </tbody>\n",
       "</table>\n",
       "</div>"
      ],
      "text/plain": [
       "   Positive  Neutral  Negative\n",
       "0        15        4         1"
      ]
     },
     "execution_count": 502,
     "metadata": {},
     "output_type": "execute_result"
    }
   ],
   "source": [
    "dftrend1 = pd.DataFrame({'Positive' : [15],\n",
    "'Neutral' : [4],\n",
    "'Negative' : [1]})\n",
    "dftrend1.head()\n"
   ]
  },
  {
   "cell_type": "code",
   "execution_count": null,
   "metadata": {},
   "outputs": [
    {
     "data": {
      "text/html": [
       "<div>\n",
       "<style scoped>\n",
       "    .dataframe tbody tr th:only-of-type {\n",
       "        vertical-align: middle;\n",
       "    }\n",
       "\n",
       "    .dataframe tbody tr th {\n",
       "        vertical-align: top;\n",
       "    }\n",
       "\n",
       "    .dataframe thead th {\n",
       "        text-align: right;\n",
       "    }\n",
       "</style>\n",
       "<table border=\"1\" class=\"dataframe\">\n",
       "  <thead>\n",
       "    <tr style=\"text-align: right;\">\n",
       "      <th></th>\n",
       "      <th>Positive</th>\n",
       "      <th>Neutral</th>\n",
       "      <th>Negative</th>\n",
       "    </tr>\n",
       "  </thead>\n",
       "  <tbody>\n",
       "    <tr>\n",
       "      <th>0</th>\n",
       "      <td>11</td>\n",
       "      <td>6</td>\n",
       "      <td>3</td>\n",
       "    </tr>\n",
       "  </tbody>\n",
       "</table>\n",
       "</div>"
      ],
      "text/plain": [
       "   Positive  Neutral  Negative\n",
       "0        11        6         3"
      ]
     },
     "execution_count": 503,
     "metadata": {},
     "output_type": "execute_result"
    }
   ],
   "source": [
    "dftrend2 = pd.DataFrame({'Positive' : [11],\n",
    "'Neutral' : [6],\n",
    "'Negative' : [3]})\n",
    "dftrend2.head()\n"
   ]
  },
  {
   "cell_type": "code",
   "execution_count": null,
   "metadata": {},
   "outputs": [
    {
     "data": {
      "text/html": [
       "<div>\n",
       "<style scoped>\n",
       "    .dataframe tbody tr th:only-of-type {\n",
       "        vertical-align: middle;\n",
       "    }\n",
       "\n",
       "    .dataframe tbody tr th {\n",
       "        vertical-align: top;\n",
       "    }\n",
       "\n",
       "    .dataframe thead th {\n",
       "        text-align: right;\n",
       "    }\n",
       "</style>\n",
       "<table border=\"1\" class=\"dataframe\">\n",
       "  <thead>\n",
       "    <tr style=\"text-align: right;\">\n",
       "      <th></th>\n",
       "      <th>Positive</th>\n",
       "      <th>Neutral</th>\n",
       "      <th>Negative</th>\n",
       "    </tr>\n",
       "  </thead>\n",
       "  <tbody>\n",
       "    <tr>\n",
       "      <th>0</th>\n",
       "      <td>7</td>\n",
       "      <td>11</td>\n",
       "      <td>2</td>\n",
       "    </tr>\n",
       "  </tbody>\n",
       "</table>\n",
       "</div>"
      ],
      "text/plain": [
       "   Positive  Neutral  Negative\n",
       "0         7       11         2"
      ]
     },
     "execution_count": 504,
     "metadata": {},
     "output_type": "execute_result"
    }
   ],
   "source": [
    "dftrend3 = pd.DataFrame({'Positive' : [7],\n",
    "'Neutral' : [11],\n",
    "'Negative' : [2]})\n",
    "dftrend3.head()\n",
    "#dftrend1.to_csv('dfs.csv', index = False)"
   ]
  },
  {
   "cell_type": "code",
   "execution_count": null,
   "metadata": {},
   "outputs": [
    {
     "data": {
      "text/plain": [
       "<AxesSubplot:title={'center':'#1 Trend in San Antonio'}, xlabel='Trends', ylabel='Count'>"
      ]
     },
     "execution_count": 505,
     "metadata": {},
     "output_type": "execute_result"
    },
    {
     "data": {
      "image/png": "[encoded data removed]",
      "text/plain": [
       "<Figure size 720x648 with 1 Axes>"
      ]
     },
     "metadata": {},
     "output_type": "display_data"
    }
   ],
   "source": [
    "dftrend1.plot(kind=\"bar\",\n",
    " figsize=(10, 9),\n",
    "  xlabel=\"Trends\",\n",
    "   ylabel=\"Count\",\n",
    "    title=\"#1 Trend in San Antonio\")"
   ]
  },
  {
   "cell_type": "code",
   "execution_count": null,
   "metadata": {},
   "outputs": [
    {
     "data": {
      "text/plain": [
       "<AxesSubplot:title={'center':'#2 Trend in San Antonio'}, xlabel='Trends', ylabel='Count'>"
      ]
     },
     "execution_count": 506,
     "metadata": {},
     "output_type": "execute_result"
    },
    {
     "data": {
      "image/png": "[encoded data removed]",
      "text/plain": [
       "<Figure size 720x648 with 1 Axes>"
      ]
     },
     "metadata": {},
     "output_type": "display_data"
    }
   ],
   "source": [
    "dftrend2.plot(kind=\"bar\",\n",
    " figsize=(10, 9),\n",
    "  xlabel=\"Trends\",\n",
    "   ylabel=\"Count\",\n",
    "    title=\"#2 Trend in San Antonio\")"
   ]
  },
  {
   "cell_type": "code",
   "execution_count": null,
   "metadata": {},
   "outputs": [
    {
     "data": {
      "text/plain": [
       "<AxesSubplot:title={'center':'#3 Trend in San Antonio'}, xlabel='Trends', ylabel='Count'>"
      ]
     },
     "execution_count": 507,
     "metadata": {},
     "output_type": "execute_result"
    },
    {
     "data": {
      "image/png": "[encoded data removed]",
      "text/plain": [
       "<Figure size 720x648 with 1 Axes>"
      ]
     },
     "metadata": {},
     "output_type": "display_data"
    }
   ],
   "source": [
    "dftrend3.plot(kind=\"bar\",\n",
    " figsize=(10, 9),\n",
    "  xlabel=\"Trends\",\n",
    "   ylabel=\"Count\",\n",
    "    title=\"#3 Trend in San Antonio\")"
   ]
  },
  {
   "cell_type": "markdown",
   "metadata": {},
   "source": [
    "## Geocoding"
   ]
  },
  {
   "cell_type": "code",
   "execution_count": 84,
   "metadata": {},
   "outputs": [],
   "source": [
    "import os\n",
    "from geopy import OpenMapQuest"
   ]
  },
  {
   "cell_type": "code",
   "execution_count": 85,
   "metadata": {},
   "outputs": [],
   "source": [
    "geo = OpenMapQuest(api_key=os.environ['GeoCK'])\n",
    "locations = ['222 Eastern Pkwy, Louisville, KY 40208',\n",
    "             '440 N Whittington Pkwy, Louisville, KY 40222',\n",
    "             'El Alamein، Egypt']\n",
    "geo_locations = []\n",
    "for loc in locations:\n",
    "    geo_locations.append(geo.geocode(loc))"
   ]
  },
  {
   "cell_type": "code",
   "execution_count": 86,
   "metadata": {},
   "outputs": [
    {
     "data": {
      "text/plain": [
       "[Location(Duthie Center for Engineering, 222, Eastern Parkway, Louisville, Jefferson County, Kentucky, 40208, United States of America, (38.21264035, -85.7608605714874, 0.0)),\n",
       " Location(Burhans Hall, 440, North Whittington Parkway, Hurstbourne, Jefferson County, Kentucky, 40222, United States of America, (38.25334785, -85.5843224594185, 0.0)),\n",
       " Location(العلمين, مطروح, مصر, (30.833944, 28.949268, 0.0))]"
      ]
     },
     "execution_count": 86,
     "metadata": {},
     "output_type": "execute_result"
    }
   ],
   "source": [
    "geo_locations"
   ]
  },
  {
   "cell_type": "code",
   "execution_count": 87,
   "metadata": {},
   "outputs": [],
   "source": [
    "from tweetutilities import get_tweepy_API"
   ]
  },
  {
   "cell_type": "code",
   "execution_count": 88,
   "metadata": {},
   "outputs": [],
   "source": [
    "api = get_tweepy_API()"
   ]
  },
  {
   "cell_type": "code",
   "execution_count": 89,
   "metadata": {},
   "outputs": [],
   "source": [
    "tweets = [] \n",
    "counts = {'total_tweets': 0, 'locations': 0}\n"
   ]
  },
  {
   "cell_type": "markdown",
   "metadata": {},
   "source": [
    "### Location Listener"
   ]
  },
  {
   "cell_type": "code",
   "execution_count": 90,
   "metadata": {},
   "outputs": [],
   "source": [
    "from locationlistener import LocationListener"
   ]
  },
  {
   "cell_type": "code",
   "execution_count": 91,
   "metadata": {},
   "outputs": [],
   "source": [
    "location_listener = LocationListener(api, counts_dict=counts, \n",
    "    tweets_list=tweets, topic='Will Smith', limit=150)"
   ]
  },
  {
   "cell_type": "code",
   "execution_count": 92,
   "metadata": {},
   "outputs": [],
   "source": [
    "stream = tweepy.Stream(auth=api.auth, listener=location_listener)"
   ]
  },
  {
   "cell_type": "code",
   "execution_count": 93,
   "metadata": {},
   "outputs": [
    {
     "name": "stdout",
     "output_type": "stream",
     "text": [
      "rmossconti: being able to recall various hilarious Will Smith rap lines is both a gift and a curse but can proudly say I’ve got… https://t.co/ehyZctJ2Ad\n",
      "\n",
      "Mangakiko12: Steve Harvey has choice words for Will Smith after he slapped Chris Rock at the Oscars https://t.co/B1zWhNzJx6\n",
      "\n",
      "balogunjide1: OK, Will Smith went too far, slapping Chris Rock with the whole world watching. But should he continue to be punish… https://t.co/5UPSt34c5Z\n",
      "\n"
     ]
    }
   ],
   "source": [
    "stream.filter(track=['Will Smith'], languages=['en'], is_async=False)"
   ]
  },
  {
   "cell_type": "code",
   "execution_count": null,
   "metadata": {},
   "outputs": [
    {
     "data": {
      "text/plain": [
       "8"
      ]
     },
     "execution_count": 322,
     "metadata": {},
     "output_type": "execute_result"
    }
   ],
   "source": [
    "counts['total_tweets'] #total tweets examined"
   ]
  },
  {
   "cell_type": "code",
   "execution_count": null,
   "metadata": {},
   "outputs": [
    {
     "data": {
      "text/plain": [
       "4"
      ]
     },
     "execution_count": 323,
     "metadata": {},
     "output_type": "execute_result"
    }
   ],
   "source": [
    "counts['locations'] #tweets kept (should match # for LocationListener limit UNLESS there was a timeout)"
   ]
  },
  {
   "cell_type": "code",
   "execution_count": null,
   "metadata": {},
   "outputs": [
    {
     "name": "stdout",
     "output_type": "stream",
     "text": [
      "50.0%\n"
     ]
    }
   ],
   "source": [
    "print(f'{counts[\"locations\"] / counts[\"total_tweets\"]:.1%}') # % tweets that had locations"
   ]
  },
  {
   "cell_type": "code",
   "execution_count": null,
   "metadata": {},
   "outputs": [],
   "source": [
    "from tweetutilities import get_geocodes"
   ]
  },
  {
   "cell_type": "code",
   "execution_count": null,
   "metadata": {},
   "outputs": [
    {
     "name": "stdout",
     "output_type": "stream",
     "text": [
      "Getting coordinates for tweet locations...\n",
      "Done geocoding\n"
     ]
    }
   ],
   "source": [
    "tweet_locations_fail = get_geocodes(tweets)"
   ]
  },
  {
   "cell_type": "code",
   "execution_count": null,
   "metadata": {},
   "outputs": [
    {
     "data": {
      "text/plain": [
       "1"
      ]
     },
     "execution_count": 471,
     "metadata": {},
     "output_type": "execute_result"
    }
   ],
   "source": [
    "tweet_locations_fail"
   ]
  },
  {
   "cell_type": "code",
   "execution_count": null,
   "metadata": {},
   "outputs": [
    {
     "name": "stdout",
     "output_type": "stream",
     "text": [
      "25.0% of the locations could not be deciphered.\n"
     ]
    }
   ],
   "source": [
    "print(f'{tweet_locations_fail / counts[\"locations\"]:.1%} of the locations could not be deciphered.')"
   ]
  },
  {
   "cell_type": "markdown",
   "metadata": {},
   "source": [
    "### Location Listener DataFrame"
   ]
  },
  {
   "cell_type": "code",
   "execution_count": null,
   "metadata": {},
   "outputs": [],
   "source": [
    "import pandas as pd"
   ]
  },
  {
   "cell_type": "code",
   "execution_count": null,
   "metadata": {},
   "outputs": [],
   "source": [
    "dft2 = pd.DataFrame(tweets)\n",
    "dft = pd.DataFrame(tweets)"
   ]
  },
  {
   "cell_type": "code",
   "execution_count": null,
   "metadata": {},
   "outputs": [
    {
     "name": "stdout",
     "output_type": "stream",
     "text": [
      "<class 'pandas.core.frame.DataFrame'>\n",
      "RangeIndex: 4 entries, 0 to 3\n",
      "Data columns (total 3 columns):\n",
      " #   Column       Non-Null Count  Dtype \n",
      "---  ------       --------------  ----- \n",
      " 0   screen_name  4 non-null      object\n",
      " 1   text         4 non-null      object\n",
      " 2   location     4 non-null      object\n",
      "dtypes: object(3)\n",
      "memory usage: 224.0+ bytes\n"
     ]
    }
   ],
   "source": [
    "dft.info()"
   ]
  },
  {
   "cell_type": "code",
   "execution_count": null,
   "metadata": {},
   "outputs": [
    {
     "data": {
      "text/html": [
       "<div>\n",
       "<style scoped>\n",
       "    .dataframe tbody tr th:only-of-type {\n",
       "        vertical-align: middle;\n",
       "    }\n",
       "\n",
       "    .dataframe tbody tr th {\n",
       "        vertical-align: top;\n",
       "    }\n",
       "\n",
       "    .dataframe thead th {\n",
       "        text-align: right;\n",
       "    }\n",
       "</style>\n",
       "<table border=\"1\" class=\"dataframe\">\n",
       "  <thead>\n",
       "    <tr style=\"text-align: right;\">\n",
       "      <th></th>\n",
       "      <th>screen_name</th>\n",
       "      <th>text</th>\n",
       "      <th>location</th>\n",
       "    </tr>\n",
       "  </thead>\n",
       "  <tbody>\n",
       "    <tr>\n",
       "      <th>0</th>\n",
       "      <td>therealjayber</td>\n",
       "      <td>Imagine the kind of spellbinding power that Ja...</td>\n",
       "      <td>Tweet Smarter. Grow Faster. 👉</td>\n",
       "    </tr>\n",
       "    <tr>\n",
       "      <th>1</th>\n",
       "      <td>chomps443</td>\n",
       "      <td>@LeafyIsHere Will Smith should be white</td>\n",
       "      <td>The motion of the Ocean</td>\n",
       "    </tr>\n",
       "    <tr>\n",
       "      <th>2</th>\n",
       "      <td>biplov_jha</td>\n",
       "      <td>What have we learned from Will Smith and Johnn...</td>\n",
       "      <td>Nepal</td>\n",
       "    </tr>\n",
       "    <tr>\n",
       "      <th>3</th>\n",
       "      <td>KassAssassin</td>\n",
       "      <td>I know his is ridiculous, but what upsets me t...</td>\n",
       "      <td>Brooklyn, NY</td>\n",
       "    </tr>\n",
       "  </tbody>\n",
       "</table>\n",
       "</div>"
      ],
      "text/plain": [
       "     screen_name                                               text  \\\n",
       "0  therealjayber  Imagine the kind of spellbinding power that Ja...   \n",
       "1      chomps443            @LeafyIsHere Will Smith should be white   \n",
       "2     biplov_jha  What have we learned from Will Smith and Johnn...   \n",
       "3   KassAssassin  I know his is ridiculous, but what upsets me t...   \n",
       "\n",
       "                        location  \n",
       "0  Tweet Smarter. Grow Faster. 👉  \n",
       "1        The motion of the Ocean  \n",
       "2                          Nepal  \n",
       "3                   Brooklyn, NY  "
      ]
     },
     "execution_count": 577,
     "metadata": {},
     "output_type": "execute_result"
    }
   ],
   "source": [
    "dft.head()"
   ]
  },
  {
   "cell_type": "code",
   "execution_count": null,
   "metadata": {},
   "outputs": [],
   "source": [
    "dft = dft.dropna()"
   ]
  },
  {
   "cell_type": "code",
   "execution_count": null,
   "metadata": {},
   "outputs": [
    {
     "data": {
      "text/html": [
       "<div>\n",
       "<style scoped>\n",
       "    .dataframe tbody tr th:only-of-type {\n",
       "        vertical-align: middle;\n",
       "    }\n",
       "\n",
       "    .dataframe tbody tr th {\n",
       "        vertical-align: top;\n",
       "    }\n",
       "\n",
       "    .dataframe thead th {\n",
       "        text-align: right;\n",
       "    }\n",
       "</style>\n",
       "<table border=\"1\" class=\"dataframe\">\n",
       "  <thead>\n",
       "    <tr style=\"text-align: right;\">\n",
       "      <th></th>\n",
       "      <th>screen_name</th>\n",
       "      <th>text</th>\n",
       "      <th>location</th>\n",
       "    </tr>\n",
       "  </thead>\n",
       "  <tbody>\n",
       "    <tr>\n",
       "      <th>0</th>\n",
       "      <td>therealjayber</td>\n",
       "      <td>Imagine the kind of spellbinding power that Ja...</td>\n",
       "      <td>Tweet Smarter. Grow Faster. 👉</td>\n",
       "    </tr>\n",
       "    <tr>\n",
       "      <th>1</th>\n",
       "      <td>chomps443</td>\n",
       "      <td>@LeafyIsHere Will Smith should be white</td>\n",
       "      <td>The motion of the Ocean</td>\n",
       "    </tr>\n",
       "    <tr>\n",
       "      <th>2</th>\n",
       "      <td>biplov_jha</td>\n",
       "      <td>What have we learned from Will Smith and Johnn...</td>\n",
       "      <td>Nepal</td>\n",
       "    </tr>\n",
       "    <tr>\n",
       "      <th>3</th>\n",
       "      <td>KassAssassin</td>\n",
       "      <td>I know his is ridiculous, but what upsets me t...</td>\n",
       "      <td>Brooklyn, NY</td>\n",
       "    </tr>\n",
       "  </tbody>\n",
       "</table>\n",
       "</div>"
      ],
      "text/plain": [
       "     screen_name                                               text  \\\n",
       "0  therealjayber  Imagine the kind of spellbinding power that Ja...   \n",
       "1      chomps443            @LeafyIsHere Will Smith should be white   \n",
       "2     biplov_jha  What have we learned from Will Smith and Johnn...   \n",
       "3   KassAssassin  I know his is ridiculous, but what upsets me t...   \n",
       "\n",
       "                        location  \n",
       "0  Tweet Smarter. Grow Faster. 👉  \n",
       "1        The motion of the Ocean  \n",
       "2                          Nepal  \n",
       "3                   Brooklyn, NY  "
      ]
     },
     "execution_count": 579,
     "metadata": {},
     "output_type": "execute_result"
    }
   ],
   "source": [
    "dft.head()"
   ]
  },
  {
   "cell_type": "code",
   "execution_count": null,
   "metadata": {},
   "outputs": [
    {
     "name": "stdout",
     "output_type": "stream",
     "text": [
      "<class 'pandas.core.frame.DataFrame'>\n",
      "RangeIndex: 4 entries, 0 to 3\n",
      "Data columns (total 3 columns):\n",
      " #   Column       Non-Null Count  Dtype \n",
      "---  ------       --------------  ----- \n",
      " 0   screen_name  4 non-null      object\n",
      " 1   text         4 non-null      object\n",
      " 2   location     4 non-null      object\n",
      "dtypes: object(3)\n",
      "memory usage: 224.0+ bytes\n"
     ]
    }
   ],
   "source": [
    "dft2.info()"
   ]
  },
  {
   "cell_type": "code",
   "execution_count": null,
   "metadata": {},
   "outputs": [
    {
     "data": {
      "text/plain": [
       "(4, 3)"
      ]
     },
     "execution_count": 581,
     "metadata": {},
     "output_type": "execute_result"
    }
   ],
   "source": [
    "dft2.shape"
   ]
  },
  {
   "cell_type": "code",
   "execution_count": null,
   "metadata": {},
   "outputs": [],
   "source": [
    "dft.to_csv('dft.csv', index = False)\n",
    "dft2.to_csv('dft2.csv', index = False)"
   ]
  },
  {
   "cell_type": "markdown",
   "metadata": {},
   "source": [
    "### Map the Tweets"
   ]
  },
  {
   "cell_type": "code",
   "execution_count": null,
   "metadata": {},
   "outputs": [],
   "source": [
    "import folium"
   ]
  },
  {
   "cell_type": "code",
   "execution_count": null,
   "metadata": {},
   "outputs": [],
   "source": [
    "usmap = folium.Map(location=[39.8283, -98.5795],  # center of U.S.\n",
    "                   tiles='Stamen Terrain',\n",
    "                   zoom_start=4, detect_retina=True)"
   ]
  },
  {
   "cell_type": "code",
   "execution_count": null,
   "metadata": {},
   "outputs": [],
   "source": [
    "usmap.save('base_map.html')"
   ]
  },
  {
   "cell_type": "code",
   "execution_count": null,
   "metadata": {},
   "outputs": [
    {
     "ename": "AttributeError",
     "evalue": "'Pandas' object has no attribute 'latitude'",
     "output_type": "error",
     "traceback": [
      "\u001b[1;31m---------------------------------------------------------------------------\u001b[0m",
      "\u001b[1;31mAttributeError\u001b[0m                            Traceback (most recent call last)",
      "\u001b[1;32mg:\\My Drive\\Elvis2\\Homework Four\\CSE 590 -- Hamilton Assignment 4.ipynb Cell 303'\u001b[0m in \u001b[0;36m<module>\u001b[1;34m\u001b[0m\n\u001b[0;32m      <a href='vscode-notebook-cell:/g%3A/My%20Drive/Elvis2/Homework%20Four/CSE%20590%20--%20Hamilton%20Assignment%204.ipynb#ch0000308?line=1'>2</a>\u001b[0m text \u001b[39m=\u001b[39m \u001b[39m'\u001b[39m\u001b[39m: \u001b[39m\u001b[39m'\u001b[39m\u001b[39m.\u001b[39mjoin([t\u001b[39m.\u001b[39mscreen_name, t\u001b[39m.\u001b[39mtext])\n\u001b[0;32m      <a href='vscode-notebook-cell:/g%3A/My%20Drive/Elvis2/Homework%20Four/CSE%20590%20--%20Hamilton%20Assignment%204.ipynb#ch0000308?line=2'>3</a>\u001b[0m popup \u001b[39m=\u001b[39m folium\u001b[39m.\u001b[39mPopup(text, parse_html\u001b[39m=\u001b[39m\u001b[39mTrue\u001b[39;00m)\n\u001b[1;32m----> <a href='vscode-notebook-cell:/g%3A/My%20Drive/Elvis2/Homework%20Four/CSE%20590%20--%20Hamilton%20Assignment%204.ipynb#ch0000308?line=3'>4</a>\u001b[0m marker \u001b[39m=\u001b[39m folium\u001b[39m.\u001b[39mMarker((t\u001b[39m.\u001b[39;49mlatitude, t\u001b[39m.\u001b[39mlongitude), \n\u001b[0;32m      <a href='vscode-notebook-cell:/g%3A/My%20Drive/Elvis2/Homework%20Four/CSE%20590%20--%20Hamilton%20Assignment%204.ipynb#ch0000308?line=4'>5</a>\u001b[0m                        popup\u001b[39m=\u001b[39mpopup)\n\u001b[0;32m      <a href='vscode-notebook-cell:/g%3A/My%20Drive/Elvis2/Homework%20Four/CSE%20590%20--%20Hamilton%20Assignment%204.ipynb#ch0000308?line=5'>6</a>\u001b[0m marker\u001b[39m.\u001b[39madd_to(usmap)\n",
      "\u001b[1;31mAttributeError\u001b[0m: 'Pandas' object has no attribute 'latitude'"
     ]
    }
   ],
   "source": [
    "for t in dft.itertuples():\n",
    "    text = ': '.join([t.screen_name, t.text])\n",
    "    popup = folium.Popup(text, parse_html=True)\n",
    "    marker = folium.Marker((t.latitude, t.longitude), \n",
    "                           popup=popup)\n",
    "    marker.add_to(usmap)"
   ]
  },
  {
   "cell_type": "code",
   "execution_count": null,
   "metadata": {},
   "outputs": [],
   "source": [
    "usmap.save('tweet_map.html')"
   ]
  },
  {
   "cell_type": "code",
   "execution_count": null,
   "metadata": {},
   "outputs": [
    {
     "data": {
      "text/html": [
       "<div style=\"width:100%;\"><div style=\"position:relative;width:100%;height:0;padding-bottom:60%;\"><span style=\"color:#565656\">Make this Notebook Trusted to load map: File -> Trust Notebook</span><iframe src=\"about:blank\" style=\"position:absolute;width:100%;height:100%;left:0;top:0;border:none !important;\" data-html=%3C%21DOCTYPE%20html%3E%0A%3Chead%3E%20%20%20%20%0A%20%20%20%20%3Cmeta%20http-equiv%3D%22content-type%22%20content%3D%22text/html%3B%20charset%3DUTF-8%22%20/%3E%0A%20%20%20%20%0A%20%20%20%20%20%20%20%20%3Cscript%3E%0A%20%20%20%20%20%20%20%20%20%20%20%20L_NO_TOUCH%20%3D%20false%3B%0A%20%20%20%20%20%20%20%20%20%20%20%20L_DISABLE_3D%20%3D%20false%3B%0A%20%20%20%20%20%20%20%20%3C/script%3E%0A%20%20%20%20%0A%20%20%20%20%3Cstyle%3Ehtml%2C%20body%20%7Bwidth%3A%20100%25%3Bheight%3A%20100%25%3Bmargin%3A%200%3Bpadding%3A%200%3B%7D%3C/style%3E%0A%20%20%20%20%3Cstyle%3E%23map%20%7Bposition%3Aabsolute%3Btop%3A0%3Bbottom%3A0%3Bright%3A0%3Bleft%3A0%3B%7D%3C/style%3E%0A%20%20%20%20%3Cscript%20src%3D%22https%3A//cdn.jsdelivr.net/npm/leaflet%401.6.0/dist/leaflet.js%22%3E%3C/script%3E%0A%20%20%20%20%3Cscript%20src%3D%22https%3A//code.jquery.com/jquery-1.12.4.min.js%22%3E%3C/script%3E%0A%20%20%20%20%3Cscript%20src%3D%22https%3A//maxcdn.bootstrapcdn.com/bootstrap/3.2.0/js/bootstrap.min.js%22%3E%3C/script%3E%0A%20%20%20%20%3Cscript%20src%3D%22https%3A//cdnjs.cloudflare.com/ajax/libs/Leaflet.awesome-markers/2.0.2/leaflet.awesome-markers.js%22%3E%3C/script%3E%0A%20%20%20%20%3Clink%20rel%3D%22stylesheet%22%20href%3D%22https%3A//cdn.jsdelivr.net/npm/leaflet%401.6.0/dist/leaflet.css%22/%3E%0A%20%20%20%20%3Clink%20rel%3D%22stylesheet%22%20href%3D%22https%3A//maxcdn.bootstrapcdn.com/bootstrap/3.2.0/css/bootstrap.min.css%22/%3E%0A%20%20%20%20%3Clink%20rel%3D%22stylesheet%22%20href%3D%22https%3A//maxcdn.bootstrapcdn.com/bootstrap/3.2.0/css/bootstrap-theme.min.css%22/%3E%0A%20%20%20%20%3Clink%20rel%3D%22stylesheet%22%20href%3D%22https%3A//maxcdn.bootstrapcdn.com/font-awesome/4.6.3/css/font-awesome.min.css%22/%3E%0A%20%20%20%20%3Clink%20rel%3D%22stylesheet%22%20href%3D%22https%3A//cdnjs.cloudflare.com/ajax/libs/Leaflet.awesome-markers/2.0.2/leaflet.awesome-markers.css%22/%3E%0A%20%20%20%20%3Clink%20rel%3D%22stylesheet%22%20href%3D%22https%3A//cdn.jsdelivr.net/gh/python-visualization/folium/folium/templates/leaflet.awesome.rotate.min.css%22/%3E%0A%20%20%20%20%0A%20%20%20%20%20%20%20%20%20%20%20%20%3Cmeta%20name%3D%22viewport%22%20content%3D%22width%3Ddevice-width%2C%0A%20%20%20%20%20%20%20%20%20%20%20%20%20%20%20%20initial-scale%3D1.0%2C%20maximum-scale%3D1.0%2C%20user-scalable%3Dno%22%20/%3E%0A%20%20%20%20%20%20%20%20%20%20%20%20%3Cstyle%3E%0A%20%20%20%20%20%20%20%20%20%20%20%20%20%20%20%20%23map_15adbad4fdfc4f9fb188eb63bbc59f1e%20%7B%0A%20%20%20%20%20%20%20%20%20%20%20%20%20%20%20%20%20%20%20%20position%3A%20relative%3B%0A%20%20%20%20%20%20%20%20%20%20%20%20%20%20%20%20%20%20%20%20width%3A%20100.0%25%3B%0A%20%20%20%20%20%20%20%20%20%20%20%20%20%20%20%20%20%20%20%20height%3A%20100.0%25%3B%0A%20%20%20%20%20%20%20%20%20%20%20%20%20%20%20%20%20%20%20%20left%3A%200.0%25%3B%0A%20%20%20%20%20%20%20%20%20%20%20%20%20%20%20%20%20%20%20%20top%3A%200.0%25%3B%0A%20%20%20%20%20%20%20%20%20%20%20%20%20%20%20%20%7D%0A%20%20%20%20%20%20%20%20%20%20%20%20%3C/style%3E%0A%20%20%20%20%20%20%20%20%0A%3C/head%3E%0A%3Cbody%3E%20%20%20%20%0A%20%20%20%20%0A%20%20%20%20%20%20%20%20%20%20%20%20%3Cdiv%20class%3D%22folium-map%22%20id%3D%22map_15adbad4fdfc4f9fb188eb63bbc59f1e%22%20%3E%3C/div%3E%0A%20%20%20%20%20%20%20%20%0A%3C/body%3E%0A%3Cscript%3E%20%20%20%20%0A%20%20%20%20%0A%20%20%20%20%20%20%20%20%20%20%20%20var%20map_15adbad4fdfc4f9fb188eb63bbc59f1e%20%3D%20L.map%28%0A%20%20%20%20%20%20%20%20%20%20%20%20%20%20%20%20%22map_15adbad4fdfc4f9fb188eb63bbc59f1e%22%2C%0A%20%20%20%20%20%20%20%20%20%20%20%20%20%20%20%20%7B%0A%20%20%20%20%20%20%20%20%20%20%20%20%20%20%20%20%20%20%20%20center%3A%20%5B39.8283%2C%20-98.5795%5D%2C%0A%20%20%20%20%20%20%20%20%20%20%20%20%20%20%20%20%20%20%20%20crs%3A%20L.CRS.EPSG3857%2C%0A%20%20%20%20%20%20%20%20%20%20%20%20%20%20%20%20%20%20%20%20zoom%3A%204%2C%0A%20%20%20%20%20%20%20%20%20%20%20%20%20%20%20%20%20%20%20%20zoomControl%3A%20true%2C%0A%20%20%20%20%20%20%20%20%20%20%20%20%20%20%20%20%20%20%20%20preferCanvas%3A%20false%2C%0A%20%20%20%20%20%20%20%20%20%20%20%20%20%20%20%20%20%20%20%20detectRetina%3A%20true%2C%0A%20%20%20%20%20%20%20%20%20%20%20%20%20%20%20%20%7D%0A%20%20%20%20%20%20%20%20%20%20%20%20%29%3B%0A%0A%20%20%20%20%20%20%20%20%20%20%20%20%0A%0A%20%20%20%20%20%20%20%20%0A%20%20%20%20%0A%20%20%20%20%20%20%20%20%20%20%20%20var%20tile_layer_767db9b311654887b61dcc538d19be86%20%3D%20L.tileLayer%28%0A%20%20%20%20%20%20%20%20%20%20%20%20%20%20%20%20%22https%3A//stamen-tiles-%7Bs%7D.a.ssl.fastly.net/terrain/%7Bz%7D/%7Bx%7D/%7By%7D.jpg%22%2C%0A%20%20%20%20%20%20%20%20%20%20%20%20%20%20%20%20%7B%22attribution%22%3A%20%22Map%20tiles%20by%20%5Cu003ca%20href%3D%5C%22http%3A//stamen.com%5C%22%5Cu003eStamen%20Design%5Cu003c/a%5Cu003e%2C%20under%20%5Cu003ca%20href%3D%5C%22http%3A//creativecommons.org/licenses/by/3.0%5C%22%5Cu003eCC%20BY%203.0%5Cu003c/a%5Cu003e.%20Data%20by%20%5Cu0026copy%3B%20%5Cu003ca%20href%3D%5C%22http%3A//openstreetmap.org%5C%22%5Cu003eOpenStreetMap%5Cu003c/a%5Cu003e%2C%20under%20%5Cu003ca%20href%3D%5C%22http%3A//creativecommons.org/licenses/by-sa/3.0%5C%22%5Cu003eCC%20BY%20SA%5Cu003c/a%5Cu003e.%22%2C%20%22detectRetina%22%3A%20false%2C%20%22maxNativeZoom%22%3A%2018%2C%20%22maxZoom%22%3A%2018%2C%20%22minZoom%22%3A%200%2C%20%22noWrap%22%3A%20false%2C%20%22opacity%22%3A%201%2C%20%22subdomains%22%3A%20%22abc%22%2C%20%22tms%22%3A%20false%7D%0A%20%20%20%20%20%20%20%20%20%20%20%20%29.addTo%28map_15adbad4fdfc4f9fb188eb63bbc59f1e%29%3B%0A%20%20%20%20%20%20%20%20%0A%20%20%20%20%0A%20%20%20%20%20%20%20%20%20%20%20%20var%20marker_c5469d39413e4bc6b01a9daf8276e508%20%3D%20L.marker%28%0A%20%20%20%20%20%20%20%20%20%20%20%20%20%20%20%20%5B38.9722583%2C%20-76.573454%5D%2C%0A%20%20%20%20%20%20%20%20%20%20%20%20%20%20%20%20%7B%7D%0A%20%20%20%20%20%20%20%20%20%20%20%20%29.addTo%28map_15adbad4fdfc4f9fb188eb63bbc59f1e%29%3B%0A%20%20%20%20%20%20%20%20%0A%20%20%20%20%0A%20%20%20%20%20%20%20%20var%20popup_7e17f7d1869e40ae8612f6f7f167b7c2%20%3D%20L.popup%28%7B%22maxWidth%22%3A%20%22100%25%22%7D%29%3B%0A%0A%20%20%20%20%20%20%20%20%0A%20%20%20%20%20%20%20%20%20%20%20%20var%20html_8d9ff05cb04a4b649c03f5fc9429b720%20%3D%20%24%28%60%3Cdiv%20id%3D%22html_8d9ff05cb04a4b649c03f5fc9429b720%22%20style%3D%22width%3A%20100.0%25%3B%20height%3A%20100.0%25%3B%22%3EAuntLiz171822%3A%20Will%20Smith%20Makes%20First%20Public%20Appearance%20In%20India%20Following%20His%20Infamous%20Oscars%20Slap%20https%3A//t.co/7Qhk3XBgkO%3C/div%3E%60%29%5B0%5D%3B%0A%20%20%20%20%20%20%20%20%20%20%20%20popup_7e17f7d1869e40ae8612f6f7f167b7c2.setContent%28html_8d9ff05cb04a4b649c03f5fc9429b720%29%3B%0A%20%20%20%20%20%20%20%20%0A%0A%20%20%20%20%20%20%20%20marker_c5469d39413e4bc6b01a9daf8276e508.bindPopup%28popup_7e17f7d1869e40ae8612f6f7f167b7c2%29%0A%20%20%20%20%20%20%20%20%3B%0A%0A%20%20%20%20%20%20%20%20%0A%20%20%20%20%0A%20%20%20%20%0A%20%20%20%20%20%20%20%20%20%20%20%20var%20marker_08137a98c7354c3286100653e826ff12%20%3D%20L.marker%28%0A%20%20%20%20%20%20%20%20%20%20%20%20%20%20%20%20%5B40.0757384%2C%20-74.4041622%5D%2C%0A%20%20%20%20%20%20%20%20%20%20%20%20%20%20%20%20%7B%7D%0A%20%20%20%20%20%20%20%20%20%20%20%20%29.addTo%28map_15adbad4fdfc4f9fb188eb63bbc59f1e%29%3B%0A%20%20%20%20%20%20%20%20%0A%20%20%20%20%0A%20%20%20%20%20%20%20%20var%20popup_5975fac031ca491abcf327a07b63c7dc%20%3D%20L.popup%28%7B%22maxWidth%22%3A%20%22100%25%22%7D%29%3B%0A%0A%20%20%20%20%20%20%20%20%0A%20%20%20%20%20%20%20%20%20%20%20%20var%20html_7c49a7b701774b5d808373391599e583%20%3D%20%24%28%60%3Cdiv%20id%3D%22html_7c49a7b701774b5d808373391599e583%22%20style%3D%22width%3A%20100.0%25%3B%20height%3A%20100.0%25%3B%22%3EXboxMurda%3A%20%40nojumper%20Will%20Smith%20the%20Legend%3C/div%3E%60%29%5B0%5D%3B%0A%20%20%20%20%20%20%20%20%20%20%20%20popup_5975fac031ca491abcf327a07b63c7dc.setContent%28html_7c49a7b701774b5d808373391599e583%29%3B%0A%20%20%20%20%20%20%20%20%0A%0A%20%20%20%20%20%20%20%20marker_08137a98c7354c3286100653e826ff12.bindPopup%28popup_5975fac031ca491abcf327a07b63c7dc%29%0A%20%20%20%20%20%20%20%20%3B%0A%0A%20%20%20%20%20%20%20%20%0A%20%20%20%20%0A%20%20%20%20%0A%20%20%20%20%20%20%20%20%20%20%20%20var%20marker_2156962a2efe4cc1889b87492272f561%20%3D%20L.marker%28%0A%20%20%20%20%20%20%20%20%20%20%20%20%20%20%20%20%5B25.3356491%2C%2083.0076292%5D%2C%0A%20%20%20%20%20%20%20%20%20%20%20%20%20%20%20%20%7B%7D%0A%20%20%20%20%20%20%20%20%20%20%20%20%29.addTo%28map_15adbad4fdfc4f9fb188eb63bbc59f1e%29%3B%0A%20%20%20%20%20%20%20%20%0A%20%20%20%20%0A%20%20%20%20%20%20%20%20var%20popup_657bed453db94d939fc34b67aaa8d3e2%20%3D%20L.popup%28%7B%22maxWidth%22%3A%20%22100%25%22%7D%29%3B%0A%0A%20%20%20%20%20%20%20%20%0A%20%20%20%20%20%20%20%20%20%20%20%20var%20html_ed564b55f70245fbb0eaeea4de761786%20%3D%20%24%28%60%3Cdiv%20id%3D%22html_ed564b55f70245fbb0eaeea4de761786%22%20style%3D%22width%3A%20100.0%25%3B%20height%3A%20100.0%25%3B%22%3EHinduSamvaad%3A%20Will%20Smith%20to%20meet%20Sadhguru%3A%20Julia%20Roberts%2C%20Salma%20Hayek%20and%20more%20Hollywood%20celebs%20who%20believe%20in%20Indian%20spirituality%20https%3A//t.co/J6eYy9Ue2a%3C/div%3E%60%29%5B0%5D%3B%0A%20%20%20%20%20%20%20%20%20%20%20%20popup_657bed453db94d939fc34b67aaa8d3e2.setContent%28html_ed564b55f70245fbb0eaeea4de761786%29%3B%0A%20%20%20%20%20%20%20%20%0A%0A%20%20%20%20%20%20%20%20marker_2156962a2efe4cc1889b87492272f561.bindPopup%28popup_657bed453db94d939fc34b67aaa8d3e2%29%0A%20%20%20%20%20%20%20%20%3B%0A%0A%20%20%20%20%20%20%20%20%0A%20%20%20%20%0A%3C/script%3E onload=\"this.contentDocument.open();this.contentDocument.write(    decodeURIComponent(this.getAttribute('data-html')));this.contentDocument.close();\" allowfullscreen webkitallowfullscreen mozallowfullscreen></iframe></div></div>"
      ],
      "text/plain": [
       "<folium.folium.Map at 0x22b1646cc40>"
      ]
     },
     "execution_count": 525,
     "metadata": {},
     "output_type": "execute_result"
    }
   ],
   "source": [
    "usmap"
   ]
  },
  {
   "cell_type": "code",
   "execution_count": null,
   "metadata": {},
   "outputs": [],
   "source": [
    "accounts_dict = {'accounts': [\n",
    "    {'account': 100, 'name': 'Jones', 'balance': 24.98},\n",
    "    {'account': 200, 'name': 'Doe', 'balance': 345.67}]}"
   ]
  },
  {
   "cell_type": "code",
   "execution_count": null,
   "metadata": {},
   "outputs": [],
   "source": [
    "import json\n",
    "with open('accounts.json', 'w') as accounts:\n",
    "    json.dump(accounts_dict, accounts)"
   ]
  },
  {
   "cell_type": "code",
   "execution_count": null,
   "metadata": {},
   "outputs": [],
   "source": [
    "with open('accounts.json', 'r') as accounts:\n",
    "    accounts_from_json = json.load(accounts)"
   ]
  },
  {
   "cell_type": "code",
   "execution_count": null,
   "metadata": {},
   "outputs": [
    {
     "name": "stdout",
     "output_type": "stream",
     "text": [
      "{'accounts': [{'account': 100, 'name': 'Jones', 'balance': 24.98}, {'account': 200, 'name': 'Doe', 'balance': 345.67}]}\n",
      "<class 'dict'>\n"
     ]
    }
   ],
   "source": [
    "print(accounts_from_json) #The one-key-to-one-value dictionary object\n",
    "print(type(accounts_from_json))"
   ]
  },
  {
   "cell_type": "code",
   "execution_count": null,
   "metadata": {},
   "outputs": [
    {
     "name": "stdout",
     "output_type": "stream",
     "text": [
      "[{'account': 100, 'name': 'Jones', 'balance': 24.98}, {'account': 200, 'name': 'Doe', 'balance': 345.67}]\n"
     ]
    }
   ],
   "source": [
    "print(accounts_from_json['accounts']) #The individual dictionaries per account"
   ]
  },
  {
   "cell_type": "code",
   "execution_count": null,
   "metadata": {},
   "outputs": [
    {
     "name": "stdout",
     "output_type": "stream",
     "text": [
      "{'account': 100, 'name': 'Jones', 'balance': 24.98}\n",
      "{'account': 200, 'name': 'Doe', 'balance': 345.67}\n"
     ]
    }
   ],
   "source": [
    "print(accounts_from_json['accounts'][0]) #The first dictionary/account \n",
    "print(accounts_from_json['accounts'][1]) #The second dictionary/account "
   ]
  },
  {
   "cell_type": "code",
   "execution_count": null,
   "metadata": {},
   "outputs": [],
   "source": [
    "import json"
   ]
  },
  {
   "cell_type": "code",
   "execution_count": null,
   "metadata": {},
   "outputs": [],
   "source": [
    "with open('savedtweets.json', 'w') as outfile:\n",
    "    json.dump(tweets, outfile, indent=4)"
   ]
  },
  {
   "cell_type": "code",
   "execution_count": null,
   "metadata": {},
   "outputs": [],
   "source": [
    "with open('savedtweets.json') as json_file:\n",
    "    tweets_from_json = json.load(json_file)\n"
   ]
  },
  {
   "cell_type": "code",
   "execution_count": null,
   "metadata": {},
   "outputs": [
    {
     "data": {
      "text/plain": [
       "[{'screen_name': 'therealjayber',\n",
       "  'text': 'Imagine the kind of spellbinding power that Jada wields over Will Smith.\\n\\nOne unhappy look, and Will was immediatel… https://t.co/lOkKii20KH',\n",
       "  'location': 'Tweet Smarter. Grow Faster. 👉'},\n",
       " {'screen_name': 'chomps443',\n",
       "  'text': '@LeafyIsHere Will Smith should be white',\n",
       "  'location': 'The motion of the Ocean'},\n",
       " {'screen_name': 'biplov_jha',\n",
       "  'text': 'What have we learned from Will Smith and Johnny Depp?',\n",
       "  'location': 'Nepal'},\n",
       " {'screen_name': 'KassAssassin',\n",
       "  'text': 'I know his is ridiculous, but what upsets me the most about the Will Smith thing is, after getting slapped, Chris R… https://t.co/G3oxLaZ7ta',\n",
       "  'location': 'Brooklyn, NY'}]"
      ]
     },
     "execution_count": 535,
     "metadata": {},
     "output_type": "execute_result"
    }
   ],
   "source": [
    "tweets_from_json"
   ]
  },
  {
   "cell_type": "code",
   "execution_count": null,
   "metadata": {},
   "outputs": [
    {
     "name": "stderr",
     "output_type": "stream",
     "text": [
      "C:\\Users\\coleb\\mambaforge\\lib\\site-packages\\seaborn\\axisgrid.py:88: UserWarning: Tight layout not applied. The left and right margins cannot be made large enough to accommodate all axes decorations.\n",
      "  self._figure.tight_layout(*args, **kwargs)\n"
     ]
    },
    {
     "data": {
      "image/png": "[encoded data removed]",
      "text/plain": [
       "<Figure size 360x360 with 1 Axes>"
      ]
     },
     "metadata": {},
     "output_type": "display_data"
    },
    {
     "data": {
      "image/png": "[encoded data removed]",
      "text/plain": [
       "<Figure size 360x360 with 1 Axes>"
      ]
     },
     "metadata": {},
     "output_type": "display_data"
    },
    {
     "data": {
      "image/png": "[encoded data removed]",
      "text/plain": [
       "<Figure size 360x360 with 1 Axes>"
      ]
     },
     "metadata": {},
     "output_type": "display_data"
    },
    {
     "data": {
      "image/png": "[encoded data removed]",
      "text/plain": [
       "<Figure size 360x360 with 1 Axes>"
      ]
     },
     "metadata": {},
     "output_type": "display_data"
    },
    {
     "data": {
      "image/png": "[encoded data removed]",
      "text/plain": [
       "<Figure size 360x360 with 1 Axes>"
      ]
     },
     "metadata": {},
     "output_type": "display_data"
    }
   ],
   "source": [
    "for column in dft:\n",
    "    sns.displot(x=column, data=dft)"
   ]
  },
  {
   "cell_type": "code",
   "execution_count": null,
   "metadata": {},
   "outputs": [
    {
     "data": {
      "text/html": [
       "<div>\n",
       "<style scoped>\n",
       "    .dataframe tbody tr th:only-of-type {\n",
       "        vertical-align: middle;\n",
       "    }\n",
       "\n",
       "    .dataframe tbody tr th {\n",
       "        vertical-align: top;\n",
       "    }\n",
       "\n",
       "    .dataframe thead th {\n",
       "        text-align: right;\n",
       "    }\n",
       "</style>\n",
       "<table border=\"1\" class=\"dataframe\">\n",
       "  <thead>\n",
       "    <tr style=\"text-align: right;\">\n",
       "      <th></th>\n",
       "      <th>latitude</th>\n",
       "      <th>longitude</th>\n",
       "    </tr>\n",
       "  </thead>\n",
       "  <tbody>\n",
       "    <tr>\n",
       "      <th>latitude</th>\n",
       "      <td>1.000000</td>\n",
       "      <td>-0.996873</td>\n",
       "    </tr>\n",
       "    <tr>\n",
       "      <th>longitude</th>\n",
       "      <td>-0.996873</td>\n",
       "      <td>1.000000</td>\n",
       "    </tr>\n",
       "  </tbody>\n",
       "</table>\n",
       "</div>"
      ],
      "text/plain": [
       "           latitude  longitude\n",
       "latitude   1.000000  -0.996873\n",
       "longitude -0.996873   1.000000"
      ]
     },
     "execution_count": 537,
     "metadata": {},
     "output_type": "execute_result"
    }
   ],
   "source": [
    "dft.corr()"
   ]
  },
  {
   "cell_type": "code",
   "execution_count": null,
   "metadata": {},
   "outputs": [
    {
     "data": {
      "text/html": [
       "<div>\n",
       "<style scoped>\n",
       "    .dataframe tbody tr th:only-of-type {\n",
       "        vertical-align: middle;\n",
       "    }\n",
       "\n",
       "    .dataframe tbody tr th {\n",
       "        vertical-align: top;\n",
       "    }\n",
       "\n",
       "    .dataframe thead th {\n",
       "        text-align: right;\n",
       "    }\n",
       "</style>\n",
       "<table border=\"1\" class=\"dataframe\">\n",
       "  <thead>\n",
       "    <tr style=\"text-align: right;\">\n",
       "      <th></th>\n",
       "      <th>latitude</th>\n",
       "      <th>longitude</th>\n",
       "    </tr>\n",
       "  </thead>\n",
       "  <tbody>\n",
       "    <tr>\n",
       "      <th>count</th>\n",
       "      <td>3.000000</td>\n",
       "      <td>3.000000</td>\n",
       "    </tr>\n",
       "    <tr>\n",
       "      <th>mean</th>\n",
       "      <td>34.794549</td>\n",
       "      <td>-22.656662</td>\n",
       "    </tr>\n",
       "    <tr>\n",
       "      <th>std</th>\n",
       "      <td>8.210207</td>\n",
       "      <td>91.514389</td>\n",
       "    </tr>\n",
       "    <tr>\n",
       "      <th>min</th>\n",
       "      <td>25.335649</td>\n",
       "      <td>-76.573454</td>\n",
       "    </tr>\n",
       "    <tr>\n",
       "      <th>25%</th>\n",
       "      <td>32.153954</td>\n",
       "      <td>-75.488808</td>\n",
       "    </tr>\n",
       "    <tr>\n",
       "      <th>50%</th>\n",
       "      <td>38.972258</td>\n",
       "      <td>-74.404162</td>\n",
       "    </tr>\n",
       "    <tr>\n",
       "      <th>75%</th>\n",
       "      <td>39.523998</td>\n",
       "      <td>4.301733</td>\n",
       "    </tr>\n",
       "    <tr>\n",
       "      <th>max</th>\n",
       "      <td>40.075738</td>\n",
       "      <td>83.007629</td>\n",
       "    </tr>\n",
       "  </tbody>\n",
       "</table>\n",
       "</div>"
      ],
      "text/plain": [
       "        latitude  longitude\n",
       "count   3.000000   3.000000\n",
       "mean   34.794549 -22.656662\n",
       "std     8.210207  91.514389\n",
       "min    25.335649 -76.573454\n",
       "25%    32.153954 -75.488808\n",
       "50%    38.972258 -74.404162\n",
       "75%    39.523998   4.301733\n",
       "max    40.075738  83.007629"
      ]
     },
     "execution_count": 538,
     "metadata": {},
     "output_type": "execute_result"
    }
   ],
   "source": [
    "dft.describe()"
   ]
  },
  {
   "cell_type": "code",
   "execution_count": null,
   "metadata": {},
   "outputs": [
    {
     "data": {
      "text/plain": [
       "<seaborn.axisgrid.PairGrid at 0x22b08771b80>"
      ]
     },
     "execution_count": 539,
     "metadata": {},
     "output_type": "execute_result"
    },
    {
     "data": {
      "image/png": "[encoded data removed]",
      "text/plain": [
       "<Figure size 360x360 with 6 Axes>"
      ]
     },
     "metadata": {},
     "output_type": "display_data"
    }
   ],
   "source": [
    "sns.pairplot(dft)"
   ]
  }
 ],
 "metadata": {
  "interpreter": {
   "hash": "9f357b62676163e453d3996bd7a23625b1faadc1b4915e4cbea894e22b2eb803"
  },
  "kernelspec": {
   "display_name": "Python 3.9.10",
   "language": "python",
   "name": "python3"
  },
  "language_info": {
   "codemirror_mode": {
    "name": "ipython",
    "version": 3
   },
   "file_extension": ".py",
   "mimetype": "text/x-python",
   "name": "python",
   "nbconvert_exporter": "python",
   "pygments_lexer": "ipython3",
   "version": "3.9.10"
  }
 },
 "nbformat": 4,
 "nbformat_minor": 4
}
