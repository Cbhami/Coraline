{
 "cells": [
  {
   "cell_type": "markdown",
   "metadata": {},
   "source": [
    "# **2 (Option I). (Trends, Searches, and Sentiment)** \n",
    "2 (Option I). (Trends, Searches, and Sentiment)** <br>a. Use the Twitter Trends API to determine the available trending topics for a city of your choice, assigning a tweet volume of 5000 to any trend with no volume provided.\n",
    "\n",
    " <br>b. After sorting the trends in descending order by volume, create a bar graph with each (sorted) trend on the x-axis against its volume on the y-axis. \n",
    " \n",
    " <br>c. Use the Twitter Search API to find 20 tweets for each of the three most popular trends in the chosen city, and preprocess their associated tweet text (preferring extended tweet text, if available) in a manner appropriate for tweets. \n",
    " \n",
    " <br>d. Use `TextBlob` to determine the sentiment for each set of 20 tweets.  \n",
    " \n",
    " <br> i. Do you notice a substantial difference in the proportion of positive and negative sentiment for the three trends?  Try to theorize why or why not.  \n",
    " \n",
    " <br> ii. Do you believe the sentiment analysis to be reliable for any or all of the trend?  Explain why or why not.\n"
   ]
  },
  {
   "cell_type": "markdown",
   "metadata": {},
   "source": [
    "\n",
    "## Twitter Trends, Searches, and Sentiment"
   ]
  },
  {
   "cell_type": "markdown",
   "metadata": {
    "jp-MarkdownHeadingCollapsed": true,
    "tags": []
   },
   "source": [
    "### Load API Keys\n",
    " \n"
   ]
  },
  {
   "cell_type": "code",
   "execution_count": 77,
   "metadata": {},
   "outputs": [],
   "source": [
    "import tweepy\n",
    "import os\n",
    "APIK = os.environ.get('APIK')\n",
    "APISK = os.environ.get('APISK')\n",
    "ACCTO = os.environ.get('ACCTO')\n",
    "ACCTOS = os.environ.get('ACCTOS')\n",
    "auth = tweepy.OAuthHandler(APIK, APISK) #Set up the app keys\n",
    "auth.set_access_token(ACCTO,\n",
    "                      ACCTOS) #set up your user tokens\n",
    "api = tweepy.API(auth, wait_on_rate_limit=True, \n",
    "                 wait_on_rate_limit_notify=True)\n"
   ]
  },
  {
   "cell_type": "markdown",
   "metadata": {
    "jp-MarkdownHeadingCollapsed": true,
    "tags": []
   },
   "source": [
    "### Basic Tweepy Commands"
   ]
  },
  {
   "cell_type": "code",
   "execution_count": 78,
   "metadata": {},
   "outputs": [],
   "source": [
    "cbhami02 = api.get_user('cbhami02')"
   ]
  },
  {
   "cell_type": "code",
   "execution_count": 79,
   "metadata": {},
   "outputs": [],
   "source": [
    "api = tweepy.API(auth)\n"
   ]
  },
  {
   "cell_type": "code",
   "execution_count": 80,
   "metadata": {
    "tags": []
   },
   "outputs": [
    {
     "name": "stdout",
     "output_type": "stream",
     "text": [
      "User(_api=<tweepy.api.API object at 0x0000024B5E786A60>, _json={'id': 1515682874837643269, 'id_str': '1515682874837643269', 'name': 'Cole Hamilton', 'screen_name': 'Cbhami02', 'location': 'San Antonio, TX', 'profile_location': {'id': '3df4f427b5a60fea', 'url': 'https://api.twitter.com/1.1/geo/id/3df4f427b5a60fea.json', 'place_type': 'unknown', 'name': 'San Antonio, TX', 'full_name': 'San Antonio, TX', 'country_code': '', 'country': '', 'contained_within': [], 'bounding_box': None, 'attributes': {}}, 'description': 'My Developer Account. Just for fun and sharing fascinating topics! Data Enthusiast, Fortniter, Robloxer, and a little bit of nerd.', 'url': None, 'entities': {'description': {'urls': []}}, 'protected': False, 'followers_count': 1, 'friends_count': 90, 'listed_count': 0, 'created_at': 'Sun Apr 17 13:25:44 +0000 2022', 'favourites_count': 0, 'utc_offset': None, 'time_zone': None, 'geo_enabled': False, 'verified': False, 'statuses_count': 13, 'lang': None, 'status': {'created_at': 'Wed May 11 23:15:22 +0000 2022', 'id': 1524528622719184896, 'id_str': '1524528622719184896', 'text': '“Complete Exploratory Data Analysis using Python” by Uğur Savcı\\nhttps://t.co/Vp44o2jQTU https://t.co/bEf5HBRtt8', 'truncated': False, 'entities': {'hashtags': [], 'symbols': [], 'user_mentions': [], 'urls': [{'url': 'https://t.co/Vp44o2jQTU', 'expanded_url': 'https://link.medium.com/IobrYt5fXpb', 'display_url': 'link.medium.com/IobrYt5fXpb', 'indices': [64, 87]}], 'media': [{'id': 1524528618034106370, 'id_str': '1524528618034106370', 'indices': [88, 111], 'media_url': 'http://pbs.twimg.com/media/FSg2s2fXEAIom5R.jpg', 'media_url_https': 'https://pbs.twimg.com/media/FSg2s2fXEAIom5R.jpg', 'url': 'https://t.co/bEf5HBRtt8', 'display_url': 'pic.twitter.com/bEf5HBRtt8', 'expanded_url': 'https://twitter.com/Cbhami02/status/1524528622719184896/photo/1', 'type': 'photo', 'sizes': {'thumb': {'w': 150, 'h': 150, 'resize': 'crop'}, 'large': {'w': 700, 'h': 1245, 'resize': 'fit'}, 'medium': {'w': 675, 'h': 1200, 'resize': 'fit'}, 'small': {'w': 382, 'h': 680, 'resize': 'fit'}}}]}, 'extended_entities': {'media': [{'id': 1524528618034106370, 'id_str': '1524528618034106370', 'indices': [88, 111], 'media_url': 'http://pbs.twimg.com/media/FSg2s2fXEAIom5R.jpg', 'media_url_https': 'https://pbs.twimg.com/media/FSg2s2fXEAIom5R.jpg', 'url': 'https://t.co/bEf5HBRtt8', 'display_url': 'pic.twitter.com/bEf5HBRtt8', 'expanded_url': 'https://twitter.com/Cbhami02/status/1524528622719184896/photo/1', 'type': 'photo', 'sizes': {'thumb': {'w': 150, 'h': 150, 'resize': 'crop'}, 'large': {'w': 700, 'h': 1245, 'resize': 'fit'}, 'medium': {'w': 675, 'h': 1200, 'resize': 'fit'}, 'small': {'w': 382, 'h': 680, 'resize': 'fit'}}}]}, 'source': '<a href=\"http://twitter.com/download/iphone\" rel=\"nofollow\">Twitter for iPhone</a>', 'in_reply_to_status_id': None, 'in_reply_to_status_id_str': None, 'in_reply_to_user_id': None, 'in_reply_to_user_id_str': None, 'in_reply_to_screen_name': None, 'geo': None, 'coordinates': None, 'place': None, 'contributors': None, 'is_quote_status': False, 'retweet_count': 0, 'favorite_count': 0, 'favorited': False, 'retweeted': False, 'possibly_sensitive': False, 'lang': 'fi'}, 'contributors_enabled': False, 'is_translator': False, 'is_translation_enabled': False, 'profile_background_color': 'F5F8FA', 'profile_background_image_url': None, 'profile_background_image_url_https': None, 'profile_background_tile': False, 'profile_image_url': 'http://pbs.twimg.com/profile_images/1515683341609099277/zHYTKTwd_normal.jpg', 'profile_image_url_https': 'https://pbs.twimg.com/profile_images/1515683341609099277/zHYTKTwd_normal.jpg', 'profile_link_color': '1DA1F2', 'profile_sidebar_border_color': 'C0DEED', 'profile_sidebar_fill_color': 'DDEEF6', 'profile_text_color': '333333', 'profile_use_background_image': True, 'has_extended_profile': True, 'default_profile': True, 'default_profile_image': False, 'following': False, 'follow_request_sent': False, 'notifications': False, 'translator_type': 'none', 'withheld_in_countries': []}, id=1515682874837643269, id_str='1515682874837643269', name='Cole Hamilton', screen_name='Cbhami02', location='San Antonio, TX', profile_location={'id': '3df4f427b5a60fea', 'url': 'https://api.twitter.com/1.1/geo/id/3df4f427b5a60fea.json', 'place_type': 'unknown', 'name': 'San Antonio, TX', 'full_name': 'San Antonio, TX', 'country_code': '', 'country': '', 'contained_within': [], 'bounding_box': None, 'attributes': {}}, description='My Developer Account. Just for fun and sharing fascinating topics! Data Enthusiast, Fortniter, Robloxer, and a little bit of nerd.', url=None, entities={'description': {'urls': []}}, protected=False, followers_count=1, friends_count=90, listed_count=0, created_at=datetime.datetime(2022, 4, 17, 13, 25, 44), favourites_count=0, utc_offset=None, time_zone=None, geo_enabled=False, verified=False, statuses_count=13, lang=None, status=Status(_api=<tweepy.api.API object at 0x0000024B5E786A60>, _json={'created_at': 'Wed May 11 23:15:22 +0000 2022', 'id': 1524528622719184896, 'id_str': '1524528622719184896', 'text': '“Complete Exploratory Data Analysis using Python” by Uğur Savcı\\nhttps://t.co/Vp44o2jQTU https://t.co/bEf5HBRtt8', 'truncated': False, 'entities': {'hashtags': [], 'symbols': [], 'user_mentions': [], 'urls': [{'url': 'https://t.co/Vp44o2jQTU', 'expanded_url': 'https://link.medium.com/IobrYt5fXpb', 'display_url': 'link.medium.com/IobrYt5fXpb', 'indices': [64, 87]}], 'media': [{'id': 1524528618034106370, 'id_str': '1524528618034106370', 'indices': [88, 111], 'media_url': 'http://pbs.twimg.com/media/FSg2s2fXEAIom5R.jpg', 'media_url_https': 'https://pbs.twimg.com/media/FSg2s2fXEAIom5R.jpg', 'url': 'https://t.co/bEf5HBRtt8', 'display_url': 'pic.twitter.com/bEf5HBRtt8', 'expanded_url': 'https://twitter.com/Cbhami02/status/1524528622719184896/photo/1', 'type': 'photo', 'sizes': {'thumb': {'w': 150, 'h': 150, 'resize': 'crop'}, 'large': {'w': 700, 'h': 1245, 'resize': 'fit'}, 'medium': {'w': 675, 'h': 1200, 'resize': 'fit'}, 'small': {'w': 382, 'h': 680, 'resize': 'fit'}}}]}, 'extended_entities': {'media': [{'id': 1524528618034106370, 'id_str': '1524528618034106370', 'indices': [88, 111], 'media_url': 'http://pbs.twimg.com/media/FSg2s2fXEAIom5R.jpg', 'media_url_https': 'https://pbs.twimg.com/media/FSg2s2fXEAIom5R.jpg', 'url': 'https://t.co/bEf5HBRtt8', 'display_url': 'pic.twitter.com/bEf5HBRtt8', 'expanded_url': 'https://twitter.com/Cbhami02/status/1524528622719184896/photo/1', 'type': 'photo', 'sizes': {'thumb': {'w': 150, 'h': 150, 'resize': 'crop'}, 'large': {'w': 700, 'h': 1245, 'resize': 'fit'}, 'medium': {'w': 675, 'h': 1200, 'resize': 'fit'}, 'small': {'w': 382, 'h': 680, 'resize': 'fit'}}}]}, 'source': '<a href=\"http://twitter.com/download/iphone\" rel=\"nofollow\">Twitter for iPhone</a>', 'in_reply_to_status_id': None, 'in_reply_to_status_id_str': None, 'in_reply_to_user_id': None, 'in_reply_to_user_id_str': None, 'in_reply_to_screen_name': None, 'geo': None, 'coordinates': None, 'place': None, 'contributors': None, 'is_quote_status': False, 'retweet_count': 0, 'favorite_count': 0, 'favorited': False, 'retweeted': False, 'possibly_sensitive': False, 'lang': 'fi'}, created_at=datetime.datetime(2022, 5, 11, 23, 15, 22), id=1524528622719184896, id_str='1524528622719184896', text='“Complete Exploratory Data Analysis using Python” by Uğur Savcı\\nhttps://t.co/Vp44o2jQTU https://t.co/bEf5HBRtt8', truncated=False, entities={'hashtags': [], 'symbols': [], 'user_mentions': [], 'urls': [{'url': 'https://t.co/Vp44o2jQTU', 'expanded_url': 'https://link.medium.com/IobrYt5fXpb', 'display_url': 'link.medium.com/IobrYt5fXpb', 'indices': [64, 87]}], 'media': [{'id': 1524528618034106370, 'id_str': '1524528618034106370', 'indices': [88, 111], 'media_url': 'http://pbs.twimg.com/media/FSg2s2fXEAIom5R.jpg', 'media_url_https': 'https://pbs.twimg.com/media/FSg2s2fXEAIom5R.jpg', 'url': 'https://t.co/bEf5HBRtt8', 'display_url': 'pic.twitter.com/bEf5HBRtt8', 'expanded_url': 'https://twitter.com/Cbhami02/status/1524528622719184896/photo/1', 'type': 'photo', 'sizes': {'thumb': {'w': 150, 'h': 150, 'resize': 'crop'}, 'large': {'w': 700, 'h': 1245, 'resize': 'fit'}, 'medium': {'w': 675, 'h': 1200, 'resize': 'fit'}, 'small': {'w': 382, 'h': 680, 'resize': 'fit'}}}]}, extended_entities={'media': [{'id': 1524528618034106370, 'id_str': '1524528618034106370', 'indices': [88, 111], 'media_url': 'http://pbs.twimg.com/media/FSg2s2fXEAIom5R.jpg', 'media_url_https': 'https://pbs.twimg.com/media/FSg2s2fXEAIom5R.jpg', 'url': 'https://t.co/bEf5HBRtt8', 'display_url': 'pic.twitter.com/bEf5HBRtt8', 'expanded_url': 'https://twitter.com/Cbhami02/status/1524528622719184896/photo/1', 'type': 'photo', 'sizes': {'thumb': {'w': 150, 'h': 150, 'resize': 'crop'}, 'large': {'w': 700, 'h': 1245, 'resize': 'fit'}, 'medium': {'w': 675, 'h': 1200, 'resize': 'fit'}, 'small': {'w': 382, 'h': 680, 'resize': 'fit'}}}]}, source='Twitter for iPhone', source_url='http://twitter.com/download/iphone', in_reply_to_status_id=None, in_reply_to_status_id_str=None, in_reply_to_user_id=None, in_reply_to_user_id_str=None, in_reply_to_screen_name=None, geo=None, coordinates=None, place=None, contributors=None, is_quote_status=False, retweet_count=0, favorite_count=0, favorited=False, retweeted=False, possibly_sensitive=False, lang='fi'), contributors_enabled=False, is_translator=False, is_translation_enabled=False, profile_background_color='F5F8FA', profile_background_image_url=None, profile_background_image_url_https=None, profile_background_tile=False, profile_image_url='http://pbs.twimg.com/profile_images/1515683341609099277/zHYTKTwd_normal.jpg', profile_image_url_https='https://pbs.twimg.com/profile_images/1515683341609099277/zHYTKTwd_normal.jpg', profile_link_color='1DA1F2', profile_sidebar_border_color='C0DEED', profile_sidebar_fill_color='DDEEF6', profile_text_color='333333', profile_use_background_image=True, has_extended_profile=True, default_profile=True, default_profile_image=False, following=False, follow_request_sent=False, notifications=False, translator_type='none', withheld_in_countries=[])\n"
     ]
    }
   ],
   "source": [
    "user_info = api.get_user(screen_name='cbhami02')\n",
    "print(user_info)"
   ]
  },
  {
   "cell_type": "code",
   "execution_count": 81,
   "metadata": {},
   "outputs": [
    {
     "name": "stdout",
     "output_type": "stream",
     "text": [
      "1 users are following Cbhami02.\n"
     ]
    }
   ],
   "source": [
    "print(f'{user_info.followers_count} users are following {user_info.screen_name}.')"
   ]
  },
  {
   "cell_type": "code",
   "execution_count": 82,
   "metadata": {
    "jupyter": {
     "source_hidden": true
    },
    "tags": []
   },
   "outputs": [
    {
     "data": {
      "text/plain": [
       "'Cole Hamilton'"
      ]
     },
     "execution_count": 82,
     "metadata": {},
     "output_type": "execute_result"
    }
   ],
   "source": [
    "user_info.name  # name associated with the user’s account"
   ]
  },
  {
   "cell_type": "code",
   "execution_count": 83,
   "metadata": {},
   "outputs": [
    {
     "data": {
      "text/plain": [
       "'Cbhami02'"
      ]
     },
     "execution_count": 83,
     "metadata": {},
     "output_type": "execute_result"
    }
   ],
   "source": [
    "user_info.screen_name  # user’s Twitter handle"
   ]
  },
  {
   "cell_type": "code",
   "execution_count": 84,
   "metadata": {},
   "outputs": [
    {
     "data": {
      "text/plain": [
       "'My Developer Account. Just for fun and sharing fascinating topics! Data Enthusiast, Fortniter, Robloxer, and a little bit of nerd.'"
      ]
     },
     "execution_count": 84,
     "metadata": {},
     "output_type": "execute_result"
    }
   ],
   "source": [
    "user_info.description  # description from the user’s profile"
   ]
  },
  {
   "cell_type": "code",
   "execution_count": 85,
   "metadata": {
    "tags": []
   },
   "outputs": [
    {
     "data": {
      "text/plain": [
       "Status(_api=<tweepy.api.API object at 0x0000024B5E786A60>, _json={'created_at': 'Wed May 11 23:15:22 +0000 2022', 'id': 1524528622719184896, 'id_str': '1524528622719184896', 'text': '“Complete Exploratory Data Analysis using Python” by Uğur Savcı\\nhttps://t.co/Vp44o2jQTU https://t.co/bEf5HBRtt8', 'truncated': False, 'entities': {'hashtags': [], 'symbols': [], 'user_mentions': [], 'urls': [{'url': 'https://t.co/Vp44o2jQTU', 'expanded_url': 'https://link.medium.com/IobrYt5fXpb', 'display_url': 'link.medium.com/IobrYt5fXpb', 'indices': [64, 87]}], 'media': [{'id': 1524528618034106370, 'id_str': '1524528618034106370', 'indices': [88, 111], 'media_url': 'http://pbs.twimg.com/media/FSg2s2fXEAIom5R.jpg', 'media_url_https': 'https://pbs.twimg.com/media/FSg2s2fXEAIom5R.jpg', 'url': 'https://t.co/bEf5HBRtt8', 'display_url': 'pic.twitter.com/bEf5HBRtt8', 'expanded_url': 'https://twitter.com/Cbhami02/status/1524528622719184896/photo/1', 'type': 'photo', 'sizes': {'thumb': {'w': 150, 'h': 150, 'resize': 'crop'}, 'large': {'w': 700, 'h': 1245, 'resize': 'fit'}, 'medium': {'w': 675, 'h': 1200, 'resize': 'fit'}, 'small': {'w': 382, 'h': 680, 'resize': 'fit'}}}]}, 'extended_entities': {'media': [{'id': 1524528618034106370, 'id_str': '1524528618034106370', 'indices': [88, 111], 'media_url': 'http://pbs.twimg.com/media/FSg2s2fXEAIom5R.jpg', 'media_url_https': 'https://pbs.twimg.com/media/FSg2s2fXEAIom5R.jpg', 'url': 'https://t.co/bEf5HBRtt8', 'display_url': 'pic.twitter.com/bEf5HBRtt8', 'expanded_url': 'https://twitter.com/Cbhami02/status/1524528622719184896/photo/1', 'type': 'photo', 'sizes': {'thumb': {'w': 150, 'h': 150, 'resize': 'crop'}, 'large': {'w': 700, 'h': 1245, 'resize': 'fit'}, 'medium': {'w': 675, 'h': 1200, 'resize': 'fit'}, 'small': {'w': 382, 'h': 680, 'resize': 'fit'}}}]}, 'source': '<a href=\"http://twitter.com/download/iphone\" rel=\"nofollow\">Twitter for iPhone</a>', 'in_reply_to_status_id': None, 'in_reply_to_status_id_str': None, 'in_reply_to_user_id': None, 'in_reply_to_user_id_str': None, 'in_reply_to_screen_name': None, 'geo': None, 'coordinates': None, 'place': None, 'contributors': None, 'is_quote_status': False, 'retweet_count': 0, 'favorite_count': 0, 'favorited': False, 'retweeted': False, 'possibly_sensitive': False, 'lang': 'fi'}, created_at=datetime.datetime(2022, 5, 11, 23, 15, 22), id=1524528622719184896, id_str='1524528622719184896', text='“Complete Exploratory Data Analysis using Python” by Uğur Savcı\\nhttps://t.co/Vp44o2jQTU https://t.co/bEf5HBRtt8', truncated=False, entities={'hashtags': [], 'symbols': [], 'user_mentions': [], 'urls': [{'url': 'https://t.co/Vp44o2jQTU', 'expanded_url': 'https://link.medium.com/IobrYt5fXpb', 'display_url': 'link.medium.com/IobrYt5fXpb', 'indices': [64, 87]}], 'media': [{'id': 1524528618034106370, 'id_str': '1524528618034106370', 'indices': [88, 111], 'media_url': 'http://pbs.twimg.com/media/FSg2s2fXEAIom5R.jpg', 'media_url_https': 'https://pbs.twimg.com/media/FSg2s2fXEAIom5R.jpg', 'url': 'https://t.co/bEf5HBRtt8', 'display_url': 'pic.twitter.com/bEf5HBRtt8', 'expanded_url': 'https://twitter.com/Cbhami02/status/1524528622719184896/photo/1', 'type': 'photo', 'sizes': {'thumb': {'w': 150, 'h': 150, 'resize': 'crop'}, 'large': {'w': 700, 'h': 1245, 'resize': 'fit'}, 'medium': {'w': 675, 'h': 1200, 'resize': 'fit'}, 'small': {'w': 382, 'h': 680, 'resize': 'fit'}}}]}, extended_entities={'media': [{'id': 1524528618034106370, 'id_str': '1524528618034106370', 'indices': [88, 111], 'media_url': 'http://pbs.twimg.com/media/FSg2s2fXEAIom5R.jpg', 'media_url_https': 'https://pbs.twimg.com/media/FSg2s2fXEAIom5R.jpg', 'url': 'https://t.co/bEf5HBRtt8', 'display_url': 'pic.twitter.com/bEf5HBRtt8', 'expanded_url': 'https://twitter.com/Cbhami02/status/1524528622719184896/photo/1', 'type': 'photo', 'sizes': {'thumb': {'w': 150, 'h': 150, 'resize': 'crop'}, 'large': {'w': 700, 'h': 1245, 'resize': 'fit'}, 'medium': {'w': 675, 'h': 1200, 'resize': 'fit'}, 'small': {'w': 382, 'h': 680, 'resize': 'fit'}}}]}, source='Twitter for iPhone', source_url='http://twitter.com/download/iphone', in_reply_to_status_id=None, in_reply_to_status_id_str=None, in_reply_to_user_id=None, in_reply_to_user_id_str=None, in_reply_to_screen_name=None, geo=None, coordinates=None, place=None, contributors=None, is_quote_status=False, retweet_count=0, favorite_count=0, favorited=False, retweeted=False, possibly_sensitive=False, lang='fi')"
      ]
     },
     "execution_count": 85,
     "metadata": {},
     "output_type": "execute_result"
    }
   ],
   "source": [
    "user_info.status  # most recent tweet's text"
   ]
  },
  {
   "cell_type": "code",
   "execution_count": 86,
   "metadata": {},
   "outputs": [
    {
     "name": "stdout",
     "output_type": "stream",
     "text": [
      "Cbhami02 is following 90 users.\n"
     ]
    }
   ],
   "source": [
    "print(f'{user_info.screen_name} is following {user_info.friends_count} users.')"
   ]
  },
  {
   "cell_type": "markdown",
   "metadata": {
    "jp-MarkdownHeadingCollapsed": true,
    "tags": []
   },
   "source": [
    "### Tweepy API User Info"
   ]
  },
  {
   "cell_type": "code",
   "execution_count": 87,
   "metadata": {},
   "outputs": [],
   "source": [
    "api = tweepy.API(auth)"
   ]
  },
  {
   "cell_type": "code",
   "execution_count": 88,
   "metadata": {},
   "outputs": [],
   "source": [
    "me = api.verify_credentials()"
   ]
  },
  {
   "cell_type": "code",
   "execution_count": 89,
   "metadata": {},
   "outputs": [
    {
     "data": {
      "text/plain": [
       "'Cole'"
      ]
     },
     "execution_count": 89,
     "metadata": {},
     "output_type": "execute_result"
    }
   ],
   "source": [
    "me.name"
   ]
  },
  {
   "cell_type": "code",
   "execution_count": 90,
   "metadata": {},
   "outputs": [
    {
     "name": "stdout",
     "output_type": "stream",
     "text": [
      "I have 20 follower.\n",
      "I am following 164 users.\n"
     ]
    }
   ],
   "source": [
    "print(f'I have {me.followers_count} follower.')\n",
    "print(f'I am following {me.friends_count} users.')"
   ]
  },
  {
   "cell_type": "markdown",
   "metadata": {
    "jp-MarkdownHeadingCollapsed": true,
    "tags": []
   },
   "source": [
    "### Rate Limits"
   ]
  },
  {
   "cell_type": "code",
   "execution_count": 91,
   "metadata": {
    "tags": []
   },
   "outputs": [
    {
     "data": {
      "text/plain": [
       "{'rate_limit_context': {'access_token': '2777419660-hIblVunw1TwIbGqiNE9HWcogMx3OaxTtRe0YxJN'},\n",
       " 'resources': {'lists': {'/lists/list': {'limit': 15,\n",
       "    'remaining': 15,\n",
       "    'reset': 1652504867},\n",
       "   '/lists/:id/tweets&GET': {'limit': 900,\n",
       "    'remaining': 900,\n",
       "    'reset': 1652504867},\n",
       "   '/lists/:id/followers&GET': {'limit': 180,\n",
       "    'remaining': 180,\n",
       "    'reset': 1652504867},\n",
       "   '/lists/memberships': {'limit': 75, 'remaining': 75, 'reset': 1652504867},\n",
       "   '/lists/:id&DELETE': {'limit': 300, 'remaining': 300, 'reset': 1652504867},\n",
       "   '/lists/subscriptions': {'limit': 15, 'remaining': 15, 'reset': 1652504867},\n",
       "   '/lists/members': {'limit': 900, 'remaining': 900, 'reset': 1652504867},\n",
       "   '/lists/:id&GET': {'limit': 75, 'remaining': 75, 'reset': 1652504867},\n",
       "   '/lists/subscribers/show': {'limit': 15,\n",
       "    'remaining': 15,\n",
       "    'reset': 1652504867},\n",
       "   '/lists/:id&PUT': {'limit': 300, 'remaining': 300, 'reset': 1652504867},\n",
       "   '/lists/show': {'limit': 75, 'remaining': 75, 'reset': 1652504867},\n",
       "   '/lists/ownerships': {'limit': 15, 'remaining': 15, 'reset': 1652504867},\n",
       "   '/lists/:id/members/:user_id&DELETE': {'limit': 300,\n",
       "    'remaining': 300,\n",
       "    'reset': 1652504867},\n",
       "   '/lists/subscribers': {'limit': 180, 'remaining': 180, 'reset': 1652504867},\n",
       "   '/lists/:id/members&POST': {'limit': 300,\n",
       "    'remaining': 300,\n",
       "    'reset': 1652504867},\n",
       "   '/lists/:id/members&GET': {'limit': 900,\n",
       "    'remaining': 900,\n",
       "    'reset': 1652504867},\n",
       "   '/lists/members/show': {'limit': 15, 'remaining': 15, 'reset': 1652504867},\n",
       "   '/lists/statuses': {'limit': 900, 'remaining': 900, 'reset': 1652504867}},\n",
       "  'application': {'/application/rate_limit_status': {'limit': 180,\n",
       "    'remaining': 180,\n",
       "    'reset': 1652504867}},\n",
       "  'mutes': {'/mutes/users/list': {'limit': 15,\n",
       "    'remaining': 15,\n",
       "    'reset': 1652504867},\n",
       "   '/mutes/users/ids': {'limit': 15, 'remaining': 15, 'reset': 1652504867}},\n",
       "  'verify': {'/verify/:version/badge-violation': {'limit': 15,\n",
       "    'remaining': 15,\n",
       "    'reset': 1652504867},\n",
       "   '/verify/:version/badge-violation/violations': {'limit': 15,\n",
       "    'remaining': 15,\n",
       "    'reset': 1652504867},\n",
       "   '/verify/:version/intake': {'limit': 15,\n",
       "    'remaining': 15,\n",
       "    'reset': 1652504867},\n",
       "   '/verify/:version/document-formats': {'limit': 15,\n",
       "    'remaining': 15,\n",
       "    'reset': 1652504867},\n",
       "   '/verify/:version/id-document&GET': {'limit': 1000,\n",
       "    'remaining': 1000,\n",
       "    'reset': 1652504867},\n",
       "   '/verify/:version/id-document&POST': {'limit': 15,\n",
       "    'remaining': 15,\n",
       "    'reset': 1652504867},\n",
       "   '/verify/:version/access': {'limit': 15,\n",
       "    'remaining': 15,\n",
       "    'reset': 1652504867},\n",
       "   '/verify/:version/account-eligibility': {'limit': 15,\n",
       "    'remaining': 15,\n",
       "    'reset': 1652504867}},\n",
       "  'admin_users': {'/admin_users': {'limit': 2000,\n",
       "    'remaining': 2000,\n",
       "    'reset': 1652504867}},\n",
       "  'live_video_stream': {'/live_video_stream/status/:id': {'limit': 1000,\n",
       "    'remaining': 1000,\n",
       "    'reset': 1652504867}},\n",
       "  'friendships': {'/friendships/outgoing': {'limit': 15,\n",
       "    'remaining': 15,\n",
       "    'reset': 1652504867},\n",
       "   '/friendships/list': {'limit': 200, 'remaining': 200, 'reset': 1652504867},\n",
       "   '/friendships/no_retweets/ids': {'limit': 15,\n",
       "    'remaining': 15,\n",
       "    'reset': 1652504867},\n",
       "   '/friendships/lookup': {'limit': 15, 'remaining': 15, 'reset': 1652504867},\n",
       "   '/friendships/incoming': {'limit': 15,\n",
       "    'remaining': 15,\n",
       "    'reset': 1652504867},\n",
       "   '/friendships/show': {'limit': 180, 'remaining': 180, 'reset': 1652504867}},\n",
       "  'guide': {'/guide': {'limit': 180, 'remaining': 180, 'reset': 1652504867},\n",
       "   '/guide/get_explore_locations': {'limit': 100,\n",
       "    'remaining': 100,\n",
       "    'reset': 1652504867},\n",
       "   '/guide/explore_locations_with_autocomplete': {'limit': 200,\n",
       "    'remaining': 200,\n",
       "    'reset': 1652504867}},\n",
       "  'auth': {'/auth/csrf_token': {'limit': 15,\n",
       "    'remaining': 15,\n",
       "    'reset': 1652504867}},\n",
       "  'compliance': {'/compliance/jobs&POST': {'limit': 150,\n",
       "    'remaining': 150,\n",
       "    'reset': 1652504867},\n",
       "   '/compliance/jobs&GET': {'limit': 150,\n",
       "    'remaining': 150,\n",
       "    'reset': 1652504867},\n",
       "   '/compliance/jobs/:job_id': {'limit': 150,\n",
       "    'remaining': 150,\n",
       "    'reset': 1652504867}},\n",
       "  'paseto': {'/paseto/token': {'limit': 100,\n",
       "    'remaining': 100,\n",
       "    'reset': 1652504867}},\n",
       "  'blocks': {'/blocks/list': {'limit': 15,\n",
       "    'remaining': 15,\n",
       "    'reset': 1652504867},\n",
       "   '/blocks/ids': {'limit': 15, 'remaining': 15, 'reset': 1652504867}},\n",
       "  'geo': {'/geo/similar_places': {'limit': 15,\n",
       "    'remaining': 15,\n",
       "    'reset': 1652504867},\n",
       "   '/geo/place_page': {'limit': 75, 'remaining': 75, 'reset': 1652504867},\n",
       "   '/geo/id/:place_id': {'limit': 75, 'remaining': 75, 'reset': 1652504867},\n",
       "   '/geo/reverse_geocode': {'limit': 15, 'remaining': 15, 'reset': 1652504867},\n",
       "   '/geo/search': {'limit': 15, 'remaining': 15, 'reset': 1652504867}},\n",
       "  'users': {'/users/': {'limit': 900, 'remaining': 900, 'reset': 1652504867},\n",
       "   '/users/:id/list_memberships&GET': {'limit': 75,\n",
       "    'remaining': 75,\n",
       "    'reset': 1652504867},\n",
       "   '/users/:id': {'limit': 900, 'remaining': 898, 'reset': 1652504866},\n",
       "   '/users/:id/muting&POST': {'limit': 50,\n",
       "    'remaining': 50,\n",
       "    'reset': 1652504867},\n",
       "   '/users/report_spam': {'limit': 15, 'remaining': 15, 'reset': 1652504867},\n",
       "   '/users/:id/pinned_lists/:list_id&DELETE': {'limit': 50,\n",
       "    'remaining': 50,\n",
       "    'reset': 1652504867},\n",
       "   '/users/:source_user_id/blocking/:target_user_id&DELETE': {'limit': 50,\n",
       "    'remaining': 50,\n",
       "    'reset': 1652504867},\n",
       "   '/users/contributors/pending': {'limit': 2000,\n",
       "    'remaining': 2000,\n",
       "    'reset': 1652504867},\n",
       "   '/users/show/:id': {'limit': 900, 'remaining': 900, 'reset': 1652504867},\n",
       "   '/users/:source_user_id/following&POST': {'limit': 50,\n",
       "    'remaining': 50,\n",
       "    'reset': 1652504867},\n",
       "   '/users/:id/tweets': {'limit': 900, 'remaining': 900, 'reset': 1652504867},\n",
       "   '/users/:id/retweets/:source_tweet_id&DELETE': {'limit': 50,\n",
       "    'remaining': 50,\n",
       "    'reset': 1652504867},\n",
       "   '/users/search': {'limit': 900, 'remaining': 900, 'reset': 1652504867},\n",
       "   '/users/:id/likes&POST': {'limit': 50,\n",
       "    'remaining': 50,\n",
       "    'reset': 1652504867},\n",
       "   '/users/suggestions/:slug': {'limit': 15,\n",
       "    'remaining': 15,\n",
       "    'reset': 1652504867},\n",
       "   '/users/contributees/pending': {'limit': 200,\n",
       "    'remaining': 200,\n",
       "    'reset': 1652504867},\n",
       "   '/users/:id/retweets&POST': {'limit': 50,\n",
       "    'remaining': 50,\n",
       "    'reset': 1652504867},\n",
       "   '/users/profile_banner': {'limit': 180,\n",
       "    'remaining': 180,\n",
       "    'reset': 1652504867},\n",
       "   '/users/by/username/:source_username/following/:target_user_name&DELETE': {'limit': 50,\n",
       "    'remaining': 50,\n",
       "    'reset': 1652504867},\n",
       "   '/users/by/username/:handle/tweets': {'limit': 900,\n",
       "    'remaining': 900,\n",
       "    'reset': 1652504867},\n",
       "   '/users/derived_info': {'limit': 15, 'remaining': 15, 'reset': 1652504867},\n",
       "   '/users/:id/blocking&POST': {'limit': 50,\n",
       "    'remaining': 50,\n",
       "    'reset': 1652504867},\n",
       "   '/users/by/username/:source_username/following&POST': {'limit': 50,\n",
       "    'remaining': 50,\n",
       "    'reset': 1652504867},\n",
       "   '/users/:id/followers': {'limit': 15, 'remaining': 15, 'reset': 1652504867},\n",
       "   '/users/suggestions/:slug/members': {'limit': 15,\n",
       "    'remaining': 15,\n",
       "    'reset': 1652504867},\n",
       "   '/users/:id/muting': {'limit': 15, 'remaining': 15, 'reset': 1652504867},\n",
       "   '/users/:id/pinned_lists&GET': {'limit': 15,\n",
       "    'remaining': 15,\n",
       "    'reset': 1652504867},\n",
       "   '/users/:id/mentions': {'limit': 180,\n",
       "    'remaining': 180,\n",
       "    'reset': 1652504867},\n",
       "   '/users/:id/following': {'limit': 15, 'remaining': 15, 'reset': 1652504867},\n",
       "   '/users/:id/pinned_lists&POST': {'limit': 50,\n",
       "    'remaining': 50,\n",
       "    'reset': 1652504867},\n",
       "   '/users/:source_user_id/following/:target_user_id&DELETE': {'limit': 50,\n",
       "    'remaining': 50,\n",
       "    'reset': 1652504867},\n",
       "   '/users/by/username/:username': {'limit': 900,\n",
       "    'remaining': 900,\n",
       "    'reset': 1652504867},\n",
       "   '/users/:id/owned_lists&GET': {'limit': 15,\n",
       "    'remaining': 15,\n",
       "    'reset': 1652504867},\n",
       "   '/users/:id/followed_lists&POST': {'limit': 50,\n",
       "    'remaining': 50,\n",
       "    'reset': 1652504867},\n",
       "   '/users/by/username/:username/followers': {'limit': 15,\n",
       "    'remaining': 15,\n",
       "    'reset': 1652504867},\n",
       "   '/users/lookup': {'limit': 900, 'remaining': 900, 'reset': 1652504867},\n",
       "   '/users/:id/followed_lists/:list_id&DELETE': {'limit': 50,\n",
       "    'remaining': 50,\n",
       "    'reset': 1652504867},\n",
       "   '/users/:id/blocking': {'limit': 15, 'remaining': 15, 'reset': 1652504867},\n",
       "   '/users/suggestions': {'limit': 15, 'remaining': 15, 'reset': 1652504867},\n",
       "   '/users/:id/likes/:tweet_id&DELETE': {'limit': 50,\n",
       "    'remaining': 50,\n",
       "    'reset': 1652504867},\n",
       "   '/users/by/username/:username/following': {'limit': 15,\n",
       "    'remaining': 15,\n",
       "    'reset': 1652504867},\n",
       "   '/users/by/username/:handle/mentions': {'limit': 180,\n",
       "    'remaining': 180,\n",
       "    'reset': 1652504867},\n",
       "   '/users/by': {'limit': 900, 'remaining': 900, 'reset': 1652504867},\n",
       "   '/users/:source_user_id/muting/:target_user_id&DELETE': {'limit': 50,\n",
       "    'remaining': 50,\n",
       "    'reset': 1652504867},\n",
       "   '/users/:id/followed_lists&GET': {'limit': 15,\n",
       "    'remaining': 15,\n",
       "    'reset': 1652504867},\n",
       "   '/users/:id/liked_tweets': {'limit': 75,\n",
       "    'remaining': 75,\n",
       "    'reset': 1652504867}},\n",
       "  'teams': {'/teams/authorize': {'limit': 15,\n",
       "    'remaining': 15,\n",
       "    'reset': 1652504867}},\n",
       "  'followers': {'/followers/ids': {'limit': 15,\n",
       "    'remaining': 15,\n",
       "    'reset': 1652504867},\n",
       "   '/followers/list': {'limit': 15, 'remaining': 15, 'reset': 1652504867}},\n",
       "  'collections': {'/collections/list': {'limit': 1000,\n",
       "    'remaining': 1000,\n",
       "    'reset': 1652504867},\n",
       "   '/collections/entries': {'limit': 1000,\n",
       "    'remaining': 1000,\n",
       "    'reset': 1652504867},\n",
       "   '/collections/show': {'limit': 1000,\n",
       "    'remaining': 1000,\n",
       "    'reset': 1652504867}},\n",
       "  'permissions': {'/permissions/user_permissions/admin_email_verification': {'limit': 3,\n",
       "    'remaining': 3,\n",
       "    'reset': 1652504867},\n",
       "   '/permissions/user_permissions': {'limit': 3,\n",
       "    'remaining': 3,\n",
       "    'reset': 1652504867}},\n",
       "  'tweets&POST': {'/tweets&POST': {'limit': 200,\n",
       "    'remaining': 200,\n",
       "    'reset': 1652504867}},\n",
       "  'statuses': {'/statuses/retweeters/ids': {'limit': 75,\n",
       "    'remaining': 75,\n",
       "    'reset': 1652504867},\n",
       "   '/statuses/retweets_of_me': {'limit': 75,\n",
       "    'remaining': 75,\n",
       "    'reset': 1652504867},\n",
       "   '/statuses/home_timeline': {'limit': 15,\n",
       "    'remaining': 15,\n",
       "    'reset': 1652504867},\n",
       "   '/statuses/show/:id': {'limit': 900, 'remaining': 900, 'reset': 1652504867},\n",
       "   '/statuses/user_timeline': {'limit': 900,\n",
       "    'remaining': 900,\n",
       "    'reset': 1652504867},\n",
       "   '/statuses/friends': {'limit': 15, 'remaining': 15, 'reset': 1652504867},\n",
       "   '/statuses/retweets/:id': {'limit': 75,\n",
       "    'remaining': 75,\n",
       "    'reset': 1652504867},\n",
       "   '/statuses/mentions_timeline': {'limit': 75,\n",
       "    'remaining': 75,\n",
       "    'reset': 1652504867},\n",
       "   '/statuses/oembed': {'limit': 180, 'remaining': 180, 'reset': 1652504867},\n",
       "   '/statuses/lookup': {'limit': 900, 'remaining': 900, 'reset': 1652504867}},\n",
       "  'custom_profiles': {'/custom_profiles/list': {'limit': 180,\n",
       "    'remaining': 180,\n",
       "    'reset': 1652504867},\n",
       "   '/custom_profiles/show': {'limit': 180,\n",
       "    'remaining': 180,\n",
       "    'reset': 1652504867}},\n",
       "  'webhooks': {'/webhooks/subscriptions/direct_messages': {'limit': 15,\n",
       "    'remaining': 15,\n",
       "    'reset': 1652504867},\n",
       "   '/webhooks': {'limit': 15, 'remaining': 15, 'reset': 1652504867}},\n",
       "  'contacts': {'/contacts/uploaded_by': {'limit': 300,\n",
       "    'remaining': 300,\n",
       "    'reset': 1652504867},\n",
       "   '/contacts/users': {'limit': 300, 'remaining': 300, 'reset': 1652504867},\n",
       "   '/contacts/addressbook': {'limit': 300,\n",
       "    'remaining': 300,\n",
       "    'reset': 1652504867},\n",
       "   '/contacts/users_and_uploaded_by': {'limit': 300,\n",
       "    'remaining': 300,\n",
       "    'reset': 1652504867},\n",
       "   '/contacts/delete/status': {'limit': 300,\n",
       "    'remaining': 300,\n",
       "    'reset': 1652504867}},\n",
       "  'labs': {'/labs/2/platform_manipulation/reports': {'limit': 5,\n",
       "    'remaining': 5,\n",
       "    'reset': 1652504867},\n",
       "   '/labs/:version/tweets/:id/hidden&PUT': {'limit': 10,\n",
       "    'remaining': 10,\n",
       "    'reset': 1652504867},\n",
       "   '/labs/:version/tweets/stream/filter/': {'limit': 50,\n",
       "    'remaining': 50,\n",
       "    'reset': 1652504867},\n",
       "   '/labs/:version/users/:id/tweets': {'limit': 225,\n",
       "    'remaining': 225,\n",
       "    'reset': 1652504867},\n",
       "   '/labs/2/reports': {'limit': 5, 'remaining': 5, 'reset': 1652504867},\n",
       "   '/labs/:version/tweets/stream/filter/rules&POST': {'limit': 450,\n",
       "    'remaining': 450,\n",
       "    'reset': 1652504867},\n",
       "   '/labs/:version/tweets/stream/sample': {'limit': 50,\n",
       "    'remaining': 50,\n",
       "    'reset': 1652504867},\n",
       "   '/labs/:version/users/by/username/:handle/tweets': {'limit': 225,\n",
       "    'remaining': 225,\n",
       "    'reset': 1652504867},\n",
       "   '/labs/:version/tweets/metrics/private': {'limit': 15,\n",
       "    'remaining': 15,\n",
       "    'reset': 1652504867},\n",
       "   '/labs/:version/tweets/stream/filter/rules/:instance_name': {'limit': 450,\n",
       "    'remaining': 450,\n",
       "    'reset': 1652504867},\n",
       "   '/labs/:version/tweets/*': {'limit': 900,\n",
       "    'remaining': 900,\n",
       "    'reset': 1652504867},\n",
       "   '/labs/:version/users/*': {'limit': 900,\n",
       "    'remaining': 900,\n",
       "    'reset': 1652504867},\n",
       "   '/labs/:version/tweets/stream/filter/:instance_name': {'limit': 50,\n",
       "    'remaining': 50,\n",
       "    'reset': 1652504867},\n",
       "   '/labs/:version/tweets/stream/filter/rules/': {'limit': 450,\n",
       "    'remaining': 450,\n",
       "    'reset': 1652504867},\n",
       "   '/labs/:version/tweets/stream/compliance': {'limit': 500,\n",
       "    'remaining': 500,\n",
       "    'reset': 1652504867},\n",
       "   '/labs/:version/tweets/search': {'limit': 225,\n",
       "    'remaining': 225,\n",
       "    'reset': 1652504867}},\n",
       "  'i': {'/i/config': {'limit': 15, 'remaining': 15, 'reset': 1652504867},\n",
       "   '/i/tfb/v1/smb/web/:account_id/payment/save': {'limit': 15,\n",
       "    'remaining': 15,\n",
       "    'reset': 1652504867}},\n",
       "  'tweet_prompts': {'/tweet_prompts/report_interaction': {'limit': 180,\n",
       "    'remaining': 180,\n",
       "    'reset': 1652504867},\n",
       "   '/tweet_prompts/show': {'limit': 180,\n",
       "    'remaining': 180,\n",
       "    'reset': 1652504867}},\n",
       "  'moments': {'/moments/statuses/update': {'limit': 5,\n",
       "    'remaining': 5,\n",
       "    'reset': 1652504867},\n",
       "   '/moments/create': {'limit': 15, 'remaining': 15, 'reset': 1652504867},\n",
       "   '/moments/permissions': {'limit': 300,\n",
       "    'remaining': 300,\n",
       "    'reset': 1652504867}},\n",
       "  'limiter_scalding_report_creation': {'/limiter_scalding_report_creation': {'limit': 4500,\n",
       "    'remaining': 4500,\n",
       "    'reset': 1652504867}},\n",
       "  'fleets': {'/fleets/:version/mutes/create': {'limit': 100,\n",
       "    'remaining': 100,\n",
       "    'reset': 1652504867},\n",
       "   '/fleets/:version/viewers': {'limit': 100,\n",
       "    'remaining': 100,\n",
       "    'reset': 1652504867},\n",
       "   '/fleets/:version/delete': {'limit': 50,\n",
       "    'remaining': 50,\n",
       "    'reset': 1652504867},\n",
       "   '/fleets/:version/avatar_content': {'limit': 100,\n",
       "    'remaining': 100,\n",
       "    'reset': 1652504867},\n",
       "   '/fleets/:version/create': {'limit': 50,\n",
       "    'remaining': 50,\n",
       "    'reset': 1652504867},\n",
       "   '/fleets/:version/user_fleets': {'limit': 180,\n",
       "    'remaining': 180,\n",
       "    'reset': 1652504867},\n",
       "   '/fleets/:version/fleetline': {'limit': 100,\n",
       "    'remaining': 100,\n",
       "    'reset': 1652504867},\n",
       "   '/fleets/:version/track_events': {'limit': 100,\n",
       "    'remaining': 100,\n",
       "    'reset': 1652504867},\n",
       "   '/fleets/:version/update': {'limit': 50,\n",
       "    'remaining': 50,\n",
       "    'reset': 1652504867},\n",
       "   '/fleets/:version/fleet_threads': {'limit': 1000,\n",
       "    'remaining': 1000,\n",
       "    'reset': 1652504867},\n",
       "   '/fleets/:version/mutes/list': {'limit': 100,\n",
       "    'remaining': 100,\n",
       "    'reset': 1652504867},\n",
       "   '/fleets/:version/mutes/destroy': {'limit': 100,\n",
       "    'remaining': 100,\n",
       "    'reset': 1652504867},\n",
       "   '/fleets/:version/home_timeline': {'limit': 100,\n",
       "    'remaining': 100,\n",
       "    'reset': 1652504867},\n",
       "   '/fleets/:version/feedback/create': {'limit': 500,\n",
       "    'remaining': 500,\n",
       "    'reset': 1652504867},\n",
       "   '/fleets/:version/mark_read': {'limit': 1000,\n",
       "    'remaining': 1000,\n",
       "    'reset': 1652504867}},\n",
       "  'help': {'/help/tos': {'limit': 15, 'remaining': 15, 'reset': 1652504867},\n",
       "   '/help/configuration': {'limit': 15, 'remaining': 15, 'reset': 1652504867},\n",
       "   '/help/settings': {'limit': 15, 'remaining': 15, 'reset': 1652504867},\n",
       "   '/help/privacy': {'limit': 15, 'remaining': 15, 'reset': 1652504867},\n",
       "   '/help/languages': {'limit': 15, 'remaining': 15, 'reset': 1652504867}},\n",
       "  'feedback': {'/feedback/show/:id': {'limit': 180,\n",
       "    'remaining': 180,\n",
       "    'reset': 1652504867},\n",
       "   '/feedback/events': {'limit': 1000,\n",
       "    'remaining': 1000,\n",
       "    'reset': 1652504867}},\n",
       "  'business_experience': {'/business_experience/dashboard_settings/destroy': {'limit': 450,\n",
       "    'remaining': 450,\n",
       "    'reset': 1652504867},\n",
       "   '/business_experience/dashboard_features': {'limit': 450,\n",
       "    'remaining': 450,\n",
       "    'reset': 1652504867},\n",
       "   '/business_experience/keywords': {'limit': 450,\n",
       "    'remaining': 450,\n",
       "    'reset': 1652504867},\n",
       "   '/business_experience/dashboard_settings/update': {'limit': 450,\n",
       "    'remaining': 450,\n",
       "    'reset': 1652504867},\n",
       "   '/business_experience/dashboard_settings/show': {'limit': 450,\n",
       "    'remaining': 450,\n",
       "    'reset': 1652504867}},\n",
       "  'graphql&POST': {'/graphql&POST': {'limit': 15,\n",
       "    'remaining': 15,\n",
       "    'reset': 1652504867}},\n",
       "  'friends': {'/friends/following/ids': {'limit': 15,\n",
       "    'remaining': 15,\n",
       "    'reset': 1652504867},\n",
       "   '/friends/following/list': {'limit': 15,\n",
       "    'remaining': 15,\n",
       "    'reset': 1652504867},\n",
       "   '/friends/list': {'limit': 15, 'remaining': 15, 'reset': 1652504867},\n",
       "   '/friends/ids': {'limit': 15, 'remaining': 15, 'reset': 1652504867}},\n",
       "  'sandbox': {'/sandbox/account_activity/webhooks/:id/subscriptions': {'limit': 500,\n",
       "    'remaining': 500,\n",
       "    'reset': 1652504867}},\n",
       "  'drafts': {'/drafts/statuses/update': {'limit': 450,\n",
       "    'remaining': 450,\n",
       "    'reset': 1652504867},\n",
       "   '/drafts/statuses/destroy': {'limit': 450,\n",
       "    'remaining': 450,\n",
       "    'reset': 1652504867},\n",
       "   '/drafts/statuses/ids': {'limit': 450,\n",
       "    'remaining': 450,\n",
       "    'reset': 1652504867},\n",
       "   '/drafts/statuses/list': {'limit': 450,\n",
       "    'remaining': 450,\n",
       "    'reset': 1652504867},\n",
       "   '/drafts/statuses/show': {'limit': 450,\n",
       "    'remaining': 450,\n",
       "    'reset': 1652504867},\n",
       "   '/drafts/statuses/create': {'limit': 450,\n",
       "    'remaining': 450,\n",
       "    'reset': 1652504867}},\n",
       "  'direct_messages': {'/direct_messages/sent': {'limit': 300,\n",
       "    'remaining': 300,\n",
       "    'reset': 1652504867},\n",
       "   '/direct_messages/broadcasts/list': {'limit': 60,\n",
       "    'remaining': 60,\n",
       "    'reset': 1652504867},\n",
       "   '/direct_messages/subscribers/lists/members/show': {'limit': 1000,\n",
       "    'remaining': 1000,\n",
       "    'reset': 1652504867},\n",
       "   '/direct_messages/mark_read': {'limit': 1000,\n",
       "    'remaining': 1000,\n",
       "    'reset': 1652504867},\n",
       "   '/direct_messages/subscribers/ids': {'limit': 180,\n",
       "    'remaining': 180,\n",
       "    'reset': 1652504867},\n",
       "   '/direct_messages/sent_and_received': {'limit': 300,\n",
       "    'remaining': 300,\n",
       "    'reset': 1652504867},\n",
       "   '/direct_messages/broadcasts/statuses/list': {'limit': 60,\n",
       "    'remaining': 60,\n",
       "    'reset': 1652504867},\n",
       "   '/direct_messages': {'limit': 300, 'remaining': 300, 'reset': 1652504867},\n",
       "   '/direct_messages/subscribers/lists/members/ids': {'limit': 180,\n",
       "    'remaining': 180,\n",
       "    'reset': 1652504867},\n",
       "   '/direct_messages/subscribers/show': {'limit': 180,\n",
       "    'remaining': 180,\n",
       "    'reset': 1652504867},\n",
       "   '/direct_messages/broadcasts/show': {'limit': 60,\n",
       "    'remaining': 60,\n",
       "    'reset': 1652504867},\n",
       "   '/direct_messages/broadcasts/statuses/show': {'limit': 60,\n",
       "    'remaining': 60,\n",
       "    'reset': 1652504867},\n",
       "   '/direct_messages/subscribers/lists/list': {'limit': 180,\n",
       "    'remaining': 180,\n",
       "    'reset': 1652504867},\n",
       "   '/direct_messages/show': {'limit': 300,\n",
       "    'remaining': 300,\n",
       "    'reset': 1652504867},\n",
       "   '/direct_messages/events/list': {'limit': 15,\n",
       "    'remaining': 15,\n",
       "    'reset': 1652504867},\n",
       "   '/direct_messages/subscribers/lists/show': {'limit': 180,\n",
       "    'remaining': 180,\n",
       "    'reset': 1652504867},\n",
       "   '/direct_messages/events/show': {'limit': 15,\n",
       "    'remaining': 15,\n",
       "    'reset': 1652504867}},\n",
       "  'media': {'/media/upload': {'limit': 500,\n",
       "    'remaining': 500,\n",
       "    'reset': 1652504867}},\n",
       "  'traffic': {'/traffic/map': {'limit': 15,\n",
       "    'remaining': 15,\n",
       "    'reset': 1652504867}},\n",
       "  'strato': {'/strato/column/None/:id/cms/*': {'limit': 150,\n",
       "    'remaining': 150,\n",
       "    'reset': 1652504867}},\n",
       "  'account_activity': {'/account_activity/all/webhooks': {'limit': 15,\n",
       "    'remaining': 15,\n",
       "    'reset': 1652504867},\n",
       "   '/account_activity/all/:instance_name/subscriptions': {'limit': 500,\n",
       "    'remaining': 500,\n",
       "    'reset': 1652504867},\n",
       "   '/account_activity/direct_messages/webhooks': {'limit': 15,\n",
       "    'remaining': 15,\n",
       "    'reset': 1652504867},\n",
       "   '/account_activity/webhooks/:id/subscriptions/direct_messages/list': {'limit': 15,\n",
       "    'remaining': 15,\n",
       "    'reset': 1652504867},\n",
       "   '/account_activity/webhooks/:id/subscriptions/all': {'limit': 500,\n",
       "    'remaining': 500,\n",
       "    'reset': 1652504867},\n",
       "   '/account_activity/direct_messages/:instance_name/webhooks': {'limit': 15,\n",
       "    'remaining': 15,\n",
       "    'reset': 1652504867},\n",
       "   '/account_activity/webhooks/:id/subscriptions/all/list': {'limit': 15,\n",
       "    'remaining': 15,\n",
       "    'reset': 1652504867},\n",
       "   '/account_activity/webhooks/:id/subscriptions/direct_messages': {'limit': 500,\n",
       "    'remaining': 500,\n",
       "    'reset': 1652504867},\n",
       "   '/account_activity/webhooks': {'limit': 15,\n",
       "    'remaining': 15,\n",
       "    'reset': 1652504867},\n",
       "   '/account_activity/direct_messages/:instance_name/subscriptions': {'limit': 15,\n",
       "    'remaining': 15,\n",
       "    'reset': 1652504867},\n",
       "   '/account_activity/webhooks/:id/subscriptions': {'limit': 500,\n",
       "    'remaining': 500,\n",
       "    'reset': 1652504867},\n",
       "   '/account_activity/all/:instance_name/webhooks': {'limit': 15,\n",
       "    'remaining': 15,\n",
       "    'reset': 1652504867}},\n",
       "  'account': {'/account/login_verification_enrollment': {'limit': 15,\n",
       "    'remaining': 15,\n",
       "    'reset': 1652504867},\n",
       "   '/account/update_profile': {'limit': 15,\n",
       "    'remaining': 15,\n",
       "    'reset': 1652504867},\n",
       "   '/account/authenticate_web_view': {'limit': 50,\n",
       "    'remaining': 50,\n",
       "    'reset': 1652504867},\n",
       "   '/account/verify_credentials': {'limit': 75,\n",
       "    'remaining': 74,\n",
       "    'reset': 1652504866},\n",
       "   '/account/settings': {'limit': 15, 'remaining': 15, 'reset': 1652504867},\n",
       "   '/account/personalization/p13n_preferences': {'limit': 200,\n",
       "    'remaining': 200,\n",
       "    'reset': 1652504867},\n",
       "   '/account/change_password': {'limit': 15,\n",
       "    'remaining': 15,\n",
       "    'reset': 1652504867}},\n",
       "  'safety': {'/safety/detection_feedback': {'limit': 450000,\n",
       "    'remaining': 450000,\n",
       "    'reset': 1652504867}},\n",
       "  'favorites': {'/favorites/list': {'limit': 75,\n",
       "    'remaining': 75,\n",
       "    'reset': 1652504867}},\n",
       "  'lists&POST': {'/lists&POST': {'limit': 300,\n",
       "    'remaining': 300,\n",
       "    'reset': 1652504867}},\n",
       "  'device': {'/device/token': {'limit': 15,\n",
       "    'remaining': 15,\n",
       "    'reset': 1652504867}},\n",
       "  'tweets': {'/tweets/search/all': {'limit': 900,\n",
       "    'remaining': 900,\n",
       "    'reset': 1652504867},\n",
       "   '/tweets/search/stream/rules': {'limit': 450,\n",
       "    'remaining': 450,\n",
       "    'reset': 1652504867},\n",
       "   '/tweets/search/recent': {'limit': 180,\n",
       "    'remaining': 180,\n",
       "    'reset': 1652504867},\n",
       "   '/tweets/sample/stream': {'limit': 50,\n",
       "    'remaining': 50,\n",
       "    'reset': 1652504867},\n",
       "   '/tweets/:id&DELETE': {'limit': 50, 'remaining': 50, 'reset': 1652504867},\n",
       "   '/tweets/': {'limit': 900, 'remaining': 900, 'reset': 1652504867},\n",
       "   '/tweets/counts/all': {'limit': 900, 'remaining': 900, 'reset': 1652504867},\n",
       "   '/tweets/search/stream': {'limit': 50,\n",
       "    'remaining': 50,\n",
       "    'reset': 1652504867},\n",
       "   '/tweets/search/:product/:label': {'limit': 1800,\n",
       "    'remaining': 1800,\n",
       "    'reset': 1652504867},\n",
       "   '/tweets/search/stream/rules/validation&POST': {'limit': 450,\n",
       "    'remaining': 450,\n",
       "    'reset': 1652504867},\n",
       "   '/tweets/search/:product/:instance/counts': {'limit': 900,\n",
       "    'remaining': 900,\n",
       "    'reset': 1652504867},\n",
       "   '/tweets/:id/retweeted_by': {'limit': 75,\n",
       "    'remaining': 75,\n",
       "    'reset': 1652504867},\n",
       "   '/tweets/:tweet_id/liking_users': {'limit': 75,\n",
       "    'remaining': 75,\n",
       "    'reset': 1652504867},\n",
       "   '/tweets/:id': {'limit': 900, 'remaining': 900, 'reset': 1652504867},\n",
       "   '/tweets/search/stream/rules&DELETE': {'limit': 450,\n",
       "    'remaining': 450,\n",
       "    'reset': 1652504867},\n",
       "   '/tweets/counts/recent': {'limit': 900,\n",
       "    'remaining': 900,\n",
       "    'reset': 1652504867},\n",
       "   '/tweets/search/stream/rules&POST': {'limit': 450,\n",
       "    'remaining': 450,\n",
       "    'reset': 1652504867},\n",
       "   '/tweets/:id/hidden&PUT': {'limit': 50,\n",
       "    'remaining': 50,\n",
       "    'reset': 1652504867}},\n",
       "  'saved_searches': {'/saved_searches/destroy/:id': {'limit': 15,\n",
       "    'remaining': 15,\n",
       "    'reset': 1652504867},\n",
       "   '/saved_searches/show/:id': {'limit': 15,\n",
       "    'remaining': 15,\n",
       "    'reset': 1652504867},\n",
       "   '/saved_searches/list': {'limit': 15,\n",
       "    'remaining': 15,\n",
       "    'reset': 1652504867}},\n",
       "  'oauth': {'/oauth/revoke': {'limit': 15,\n",
       "    'remaining': 15,\n",
       "    'reset': 1652504867},\n",
       "   '/oauth/invalidate_token': {'limit': 450,\n",
       "    'remaining': 450,\n",
       "    'reset': 1652504867},\n",
       "   '/oauth/revoke_html': {'limit': 15, 'remaining': 15, 'reset': 1652504867}},\n",
       "  'search': {'/search/tweets': {'limit': 180,\n",
       "    'remaining': 180,\n",
       "    'reset': 1652504867}},\n",
       "  'trends': {'/trends/closest': {'limit': 75,\n",
       "    'remaining': 75,\n",
       "    'reset': 1652504867},\n",
       "   '/trends/available': {'limit': 75, 'remaining': 75, 'reset': 1652504867},\n",
       "   '/trends/place': {'limit': 75, 'remaining': 75, 'reset': 1652504867}},\n",
       "  'live_pipeline': {'/live_pipeline/events': {'limit': 180,\n",
       "    'remaining': 180,\n",
       "    'reset': 1652504867}},\n",
       "  'graphql': {'/graphql': {'limit': 15,\n",
       "    'remaining': 15,\n",
       "    'reset': 1652504867}}}}"
      ]
     },
     "execution_count": 91,
     "metadata": {},
     "output_type": "execute_result"
    }
   ],
   "source": [
    "api.rate_limit_status()"
   ]
  },
  {
   "cell_type": "code",
   "execution_count": 92,
   "metadata": {},
   "outputs": [],
   "source": [
    "cbhami02=api.get_user(screen_name='cbhami02')\n"
   ]
  },
  {
   "cell_type": "code",
   "execution_count": 93,
   "metadata": {},
   "outputs": [
    {
     "name": "stdout",
     "output_type": "stream",
     "text": [
      "{'limit': 900, 'remaining': 897, 'reset': 1652504866}\n"
     ]
    }
   ],
   "source": [
    "print(api.rate_limit_status()['resources']['users']['/users/:id'])"
   ]
  },
  {
   "cell_type": "code",
   "execution_count": 94,
   "metadata": {},
   "outputs": [
    {
     "name": "stdout",
     "output_type": "stream",
     "text": [
      "{'limit': 180, 'remaining': 180, 'reset': 1652504867}\n"
     ]
    }
   ],
   "source": [
    "print(api.rate_limit_status()['resources']['application']['/application/rate_limit_status'])"
   ]
  },
  {
   "cell_type": "markdown",
   "metadata": {
    "jp-MarkdownHeadingCollapsed": true,
    "tags": []
   },
   "source": [
    "### Followers"
   ]
  },
  {
   "cell_type": "code",
   "execution_count": 95,
   "metadata": {
    "tags": []
   },
   "outputs": [],
   "source": [
    "cursor = tweepy.Cursor(api.followers)"
   ]
  },
  {
   "cell_type": "code",
   "execution_count": 96,
   "metadata": {},
   "outputs": [],
   "source": [
    "followers = []  # for storing followers' User objects\n",
    "for account in cursor.items(15):  # request only 10 results (10 most recent followers in this case)\n",
    "    followers.append(account.screen_name)"
   ]
  },
  {
   "cell_type": "code",
   "execution_count": 97,
   "metadata": {},
   "outputs": [
    {
     "name": "stdout",
     "output_type": "stream",
     "text": [
      "Followers: 1SG_Hamilton adore_myBitches BrockCline ChildsSherry GucciManeNtail HamptonRFinest mwyattea OrderUpFayville PjCarl porge10 sayedabdulqadee shefferba49 soldiersofpaint VA_HomeLoan yongkuansima\n"
     ]
    }
   ],
   "source": [
    "print('Followers:', \n",
    "      ' '.join(sorted(followers, key=lambda s: s.lower())))"
   ]
  },
  {
   "cell_type": "code",
   "execution_count": 98,
   "metadata": {},
   "outputs": [
    {
     "name": "stdout",
     "output_type": "stream",
     "text": [
      "['Chrisbo1515', 'On85601372', 'Lx100hht', 'borasi_madhu', 'CakicLidija', 'hon_yara_dou', '4UJyy_', 'MatthewBurleig6', 'flanelbiru', 'DeadlyHunter37']\n"
     ]
    }
   ],
   "source": [
    "cursor = tweepy.Cursor(api.followers, screen_name='nasa', count=200)\n",
    "followers = []\n",
    "for account in cursor.items(10):  # request 2 pages of followers\n",
    "    followers.append(account.screen_name)\n",
    "\n",
    "print(followers)"
   ]
  },
  {
   "cell_type": "code",
   "execution_count": 99,
   "metadata": {},
   "outputs": [],
   "source": [
    "cursor = tweepy.Cursor(api.followers_ids, screen_name='nasa', count=5000)\n",
    "followers_ids = []\n",
    "for accountid in cursor.items(5000): #request 1 page of follower_ids\n",
    "    followers_ids.append(accountid)"
   ]
  },
  {
   "cell_type": "code",
   "execution_count": 100,
   "metadata": {
    "tags": []
   },
   "outputs": [
    {
     "name": "stdout",
     "output_type": "stream",
     "text": [
      "[1525337600780693505, 1525337828388913155, 1486409584306757636, 1525338129841786882, 1525338025969930240, 1525335342194511872, 1525333095171375106, 1110801046442381318, 1525337596741689344, 1525337457134166018, 1525337344697860096, 1467453330209140736, 1525337996249010177, 1525337349755912196, 1525337304448917504, 1525336891842764800, 1525337492194459650, 1333770431569022979, 1525326964864729089, 1525336050042032128, 1525337664702058498, 1525337424293171201, 916314153069039616, 1525315140811300865, 1525336672606355457, 1525334406667325440, 1525337481570295808, 1500308345722310656, 1525336074364526595, 1439166790408409092, 1525337806750777344, 1525337014853177345, 1525337413157019648, 1525337496103505920, 1525337383503376384, 1525335599795814408, 1525336872288935944, 1525332973607739393, 1525337533047099392, 1385041619238363136, 1525337608250961922, 1525336607418732544, 1525329841595244545, 1525337625959272449, 1519907590020292608, 1525337494853591040, 1503506525796679684, 1525326904521158656, 1525337131253637120, 1525336463851790336, 1525337475245346816, 1525337753239822336, 1477971118577557506, 1363087578958761984, 1497658254003896320, 1525337831182585856, 1525337294089367552, 1525337437651619840, 1525337833954844672, 1525337653432000512, 1525336772682477570, 1525337357653749760, 1517579239700148224, 1503953994603020289, 1525337647643643904, 1525337721778016256, 1525337658788134912, 1525337416533303297, 1525337232655405061, 1525337298086285312, 262095061, 1348021075997765633, 1525336082803527681, 1525336791112613889, 1523541901479096322, 1525337469583077376, 1525337309922881537, 1452177293770518534, 1519363137451229184, 1525337452113698816, 1525337398619643910, 1525336278207590400, 1525337615662059521, 1525336828848418816, 1525335766255149056, 1525333852230627328, 1525335770126782464, 1525336458676273160, 1525335621719695365, 1525227625609928705, 1525335374503071748, 1525336300118999040, 1525337514357280768, 1525335124119900160, 1477174077580316677, 1525334103339458560, 1525335662240706561, 1525337555428085762, 1525336870816972800, 1525337487782031361]\n"
     ]
    }
   ],
   "source": [
    "followers_ids_fragments = [followers_ids[i * 100:(i + 1) * 100] for i in range((len(followers_ids) + 100 - 1) // 100 )] \n",
    "print (followers_ids_fragments[0])"
   ]
  },
  {
   "cell_type": "markdown",
   "metadata": {
    "jp-MarkdownHeadingCollapsed": true,
    "tags": []
   },
   "source": [
    "### Rate Limits"
   ]
  },
  {
   "cell_type": "code",
   "execution_count": 101,
   "metadata": {},
   "outputs": [
    {
     "name": "stdout",
     "output_type": "stream",
     "text": [
      "{'limit': 15, 'remaining': 14, 'reset': 1652504869}\n"
     ]
    }
   ],
   "source": [
    "print(api.rate_limit_status()['resources']['followers']['/followers/ids'])\n"
   ]
  },
  {
   "cell_type": "code",
   "execution_count": 102,
   "metadata": {},
   "outputs": [
    {
     "name": "stdout",
     "output_type": "stream",
     "text": [
      "{'limit': 900, 'remaining': 900, 'reset': 1652504869}\n"
     ]
    }
   ],
   "source": [
    "print(api.rate_limit_status()['resources']['users']['/users/lookup'])"
   ]
  },
  {
   "cell_type": "markdown",
   "metadata": {
    "jp-MarkdownHeadingCollapsed": true,
    "tags": []
   },
   "source": [
    "### Search Tweets by Topic"
   ]
  },
  {
   "cell_type": "code",
   "execution_count": 103,
   "metadata": {},
   "outputs": [],
   "source": [
    "def print_tweets(tweets):\n",
    "    \"\"\"For each Tweepy Status object in tweets, display the \n",
    "    user's screen_name and tweet text. If the language is not\n",
    "    English, translate the text with TextBlob.\"\"\"\n",
    "    for tweet in tweets:\n",
    "        print(f'{tweet.user.screen_name}:', end=' ')\n",
    "    \n",
    "        if 'en' in tweet.lang:\n",
    "            print(f'{tweet.text}\\n')\n",
    "        elif 'und' not in tweet.lang:  # translate to English first\n",
    "            print(f'\\n  ORIGINAL: {tweet.text}')\n",
    "            try:\n",
    "                print(f'TRANSLATED: {TextBlob(tweet.text).translate()}\\n')\n",
    "            except:\n",
    "                print('Unable to translate tweet')"
   ]
  },
  {
   "cell_type": "code",
   "execution_count": 104,
   "metadata": {},
   "outputs": [],
   "source": [
    "tweets = api.search(q='Johnny Depp', count=3)"
   ]
  },
  {
   "cell_type": "code",
   "execution_count": 105,
   "metadata": {},
   "outputs": [
    {
     "name": "stdout",
     "output_type": "stream",
     "text": [
      "aundrias: RT @Rebeca29736893: WE LOVE YOU JOHNNY DEPP !!!\n",
      "#JohnnyDepp #JusticeForJohnnyDepp #WELOVEYOUJOHNNYDEPP #WeAreWithYouJohnnyDepp 💓♥️❤️💝🐢🐢🐢🐢🐰🐇…\n",
      "\n",
      "themoviesseries: If there is a trend I wish #johnnydepp sees above all is this one 💞💞💞\n",
      "WE LOVE YOU JOHNNY DEPP.\n",
      "We know you aren't p… https://t.co/UW5nPfZPCb\n",
      "\n",
      "13claudia_: \n",
      "  ORIGINAL: RT @westenthu: wst Johnny Depp &amp; Winona Ryder  \n",
      " https://t.co/uvEmYuAWwJ\n",
      "Unable to translate tweet\n"
     ]
    }
   ],
   "source": [
    "print_tweets(tweets) "
   ]
  },
  {
   "cell_type": "code",
   "execution_count": 106,
   "metadata": {},
   "outputs": [],
   "source": [
    "tweets = api.search(q='Johnny Depp :)', count=3) #Only \"positive sentiment tweets involving basketball\""
   ]
  },
  {
   "cell_type": "code",
   "execution_count": 107,
   "metadata": {},
   "outputs": [],
   "source": [
    "tweets = api.search(q='#Heard', count=5)"
   ]
  },
  {
   "cell_type": "code",
   "execution_count": 108,
   "metadata": {},
   "outputs": [
    {
     "name": "stdout",
     "output_type": "stream",
     "text": [
      "gloxgoldnchildr: RT @gloxgoldnchildr: #Seriously though 🤔 I am a #bit #concerned 🇯🇲💯 at how #inhumane our #citizens have #become with #one another! The #cri…\n",
      "\n",
      "hephaistos_ai: RT @theTACpodcast: Thanks to @TheHumanResolve for sharing his story of #courage for the micro-series! In the 1st episode, Savio and a few o…\n",
      "\n",
      "theTACpodcast: Thanks to @TheHumanResolve for sharing his story of #courage for the micro-series! In the 1st episode, Savio and a… https://t.co/YKZqsktfvx\n",
      "\n",
      "SvetaDoronina2: RT @SarahJReports: What are people saying about #seen &amp; #heard? #underreportednews song by @MilesMinnick #NativeTwitter #DisabilityTwitter…\n",
      "\n"
     ]
    }
   ],
   "source": [
    "print_tweets(tweets)"
   ]
  },
  {
   "cell_type": "markdown",
   "metadata": {
    "jp-MarkdownHeadingCollapsed": true,
    "tags": []
   },
   "source": [
    "### Trends Available"
   ]
  },
  {
   "cell_type": "code",
   "execution_count": 109,
   "metadata": {},
   "outputs": [],
   "source": [
    "trends_available = api.trends_available()"
   ]
  },
  {
   "cell_type": "code",
   "execution_count": 110,
   "metadata": {},
   "outputs": [
    {
     "data": {
      "text/plain": [
       "467"
      ]
     },
     "execution_count": 110,
     "metadata": {},
     "output_type": "execute_result"
    }
   ],
   "source": [
    "len(trends_available)"
   ]
  },
  {
   "cell_type": "code",
   "execution_count": 111,
   "metadata": {},
   "outputs": [
    {
     "data": {
      "text/plain": [
       "{'name': 'Worldwide',\n",
       " 'placeType': {'code': 19, 'name': 'Supername'},\n",
       " 'url': 'http://where.yahooapis.com/v1/place/1',\n",
       " 'parentid': 0,\n",
       " 'country': '',\n",
       " 'woeid': 1,\n",
       " 'countryCode': None}"
      ]
     },
     "execution_count": 111,
     "metadata": {},
     "output_type": "execute_result"
    }
   ],
   "source": [
    "trends_available[0]"
   ]
  },
  {
   "cell_type": "code",
   "execution_count": 112,
   "metadata": {},
   "outputs": [
    {
     "data": {
      "text/plain": [
       "{'name': 'Winnipeg',\n",
       " 'placeType': {'code': 7, 'name': 'Town'},\n",
       " 'url': 'http://where.yahooapis.com/v1/place/2972',\n",
       " 'parentid': 23424775,\n",
       " 'country': 'Canada',\n",
       " 'woeid': 2972,\n",
       " 'countryCode': 'CA'}"
      ]
     },
     "execution_count": 112,
     "metadata": {},
     "output_type": "execute_result"
    }
   ],
   "source": [
    "trends_available[1]"
   ]
  },
  {
   "cell_type": "code",
   "execution_count": 113,
   "metadata": {},
   "outputs": [],
   "source": [
    "world_trends_comp = api.trends_place(id=1)  # Worldwide trending topics (list containing one dictionary)"
   ]
  },
  {
   "cell_type": "code",
   "execution_count": 114,
   "metadata": {},
   "outputs": [],
   "source": [
    "world_trends = world_trends_comp[0]['trends'] # The 'trends' key is tied to the info about the actual trending topics"
   ]
  },
  {
   "cell_type": "code",
   "execution_count": 115,
   "metadata": {},
   "outputs": [
    {
     "data": {
      "text/plain": [
       "{'name': 'Curry',\n",
       " 'url': 'http://twitter.com/search?q=Curry',\n",
       " 'promoted_content': None,\n",
       " 'query': 'Curry',\n",
       " 'tweet_volume': 58441}"
      ]
     },
     "execution_count": 115,
     "metadata": {},
     "output_type": "execute_result"
    }
   ],
   "source": [
    "world_trends[4]"
   ]
  },
  {
   "cell_type": "code",
   "execution_count": 116,
   "metadata": {},
   "outputs": [
    {
     "name": "stdout",
     "output_type": "stream",
     "text": [
      "{'name': 'Klay', 'url': 'http://twitter.com/search?q=Klay', 'promoted_content': None, 'query': 'Klay', 'tweet_volume': 72842}\n",
      "{'name': 'Warriors', 'url': 'http://twitter.com/search?q=Warriors', 'promoted_content': None, 'query': 'Warriors', 'tweet_volume': 181735}\n",
      "{'name': 'Tatum', 'url': 'http://twitter.com/search?q=Tatum', 'promoted_content': None, 'query': 'Tatum', 'tweet_volume': 110068}\n"
     ]
    }
   ],
   "source": [
    "for iter in range(3):\n",
    "    print(world_trends[iter])"
   ]
  },
  {
   "cell_type": "code",
   "execution_count": 117,
   "metadata": {},
   "outputs": [
    {
     "name": "stdout",
     "output_type": "stream",
     "text": [
      "Total world trends: 50\n",
      "Total world trends >10k volume: 23\n",
      "Total world trends >100k volume: 5\n"
     ]
    }
   ],
   "source": [
    "world_trends_baseline = [t for t in world_trends if t['tweet_volume']]\n",
    "world_trends_high_volume = [t for t in world_trends if (t['tweet_volume']) and(t['tweet_volume']>100000)]\n",
    "print(f'Total world trends: {len(world_trends)}') #Remember that the cap of returned trends is 50!\n",
    "print(f'Total world trends >10k volume: {len(world_trends_baseline)}')\n",
    "print(f'Total world trends >100k volume: {len(world_trends_high_volume)}')\n"
   ]
  },
  {
   "cell_type": "markdown",
   "metadata": {
    "jp-MarkdownHeadingCollapsed": true,
    "tags": []
   },
   "source": [
    "### World_Trends"
   ]
  },
  {
   "cell_type": "code",
   "execution_count": 118,
   "metadata": {},
   "outputs": [],
   "source": [
    "from operator import itemgetter "
   ]
  },
  {
   "cell_type": "code",
   "execution_count": 119,
   "metadata": {},
   "outputs": [
    {
     "name": "stdout",
     "output_type": "stream",
     "text": [
      "Total World trends >15k volume: 23\n"
     ]
    }
   ],
   "source": [
    "World_trends_w_volume = [t for t in world_trends if (t['tweet_volume'])]\n",
    "print(f'Total World trends >15k volume: {len(World_trends_w_volume)}')\n"
   ]
  },
  {
   "cell_type": "code",
   "execution_count": 120,
   "metadata": {},
   "outputs": [],
   "source": [
    "world_trends_baseline.sort(key=itemgetter('tweet_volume'), reverse=True) #sort world trends by descending volume"
   ]
  },
  {
   "cell_type": "code",
   "execution_count": 121,
   "metadata": {},
   "outputs": [
    {
     "name": "stdout",
     "output_type": "stream",
     "text": [
      "#PULLUPwithMarkTuan\n",
      "Nacional Nacional\n",
      "Warriors\n",
      "Celtics\n",
      "Tatum\n",
      "#Sialkot\n",
      "Bucks\n",
      "Giannis\n",
      "Klay\n",
      "#ずっとJUMPもっとJUMP\n"
     ]
    }
   ],
   "source": [
    "for trend in world_trends_baseline[:10]: #Display the top 5 topics by volume\n",
    "    print(trend['name'])"
   ]
  },
  {
   "cell_type": "markdown",
   "metadata": {},
   "source": [
    "### SA_Trends"
   ]
  },
  {
   "cell_type": "code",
   "execution_count": 122,
   "metadata": {},
   "outputs": [],
   "source": [
    "SA_trends_comp = api.trends_place(id=2487796)"
   ]
  },
  {
   "cell_type": "code",
   "execution_count": 123,
   "metadata": {},
   "outputs": [],
   "source": [
    "SA_trends = SA_trends_comp[0]['trends']"
   ]
  },
  {
   "cell_type": "code",
   "execution_count": 124,
   "metadata": {},
   "outputs": [],
   "source": [
    "SA_trends_baseline = [t for t in SA_trends if t['tweet_volume']]"
   ]
  },
  {
   "cell_type": "code",
   "execution_count": 125,
   "metadata": {
    "collapsed": true,
    "jupyter": {
     "outputs_hidden": true
    },
    "tags": []
   },
   "outputs": [
    {
     "name": "stdout",
     "output_type": "stream",
     "text": [
      "{'name': 'Miro', 'url': 'http://twitter.com/search?q=Miro', 'promoted_content': None, 'query': 'Miro', 'tweet_volume': 23954}\n",
      "{'name': 'Milwaukee', 'url': 'http://twitter.com/search?q=Milwaukee', 'promoted_content': None, 'query': 'Milwaukee', 'tweet_volume': 22274}\n",
      "{'name': 'Nationals', 'url': 'http://twitter.com/search?q=Nationals', 'promoted_content': None, 'query': 'Nationals', 'tweet_volume': 13901}\n",
      "{'name': 'olivia rodrigo', 'url': 'http://twitter.com/search?q=%22olivia+rodrigo%22', 'promoted_content': None, 'query': '%22olivia+rodrigo%22', 'tweet_volume': 14393}\n",
      "{'name': 'Klay', 'url': 'http://twitter.com/search?q=Klay', 'promoted_content': None, 'query': 'Klay', 'tweet_volume': 72222}\n",
      "{'name': 'Warriors', 'url': 'http://twitter.com/search?q=Warriors', 'promoted_content': None, 'query': 'Warriors', 'tweet_volume': 180248}\n",
      "{'name': 'Looney', 'url': 'http://twitter.com/search?q=Looney', 'promoted_content': None, 'query': 'Looney', 'tweet_volume': 28984}\n",
      "{'name': 'Tatum', 'url': 'http://twitter.com/search?q=Tatum', 'promoted_content': None, 'query': 'Tatum', 'tweet_volume': 110149}\n",
      "{'name': 'Dillon Brooks', 'url': 'http://twitter.com/search?q=%22Dillon+Brooks%22', 'promoted_content': None, 'query': '%22Dillon+Brooks%22', 'tweet_volume': 15118}\n",
      "{'name': 'Steph', 'url': 'http://twitter.com/search?q=Steph', 'promoted_content': None, 'query': 'Steph', 'tweet_volume': 46491}\n",
      "{'name': '#DubNation', 'url': 'http://twitter.com/search?q=%23DubNation', 'promoted_content': None, 'query': '%23DubNation', 'tweet_volume': 11764}\n",
      "{'name': 'Curry', 'url': 'http://twitter.com/search?q=Curry', 'promoted_content': None, 'query': 'Curry', 'tweet_volume': 58441}\n",
      "{'name': 'Celtics', 'url': 'http://twitter.com/search?q=Celtics', 'promoted_content': None, 'query': 'Celtics', 'tweet_volume': 111844}\n",
      "{'name': 'TOH SPOILERS', 'url': 'http://twitter.com/search?q=%22TOH+SPOILERS%22', 'promoted_content': None, 'query': '%22TOH+SPOILERS%22', 'tweet_volume': 10905}\n",
      "{'name': 'Panthers', 'url': 'http://twitter.com/search?q=Panthers', 'promoted_content': None, 'query': 'Panthers', 'tweet_volume': 28471}\n",
      "{'name': 'ERCOT', 'url': 'http://twitter.com/search?q=ERCOT', 'promoted_content': None, 'query': 'ERCOT', 'tweet_volume': 25384}\n"
     ]
    }
   ],
   "source": [
    "for trend in SA_trends_baseline:\n",
    "    print(trend)"
   ]
  },
  {
   "cell_type": "code",
   "execution_count": 126,
   "metadata": {},
   "outputs": [
    {
     "name": "stdout",
     "output_type": "stream",
     "text": [
      "SA trends >15k volume: 16\n"
     ]
    }
   ],
   "source": [
    "print(f'SA trends >15k volume: {len(SA_trends_baseline)}')\n"
   ]
  },
  {
   "cell_type": "code",
   "execution_count": 127,
   "metadata": {},
   "outputs": [],
   "source": [
    "SA_trends_baseline.sort(key=itemgetter('tweet_volume'), reverse=True) "
   ]
  },
  {
   "cell_type": "code",
   "execution_count": 128,
   "metadata": {},
   "outputs": [
    {
     "name": "stdout",
     "output_type": "stream",
     "text": [
      "Warriors\n",
      "Celtics\n",
      "Tatum\n",
      "Klay\n",
      "Curry\n",
      "Steph\n",
      "Looney\n",
      "Panthers\n",
      "ERCOT\n",
      "Miro\n",
      "Milwaukee\n",
      "Dillon Brooks\n",
      "olivia rodrigo\n",
      "Nationals\n",
      "#DubNation\n",
      "TOH SPOILERS\n"
     ]
    }
   ],
   "source": [
    "for trend in SA_trends_baseline[:20]:\n",
    "    print(trend['name'])"
   ]
  },
  {
   "cell_type": "code",
   "execution_count": 129,
   "metadata": {},
   "outputs": [],
   "source": [
    "SA_topics = {}  # dictionary to store trend names and volumes for San Antonio\n"
   ]
  },
  {
   "cell_type": "code",
   "execution_count": 130,
   "metadata": {},
   "outputs": [
    {
     "name": "stdout",
     "output_type": "stream",
     "text": [
      "{}\n"
     ]
    }
   ],
   "source": [
    "print(SA_topics)"
   ]
  },
  {
   "cell_type": "code",
   "execution_count": 131,
   "metadata": {},
   "outputs": [],
   "source": [
    "for trend in SA_trends_baseline:\n",
    "    SA_topics[trend['name']] = trend['tweet_volume']"
   ]
  },
  {
   "cell_type": "code",
   "execution_count": 132,
   "metadata": {},
   "outputs": [],
   "source": [
    "import pandas as pd\n",
    "\n",
    "SAdf = pd.DataFrame(SA_topics, index = [0]) "
   ]
  },
  {
   "cell_type": "code",
   "execution_count": 133,
   "metadata": {},
   "outputs": [
    {
     "data": {
      "text/html": [
       "<div>\n",
       "<style scoped>\n",
       "    .dataframe tbody tr th:only-of-type {\n",
       "        vertical-align: middle;\n",
       "    }\n",
       "\n",
       "    .dataframe tbody tr th {\n",
       "        vertical-align: top;\n",
       "    }\n",
       "\n",
       "    .dataframe thead th {\n",
       "        text-align: right;\n",
       "    }\n",
       "</style>\n",
       "<table border=\"1\" class=\"dataframe\">\n",
       "  <thead>\n",
       "    <tr style=\"text-align: right;\">\n",
       "      <th></th>\n",
       "      <th>Warriors</th>\n",
       "      <th>Celtics</th>\n",
       "      <th>Tatum</th>\n",
       "      <th>Klay</th>\n",
       "      <th>Curry</th>\n",
       "      <th>Steph</th>\n",
       "      <th>Looney</th>\n",
       "      <th>Panthers</th>\n",
       "      <th>ERCOT</th>\n",
       "      <th>Miro</th>\n",
       "      <th>Milwaukee</th>\n",
       "      <th>Dillon Brooks</th>\n",
       "      <th>olivia rodrigo</th>\n",
       "      <th>Nationals</th>\n",
       "      <th>#DubNation</th>\n",
       "      <th>TOH SPOILERS</th>\n",
       "    </tr>\n",
       "  </thead>\n",
       "  <tbody>\n",
       "    <tr>\n",
       "      <th>0</th>\n",
       "      <td>180248</td>\n",
       "      <td>111844</td>\n",
       "      <td>110149</td>\n",
       "      <td>72222</td>\n",
       "      <td>58441</td>\n",
       "      <td>46491</td>\n",
       "      <td>28984</td>\n",
       "      <td>28471</td>\n",
       "      <td>25384</td>\n",
       "      <td>23954</td>\n",
       "      <td>22274</td>\n",
       "      <td>15118</td>\n",
       "      <td>14393</td>\n",
       "      <td>13901</td>\n",
       "      <td>11764</td>\n",
       "      <td>10905</td>\n",
       "    </tr>\n",
       "  </tbody>\n",
       "</table>\n",
       "</div>"
      ],
      "text/plain": [
       "   Warriors  Celtics   Tatum   Klay  Curry  Steph  Looney  Panthers  ERCOT  \\\n",
       "0    180248   111844  110149  72222  58441  46491   28984     28471  25384   \n",
       "\n",
       "    Miro  Milwaukee  Dillon Brooks  olivia rodrigo  Nationals  #DubNation  \\\n",
       "0  23954      22274          15118           14393      13901       11764   \n",
       "\n",
       "   TOH SPOILERS  \n",
       "0         10905  "
      ]
     },
     "execution_count": 133,
     "metadata": {},
     "output_type": "execute_result"
    }
   ],
   "source": [
    "SAdf.head()"
   ]
  },
  {
   "cell_type": "code",
   "execution_count": 134,
   "metadata": {},
   "outputs": [
    {
     "data": {
      "text/plain": [
       "<AxesSubplot:title={'center':'Twitter Trends in San Antonio'}, xlabel='Trends', ylabel='Count'>"
      ]
     },
     "execution_count": 134,
     "metadata": {},
     "output_type": "execute_result"
    },
    {
     "data": {
      "image/png": "[encoded data removed]",
      "text/plain": [
       "<Figure size 720x648 with 1 Axes>"
      ]
     },
     "metadata": {
      "needs_background": "light"
     },
     "output_type": "display_data"
    }
   ],
   "source": [
    "#Plot Descending\n",
    "SAdf.plot(kind=\"bar\",\n",
    " figsize=(10, 9),\n",
    "  xlabel=\"Trends\",\n",
    "   ylabel=\"Count\",\n",
    "    title=\"Twitter Trends in San Antonio\")"
   ]
  },
  {
   "cell_type": "markdown",
   "metadata": {
    "jp-MarkdownHeadingCollapsed": true,
    "tags": []
   },
   "source": [
    "### WordCloud for SA_Trends"
   ]
  },
  {
   "cell_type": "code",
   "execution_count": 135,
   "metadata": {},
   "outputs": [],
   "source": [
    "from wordcloud import WordCloud\n",
    "import matplotlib.pyplot as plt"
   ]
  },
  {
   "cell_type": "code",
   "execution_count": 136,
   "metadata": {},
   "outputs": [],
   "source": [
    "from PIL import Image\n",
    "import matplotlib.pyplot as plt\n",
    "import numpy as np\n",
    "mask = np.array(Image.open('Texas.jpg'))\n",
    "\n",
    "wordcloud_SA = WordCloud(mask=mask, width=1800, height=900,\n",
    "    prefer_horizontal=0.5, min_font_size=10, colormap='prism', \n",
    "    background_color='white')"
   ]
  },
  {
   "cell_type": "code",
   "execution_count": 137,
   "metadata": {},
   "outputs": [],
   "source": [
    "wordcloud_SA = wordcloud_SA.fit_words(SA_topics)"
   ]
  },
  {
   "cell_type": "code",
   "execution_count": 138,
   "metadata": {},
   "outputs": [
    {
     "data": {
      "image/png": "[encoded data removed]",
      "text/plain": [
       "<Figure size 1152x576 with 1 Axes>"
      ]
     },
     "metadata": {
      "needs_background": "light"
     },
     "output_type": "display_data"
    }
   ],
   "source": [
    "\n",
    "from PIL import Image\n",
    "import matplotlib.pyplot as plt\n",
    "import numpy as np\n",
    "mask = np.array(Image.open('Texas.jpg'))\n",
    "plt.figure(figsize=(16,8))\n",
    "plt.imshow(wordcloud_SA)\n",
    "plt.axis(\"off\")\n",
    "plt.show()"
   ]
  },
  {
   "cell_type": "markdown",
   "metadata": {},
   "source": [
    "## Tweet Listener"
   ]
  },
  {
   "cell_type": "markdown",
   "metadata": {},
   "source": [
    "### Load Packages"
   ]
  },
  {
   "cell_type": "code",
   "execution_count": 139,
   "metadata": {},
   "outputs": [],
   "source": [
    "from tweetlistener import TweetListener\n",
    "from tweepy import Stream\n",
    "from tweepy import OAuthHandler\n",
    "from tweepy import API\n",
    "import preprocessor as p\n",
    "from prepsubjecttweets import prepsubject"
   ]
  },
  {
   "cell_type": "markdown",
   "metadata": {},
   "source": [
    "### Test Tweet Listener and Clean Tweet"
   ]
  },
  {
   "cell_type": "code",
   "execution_count": 140,
   "metadata": {},
   "outputs": [],
   "source": [
    "tweet_text = 'RT #NASA A sample retweet with a URL https://nasa.gov'"
   ]
  },
  {
   "cell_type": "code",
   "execution_count": 141,
   "metadata": {},
   "outputs": [
    {
     "data": {
      "text/plain": [
       "'#NASA A sample retweet with a URL'"
      ]
     },
     "execution_count": 141,
     "metadata": {},
     "output_type": "execute_result"
    }
   ],
   "source": [
    "p.clean(tweet_text)"
   ]
  },
  {
   "cell_type": "markdown",
   "metadata": {},
   "source": [
    "### Tweet Listener - Load Top Three Trends"
   ]
  },
  {
   "cell_type": "code",
   "execution_count": 142,
   "metadata": {},
   "outputs": [],
   "source": [
    "tweetlistraw1,tweetlistprep1 = prepsubject('Macron',20)\n",
    "tweetlistraw2,tweetlistprep2 = prepsubject('Ranboo',20)\n",
    "tweetlistraw3,tweetlistprep3 = prepsubject('Publix',20)"
   ]
  },
  {
   "cell_type": "markdown",
   "metadata": {},
   "source": [
    "### Number 1 Tweet Topic"
   ]
  },
  {
   "cell_type": "code",
   "execution_count": 143,
   "metadata": {},
   "outputs": [
    {
     "data": {
      "text/plain": [
       "['@visegrad24 Agree... let´s give the Russians the Champagne region in France. Then Putin will save his face because… https://t.co/Wyhl4Poli6',\n",
       " 'RT @EerikNKross: Zelensky revealing that Macron suggested he concedes to Putin on Ukrainian sovreignity, Austin calling Shoigu to ask for a…',\n",
       " 'RT @expatua: Macron and Scholz\\'s idea of giving up territory as to \"not humiliate Putin\" is fine.\\n\\nWe just need to decide which parts of Fr…',\n",
       " 'RT @expatua: Macron and Scholz\\'s idea of giving up territory as to \"not humiliate Putin\" is fine.\\n\\nWe just need to decide which parts of Fr…',\n",
       " 'Out of 230 player official contingent why 98 applications in embassy of France in Delhi got delayed and they  ignor… https://t.co/hvcObtB6FV',\n",
       " 'RT @KyivIndependent: “(Emmanuel Macron) has always said that it was up to the Ukrainians to decide the terms of their negotiations with the…',\n",
       " 'RT @visegrad24: So which part of France is Macron willing to give up then?',\n",
       " 'RT @irinatsukerman_: #France is stuck with Macron for another 5 years!',\n",
       " \"RT @dszeligowski: Zelensky in an interview with Italian TV Rai1 has confirmed that Macron had proposed him to make concessions to Ukraine's…\",\n",
       " 'RT @expatua: Macron and Scholz\\'s idea of giving up territory as to \"not humiliate Putin\" is fine.\\n\\nWe just need to decide which parts of Fr…',\n",
       " 'RT @KyivIndependent: ⚡️France denies Zelensky’s allegations over concessions to Russia. \\n\\nThe Elysee Palace said French President Emmanuel…',\n",
       " 'RT @visegrad24: Interviewed by Italian TV Rai1, Zelensky confirmed that Macron has proposed for Ukraine to give up some territory to Russia…',\n",
       " 'RT @visegrad24: Interviewed by Italian TV Rai1, Zelensky confirmed that Macron has proposed for Ukraine to give up some territory to Russia…',\n",
       " '@medopfe8 @mizginalptekinn @SecBlinken Weird how U chose based thing like Vaccine passport to get mad about\\n\\nOne ca… https://t.co/nK3Olffp1J',\n",
       " \"RT @SamRamani2: Lithuania's President Gitanas Nauseda blasts Macron's comments on a decades-long EU accession process for Ukraine: \\n\\n“My im…\",\n",
       " 'RT @visegrad24: Interviewed by Italian TV Rai1, Zelensky confirmed that Macron has proposed for Ukraine to give up some territory to Russia…',\n",
       " '@irinatsukerman_ Thanks for post, shame on Macron EVIL #COVID1979 Appeaser \\nEVIL Putin must be forced to resign by… https://t.co/26fQ5o2p4D',\n",
       " '@mhmck #macron got it wrong too that Putin would not invade. And #Zelensky did not believe Putin would invade. US a… https://t.co/oWm4YM4whU',\n",
       " \"RT @andersostlund: Macron's and Scholz statements have Minsk III written all over them. Sell out Ukraine and let a few million Ukrainians l…\",\n",
       " 'RT @TristanSnell: Macron proposed Ukraine give up territory to Russia to let Putin save face.\\n\\nThis would be like France giving up territor…']"
      ]
     },
     "execution_count": 143,
     "metadata": {},
     "output_type": "execute_result"
    }
   ],
   "source": [
    "tweetlistraw1"
   ]
  },
  {
   "cell_type": "code",
   "execution_count": 144,
   "metadata": {},
   "outputs": [
    {
     "data": {
      "text/plain": [
       "['@visegrad24 Agree... let´s give the Russians the Champagne region in France. Then Putin will save his face because…',\n",
       " '@EerikNKross: Zelensky revealing that Macron suggested he concedes to Putin on Ukrainian sovreignity, Austin calling Shoigu to ask for a…',\n",
       " '@expatua: Macron and Scholz\\'s idea of giving up territory as to \"not humiliate Putin\" is fine. We just need to decide which parts of Fr…',\n",
       " '@expatua: Macron and Scholz\\'s idea of giving up territory as to \"not humiliate Putin\" is fine. We just need to decide which parts of Fr…',\n",
       " 'Out of 230 player official contingent why 98 applications in embassy of France in Delhi got delayed and they ignor…',\n",
       " '@KyivIndependent: “(Emmanuel Macron) has always said that it was up to the Ukrainians to decide the terms of their negotiations with the…',\n",
       " '@visegrad24: So which part of France is Macron willing to give up then?',\n",
       " '@irinatsukerman_: #France is stuck with Macron for another 5 years!',\n",
       " \"@dszeligowski: Zelensky in an interview with Italian TV Rai1 has confirmed that Macron had proposed him to make concessions to Ukraine's…\",\n",
       " '@expatua: Macron and Scholz\\'s idea of giving up territory as to \"not humiliate Putin\" is fine. We just need to decide which parts of Fr…',\n",
       " '@KyivIndependent: ⚡️France denies Zelensky’s allegations over concessions to Russia. The Elysee Palace said French President Emmanuel…',\n",
       " '@visegrad24: Interviewed by Italian TV Rai1, Zelensky confirmed that Macron has proposed for Ukraine to give up some territory to Russia…',\n",
       " '@visegrad24: Interviewed by Italian TV Rai1, Zelensky confirmed that Macron has proposed for Ukraine to give up some territory to Russia…',\n",
       " '@medopfe8 @mizginalptekinn @SecBlinken Weird how U chose based thing like Vaccine passport to get mad about One ca…',\n",
       " \"@SamRamani2: Lithuania's President Gitanas Nauseda blasts Macron's comments on a decades-long EU accession process for Ukraine: “My im…\",\n",
       " '@visegrad24: Interviewed by Italian TV Rai1, Zelensky confirmed that Macron has proposed for Ukraine to give up some territory to Russia…',\n",
       " '@irinatsukerman_ Thanks for post, shame on Macron EVIL #COVID1979 Appeaser EVIL Putin must be forced to resign by…',\n",
       " '@mhmck #macron got it wrong too that Putin would not invade. And #Zelensky did not believe Putin would invade. US a…',\n",
       " \"@andersostlund: Macron's and Scholz statements have Minsk III written all over them. Sell out Ukraine and let a few million Ukrainians l…\",\n",
       " '@TristanSnell: Macron proposed Ukraine give up territory to Russia to let Putin save face. This would be like France giving up territor…']"
      ]
     },
     "execution_count": 144,
     "metadata": {},
     "output_type": "execute_result"
    }
   ],
   "source": [
    "tweetlistprep1"
   ]
  },
  {
   "cell_type": "markdown",
   "metadata": {},
   "source": [
    "### Number 2 Tweet Topic"
   ]
  },
  {
   "cell_type": "code",
   "execution_count": 145,
   "metadata": {},
   "outputs": [
    {
     "data": {
      "text/plain": [
       "['RT @maxggstwo: Ranboo you said tyler is ruining it but atleast Michael is actually into him, unlike the guy u had a crush on',\n",
       " 'RT @Forsakenmoons: ranboo nightlight \\n#ranboofanart https://t.co/ZgYlAA2Qwf',\n",
       " 'RT @alliumupdate: Ranboo was in offline chat! https://t.co/hQF9SWGlMt',\n",
       " 'RT @Forsakenmoons: ranboo nightlight \\n#ranboofanart https://t.co/ZgYlAA2Qwf',\n",
       " 'RT @Forsakenmoons: ranboo nightlight \\n#ranboofanart https://t.co/ZgYlAA2Qwf',\n",
       " 'RT @PlantOnSpace: // blood\\nFind Him\\n#generationloss #generationlossfanart #ranboo #ranboofanart https://t.co/3JYIXGmhAM',\n",
       " 'RT @bootwt: Ranboo hosted a space earlier! You can find the recording here!\\nhttps://t.co/emuoCpl5lG',\n",
       " 'RT @bootwt: Ranboo posted on his Instagram story! https://t.co/Vj9nSje4fA',\n",
       " 'RT @elohour: ranboo’s the type of guy to eat straight butter',\n",
       " 'RT @princessranboo: i’m so Sory but ranboo dinky little old mask makes me giggle https://t.co/EOUwyZfiip',\n",
       " 'RT @Dakotafoxart: glowduo ✨\\n\\n[ #Ranboo #Aimsey #Glowduo #Ranbooart #AimseyFanart #Ranboofanart #bootwt @ranbooart @Ranboosaysstuff @ranaltb…',\n",
       " 'RT @Dakotafoxart: glowduo ✨\\n\\n[ #Ranboo #Aimsey #Glowduo #Ranbooart #AimseyFanart #Ranboofanart #bootwt @ranbooart @Ranboosaysstuff @ranaltb…',\n",
       " 'RT @RanbooUpdates: Ranboo posted on his Instagram story! https://t.co/EcLU469kgl',\n",
       " 'RT @thelorebitch: RANBOO DID NOT JUST FALL BECAUSE A GUY IN A VIDEO GAME SAID “i usually dont have such good looking company back here” LIK…',\n",
       " 'RT @itz_sunfallz: i hope ranboo and tubbo never publicly interact again. i hope their friendship is strictly off camera for the rest of tim…',\n",
       " 'I really am missing every single piece of ranboo content in the past day and probably tomorrow too,,, https://t.co/xlmv9uSJsL',\n",
       " 'RT @SketchEhm: Bump! Retweets appreciated :D\\nIf it gets enough attention, might do a ranboo version :&gt;\\n#tommyinnitfanart',\n",
       " 'ranboo changed me i used to h scared of this shit now i’m happy',\n",
       " 'RT @Dakotafoxart: glowduo ✨\\n\\n[ #Ranboo #Aimsey #Glowduo #Ranbooart #AimseyFanart #Ranboofanart #bootwt @ranbooart @Ranboosaysstuff @ranaltb…',\n",
       " 'RT @Snirtsnirkarts: Ranboo and his round friend, who I cannot remember the name of rn\\n\\n#ranboofanart #ranboo #boobers https://t.co/2C8ssJf9…']"
      ]
     },
     "execution_count": 145,
     "metadata": {},
     "output_type": "execute_result"
    }
   ],
   "source": [
    "tweetlistraw2"
   ]
  },
  {
   "cell_type": "code",
   "execution_count": 146,
   "metadata": {},
   "outputs": [
    {
     "data": {
      "text/plain": [
       "['@maxggstwo: Ranboo you said tyler is ruining it but atleast Michael is actually into him, unlike the guy u had a crush on',\n",
       " '@Forsakenmoons: ranboo nightlight #ranboofanart',\n",
       " '@alliumupdate: Ranboo was in offline chat!',\n",
       " '@Forsakenmoons: ranboo nightlight #ranboofanart',\n",
       " '@Forsakenmoons: ranboo nightlight #ranboofanart',\n",
       " '@PlantOnSpace: // blood Find Him #generationloss #generationlossfanart #ranboo #ranboofanart',\n",
       " '@bootwt: Ranboo hosted a space earlier! You can find the recording here!',\n",
       " '@bootwt: Ranboo posted on his Instagram story!',\n",
       " '@elohour: ranboo’s the type of guy to eat straight butter',\n",
       " '@princessranboo: i’m so Sory but ranboo dinky little old mask makes me giggle',\n",
       " '@Dakotafoxart: glowduo ✨ [ #Ranboo #Aimsey #Glowduo #Ranbooart #AimseyFanart #Ranboofanart #bootwt @ranbooart @Ranboosaysstuff @ranaltb…',\n",
       " '@Dakotafoxart: glowduo ✨ [ #Ranboo #Aimsey #Glowduo #Ranbooart #AimseyFanart #Ranboofanart #bootwt @ranbooart @Ranboosaysstuff @ranaltb…',\n",
       " '@RanbooUpdates: Ranboo posted on his Instagram story!',\n",
       " '@thelorebitch: RANBOO DID NOT JUST FALL BECAUSE A GUY IN A VIDEO GAME SAID “i usually dont have such good looking company back here” LIK…',\n",
       " '@itz_sunfallz: i hope ranboo and tubbo never publicly interact again. i hope their friendship is strictly off camera for the rest of tim…',\n",
       " 'I really am missing every single piece of ranboo content in the past day and probably tomorrow too,,,',\n",
       " '@SketchEhm: Bump! Retweets appreciated :D If it gets enough attention, might do a ranboo version :&gt; #tommyinnitfanart',\n",
       " 'ranboo changed me i used to h scared of this shit now i’m happy',\n",
       " '@Dakotafoxart: glowduo ✨ [ #Ranboo #Aimsey #Glowduo #Ranbooart #AimseyFanart #Ranboofanart #bootwt @ranbooart @Ranboosaysstuff @ranaltb…',\n",
       " '@Snirtsnirkarts: Ranboo and his round friend, who I cannot remember the name of rn #ranboofanart #ranboo #boobers']"
      ]
     },
     "execution_count": 146,
     "metadata": {},
     "output_type": "execute_result"
    }
   ],
   "source": [
    "tweetlistprep2"
   ]
  },
  {
   "cell_type": "markdown",
   "metadata": {},
   "source": [
    "### Number 3 Tweet Topic"
   ]
  },
  {
   "cell_type": "code",
   "execution_count": 147,
   "metadata": {},
   "outputs": [
    {
     "data": {
      "text/plain": [
       "[\"Could really go for a Pub Sub from the 'Lix @Publix\",\n",
       " 'In Publix today a probably 80 year old woman leaned in really close and said \"I really like that\" and pointed to my… https://t.co/QJ9MAtEipR',\n",
       " 'im going to publix in the morning and buying cookies I will not be seen bringing putussy to a party https://t.co/RZDuIYHSsa',\n",
       " '@CFunkFSU @Wegmans Meanwhile people in Florida out here cutting the roof of their mouths on that hard Publix bread… https://t.co/l53h5kWTv2',\n",
       " 'RT @pleb_ian2: I would pay a lot of money rn for a @Publix sub to be made for me in Chicago',\n",
       " \"@PotluckLauren @eyeamsushmita Look, don't be mad at me bc I'm not bringing the entire grocery aisle at Publix with… https://t.co/zq3FMpnlh5\",\n",
       " \"@GSmokesweed1 I had a roast beef wrap from Publix...spinach wrap, Boar's Head roast beef (double meat*), scant amou… https://t.co/mDkAP13P2J\",\n",
       " \"My pops said he saw Dennis Rodman at publix the other day. Q\\nAnother thing about South Florida. You're bound to run… https://t.co/B011RQNBIz\",\n",
       " \"also i'm out of cheerwine, shit\\n\\nreally need to see if kroger has cases of it here, publix just has the glass bottle 4 packs\",\n",
       " '@Publix Dutch!',\n",
       " '@leiakanani It’s there popular gas station. Here in Texas, we have Buc-ee’s…people from all over come like tourist.… https://t.co/VcUtOCG6hr',\n",
       " \"@newsmax Where's the shortage at though, which states? I was in a Publix here in the greatest State and they had a… https://t.co/QVbrFUTkbt\",\n",
       " 'Wait just long enough for It to cool off, then pour It in a Publix bag and just put It in the garbage lmfao … least… https://t.co/eLNBXeRlT6',\n",
       " '@ccliffnyc Like you’re in a Publix what do you mean you don’t have onions?!',\n",
       " 'I would pay a lot of money rn for a @Publix sub to be made for me in Chicago',\n",
       " 'We are live in the publix! Come check out the live event in Houston! #VR\\n\\n#MadeWithVRChat https://t.co/B4e6TllDOh',\n",
       " '@CFunkFSU @Wegmans The one I went to is like the size of two Publix put together and had a coffee shop, pizza kitch… https://t.co/xCGneunH1W',\n",
       " 'Or, like my 80-something yo grandmother, you could go to the doctor for your second booster this week and get told,… https://t.co/DRdFxxhVow',\n",
       " '@RivalsWoody @Wegmans Spent 36 years in north Florida and the last 4 here in PA. I was a huge Publix stan. Wegmans &gt;&gt;&gt;&gt;&gt; Publix',\n",
       " '@PanthersPolls Living in Unincorporated Broward and going to BCC and working at Publix']"
      ]
     },
     "execution_count": 147,
     "metadata": {},
     "output_type": "execute_result"
    }
   ],
   "source": [
    "tweetlistraw3"
   ]
  },
  {
   "cell_type": "code",
   "execution_count": 148,
   "metadata": {},
   "outputs": [
    {
     "data": {
      "text/plain": [
       "[\"Could really go for a Pub Sub from the 'Lix @Publix\",\n",
       " 'In Publix today a probably 80 year old woman leaned in really close and said \"I really like that\" and pointed to my…',\n",
       " 'im going to publix in the morning and buying cookies I will not be seen bringing putussy to a party',\n",
       " '@CFunkFSU @Wegmans Meanwhile people in Florida out here cutting the roof of their mouths on that hard Publix bread…',\n",
       " '@pleb_ian2: I would pay a lot of money rn for a @Publix sub to be made for me in Chicago',\n",
       " \"@PotluckLauren @eyeamsushmita Look, don't be mad at me bc I'm not bringing the entire grocery aisle at Publix with…\",\n",
       " \"@GSmokesweed1 I had a roast beef wrap from Publix...spinach wrap, Boar's Head roast beef (double meat*), scant amou…\",\n",
       " \"My pops said he saw Dennis Rodman at publix the other day. Q Another thing about South Florida. You're bound to run…\",\n",
       " \"also i'm out of cheerwine, shit really need to see if kroger has cases of it here, publix just has the glass bottle 4 packs\",\n",
       " '@Publix Dutch!',\n",
       " '@leiakanani It’s there popular gas station. Here in Texas, we have Buc-ee’s…people from all over come like tourist.…',\n",
       " \"@newsmax Where's the shortage at though, which states? I was in a Publix here in the greatest State and they had a…\",\n",
       " 'Wait just long enough for It to cool off, then pour It in a Publix bag and just put It in the garbage lmfao … least…',\n",
       " '@ccliffnyc Like you’re in a Publix what do you mean you don’t have onions?!',\n",
       " 'I would pay a lot of money rn for a @Publix sub to be made for me in Chicago',\n",
       " 'We are live in the publix! Come check out the live event in Houston! #VR #MadeWithVRChat',\n",
       " '@CFunkFSU @Wegmans The one I went to is like the size of two Publix put together and had a coffee shop, pizza kitch…',\n",
       " 'Or, like my 80-something yo grandmother, you could go to the doctor for your second booster this week and get told,…',\n",
       " '@RivalsWoody @Wegmans Spent 36 years in north Florida and the last 4 here in PA. I was a huge Publix stan. Wegmans &gt;&gt;&gt;&gt;&gt; Publix',\n",
       " '@PanthersPolls Living in Unincorporated Broward and going to BCC and working at Publix']"
      ]
     },
     "execution_count": 148,
     "metadata": {},
     "output_type": "execute_result"
    }
   ],
   "source": [
    "tweetlistprep3"
   ]
  },
  {
   "cell_type": "markdown",
   "metadata": {},
   "source": [
    "## Stream"
   ]
  },
  {
   "cell_type": "markdown",
   "metadata": {},
   "source": [
    "### Load Packages"
   ]
  },
  {
   "cell_type": "code",
   "execution_count": 149,
   "metadata": {},
   "outputs": [],
   "source": [
    "from tweepy.streaming import Stream\n",
    "from tweepy import OAuthHandler\n",
    "from tweepy import Stream\n",
    "from textblob import TextBlob"
   ]
  },
  {
   "cell_type": "markdown",
   "metadata": {},
   "source": [
    "### Sentiment Listener Topic 1"
   ]
  },
  {
   "cell_type": "code",
   "execution_count": 150,
   "metadata": {},
   "outputs": [
    {
     "name": "stdout",
     "output_type": "stream",
     "text": [
      "  DividedStatesO4: @KyivPost #macron should never.. every speak.. he is a twat\n",
      "\n",
      "  Gawiesnr: @KyivIndependent oh so France owns #Ukraine? who does #macron think he is\n",
      "\n",
      "  Resistance2017: 🤣🤣🤣 and so us #Macron. !!\n",
      "\n",
      "+ skingers: @moutet He's your kind of apologist not their kind of antagonist... #Macron #putin #Ukraine\n",
      "\n",
      "  BKrede: @elonmusk @Twitter Begin by the account of #macron.. he has a lot!!\n",
      "\n",
      "  EgoCaecilius: If we’re trying to isolate #Putin why is #Macron and #Scholz constantly giving him a call ?\n",
      "\n"
     ]
    }
   ],
   "source": [
    "run sentimentlistener.py \"#Macron\" 20"
   ]
  },
  {
   "cell_type": "markdown",
   "metadata": {},
   "source": [
    "### Sentiment Listener Topic 2"
   ]
  },
  {
   "cell_type": "code",
   "execution_count": null,
   "metadata": {},
   "outputs": [
    {
     "name": "stdout",
     "output_type": "stream",
     "text": [
      "  stray_giraffe: @alliumupdate since when did ranboo start giving out physical spoons too?\n",
      "\n",
      "+ SurelyNotKoni: He's the most powerful being alive #ranboofanart #ranboo\n",
      "\n",
      "  benchtrioups: — Ranboo posted on the communities tab on the Generation Loss channel!\n",
      "\n",
      "  glowduoupdates: Ranboo posted on the communities tab on the Generation Loss channel!\n",
      "\n",
      "+ ShinjiTakahirou: Gotta tweet this before I forget lol I had a dream where Ranboo went live with Aimsey and at the first few minutes…\n",
      "\n",
      "  LEO__B00: @TheTerrainMC Ranboo\n",
      "\n",
      "  UpdateBeeduo: Ranboo posted youtube community post on the gen-loss channel!-✨\n",
      "\n",
      "  ShinjiTakahirou: Then just like last time Ranboo almost yk missed the mask, he actually did miss it this time. Like he put it on,but…\n",
      "\n",
      "  ShinjiTakahirou: Then just like last time Ranboo almost yk missed the mask, he actually did miss it this time. Like he put it on,but…\n",
      "\n",
      "- Yobarap_: what if the white half of c!ranboo is just albino enderman yknow both the enderman half and white half have scars…\n",
      "\n",
      "- gifted_gaze: ngl I’m a little disappointed that ranboo won’t be playing poppy playtime pt 2 but I completely understand why he won’t be… but damn 💀😂\n",
      "\n",
      "  itsrealjana14: I think im ranboo cause ranboo he didn’t show his face and me too no one of my friends saw my face , ranboo so tall…\n",
      "\n",
      "  londonquotes: Tubbo set his head on Ranboo’s shoulder, closing his eyes. “I’m gonna be asleep during the end of the world. What d…\n",
      "\n",
      "  OkapiQuote: Niki ended up rating his a .01/10. Which caused Ranboo to complain about Niki being biased because his cookies were…\n",
      "\n",
      "+ flowersfortao: HOLY SHIT I HAVE A RANBOO VOD ON FOR BACKGROUND NOISE AND THE SCREEN JUST GOT REALLY BRIGHT I THINK I SAW GOD\n",
      "\n",
      "+ Dogdot25N: I should not be aloud shimejis. So many technos. And one ranboo.\n",
      "\n",
      "- Lancelotlz: I just realized my ranboo merch never arrived. Not sure how to feel about that\n",
      "\n",
      "- wurrmmo: @viennaisswaggy im rly bad at explaining, but ranboo got adopted by batman n told his internet friends he was from…\n",
      "\n",
      "+ cBeeduoQuote: T: Your positivity is refreshing, Ranboo. You have the heart. One day, I hope you will be a far better leader than…\n",
      "\n",
      "+ magentawritings: ranboo was the first streamer i subbed to, and now im going to get the gay crown\n",
      "\n",
      "Tweet sentiment for \"Ranboo\"\n",
      "Positive: 6\n",
      " Neutral: 10\n",
      "Negative: 4\n"
     ]
    }
   ],
   "source": [
    "run sentimentlistener.py \"Ranboo\" 20"
   ]
  },
  {
   "cell_type": "markdown",
   "metadata": {},
   "source": [
    "### Sentiment Listener Topic 3"
   ]
  },
  {
   "cell_type": "code",
   "execution_count": null,
   "metadata": {},
   "outputs": [
    {
     "name": "stdout",
     "output_type": "stream",
     "text": [
      "+ GPerpignand27: Morning 🌎 Happy Friday the 13th @ Publix Deerfield Beach Warehouse\n",
      "\n",
      "  ChocoWatcher: @dlldntop Nah I’m not that guy to take pics of ppl in publix🤣\n",
      "\n",
      "  CatgirlEva: Looks like Publix is opening two stores in Hampton Roads, but they’re going to be in Suffolk and Norfolk. I really…\n",
      "\n",
      "+ geasha75: Air Fried Pork Leg served with @Publix New York Potato Salad and a side salad not shown @YouTube Sheronia K…\n",
      "\n",
      "  johnnysaygo: @Jklm48226521 @Marla_Knits @Franktheshank88 Everyone I've ever spoken to about Publix employees always say how grea…\n",
      "\n",
      "  JohnRogers8News: #FBF Ten years ago this week I met Neil Armstrong at one of his last Publix events 🌙 🚀 He was and is one of my h…\n",
      "\n",
      "+ browngirl1_: idk who get more of my money… target or Publix 🥴🥴\n",
      "\n",
      "  moviesfromther1: It would appear someone in the Publix meat department might have been stoned when applying price tags to the chicke…\n",
      "\n",
      "+ irieunruly: \"the good publix\" ** 😭😭\n",
      "\n",
      "+ TamsinLM: @CatgirlEva You just want Publix so you can drink that foul ichor they call Dr. Publix. I'm pretty sure it is actua…\n",
      "\n"
     ]
    },
    {
     "ename": "ProtocolError",
     "evalue": "('Connection broken: IncompleteRead(20 bytes read)', IncompleteRead(20 bytes read))",
     "output_type": "error",
     "traceback": [
      "\u001b[1;31m---------------------------------------------------------------------------\u001b[0m",
      "\u001b[1;31mValueError\u001b[0m                                Traceback (most recent call last)",
      "File \u001b[1;32mc:\\Users\\coleb\\mambaforge\\lib\\http\\client.py:560\u001b[0m, in \u001b[0;36mHTTPResponse._get_chunk_left\u001b[1;34m(self)\u001b[0m\n\u001b[0;32m    <a href='file:///c%3A/Users/coleb/mambaforge/lib/http/client.py?line=558'>559</a>\u001b[0m \u001b[39mtry\u001b[39;00m:\n\u001b[1;32m--> <a href='file:///c%3A/Users/coleb/mambaforge/lib/http/client.py?line=559'>560</a>\u001b[0m     chunk_left \u001b[39m=\u001b[39m \u001b[39mself\u001b[39;49m\u001b[39m.\u001b[39;49m_read_next_chunk_size()\n\u001b[0;32m    <a href='file:///c%3A/Users/coleb/mambaforge/lib/http/client.py?line=560'>561</a>\u001b[0m \u001b[39mexcept\u001b[39;00m \u001b[39mValueError\u001b[39;00m:\n",
      "File \u001b[1;32mc:\\Users\\coleb\\mambaforge\\lib\\http\\client.py:527\u001b[0m, in \u001b[0;36mHTTPResponse._read_next_chunk_size\u001b[1;34m(self)\u001b[0m\n\u001b[0;32m    <a href='file:///c%3A/Users/coleb/mambaforge/lib/http/client.py?line=525'>526</a>\u001b[0m \u001b[39mtry\u001b[39;00m:\n\u001b[1;32m--> <a href='file:///c%3A/Users/coleb/mambaforge/lib/http/client.py?line=526'>527</a>\u001b[0m     \u001b[39mreturn\u001b[39;00m \u001b[39mint\u001b[39;49m(line, \u001b[39m16\u001b[39;49m)\n\u001b[0;32m    <a href='file:///c%3A/Users/coleb/mambaforge/lib/http/client.py?line=527'>528</a>\u001b[0m \u001b[39mexcept\u001b[39;00m \u001b[39mValueError\u001b[39;00m:\n\u001b[0;32m    <a href='file:///c%3A/Users/coleb/mambaforge/lib/http/client.py?line=528'>529</a>\u001b[0m     \u001b[39m# close the connection as protocol synchronisation is\u001b[39;00m\n\u001b[0;32m    <a href='file:///c%3A/Users/coleb/mambaforge/lib/http/client.py?line=529'>530</a>\u001b[0m     \u001b[39m# probably lost\u001b[39;00m\n",
      "\u001b[1;31mValueError\u001b[0m: invalid literal for int() with base 16: b''",
      "\nDuring handling of the above exception, another exception occurred:\n",
      "\u001b[1;31mIncompleteRead\u001b[0m                            Traceback (most recent call last)",
      "File \u001b[1;32mc:\\Users\\coleb\\mambaforge\\lib\\http\\client.py:592\u001b[0m, in \u001b[0;36mHTTPResponse._readinto_chunked\u001b[1;34m(self, b)\u001b[0m\n\u001b[0;32m    <a href='file:///c%3A/Users/coleb/mambaforge/lib/http/client.py?line=590'>591</a>\u001b[0m \u001b[39mwhile\u001b[39;00m \u001b[39mTrue\u001b[39;00m:\n\u001b[1;32m--> <a href='file:///c%3A/Users/coleb/mambaforge/lib/http/client.py?line=591'>592</a>\u001b[0m     chunk_left \u001b[39m=\u001b[39m \u001b[39mself\u001b[39;49m\u001b[39m.\u001b[39;49m_get_chunk_left()\n\u001b[0;32m    <a href='file:///c%3A/Users/coleb/mambaforge/lib/http/client.py?line=592'>593</a>\u001b[0m     \u001b[39mif\u001b[39;00m chunk_left \u001b[39mis\u001b[39;00m \u001b[39mNone\u001b[39;00m:\n",
      "File \u001b[1;32mc:\\Users\\coleb\\mambaforge\\lib\\http\\client.py:562\u001b[0m, in \u001b[0;36mHTTPResponse._get_chunk_left\u001b[1;34m(self)\u001b[0m\n\u001b[0;32m    <a href='file:///c%3A/Users/coleb/mambaforge/lib/http/client.py?line=560'>561</a>\u001b[0m \u001b[39mexcept\u001b[39;00m \u001b[39mValueError\u001b[39;00m:\n\u001b[1;32m--> <a href='file:///c%3A/Users/coleb/mambaforge/lib/http/client.py?line=561'>562</a>\u001b[0m     \u001b[39mraise\u001b[39;00m IncompleteRead(\u001b[39mb\u001b[39m\u001b[39m'\u001b[39m\u001b[39m'\u001b[39m)\n\u001b[0;32m    <a href='file:///c%3A/Users/coleb/mambaforge/lib/http/client.py?line=562'>563</a>\u001b[0m \u001b[39mif\u001b[39;00m chunk_left \u001b[39m==\u001b[39m \u001b[39m0\u001b[39m:\n\u001b[0;32m    <a href='file:///c%3A/Users/coleb/mambaforge/lib/http/client.py?line=563'>564</a>\u001b[0m     \u001b[39m# last chunk: 1*(\"0\") [ chunk-extension ] CRLF\u001b[39;00m\n",
      "\u001b[1;31mIncompleteRead\u001b[0m: IncompleteRead(0 bytes read)",
      "\nDuring handling of the above exception, another exception occurred:\n",
      "\u001b[1;31mIncompleteRead\u001b[0m                            Traceback (most recent call last)",
      "File \u001b[1;32mc:\\Users\\coleb\\mambaforge\\lib\\site-packages\\urllib3\\response.py:438\u001b[0m, in \u001b[0;36mHTTPResponse._error_catcher\u001b[1;34m(self)\u001b[0m\n\u001b[0;32m    <a href='file:///c%3A/Users/coleb/mambaforge/lib/site-packages/urllib3/response.py?line=436'>437</a>\u001b[0m \u001b[39mtry\u001b[39;00m:\n\u001b[1;32m--> <a href='file:///c%3A/Users/coleb/mambaforge/lib/site-packages/urllib3/response.py?line=437'>438</a>\u001b[0m     \u001b[39myield\u001b[39;00m\n\u001b[0;32m    <a href='file:///c%3A/Users/coleb/mambaforge/lib/site-packages/urllib3/response.py?line=439'>440</a>\u001b[0m \u001b[39mexcept\u001b[39;00m SocketTimeout:\n\u001b[0;32m    <a href='file:///c%3A/Users/coleb/mambaforge/lib/site-packages/urllib3/response.py?line=440'>441</a>\u001b[0m     \u001b[39m# FIXME: Ideally we'd like to include the url in the ReadTimeoutError but\u001b[39;00m\n\u001b[0;32m    <a href='file:///c%3A/Users/coleb/mambaforge/lib/site-packages/urllib3/response.py?line=441'>442</a>\u001b[0m     \u001b[39m# there is yet no clean way to get at it from this context.\u001b[39;00m\n",
      "File \u001b[1;32mc:\\Users\\coleb\\mambaforge\\lib\\site-packages\\urllib3\\response.py:519\u001b[0m, in \u001b[0;36mHTTPResponse.read\u001b[1;34m(self, amt, decode_content, cache_content)\u001b[0m\n\u001b[0;32m    <a href='file:///c%3A/Users/coleb/mambaforge/lib/site-packages/urllib3/response.py?line=517'>518</a>\u001b[0m cache_content \u001b[39m=\u001b[39m \u001b[39mFalse\u001b[39;00m\n\u001b[1;32m--> <a href='file:///c%3A/Users/coleb/mambaforge/lib/site-packages/urllib3/response.py?line=518'>519</a>\u001b[0m data \u001b[39m=\u001b[39m \u001b[39mself\u001b[39;49m\u001b[39m.\u001b[39;49m_fp\u001b[39m.\u001b[39;49mread(amt) \u001b[39mif\u001b[39;00m \u001b[39mnot\u001b[39;00m fp_closed \u001b[39melse\u001b[39;00m \u001b[39mb\u001b[39m\u001b[39m\"\u001b[39m\u001b[39m\"\u001b[39m\n\u001b[0;32m    <a href='file:///c%3A/Users/coleb/mambaforge/lib/site-packages/urllib3/response.py?line=519'>520</a>\u001b[0m \u001b[39mif\u001b[39;00m (\n\u001b[0;32m    <a href='file:///c%3A/Users/coleb/mambaforge/lib/site-packages/urllib3/response.py?line=520'>521</a>\u001b[0m     amt \u001b[39m!=\u001b[39m \u001b[39m0\u001b[39m \u001b[39mand\u001b[39;00m \u001b[39mnot\u001b[39;00m data\n\u001b[0;32m    <a href='file:///c%3A/Users/coleb/mambaforge/lib/site-packages/urllib3/response.py?line=521'>522</a>\u001b[0m ):  \u001b[39m# Platform-specific: Buggy versions of Python.\u001b[39;00m\n\u001b[1;32m   (...)\u001b[0m\n\u001b[0;32m    <a href='file:///c%3A/Users/coleb/mambaforge/lib/site-packages/urllib3/response.py?line=527'>528</a>\u001b[0m     \u001b[39m# not properly close the connection in all cases. There is\u001b[39;00m\n\u001b[0;32m    <a href='file:///c%3A/Users/coleb/mambaforge/lib/site-packages/urllib3/response.py?line=528'>529</a>\u001b[0m     \u001b[39m# no harm in redundantly calling close.\u001b[39;00m\n",
      "File \u001b[1;32mc:\\Users\\coleb\\mambaforge\\lib\\http\\client.py:463\u001b[0m, in \u001b[0;36mHTTPResponse.read\u001b[1;34m(self, amt)\u001b[0m\n\u001b[0;32m    <a href='file:///c%3A/Users/coleb/mambaforge/lib/http/client.py?line=461'>462</a>\u001b[0m b \u001b[39m=\u001b[39m \u001b[39mbytearray\u001b[39m(amt)\n\u001b[1;32m--> <a href='file:///c%3A/Users/coleb/mambaforge/lib/http/client.py?line=462'>463</a>\u001b[0m n \u001b[39m=\u001b[39m \u001b[39mself\u001b[39;49m\u001b[39m.\u001b[39;49mreadinto(b)\n\u001b[0;32m    <a href='file:///c%3A/Users/coleb/mambaforge/lib/http/client.py?line=463'>464</a>\u001b[0m \u001b[39mreturn\u001b[39;00m \u001b[39mmemoryview\u001b[39m(b)[:n]\u001b[39m.\u001b[39mtobytes()\n",
      "File \u001b[1;32mc:\\Users\\coleb\\mambaforge\\lib\\http\\client.py:497\u001b[0m, in \u001b[0;36mHTTPResponse.readinto\u001b[1;34m(self, b)\u001b[0m\n\u001b[0;32m    <a href='file:///c%3A/Users/coleb/mambaforge/lib/http/client.py?line=495'>496</a>\u001b[0m \u001b[39mif\u001b[39;00m \u001b[39mself\u001b[39m\u001b[39m.\u001b[39mchunked:\n\u001b[1;32m--> <a href='file:///c%3A/Users/coleb/mambaforge/lib/http/client.py?line=496'>497</a>\u001b[0m     \u001b[39mreturn\u001b[39;00m \u001b[39mself\u001b[39;49m\u001b[39m.\u001b[39;49m_readinto_chunked(b)\n\u001b[0;32m    <a href='file:///c%3A/Users/coleb/mambaforge/lib/http/client.py?line=498'>499</a>\u001b[0m \u001b[39mif\u001b[39;00m \u001b[39mself\u001b[39m\u001b[39m.\u001b[39mlength \u001b[39mis\u001b[39;00m \u001b[39mnot\u001b[39;00m \u001b[39mNone\u001b[39;00m:\n",
      "File \u001b[1;32mc:\\Users\\coleb\\mambaforge\\lib\\http\\client.py:608\u001b[0m, in \u001b[0;36mHTTPResponse._readinto_chunked\u001b[1;34m(self, b)\u001b[0m\n\u001b[0;32m    <a href='file:///c%3A/Users/coleb/mambaforge/lib/http/client.py?line=606'>607</a>\u001b[0m \u001b[39mexcept\u001b[39;00m IncompleteRead:\n\u001b[1;32m--> <a href='file:///c%3A/Users/coleb/mambaforge/lib/http/client.py?line=607'>608</a>\u001b[0m     \u001b[39mraise\u001b[39;00m IncompleteRead(\u001b[39mbytes\u001b[39m(b[\u001b[39m0\u001b[39m:total_bytes]))\n",
      "\u001b[1;31mIncompleteRead\u001b[0m: IncompleteRead(20 bytes read)",
      "\nDuring handling of the above exception, another exception occurred:\n",
      "\u001b[1;31mProtocolError\u001b[0m                             Traceback (most recent call last)",
      "File \u001b[1;32mG:\\My Drive\\Coraline\\Tweepy\\sentimentlistener.py:91\u001b[0m, in \u001b[0;36m<module>\u001b[1;34m\u001b[0m\n\u001b[0;32m     <a href='file:///g%3A/My%20Drive/Coraline/Tweepy/sentimentlistener.py?line=88'>89</a>\u001b[0m \u001b[39m# call main if this file is executed as a script\u001b[39;00m\n\u001b[0;32m     <a href='file:///g%3A/My%20Drive/Coraline/Tweepy/sentimentlistener.py?line=89'>90</a>\u001b[0m \u001b[39mif\u001b[39;00m \u001b[39m__name__\u001b[39m \u001b[39m==\u001b[39m \u001b[39m'\u001b[39m\u001b[39m__main__\u001b[39m\u001b[39m'\u001b[39m:\n\u001b[1;32m---> <a href='file:///g%3A/My%20Drive/Coraline/Tweepy/sentimentlistener.py?line=90'>91</a>\u001b[0m     main()\n",
      "File \u001b[1;32mG:\\My Drive\\Coraline\\Tweepy\\sentimentlistener.py:82\u001b[0m, in \u001b[0;36mmain\u001b[1;34m()\u001b[0m\n\u001b[0;32m     <a href='file:///g%3A/My%20Drive/Coraline/Tweepy/sentimentlistener.py?line=78'>79</a>\u001b[0m stream \u001b[39m=\u001b[39m tweepy\u001b[39m.\u001b[39mStream(auth\u001b[39m=\u001b[39mapi\u001b[39m.\u001b[39mauth, listener\u001b[39m=\u001b[39msentiment_listener)\n\u001b[0;32m     <a href='file:///g%3A/My%20Drive/Coraline/Tweepy/sentimentlistener.py?line=80'>81</a>\u001b[0m \u001b[39m# start filtering English tweets containing search_key\u001b[39;00m\n\u001b[1;32m---> <a href='file:///g%3A/My%20Drive/Coraline/Tweepy/sentimentlistener.py?line=81'>82</a>\u001b[0m stream\u001b[39m.\u001b[39;49mfilter(track\u001b[39m=\u001b[39;49m[search_key], languages\u001b[39m=\u001b[39;49m[\u001b[39m'\u001b[39;49m\u001b[39men\u001b[39;49m\u001b[39m'\u001b[39;49m], is_async\u001b[39m=\u001b[39;49m\u001b[39mFalse\u001b[39;49;00m)  \n\u001b[0;32m     <a href='file:///g%3A/My%20Drive/Coraline/Tweepy/sentimentlistener.py?line=83'>84</a>\u001b[0m \u001b[39mprint\u001b[39m(\u001b[39mf\u001b[39m\u001b[39m'\u001b[39m\u001b[39mTweet sentiment for \u001b[39m\u001b[39m\"\u001b[39m\u001b[39m{\u001b[39;00msearch_key\u001b[39m}\u001b[39;00m\u001b[39m\"\u001b[39m\u001b[39m'\u001b[39m)\n\u001b[0;32m     <a href='file:///g%3A/My%20Drive/Coraline/Tweepy/sentimentlistener.py?line=84'>85</a>\u001b[0m \u001b[39mprint\u001b[39m(\u001b[39m'\u001b[39m\u001b[39mPositive:\u001b[39m\u001b[39m'\u001b[39m, sentiment_dict[\u001b[39m'\u001b[39m\u001b[39mpositive\u001b[39m\u001b[39m'\u001b[39m])\n",
      "File \u001b[1;32mc:\\Users\\coleb\\mambaforge\\lib\\site-packages\\tweepy\\streaming.py:474\u001b[0m, in \u001b[0;36mStream.filter\u001b[1;34m(self, follow, track, is_async, locations, stall_warnings, languages, encoding, filter_level)\u001b[0m\n\u001b[0;32m    <a href='file:///c%3A/Users/coleb/mambaforge/lib/site-packages/tweepy/streaming.py?line=471'>472</a>\u001b[0m     \u001b[39mself\u001b[39m\u001b[39m.\u001b[39mbody[\u001b[39m'\u001b[39m\u001b[39mfilter_level\u001b[39m\u001b[39m'\u001b[39m] \u001b[39m=\u001b[39m filter_level\u001b[39m.\u001b[39mencode(encoding)\n\u001b[0;32m    <a href='file:///c%3A/Users/coleb/mambaforge/lib/site-packages/tweepy/streaming.py?line=472'>473</a>\u001b[0m \u001b[39mself\u001b[39m\u001b[39m.\u001b[39msession\u001b[39m.\u001b[39mparams \u001b[39m=\u001b[39m {\u001b[39m'\u001b[39m\u001b[39mdelimited\u001b[39m\u001b[39m'\u001b[39m: \u001b[39m'\u001b[39m\u001b[39mlength\u001b[39m\u001b[39m'\u001b[39m}\n\u001b[1;32m--> <a href='file:///c%3A/Users/coleb/mambaforge/lib/site-packages/tweepy/streaming.py?line=473'>474</a>\u001b[0m \u001b[39mself\u001b[39;49m\u001b[39m.\u001b[39;49m_start(is_async)\n",
      "File \u001b[1;32mc:\\Users\\coleb\\mambaforge\\lib\\site-packages\\tweepy\\streaming.py:389\u001b[0m, in \u001b[0;36mStream._start\u001b[1;34m(self, is_async)\u001b[0m\n\u001b[0;32m    <a href='file:///c%3A/Users/coleb/mambaforge/lib/site-packages/tweepy/streaming.py?line=386'>387</a>\u001b[0m     \u001b[39mself\u001b[39m\u001b[39m.\u001b[39m_thread\u001b[39m.\u001b[39mstart()\n\u001b[0;32m    <a href='file:///c%3A/Users/coleb/mambaforge/lib/site-packages/tweepy/streaming.py?line=387'>388</a>\u001b[0m \u001b[39melse\u001b[39;00m:\n\u001b[1;32m--> <a href='file:///c%3A/Users/coleb/mambaforge/lib/site-packages/tweepy/streaming.py?line=388'>389</a>\u001b[0m     \u001b[39mself\u001b[39;49m\u001b[39m.\u001b[39;49m_run()\n",
      "File \u001b[1;32mc:\\Users\\coleb\\mambaforge\\lib\\site-packages\\tweepy\\streaming.py:320\u001b[0m, in \u001b[0;36mStream._run\u001b[1;34m(self)\u001b[0m\n\u001b[0;32m    <a href='file:///c%3A/Users/coleb/mambaforge/lib/site-packages/tweepy/streaming.py?line=316'>317</a>\u001b[0m \u001b[39mif\u001b[39;00m exc_info:\n\u001b[0;32m    <a href='file:///c%3A/Users/coleb/mambaforge/lib/site-packages/tweepy/streaming.py?line=317'>318</a>\u001b[0m     \u001b[39m# call a handler first so that the exception can be logged.\u001b[39;00m\n\u001b[0;32m    <a href='file:///c%3A/Users/coleb/mambaforge/lib/site-packages/tweepy/streaming.py?line=318'>319</a>\u001b[0m     \u001b[39mself\u001b[39m\u001b[39m.\u001b[39mlistener\u001b[39m.\u001b[39mon_exception(exc_info[\u001b[39m1\u001b[39m])\n\u001b[1;32m--> <a href='file:///c%3A/Users/coleb/mambaforge/lib/site-packages/tweepy/streaming.py?line=319'>320</a>\u001b[0m     six\u001b[39m.\u001b[39;49mreraise(\u001b[39m*\u001b[39;49mexc_info)\n",
      "File \u001b[1;32mc:\\Users\\coleb\\mambaforge\\lib\\site-packages\\six.py:719\u001b[0m, in \u001b[0;36mreraise\u001b[1;34m(tp, value, tb)\u001b[0m\n\u001b[0;32m    <a href='file:///c%3A/Users/coleb/mambaforge/lib/site-packages/six.py?line=716'>717</a>\u001b[0m     \u001b[39mif\u001b[39;00m value\u001b[39m.\u001b[39m__traceback__ \u001b[39mis\u001b[39;00m \u001b[39mnot\u001b[39;00m tb:\n\u001b[0;32m    <a href='file:///c%3A/Users/coleb/mambaforge/lib/site-packages/six.py?line=717'>718</a>\u001b[0m         \u001b[39mraise\u001b[39;00m value\u001b[39m.\u001b[39mwith_traceback(tb)\n\u001b[1;32m--> <a href='file:///c%3A/Users/coleb/mambaforge/lib/site-packages/six.py?line=718'>719</a>\u001b[0m     \u001b[39mraise\u001b[39;00m value\n\u001b[0;32m    <a href='file:///c%3A/Users/coleb/mambaforge/lib/site-packages/six.py?line=719'>720</a>\u001b[0m \u001b[39mfinally\u001b[39;00m:\n\u001b[0;32m    <a href='file:///c%3A/Users/coleb/mambaforge/lib/site-packages/six.py?line=720'>721</a>\u001b[0m     value \u001b[39m=\u001b[39m \u001b[39mNone\u001b[39;00m\n",
      "File \u001b[1;32mc:\\Users\\coleb\\mambaforge\\lib\\site-packages\\tweepy\\streaming.py:289\u001b[0m, in \u001b[0;36mStream._run\u001b[1;34m(self)\u001b[0m\n\u001b[0;32m    <a href='file:///c%3A/Users/coleb/mambaforge/lib/site-packages/tweepy/streaming.py?line=286'>287</a>\u001b[0m         \u001b[39mself\u001b[39m\u001b[39m.\u001b[39msnooze_time \u001b[39m=\u001b[39m \u001b[39mself\u001b[39m\u001b[39m.\u001b[39msnooze_time_step\n\u001b[0;32m    <a href='file:///c%3A/Users/coleb/mambaforge/lib/site-packages/tweepy/streaming.py?line=287'>288</a>\u001b[0m         \u001b[39mself\u001b[39m\u001b[39m.\u001b[39mlistener\u001b[39m.\u001b[39mon_connect()\n\u001b[1;32m--> <a href='file:///c%3A/Users/coleb/mambaforge/lib/site-packages/tweepy/streaming.py?line=288'>289</a>\u001b[0m         \u001b[39mself\u001b[39;49m\u001b[39m.\u001b[39;49m_read_loop(resp)\n\u001b[0;32m    <a href='file:///c%3A/Users/coleb/mambaforge/lib/site-packages/tweepy/streaming.py?line=289'>290</a>\u001b[0m \u001b[39mexcept\u001b[39;00m (Timeout, ssl\u001b[39m.\u001b[39mSSLError) \u001b[39mas\u001b[39;00m exc:\n\u001b[0;32m    <a href='file:///c%3A/Users/coleb/mambaforge/lib/site-packages/tweepy/streaming.py?line=290'>291</a>\u001b[0m     \u001b[39m# This is still necessary, as a SSLError can actually be\u001b[39;00m\n\u001b[0;32m    <a href='file:///c%3A/Users/coleb/mambaforge/lib/site-packages/tweepy/streaming.py?line=291'>292</a>\u001b[0m     \u001b[39m# thrown when using Requests\u001b[39;00m\n\u001b[0;32m    <a href='file:///c%3A/Users/coleb/mambaforge/lib/site-packages/tweepy/streaming.py?line=292'>293</a>\u001b[0m     \u001b[39m# If it's not time out treat it like any other exception\u001b[39;00m\n\u001b[0;32m    <a href='file:///c%3A/Users/coleb/mambaforge/lib/site-packages/tweepy/streaming.py?line=293'>294</a>\u001b[0m     \u001b[39mif\u001b[39;00m \u001b[39misinstance\u001b[39m(exc, ssl\u001b[39m.\u001b[39mSSLError):\n",
      "File \u001b[1;32mc:\\Users\\coleb\\mambaforge\\lib\\site-packages\\tweepy\\streaming.py:339\u001b[0m, in \u001b[0;36mStream._read_loop\u001b[1;34m(self, resp)\u001b[0m\n\u001b[0;32m    <a href='file:///c%3A/Users/coleb/mambaforge/lib/site-packages/tweepy/streaming.py?line=336'>337</a>\u001b[0m length \u001b[39m=\u001b[39m \u001b[39m0\u001b[39m\n\u001b[0;32m    <a href='file:///c%3A/Users/coleb/mambaforge/lib/site-packages/tweepy/streaming.py?line=337'>338</a>\u001b[0m \u001b[39mwhile\u001b[39;00m \u001b[39mnot\u001b[39;00m resp\u001b[39m.\u001b[39mraw\u001b[39m.\u001b[39mclosed:\n\u001b[1;32m--> <a href='file:///c%3A/Users/coleb/mambaforge/lib/site-packages/tweepy/streaming.py?line=338'>339</a>\u001b[0m     line \u001b[39m=\u001b[39m buf\u001b[39m.\u001b[39;49mread_line()\n\u001b[0;32m    <a href='file:///c%3A/Users/coleb/mambaforge/lib/site-packages/tweepy/streaming.py?line=339'>340</a>\u001b[0m     stripped_line \u001b[39m=\u001b[39m line\u001b[39m.\u001b[39mstrip() \u001b[39mif\u001b[39;00m line \u001b[39melse\u001b[39;00m line \u001b[39m# line is sometimes None so we need to check here\u001b[39;00m\n\u001b[0;32m    <a href='file:///c%3A/Users/coleb/mambaforge/lib/site-packages/tweepy/streaming.py?line=340'>341</a>\u001b[0m     \u001b[39mif\u001b[39;00m \u001b[39mnot\u001b[39;00m stripped_line:\n",
      "File \u001b[1;32mc:\\Users\\coleb\\mambaforge\\lib\\site-packages\\tweepy\\streaming.py:200\u001b[0m, in \u001b[0;36mReadBuffer.read_line\u001b[1;34m(self, sep)\u001b[0m\n\u001b[0;32m    <a href='file:///c%3A/Users/coleb/mambaforge/lib/site-packages/tweepy/streaming.py?line=197'>198</a>\u001b[0m     \u001b[39melse\u001b[39;00m:\n\u001b[0;32m    <a href='file:///c%3A/Users/coleb/mambaforge/lib/site-packages/tweepy/streaming.py?line=198'>199</a>\u001b[0m         start \u001b[39m=\u001b[39m \u001b[39mlen\u001b[39m(\u001b[39mself\u001b[39m\u001b[39m.\u001b[39m_buffer)\n\u001b[1;32m--> <a href='file:///c%3A/Users/coleb/mambaforge/lib/site-packages/tweepy/streaming.py?line=199'>200</a>\u001b[0m     \u001b[39mself\u001b[39m\u001b[39m.\u001b[39m_buffer \u001b[39m+\u001b[39m\u001b[39m=\u001b[39m \u001b[39mself\u001b[39;49m\u001b[39m.\u001b[39;49m_stream\u001b[39m.\u001b[39;49mread(\u001b[39mself\u001b[39;49m\u001b[39m.\u001b[39;49m_chunk_size)\n\u001b[0;32m    <a href='file:///c%3A/Users/coleb/mambaforge/lib/site-packages/tweepy/streaming.py?line=200'>201</a>\u001b[0m \u001b[39mreturn\u001b[39;00m six\u001b[39m.\u001b[39mb(\u001b[39m'\u001b[39m\u001b[39m'\u001b[39m)\n",
      "File \u001b[1;32mc:\\Users\\coleb\\mambaforge\\lib\\site-packages\\urllib3\\response.py:541\u001b[0m, in \u001b[0;36mHTTPResponse.read\u001b[1;34m(self, amt, decode_content, cache_content)\u001b[0m\n\u001b[0;32m    <a href='file:///c%3A/Users/coleb/mambaforge/lib/site-packages/urllib3/response.py?line=530'>531</a>\u001b[0m             flush_decoder \u001b[39m=\u001b[39m \u001b[39mTrue\u001b[39;00m\n\u001b[0;32m    <a href='file:///c%3A/Users/coleb/mambaforge/lib/site-packages/urllib3/response.py?line=531'>532</a>\u001b[0m             \u001b[39mif\u001b[39;00m \u001b[39mself\u001b[39m\u001b[39m.\u001b[39menforce_content_length \u001b[39mand\u001b[39;00m \u001b[39mself\u001b[39m\u001b[39m.\u001b[39mlength_remaining \u001b[39mnot\u001b[39;00m \u001b[39min\u001b[39;00m (\n\u001b[0;32m    <a href='file:///c%3A/Users/coleb/mambaforge/lib/site-packages/urllib3/response.py?line=532'>533</a>\u001b[0m                 \u001b[39m0\u001b[39m,\n\u001b[0;32m    <a href='file:///c%3A/Users/coleb/mambaforge/lib/site-packages/urllib3/response.py?line=533'>534</a>\u001b[0m                 \u001b[39mNone\u001b[39;00m,\n\u001b[1;32m   (...)\u001b[0m\n\u001b[0;32m    <a href='file:///c%3A/Users/coleb/mambaforge/lib/site-packages/urllib3/response.py?line=538'>539</a>\u001b[0m                 \u001b[39m# raised during streaming, so all calls with incorrect\u001b[39;00m\n\u001b[0;32m    <a href='file:///c%3A/Users/coleb/mambaforge/lib/site-packages/urllib3/response.py?line=539'>540</a>\u001b[0m                 \u001b[39m# Content-Length are caught.\u001b[39;00m\n\u001b[1;32m--> <a href='file:///c%3A/Users/coleb/mambaforge/lib/site-packages/urllib3/response.py?line=540'>541</a>\u001b[0m                 \u001b[39mraise\u001b[39;00m IncompleteRead(\u001b[39mself\u001b[39m\u001b[39m.\u001b[39m_fp_bytes_read, \u001b[39mself\u001b[39m\u001b[39m.\u001b[39mlength_remaining)\n\u001b[0;32m    <a href='file:///c%3A/Users/coleb/mambaforge/lib/site-packages/urllib3/response.py?line=542'>543</a>\u001b[0m \u001b[39mif\u001b[39;00m data:\n\u001b[0;32m    <a href='file:///c%3A/Users/coleb/mambaforge/lib/site-packages/urllib3/response.py?line=543'>544</a>\u001b[0m     \u001b[39mself\u001b[39m\u001b[39m.\u001b[39m_fp_bytes_read \u001b[39m+\u001b[39m\u001b[39m=\u001b[39m \u001b[39mlen\u001b[39m(data)\n",
      "File \u001b[1;32mc:\\Users\\coleb\\mambaforge\\lib\\contextlib.py:137\u001b[0m, in \u001b[0;36m_GeneratorContextManager.__exit__\u001b[1;34m(self, typ, value, traceback)\u001b[0m\n\u001b[0;32m    <a href='file:///c%3A/Users/coleb/mambaforge/lib/contextlib.py?line=134'>135</a>\u001b[0m     value \u001b[39m=\u001b[39m typ()\n\u001b[0;32m    <a href='file:///c%3A/Users/coleb/mambaforge/lib/contextlib.py?line=135'>136</a>\u001b[0m \u001b[39mtry\u001b[39;00m:\n\u001b[1;32m--> <a href='file:///c%3A/Users/coleb/mambaforge/lib/contextlib.py?line=136'>137</a>\u001b[0m     \u001b[39mself\u001b[39;49m\u001b[39m.\u001b[39;49mgen\u001b[39m.\u001b[39;49mthrow(typ, value, traceback)\n\u001b[0;32m    <a href='file:///c%3A/Users/coleb/mambaforge/lib/contextlib.py?line=137'>138</a>\u001b[0m \u001b[39mexcept\u001b[39;00m \u001b[39mStopIteration\u001b[39;00m \u001b[39mas\u001b[39;00m exc:\n\u001b[0;32m    <a href='file:///c%3A/Users/coleb/mambaforge/lib/contextlib.py?line=138'>139</a>\u001b[0m     \u001b[39m# Suppress StopIteration *unless* it's the same exception that\u001b[39;00m\n\u001b[0;32m    <a href='file:///c%3A/Users/coleb/mambaforge/lib/contextlib.py?line=139'>140</a>\u001b[0m     \u001b[39m# was passed to throw().  This prevents a StopIteration\u001b[39;00m\n\u001b[0;32m    <a href='file:///c%3A/Users/coleb/mambaforge/lib/contextlib.py?line=140'>141</a>\u001b[0m     \u001b[39m# raised inside the \"with\" statement from being suppressed.\u001b[39;00m\n\u001b[0;32m    <a href='file:///c%3A/Users/coleb/mambaforge/lib/contextlib.py?line=141'>142</a>\u001b[0m     \u001b[39mreturn\u001b[39;00m exc \u001b[39mis\u001b[39;00m \u001b[39mnot\u001b[39;00m value\n",
      "File \u001b[1;32mc:\\Users\\coleb\\mambaforge\\lib\\site-packages\\urllib3\\response.py:455\u001b[0m, in \u001b[0;36mHTTPResponse._error_catcher\u001b[1;34m(self)\u001b[0m\n\u001b[0;32m    <a href='file:///c%3A/Users/coleb/mambaforge/lib/site-packages/urllib3/response.py?line=450'>451</a>\u001b[0m     \u001b[39mraise\u001b[39;00m ReadTimeoutError(\u001b[39mself\u001b[39m\u001b[39m.\u001b[39m_pool, \u001b[39mNone\u001b[39;00m, \u001b[39m\"\u001b[39m\u001b[39mRead timed out.\u001b[39m\u001b[39m\"\u001b[39m)\n\u001b[0;32m    <a href='file:///c%3A/Users/coleb/mambaforge/lib/site-packages/urllib3/response.py?line=452'>453</a>\u001b[0m \u001b[39mexcept\u001b[39;00m (HTTPException, SocketError) \u001b[39mas\u001b[39;00m e:\n\u001b[0;32m    <a href='file:///c%3A/Users/coleb/mambaforge/lib/site-packages/urllib3/response.py?line=453'>454</a>\u001b[0m     \u001b[39m# This includes IncompleteRead.\u001b[39;00m\n\u001b[1;32m--> <a href='file:///c%3A/Users/coleb/mambaforge/lib/site-packages/urllib3/response.py?line=454'>455</a>\u001b[0m     \u001b[39mraise\u001b[39;00m ProtocolError(\u001b[39m\"\u001b[39m\u001b[39mConnection broken: \u001b[39m\u001b[39m%r\u001b[39;00m\u001b[39m\"\u001b[39m \u001b[39m%\u001b[39m e, e)\n\u001b[0;32m    <a href='file:///c%3A/Users/coleb/mambaforge/lib/site-packages/urllib3/response.py?line=456'>457</a>\u001b[0m \u001b[39m# If no exception is thrown, we should avoid cleaning up\u001b[39;00m\n\u001b[0;32m    <a href='file:///c%3A/Users/coleb/mambaforge/lib/site-packages/urllib3/response.py?line=457'>458</a>\u001b[0m \u001b[39m# unnecessarily.\u001b[39;00m\n\u001b[0;32m    <a href='file:///c%3A/Users/coleb/mambaforge/lib/site-packages/urllib3/response.py?line=458'>459</a>\u001b[0m clean_exit \u001b[39m=\u001b[39m \u001b[39mTrue\u001b[39;00m\n",
      "\u001b[1;31mProtocolError\u001b[0m: ('Connection broken: IncompleteRead(20 bytes read)', IncompleteRead(20 bytes read))"
     ]
    }
   ],
   "source": [
    "run sentimentlistener.py \"Publix\" 20"
   ]
  },
  {
   "cell_type": "code",
   "execution_count": null,
   "metadata": {},
   "outputs": [
    {
     "data": {
      "text/html": [
       "<div>\n",
       "<style scoped>\n",
       "    .dataframe tbody tr th:only-of-type {\n",
       "        vertical-align: middle;\n",
       "    }\n",
       "\n",
       "    .dataframe tbody tr th {\n",
       "        vertical-align: top;\n",
       "    }\n",
       "\n",
       "    .dataframe thead th {\n",
       "        text-align: right;\n",
       "    }\n",
       "</style>\n",
       "<table border=\"1\" class=\"dataframe\">\n",
       "  <thead>\n",
       "    <tr style=\"text-align: right;\">\n",
       "      <th></th>\n",
       "      <th>Positive</th>\n",
       "      <th>Neutral</th>\n",
       "      <th>Negative</th>\n",
       "    </tr>\n",
       "  </thead>\n",
       "  <tbody>\n",
       "    <tr>\n",
       "      <th>0</th>\n",
       "      <td>15</td>\n",
       "      <td>4</td>\n",
       "      <td>1</td>\n",
       "    </tr>\n",
       "  </tbody>\n",
       "</table>\n",
       "</div>"
      ],
      "text/plain": [
       "   Positive  Neutral  Negative\n",
       "0        15        4         1"
      ]
     },
     "execution_count": 502,
     "metadata": {},
     "output_type": "execute_result"
    }
   ],
   "source": [
    "dftrend1 = pd.DataFrame({'Positive' : [15],\n",
    "'Neutral' : [4],\n",
    "'Negative' : [1]})\n",
    "dftrend1.head()\n"
   ]
  },
  {
   "cell_type": "code",
   "execution_count": null,
   "metadata": {},
   "outputs": [
    {
     "data": {
      "text/html": [
       "<div>\n",
       "<style scoped>\n",
       "    .dataframe tbody tr th:only-of-type {\n",
       "        vertical-align: middle;\n",
       "    }\n",
       "\n",
       "    .dataframe tbody tr th {\n",
       "        vertical-align: top;\n",
       "    }\n",
       "\n",
       "    .dataframe thead th {\n",
       "        text-align: right;\n",
       "    }\n",
       "</style>\n",
       "<table border=\"1\" class=\"dataframe\">\n",
       "  <thead>\n",
       "    <tr style=\"text-align: right;\">\n",
       "      <th></th>\n",
       "      <th>Positive</th>\n",
       "      <th>Neutral</th>\n",
       "      <th>Negative</th>\n",
       "    </tr>\n",
       "  </thead>\n",
       "  <tbody>\n",
       "    <tr>\n",
       "      <th>0</th>\n",
       "      <td>11</td>\n",
       "      <td>6</td>\n",
       "      <td>3</td>\n",
       "    </tr>\n",
       "  </tbody>\n",
       "</table>\n",
       "</div>"
      ],
      "text/plain": [
       "   Positive  Neutral  Negative\n",
       "0        11        6         3"
      ]
     },
     "execution_count": 503,
     "metadata": {},
     "output_type": "execute_result"
    }
   ],
   "source": [
    "dftrend2 = pd.DataFrame({'Positive' : [11],\n",
    "'Neutral' : [6],\n",
    "'Negative' : [3]})\n",
    "dftrend2.head()\n"
   ]
  },
  {
   "cell_type": "code",
   "execution_count": null,
   "metadata": {},
   "outputs": [
    {
     "data": {
      "text/html": [
       "<div>\n",
       "<style scoped>\n",
       "    .dataframe tbody tr th:only-of-type {\n",
       "        vertical-align: middle;\n",
       "    }\n",
       "\n",
       "    .dataframe tbody tr th {\n",
       "        vertical-align: top;\n",
       "    }\n",
       "\n",
       "    .dataframe thead th {\n",
       "        text-align: right;\n",
       "    }\n",
       "</style>\n",
       "<table border=\"1\" class=\"dataframe\">\n",
       "  <thead>\n",
       "    <tr style=\"text-align: right;\">\n",
       "      <th></th>\n",
       "      <th>Positive</th>\n",
       "      <th>Neutral</th>\n",
       "      <th>Negative</th>\n",
       "    </tr>\n",
       "  </thead>\n",
       "  <tbody>\n",
       "    <tr>\n",
       "      <th>0</th>\n",
       "      <td>7</td>\n",
       "      <td>11</td>\n",
       "      <td>2</td>\n",
       "    </tr>\n",
       "  </tbody>\n",
       "</table>\n",
       "</div>"
      ],
      "text/plain": [
       "   Positive  Neutral  Negative\n",
       "0         7       11         2"
      ]
     },
     "execution_count": 504,
     "metadata": {},
     "output_type": "execute_result"
    }
   ],
   "source": [
    "dftrend3 = pd.DataFrame({'Positive' : [7],\n",
    "'Neutral' : [11],\n",
    "'Negative' : [2]})\n",
    "dftrend3.head()\n",
    "#dftrend1.to_csv('dfs.csv', index = False)"
   ]
  },
  {
   "cell_type": "code",
   "execution_count": null,
   "metadata": {},
   "outputs": [
    {
     "data": {
      "text/plain": [
       "<AxesSubplot:title={'center':'#1 Trend in San Antonio'}, xlabel='Trends', ylabel='Count'>"
      ]
     },
     "execution_count": 505,
     "metadata": {},
     "output_type": "execute_result"
    },
    {
     "data": {
      "image/png": "[encoded data removed]",
      "text/plain": [
       "<Figure size 720x648 with 1 Axes>"
      ]
     },
     "metadata": {},
     "output_type": "display_data"
    }
   ],
   "source": [
    "dftrend1.plot(kind=\"bar\",\n",
    " figsize=(10, 9),\n",
    "  xlabel=\"Trends\",\n",
    "   ylabel=\"Count\",\n",
    "    title=\"#1 Trend in San Antonio\")"
   ]
  },
  {
   "cell_type": "code",
   "execution_count": null,
   "metadata": {},
   "outputs": [
    {
     "data": {
      "text/plain": [
       "<AxesSubplot:title={'center':'#2 Trend in San Antonio'}, xlabel='Trends', ylabel='Count'>"
      ]
     },
     "execution_count": 506,
     "metadata": {},
     "output_type": "execute_result"
    },
    {
     "data": {
      "image/png": "[encoded data removed]",
      "text/plain": [
       "<Figure size 720x648 with 1 Axes>"
      ]
     },
     "metadata": {},
     "output_type": "display_data"
    }
   ],
   "source": [
    "dftrend2.plot(kind=\"bar\",\n",
    " figsize=(10, 9),\n",
    "  xlabel=\"Trends\",\n",
    "   ylabel=\"Count\",\n",
    "    title=\"#2 Trend in San Antonio\")"
   ]
  },
  {
   "cell_type": "code",
   "execution_count": null,
   "metadata": {},
   "outputs": [
    {
     "data": {
      "text/plain": [
       "<AxesSubplot:title={'center':'#3 Trend in San Antonio'}, xlabel='Trends', ylabel='Count'>"
      ]
     },
     "execution_count": 507,
     "metadata": {},
     "output_type": "execute_result"
    },
    {
     "data": {
      "image/png": "[encoded data removed]",
      "text/plain": [
       "<Figure size 720x648 with 1 Axes>"
      ]
     },
     "metadata": {},
     "output_type": "display_data"
    }
   ],
   "source": [
    "dftrend3.plot(kind=\"bar\",\n",
    " figsize=(10, 9),\n",
    "  xlabel=\"Trends\",\n",
    "   ylabel=\"Count\",\n",
    "    title=\"#3 Trend in San Antonio\")"
   ]
  },
  {
   "cell_type": "markdown",
   "metadata": {},
   "source": [
    "## Geocoding"
   ]
  },
  {
   "cell_type": "code",
   "execution_count": null,
   "metadata": {},
   "outputs": [],
   "source": [
    "import os\n",
    "from geopy import OpenMapQuest"
   ]
  },
  {
   "cell_type": "code",
   "execution_count": null,
   "metadata": {},
   "outputs": [],
   "source": [
    "geo = OpenMapQuest(api_key=os.environ['GeoCK'])\n",
    "locations = ['222 Eastern Pkwy, Louisville, KY 40208',\n",
    "             '440 N Whittington Pkwy, Louisville, KY 40222',\n",
    "             'El Alamein، Egypt']\n",
    "geo_locations = []\n",
    "for loc in locations:\n",
    "    geo_locations.append(geo.geocode(loc))"
   ]
  },
  {
   "cell_type": "code",
   "execution_count": null,
   "metadata": {},
   "outputs": [
    {
     "data": {
      "text/plain": [
       "[Location(Duthie Center for Engineering, 222, Eastern Parkway, Louisville, Jefferson County, Kentucky, 40208, United States of America, (38.21264035, -85.7608605714874, 0.0)),\n",
       " Location(Burhans Hall, 440, North Whittington Parkway, Hurstbourne, Jefferson County, Kentucky, 40222, United States of America, (38.25334785, -85.5843224594185, 0.0)),\n",
       " Location(العلمين, مطروح, مصر, (30.833944, 28.949268, 0.0))]"
      ]
     },
     "execution_count": 86,
     "metadata": {},
     "output_type": "execute_result"
    }
   ],
   "source": [
    "geo_locations"
   ]
  },
  {
   "cell_type": "code",
   "execution_count": null,
   "metadata": {},
   "outputs": [],
   "source": [
    "from tweetutilities import get_tweepy_API"
   ]
  },
  {
   "cell_type": "code",
   "execution_count": null,
   "metadata": {},
   "outputs": [],
   "source": [
    "api = get_tweepy_API()"
   ]
  },
  {
   "cell_type": "code",
   "execution_count": null,
   "metadata": {},
   "outputs": [],
   "source": [
    "tweets = [] \n",
    "counts = {'total_tweets': 0, 'locations': 0}\n"
   ]
  },
  {
   "cell_type": "markdown",
   "metadata": {},
   "source": [
    "### Location Listener"
   ]
  },
  {
   "cell_type": "code",
   "execution_count": null,
   "metadata": {},
   "outputs": [],
   "source": [
    "from locationlistener import LocationListener"
   ]
  },
  {
   "cell_type": "code",
   "execution_count": null,
   "metadata": {},
   "outputs": [],
   "source": [
    "location_listener = LocationListener(api, counts_dict=counts, \n",
    "    tweets_list=tweets, topic='Will Smith', limit=150)"
   ]
  },
  {
   "cell_type": "code",
   "execution_count": null,
   "metadata": {},
   "outputs": [],
   "source": [
    "stream = tweepy.Stream(auth=api.auth, listener=location_listener)"
   ]
  },
  {
   "cell_type": "code",
   "execution_count": null,
   "metadata": {},
   "outputs": [
    {
     "name": "stdout",
     "output_type": "stream",
     "text": [
      "rmossconti: being able to recall various hilarious Will Smith rap lines is both a gift and a curse but can proudly say I’ve got… https://t.co/ehyZctJ2Ad\n",
      "\n",
      "Mangakiko12: Steve Harvey has choice words for Will Smith after he slapped Chris Rock at the Oscars https://t.co/B1zWhNzJx6\n",
      "\n",
      "balogunjide1: OK, Will Smith went too far, slapping Chris Rock with the whole world watching. But should he continue to be punish… https://t.co/5UPSt34c5Z\n",
      "\n"
     ]
    }
   ],
   "source": [
    "stream.filter(track=['Will Smith'], languages=['en'], is_async=False)"
   ]
  },
  {
   "cell_type": "code",
   "execution_count": null,
   "metadata": {},
   "outputs": [
    {
     "data": {
      "text/plain": [
       "8"
      ]
     },
     "execution_count": 322,
     "metadata": {},
     "output_type": "execute_result"
    }
   ],
   "source": [
    "counts['total_tweets'] #total tweets examined"
   ]
  },
  {
   "cell_type": "code",
   "execution_count": null,
   "metadata": {},
   "outputs": [
    {
     "data": {
      "text/plain": [
       "4"
      ]
     },
     "execution_count": 323,
     "metadata": {},
     "output_type": "execute_result"
    }
   ],
   "source": [
    "counts['locations'] #tweets kept (should match # for LocationListener limit UNLESS there was a timeout)"
   ]
  },
  {
   "cell_type": "code",
   "execution_count": null,
   "metadata": {},
   "outputs": [
    {
     "name": "stdout",
     "output_type": "stream",
     "text": [
      "50.0%\n"
     ]
    }
   ],
   "source": [
    "print(f'{counts[\"locations\"] / counts[\"total_tweets\"]:.1%}') # % tweets that had locations"
   ]
  },
  {
   "cell_type": "code",
   "execution_count": null,
   "metadata": {},
   "outputs": [],
   "source": [
    "from tweetutilities import get_geocodes"
   ]
  },
  {
   "cell_type": "code",
   "execution_count": null,
   "metadata": {},
   "outputs": [
    {
     "name": "stdout",
     "output_type": "stream",
     "text": [
      "Getting coordinates for tweet locations...\n",
      "Done geocoding\n"
     ]
    }
   ],
   "source": [
    "tweet_locations_fail = get_geocodes(tweets)"
   ]
  },
  {
   "cell_type": "code",
   "execution_count": null,
   "metadata": {},
   "outputs": [
    {
     "data": {
      "text/plain": [
       "1"
      ]
     },
     "execution_count": 471,
     "metadata": {},
     "output_type": "execute_result"
    }
   ],
   "source": [
    "tweet_locations_fail"
   ]
  },
  {
   "cell_type": "code",
   "execution_count": null,
   "metadata": {},
   "outputs": [
    {
     "name": "stdout",
     "output_type": "stream",
     "text": [
      "25.0% of the locations could not be deciphered.\n"
     ]
    }
   ],
   "source": [
    "print(f'{tweet_locations_fail / counts[\"locations\"]:.1%} of the locations could not be deciphered.')"
   ]
  },
  {
   "cell_type": "markdown",
   "metadata": {},
   "source": [
    "### Location Listener DataFrame"
   ]
  },
  {
   "cell_type": "code",
   "execution_count": null,
   "metadata": {},
   "outputs": [],
   "source": [
    "import pandas as pd"
   ]
  },
  {
   "cell_type": "code",
   "execution_count": null,
   "metadata": {},
   "outputs": [],
   "source": [
    "dft2 = pd.DataFrame(tweets)\n",
    "dft = pd.DataFrame(tweets)"
   ]
  },
  {
   "cell_type": "code",
   "execution_count": null,
   "metadata": {},
   "outputs": [
    {
     "name": "stdout",
     "output_type": "stream",
     "text": [
      "<class 'pandas.core.frame.DataFrame'>\n",
      "RangeIndex: 4 entries, 0 to 3\n",
      "Data columns (total 3 columns):\n",
      " #   Column       Non-Null Count  Dtype \n",
      "---  ------       --------------  ----- \n",
      " 0   screen_name  4 non-null      object\n",
      " 1   text         4 non-null      object\n",
      " 2   location     4 non-null      object\n",
      "dtypes: object(3)\n",
      "memory usage: 224.0+ bytes\n"
     ]
    }
   ],
   "source": [
    "dft.info()"
   ]
  },
  {
   "cell_type": "code",
   "execution_count": null,
   "metadata": {},
   "outputs": [
    {
     "data": {
      "text/html": [
       "<div>\n",
       "<style scoped>\n",
       "    .dataframe tbody tr th:only-of-type {\n",
       "        vertical-align: middle;\n",
       "    }\n",
       "\n",
       "    .dataframe tbody tr th {\n",
       "        vertical-align: top;\n",
       "    }\n",
       "\n",
       "    .dataframe thead th {\n",
       "        text-align: right;\n",
       "    }\n",
       "</style>\n",
       "<table border=\"1\" class=\"dataframe\">\n",
       "  <thead>\n",
       "    <tr style=\"text-align: right;\">\n",
       "      <th></th>\n",
       "      <th>screen_name</th>\n",
       "      <th>text</th>\n",
       "      <th>location</th>\n",
       "    </tr>\n",
       "  </thead>\n",
       "  <tbody>\n",
       "    <tr>\n",
       "      <th>0</th>\n",
       "      <td>therealjayber</td>\n",
       "      <td>Imagine the kind of spellbinding power that Ja...</td>\n",
       "      <td>Tweet Smarter. Grow Faster. 👉</td>\n",
       "    </tr>\n",
       "    <tr>\n",
       "      <th>1</th>\n",
       "      <td>chomps443</td>\n",
       "      <td>@LeafyIsHere Will Smith should be white</td>\n",
       "      <td>The motion of the Ocean</td>\n",
       "    </tr>\n",
       "    <tr>\n",
       "      <th>2</th>\n",
       "      <td>biplov_jha</td>\n",
       "      <td>What have we learned from Will Smith and Johnn...</td>\n",
       "      <td>Nepal</td>\n",
       "    </tr>\n",
       "    <tr>\n",
       "      <th>3</th>\n",
       "      <td>KassAssassin</td>\n",
       "      <td>I know his is ridiculous, but what upsets me t...</td>\n",
       "      <td>Brooklyn, NY</td>\n",
       "    </tr>\n",
       "  </tbody>\n",
       "</table>\n",
       "</div>"
      ],
      "text/plain": [
       "     screen_name                                               text  \\\n",
       "0  therealjayber  Imagine the kind of spellbinding power that Ja...   \n",
       "1      chomps443            @LeafyIsHere Will Smith should be white   \n",
       "2     biplov_jha  What have we learned from Will Smith and Johnn...   \n",
       "3   KassAssassin  I know his is ridiculous, but what upsets me t...   \n",
       "\n",
       "                        location  \n",
       "0  Tweet Smarter. Grow Faster. 👉  \n",
       "1        The motion of the Ocean  \n",
       "2                          Nepal  \n",
       "3                   Brooklyn, NY  "
      ]
     },
     "execution_count": 577,
     "metadata": {},
     "output_type": "execute_result"
    }
   ],
   "source": [
    "dft.head()"
   ]
  },
  {
   "cell_type": "code",
   "execution_count": null,
   "metadata": {},
   "outputs": [],
   "source": [
    "dft = dft.dropna()"
   ]
  },
  {
   "cell_type": "code",
   "execution_count": null,
   "metadata": {},
   "outputs": [
    {
     "data": {
      "text/html": [
       "<div>\n",
       "<style scoped>\n",
       "    .dataframe tbody tr th:only-of-type {\n",
       "        vertical-align: middle;\n",
       "    }\n",
       "\n",
       "    .dataframe tbody tr th {\n",
       "        vertical-align: top;\n",
       "    }\n",
       "\n",
       "    .dataframe thead th {\n",
       "        text-align: right;\n",
       "    }\n",
       "</style>\n",
       "<table border=\"1\" class=\"dataframe\">\n",
       "  <thead>\n",
       "    <tr style=\"text-align: right;\">\n",
       "      <th></th>\n",
       "      <th>screen_name</th>\n",
       "      <th>text</th>\n",
       "      <th>location</th>\n",
       "    </tr>\n",
       "  </thead>\n",
       "  <tbody>\n",
       "    <tr>\n",
       "      <th>0</th>\n",
       "      <td>therealjayber</td>\n",
       "      <td>Imagine the kind of spellbinding power that Ja...</td>\n",
       "      <td>Tweet Smarter. Grow Faster. 👉</td>\n",
       "    </tr>\n",
       "    <tr>\n",
       "      <th>1</th>\n",
       "      <td>chomps443</td>\n",
       "      <td>@LeafyIsHere Will Smith should be white</td>\n",
       "      <td>The motion of the Ocean</td>\n",
       "    </tr>\n",
       "    <tr>\n",
       "      <th>2</th>\n",
       "      <td>biplov_jha</td>\n",
       "      <td>What have we learned from Will Smith and Johnn...</td>\n",
       "      <td>Nepal</td>\n",
       "    </tr>\n",
       "    <tr>\n",
       "      <th>3</th>\n",
       "      <td>KassAssassin</td>\n",
       "      <td>I know his is ridiculous, but what upsets me t...</td>\n",
       "      <td>Brooklyn, NY</td>\n",
       "    </tr>\n",
       "  </tbody>\n",
       "</table>\n",
       "</div>"
      ],
      "text/plain": [
       "     screen_name                                               text  \\\n",
       "0  therealjayber  Imagine the kind of spellbinding power that Ja...   \n",
       "1      chomps443            @LeafyIsHere Will Smith should be white   \n",
       "2     biplov_jha  What have we learned from Will Smith and Johnn...   \n",
       "3   KassAssassin  I know his is ridiculous, but what upsets me t...   \n",
       "\n",
       "                        location  \n",
       "0  Tweet Smarter. Grow Faster. 👉  \n",
       "1        The motion of the Ocean  \n",
       "2                          Nepal  \n",
       "3                   Brooklyn, NY  "
      ]
     },
     "execution_count": 579,
     "metadata": {},
     "output_type": "execute_result"
    }
   ],
   "source": [
    "dft.head()"
   ]
  },
  {
   "cell_type": "code",
   "execution_count": null,
   "metadata": {},
   "outputs": [
    {
     "name": "stdout",
     "output_type": "stream",
     "text": [
      "<class 'pandas.core.frame.DataFrame'>\n",
      "RangeIndex: 4 entries, 0 to 3\n",
      "Data columns (total 3 columns):\n",
      " #   Column       Non-Null Count  Dtype \n",
      "---  ------       --------------  ----- \n",
      " 0   screen_name  4 non-null      object\n",
      " 1   text         4 non-null      object\n",
      " 2   location     4 non-null      object\n",
      "dtypes: object(3)\n",
      "memory usage: 224.0+ bytes\n"
     ]
    }
   ],
   "source": [
    "dft2.info()"
   ]
  },
  {
   "cell_type": "code",
   "execution_count": null,
   "metadata": {},
   "outputs": [
    {
     "data": {
      "text/plain": [
       "(4, 3)"
      ]
     },
     "execution_count": 581,
     "metadata": {},
     "output_type": "execute_result"
    }
   ],
   "source": [
    "dft2.shape"
   ]
  },
  {
   "cell_type": "code",
   "execution_count": null,
   "metadata": {},
   "outputs": [],
   "source": [
    "dft.to_csv('dft.csv', index = False)\n",
    "dft2.to_csv('dft2.csv', index = False)"
   ]
  },
  {
   "cell_type": "markdown",
   "metadata": {},
   "source": [
    "### Map the Tweets"
   ]
  },
  {
   "cell_type": "code",
   "execution_count": null,
   "metadata": {},
   "outputs": [],
   "source": [
    "import folium"
   ]
  },
  {
   "cell_type": "code",
   "execution_count": null,
   "metadata": {},
   "outputs": [],
   "source": [
    "usmap = folium.Map(location=[39.8283, -98.5795],  # center of U.S.\n",
    "                   tiles='Stamen Terrain',\n",
    "                   zoom_start=4, detect_retina=True)"
   ]
  },
  {
   "cell_type": "code",
   "execution_count": null,
   "metadata": {},
   "outputs": [],
   "source": [
    "usmap.save('base_map.html')"
   ]
  },
  {
   "cell_type": "code",
   "execution_count": null,
   "metadata": {},
   "outputs": [
    {
     "ename": "AttributeError",
     "evalue": "'Pandas' object has no attribute 'latitude'",
     "output_type": "error",
     "traceback": [
      "\u001b[1;31m---------------------------------------------------------------------------\u001b[0m",
      "\u001b[1;31mAttributeError\u001b[0m                            Traceback (most recent call last)",
      "\u001b[1;32mg:\\My Drive\\Elvis2\\Homework Four\\CSE 590 -- Hamilton Assignment 4.ipynb Cell 303'\u001b[0m in \u001b[0;36m<module>\u001b[1;34m\u001b[0m\n\u001b[0;32m      <a href='vscode-notebook-cell:/g%3A/My%20Drive/Elvis2/Homework%20Four/CSE%20590%20--%20Hamilton%20Assignment%204.ipynb#ch0000308?line=1'>2</a>\u001b[0m text \u001b[39m=\u001b[39m \u001b[39m'\u001b[39m\u001b[39m: \u001b[39m\u001b[39m'\u001b[39m\u001b[39m.\u001b[39mjoin([t\u001b[39m.\u001b[39mscreen_name, t\u001b[39m.\u001b[39mtext])\n\u001b[0;32m      <a href='vscode-notebook-cell:/g%3A/My%20Drive/Elvis2/Homework%20Four/CSE%20590%20--%20Hamilton%20Assignment%204.ipynb#ch0000308?line=2'>3</a>\u001b[0m popup \u001b[39m=\u001b[39m folium\u001b[39m.\u001b[39mPopup(text, parse_html\u001b[39m=\u001b[39m\u001b[39mTrue\u001b[39;00m)\n\u001b[1;32m----> <a href='vscode-notebook-cell:/g%3A/My%20Drive/Elvis2/Homework%20Four/CSE%20590%20--%20Hamilton%20Assignment%204.ipynb#ch0000308?line=3'>4</a>\u001b[0m marker \u001b[39m=\u001b[39m folium\u001b[39m.\u001b[39mMarker((t\u001b[39m.\u001b[39;49mlatitude, t\u001b[39m.\u001b[39mlongitude), \n\u001b[0;32m      <a href='vscode-notebook-cell:/g%3A/My%20Drive/Elvis2/Homework%20Four/CSE%20590%20--%20Hamilton%20Assignment%204.ipynb#ch0000308?line=4'>5</a>\u001b[0m                        popup\u001b[39m=\u001b[39mpopup)\n\u001b[0;32m      <a href='vscode-notebook-cell:/g%3A/My%20Drive/Elvis2/Homework%20Four/CSE%20590%20--%20Hamilton%20Assignment%204.ipynb#ch0000308?line=5'>6</a>\u001b[0m marker\u001b[39m.\u001b[39madd_to(usmap)\n",
      "\u001b[1;31mAttributeError\u001b[0m: 'Pandas' object has no attribute 'latitude'"
     ]
    }
   ],
   "source": [
    "for t in dft.itertuples():\n",
    "    text = ': '.join([t.screen_name, t.text])\n",
    "    popup = folium.Popup(text, parse_html=True)\n",
    "    marker = folium.Marker((t.latitude, t.longitude), \n",
    "                           popup=popup)\n",
    "    marker.add_to(usmap)"
   ]
  },
  {
   "cell_type": "code",
   "execution_count": null,
   "metadata": {},
   "outputs": [],
   "source": [
    "usmap.save('tweet_map.html')"
   ]
  },
  {
   "cell_type": "code",
   "execution_count": null,
   "metadata": {},
   "outputs": [
    {
     "data": {
      "text/html": [
       "<div style=\"width:100%;\"><div style=\"position:relative;width:100%;height:0;padding-bottom:60%;\"><span style=\"color:#565656\">Make this Notebook Trusted to load map: File -> Trust Notebook</span><iframe src=\"about:blank\" style=\"position:absolute;width:100%;height:100%;left:0;top:0;border:none !important;\" data-html=%3C%21DOCTYPE%20html%3E%0A%3Chead%3E%20%20%20%20%0A%20%20%20%20%3Cmeta%20http-equiv%3D%22content-type%22%20content%3D%22text/html%3B%20charset%3DUTF-8%22%20/%3E%0A%20%20%20%20%0A%20%20%20%20%20%20%20%20%3Cscript%3E%0A%20%20%20%20%20%20%20%20%20%20%20%20L_NO_TOUCH%20%3D%20false%3B%0A%20%20%20%20%20%20%20%20%20%20%20%20L_DISABLE_3D%20%3D%20false%3B%0A%20%20%20%20%20%20%20%20%3C/script%3E%0A%20%20%20%20%0A%20%20%20%20%3Cstyle%3Ehtml%2C%20body%20%7Bwidth%3A%20100%25%3Bheight%3A%20100%25%3Bmargin%3A%200%3Bpadding%3A%200%3B%7D%3C/style%3E%0A%20%20%20%20%3Cstyle%3E%23map%20%7Bposition%3Aabsolute%3Btop%3A0%3Bbottom%3A0%3Bright%3A0%3Bleft%3A0%3B%7D%3C/style%3E%0A%20%20%20%20%3Cscript%20src%3D%22https%3A//cdn.jsdelivr.net/npm/leaflet%401.6.0/dist/leaflet.js%22%3E%3C/script%3E%0A%20%20%20%20%3Cscript%20src%3D%22https%3A//code.jquery.com/jquery-1.12.4.min.js%22%3E%3C/script%3E%0A%20%20%20%20%3Cscript%20src%3D%22https%3A//maxcdn.bootstrapcdn.com/bootstrap/3.2.0/js/bootstrap.min.js%22%3E%3C/script%3E%0A%20%20%20%20%3Cscript%20src%3D%22https%3A//cdnjs.cloudflare.com/ajax/libs/Leaflet.awesome-markers/2.0.2/leaflet.awesome-markers.js%22%3E%3C/script%3E%0A%20%20%20%20%3Clink%20rel%3D%22stylesheet%22%20href%3D%22https%3A//cdn.jsdelivr.net/npm/leaflet%401.6.0/dist/leaflet.css%22/%3E%0A%20%20%20%20%3Clink%20rel%3D%22stylesheet%22%20href%3D%22https%3A//maxcdn.bootstrapcdn.com/bootstrap/3.2.0/css/bootstrap.min.css%22/%3E%0A%20%20%20%20%3Clink%20rel%3D%22stylesheet%22%20href%3D%22https%3A//maxcdn.bootstrapcdn.com/bootstrap/3.2.0/css/bootstrap-theme.min.css%22/%3E%0A%20%20%20%20%3Clink%20rel%3D%22stylesheet%22%20href%3D%22https%3A//maxcdn.bootstrapcdn.com/font-awesome/4.6.3/css/font-awesome.min.css%22/%3E%0A%20%20%20%20%3Clink%20rel%3D%22stylesheet%22%20href%3D%22https%3A//cdnjs.cloudflare.com/ajax/libs/Leaflet.awesome-markers/2.0.2/leaflet.awesome-markers.css%22/%3E%0A%20%20%20%20%3Clink%20rel%3D%22stylesheet%22%20href%3D%22https%3A//cdn.jsdelivr.net/gh/python-visualization/folium/folium/templates/leaflet.awesome.rotate.min.css%22/%3E%0A%20%20%20%20%0A%20%20%20%20%20%20%20%20%20%20%20%20%3Cmeta%20name%3D%22viewport%22%20content%3D%22width%3Ddevice-width%2C%0A%20%20%20%20%20%20%20%20%20%20%20%20%20%20%20%20initial-scale%3D1.0%2C%20maximum-scale%3D1.0%2C%20user-scalable%3Dno%22%20/%3E%0A%20%20%20%20%20%20%20%20%20%20%20%20%3Cstyle%3E%0A%20%20%20%20%20%20%20%20%20%20%20%20%20%20%20%20%23map_15adbad4fdfc4f9fb188eb63bbc59f1e%20%7B%0A%20%20%20%20%20%20%20%20%20%20%20%20%20%20%20%20%20%20%20%20position%3A%20relative%3B%0A%20%20%20%20%20%20%20%20%20%20%20%20%20%20%20%20%20%20%20%20width%3A%20100.0%25%3B%0A%20%20%20%20%20%20%20%20%20%20%20%20%20%20%20%20%20%20%20%20height%3A%20100.0%25%3B%0A%20%20%20%20%20%20%20%20%20%20%20%20%20%20%20%20%20%20%20%20left%3A%200.0%25%3B%0A%20%20%20%20%20%20%20%20%20%20%20%20%20%20%20%20%20%20%20%20top%3A%200.0%25%3B%0A%20%20%20%20%20%20%20%20%20%20%20%20%20%20%20%20%7D%0A%20%20%20%20%20%20%20%20%20%20%20%20%3C/style%3E%0A%20%20%20%20%20%20%20%20%0A%3C/head%3E%0A%3Cbody%3E%20%20%20%20%0A%20%20%20%20%0A%20%20%20%20%20%20%20%20%20%20%20%20%3Cdiv%20class%3D%22folium-map%22%20id%3D%22map_15adbad4fdfc4f9fb188eb63bbc59f1e%22%20%3E%3C/div%3E%0A%20%20%20%20%20%20%20%20%0A%3C/body%3E%0A%3Cscript%3E%20%20%20%20%0A%20%20%20%20%0A%20%20%20%20%20%20%20%20%20%20%20%20var%20map_15adbad4fdfc4f9fb188eb63bbc59f1e%20%3D%20L.map%28%0A%20%20%20%20%20%20%20%20%20%20%20%20%20%20%20%20%22map_15adbad4fdfc4f9fb188eb63bbc59f1e%22%2C%0A%20%20%20%20%20%20%20%20%20%20%20%20%20%20%20%20%7B%0A%20%20%20%20%20%20%20%20%20%20%20%20%20%20%20%20%20%20%20%20center%3A%20%5B39.8283%2C%20-98.5795%5D%2C%0A%20%20%20%20%20%20%20%20%20%20%20%20%20%20%20%20%20%20%20%20crs%3A%20L.CRS.EPSG3857%2C%0A%20%20%20%20%20%20%20%20%20%20%20%20%20%20%20%20%20%20%20%20zoom%3A%204%2C%0A%20%20%20%20%20%20%20%20%20%20%20%20%20%20%20%20%20%20%20%20zoomControl%3A%20true%2C%0A%20%20%20%20%20%20%20%20%20%20%20%20%20%20%20%20%20%20%20%20preferCanvas%3A%20false%2C%0A%20%20%20%20%20%20%20%20%20%20%20%20%20%20%20%20%20%20%20%20detectRetina%3A%20true%2C%0A%20%20%20%20%20%20%20%20%20%20%20%20%20%20%20%20%7D%0A%20%20%20%20%20%20%20%20%20%20%20%20%29%3B%0A%0A%20%20%20%20%20%20%20%20%20%20%20%20%0A%0A%20%20%20%20%20%20%20%20%0A%20%20%20%20%0A%20%20%20%20%20%20%20%20%20%20%20%20var%20tile_layer_767db9b311654887b61dcc538d19be86%20%3D%20L.tileLayer%28%0A%20%20%20%20%20%20%20%20%20%20%20%20%20%20%20%20%22https%3A//stamen-tiles-%7Bs%7D.a.ssl.fastly.net/terrain/%7Bz%7D/%7Bx%7D/%7By%7D.jpg%22%2C%0A%20%20%20%20%20%20%20%20%20%20%20%20%20%20%20%20%7B%22attribution%22%3A%20%22Map%20tiles%20by%20%5Cu003ca%20href%3D%5C%22http%3A//stamen.com%5C%22%5Cu003eStamen%20Design%5Cu003c/a%5Cu003e%2C%20under%20%5Cu003ca%20href%3D%5C%22http%3A//creativecommons.org/licenses/by/3.0%5C%22%5Cu003eCC%20BY%203.0%5Cu003c/a%5Cu003e.%20Data%20by%20%5Cu0026copy%3B%20%5Cu003ca%20href%3D%5C%22http%3A//openstreetmap.org%5C%22%5Cu003eOpenStreetMap%5Cu003c/a%5Cu003e%2C%20under%20%5Cu003ca%20href%3D%5C%22http%3A//creativecommons.org/licenses/by-sa/3.0%5C%22%5Cu003eCC%20BY%20SA%5Cu003c/a%5Cu003e.%22%2C%20%22detectRetina%22%3A%20false%2C%20%22maxNativeZoom%22%3A%2018%2C%20%22maxZoom%22%3A%2018%2C%20%22minZoom%22%3A%200%2C%20%22noWrap%22%3A%20false%2C%20%22opacity%22%3A%201%2C%20%22subdomains%22%3A%20%22abc%22%2C%20%22tms%22%3A%20false%7D%0A%20%20%20%20%20%20%20%20%20%20%20%20%29.addTo%28map_15adbad4fdfc4f9fb188eb63bbc59f1e%29%3B%0A%20%20%20%20%20%20%20%20%0A%20%20%20%20%0A%20%20%20%20%20%20%20%20%20%20%20%20var%20marker_c5469d39413e4bc6b01a9daf8276e508%20%3D%20L.marker%28%0A%20%20%20%20%20%20%20%20%20%20%20%20%20%20%20%20%5B38.9722583%2C%20-76.573454%5D%2C%0A%20%20%20%20%20%20%20%20%20%20%20%20%20%20%20%20%7B%7D%0A%20%20%20%20%20%20%20%20%20%20%20%20%29.addTo%28map_15adbad4fdfc4f9fb188eb63bbc59f1e%29%3B%0A%20%20%20%20%20%20%20%20%0A%20%20%20%20%0A%20%20%20%20%20%20%20%20var%20popup_7e17f7d1869e40ae8612f6f7f167b7c2%20%3D%20L.popup%28%7B%22maxWidth%22%3A%20%22100%25%22%7D%29%3B%0A%0A%20%20%20%20%20%20%20%20%0A%20%20%20%20%20%20%20%20%20%20%20%20var%20html_8d9ff05cb04a4b649c03f5fc9429b720%20%3D%20%24%28%60%3Cdiv%20id%3D%22html_8d9ff05cb04a4b649c03f5fc9429b720%22%20style%3D%22width%3A%20100.0%25%3B%20height%3A%20100.0%25%3B%22%3EAuntLiz171822%3A%20Will%20Smith%20Makes%20First%20Public%20Appearance%20In%20India%20Following%20His%20Infamous%20Oscars%20Slap%20https%3A//t.co/7Qhk3XBgkO%3C/div%3E%60%29%5B0%5D%3B%0A%20%20%20%20%20%20%20%20%20%20%20%20popup_7e17f7d1869e40ae8612f6f7f167b7c2.setContent%28html_8d9ff05cb04a4b649c03f5fc9429b720%29%3B%0A%20%20%20%20%20%20%20%20%0A%0A%20%20%20%20%20%20%20%20marker_c5469d39413e4bc6b01a9daf8276e508.bindPopup%28popup_7e17f7d1869e40ae8612f6f7f167b7c2%29%0A%20%20%20%20%20%20%20%20%3B%0A%0A%20%20%20%20%20%20%20%20%0A%20%20%20%20%0A%20%20%20%20%0A%20%20%20%20%20%20%20%20%20%20%20%20var%20marker_08137a98c7354c3286100653e826ff12%20%3D%20L.marker%28%0A%20%20%20%20%20%20%20%20%20%20%20%20%20%20%20%20%5B40.0757384%2C%20-74.4041622%5D%2C%0A%20%20%20%20%20%20%20%20%20%20%20%20%20%20%20%20%7B%7D%0A%20%20%20%20%20%20%20%20%20%20%20%20%29.addTo%28map_15adbad4fdfc4f9fb188eb63bbc59f1e%29%3B%0A%20%20%20%20%20%20%20%20%0A%20%20%20%20%0A%20%20%20%20%20%20%20%20var%20popup_5975fac031ca491abcf327a07b63c7dc%20%3D%20L.popup%28%7B%22maxWidth%22%3A%20%22100%25%22%7D%29%3B%0A%0A%20%20%20%20%20%20%20%20%0A%20%20%20%20%20%20%20%20%20%20%20%20var%20html_7c49a7b701774b5d808373391599e583%20%3D%20%24%28%60%3Cdiv%20id%3D%22html_7c49a7b701774b5d808373391599e583%22%20style%3D%22width%3A%20100.0%25%3B%20height%3A%20100.0%25%3B%22%3EXboxMurda%3A%20%40nojumper%20Will%20Smith%20the%20Legend%3C/div%3E%60%29%5B0%5D%3B%0A%20%20%20%20%20%20%20%20%20%20%20%20popup_5975fac031ca491abcf327a07b63c7dc.setContent%28html_7c49a7b701774b5d808373391599e583%29%3B%0A%20%20%20%20%20%20%20%20%0A%0A%20%20%20%20%20%20%20%20marker_08137a98c7354c3286100653e826ff12.bindPopup%28popup_5975fac031ca491abcf327a07b63c7dc%29%0A%20%20%20%20%20%20%20%20%3B%0A%0A%20%20%20%20%20%20%20%20%0A%20%20%20%20%0A%20%20%20%20%0A%20%20%20%20%20%20%20%20%20%20%20%20var%20marker_2156962a2efe4cc1889b87492272f561%20%3D%20L.marker%28%0A%20%20%20%20%20%20%20%20%20%20%20%20%20%20%20%20%5B25.3356491%2C%2083.0076292%5D%2C%0A%20%20%20%20%20%20%20%20%20%20%20%20%20%20%20%20%7B%7D%0A%20%20%20%20%20%20%20%20%20%20%20%20%29.addTo%28map_15adbad4fdfc4f9fb188eb63bbc59f1e%29%3B%0A%20%20%20%20%20%20%20%20%0A%20%20%20%20%0A%20%20%20%20%20%20%20%20var%20popup_657bed453db94d939fc34b67aaa8d3e2%20%3D%20L.popup%28%7B%22maxWidth%22%3A%20%22100%25%22%7D%29%3B%0A%0A%20%20%20%20%20%20%20%20%0A%20%20%20%20%20%20%20%20%20%20%20%20var%20html_ed564b55f70245fbb0eaeea4de761786%20%3D%20%24%28%60%3Cdiv%20id%3D%22html_ed564b55f70245fbb0eaeea4de761786%22%20style%3D%22width%3A%20100.0%25%3B%20height%3A%20100.0%25%3B%22%3EHinduSamvaad%3A%20Will%20Smith%20to%20meet%20Sadhguru%3A%20Julia%20Roberts%2C%20Salma%20Hayek%20and%20more%20Hollywood%20celebs%20who%20believe%20in%20Indian%20spirituality%20https%3A//t.co/J6eYy9Ue2a%3C/div%3E%60%29%5B0%5D%3B%0A%20%20%20%20%20%20%20%20%20%20%20%20popup_657bed453db94d939fc34b67aaa8d3e2.setContent%28html_ed564b55f70245fbb0eaeea4de761786%29%3B%0A%20%20%20%20%20%20%20%20%0A%0A%20%20%20%20%20%20%20%20marker_2156962a2efe4cc1889b87492272f561.bindPopup%28popup_657bed453db94d939fc34b67aaa8d3e2%29%0A%20%20%20%20%20%20%20%20%3B%0A%0A%20%20%20%20%20%20%20%20%0A%20%20%20%20%0A%3C/script%3E onload=\"this.contentDocument.open();this.contentDocument.write(    decodeURIComponent(this.getAttribute('data-html')));this.contentDocument.close();\" allowfullscreen webkitallowfullscreen mozallowfullscreen></iframe></div></div>"
      ],
      "text/plain": [
       "<folium.folium.Map at 0x22b1646cc40>"
      ]
     },
     "execution_count": 525,
     "metadata": {},
     "output_type": "execute_result"
    }
   ],
   "source": [
    "usmap"
   ]
  },
  {
   "cell_type": "code",
   "execution_count": null,
   "metadata": {},
   "outputs": [],
   "source": [
    "accounts_dict = {'accounts': [\n",
    "    {'account': 100, 'name': 'Jones', 'balance': 24.98},\n",
    "    {'account': 200, 'name': 'Doe', 'balance': 345.67}]}"
   ]
  },
  {
   "cell_type": "code",
   "execution_count": null,
   "metadata": {},
   "outputs": [],
   "source": [
    "import json\n",
    "with open('accounts.json', 'w') as accounts:\n",
    "    json.dump(accounts_dict, accounts)"
   ]
  },
  {
   "cell_type": "code",
   "execution_count": null,
   "metadata": {},
   "outputs": [],
   "source": [
    "with open('accounts.json', 'r') as accounts:\n",
    "    accounts_from_json = json.load(accounts)"
   ]
  },
  {
   "cell_type": "code",
   "execution_count": null,
   "metadata": {},
   "outputs": [
    {
     "name": "stdout",
     "output_type": "stream",
     "text": [
      "{'accounts': [{'account': 100, 'name': 'Jones', 'balance': 24.98}, {'account': 200, 'name': 'Doe', 'balance': 345.67}]}\n",
      "<class 'dict'>\n"
     ]
    }
   ],
   "source": [
    "print(accounts_from_json) #The one-key-to-one-value dictionary object\n",
    "print(type(accounts_from_json))"
   ]
  },
  {
   "cell_type": "code",
   "execution_count": null,
   "metadata": {},
   "outputs": [
    {
     "name": "stdout",
     "output_type": "stream",
     "text": [
      "[{'account': 100, 'name': 'Jones', 'balance': 24.98}, {'account': 200, 'name': 'Doe', 'balance': 345.67}]\n"
     ]
    }
   ],
   "source": [
    "print(accounts_from_json['accounts']) #The individual dictionaries per account"
   ]
  },
  {
   "cell_type": "code",
   "execution_count": null,
   "metadata": {},
   "outputs": [
    {
     "name": "stdout",
     "output_type": "stream",
     "text": [
      "{'account': 100, 'name': 'Jones', 'balance': 24.98}\n",
      "{'account': 200, 'name': 'Doe', 'balance': 345.67}\n"
     ]
    }
   ],
   "source": [
    "print(accounts_from_json['accounts'][0]) #The first dictionary/account \n",
    "print(accounts_from_json['accounts'][1]) #The second dictionary/account "
   ]
  },
  {
   "cell_type": "code",
   "execution_count": null,
   "metadata": {},
   "outputs": [],
   "source": [
    "import json"
   ]
  },
  {
   "cell_type": "code",
   "execution_count": null,
   "metadata": {},
   "outputs": [],
   "source": [
    "with open('savedtweets.json', 'w') as outfile:\n",
    "    json.dump(tweets, outfile, indent=4)"
   ]
  },
  {
   "cell_type": "code",
   "execution_count": null,
   "metadata": {},
   "outputs": [],
   "source": [
    "with open('savedtweets.json') as json_file:\n",
    "    tweets_from_json = json.load(json_file)\n"
   ]
  },
  {
   "cell_type": "code",
   "execution_count": null,
   "metadata": {},
   "outputs": [
    {
     "data": {
      "text/plain": [
       "[{'screen_name': 'therealjayber',\n",
       "  'text': 'Imagine the kind of spellbinding power that Jada wields over Will Smith.\\n\\nOne unhappy look, and Will was immediatel… https://t.co/lOkKii20KH',\n",
       "  'location': 'Tweet Smarter. Grow Faster. 👉'},\n",
       " {'screen_name': 'chomps443',\n",
       "  'text': '@LeafyIsHere Will Smith should be white',\n",
       "  'location': 'The motion of the Ocean'},\n",
       " {'screen_name': 'biplov_jha',\n",
       "  'text': 'What have we learned from Will Smith and Johnny Depp?',\n",
       "  'location': 'Nepal'},\n",
       " {'screen_name': 'KassAssassin',\n",
       "  'text': 'I know his is ridiculous, but what upsets me the most about the Will Smith thing is, after getting slapped, Chris R… https://t.co/G3oxLaZ7ta',\n",
       "  'location': 'Brooklyn, NY'}]"
      ]
     },
     "execution_count": 535,
     "metadata": {},
     "output_type": "execute_result"
    }
   ],
   "source": [
    "tweets_from_json"
   ]
  },
  {
   "cell_type": "code",
   "execution_count": null,
   "metadata": {},
   "outputs": [
    {
     "name": "stderr",
     "output_type": "stream",
     "text": [
      "C:\\Users\\coleb\\mambaforge\\lib\\site-packages\\seaborn\\axisgrid.py:88: UserWarning: Tight layout not applied. The left and right margins cannot be made large enough to accommodate all axes decorations.\n",
      "  self._figure.tight_layout(*args, **kwargs)\n"
     ]
    },
    {
     "data": {
      "image/png": "[encoded data removed]",
      "text/plain": [
       "<Figure size 360x360 with 1 Axes>"
      ]
     },
     "metadata": {},
     "output_type": "display_data"
    },
    {
     "data": {
      "image/png": "[encoded data removed]",
      "text/plain": [
       "<Figure size 360x360 with 1 Axes>"
      ]
     },
     "metadata": {},
     "output_type": "display_data"
    },
    {
     "data": {
      "image/png": "[encoded data removed]",
      "text/plain": [
       "<Figure size 360x360 with 1 Axes>"
      ]
     },
     "metadata": {},
     "output_type": "display_data"
    },
    {
     "data": {
      "image/png": "[encoded data removed]",
      "text/plain": [
       "<Figure size 360x360 with 1 Axes>"
      ]
     },
     "metadata": {},
     "output_type": "display_data"
    },
    {
     "data": {
      "image/png": "[encoded data removed]",
      "text/plain": [
       "<Figure size 360x360 with 1 Axes>"
      ]
     },
     "metadata": {},
     "output_type": "display_data"
    }
   ],
   "source": [
    "for column in dft:\n",
    "    sns.displot(x=column, data=dft)"
   ]
  },
  {
   "cell_type": "code",
   "execution_count": null,
   "metadata": {},
   "outputs": [
    {
     "data": {
      "text/html": [
       "<div>\n",
       "<style scoped>\n",
       "    .dataframe tbody tr th:only-of-type {\n",
       "        vertical-align: middle;\n",
       "    }\n",
       "\n",
       "    .dataframe tbody tr th {\n",
       "        vertical-align: top;\n",
       "    }\n",
       "\n",
       "    .dataframe thead th {\n",
       "        text-align: right;\n",
       "    }\n",
       "</style>\n",
       "<table border=\"1\" class=\"dataframe\">\n",
       "  <thead>\n",
       "    <tr style=\"text-align: right;\">\n",
       "      <th></th>\n",
       "      <th>latitude</th>\n",
       "      <th>longitude</th>\n",
       "    </tr>\n",
       "  </thead>\n",
       "  <tbody>\n",
       "    <tr>\n",
       "      <th>latitude</th>\n",
       "      <td>1.000000</td>\n",
       "      <td>-0.996873</td>\n",
       "    </tr>\n",
       "    <tr>\n",
       "      <th>longitude</th>\n",
       "      <td>-0.996873</td>\n",
       "      <td>1.000000</td>\n",
       "    </tr>\n",
       "  </tbody>\n",
       "</table>\n",
       "</div>"
      ],
      "text/plain": [
       "           latitude  longitude\n",
       "latitude   1.000000  -0.996873\n",
       "longitude -0.996873   1.000000"
      ]
     },
     "execution_count": 537,
     "metadata": {},
     "output_type": "execute_result"
    }
   ],
   "source": [
    "dft.corr()"
   ]
  },
  {
   "cell_type": "code",
   "execution_count": null,
   "metadata": {},
   "outputs": [
    {
     "data": {
      "text/html": [
       "<div>\n",
       "<style scoped>\n",
       "    .dataframe tbody tr th:only-of-type {\n",
       "        vertical-align: middle;\n",
       "    }\n",
       "\n",
       "    .dataframe tbody tr th {\n",
       "        vertical-align: top;\n",
       "    }\n",
       "\n",
       "    .dataframe thead th {\n",
       "        text-align: right;\n",
       "    }\n",
       "</style>\n",
       "<table border=\"1\" class=\"dataframe\">\n",
       "  <thead>\n",
       "    <tr style=\"text-align: right;\">\n",
       "      <th></th>\n",
       "      <th>latitude</th>\n",
       "      <th>longitude</th>\n",
       "    </tr>\n",
       "  </thead>\n",
       "  <tbody>\n",
       "    <tr>\n",
       "      <th>count</th>\n",
       "      <td>3.000000</td>\n",
       "      <td>3.000000</td>\n",
       "    </tr>\n",
       "    <tr>\n",
       "      <th>mean</th>\n",
       "      <td>34.794549</td>\n",
       "      <td>-22.656662</td>\n",
       "    </tr>\n",
       "    <tr>\n",
       "      <th>std</th>\n",
       "      <td>8.210207</td>\n",
       "      <td>91.514389</td>\n",
       "    </tr>\n",
       "    <tr>\n",
       "      <th>min</th>\n",
       "      <td>25.335649</td>\n",
       "      <td>-76.573454</td>\n",
       "    </tr>\n",
       "    <tr>\n",
       "      <th>25%</th>\n",
       "      <td>32.153954</td>\n",
       "      <td>-75.488808</td>\n",
       "    </tr>\n",
       "    <tr>\n",
       "      <th>50%</th>\n",
       "      <td>38.972258</td>\n",
       "      <td>-74.404162</td>\n",
       "    </tr>\n",
       "    <tr>\n",
       "      <th>75%</th>\n",
       "      <td>39.523998</td>\n",
       "      <td>4.301733</td>\n",
       "    </tr>\n",
       "    <tr>\n",
       "      <th>max</th>\n",
       "      <td>40.075738</td>\n",
       "      <td>83.007629</td>\n",
       "    </tr>\n",
       "  </tbody>\n",
       "</table>\n",
       "</div>"
      ],
      "text/plain": [
       "        latitude  longitude\n",
       "count   3.000000   3.000000\n",
       "mean   34.794549 -22.656662\n",
       "std     8.210207  91.514389\n",
       "min    25.335649 -76.573454\n",
       "25%    32.153954 -75.488808\n",
       "50%    38.972258 -74.404162\n",
       "75%    39.523998   4.301733\n",
       "max    40.075738  83.007629"
      ]
     },
     "execution_count": 538,
     "metadata": {},
     "output_type": "execute_result"
    }
   ],
   "source": [
    "dft.describe()"
   ]
  },
  {
   "cell_type": "code",
   "execution_count": null,
   "metadata": {},
   "outputs": [
    {
     "data": {
      "text/plain": [
       "<seaborn.axisgrid.PairGrid at 0x22b08771b80>"
      ]
     },
     "execution_count": 539,
     "metadata": {},
     "output_type": "execute_result"
    },
    {
     "data": {
      "image/png": "[encoded data removed]",
      "text/plain": [
       "<Figure size 360x360 with 6 Axes>"
      ]
     },
     "metadata": {},
     "output_type": "display_data"
    }
   ],
   "source": [
    "sns.pairplot(dft)"
   ]
  }
 ],
 "metadata": {
  "interpreter": {
   "hash": "9f357b62676163e453d3996bd7a23625b1faadc1b4915e4cbea894e22b2eb803"
  },
  "kernelspec": {
   "display_name": "Python 3.9.10",
   "language": "python",
   "name": "python3"
  },
  "language_info": {
   "codemirror_mode": {
    "name": "ipython",
    "version": 3
   },
   "file_extension": ".py",
   "mimetype": "text/x-python",
   "name": "python",
   "nbconvert_exporter": "python",
   "pygments_lexer": "ipython3",
   "version": "3.9.10"
  }
 },
 "nbformat": 4,
 "nbformat_minor": 4
}
