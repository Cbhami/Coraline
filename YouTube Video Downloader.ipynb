{
 "cells": [
  {
   "cell_type": "markdown",
   "metadata": {},
   "source": [
    "#### Download YouTube Videos"
   ]
  },
  {
   "cell_type": "code",
   "execution_count": 1,
   "metadata": {},
   "outputs": [
    {
     "name": "stdout",
     "output_type": "stream",
     "text": [
      "Defaulting to user installation because normal site-packages is not writeable\n",
      "\u001b[33mWARNING: Retrying (Retry(total=4, connect=None, read=None, redirect=None, status=None)) after connection broken by 'ReadTimeoutError(\"HTTPSConnectionPool(host='pypi.org', port=443): Read timed out. (read timeout=15)\")': /simple/pytube/\u001b[0m\r\n",
      "Collecting pytube\r\n",
      "  Downloading pytube-12.1.0-py3-none-any.whl (56 kB)\r\n",
      "\u001b[?25l\r\u001b[K     |█████▉                          | 10 kB 336 kB/s eta 0:00:01\r\u001b[K     |███████████▋                    | 20 kB 417 kB/s eta 0:00:01\r\u001b[K     |█████████████████▍              | 30 kB 278 kB/s eta 0:00:01\r\u001b[K     |███████████████████████▏        | 40 kB 236 kB/s eta 0:00:01\r\u001b[K     |█████████████████████████████   | 51 kB 273 kB/s eta 0:00:01\r\u001b[K     |████████████████████████████████| 56 kB 302 kB/s \r\n",
      "\u001b[?25hInstalling collected packages: pytube\r\n",
      "\u001b[33m  WARNING: The script pytube is installed in '/Users/cole/Library/Python/3.9/bin' which is not on PATH.\r\n",
      "  Consider adding this directory to PATH or, if you prefer to suppress this warning, use --no-warn-script-location.\u001b[0m\r\n",
      "Successfully installed pytube-12.1.0\r\n",
      "\u001b[33mWARNING: You are using pip version 21.2.4; however, version 22.3 is available.\r\n",
      "You should consider upgrading via the '/Library/Developer/CommandLineTools/usr/bin/python3 -m pip install --upgrade pip' command.\u001b[0m\r\n",
      "Note: you may need to restart the kernel to use updated packages.\n"
     ]
    }
   ],
   "source": [
    "%pip install pytube"
   ]
  },
  {
   "cell_type": "code",
   "execution_count": 2,
   "metadata": {},
   "outputs": [],
   "source": [
    "from pytube import YouTube"
   ]
  },
  {
   "cell_type": "code",
   "execution_count": 16,
   "metadata": {},
   "outputs": [],
   "source": [
    "yt = YouTube(\"https://www.youtube.com/watch?v=1YXEnSJBhJ0&ab_channel=80scommercialsforever\")"
   ]
  },
  {
   "cell_type": "code",
   "execution_count": 17,
   "metadata": {},
   "outputs": [
    {
     "ename": "VideoUnavailable",
     "evalue": "sears-ceo-e is unavailable",
     "output_type": "error",
     "traceback": [
      "\u001b[0;31m---------------------------------------------------------------------------\u001b[0m",
      "\u001b[0;31mVideoUnavailable\u001b[0m                          Traceback (most recent call last)",
      "Cell \u001b[0;32mIn [17], line 1\u001b[0m\n\u001b[0;32m----> 1\u001b[0m mp4_files \u001b[39m=\u001b[39m yt\u001b[39m.\u001b[39;49mstreams\u001b[39m.\u001b[39mfilter(file_extension \u001b[39m=\u001b[39m \u001b[39m\"\u001b[39m\u001b[39mmp4\u001b[39m\u001b[39m\"\u001b[39m)\n",
      "File \u001b[0;32m~/Library/Python/3.9/lib/python/site-packages/pytube/__main__.py:295\u001b[0m, in \u001b[0;36mYouTube.streams\u001b[0;34m(self)\u001b[0m\n\u001b[1;32m    289\u001b[0m \u001b[39m@property\u001b[39m\n\u001b[1;32m    290\u001b[0m \u001b[39mdef\u001b[39;00m \u001b[39mstreams\u001b[39m(\u001b[39mself\u001b[39m) \u001b[39m-\u001b[39m\u001b[39m>\u001b[39m StreamQuery:\n\u001b[1;32m    291\u001b[0m     \u001b[39m\"\"\"Interface to query both adaptive (DASH) and progressive streams.\u001b[39;00m\n\u001b[1;32m    292\u001b[0m \n\u001b[1;32m    293\u001b[0m \u001b[39m    :rtype: :class:`StreamQuery <StreamQuery>`.\u001b[39;00m\n\u001b[1;32m    294\u001b[0m \u001b[39m    \"\"\"\u001b[39;00m\n\u001b[0;32m--> 295\u001b[0m     \u001b[39mself\u001b[39;49m\u001b[39m.\u001b[39;49mcheck_availability()\n\u001b[1;32m    296\u001b[0m     \u001b[39mreturn\u001b[39;00m StreamQuery(\u001b[39mself\u001b[39m\u001b[39m.\u001b[39mfmt_streams)\n",
      "File \u001b[0;32m~/Library/Python/3.9/lib/python/site-packages/pytube/__main__.py:231\u001b[0m, in \u001b[0;36mYouTube.check_availability\u001b[0;34m(self)\u001b[0m\n\u001b[1;32m    229\u001b[0m \u001b[39melif\u001b[39;00m status \u001b[39m==\u001b[39m \u001b[39m'\u001b[39m\u001b[39mERROR\u001b[39m\u001b[39m'\u001b[39m:\n\u001b[1;32m    230\u001b[0m     \u001b[39mif\u001b[39;00m reason \u001b[39m==\u001b[39m \u001b[39m'\u001b[39m\u001b[39mVideo unavailable\u001b[39m\u001b[39m'\u001b[39m:\n\u001b[0;32m--> 231\u001b[0m         \u001b[39mraise\u001b[39;00m exceptions\u001b[39m.\u001b[39mVideoUnavailable(video_id\u001b[39m=\u001b[39m\u001b[39mself\u001b[39m\u001b[39m.\u001b[39mvideo_id)\n\u001b[1;32m    232\u001b[0m \u001b[39melif\u001b[39;00m status \u001b[39m==\u001b[39m \u001b[39m'\u001b[39m\u001b[39mLIVE_STREAM\u001b[39m\u001b[39m'\u001b[39m:\n\u001b[1;32m    233\u001b[0m     \u001b[39mraise\u001b[39;00m exceptions\u001b[39m.\u001b[39mLiveStreamError(video_id\u001b[39m=\u001b[39m\u001b[39mself\u001b[39m\u001b[39m.\u001b[39mvideo_id)\n",
      "\u001b[0;31mVideoUnavailable\u001b[0m: sears-ceo-e is unavailable"
     ]
    }
   ],
   "source": [
    "mp4_files = yt.streams.filter(file_extension = \"mp4\")"
   ]
  },
  {
   "cell_type": "code",
   "execution_count": null,
   "metadata": {},
   "outputs": [],
   "source": [
    "mp4_369p_files = mp4_files.get_by_resolution(\"360p\")"
   ]
  },
  {
   "cell_type": "code",
   "execution_count": null,
   "metadata": {},
   "outputs": [
    {
     "data": {
      "text/plain": [
       "'/Users/cole/Library/CloudStorage/OneDrive-Personal/Coraline/VINTAGE 80S MCDONALDS & SEARS CROSSOVER CHRISTMAS PROMOTION COMMERCIAL.mp4'"
      ]
     },
     "execution_count": 13,
     "metadata": {},
     "output_type": "execute_result"
    }
   ],
   "source": [
    "mp4_369p_files.download(\"/Users/cole/Library/CloudStorage/OneDrive-Personal/Coraline\")"
   ]
  },
  {
   "cell_type": "code",
   "execution_count": null,
   "metadata": {},
   "outputs": [],
   "source": []
  }
 ],
 "metadata": {
  "kernelspec": {
   "display_name": "Python 3",
   "language": "python",
   "name": "python3"
  },
  "language_info": {
   "codemirror_mode": {
    "name": "ipython",
    "version": 3
   },
   "file_extension": ".py",
   "mimetype": "text/x-python",
   "name": "python",
   "nbconvert_exporter": "python",
   "pygments_lexer": "ipython3",
   "version": "3.9.6 (default, Aug  5 2022, 15:21:02) \n[Clang 14.0.0 (clang-1400.0.29.102)]"
  },
  "orig_nbformat": 4,
  "vscode": {
   "interpreter": {
    "hash": "31f2aee4e71d21fbe5cf8b01ff0e069b9275f58929596ceb00d14d90e3e16cd6"
   }
  }
 },
 "nbformat": 4,
 "nbformat_minor": 2
}
